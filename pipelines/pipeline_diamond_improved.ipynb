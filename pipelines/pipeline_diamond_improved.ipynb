{
 "cells": [
  {
   "cell_type": "code",
   "execution_count": 3,
   "id": "0ef703c7",
   "metadata": {},
   "outputs": [
    {
     "name": "stdout",
     "output_type": "stream",
     "text": [
      "Base path of the project: c:\\Users\\Yusuf\\OneDrive\\LST\\Derde_jaar\\Y3Q4\\Metaproteomics_with_db\n"
     ]
    }
   ],
   "source": [
    "from pathlib import Path\n",
    "\n",
    "# Automatically get the base path of your project\n",
    "base_path = Path.cwd().parents[0]  # adjust .parents[0] if needed\n",
    "print(\"Base path of the project:\", base_path)"
   ]
  },
  {
   "cell_type": "code",
   "execution_count": null,
   "id": "fa3f01f7",
   "metadata": {},
   "outputs": [],
   "source": [
    "# This code is more robust and will work regardless of the current working directory.\n",
    "# Make sure that base_path is defined correctly.\n",
    "# Ensure that the required packages are installed from the requirements.txt file\n",
    "!pip3 install -r \"{base_path}/requirements.txt\""
   ]
  },
  {
   "cell_type": "markdown",
   "id": "3d9fdd0c",
   "metadata": {},
   "source": [
    "### Step 1-2: Load De Novo Peptides and Prepare for DIAMOND Alignment\n",
    "\n",
    "In this pipeline, we aim to identify microbial taxa by aligning de novo peptide sequences to the UniRef100 protein database using **DIAMOND** (a fast sequence aligner). Unlike the `pept2lca` pipeline that relies on peptide-level taxonomy (via UniPept), this approach uses **protein-level matches** and maps those proteins back to organisms using UniProt annotations.\n",
    "\n",
    "These first two blocks perform the following:\n",
    "1. **Define the path to the DIAMOND database** built from the UniRef100 FASTA.\n",
    "2. **Load and filter** the de novo peptide predictions, retaining only high-confidence sequences (ALC > 70%).\n",
    "\n",
    "These peptides will later be aligned to the UniRef100 database using DIAMOND to obtain the best-matching protein accession IDs for taxonomic annotation.\n"
   ]
  },
  {
   "cell_type": "code",
   "execution_count": null,
   "id": "9e4d72b5",
   "metadata": {},
   "outputs": [],
   "source": [
    "# Define the path to the DIAMOND database (must end in .dmnd and be created beforehand)\n",
    "# Example: downloaded and built from UniRef100 using diamond makedb\n",
    "diamond_db = r\"E:\\Uniref100.dmnd\"  # Update this path based on where your .dmnd file is located"
   ]
  },
  {
   "cell_type": "code",
   "execution_count": null,
   "id": "c21d44e9",
   "metadata": {},
   "outputs": [
    {
     "name": "stdout",
     "output_type": "stream",
     "text": [
      "Original dataset shape: (189185, 20)\n",
      "Original Data (rows 24219-24227):\n"
     ]
    },
    {
     "data": {
      "text/html": [
       "<div>\n",
       "<style scoped>\n",
       "    .dataframe tbody tr th:only-of-type {\n",
       "        vertical-align: middle;\n",
       "    }\n",
       "\n",
       "    .dataframe tbody tr th {\n",
       "        vertical-align: top;\n",
       "    }\n",
       "\n",
       "    .dataframe thead th {\n",
       "        text-align: right;\n",
       "    }\n",
       "</style>\n",
       "<table border=\"1\" class=\"dataframe\">\n",
       "  <thead>\n",
       "    <tr style=\"text-align: right;\">\n",
       "      <th></th>\n",
       "      <th>Fraction</th>\n",
       "      <th>Source File</th>\n",
       "      <th>Feature</th>\n",
       "      <th>Peptide</th>\n",
       "      <th>Scan</th>\n",
       "      <th>Tag Length</th>\n",
       "      <th>Denovo Score</th>\n",
       "      <th>ALC (%)</th>\n",
       "      <th>length</th>\n",
       "      <th>m/z</th>\n",
       "      <th>z</th>\n",
       "      <th>RT</th>\n",
       "      <th>Predict RT</th>\n",
       "      <th>Area</th>\n",
       "      <th>Mass</th>\n",
       "      <th>ppm</th>\n",
       "      <th>PTM</th>\n",
       "      <th>local confidence (%)</th>\n",
       "      <th>tag (&gt;=0%)</th>\n",
       "      <th>mode</th>\n",
       "    </tr>\n",
       "  </thead>\n",
       "  <tbody>\n",
       "    <tr>\n",
       "      <th>24218</th>\n",
       "      <td>2</td>\n",
       "      <td>MP_RZ07032023_GW_flat_180min_DDA02.raw</td>\n",
       "      <td>-</td>\n",
       "      <td>KYAYFPVWVNDDKMSLPLR</td>\n",
       "      <td>F2:51275</td>\n",
       "      <td>19</td>\n",
       "      <td>76</td>\n",
       "      <td>68</td>\n",
       "      <td>19</td>\n",
       "      <td>781.3988</td>\n",
       "      <td>3</td>\n",
       "      <td>143.42</td>\n",
       "      <td>142.11</td>\n",
       "      <td>0.0</td>\n",
       "      <td>2341.1929</td>\n",
       "      <td>-7.8</td>\n",
       "      <td>NaN</td>\n",
       "      <td>45 39 41 35 33 43 89 98 98 94 95 96 94 90 83 4...</td>\n",
       "      <td>KYAYFPVWVNDDKMSLPLR</td>\n",
       "      <td>HCD</td>\n",
       "    </tr>\n",
       "    <tr>\n",
       "      <th>24219</th>\n",
       "      <td>1</td>\n",
       "      <td>MP_RZ07032023_GW_flat_180min_DDA01.raw</td>\n",
       "      <td>F1:35083</td>\n",
       "      <td>MWALDLR</td>\n",
       "      <td>F1:38190</td>\n",
       "      <td>7</td>\n",
       "      <td>76</td>\n",
       "      <td>78</td>\n",
       "      <td>7</td>\n",
       "      <td>452.7394</td>\n",
       "      <td>2</td>\n",
       "      <td>113.16</td>\n",
       "      <td>129.39</td>\n",
       "      <td>34600.0</td>\n",
       "      <td>903.4636</td>\n",
       "      <td>0.6</td>\n",
       "      <td>NaN</td>\n",
       "      <td>56 71 84 79 79 85 90</td>\n",
       "      <td>MWALDLR</td>\n",
       "      <td>HCD</td>\n",
       "    </tr>\n",
       "    <tr>\n",
       "      <th>24220</th>\n",
       "      <td>2</td>\n",
       "      <td>MP_RZ07032023_GW_flat_180min_DDA02.raw</td>\n",
       "      <td>F2:98838</td>\n",
       "      <td>LAAALTPAPVLAK</td>\n",
       "      <td>F2:33083</td>\n",
       "      <td>13</td>\n",
       "      <td>76</td>\n",
       "      <td>70</td>\n",
       "      <td>13</td>\n",
       "      <td>618.3896</td>\n",
       "      <td>2</td>\n",
       "      <td>100.95</td>\n",
       "      <td>110.95</td>\n",
       "      <td>13200000.0</td>\n",
       "      <td>1234.7649</td>\n",
       "      <td>-0.2</td>\n",
       "      <td>NaN</td>\n",
       "      <td>48 50 80 99 100 100 99 96 33 31 48 45 82</td>\n",
       "      <td>LAAALTPAPVLAK</td>\n",
       "      <td>HCD</td>\n",
       "    </tr>\n",
       "    <tr>\n",
       "      <th>24221</th>\n",
       "      <td>2</td>\n",
       "      <td>MP_RZ07032023_GW_flat_180min_DDA02.raw</td>\n",
       "      <td>F2:83383</td>\n",
       "      <td>APMSGLQNWK</td>\n",
       "      <td>F2:29687</td>\n",
       "      <td>10</td>\n",
       "      <td>76</td>\n",
       "      <td>70</td>\n",
       "      <td>10</td>\n",
       "      <td>566.2845</td>\n",
       "      <td>2</td>\n",
       "      <td>92.40</td>\n",
       "      <td>83.12</td>\n",
       "      <td>215000.0</td>\n",
       "      <td>1130.5542</td>\n",
       "      <td>0.3</td>\n",
       "      <td>NaN</td>\n",
       "      <td>96 94 85 92 82 41 28 21 69 92</td>\n",
       "      <td>APMSGLQNWK</td>\n",
       "      <td>HCD</td>\n",
       "    </tr>\n",
       "    <tr>\n",
       "      <th>24222</th>\n",
       "      <td>2</td>\n",
       "      <td>MP_RZ07032023_GW_flat_180min_DDA02.raw</td>\n",
       "      <td>F2:107262</td>\n",
       "      <td>SLTAPSGVPGM(+15.99)FK</td>\n",
       "      <td>F2:26077</td>\n",
       "      <td>13</td>\n",
       "      <td>76</td>\n",
       "      <td>67</td>\n",
       "      <td>13</td>\n",
       "      <td>654.3237</td>\n",
       "      <td>2</td>\n",
       "      <td>83.51</td>\n",
       "      <td>83.66</td>\n",
       "      <td>75700.0</td>\n",
       "      <td>1306.6592</td>\n",
       "      <td>-20.1</td>\n",
       "      <td>Oxidation (M)</td>\n",
       "      <td>37 46 79 93 95 96 88 84 23 17 26 89 97</td>\n",
       "      <td>SLTAPSGVPGM(+15.99)FK</td>\n",
       "      <td>HCD</td>\n",
       "    </tr>\n",
       "    <tr>\n",
       "      <th>24223</th>\n",
       "      <td>2</td>\n",
       "      <td>MP_RZ07032023_GW_flat_180min_DDA02.raw</td>\n",
       "      <td>F2:139236</td>\n",
       "      <td>EVQAWSWWWM(+15.99)TRRAAMDVPGR</td>\n",
       "      <td>F2:49588</td>\n",
       "      <td>21</td>\n",
       "      <td>76</td>\n",
       "      <td>68</td>\n",
       "      <td>21</td>\n",
       "      <td>879.0955</td>\n",
       "      <td>3</td>\n",
       "      <td>139.45</td>\n",
       "      <td>141.68</td>\n",
       "      <td>822000.0</td>\n",
       "      <td>2634.2371</td>\n",
       "      <td>10.4</td>\n",
       "      <td>Oxidation (M)</td>\n",
       "      <td>37 25 33 44 44 41 81 84 90 88 90 40 52 96 95 8...</td>\n",
       "      <td>EVQAWSWWWM(+15.99)TRRAAMDVPGR</td>\n",
       "      <td>HCD</td>\n",
       "    </tr>\n",
       "    <tr>\n",
       "      <th>24224</th>\n",
       "      <td>2</td>\n",
       "      <td>MP_RZ07032023_GW_flat_180min_DDA02.raw</td>\n",
       "      <td>F2:3957</td>\n",
       "      <td>MGFYGGR</td>\n",
       "      <td>F2:13573</td>\n",
       "      <td>7</td>\n",
       "      <td>76</td>\n",
       "      <td>68</td>\n",
       "      <td>7</td>\n",
       "      <td>394.1815</td>\n",
       "      <td>2</td>\n",
       "      <td>50.45</td>\n",
       "      <td>47.75</td>\n",
       "      <td>376000.0</td>\n",
       "      <td>786.3483</td>\n",
       "      <td>0.3</td>\n",
       "      <td>NaN</td>\n",
       "      <td>17 29 90 86 80 83 90</td>\n",
       "      <td>MGFYGGR</td>\n",
       "      <td>HCD</td>\n",
       "    </tr>\n",
       "    <tr>\n",
       "      <th>24225</th>\n",
       "      <td>1</td>\n",
       "      <td>MP_RZ07032023_GW_flat_180min_DDA01.raw</td>\n",
       "      <td>F1:103943</td>\n",
       "      <td>TLGALDGTN(+.98)MNR</td>\n",
       "      <td>F1:23486</td>\n",
       "      <td>12</td>\n",
       "      <td>76</td>\n",
       "      <td>71</td>\n",
       "      <td>12</td>\n",
       "      <td>632.3035</td>\n",
       "      <td>2</td>\n",
       "      <td>78.32</td>\n",
       "      <td>67.85</td>\n",
       "      <td>3660000.0</td>\n",
       "      <td>1262.5925</td>\n",
       "      <td>0.0</td>\n",
       "      <td>Deamidation (NQ)</td>\n",
       "      <td>21 21 26 76 99 98 90 88 70 82 91 93</td>\n",
       "      <td>TLGALDGTN(+.98)MNR</td>\n",
       "      <td>HCD</td>\n",
       "    </tr>\n",
       "    <tr>\n",
       "      <th>24226</th>\n",
       "      <td>1</td>\n",
       "      <td>MP_RZ07032023_GW_flat_180min_DDA01.raw</td>\n",
       "      <td>F1:23734</td>\n",
       "      <td>LGGLSSAMK</td>\n",
       "      <td>F1:16822</td>\n",
       "      <td>9</td>\n",
       "      <td>76</td>\n",
       "      <td>75</td>\n",
       "      <td>9</td>\n",
       "      <td>432.2354</td>\n",
       "      <td>2</td>\n",
       "      <td>59.98</td>\n",
       "      <td>63.31</td>\n",
       "      <td>416000.0</td>\n",
       "      <td>862.4582</td>\n",
       "      <td>-2.4</td>\n",
       "      <td>NaN</td>\n",
       "      <td>62 77 48 88 82 73 68 78 97</td>\n",
       "      <td>LGGLSSAMK</td>\n",
       "      <td>HCD</td>\n",
       "    </tr>\n",
       "    <tr>\n",
       "      <th>24227</th>\n",
       "      <td>2</td>\n",
       "      <td>MP_RZ07032023_GW_flat_180min_DDA02.raw</td>\n",
       "      <td>-</td>\n",
       "      <td>LDQ(+.98)AHLYNWQWYR</td>\n",
       "      <td>F2:50574</td>\n",
       "      <td>13</td>\n",
       "      <td>76</td>\n",
       "      <td>77</td>\n",
       "      <td>13</td>\n",
       "      <td>897.4365</td>\n",
       "      <td>2</td>\n",
       "      <td>141.76</td>\n",
       "      <td>127.6</td>\n",
       "      <td>0.0</td>\n",
       "      <td>1792.8320</td>\n",
       "      <td>14.8</td>\n",
       "      <td>Deamidation (NQ)</td>\n",
       "      <td>31 38 40 61 54 99 98 96 96 94 95 98 100</td>\n",
       "      <td>LDQ(+.98)AHLYNWQWYR</td>\n",
       "      <td>HCD</td>\n",
       "    </tr>\n",
       "  </tbody>\n",
       "</table>\n",
       "</div>"
      ],
      "text/plain": [
       "       Fraction                             Source File    Feature  \\\n",
       "24218         2  MP_RZ07032023_GW_flat_180min_DDA02.raw          -   \n",
       "24219         1  MP_RZ07032023_GW_flat_180min_DDA01.raw   F1:35083   \n",
       "24220         2  MP_RZ07032023_GW_flat_180min_DDA02.raw   F2:98838   \n",
       "24221         2  MP_RZ07032023_GW_flat_180min_DDA02.raw   F2:83383   \n",
       "24222         2  MP_RZ07032023_GW_flat_180min_DDA02.raw  F2:107262   \n",
       "24223         2  MP_RZ07032023_GW_flat_180min_DDA02.raw  F2:139236   \n",
       "24224         2  MP_RZ07032023_GW_flat_180min_DDA02.raw    F2:3957   \n",
       "24225         1  MP_RZ07032023_GW_flat_180min_DDA01.raw  F1:103943   \n",
       "24226         1  MP_RZ07032023_GW_flat_180min_DDA01.raw   F1:23734   \n",
       "24227         2  MP_RZ07032023_GW_flat_180min_DDA02.raw          -   \n",
       "\n",
       "                             Peptide      Scan  Tag Length  Denovo Score  \\\n",
       "24218            KYAYFPVWVNDDKMSLPLR  F2:51275          19            76   \n",
       "24219                        MWALDLR  F1:38190           7            76   \n",
       "24220                  LAAALTPAPVLAK  F2:33083          13            76   \n",
       "24221                     APMSGLQNWK  F2:29687          10            76   \n",
       "24222          SLTAPSGVPGM(+15.99)FK  F2:26077          13            76   \n",
       "24223  EVQAWSWWWM(+15.99)TRRAAMDVPGR  F2:49588          21            76   \n",
       "24224                        MGFYGGR  F2:13573           7            76   \n",
       "24225             TLGALDGTN(+.98)MNR  F1:23486          12            76   \n",
       "24226                      LGGLSSAMK  F1:16822           9            76   \n",
       "24227            LDQ(+.98)AHLYNWQWYR  F2:50574          13            76   \n",
       "\n",
       "       ALC (%)  length       m/z  z      RT Predict RT        Area       Mass  \\\n",
       "24218       68      19  781.3988  3  143.42     142.11         0.0  2341.1929   \n",
       "24219       78       7  452.7394  2  113.16     129.39     34600.0   903.4636   \n",
       "24220       70      13  618.3896  2  100.95     110.95  13200000.0  1234.7649   \n",
       "24221       70      10  566.2845  2   92.40      83.12    215000.0  1130.5542   \n",
       "24222       67      13  654.3237  2   83.51      83.66     75700.0  1306.6592   \n",
       "24223       68      21  879.0955  3  139.45     141.68    822000.0  2634.2371   \n",
       "24224       68       7  394.1815  2   50.45      47.75    376000.0   786.3483   \n",
       "24225       71      12  632.3035  2   78.32      67.85   3660000.0  1262.5925   \n",
       "24226       75       9  432.2354  2   59.98      63.31    416000.0   862.4582   \n",
       "24227       77      13  897.4365  2  141.76      127.6         0.0  1792.8320   \n",
       "\n",
       "        ppm               PTM  \\\n",
       "24218  -7.8               NaN   \n",
       "24219   0.6               NaN   \n",
       "24220  -0.2               NaN   \n",
       "24221   0.3               NaN   \n",
       "24222 -20.1     Oxidation (M)   \n",
       "24223  10.4     Oxidation (M)   \n",
       "24224   0.3               NaN   \n",
       "24225   0.0  Deamidation (NQ)   \n",
       "24226  -2.4               NaN   \n",
       "24227  14.8  Deamidation (NQ)   \n",
       "\n",
       "                                    local confidence (%)  \\\n",
       "24218  45 39 41 35 33 43 89 98 98 94 95 96 94 90 83 4...   \n",
       "24219                               56 71 84 79 79 85 90   \n",
       "24220           48 50 80 99 100 100 99 96 33 31 48 45 82   \n",
       "24221                      96 94 85 92 82 41 28 21 69 92   \n",
       "24222             37 46 79 93 95 96 88 84 23 17 26 89 97   \n",
       "24223  37 25 33 44 44 41 81 84 90 88 90 40 52 96 95 8...   \n",
       "24224                               17 29 90 86 80 83 90   \n",
       "24225                21 21 26 76 99 98 90 88 70 82 91 93   \n",
       "24226                         62 77 48 88 82 73 68 78 97   \n",
       "24227            31 38 40 61 54 99 98 96 96 94 95 98 100   \n",
       "\n",
       "                          tag (>=0%) mode  \n",
       "24218            KYAYFPVWVNDDKMSLPLR  HCD  \n",
       "24219                        MWALDLR  HCD  \n",
       "24220                  LAAALTPAPVLAK  HCD  \n",
       "24221                     APMSGLQNWK  HCD  \n",
       "24222          SLTAPSGVPGM(+15.99)FK  HCD  \n",
       "24223  EVQAWSWWWM(+15.99)TRRAAMDVPGR  HCD  \n",
       "24224                        MGFYGGR  HCD  \n",
       "24225             TLGALDGTN(+.98)MNR  HCD  \n",
       "24226                      LGGLSSAMK  HCD  \n",
       "24227            LDQ(+.98)AHLYNWQWYR  HCD  "
      ]
     },
     "metadata": {},
     "output_type": "display_data"
    },
    {
     "name": "stdout",
     "output_type": "stream",
     "text": [
      "Filtered dataset shape: (32111, 20)\n",
      "Filtered Data (rows 24219-24227):\n"
     ]
    },
    {
     "data": {
      "text/html": [
       "<div>\n",
       "<style scoped>\n",
       "    .dataframe tbody tr th:only-of-type {\n",
       "        vertical-align: middle;\n",
       "    }\n",
       "\n",
       "    .dataframe tbody tr th {\n",
       "        vertical-align: top;\n",
       "    }\n",
       "\n",
       "    .dataframe thead th {\n",
       "        text-align: right;\n",
       "    }\n",
       "</style>\n",
       "<table border=\"1\" class=\"dataframe\">\n",
       "  <thead>\n",
       "    <tr style=\"text-align: right;\">\n",
       "      <th></th>\n",
       "      <th>Fraction</th>\n",
       "      <th>Source File</th>\n",
       "      <th>Feature</th>\n",
       "      <th>Peptide</th>\n",
       "      <th>Scan</th>\n",
       "      <th>Tag Length</th>\n",
       "      <th>Denovo Score</th>\n",
       "      <th>ALC (%)</th>\n",
       "      <th>length</th>\n",
       "      <th>m/z</th>\n",
       "      <th>z</th>\n",
       "      <th>RT</th>\n",
       "      <th>Predict RT</th>\n",
       "      <th>Area</th>\n",
       "      <th>Mass</th>\n",
       "      <th>ppm</th>\n",
       "      <th>PTM</th>\n",
       "      <th>local confidence (%)</th>\n",
       "      <th>tag (&gt;=0%)</th>\n",
       "      <th>mode</th>\n",
       "    </tr>\n",
       "  </thead>\n",
       "  <tbody>\n",
       "    <tr>\n",
       "      <th>25984</th>\n",
       "      <td>2</td>\n",
       "      <td>MP_RZ07032023_GW_flat_180min_DDA02.raw</td>\n",
       "      <td>-</td>\n",
       "      <td>LVTTDANGWYNK</td>\n",
       "      <td>F2:16205</td>\n",
       "      <td>12</td>\n",
       "      <td>75</td>\n",
       "      <td>73</td>\n",
       "      <td>12</td>\n",
       "      <td>691.3395</td>\n",
       "      <td>2</td>\n",
       "      <td>57.63</td>\n",
       "      <td>71.8</td>\n",
       "      <td>0.0</td>\n",
       "      <td>1380.6675</td>\n",
       "      <td>-2.1</td>\n",
       "      <td>NaN</td>\n",
       "      <td>59 60 95 95 95 89 83 70 69 28 43 98</td>\n",
       "      <td>LVTTDANGWYNK</td>\n",
       "      <td>HCD</td>\n",
       "    </tr>\n",
       "    <tr>\n",
       "      <th>25985</th>\n",
       "      <td>2</td>\n",
       "      <td>MP_RZ07032023_GW_flat_180min_DDA02.raw</td>\n",
       "      <td>F2:39500</td>\n",
       "      <td>KATSLMDR</td>\n",
       "      <td>F2:7950</td>\n",
       "      <td>8</td>\n",
       "      <td>75</td>\n",
       "      <td>76</td>\n",
       "      <td>8</td>\n",
       "      <td>461.2376</td>\n",
       "      <td>2</td>\n",
       "      <td>32.97</td>\n",
       "      <td>17.78</td>\n",
       "      <td>841000.0</td>\n",
       "      <td>920.4749</td>\n",
       "      <td>-15.5</td>\n",
       "      <td>NaN</td>\n",
       "      <td>77 34 38 87 93 88 96 94</td>\n",
       "      <td>KATSLMDR</td>\n",
       "      <td>HCD</td>\n",
       "    </tr>\n",
       "    <tr>\n",
       "      <th>25986</th>\n",
       "      <td>2</td>\n",
       "      <td>MP_RZ07032023_GW_flat_180min_DDA02.raw</td>\n",
       "      <td>F2:103841</td>\n",
       "      <td>WAADLDQ(+.98)MVTK</td>\n",
       "      <td>F2:42699</td>\n",
       "      <td>11</td>\n",
       "      <td>75</td>\n",
       "      <td>75</td>\n",
       "      <td>11</td>\n",
       "      <td>639.8031</td>\n",
       "      <td>2</td>\n",
       "      <td>123.18</td>\n",
       "      <td>107.95</td>\n",
       "      <td>110000.0</td>\n",
       "      <td>1277.5962</td>\n",
       "      <td>-3.6</td>\n",
       "      <td>Deamidation (NQ)</td>\n",
       "      <td>78 60 90 90 89 94 89 69 28 41 98</td>\n",
       "      <td>WAADLDQ(+.98)MVTK</td>\n",
       "      <td>HCD</td>\n",
       "    </tr>\n",
       "    <tr>\n",
       "      <th>25989</th>\n",
       "      <td>1</td>\n",
       "      <td>MP_RZ07032023_GW_flat_180min_DDA01.raw</td>\n",
       "      <td>F1:18876</td>\n",
       "      <td>Q(+.98)VYLHMDGFR</td>\n",
       "      <td>F1:35026</td>\n",
       "      <td>10</td>\n",
       "      <td>75</td>\n",
       "      <td>72</td>\n",
       "      <td>10</td>\n",
       "      <td>422.8690</td>\n",
       "      <td>3</td>\n",
       "      <td>105.90</td>\n",
       "      <td>95.37</td>\n",
       "      <td>300000.0</td>\n",
       "      <td>1265.5862</td>\n",
       "      <td>-0.9</td>\n",
       "      <td>Deamidation (NQ)</td>\n",
       "      <td>26 28 45 61 92 95 98 92 94 96</td>\n",
       "      <td>Q(+.98)VYLHMDGFR</td>\n",
       "      <td>HCD</td>\n",
       "    </tr>\n",
       "    <tr>\n",
       "      <th>25990</th>\n",
       "      <td>2</td>\n",
       "      <td>MP_RZ07032023_GW_flat_180min_DDA02.raw</td>\n",
       "      <td>F2:113009</td>\n",
       "      <td>TLLPALYLLQGR</td>\n",
       "      <td>F2:54646</td>\n",
       "      <td>12</td>\n",
       "      <td>75</td>\n",
       "      <td>74</td>\n",
       "      <td>12</td>\n",
       "      <td>679.4126</td>\n",
       "      <td>2</td>\n",
       "      <td>151.38</td>\n",
       "      <td>164.41</td>\n",
       "      <td>25200.0</td>\n",
       "      <td>1356.8130</td>\n",
       "      <td>-1.7</td>\n",
       "      <td>NaN</td>\n",
       "      <td>51 50 50 33 82 89 93 95 85 79 88 98</td>\n",
       "      <td>TLLPALYLLQGR</td>\n",
       "      <td>HCD</td>\n",
       "    </tr>\n",
       "    <tr>\n",
       "      <th>25991</th>\n",
       "      <td>1</td>\n",
       "      <td>MP_RZ07032023_GW_flat_180min_DDA01.raw</td>\n",
       "      <td>F1:139595</td>\n",
       "      <td>FGFGLSDPDDN(+.98)NLFAHFKPLC(+57.02)K</td>\n",
       "      <td>F1:54391</td>\n",
       "      <td>22</td>\n",
       "      <td>75</td>\n",
       "      <td>72</td>\n",
       "      <td>22</td>\n",
       "      <td>847.3984</td>\n",
       "      <td>3</td>\n",
       "      <td>151.74</td>\n",
       "      <td>161.24</td>\n",
       "      <td>6010000.0</td>\n",
       "      <td>2539.1841</td>\n",
       "      <td>-4.2</td>\n",
       "      <td>Deamidation (NQ); Carbamidomethylation</td>\n",
       "      <td>49 40 57 62 82 96 69 44 92 49 28 34 96 97 97 8...</td>\n",
       "      <td>FGFGLSDPDDN(+.98)NLFAHFKPLC(+57.02)K</td>\n",
       "      <td>HCD</td>\n",
       "    </tr>\n",
       "    <tr>\n",
       "      <th>25993</th>\n",
       "      <td>1</td>\n",
       "      <td>MP_RZ07032023_GW_flat_180min_DDA01.raw</td>\n",
       "      <td>-</td>\n",
       "      <td>YHDALTYVWNWGGFTGK</td>\n",
       "      <td>F1:45457</td>\n",
       "      <td>17</td>\n",
       "      <td>75</td>\n",
       "      <td>85</td>\n",
       "      <td>17</td>\n",
       "      <td>1007.9756</td>\n",
       "      <td>2</td>\n",
       "      <td>130.26</td>\n",
       "      <td>163.81</td>\n",
       "      <td>0.0</td>\n",
       "      <td>2013.9373</td>\n",
       "      <td>-0.3</td>\n",
       "      <td>NaN</td>\n",
       "      <td>34 20 62 78 99 99 98 98 98 97 98 97 97 98 98 9...</td>\n",
       "      <td>YHDALTYVWNWGGFTGK</td>\n",
       "      <td>HCD</td>\n",
       "    </tr>\n",
       "    <tr>\n",
       "      <th>25994</th>\n",
       "      <td>1</td>\n",
       "      <td>MP_RZ07032023_GW_flat_180min_DDA01.raw</td>\n",
       "      <td>F1:852</td>\n",
       "      <td>NSLAVLR</td>\n",
       "      <td>F1:12592</td>\n",
       "      <td>7</td>\n",
       "      <td>75</td>\n",
       "      <td>81</td>\n",
       "      <td>7</td>\n",
       "      <td>386.7372</td>\n",
       "      <td>2</td>\n",
       "      <td>48.50</td>\n",
       "      <td>66</td>\n",
       "      <td>1480000.0</td>\n",
       "      <td>771.4603</td>\n",
       "      <td>-0.4</td>\n",
       "      <td>NaN</td>\n",
       "      <td>61 60 82 92 94 94 86</td>\n",
       "      <td>NSLAVLR</td>\n",
       "      <td>HCD</td>\n",
       "    </tr>\n",
       "    <tr>\n",
       "      <th>25995</th>\n",
       "      <td>2</td>\n",
       "      <td>MP_RZ07032023_GW_flat_180min_DDA02.raw</td>\n",
       "      <td>F2:141090</td>\n",
       "      <td>NYLDDLR</td>\n",
       "      <td>F2:41876</td>\n",
       "      <td>7</td>\n",
       "      <td>75</td>\n",
       "      <td>85</td>\n",
       "      <td>7</td>\n",
       "      <td>908.4518</td>\n",
       "      <td>1</td>\n",
       "      <td>121.32</td>\n",
       "      <td>83.38</td>\n",
       "      <td>208000.0</td>\n",
       "      <td>907.4399</td>\n",
       "      <td>5.0</td>\n",
       "      <td>NaN</td>\n",
       "      <td>85 83 85 82 85 88 90</td>\n",
       "      <td>NYLDDLR</td>\n",
       "      <td>HCD</td>\n",
       "    </tr>\n",
       "    <tr>\n",
       "      <th>25997</th>\n",
       "      <td>2</td>\n",
       "      <td>MP_RZ07032023_GW_flat_180min_DDA02.raw</td>\n",
       "      <td>F2:129117</td>\n",
       "      <td>YM(+15.99)APQEVGPGSPFR</td>\n",
       "      <td>F2:34615</td>\n",
       "      <td>14</td>\n",
       "      <td>75</td>\n",
       "      <td>78</td>\n",
       "      <td>14</td>\n",
       "      <td>776.3701</td>\n",
       "      <td>2</td>\n",
       "      <td>104.14</td>\n",
       "      <td>93.71</td>\n",
       "      <td>57400.0</td>\n",
       "      <td>1550.7188</td>\n",
       "      <td>4.5</td>\n",
       "      <td>Oxidation (M)</td>\n",
       "      <td>37 35 43 41 90 96 95 97 93 92 94 82 95 100</td>\n",
       "      <td>YM(+15.99)APQEVGPGSPFR</td>\n",
       "      <td>HCD</td>\n",
       "    </tr>\n",
       "  </tbody>\n",
       "</table>\n",
       "</div>"
      ],
      "text/plain": [
       "       Fraction                             Source File    Feature  \\\n",
       "25984         2  MP_RZ07032023_GW_flat_180min_DDA02.raw          -   \n",
       "25985         2  MP_RZ07032023_GW_flat_180min_DDA02.raw   F2:39500   \n",
       "25986         2  MP_RZ07032023_GW_flat_180min_DDA02.raw  F2:103841   \n",
       "25989         1  MP_RZ07032023_GW_flat_180min_DDA01.raw   F1:18876   \n",
       "25990         2  MP_RZ07032023_GW_flat_180min_DDA02.raw  F2:113009   \n",
       "25991         1  MP_RZ07032023_GW_flat_180min_DDA01.raw  F1:139595   \n",
       "25993         1  MP_RZ07032023_GW_flat_180min_DDA01.raw          -   \n",
       "25994         1  MP_RZ07032023_GW_flat_180min_DDA01.raw     F1:852   \n",
       "25995         2  MP_RZ07032023_GW_flat_180min_DDA02.raw  F2:141090   \n",
       "25997         2  MP_RZ07032023_GW_flat_180min_DDA02.raw  F2:129117   \n",
       "\n",
       "                                    Peptide      Scan  Tag Length  \\\n",
       "25984                          LVTTDANGWYNK  F2:16205          12   \n",
       "25985                              KATSLMDR   F2:7950           8   \n",
       "25986                     WAADLDQ(+.98)MVTK  F2:42699          11   \n",
       "25989                      Q(+.98)VYLHMDGFR  F1:35026          10   \n",
       "25990                          TLLPALYLLQGR  F2:54646          12   \n",
       "25991  FGFGLSDPDDN(+.98)NLFAHFKPLC(+57.02)K  F1:54391          22   \n",
       "25993                     YHDALTYVWNWGGFTGK  F1:45457          17   \n",
       "25994                               NSLAVLR  F1:12592           7   \n",
       "25995                               NYLDDLR  F2:41876           7   \n",
       "25997                YM(+15.99)APQEVGPGSPFR  F2:34615          14   \n",
       "\n",
       "       Denovo Score  ALC (%)  length        m/z  z      RT Predict RT  \\\n",
       "25984            75       73      12   691.3395  2   57.63       71.8   \n",
       "25985            75       76       8   461.2376  2   32.97      17.78   \n",
       "25986            75       75      11   639.8031  2  123.18     107.95   \n",
       "25989            75       72      10   422.8690  3  105.90      95.37   \n",
       "25990            75       74      12   679.4126  2  151.38     164.41   \n",
       "25991            75       72      22   847.3984  3  151.74     161.24   \n",
       "25993            75       85      17  1007.9756  2  130.26     163.81   \n",
       "25994            75       81       7   386.7372  2   48.50         66   \n",
       "25995            75       85       7   908.4518  1  121.32      83.38   \n",
       "25997            75       78      14   776.3701  2  104.14      93.71   \n",
       "\n",
       "            Area       Mass   ppm                                     PTM  \\\n",
       "25984        0.0  1380.6675  -2.1                                     NaN   \n",
       "25985   841000.0   920.4749 -15.5                                     NaN   \n",
       "25986   110000.0  1277.5962  -3.6                        Deamidation (NQ)   \n",
       "25989   300000.0  1265.5862  -0.9                        Deamidation (NQ)   \n",
       "25990    25200.0  1356.8130  -1.7                                     NaN   \n",
       "25991  6010000.0  2539.1841  -4.2  Deamidation (NQ); Carbamidomethylation   \n",
       "25993        0.0  2013.9373  -0.3                                     NaN   \n",
       "25994  1480000.0   771.4603  -0.4                                     NaN   \n",
       "25995   208000.0   907.4399   5.0                                     NaN   \n",
       "25997    57400.0  1550.7188   4.5                           Oxidation (M)   \n",
       "\n",
       "                                    local confidence (%)  \\\n",
       "25984                59 60 95 95 95 89 83 70 69 28 43 98   \n",
       "25985                            77 34 38 87 93 88 96 94   \n",
       "25986                   78 60 90 90 89 94 89 69 28 41 98   \n",
       "25989                      26 28 45 61 92 95 98 92 94 96   \n",
       "25990                51 50 50 33 82 89 93 95 85 79 88 98   \n",
       "25991  49 40 57 62 82 96 69 44 92 49 28 34 96 97 97 8...   \n",
       "25993  34 20 62 78 99 99 98 98 98 97 98 97 97 98 98 9...   \n",
       "25994                               61 60 82 92 94 94 86   \n",
       "25995                               85 83 85 82 85 88 90   \n",
       "25997         37 35 43 41 90 96 95 97 93 92 94 82 95 100   \n",
       "\n",
       "                                 tag (>=0%) mode  \n",
       "25984                          LVTTDANGWYNK  HCD  \n",
       "25985                              KATSLMDR  HCD  \n",
       "25986                     WAADLDQ(+.98)MVTK  HCD  \n",
       "25989                      Q(+.98)VYLHMDGFR  HCD  \n",
       "25990                          TLLPALYLLQGR  HCD  \n",
       "25991  FGFGLSDPDDN(+.98)NLFAHFKPLC(+57.02)K  HCD  \n",
       "25993                     YHDALTYVWNWGGFTGK  HCD  \n",
       "25994                               NSLAVLR  HCD  \n",
       "25995                               NYLDDLR  HCD  \n",
       "25997                YM(+15.99)APQEVGPGSPFR  HCD  "
      ]
     },
     "metadata": {},
     "output_type": "display_data"
    },
    {
     "name": "stdout",
     "output_type": "stream",
     "text": [
      "Number of peptides filtered out: 157074\n"
     ]
    }
   ],
   "source": [
    "# Import pandas for data handling\n",
    "import pandas as pd\n",
    "\n",
    "# === Step 1: Load the de novo peptide dataset ===\n",
    "\n",
    "# Define the path to the CSV file containing de novo peptide predictions\n",
    "# Replace 'base_path' with your project-specific base path if necessary\n",
    "de_novo_data_path = base_path / \"de_novo_data\" / \"de_novo_garmerwolde.csv\"\n",
    "\n",
    "# Load the CSV into a pandas DataFrame\n",
    "df = pd.read_csv(de_novo_data_path)\n",
    "\n",
    "# Display the full shape of the dataset (rows, columns)\n",
    "print(f\"Original dataset shape: {df.shape}\")\n",
    "\n",
    "# Preview a subset of rows for inspection (use iloc with zero-based indexing)\n",
    "print(\"Original Data (rows 24219-24227):\")\n",
    "display(df.iloc[24218:24228])\n",
    "\n",
    "# === Step 2: Filter peptides based on ALC (Average Local Confidence) score ===\n",
    "\n",
    "# Retain only high-confidence peptide sequences with ALC > 70%\n",
    "filtered_df = df[df[\"ALC (%)\"] > 70]\n",
    "\n",
    "# Display the filtered dataset shape\n",
    "print(f\"Filtered dataset shape: {filtered_df.shape}\")\n",
    "\n",
    "# Preview the same range of rows after filtering (if still present)\n",
    "print(\"Filtered Data (rows 24219-24227):\")\n",
    "display(filtered_df.iloc[24218:24228])  # Only shows output if those rows survived filtering\n",
    "\n",
    "# Display how many peptides were removed in the filtering step\n",
    "print(f\"Number of peptides filtered out: {df.shape[0] - filtered_df.shape[0]}\")"
   ]
  },
  {
   "cell_type": "markdown",
   "id": "afe74dc0",
   "metadata": {},
   "source": [
    "### Step 3: Clean Peptide Sequences Before DIAMOND Alignment\n",
    "\n",
    "Before aligning de novo peptides to the UniRef100 database, we standardize the peptide sequences to ensure compatibility with database protein entries.\n",
    "\n",
    "This includes:\n",
    "- **Removing post-translational modification annotations** (e.g., `+16` or brackets)\n",
    "- **Equating Leucine (L) and Isoleucine (I)**, which are indistinguishable by MS/MS\n",
    "- Adding a new column `\"Cleaned Sequence\"` to the filtered dataframe for downstream use\n",
    "\n",
    "This preprocessing ensures that the peptide sequences better match the actual content of UniRef protein databases and increases alignment sensitivity.\n"
   ]
  },
  {
   "cell_type": "code",
   "execution_count": null,
   "id": "c8d15cb9",
   "metadata": {},
   "outputs": [
    {
     "name": "stdout",
     "output_type": "stream",
     "text": [
      "Shape of the filtered DataFrame after adding the new column:\n"
     ]
    },
    {
     "name": "stderr",
     "output_type": "stream",
     "text": [
      "C:\\Temp\\ipykernel_17440\\2169065453.py:23: SettingWithCopyWarning: \n",
      "A value is trying to be set on a copy of a slice from a DataFrame.\n",
      "Try using .loc[row_indexer,col_indexer] = value instead\n",
      "\n",
      "See the caveats in the documentation: https://pandas.pydata.org/pandas-docs/stable/user_guide/indexing.html#returning-a-view-versus-a-copy\n",
      "  filtered_df[\"Cleaned Sequence\"] = filtered_df[\"Peptide\"].apply(lambda x: wrangle_peptides(x))\n"
     ]
    },
    {
     "data": {
      "text/plain": [
       "(32111, 21)"
      ]
     },
     "metadata": {},
     "output_type": "display_data"
    },
    {
     "name": "stdout",
     "output_type": "stream",
     "text": [
      "Cleaned Peptides (Rows 11-21):\n"
     ]
    },
    {
     "data": {
      "text/html": [
       "<div>\n",
       "<style scoped>\n",
       "    .dataframe tbody tr th:only-of-type {\n",
       "        vertical-align: middle;\n",
       "    }\n",
       "\n",
       "    .dataframe tbody tr th {\n",
       "        vertical-align: top;\n",
       "    }\n",
       "\n",
       "    .dataframe thead th {\n",
       "        text-align: right;\n",
       "    }\n",
       "</style>\n",
       "<table border=\"1\" class=\"dataframe\">\n",
       "  <thead>\n",
       "    <tr style=\"text-align: right;\">\n",
       "      <th></th>\n",
       "      <th>Peptide</th>\n",
       "      <th>Cleaned Sequence</th>\n",
       "    </tr>\n",
       "  </thead>\n",
       "  <tbody>\n",
       "    <tr>\n",
       "      <th>10</th>\n",
       "      <td>TSLLN(+.98)YLR</td>\n",
       "      <td>TSIINYIR</td>\n",
       "    </tr>\n",
       "    <tr>\n",
       "      <th>11</th>\n",
       "      <td>VVQLTMQ(+.98)TQEK</td>\n",
       "      <td>VVQITMQTQEK</td>\n",
       "    </tr>\n",
       "    <tr>\n",
       "      <th>12</th>\n",
       "      <td>ATMSDFSPK</td>\n",
       "      <td>ATMSDFSPK</td>\n",
       "    </tr>\n",
       "    <tr>\n",
       "      <th>13</th>\n",
       "      <td>LSELTSLTSAPR</td>\n",
       "      <td>ISEITSITSAPR</td>\n",
       "    </tr>\n",
       "    <tr>\n",
       "      <th>14</th>\n",
       "      <td>VSQ(+.98)AVLAASSGR</td>\n",
       "      <td>VSQAVIAASSGR</td>\n",
       "    </tr>\n",
       "    <tr>\n",
       "      <th>15</th>\n",
       "      <td>VGLAWDR</td>\n",
       "      <td>VGIAWDR</td>\n",
       "    </tr>\n",
       "    <tr>\n",
       "      <th>16</th>\n",
       "      <td>YLPASC(+57.02)R</td>\n",
       "      <td>YIPASCR</td>\n",
       "    </tr>\n",
       "    <tr>\n",
       "      <th>17</th>\n",
       "      <td>ASVEDLLK</td>\n",
       "      <td>ASVEDIIK</td>\n",
       "    </tr>\n",
       "    <tr>\n",
       "      <th>18</th>\n",
       "      <td>YPDVATTHGGSATK</td>\n",
       "      <td>YPDVATTHGGSATK</td>\n",
       "    </tr>\n",
       "    <tr>\n",
       "      <th>19</th>\n",
       "      <td>VMGVAFN(+.98)R</td>\n",
       "      <td>VMGVAFNR</td>\n",
       "    </tr>\n",
       "    <tr>\n",
       "      <th>20</th>\n",
       "      <td>APDNVGVLLR</td>\n",
       "      <td>APDNVGVIIR</td>\n",
       "    </tr>\n",
       "  </tbody>\n",
       "</table>\n",
       "</div>"
      ],
      "text/plain": [
       "               Peptide Cleaned Sequence\n",
       "10      TSLLN(+.98)YLR         TSIINYIR\n",
       "11   VVQLTMQ(+.98)TQEK      VVQITMQTQEK\n",
       "12           ATMSDFSPK        ATMSDFSPK\n",
       "13        LSELTSLTSAPR     ISEITSITSAPR\n",
       "14  VSQ(+.98)AVLAASSGR     VSQAVIAASSGR\n",
       "15             VGLAWDR          VGIAWDR\n",
       "16     YLPASC(+57.02)R          YIPASCR\n",
       "17            ASVEDLLK         ASVEDIIK\n",
       "18      YPDVATTHGGSATK   YPDVATTHGGSATK\n",
       "19      VMGVAFN(+.98)R         VMGVAFNR\n",
       "20          APDNVGVLLR       APDNVGVIIR"
      ]
     },
     "metadata": {},
     "output_type": "display_data"
    }
   ],
   "source": [
    "# Import regular expression module for string cleaning\n",
    "import re\n",
    "\n",
    "# === Step 1: Define a function to clean peptide sequences ===\n",
    "\n",
    "def wrangle_peptides(sequence: str, ptm_filter: bool = True, li_swap: bool = True) -> str:\n",
    "    \"\"\"\n",
    "    Clean and normalize peptide sequences by removing PTMs and optionally \n",
    "    replacing Leucine (L) with Isoleucine (I).\n",
    "\n",
    "    Args:\n",
    "        sequence (str): The raw peptide sequence string from de novo prediction.\n",
    "        ptm_filter (bool): Whether to remove post-translational modifications.\n",
    "        li_swap (bool): Whether to replace 'L' with 'I' for MS/MS ambiguity.\n",
    "\n",
    "    Returns:\n",
    "        str: A cleaned peptide sequence.\n",
    "    \"\"\"\n",
    "    \n",
    "    # If PTM filtering is enabled, remove any non-alphabetic characters (e.g., +16, (), etc.)\n",
    "    if ptm_filter:\n",
    "        sequence = \"\".join(re.findall(r\"[A-Z]+\", sequence))  # Keep only A-Z characters\n",
    "\n",
    "    # If enabled, replace Leucine (L) with Isoleucine (I)\n",
    "    if li_swap:\n",
    "        sequence = sequence.replace(\"L\", \"I\")\n",
    "\n",
    "    # Return the cleaned sequence string\n",
    "    return sequence\n",
    "\n",
    "# === Step 2: Apply the cleaning function to the peptide column ===\n",
    "\n",
    "# Create a new column called 'Cleaned Sequence' with the cleaned peptide strings\n",
    "filtered_df[\"Cleaned Sequence\"] = filtered_df[\"Peptide\"].apply(lambda x: wrangle_peptides(x))\n",
    "\n",
    "# Print the shape of the updated DataFrame to confirm modification\n",
    "print(\"Shape of the filtered DataFrame after adding the new column:\")\n",
    "display(filtered_df.shape)\n",
    "\n",
    "# Preview rows 11–21 of the original and cleaned sequences for comparison\n",
    "print(\"Cleaned Peptides (Rows 11-21):\")\n",
    "display(filtered_df[[\"Peptide\", \"Cleaned Sequence\"]].iloc[10:21])\n"
   ]
  },
  {
   "cell_type": "markdown",
   "id": "bcba5671",
   "metadata": {},
   "source": [
    "### Step 4: Automatically Check and Install DIAMOND on Windows\n",
    "\n",
    "To perform protein alignments using the DIAMOND aligner, we must ensure the DIAMOND binary is available locally.\n",
    "\n",
    "This block:\n",
    "- **Checks if `diamond.exe` is already present** in the `software_tools` directory.\n",
    "- If not, it **downloads the latest Windows binary** from the official GitHub repository.\n",
    "- **Extracts the executable** and removes the ZIP file after setup.\n",
    "\n",
    "This script supports only Windows environments. On Linux/Mac, users must install DIAMOND manually and point to the correct path.\n",
    "\n",
    "> This automation avoids installation errors and ensures reproducibility across users and sessions.\n"
   ]
  },
  {
   "cell_type": "code",
   "execution_count": null,
   "id": "54884e7e",
   "metadata": {},
   "outputs": [
    {
     "name": "stdout",
     "output_type": "stream",
     "text": [
      "DIAMOND is already available\n"
     ]
    }
   ],
   "source": [
    "# Import modules needed for file handling, downloading, OS checking, and ZIP extraction\n",
    "import os\n",
    "import urllib.request\n",
    "import zipfile\n",
    "import platform\n",
    "\n",
    "# === Define where DIAMOND is expected to be located ===\n",
    "\n",
    "# Path to where we expect the diamond executable to be\n",
    "diamond_exe = base_path / \"software_tools\" / \"diamond.exe\"\n",
    "\n",
    "# URL to download the latest Windows release of DIAMOND\n",
    "diamond_url = \"https://github.com/bbuchfink/diamond/releases/latest/download/diamond-windows.zip\"\n",
    "\n",
    "# Name of the temporary ZIP file to download\n",
    "download_path = \"diamond-windows.zip\"\n",
    "\n",
    "# === Proceed only on Windows systems ===\n",
    "if platform.system() == \"Windows\":\n",
    "    \n",
    "    # Check if diamond.exe already exists\n",
    "    if not os.path.exists(diamond_exe):\n",
    "        print(\"DIAMOND not found — downloading latest release...\")\n",
    "\n",
    "        # Step 1: Download the ZIP file from the official GitHub repo\n",
    "        urllib.request.urlretrieve(diamond_url, download_path)\n",
    "        print(\"Downloaded diamond-windows.zip\")\n",
    "\n",
    "        # Step 2: Extract all contents from the ZIP archive\n",
    "        with zipfile.ZipFile(download_path, 'r') as zip_ref:\n",
    "            zip_ref.extractall()  # Extracts to the current working directory\n",
    "            print(\"Extracted files:\", zip_ref.namelist())\n",
    "\n",
    "        # Step 3: Remove the ZIP file after extraction to clean up\n",
    "        os.remove(download_path)\n",
    "        print(\"DIAMOND setup complete\")\n",
    "    \n",
    "    else:\n",
    "        # If the executable already exists, skip installation\n",
    "        print(\"DIAMOND is already available\")\n",
    "\n",
    "else:\n",
    "    # Message for non-Windows users (Linux/macOS)\n",
    "    print(\"This script is designed for Windows only. Please install DIAMOND manually for this OS.\")\n",
    "\n"
   ]
  },
  {
   "cell_type": "markdown",
   "id": "8c91ae26",
   "metadata": {},
   "source": [
    "### Step 5: Export Cleaned Peptides to FASTA Format for DIAMOND Alignment\n",
    "\n",
    "DIAMOND requires input sequences in FASTA format. This step takes all high-confidence, cleaned de novo peptides and writes them to a `.fasta` file.\n",
    "\n",
    "Each peptide is given a unique header (e.g., `>peptide_0`, `>peptide_1`, ...) followed by its amino acid sequence. This format is critical for ensuring DIAMOND can align each sequence and associate results with the correct peptide.\n",
    "\n",
    "The resulting FASTA file will be used in the next step where we run DIAMOND to align peptides against the UniRef100 database.\n"
   ]
  },
  {
   "cell_type": "code",
   "execution_count": null,
   "id": "7f2dd3d0",
   "metadata": {},
   "outputs": [
    {
     "name": "stdout",
     "output_type": "stream",
     "text": [
      "Saved 32111 peptides to c:\\Users\\Yusuf\\OneDrive\\LST\\Derde_jaar\\Y3Q4\\Metaproteomics_with_db\\peptides.fasta\n"
     ]
    }
   ],
   "source": [
    "# Import Path for cross-platform file path handling\n",
    "from pathlib import Path\n",
    "\n",
    "# === Define a function to save peptide sequences to FASTA format ===\n",
    "\n",
    "def save_peptides_to_fasta(df, fasta_path, peptide_column=\"Cleaned Sequence\"):\n",
    "    \"\"\"\n",
    "    Write cleaned peptide sequences to a FASTA file for DIAMOND alignment.\n",
    "\n",
    "    Args:\n",
    "        df (pd.DataFrame): DataFrame containing peptide sequences.\n",
    "        fasta_path (str or Path): Output path for the FASTA file.\n",
    "        peptide_column (str): Name of the column containing peptide sequences.\n",
    "    \"\"\"\n",
    "    # Open the FASTA file in write mode\n",
    "    with open(fasta_path, \"w\") as f:\n",
    "        # Write each peptide with a unique header line and the sequence\n",
    "        for i, pep in enumerate(df[peptide_column]):\n",
    "            f.write(f\">peptide_{i}\\n{pep}\\n\")  # FASTA format: >header \\n sequence\n",
    "    print(f\"Saved {len(df)} peptides to {fasta_path}\")\n",
    "\n",
    "# Define the output path for the peptide FASTA file\n",
    "peptide_fasta = base_path / \"peptides.fasta\"\n",
    "\n",
    "# Call the function to save all cleaned peptides from filtered_df to FASTA\n",
    "save_peptides_to_fasta(filtered_df, peptide_fasta)\n",
    "\n"
   ]
  },
  {
   "cell_type": "markdown",
   "id": "f5ebfc15",
   "metadata": {},
   "source": [
    "### Step 6: Ensure PAM70 Substitution Matrix is Available\n",
    "\n",
    "Certain alignment tools (like DIAMOND or NovoLign) support using custom substitution matrices to adjust scoring schemes. The **PAM70 matrix** reflects moderate evolutionary distance and is often used for peptide/protein alignments.\n",
    "\n",
    "This block:\n",
    "- Defines the local path where `PAM70.mat` should exist.\n",
    "- Downloads the matrix file from a trusted GitHub source if it’s missing.\n",
    "\n",
    "Although DIAMOND doesn’t strictly require PAM70 (it has its own built-in matrices), this step allows for compatibility with workflows or tools (like NovoLign) that explicitly use PAM70 for scoring.\n"
   ]
  },
  {
   "cell_type": "code",
   "execution_count": 21,
   "id": "756fbf2b",
   "metadata": {},
   "outputs": [
    {
     "name": "stdout",
     "output_type": "stream",
     "text": [
      "PAM70.mat already exists\n"
     ]
    }
   ],
   "source": [
    "# Import modules for file checks and downloading\n",
    "import os\n",
    "import urllib.request\n",
    "\n",
    "# === Step 1: Define file path and source URL ===\n",
    "\n",
    "# Local file path where PAM70.mat should be saved\n",
    "pam70_path = base_path / \"software_tools\" / \"PAM70.mat\"\n",
    "\n",
    "# URL to download the PAM70 matrix file from GitHub (NovoLign repository)\n",
    "pam70_url = \"https://raw.githubusercontent.com/hbckleikamp/NovoLign/main/PAM70.mat\"\n",
    "\n",
    "# === Step 2: Check if PAM70.mat exists locally, otherwise download ===\n",
    "\n",
    "# If the file already exists, no need to download it again\n",
    "if os.path.exists(pam70_path):\n",
    "    print(\"PAM70.mat already exists\")\n",
    "else:\n",
    "    # If file is missing, download it from the GitHub repo\n",
    "    print(\"PAM70.mat not found. Downloading...\")\n",
    "    urllib.request.urlretrieve(pam70_url, pam70_path)\n",
    "    print(\"PAM70.mat downloaded successfully\")"
   ]
  },
  {
   "cell_type": "markdown",
   "id": "d9373d25",
   "metadata": {},
   "source": [
    "### Step 7: Run DIAMOND to Align Peptides Against UniRef100 Database\n",
    "\n",
    "With the cleaned peptides exported in FASTA format and the UniRef100 `.dmnd` database ready, this block executes the **DIAMOND alignment**.\n",
    "\n",
    "Key features:\n",
    "- Uses **DIAMOND blastp** mode to align peptide sequences to protein sequences.\n",
    "- Applies **custom alignment parameters** to increase specificity, including:\n",
    "  - Minimum identity (`--id 85`)\n",
    "  - Minimum query coverage (`--query-cover 80`)\n",
    "  - Custom gap penalties and score thresholds\n",
    "- Uses the **PAM70 substitution matrix** if available, for better MS/MS relevance.\n",
    "- Outputs results in a custom tabular format with query/subject IDs, scores, and sequences.\n",
    "\n",
    "The resulting `.tsv` file lists the best protein hits for each peptide, which will be used in downstream taxonomic annotation.\n"
   ]
  },
  {
   "cell_type": "code",
   "execution_count": null,
   "id": "f719b937",
   "metadata": {},
   "outputs": [
    {
     "name": "stdout",
     "output_type": "stream",
     "text": [
      "Using custom scoring matrix PAM70.mat\n",
      "Running DIAMOND alignment...\n",
      "DIAMOND alignment complete. Results saved to: c:\\Users\\Yusuf\\OneDrive\\LST\\Derde_jaar\\Y3Q4\\Metaproteomics_with_db\\Diamond_alignments\\garmerwoldepeptides_uniref100_aligned.tsv\n"
     ]
    }
   ],
   "source": [
    "# Import required modules for running shell commands and handling paths\n",
    "import os\n",
    "import subprocess\n",
    "\n",
    "# === Define paths for input, output, and DIAMOND binary ===\n",
    "\n",
    "# Path to DIAMOND executable\n",
    "diamond_exe = base_path / \"software_tools\" / \"diamond.exe\"\n",
    "\n",
    "# Path to the cleaned peptide FASTA file created earlier\n",
    "query_fasta = base_path / \"peptides.fasta\"\n",
    "\n",
    "# Directory and file where DIAMOND alignment results will be saved\n",
    "output_dir = base_path / \"Diamond_alignments\"\n",
    "output_file = os.path.join(output_dir, \"de_novo_peptides_uniref100_aligned.tsv\")\n",
    "\n",
    "# Ensure the output directory exists (create if not)\n",
    "os.makedirs(output_dir, exist_ok=True)\n",
    "\n",
    "# === Build the DIAMOND command with alignment parameters ===\n",
    "\n",
    "diamond_command = [\n",
    "    diamond_exe, \"blastp\",                 # Run DIAMOND in protein-protein alignment mode\n",
    "    \"-q\", query_fasta,                     # Input query FASTA (peptides)\n",
    "    \"-d\", diamond_db,                      # UniRef100 DIAMOND database\n",
    "    \"-o\", output_file,                     # Output file path\n",
    "    \"-k\", \"50\",                            # Report up to 50 best hits per peptide\n",
    "    \"--id\", \"85\",                          # Require minimum 85% identity\n",
    "    \"--query-cover\", \"80\",                 # Require at least 80% of the peptide to align\n",
    "    \"--min-score\", \"20\",                   # Minimum alignment score threshold\n",
    "    \"--gapopen\", \"2\",                      # Penalty for opening a gap\n",
    "    \"--gapextend\", \"4\",                    # Penalty for extending a gap\n",
    "    \"--algo\", \"ctg\",                       # Use \"contiguous\" algorithm (fast & strict)\n",
    "    \"-f\", \"6\", \"qseqid\", \"sseqid\",         # Output format: tabular with selected columns\n",
    "           \"pident\", \"bitscore\", \"qseq\", \"sseq\"\n",
    "]\n",
    "\n",
    "# === Add PAM70 matrix if available ===\n",
    "\n",
    "pam70_path = base_path / \"software_tools\" / \"PAM70.mat\"\n",
    "if os.path.exists(pam70_path):\n",
    "    diamond_command += [\"--custom-matrix\", pam70_path]  # Append custom matrix option\n",
    "    print(\"Using custom scoring matrix PAM70.mat\")\n",
    "\n",
    "# === Run the DIAMOND command ===\n",
    "\n",
    "print(\"Running DIAMOND alignment...\")\n",
    "try:\n",
    "    # Execute the command; raise error if DIAMOND fails\n",
    "    subprocess.run(diamond_command, check=True)\n",
    "    print(f\"DIAMOND alignment complete. Results saved to: {output_file}\")\n",
    "except subprocess.CalledProcessError as e:\n",
    "    # Catch and report any failure in running DIAMOND\n",
    "    print(f\"❌ DIAMOND failed: {e}\")\n",
    "\n"
   ]
  },
  {
   "cell_type": "markdown",
   "id": "5f790b39",
   "metadata": {},
   "source": [
    "### Step 8: Load DIAMOND Alignment Results and Extract Matched Protein Accessions\n",
    "\n",
    "After aligning the cleaned peptides to the UniRef100 database using DIAMOND, we now load the alignment results and extract the **matched protein IDs** (`sseqid` column). These accession IDs represent the UniRef protein entries that best match each peptide.\n",
    "\n",
    "Key actions:\n",
    "- Load the tabular DIAMOND result file (`.tsv`) into a pandas DataFrame.\n",
    "- Assign column names based on DIAMOND's custom output format.\n",
    "- Extract all **unique protein accession IDs**, which will be used in the next step to retrieve taxonomic information from UniProt.\n",
    "\n",
    "This bridges the gap between peptide-level alignments and taxon-level assignments based on protein metadata.\n"
   ]
  },
  {
   "cell_type": "code",
   "execution_count": null,
   "id": "b53310cd",
   "metadata": {},
   "outputs": [
    {
     "name": "stdout",
     "output_type": "stream",
     "text": [
      "Loaded 59329 alignments.\n"
     ]
    },
    {
     "data": {
      "text/plain": [
       "(59329, 6)"
      ]
     },
     "metadata": {},
     "output_type": "display_data"
    },
    {
     "data": {
      "text/html": [
       "<div>\n",
       "<style scoped>\n",
       "    .dataframe tbody tr th:only-of-type {\n",
       "        vertical-align: middle;\n",
       "    }\n",
       "\n",
       "    .dataframe tbody tr th {\n",
       "        vertical-align: top;\n",
       "    }\n",
       "\n",
       "    .dataframe thead th {\n",
       "        text-align: right;\n",
       "    }\n",
       "</style>\n",
       "<table border=\"1\" class=\"dataframe\">\n",
       "  <thead>\n",
       "    <tr style=\"text-align: right;\">\n",
       "      <th></th>\n",
       "      <th>qseqid</th>\n",
       "      <th>sseqid</th>\n",
       "      <th>pident</th>\n",
       "      <th>bitscore</th>\n",
       "      <th>qseq</th>\n",
       "      <th>sseq</th>\n",
       "    </tr>\n",
       "  </thead>\n",
       "  <tbody>\n",
       "    <tr>\n",
       "      <th>0</th>\n",
       "      <td>peptide_2</td>\n",
       "      <td>UniRef100_A0A011QQ48</td>\n",
       "      <td>100.0</td>\n",
       "      <td>24.8</td>\n",
       "      <td>MAGSQTAMTR</td>\n",
       "      <td>MAGSQTAMTR</td>\n",
       "    </tr>\n",
       "    <tr>\n",
       "      <th>1</th>\n",
       "      <td>peptide_2</td>\n",
       "      <td>UniRef100_UPI0025C051C6</td>\n",
       "      <td>100.0</td>\n",
       "      <td>24.8</td>\n",
       "      <td>MAGSQTAMTR</td>\n",
       "      <td>MAGSQTAMTR</td>\n",
       "    </tr>\n",
       "    <tr>\n",
       "      <th>2</th>\n",
       "      <td>peptide_2</td>\n",
       "      <td>UniRef100_UPI0028C430E3</td>\n",
       "      <td>100.0</td>\n",
       "      <td>24.8</td>\n",
       "      <td>MAGSQTAMTR</td>\n",
       "      <td>MAGSQTAMTR</td>\n",
       "    </tr>\n",
       "    <tr>\n",
       "      <th>3</th>\n",
       "      <td>peptide_2</td>\n",
       "      <td>UniRef100_UPI0025B9E656</td>\n",
       "      <td>100.0</td>\n",
       "      <td>24.8</td>\n",
       "      <td>MAGSQTAMTR</td>\n",
       "      <td>MAGSQTAMTR</td>\n",
       "    </tr>\n",
       "    <tr>\n",
       "      <th>4</th>\n",
       "      <td>peptide_2</td>\n",
       "      <td>UniRef100_UPI00145EEA31</td>\n",
       "      <td>100.0</td>\n",
       "      <td>24.8</td>\n",
       "      <td>MAGSQTAMTR</td>\n",
       "      <td>MAGSQTAMTR</td>\n",
       "    </tr>\n",
       "  </tbody>\n",
       "</table>\n",
       "</div>"
      ],
      "text/plain": [
       "      qseqid                   sseqid  pident  bitscore        qseq  \\\n",
       "0  peptide_2     UniRef100_A0A011QQ48   100.0      24.8  MAGSQTAMTR   \n",
       "1  peptide_2  UniRef100_UPI0025C051C6   100.0      24.8  MAGSQTAMTR   \n",
       "2  peptide_2  UniRef100_UPI0028C430E3   100.0      24.8  MAGSQTAMTR   \n",
       "3  peptide_2  UniRef100_UPI0025B9E656   100.0      24.8  MAGSQTAMTR   \n",
       "4  peptide_2  UniRef100_UPI00145EEA31   100.0      24.8  MAGSQTAMTR   \n",
       "\n",
       "         sseq  \n",
       "0  MAGSQTAMTR  \n",
       "1  MAGSQTAMTR  \n",
       "2  MAGSQTAMTR  \n",
       "3  MAGSQTAMTR  \n",
       "4  MAGSQTAMTR  "
      ]
     },
     "metadata": {},
     "output_type": "display_data"
    },
    {
     "name": "stdout",
     "output_type": "stream",
     "text": [
      "Found 33301 unique matched protein IDs.\n"
     ]
    }
   ],
   "source": [
    "# Import pandas for data handling\n",
    "import pandas as pd\n",
    "\n",
    "# === Step 1: Load DIAMOND alignment output ===\n",
    "\n",
    "# Define the full path to the DIAMOND result file\n",
    "diamond_output_path = base_path / \"Diamond_alignments\" / \"de_novo_peptides_uniref100_aligned.tsv\"\n",
    "\n",
    "# Define column names for the DIAMOND tabular output\n",
    "columns = [\n",
    "    \"qseqid\",    # Query sequence ID (e.g., peptide_0)\n",
    "    \"sseqid\",    # Subject sequence ID (matched UniRef protein)\n",
    "    \"pident\",    # Percent identity\n",
    "    \"bitscore\",  # Bit score of alignment\n",
    "    \"qseq\",      # Query sequence (peptide)\n",
    "    \"sseq\"       # Matched portion of the protein sequence\n",
    "]\n",
    "\n",
    "# Read the result file into a DataFrame\n",
    "diamond_df = pd.read_csv(diamond_output_path, sep=\"\\t\", header=None, names=columns)\n",
    "\n",
    "# Print the total number of alignments (rows)\n",
    "print(f\"Loaded {len(diamond_df)} alignments.\")\n",
    "display(diamond_df.shape)  # Show shape of the DataFrame (rows, columns)\n",
    "\n",
    "# Display the top rows for inspection\n",
    "display(diamond_df.head())\n",
    "\n",
    "# === Step 2: Extract unique protein accession IDs ===\n",
    "\n",
    "# Get all unique values from the 'sseqid' column (UniRef protein accessions)\n",
    "unique_proteins = diamond_df[\"sseqid\"].unique()\n",
    "\n",
    "# Print how many distinct protein accessions were matched\n",
    "print(f\"Found {len(unique_proteins)} unique matched protein IDs.\")\n"
   ]
  },
  {
   "cell_type": "markdown",
   "id": "7eb82378",
   "metadata": {},
   "source": [
    "### Step 9: Extract UniProt Accessions from Matched UniRef IDs\n",
    "\n",
    "The subject sequence IDs (`sseqid`) returned by DIAMOND are typically UniRef cluster headers, such as:\n",
    "UniRef90_A0A1S2ZP88\n",
    "UniRef100_Q8WZ42\n",
    "\n",
    "In these identifiers, the actual **UniProt accession** is the suffix (e.g., `A0A1S2ZP88`, `Q8WZ42`). We need to extract these accessions to:\n",
    "- Use them in UniProt's ID mapping API to retrieve organism-level annotations.\n",
    "- Link peptides to taxonomic lineages via the protein match.\n",
    "\n",
    "This block:\n",
    "- Uses a regular expression to extract the trailing UniProt accession from each `sseqid`.\n",
    "- Adds a new `\"accession\"` column to the `diamond_df` with these extracted IDs.\n",
    "- Prepares a list of **unique, valid accession IDs** for API submission.\n"
   ]
  },
  {
   "cell_type": "code",
   "execution_count": null,
   "id": "de343d26",
   "metadata": {},
   "outputs": [
    {
     "data": {
      "text/plain": [
       "(59329, 7)"
      ]
     },
     "metadata": {},
     "output_type": "display_data"
    },
    {
     "data": {
      "text/html": [
       "<div>\n",
       "<style scoped>\n",
       "    .dataframe tbody tr th:only-of-type {\n",
       "        vertical-align: middle;\n",
       "    }\n",
       "\n",
       "    .dataframe tbody tr th {\n",
       "        vertical-align: top;\n",
       "    }\n",
       "\n",
       "    .dataframe thead th {\n",
       "        text-align: right;\n",
       "    }\n",
       "</style>\n",
       "<table border=\"1\" class=\"dataframe\">\n",
       "  <thead>\n",
       "    <tr style=\"text-align: right;\">\n",
       "      <th></th>\n",
       "      <th>sseqid</th>\n",
       "      <th>accession</th>\n",
       "    </tr>\n",
       "  </thead>\n",
       "  <tbody>\n",
       "    <tr>\n",
       "      <th>0</th>\n",
       "      <td>UniRef100_A0A011QQ48</td>\n",
       "      <td>A0A011QQ48</td>\n",
       "    </tr>\n",
       "    <tr>\n",
       "      <th>1</th>\n",
       "      <td>UniRef100_UPI0025C051C6</td>\n",
       "      <td>UPI0025C051C6</td>\n",
       "    </tr>\n",
       "    <tr>\n",
       "      <th>2</th>\n",
       "      <td>UniRef100_UPI0028C430E3</td>\n",
       "      <td>UPI0028C430E3</td>\n",
       "    </tr>\n",
       "    <tr>\n",
       "      <th>3</th>\n",
       "      <td>UniRef100_UPI0025B9E656</td>\n",
       "      <td>UPI0025B9E656</td>\n",
       "    </tr>\n",
       "    <tr>\n",
       "      <th>4</th>\n",
       "      <td>UniRef100_UPI00145EEA31</td>\n",
       "      <td>UPI00145EEA31</td>\n",
       "    </tr>\n",
       "  </tbody>\n",
       "</table>\n",
       "</div>"
      ],
      "text/plain": [
       "                    sseqid      accession\n",
       "0     UniRef100_A0A011QQ48     A0A011QQ48\n",
       "1  UniRef100_UPI0025C051C6  UPI0025C051C6\n",
       "2  UniRef100_UPI0028C430E3  UPI0028C430E3\n",
       "3  UniRef100_UPI0025B9E656  UPI0025B9E656\n",
       "4  UniRef100_UPI00145EEA31  UPI00145EEA31"
      ]
     },
     "metadata": {},
     "output_type": "display_data"
    },
    {
     "name": "stdout",
     "output_type": "stream",
     "text": [
      "✅ Accessions to map: 33301\n"
     ]
    }
   ],
   "source": [
    "# Import regular expressions for parsing sequence IDs\n",
    "import re\n",
    "\n",
    "# === Step 1: Define function to extract UniProt accession from sseqid ===\n",
    "\n",
    "def extract_accession(sseqid):\n",
    "    \"\"\"\n",
    "    Extract the UniProt accession from a UniRef ID string.\n",
    "\n",
    "    Example:\n",
    "        \"UniRef90_A0A1S2ZP88\" → \"A0A1S2ZP88\"\n",
    "\n",
    "    Args:\n",
    "        sseqid (str): Subject sequence ID from DIAMOND result.\n",
    "\n",
    "    Returns:\n",
    "        str or None: Extracted UniProt accession, or None if not matched.\n",
    "    \"\"\"\n",
    "    # Match the last alphanumeric group in the string\n",
    "    match = re.search(r\"[A-Z0-9]+$\", sseqid)\n",
    "    return match.group(0) if match else None\n",
    "\n",
    "# === Step 2: Apply the extraction function to each matched sequence ID ===\n",
    "\n",
    "# Create a new column 'accession' with the extracted UniProt IDs\n",
    "diamond_df[\"accession\"] = diamond_df[\"sseqid\"].apply(extract_accession)\n",
    "\n",
    "# === Step 3: Display and verify results ===\n",
    "\n",
    "# Show shape of the updated DataFrame\n",
    "display(diamond_df.shape)\n",
    "\n",
    "# Show a sample of sseqid and corresponding extracted accession\n",
    "display(diamond_df[[\"sseqid\", \"accession\"]].drop_duplicates().head())\n",
    "\n",
    "# === Step 4: Count valid unique accession IDs ===\n",
    "\n",
    "# Get all unique, non-null accession values\n",
    "accessions = diamond_df[\"accession\"].dropna().unique().tolist()\n",
    "\n",
    "# Print how many accessions will be mapped to taxonomic info\n",
    "print(f\"Accessions to map: {len(accessions)}\")"
   ]
  },
  {
   "cell_type": "markdown",
   "id": "b06132d4",
   "metadata": {},
   "source": [
    "### Step 10: Map Matched Protein Accessions to Organism Names via UniProt ID Mapping API\n",
    "\n",
    "To annotate each matched protein with the corresponding **organism name**, we use UniProt's ID Mapping API. Since thousands of protein accessions may be involved, we batch them into manageable chunks and submit them to the API.\n",
    "\n",
    "The process includes:\n",
    "1. **Chunking the UniProt accessions** extracted from the DIAMOND results.\n",
    "2. **Submitting mapping jobs** using UniProt’s `run`, `status`, and `results` endpoints.\n",
    "3. **Paginating through results**, combining all chunks into one DataFrame.\n",
    "4. **Mapping organisms back to the DIAMOND alignment table**, linking each peptide to a taxonomic origin.\n",
    "\n",
    "Finally, we **save the annotated alignment table** with an `\"organism\"` column, which is crucial for downstream filtering and database construction.\n"
   ]
  },
  {
   "cell_type": "code",
   "execution_count": null,
   "id": "7d59712f",
   "metadata": {},
   "outputs": [
    {
     "name": "stdout",
     "output_type": "stream",
     "text": [
      "🔢 Total unique accessions: 33301\n",
      "\n",
      "🚀 Submitting chunk 1/67 (size: 500)\n",
      "🆔 Job ID: lqZD7cw9vC\n",
      "⏳ Still processing...\n",
      "⏳ Still processing...\n",
      "⏳ Still processing...\n",
      "⏳ Still processing...\n",
      "⏳ Still processing...\n",
      "✅ Job completed.\n",
      "⬇️ Downloading all paginated results...\n",
      "✅ Downloaded total 308 mapped accessions.\n",
      "✅ Mapped 308 accessions.\n",
      "\n",
      "🚀 Submitting chunk 2/67 (size: 500)\n",
      "🆔 Job ID: bbHPe44MwE\n",
      "⏳ Still processing...\n",
      "⏳ Still processing...\n",
      "⏳ Still processing...\n",
      "⏳ Still processing...\n",
      "⏳ Still processing...\n",
      "✅ Job completed.\n",
      "⬇️ Downloading all paginated results...\n",
      "✅ Downloaded total 304 mapped accessions.\n",
      "✅ Mapped 304 accessions.\n",
      "\n",
      "🚀 Submitting chunk 3/67 (size: 500)\n",
      "🆔 Job ID: eMSCsFKJI4\n",
      "⏳ Still processing...\n",
      "⏳ Still processing...\n",
      "⏳ Still processing...\n",
      "⏳ Still processing...\n",
      "⏳ Still processing...\n",
      "✅ Job completed.\n",
      "⬇️ Downloading all paginated results...\n",
      "✅ Downloaded total 328 mapped accessions.\n",
      "✅ Mapped 328 accessions.\n",
      "\n",
      "🚀 Submitting chunk 4/67 (size: 500)\n",
      "🆔 Job ID: u6qGp0XVro\n",
      "⏳ Still processing...\n",
      "⏳ Still processing...\n",
      "⏳ Still processing...\n",
      "⏳ Still processing...\n",
      "⏳ Still processing...\n",
      "✅ Job completed.\n",
      "⬇️ Downloading all paginated results...\n",
      "✅ Downloaded total 261 mapped accessions.\n",
      "✅ Mapped 261 accessions.\n",
      "\n",
      "🚀 Submitting chunk 5/67 (size: 500)\n",
      "🆔 Job ID: yN29KT3cgP\n",
      "⏳ Still processing...\n",
      "⏳ Still processing...\n",
      "⏳ Still processing...\n",
      "⏳ Still processing...\n",
      "⏳ Still processing...\n",
      "⏳ Still processing...\n",
      "✅ Job completed.\n",
      "⬇️ Downloading all paginated results...\n",
      "✅ Downloaded total 338 mapped accessions.\n",
      "✅ Mapped 338 accessions.\n",
      "\n",
      "🚀 Submitting chunk 6/67 (size: 500)\n",
      "🆔 Job ID: h47DC0lWJ2\n",
      "⏳ Still processing...\n",
      "⏳ Still processing...\n",
      "⏳ Still processing...\n",
      "⏳ Still processing...\n",
      "⏳ Still processing...\n",
      "✅ Job completed.\n",
      "⬇️ Downloading all paginated results...\n",
      "✅ Downloaded total 365 mapped accessions.\n",
      "✅ Mapped 365 accessions.\n",
      "\n",
      "🚀 Submitting chunk 7/67 (size: 500)\n",
      "🆔 Job ID: gpDuNVlDDb\n",
      "⏳ Still processing...\n",
      "⏳ Still processing...\n",
      "⏳ Still processing...\n",
      "⏳ Still processing...\n",
      "⏳ Still processing...\n",
      "⏳ Still processing...\n",
      "✅ Job completed.\n",
      "⬇️ Downloading all paginated results...\n",
      "✅ Downloaded total 331 mapped accessions.\n",
      "✅ Mapped 331 accessions.\n",
      "\n",
      "🚀 Submitting chunk 8/67 (size: 500)\n",
      "🆔 Job ID: xprVbGncYh\n",
      "⏳ Still processing...\n",
      "⏳ Still processing...\n",
      "⏳ Still processing...\n",
      "⏳ Still processing...\n",
      "⏳ Still processing...\n",
      "⏳ Still processing...\n",
      "✅ Job completed.\n",
      "⬇️ Downloading all paginated results...\n",
      "✅ Downloaded total 332 mapped accessions.\n",
      "✅ Mapped 332 accessions.\n",
      "\n",
      "🚀 Submitting chunk 9/67 (size: 500)\n",
      "🆔 Job ID: fSERZoSBOP\n",
      "⏳ Still processing...\n",
      "⏳ Still processing...\n",
      "⏳ Still processing...\n",
      "⏳ Still processing...\n",
      "⏳ Still processing...\n",
      "✅ Job completed.\n",
      "⬇️ Downloading all paginated results...\n",
      "✅ Downloaded total 341 mapped accessions.\n",
      "✅ Mapped 341 accessions.\n",
      "\n",
      "🚀 Submitting chunk 10/67 (size: 500)\n",
      "🆔 Job ID: 4tzSu6IQw7\n",
      "⏳ Still processing...\n",
      "⏳ Still processing...\n",
      "⏳ Still processing...\n",
      "⏳ Still processing...\n",
      "⏳ Still processing...\n",
      "⏳ Still processing...\n",
      "✅ Job completed.\n",
      "⬇️ Downloading all paginated results...\n",
      "✅ Downloaded total 391 mapped accessions.\n",
      "✅ Mapped 391 accessions.\n",
      "\n",
      "🚀 Submitting chunk 11/67 (size: 500)\n",
      "🆔 Job ID: z6zmSG6TXp\n",
      "⏳ Still processing...\n",
      "⏳ Still processing...\n",
      "⏳ Still processing...\n",
      "⏳ Still processing...\n",
      "⏳ Still processing...\n",
      "✅ Job completed.\n",
      "⬇️ Downloading all paginated results...\n",
      "✅ Downloaded total 319 mapped accessions.\n",
      "✅ Mapped 319 accessions.\n",
      "\n",
      "🚀 Submitting chunk 12/67 (size: 500)\n",
      "🆔 Job ID: xcZda3hNLK\n",
      "⏳ Still processing...\n",
      "⏳ Still processing...\n",
      "⏳ Still processing...\n",
      "⏳ Still processing...\n",
      "⏳ Still processing...\n",
      "✅ Job completed.\n",
      "⬇️ Downloading all paginated results...\n",
      "✅ Downloaded total 296 mapped accessions.\n",
      "✅ Mapped 296 accessions.\n",
      "\n",
      "🚀 Submitting chunk 13/67 (size: 500)\n",
      "🆔 Job ID: dHQkyXtOMy\n",
      "⏳ Still processing...\n",
      "⏳ Still processing...\n",
      "⏳ Still processing...\n",
      "⏳ Still processing...\n",
      "⏳ Still processing...\n",
      "✅ Job completed.\n",
      "⬇️ Downloading all paginated results...\n",
      "✅ Downloaded total 306 mapped accessions.\n",
      "✅ Mapped 306 accessions.\n",
      "\n",
      "🚀 Submitting chunk 14/67 (size: 500)\n",
      "🆔 Job ID: aUvJtFXTwf\n",
      "⏳ Still processing...\n",
      "⏳ Still processing...\n",
      "⏳ Still processing...\n",
      "⏳ Still processing...\n",
      "⏳ Still processing...\n",
      "✅ Job completed.\n",
      "⬇️ Downloading all paginated results...\n",
      "✅ Downloaded total 292 mapped accessions.\n",
      "✅ Mapped 292 accessions.\n",
      "\n",
      "🚀 Submitting chunk 15/67 (size: 500)\n",
      "🆔 Job ID: 6PKlg5oxkF\n",
      "⏳ Still processing...\n",
      "⏳ Still processing...\n",
      "⏳ Still processing...\n",
      "⏳ Still processing...\n",
      "⏳ Still processing...\n",
      "✅ Job completed.\n",
      "⬇️ Downloading all paginated results...\n",
      "✅ Downloaded total 339 mapped accessions.\n",
      "✅ Mapped 339 accessions.\n",
      "\n",
      "🚀 Submitting chunk 16/67 (size: 500)\n",
      "🆔 Job ID: k5wqnkHmBN\n",
      "⏳ Still processing...\n",
      "⏳ Still processing...\n",
      "⏳ Still processing...\n",
      "⏳ Still processing...\n",
      "⏳ Still processing...\n",
      "✅ Job completed.\n",
      "⬇️ Downloading all paginated results...\n",
      "✅ Downloaded total 359 mapped accessions.\n",
      "✅ Mapped 359 accessions.\n",
      "\n",
      "🚀 Submitting chunk 17/67 (size: 500)\n",
      "🆔 Job ID: 3zinPnEfwY\n",
      "⏳ Still processing...\n",
      "⏳ Still processing...\n",
      "⏳ Still processing...\n",
      "⏳ Still processing...\n",
      "✅ Job completed.\n",
      "⬇️ Downloading all paginated results...\n",
      "✅ Downloaded total 295 mapped accessions.\n",
      "✅ Mapped 295 accessions.\n",
      "\n",
      "🚀 Submitting chunk 18/67 (size: 500)\n",
      "🆔 Job ID: h3xM52BhSV\n",
      "⏳ Still processing...\n",
      "⏳ Still processing...\n",
      "⏳ Still processing...\n",
      "⏳ Still processing...\n",
      "⏳ Still processing...\n",
      "✅ Job completed.\n",
      "⬇️ Downloading all paginated results...\n",
      "✅ Downloaded total 295 mapped accessions.\n",
      "✅ Mapped 295 accessions.\n",
      "\n",
      "🚀 Submitting chunk 19/67 (size: 500)\n",
      "🆔 Job ID: y97s5UNVuP\n",
      "⏳ Still processing...\n",
      "⏳ Still processing...\n",
      "⏳ Still processing...\n",
      "⏳ Still processing...\n",
      "⏳ Still processing...\n",
      "✅ Job completed.\n",
      "⬇️ Downloading all paginated results...\n",
      "✅ Downloaded total 344 mapped accessions.\n",
      "✅ Mapped 344 accessions.\n",
      "\n",
      "🚀 Submitting chunk 20/67 (size: 500)\n",
      "🆔 Job ID: a4LsTYSptp\n",
      "⏳ Still processing...\n",
      "⏳ Still processing...\n",
      "⏳ Still processing...\n",
      "⏳ Still processing...\n",
      "⏳ Still processing...\n",
      "✅ Job completed.\n",
      "⬇️ Downloading all paginated results...\n",
      "✅ Downloaded total 280 mapped accessions.\n",
      "✅ Mapped 280 accessions.\n",
      "\n",
      "🚀 Submitting chunk 21/67 (size: 500)\n",
      "🆔 Job ID: gLw7HgPMiV\n",
      "⏳ Still processing...\n",
      "⏳ Still processing...\n",
      "⏳ Still processing...\n",
      "⏳ Still processing...\n",
      "⏳ Still processing...\n",
      "⏳ Still processing...\n",
      "✅ Job completed.\n",
      "⬇️ Downloading all paginated results...\n",
      "✅ Downloaded total 305 mapped accessions.\n",
      "✅ Mapped 305 accessions.\n",
      "\n",
      "🚀 Submitting chunk 22/67 (size: 500)\n",
      "🆔 Job ID: 9IrDiOWjYK\n",
      "⏳ Still processing...\n",
      "⏳ Still processing...\n",
      "⏳ Still processing...\n",
      "⏳ Still processing...\n",
      "⏳ Still processing...\n",
      "⏳ Still processing...\n",
      "✅ Job completed.\n",
      "⬇️ Downloading all paginated results...\n",
      "✅ Downloaded total 331 mapped accessions.\n",
      "✅ Mapped 331 accessions.\n",
      "\n",
      "🚀 Submitting chunk 23/67 (size: 500)\n",
      "🆔 Job ID: wsLjqOMIsn\n",
      "⏳ Still processing...\n",
      "⏳ Still processing...\n",
      "⏳ Still processing...\n",
      "⏳ Still processing...\n",
      "⏳ Still processing...\n",
      "✅ Job completed.\n",
      "⬇️ Downloading all paginated results...\n",
      "✅ Downloaded total 327 mapped accessions.\n",
      "✅ Mapped 327 accessions.\n",
      "\n",
      "🚀 Submitting chunk 24/67 (size: 500)\n",
      "🆔 Job ID: sEmIRUnarC\n",
      "⏳ Still processing...\n",
      "⏳ Still processing...\n",
      "⏳ Still processing...\n",
      "⏳ Still processing...\n",
      "✅ Job completed.\n",
      "⬇️ Downloading all paginated results...\n",
      "✅ Downloaded total 297 mapped accessions.\n",
      "✅ Mapped 297 accessions.\n",
      "\n",
      "🚀 Submitting chunk 25/67 (size: 500)\n",
      "🆔 Job ID: kBdS9VzjLk\n",
      "⏳ Still processing...\n",
      "⏳ Still processing...\n",
      "⏳ Still processing...\n",
      "⏳ Still processing...\n",
      "⏳ Still processing...\n",
      "✅ Job completed.\n",
      "⬇️ Downloading all paginated results...\n",
      "✅ Downloaded total 329 mapped accessions.\n",
      "✅ Mapped 329 accessions.\n",
      "\n",
      "🚀 Submitting chunk 26/67 (size: 500)\n",
      "🆔 Job ID: lhza6DFKt3\n",
      "⏳ Still processing...\n",
      "⏳ Still processing...\n",
      "⏳ Still processing...\n",
      "⏳ Still processing...\n",
      "✅ Job completed.\n",
      "⬇️ Downloading all paginated results...\n",
      "✅ Downloaded total 252 mapped accessions.\n",
      "✅ Mapped 252 accessions.\n",
      "\n",
      "🚀 Submitting chunk 27/67 (size: 500)\n",
      "🆔 Job ID: agFSnvonLR\n",
      "⏳ Still processing...\n",
      "⏳ Still processing...\n",
      "⏳ Still processing...\n",
      "⏳ Still processing...\n",
      "⏳ Still processing...\n",
      "✅ Job completed.\n",
      "⬇️ Downloading all paginated results...\n",
      "✅ Downloaded total 313 mapped accessions.\n",
      "✅ Mapped 313 accessions.\n",
      "\n",
      "🚀 Submitting chunk 28/67 (size: 500)\n",
      "🆔 Job ID: tLp7vVV8Wv\n",
      "⏳ Still processing...\n",
      "⏳ Still processing...\n",
      "✅ Job completed.\n",
      "⬇️ Downloading all paginated results...\n",
      "✅ Downloaded total 297 mapped accessions.\n",
      "✅ Mapped 297 accessions.\n",
      "\n",
      "🚀 Submitting chunk 29/67 (size: 500)\n",
      "🆔 Job ID: uJ2M1qqou4\n",
      "⏳ Still processing...\n",
      "⏳ Still processing...\n",
      "⏳ Still processing...\n",
      "⏳ Still processing...\n",
      "⏳ Still processing...\n",
      "⏳ Still processing...\n",
      "✅ Job completed.\n",
      "⬇️ Downloading all paginated results...\n",
      "✅ Downloaded total 279 mapped accessions.\n",
      "✅ Mapped 279 accessions.\n",
      "\n",
      "🚀 Submitting chunk 30/67 (size: 500)\n",
      "🆔 Job ID: 1S6uJ03c7V\n",
      "⏳ Still processing...\n",
      "⏳ Still processing...\n",
      "⏳ Still processing...\n",
      "⏳ Still processing...\n",
      "⏳ Still processing...\n",
      "✅ Job completed.\n",
      "⬇️ Downloading all paginated results...\n",
      "✅ Downloaded total 299 mapped accessions.\n",
      "✅ Mapped 299 accessions.\n",
      "\n",
      "🚀 Submitting chunk 31/67 (size: 500)\n",
      "🆔 Job ID: 4ZogMrkV3K\n",
      "⏳ Still processing...\n",
      "⏳ Still processing...\n",
      "⏳ Still processing...\n",
      "⏳ Still processing...\n",
      "⏳ Still processing...\n",
      "✅ Job completed.\n",
      "⬇️ Downloading all paginated results...\n",
      "✅ Downloaded total 343 mapped accessions.\n",
      "✅ Mapped 343 accessions.\n",
      "\n",
      "🚀 Submitting chunk 32/67 (size: 500)\n",
      "🆔 Job ID: l1bvKvXOsZ\n",
      "⏳ Still processing...\n",
      "⏳ Still processing...\n",
      "⏳ Still processing...\n",
      "⏳ Still processing...\n",
      "⏳ Still processing...\n",
      "✅ Job completed.\n",
      "⬇️ Downloading all paginated results...\n",
      "✅ Downloaded total 293 mapped accessions.\n",
      "✅ Mapped 293 accessions.\n",
      "\n",
      "🚀 Submitting chunk 33/67 (size: 500)\n",
      "🆔 Job ID: z2iEfmAKDW\n",
      "⏳ Still processing...\n",
      "⏳ Still processing...\n",
      "⏳ Still processing...\n",
      "⏳ Still processing...\n",
      "⏳ Still processing...\n",
      "✅ Job completed.\n",
      "⬇️ Downloading all paginated results...\n",
      "✅ Downloaded total 297 mapped accessions.\n",
      "✅ Mapped 297 accessions.\n",
      "\n",
      "🚀 Submitting chunk 34/67 (size: 500)\n",
      "🆔 Job ID: nT1L2yTfoq\n",
      "⏳ Still processing...\n",
      "⏳ Still processing...\n",
      "⏳ Still processing...\n",
      "⏳ Still processing...\n",
      "⏳ Still processing...\n",
      "✅ Job completed.\n",
      "⬇️ Downloading all paginated results...\n",
      "✅ Downloaded total 318 mapped accessions.\n",
      "✅ Mapped 318 accessions.\n",
      "\n",
      "🚀 Submitting chunk 35/67 (size: 500)\n",
      "🆔 Job ID: rSaOvmao7i\n",
      "⏳ Still processing...\n",
      "⏳ Still processing...\n",
      "⏳ Still processing...\n",
      "⏳ Still processing...\n",
      "⏳ Still processing...\n",
      "✅ Job completed.\n",
      "⬇️ Downloading all paginated results...\n",
      "✅ Downloaded total 308 mapped accessions.\n",
      "✅ Mapped 308 accessions.\n",
      "\n",
      "🚀 Submitting chunk 36/67 (size: 500)\n",
      "🆔 Job ID: mKP6pwsVqF\n",
      "⏳ Still processing...\n",
      "⏳ Still processing...\n",
      "⏳ Still processing...\n",
      "⏳ Still processing...\n",
      "✅ Job completed.\n",
      "⬇️ Downloading all paginated results...\n",
      "✅ Downloaded total 309 mapped accessions.\n",
      "✅ Mapped 309 accessions.\n",
      "\n",
      "🚀 Submitting chunk 37/67 (size: 500)\n",
      "🆔 Job ID: bZH7Dkr4rh\n",
      "⏳ Still processing...\n",
      "⏳ Still processing...\n",
      "⏳ Still processing...\n",
      "⏳ Still processing...\n",
      "⏳ Still processing...\n",
      "✅ Job completed.\n",
      "⬇️ Downloading all paginated results...\n",
      "✅ Downloaded total 309 mapped accessions.\n",
      "✅ Mapped 309 accessions.\n",
      "\n",
      "🚀 Submitting chunk 38/67 (size: 500)\n",
      "🆔 Job ID: olT4br1baM\n",
      "⏳ Still processing...\n",
      "⏳ Still processing...\n",
      "⏳ Still processing...\n",
      "⏳ Still processing...\n",
      "✅ Job completed.\n",
      "⬇️ Downloading all paginated results...\n",
      "✅ Downloaded total 258 mapped accessions.\n",
      "✅ Mapped 258 accessions.\n",
      "\n",
      "🚀 Submitting chunk 39/67 (size: 500)\n",
      "🆔 Job ID: n2crHb8bAF\n",
      "⏳ Still processing...\n",
      "⏳ Still processing...\n",
      "⏳ Still processing...\n",
      "⏳ Still processing...\n",
      "⏳ Still processing...\n",
      "⏳ Still processing...\n",
      "✅ Job completed.\n",
      "⬇️ Downloading all paginated results...\n",
      "✅ Downloaded total 350 mapped accessions.\n",
      "✅ Mapped 350 accessions.\n",
      "\n",
      "🚀 Submitting chunk 40/67 (size: 500)\n",
      "🆔 Job ID: sYGSx2Isbk\n",
      "⏳ Still processing...\n",
      "⏳ Still processing...\n",
      "⏳ Still processing...\n",
      "⏳ Still processing...\n",
      "✅ Job completed.\n",
      "⬇️ Downloading all paginated results...\n",
      "✅ Downloaded total 303 mapped accessions.\n",
      "✅ Mapped 303 accessions.\n",
      "\n",
      "🚀 Submitting chunk 41/67 (size: 500)\n",
      "🆔 Job ID: 2iCcjbsFCk\n",
      "⏳ Still processing...\n",
      "⏳ Still processing...\n",
      "⏳ Still processing...\n",
      "⏳ Still processing...\n",
      "⏳ Still processing...\n",
      "⏳ Still processing...\n",
      "✅ Job completed.\n",
      "⬇️ Downloading all paginated results...\n",
      "✅ Downloaded total 373 mapped accessions.\n",
      "✅ Mapped 373 accessions.\n",
      "\n",
      "🚀 Submitting chunk 42/67 (size: 500)\n",
      "🆔 Job ID: 2958LycHqs\n",
      "⏳ Still processing...\n",
      "⏳ Still processing...\n",
      "⏳ Still processing...\n",
      "⏳ Still processing...\n",
      "✅ Job completed.\n",
      "⬇️ Downloading all paginated results...\n",
      "✅ Downloaded total 318 mapped accessions.\n",
      "✅ Mapped 318 accessions.\n",
      "\n",
      "🚀 Submitting chunk 43/67 (size: 500)\n",
      "🆔 Job ID: odWSYSzBt6\n",
      "⏳ Still processing...\n",
      "⏳ Still processing...\n",
      "⏳ Still processing...\n",
      "⏳ Still processing...\n",
      "⏳ Still processing...\n",
      "✅ Job completed.\n",
      "⬇️ Downloading all paginated results...\n",
      "✅ Downloaded total 274 mapped accessions.\n",
      "✅ Mapped 274 accessions.\n",
      "\n",
      "🚀 Submitting chunk 44/67 (size: 500)\n",
      "🆔 Job ID: bJEwbs0PRX\n",
      "⏳ Still processing...\n",
      "⏳ Still processing...\n",
      "⏳ Still processing...\n",
      "⏳ Still processing...\n",
      "⏳ Still processing...\n",
      "✅ Job completed.\n",
      "⬇️ Downloading all paginated results...\n",
      "✅ Downloaded total 345 mapped accessions.\n",
      "✅ Mapped 345 accessions.\n",
      "\n",
      "🚀 Submitting chunk 45/67 (size: 500)\n",
      "🆔 Job ID: eM99u02Qts\n",
      "⏳ Still processing...\n",
      "⏳ Still processing...\n",
      "⏳ Still processing...\n",
      "⏳ Still processing...\n",
      "⏳ Still processing...\n",
      "✅ Job completed.\n",
      "⬇️ Downloading all paginated results...\n",
      "✅ Downloaded total 299 mapped accessions.\n",
      "✅ Mapped 299 accessions.\n",
      "\n",
      "🚀 Submitting chunk 46/67 (size: 500)\n",
      "🆔 Job ID: mOeKMrPl3k\n",
      "⏳ Still processing...\n",
      "⏳ Still processing...\n",
      "⏳ Still processing...\n",
      "⏳ Still processing...\n",
      "✅ Job completed.\n",
      "⬇️ Downloading all paginated results...\n",
      "✅ Downloaded total 286 mapped accessions.\n",
      "✅ Mapped 286 accessions.\n",
      "\n",
      "🚀 Submitting chunk 47/67 (size: 500)\n",
      "🆔 Job ID: iATwJIpEtY\n",
      "⏳ Still processing...\n",
      "⏳ Still processing...\n",
      "⏳ Still processing...\n",
      "⏳ Still processing...\n",
      "⏳ Still processing...\n",
      "✅ Job completed.\n",
      "⬇️ Downloading all paginated results...\n",
      "✅ Downloaded total 323 mapped accessions.\n",
      "✅ Mapped 323 accessions.\n",
      "\n",
      "🚀 Submitting chunk 48/67 (size: 500)\n",
      "🆔 Job ID: x7XFssiezc\n",
      "⏳ Still processing...\n",
      "⏳ Still processing...\n",
      "⏳ Still processing...\n",
      "⏳ Still processing...\n",
      "⏳ Still processing...\n",
      "✅ Job completed.\n",
      "⬇️ Downloading all paginated results...\n",
      "✅ Downloaded total 300 mapped accessions.\n",
      "✅ Mapped 300 accessions.\n",
      "\n",
      "🚀 Submitting chunk 49/67 (size: 500)\n",
      "🆔 Job ID: 8BpAcbx8sE\n",
      "⏳ Still processing...\n",
      "⏳ Still processing...\n",
      "⏳ Still processing...\n",
      "⏳ Still processing...\n",
      "✅ Job completed.\n",
      "⬇️ Downloading all paginated results...\n",
      "✅ Downloaded total 236 mapped accessions.\n",
      "✅ Mapped 236 accessions.\n",
      "\n",
      "🚀 Submitting chunk 50/67 (size: 500)\n",
      "🆔 Job ID: ftnHmhjZDp\n",
      "⏳ Still processing...\n",
      "⏳ Still processing...\n",
      "⏳ Still processing...\n",
      "⏳ Still processing...\n",
      "⏳ Still processing...\n",
      "✅ Job completed.\n",
      "⬇️ Downloading all paginated results...\n",
      "✅ Downloaded total 297 mapped accessions.\n",
      "✅ Mapped 297 accessions.\n",
      "\n",
      "🚀 Submitting chunk 51/67 (size: 500)\n",
      "🆔 Job ID: 6mOgMk50T0\n",
      "⏳ Still processing...\n",
      "⏳ Still processing...\n",
      "⏳ Still processing...\n",
      "⏳ Still processing...\n",
      "⏳ Still processing...\n",
      "✅ Job completed.\n",
      "⬇️ Downloading all paginated results...\n",
      "✅ Downloaded total 329 mapped accessions.\n",
      "✅ Mapped 329 accessions.\n",
      "\n",
      "🚀 Submitting chunk 52/67 (size: 500)\n",
      "🆔 Job ID: ybNVnMADXr\n",
      "⏳ Still processing...\n",
      "⏳ Still processing...\n",
      "⏳ Still processing...\n",
      "⏳ Still processing...\n",
      "✅ Job completed.\n",
      "⬇️ Downloading all paginated results...\n",
      "✅ Downloaded total 292 mapped accessions.\n",
      "✅ Mapped 292 accessions.\n",
      "\n",
      "🚀 Submitting chunk 53/67 (size: 500)\n",
      "🆔 Job ID: 5GKBI0WnXW\n",
      "⏳ Still processing...\n",
      "⏳ Still processing...\n",
      "⏳ Still processing...\n",
      "⏳ Still processing...\n",
      "✅ Job completed.\n",
      "⬇️ Downloading all paginated results...\n",
      "✅ Downloaded total 294 mapped accessions.\n",
      "✅ Mapped 294 accessions.\n",
      "\n",
      "🚀 Submitting chunk 54/67 (size: 500)\n",
      "🆔 Job ID: 84ZAozfGiK\n",
      "⏳ Still processing...\n",
      "⏳ Still processing...\n",
      "⏳ Still processing...\n",
      "⏳ Still processing...\n",
      "✅ Job completed.\n",
      "⬇️ Downloading all paginated results...\n",
      "✅ Downloaded total 283 mapped accessions.\n",
      "✅ Mapped 283 accessions.\n",
      "\n",
      "🚀 Submitting chunk 55/67 (size: 500)\n",
      "🆔 Job ID: xdY1CbSzdj\n",
      "⏳ Still processing...\n",
      "⏳ Still processing...\n",
      "⏳ Still processing...\n",
      "⏳ Still processing...\n",
      "⏳ Still processing...\n",
      "✅ Job completed.\n",
      "⬇️ Downloading all paginated results...\n",
      "✅ Downloaded total 337 mapped accessions.\n",
      "✅ Mapped 337 accessions.\n",
      "\n",
      "🚀 Submitting chunk 56/67 (size: 500)\n",
      "🆔 Job ID: ezMDSAY1i0\n",
      "⏳ Still processing...\n",
      "⏳ Still processing...\n",
      "⏳ Still processing...\n",
      "⏳ Still processing...\n",
      "⏳ Still processing...\n",
      "✅ Job completed.\n",
      "⬇️ Downloading all paginated results...\n",
      "✅ Downloaded total 278 mapped accessions.\n",
      "✅ Mapped 278 accessions.\n",
      "\n",
      "🚀 Submitting chunk 57/67 (size: 500)\n",
      "🆔 Job ID: 2fiak2Jkhj\n",
      "⏳ Still processing...\n",
      "⏳ Still processing...\n",
      "⏳ Still processing...\n",
      "⏳ Still processing...\n",
      "⏳ Still processing...\n",
      "✅ Job completed.\n",
      "⬇️ Downloading all paginated results...\n",
      "✅ Downloaded total 306 mapped accessions.\n",
      "✅ Mapped 306 accessions.\n",
      "\n",
      "🚀 Submitting chunk 58/67 (size: 500)\n",
      "🆔 Job ID: znbUKMFN2L\n",
      "⏳ Still processing...\n",
      "⏳ Still processing...\n",
      "⏳ Still processing...\n",
      "⏳ Still processing...\n",
      "⏳ Still processing...\n",
      "⏳ Still processing...\n",
      "⏳ Still processing...\n",
      "✅ Job completed.\n",
      "⬇️ Downloading all paginated results...\n",
      "✅ Downloaded total 314 mapped accessions.\n",
      "✅ Mapped 314 accessions.\n",
      "\n",
      "🚀 Submitting chunk 59/67 (size: 500)\n",
      "🆔 Job ID: i5HPctWhrh\n",
      "⏳ Still processing...\n",
      "⏳ Still processing...\n",
      "⏳ Still processing...\n",
      "⏳ Still processing...\n",
      "⏳ Still processing...\n",
      "✅ Job completed.\n",
      "⬇️ Downloading all paginated results...\n",
      "✅ Downloaded total 325 mapped accessions.\n",
      "✅ Mapped 325 accessions.\n",
      "\n",
      "🚀 Submitting chunk 60/67 (size: 500)\n",
      "🆔 Job ID: gt6U9RcJ49\n",
      "⏳ Still processing...\n",
      "⏳ Still processing...\n",
      "⏳ Still processing...\n",
      "⏳ Still processing...\n",
      "⏳ Still processing...\n",
      "✅ Job completed.\n",
      "⬇️ Downloading all paginated results...\n",
      "✅ Downloaded total 338 mapped accessions.\n",
      "✅ Mapped 338 accessions.\n",
      "\n",
      "🚀 Submitting chunk 61/67 (size: 500)\n",
      "🆔 Job ID: 2ASOOzwZu7\n",
      "⏳ Still processing...\n",
      "⏳ Still processing...\n",
      "⏳ Still processing...\n",
      "⏳ Still processing...\n",
      "✅ Job completed.\n",
      "⬇️ Downloading all paginated results...\n",
      "✅ Downloaded total 286 mapped accessions.\n",
      "✅ Mapped 286 accessions.\n",
      "\n",
      "🚀 Submitting chunk 62/67 (size: 500)\n",
      "🆔 Job ID: s2aKiB73QS\n",
      "⏳ Still processing...\n",
      "⏳ Still processing...\n",
      "⏳ Still processing...\n",
      "⏳ Still processing...\n",
      "⏳ Still processing...\n",
      "✅ Job completed.\n",
      "⬇️ Downloading all paginated results...\n",
      "✅ Downloaded total 342 mapped accessions.\n",
      "✅ Mapped 342 accessions.\n",
      "\n",
      "🚀 Submitting chunk 63/67 (size: 500)\n",
      "🆔 Job ID: xuIOdv0W8U\n",
      "⏳ Still processing...\n",
      "⏳ Still processing...\n",
      "⏳ Still processing...\n",
      "⏳ Still processing...\n",
      "⏳ Still processing...\n",
      "✅ Job completed.\n",
      "⬇️ Downloading all paginated results...\n",
      "✅ Downloaded total 309 mapped accessions.\n",
      "✅ Mapped 309 accessions.\n",
      "\n",
      "🚀 Submitting chunk 64/67 (size: 500)\n",
      "🆔 Job ID: pAnenxGV5H\n",
      "⏳ Still processing...\n",
      "⏳ Still processing...\n",
      "⏳ Still processing...\n",
      "⏳ Still processing...\n",
      "⏳ Still processing...\n",
      "✅ Job completed.\n",
      "⬇️ Downloading all paginated results...\n",
      "✅ Downloaded total 302 mapped accessions.\n",
      "✅ Mapped 302 accessions.\n",
      "\n",
      "🚀 Submitting chunk 65/67 (size: 500)\n",
      "🆔 Job ID: ljhC8A8nLz\n",
      "❌ Error during chunk 65: 400 Client Error:  for url: https://rest.uniprot.org/idmapping/status/ljhC8A8nLz\n",
      "\n",
      "🚀 Submitting chunk 66/67 (size: 500)\n",
      "🆔 Job ID: yEghmFCyUG\n",
      "⏳ Still processing...\n",
      "⏳ Still processing...\n",
      "⏳ Still processing...\n",
      "⏳ Still processing...\n",
      "⏳ Still processing...\n",
      "✅ Job completed.\n",
      "⬇️ Downloading all paginated results...\n",
      "✅ Downloaded total 282 mapped accessions.\n",
      "✅ Mapped 282 accessions.\n",
      "\n",
      "🚀 Submitting chunk 67/67 (size: 301)\n",
      "🆔 Job ID: tuj5vOTZQ9\n",
      "⏳ Still processing...\n",
      "⏳ Still processing...\n",
      "⏳ Still processing...\n",
      "✅ Job completed.\n",
      "⬇️ Downloading all paginated results...\n",
      "✅ Downloaded total 188 mapped accessions.\n",
      "✅ Mapped 188 accessions.\n",
      "\n",
      "🎯 Total mapped entries: 20397\n",
      "💾 Saved updated diamond_df with organisms to: c:\\Users\\Yusuf\\OneDrive\\LST\\Derde_jaar\\Y3Q4\\Metaproteomics_with_db\\Diamond_alignments\\diamond_df_with_organisms_uniref100.csv\n"
     ]
    }
   ],
   "source": [
    "# Import necessary modules for API calls, timing, and data manipulation\n",
    "import requests\n",
    "import pandas as pd\n",
    "import time\n",
    "from io import StringIO\n",
    "\n",
    "# === CONFIGURATION ===\n",
    "\n",
    "CHUNK_SIZE = 500              # Number of accessions per API job (can go up to ~9500)\n",
    "SLEEP_BETWEEN_JOBS = 5        # Delay between jobs to avoid rate-limiting\n",
    "\n",
    "# === STEP 1: Prepare Accessions ===\n",
    "\n",
    "# Get unique UniProt accessions (previously extracted from UniRef IDs)\n",
    "accessions = diamond_df[\"accession\"].dropna().unique().tolist()\n",
    "print(f\"Total unique accessions: {len(accessions)}\")\n",
    "\n",
    "# === UniProt Mapping Helper Functions ===\n",
    "\n",
    "def submit_uniprot_mapping(accessions_chunk):\n",
    "    \"\"\"\n",
    "    Submit a chunk of UniProt accessions to the ID mapping API.\n",
    "    Returns the job ID.\n",
    "    \"\"\"\n",
    "    url = \"https://rest.uniprot.org/idmapping/run\"\n",
    "    headers = {\"Content-Type\": \"application/x-www-form-urlencoded\"}\n",
    "    data = {\n",
    "        \"from\": \"UniProtKB_AC-ID\",      # Source ID type\n",
    "        \"to\": \"UniProtKB\",              # Target ID type (to get metadata)\n",
    "        \"ids\": \",\".join(accessions_chunk)\n",
    "    }\n",
    "\n",
    "    response = requests.post(url, data=data, headers=headers)\n",
    "    response.raise_for_status()\n",
    "    return response.json()[\"jobId\"]\n",
    "\n",
    "def wait_for_completion(job_id):\n",
    "    \"\"\"\n",
    "    Poll the UniProt server until the mapping job has finished.\n",
    "    \"\"\"\n",
    "    url = f\"https://rest.uniprot.org/idmapping/status/{job_id}\"\n",
    "    while True:\n",
    "        response = requests.get(url)\n",
    "        response.raise_for_status()\n",
    "        status = response.json()\n",
    "\n",
    "        if status.get(\"jobStatus\", \"\").upper() == \"RUNNING\":\n",
    "            print(\"Still processing...\")\n",
    "            time.sleep(3)\n",
    "        elif \"redirectURL\" in status or \"results\" in status or status.get(\"jobStatus\", \"\").upper() == \"FINISHED\":\n",
    "            print(\"Job completed.\")\n",
    "            break\n",
    "        else:\n",
    "            print(\"Status unclear, retrying...\")\n",
    "            time.sleep(3)\n",
    "\n",
    "def download_results(job_id):\n",
    "    \"\"\"\n",
    "    Download paginated UniProt results for a completed mapping job.\n",
    "    Returns a combined pandas DataFrame.\n",
    "    \"\"\"\n",
    "    print(\"⬇Downloading all paginated results...\")\n",
    "    base_url = f\"https://rest.uniprot.org/idmapping/uniprotkb/results/{job_id}\"\n",
    "    headers = {\"Accept\": \"text/tab-separated-values\"}\n",
    "\n",
    "    all_chunks = []\n",
    "    next_url = base_url + \"?format=tsv&fields=accession,organism_name&size=500\"\n",
    "\n",
    "    while next_url:\n",
    "        response = requests.get(next_url, headers=headers)\n",
    "        response.raise_for_status()\n",
    "        chunk = pd.read_csv(StringIO(response.text), sep=\"\\t\")\n",
    "        all_chunks.append(chunk)\n",
    "\n",
    "        # Parse pagination headers\n",
    "        link_header = response.headers.get(\"Link\", \"\")\n",
    "        if 'rel=\"next\"' in link_header:\n",
    "            parts = link_header.split(\",\")\n",
    "            next_links = [p for p in parts if 'rel=\"next\"' in p]\n",
    "            if next_links:\n",
    "                next_url = next_links[0].split(\";\")[0].strip(\"<> \")\n",
    "            else:\n",
    "                next_url = None\n",
    "        else:\n",
    "            next_url = None\n",
    "\n",
    "    # Combine all downloaded chunks\n",
    "    full_df = pd.concat(all_chunks, ignore_index=True)\n",
    "    print(f\"Downloaded total {len(full_df)} mapped accessions.\")\n",
    "    return full_df\n",
    "\n",
    "# === STEP 2: Submit and Download Mappings in Batches ===\n",
    "\n",
    "all_mappings = []\n",
    "\n",
    "# Loop through all accessions in chunks\n",
    "for i in range(0, len(accessions), CHUNK_SIZE):\n",
    "    chunk = accessions[i:i+CHUNK_SIZE]\n",
    "    print(f\"\\nSubmitting chunk {i//CHUNK_SIZE + 1}/{(len(accessions)//CHUNK_SIZE)+1} (size: {len(chunk)})\")\n",
    "\n",
    "    try:\n",
    "        # Submit mapping job and wait for completion\n",
    "        job_id = submit_uniprot_mapping(chunk)\n",
    "        print(f\"Job ID: {job_id}\")\n",
    "        wait_for_completion(job_id)\n",
    "\n",
    "        # Download and store the results\n",
    "        result_df = download_results(job_id)\n",
    "        all_mappings.append(result_df)\n",
    "        print(f\"Mapped {len(result_df)} accessions.\")\n",
    "    except Exception as e:\n",
    "        print(f\"Error during chunk {i//CHUNK_SIZE + 1}: {e}\")\n",
    "\n",
    "    # Pause to avoid overloading the API\n",
    "    time.sleep(SLEEP_BETWEEN_JOBS)\n",
    "\n",
    "# === STEP 3: Combine Results and Annotate DIAMOND DataFrame ===\n",
    "\n",
    "if all_mappings:\n",
    "    # Combine all mapping chunks into a single DataFrame\n",
    "    combined_df = pd.concat(all_mappings, ignore_index=True)\n",
    "    print(f\"\\nTotal mapped entries: {len(combined_df)}\")\n",
    "\n",
    "    # Build dictionary: accession → organism name\n",
    "    accession_to_org = dict(zip(combined_df[\"From\"], combined_df[\"Organism\"]))\n",
    "\n",
    "    # Annotate the DIAMOND alignment table with organism names\n",
    "    diamond_df[\"organism\"] = diamond_df[\"accession\"].map(accession_to_org)\n",
    "\n",
    "    # Define output path for the updated DataFrame\n",
    "    output_path = base_path / \"Diamond_alignments\" / \"diamond_df_with_organisms_uniref100.csv\"\n",
    "\n",
    "    # Save to CSV\n",
    "    diamond_df.to_csv(output_path, index=False)\n",
    "    print(f\"Saved updated diamond_df with organisms to: {output_path}\")\n",
    "else:\n",
    "    print(\"No successful mappings. Check API or chunk errors.\")\n"
   ]
  },
  {
   "cell_type": "markdown",
   "id": "7bcd1d69",
   "metadata": {},
   "source": [
    "### Step 11: Filter for Confident Organisms Based on Peptide Support\n",
    "\n",
    "To ensure that we only include **reliably detected organisms** in our downstream database and analyses, we filter out those with low peptide support. Organisms supported by just a few peptides may be false positives or irrelevant background.\n",
    "\n",
    "Key actions in this block:\n",
    "- Load the previously annotated DIAMOND results with organism names.\n",
    "- Count the number of peptide hits per organism.\n",
    "- Filter to keep only organisms with **at least 15 matched peptides** (configurable).\n",
    "- Save the filtered dataset for downstream use (e.g., taxonomic annotation, proteome collection).\n",
    "\n",
    "This step strengthens the biological validity of the results and avoids overfitting or noise in custom database construction.\n"
   ]
  },
  {
   "cell_type": "code",
   "execution_count": null,
   "id": "f0de3a8b",
   "metadata": {},
   "outputs": [
    {
     "name": "stdout",
     "output_type": "stream",
     "text": [
      "✅ Retained 278 confident organisms with ≥ 15 peptide hits\n",
      "\n",
      "🧬 Top 10 most frequent organisms:\n"
     ]
    },
    {
     "data": {
      "text/plain": [
       "organism\n",
       "Nitrospira sp                              928\n",
       "Accumulibacter sp                          924\n",
       "Candidatus Competibacteraceae bacterium    899\n",
       "Candidatus Accumulibacter phosphatis       865\n",
       "Gammaproteobacteria bacterium              863\n",
       "uncultured bacterium                       723\n",
       "Nitrospirota bacterium                     585\n",
       "Betaproteobacteria bacterium               558\n",
       "Accumulibacter regalis                     480\n",
       "Rhodocyclaceae bacterium                   456\n",
       "Name: count, dtype: int64"
      ]
     },
     "metadata": {},
     "output_type": "display_data"
    },
    {
     "name": "stdout",
     "output_type": "stream",
     "text": [
      "\n",
      "💾 Filtered dataset saved to: Diamond_alignments/diamond_df_filtered_15_hits.csv\n"
     ]
    }
   ],
   "source": [
    "# Import pandas for data handling\n",
    "import pandas as pd\n",
    "\n",
    "# === Step 1: Load the annotated DIAMOND alignment file ===\n",
    "\n",
    "# Path to the CSV file that includes peptides + matched protein + organism info\n",
    "file_path = base_path / \"Diamond_alignments\" / \"diamond_df_with_organisms_uniref100.csv\"\n",
    "\n",
    "# Load the DataFrame into memory\n",
    "df = pd.read_csv(file_path)\n",
    "\n",
    "# === Step 2: Set minimum confidence threshold ===\n",
    "\n",
    "# Define the minimum number of peptide matches required per organism\n",
    "min_hits = 15\n",
    "\n",
    "# Count the number of times each organism appears in the dataset\n",
    "# This represents the number of peptide hits per organism\n",
    "organism_counts = df[\"organism\"].value_counts()\n",
    "\n",
    "# === Step 3: Filter organisms based on hit count ===\n",
    "\n",
    "# Get a list of organism names that meet or exceed the threshold\n",
    "confident_organisms = organism_counts[organism_counts >= min_hits].index.tolist()\n",
    "\n",
    "# Filter the DataFrame to include only rows corresponding to confident organisms\n",
    "filtered_df = df[df[\"organism\"].isin(confident_organisms)].reset_index(drop=True)\n",
    "\n",
    "# === Step 4: Display summary ===\n",
    "\n",
    "# Print the number of organisms retained after filtering\n",
    "print(f\"Retained {len(confident_organisms)} confident organisms with ≥ {min_hits} peptide hits\")\n",
    "\n",
    "# Optionally display the top 10 most frequent organisms for inspection\n",
    "print(\"\\nTop 10 most frequent organisms:\")\n",
    "display(organism_counts.head(10))\n",
    "\n",
    "# === Step 5: Save the filtered DataFrame ===\n",
    "\n",
    "# Define the output path for the filtered dataset\n",
    "filtered_path = f\"Diamond_alignments/diamond_df_filtered_{min_hits}_hits.csv\"\n",
    "\n",
    "# Save to CSV without row index\n",
    "filtered_df.to_csv(filtered_path, index=False)\n",
    "\n",
    "# Confirm export\n",
    "print(f\"\\nFiltered dataset saved to: {filtered_path}\")\n"
   ]
  },
  {
   "cell_type": "code",
   "execution_count": 18,
   "id": "e922e0c0",
   "metadata": {},
   "outputs": [
    {
     "data": {
      "image/png": "[encoded data removed]",
      "text/plain": [
       "<Figure size 800x600 with 1 Axes>"
      ]
     },
     "metadata": {},
     "output_type": "display_data"
    }
   ],
   "source": [
    "# Visualize the top 50 organisms with most peptide hits\n",
    "import matplotlib.pyplot as plt\n",
    "# Load mapped DIAMOND results\n",
    "file_path = base_path / \"Diamond_alignments\" / \"diamond_df_with_organisms_uniref100.csv\"\n",
    "df = pd.read_csv(file_path)\n",
    "# Count number of unique peptide hits per organism\n",
    "organism_counts = df[\"organism\"].value_counts()\n",
    "\n",
    "organism_counts.head(50).plot(kind=\"barh\", figsize=(8,6), title=\"Top 50 matched organisms\")\n",
    "plt.xlabel(\"Number of peptide hits\")\n",
    "plt.gca().invert_yaxis()\n",
    "plt.tight_layout()\n",
    "plt.show()"
   ]
  },
  {
   "cell_type": "markdown",
   "id": "47aadeb0",
   "metadata": {},
   "source": [
    "### Step 12: Annotate Organisms with Taxonomic Ranks Using NCBI Entrez\n",
    "\n",
    "Now that we’ve filtered our DIAMOND-aligned peptides to include only organisms with sufficient peptide support, we enrich the data by assigning **NCBI taxonomic ranks** (e.g., genus, species, phylum) to each organism.\n",
    "\n",
    "This step:\n",
    "- Queries the **NCBI Taxonomy database** via Biopython’s Entrez API.\n",
    "- Retrieves the taxonomic **rank** of each unique organism name in the dataset.\n",
    "- Adds a `\"taxonomy_rank\"` column to the main DataFrame.\n",
    "- Saves the annotated file for downstream strategies (e.g., grouping by rank or prioritizing genus-level entries).\n",
    "\n",
    "> Adding taxonomic rank context allows flexible database construction and robust comparison across pipelines or rank levels.\n"
   ]
  },
  {
   "cell_type": "code",
   "execution_count": 25,
   "id": "7e3e0215",
   "metadata": {},
   "outputs": [
    {
     "name": "stdout",
     "output_type": "stream",
     "text": [
      "🔍 Fetching ranks from NCBI...\n"
     ]
    },
    {
     "name": "stderr",
     "output_type": "stream",
     "text": [
      "100%|██████████| 278/278 [05:59<00:00,  1.29s/it]"
     ]
    },
    {
     "name": "stdout",
     "output_type": "stream",
     "text": [
      "\n",
      "Annotated CSV saved to: Diamond_alignments/diamond_df_rank_annotated.csv\n"
     ]
    },
    {
     "name": "stderr",
     "output_type": "stream",
     "text": [
      "\n"
     ]
    }
   ],
   "source": [
    "# Import required modules\n",
    "import pandas as pd\n",
    "from Bio import Entrez          # Biopython interface for NCBI\n",
    "from time import sleep\n",
    "from tqdm import tqdm           # Progress bar for API calls\n",
    "\n",
    "# === Step 1: Configure NCBI Entrez ===\n",
    "\n",
    "# Email and tool name used for NCBI API calls (good practice, not strictly required)\n",
    "Entrez.email = \"your_email@example.com\" # You don't have to modify this\n",
    "Entrez.tool = \"TaxonRankFetcher\"\n",
    "\n",
    "# === Step 2: Load filtered dataset and extract unique organism names ===\n",
    "\n",
    "# Load the DIAMOND result filtered by peptide hit threshold\n",
    "filtered_path = f\"Diamond_alignments/diamond_df_filtered_{min_hits}_hits.csv\"\n",
    "df = pd.read_csv(filtered_path)\n",
    "\n",
    "# Extract all unique (non-null) organism names from the DataFrame\n",
    "organisms = df[\"organism\"].dropna().unique()\n",
    "\n",
    "# === Step 3: Define lookup dictionary ===\n",
    "\n",
    "# Will store organism → rank mapping\n",
    "rank_lookup = {}\n",
    "\n",
    "# === Step 4: Function to query NCBI and fetch taxonomic rank ===\n",
    "\n",
    "def fetch_ncbi_rank(organism_name):\n",
    "    \"\"\"\n",
    "    Retrieve the taxonomic rank for a given organism name from NCBI Taxonomy.\n",
    "    Returns: e.g. 'genus', 'species', or 'not_found'/'error' if failed.\n",
    "    \"\"\"\n",
    "    try:\n",
    "        # Search for the organism name to get its taxonomy ID\n",
    "        search = Entrez.esearch(db=\"taxonomy\", term=organism_name, retmode=\"xml\")\n",
    "        record = Entrez.read(search)\n",
    "\n",
    "        # If a valid taxon ID was found, fetch its taxonomy info\n",
    "        if record[\"IdList\"]:\n",
    "            tax_id = record[\"IdList\"][0]\n",
    "            summary = Entrez.efetch(db=\"taxonomy\", id=tax_id, retmode=\"xml\")\n",
    "            data = Entrez.read(summary)\n",
    "            return data[0][\"Rank\"]  # Return the rank field (e.g. 'species')\n",
    "        else:\n",
    "            return \"not_found\"\n",
    "    except Exception:\n",
    "        return \"error\"\n",
    "\n",
    "# === Step 5: Populate the lookup dictionary ===\n",
    "\n",
    "print(\"Fetching ranks from NCBI...\")\n",
    "\n",
    "# Loop over each unique organism and retrieve its taxonomic rank\n",
    "for org in tqdm(organisms):\n",
    "    rank = fetch_ncbi_rank(org)\n",
    "    rank_lookup[org] = rank\n",
    "    sleep(0.4)  # Throttle requests to avoid API rate limits\n",
    "\n",
    "# === Step 6: Annotate DataFrame with taxonomic ranks ===\n",
    "\n",
    "# Map organism → rank using the dictionary and add a new column\n",
    "df[\"taxonomy_rank\"] = df[\"organism\"].map(rank_lookup)\n",
    "\n",
    "# === Step 7: Save the annotated file ===\n",
    "\n",
    "# Save the updated DataFrame with taxonomy rank info\n",
    "df.to_csv(\"Diamond_alignments/diamond_df_rank_annotated.csv\", index=False)\n",
    "\n",
    "print(\"\\nAnnotated CSV saved to: Diamond_alignments/diamond_df_rank_annotated.csv\")\n"
   ]
  },
  {
   "cell_type": "markdown",
   "id": "d68b14ad",
   "metadata": {},
   "source": [
    "## Taxonomy Rank Fix: Reclassify Organisms with \"strain\" in Name\n",
    "\n",
    "After retrieving taxonomy ranks from NCBI for each organism matched by DIAMOND, some entries returned `\"not_found\"` despite clearly containing strain-level information in the name (e.g., `\"Dechloromonas aromatica (strain RCB)\"`).\n",
    "\n",
    "To correct this:\n",
    "\n",
    "- We scan all rows where `taxonomy_rank == \"not_found\"` and check if the organism name contains `\"strain\"` (case-insensitive).\n",
    "- If this condition is met, we **set the rank manually to `\"strain\"`**, allowing proper grouping or filtering later on.\n",
    "\n",
    "This step improves the biological relevance of the annotations while preserving full organism names.\n"
   ]
  },
  {
   "cell_type": "code",
   "execution_count": 27,
   "id": "48863377",
   "metadata": {},
   "outputs": [
    {
     "name": "stdout",
     "output_type": "stream",
     "text": [
      "Taxonomy rank fix applied.\n",
      "Updated DataFrame saved to: Diamond_alignments/diamond_df_rank_annotated_fixed.csv\n"
     ]
    }
   ],
   "source": [
    "import pandas as pd\n",
    "\n",
    "# === 1. Load annotated DIAMOND DataFrame ===\n",
    "file_path = \"Diamond_alignments/diamond_df_rank_annotated.csv\"\n",
    "df = pd.read_csv(file_path)\n",
    "\n",
    "# === 2. Fix ranks where 'strain' is in organism name but rank is 'not_found' ===\n",
    "# We'll use `.apply()` to evaluate each row individually\n",
    "df[\"taxonomy_rank\"] = df.apply(\n",
    "    lambda row: \"strain\"\n",
    "    if (row[\"taxonomy_rank\"] == \"not_found\" and \"strain\" in str(row[\"organism\"]).lower())\n",
    "    else row[\"taxonomy_rank\"],\n",
    "    axis=1\n",
    ")\n",
    "\n",
    "# === 3. Save the corrected file ===\n",
    "output_path = \"Diamond_alignments/diamond_df_rank_annotated_fixed.csv\"\n",
    "df.to_csv(output_path, index=False)\n",
    "\n",
    "print(\"Taxonomy rank fix applied.\")\n",
    "print(f\"Updated DataFrame saved to: {output_path}\")\n",
    "\n"
   ]
  },
  {
   "cell_type": "markdown",
   "id": "426cd4c3",
   "metadata": {},
   "source": [
    "## Visualizing Microbial Composition at Strain and Species Level\n",
    "\n",
    "After completing the alignment of de novo peptide sequences with UniRef100 using DIAMOND, and mapping the matched accessions to their corresponding organism names and taxonomic ranks using UniProt and NCBI, we now assess the **composition of the microbial community** present in the sample.\n",
    "\n",
    "This step visualizes the relative abundance of peptides associated with organisms at **strain** and **species** level. These insights help us:\n",
    "\n",
    "- Validate taxonomic annotation quality\n",
    "- Determine the diversity and dominance of microbial taxa\n",
    "- Guide interpretation of functional annotations and database construction\n",
    "\n",
    "### Key Features of This Visualization\n",
    "\n",
    "- **Strain-level plot**: Shows only *classified strains* (excluding \"Unclassified\") to highlight specific strain annotations without overwhelming the figure.\n",
    "- **Species-level plot**: Includes \"Unclassified\" to give a complete picture of annotation confidence.\n",
    "- **Top-N labeling**: Only the top *N* most abundant taxa are individually labeled in the legend; the rest are grouped into a single **\"Other\"** category to enhance readability and reduce clutter.\n",
    "\n",
    "This step gives a clear visual overview of how well peptides were taxonomically assigned and what organisms dominate the metaproteomic sample.\n"
   ]
  },
  {
   "cell_type": "code",
   "execution_count": 33,
   "id": "f0474494",
   "metadata": {},
   "outputs": [
    {
     "data": {
      "image/png": "[encoded data removed]",
      "text/plain": [
       "<Figure size 800x600 with 1 Axes>"
      ]
     },
     "metadata": {},
     "output_type": "display_data"
    },
    {
     "data": {
      "image/png": "[encoded data removed]",
      "text/plain": [
       "<Figure size 800x600 with 1 Axes>"
      ]
     },
     "metadata": {},
     "output_type": "display_data"
    }
   ],
   "source": [
    "import pandas as pd\n",
    "import matplotlib.pyplot as plt\n",
    "\n",
    "# === Load your final annotated DIAMOND result with taxonomy ===\n",
    "df_path = \"Diamond_alignments/diamond_df_rank_annotated_fixed.csv\"\n",
    "df = pd.read_csv(df_path)\n",
    "\n",
    "# === CONFIG ===\n",
    "TOP_N = 10  # Number of most abundant taxa to label explicitly\n",
    "\n",
    "def plot_composition(df, target_rank, top_n=10):\n",
    "    \"\"\"\n",
    "    Generate a single stacked bar plot showing the relative abundance of peptides\n",
    "    mapped to organisms at a specific taxonomic rank (e.g., 'species', 'strain').\n",
    "    \n",
    "    Parameters:\n",
    "        df (pd.DataFrame): DataFrame containing peptide-organism mappings and taxonomy\n",
    "        target_rank (str): Desired level of taxonomic resolution (e.g., 'strain', 'species')\n",
    "        top_n (int): Number of most abundant taxa to display explicitly in legend\n",
    "    \"\"\"\n",
    "\n",
    "    # === Filter data appropriately for each rank level ===\n",
    "    df_copy = df.copy()\n",
    "    \n",
    "    if target_rank == \"strain\":\n",
    "        # Include only peptides annotated to specific strains\n",
    "        df_copy = df_copy[df_copy[\"taxonomy_rank\"] == \"strain\"]\n",
    "        df_copy = df_copy[df_copy[\"organism\"].notna() & (df_copy[\"organism\"] != \"Unclassified\")]\n",
    "    else:\n",
    "        # For species-level and others: allow all, including \"Unclassified\"\n",
    "        df_copy[\"organism\"] = df_copy[\"organism\"].fillna(\"Unclassified\").replace(\"NA\", \"Unclassified\")\n",
    "\n",
    "    # === Count peptide hits per organism and compute relative abundance ===\n",
    "    counts = df_copy[\"organism\"].value_counts()\n",
    "    total = counts.sum()\n",
    "    proportions = (counts / total * 100).sort_values(ascending=False)\n",
    "\n",
    "    # === Keep top N most abundant organisms, group the rest under \"Other\" ===\n",
    "    top_labels = proportions.head(top_n)\n",
    "    others = proportions.iloc[top_n:]\n",
    "    if not others.empty:\n",
    "        top_labels[\"Other\"] = others.sum()\n",
    "\n",
    "    # === Plot single stacked bar ===\n",
    "    fig, ax = plt.subplots(figsize=(8, 6))\n",
    "    ax.bar([target_rank], top_labels.values, bottom=0)\n",
    "\n",
    "    bottom = 0\n",
    "    for label, value in top_labels.items():\n",
    "        # Each taxon contributes a portion of the stacked bar\n",
    "        ax.bar(target_rank, value, bottom=bottom, label=label)\n",
    "        bottom += value\n",
    "\n",
    "    # === Final formatting ===\n",
    "    ax.set_title(f\"Microbial Composition at {target_rank.capitalize()} Level\")\n",
    "    ax.set_ylabel(\"Relative Abundance (%)\")\n",
    "    ax.set_ylim(0, 100)\n",
    "    ax.legend(title=\"Labels\", bbox_to_anchor=(1.05, 1), loc='upper left')\n",
    "    plt.tight_layout()\n",
    "    plt.show()\n",
    "\n",
    "# === Run the function for both strain and species level ===\n",
    "plot_composition(df, target_rank=\"strain\", top_n=TOP_N)\n",
    "plot_composition(df, target_rank=\"species\", top_n=TOP_N)\n"
   ]
  },
  {
   "cell_type": "markdown",
   "id": "9d3174c2",
   "metadata": {},
   "source": [
    "### Step 13: Fetch Proteins from UniProtKB Based on Organism Rank Grouping (Alternative Strategy)\n",
    "\n",
    "In this alternative strategy, we construct a custom protein database by selectively retrieving sequences from **UniProtKB** based on organisms identified through the DIAMOND alignment. Instead of downloading entire proteomes (as in the other strategy), we query UniProtKB for proteins associated with specific organism names, using fine-grained control over how many proteins are collected.\n",
    "\n",
    "To ensure representativeness while maintaining control over database size, organisms are **grouped into rank tiers** based on their peptide hit frequency in the DIAMOND results:\n",
    "\n",
    "| Rank Group        | Organism Index Range | Description                       | Protein Limit per Organism |\n",
    "|-------------------|----------------------|------------------------------------|-----------------------------|\n",
    "| Top 5             | 1st to 5th           | Dominant organisms in the sample  | High limits (e.g. 200k–250k)|\n",
    "| Rank 6–10         | 6th to 10th          | Still highly represented          | Moderate limit (e.g. 100k)  |\n",
    "| Rank 11–20        | 11th to 20th         | Mid-abundance organisms           | Medium limit (e.g. 50k)     |\n",
    "| Rank 21–50        | 21st to 50th         | Lower-abundance but relevant      | Small limit (e.g. 20k)      |\n",
    "| Rank 51+          | 51st and onward      | Rare organisms                    | Minimal limit (e.g. 5k)     |\n",
    "\n",
    "For each rank tier, a **custom number of proteins** is fetched using UniProtKB’s REST API. The protein sequences are retrieved in chunks (maximum 500 per request) and appended into a FASTA file. This strategy allows us to build a balanced database that reflects the sample’s taxonomic profile while remaining computationally efficient.\n",
    "\n",
    "This markdown block applies to **all subsequent UniProtKB collection cells**, which differ only in the group of organisms they fetch and the assigned limits.\n"
   ]
  },
  {
   "cell_type": "code",
   "execution_count": null,
   "id": "3b310969",
   "metadata": {},
   "outputs": [
    {
     "name": "stdout",
     "output_type": "stream",
     "text": [
      "🚀 Starting UniProtKB protein fetch for top 5 organisms...\n",
      "\n",
      "🔍 Fetching proteins for: Nitrospira sp (available: 232037, fetching: 232037)\n"
     ]
    },
    {
     "name": "stderr",
     "output_type": "stream",
     "text": [
      "Nitrospira sp...: 100%|██████████| 465/465 [01:15<00:00,  6.15it/s]\n"
     ]
    },
    {
     "name": "stdout",
     "output_type": "stream",
     "text": [
      "✅ [1] Nitrospira sp: 232500 proteins fetched\n",
      "\n",
      "🔍 Fetching proteins for: Accumulibacter sp (available: 51356, fetching: 51356)\n"
     ]
    },
    {
     "name": "stderr",
     "output_type": "stream",
     "text": [
      "Accumulibacter sp...: 100%|██████████| 103/103 [00:15<00:00,  6.57it/s]\n"
     ]
    },
    {
     "name": "stdout",
     "output_type": "stream",
     "text": [
      "✅ [2] Accumulibacter sp: 51500 proteins fetched\n",
      "\n",
      "🔍 Fetching proteins for: Candidatus Competibacteraceae bacterium (available: 73152, fetching: 73152)\n"
     ]
    },
    {
     "name": "stderr",
     "output_type": "stream",
     "text": [
      "Candidatus Competibacteraceae bacterium...: 100%|██████████| 147/147 [00:20<00:00,  7.26it/s]\n"
     ]
    },
    {
     "name": "stdout",
     "output_type": "stream",
     "text": [
      "✅ [3] Candidatus Competibacteraceae bacterium: 73500 proteins fetched\n",
      "\n",
      "🔍 Fetching proteins for: Candidatus Accumulibacter phosphatis (available: 21571, fetching: 21571)\n"
     ]
    },
    {
     "name": "stderr",
     "output_type": "stream",
     "text": [
      "Candidatus Accumulibacter phosphatis...: 100%|██████████| 44/44 [00:05<00:00,  7.54it/s]\n"
     ]
    },
    {
     "name": "stdout",
     "output_type": "stream",
     "text": [
      "✅ [4] Candidatus Accumulibacter phosphatis: 22000 proteins fetched\n",
      "\n",
      "🔍 Fetching proteins for: Gammaproteobacteria bacterium (available: 3989693, fetching: 200000)\n"
     ]
    },
    {
     "name": "stderr",
     "output_type": "stream",
     "text": [
      "Gammaproteobacteria bacterium...: 100%|██████████| 400/400 [01:00<00:00,  6.64it/s]\n"
     ]
    },
    {
     "name": "stdout",
     "output_type": "stream",
     "text": [
      "✅ [5] Gammaproteobacteria bacterium: 200400 proteins fetched\n",
      "\n",
      "📊 === SUMMARY ===\n",
      "📁 Output FASTA: Diamond_alignments/session_diamond_align_2025-06-02_15-00-18\\from_diamond_top5_15_hits_custom_limits.fasta\n",
      "📦 Total protein sequences in database: 579900\n"
     ]
    }
   ],
   "source": [
    "import os\n",
    "import math\n",
    "import requests\n",
    "import pandas as pd\n",
    "from datetime import datetime\n",
    "from tqdm import tqdm\n",
    "\n",
    "# === 1. Configuration ===\n",
    "\n",
    "# Generate a unique timestamp-based output folder for this run\n",
    "session_time = datetime.now().strftime(\"%Y-%m-%d_%H-%M-%S\")\n",
    "output_dir = f\"Diamond_alignments/session_diamond_align_{session_time}\"\n",
    "os.makedirs(output_dir, exist_ok=True)\n",
    "\n",
    "# Define output FASTA file where downloaded protein sequences will be saved\n",
    "output_fasta_path = os.path.join(output_dir, \"from_diamond_organisms_top5_custom_limits.fasta\")\n",
    "\n",
    "# === 2. Load the top 5 most frequent organisms that have at least `min_hits` peptide matches ===\n",
    "\n",
    "df = pd.read_csv(\"Diamond_alignments/diamond_df_rank_annotated_fixed.csv\")\n",
    "organism_counts = df[\"organism\"].value_counts()\n",
    "\n",
    "# Filter organisms with enough confidence (min_hits threshold)\n",
    "filtered_organisms = organism_counts[organism_counts >= min_hits]\n",
    "\n",
    "# Select only the top 5 most frequent organisms\n",
    "top_5_organisms = filtered_organisms.head(5).index.tolist()\n",
    "\n",
    "# === 3. Define custom protein fetch limits per organism ===\n",
    "\n",
    "# Allows fine control over how many proteins to fetch for each organism\n",
    "custom_limits = {\n",
    "    0: 250000,  # Highest priority organism\n",
    "    1: 200000,\n",
    "    2: 200000,\n",
    "    3: 200000,\n",
    "    4: 200000   # Fifth-ranked organism\n",
    "}\n",
    "\n",
    "# === 4. Get total number of UniProt entries for an organism ===\n",
    "\n",
    "def get_total_results(organism):\n",
    "    \"\"\"\n",
    "    Queries UniProtKB to determine the total number of available proteins for a given organism.\n",
    "    Returns 0 if request fails.\n",
    "    \"\"\"\n",
    "    base_url = \"https://rest.uniprot.org/uniprotkb/search\"\n",
    "    params = {\n",
    "        \"query\": organism,\n",
    "        \"format\": \"json\",\n",
    "        \"size\": 1\n",
    "    }\n",
    "    try:\n",
    "        r = requests.get(base_url, params=params)\n",
    "        r.raise_for_status()\n",
    "        return int(r.headers.get(\"x-total-results\", 0))\n",
    "    except Exception as e:\n",
    "        print(f\"Failed to get total result count for {organism}: {e}\")\n",
    "        return 0\n",
    "\n",
    "# === 5. Download protein sequences from UniProtKB in chunks ===\n",
    "\n",
    "def fetch_uniprotkb_chunked_fasta(organism, limit):\n",
    "    \"\"\"\n",
    "    Downloads up to `limit` protein sequences in FASTA format for the specified organism from UniProtKB.\n",
    "    Uses 500-protein chunks due to API limits.\n",
    "    \"\"\"\n",
    "    base_url = \"https://rest.uniprot.org/uniprotkb/search\"\n",
    "    chunk_size = 500\n",
    "    headers = {\"Accept\": \"text/x-fasta\"}\n",
    "\n",
    "    total_available = get_total_results(organism)\n",
    "    if total_available == 0:\n",
    "        return \"\", 0\n",
    "\n",
    "    # Don't fetch more than what UniProt offers\n",
    "    limit = min(limit, total_available)\n",
    "    chunks = math.ceil(limit / chunk_size)\n",
    "\n",
    "    print(f\"\\n🔍 Fetching proteins for: {organism} (available: {total_available}, fetching: {limit})\")\n",
    "\n",
    "    fetched = \"\"\n",
    "    total_downloaded = 0\n",
    "\n",
    "    # Loop through API in chunks\n",
    "    for i in tqdm(range(chunks), desc=f\"{organism[:40]}...\", leave=True):\n",
    "        offset = i * chunk_size\n",
    "        params = {\n",
    "            \"query\": organism,\n",
    "            \"format\": \"fasta\",\n",
    "            \"size\": chunk_size,\n",
    "            \"offset\": offset,\n",
    "            \"compressed\": \"false\"\n",
    "        }\n",
    "        try:\n",
    "            r = requests.get(base_url, headers=headers, params=params)\n",
    "            r.raise_for_status()\n",
    "            chunk = r.text.strip()\n",
    "            if not chunk:\n",
    "                break\n",
    "            fetched += chunk + \"\\n\"\n",
    "            total_downloaded += chunk.count(\">\")\n",
    "        except Exception as e:\n",
    "            print(f\"Chunk {i+1} failed: {e}\")\n",
    "            break\n",
    "\n",
    "    return fetched, total_downloaded\n",
    "\n",
    "# === 6. Fetch and collect proteins for the top 5 organisms ===\n",
    "\n",
    "all_entries = []\n",
    "total_downloaded = 0\n",
    "\n",
    "print(\"Starting UniProtKB protein fetch for top 5 organisms...\")\n",
    "\n",
    "for idx, organism in enumerate(top_5_organisms):\n",
    "    limit = custom_limits.get(idx, 50000)  # Use default if not specified\n",
    "    fasta, downloaded = fetch_uniprotkb_chunked_fasta(organism, limit)\n",
    "\n",
    "    if fasta:\n",
    "        all_entries.append(fasta.strip())\n",
    "        total_downloaded += downloaded\n",
    "        print(f\"[{idx+1}] {organism}: {downloaded} proteins fetched\")\n",
    "    else:\n",
    "        print(f\"[{idx+1}] No proteins fetched for {organism}\")\n",
    "\n",
    "# === 7. Write combined results to a FASTA file ===\n",
    "\n",
    "with open(output_fasta_path, \"w\") as f_out:\n",
    "    f_out.write(\"\\n\".join(all_entries))\n",
    "\n",
    "# === 8. Summary printout ===\n",
    "\n",
    "print(\"\\n=== SUMMARY ===\")\n",
    "print(f\"Output FASTA: {output_fasta_path}\")\n",
    "print(f\"Total protein sequences in database: {total_downloaded}\")\n"
   ]
  },
  {
   "cell_type": "code",
   "execution_count": null,
   "id": "e86cab1b",
   "metadata": {},
   "outputs": [
    {
     "name": "stdout",
     "output_type": "stream",
     "text": [
      "🚀 Starting UniProtKB protein fetch for organisms ranked 6-20...\n",
      "\n",
      "🔍 Fetching proteins for: uncultured bacterium (available: 941662, fetching: 100000)\n"
     ]
    },
    {
     "name": "stderr",
     "output_type": "stream",
     "text": [
      "uncultured bacterium...: 100%|██████████| 200/200 [00:24<00:00,  8.04it/s]\n"
     ]
    },
    {
     "name": "stdout",
     "output_type": "stream",
     "text": [
      "✅ [6] uncultured bacterium: 100000 proteins fetched\n",
      "\n",
      "🔍 Fetching proteins for: Nitrospirota bacterium (available: 407460, fetching: 100000)\n"
     ]
    },
    {
     "name": "stderr",
     "output_type": "stream",
     "text": [
      "Nitrospirota bacterium...: 100%|██████████| 200/200 [00:27<00:00,  7.22it/s]\n"
     ]
    },
    {
     "name": "stdout",
     "output_type": "stream",
     "text": [
      "✅ [7] Nitrospirota bacterium: 100000 proteins fetched\n",
      "\n",
      "🔍 Fetching proteins for: Betaproteobacteria bacterium (available: 1936441, fetching: 100000)\n"
     ]
    },
    {
     "name": "stderr",
     "output_type": "stream",
     "text": [
      "Betaproteobacteria bacterium...: 100%|██████████| 200/200 [00:27<00:00,  7.30it/s]\n"
     ]
    },
    {
     "name": "stdout",
     "output_type": "stream",
     "text": [
      "✅ [8] Betaproteobacteria bacterium: 100000 proteins fetched\n",
      "\n",
      "🔍 Fetching proteins for: Accumulibacter regalis (available: 8473, fetching: 8473)\n"
     ]
    },
    {
     "name": "stderr",
     "output_type": "stream",
     "text": [
      "Accumulibacter regalis...: 100%|██████████| 17/17 [00:02<00:00,  7.42it/s]\n"
     ]
    },
    {
     "name": "stdout",
     "output_type": "stream",
     "text": [
      "✅ [9] Accumulibacter regalis: 8500 proteins fetched\n",
      "\n",
      "🔍 Fetching proteins for: Rhodocyclaceae bacterium (available: 146202, fetching: 100000)\n"
     ]
    },
    {
     "name": "stderr",
     "output_type": "stream",
     "text": [
      "Rhodocyclaceae bacterium...: 100%|██████████| 200/200 [00:28<00:00,  7.12it/s]\n"
     ]
    },
    {
     "name": "stdout",
     "output_type": "stream",
     "text": [
      "✅ [10] Rhodocyclaceae bacterium: 100000 proteins fetched\n",
      "\n",
      "🔍 Fetching proteins for: Chloroflexota bacterium (available: 3522822, fetching: 50000)\n"
     ]
    },
    {
     "name": "stderr",
     "output_type": "stream",
     "text": [
      "Chloroflexota bacterium...: 100%|██████████| 100/100 [00:13<00:00,  7.34it/s]\n"
     ]
    },
    {
     "name": "stdout",
     "output_type": "stream",
     "text": [
      "✅ [11] Chloroflexota bacterium: 50000 proteins fetched\n",
      "\n",
      "🔍 Fetching proteins for: Pseudomonadota bacterium (available: 10865642, fetching: 50000)\n"
     ]
    },
    {
     "name": "stderr",
     "output_type": "stream",
     "text": [
      "Pseudomonadota bacterium...: 100%|██████████| 100/100 [00:14<00:00,  7.13it/s]\n"
     ]
    },
    {
     "name": "stdout",
     "output_type": "stream",
     "text": [
      "✅ [12] Pseudomonadota bacterium: 50100 proteins fetched\n",
      "\n",
      "🔍 Fetching proteins for: Acidobacteriota bacterium (available: 1912444, fetching: 50000)\n"
     ]
    },
    {
     "name": "stderr",
     "output_type": "stream",
     "text": [
      "Acidobacteriota bacterium...: 100%|██████████| 100/100 [03:15<00:00,  1.95s/it]\n"
     ]
    },
    {
     "name": "stdout",
     "output_type": "stream",
     "text": [
      "✅ [13] Acidobacteriota bacterium: 50000 proteins fetched\n",
      "\n",
      "🔍 Fetching proteins for: Candidatus Accumulibacter appositus (available: 4265, fetching: 4265)\n"
     ]
    },
    {
     "name": "stderr",
     "output_type": "stream",
     "text": [
      "Candidatus Accumulibacter appositus...: 100%|██████████| 9/9 [00:11<00:00,  1.31s/it]\n"
     ]
    },
    {
     "name": "stdout",
     "output_type": "stream",
     "text": [
      "✅ [14] Candidatus Accumulibacter appositus: 4500 proteins fetched\n",
      "\n",
      "🔍 Fetching proteins for: Anaerolineae bacterium (available: 773361, fetching: 50000)\n"
     ]
    },
    {
     "name": "stderr",
     "output_type": "stream",
     "text": [
      "Anaerolineae bacterium...: 100%|██████████| 100/100 [02:47<00:00,  1.67s/it]\n"
     ]
    },
    {
     "name": "stdout",
     "output_type": "stream",
     "text": [
      "✅ [15] Anaerolineae bacterium: 50000 proteins fetched\n",
      "\n",
      "🔍 Fetching proteins for: Anaerolineales bacterium (available: 342982, fetching: 50000)\n"
     ]
    },
    {
     "name": "stderr",
     "output_type": "stream",
     "text": [
      "Anaerolineales bacterium...: 100%|██████████| 100/100 [02:30<00:00,  1.50s/it]\n"
     ]
    },
    {
     "name": "stdout",
     "output_type": "stream",
     "text": [
      "✅ [16] Anaerolineales bacterium: 50000 proteins fetched\n",
      "\n",
      "🔍 Fetching proteins for: Deltaproteobacteria bacterium (available: 1539891, fetching: 50000)\n"
     ]
    },
    {
     "name": "stderr",
     "output_type": "stream",
     "text": [
      "Deltaproteobacteria bacterium...: 100%|██████████| 100/100 [02:57<00:00,  1.78s/it]\n"
     ]
    },
    {
     "name": "stdout",
     "output_type": "stream",
     "text": [
      "✅ [17] Deltaproteobacteria bacterium: 50000 proteins fetched\n",
      "\n",
      "🔍 Fetching proteins for: Alphaproteobacteria bacterium (available: 4245541, fetching: 50000)\n"
     ]
    },
    {
     "name": "stderr",
     "output_type": "stream",
     "text": [
      "Alphaproteobacteria bacterium...: 100%|██████████| 100/100 [03:45<00:00,  2.26s/it]\n"
     ]
    },
    {
     "name": "stdout",
     "output_type": "stream",
     "text": [
      "✅ [18] Alphaproteobacteria bacterium: 50000 proteins fetched\n",
      "\n",
      "🔍 Fetching proteins for: Candidatus Accumulibacter aalborgensis (available: 4556, fetching: 4556)\n"
     ]
    },
    {
     "name": "stderr",
     "output_type": "stream",
     "text": [
      "Candidatus Accumulibacter aalborgensis...: 100%|██████████| 10/10 [00:13<00:00,  1.33s/it]\n"
     ]
    },
    {
     "name": "stdout",
     "output_type": "stream",
     "text": [
      "✅ [19] Candidatus Accumulibacter aalborgensis: 5000 proteins fetched\n",
      "\n",
      "🔍 Fetching proteins for: Paracoccaceae bacterium (available: 527692, fetching: 50000)\n"
     ]
    },
    {
     "name": "stderr",
     "output_type": "stream",
     "text": [
      "Paracoccaceae bacterium...: 100%|██████████| 100/100 [02:41<00:00,  1.62s/it]\n"
     ]
    },
    {
     "name": "stdout",
     "output_type": "stream",
     "text": [
      "✅ [20] Paracoccaceae bacterium: 50000 proteins fetched\n",
      "\n",
      "📊 === SUMMARY ===\n",
      "📁 Output FASTA: Diamond_alignments/session_diamond_align_2025-06-02_15-00-18\\from_diamond_organisms_6_to_20_splitlimits.fasta\n",
      "📦 Total protein sequences in database: 818100\n"
     ]
    }
   ],
   "source": [
    "import os\n",
    "import math\n",
    "import requests\n",
    "import pandas as pd\n",
    "from datetime import datetime\n",
    "from tqdm import tqdm\n",
    "\n",
    "# === 1. Configuration ===\n",
    "limit_6_to_10 = 100000  # Define a fixed upper limit of proteins to collect for each organism ranked 6th to 10th\n",
    "\n",
    "# Reuse the same session timestamp to store all output files consistently in the same directory\n",
    "output_dir = f\"Diamond_alignments/session_diamond_align_{session_time}\"\n",
    "os.makedirs(output_dir, exist_ok=True)\n",
    "\n",
    "# Set the output file path for the FASTA file that will store the fetched protein sequences\n",
    "output_fasta_path = os.path.join(output_dir, f\"from_diamond_organisms_6_to_10.fasta\")\n",
    "\n",
    "# === 2. Load organisms ranked 6–10 with at least `min_hits` hits ===\n",
    "# Load the annotated DIAMOND result file that includes organism names and their taxonomic ranks\n",
    "df = pd.read_csv(\"Diamond_alignments/diamond_df_rank_annotated_fixed.csv\")\n",
    "\n",
    "# Count how many peptide hits were assigned to each organism\n",
    "organism_counts = df[\"organism\"].value_counts()\n",
    "\n",
    "# Filter organisms to retain only those that had at least `min_hits` peptide hits\n",
    "filtered_organisms = organism_counts[organism_counts >= min_hits]\n",
    "\n",
    "# Select the 6th to 10th most frequent organisms (Python is 0-indexed, so [5:10] covers ranks 6–10)\n",
    "organisms_6_10 = filtered_organisms[5:10].index.tolist()\n",
    "\n",
    "# === 3. Fixed protein limit function ===\n",
    "# This function is here for compatibility with the structure of earlier code blocks,\n",
    "# in case limits need to be dynamic later. For now, it just returns a fixed value.\n",
    "def get_protein_limit(_):\n",
    "    return limit_6_to_10\n",
    "\n",
    "# === 4. Get total number of UniProt results for an organism ===\n",
    "# This helper function queries UniProtKB to determine how many protein entries are available for a given organism\n",
    "def get_total_results(organism):\n",
    "    base_url = \"https://rest.uniprot.org/uniprotkb/search\"\n",
    "    params = {\n",
    "        \"query\": organism,       # Free-text query on organism name\n",
    "        \"format\": \"json\",\n",
    "        \"size\": 1                # We only need the header to extract the total count\n",
    "    }\n",
    "    try:\n",
    "        r = requests.get(base_url, params=params)\n",
    "        r.raise_for_status()\n",
    "        return int(r.headers.get(\"x-total-results\", 0))  # Total number of results returned in header\n",
    "    except Exception as e:\n",
    "        print(f\"❌ Failed to get total result count for {organism}: {e}\")\n",
    "        return 0\n",
    "\n",
    "# === 5. Fetch protein sequences in chunks ===\n",
    "# This function retrieves protein sequences in FASTA format from UniProt in paginated chunks\n",
    "def fetch_uniprotkb_chunked_fasta(organism, limit):\n",
    "    base_url = \"https://rest.uniprot.org/uniprotkb/search\"\n",
    "    chunk_size = 500  # Max allowed per UniProt API\n",
    "    headers = {\"Accept\": \"text/x-fasta\"}\n",
    "\n",
    "    # Determine how many results are available for this organism\n",
    "    total_available = get_total_results(organism)\n",
    "    if total_available == 0:\n",
    "        return \"\", 0\n",
    "\n",
    "    # Limit the number of downloads to either the user-defined limit or the total available proteins\n",
    "    limit = min(limit, total_available)\n",
    "    chunks = math.ceil(limit / chunk_size)  # Determine how many chunks we need\n",
    "\n",
    "    print(f\"\\n🔍 Fetching proteins for: {organism} (available: {total_available}, fetching: {limit})\")\n",
    "\n",
    "    fetched = \"\"           # String to hold all concatenated FASTA results\n",
    "    total_downloaded = 0   # Count how many protein sequences were downloaded\n",
    "\n",
    "    for i in tqdm(range(chunks), desc=f\"{organism[:40]}...\", leave=True):\n",
    "        offset = i * chunk_size\n",
    "        params = {\n",
    "            \"query\": organism,\n",
    "            \"format\": \"fasta\",\n",
    "            \"size\": chunk_size,\n",
    "            \"offset\": offset,\n",
    "            \"compressed\": \"false\"\n",
    "        }\n",
    "        try:\n",
    "            r = requests.get(base_url, headers=headers, params=params)\n",
    "            r.raise_for_status()\n",
    "            chunk = r.text.strip()\n",
    "            if not chunk:\n",
    "                break\n",
    "            fetched += chunk + \"\\n\"\n",
    "            total_downloaded += chunk.count(\">\")  # Count how many protein entries were retrieved\n",
    "        except Exception as e:\n",
    "            print(f\"❌ Chunk {i+1} failed: {e}\")\n",
    "            break\n",
    "\n",
    "    return fetched, total_downloaded\n",
    "\n",
    "# === 6. Fetch and collect results ===\n",
    "all_entries = []        # List to hold FASTA strings for all organisms\n",
    "total_downloaded = 0    # Global counter for total number of sequences fetched\n",
    "\n",
    "print(\"🚀 Starting UniProtKB protein fetch for organisms ranked 6-10...\")\n",
    "\n",
    "# Loop through the organisms ranked 6 to 10\n",
    "for idx, organism in enumerate(organisms_6_10):\n",
    "    limit = get_protein_limit(idx)  # Currently fixed for all (100k)\n",
    "    fasta, downloaded = fetch_uniprotkb_chunked_fasta(organism, limit)\n",
    "\n",
    "    if fasta:\n",
    "        all_entries.append(fasta.strip())\n",
    "        total_downloaded += downloaded\n",
    "        print(f\"✅ [{idx+6}] {organism}: {downloaded} proteins fetched\")\n",
    "    else:\n",
    "        print(f\"⚠️ [{idx+6}] No proteins fetched for {organism}\")\n",
    "\n",
    "# === 7. Save results ===\n",
    "# Write all collected FASTA entries into one combined file for this tier\n",
    "with open(output_fasta_path, \"w\") as f_out:\n",
    "    f_out.write(\"\\n\".join(all_entries))\n",
    "\n",
    "# === 8. Summary ===\n",
    "print(\"\\n📊 === SUMMARY ===\")\n",
    "print(f\"📁 Output FASTA: {output_fasta_path}\")\n",
    "print(f\"📦 Total protein sequences in database: {total_downloaded}\")\n"
   ]
  },
  {
   "cell_type": "code",
   "execution_count": null,
   "id": "17aa62e1",
   "metadata": {},
   "outputs": [],
   "source": [
    "import os\n",
    "import math\n",
    "import requests\n",
    "import pandas as pd\n",
    "from datetime import datetime\n",
    "from tqdm import tqdm\n",
    "\n",
    "# === 1. Configuration ===\n",
    "# Define how many proteins you want to retrieve per organism in this rank group (11–20)\n",
    "limit_11_to_20 = 50000  # Can be tuned depending on database size, bandwidth, etc.\n",
    "\n",
    "# Use the same timestamped session folder as previous downloads to keep things organized\n",
    "output_dir = f\"Diamond_alignments/session_diamond_align_{session_time}\"\n",
    "os.makedirs(output_dir, exist_ok=True)\n",
    "\n",
    "# Define where to store the combined FASTA output for this rank group\n",
    "output_fasta_path = os.path.join(output_dir, f\"from_diamond_organisms_11_to_20.fasta\")\n",
    "\n",
    "# === 2. Load organisms ranked 11–20 with at least `min_hits` hits ===\n",
    "# Load the annotated DIAMOND results from earlier in the pipeline\n",
    "df = pd.read_csv(\"Diamond_alignments/diamond_df_rank_annotated_fixed.csv\")\n",
    "\n",
    "# Count number of hits (peptides matched) per organism\n",
    "organism_counts = df[\"organism\"].value_counts()\n",
    "\n",
    "# Only retain organisms with sufficient evidence (≥ min_hits)\n",
    "filtered_organisms = organism_counts[organism_counts >= min_hits]\n",
    "\n",
    "# Select organisms ranked 11th through 20th (index 10 to 19 inclusive)\n",
    "organisms_11_20 = filtered_organisms[10:20].index.tolist()\n",
    "\n",
    "# === 3. Fixed protein limit function for this group\n",
    "# This abstraction allows future flexibility (e.g. dynamic per-organism limits if needed)\n",
    "def get_protein_limit(_):\n",
    "    return limit_11_to_20\n",
    "\n",
    "# === 4. Helper function to get total number of UniProtKB protein entries for a given organism\n",
    "# This helps avoid requesting more than what is available from UniProt\n",
    "def get_total_results(organism):\n",
    "    base_url = \"https://rest.uniprot.org/uniprotkb/search\"\n",
    "    params = {\n",
    "        \"query\": organism,\n",
    "        \"format\": \"json\",\n",
    "        \"size\": 1  # We only need the header metadata for total count\n",
    "    }\n",
    "    try:\n",
    "        r = requests.get(base_url, params=params)\n",
    "        r.raise_for_status()\n",
    "        return int(r.headers.get(\"x-total-results\", 0))  # Extract total result count from response header\n",
    "    except Exception as e:\n",
    "        print(f\"❌ Failed to get total result count for {organism}: {e}\")\n",
    "        return 0\n",
    "\n",
    "# === 5. Function to download protein sequences from UniProt in FASTA format using pagination\n",
    "# Retrieves sequences in chunks to avoid server overload and manage large downloads\n",
    "def fetch_uniprotkb_chunked_fasta(organism, limit):\n",
    "    base_url = \"https://rest.uniprot.org/uniprotkb/search\"\n",
    "    chunk_size = 500  # UniProt maximum per request\n",
    "    headers = {\"Accept\": \"text/x-fasta\"}\n",
    "\n",
    "    # Check how many entries are actually available for this organism\n",
    "    total_available = get_total_results(organism)\n",
    "    if total_available == 0:\n",
    "        return \"\", 0\n",
    "\n",
    "    # Adjust the requested limit to the number of available proteins if necessary\n",
    "    limit = min(limit, total_available)\n",
    "    chunks = math.ceil(limit / chunk_size)  # Determine how many requests we need\n",
    "\n",
    "    print(f\"\\n🔍 Fetching proteins for: {organism} (available: {total_available}, fetching: {limit})\")\n",
    "\n",
    "    fetched = \"\"           # Will hold all FASTA content\n",
    "    total_downloaded = 0   # Counter for number of protein sequences downloaded\n",
    "\n",
    "    # Loop through and download the data in chunks\n",
    "    for i in tqdm(range(chunks), desc=f\"{organism[:40]}...\", leave=True):\n",
    "        offset = i * chunk_size\n",
    "        params = {\n",
    "            \"query\": organism,\n",
    "            \"format\": \"fasta\",\n",
    "            \"size\": chunk_size,\n",
    "            \"offset\": offset,\n",
    "            \"compressed\": \"false\"\n",
    "        }\n",
    "        try:\n",
    "            r = requests.get(base_url, headers=headers, params=params)\n",
    "            r.raise_for_status()\n",
    "            chunk = r.text.strip()\n",
    "            if not chunk:\n",
    "                break  # Exit early if UniProt returns no content\n",
    "            fetched += chunk + \"\\n\"\n",
    "            total_downloaded += chunk.count(\">\")  # Count the number of sequences by '>' headers\n",
    "        except Exception as e:\n",
    "            print(f\"❌ Chunk {i+1} failed: {e}\")\n",
    "            break\n",
    "\n",
    "    return fetched, total_downloaded\n",
    "\n",
    "# === 6. Run fetch operation and collect all results ===\n",
    "all_entries = []        # To store all FASTA content per organism\n",
    "total_downloaded = 0    # Counter across all organisms in this rank group\n",
    "\n",
    "print(\"🚀 Starting UniProtKB protein fetch for organisms ranked 11–20...\")\n",
    "\n",
    "# Loop through organisms 11th to 20th in order\n",
    "for idx, organism in enumerate(organisms_11_20):\n",
    "    limit = get_protein_limit(idx)\n",
    "    fasta, downloaded = fetch_uniprotkb_chunked_fasta(organism, limit)\n",
    "\n",
    "    if fasta:\n",
    "        all_entries.append(fasta.strip())\n",
    "        total_downloaded += downloaded\n",
    "        print(f\"✅ [{idx+11}] {organism}: {downloaded} proteins fetched\")\n",
    "    else:\n",
    "        print(f\"⚠️ [{idx+11}] No proteins fetched for {organism}\")\n",
    "\n",
    "# === 7. Save combined FASTA results ===\n",
    "# Write all downloaded entries to a single file for this group\n",
    "with open(output_fasta_path, \"w\") as f_out:\n",
    "    f_out.write(\"\\n\".join(all_entries))\n",
    "\n",
    "# === 8. Final summary output ===\n",
    "print(\"\\n📊 === SUMMARY ===\")\n",
    "print(f\"📁 Output FASTA: {output_fasta_path}\")\n",
    "print(f\"📦 Total protein sequences in database: {total_downloaded}\")\n"
   ]
  },
  {
   "cell_type": "code",
   "execution_count": null,
   "id": "acf8cb05",
   "metadata": {},
   "outputs": [
    {
     "name": "stdout",
     "output_type": "stream",
     "text": [
      "🚀 Starting UniProtKB protein fetch for organisms ranked 21–50...\n",
      "\n",
      "🔍 Fetching proteins for: Candidatus Accumulibacter cognatus (available: 4322, fetching: 4322)\n"
     ]
    },
    {
     "name": "stderr",
     "output_type": "stream",
     "text": [
      "Candidatus Accumulibacter cognatus...: 100%|██████████| 9/9 [00:12<00:00,  1.40s/it]\n"
     ]
    },
    {
     "name": "stdout",
     "output_type": "stream",
     "text": [
      "✅ [21] Candidatus Accumulibacter cognatus: 4500 proteins fetched\n",
      "\n",
      "🔍 Fetching proteins for: Burkholderiales bacterium (available: 910548, fetching: 30000)\n"
     ]
    },
    {
     "name": "stderr",
     "output_type": "stream",
     "text": [
      "Burkholderiales bacterium...: 100%|██████████| 60/60 [01:48<00:00,  1.81s/it]\n"
     ]
    },
    {
     "name": "stdout",
     "output_type": "stream",
     "text": [
      "✅ [22] Burkholderiales bacterium: 30000 proteins fetched\n",
      "\n",
      "🔍 Fetching proteins for: uncultured microorganism (available: 17209, fetching: 17209)\n"
     ]
    },
    {
     "name": "stderr",
     "output_type": "stream",
     "text": [
      "uncultured microorganism...: 100%|██████████| 35/35 [00:40<00:00,  1.14s/it]\n"
     ]
    },
    {
     "name": "stdout",
     "output_type": "stream",
     "text": [
      "✅ [23] uncultured microorganism: 17500 proteins fetched\n",
      "\n",
      "🔍 Fetching proteins for: Nitrosomonas oligotropha (available: 8255, fetching: 8255)\n"
     ]
    },
    {
     "name": "stderr",
     "output_type": "stream",
     "text": [
      "Nitrosomonas oligotropha...: 100%|██████████| 17/17 [00:23<00:00,  1.36s/it]\n"
     ]
    },
    {
     "name": "stdout",
     "output_type": "stream",
     "text": [
      "✅ [24] Nitrosomonas oligotropha: 8500 proteins fetched\n",
      "\n",
      "🔍 Fetching proteins for: Candidatus Accumulibacter proximus (available: 4538, fetching: 4538)\n"
     ]
    },
    {
     "name": "stderr",
     "output_type": "stream",
     "text": [
      "Candidatus Accumulibacter proximus...: 100%|██████████| 10/10 [00:14<00:00,  1.49s/it]\n"
     ]
    },
    {
     "name": "stdout",
     "output_type": "stream",
     "text": [
      "✅ [25] Candidatus Accumulibacter proximus: 5000 proteins fetched\n",
      "\n",
      "🔍 Fetching proteins for: Dechloromonas sp (available: 20280, fetching: 20280)\n"
     ]
    },
    {
     "name": "stderr",
     "output_type": "stream",
     "text": [
      "Dechloromonas sp...: 100%|██████████| 41/41 [00:51<00:00,  1.26s/it]\n"
     ]
    },
    {
     "name": "stdout",
     "output_type": "stream",
     "text": [
      "✅ [26] Dechloromonas sp: 20500 proteins fetched\n",
      "\n",
      "🔍 Fetching proteins for: Burkholderiaceae bacterium (available: 245560, fetching: 30000)\n"
     ]
    },
    {
     "name": "stderr",
     "output_type": "stream",
     "text": [
      "Burkholderiaceae bacterium...: 100%|██████████| 60/60 [01:36<00:00,  1.60s/it]\n"
     ]
    },
    {
     "name": "stdout",
     "output_type": "stream",
     "text": [
      "✅ [27] Burkholderiaceae bacterium: 30000 proteins fetched\n",
      "\n",
      "🔍 Fetching proteins for: Candidatus Dechloromonas phosphorivorans (available: 7439, fetching: 7439)\n"
     ]
    },
    {
     "name": "stderr",
     "output_type": "stream",
     "text": [
      "Candidatus Dechloromonas phosphorivorans...: 100%|██████████| 15/15 [00:21<00:00,  1.42s/it]\n"
     ]
    },
    {
     "name": "stdout",
     "output_type": "stream",
     "text": [
      "✅ [28] Candidatus Dechloromonas phosphorivorans: 7500 proteins fetched\n",
      "\n",
      "🔍 Fetching proteins for: Candidatus Accumulibacter affinis (available: 4127, fetching: 4127)\n"
     ]
    },
    {
     "name": "stderr",
     "output_type": "stream",
     "text": [
      "Candidatus Accumulibacter affinis...: 100%|██████████| 9/9 [00:12<00:00,  1.40s/it]\n"
     ]
    },
    {
     "name": "stdout",
     "output_type": "stream",
     "text": [
      "✅ [29] Candidatus Accumulibacter affinis: 4500 proteins fetched\n",
      "\n",
      "🔍 Fetching proteins for: Candidatus Accumulibacter sp. BA-94 (available: 3127, fetching: 3127)\n"
     ]
    },
    {
     "name": "stderr",
     "output_type": "stream",
     "text": [
      "Candidatus Accumulibacter sp. BA-94...: 100%|██████████| 7/7 [00:10<00:00,  1.48s/it]\n"
     ]
    },
    {
     "name": "stdout",
     "output_type": "stream",
     "text": [
      "✅ [30] Candidatus Accumulibacter sp. BA-94: 3500 proteins fetched\n",
      "\n",
      "🔍 Fetching proteins for: Verrucomicrobiota bacterium (available: 1472865, fetching: 20000)\n"
     ]
    },
    {
     "name": "stderr",
     "output_type": "stream",
     "text": [
      "Verrucomicrobiota bacterium...: 100%|██████████| 40/40 [01:14<00:00,  1.87s/it]\n"
     ]
    },
    {
     "name": "stdout",
     "output_type": "stream",
     "text": [
      "✅ [31] Verrucomicrobiota bacterium: 20000 proteins fetched\n",
      "\n",
      "🔍 Fetching proteins for: Candidatus Accumulibacter vicinus (available: 4354, fetching: 4354)\n"
     ]
    },
    {
     "name": "stderr",
     "output_type": "stream",
     "text": [
      "Candidatus Accumulibacter vicinus...: 100%|██████████| 9/9 [00:12<00:00,  1.41s/it]\n"
     ]
    },
    {
     "name": "stdout",
     "output_type": "stream",
     "text": [
      "✅ [32] Candidatus Accumulibacter vicinus: 4500 proteins fetched\n",
      "\n",
      "🔍 Fetching proteins for: Nitrospira sp. ND1 (available: 4671, fetching: 4671)\n"
     ]
    },
    {
     "name": "stderr",
     "output_type": "stream",
     "text": [
      "Nitrospira sp. ND1...: 100%|██████████| 10/10 [00:12<00:00,  1.30s/it]\n"
     ]
    },
    {
     "name": "stdout",
     "output_type": "stream",
     "text": [
      "✅ [33] Nitrospira sp. ND1: 5000 proteins fetched\n",
      "\n",
      "🔍 Fetching proteins for: Lysobacteraceae bacterium (available: 101762, fetching: 20000)\n"
     ]
    },
    {
     "name": "stderr",
     "output_type": "stream",
     "text": [
      "Lysobacteraceae bacterium...: 100%|██████████| 40/40 [00:58<00:00,  1.46s/it]\n"
     ]
    },
    {
     "name": "stdout",
     "output_type": "stream",
     "text": [
      "✅ [34] Lysobacteraceae bacterium: 20000 proteins fetched\n",
      "\n",
      "🔍 Fetching proteins for: Nitrosomonas sp (available: 55671, fetching: 20000)\n"
     ]
    },
    {
     "name": "stderr",
     "output_type": "stream",
     "text": [
      "Nitrosomonas sp...: 100%|██████████| 40/40 [00:54<00:00,  1.36s/it]\n"
     ]
    },
    {
     "name": "stdout",
     "output_type": "stream",
     "text": [
      "✅ [35] Nitrosomonas sp: 20000 proteins fetched\n",
      "\n",
      "🔍 Fetching proteins for: Nitrospira defluvii (available: 4269, fetching: 4269)\n"
     ]
    },
    {
     "name": "stderr",
     "output_type": "stream",
     "text": [
      "Nitrospira defluvii...: 100%|██████████| 9/9 [00:12<00:00,  1.34s/it]\n"
     ]
    },
    {
     "name": "stdout",
     "output_type": "stream",
     "text": [
      "✅ [36] Nitrospira defluvii: 4500 proteins fetched\n",
      "\n",
      "🔍 Fetching proteins for: bacterium (available: 44506293, fetching: 20000)\n"
     ]
    },
    {
     "name": "stderr",
     "output_type": "stream",
     "text": [
      "bacterium...: 100%|██████████| 40/40 [02:53<00:00,  4.33s/it]\n"
     ]
    },
    {
     "name": "stdout",
     "output_type": "stream",
     "text": [
      "✅ [37] bacterium: 20000 proteins fetched\n",
      "\n",
      "🔍 Fetching proteins for: Actinomycetes bacterium (available: 1769078, fetching: 20000)\n"
     ]
    },
    {
     "name": "stderr",
     "output_type": "stream",
     "text": [
      "Actinomycetes bacterium...: 100%|██████████| 40/40 [01:18<00:00,  1.96s/it]\n"
     ]
    },
    {
     "name": "stdout",
     "output_type": "stream",
     "text": [
      "✅ [38] Actinomycetes bacterium: 20000 proteins fetched\n",
      "\n",
      "🔍 Fetching proteins for: Bacteroidota bacterium (available: 4875014, fetching: 20000)\n"
     ]
    },
    {
     "name": "stderr",
     "output_type": "stream",
     "text": [
      "Bacteroidota bacterium...: 100%|██████████| 40/40 [01:27<00:00,  2.19s/it]\n"
     ]
    },
    {
     "name": "stdout",
     "output_type": "stream",
     "text": [
      "✅ [39] Bacteroidota bacterium: 20000 proteins fetched\n",
      "\n",
      "🔍 Fetching proteins for: Propionivibrio sp (available: 6461, fetching: 6461)\n"
     ]
    },
    {
     "name": "stderr",
     "output_type": "stream",
     "text": [
      "Propionivibrio sp...: 100%|██████████| 13/13 [00:16<00:00,  1.29s/it]\n"
     ]
    },
    {
     "name": "stdout",
     "output_type": "stream",
     "text": [
      "✅ [40] Propionivibrio sp: 6500 proteins fetched\n",
      "\n",
      "🔍 Fetching proteins for: marine metagenome (available: 1423689, fetching: 10000)\n"
     ]
    },
    {
     "name": "stderr",
     "output_type": "stream",
     "text": [
      "marine metagenome...: 100%|██████████| 20/20 [00:32<00:00,  1.63s/it]\n"
     ]
    },
    {
     "name": "stdout",
     "output_type": "stream",
     "text": [
      "✅ [41] marine metagenome: 10000 proteins fetched\n",
      "\n",
      "🔍 Fetching proteins for: Candidatus Accumulibacter adjunctus (available: 3906, fetching: 3906)\n"
     ]
    },
    {
     "name": "stderr",
     "output_type": "stream",
     "text": [
      "Candidatus Accumulibacter adjunctus...: 100%|██████████| 8/8 [00:10<00:00,  1.34s/it]\n"
     ]
    },
    {
     "name": "stdout",
     "output_type": "stream",
     "text": [
      "✅ [42] Candidatus Accumulibacter adjunctus: 4000 proteins fetched\n",
      "\n",
      "🔍 Fetching proteins for: Nitrosomonas ureae (available: 15272, fetching: 10000)\n"
     ]
    },
    {
     "name": "stderr",
     "output_type": "stream",
     "text": [
      "Nitrosomonas ureae...: 100%|██████████| 20/20 [00:28<00:00,  1.40s/it]\n"
     ]
    },
    {
     "name": "stdout",
     "output_type": "stream",
     "text": [
      "✅ [43] Nitrosomonas ureae: 10000 proteins fetched\n",
      "\n",
      "🔍 Fetching proteins for: Homo sapiens (Human) (available: 1670200, fetching: 10000)\n"
     ]
    },
    {
     "name": "stderr",
     "output_type": "stream",
     "text": [
      "Homo sapiens (Human)...: 100%|██████████| 20/20 [00:47<00:00,  2.36s/it]\n"
     ]
    },
    {
     "name": "stdout",
     "output_type": "stream",
     "text": [
      "✅ [44] Homo sapiens (Human): 10020 proteins fetched\n",
      "\n",
      "🔍 Fetching proteins for: Caldilineaceae bacterium (available: 146316, fetching: 10000)\n"
     ]
    },
    {
     "name": "stderr",
     "output_type": "stream",
     "text": [
      "Caldilineaceae bacterium...: 100%|██████████| 20/20 [00:26<00:00,  1.34s/it]\n"
     ]
    },
    {
     "name": "stdout",
     "output_type": "stream",
     "text": [
      "✅ [45] Caldilineaceae bacterium: 10000 proteins fetched\n",
      "\n",
      "🔍 Fetching proteins for: Azonexus sp (available: 9503, fetching: 9503)\n"
     ]
    },
    {
     "name": "stderr",
     "output_type": "stream",
     "text": [
      "Azonexus sp...: 100%|██████████| 20/20 [00:23<00:00,  1.19s/it]\n"
     ]
    },
    {
     "name": "stdout",
     "output_type": "stream",
     "text": [
      "✅ [46] Azonexus sp: 10000 proteins fetched\n",
      "\n",
      "🔍 Fetching proteins for: Planctomycetota bacterium (available: 2194054, fetching: 10000)\n"
     ]
    },
    {
     "name": "stderr",
     "output_type": "stream",
     "text": [
      "Planctomycetota bacterium...: 100%|██████████| 20/20 [00:38<00:00,  1.94s/it]\n"
     ]
    },
    {
     "name": "stdout",
     "output_type": "stream",
     "text": [
      "✅ [47] Planctomycetota bacterium: 10000 proteins fetched\n",
      "\n",
      "🔍 Fetching proteins for: Bacillota bacterium (Firmicutes bacterium) (available: 644160, fetching: 10000)\n"
     ]
    },
    {
     "name": "stderr",
     "output_type": "stream",
     "text": [
      "Bacillota bacterium (Firmicutes bacteriu...: 100%|██████████| 20/20 [00:39<00:00,  1.96s/it]\n"
     ]
    },
    {
     "name": "stdout",
     "output_type": "stream",
     "text": [
      "✅ [48] Bacillota bacterium (Firmicutes bacterium): 10000 proteins fetched\n",
      "\n",
      "🔍 Fetching proteins for: Gemmatimonadota bacterium (available: 800357, fetching: 10000)\n"
     ]
    },
    {
     "name": "stderr",
     "output_type": "stream",
     "text": [
      "Gemmatimonadota bacterium...: 100%|██████████| 20/20 [00:35<00:00,  1.78s/it]\n"
     ]
    },
    {
     "name": "stdout",
     "output_type": "stream",
     "text": [
      "✅ [49] Gemmatimonadota bacterium: 10000 proteins fetched\n",
      "\n",
      "🔍 Fetching proteins for: Candidatus Contendobacter sp (available: 4001, fetching: 4001)\n"
     ]
    },
    {
     "name": "stderr",
     "output_type": "stream",
     "text": [
      "Candidatus Contendobacter sp...: 100%|██████████| 9/9 [00:11<00:00,  1.33s/it]\n"
     ]
    },
    {
     "name": "stdout",
     "output_type": "stream",
     "text": [
      "✅ [50] Candidatus Contendobacter sp: 4500 proteins fetched\n",
      "\n",
      "📊 === SUMMARY ===\n",
      "📁 Output FASTA: Diamond_alignments/session_diamond_align_2025-06-02_15-24-30\\from_diamond_organisms_21_to_50_splitlimits.fasta\n",
      "📦 Total protein sequences in database: 360520\n"
     ]
    }
   ],
   "source": [
    "import os\n",
    "import math\n",
    "import requests\n",
    "import pandas as pd\n",
    "from datetime import datetime\n",
    "from tqdm import tqdm\n",
    "\n",
    "# === 1. Configuration ===\n",
    "# Define custom download limits for three sub-ranges:\n",
    "limit_21_30 = 30000  # For organisms ranked 21st–30th\n",
    "limit_31_40 = 20000  # For organisms ranked 31st–40th\n",
    "limit_41_50 = 10000  # For organisms ranked 41st–50th\n",
    "\n",
    "# Use the same session timestamp as earlier defined (assumes `session_time` is set in global context)\n",
    "output_dir = f\"Diamond_alignments/session_diamond_align_{session_time}\"\n",
    "os.makedirs(output_dir, exist_ok=True)\n",
    "\n",
    "# Set path where final FASTA results for organisms 21–50 will be stored\n",
    "output_fasta_path = os.path.join(output_dir, f\"from_diamond_organisms_21_to_50_splitlimits.fasta\")\n",
    "\n",
    "# === 2. Load organisms ranked 21–50 with at least `min_hits` hits ===\n",
    "# Load the DataFrame that includes taxonomy rank info\n",
    "df = pd.read_csv(\"Diamond_alignments/diamond_df_rank_annotated_fixed.csv\")\n",
    "\n",
    "# Get the frequency count of peptide hits per organism\n",
    "organism_counts = df[\"organism\"].value_counts()\n",
    "\n",
    "# Filter out organisms that don't meet the confidence threshold (`min_hits`)\n",
    "filtered_organisms = organism_counts[organism_counts >= min_hits]\n",
    "\n",
    "# Select organisms ranked 21st to 50th (i.e. slice index 20:50)\n",
    "organisms_21_50 = filtered_organisms[20:50].index.tolist()\n",
    "\n",
    "# === 3. Decide protein limit based on sub-rank tier ===\n",
    "def get_protein_limit(relative_rank):\n",
    "    \"\"\"\n",
    "    Determines how many proteins to fetch based on sub-rank of the organism:\n",
    "    - Index 0–9 → rank 21–30\n",
    "    - Index 10–19 → rank 31–40\n",
    "    - Index 20–29 → rank 41–50\n",
    "    \"\"\"\n",
    "    if relative_rank < 10:\n",
    "        return limit_21_30\n",
    "    elif relative_rank < 20:\n",
    "        return limit_31_40\n",
    "    else:\n",
    "        return limit_41_50\n",
    "\n",
    "# === 4. Get the total number of UniProt protein entries available for a given organism ===\n",
    "def get_total_results(organism):\n",
    "    \"\"\"\n",
    "    Uses UniProt's metadata header to check how many results exist for a given organism.\n",
    "    This ensures we don't request more than what's available.\n",
    "    \"\"\"\n",
    "    base_url = \"https://rest.uniprot.org/uniprotkb/search\"\n",
    "    params = {\n",
    "        \"query\": organism,\n",
    "        \"format\": \"json\",\n",
    "        \"size\": 1  # Only one result needed to access metadata\n",
    "    }\n",
    "    try:\n",
    "        r = requests.get(base_url, params=params)\n",
    "        r.raise_for_status()\n",
    "        return int(r.headers.get(\"x-total-results\", 0))\n",
    "    except Exception as e:\n",
    "        print(f\"❌ Failed to get total result count for {organism}: {e}\")\n",
    "        return 0\n",
    "\n",
    "# === 5. Fetch protein sequences in paginated chunks from UniProtKB ===\n",
    "def fetch_uniprotkb_chunked_fasta(organism, limit):\n",
    "    \"\"\"\n",
    "    Downloads protein sequences in FASTA format from UniProt, split across pages if needed.\n",
    "    \"\"\"\n",
    "    base_url = \"https://rest.uniprot.org/uniprotkb/search\"\n",
    "    chunk_size = 500  # Max entries per API request\n",
    "    headers = {\"Accept\": \"text/x-fasta\"}\n",
    "\n",
    "    total_available = get_total_results(organism)\n",
    "    if total_available == 0:\n",
    "        return \"\", 0\n",
    "\n",
    "    # Ensure we don’t fetch more than what’s available\n",
    "    limit = min(limit, total_available)\n",
    "    chunks = math.ceil(limit / chunk_size)\n",
    "\n",
    "    print(f\"\\n🔍 Fetching proteins for: {organism} (available: {total_available}, fetching: {limit})\")\n",
    "\n",
    "    fetched = \"\"           # Will accumulate FASTA text\n",
    "    total_downloaded = 0   # Count how many protein sequences were retrieved\n",
    "\n",
    "    for i in tqdm(range(chunks), desc=f\"{organism[:40]}...\", leave=True):\n",
    "        offset = i * chunk_size\n",
    "        params = {\n",
    "            \"query\": organism,\n",
    "            \"format\": \"fasta\",\n",
    "            \"size\": chunk_size,\n",
    "            \"offset\": offset,\n",
    "            \"compressed\": \"false\"\n",
    "        }\n",
    "        try:\n",
    "            r = requests.get(base_url, headers=headers, params=params)\n",
    "            r.raise_for_status()\n",
    "            chunk = r.text.strip()\n",
    "            if not chunk:\n",
    "                break\n",
    "            fetched += chunk + \"\\n\"\n",
    "            total_downloaded += chunk.count(\">\")  # Count number of FASTA entries\n",
    "        except Exception as e:\n",
    "            print(f\"❌ Chunk {i+1} failed: {e}\")\n",
    "            break\n",
    "\n",
    "    return fetched, total_downloaded\n",
    "\n",
    "# === 6. Loop through all 30 organisms (ranks 21–50) and collect sequences ===\n",
    "all_entries = []\n",
    "total_downloaded = 0\n",
    "\n",
    "print(\"🚀 Starting UniProtKB protein fetch for organisms ranked 21–50...\")\n",
    "\n",
    "# `enumerate` keeps track of relative rank (used for limit logic) and organism name\n",
    "for idx, organism in enumerate(organisms_21_50):\n",
    "    limit = get_protein_limit(idx)\n",
    "    fasta, downloaded = fetch_uniprotkb_chunked_fasta(organism, limit)\n",
    "\n",
    "    if fasta:\n",
    "        all_entries.append(fasta.strip())\n",
    "        total_downloaded += downloaded\n",
    "        print(f\"✅ [{idx+21}] {organism}: {downloaded} proteins fetched\")\n",
    "    else:\n",
    "        print(f\"⚠️ [{idx+21}] No proteins fetched for {organism}\")\n",
    "\n",
    "# === 7. Save combined FASTA file ===\n",
    "with open(output_fasta_path, \"w\") as f_out:\n",
    "    f_out.write(\"\\n\".join(all_entries))\n",
    "\n",
    "# === 8. Summary Output ===\n",
    "print(\"\\n📊 === SUMMARY ===\")\n",
    "print(f\"📁 Output FASTA: {output_fasta_path}\")\n",
    "print(f\"📦 Total protein sequences in database: {total_downloaded}\")\n"
   ]
  },
  {
   "cell_type": "code",
   "execution_count": null,
   "id": "9b21d0db",
   "metadata": {},
   "outputs": [],
   "source": [
    "import os\n",
    "import math\n",
    "import requests\n",
    "import pandas as pd\n",
    "from datetime import datetime\n",
    "from tqdm import tqdm\n",
    "\n",
    "# === 1. Configuration ===\n",
    "# Set protein download limits depending on organism rank group\n",
    "limit_51_100 = 3000    # For organisms ranked 51st to 100th\n",
    "limit_101_plus = 1000  # For organisms ranked 101st and beyond\n",
    "\n",
    "# Define the session-specific output directory\n",
    "output_dir = f\"Diamond_alignments/session_diamond_align_{session_time}\"\n",
    "os.makedirs(output_dir, exist_ok=True)\n",
    "\n",
    "# Output FASTA file for storing all sequences from organisms ranked 51+\n",
    "output_fasta_path = os.path.join(output_dir, f\"from_diamond_organisms_51_plus_splitlimits.fasta\")\n",
    "\n",
    "# === 2. Load organisms ranked 51 and higher with enough peptide hits ===\n",
    "df = pd.read_csv(\"Diamond_alignments/diamond_df_rank_annotated_fixed.csv\")\n",
    "\n",
    "# Count how many times each organism occurs (based on peptide matches)\n",
    "organism_counts = df[\"organism\"].value_counts()\n",
    "\n",
    "# Keep only those organisms that passed the hit threshold\n",
    "filtered_organisms = organism_counts[organism_counts >= min_hits]\n",
    "\n",
    "# Slice organisms starting from the 51st position onwards\n",
    "organisms_51_plus = filtered_organisms[50:].index.tolist()\n",
    "\n",
    "# === 3. Assign per-organism protein download limit based on sub-rank ===\n",
    "def get_protein_limit(relative_rank):\n",
    "    \"\"\"\n",
    "    Determines the number of protein sequences to fetch for an organism.\n",
    "    - Index 0–49 → rank 51–100 (use 3000 proteins)\n",
    "    - Index 50+  → rank 101 and higher (use 1000 proteins)\n",
    "    \"\"\"\n",
    "    if relative_rank < 50:\n",
    "        return limit_51_100\n",
    "    else:\n",
    "        return limit_101_plus\n",
    "\n",
    "# === 4. Determine how many protein entries are available on UniProt ===\n",
    "def get_total_results(organism):\n",
    "    \"\"\"\n",
    "    Returns the total number of UniProtKB entries for a given organism.\n",
    "    This ensures we don't request more than actually exists.\n",
    "    \"\"\"\n",
    "    base_url = \"https://rest.uniprot.org/uniprotkb/search\"\n",
    "    params = {\n",
    "        \"query\": organism,\n",
    "        \"format\": \"json\",\n",
    "        \"size\": 1\n",
    "    }\n",
    "    try:\n",
    "        r = requests.get(base_url, params=params)\n",
    "        r.raise_for_status()\n",
    "        return int(r.headers.get(\"x-total-results\", 0))\n",
    "    except Exception as e:\n",
    "        print(f\"❌ Failed to get total result count for {organism}: {e}\")\n",
    "        return 0\n",
    "\n",
    "# === 5. Fetch protein entries in paginated chunks ===\n",
    "def fetch_uniprotkb_chunked_fasta(organism, limit):\n",
    "    \"\"\"\n",
    "    Fetches protein entries from UniProt in FASTA format.\n",
    "    Handles pagination to fetch large numbers of entries in manageable chunks.\n",
    "    \"\"\"\n",
    "    base_url = \"https://rest.uniprot.org/uniprotkb/search\"\n",
    "    chunk_size = 500\n",
    "    headers = {\"Accept\": \"text/x-fasta\"}\n",
    "\n",
    "    total_available = get_total_results(organism)\n",
    "    if total_available == 0:\n",
    "        return \"\", 0\n",
    "\n",
    "    limit = min(limit, total_available)\n",
    "    chunks = math.ceil(limit / chunk_size)\n",
    "\n",
    "    print(f\"\\n🔍 Fetching proteins for: {organism} (available: {total_available}, fetching: {limit})\")\n",
    "\n",
    "    fetched = \"\"           # Will store raw FASTA text\n",
    "    total_downloaded = 0   # Counter for how many entries we retrieve\n",
    "\n",
    "    for i in tqdm(range(chunks), desc=f\"{organism[:40]}...\", leave=True):\n",
    "        offset = i * chunk_size\n",
    "        params = {\n",
    "            \"query\": organism,\n",
    "            \"format\": \"fasta\",\n",
    "            \"size\": chunk_size,\n",
    "            \"offset\": offset,\n",
    "            \"compressed\": \"false\"\n",
    "        }\n",
    "        try:\n",
    "            r = requests.get(base_url, headers=headers, params=params)\n",
    "            r.raise_for_status()\n",
    "            chunk = r.text.strip()\n",
    "            if not chunk:\n",
    "                break\n",
    "            fetched += chunk + \"\\n\"\n",
    "            total_downloaded += chunk.count(\">\")\n",
    "        except Exception as e:\n",
    "            print(f\"❌ Chunk {i+1} failed: {e}\")\n",
    "            break\n",
    "\n",
    "    return fetched, total_downloaded\n",
    "\n",
    "# === 6. Loop through all organisms and collect sequences ===\n",
    "all_entries = []\n",
    "total_downloaded = 0\n",
    "total_organisms = len(organisms_51_plus)\n",
    "\n",
    "print(f\"🚀 Starting UniProtKB protein fetch for {total_organisms} organisms ranked 51+\")\n",
    "\n",
    "for idx, organism in enumerate(organisms_51_plus):\n",
    "    limit = get_protein_limit(idx)\n",
    "    fasta, downloaded = fetch_uniprotkb_chunked_fasta(organism, limit)\n",
    "\n",
    "    if fasta:\n",
    "        all_entries.append(fasta.strip())\n",
    "        total_downloaded += downloaded\n",
    "        print(f\"✅ [{idx+51}] {organism}: {downloaded} proteins fetched\")\n",
    "    else:\n",
    "        print(f\"⚠️ [{idx+51}] No proteins fetched for {organism}\")\n",
    "\n",
    "# === 7. Write all sequences to the output FASTA file ===\n",
    "with open(output_fasta_path, \"w\") as f_out:\n",
    "    f_out.write(\"\\n\".join(all_entries))\n",
    "\n",
    "# === 8. Final Summary ===\n",
    "print(\"\\n📊 === SUMMARY ===\")\n",
    "print(f\"📁 Output FASTA: {output_fasta_path}\")\n",
    "print(f\"📦 Total protein sequences in database: {total_downloaded}\")\n",
    "print(f\"🧬 Total organisms processed: {total_organisms}\")\n"
   ]
  },
  {
   "cell_type": "markdown",
   "id": "f2e721b9",
   "metadata": {},
   "source": [
    "## FASTA Combination Step: Building the Final Custom Protein Database\n",
    "\n",
    "This step consolidates all previously downloaded FASTA files—each representing proteins from different organism ranking groups—into a **single unified FASTA file**. This final protein database reflects the microbial community composition inferred from the DIAMOND alignment results and is used as a tailored search space for peptide-spectrum matching or functional annotation.\n",
    "\n",
    "---\n",
    "\n",
    "### Inputs\n",
    "\n",
    "The FASTA files that are combined in this step were constructed in earlier steps by fetching proteins for organisms based on their peptide hit rank:\n",
    "\n",
    "- `from_diamond_top5_custom_limits.fasta` — Proteins from the **top 5 ranked** organisms\n",
    "- `from_diamond_organisms_6_to_10.fasta` — Proteins from organisms ranked **6–10**\n",
    "- `from_diamond_organisms_11_to_20.fasta` — Proteins from organisms ranked **11–20**\n",
    "- `from_diamond_organisms_21_to_50_splitlimits.fasta` — Proteins from organisms ranked **21–50**\n",
    "- `from_diamond_organisms_51_plus_splitlimits.fasta` — Proteins from organisms ranked **51 and beyond**\n",
    "\n",
    "---\n",
    "\n",
    "### Process Summary\n",
    "\n",
    "- Each FASTA file is opened and read.\n",
    "- Protein entries are **normalized and reformatted** to ensure proper FASTA formatting (i.e., prefixed with `>`).\n",
    "- Files that are missing or empty are **automatically skipped**.\n",
    "- All valid protein entries are concatenated and saved into a single output file.\n",
    "\n",
    "---\n",
    "\n",
    "### Output\n",
    "\n",
    "- A unified file named:  \n",
    "  `all_diamond_proteins_combined_{min_hits}_hits.fasta`  \n",
    "- This FASTA serves as the **final custom protein database** used for:\n",
    "  - Spectrum identification\n",
    "  - Protein annotation\n",
    "  - Functional inference\n",
    "  - Database reduction/clustering steps\n"
   ]
  },
  {
   "cell_type": "code",
   "execution_count": null,
   "id": "0a5196ba",
   "metadata": {},
   "outputs": [],
   "source": [
    "import os\n",
    "\n",
    "# === 1. File paths ===\n",
    "# Define the session directory based on previous session time variable\n",
    "session_folder = f\"Diamond_alignments/session_diamond_align_{session_time}\"\n",
    "\n",
    "# Define paths to each partial FASTA file created in previous steps\n",
    "top5_fasta = os.path.join(session_folder, \"from_diamond_top5_custom_limits\")\n",
    "middle5to10_fasta = os.path.join(session_folder, \"from_diamond_organisms_6_to_10.fasta\")\n",
    "middle11to20_fasta = os.path.join(session_folder, \"from_diamond_organisms_11_to_20.fasta\")\n",
    "middle21to50_fasta = os.path.join(session_folder, \"from_diamond_organisms_21_to_50_splitlimits.fasta\")\n",
    "remaining_fasta = os.path.join(session_folder, \"from_diamond_organisms_51_plus_splitlimits.fasta\")\n",
    "\n",
    "# Output file: final combined FASTA file with all proteins\n",
    "combined_fasta = os.path.join(session_folder, f\"all_diamond_proteins_combined_{min_hits}_hits.fasta\")\n",
    "\n",
    "# === 2. Merge all FASTA files ===\n",
    "# List all input files to loop through them\n",
    "input_files = [top5_fasta, middle5to10_fasta, middle11to20_fasta, middle21to50_fasta, remaining_fasta]\n",
    "total_entries = 0  # Counter for total number of protein entries added\n",
    "\n",
    "# Open the final combined FASTA file for writing\n",
    "with open(combined_fasta, \"w\") as out_f:\n",
    "    for file_path in input_files:\n",
    "        # Skip files that are missing (e.g., not generated due to lack of matches)\n",
    "        if not os.path.exists(file_path):\n",
    "            print(f\"Skipping missing file: {file_path}\")\n",
    "            continue\n",
    "\n",
    "        # Read and process the FASTA contents\n",
    "        with open(file_path, \"r\") as f_in:\n",
    "            content = f_in.read().strip()\n",
    "\n",
    "            # Skip empty files\n",
    "            if not content:\n",
    "                continue\n",
    "\n",
    "            # Split into individual protein entries (FASTA format)\n",
    "            entries = content.split(\"\\n>\")\n",
    "\n",
    "            for i, entry in enumerate(entries):\n",
    "                # Ensure every entry begins with a '>' symbol\n",
    "                if not entry.startswith(\">\"):\n",
    "                    entry = \">\" + entry\n",
    "\n",
    "                # Write cleaned entry to output FASTA\n",
    "                out_f.write(entry.strip() + \"\\n\")\n",
    "                total_entries += 1  # Increment global counter\n",
    "\n",
    "# === 3. Final Summary ===\n",
    "# Inform the user that the combined database has been created\n",
    "print(\"\\nCombined protein FASTA created.\")\n",
    "print(f\"Output FASTA: {combined_fasta}\")\n",
    "print(f\"Total protein entries in combined database: {total_entries}\")\n"
   ]
  },
  {
   "cell_type": "code",
   "execution_count": 18,
   "id": "eabe0e22",
   "metadata": {},
   "outputs": [
    {
     "name": "stdout",
     "output_type": "stream",
     "text": [
      "\n",
      "📦 Starting full protein download (no deduplication)...\n"
     ]
    },
    {
     "name": "stderr",
     "output_type": "stream",
     "text": [
      "  0%|          | 1/237 [00:06<26:22,  6.71s/it]"
     ]
    },
    {
     "name": "stdout",
     "output_type": "stream",
     "text": [
      "✅ UP000021315: 3953 proteins parsed\n"
     ]
    },
    {
     "name": "stderr",
     "output_type": "stream",
     "text": [
      "  1%|          | 2/237 [00:15<32:05,  8.19s/it]"
     ]
    },
    {
     "name": "stdout",
     "output_type": "stream",
     "text": [
      "✅ UP000664003: 3702 proteins parsed\n"
     ]
    },
    {
     "name": "stderr",
     "output_type": "stream",
     "text": [
      "  1%|▏         | 3/237 [00:23<30:00,  7.69s/it]"
     ]
    },
    {
     "name": "stdout",
     "output_type": "stream",
     "text": [
      "✅ UP000198814: 3170 proteins parsed\n"
     ]
    },
    {
     "name": "stderr",
     "output_type": "stream",
     "text": [
      "  2%|▏         | 4/237 [00:32<32:25,  8.35s/it]"
     ]
    },
    {
     "name": "stdout",
     "output_type": "stream",
     "text": [
      "✅ UP000697998: 4538 proteins parsed\n"
     ]
    },
    {
     "name": "stderr",
     "output_type": "stream",
     "text": [
      "  2%|▏         | 5/237 [00:38<28:29,  7.37s/it]"
     ]
    },
    {
     "name": "stdout",
     "output_type": "stream",
     "text": [
      "✅ UP000509529: 2873 proteins parsed\n"
     ]
    },
    {
     "name": "stderr",
     "output_type": "stream",
     "text": [
      "  3%|▎         | 6/237 [00:42<24:00,  6.23s/it]"
     ]
    },
    {
     "name": "stdout",
     "output_type": "stream",
     "text": [
      "✅ UP000510879: 2571 proteins parsed\n"
     ]
    },
    {
     "name": "stderr",
     "output_type": "stream",
     "text": [
      "  3%|▎         | 7/237 [00:49<25:47,  6.73s/it]"
     ]
    },
    {
     "name": "stdout",
     "output_type": "stream",
     "text": [
      "✅ UP000739411: 3814 proteins parsed\n"
     ]
    },
    {
     "name": "stderr",
     "output_type": "stream",
     "text": [
      "  3%|▎         | 8/237 [00:57<26:32,  6.96s/it]"
     ]
    },
    {
     "name": "stdout",
     "output_type": "stream",
     "text": [
      "✅ UP000706151: 4127 proteins parsed\n"
     ]
    },
    {
     "name": "stderr",
     "output_type": "stream",
     "text": [
      "  4%|▍         | 9/237 [01:02<24:15,  6.39s/it]"
     ]
    },
    {
     "name": "stdout",
     "output_type": "stream",
     "text": [
      "✅ UP000020878: 3127 proteins parsed\n"
     ]
    },
    {
     "name": "stderr",
     "output_type": "stream",
     "text": [
      "  4%|▍         | 10/237 [01:06<21:54,  5.79s/it]"
     ]
    },
    {
     "name": "stdout",
     "output_type": "stream",
     "text": [
      "✅ UP000033046: 2622 proteins parsed\n"
     ]
    },
    {
     "name": "stderr",
     "output_type": "stream",
     "text": [
      "  5%|▍         | 11/237 [01:13<23:16,  6.18s/it]"
     ]
    },
    {
     "name": "stdout",
     "output_type": "stream",
     "text": [
      "✅ UP000019812: 4354 proteins parsed\n"
     ]
    },
    {
     "name": "stderr",
     "output_type": "stream",
     "text": [
      "  5%|▌         | 12/237 [01:22<25:53,  6.90s/it]"
     ]
    },
    {
     "name": "stdout",
     "output_type": "stream",
     "text": [
      "✅ UP000192075: 4586 proteins parsed\n"
     ]
    },
    {
     "name": "stderr",
     "output_type": "stream",
     "text": [
      "  5%|▌         | 13/237 [01:27<24:11,  6.48s/it]"
     ]
    },
    {
     "name": "stdout",
     "output_type": "stream",
     "text": [
      "✅ UP000292226: 3169 proteins parsed\n"
     ]
    },
    {
     "name": "stderr",
     "output_type": "stream",
     "text": [
      "  6%|▌         | 14/237 [01:32<21:59,  5.92s/it]"
     ]
    },
    {
     "name": "stdout",
     "output_type": "stream",
     "text": [
      "✅ UP000001629: 2841 proteins parsed\n"
     ]
    },
    {
     "name": "stderr",
     "output_type": "stream",
     "text": [
      "  6%|▋         | 15/237 [01:39<22:50,  6.17s/it]"
     ]
    },
    {
     "name": "stdout",
     "output_type": "stream",
     "text": [
      "✅ UP000001660: 4263 proteins parsed\n"
     ]
    },
    {
     "name": "stderr",
     "output_type": "stream",
     "text": [
      "  7%|▋         | 16/237 [01:49<26:59,  7.33s/it]"
     ]
    },
    {
     "name": "stdout",
     "output_type": "stream",
     "text": [
      "✅ UP000293802: 5998 proteins parsed\n"
     ]
    },
    {
     "name": "stderr",
     "output_type": "stream",
     "text": [
      "  7%|▋         | 17/237 [01:53<23:02,  6.28s/it]"
     ]
    },
    {
     "name": "stdout",
     "output_type": "stream",
     "text": [
      "✅ UP000035517: 2299 proteins parsed\n"
     ]
    },
    {
     "name": "stderr",
     "output_type": "stream",
     "text": [
      "  8%|▊         | 18/237 [02:00<23:34,  6.46s/it]"
     ]
    },
    {
     "name": "stdout",
     "output_type": "stream",
     "text": [
      "✅ UP000509427: 4173 proteins parsed\n"
     ]
    },
    {
     "name": "stderr",
     "output_type": "stream",
     "text": [
      "  8%|▊         | 19/237 [02:05<22:28,  6.19s/it]"
     ]
    },
    {
     "name": "stdout",
     "output_type": "stream",
     "text": [
      "✅ UP000702847: 2957 proteins parsed\n"
     ]
    },
    {
     "name": "stderr",
     "output_type": "stream",
     "text": [
      "  8%|▊         | 20/237 [02:12<23:36,  6.53s/it]"
     ]
    },
    {
     "name": "stdout",
     "output_type": "stream",
     "text": [
      "✅ UP000020218: 3906 proteins parsed\n"
     ]
    },
    {
     "name": "stderr",
     "output_type": "stream",
     "text": [
      "  9%|▉         | 21/237 [02:18<22:21,  6.21s/it]"
     ]
    },
    {
     "name": "stdout",
     "output_type": "stream",
     "text": [
      "✅ UP000181998: 3133 proteins parsed\n"
     ]
    },
    {
     "name": "stderr",
     "output_type": "stream",
     "text": [
      "  9%|▉         | 22/237 [04:32<2:39:35, 44.54s/it]"
     ]
    },
    {
     "name": "stdout",
     "output_type": "stream",
     "text": [
      "✅ UP000005640: 83374 proteins parsed\n"
     ]
    },
    {
     "name": "stderr",
     "output_type": "stream",
     "text": [
      " 10%|▉         | 23/237 [04:40<1:59:31, 33.51s/it]"
     ]
    },
    {
     "name": "stdout",
     "output_type": "stream",
     "text": [
      "✅ UP000674002: 4743 proteins parsed\n"
     ]
    },
    {
     "name": "stderr",
     "output_type": "stream",
     "text": [
      " 10%|█         | 24/237 [04:44<1:27:58, 24.78s/it]"
     ]
    },
    {
     "name": "stdout",
     "output_type": "stream",
     "text": [
      "✅ UP000672756: 2893 proteins parsed\n"
     ]
    },
    {
     "name": "stderr",
     "output_type": "stream",
     "text": [
      " 11%|█         | 25/237 [04:55<1:12:36, 20.55s/it]"
     ]
    },
    {
     "name": "stdout",
     "output_type": "stream",
     "text": [
      "✅ UP000315010: 7247 proteins parsed\n"
     ]
    },
    {
     "name": "stderr",
     "output_type": "stream",
     "text": [
      " 11%|█         | 26/237 [04:59<54:54, 15.62s/it]  "
     ]
    },
    {
     "name": "stdout",
     "output_type": "stream",
     "text": [
      "✅ UP000681864: 2157 proteins parsed\n"
     ]
    },
    {
     "name": "stderr",
     "output_type": "stream",
     "text": [
      " 11%|█▏        | 27/237 [05:01<40:52, 11.68s/it]"
     ]
    },
    {
     "name": "stdout",
     "output_type": "stream",
     "text": [
      "✅ UP000221516: 1751 proteins parsed\n"
     ]
    },
    {
     "name": "stderr",
     "output_type": "stream",
     "text": [
      " 12%|█▏        | 28/237 [05:08<35:30, 10.19s/it]"
     ]
    },
    {
     "name": "stdout",
     "output_type": "stream",
     "text": [
      "✅ UP000439117: 3999 proteins parsed\n"
     ]
    },
    {
     "name": "stderr",
     "output_type": "stream",
     "text": [
      " 12%|█▏        | 29/237 [05:11<27:58,  8.07s/it]"
     ]
    },
    {
     "name": "stdout",
     "output_type": "stream",
     "text": [
      "✅ UP000222210: 1320 proteins parsed\n"
     ]
    },
    {
     "name": "stderr",
     "output_type": "stream",
     "text": [
      " 13%|█▎        | 30/237 [05:19<27:06,  7.86s/it]"
     ]
    },
    {
     "name": "stdout",
     "output_type": "stream",
     "text": [
      "✅ UP000035760: 4014 proteins parsed\n"
     ]
    },
    {
     "name": "stderr",
     "output_type": "stream",
     "text": [
      " 13%|█▎        | 31/237 [05:26<26:57,  7.85s/it]"
     ]
    },
    {
     "name": "stdout",
     "output_type": "stream",
     "text": [
      "✅ UP000199600: 3621 proteins parsed\n"
     ]
    },
    {
     "name": "stderr",
     "output_type": "stream",
     "text": [
      " 14%|█▎        | 32/237 [05:35<27:26,  8.03s/it]"
     ]
    },
    {
     "name": "stdout",
     "output_type": "stream",
     "text": [
      "✅ UP000019184: 4763 proteins parsed\n"
     ]
    },
    {
     "name": "stderr",
     "output_type": "stream",
     "text": [
      " 14%|█▍        | 33/237 [05:43<27:46,  8.17s/it]"
     ]
    },
    {
     "name": "stdout",
     "output_type": "stream",
     "text": [
      "✅ UP000020226: 4767 proteins parsed\n"
     ]
    },
    {
     "name": "stderr",
     "output_type": "stream",
     "text": [
      " 14%|█▍        | 34/237 [05:50<26:25,  7.81s/it]"
     ]
    },
    {
     "name": "stdout",
     "output_type": "stream",
     "text": [
      "✅ UP000318368: 3738 proteins parsed\n"
     ]
    },
    {
     "name": "stderr",
     "output_type": "stream",
     "text": [
      " 15%|█▍        | 35/237 [05:57<25:03,  7.44s/it]"
     ]
    },
    {
     "name": "stdout",
     "output_type": "stream",
     "text": [
      "✅ UP000253831: 3943 proteins parsed\n"
     ]
    },
    {
     "name": "stderr",
     "output_type": "stream",
     "text": [
      " 15%|█▌        | 36/237 [06:03<23:27,  7.00s/it]"
     ]
    },
    {
     "name": "stdout",
     "output_type": "stream",
     "text": [
      "✅ UP000664181: 2725 proteins parsed\n"
     ]
    },
    {
     "name": "stderr",
     "output_type": "stream",
     "text": [
      " 16%|█▌        | 37/237 [06:08<21:59,  6.60s/it]"
     ]
    },
    {
     "name": "stdout",
     "output_type": "stream",
     "text": [
      "✅ UP000676034: 3047 proteins parsed\n"
     ]
    },
    {
     "name": "stderr",
     "output_type": "stream",
     "text": [
      " 16%|█▌        | 38/237 [06:17<23:35,  7.11s/it]"
     ]
    },
    {
     "name": "stdout",
     "output_type": "stream",
     "text": [
      "✅ UP000247367: 4330 proteins parsed\n"
     ]
    },
    {
     "name": "stderr",
     "output_type": "stream",
     "text": [
      " 16%|█▋        | 39/237 [06:23<22:37,  6.86s/it]"
     ]
    },
    {
     "name": "stdout",
     "output_type": "stream",
     "text": [
      "✅ UP000501891: 3265 proteins parsed\n"
     ]
    },
    {
     "name": "stderr",
     "output_type": "stream",
     "text": [
      " 17%|█▋        | 40/237 [06:26<18:43,  5.70s/it]"
     ]
    },
    {
     "name": "stdout",
     "output_type": "stream",
     "text": [
      "✅ UP000678867: 1182 proteins parsed\n"
     ]
    },
    {
     "name": "stderr",
     "output_type": "stream",
     "text": [
      " 17%|█▋        | 41/237 [08:18<2:02:20, 37.45s/it]"
     ]
    },
    {
     "name": "stdout",
     "output_type": "stream",
     "text": [
      "✅ UP000002277: 48769 proteins parsed\n"
     ]
    },
    {
     "name": "stderr",
     "output_type": "stream",
     "text": [
      " 18%|█▊        | 42/237 [08:22<1:29:41, 27.60s/it]"
     ]
    },
    {
     "name": "stdout",
     "output_type": "stream",
     "text": [
      "✅ UP000000429: 1554 proteins parsed\n"
     ]
    },
    {
     "name": "stderr",
     "output_type": "stream",
     "text": [
      " 18%|█▊        | 43/237 [08:40<1:19:27, 24.58s/it]"
     ]
    },
    {
     "name": "stdout",
     "output_type": "stream",
     "text": [
      "✅ UP000018524: 7026 proteins parsed\n"
     ]
    },
    {
     "name": "stderr",
     "output_type": "stream",
     "text": [
      " 19%|█▊        | 44/237 [08:49<1:04:00, 19.90s/it]"
     ]
    },
    {
     "name": "stdout",
     "output_type": "stream",
     "text": [
      "✅ UP000679647: 3214 proteins parsed\n"
     ]
    },
    {
     "name": "stderr",
     "output_type": "stream",
     "text": [
      " 19%|█▉        | 45/237 [09:04<59:38, 18.64s/it]  "
     ]
    },
    {
     "name": "stdout",
     "output_type": "stream",
     "text": [
      "✅ UP000291769: 7151 proteins parsed\n"
     ]
    },
    {
     "name": "stderr",
     "output_type": "stream",
     "text": [
      " 19%|█▉        | 46/237 [09:12<48:51, 15.35s/it]"
     ]
    },
    {
     "name": "stdout",
     "output_type": "stream",
     "text": [
      "✅ UP000641280: 3875 proteins parsed\n"
     ]
    },
    {
     "name": "stderr",
     "output_type": "stream",
     "text": [
      " 20%|█▉        | 47/237 [09:21<42:39, 13.47s/it]"
     ]
    },
    {
     "name": "stdout",
     "output_type": "stream",
     "text": [
      "✅ UP000315748: 4285 proteins parsed\n"
     ]
    },
    {
     "name": "stderr",
     "output_type": "stream",
     "text": [
      " 20%|██        | 48/237 [09:28<35:59, 11.42s/it]"
     ]
    },
    {
     "name": "stdout",
     "output_type": "stream",
     "text": [
      "✅ UP000678872: 2809 proteins parsed\n"
     ]
    },
    {
     "name": "stderr",
     "output_type": "stream",
     "text": [
      " 21%|██        | 49/237 [09:33<29:54,  9.54s/it]"
     ]
    },
    {
     "name": "stdout",
     "output_type": "stream",
     "text": [
      "✅ UP000237592: 1970 proteins parsed\n"
     ]
    },
    {
     "name": "stderr",
     "output_type": "stream",
     "text": [
      " 21%|██        | 50/237 [09:47<34:14, 10.99s/it]"
     ]
    },
    {
     "name": "stdout",
     "output_type": "stream",
     "text": [
      "✅ UP000438537: 7065 proteins parsed\n"
     ]
    },
    {
     "name": "stderr",
     "output_type": "stream",
     "text": [
      " 22%|██▏       | 51/237 [09:57<32:27, 10.47s/it]"
     ]
    },
    {
     "name": "stdout",
     "output_type": "stream",
     "text": [
      "✅ UP000226672: 5177 proteins parsed\n"
     ]
    },
    {
     "name": "stderr",
     "output_type": "stream",
     "text": [
      " 22%|██▏       | 52/237 [10:09<33:50, 10.98s/it]"
     ]
    },
    {
     "name": "stdout",
     "output_type": "stream",
     "text": [
      "✅ UP000199005: 4809 proteins parsed\n"
     ]
    },
    {
     "name": "stderr",
     "output_type": "stream",
     "text": [
      " 22%|██▏       | 53/237 [10:17<30:49, 10.05s/it]"
     ]
    },
    {
     "name": "stdout",
     "output_type": "stream",
     "text": [
      "✅ UP000718281: 2924 proteins parsed\n"
     ]
    },
    {
     "name": "stderr",
     "output_type": "stream",
     "text": [
      " 23%|██▎       | 54/237 [10:23<26:48,  8.79s/it]"
     ]
    },
    {
     "name": "stdout",
     "output_type": "stream",
     "text": [
      "✅ UP001147470: 3043 proteins parsed\n"
     ]
    },
    {
     "name": "stderr",
     "output_type": "stream",
     "text": [
      " 23%|██▎       | 55/237 [10:30<25:13,  8.32s/it]"
     ]
    },
    {
     "name": "stdout",
     "output_type": "stream",
     "text": [
      "✅ UP000663379: 3243 proteins parsed\n"
     ]
    },
    {
     "name": "stderr",
     "output_type": "stream",
     "text": [
      " 24%|██▎       | 56/237 [10:40<27:08,  9.00s/it]"
     ]
    },
    {
     "name": "stdout",
     "output_type": "stream",
     "text": [
      "✅ UP000478367: 4822 proteins parsed\n"
     ]
    },
    {
     "name": "stderr",
     "output_type": "stream",
     "text": [
      " 24%|██▍       | 57/237 [10:48<25:44,  8.58s/it]"
     ]
    },
    {
     "name": "stdout",
     "output_type": "stream",
     "text": [
      "✅ UP000293149: 3060 proteins parsed\n"
     ]
    },
    {
     "name": "stderr",
     "output_type": "stream",
     "text": [
      " 24%|██▍       | 58/237 [10:51<20:18,  6.81s/it]"
     ]
    },
    {
     "name": "stdout",
     "output_type": "stream",
     "text": [
      "✅ UP000054262: 1336 proteins parsed\n"
     ]
    },
    {
     "name": "stderr",
     "output_type": "stream",
     "text": [
      " 25%|██▍       | 59/237 [11:04<25:38,  8.64s/it]"
     ]
    },
    {
     "name": "stdout",
     "output_type": "stream",
     "text": [
      "✅ UP000221358: 6021 proteins parsed\n"
     ]
    },
    {
     "name": "stderr",
     "output_type": "stream",
     "text": [
      " 25%|██▌       | 60/237 [11:12<25:32,  8.66s/it]"
     ]
    },
    {
     "name": "stdout",
     "output_type": "stream",
     "text": [
      "✅ UP000587070: 3536 proteins parsed\n"
     ]
    },
    {
     "name": "stderr",
     "output_type": "stream",
     "text": [
      " 26%|██▌       | 61/237 [11:20<24:50,  8.47s/it]"
     ]
    },
    {
     "name": "stdout",
     "output_type": "stream",
     "text": [
      "✅ UP000236646: 3591 proteins parsed\n"
     ]
    },
    {
     "name": "stderr",
     "output_type": "stream",
     "text": [
      " 26%|██▌       | 62/237 [11:27<23:29,  8.05s/it]"
     ]
    },
    {
     "name": "stdout",
     "output_type": "stream",
     "text": [
      "✅ UP000552234: 3458 proteins parsed\n"
     ]
    },
    {
     "name": "stderr",
     "output_type": "stream",
     "text": [
      " 27%|██▋       | 63/237 [11:35<23:21,  8.06s/it]"
     ]
    },
    {
     "name": "stdout",
     "output_type": "stream",
     "text": [
      "✅ UP000886602: 3924 proteins parsed\n"
     ]
    },
    {
     "name": "stderr",
     "output_type": "stream",
     "text": [
      " 27%|██▋       | 64/237 [11:43<23:14,  8.06s/it]"
     ]
    },
    {
     "name": "stdout",
     "output_type": "stream",
     "text": [
      "✅ UP000664716: 3155 proteins parsed\n"
     ]
    },
    {
     "name": "stderr",
     "output_type": "stream",
     "text": [
      " 27%|██▋       | 65/237 [11:46<18:30,  6.45s/it]"
     ]
    },
    {
     "name": "stdout",
     "output_type": "stream",
     "text": [
      "✅ UP000257775: 1696 proteins parsed\n"
     ]
    },
    {
     "name": "stderr",
     "output_type": "stream",
     "text": [
      " 28%|██▊       | 66/237 [11:56<20:54,  7.34s/it]"
     ]
    },
    {
     "name": "stdout",
     "output_type": "stream",
     "text": [
      "✅ UP000028843: 4034 proteins parsed\n"
     ]
    },
    {
     "name": "stderr",
     "output_type": "stream",
     "text": [
      " 28%|██▊       | 67/237 [12:05<22:26,  7.92s/it]"
     ]
    },
    {
     "name": "stdout",
     "output_type": "stream",
     "text": [
      "✅ UP000248168: 3885 proteins parsed\n"
     ]
    },
    {
     "name": "stderr",
     "output_type": "stream",
     "text": [
      " 29%|██▊       | 68/237 [12:09<19:15,  6.84s/it]"
     ]
    },
    {
     "name": "stdout",
     "output_type": "stream",
     "text": [
      "✅ UP001064802: 1110 proteins parsed\n"
     ]
    },
    {
     "name": "stderr",
     "output_type": "stream",
     "text": [
      " 29%|██▉       | 69/237 [12:17<19:55,  7.12s/it]"
     ]
    },
    {
     "name": "stdout",
     "output_type": "stream",
     "text": [
      "✅ UP000251502: 3381 proteins parsed\n"
     ]
    },
    {
     "name": "stderr",
     "output_type": "stream",
     "text": [
      " 30%|██▉       | 70/237 [12:22<18:31,  6.66s/it]"
     ]
    },
    {
     "name": "stdout",
     "output_type": "stream",
     "text": [
      "✅ UP000002718: 2732 proteins parsed\n"
     ]
    },
    {
     "name": "stderr",
     "output_type": "stream",
     "text": [
      " 30%|██▉       | 71/237 [12:32<20:31,  7.42s/it]"
     ]
    },
    {
     "name": "stdout",
     "output_type": "stream",
     "text": [
      "✅ UP000069205: 4733 proteins parsed\n"
     ]
    },
    {
     "name": "stderr",
     "output_type": "stream",
     "text": [
      " 30%|███       | 72/237 [12:41<22:05,  8.03s/it]"
     ]
    },
    {
     "name": "stdout",
     "output_type": "stream",
     "text": [
      "✅ UP000664142: 3884 proteins parsed\n"
     ]
    },
    {
     "name": "stderr",
     "output_type": "stream",
     "text": [
      " 31%|███       | 73/237 [12:48<20:42,  7.58s/it]"
     ]
    },
    {
     "name": "stdout",
     "output_type": "stream",
     "text": [
      "✅ UP000245904: 2171 proteins parsed\n"
     ]
    },
    {
     "name": "stderr",
     "output_type": "stream",
     "text": [
      " 31%|███       | 74/237 [12:52<17:50,  6.57s/it]"
     ]
    },
    {
     "name": "stdout",
     "output_type": "stream",
     "text": [
      "✅ UP000681244: 1857 proteins parsed\n"
     ]
    },
    {
     "name": "stderr",
     "output_type": "stream",
     "text": [
      " 32%|███▏      | 75/237 [12:59<18:09,  6.73s/it]"
     ]
    },
    {
     "name": "stdout",
     "output_type": "stream",
     "text": [
      "✅ UP000471295: 2903 proteins parsed\n"
     ]
    },
    {
     "name": "stderr",
     "output_type": "stream",
     "text": [
      " 32%|███▏      | 76/237 [13:00<13:27,  5.02s/it]"
     ]
    },
    {
     "name": "stdout",
     "output_type": "stream",
     "text": [
      "✅ UP000002332: 474 proteins parsed\n"
     ]
    },
    {
     "name": "stderr",
     "output_type": "stream",
     "text": [
      " 32%|███▏      | 77/237 [13:20<25:19,  9.50s/it]"
     ]
    },
    {
     "name": "stdout",
     "output_type": "stream",
     "text": [
      "✅ UP000002139: 9320 proteins parsed\n"
     ]
    },
    {
     "name": "stderr",
     "output_type": "stream",
     "text": [
      " 33%|███▎      | 78/237 [13:26<22:20,  8.43s/it]"
     ]
    },
    {
     "name": "stdout",
     "output_type": "stream",
     "text": [
      "✅ UP000681387: 2380 proteins parsed\n"
     ]
    },
    {
     "name": "stderr",
     "output_type": "stream",
     "text": [
      " 33%|███▎      | 79/237 [15:26<1:50:12, 41.85s/it]"
     ]
    },
    {
     "name": "stdout",
     "output_type": "stream",
     "text": [
      "✅ UP000008227: 45672 proteins parsed\n"
     ]
    },
    {
     "name": "stderr",
     "output_type": "stream",
     "text": [
      " 34%|███▍      | 80/237 [15:34<1:22:47, 31.64s/it]"
     ]
    },
    {
     "name": "stdout",
     "output_type": "stream",
     "text": [
      "✅ UP000352687: 4056 proteins parsed\n"
     ]
    },
    {
     "name": "stderr",
     "output_type": "stream",
     "text": [
      " 34%|███▍      | 81/237 [15:41<1:03:45, 24.52s/it]"
     ]
    },
    {
     "name": "stdout",
     "output_type": "stream",
     "text": [
      "✅ UP000233252: 4350 proteins parsed\n"
     ]
    },
    {
     "name": "stderr",
     "output_type": "stream",
     "text": [
      " 35%|███▍      | 82/237 [15:51<51:37, 19.98s/it]  "
     ]
    },
    {
     "name": "stdout",
     "output_type": "stream",
     "text": [
      "✅ UP000316082: 4315 proteins parsed\n"
     ]
    },
    {
     "name": "stderr",
     "output_type": "stream",
     "text": [
      " 35%|███▌      | 83/237 [15:59<41:57, 16.35s/it]"
     ]
    },
    {
     "name": "stdout",
     "output_type": "stream",
     "text": [
      "✅ UP000292155: 4276 proteins parsed\n"
     ]
    },
    {
     "name": "stderr",
     "output_type": "stream",
     "text": [
      " 35%|███▌      | 84/237 [16:02<31:44, 12.45s/it]"
     ]
    },
    {
     "name": "stdout",
     "output_type": "stream",
     "text": [
      "✅ UP000678472: 1846 proteins parsed\n"
     ]
    },
    {
     "name": "stderr",
     "output_type": "stream",
     "text": [
      " 36%|███▌      | 85/237 [16:06<25:01,  9.88s/it]"
     ]
    },
    {
     "name": "stdout",
     "output_type": "stream",
     "text": [
      "✅ UP000221897: 2397 proteins parsed\n"
     ]
    },
    {
     "name": "stderr",
     "output_type": "stream",
     "text": [
      " 36%|███▋      | 86/237 [16:12<22:18,  8.86s/it]"
     ]
    },
    {
     "name": "stdout",
     "output_type": "stream",
     "text": [
      "✅ UP000715424: 3301 proteins parsed\n"
     ]
    },
    {
     "name": "stderr",
     "output_type": "stream",
     "text": [
      " 37%|███▋      | 87/237 [16:19<20:43,  8.29s/it]"
     ]
    },
    {
     "name": "stdout",
     "output_type": "stream",
     "text": [
      "✅ UP000253117: 3729 proteins parsed\n"
     ]
    },
    {
     "name": "stderr",
     "output_type": "stream",
     "text": [
      " 37%|███▋      | 88/237 [16:26<19:40,  7.92s/it]"
     ]
    },
    {
     "name": "stdout",
     "output_type": "stream",
     "text": [
      "✅ UP000306734: 3405 proteins parsed\n"
     ]
    },
    {
     "name": "stderr",
     "output_type": "stream",
     "text": [
      " 38%|███▊      | 89/237 [16:35<19:52,  8.06s/it]"
     ]
    },
    {
     "name": "stdout",
     "output_type": "stream",
     "text": [
      "✅ UP000226579: 3934 proteins parsed\n"
     ]
    },
    {
     "name": "stderr",
     "output_type": "stream",
     "text": [
      " 38%|███▊      | 90/237 [16:43<19:46,  8.07s/it]"
     ]
    },
    {
     "name": "stdout",
     "output_type": "stream",
     "text": [
      "✅ UP000501139: 4311 proteins parsed\n"
     ]
    },
    {
     "name": "stderr",
     "output_type": "stream",
     "text": [
      " 38%|███▊      | 91/237 [16:50<19:05,  7.84s/it]"
     ]
    },
    {
     "name": "stdout",
     "output_type": "stream",
     "text": [
      "✅ UP000070186: 3886 proteins parsed\n"
     ]
    },
    {
     "name": "stderr",
     "output_type": "stream",
     "text": [
      " 39%|███▉      | 92/237 [16:54<16:08,  6.68s/it]"
     ]
    },
    {
     "name": "stdout",
     "output_type": "stream",
     "text": [
      "✅ UP000318813: 1705 proteins parsed\n"
     ]
    },
    {
     "name": "stderr",
     "output_type": "stream",
     "text": [
      " 39%|███▉      | 93/237 [17:00<15:40,  6.53s/it]"
     ]
    },
    {
     "name": "stdout",
     "output_type": "stream",
     "text": [
      "✅ UP000886689: 2884 proteins parsed\n"
     ]
    },
    {
     "name": "stderr",
     "output_type": "stream",
     "text": [
      " 40%|███▉      | 94/237 [17:14<20:40,  8.67s/it]"
     ]
    },
    {
     "name": "stdout",
     "output_type": "stream",
     "text": [
      "✅ UP000051195: 5611 proteins parsed\n"
     ]
    },
    {
     "name": "stderr",
     "output_type": "stream",
     "text": [
      " 40%|████      | 95/237 [17:20<18:41,  7.90s/it]"
     ]
    },
    {
     "name": "stdout",
     "output_type": "stream",
     "text": [
      "✅ UP000510829: 3064 proteins parsed\n"
     ]
    },
    {
     "name": "stderr",
     "output_type": "stream",
     "text": [
      " 41%|████      | 96/237 [17:29<19:11,  8.17s/it]"
     ]
    },
    {
     "name": "stdout",
     "output_type": "stream",
     "text": [
      "✅ UP000198736: 4434 proteins parsed\n"
     ]
    },
    {
     "name": "stderr",
     "output_type": "stream",
     "text": [
      " 41%|████      | 97/237 [17:33<16:16,  6.97s/it]"
     ]
    },
    {
     "name": "stdout",
     "output_type": "stream",
     "text": [
      "✅ UP000681675: 1778 proteins parsed\n"
     ]
    },
    {
     "name": "stderr",
     "output_type": "stream",
     "text": [
      " 41%|████▏     | 98/237 [17:43<17:54,  7.73s/it]"
     ]
    },
    {
     "name": "stdout",
     "output_type": "stream",
     "text": [
      "✅ UP000807785: 4148 proteins parsed\n"
     ]
    },
    {
     "name": "stderr",
     "output_type": "stream",
     "text": [
      " 42%|████▏     | 99/237 [17:48<16:15,  7.07s/it]"
     ]
    },
    {
     "name": "stdout",
     "output_type": "stream",
     "text": [
      "✅ UP000192779: 4107 proteins parsed\n"
     ]
    },
    {
     "name": "stderr",
     "output_type": "stream",
     "text": [
      " 42%|████▏     | 100/237 [17:53<14:18,  6.26s/it]"
     ]
    },
    {
     "name": "stdout",
     "output_type": "stream",
     "text": [
      "✅ UP000655701: 2313 proteins parsed\n"
     ]
    },
    {
     "name": "stderr",
     "output_type": "stream",
     "text": [
      " 43%|████▎     | 101/237 [17:55<11:25,  5.04s/it]"
     ]
    },
    {
     "name": "stdout",
     "output_type": "stream",
     "text": [
      "✅ UP000228720: 1245 proteins parsed\n"
     ]
    },
    {
     "name": "stderr",
     "output_type": "stream",
     "text": [
      " 43%|████▎     | 102/237 [18:03<13:12,  5.87s/it]"
     ]
    },
    {
     "name": "stdout",
     "output_type": "stream",
     "text": [
      "✅ UP000765620: 4849 proteins parsed\n"
     ]
    },
    {
     "name": "stderr",
     "output_type": "stream",
     "text": [
      " 43%|████▎     | 103/237 [18:11<15:09,  6.79s/it]"
     ]
    },
    {
     "name": "stdout",
     "output_type": "stream",
     "text": [
      "✅ UP000318422: 3918 proteins parsed\n"
     ]
    },
    {
     "name": "stderr",
     "output_type": "stream",
     "text": [
      " 44%|████▍     | 104/237 [18:17<14:29,  6.53s/it]"
     ]
    },
    {
     "name": "stdout",
     "output_type": "stream",
     "text": [
      "✅ UP000198612: 2844 proteins parsed\n"
     ]
    },
    {
     "name": "stderr",
     "output_type": "stream",
     "text": [
      " 44%|████▍     | 105/237 [18:24<14:08,  6.43s/it]"
     ]
    },
    {
     "name": "stdout",
     "output_type": "stream",
     "text": [
      "✅ UP000593737: 4147 proteins parsed\n"
     ]
    },
    {
     "name": "stderr",
     "output_type": "stream",
     "text": [
      " 45%|████▍     | 106/237 [18:28<12:38,  5.79s/it]"
     ]
    },
    {
     "name": "stdout",
     "output_type": "stream",
     "text": [
      "✅ UP001177579: 2655 proteins parsed\n"
     ]
    },
    {
     "name": "stderr",
     "output_type": "stream",
     "text": [
      " 45%|████▌     | 107/237 [18:35<13:11,  6.09s/it]"
     ]
    },
    {
     "name": "stdout",
     "output_type": "stream",
     "text": [
      "✅ UP000192740: 3845 proteins parsed\n"
     ]
    },
    {
     "name": "stderr",
     "output_type": "stream",
     "text": [
      " 46%|████▌     | 108/237 [19:38<49:55, 23.22s/it]"
     ]
    },
    {
     "name": "stdout",
     "output_type": "stream",
     "text": [
      "✅ UP000694564: 33006 proteins parsed\n"
     ]
    },
    {
     "name": "stderr",
     "output_type": "stream",
     "text": [
      " 46%|████▌     | 109/237 [19:40<36:09, 16.95s/it]"
     ]
    },
    {
     "name": "stdout",
     "output_type": "stream",
     "text": [
      "✅ UP000095024: 1559 proteins parsed\n"
     ]
    },
    {
     "name": "stderr",
     "output_type": "stream",
     "text": [
      " 46%|████▋     | 110/237 [19:46<29:05, 13.74s/it]"
     ]
    },
    {
     "name": "stdout",
     "output_type": "stream",
     "text": [
      "✅ UP000270626: 3285 proteins parsed\n"
     ]
    },
    {
     "name": "stderr",
     "output_type": "stream",
     "text": [
      " 47%|████▋     | 111/237 [19:54<24:50, 11.83s/it]"
     ]
    },
    {
     "name": "stdout",
     "output_type": "stream",
     "text": [
      "✅ UP000233586: 4082 proteins parsed\n"
     ]
    },
    {
     "name": "stderr",
     "output_type": "stream",
     "text": [
      " 47%|████▋     | 112/237 [19:59<20:38,  9.91s/it]"
     ]
    },
    {
     "name": "stdout",
     "output_type": "stream",
     "text": [
      "✅ UP000031969: 2930 proteins parsed\n"
     ]
    },
    {
     "name": "stderr",
     "output_type": "stream",
     "text": [
      " 48%|████▊     | 113/237 [20:07<19:22,  9.38s/it]"
     ]
    },
    {
     "name": "stdout",
     "output_type": "stream",
     "text": [
      "✅ UP000319502: 4098 proteins parsed\n"
     ]
    },
    {
     "name": "stderr",
     "output_type": "stream",
     "text": [
      " 48%|████▊     | 114/237 [20:15<18:19,  8.94s/it]"
     ]
    },
    {
     "name": "stdout",
     "output_type": "stream",
     "text": [
      "✅ UP000192042: 4147 proteins parsed\n"
     ]
    },
    {
     "name": "stderr",
     "output_type": "stream",
     "text": [
      " 49%|████▊     | 115/237 [20:21<16:23,  8.06s/it]"
     ]
    },
    {
     "name": "stdout",
     "output_type": "stream",
     "text": [
      "✅ UP000244972: 3413 proteins parsed\n"
     ]
    },
    {
     "name": "stderr",
     "output_type": "stream",
     "text": [
      " 49%|████▉     | 116/237 [20:28<15:24,  7.64s/it]"
     ]
    },
    {
     "name": "stdout",
     "output_type": "stream",
     "text": [
      "✅ UP000678348: 2755 proteins parsed\n"
     ]
    },
    {
     "name": "stderr",
     "output_type": "stream",
     "text": [
      " 49%|████▉     | 117/237 [20:31<12:22,  6.19s/it]"
     ]
    },
    {
     "name": "stdout",
     "output_type": "stream",
     "text": [
      "✅ UP000668061: 1015 proteins parsed\n"
     ]
    },
    {
     "name": "stderr",
     "output_type": "stream",
     "text": [
      " 50%|████▉     | 118/237 [20:38<13:01,  6.57s/it]"
     ]
    },
    {
     "name": "stdout",
     "output_type": "stream",
     "text": [
      "✅ UP000241912: 3283 proteins parsed\n"
     ]
    },
    {
     "name": "stderr",
     "output_type": "stream",
     "text": [
      " 50%|█████     | 119/237 [20:46<13:37,  6.93s/it]"
     ]
    },
    {
     "name": "stdout",
     "output_type": "stream",
     "text": [
      "✅ UP000265961: 4376 proteins parsed\n"
     ]
    },
    {
     "name": "stderr",
     "output_type": "stream",
     "text": [
      " 51%|█████     | 120/237 [20:52<12:41,  6.50s/it]"
     ]
    },
    {
     "name": "stdout",
     "output_type": "stream",
     "text": [
      "✅ UP000192864: 2533 proteins parsed\n"
     ]
    },
    {
     "name": "stderr",
     "output_type": "stream",
     "text": [
      " 51%|█████     | 121/237 [20:56<11:16,  5.83s/it]"
     ]
    },
    {
     "name": "stdout",
     "output_type": "stream",
     "text": [
      "✅ UP000675882: 2174 proteins parsed\n"
     ]
    },
    {
     "name": "stderr",
     "output_type": "stream",
     "text": [
      " 51%|█████▏    | 122/237 [20:59<09:25,  4.92s/it]"
     ]
    },
    {
     "name": "stdout",
     "output_type": "stream",
     "text": [
      "✅ UP000218611: 1543 proteins parsed\n"
     ]
    },
    {
     "name": "stderr",
     "output_type": "stream",
     "text": [
      " 52%|█████▏    | 123/237 [21:02<08:29,  4.47s/it]"
     ]
    },
    {
     "name": "stdout",
     "output_type": "stream",
     "text": [
      "✅ UP000217535: 2170 proteins parsed\n"
     ]
    },
    {
     "name": "stderr",
     "output_type": "stream",
     "text": [
      " 52%|█████▏    | 124/237 [21:07<08:45,  4.65s/it]"
     ]
    },
    {
     "name": "stdout",
     "output_type": "stream",
     "text": [
      "✅ UP000257259: 3011 proteins parsed\n"
     ]
    },
    {
     "name": "stderr",
     "output_type": "stream",
     "text": [
      " 53%|█████▎    | 125/237 [21:12<08:41,  4.66s/it]"
     ]
    },
    {
     "name": "stdout",
     "output_type": "stream",
     "text": [
      "✅ UP000234782: 3279 proteins parsed\n"
     ]
    },
    {
     "name": "stderr",
     "output_type": "stream",
     "text": [
      " 53%|█████▎    | 126/237 [21:21<11:08,  6.02s/it]"
     ]
    },
    {
     "name": "stdout",
     "output_type": "stream",
     "text": [
      "✅ UP001179121: 4561 proteins parsed\n"
     ]
    },
    {
     "name": "stderr",
     "output_type": "stream",
     "text": [
      " 54%|█████▎    | 127/237 [21:28<11:28,  6.26s/it]"
     ]
    },
    {
     "name": "stdout",
     "output_type": "stream",
     "text": [
      "✅ UP000198607: 4057 proteins parsed\n"
     ]
    },
    {
     "name": "stderr",
     "output_type": "stream",
     "text": [
      " 54%|█████▍    | 128/237 [21:33<10:56,  6.03s/it]"
     ]
    },
    {
     "name": "stdout",
     "output_type": "stream",
     "text": [
      "✅ UP000187526: 3392 proteins parsed\n"
     ]
    },
    {
     "name": "stderr",
     "output_type": "stream",
     "text": [
      " 54%|█████▍    | 129/237 [21:37<09:24,  5.23s/it]"
     ]
    },
    {
     "name": "stdout",
     "output_type": "stream",
     "text": [
      "✅ UP000237298: 2035 proteins parsed\n"
     ]
    },
    {
     "name": "stderr",
     "output_type": "stream",
     "text": [
      " 55%|█████▍    | 130/237 [21:43<09:49,  5.51s/it]"
     ]
    },
    {
     "name": "stdout",
     "output_type": "stream",
     "text": [
      "✅ UP000432822: 3554 proteins parsed\n"
     ]
    },
    {
     "name": "stderr",
     "output_type": "stream",
     "text": [
      " 55%|█████▌    | 131/237 [21:50<10:49,  6.12s/it]"
     ]
    },
    {
     "name": "stdout",
     "output_type": "stream",
     "text": [
      "✅ UP000013140: 4268 proteins parsed\n"
     ]
    },
    {
     "name": "stderr",
     "output_type": "stream",
     "text": [
      " 56%|█████▌    | 132/237 [21:54<09:29,  5.42s/it]"
     ]
    },
    {
     "name": "stdout",
     "output_type": "stream",
     "text": [
      "✅ UP000063254: 2804 proteins parsed\n"
     ]
    },
    {
     "name": "stderr",
     "output_type": "stream",
     "text": [
      " 56%|█████▌    | 133/237 [23:14<48:12, 27.81s/it]"
     ]
    },
    {
     "name": "stdout",
     "output_type": "stream",
     "text": [
      "✅ UP000001519: 44723 proteins parsed\n"
     ]
    },
    {
     "name": "stderr",
     "output_type": "stream",
     "text": [
      " 57%|█████▋    | 134/237 [23:21<37:06, 21.62s/it]"
     ]
    },
    {
     "name": "stdout",
     "output_type": "stream",
     "text": [
      "✅ UP000002186: 3927 proteins parsed\n"
     ]
    },
    {
     "name": "stderr",
     "output_type": "stream",
     "text": [
      " 57%|█████▋    | 135/237 [23:26<28:16, 16.63s/it]"
     ]
    },
    {
     "name": "stdout",
     "output_type": "stream",
     "text": [
      "✅ UP000683141: 2617 proteins parsed\n"
     ]
    },
    {
     "name": "stderr",
     "output_type": "stream",
     "text": [
      " 57%|█████▋    | 136/237 [23:32<22:38, 13.45s/it]"
     ]
    },
    {
     "name": "stdout",
     "output_type": "stream",
     "text": [
      "✅ UP000291219: 4191 proteins parsed\n"
     ]
    },
    {
     "name": "stderr",
     "output_type": "stream",
     "text": [
      " 58%|█████▊    | 137/237 [23:42<20:23, 12.24s/it]"
     ]
    },
    {
     "name": "stdout",
     "output_type": "stream",
     "text": [
      "✅ UP000013047: 4836 proteins parsed\n"
     ]
    },
    {
     "name": "stderr",
     "output_type": "stream",
     "text": [
      " 58%|█████▊    | 138/237 [23:46<16:16,  9.87s/it]"
     ]
    },
    {
     "name": "stdout",
     "output_type": "stream",
     "text": [
      "✅ UP000178516: 2322 proteins parsed\n"
     ]
    },
    {
     "name": "stderr",
     "output_type": "stream",
     "text": [
      " 59%|█████▊    | 139/237 [23:54<15:18,  9.37s/it]"
     ]
    },
    {
     "name": "stdout",
     "output_type": "stream",
     "text": [
      "✅ UP000292783: 4688 proteins parsed\n"
     ]
    },
    {
     "name": "stderr",
     "output_type": "stream",
     "text": [
      " 59%|█████▉    | 140/237 [24:06<16:25, 10.16s/it]"
     ]
    },
    {
     "name": "stdout",
     "output_type": "stream",
     "text": [
      "✅ UP000245990: 6454 proteins parsed\n"
     ]
    },
    {
     "name": "stderr",
     "output_type": "stream",
     "text": [
      " 59%|█████▉    | 141/237 [24:13<14:33,  9.10s/it]"
     ]
    },
    {
     "name": "stdout",
     "output_type": "stream",
     "text": [
      "✅ UP000248024: 3167 proteins parsed\n"
     ]
    },
    {
     "name": "stderr",
     "output_type": "stream",
     "text": [
      " 60%|█████▉    | 142/237 [24:20<13:32,  8.55s/it]"
     ]
    },
    {
     "name": "stdout",
     "output_type": "stream",
     "text": [
      "✅ UP000468742: 5656 proteins parsed\n"
     ]
    },
    {
     "name": "stderr",
     "output_type": "stream",
     "text": [
      " 60%|██████    | 143/237 [24:22<10:15,  6.55s/it]"
     ]
    },
    {
     "name": "stdout",
     "output_type": "stream",
     "text": [
      "✅ UP000557613: 1047 proteins parsed\n"
     ]
    },
    {
     "name": "stderr",
     "output_type": "stream",
     "text": [
      " 61%|██████    | 144/237 [24:30<10:36,  6.84s/it]"
     ]
    },
    {
     "name": "stdout",
     "output_type": "stream",
     "text": [
      "✅ UP000580043: 5080 proteins parsed\n"
     ]
    },
    {
     "name": "stderr",
     "output_type": "stream",
     "text": [
      " 61%|██████    | 145/237 [24:36<10:10,  6.63s/it]"
     ]
    },
    {
     "name": "stdout",
     "output_type": "stream",
     "text": [
      "✅ UP000267650: 3260 proteins parsed\n"
     ]
    },
    {
     "name": "stderr",
     "output_type": "stream",
     "text": [
      " 62%|██████▏   | 146/237 [24:41<09:34,  6.31s/it]"
     ]
    },
    {
     "name": "stdout",
     "output_type": "stream",
     "text": [
      "✅ UP000192473: 3502 proteins parsed\n"
     ]
    },
    {
     "name": "stderr",
     "output_type": "stream",
     "text": [
      " 62%|██████▏   | 147/237 [24:48<09:39,  6.44s/it]"
     ]
    },
    {
     "name": "stdout",
     "output_type": "stream",
     "text": [
      "✅ UP000473322: 3762 proteins parsed\n"
     ]
    },
    {
     "name": "stderr",
     "output_type": "stream",
     "text": [
      " 62%|██████▏   | 148/237 [24:53<09:04,  6.11s/it]"
     ]
    },
    {
     "name": "stdout",
     "output_type": "stream",
     "text": [
      "✅ UP000199102: 3014 proteins parsed\n"
     ]
    },
    {
     "name": "stderr",
     "output_type": "stream",
     "text": [
      " 63%|██████▎   | 149/237 [24:54<06:42,  4.58s/it]"
     ]
    },
    {
     "name": "stdout",
     "output_type": "stream",
     "text": [
      "✅ UP000326137: 274 proteins parsed\n"
     ]
    },
    {
     "name": "stderr",
     "output_type": "stream",
     "text": [
      " 64%|██████▎   | 151/237 [24:59<04:36,  3.22s/it]"
     ]
    },
    {
     "name": "stdout",
     "output_type": "stream",
     "text": [
      "✅ UP000012063: 2662 proteins parsed\n",
      "✅ UP000288884: 7 proteins parsed\n"
     ]
    },
    {
     "name": "stderr",
     "output_type": "stream",
     "text": [
      " 64%|██████▍   | 152/237 [25:03<05:01,  3.55s/it]"
     ]
    },
    {
     "name": "stdout",
     "output_type": "stream",
     "text": [
      "✅ UP000297111: 1743 proteins parsed\n"
     ]
    },
    {
     "name": "stderr",
     "output_type": "stream",
     "text": [
      " 65%|██████▍   | 153/237 [25:09<05:51,  4.18s/it]"
     ]
    },
    {
     "name": "stdout",
     "output_type": "stream",
     "text": [
      "✅ UP000196124: 2923 proteins parsed\n"
     ]
    },
    {
     "name": "stderr",
     "output_type": "stream",
     "text": [
      " 65%|██████▍   | 154/237 [25:17<07:19,  5.30s/it]"
     ]
    },
    {
     "name": "stdout",
     "output_type": "stream",
     "text": [
      "✅ UP000437123: 4942 proteins parsed\n"
     ]
    },
    {
     "name": "stderr",
     "output_type": "stream",
     "text": [
      " 65%|██████▌   | 155/237 [25:23<07:36,  5.57s/it]"
     ]
    },
    {
     "name": "stdout",
     "output_type": "stream",
     "text": [
      "✅ UP000316214: 4239 proteins parsed\n"
     ]
    },
    {
     "name": "stderr",
     "output_type": "stream",
     "text": [
      " 66%|██████▌   | 156/237 [26:22<29:05, 21.55s/it]"
     ]
    },
    {
     "name": "stdout",
     "output_type": "stream",
     "text": [
      "✅ UP000515126: 38135 proteins parsed\n"
     ]
    },
    {
     "name": "stderr",
     "output_type": "stream",
     "text": [
      " 66%|██████▌   | 157/237 [26:28<22:35, 16.95s/it]"
     ]
    },
    {
     "name": "stdout",
     "output_type": "stream",
     "text": [
      "✅ UP000227043: 4097 proteins parsed\n"
     ]
    },
    {
     "name": "stderr",
     "output_type": "stream",
     "text": [
      " 67%|██████▋   | 158/237 [26:33<17:24, 13.22s/it]"
     ]
    },
    {
     "name": "stdout",
     "output_type": "stream",
     "text": [
      "✅ UP000678406: 3052 proteins parsed\n"
     ]
    },
    {
     "name": "stderr",
     "output_type": "stream",
     "text": [
      " 67%|██████▋   | 159/237 [26:39<14:22, 11.05s/it]"
     ]
    },
    {
     "name": "stdout",
     "output_type": "stream",
     "text": [
      "✅ UP000321694: 3798 proteins parsed\n"
     ]
    },
    {
     "name": "stderr",
     "output_type": "stream",
     "text": [
      " 68%|██████▊   | 160/237 [26:47<12:58, 10.11s/it]"
     ]
    },
    {
     "name": "stdout",
     "output_type": "stream",
     "text": [
      "✅ UP000199032: 4245 proteins parsed\n"
     ]
    },
    {
     "name": "stderr",
     "output_type": "stream",
     "text": [
      " 68%|██████▊   | 161/237 [26:52<11:10,  8.82s/it]"
     ]
    },
    {
     "name": "stdout",
     "output_type": "stream",
     "text": [
      "✅ UP000028638: 4116 proteins parsed\n"
     ]
    },
    {
     "name": "stderr",
     "output_type": "stream",
     "text": [
      " 68%|██████▊   | 162/237 [26:57<09:24,  7.52s/it]"
     ]
    },
    {
     "name": "stdout",
     "output_type": "stream",
     "text": [
      "✅ UP000192458: 2803 proteins parsed\n"
     ]
    },
    {
     "name": "stderr",
     "output_type": "stream",
     "text": [
      " 69%|██████▉   | 163/237 [27:04<09:03,  7.34s/it]"
     ]
    },
    {
     "name": "stdout",
     "output_type": "stream",
     "text": [
      "✅ UP000244930: 4055 proteins parsed\n"
     ]
    },
    {
     "name": "stderr",
     "output_type": "stream",
     "text": [
      " 69%|██████▉   | 164/237 [28:49<44:45, 36.78s/it]"
     ]
    },
    {
     "name": "stdout",
     "output_type": "stream",
     "text": [
      "✅ UP000006718: 44389 proteins parsed\n"
     ]
    },
    {
     "name": "stderr",
     "output_type": "stream",
     "text": [
      " 70%|██████▉   | 165/237 [28:59<34:14, 28.53s/it]"
     ]
    },
    {
     "name": "stdout",
     "output_type": "stream",
     "text": [
      "✅ UP000389128: 4972 proteins parsed\n"
     ]
    },
    {
     "name": "stderr",
     "output_type": "stream",
     "text": [
      " 70%|███████   | 166/237 [29:03<25:10, 21.28s/it]"
     ]
    },
    {
     "name": "stdout",
     "output_type": "stream",
     "text": [
      "✅ UP000226507: 2643 proteins parsed\n"
     ]
    },
    {
     "name": "stderr",
     "output_type": "stream",
     "text": [
      " 70%|███████   | 167/237 [29:10<19:59, 17.13s/it]"
     ]
    },
    {
     "name": "stdout",
     "output_type": "stream",
     "text": [
      "✅ UP000074561: 5385 proteins parsed\n"
     ]
    },
    {
     "name": "stderr",
     "output_type": "stream",
     "text": [
      " 71%|███████   | 168/237 [29:18<16:32, 14.38s/it]"
     ]
    },
    {
     "name": "stdout",
     "output_type": "stream",
     "text": [
      "✅ UP000317813: 4839 proteins parsed\n"
     ]
    },
    {
     "name": "stderr",
     "output_type": "stream",
     "text": [
      " 71%|███████▏  | 169/237 [29:27<14:18, 12.63s/it]"
     ]
    },
    {
     "name": "stdout",
     "output_type": "stream",
     "text": [
      "✅ UP000199533: 3744 proteins parsed\n"
     ]
    },
    {
     "name": "stderr",
     "output_type": "stream",
     "text": [
      " 72%|███████▏  | 170/237 [29:33<12:03, 10.79s/it]"
     ]
    },
    {
     "name": "stdout",
     "output_type": "stream",
     "text": [
      "✅ UP000485501: 3523 proteins parsed\n"
     ]
    },
    {
     "name": "stderr",
     "output_type": "stream",
     "text": [
      " 72%|███████▏  | 171/237 [29:36<09:13,  8.39s/it]"
     ]
    },
    {
     "name": "stdout",
     "output_type": "stream",
     "text": [
      "✅ UP000009077: 1922 proteins parsed\n"
     ]
    },
    {
     "name": "stderr",
     "output_type": "stream",
     "text": [
      " 73%|███████▎  | 172/237 [29:38<07:02,  6.50s/it]"
     ]
    },
    {
     "name": "stdout",
     "output_type": "stream",
     "text": [
      "✅ UP000232361: 1480 proteins parsed\n"
     ]
    },
    {
     "name": "stderr",
     "output_type": "stream",
     "text": [
      " 73%|███████▎  | 173/237 [29:45<06:54,  6.47s/it]"
     ]
    },
    {
     "name": "stdout",
     "output_type": "stream",
     "text": [
      "✅ UP000233401: 3232 proteins parsed\n"
     ]
    },
    {
     "name": "stderr",
     "output_type": "stream",
     "text": [
      " 73%|███████▎  | 174/237 [29:51<06:50,  6.52s/it]"
     ]
    },
    {
     "name": "stdout",
     "output_type": "stream",
     "text": [
      "✅ UP000683229: 3137 proteins parsed\n"
     ]
    },
    {
     "name": "stderr",
     "output_type": "stream",
     "text": [
      " 74%|███████▍  | 175/237 [29:56<06:05,  5.90s/it]"
     ]
    },
    {
     "name": "stdout",
     "output_type": "stream",
     "text": [
      "✅ UP000298402: 1991 proteins parsed\n"
     ]
    },
    {
     "name": "stderr",
     "output_type": "stream",
     "text": [
      " 74%|███████▍  | 176/237 [30:06<07:13,  7.10s/it]"
     ]
    },
    {
     "name": "stdout",
     "output_type": "stream",
     "text": [
      "✅ UP000008392: 4429 proteins parsed\n"
     ]
    },
    {
     "name": "stderr",
     "output_type": "stream",
     "text": [
      " 75%|███████▍  | 177/237 [30:11<06:42,  6.71s/it]"
     ]
    },
    {
     "name": "stdout",
     "output_type": "stream",
     "text": [
      "✅ UP000430327: 2993 proteins parsed\n"
     ]
    },
    {
     "name": "stderr",
     "output_type": "stream",
     "text": [
      " 75%|███████▌  | 178/237 [30:17<06:23,  6.50s/it]"
     ]
    },
    {
     "name": "stdout",
     "output_type": "stream",
     "text": [
      "✅ UP000036902: 3723 proteins parsed\n"
     ]
    },
    {
     "name": "stderr",
     "output_type": "stream",
     "text": [
      " 76%|███████▌  | 179/237 [30:23<06:01,  6.24s/it]"
     ]
    },
    {
     "name": "stdout",
     "output_type": "stream",
     "text": [
      "✅ UP000226925: 3703 proteins parsed\n"
     ]
    },
    {
     "name": "stderr",
     "output_type": "stream",
     "text": [
      " 76%|███████▌  | 180/237 [30:28<05:25,  5.71s/it]"
     ]
    },
    {
     "name": "stdout",
     "output_type": "stream",
     "text": [
      "✅ UP000718593: 3147 proteins parsed\n"
     ]
    },
    {
     "name": "stderr",
     "output_type": "stream",
     "text": [
      " 76%|███████▋  | 181/237 [30:34<05:36,  6.01s/it]"
     ]
    },
    {
     "name": "stdout",
     "output_type": "stream",
     "text": [
      "✅ UP000233557: 3699 proteins parsed\n"
     ]
    },
    {
     "name": "stderr",
     "output_type": "stream",
     "text": [
      " 77%|███████▋  | 182/237 [30:39<05:17,  5.77s/it]"
     ]
    },
    {
     "name": "stdout",
     "output_type": "stream",
     "text": [
      "✅ UP000259012: 3738 proteins parsed\n"
     ]
    },
    {
     "name": "stderr",
     "output_type": "stream",
     "text": [
      " 77%|███████▋  | 183/237 [30:43<04:35,  5.10s/it]"
     ]
    },
    {
     "name": "stdout",
     "output_type": "stream",
     "text": [
      "✅ UP000234749: 2968 proteins parsed\n"
     ]
    },
    {
     "name": "stderr",
     "output_type": "stream",
     "text": [
      " 78%|███████▊  | 184/237 [30:47<04:12,  4.76s/it]"
     ]
    },
    {
     "name": "stdout",
     "output_type": "stream",
     "text": [
      "✅ UP000221591: 2310 proteins parsed\n"
     ]
    },
    {
     "name": "stderr",
     "output_type": "stream",
     "text": [
      " 78%|███████▊  | 186/237 [30:59<04:06,  4.83s/it]"
     ]
    },
    {
     "name": "stdout",
     "output_type": "stream",
     "text": [
      "✅ UP000035170: 6788 proteins parsed\n",
      "❌ Failed to download UP001197729\n"
     ]
    },
    {
     "name": "stderr",
     "output_type": "stream",
     "text": [
      " 79%|███████▉  | 187/237 [32:30<25:37, 30.75s/it]"
     ]
    },
    {
     "name": "stdout",
     "output_type": "stream",
     "text": [
      "✅ UP000233100: 50205 proteins parsed\n"
     ]
    },
    {
     "name": "stderr",
     "output_type": "stream",
     "text": [
      " 79%|███████▉  | 188/237 [32:39<19:40, 24.08s/it]"
     ]
    },
    {
     "name": "stdout",
     "output_type": "stream",
     "text": [
      "✅ UP000324880: 5345 proteins parsed\n"
     ]
    },
    {
     "name": "stderr",
     "output_type": "stream",
     "text": [
      " 80%|███████▉  | 189/237 [32:46<15:10, 18.96s/it]"
     ]
    },
    {
     "name": "stdout",
     "output_type": "stream",
     "text": [
      "✅ UP000663444: 3712 proteins parsed\n"
     ]
    },
    {
     "name": "stderr",
     "output_type": "stream",
     "text": [
      " 80%|████████  | 190/237 [32:52<11:57, 15.26s/it]"
     ]
    },
    {
     "name": "stdout",
     "output_type": "stream",
     "text": [
      "✅ UP000066284: 3371 proteins parsed\n"
     ]
    },
    {
     "name": "stderr",
     "output_type": "stream",
     "text": [
      " 81%|████████  | 191/237 [32:56<09:09, 11.94s/it]"
     ]
    },
    {
     "name": "stdout",
     "output_type": "stream",
     "text": [
      "✅ UP000244244: 3203 proteins parsed\n"
     ]
    },
    {
     "name": "stderr",
     "output_type": "stream",
     "text": [
      " 81%|████████  | 192/237 [33:01<07:25,  9.90s/it]"
     ]
    },
    {
     "name": "stdout",
     "output_type": "stream",
     "text": [
      "✅ UP000183249: 2594 proteins parsed\n"
     ]
    },
    {
     "name": "stderr",
     "output_type": "stream",
     "text": [
      " 81%|████████▏ | 193/237 [33:12<07:20, 10.02s/it]"
     ]
    },
    {
     "name": "stdout",
     "output_type": "stream",
     "text": [
      "✅ UP000198887: 5040 proteins parsed\n"
     ]
    },
    {
     "name": "stderr",
     "output_type": "stream",
     "text": [
      " 82%|████████▏ | 194/237 [33:22<07:13, 10.07s/it]"
     ]
    },
    {
     "name": "stdout",
     "output_type": "stream",
     "text": [
      "✅ UP000198674: 4740 proteins parsed\n"
     ]
    },
    {
     "name": "stderr",
     "output_type": "stream",
     "text": [
      " 82%|████████▏ | 195/237 [33:26<05:48,  8.30s/it]"
     ]
    },
    {
     "name": "stdout",
     "output_type": "stream",
     "text": [
      "✅ UP000257121: 2524 proteins parsed\n"
     ]
    },
    {
     "name": "stderr",
     "output_type": "stream",
     "text": [
      " 83%|████████▎ | 196/237 [33:34<05:29,  8.03s/it]"
     ]
    },
    {
     "name": "stdout",
     "output_type": "stream",
     "text": [
      "✅ UP000198586: 4603 proteins parsed\n"
     ]
    },
    {
     "name": "stderr",
     "output_type": "stream",
     "text": [
      " 83%|████████▎ | 197/237 [33:36<04:12,  6.32s/it]"
     ]
    },
    {
     "name": "stdout",
     "output_type": "stream",
     "text": [
      "✅ UP000178407: 1690 proteins parsed\n"
     ]
    },
    {
     "name": "stderr",
     "output_type": "stream",
     "text": [
      " 84%|████████▎ | 198/237 [33:39<03:33,  5.47s/it]"
     ]
    },
    {
     "name": "stdout",
     "output_type": "stream",
     "text": [
      "✅ UP000226943: 2430 proteins parsed\n"
     ]
    },
    {
     "name": "stderr",
     "output_type": "stream",
     "text": [
      " 84%|████████▍ | 199/237 [33:44<03:19,  5.26s/it]"
     ]
    },
    {
     "name": "stdout",
     "output_type": "stream",
     "text": [
      "✅ UP000186203: 3869 proteins parsed\n"
     ]
    },
    {
     "name": "stderr",
     "output_type": "stream",
     "text": [
      " 84%|████████▍ | 200/237 [33:49<03:12,  5.19s/it]"
     ]
    },
    {
     "name": "stdout",
     "output_type": "stream",
     "text": [
      "✅ UP000198732: 2986 proteins parsed\n"
     ]
    },
    {
     "name": "stderr",
     "output_type": "stream",
     "text": [
      " 85%|████████▍ | 201/237 [35:00<14:56, 24.91s/it]"
     ]
    },
    {
     "name": "stdout",
     "output_type": "stream",
     "text": [
      "✅ UP000233040: 40117 proteins parsed\n"
     ]
    },
    {
     "name": "stderr",
     "output_type": "stream",
     "text": [
      " 85%|████████▌ | 202/237 [35:22<13:58, 23.95s/it]"
     ]
    },
    {
     "name": "stdout",
     "output_type": "stream",
     "text": [
      "✅ UP000054771: 15359 proteins parsed\n"
     ]
    },
    {
     "name": "stderr",
     "output_type": "stream",
     "text": [
      " 86%|████████▌ | 203/237 [35:26<10:17, 18.16s/it]"
     ]
    },
    {
     "name": "stdout",
     "output_type": "stream",
     "text": [
      "✅ UP000185062: 2414 proteins parsed\n"
     ]
    },
    {
     "name": "stderr",
     "output_type": "stream",
     "text": [
      " 86%|████████▌ | 204/237 [35:35<08:28, 15.42s/it]"
     ]
    },
    {
     "name": "stdout",
     "output_type": "stream",
     "text": [
      "✅ UP000218978: 4286 proteins parsed\n"
     ]
    },
    {
     "name": "stderr",
     "output_type": "stream",
     "text": [
      " 86%|████████▋ | 205/237 [35:41<06:36, 12.41s/it]"
     ]
    },
    {
     "name": "stdout",
     "output_type": "stream",
     "text": [
      "✅ UP000260281: 3010 proteins parsed\n"
     ]
    },
    {
     "name": "stderr",
     "output_type": "stream",
     "text": [
      " 87%|████████▋ | 206/237 [35:48<05:31, 10.69s/it]"
     ]
    },
    {
     "name": "stdout",
     "output_type": "stream",
     "text": [
      "✅ UP000199493: 3356 proteins parsed\n"
     ]
    },
    {
     "name": "stderr",
     "output_type": "stream",
     "text": [
      " 87%|████████▋ | 207/237 [35:53<04:35,  9.17s/it]"
     ]
    },
    {
     "name": "stdout",
     "output_type": "stream",
     "text": [
      "✅ UP000238326: 3366 proteins parsed\n"
     ]
    },
    {
     "name": "stderr",
     "output_type": "stream",
     "text": [
      " 88%|████████▊ | 208/237 [36:05<04:50, 10.02s/it]"
     ]
    },
    {
     "name": "stdout",
     "output_type": "stream",
     "text": [
      "✅ UP000215367: 6435 proteins parsed\n"
     ]
    },
    {
     "name": "stderr",
     "output_type": "stream",
     "text": [
      " 88%|████████▊ | 209/237 [36:09<03:45,  8.06s/it]"
     ]
    },
    {
     "name": "stdout",
     "output_type": "stream",
     "text": [
      "✅ UP000192310: 2398 proteins parsed\n"
     ]
    },
    {
     "name": "stderr",
     "output_type": "stream",
     "text": [
      " 89%|████████▊ | 210/237 [36:15<03:23,  7.54s/it]"
     ]
    },
    {
     "name": "stdout",
     "output_type": "stream",
     "text": [
      "✅ UP000199345: 3151 proteins parsed\n"
     ]
    },
    {
     "name": "stderr",
     "output_type": "stream",
     "text": [
      " 89%|████████▉ | 211/237 [36:18<02:37,  6.05s/it]"
     ]
    },
    {
     "name": "stdout",
     "output_type": "stream",
     "text": [
      "✅ UP000227232: 1710 proteins parsed\n"
     ]
    },
    {
     "name": "stderr",
     "output_type": "stream",
     "text": [
      " 89%|████████▉ | 212/237 [36:24<02:30,  6.02s/it]"
     ]
    },
    {
     "name": "stdout",
     "output_type": "stream",
     "text": [
      "✅ UP000029844: 3104 proteins parsed\n"
     ]
    },
    {
     "name": "stderr",
     "output_type": "stream",
     "text": [
      " 90%|████████▉ | 213/237 [36:31<02:31,  6.33s/it]"
     ]
    },
    {
     "name": "stdout",
     "output_type": "stream",
     "text": [
      "✅ UP000574694: 4183 proteins parsed\n"
     ]
    },
    {
     "name": "stderr",
     "output_type": "stream",
     "text": [
      " 90%|█████████ | 214/237 [37:50<10:51, 28.34s/it]"
     ]
    },
    {
     "name": "stdout",
     "output_type": "stream",
     "text": [
      "✅ UP000240080: 42996 proteins parsed\n"
     ]
    },
    {
     "name": "stderr",
     "output_type": "stream",
     "text": [
      " 91%|█████████ | 215/237 [37:55<07:49, 21.33s/it]"
     ]
    },
    {
     "name": "stdout",
     "output_type": "stream",
     "text": [
      "✅ UP000234867: 3111 proteins parsed\n"
     ]
    },
    {
     "name": "stderr",
     "output_type": "stream",
     "text": [
      " 91%|█████████ | 216/237 [37:59<05:38, 16.10s/it]"
     ]
    },
    {
     "name": "stdout",
     "output_type": "stream",
     "text": [
      "✅ UP000234896: 3281 proteins parsed\n"
     ]
    },
    {
     "name": "stderr",
     "output_type": "stream",
     "text": [
      " 92%|█████████▏| 217/237 [38:06<04:23, 13.19s/it]"
     ]
    },
    {
     "name": "stdout",
     "output_type": "stream",
     "text": [
      "✅ UP000435342: 4121 proteins parsed\n"
     ]
    },
    {
     "name": "stderr",
     "output_type": "stream",
     "text": [
      " 92%|█████████▏| 218/237 [38:13<03:36, 11.37s/it]"
     ]
    },
    {
     "name": "stdout",
     "output_type": "stream",
     "text": [
      "✅ UP000494220: 4350 proteins parsed\n"
     ]
    },
    {
     "name": "stderr",
     "output_type": "stream",
     "text": [
      " 92%|█████████▏| 219/237 [39:45<10:44, 35.78s/it]"
     ]
    },
    {
     "name": "stdout",
     "output_type": "stream",
     "text": [
      "✅ UP000654075: 55419 proteins parsed\n"
     ]
    },
    {
     "name": "stderr",
     "output_type": "stream",
     "text": [
      " 93%|█████████▎| 220/237 [39:52<07:38, 26.96s/it]"
     ]
    },
    {
     "name": "stdout",
     "output_type": "stream",
     "text": [
      "✅ UP000294109: 4235 proteins parsed\n"
     ]
    },
    {
     "name": "stderr",
     "output_type": "stream",
     "text": [
      " 93%|█████████▎| 221/237 [40:00<05:41, 21.35s/it]"
     ]
    },
    {
     "name": "stdout",
     "output_type": "stream",
     "text": [
      "✅ UP000186819: 4623 proteins parsed\n"
     ]
    },
    {
     "name": "stderr",
     "output_type": "stream",
     "text": [
      " 94%|█████████▎| 222/237 [40:06<04:09, 16.64s/it]"
     ]
    },
    {
     "name": "stdout",
     "output_type": "stream",
     "text": [
      "✅ UP000536534: 3215 proteins parsed\n"
     ]
    },
    {
     "name": "stderr",
     "output_type": "stream",
     "text": [
      " 94%|█████████▍| 223/237 [40:11<03:07, 13.38s/it]"
     ]
    },
    {
     "name": "stdout",
     "output_type": "stream",
     "text": [
      "✅ UP000012179: 2855 proteins parsed\n"
     ]
    },
    {
     "name": "stderr",
     "output_type": "stream",
     "text": [
      " 95%|█████████▍| 224/237 [40:17<02:24, 11.15s/it]"
     ]
    },
    {
     "name": "stdout",
     "output_type": "stream",
     "text": [
      "✅ UP000233284: 3966 proteins parsed\n"
     ]
    },
    {
     "name": "stderr",
     "output_type": "stream",
     "text": [
      " 95%|█████████▍| 225/237 [40:21<01:47,  8.96s/it]"
     ]
    },
    {
     "name": "stdout",
     "output_type": "stream",
     "text": [
      "✅ UP000258687: 2108 proteins parsed\n"
     ]
    },
    {
     "name": "stderr",
     "output_type": "stream",
     "text": [
      " 95%|█████████▌| 226/237 [40:26<01:24,  7.72s/it]"
     ]
    },
    {
     "name": "stdout",
     "output_type": "stream",
     "text": [
      "✅ UP000256642: 2675 proteins parsed\n"
     ]
    },
    {
     "name": "stderr",
     "output_type": "stream",
     "text": [
      " 96%|█████████▌| 227/237 [40:36<01:24,  8.43s/it]"
     ]
    },
    {
     "name": "stdout",
     "output_type": "stream",
     "text": [
      "✅ UP000000625: 4402 proteins parsed\n"
     ]
    },
    {
     "name": "stderr",
     "output_type": "stream",
     "text": [
      " 96%|█████████▌| 228/237 [40:39<01:02,  6.89s/it]"
     ]
    },
    {
     "name": "stdout",
     "output_type": "stream",
     "text": [
      "✅ UP000070503: 1550 proteins parsed\n"
     ]
    },
    {
     "name": "stderr",
     "output_type": "stream",
     "text": [
      " 97%|█████████▋| 229/237 [40:44<00:48,  6.06s/it]"
     ]
    },
    {
     "name": "stdout",
     "output_type": "stream",
     "text": [
      "✅ UP000672741: 2520 proteins parsed\n"
     ]
    },
    {
     "name": "stderr",
     "output_type": "stream",
     "text": [
      " 97%|█████████▋| 230/237 [40:52<00:47,  6.74s/it]"
     ]
    },
    {
     "name": "stdout",
     "output_type": "stream",
     "text": [
      "✅ UP000198284: 4789 proteins parsed\n"
     ]
    },
    {
     "name": "stderr",
     "output_type": "stream",
     "text": [
      " 97%|█████████▋| 231/237 [40:59<00:40,  6.79s/it]"
     ]
    },
    {
     "name": "stdout",
     "output_type": "stream",
     "text": [
      "✅ UP000244133: 3193 proteins parsed\n"
     ]
    },
    {
     "name": "stderr",
     "output_type": "stream",
     "text": [
      " 98%|█████████▊| 232/237 [41:04<00:31,  6.30s/it]"
     ]
    },
    {
     "name": "stdout",
     "output_type": "stream",
     "text": [
      "✅ UP000229946: 3919 proteins parsed\n"
     ]
    },
    {
     "name": "stderr",
     "output_type": "stream",
     "text": [
      " 98%|█████████▊| 233/237 [41:10<00:24,  6.12s/it]"
     ]
    },
    {
     "name": "stdout",
     "output_type": "stream",
     "text": [
      "✅ UP000176679: 2713 proteins parsed\n"
     ]
    },
    {
     "name": "stderr",
     "output_type": "stream",
     "text": [
      " 99%|█████████▊| 234/237 [41:18<00:20,  6.77s/it]"
     ]
    },
    {
     "name": "stdout",
     "output_type": "stream",
     "text": [
      "✅ UP000295129: 4840 proteins parsed\n"
     ]
    },
    {
     "name": "stderr",
     "output_type": "stream",
     "text": [
      " 99%|█████████▉| 235/237 [41:25<00:13,  6.79s/it]"
     ]
    },
    {
     "name": "stdout",
     "output_type": "stream",
     "text": [
      "✅ UP000248826: 3425 proteins parsed\n"
     ]
    },
    {
     "name": "stderr",
     "output_type": "stream",
     "text": [
      "100%|██████████| 237/237 [41:28<00:00, 10.50s/it]"
     ]
    },
    {
     "name": "stdout",
     "output_type": "stream",
     "text": [
      "✅ UP000177544: 1606 proteins parsed\n",
      "❌ Failed to download UP001302684\n"
     ]
    },
    {
     "name": "stderr",
     "output_type": "stream",
     "text": [
      "\n"
     ]
    },
    {
     "name": "stdout",
     "output_type": "stream",
     "text": [
      "\n",
      "🎯 Combined database saved to: Diamond_alignments/session_diamond_align_2025-05-31_15-40-56\\diamond_proteins_remaining_proteomes.fasta\n",
      "🧬 Total proteins in database (no deduplication): 1318992\n"
     ]
    }
   ],
   "source": [
    "import pandas as pd\n",
    "import os\n",
    "import requests\n",
    "from tqdm import tqdm\n",
    "\n",
    "# === 1. FASTA download function ===\n",
    "def download_fasta(proteome_id):\n",
    "    url = f\"https://rest.uniprot.org/uniprotkb/stream?query=proteome:{proteome_id}&format=fasta\"\n",
    "    try:\n",
    "        response = requests.get(url)\n",
    "        if response.ok and response.text.strip():\n",
    "            return response.text\n",
    "    except:\n",
    "        pass\n",
    "    return None\n",
    "\n",
    "# === 2. Paths ===\n",
    "proteome_csv_path = r\"Diamond_alignments/session_diamond_align_2025-05-31_15-40-56/diamond_proteome_matches_remaining.csv\"\n",
    "output_dir = os.path.dirname(proteome_csv_path)\n",
    "\n",
    "fasta_filename = \"diamond_proteins_remaining_proteomes.fasta\"\n",
    "combined_fasta_path = os.path.join(output_dir, fasta_filename)\n",
    "\n",
    "# === 3. Load proteome IDs ===\n",
    "df = pd.read_csv(proteome_csv_path)\n",
    "valid_df = df[df[\"Proteome ID\"].notna()]\n",
    "proteome_ids = valid_df[\"Proteome ID\"].unique()\n",
    "\n",
    "# === 4. Download all proteins (no deduplication) ===\n",
    "all_entries = []\n",
    "total_downloaded = 0\n",
    "\n",
    "print(\"\\n📦 Starting full protein download (no deduplication)...\")\n",
    "\n",
    "for upid in tqdm(proteome_ids):\n",
    "    fasta = download_fasta(upid)\n",
    "    if not fasta:\n",
    "        print(f\"❌ Failed to download {upid}\")\n",
    "        continue\n",
    "\n",
    "    proteins = fasta.strip().split(\"\\n>\")\n",
    "    for i, entry in enumerate(proteins):\n",
    "        if not entry.startswith(\">\"):\n",
    "            entry = \">\" + entry\n",
    "        all_entries.append(entry)\n",
    "\n",
    "    print(f\"✅ {upid}: {len(proteins)} proteins parsed\")\n",
    "    total_downloaded += len(proteins)\n",
    "\n",
    "# === 5. Save all entries ===\n",
    "with open(combined_fasta_path, \"w\") as out_f:\n",
    "    out_f.write(\"\\n\".join(all_entries))\n",
    "\n",
    "# === 6. Summary ===\n",
    "print(f\"\\n🎯 Combined database saved to: {combined_fasta_path}\")\n",
    "print(f\"🧬 Total proteins in database (no deduplication): {total_downloaded}\")\n"
   ]
  },
  {
   "cell_type": "code",
   "execution_count": 21,
   "id": "5c0956c3",
   "metadata": {},
   "outputs": [
    {
     "name": "stdout",
     "output_type": "stream",
     "text": [
      "\n",
      "✅ Combined protein FASTA created.\n",
      "📁 Output FASTA: Diamond_alignments/session_diamond_align_2025-05-31_15-40-56\\all_diamond_proteins_combined.fasta\n",
      "🧬 Total protein entries in combined database: 2096492\n"
     ]
    }
   ],
   "source": [
    "import os\n",
    "\n",
    "# === 1. File paths (adjust if needed) ===\n",
    "session_folder = \"Diamond_alignments/session_diamond_align_2025-05-31_15-40-56\"\n",
    "top20_fasta = r\"C:\\Users\\Yusuf\\OneDrive\\LST\\Derde_jaar\\Y3Q4\\Metaproteomics_with_db\\pipelines\\Diamond_alignments\\session_diamond_align_2025-05-31_15-22-59\\from_diamond_organisms_15_hits_top20.fasta\"\n",
    "remaining_fasta = os.path.join(session_folder, \"diamond_proteins_remaining_proteomes.fasta\")\n",
    "combined_fasta = os.path.join(session_folder, \"all_diamond_proteins_combined.fasta\")\n",
    "\n",
    "# === 2. Combine both files ===\n",
    "total_entries = 0\n",
    "with open(combined_fasta, \"w\") as out_f:\n",
    "    for path in [top20_fasta, remaining_fasta]:\n",
    "        with open(path, \"r\") as f_in:\n",
    "            content = f_in.read().strip()\n",
    "            if not content:\n",
    "                continue\n",
    "            entries = content.split(\"\\n>\")\n",
    "            for i, entry in enumerate(entries):\n",
    "                if not entry.startswith(\">\"):\n",
    "                    entry = \">\" + entry\n",
    "                out_f.write(entry.strip() + \"\\n\")\n",
    "                total_entries += 1\n",
    "\n",
    "# === 3. Summary ===\n",
    "print(\"\\n✅ Combined protein FASTA created.\")\n",
    "print(f\"📁 Output FASTA: {combined_fasta}\")\n",
    "print(f\"🧬 Total protein entries in combined database: {total_entries}\")"
   ]
  }
 ],
 "metadata": {
  "kernelspec": {
   "display_name": "Python 3",
   "language": "python",
   "name": "python3"
  },
  "language_info": {
   "codemirror_mode": {
    "name": "ipython",
    "version": 3
   },
   "file_extension": ".py",
   "mimetype": "text/x-python",
   "name": "python",
   "nbconvert_exporter": "python",
   "pygments_lexer": "ipython3",
   "version": "3.9.13"
  }
 },
 "nbformat": 4,
 "nbformat_minor": 5
}
