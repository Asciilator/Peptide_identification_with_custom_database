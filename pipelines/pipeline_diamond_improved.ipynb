{
 "cells": [
  {
   "cell_type": "code",
   "execution_count": 1,
   "id": "0ef703c7",
   "metadata": {},
   "outputs": [
    {
     "name": "stdout",
     "output_type": "stream",
     "text": [
      "Base path of the project: c:\\Users\\Yusuf\\OneDrive\\LST\\Derde_jaar\\Y3Q4\\Metaproteomics_with_db\n"
     ]
    }
   ],
   "source": [
    "from pathlib import Path\n",
    "\n",
    "# Automatically get the base path of your project\n",
    "base_path = Path.cwd().parents[0]  # adjust .parents[0] if needed\n",
    "print(\"Base path of the project:\", base_path)"
   ]
  },
  {
   "cell_type": "code",
   "execution_count": null,
   "id": "fa3f01f7",
   "metadata": {},
   "outputs": [],
   "source": [
    "# This code is more robust and will work regardless of the current working directory.\n",
    "# Make sure that base_path is defined correctly.\n",
    "# Ensure that the required packages are installed from the requirements.txt file\n",
    "!pip3 install -r \"{base_path}/requirements.txt\""
   ]
  },
  {
   "cell_type": "markdown",
   "id": "3d9fdd0c",
   "metadata": {},
   "source": [
    "### Step 1-2: Load De Novo Peptides and Prepare for DIAMOND Alignment\n",
    "\n",
    "In this pipeline, we aim to identify microbial taxa by aligning de novo peptide sequences to the UniRef100 protein database using **DIAMOND** (a fast sequence aligner). Unlike the `pept2lca` pipeline that relies on peptide-level taxonomy (via UniPept), this approach uses **protein-level matches** and maps those proteins back to organisms using UniProt annotations.\n",
    "\n",
    "These first two blocks perform the following:\n",
    "1. **Define the path to the DIAMOND database** built from the UniRef100 FASTA.\n",
    "2. **Load and filter** the de novo peptide predictions, retaining only high-confidence sequences (ALC > 70%).\n",
    "\n",
    "These peptides will later be aligned to the UniRef100 database using DIAMOND to obtain the best-matching protein accession IDs for taxonomic annotation.\n"
   ]
  },
  {
   "cell_type": "code",
   "execution_count": null,
   "id": "9e4d72b5",
   "metadata": {},
   "outputs": [],
   "source": [
    "# Define the path to the DIAMOND database (must end in .dmnd and be created beforehand)\n",
    "# Example: downloaded and built from UniRef100 using diamond makedb\n",
    "diamond_db = r\"E:\\Uniref100.dmnd\"  # Update this path based on where your .dmnd file is located"
   ]
  },
  {
   "cell_type": "code",
   "execution_count": null,
   "id": "c21d44e9",
   "metadata": {},
   "outputs": [
    {
     "name": "stdout",
     "output_type": "stream",
     "text": [
      "Original dataset shape: (189185, 20)\n",
      "Original Data (rows 24219-24227):\n"
     ]
    },
    {
     "data": {
      "text/html": [
       "<div>\n",
       "<style scoped>\n",
       "    .dataframe tbody tr th:only-of-type {\n",
       "        vertical-align: middle;\n",
       "    }\n",
       "\n",
       "    .dataframe tbody tr th {\n",
       "        vertical-align: top;\n",
       "    }\n",
       "\n",
       "    .dataframe thead th {\n",
       "        text-align: right;\n",
       "    }\n",
       "</style>\n",
       "<table border=\"1\" class=\"dataframe\">\n",
       "  <thead>\n",
       "    <tr style=\"text-align: right;\">\n",
       "      <th></th>\n",
       "      <th>Fraction</th>\n",
       "      <th>Source File</th>\n",
       "      <th>Feature</th>\n",
       "      <th>Peptide</th>\n",
       "      <th>Scan</th>\n",
       "      <th>Tag Length</th>\n",
       "      <th>Denovo Score</th>\n",
       "      <th>ALC (%)</th>\n",
       "      <th>length</th>\n",
       "      <th>m/z</th>\n",
       "      <th>z</th>\n",
       "      <th>RT</th>\n",
       "      <th>Predict RT</th>\n",
       "      <th>Area</th>\n",
       "      <th>Mass</th>\n",
       "      <th>ppm</th>\n",
       "      <th>PTM</th>\n",
       "      <th>local confidence (%)</th>\n",
       "      <th>tag (&gt;=0%)</th>\n",
       "      <th>mode</th>\n",
       "    </tr>\n",
       "  </thead>\n",
       "  <tbody>\n",
       "    <tr>\n",
       "      <th>24218</th>\n",
       "      <td>2</td>\n",
       "      <td>MP_RZ07032023_GW_flat_180min_DDA02.raw</td>\n",
       "      <td>-</td>\n",
       "      <td>KYAYFPVWVNDDKMSLPLR</td>\n",
       "      <td>F2:51275</td>\n",
       "      <td>19</td>\n",
       "      <td>76</td>\n",
       "      <td>68</td>\n",
       "      <td>19</td>\n",
       "      <td>781.3988</td>\n",
       "      <td>3</td>\n",
       "      <td>143.42</td>\n",
       "      <td>142.11</td>\n",
       "      <td>0.0</td>\n",
       "      <td>2341.1929</td>\n",
       "      <td>-7.8</td>\n",
       "      <td>NaN</td>\n",
       "      <td>45 39 41 35 33 43 89 98 98 94 95 96 94 90 83 4...</td>\n",
       "      <td>KYAYFPVWVNDDKMSLPLR</td>\n",
       "      <td>HCD</td>\n",
       "    </tr>\n",
       "    <tr>\n",
       "      <th>24219</th>\n",
       "      <td>1</td>\n",
       "      <td>MP_RZ07032023_GW_flat_180min_DDA01.raw</td>\n",
       "      <td>F1:35083</td>\n",
       "      <td>MWALDLR</td>\n",
       "      <td>F1:38190</td>\n",
       "      <td>7</td>\n",
       "      <td>76</td>\n",
       "      <td>78</td>\n",
       "      <td>7</td>\n",
       "      <td>452.7394</td>\n",
       "      <td>2</td>\n",
       "      <td>113.16</td>\n",
       "      <td>129.39</td>\n",
       "      <td>34600.0</td>\n",
       "      <td>903.4636</td>\n",
       "      <td>0.6</td>\n",
       "      <td>NaN</td>\n",
       "      <td>56 71 84 79 79 85 90</td>\n",
       "      <td>MWALDLR</td>\n",
       "      <td>HCD</td>\n",
       "    </tr>\n",
       "    <tr>\n",
       "      <th>24220</th>\n",
       "      <td>2</td>\n",
       "      <td>MP_RZ07032023_GW_flat_180min_DDA02.raw</td>\n",
       "      <td>F2:98838</td>\n",
       "      <td>LAAALTPAPVLAK</td>\n",
       "      <td>F2:33083</td>\n",
       "      <td>13</td>\n",
       "      <td>76</td>\n",
       "      <td>70</td>\n",
       "      <td>13</td>\n",
       "      <td>618.3896</td>\n",
       "      <td>2</td>\n",
       "      <td>100.95</td>\n",
       "      <td>110.95</td>\n",
       "      <td>13200000.0</td>\n",
       "      <td>1234.7649</td>\n",
       "      <td>-0.2</td>\n",
       "      <td>NaN</td>\n",
       "      <td>48 50 80 99 100 100 99 96 33 31 48 45 82</td>\n",
       "      <td>LAAALTPAPVLAK</td>\n",
       "      <td>HCD</td>\n",
       "    </tr>\n",
       "    <tr>\n",
       "      <th>24221</th>\n",
       "      <td>2</td>\n",
       "      <td>MP_RZ07032023_GW_flat_180min_DDA02.raw</td>\n",
       "      <td>F2:83383</td>\n",
       "      <td>APMSGLQNWK</td>\n",
       "      <td>F2:29687</td>\n",
       "      <td>10</td>\n",
       "      <td>76</td>\n",
       "      <td>70</td>\n",
       "      <td>10</td>\n",
       "      <td>566.2845</td>\n",
       "      <td>2</td>\n",
       "      <td>92.40</td>\n",
       "      <td>83.12</td>\n",
       "      <td>215000.0</td>\n",
       "      <td>1130.5542</td>\n",
       "      <td>0.3</td>\n",
       "      <td>NaN</td>\n",
       "      <td>96 94 85 92 82 41 28 21 69 92</td>\n",
       "      <td>APMSGLQNWK</td>\n",
       "      <td>HCD</td>\n",
       "    </tr>\n",
       "    <tr>\n",
       "      <th>24222</th>\n",
       "      <td>2</td>\n",
       "      <td>MP_RZ07032023_GW_flat_180min_DDA02.raw</td>\n",
       "      <td>F2:107262</td>\n",
       "      <td>SLTAPSGVPGM(+15.99)FK</td>\n",
       "      <td>F2:26077</td>\n",
       "      <td>13</td>\n",
       "      <td>76</td>\n",
       "      <td>67</td>\n",
       "      <td>13</td>\n",
       "      <td>654.3237</td>\n",
       "      <td>2</td>\n",
       "      <td>83.51</td>\n",
       "      <td>83.66</td>\n",
       "      <td>75700.0</td>\n",
       "      <td>1306.6592</td>\n",
       "      <td>-20.1</td>\n",
       "      <td>Oxidation (M)</td>\n",
       "      <td>37 46 79 93 95 96 88 84 23 17 26 89 97</td>\n",
       "      <td>SLTAPSGVPGM(+15.99)FK</td>\n",
       "      <td>HCD</td>\n",
       "    </tr>\n",
       "    <tr>\n",
       "      <th>24223</th>\n",
       "      <td>2</td>\n",
       "      <td>MP_RZ07032023_GW_flat_180min_DDA02.raw</td>\n",
       "      <td>F2:139236</td>\n",
       "      <td>EVQAWSWWWM(+15.99)TRRAAMDVPGR</td>\n",
       "      <td>F2:49588</td>\n",
       "      <td>21</td>\n",
       "      <td>76</td>\n",
       "      <td>68</td>\n",
       "      <td>21</td>\n",
       "      <td>879.0955</td>\n",
       "      <td>3</td>\n",
       "      <td>139.45</td>\n",
       "      <td>141.68</td>\n",
       "      <td>822000.0</td>\n",
       "      <td>2634.2371</td>\n",
       "      <td>10.4</td>\n",
       "      <td>Oxidation (M)</td>\n",
       "      <td>37 25 33 44 44 41 81 84 90 88 90 40 52 96 95 8...</td>\n",
       "      <td>EVQAWSWWWM(+15.99)TRRAAMDVPGR</td>\n",
       "      <td>HCD</td>\n",
       "    </tr>\n",
       "    <tr>\n",
       "      <th>24224</th>\n",
       "      <td>2</td>\n",
       "      <td>MP_RZ07032023_GW_flat_180min_DDA02.raw</td>\n",
       "      <td>F2:3957</td>\n",
       "      <td>MGFYGGR</td>\n",
       "      <td>F2:13573</td>\n",
       "      <td>7</td>\n",
       "      <td>76</td>\n",
       "      <td>68</td>\n",
       "      <td>7</td>\n",
       "      <td>394.1815</td>\n",
       "      <td>2</td>\n",
       "      <td>50.45</td>\n",
       "      <td>47.75</td>\n",
       "      <td>376000.0</td>\n",
       "      <td>786.3483</td>\n",
       "      <td>0.3</td>\n",
       "      <td>NaN</td>\n",
       "      <td>17 29 90 86 80 83 90</td>\n",
       "      <td>MGFYGGR</td>\n",
       "      <td>HCD</td>\n",
       "    </tr>\n",
       "    <tr>\n",
       "      <th>24225</th>\n",
       "      <td>1</td>\n",
       "      <td>MP_RZ07032023_GW_flat_180min_DDA01.raw</td>\n",
       "      <td>F1:103943</td>\n",
       "      <td>TLGALDGTN(+.98)MNR</td>\n",
       "      <td>F1:23486</td>\n",
       "      <td>12</td>\n",
       "      <td>76</td>\n",
       "      <td>71</td>\n",
       "      <td>12</td>\n",
       "      <td>632.3035</td>\n",
       "      <td>2</td>\n",
       "      <td>78.32</td>\n",
       "      <td>67.85</td>\n",
       "      <td>3660000.0</td>\n",
       "      <td>1262.5925</td>\n",
       "      <td>0.0</td>\n",
       "      <td>Deamidation (NQ)</td>\n",
       "      <td>21 21 26 76 99 98 90 88 70 82 91 93</td>\n",
       "      <td>TLGALDGTN(+.98)MNR</td>\n",
       "      <td>HCD</td>\n",
       "    </tr>\n",
       "    <tr>\n",
       "      <th>24226</th>\n",
       "      <td>1</td>\n",
       "      <td>MP_RZ07032023_GW_flat_180min_DDA01.raw</td>\n",
       "      <td>F1:23734</td>\n",
       "      <td>LGGLSSAMK</td>\n",
       "      <td>F1:16822</td>\n",
       "      <td>9</td>\n",
       "      <td>76</td>\n",
       "      <td>75</td>\n",
       "      <td>9</td>\n",
       "      <td>432.2354</td>\n",
       "      <td>2</td>\n",
       "      <td>59.98</td>\n",
       "      <td>63.31</td>\n",
       "      <td>416000.0</td>\n",
       "      <td>862.4582</td>\n",
       "      <td>-2.4</td>\n",
       "      <td>NaN</td>\n",
       "      <td>62 77 48 88 82 73 68 78 97</td>\n",
       "      <td>LGGLSSAMK</td>\n",
       "      <td>HCD</td>\n",
       "    </tr>\n",
       "    <tr>\n",
       "      <th>24227</th>\n",
       "      <td>2</td>\n",
       "      <td>MP_RZ07032023_GW_flat_180min_DDA02.raw</td>\n",
       "      <td>-</td>\n",
       "      <td>LDQ(+.98)AHLYNWQWYR</td>\n",
       "      <td>F2:50574</td>\n",
       "      <td>13</td>\n",
       "      <td>76</td>\n",
       "      <td>77</td>\n",
       "      <td>13</td>\n",
       "      <td>897.4365</td>\n",
       "      <td>2</td>\n",
       "      <td>141.76</td>\n",
       "      <td>127.6</td>\n",
       "      <td>0.0</td>\n",
       "      <td>1792.8320</td>\n",
       "      <td>14.8</td>\n",
       "      <td>Deamidation (NQ)</td>\n",
       "      <td>31 38 40 61 54 99 98 96 96 94 95 98 100</td>\n",
       "      <td>LDQ(+.98)AHLYNWQWYR</td>\n",
       "      <td>HCD</td>\n",
       "    </tr>\n",
       "  </tbody>\n",
       "</table>\n",
       "</div>"
      ],
      "text/plain": [
       "       Fraction                             Source File    Feature  \\\n",
       "24218         2  MP_RZ07032023_GW_flat_180min_DDA02.raw          -   \n",
       "24219         1  MP_RZ07032023_GW_flat_180min_DDA01.raw   F1:35083   \n",
       "24220         2  MP_RZ07032023_GW_flat_180min_DDA02.raw   F2:98838   \n",
       "24221         2  MP_RZ07032023_GW_flat_180min_DDA02.raw   F2:83383   \n",
       "24222         2  MP_RZ07032023_GW_flat_180min_DDA02.raw  F2:107262   \n",
       "24223         2  MP_RZ07032023_GW_flat_180min_DDA02.raw  F2:139236   \n",
       "24224         2  MP_RZ07032023_GW_flat_180min_DDA02.raw    F2:3957   \n",
       "24225         1  MP_RZ07032023_GW_flat_180min_DDA01.raw  F1:103943   \n",
       "24226         1  MP_RZ07032023_GW_flat_180min_DDA01.raw   F1:23734   \n",
       "24227         2  MP_RZ07032023_GW_flat_180min_DDA02.raw          -   \n",
       "\n",
       "                             Peptide      Scan  Tag Length  Denovo Score  \\\n",
       "24218            KYAYFPVWVNDDKMSLPLR  F2:51275          19            76   \n",
       "24219                        MWALDLR  F1:38190           7            76   \n",
       "24220                  LAAALTPAPVLAK  F2:33083          13            76   \n",
       "24221                     APMSGLQNWK  F2:29687          10            76   \n",
       "24222          SLTAPSGVPGM(+15.99)FK  F2:26077          13            76   \n",
       "24223  EVQAWSWWWM(+15.99)TRRAAMDVPGR  F2:49588          21            76   \n",
       "24224                        MGFYGGR  F2:13573           7            76   \n",
       "24225             TLGALDGTN(+.98)MNR  F1:23486          12            76   \n",
       "24226                      LGGLSSAMK  F1:16822           9            76   \n",
       "24227            LDQ(+.98)AHLYNWQWYR  F2:50574          13            76   \n",
       "\n",
       "       ALC (%)  length       m/z  z      RT Predict RT        Area       Mass  \\\n",
       "24218       68      19  781.3988  3  143.42     142.11         0.0  2341.1929   \n",
       "24219       78       7  452.7394  2  113.16     129.39     34600.0   903.4636   \n",
       "24220       70      13  618.3896  2  100.95     110.95  13200000.0  1234.7649   \n",
       "24221       70      10  566.2845  2   92.40      83.12    215000.0  1130.5542   \n",
       "24222       67      13  654.3237  2   83.51      83.66     75700.0  1306.6592   \n",
       "24223       68      21  879.0955  3  139.45     141.68    822000.0  2634.2371   \n",
       "24224       68       7  394.1815  2   50.45      47.75    376000.0   786.3483   \n",
       "24225       71      12  632.3035  2   78.32      67.85   3660000.0  1262.5925   \n",
       "24226       75       9  432.2354  2   59.98      63.31    416000.0   862.4582   \n",
       "24227       77      13  897.4365  2  141.76      127.6         0.0  1792.8320   \n",
       "\n",
       "        ppm               PTM  \\\n",
       "24218  -7.8               NaN   \n",
       "24219   0.6               NaN   \n",
       "24220  -0.2               NaN   \n",
       "24221   0.3               NaN   \n",
       "24222 -20.1     Oxidation (M)   \n",
       "24223  10.4     Oxidation (M)   \n",
       "24224   0.3               NaN   \n",
       "24225   0.0  Deamidation (NQ)   \n",
       "24226  -2.4               NaN   \n",
       "24227  14.8  Deamidation (NQ)   \n",
       "\n",
       "                                    local confidence (%)  \\\n",
       "24218  45 39 41 35 33 43 89 98 98 94 95 96 94 90 83 4...   \n",
       "24219                               56 71 84 79 79 85 90   \n",
       "24220           48 50 80 99 100 100 99 96 33 31 48 45 82   \n",
       "24221                      96 94 85 92 82 41 28 21 69 92   \n",
       "24222             37 46 79 93 95 96 88 84 23 17 26 89 97   \n",
       "24223  37 25 33 44 44 41 81 84 90 88 90 40 52 96 95 8...   \n",
       "24224                               17 29 90 86 80 83 90   \n",
       "24225                21 21 26 76 99 98 90 88 70 82 91 93   \n",
       "24226                         62 77 48 88 82 73 68 78 97   \n",
       "24227            31 38 40 61 54 99 98 96 96 94 95 98 100   \n",
       "\n",
       "                          tag (>=0%) mode  \n",
       "24218            KYAYFPVWVNDDKMSLPLR  HCD  \n",
       "24219                        MWALDLR  HCD  \n",
       "24220                  LAAALTPAPVLAK  HCD  \n",
       "24221                     APMSGLQNWK  HCD  \n",
       "24222          SLTAPSGVPGM(+15.99)FK  HCD  \n",
       "24223  EVQAWSWWWM(+15.99)TRRAAMDVPGR  HCD  \n",
       "24224                        MGFYGGR  HCD  \n",
       "24225             TLGALDGTN(+.98)MNR  HCD  \n",
       "24226                      LGGLSSAMK  HCD  \n",
       "24227            LDQ(+.98)AHLYNWQWYR  HCD  "
      ]
     },
     "metadata": {},
     "output_type": "display_data"
    },
    {
     "name": "stdout",
     "output_type": "stream",
     "text": [
      "Filtered dataset shape: (32111, 20)\n",
      "Filtered Data (rows 24219-24227):\n"
     ]
    },
    {
     "data": {
      "text/html": [
       "<div>\n",
       "<style scoped>\n",
       "    .dataframe tbody tr th:only-of-type {\n",
       "        vertical-align: middle;\n",
       "    }\n",
       "\n",
       "    .dataframe tbody tr th {\n",
       "        vertical-align: top;\n",
       "    }\n",
       "\n",
       "    .dataframe thead th {\n",
       "        text-align: right;\n",
       "    }\n",
       "</style>\n",
       "<table border=\"1\" class=\"dataframe\">\n",
       "  <thead>\n",
       "    <tr style=\"text-align: right;\">\n",
       "      <th></th>\n",
       "      <th>Fraction</th>\n",
       "      <th>Source File</th>\n",
       "      <th>Feature</th>\n",
       "      <th>Peptide</th>\n",
       "      <th>Scan</th>\n",
       "      <th>Tag Length</th>\n",
       "      <th>Denovo Score</th>\n",
       "      <th>ALC (%)</th>\n",
       "      <th>length</th>\n",
       "      <th>m/z</th>\n",
       "      <th>z</th>\n",
       "      <th>RT</th>\n",
       "      <th>Predict RT</th>\n",
       "      <th>Area</th>\n",
       "      <th>Mass</th>\n",
       "      <th>ppm</th>\n",
       "      <th>PTM</th>\n",
       "      <th>local confidence (%)</th>\n",
       "      <th>tag (&gt;=0%)</th>\n",
       "      <th>mode</th>\n",
       "    </tr>\n",
       "  </thead>\n",
       "  <tbody>\n",
       "    <tr>\n",
       "      <th>25984</th>\n",
       "      <td>2</td>\n",
       "      <td>MP_RZ07032023_GW_flat_180min_DDA02.raw</td>\n",
       "      <td>-</td>\n",
       "      <td>LVTTDANGWYNK</td>\n",
       "      <td>F2:16205</td>\n",
       "      <td>12</td>\n",
       "      <td>75</td>\n",
       "      <td>73</td>\n",
       "      <td>12</td>\n",
       "      <td>691.3395</td>\n",
       "      <td>2</td>\n",
       "      <td>57.63</td>\n",
       "      <td>71.8</td>\n",
       "      <td>0.0</td>\n",
       "      <td>1380.6675</td>\n",
       "      <td>-2.1</td>\n",
       "      <td>NaN</td>\n",
       "      <td>59 60 95 95 95 89 83 70 69 28 43 98</td>\n",
       "      <td>LVTTDANGWYNK</td>\n",
       "      <td>HCD</td>\n",
       "    </tr>\n",
       "    <tr>\n",
       "      <th>25985</th>\n",
       "      <td>2</td>\n",
       "      <td>MP_RZ07032023_GW_flat_180min_DDA02.raw</td>\n",
       "      <td>F2:39500</td>\n",
       "      <td>KATSLMDR</td>\n",
       "      <td>F2:7950</td>\n",
       "      <td>8</td>\n",
       "      <td>75</td>\n",
       "      <td>76</td>\n",
       "      <td>8</td>\n",
       "      <td>461.2376</td>\n",
       "      <td>2</td>\n",
       "      <td>32.97</td>\n",
       "      <td>17.78</td>\n",
       "      <td>841000.0</td>\n",
       "      <td>920.4749</td>\n",
       "      <td>-15.5</td>\n",
       "      <td>NaN</td>\n",
       "      <td>77 34 38 87 93 88 96 94</td>\n",
       "      <td>KATSLMDR</td>\n",
       "      <td>HCD</td>\n",
       "    </tr>\n",
       "    <tr>\n",
       "      <th>25986</th>\n",
       "      <td>2</td>\n",
       "      <td>MP_RZ07032023_GW_flat_180min_DDA02.raw</td>\n",
       "      <td>F2:103841</td>\n",
       "      <td>WAADLDQ(+.98)MVTK</td>\n",
       "      <td>F2:42699</td>\n",
       "      <td>11</td>\n",
       "      <td>75</td>\n",
       "      <td>75</td>\n",
       "      <td>11</td>\n",
       "      <td>639.8031</td>\n",
       "      <td>2</td>\n",
       "      <td>123.18</td>\n",
       "      <td>107.95</td>\n",
       "      <td>110000.0</td>\n",
       "      <td>1277.5962</td>\n",
       "      <td>-3.6</td>\n",
       "      <td>Deamidation (NQ)</td>\n",
       "      <td>78 60 90 90 89 94 89 69 28 41 98</td>\n",
       "      <td>WAADLDQ(+.98)MVTK</td>\n",
       "      <td>HCD</td>\n",
       "    </tr>\n",
       "    <tr>\n",
       "      <th>25989</th>\n",
       "      <td>1</td>\n",
       "      <td>MP_RZ07032023_GW_flat_180min_DDA01.raw</td>\n",
       "      <td>F1:18876</td>\n",
       "      <td>Q(+.98)VYLHMDGFR</td>\n",
       "      <td>F1:35026</td>\n",
       "      <td>10</td>\n",
       "      <td>75</td>\n",
       "      <td>72</td>\n",
       "      <td>10</td>\n",
       "      <td>422.8690</td>\n",
       "      <td>3</td>\n",
       "      <td>105.90</td>\n",
       "      <td>95.37</td>\n",
       "      <td>300000.0</td>\n",
       "      <td>1265.5862</td>\n",
       "      <td>-0.9</td>\n",
       "      <td>Deamidation (NQ)</td>\n",
       "      <td>26 28 45 61 92 95 98 92 94 96</td>\n",
       "      <td>Q(+.98)VYLHMDGFR</td>\n",
       "      <td>HCD</td>\n",
       "    </tr>\n",
       "    <tr>\n",
       "      <th>25990</th>\n",
       "      <td>2</td>\n",
       "      <td>MP_RZ07032023_GW_flat_180min_DDA02.raw</td>\n",
       "      <td>F2:113009</td>\n",
       "      <td>TLLPALYLLQGR</td>\n",
       "      <td>F2:54646</td>\n",
       "      <td>12</td>\n",
       "      <td>75</td>\n",
       "      <td>74</td>\n",
       "      <td>12</td>\n",
       "      <td>679.4126</td>\n",
       "      <td>2</td>\n",
       "      <td>151.38</td>\n",
       "      <td>164.41</td>\n",
       "      <td>25200.0</td>\n",
       "      <td>1356.8130</td>\n",
       "      <td>-1.7</td>\n",
       "      <td>NaN</td>\n",
       "      <td>51 50 50 33 82 89 93 95 85 79 88 98</td>\n",
       "      <td>TLLPALYLLQGR</td>\n",
       "      <td>HCD</td>\n",
       "    </tr>\n",
       "    <tr>\n",
       "      <th>25991</th>\n",
       "      <td>1</td>\n",
       "      <td>MP_RZ07032023_GW_flat_180min_DDA01.raw</td>\n",
       "      <td>F1:139595</td>\n",
       "      <td>FGFGLSDPDDN(+.98)NLFAHFKPLC(+57.02)K</td>\n",
       "      <td>F1:54391</td>\n",
       "      <td>22</td>\n",
       "      <td>75</td>\n",
       "      <td>72</td>\n",
       "      <td>22</td>\n",
       "      <td>847.3984</td>\n",
       "      <td>3</td>\n",
       "      <td>151.74</td>\n",
       "      <td>161.24</td>\n",
       "      <td>6010000.0</td>\n",
       "      <td>2539.1841</td>\n",
       "      <td>-4.2</td>\n",
       "      <td>Deamidation (NQ); Carbamidomethylation</td>\n",
       "      <td>49 40 57 62 82 96 69 44 92 49 28 34 96 97 97 8...</td>\n",
       "      <td>FGFGLSDPDDN(+.98)NLFAHFKPLC(+57.02)K</td>\n",
       "      <td>HCD</td>\n",
       "    </tr>\n",
       "    <tr>\n",
       "      <th>25993</th>\n",
       "      <td>1</td>\n",
       "      <td>MP_RZ07032023_GW_flat_180min_DDA01.raw</td>\n",
       "      <td>-</td>\n",
       "      <td>YHDALTYVWNWGGFTGK</td>\n",
       "      <td>F1:45457</td>\n",
       "      <td>17</td>\n",
       "      <td>75</td>\n",
       "      <td>85</td>\n",
       "      <td>17</td>\n",
       "      <td>1007.9756</td>\n",
       "      <td>2</td>\n",
       "      <td>130.26</td>\n",
       "      <td>163.81</td>\n",
       "      <td>0.0</td>\n",
       "      <td>2013.9373</td>\n",
       "      <td>-0.3</td>\n",
       "      <td>NaN</td>\n",
       "      <td>34 20 62 78 99 99 98 98 98 97 98 97 97 98 98 9...</td>\n",
       "      <td>YHDALTYVWNWGGFTGK</td>\n",
       "      <td>HCD</td>\n",
       "    </tr>\n",
       "    <tr>\n",
       "      <th>25994</th>\n",
       "      <td>1</td>\n",
       "      <td>MP_RZ07032023_GW_flat_180min_DDA01.raw</td>\n",
       "      <td>F1:852</td>\n",
       "      <td>NSLAVLR</td>\n",
       "      <td>F1:12592</td>\n",
       "      <td>7</td>\n",
       "      <td>75</td>\n",
       "      <td>81</td>\n",
       "      <td>7</td>\n",
       "      <td>386.7372</td>\n",
       "      <td>2</td>\n",
       "      <td>48.50</td>\n",
       "      <td>66</td>\n",
       "      <td>1480000.0</td>\n",
       "      <td>771.4603</td>\n",
       "      <td>-0.4</td>\n",
       "      <td>NaN</td>\n",
       "      <td>61 60 82 92 94 94 86</td>\n",
       "      <td>NSLAVLR</td>\n",
       "      <td>HCD</td>\n",
       "    </tr>\n",
       "    <tr>\n",
       "      <th>25995</th>\n",
       "      <td>2</td>\n",
       "      <td>MP_RZ07032023_GW_flat_180min_DDA02.raw</td>\n",
       "      <td>F2:141090</td>\n",
       "      <td>NYLDDLR</td>\n",
       "      <td>F2:41876</td>\n",
       "      <td>7</td>\n",
       "      <td>75</td>\n",
       "      <td>85</td>\n",
       "      <td>7</td>\n",
       "      <td>908.4518</td>\n",
       "      <td>1</td>\n",
       "      <td>121.32</td>\n",
       "      <td>83.38</td>\n",
       "      <td>208000.0</td>\n",
       "      <td>907.4399</td>\n",
       "      <td>5.0</td>\n",
       "      <td>NaN</td>\n",
       "      <td>85 83 85 82 85 88 90</td>\n",
       "      <td>NYLDDLR</td>\n",
       "      <td>HCD</td>\n",
       "    </tr>\n",
       "    <tr>\n",
       "      <th>25997</th>\n",
       "      <td>2</td>\n",
       "      <td>MP_RZ07032023_GW_flat_180min_DDA02.raw</td>\n",
       "      <td>F2:129117</td>\n",
       "      <td>YM(+15.99)APQEVGPGSPFR</td>\n",
       "      <td>F2:34615</td>\n",
       "      <td>14</td>\n",
       "      <td>75</td>\n",
       "      <td>78</td>\n",
       "      <td>14</td>\n",
       "      <td>776.3701</td>\n",
       "      <td>2</td>\n",
       "      <td>104.14</td>\n",
       "      <td>93.71</td>\n",
       "      <td>57400.0</td>\n",
       "      <td>1550.7188</td>\n",
       "      <td>4.5</td>\n",
       "      <td>Oxidation (M)</td>\n",
       "      <td>37 35 43 41 90 96 95 97 93 92 94 82 95 100</td>\n",
       "      <td>YM(+15.99)APQEVGPGSPFR</td>\n",
       "      <td>HCD</td>\n",
       "    </tr>\n",
       "  </tbody>\n",
       "</table>\n",
       "</div>"
      ],
      "text/plain": [
       "       Fraction                             Source File    Feature  \\\n",
       "25984         2  MP_RZ07032023_GW_flat_180min_DDA02.raw          -   \n",
       "25985         2  MP_RZ07032023_GW_flat_180min_DDA02.raw   F2:39500   \n",
       "25986         2  MP_RZ07032023_GW_flat_180min_DDA02.raw  F2:103841   \n",
       "25989         1  MP_RZ07032023_GW_flat_180min_DDA01.raw   F1:18876   \n",
       "25990         2  MP_RZ07032023_GW_flat_180min_DDA02.raw  F2:113009   \n",
       "25991         1  MP_RZ07032023_GW_flat_180min_DDA01.raw  F1:139595   \n",
       "25993         1  MP_RZ07032023_GW_flat_180min_DDA01.raw          -   \n",
       "25994         1  MP_RZ07032023_GW_flat_180min_DDA01.raw     F1:852   \n",
       "25995         2  MP_RZ07032023_GW_flat_180min_DDA02.raw  F2:141090   \n",
       "25997         2  MP_RZ07032023_GW_flat_180min_DDA02.raw  F2:129117   \n",
       "\n",
       "                                    Peptide      Scan  Tag Length  \\\n",
       "25984                          LVTTDANGWYNK  F2:16205          12   \n",
       "25985                              KATSLMDR   F2:7950           8   \n",
       "25986                     WAADLDQ(+.98)MVTK  F2:42699          11   \n",
       "25989                      Q(+.98)VYLHMDGFR  F1:35026          10   \n",
       "25990                          TLLPALYLLQGR  F2:54646          12   \n",
       "25991  FGFGLSDPDDN(+.98)NLFAHFKPLC(+57.02)K  F1:54391          22   \n",
       "25993                     YHDALTYVWNWGGFTGK  F1:45457          17   \n",
       "25994                               NSLAVLR  F1:12592           7   \n",
       "25995                               NYLDDLR  F2:41876           7   \n",
       "25997                YM(+15.99)APQEVGPGSPFR  F2:34615          14   \n",
       "\n",
       "       Denovo Score  ALC (%)  length        m/z  z      RT Predict RT  \\\n",
       "25984            75       73      12   691.3395  2   57.63       71.8   \n",
       "25985            75       76       8   461.2376  2   32.97      17.78   \n",
       "25986            75       75      11   639.8031  2  123.18     107.95   \n",
       "25989            75       72      10   422.8690  3  105.90      95.37   \n",
       "25990            75       74      12   679.4126  2  151.38     164.41   \n",
       "25991            75       72      22   847.3984  3  151.74     161.24   \n",
       "25993            75       85      17  1007.9756  2  130.26     163.81   \n",
       "25994            75       81       7   386.7372  2   48.50         66   \n",
       "25995            75       85       7   908.4518  1  121.32      83.38   \n",
       "25997            75       78      14   776.3701  2  104.14      93.71   \n",
       "\n",
       "            Area       Mass   ppm                                     PTM  \\\n",
       "25984        0.0  1380.6675  -2.1                                     NaN   \n",
       "25985   841000.0   920.4749 -15.5                                     NaN   \n",
       "25986   110000.0  1277.5962  -3.6                        Deamidation (NQ)   \n",
       "25989   300000.0  1265.5862  -0.9                        Deamidation (NQ)   \n",
       "25990    25200.0  1356.8130  -1.7                                     NaN   \n",
       "25991  6010000.0  2539.1841  -4.2  Deamidation (NQ); Carbamidomethylation   \n",
       "25993        0.0  2013.9373  -0.3                                     NaN   \n",
       "25994  1480000.0   771.4603  -0.4                                     NaN   \n",
       "25995   208000.0   907.4399   5.0                                     NaN   \n",
       "25997    57400.0  1550.7188   4.5                           Oxidation (M)   \n",
       "\n",
       "                                    local confidence (%)  \\\n",
       "25984                59 60 95 95 95 89 83 70 69 28 43 98   \n",
       "25985                            77 34 38 87 93 88 96 94   \n",
       "25986                   78 60 90 90 89 94 89 69 28 41 98   \n",
       "25989                      26 28 45 61 92 95 98 92 94 96   \n",
       "25990                51 50 50 33 82 89 93 95 85 79 88 98   \n",
       "25991  49 40 57 62 82 96 69 44 92 49 28 34 96 97 97 8...   \n",
       "25993  34 20 62 78 99 99 98 98 98 97 98 97 97 98 98 9...   \n",
       "25994                               61 60 82 92 94 94 86   \n",
       "25995                               85 83 85 82 85 88 90   \n",
       "25997         37 35 43 41 90 96 95 97 93 92 94 82 95 100   \n",
       "\n",
       "                                 tag (>=0%) mode  \n",
       "25984                          LVTTDANGWYNK  HCD  \n",
       "25985                              KATSLMDR  HCD  \n",
       "25986                     WAADLDQ(+.98)MVTK  HCD  \n",
       "25989                      Q(+.98)VYLHMDGFR  HCD  \n",
       "25990                          TLLPALYLLQGR  HCD  \n",
       "25991  FGFGLSDPDDN(+.98)NLFAHFKPLC(+57.02)K  HCD  \n",
       "25993                     YHDALTYVWNWGGFTGK  HCD  \n",
       "25994                               NSLAVLR  HCD  \n",
       "25995                               NYLDDLR  HCD  \n",
       "25997                YM(+15.99)APQEVGPGSPFR  HCD  "
      ]
     },
     "metadata": {},
     "output_type": "display_data"
    },
    {
     "name": "stdout",
     "output_type": "stream",
     "text": [
      "Number of peptides filtered out: 157074\n"
     ]
    }
   ],
   "source": [
    "# Import pandas for data handling\n",
    "import pandas as pd\n",
    "\n",
    "# === Step 1: Load the de novo peptide dataset ===\n",
    "\n",
    "# Define the path to the CSV file containing de novo peptide predictions\n",
    "# Replace 'base_path' with your project-specific base path if necessary\n",
    "de_novo_data_path = base_path / \"de_novo_data\" / \"de_novo_garmerwolde.csv\"\n",
    "\n",
    "# Load the CSV into a pandas DataFrame\n",
    "df = pd.read_csv(de_novo_data_path)\n",
    "\n",
    "# Display the full shape of the dataset (rows, columns)\n",
    "print(f\"Original dataset shape: {df.shape}\")\n",
    "\n",
    "# Preview a subset of rows for inspection (use iloc with zero-based indexing)\n",
    "print(\"Original Data (rows 24219-24227):\")\n",
    "display(df.iloc[24218:24228])\n",
    "\n",
    "# === Step 2: Filter peptides based on ALC (Average Local Confidence) score ===\n",
    "\n",
    "# Retain only high-confidence peptide sequences with ALC > 70%\n",
    "filtered_df = df[df[\"ALC (%)\"] > 70]\n",
    "\n",
    "# Display the filtered dataset shape\n",
    "print(f\"Filtered dataset shape: {filtered_df.shape}\")\n",
    "\n",
    "# Preview the same range of rows after filtering (if still present)\n",
    "print(\"Filtered Data (rows 24219-24227):\")\n",
    "display(filtered_df.iloc[24218:24228])  # Only shows output if those rows survived filtering\n",
    "\n",
    "# Display how many peptides were removed in the filtering step\n",
    "print(f\"Number of peptides filtered out: {df.shape[0] - filtered_df.shape[0]}\")"
   ]
  },
  {
   "cell_type": "markdown",
   "id": "afe74dc0",
   "metadata": {},
   "source": [
    "### Step 3: Clean Peptide Sequences Before DIAMOND Alignment\n",
    "\n",
    "Before aligning de novo peptides to the UniRef100 database, we standardize the peptide sequences to ensure compatibility with database protein entries.\n",
    "\n",
    "This includes:\n",
    "- **Removing post-translational modification annotations** (e.g., `+16` or brackets)\n",
    "- **Equating Leucine (L) and Isoleucine (I)**, which are indistinguishable by MS/MS\n",
    "- Adding a new column `\"Cleaned Sequence\"` to the filtered dataframe for downstream use\n",
    "\n",
    "This preprocessing ensures that the peptide sequences better match the actual content of UniRef protein databases and increases alignment sensitivity.\n"
   ]
  },
  {
   "cell_type": "code",
   "execution_count": null,
   "id": "c8d15cb9",
   "metadata": {},
   "outputs": [
    {
     "name": "stdout",
     "output_type": "stream",
     "text": [
      "Shape of the filtered DataFrame after adding the new column:\n"
     ]
    },
    {
     "name": "stderr",
     "output_type": "stream",
     "text": [
      "C:\\Temp\\ipykernel_17440\\2169065453.py:23: SettingWithCopyWarning: \n",
      "A value is trying to be set on a copy of a slice from a DataFrame.\n",
      "Try using .loc[row_indexer,col_indexer] = value instead\n",
      "\n",
      "See the caveats in the documentation: https://pandas.pydata.org/pandas-docs/stable/user_guide/indexing.html#returning-a-view-versus-a-copy\n",
      "  filtered_df[\"Cleaned Sequence\"] = filtered_df[\"Peptide\"].apply(lambda x: wrangle_peptides(x))\n"
     ]
    },
    {
     "data": {
      "text/plain": [
       "(32111, 21)"
      ]
     },
     "metadata": {},
     "output_type": "display_data"
    },
    {
     "name": "stdout",
     "output_type": "stream",
     "text": [
      "Cleaned Peptides (Rows 11-21):\n"
     ]
    },
    {
     "data": {
      "text/html": [
       "<div>\n",
       "<style scoped>\n",
       "    .dataframe tbody tr th:only-of-type {\n",
       "        vertical-align: middle;\n",
       "    }\n",
       "\n",
       "    .dataframe tbody tr th {\n",
       "        vertical-align: top;\n",
       "    }\n",
       "\n",
       "    .dataframe thead th {\n",
       "        text-align: right;\n",
       "    }\n",
       "</style>\n",
       "<table border=\"1\" class=\"dataframe\">\n",
       "  <thead>\n",
       "    <tr style=\"text-align: right;\">\n",
       "      <th></th>\n",
       "      <th>Peptide</th>\n",
       "      <th>Cleaned Sequence</th>\n",
       "    </tr>\n",
       "  </thead>\n",
       "  <tbody>\n",
       "    <tr>\n",
       "      <th>10</th>\n",
       "      <td>TSLLN(+.98)YLR</td>\n",
       "      <td>TSIINYIR</td>\n",
       "    </tr>\n",
       "    <tr>\n",
       "      <th>11</th>\n",
       "      <td>VVQLTMQ(+.98)TQEK</td>\n",
       "      <td>VVQITMQTQEK</td>\n",
       "    </tr>\n",
       "    <tr>\n",
       "      <th>12</th>\n",
       "      <td>ATMSDFSPK</td>\n",
       "      <td>ATMSDFSPK</td>\n",
       "    </tr>\n",
       "    <tr>\n",
       "      <th>13</th>\n",
       "      <td>LSELTSLTSAPR</td>\n",
       "      <td>ISEITSITSAPR</td>\n",
       "    </tr>\n",
       "    <tr>\n",
       "      <th>14</th>\n",
       "      <td>VSQ(+.98)AVLAASSGR</td>\n",
       "      <td>VSQAVIAASSGR</td>\n",
       "    </tr>\n",
       "    <tr>\n",
       "      <th>15</th>\n",
       "      <td>VGLAWDR</td>\n",
       "      <td>VGIAWDR</td>\n",
       "    </tr>\n",
       "    <tr>\n",
       "      <th>16</th>\n",
       "      <td>YLPASC(+57.02)R</td>\n",
       "      <td>YIPASCR</td>\n",
       "    </tr>\n",
       "    <tr>\n",
       "      <th>17</th>\n",
       "      <td>ASVEDLLK</td>\n",
       "      <td>ASVEDIIK</td>\n",
       "    </tr>\n",
       "    <tr>\n",
       "      <th>18</th>\n",
       "      <td>YPDVATTHGGSATK</td>\n",
       "      <td>YPDVATTHGGSATK</td>\n",
       "    </tr>\n",
       "    <tr>\n",
       "      <th>19</th>\n",
       "      <td>VMGVAFN(+.98)R</td>\n",
       "      <td>VMGVAFNR</td>\n",
       "    </tr>\n",
       "    <tr>\n",
       "      <th>20</th>\n",
       "      <td>APDNVGVLLR</td>\n",
       "      <td>APDNVGVIIR</td>\n",
       "    </tr>\n",
       "  </tbody>\n",
       "</table>\n",
       "</div>"
      ],
      "text/plain": [
       "               Peptide Cleaned Sequence\n",
       "10      TSLLN(+.98)YLR         TSIINYIR\n",
       "11   VVQLTMQ(+.98)TQEK      VVQITMQTQEK\n",
       "12           ATMSDFSPK        ATMSDFSPK\n",
       "13        LSELTSLTSAPR     ISEITSITSAPR\n",
       "14  VSQ(+.98)AVLAASSGR     VSQAVIAASSGR\n",
       "15             VGLAWDR          VGIAWDR\n",
       "16     YLPASC(+57.02)R          YIPASCR\n",
       "17            ASVEDLLK         ASVEDIIK\n",
       "18      YPDVATTHGGSATK   YPDVATTHGGSATK\n",
       "19      VMGVAFN(+.98)R         VMGVAFNR\n",
       "20          APDNVGVLLR       APDNVGVIIR"
      ]
     },
     "metadata": {},
     "output_type": "display_data"
    }
   ],
   "source": [
    "# Import regular expression module for string cleaning\n",
    "import re\n",
    "\n",
    "# === Step 1: Define a function to clean peptide sequences ===\n",
    "\n",
    "def wrangle_peptides(sequence: str, ptm_filter: bool = True, li_swap: bool = True) -> str:\n",
    "    \"\"\"\n",
    "    Clean and normalize peptide sequences by removing PTMs and optionally \n",
    "    replacing Leucine (L) with Isoleucine (I).\n",
    "\n",
    "    Args:\n",
    "        sequence (str): The raw peptide sequence string from de novo prediction.\n",
    "        ptm_filter (bool): Whether to remove post-translational modifications.\n",
    "        li_swap (bool): Whether to replace 'L' with 'I' for MS/MS ambiguity.\n",
    "\n",
    "    Returns:\n",
    "        str: A cleaned peptide sequence.\n",
    "    \"\"\"\n",
    "    \n",
    "    # If PTM filtering is enabled, remove any non-alphabetic characters (e.g., +16, (), etc.)\n",
    "    if ptm_filter:\n",
    "        sequence = \"\".join(re.findall(r\"[A-Z]+\", sequence))  # Keep only A-Z characters\n",
    "\n",
    "    # If enabled, replace Leucine (L) with Isoleucine (I)\n",
    "    if li_swap:\n",
    "        sequence = sequence.replace(\"L\", \"I\")\n",
    "\n",
    "    # Return the cleaned sequence string\n",
    "    return sequence\n",
    "\n",
    "# === Step 2: Apply the cleaning function to the peptide column ===\n",
    "\n",
    "# Create a new column called 'Cleaned Sequence' with the cleaned peptide strings\n",
    "filtered_df[\"Cleaned Sequence\"] = filtered_df[\"Peptide\"].apply(lambda x: wrangle_peptides(x))\n",
    "\n",
    "# Print the shape of the updated DataFrame to confirm modification\n",
    "print(\"Shape of the filtered DataFrame after adding the new column:\")\n",
    "display(filtered_df.shape)\n",
    "\n",
    "# Preview rows 11–21 of the original and cleaned sequences for comparison\n",
    "print(\"Cleaned Peptides (Rows 11-21):\")\n",
    "display(filtered_df[[\"Peptide\", \"Cleaned Sequence\"]].iloc[10:21])\n"
   ]
  },
  {
   "cell_type": "markdown",
   "id": "bcba5671",
   "metadata": {},
   "source": [
    "### Step 4: Automatically Check and Install DIAMOND on Windows\n",
    "\n",
    "To perform protein alignments using the DIAMOND aligner, we must ensure the DIAMOND binary is available locally.\n",
    "\n",
    "This block:\n",
    "- **Checks if `diamond.exe` is already present** in the `software_tools` directory.\n",
    "- If not, it **downloads the latest Windows binary** from the official GitHub repository.\n",
    "- **Extracts the executable** and removes the ZIP file after setup.\n",
    "\n",
    "This script supports only Windows environments. On Linux/Mac, users must install DIAMOND manually and point to the correct path.\n",
    "\n",
    "> This automation avoids installation errors and ensures reproducibility across users and sessions.\n"
   ]
  },
  {
   "cell_type": "code",
   "execution_count": null,
   "id": "54884e7e",
   "metadata": {},
   "outputs": [
    {
     "name": "stdout",
     "output_type": "stream",
     "text": [
      "DIAMOND is already available\n"
     ]
    }
   ],
   "source": [
    "# Import modules needed for file handling, downloading, OS checking, and ZIP extraction\n",
    "import os\n",
    "import urllib.request\n",
    "import zipfile\n",
    "import platform\n",
    "\n",
    "# === Define where DIAMOND is expected to be located ===\n",
    "\n",
    "# Path to where we expect the diamond executable to be\n",
    "diamond_exe = base_path / \"software_tools\" / \"diamond.exe\"\n",
    "\n",
    "# URL to download the latest Windows release of DIAMOND\n",
    "diamond_url = \"https://github.com/bbuchfink/diamond/releases/latest/download/diamond-windows.zip\"\n",
    "\n",
    "# Name of the temporary ZIP file to download\n",
    "download_path = \"diamond-windows.zip\"\n",
    "\n",
    "# === Proceed only on Windows systems ===\n",
    "if platform.system() == \"Windows\":\n",
    "    \n",
    "    # Check if diamond.exe already exists\n",
    "    if not os.path.exists(diamond_exe):\n",
    "        print(\"DIAMOND not found — downloading latest release...\")\n",
    "\n",
    "        # Step 1: Download the ZIP file from the official GitHub repo\n",
    "        urllib.request.urlretrieve(diamond_url, download_path)\n",
    "        print(\"Downloaded diamond-windows.zip\")\n",
    "\n",
    "        # Step 2: Extract all contents from the ZIP archive\n",
    "        with zipfile.ZipFile(download_path, 'r') as zip_ref:\n",
    "            zip_ref.extractall()  # Extracts to the current working directory\n",
    "            print(\"Extracted files:\", zip_ref.namelist())\n",
    "\n",
    "        # Step 3: Remove the ZIP file after extraction to clean up\n",
    "        os.remove(download_path)\n",
    "        print(\"DIAMOND setup complete\")\n",
    "    \n",
    "    else:\n",
    "        # If the executable already exists, skip installation\n",
    "        print(\"DIAMOND is already available\")\n",
    "\n",
    "else:\n",
    "    # Message for non-Windows users (Linux/macOS)\n",
    "    print(\"This script is designed for Windows only. Please install DIAMOND manually for this OS.\")\n",
    "\n"
   ]
  },
  {
   "cell_type": "markdown",
   "id": "8c91ae26",
   "metadata": {},
   "source": [
    "### Step 5: Export Cleaned Peptides to FASTA Format for DIAMOND Alignment\n",
    "\n",
    "DIAMOND requires input sequences in FASTA format. This step takes all high-confidence, cleaned de novo peptides and writes them to a `.fasta` file.\n",
    "\n",
    "Each peptide is given a unique header (e.g., `>peptide_0`, `>peptide_1`, ...) followed by its amino acid sequence. This format is critical for ensuring DIAMOND can align each sequence and associate results with the correct peptide.\n",
    "\n",
    "The resulting FASTA file will be used in the next step where we run DIAMOND to align peptides against the UniRef100 database.\n"
   ]
  },
  {
   "cell_type": "code",
   "execution_count": null,
   "id": "7f2dd3d0",
   "metadata": {},
   "outputs": [
    {
     "name": "stdout",
     "output_type": "stream",
     "text": [
      "Saved 32111 peptides to c:\\Users\\Yusuf\\OneDrive\\LST\\Derde_jaar\\Y3Q4\\Metaproteomics_with_db\\peptides.fasta\n"
     ]
    }
   ],
   "source": [
    "# Import Path for cross-platform file path handling\n",
    "from pathlib import Path\n",
    "\n",
    "# === Define a function to save peptide sequences to FASTA format ===\n",
    "\n",
    "def save_peptides_to_fasta(df, fasta_path, peptide_column=\"Cleaned Sequence\"):\n",
    "    \"\"\"\n",
    "    Write cleaned peptide sequences to a FASTA file for DIAMOND alignment.\n",
    "\n",
    "    Args:\n",
    "        df (pd.DataFrame): DataFrame containing peptide sequences.\n",
    "        fasta_path (str or Path): Output path for the FASTA file.\n",
    "        peptide_column (str): Name of the column containing peptide sequences.\n",
    "    \"\"\"\n",
    "    # Open the FASTA file in write mode\n",
    "    with open(fasta_path, \"w\") as f:\n",
    "        # Write each peptide with a unique header line and the sequence\n",
    "        for i, pep in enumerate(df[peptide_column]):\n",
    "            f.write(f\">peptide_{i}\\n{pep}\\n\")  # FASTA format: >header \\n sequence\n",
    "    print(f\"Saved {len(df)} peptides to {fasta_path}\")\n",
    "\n",
    "# Define the output path for the peptide FASTA file\n",
    "peptide_fasta = base_path / \"peptides.fasta\"\n",
    "\n",
    "# Call the function to save all cleaned peptides from filtered_df to FASTA\n",
    "save_peptides_to_fasta(filtered_df, peptide_fasta)\n",
    "\n"
   ]
  },
  {
   "cell_type": "markdown",
   "id": "f5ebfc15",
   "metadata": {},
   "source": [
    "### Step 6: Ensure PAM70 Substitution Matrix is Available\n",
    "\n",
    "Certain alignment tools (like DIAMOND or NovoLign) support using custom substitution matrices to adjust scoring schemes. The **PAM70 matrix** reflects moderate evolutionary distance and is often used for peptide/protein alignments.\n",
    "\n",
    "This block:\n",
    "- Defines the local path where `PAM70.mat` should exist.\n",
    "- Downloads the matrix file from a trusted GitHub source if it’s missing.\n",
    "\n",
    "Although DIAMOND doesn’t strictly require PAM70 (it has its own built-in matrices), this step allows for compatibility with workflows or tools (like NovoLign) that explicitly use PAM70 for scoring.\n"
   ]
  },
  {
   "cell_type": "code",
   "execution_count": 21,
   "id": "756fbf2b",
   "metadata": {},
   "outputs": [
    {
     "name": "stdout",
     "output_type": "stream",
     "text": [
      "PAM70.mat already exists\n"
     ]
    }
   ],
   "source": [
    "# Import modules for file checks and downloading\n",
    "import os\n",
    "import urllib.request\n",
    "\n",
    "# === Step 1: Define file path and source URL ===\n",
    "\n",
    "# Local file path where PAM70.mat should be saved\n",
    "pam70_path = base_path / \"software_tools\" / \"PAM70.mat\"\n",
    "\n",
    "# URL to download the PAM70 matrix file from GitHub (NovoLign repository)\n",
    "pam70_url = \"https://raw.githubusercontent.com/hbckleikamp/NovoLign/main/PAM70.mat\"\n",
    "\n",
    "# === Step 2: Check if PAM70.mat exists locally, otherwise download ===\n",
    "\n",
    "# If the file already exists, no need to download it again\n",
    "if os.path.exists(pam70_path):\n",
    "    print(\"PAM70.mat already exists\")\n",
    "else:\n",
    "    # If file is missing, download it from the GitHub repo\n",
    "    print(\"PAM70.mat not found. Downloading...\")\n",
    "    urllib.request.urlretrieve(pam70_url, pam70_path)\n",
    "    print(\"PAM70.mat downloaded successfully\")"
   ]
  },
  {
   "cell_type": "markdown",
   "id": "d9373d25",
   "metadata": {},
   "source": [
    "### Step 7: Run DIAMOND to Align Peptides Against UniRef100 Database\n",
    "\n",
    "With the cleaned peptides exported in FASTA format and the UniRef100 `.dmnd` database ready, this block executes the **DIAMOND alignment**.\n",
    "\n",
    "Key features:\n",
    "- Uses **DIAMOND blastp** mode to align peptide sequences to protein sequences.\n",
    "- Applies **custom alignment parameters** to increase specificity, including:\n",
    "  - Minimum identity (`--id 85`)\n",
    "  - Minimum query coverage (`--query-cover 80`)\n",
    "  - Custom gap penalties and score thresholds\n",
    "- Uses the **PAM70 substitution matrix** if available, for better MS/MS relevance.\n",
    "- Outputs results in a custom tabular format with query/subject IDs, scores, and sequences.\n",
    "\n",
    "The resulting `.tsv` file lists the best protein hits for each peptide, which will be used in downstream taxonomic annotation.\n"
   ]
  },
  {
   "cell_type": "code",
   "execution_count": null,
   "id": "f719b937",
   "metadata": {},
   "outputs": [
    {
     "name": "stdout",
     "output_type": "stream",
     "text": [
      "Using custom scoring matrix PAM70.mat\n",
      "Running DIAMOND alignment...\n",
      "DIAMOND alignment complete. Results saved to: c:\\Users\\Yusuf\\OneDrive\\LST\\Derde_jaar\\Y3Q4\\Metaproteomics_with_db\\Diamond_alignments\\garmerwoldepeptides_uniref100_aligned.tsv\n"
     ]
    }
   ],
   "source": [
    "# Import required modules for running shell commands and handling paths\n",
    "import os\n",
    "import subprocess\n",
    "\n",
    "# === Define paths for input, output, and DIAMOND binary ===\n",
    "\n",
    "# Path to DIAMOND executable\n",
    "diamond_exe = base_path / \"software_tools\" / \"diamond.exe\"\n",
    "\n",
    "# Path to the cleaned peptide FASTA file created earlier\n",
    "query_fasta = base_path / \"peptides.fasta\"\n",
    "\n",
    "# Directory and file where DIAMOND alignment results will be saved\n",
    "output_dir = base_path / \"Diamond_alignments\"\n",
    "output_file = os.path.join(output_dir, \"de_novo_peptides_uniref100_aligned.tsv\")\n",
    "\n",
    "# Ensure the output directory exists (create if not)\n",
    "os.makedirs(output_dir, exist_ok=True)\n",
    "\n",
    "# === Build the DIAMOND command with alignment parameters ===\n",
    "\n",
    "diamond_command = [\n",
    "    diamond_exe, \"blastp\",                 # Run DIAMOND in protein-protein alignment mode\n",
    "    \"-q\", query_fasta,                     # Input query FASTA (peptides)\n",
    "    \"-d\", diamond_db,                      # UniRef100 DIAMOND database\n",
    "    \"-o\", output_file,                     # Output file path\n",
    "    \"-k\", \"50\",                            # Report up to 50 best hits per peptide\n",
    "    \"--id\", \"85\",                          # Require minimum 85% identity\n",
    "    \"--query-cover\", \"80\",                 # Require at least 80% of the peptide to align\n",
    "    \"--min-score\", \"20\",                   # Minimum alignment score threshold\n",
    "    \"--gapopen\", \"2\",                      # Penalty for opening a gap\n",
    "    \"--gapextend\", \"4\",                    # Penalty for extending a gap\n",
    "    \"--algo\", \"ctg\",                       # Use \"contiguous\" algorithm (fast & strict)\n",
    "    \"-f\", \"6\", \"qseqid\", \"sseqid\",         # Output format: tabular with selected columns\n",
    "           \"pident\", \"bitscore\", \"qseq\", \"sseq\"\n",
    "]\n",
    "\n",
    "# === Add PAM70 matrix if available ===\n",
    "\n",
    "pam70_path = base_path / \"software_tools\" / \"PAM70.mat\"\n",
    "if os.path.exists(pam70_path):\n",
    "    diamond_command += [\"--custom-matrix\", pam70_path]  # Append custom matrix option\n",
    "    print(\"Using custom scoring matrix PAM70.mat\")\n",
    "\n",
    "# === Run the DIAMOND command ===\n",
    "\n",
    "print(\"Running DIAMOND alignment...\")\n",
    "try:\n",
    "    # Execute the command; raise error if DIAMOND fails\n",
    "    subprocess.run(diamond_command, check=True)\n",
    "    print(f\"DIAMOND alignment complete. Results saved to: {output_file}\")\n",
    "except subprocess.CalledProcessError as e:\n",
    "    # Catch and report any failure in running DIAMOND\n",
    "    print(f\"❌ DIAMOND failed: {e}\")\n",
    "\n"
   ]
  },
  {
   "cell_type": "markdown",
   "id": "5f790b39",
   "metadata": {},
   "source": [
    "### Step 8: Load DIAMOND Alignment Results and Extract Matched Protein Accessions\n",
    "\n",
    "After aligning the cleaned peptides to the UniRef100 database using DIAMOND, we now load the alignment results and extract the **matched protein IDs** (`sseqid` column). These accession IDs represent the UniRef protein entries that best match each peptide.\n",
    "\n",
    "Key actions:\n",
    "- Load the tabular DIAMOND result file (`.tsv`) into a pandas DataFrame.\n",
    "- Assign column names based on DIAMOND's custom output format.\n",
    "- Extract all **unique protein accession IDs**, which will be used in the next step to retrieve taxonomic information from UniProt.\n",
    "\n",
    "This bridges the gap between peptide-level alignments and taxon-level assignments based on protein metadata.\n"
   ]
  },
  {
   "cell_type": "code",
   "execution_count": null,
   "id": "b53310cd",
   "metadata": {},
   "outputs": [
    {
     "name": "stdout",
     "output_type": "stream",
     "text": [
      "Loaded 59329 alignments.\n"
     ]
    },
    {
     "data": {
      "text/plain": [
       "(59329, 6)"
      ]
     },
     "metadata": {},
     "output_type": "display_data"
    },
    {
     "data": {
      "text/html": [
       "<div>\n",
       "<style scoped>\n",
       "    .dataframe tbody tr th:only-of-type {\n",
       "        vertical-align: middle;\n",
       "    }\n",
       "\n",
       "    .dataframe tbody tr th {\n",
       "        vertical-align: top;\n",
       "    }\n",
       "\n",
       "    .dataframe thead th {\n",
       "        text-align: right;\n",
       "    }\n",
       "</style>\n",
       "<table border=\"1\" class=\"dataframe\">\n",
       "  <thead>\n",
       "    <tr style=\"text-align: right;\">\n",
       "      <th></th>\n",
       "      <th>qseqid</th>\n",
       "      <th>sseqid</th>\n",
       "      <th>pident</th>\n",
       "      <th>bitscore</th>\n",
       "      <th>qseq</th>\n",
       "      <th>sseq</th>\n",
       "    </tr>\n",
       "  </thead>\n",
       "  <tbody>\n",
       "    <tr>\n",
       "      <th>0</th>\n",
       "      <td>peptide_2</td>\n",
       "      <td>UniRef100_A0A011QQ48</td>\n",
       "      <td>100.0</td>\n",
       "      <td>24.8</td>\n",
       "      <td>MAGSQTAMTR</td>\n",
       "      <td>MAGSQTAMTR</td>\n",
       "    </tr>\n",
       "    <tr>\n",
       "      <th>1</th>\n",
       "      <td>peptide_2</td>\n",
       "      <td>UniRef100_UPI0025C051C6</td>\n",
       "      <td>100.0</td>\n",
       "      <td>24.8</td>\n",
       "      <td>MAGSQTAMTR</td>\n",
       "      <td>MAGSQTAMTR</td>\n",
       "    </tr>\n",
       "    <tr>\n",
       "      <th>2</th>\n",
       "      <td>peptide_2</td>\n",
       "      <td>UniRef100_UPI0028C430E3</td>\n",
       "      <td>100.0</td>\n",
       "      <td>24.8</td>\n",
       "      <td>MAGSQTAMTR</td>\n",
       "      <td>MAGSQTAMTR</td>\n",
       "    </tr>\n",
       "    <tr>\n",
       "      <th>3</th>\n",
       "      <td>peptide_2</td>\n",
       "      <td>UniRef100_UPI0025B9E656</td>\n",
       "      <td>100.0</td>\n",
       "      <td>24.8</td>\n",
       "      <td>MAGSQTAMTR</td>\n",
       "      <td>MAGSQTAMTR</td>\n",
       "    </tr>\n",
       "    <tr>\n",
       "      <th>4</th>\n",
       "      <td>peptide_2</td>\n",
       "      <td>UniRef100_UPI00145EEA31</td>\n",
       "      <td>100.0</td>\n",
       "      <td>24.8</td>\n",
       "      <td>MAGSQTAMTR</td>\n",
       "      <td>MAGSQTAMTR</td>\n",
       "    </tr>\n",
       "  </tbody>\n",
       "</table>\n",
       "</div>"
      ],
      "text/plain": [
       "      qseqid                   sseqid  pident  bitscore        qseq  \\\n",
       "0  peptide_2     UniRef100_A0A011QQ48   100.0      24.8  MAGSQTAMTR   \n",
       "1  peptide_2  UniRef100_UPI0025C051C6   100.0      24.8  MAGSQTAMTR   \n",
       "2  peptide_2  UniRef100_UPI0028C430E3   100.0      24.8  MAGSQTAMTR   \n",
       "3  peptide_2  UniRef100_UPI0025B9E656   100.0      24.8  MAGSQTAMTR   \n",
       "4  peptide_2  UniRef100_UPI00145EEA31   100.0      24.8  MAGSQTAMTR   \n",
       "\n",
       "         sseq  \n",
       "0  MAGSQTAMTR  \n",
       "1  MAGSQTAMTR  \n",
       "2  MAGSQTAMTR  \n",
       "3  MAGSQTAMTR  \n",
       "4  MAGSQTAMTR  "
      ]
     },
     "metadata": {},
     "output_type": "display_data"
    },
    {
     "name": "stdout",
     "output_type": "stream",
     "text": [
      "Found 33301 unique matched protein IDs.\n"
     ]
    }
   ],
   "source": [
    "# Import pandas for data handling\n",
    "import pandas as pd\n",
    "\n",
    "# === Step 1: Load DIAMOND alignment output ===\n",
    "\n",
    "# Define the full path to the DIAMOND result file\n",
    "diamond_output_path = base_path / \"Diamond_alignments\" / \"de_novo_peptides_uniref100_aligned.tsv\"\n",
    "\n",
    "# Define column names for the DIAMOND tabular output\n",
    "columns = [\n",
    "    \"qseqid\",    # Query sequence ID (e.g., peptide_0)\n",
    "    \"sseqid\",    # Subject sequence ID (matched UniRef protein)\n",
    "    \"pident\",    # Percent identity\n",
    "    \"bitscore\",  # Bit score of alignment\n",
    "    \"qseq\",      # Query sequence (peptide)\n",
    "    \"sseq\"       # Matched portion of the protein sequence\n",
    "]\n",
    "\n",
    "# Read the result file into a DataFrame\n",
    "diamond_df = pd.read_csv(diamond_output_path, sep=\"\\t\", header=None, names=columns)\n",
    "\n",
    "# Print the total number of alignments (rows)\n",
    "print(f\"Loaded {len(diamond_df)} alignments.\")\n",
    "display(diamond_df.shape)  # Show shape of the DataFrame (rows, columns)\n",
    "\n",
    "# Display the top rows for inspection\n",
    "display(diamond_df.head())\n",
    "\n",
    "# === Step 2: Extract unique protein accession IDs ===\n",
    "\n",
    "# Get all unique values from the 'sseqid' column (UniRef protein accessions)\n",
    "unique_proteins = diamond_df[\"sseqid\"].unique()\n",
    "\n",
    "# Print how many distinct protein accessions were matched\n",
    "print(f\"Found {len(unique_proteins)} unique matched protein IDs.\")\n"
   ]
  },
  {
   "cell_type": "markdown",
   "id": "7eb82378",
   "metadata": {},
   "source": [
    "### Step 9: Extract UniProt Accessions from Matched UniRef IDs\n",
    "\n",
    "The subject sequence IDs (`sseqid`) returned by DIAMOND are typically UniRef cluster headers, such as:\n",
    "UniRef90_A0A1S2ZP88\n",
    "UniRef100_Q8WZ42\n",
    "\n",
    "In these identifiers, the actual **UniProt accession** is the suffix (e.g., `A0A1S2ZP88`, `Q8WZ42`). We need to extract these accessions to:\n",
    "- Use them in UniProt's ID mapping API to retrieve organism-level annotations.\n",
    "- Link peptides to taxonomic lineages via the protein match.\n",
    "\n",
    "This block:\n",
    "- Uses a regular expression to extract the trailing UniProt accession from each `sseqid`.\n",
    "- Adds a new `\"accession\"` column to the `diamond_df` with these extracted IDs.\n",
    "- Prepares a list of **unique, valid accession IDs** for API submission.\n"
   ]
  },
  {
   "cell_type": "code",
   "execution_count": null,
   "id": "de343d26",
   "metadata": {},
   "outputs": [
    {
     "data": {
      "text/plain": [
       "(59329, 7)"
      ]
     },
     "metadata": {},
     "output_type": "display_data"
    },
    {
     "data": {
      "text/html": [
       "<div>\n",
       "<style scoped>\n",
       "    .dataframe tbody tr th:only-of-type {\n",
       "        vertical-align: middle;\n",
       "    }\n",
       "\n",
       "    .dataframe tbody tr th {\n",
       "        vertical-align: top;\n",
       "    }\n",
       "\n",
       "    .dataframe thead th {\n",
       "        text-align: right;\n",
       "    }\n",
       "</style>\n",
       "<table border=\"1\" class=\"dataframe\">\n",
       "  <thead>\n",
       "    <tr style=\"text-align: right;\">\n",
       "      <th></th>\n",
       "      <th>sseqid</th>\n",
       "      <th>accession</th>\n",
       "    </tr>\n",
       "  </thead>\n",
       "  <tbody>\n",
       "    <tr>\n",
       "      <th>0</th>\n",
       "      <td>UniRef100_A0A011QQ48</td>\n",
       "      <td>A0A011QQ48</td>\n",
       "    </tr>\n",
       "    <tr>\n",
       "      <th>1</th>\n",
       "      <td>UniRef100_UPI0025C051C6</td>\n",
       "      <td>UPI0025C051C6</td>\n",
       "    </tr>\n",
       "    <tr>\n",
       "      <th>2</th>\n",
       "      <td>UniRef100_UPI0028C430E3</td>\n",
       "      <td>UPI0028C430E3</td>\n",
       "    </tr>\n",
       "    <tr>\n",
       "      <th>3</th>\n",
       "      <td>UniRef100_UPI0025B9E656</td>\n",
       "      <td>UPI0025B9E656</td>\n",
       "    </tr>\n",
       "    <tr>\n",
       "      <th>4</th>\n",
       "      <td>UniRef100_UPI00145EEA31</td>\n",
       "      <td>UPI00145EEA31</td>\n",
       "    </tr>\n",
       "  </tbody>\n",
       "</table>\n",
       "</div>"
      ],
      "text/plain": [
       "                    sseqid      accession\n",
       "0     UniRef100_A0A011QQ48     A0A011QQ48\n",
       "1  UniRef100_UPI0025C051C6  UPI0025C051C6\n",
       "2  UniRef100_UPI0028C430E3  UPI0028C430E3\n",
       "3  UniRef100_UPI0025B9E656  UPI0025B9E656\n",
       "4  UniRef100_UPI00145EEA31  UPI00145EEA31"
      ]
     },
     "metadata": {},
     "output_type": "display_data"
    },
    {
     "name": "stdout",
     "output_type": "stream",
     "text": [
      "✅ Accessions to map: 33301\n"
     ]
    }
   ],
   "source": [
    "# Import regular expressions for parsing sequence IDs\n",
    "import re\n",
    "\n",
    "# === Step 1: Define function to extract UniProt accession from sseqid ===\n",
    "\n",
    "def extract_accession(sseqid):\n",
    "    \"\"\"\n",
    "    Extract the UniProt accession from a UniRef ID string.\n",
    "\n",
    "    Example:\n",
    "        \"UniRef90_A0A1S2ZP88\" → \"A0A1S2ZP88\"\n",
    "\n",
    "    Args:\n",
    "        sseqid (str): Subject sequence ID from DIAMOND result.\n",
    "\n",
    "    Returns:\n",
    "        str or None: Extracted UniProt accession, or None if not matched.\n",
    "    \"\"\"\n",
    "    # Match the last alphanumeric group in the string\n",
    "    match = re.search(r\"[A-Z0-9]+$\", sseqid)\n",
    "    return match.group(0) if match else None\n",
    "\n",
    "# === Step 2: Apply the extraction function to each matched sequence ID ===\n",
    "\n",
    "# Create a new column 'accession' with the extracted UniProt IDs\n",
    "diamond_df[\"accession\"] = diamond_df[\"sseqid\"].apply(extract_accession)\n",
    "\n",
    "# === Step 3: Display and verify results ===\n",
    "\n",
    "# Show shape of the updated DataFrame\n",
    "display(diamond_df.shape)\n",
    "\n",
    "# Show a sample of sseqid and corresponding extracted accession\n",
    "display(diamond_df[[\"sseqid\", \"accession\"]].drop_duplicates().head())\n",
    "\n",
    "# === Step 4: Count valid unique accession IDs ===\n",
    "\n",
    "# Get all unique, non-null accession values\n",
    "accessions = diamond_df[\"accession\"].dropna().unique().tolist()\n",
    "\n",
    "# Print how many accessions will be mapped to taxonomic info\n",
    "print(f\"Accessions to map: {len(accessions)}\")"
   ]
  },
  {
   "cell_type": "markdown",
   "id": "b06132d4",
   "metadata": {},
   "source": [
    "### Step 10: Map Matched Protein Accessions to Organism Names via UniProt ID Mapping API\n",
    "\n",
    "To annotate each matched protein with the corresponding **organism name**, we use UniProt's ID Mapping API. Since thousands of protein accessions may be involved, we batch them into manageable chunks and submit them to the API.\n",
    "\n",
    "The process includes:\n",
    "1. **Chunking the UniProt accessions** extracted from the DIAMOND results.\n",
    "2. **Submitting mapping jobs** using UniProt’s `run`, `status`, and `results` endpoints.\n",
    "3. **Paginating through results**, combining all chunks into one DataFrame.\n",
    "4. **Mapping organisms back to the DIAMOND alignment table**, linking each peptide to a taxonomic origin.\n",
    "\n",
    "Finally, we **save the annotated alignment table** with an `\"organism\"` column, which is crucial for downstream filtering and database construction.\n"
   ]
  },
  {
   "cell_type": "code",
   "execution_count": null,
   "id": "7d59712f",
   "metadata": {},
   "outputs": [
    {
     "name": "stdout",
     "output_type": "stream",
     "text": [
      "🔢 Total unique accessions: 33301\n",
      "\n",
      "🚀 Submitting chunk 1/67 (size: 500)\n",
      "🆔 Job ID: lqZD7cw9vC\n",
      "⏳ Still processing...\n",
      "⏳ Still processing...\n",
      "⏳ Still processing...\n",
      "⏳ Still processing...\n",
      "⏳ Still processing...\n",
      "✅ Job completed.\n",
      "⬇️ Downloading all paginated results...\n",
      "✅ Downloaded total 308 mapped accessions.\n",
      "✅ Mapped 308 accessions.\n",
      "\n",
      "🚀 Submitting chunk 2/67 (size: 500)\n",
      "🆔 Job ID: bbHPe44MwE\n",
      "⏳ Still processing...\n",
      "⏳ Still processing...\n",
      "⏳ Still processing...\n",
      "⏳ Still processing...\n",
      "⏳ Still processing...\n",
      "✅ Job completed.\n",
      "⬇️ Downloading all paginated results...\n",
      "✅ Downloaded total 304 mapped accessions.\n",
      "✅ Mapped 304 accessions.\n",
      "\n",
      "🚀 Submitting chunk 3/67 (size: 500)\n",
      "🆔 Job ID: eMSCsFKJI4\n",
      "⏳ Still processing...\n",
      "⏳ Still processing...\n",
      "⏳ Still processing...\n",
      "⏳ Still processing...\n",
      "⏳ Still processing...\n",
      "✅ Job completed.\n",
      "⬇️ Downloading all paginated results...\n",
      "✅ Downloaded total 328 mapped accessions.\n",
      "✅ Mapped 328 accessions.\n",
      "\n",
      "🚀 Submitting chunk 4/67 (size: 500)\n",
      "🆔 Job ID: u6qGp0XVro\n",
      "⏳ Still processing...\n",
      "⏳ Still processing...\n",
      "⏳ Still processing...\n",
      "⏳ Still processing...\n",
      "⏳ Still processing...\n",
      "✅ Job completed.\n",
      "⬇️ Downloading all paginated results...\n",
      "✅ Downloaded total 261 mapped accessions.\n",
      "✅ Mapped 261 accessions.\n",
      "\n",
      "🚀 Submitting chunk 5/67 (size: 500)\n",
      "🆔 Job ID: yN29KT3cgP\n",
      "⏳ Still processing...\n",
      "⏳ Still processing...\n",
      "⏳ Still processing...\n",
      "⏳ Still processing...\n",
      "⏳ Still processing...\n",
      "⏳ Still processing...\n",
      "✅ Job completed.\n",
      "⬇️ Downloading all paginated results...\n",
      "✅ Downloaded total 338 mapped accessions.\n",
      "✅ Mapped 338 accessions.\n",
      "\n",
      "🚀 Submitting chunk 6/67 (size: 500)\n",
      "🆔 Job ID: h47DC0lWJ2\n",
      "⏳ Still processing...\n",
      "⏳ Still processing...\n",
      "⏳ Still processing...\n",
      "⏳ Still processing...\n",
      "⏳ Still processing...\n",
      "✅ Job completed.\n",
      "⬇️ Downloading all paginated results...\n",
      "✅ Downloaded total 365 mapped accessions.\n",
      "✅ Mapped 365 accessions.\n",
      "\n",
      "🚀 Submitting chunk 7/67 (size: 500)\n",
      "🆔 Job ID: gpDuNVlDDb\n",
      "⏳ Still processing...\n",
      "⏳ Still processing...\n",
      "⏳ Still processing...\n",
      "⏳ Still processing...\n",
      "⏳ Still processing...\n",
      "⏳ Still processing...\n",
      "✅ Job completed.\n",
      "⬇️ Downloading all paginated results...\n",
      "✅ Downloaded total 331 mapped accessions.\n",
      "✅ Mapped 331 accessions.\n",
      "\n",
      "🚀 Submitting chunk 8/67 (size: 500)\n",
      "🆔 Job ID: xprVbGncYh\n",
      "⏳ Still processing...\n",
      "⏳ Still processing...\n",
      "⏳ Still processing...\n",
      "⏳ Still processing...\n",
      "⏳ Still processing...\n",
      "⏳ Still processing...\n",
      "✅ Job completed.\n",
      "⬇️ Downloading all paginated results...\n",
      "✅ Downloaded total 332 mapped accessions.\n",
      "✅ Mapped 332 accessions.\n",
      "\n",
      "🚀 Submitting chunk 9/67 (size: 500)\n",
      "🆔 Job ID: fSERZoSBOP\n",
      "⏳ Still processing...\n",
      "⏳ Still processing...\n",
      "⏳ Still processing...\n",
      "⏳ Still processing...\n",
      "⏳ Still processing...\n",
      "✅ Job completed.\n",
      "⬇️ Downloading all paginated results...\n",
      "✅ Downloaded total 341 mapped accessions.\n",
      "✅ Mapped 341 accessions.\n",
      "\n",
      "🚀 Submitting chunk 10/67 (size: 500)\n",
      "🆔 Job ID: 4tzSu6IQw7\n",
      "⏳ Still processing...\n",
      "⏳ Still processing...\n",
      "⏳ Still processing...\n",
      "⏳ Still processing...\n",
      "⏳ Still processing...\n",
      "⏳ Still processing...\n",
      "✅ Job completed.\n",
      "⬇️ Downloading all paginated results...\n",
      "✅ Downloaded total 391 mapped accessions.\n",
      "✅ Mapped 391 accessions.\n",
      "\n",
      "🚀 Submitting chunk 11/67 (size: 500)\n",
      "🆔 Job ID: z6zmSG6TXp\n",
      "⏳ Still processing...\n",
      "⏳ Still processing...\n",
      "⏳ Still processing...\n",
      "⏳ Still processing...\n",
      "⏳ Still processing...\n",
      "✅ Job completed.\n",
      "⬇️ Downloading all paginated results...\n",
      "✅ Downloaded total 319 mapped accessions.\n",
      "✅ Mapped 319 accessions.\n",
      "\n",
      "🚀 Submitting chunk 12/67 (size: 500)\n",
      "🆔 Job ID: xcZda3hNLK\n",
      "⏳ Still processing...\n",
      "⏳ Still processing...\n",
      "⏳ Still processing...\n",
      "⏳ Still processing...\n",
      "⏳ Still processing...\n",
      "✅ Job completed.\n",
      "⬇️ Downloading all paginated results...\n",
      "✅ Downloaded total 296 mapped accessions.\n",
      "✅ Mapped 296 accessions.\n",
      "\n",
      "🚀 Submitting chunk 13/67 (size: 500)\n",
      "🆔 Job ID: dHQkyXtOMy\n",
      "⏳ Still processing...\n",
      "⏳ Still processing...\n",
      "⏳ Still processing...\n",
      "⏳ Still processing...\n",
      "⏳ Still processing...\n",
      "✅ Job completed.\n",
      "⬇️ Downloading all paginated results...\n",
      "✅ Downloaded total 306 mapped accessions.\n",
      "✅ Mapped 306 accessions.\n",
      "\n",
      "🚀 Submitting chunk 14/67 (size: 500)\n",
      "🆔 Job ID: aUvJtFXTwf\n",
      "⏳ Still processing...\n",
      "⏳ Still processing...\n",
      "⏳ Still processing...\n",
      "⏳ Still processing...\n",
      "⏳ Still processing...\n",
      "✅ Job completed.\n",
      "⬇️ Downloading all paginated results...\n",
      "✅ Downloaded total 292 mapped accessions.\n",
      "✅ Mapped 292 accessions.\n",
      "\n",
      "🚀 Submitting chunk 15/67 (size: 500)\n",
      "🆔 Job ID: 6PKlg5oxkF\n",
      "⏳ Still processing...\n",
      "⏳ Still processing...\n",
      "⏳ Still processing...\n",
      "⏳ Still processing...\n",
      "⏳ Still processing...\n",
      "✅ Job completed.\n",
      "⬇️ Downloading all paginated results...\n",
      "✅ Downloaded total 339 mapped accessions.\n",
      "✅ Mapped 339 accessions.\n",
      "\n",
      "🚀 Submitting chunk 16/67 (size: 500)\n",
      "🆔 Job ID: k5wqnkHmBN\n",
      "⏳ Still processing...\n",
      "⏳ Still processing...\n",
      "⏳ Still processing...\n",
      "⏳ Still processing...\n",
      "⏳ Still processing...\n",
      "✅ Job completed.\n",
      "⬇️ Downloading all paginated results...\n",
      "✅ Downloaded total 359 mapped accessions.\n",
      "✅ Mapped 359 accessions.\n",
      "\n",
      "🚀 Submitting chunk 17/67 (size: 500)\n",
      "🆔 Job ID: 3zinPnEfwY\n",
      "⏳ Still processing...\n",
      "⏳ Still processing...\n",
      "⏳ Still processing...\n",
      "⏳ Still processing...\n",
      "✅ Job completed.\n",
      "⬇️ Downloading all paginated results...\n",
      "✅ Downloaded total 295 mapped accessions.\n",
      "✅ Mapped 295 accessions.\n",
      "\n",
      "🚀 Submitting chunk 18/67 (size: 500)\n",
      "🆔 Job ID: h3xM52BhSV\n",
      "⏳ Still processing...\n",
      "⏳ Still processing...\n",
      "⏳ Still processing...\n",
      "⏳ Still processing...\n",
      "⏳ Still processing...\n",
      "✅ Job completed.\n",
      "⬇️ Downloading all paginated results...\n",
      "✅ Downloaded total 295 mapped accessions.\n",
      "✅ Mapped 295 accessions.\n",
      "\n",
      "🚀 Submitting chunk 19/67 (size: 500)\n",
      "🆔 Job ID: y97s5UNVuP\n",
      "⏳ Still processing...\n",
      "⏳ Still processing...\n",
      "⏳ Still processing...\n",
      "⏳ Still processing...\n",
      "⏳ Still processing...\n",
      "✅ Job completed.\n",
      "⬇️ Downloading all paginated results...\n",
      "✅ Downloaded total 344 mapped accessions.\n",
      "✅ Mapped 344 accessions.\n",
      "\n",
      "🚀 Submitting chunk 20/67 (size: 500)\n",
      "🆔 Job ID: a4LsTYSptp\n",
      "⏳ Still processing...\n",
      "⏳ Still processing...\n",
      "⏳ Still processing...\n",
      "⏳ Still processing...\n",
      "⏳ Still processing...\n",
      "✅ Job completed.\n",
      "⬇️ Downloading all paginated results...\n",
      "✅ Downloaded total 280 mapped accessions.\n",
      "✅ Mapped 280 accessions.\n",
      "\n",
      "🚀 Submitting chunk 21/67 (size: 500)\n",
      "🆔 Job ID: gLw7HgPMiV\n",
      "⏳ Still processing...\n",
      "⏳ Still processing...\n",
      "⏳ Still processing...\n",
      "⏳ Still processing...\n",
      "⏳ Still processing...\n",
      "⏳ Still processing...\n",
      "✅ Job completed.\n",
      "⬇️ Downloading all paginated results...\n",
      "✅ Downloaded total 305 mapped accessions.\n",
      "✅ Mapped 305 accessions.\n",
      "\n",
      "🚀 Submitting chunk 22/67 (size: 500)\n",
      "🆔 Job ID: 9IrDiOWjYK\n",
      "⏳ Still processing...\n",
      "⏳ Still processing...\n",
      "⏳ Still processing...\n",
      "⏳ Still processing...\n",
      "⏳ Still processing...\n",
      "⏳ Still processing...\n",
      "✅ Job completed.\n",
      "⬇️ Downloading all paginated results...\n",
      "✅ Downloaded total 331 mapped accessions.\n",
      "✅ Mapped 331 accessions.\n",
      "\n",
      "🚀 Submitting chunk 23/67 (size: 500)\n",
      "🆔 Job ID: wsLjqOMIsn\n",
      "⏳ Still processing...\n",
      "⏳ Still processing...\n",
      "⏳ Still processing...\n",
      "⏳ Still processing...\n",
      "⏳ Still processing...\n",
      "✅ Job completed.\n",
      "⬇️ Downloading all paginated results...\n",
      "✅ Downloaded total 327 mapped accessions.\n",
      "✅ Mapped 327 accessions.\n",
      "\n",
      "🚀 Submitting chunk 24/67 (size: 500)\n",
      "🆔 Job ID: sEmIRUnarC\n",
      "⏳ Still processing...\n",
      "⏳ Still processing...\n",
      "⏳ Still processing...\n",
      "⏳ Still processing...\n",
      "✅ Job completed.\n",
      "⬇️ Downloading all paginated results...\n",
      "✅ Downloaded total 297 mapped accessions.\n",
      "✅ Mapped 297 accessions.\n",
      "\n",
      "🚀 Submitting chunk 25/67 (size: 500)\n",
      "🆔 Job ID: kBdS9VzjLk\n",
      "⏳ Still processing...\n",
      "⏳ Still processing...\n",
      "⏳ Still processing...\n",
      "⏳ Still processing...\n",
      "⏳ Still processing...\n",
      "✅ Job completed.\n",
      "⬇️ Downloading all paginated results...\n",
      "✅ Downloaded total 329 mapped accessions.\n",
      "✅ Mapped 329 accessions.\n",
      "\n",
      "🚀 Submitting chunk 26/67 (size: 500)\n",
      "🆔 Job ID: lhza6DFKt3\n",
      "⏳ Still processing...\n",
      "⏳ Still processing...\n",
      "⏳ Still processing...\n",
      "⏳ Still processing...\n",
      "✅ Job completed.\n",
      "⬇️ Downloading all paginated results...\n",
      "✅ Downloaded total 252 mapped accessions.\n",
      "✅ Mapped 252 accessions.\n",
      "\n",
      "🚀 Submitting chunk 27/67 (size: 500)\n",
      "🆔 Job ID: agFSnvonLR\n",
      "⏳ Still processing...\n",
      "⏳ Still processing...\n",
      "⏳ Still processing...\n",
      "⏳ Still processing...\n",
      "⏳ Still processing...\n",
      "✅ Job completed.\n",
      "⬇️ Downloading all paginated results...\n",
      "✅ Downloaded total 313 mapped accessions.\n",
      "✅ Mapped 313 accessions.\n",
      "\n",
      "🚀 Submitting chunk 28/67 (size: 500)\n",
      "🆔 Job ID: tLp7vVV8Wv\n",
      "⏳ Still processing...\n",
      "⏳ Still processing...\n",
      "✅ Job completed.\n",
      "⬇️ Downloading all paginated results...\n",
      "✅ Downloaded total 297 mapped accessions.\n",
      "✅ Mapped 297 accessions.\n",
      "\n",
      "🚀 Submitting chunk 29/67 (size: 500)\n",
      "🆔 Job ID: uJ2M1qqou4\n",
      "⏳ Still processing...\n",
      "⏳ Still processing...\n",
      "⏳ Still processing...\n",
      "⏳ Still processing...\n",
      "⏳ Still processing...\n",
      "⏳ Still processing...\n",
      "✅ Job completed.\n",
      "⬇️ Downloading all paginated results...\n",
      "✅ Downloaded total 279 mapped accessions.\n",
      "✅ Mapped 279 accessions.\n",
      "\n",
      "🚀 Submitting chunk 30/67 (size: 500)\n",
      "🆔 Job ID: 1S6uJ03c7V\n",
      "⏳ Still processing...\n",
      "⏳ Still processing...\n",
      "⏳ Still processing...\n",
      "⏳ Still processing...\n",
      "⏳ Still processing...\n",
      "✅ Job completed.\n",
      "⬇️ Downloading all paginated results...\n",
      "✅ Downloaded total 299 mapped accessions.\n",
      "✅ Mapped 299 accessions.\n",
      "\n",
      "🚀 Submitting chunk 31/67 (size: 500)\n",
      "🆔 Job ID: 4ZogMrkV3K\n",
      "⏳ Still processing...\n",
      "⏳ Still processing...\n",
      "⏳ Still processing...\n",
      "⏳ Still processing...\n",
      "⏳ Still processing...\n",
      "✅ Job completed.\n",
      "⬇️ Downloading all paginated results...\n",
      "✅ Downloaded total 343 mapped accessions.\n",
      "✅ Mapped 343 accessions.\n",
      "\n",
      "🚀 Submitting chunk 32/67 (size: 500)\n",
      "🆔 Job ID: l1bvKvXOsZ\n",
      "⏳ Still processing...\n",
      "⏳ Still processing...\n",
      "⏳ Still processing...\n",
      "⏳ Still processing...\n",
      "⏳ Still processing...\n",
      "✅ Job completed.\n",
      "⬇️ Downloading all paginated results...\n",
      "✅ Downloaded total 293 mapped accessions.\n",
      "✅ Mapped 293 accessions.\n",
      "\n",
      "🚀 Submitting chunk 33/67 (size: 500)\n",
      "🆔 Job ID: z2iEfmAKDW\n",
      "⏳ Still processing...\n",
      "⏳ Still processing...\n",
      "⏳ Still processing...\n",
      "⏳ Still processing...\n",
      "⏳ Still processing...\n",
      "✅ Job completed.\n",
      "⬇️ Downloading all paginated results...\n",
      "✅ Downloaded total 297 mapped accessions.\n",
      "✅ Mapped 297 accessions.\n",
      "\n",
      "🚀 Submitting chunk 34/67 (size: 500)\n",
      "🆔 Job ID: nT1L2yTfoq\n",
      "⏳ Still processing...\n",
      "⏳ Still processing...\n",
      "⏳ Still processing...\n",
      "⏳ Still processing...\n",
      "⏳ Still processing...\n",
      "✅ Job completed.\n",
      "⬇️ Downloading all paginated results...\n",
      "✅ Downloaded total 318 mapped accessions.\n",
      "✅ Mapped 318 accessions.\n",
      "\n",
      "🚀 Submitting chunk 35/67 (size: 500)\n",
      "🆔 Job ID: rSaOvmao7i\n",
      "⏳ Still processing...\n",
      "⏳ Still processing...\n",
      "⏳ Still processing...\n",
      "⏳ Still processing...\n",
      "⏳ Still processing...\n",
      "✅ Job completed.\n",
      "⬇️ Downloading all paginated results...\n",
      "✅ Downloaded total 308 mapped accessions.\n",
      "✅ Mapped 308 accessions.\n",
      "\n",
      "🚀 Submitting chunk 36/67 (size: 500)\n",
      "🆔 Job ID: mKP6pwsVqF\n",
      "⏳ Still processing...\n",
      "⏳ Still processing...\n",
      "⏳ Still processing...\n",
      "⏳ Still processing...\n",
      "✅ Job completed.\n",
      "⬇️ Downloading all paginated results...\n",
      "✅ Downloaded total 309 mapped accessions.\n",
      "✅ Mapped 309 accessions.\n",
      "\n",
      "🚀 Submitting chunk 37/67 (size: 500)\n",
      "🆔 Job ID: bZH7Dkr4rh\n",
      "⏳ Still processing...\n",
      "⏳ Still processing...\n",
      "⏳ Still processing...\n",
      "⏳ Still processing...\n",
      "⏳ Still processing...\n",
      "✅ Job completed.\n",
      "⬇️ Downloading all paginated results...\n",
      "✅ Downloaded total 309 mapped accessions.\n",
      "✅ Mapped 309 accessions.\n",
      "\n",
      "🚀 Submitting chunk 38/67 (size: 500)\n",
      "🆔 Job ID: olT4br1baM\n",
      "⏳ Still processing...\n",
      "⏳ Still processing...\n",
      "⏳ Still processing...\n",
      "⏳ Still processing...\n",
      "✅ Job completed.\n",
      "⬇️ Downloading all paginated results...\n",
      "✅ Downloaded total 258 mapped accessions.\n",
      "✅ Mapped 258 accessions.\n",
      "\n",
      "🚀 Submitting chunk 39/67 (size: 500)\n",
      "🆔 Job ID: n2crHb8bAF\n",
      "⏳ Still processing...\n",
      "⏳ Still processing...\n",
      "⏳ Still processing...\n",
      "⏳ Still processing...\n",
      "⏳ Still processing...\n",
      "⏳ Still processing...\n",
      "✅ Job completed.\n",
      "⬇️ Downloading all paginated results...\n",
      "✅ Downloaded total 350 mapped accessions.\n",
      "✅ Mapped 350 accessions.\n",
      "\n",
      "🚀 Submitting chunk 40/67 (size: 500)\n",
      "🆔 Job ID: sYGSx2Isbk\n",
      "⏳ Still processing...\n",
      "⏳ Still processing...\n",
      "⏳ Still processing...\n",
      "⏳ Still processing...\n",
      "✅ Job completed.\n",
      "⬇️ Downloading all paginated results...\n",
      "✅ Downloaded total 303 mapped accessions.\n",
      "✅ Mapped 303 accessions.\n",
      "\n",
      "🚀 Submitting chunk 41/67 (size: 500)\n",
      "🆔 Job ID: 2iCcjbsFCk\n",
      "⏳ Still processing...\n",
      "⏳ Still processing...\n",
      "⏳ Still processing...\n",
      "⏳ Still processing...\n",
      "⏳ Still processing...\n",
      "⏳ Still processing...\n",
      "✅ Job completed.\n",
      "⬇️ Downloading all paginated results...\n",
      "✅ Downloaded total 373 mapped accessions.\n",
      "✅ Mapped 373 accessions.\n",
      "\n",
      "🚀 Submitting chunk 42/67 (size: 500)\n",
      "🆔 Job ID: 2958LycHqs\n",
      "⏳ Still processing...\n",
      "⏳ Still processing...\n",
      "⏳ Still processing...\n",
      "⏳ Still processing...\n",
      "✅ Job completed.\n",
      "⬇️ Downloading all paginated results...\n",
      "✅ Downloaded total 318 mapped accessions.\n",
      "✅ Mapped 318 accessions.\n",
      "\n",
      "🚀 Submitting chunk 43/67 (size: 500)\n",
      "🆔 Job ID: odWSYSzBt6\n",
      "⏳ Still processing...\n",
      "⏳ Still processing...\n",
      "⏳ Still processing...\n",
      "⏳ Still processing...\n",
      "⏳ Still processing...\n",
      "✅ Job completed.\n",
      "⬇️ Downloading all paginated results...\n",
      "✅ Downloaded total 274 mapped accessions.\n",
      "✅ Mapped 274 accessions.\n",
      "\n",
      "🚀 Submitting chunk 44/67 (size: 500)\n",
      "🆔 Job ID: bJEwbs0PRX\n",
      "⏳ Still processing...\n",
      "⏳ Still processing...\n",
      "⏳ Still processing...\n",
      "⏳ Still processing...\n",
      "⏳ Still processing...\n",
      "✅ Job completed.\n",
      "⬇️ Downloading all paginated results...\n",
      "✅ Downloaded total 345 mapped accessions.\n",
      "✅ Mapped 345 accessions.\n",
      "\n",
      "🚀 Submitting chunk 45/67 (size: 500)\n",
      "🆔 Job ID: eM99u02Qts\n",
      "⏳ Still processing...\n",
      "⏳ Still processing...\n",
      "⏳ Still processing...\n",
      "⏳ Still processing...\n",
      "⏳ Still processing...\n",
      "✅ Job completed.\n",
      "⬇️ Downloading all paginated results...\n",
      "✅ Downloaded total 299 mapped accessions.\n",
      "✅ Mapped 299 accessions.\n",
      "\n",
      "🚀 Submitting chunk 46/67 (size: 500)\n",
      "🆔 Job ID: mOeKMrPl3k\n",
      "⏳ Still processing...\n",
      "⏳ Still processing...\n",
      "⏳ Still processing...\n",
      "⏳ Still processing...\n",
      "✅ Job completed.\n",
      "⬇️ Downloading all paginated results...\n",
      "✅ Downloaded total 286 mapped accessions.\n",
      "✅ Mapped 286 accessions.\n",
      "\n",
      "🚀 Submitting chunk 47/67 (size: 500)\n",
      "🆔 Job ID: iATwJIpEtY\n",
      "⏳ Still processing...\n",
      "⏳ Still processing...\n",
      "⏳ Still processing...\n",
      "⏳ Still processing...\n",
      "⏳ Still processing...\n",
      "✅ Job completed.\n",
      "⬇️ Downloading all paginated results...\n",
      "✅ Downloaded total 323 mapped accessions.\n",
      "✅ Mapped 323 accessions.\n",
      "\n",
      "🚀 Submitting chunk 48/67 (size: 500)\n",
      "🆔 Job ID: x7XFssiezc\n",
      "⏳ Still processing...\n",
      "⏳ Still processing...\n",
      "⏳ Still processing...\n",
      "⏳ Still processing...\n",
      "⏳ Still processing...\n",
      "✅ Job completed.\n",
      "⬇️ Downloading all paginated results...\n",
      "✅ Downloaded total 300 mapped accessions.\n",
      "✅ Mapped 300 accessions.\n",
      "\n",
      "🚀 Submitting chunk 49/67 (size: 500)\n",
      "🆔 Job ID: 8BpAcbx8sE\n",
      "⏳ Still processing...\n",
      "⏳ Still processing...\n",
      "⏳ Still processing...\n",
      "⏳ Still processing...\n",
      "✅ Job completed.\n",
      "⬇️ Downloading all paginated results...\n",
      "✅ Downloaded total 236 mapped accessions.\n",
      "✅ Mapped 236 accessions.\n",
      "\n",
      "🚀 Submitting chunk 50/67 (size: 500)\n",
      "🆔 Job ID: ftnHmhjZDp\n",
      "⏳ Still processing...\n",
      "⏳ Still processing...\n",
      "⏳ Still processing...\n",
      "⏳ Still processing...\n",
      "⏳ Still processing...\n",
      "✅ Job completed.\n",
      "⬇️ Downloading all paginated results...\n",
      "✅ Downloaded total 297 mapped accessions.\n",
      "✅ Mapped 297 accessions.\n",
      "\n",
      "🚀 Submitting chunk 51/67 (size: 500)\n",
      "🆔 Job ID: 6mOgMk50T0\n",
      "⏳ Still processing...\n",
      "⏳ Still processing...\n",
      "⏳ Still processing...\n",
      "⏳ Still processing...\n",
      "⏳ Still processing...\n",
      "✅ Job completed.\n",
      "⬇️ Downloading all paginated results...\n",
      "✅ Downloaded total 329 mapped accessions.\n",
      "✅ Mapped 329 accessions.\n",
      "\n",
      "🚀 Submitting chunk 52/67 (size: 500)\n",
      "🆔 Job ID: ybNVnMADXr\n",
      "⏳ Still processing...\n",
      "⏳ Still processing...\n",
      "⏳ Still processing...\n",
      "⏳ Still processing...\n",
      "✅ Job completed.\n",
      "⬇️ Downloading all paginated results...\n",
      "✅ Downloaded total 292 mapped accessions.\n",
      "✅ Mapped 292 accessions.\n",
      "\n",
      "🚀 Submitting chunk 53/67 (size: 500)\n",
      "🆔 Job ID: 5GKBI0WnXW\n",
      "⏳ Still processing...\n",
      "⏳ Still processing...\n",
      "⏳ Still processing...\n",
      "⏳ Still processing...\n",
      "✅ Job completed.\n",
      "⬇️ Downloading all paginated results...\n",
      "✅ Downloaded total 294 mapped accessions.\n",
      "✅ Mapped 294 accessions.\n",
      "\n",
      "🚀 Submitting chunk 54/67 (size: 500)\n",
      "🆔 Job ID: 84ZAozfGiK\n",
      "⏳ Still processing...\n",
      "⏳ Still processing...\n",
      "⏳ Still processing...\n",
      "⏳ Still processing...\n",
      "✅ Job completed.\n",
      "⬇️ Downloading all paginated results...\n",
      "✅ Downloaded total 283 mapped accessions.\n",
      "✅ Mapped 283 accessions.\n",
      "\n",
      "🚀 Submitting chunk 55/67 (size: 500)\n",
      "🆔 Job ID: xdY1CbSzdj\n",
      "⏳ Still processing...\n",
      "⏳ Still processing...\n",
      "⏳ Still processing...\n",
      "⏳ Still processing...\n",
      "⏳ Still processing...\n",
      "✅ Job completed.\n",
      "⬇️ Downloading all paginated results...\n",
      "✅ Downloaded total 337 mapped accessions.\n",
      "✅ Mapped 337 accessions.\n",
      "\n",
      "🚀 Submitting chunk 56/67 (size: 500)\n",
      "🆔 Job ID: ezMDSAY1i0\n",
      "⏳ Still processing...\n",
      "⏳ Still processing...\n",
      "⏳ Still processing...\n",
      "⏳ Still processing...\n",
      "⏳ Still processing...\n",
      "✅ Job completed.\n",
      "⬇️ Downloading all paginated results...\n",
      "✅ Downloaded total 278 mapped accessions.\n",
      "✅ Mapped 278 accessions.\n",
      "\n",
      "🚀 Submitting chunk 57/67 (size: 500)\n",
      "🆔 Job ID: 2fiak2Jkhj\n",
      "⏳ Still processing...\n",
      "⏳ Still processing...\n",
      "⏳ Still processing...\n",
      "⏳ Still processing...\n",
      "⏳ Still processing...\n",
      "✅ Job completed.\n",
      "⬇️ Downloading all paginated results...\n",
      "✅ Downloaded total 306 mapped accessions.\n",
      "✅ Mapped 306 accessions.\n",
      "\n",
      "🚀 Submitting chunk 58/67 (size: 500)\n",
      "🆔 Job ID: znbUKMFN2L\n",
      "⏳ Still processing...\n",
      "⏳ Still processing...\n",
      "⏳ Still processing...\n",
      "⏳ Still processing...\n",
      "⏳ Still processing...\n",
      "⏳ Still processing...\n",
      "⏳ Still processing...\n",
      "✅ Job completed.\n",
      "⬇️ Downloading all paginated results...\n",
      "✅ Downloaded total 314 mapped accessions.\n",
      "✅ Mapped 314 accessions.\n",
      "\n",
      "🚀 Submitting chunk 59/67 (size: 500)\n",
      "🆔 Job ID: i5HPctWhrh\n",
      "⏳ Still processing...\n",
      "⏳ Still processing...\n",
      "⏳ Still processing...\n",
      "⏳ Still processing...\n",
      "⏳ Still processing...\n",
      "✅ Job completed.\n",
      "⬇️ Downloading all paginated results...\n",
      "✅ Downloaded total 325 mapped accessions.\n",
      "✅ Mapped 325 accessions.\n",
      "\n",
      "🚀 Submitting chunk 60/67 (size: 500)\n",
      "🆔 Job ID: gt6U9RcJ49\n",
      "⏳ Still processing...\n",
      "⏳ Still processing...\n",
      "⏳ Still processing...\n",
      "⏳ Still processing...\n",
      "⏳ Still processing...\n",
      "✅ Job completed.\n",
      "⬇️ Downloading all paginated results...\n",
      "✅ Downloaded total 338 mapped accessions.\n",
      "✅ Mapped 338 accessions.\n",
      "\n",
      "🚀 Submitting chunk 61/67 (size: 500)\n",
      "🆔 Job ID: 2ASOOzwZu7\n",
      "⏳ Still processing...\n",
      "⏳ Still processing...\n",
      "⏳ Still processing...\n",
      "⏳ Still processing...\n",
      "✅ Job completed.\n",
      "⬇️ Downloading all paginated results...\n",
      "✅ Downloaded total 286 mapped accessions.\n",
      "✅ Mapped 286 accessions.\n",
      "\n",
      "🚀 Submitting chunk 62/67 (size: 500)\n",
      "🆔 Job ID: s2aKiB73QS\n",
      "⏳ Still processing...\n",
      "⏳ Still processing...\n",
      "⏳ Still processing...\n",
      "⏳ Still processing...\n",
      "⏳ Still processing...\n",
      "✅ Job completed.\n",
      "⬇️ Downloading all paginated results...\n",
      "✅ Downloaded total 342 mapped accessions.\n",
      "✅ Mapped 342 accessions.\n",
      "\n",
      "🚀 Submitting chunk 63/67 (size: 500)\n",
      "🆔 Job ID: xuIOdv0W8U\n",
      "⏳ Still processing...\n",
      "⏳ Still processing...\n",
      "⏳ Still processing...\n",
      "⏳ Still processing...\n",
      "⏳ Still processing...\n",
      "✅ Job completed.\n",
      "⬇️ Downloading all paginated results...\n",
      "✅ Downloaded total 309 mapped accessions.\n",
      "✅ Mapped 309 accessions.\n",
      "\n",
      "🚀 Submitting chunk 64/67 (size: 500)\n",
      "🆔 Job ID: pAnenxGV5H\n",
      "⏳ Still processing...\n",
      "⏳ Still processing...\n",
      "⏳ Still processing...\n",
      "⏳ Still processing...\n",
      "⏳ Still processing...\n",
      "✅ Job completed.\n",
      "⬇️ Downloading all paginated results...\n",
      "✅ Downloaded total 302 mapped accessions.\n",
      "✅ Mapped 302 accessions.\n",
      "\n",
      "🚀 Submitting chunk 65/67 (size: 500)\n",
      "🆔 Job ID: ljhC8A8nLz\n",
      "❌ Error during chunk 65: 400 Client Error:  for url: https://rest.uniprot.org/idmapping/status/ljhC8A8nLz\n",
      "\n",
      "🚀 Submitting chunk 66/67 (size: 500)\n",
      "🆔 Job ID: yEghmFCyUG\n",
      "⏳ Still processing...\n",
      "⏳ Still processing...\n",
      "⏳ Still processing...\n",
      "⏳ Still processing...\n",
      "⏳ Still processing...\n",
      "✅ Job completed.\n",
      "⬇️ Downloading all paginated results...\n",
      "✅ Downloaded total 282 mapped accessions.\n",
      "✅ Mapped 282 accessions.\n",
      "\n",
      "🚀 Submitting chunk 67/67 (size: 301)\n",
      "🆔 Job ID: tuj5vOTZQ9\n",
      "⏳ Still processing...\n",
      "⏳ Still processing...\n",
      "⏳ Still processing...\n",
      "✅ Job completed.\n",
      "⬇️ Downloading all paginated results...\n",
      "✅ Downloaded total 188 mapped accessions.\n",
      "✅ Mapped 188 accessions.\n",
      "\n",
      "🎯 Total mapped entries: 20397\n",
      "💾 Saved updated diamond_df with organisms to: c:\\Users\\Yusuf\\OneDrive\\LST\\Derde_jaar\\Y3Q4\\Metaproteomics_with_db\\Diamond_alignments\\diamond_df_with_organisms_uniref100.csv\n"
     ]
    }
   ],
   "source": [
    "# Import necessary modules for API calls, timing, and data manipulation\n",
    "import requests\n",
    "import pandas as pd\n",
    "import time\n",
    "from io import StringIO\n",
    "\n",
    "# === CONFIGURATION ===\n",
    "\n",
    "CHUNK_SIZE = 500              # Number of accessions per API job (can go up to ~9500)\n",
    "SLEEP_BETWEEN_JOBS = 5        # Delay between jobs to avoid rate-limiting\n",
    "\n",
    "# === STEP 1: Prepare Accessions ===\n",
    "\n",
    "# Get unique UniProt accessions (previously extracted from UniRef IDs)\n",
    "accessions = diamond_df[\"accession\"].dropna().unique().tolist()\n",
    "print(f\"Total unique accessions: {len(accessions)}\")\n",
    "\n",
    "# === UniProt Mapping Helper Functions ===\n",
    "\n",
    "def submit_uniprot_mapping(accessions_chunk):\n",
    "    \"\"\"\n",
    "    Submit a chunk of UniProt accessions to the ID mapping API.\n",
    "    Returns the job ID.\n",
    "    \"\"\"\n",
    "    url = \"https://rest.uniprot.org/idmapping/run\"\n",
    "    headers = {\"Content-Type\": \"application/x-www-form-urlencoded\"}\n",
    "    data = {\n",
    "        \"from\": \"UniProtKB_AC-ID\",      # Source ID type\n",
    "        \"to\": \"UniProtKB\",              # Target ID type (to get metadata)\n",
    "        \"ids\": \",\".join(accessions_chunk)\n",
    "    }\n",
    "\n",
    "    response = requests.post(url, data=data, headers=headers)\n",
    "    response.raise_for_status()\n",
    "    return response.json()[\"jobId\"]\n",
    "\n",
    "def wait_for_completion(job_id):\n",
    "    \"\"\"\n",
    "    Poll the UniProt server until the mapping job has finished.\n",
    "    \"\"\"\n",
    "    url = f\"https://rest.uniprot.org/idmapping/status/{job_id}\"\n",
    "    while True:\n",
    "        response = requests.get(url)\n",
    "        response.raise_for_status()\n",
    "        status = response.json()\n",
    "\n",
    "        if status.get(\"jobStatus\", \"\").upper() == \"RUNNING\":\n",
    "            print(\"Still processing...\")\n",
    "            time.sleep(3)\n",
    "        elif \"redirectURL\" in status or \"results\" in status or status.get(\"jobStatus\", \"\").upper() == \"FINISHED\":\n",
    "            print(\"Job completed.\")\n",
    "            break\n",
    "        else:\n",
    "            print(\"Status unclear, retrying...\")\n",
    "            time.sleep(3)\n",
    "\n",
    "def download_results(job_id):\n",
    "    \"\"\"\n",
    "    Download paginated UniProt results for a completed mapping job.\n",
    "    Returns a combined pandas DataFrame.\n",
    "    \"\"\"\n",
    "    print(\"⬇Downloading all paginated results...\")\n",
    "    base_url = f\"https://rest.uniprot.org/idmapping/uniprotkb/results/{job_id}\"\n",
    "    headers = {\"Accept\": \"text/tab-separated-values\"}\n",
    "\n",
    "    all_chunks = []\n",
    "    next_url = base_url + \"?format=tsv&fields=accession,organism_name&size=500\"\n",
    "\n",
    "    while next_url:\n",
    "        response = requests.get(next_url, headers=headers)\n",
    "        response.raise_for_status()\n",
    "        chunk = pd.read_csv(StringIO(response.text), sep=\"\\t\")\n",
    "        all_chunks.append(chunk)\n",
    "\n",
    "        # Parse pagination headers\n",
    "        link_header = response.headers.get(\"Link\", \"\")\n",
    "        if 'rel=\"next\"' in link_header:\n",
    "            parts = link_header.split(\",\")\n",
    "            next_links = [p for p in parts if 'rel=\"next\"' in p]\n",
    "            if next_links:\n",
    "                next_url = next_links[0].split(\";\")[0].strip(\"<> \")\n",
    "            else:\n",
    "                next_url = None\n",
    "        else:\n",
    "            next_url = None\n",
    "\n",
    "    # Combine all downloaded chunks\n",
    "    full_df = pd.concat(all_chunks, ignore_index=True)\n",
    "    print(f\"Downloaded total {len(full_df)} mapped accessions.\")\n",
    "    return full_df\n",
    "\n",
    "# === STEP 2: Submit and Download Mappings in Batches ===\n",
    "\n",
    "all_mappings = []\n",
    "\n",
    "# Loop through all accessions in chunks\n",
    "for i in range(0, len(accessions), CHUNK_SIZE):\n",
    "    chunk = accessions[i:i+CHUNK_SIZE]\n",
    "    print(f\"\\nSubmitting chunk {i//CHUNK_SIZE + 1}/{(len(accessions)//CHUNK_SIZE)+1} (size: {len(chunk)})\")\n",
    "\n",
    "    try:\n",
    "        # Submit mapping job and wait for completion\n",
    "        job_id = submit_uniprot_mapping(chunk)\n",
    "        print(f\"Job ID: {job_id}\")\n",
    "        wait_for_completion(job_id)\n",
    "\n",
    "        # Download and store the results\n",
    "        result_df = download_results(job_id)\n",
    "        all_mappings.append(result_df)\n",
    "        print(f\"Mapped {len(result_df)} accessions.\")\n",
    "    except Exception as e:\n",
    "        print(f\"Error during chunk {i//CHUNK_SIZE + 1}: {e}\")\n",
    "\n",
    "    # Pause to avoid overloading the API\n",
    "    time.sleep(SLEEP_BETWEEN_JOBS)\n",
    "\n",
    "# === STEP 3: Combine Results and Annotate DIAMOND DataFrame ===\n",
    "\n",
    "if all_mappings:\n",
    "    # Combine all mapping chunks into a single DataFrame\n",
    "    combined_df = pd.concat(all_mappings, ignore_index=True)\n",
    "    print(f\"\\nTotal mapped entries: {len(combined_df)}\")\n",
    "\n",
    "    # Build dictionary: accession → organism name\n",
    "    accession_to_org = dict(zip(combined_df[\"From\"], combined_df[\"Organism\"]))\n",
    "\n",
    "    # Annotate the DIAMOND alignment table with organism names\n",
    "    diamond_df[\"organism\"] = diamond_df[\"accession\"].map(accession_to_org)\n",
    "\n",
    "    # Define output path for the updated DataFrame\n",
    "    output_path = base_path / \"Diamond_alignments\" / \"diamond_df_with_organisms_uniref100.csv\"\n",
    "\n",
    "    # Save to CSV\n",
    "    diamond_df.to_csv(output_path, index=False)\n",
    "    print(f\"Saved updated diamond_df with organisms to: {output_path}\")\n",
    "else:\n",
    "    print(\"No successful mappings. Check API or chunk errors.\")\n"
   ]
  },
  {
   "cell_type": "markdown",
   "id": "44ec2847",
   "metadata": {},
   "source": [
    "### Step 11: Map Organism Names to Taxon IDs via UniProt API\n",
    "\n",
    "To enable taxonomic analysis in UniPept's `taxa2lca` API, we must first convert the organism names (retrieved during DIAMOND annotation) into standardized NCBI Taxon IDs. These taxon IDs are required for calculating the Lowest Common Ancestor (LCA) for each peptide across its matched taxa.\n",
    "\n",
    "Instead of querying multiple services, we now rely solely on UniProt’s **Taxonomy Search API**, which is faster and more consistent for resolving organism names to NCBI taxon IDs. This reduces overhead and streamlines the pipeline.\n",
    "\n",
    "#### This step performs:\n",
    "- **Extraction** of all unique organism names from the DIAMOND alignment results.\n",
    "- **Submission** of each name to UniProt’s taxonomy API to resolve the corresponding taxon ID.\n",
    "- **Rate-limit aware querying**, with retries and optional delay to avoid service throttling.\n",
    "- **Mapping** of the retrieved taxon IDs back to each peptide match.\n",
    "- **Export** of the updated table as `diamond_df_uniref100_taxonids.csv`, which includes a new `taxon_id` column.\n",
    "\n",
    "This enriched table will serve as the input for the next step: computing peptide-wise LCAs using UniPept’s `taxa2lca` API.\n"
   ]
  },
  {
   "cell_type": "code",
   "execution_count": 2,
   "id": "907dc66e",
   "metadata": {},
   "outputs": [
    {
     "name": "stdout",
     "output_type": "stream",
     "text": [
      "🔍 Querying UniProt for 7522 organisms...\n"
     ]
    },
    {
     "name": "stderr",
     "output_type": "stream",
     "text": [
      "Mapping taxon IDs:   0%|          | 0/7522 [00:00<?, ?it/s]"
     ]
    },
    {
     "name": "stdout",
     "output_type": "stream",
     "text": [
      "❌ Request error for 'Candidatus Accumulibacter appositus' (attempt 1): HTTPSConnectionPool(host='rest.uniprot.org', port=443): Max retries exceeded with url: /taxonomy/search?query=Candidatus%20Accumulibacter%20appositus&format=json&size=1 (Caused by ConnectTimeoutError(<urllib3.connection.HTTPSConnection object at 0x0000020A51430160>, 'Connection to rest.uniprot.org timed out. (connect timeout=10)'))\n",
      "❌ Request error for 'Sapientia aquatica' (attempt 1): HTTPSConnectionPool(host='rest.uniprot.org', port=443): Max retries exceeded with url: /taxonomy/search?query=Sapientia%20aquatica&format=json&size=1 (Caused by ConnectTimeoutError(<urllib3.connection.HTTPSConnection object at 0x0000020A519F6E20>, 'Connection to rest.uniprot.org timed out. (connect timeout=10)'))\n",
      "❌ Request error for 'Accumulibacter sp' (attempt 1): HTTPSConnectionPool(host='rest.uniprot.org', port=443): Max retries exceeded with url: /taxonomy/search?query=Accumulibacter%20sp&format=json&size=1 (Caused by ConnectTimeoutError(<urllib3.connection.HTTPSConnection object at 0x0000020A51AD5B50>, 'Connection to rest.uniprot.org timed out. (connect timeout=10)'))\n",
      "❌ Request error for 'Pseudomonadota bacterium' (attempt 1): HTTPSConnectionPool(host='rest.uniprot.org', port=443): Max retries exceeded with url: /taxonomy/search?query=Pseudomonadota%20bacterium&format=json&size=1 (Caused by ConnectTimeoutError(<urllib3.connection.HTTPSConnection object at 0x0000020A54AD6B50>, 'Connection to rest.uniprot.org timed out. (connect timeout=10)'))\n",
      "❌ Request error for 'Candidatus Accumulibacter phosphatis' (attempt 1): HTTPSConnectionPool(host='rest.uniprot.org', port=443): Max retries exceeded with url: /taxonomy/search?query=Candidatus%20Accumulibacter%20phosphatis&format=json&size=1 (Caused by ConnectTimeoutError(<urllib3.connection.HTTPSConnection object at 0x0000020A519F6FD0>, 'Connection to rest.uniprot.org timed out. (connect timeout=10)'))\n",
      "❌ Request error for 'Ephemeroptericola cinctiostellae' (attempt 1): HTTPSConnectionPool(host='rest.uniprot.org', port=443): Max retries exceeded with url: /taxonomy/search?query=Ephemeroptericola%20cinctiostellae&format=json&size=1 (Caused by ConnectTimeoutError(<urllib3.connection.HTTPSConnection object at 0x0000020A51AD5D00>, 'Connection to rest.uniprot.org timed out. (connect timeout=10)'))\n",
      "❌ Request error for 'Hydromonas duriensis' (attempt 1): HTTPSConnectionPool(host='rest.uniprot.org', port=443): Max retries exceeded with url: /taxonomy/search?query=Hydromonas%20duriensis&format=json&size=1 (Caused by ConnectTimeoutError(<urllib3.connection.HTTPSConnection object at 0x0000020A54AD6D30>, 'Connection to rest.uniprot.org timed out. (connect timeout=10)'))\n",
      "❌ Request error for 'Accumulibacter regalis' (attempt 1): HTTPSConnectionPool(host='rest.uniprot.org', port=443): Max retries exceeded with url: /taxonomy/search?query=Accumulibacter%20regalis&format=json&size=1 (Caused by ConnectTimeoutError(<urllib3.connection.HTTPSConnection object at 0x0000020A519FC1C0>, 'Connection to rest.uniprot.org timed out. (connect timeout=10)'))\n"
     ]
    },
    {
     "name": "stderr",
     "output_type": "stream",
     "text": [
      "Mapping taxon IDs:  13%|█▎        | 943/7522 [01:14<06:47, 16.16it/s] "
     ]
    },
    {
     "name": "stdout",
     "output_type": "stream",
     "text": [
      "❌ Request error for 'Thermoclostridium caenicola' (attempt 1): HTTPSConnectionPool(host='rest.uniprot.org', port=443): Max retries exceeded with url: /taxonomy/search?query=Thermoclostridium%20caenicola&format=json&size=1 (Caused by ConnectTimeoutError(<urllib3.connection.HTTPSConnection object at 0x0000020A5155B580>, 'Connection to rest.uniprot.org timed out. (connect timeout=10)'))\n"
     ]
    },
    {
     "name": "stderr",
     "output_type": "stream",
     "text": [
      "Mapping taxon IDs:  25%|██▍       | 1864/7522 [02:17<06:07, 15.39it/s]"
     ]
    },
    {
     "name": "stdout",
     "output_type": "stream",
     "text": [
      "❌ Request error for 'Sphingomonas sp. 66-10' (attempt 1): HTTPSConnectionPool(host='rest.uniprot.org', port=443): Max retries exceeded with url: /taxonomy/search?query=Sphingomonas%20sp.%2066-10&format=json&size=1 (Caused by ConnectTimeoutError(<urllib3.connection.HTTPSConnection object at 0x0000020A5187BFA0>, 'Connection to rest.uniprot.org timed out. (connect timeout=10)'))\n"
     ]
    },
    {
     "name": "stderr",
     "output_type": "stream",
     "text": [
      "Mapping taxon IDs:  31%|███       | 2349/7522 [02:50<05:36, 15.39it/s]"
     ]
    },
    {
     "name": "stdout",
     "output_type": "stream",
     "text": [
      "❌ Request error for 'Candidatus Sedimenticola endophacoides' (attempt 1): HTTPSConnectionPool(host='rest.uniprot.org', port=443): Max retries exceeded with url: /taxonomy/search?query=Candidatus%20Sedimenticola%20endophacoides&format=json&size=1 (Caused by ConnectTimeoutError(<urllib3.connection.HTTPSConnection object at 0x0000020A51970820>, 'Connection to rest.uniprot.org timed out. (connect timeout=10)'))\n"
     ]
    },
    {
     "name": "stderr",
     "output_type": "stream",
     "text": [
      "Mapping taxon IDs:  34%|███▎      | 2536/7522 [03:03<05:13, 15.91it/s]"
     ]
    },
    {
     "name": "stdout",
     "output_type": "stream",
     "text": [
      "❌ Request error for 'Colletotrichum spaethianum' (attempt 1): HTTPSConnectionPool(host='rest.uniprot.org', port=443): Max retries exceeded with url: /taxonomy/search?query=Colletotrichum%20spaethianum&format=json&size=1 (Caused by ConnectTimeoutError(<urllib3.connection.HTTPSConnection object at 0x0000020A51980340>, 'Connection to rest.uniprot.org timed out. (connect timeout=10)'))\n"
     ]
    },
    {
     "name": "stderr",
     "output_type": "stream",
     "text": [
      "Mapping taxon IDs:  42%|████▏     | 3193/7522 [03:47<05:16, 13.67it/s]"
     ]
    },
    {
     "name": "stdout",
     "output_type": "stream",
     "text": [
      "❌ Request error for 'Rhizobiales bacterium TMED168' (attempt 1): HTTPSConnectionPool(host='rest.uniprot.org', port=443): Max retries exceeded with url: /taxonomy/search?query=Rhizobiales%20bacterium%20TMED168&format=json&size=1 (Caused by ConnectTimeoutError(<urllib3.connection.HTTPSConnection object at 0x0000020A51A8F2E0>, 'Connection to rest.uniprot.org timed out. (connect timeout=10)'))\n"
     ]
    },
    {
     "name": "stderr",
     "output_type": "stream",
     "text": [
      "Mapping taxon IDs:  44%|████▍     | 3298/7522 [03:54<04:34, 15.41it/s]"
     ]
    },
    {
     "name": "stdout",
     "output_type": "stream",
     "text": [
      "❌ Request error for 'Paracoccus sp. SM22M-07' (attempt 1): HTTPSConnectionPool(host='rest.uniprot.org', port=443): Max retries exceeded with url: /taxonomy/search?query=Paracoccus%20sp.%20SM22M-07&format=json&size=1 (Caused by ConnectTimeoutError(<urllib3.connection.HTTPSConnection object at 0x0000020A51AE4CD0>, 'Connection to rest.uniprot.org timed out. (connect timeout=10)'))\n"
     ]
    },
    {
     "name": "stderr",
     "output_type": "stream",
     "text": [
      "Mapping taxon IDs:  46%|████▌     | 3465/7522 [04:06<04:08, 16.35it/s]"
     ]
    },
    {
     "name": "stdout",
     "output_type": "stream",
     "text": [
      "❌ Request error for 'Microgenomates bacterium' (attempt 1): HTTPSConnectionPool(host='rest.uniprot.org', port=443): Max retries exceeded with url: /taxonomy/search?query=Microgenomates%20bacterium&format=json&size=1 (Caused by ConnectTimeoutError(<urllib3.connection.HTTPSConnection object at 0x0000020A51AE42E0>, 'Connection to rest.uniprot.org timed out. (connect timeout=10)'))\n"
     ]
    },
    {
     "name": "stderr",
     "output_type": "stream",
     "text": [
      "Mapping taxon IDs:  64%|██████▍   | 4841/7522 [05:41<03:18, 13.51it/s]"
     ]
    },
    {
     "name": "stdout",
     "output_type": "stream",
     "text": [
      "❌ Request error for 'Rhodobacterales bacterium 12-65-15' (attempt 1): HTTPSConnectionPool(host='rest.uniprot.org', port=443): Max retries exceeded with url: /taxonomy/search?query=Rhodobacterales%20bacterium%2012-65-15&format=json&size=1 (Caused by ConnectTimeoutError(<urllib3.connection.HTTPSConnection object at 0x0000020A546878B0>, 'Connection to rest.uniprot.org timed out. (connect timeout=10)'))\n"
     ]
    },
    {
     "name": "stderr",
     "output_type": "stream",
     "text": [
      "Mapping taxon IDs:  73%|███████▎  | 5522/7522 [06:26<01:24, 23.62it/s]"
     ]
    },
    {
     "name": "stdout",
     "output_type": "stream",
     "text": [
      "❌ Request error for 'Dermatophagoides farinae (American house dust mite)' (attempt 1): HTTPSConnectionPool(host='rest.uniprot.org', port=443): Max retries exceeded with url: /taxonomy/search?query=Dermatophagoides%20farinae%20%28American%20house%20dust%20mite%29&format=json&size=1 (Caused by ConnectTimeoutError(<urllib3.connection.HTTPSConnection object at 0x0000020A5478C3D0>, 'Connection to rest.uniprot.org timed out. (connect timeout=10)'))❌ Request error for 'Spiribacter salilacus' (attempt 1): HTTPSConnectionPool(host='rest.uniprot.org', port=443): Max retries exceeded with url: /taxonomy/search?query=Spiribacter%20salilacus&format=json&size=1 (Caused by ConnectTimeoutError(<urllib3.connection.HTTPSConnection object at 0x0000020A54761520>, 'Connection to rest.uniprot.org timed out. (connect timeout=10)'))\n",
      "\n"
     ]
    },
    {
     "name": "stderr",
     "output_type": "stream",
     "text": [
      "Mapping taxon IDs:  76%|███████▌  | 5721/7522 [06:40<01:44, 17.17it/s]"
     ]
    },
    {
     "name": "stdout",
     "output_type": "stream",
     "text": [
      "❌ Request error for 'Lysinibacillus sp. ZYM-1' (attempt 1): HTTPSConnectionPool(host='rest.uniprot.org', port=443): Max retries exceeded with url: /taxonomy/search?query=Lysinibacillus%20sp.%20ZYM-1&format=json&size=1 (Caused by ConnectTimeoutError(<urllib3.connection.HTTPSConnection object at 0x0000020A547C8550>, 'Connection to rest.uniprot.org timed out. (connect timeout=10)'))\n"
     ]
    },
    {
     "name": "stderr",
     "output_type": "stream",
     "text": [
      "Mapping taxon IDs:  83%|████████▎ | 6275/7522 [07:18<01:37, 12.73it/s]"
     ]
    },
    {
     "name": "stdout",
     "output_type": "stream",
     "text": [
      "❌ Request error for 'Brevundimonas mediterranea' (attempt 1): HTTPSConnectionPool(host='rest.uniprot.org', port=443): Max retries exceeded with url: /taxonomy/search?query=Brevundimonas%20mediterranea&format=json&size=1 (Caused by ConnectTimeoutError(<urllib3.connection.HTTPSConnection object at 0x0000020A548B0BE0>, 'Connection to rest.uniprot.org timed out. (connect timeout=10)'))\n"
     ]
    },
    {
     "name": "stderr",
     "output_type": "stream",
     "text": [
      "Mapping taxon IDs:  94%|█████████▎| 7043/7522 [08:11<00:26, 17.78it/s]"
     ]
    },
    {
     "name": "stdout",
     "output_type": "stream",
     "text": [
      "❌ Request error for 'Xanthomarina sp' (attempt 1): HTTPSConnectionPool(host='rest.uniprot.org', port=443): Max retries exceeded with url: /taxonomy/search?query=Xanthomarina%20sp&format=json&size=1 (Caused by ConnectTimeoutError(<urllib3.connection.HTTPSConnection object at 0x0000020A549DD8B0>, 'Connection to rest.uniprot.org timed out. (connect timeout=10)'))\n"
     ]
    },
    {
     "name": "stderr",
     "output_type": "stream",
     "text": [
      "Mapping taxon IDs:  95%|█████████▍| 7121/7522 [08:16<00:33, 11.94it/s]"
     ]
    },
    {
     "name": "stdout",
     "output_type": "stream",
     "text": [
      "❌ Request error for 'Roseicella sp. DB1501' (attempt 1): HTTPSConnectionPool(host='rest.uniprot.org', port=443): Max retries exceeded with url: /taxonomy/search?query=Roseicella%20sp.%20DB1501&format=json&size=1 (Caused by ConnectTimeoutError(<urllib3.connection.HTTPSConnection object at 0x0000020A549FEC10>, 'Connection to rest.uniprot.org timed out. (connect timeout=10)'))\n",
      "❌ Request error for 'Pseudomonas sihuiensis' (attempt 1): HTTPSConnectionPool(host='rest.uniprot.org', port=443): Max retries exceeded with url: /taxonomy/search?query=Pseudomonas%20sihuiensis&format=json&size=1 (Caused by ConnectTimeoutError(<urllib3.connection.HTTPSConnection object at 0x0000020A549F2520>, 'Connection to rest.uniprot.org timed out. (connect timeout=10)'))\n"
     ]
    },
    {
     "name": "stderr",
     "output_type": "stream",
     "text": [
      "Mapping taxon IDs: 100%|█████████▉| 7493/7522 [08:42<00:01, 16.20it/s]"
     ]
    },
    {
     "name": "stdout",
     "output_type": "stream",
     "text": [
      "❌ Request error for 'Plutella xylostella (Diamondback moth) (Plutella maculipennis)' (attempt 1): HTTPSConnectionPool(host='rest.uniprot.org', port=443): Max retries exceeded with url: /taxonomy/search?query=Plutella%20xylostella%20%28Diamondback%20moth%29%20%28Plutella%20maculipennis%29&format=json&size=1 (Caused by ConnectTimeoutError(<urllib3.connection.HTTPSConnection object at 0x0000020A54A49AF0>, 'Connection to rest.uniprot.org timed out. (connect timeout=10)'))\n"
     ]
    },
    {
     "name": "stderr",
     "output_type": "stream",
     "text": [
      "Mapping taxon IDs: 100%|██████████| 7522/7522 [08:44<00:00, 14.34it/s]"
     ]
    },
    {
     "name": "stdout",
     "output_type": "stream",
     "text": [
      "\n",
      "✅ Taxon ID-annotated DataFrame saved to: Diamond_alignments/diamond_df_uniref100_taxonids.csv\n"
     ]
    },
    {
     "name": "stderr",
     "output_type": "stream",
     "text": [
      "\n"
     ]
    }
   ],
   "source": [
    "import pandas as pd\n",
    "import requests\n",
    "from concurrent.futures import ThreadPoolExecutor, as_completed\n",
    "from tqdm import tqdm\n",
    "import time\n",
    "from requests.utils import quote\n",
    "\n",
    "# === Settings ===\n",
    "input_path = base_path / \"Diamond_alignments\" / \"diamond_df_with_organisms_uniref100.csv\"\n",
    "output_path = \"Diamond_alignments/diamond_df_uniref100_taxonids.csv\"\n",
    "MAX_WORKERS = 8  # UniProt allows more concurrency than NCBI\n",
    "\n",
    "# === Load data ===\n",
    "df = pd.read_csv(input_path)\n",
    "unique_organisms = df[\"organism\"].dropna().unique()\n",
    "\n",
    "# === UniProt Taxon API Query ===\n",
    "def query_uniprot_taxid(name, retries=3, delay=2):\n",
    "    base_url = \"https://rest.uniprot.org/taxonomy/search\"\n",
    "    for attempt in range(retries):\n",
    "        try:\n",
    "            encoded_query = quote(name)\n",
    "            response = requests.get(f\"{base_url}?query={encoded_query}&format=json&size=1\", timeout=10)\n",
    "            if response.status_code == 200:\n",
    "                data = response.json()\n",
    "                if \"results\" in data and len(data[\"results\"]) > 0:\n",
    "                    return name, str(data[\"results\"][0][\"taxonId\"])\n",
    "                else:\n",
    "                    return name, \"NA\"\n",
    "            elif response.status_code == 429:\n",
    "                wait = delay * (attempt + 1)\n",
    "                print(f\"⚠️ Rate limit hit for '{name}', retrying in {wait}s...\")\n",
    "                time.sleep(wait)\n",
    "        except requests.exceptions.RequestException as e:\n",
    "            print(f\"❌ Request error for '{name}' (attempt {attempt + 1}): {e}\")\n",
    "            time.sleep(delay)\n",
    "    return name, \"NA\"\n",
    "\n",
    "# === Perform parallel queries ===\n",
    "print(f\"🔍 Querying UniProt for {len(unique_organisms)} organisms...\")\n",
    "\n",
    "taxid_map = {}\n",
    "with ThreadPoolExecutor(max_workers=MAX_WORKERS) as executor:\n",
    "    futures = {executor.submit(query_uniprot_taxid, name): name for name in unique_organisms}\n",
    "    for future in tqdm(as_completed(futures), total=len(futures), desc=\"Mapping taxon IDs\"):\n",
    "        name, taxid = future.result()\n",
    "        taxid_map[name] = taxid\n",
    "        time.sleep(0.005)  # Optional micro-delay to prevent connection issues\n",
    "\n",
    "# === Add taxon_id column to DataFrame ===\n",
    "df[\"taxon_id\"] = df[\"organism\"].map(taxid_map)\n",
    "\n",
    "# === Save new DataFrame ===\n",
    "df.to_csv(output_path, index=False)\n",
    "print(f\"\\n✅ Taxon ID-annotated DataFrame saved to: {output_path}\")\n"
   ]
  },
  {
   "cell_type": "markdown",
   "id": "d506ecfe",
   "metadata": {},
   "source": [
    "## Step 12: Retrieve Accurate LCA Names and Taxonomic Ranks from UniPept\n",
    "After identifying all taxon IDs associated with each peptide, we now determine the lowest common ancestor (LCA) and its corresponding taxonomic rank using UniPept’s taxa2lca API. This step is essential for enabling robust taxonomic profiling of the detected peptides.\n",
    "\n",
    "To ensure taxonomic precision:\n",
    "\n",
    "For multiple taxon IDs, we use UniPept’s /taxa2lca.json endpoint to infer the LCA across the set.\n",
    "\n",
    "For single taxon IDs, we now query UniPept’s /taxa2tree.json API to retrieve the actual rank and taxon name from the taxonomic tree.\n",
    "\n",
    "This ensures both lca_taxon_name and lca_rank are accurate and consistent across the dataset.\n",
    "\n",
    "The resulting DataFrame now provides, for each peptide:\n",
    "\n",
    "A cleaned list of taxon IDs (taxon_id)\n",
    "\n",
    "The inferred LCA name (lca_taxon_name)\n",
    "\n",
    "The correct taxonomic rank (lca_rank)\n",
    "\n",
    "This step produces a taxonomy-aware peptide-level profile, forming the foundation for comparisons with metagenomics data and downstream visualizations."
   ]
  },
  {
   "cell_type": "code",
   "execution_count": 11,
   "id": "67ee154d",
   "metadata": {},
   "outputs": [
    {
     "name": "stdout",
     "output_type": "stream",
     "text": [
      "🔢 Number of unique peptides to process: 3319\n",
      "🔍 Fetching LCA info from UniPept...\n"
     ]
    },
    {
     "name": "stderr",
     "output_type": "stream",
     "text": [
      "Processing peptides: 100%|██████████| 3319/3319 [04:39<00:00, 11.87peptide/s]"
     ]
    },
    {
     "name": "stdout",
     "output_type": "stream",
     "text": [
      "\n",
      "✅ LCA results saved to: Diamond_alignments/diamond_df_with_lca_uniref100.csv\n",
      "❗ Failed to retrieve LCA for 0 peptides.\n"
     ]
    },
    {
     "name": "stderr",
     "output_type": "stream",
     "text": [
      "\n"
     ]
    }
   ],
   "source": [
    "import pandas as pd\n",
    "import requests\n",
    "from tqdm import tqdm\n",
    "\n",
    "# === Step 1: Load taxon ID annotated dataframe ===\n",
    "input_path = \"Diamond_alignments/diamond_df_uniref100_taxonids.csv\"\n",
    "df = pd.read_csv(input_path)\n",
    "\n",
    "# === Step 2: Group valid taxon IDs per peptide ===\n",
    "df = df[df[\"taxon_id\"].notna() & (df[\"taxon_id\"] != \"NA\")]\n",
    "df[\"taxon_id\"] = df[\"taxon_id\"].astype(float).astype(int).astype(str)\n",
    "\n",
    "grouped = df.groupby(\"qseqid\")[\"taxon_id\"].apply(lambda x: \",\".join(sorted(set(x)))).reset_index()\n",
    "print(f\"🔢 Number of unique peptides to process: {len(grouped)}\")\n",
    "\n",
    "# === Step 3: Fetch actual taxon name + rank for single-ID cases ===\n",
    "def fetch_rank_from_taxa2tree(taxon_id):\n",
    "    try:\n",
    "        url = \"https://api.unipept.ugent.be/api/v2/taxa2tree.json\"\n",
    "        response = requests.get(url, params={\"input[]\": taxon_id})\n",
    "        response.raise_for_status()\n",
    "        result = response.json()\n",
    "\n",
    "        def find_node_rank_and_name(node):\n",
    "            if isinstance(node, dict):\n",
    "                if node.get(\"id\") == int(taxon_id):\n",
    "                    return node.get(\"name\", \"NA\"), node.get(\"rank\", \"NA\")\n",
    "                for child in node.get(\"children\", []):\n",
    "                    result = find_node_rank_and_name(child)\n",
    "                    if result:\n",
    "                        return result\n",
    "            return None\n",
    "\n",
    "        return find_node_rank_and_name(result) or (\"NA\", \"NA\")\n",
    "\n",
    "    except Exception as e:\n",
    "        print(f\"❌ Error fetching rank for {taxon_id}: {e}\")\n",
    "        return (\"NA\", \"NA\")\n",
    "\n",
    "# === Step 4: Main LCA fetch function ===\n",
    "def get_lca_and_rank(taxon_ids_str):\n",
    "    try:\n",
    "        taxon_ids = [tid.strip() for tid in taxon_ids_str.split(\",\") if tid.strip().isdigit()]\n",
    "        if not taxon_ids:\n",
    "            return pd.Series([\"NA\", \"NA\"])\n",
    "\n",
    "        if len(taxon_ids) == 1:\n",
    "            # Instead of hardcoding, fetch actual name/rank\n",
    "            return pd.Series(fetch_rank_from_taxa2tree(taxon_ids[0]))\n",
    "\n",
    "        params = \"&\".join([f\"input[]={tid}\" for tid in taxon_ids])\n",
    "        url = f\"https://api.unipept.ugent.be/api/v2/taxa2lca.json?{params}&extra=true\"\n",
    "        response = requests.get(url)\n",
    "        response.raise_for_status()\n",
    "        result = response.json()\n",
    "\n",
    "        if isinstance(result, list) and result:\n",
    "            return pd.Series([result[0].get(\"taxon_name\", \"NA\"), result[0].get(\"taxon_rank\", \"NA\")])\n",
    "        else:\n",
    "            return pd.Series([\"NA\", \"NA\"])\n",
    "\n",
    "    except Exception as e:\n",
    "        errors.append((taxon_ids_str, str(e)))\n",
    "        return pd.Series([\"NA\", \"NA\"])\n",
    "\n",
    "# === Step 5: Process with progress bar ===\n",
    "print(\"🔍 Fetching LCA info from UniPept...\")\n",
    "\n",
    "errors = []\n",
    "lca_results = []\n",
    "for _, row in tqdm(grouped.iterrows(), total=len(grouped), desc=\"Processing peptides\", unit=\"peptide\"):\n",
    "    qseqid = row[\"qseqid\"]\n",
    "    taxid_str = row[\"taxon_id\"]\n",
    "    lca_name, lca_rank = get_lca_and_rank(taxid_str)\n",
    "    lca_results.append({\"qseqid\": qseqid, \"taxon_id\": taxid_str, \"lca_taxon_name\": lca_name, \"lca_rank\": lca_rank})\n",
    "\n",
    "# === Step 6: Save results ===\n",
    "lca_df = pd.DataFrame(lca_results)\n",
    "output_path = \"Diamond_alignments/diamond_df_with_lca_uniref100.csv\"\n",
    "lca_df.to_csv(output_path, index=False)\n",
    "\n",
    "print(f\"\\n✅ LCA results saved to: {output_path}\")\n",
    "print(f\"❗ Failed to retrieve LCA for {len(errors)} peptides.\")\n",
    "if errors:\n",
    "    print(\"🔁 Example error:\", errors[0])\n"
   ]
  },
  {
   "cell_type": "markdown",
   "id": "7bcd1d69",
   "metadata": {},
   "source": [
    "### Step 13: Filter for Confident Organisms Based on Peptide Support\n",
    "\n",
    "To ensure that we only include **reliably detected organisms** in our downstream database and analyses, we filter out those with low peptide support. Organisms supported by just a few peptides may be false positives or irrelevant background.\n",
    "\n",
    "Key actions in this block:\n",
    "- Load the previously annotated DIAMOND results with organism names.\n",
    "- Count the number of peptide hits per organism.\n",
    "- Filter to keep only organisms with **at least 15 matched peptides** (configurable).\n",
    "- Save the filtered dataset for downstream use (e.g., taxonomic annotation, proteome collection).\n",
    "\n",
    "This step strengthens the biological validity of the results and avoids overfitting or noise in custom database construction.\n"
   ]
  },
  {
   "cell_type": "code",
   "execution_count": 44,
   "id": "f0de3a8b",
   "metadata": {},
   "outputs": [
    {
     "data": {
      "image/png": "[encoded data removed]",
      "text/plain": [
       "<Figure size 1000x800 with 1 Axes>"
      ]
     },
     "metadata": {},
     "output_type": "display_data"
    },
    {
     "name": "stdout",
     "output_type": "stream",
     "text": [
      "\n",
      "✅ Filtered dataset saved to: Diamond_alignments/diamond_df_lca_filtered_5_hits_by_genus.csv\n",
      "📊 Unique taxa remaining: 116\n"
     ]
    }
   ],
   "source": [
    "# Import necessary libraries\n",
    "import pandas as pd\n",
    "import matplotlib.pyplot as plt\n",
    "\n",
    "# === Step 1: Load the LCA-annotated DIAMOND results ===\n",
    "file_path = \"Diamond_alignments/diamond_df_with_lca_uniref100.csv\"\n",
    "df = pd.read_csv(file_path)\n",
    "\n",
    "# === Step 2: Set peptide hit threshold ===\n",
    "min_hits = 5  # Minimum peptide hits per genus (first word)\n",
    "\n",
    "# === Step 3: Filter out NA values ===\n",
    "df = df[df[\"lca_taxon_name\"].notna() & (df[\"lca_taxon_name\"] != \"NA\")].copy()\n",
    "\n",
    "# === Step 4: Extract first word (e.g. genus or placeholder group) ===\n",
    "df[\"lca_genus\"] = df[\"lca_taxon_name\"].str.split().str[0]\n",
    "\n",
    "# === Step 5: Count hits per genus ===\n",
    "genus_counts = df[\"lca_genus\"].value_counts()\n",
    "\n",
    "# Get list of genera with sufficient peptide support\n",
    "confident_genera = genus_counts[genus_counts >= min_hits].index.tolist()\n",
    "\n",
    "# Filter the DataFrame\n",
    "filtered_df = df[df[\"lca_genus\"].isin(confident_genera)].reset_index(drop=True)\n",
    "\n",
    "# === Step 6: Visualize top 20 genera ===\n",
    "plt.figure(figsize=(10, 8))\n",
    "genus_counts.head(20).plot(kind=\"barh\", color='skyblue')\n",
    "plt.xlabel(\"Number of peptide hits\")\n",
    "plt.ylabel(\"Genus (first word of LCA name)\")\n",
    "plt.title(\"Top 20 genera by peptide support\")\n",
    "plt.gca().invert_yaxis()\n",
    "plt.tight_layout()\n",
    "plt.show()\n",
    "\n",
    "# === Step 7: Save filtered result ===\n",
    "output_path = f\"Diamond_alignments/diamond_df_lca_filtered_{min_hits}_hits_by_genus.csv\"\n",
    "filtered_df.to_csv(output_path, index=False)\n",
    "print(f\"\\n✅ Filtered dataset saved to: {output_path}\")\n",
    "print(f\"📊 Unique taxa remaining: {filtered_df['lca_taxon_name'].nunique()}\")"
   ]
  },
  {
   "cell_type": "code",
   "execution_count": 43,
   "id": "aa11328b",
   "metadata": {},
   "outputs": [
    {
     "data": {
      "image/png": "[encoded data removed]",
      "text/plain": [
       "<Figure size 1000x800 with 1 Axes>"
      ]
     },
     "metadata": {},
     "output_type": "display_data"
    }
   ],
   "source": [
    "import pandas as pd\n",
    "import matplotlib.pyplot as plt\n",
    "\n",
    "# === Load filtered LCA-based file ===\n",
    "file_path = output_path\n",
    "df = pd.read_csv(file_path)\n",
    "\n",
    "# === Count full LCA taxon names ===\n",
    "taxon_counts = df[\"lca_taxon_name\"].value_counts()\n",
    "\n",
    "# === Plot top 20 taxa ===\n",
    "plt.figure(figsize=(10, 8))\n",
    "taxon_counts.head(50).plot(kind=\"barh\", color=\"lightgreen\")\n",
    "plt.xlabel(\"Number of peptide hits\")\n",
    "plt.ylabel(\"LCA taxon name\")\n",
    "plt.title(\"Top 50 LCA taxa by peptide support\")\n",
    "plt.gca().invert_yaxis()\n",
    "plt.tight_layout()\n",
    "plt.show()"
   ]
  },
  {
   "cell_type": "markdown",
   "id": "426cd4c3",
   "metadata": {},
   "source": [
    "## Visualizing Microbial Composition at Strain and Species Level\n",
    "\n",
    "After completing the alignment of de novo peptide sequences with UniRef100 using DIAMOND, and mapping the matched accessions to their corresponding organism names and taxonomic ranks using UniProt and NCBI, we now assess the **composition of the microbial community** present in the sample.\n",
    "\n",
    "This step visualizes the relative abundance of peptides associated with organisms at **strain** and **species** level. These insights help us:\n",
    "\n",
    "- Validate taxonomic annotation quality\n",
    "- Determine the diversity and dominance of microbial taxa\n",
    "- Guide interpretation of functional annotations and database construction\n",
    "\n",
    "### Key Features of This Visualization\n",
    "\n",
    "- **Strain-level plot**: Shows only *classified strains* (excluding \"Unclassified\") to highlight specific strain annotations without overwhelming the figure.\n",
    "- **Species-level plot**: Includes \"Unclassified\" to give a complete picture of annotation confidence.\n",
    "- **Top-N labeling**: Only the top *N* most abundant taxa are individually labeled in the legend; the rest are grouped into a single **\"Other\"** category to enhance readability and reduce clutter.\n",
    "\n",
    "This step gives a clear visual overview of how well peptides were taxonomically assigned and what organisms dominate the metaproteomic sample.\n"
   ]
  },
  {
   "cell_type": "code",
   "execution_count": 35,
   "id": "f0474494",
   "metadata": {},
   "outputs": [
    {
     "data": {
      "image/png": "[encoded data removed]",
      "text/plain": [
       "<Figure size 800x600 with 1 Axes>"
      ]
     },
     "metadata": {},
     "output_type": "display_data"
    },
    {
     "data": {
      "image/png": "[encoded data removed]",
      "text/plain": [
       "<Figure size 800x600 with 1 Axes>"
      ]
     },
     "metadata": {},
     "output_type": "display_data"
    }
   ],
   "source": [
    "import pandas as pd\n",
    "import matplotlib.pyplot as plt\n",
    "\n",
    "# === Load your final annotated DIAMOND result with taxonomy ===\n",
    "df_path = output_path\n",
    "df = pd.read_csv(df_path)\n",
    "\n",
    "# === CONFIG ===\n",
    "TOP_N = 10  # Number of most abundant taxa to label explicitly\n",
    "\n",
    "def plot_composition(df, target_rank, top_n=10):\n",
    "    \"\"\"\n",
    "    Generate a single stacked bar plot showing the relative abundance of peptides\n",
    "    mapped to organisms at a specific taxonomic rank (e.g., 'species', 'strain').\n",
    "    \n",
    "    Parameters:\n",
    "        df (pd.DataFrame): DataFrame containing peptide-organism mappings and taxonomy\n",
    "        target_rank (str): Desired level of taxonomic resolution (e.g., 'strain', 'species')\n",
    "        top_n (int): Number of most abundant taxa to display explicitly in legend\n",
    "    \"\"\"\n",
    "\n",
    "    # === Filter data appropriately for each rank level ===\n",
    "    df_copy = df.copy()\n",
    "    \n",
    "    if target_rank == \"strain\":\n",
    "        # Include only peptides annotated to specific strains\n",
    "        df_copy = df_copy[df_copy[\"lca_rank\"] == \"strain\"]\n",
    "        df_copy = df_copy[df_copy[\"lca_taxon_name\"].notna() & (df_copy[\"lca_taxon_name\"] != \"Unclassified\")]\n",
    "    else:\n",
    "        # For species-level and others: allow all, including \"Unclassified\"\n",
    "        df_copy[\"lca_taxon_name\"] = df_copy[\"lca_taxon_name\"].fillna(\"Unclassified\").replace(\"NA\", \"Unclassified\")\n",
    "\n",
    "    # === Count peptide hits per organism and compute relative abundance ===\n",
    "    counts = df_copy[\"lca_taxon_name\"].value_counts()\n",
    "    total = counts.sum()\n",
    "    proportions = (counts / total * 100).sort_values(ascending=False)\n",
    "\n",
    "    # === Keep top N most abundant organisms, group the rest under \"Other\" ===\n",
    "    top_labels = proportions.head(top_n)\n",
    "    others = proportions.iloc[top_n:]\n",
    "    if not others.empty:\n",
    "        top_labels[\"Other\"] = others.sum()\n",
    "\n",
    "    # === Plot single stacked bar ===\n",
    "    fig, ax = plt.subplots(figsize=(8, 6))\n",
    "    ax.bar([target_rank], top_labels.values, bottom=0)\n",
    "\n",
    "    bottom = 0\n",
    "    for label, value in top_labels.items():\n",
    "        # Each taxon contributes a portion of the stacked bar\n",
    "        ax.bar(target_rank, value, bottom=bottom, label=label)\n",
    "        bottom += value\n",
    "\n",
    "    # === Final formatting ===\n",
    "    ax.set_title(f\"Microbial Composition at {target_rank.capitalize()} Level\")\n",
    "    ax.set_ylabel(\"Relative Abundance (%)\")\n",
    "    ax.set_ylim(0, 100)\n",
    "    ax.legend(title=\"Labels\", bbox_to_anchor=(1.05, 1), loc='upper left')\n",
    "    plt.tight_layout()\n",
    "    plt.show()\n",
    "\n",
    "# === Run the function for both strain and species level ===\n",
    "plot_composition(df, target_rank=\"strain\", top_n=TOP_N)\n",
    "plot_composition(df, target_rank=\"species\", top_n=TOP_N)"
   ]
  },
  {
   "cell_type": "markdown",
   "id": "9d3174c2",
   "metadata": {},
   "source": [
    "### Step 14: Fetch Proteins from UniProtKB Based on Organism Rank Grouping (Alternative Strategy)\n",
    "\n",
    "In this alternative strategy, we construct a custom protein database by selectively retrieving sequences from **UniProtKB** based on organisms identified through the DIAMOND alignment. Instead of downloading entire proteomes (as in the other strategy), we query UniProtKB for proteins associated with specific organism names, using fine-grained control over how many proteins are collected.\n",
    "\n",
    "To ensure representativeness while maintaining control over database size, organisms are **grouped into rank tiers** based on their peptide hit frequency in the DIAMOND results:\n",
    "\n",
    "| Rank Group        | Organism Index Range | Description                       | Protein Limit per Organism |\n",
    "|-------------------|----------------------|------------------------------------|-----------------------------|\n",
    "| Top 5             | 1st to 5th           | Dominant organisms in the sample  | High limits (e.g. 200k–250k)|\n",
    "| Rank 6–10         | 6th to 10th          | Still highly represented          | Moderate limit (e.g. 100k)  |\n",
    "| Rank 11–20        | 11th to 20th         | Mid-abundance organisms           | Medium limit (e.g. 50k)     |\n",
    "| Rank 21–50        | 21st to 50th         | Lower-abundance but relevant      | Small limit (e.g. 20k)      |\n",
    "| Rank 51+          | 51st and onward      | Rare organisms                    | Minimal limit (e.g. 5k)     |\n",
    "\n",
    "For each rank tier, a **custom number of proteins** is fetched using UniProtKB’s REST API. The protein sequences are retrieved in chunks (maximum 500 per request) and appended into a FASTA file. This strategy allows us to build a balanced database that reflects the sample’s taxonomic profile while remaining computationally efficient.\n",
    "\n",
    "This markdown block applies to **all subsequent UniProtKB collection cells**, which differ only in the group of organisms they fetch and the assigned limits.\n"
   ]
  },
  {
   "cell_type": "code",
   "execution_count": null,
   "id": "3b310969",
   "metadata": {},
   "outputs": [
    {
     "name": "stdout",
     "output_type": "stream",
     "text": [
      "Starting UniProtKB protein fetch for top 5 organisms...\n",
      "\n",
      "🔍 Fetching proteins for: Candidatus Accumulibacter phosphatis (available: 21571, fetching: 21571)\n"
     ]
    },
    {
     "name": "stderr",
     "output_type": "stream",
     "text": [
      "Candidatus Accumulibacter phosphatis...: 100%|██████████| 44/44 [01:25<00:00,  1.95s/it]\n"
     ]
    },
    {
     "name": "stdout",
     "output_type": "stream",
     "text": [
      "[1] Candidatus Accumulibacter phosphatis: 22000 proteins fetched\n",
      "\n",
      "🔍 Fetching proteins for: Candidatus Competibacteraceae bacterium (available: 73152, fetching: 73152)\n"
     ]
    },
    {
     "name": "stderr",
     "output_type": "stream",
     "text": [
      "Candidatus Competibacteraceae bacterium...: 100%|██████████| 147/147 [04:40<00:00,  1.91s/it]\n"
     ]
    },
    {
     "name": "stdout",
     "output_type": "stream",
     "text": [
      "[2] Candidatus Competibacteraceae bacterium: 73500 proteins fetched\n",
      "\n",
      "🔍 Fetching proteins for: Candidatus Sedimenticola endophacoides (available: 3268, fetching: 3268)\n"
     ]
    },
    {
     "name": "stderr",
     "output_type": "stream",
     "text": [
      "Candidatus Sedimenticola endophacoides...: 100%|██████████| 7/7 [00:22<00:00,  3.22s/it]\n"
     ]
    },
    {
     "name": "stdout",
     "output_type": "stream",
     "text": [
      "[3] Candidatus Sedimenticola endophacoides: 3500 proteins fetched\n",
      "\n",
      "🔍 Fetching proteins for: uncultured Acidobacteriota bacterium (available: 2521, fetching: 2521)\n"
     ]
    },
    {
     "name": "stderr",
     "output_type": "stream",
     "text": [
      "uncultured Acidobacteriota bacterium...: 100%|██████████| 6/6 [00:11<00:00,  1.84s/it]\n"
     ]
    },
    {
     "name": "stdout",
     "output_type": "stream",
     "text": [
      "[4] uncultured Acidobacteriota bacterium: 3000 proteins fetched\n",
      "\n",
      "🔍 Fetching proteins for: Ignavibacteriales bacterium (available: 115717, fetching: 115717)\n"
     ]
    },
    {
     "name": "stderr",
     "output_type": "stream",
     "text": [
      "Ignavibacteriales bacterium...: 100%|██████████| 232/232 [07:31<00:00,  1.95s/it]\n"
     ]
    },
    {
     "name": "stdout",
     "output_type": "stream",
     "text": [
      "[5] Ignavibacteriales bacterium: 116000 proteins fetched\n",
      "\n",
      "=== SUMMARY ===\n",
      "Output FASTA: Diamond_alignments/session_diamond_align_2025-06-07_22-07-13\\from_diamond_lca_top5_custom_limits.fasta\n",
      "Total protein sequences in database: 218000\n"
     ]
    }
   ],
   "source": [
    "import os\n",
    "import math\n",
    "import requests\n",
    "import pandas as pd\n",
    "from datetime import datetime\n",
    "from tqdm import tqdm\n",
    "\n",
    "# === 1. Configuration ===\n",
    "\n",
    "# Generate a unique timestamp-based output folder for this run\n",
    "session_time = datetime.now().strftime(\"%Y-%m-%d_%H-%M-%S\")\n",
    "output_dir = f\"Diamond_alignments/session_diamond_align_{session_time}\"\n",
    "os.makedirs(output_dir, exist_ok=True)\n",
    "\n",
    "# Define output FASTA file where downloaded protein sequences will be saved\n",
    "output_fasta_path = os.path.join(output_dir, \"diamond_top5_taxa_proteins.fasta\")\n",
    "\n",
    "# === 2. Load the top 5 most frequent organisms that have at least `min_hits` peptide matches ===\n",
    "df = pd.read_csv(output_path)\n",
    "organism_counts = df[\"lca_taxon_name\"].value_counts()\n",
    "\n",
    "# Filter organisms with enough confidence (min_hits threshold)\n",
    "filtered_organisms = organism_counts[organism_counts >= min_hits]\n",
    "\n",
    "# Select only the top 5 most frequent organisms\n",
    "top_5_organisms = filtered_organisms.head(5).index.tolist()\n",
    "\n",
    "# === 3. Define custom protein fetch limits per organism ===\n",
    "\n",
    "# Allows fine control over how many proteins to fetch for each organism\n",
    "custom_limits = {\n",
    "    0: 250000,  # Highest priority organism\n",
    "    1: 200000,\n",
    "    2: 200000,\n",
    "    3: 200000,\n",
    "    4: 200000   # Fifth-ranked organism\n",
    "}\n",
    "\n",
    "# === 4. Get total number of UniProt entries for an organism ===\n",
    "\n",
    "def get_total_results(organism):\n",
    "    \"\"\"\n",
    "    Queries UniProtKB to determine the total number of available proteins for a given organism.\n",
    "    Returns 0 if request fails.\n",
    "    \"\"\"\n",
    "    base_url = \"https://rest.uniprot.org/uniprotkb/search\"\n",
    "    params = {\n",
    "        \"query\": organism,\n",
    "        \"format\": \"json\",\n",
    "        \"size\": 1\n",
    "    }\n",
    "    try:\n",
    "        r = requests.get(base_url, params=params)\n",
    "        r.raise_for_status()\n",
    "        return int(r.headers.get(\"x-total-results\", 0))\n",
    "    except Exception as e:\n",
    "        print(f\"Failed to get total result count for {organism}: {e}\")\n",
    "        return 0\n",
    "\n",
    "# === 5. Download protein sequences from UniProtKB in chunks ===\n",
    "\n",
    "def fetch_uniprotkb_chunked_fasta(organism, limit):\n",
    "    \"\"\"\n",
    "    Downloads up to `limit` protein sequences in FASTA format for the specified organism from UniProtKB.\n",
    "    Uses 500-protein chunks due to API limits.\n",
    "    \"\"\"\n",
    "    base_url = \"https://rest.uniprot.org/uniprotkb/search\"\n",
    "    chunk_size = 500\n",
    "    headers = {\"Accept\": \"text/x-fasta\"}\n",
    "\n",
    "    total_available = get_total_results(organism)\n",
    "    if total_available == 0:\n",
    "        return \"\", 0\n",
    "\n",
    "    # Don't fetch more than what UniProt offers\n",
    "    limit = min(limit, total_available)\n",
    "    chunks = math.ceil(limit / chunk_size)\n",
    "\n",
    "    print(f\"\\n🔍 Fetching proteins for: {organism} (available: {total_available}, fetching: {limit})\")\n",
    "\n",
    "    fetched = \"\"\n",
    "    total_downloaded = 0\n",
    "\n",
    "    # Loop through API in chunks\n",
    "    for i in tqdm(range(chunks), desc=f\"{organism[:40]}...\", leave=True):\n",
    "        offset = i * chunk_size\n",
    "        params = {\n",
    "            \"query\": organism,\n",
    "            \"format\": \"fasta\",\n",
    "            \"size\": chunk_size,\n",
    "            \"offset\": offset,\n",
    "            \"compressed\": \"false\"\n",
    "        }\n",
    "        try:\n",
    "            r = requests.get(base_url, headers=headers, params=params)\n",
    "            r.raise_for_status()\n",
    "            chunk = r.text.strip()\n",
    "            if not chunk:\n",
    "                break\n",
    "            fetched += chunk + \"\\n\"\n",
    "            total_downloaded += chunk.count(\">\")\n",
    "        except Exception as e:\n",
    "            print(f\"Chunk {i+1} failed: {e}\")\n",
    "            break\n",
    "\n",
    "    return fetched, total_downloaded\n",
    "\n",
    "# === 6. Fetch and collect proteins for the top 5 organisms ===\n",
    "\n",
    "all_entries = []\n",
    "total_downloaded = 0\n",
    "\n",
    "print(\"Starting UniProtKB protein fetch for top 5 organisms...\")\n",
    "\n",
    "for idx, organism in enumerate(top_5_organisms):\n",
    "    limit = custom_limits.get(idx, 50000)  # Use default if not specified\n",
    "    fasta, downloaded = fetch_uniprotkb_chunked_fasta(organism, limit)\n",
    "\n",
    "    if fasta:\n",
    "        all_entries.append(fasta.strip())\n",
    "        total_downloaded += downloaded\n",
    "        print(f\"[{idx+1}] {organism}: {downloaded} proteins fetched\")\n",
    "    else:\n",
    "        print(f\"[{idx+1}] No proteins fetched for {organism}\")\n",
    "\n",
    "# === 7. Write combined results to a FASTA file ===\n",
    "\n",
    "with open(output_fasta_path, \"w\") as f_out:\n",
    "    f_out.write(\"\\n\".join(all_entries))\n",
    "\n",
    "# === 8. Summary printout ===\n",
    "\n",
    "print(\"\\n=== SUMMARY ===\")\n",
    "print(f\"Output FASTA: {output_fasta_path}\")\n",
    "print(f\"Total protein sequences in database: {total_downloaded}\")\n"
   ]
  },
  {
   "cell_type": "code",
   "execution_count": 37,
   "id": "e86cab1b",
   "metadata": {},
   "outputs": [
    {
     "name": "stdout",
     "output_type": "stream",
     "text": [
      "🚀 Starting UniProtKB protein fetch for organisms ranked 6-10...\n",
      "\n",
      "🔍 Fetching proteins for: Fluviibacter phosphoraccumulans (available: 2343, fetching: 2343)\n"
     ]
    },
    {
     "name": "stderr",
     "output_type": "stream",
     "text": [
      "Fluviibacter phosphoraccumulans...: 100%|██████████| 5/5 [00:08<00:00,  1.69s/it]\n"
     ]
    },
    {
     "name": "stdout",
     "output_type": "stream",
     "text": [
      "✅ [6] Fluviibacter phosphoraccumulans: 2500 proteins fetched\n",
      "\n",
      "🔍 Fetching proteins for: Nitrosomonas oligotropha (available: 8255, fetching: 8255)\n"
     ]
    },
    {
     "name": "stderr",
     "output_type": "stream",
     "text": [
      "Nitrosomonas oligotropha...: 100%|██████████| 17/17 [00:28<00:00,  1.70s/it]\n"
     ]
    },
    {
     "name": "stdout",
     "output_type": "stream",
     "text": [
      "✅ [7] Nitrosomonas oligotropha: 8500 proteins fetched\n",
      "⚠️ [8] No proteins fetched for Anaerolineae bacterium feline oral taxon 333\n",
      "\n",
      "🔍 Fetching proteins for: uncultured Chloroflexota bacterium (available: 52913, fetching: 52913)\n"
     ]
    },
    {
     "name": "stderr",
     "output_type": "stream",
     "text": [
      "uncultured Chloroflexota bacterium...: 100%|██████████| 106/106 [03:27<00:00,  1.96s/it]\n"
     ]
    },
    {
     "name": "stdout",
     "output_type": "stream",
     "text": [
      "✅ [9] uncultured Chloroflexota bacterium: 53000 proteins fetched\n",
      "⚠️ [10] No proteins fetched for Candidatus Parvibacillus calidus\n",
      "\n",
      "📊 === SUMMARY ===\n",
      "📁 Output FASTA: Diamond_alignments/session_diamond_align_2025-06-07_22-07-13\\diamond_organisms_6_to_10.fasta\n",
      "📦 Total protein sequences in database: 64000\n"
     ]
    }
   ],
   "source": [
    "import os\n",
    "import math\n",
    "import requests\n",
    "import pandas as pd\n",
    "from datetime import datetime\n",
    "from tqdm import tqdm\n",
    "\n",
    "# === 1. Configuration ===\n",
    "limit_6_to_10 = 100000  # Define a fixed upper limit of proteins to collect for each organism ranked 6th to 10th\n",
    "\n",
    "# Reuse the same session timestamp to store all output files consistently in the same directory\n",
    "output_dir = f\"Diamond_alignments/session_diamond_align_{session_time}\"\n",
    "os.makedirs(output_dir, exist_ok=True)\n",
    "\n",
    "# Set the output file path for the FASTA file that will store the fetched protein sequences\n",
    "output_fasta_path = os.path.join(output_dir, f\"diamond_organisms_6_to_10.fasta\")\n",
    "\n",
    "# === 2. Load organisms ranked 6–10 with at least `min_hits` hits ===\n",
    "# Load the annotated DIAMOND result file that includes organism names and their taxonomic ranks\n",
    "df = pd.read_csv(output_path)\n",
    "\n",
    "# Count how many peptide hits were assigned to each organism\n",
    "organism_counts = df[\"lca_taxon_name\"].value_counts()\n",
    "\n",
    "# Filter organisms to retain only those that had at least `min_hits` peptide hits\n",
    "filtered_organisms = organism_counts[organism_counts >= min_hits]\n",
    "\n",
    "# Select the 6th to 10th most frequent organisms (Python is 0-indexed, so [5:10] covers ranks 6–10)\n",
    "organisms_6_10 = filtered_organisms[5:10].index.tolist()\n",
    "\n",
    "# === 3. Fixed protein limit function ===\n",
    "# This function is here for compatibility with the structure of earlier code blocks,\n",
    "# in case limits need to be dynamic later. For now, it just returns a fixed value.\n",
    "def get_protein_limit(_):\n",
    "    return limit_6_to_10\n",
    "\n",
    "# === 4. Get total number of UniProt results for an organism ===\n",
    "# This helper function queries UniProtKB to determine how many protein entries are available for a given organism\n",
    "def get_total_results(organism):\n",
    "    base_url = \"https://rest.uniprot.org/uniprotkb/search\"\n",
    "    params = {\n",
    "        \"query\": organism,       # Free-text query on organism name\n",
    "        \"format\": \"json\",\n",
    "        \"size\": 1                # We only need the header to extract the total count\n",
    "    }\n",
    "    try:\n",
    "        r = requests.get(base_url, params=params)\n",
    "        r.raise_for_status()\n",
    "        return int(r.headers.get(\"x-total-results\", 0))  # Total number of results returned in header\n",
    "    except Exception as e:\n",
    "        print(f\"❌ Failed to get total result count for {organism}: {e}\")\n",
    "        return 0\n",
    "\n",
    "# === 5. Fetch protein sequences in chunks ===\n",
    "# This function retrieves protein sequences in FASTA format from UniProt in paginated chunks\n",
    "def fetch_uniprotkb_chunked_fasta(organism, limit):\n",
    "    base_url = \"https://rest.uniprot.org/uniprotkb/search\"\n",
    "    chunk_size = 500  # Max allowed per UniProt API\n",
    "    headers = {\"Accept\": \"text/x-fasta\"}\n",
    "\n",
    "    # Determine how many results are available for this organism\n",
    "    total_available = get_total_results(organism)\n",
    "    if total_available == 0:\n",
    "        return \"\", 0\n",
    "\n",
    "    # Limit the number of downloads to either the user-defined limit or the total available proteins\n",
    "    limit = min(limit, total_available)\n",
    "    chunks = math.ceil(limit / chunk_size)  # Determine how many chunks we need\n",
    "\n",
    "    print(f\"\\n🔍 Fetching proteins for: {organism} (available: {total_available}, fetching: {limit})\")\n",
    "\n",
    "    fetched = \"\"           # String to hold all concatenated FASTA results\n",
    "    total_downloaded = 0   # Count how many protein sequences were downloaded\n",
    "\n",
    "    for i in tqdm(range(chunks), desc=f\"{organism[:40]}...\", leave=True):\n",
    "        offset = i * chunk_size\n",
    "        params = {\n",
    "            \"query\": organism,\n",
    "            \"format\": \"fasta\",\n",
    "            \"size\": chunk_size,\n",
    "            \"offset\": offset,\n",
    "            \"compressed\": \"false\"\n",
    "        }\n",
    "        try:\n",
    "            r = requests.get(base_url, headers=headers, params=params)\n",
    "            r.raise_for_status()\n",
    "            chunk = r.text.strip()\n",
    "            if not chunk:\n",
    "                break\n",
    "            fetched += chunk + \"\\n\"\n",
    "            total_downloaded += chunk.count(\">\")  # Count how many protein entries were retrieved\n",
    "        except Exception as e:\n",
    "            print(f\"❌ Chunk {i+1} failed: {e}\")\n",
    "            break\n",
    "\n",
    "    return fetched, total_downloaded\n",
    "\n",
    "# === 6. Fetch and collect results ===\n",
    "all_entries = []        # List to hold FASTA strings for all organisms\n",
    "total_downloaded = 0    # Global counter for total number of sequences fetched\n",
    "\n",
    "print(\"🚀 Starting UniProtKB protein fetch for organisms ranked 6-10...\")\n",
    "\n",
    "# Loop through the organisms ranked 6 to 10\n",
    "for idx, organism in enumerate(organisms_6_10):\n",
    "    limit = get_protein_limit(idx)  # Currently fixed for all (100k)\n",
    "    fasta, downloaded = fetch_uniprotkb_chunked_fasta(organism, limit)\n",
    "\n",
    "    if fasta:\n",
    "        all_entries.append(fasta.strip())\n",
    "        total_downloaded += downloaded\n",
    "        print(f\"✅ [{idx+6}] {organism}: {downloaded} proteins fetched\")\n",
    "    else:\n",
    "        print(f\"⚠️ [{idx+6}] No proteins fetched for {organism}\")\n",
    "\n",
    "# === 7. Save results ===\n",
    "# Write all collected FASTA entries into one combined file for this tier\n",
    "with open(output_fasta_path, \"w\") as f_out:\n",
    "    f_out.write(\"\\n\".join(all_entries))\n",
    "\n",
    "# === 8. Summary ===\n",
    "print(\"\\n📊 === SUMMARY ===\")\n",
    "print(f\"📁 Output FASTA: {output_fasta_path}\")\n",
    "print(f\"📦 Total protein sequences in database: {total_downloaded}\")\n"
   ]
  },
  {
   "cell_type": "code",
   "execution_count": 38,
   "id": "17aa62e1",
   "metadata": {},
   "outputs": [
    {
     "name": "stdout",
     "output_type": "stream",
     "text": [
      "🚀 Starting UniProtKB protein fetch for organisms ranked 11–20...\n",
      "\n",
      "🔍 Fetching proteins for: Candidatus Phosphoribacter hodrii (available: 6929, fetching: 6929)\n"
     ]
    },
    {
     "name": "stderr",
     "output_type": "stream",
     "text": [
      "Candidatus Phosphoribacter hodrii...: 100%|██████████| 14/14 [00:22<00:00,  1.62s/it]\n"
     ]
    },
    {
     "name": "stdout",
     "output_type": "stream",
     "text": [
      "✅ [11] Candidatus Phosphoribacter hodrii: 7000 proteins fetched\n",
      "\n",
      "🔍 Fetching proteins for: uncultured Anaerolineales bacterium (available: 18768, fetching: 18768)\n"
     ]
    },
    {
     "name": "stderr",
     "output_type": "stream",
     "text": [
      "uncultured Anaerolineales bacterium...: 100%|██████████| 38/38 [01:08<00:00,  1.81s/it]\n"
     ]
    },
    {
     "name": "stdout",
     "output_type": "stream",
     "text": [
      "✅ [12] uncultured Anaerolineales bacterium: 19000 proteins fetched\n",
      "\n",
      "🔍 Fetching proteins for: Fidelibacterota bacterium (available: 215065, fetching: 100000)\n"
     ]
    },
    {
     "name": "stderr",
     "output_type": "stream",
     "text": [
      "Fidelibacterota bacterium...: 100%|██████████| 200/200 [06:16<00:00,  1.88s/it]\n"
     ]
    },
    {
     "name": "stdout",
     "output_type": "stream",
     "text": [
      "✅ [13] Fidelibacterota bacterium: 100000 proteins fetched\n",
      "⚠️ [14] No proteins fetched for Stygiobacter sp. GWC2_38_9\n",
      "\n",
      "🔍 Fetching proteins for: Bacteroidota bacterium (available: 4875014, fetching: 100000)\n"
     ]
    },
    {
     "name": "stderr",
     "output_type": "stream",
     "text": [
      "Bacteroidota bacterium...: 100%|██████████| 200/200 [08:43<00:00,  2.62s/it]\n"
     ]
    },
    {
     "name": "stdout",
     "output_type": "stream",
     "text": [
      "✅ [15] Bacteroidota bacterium: 100000 proteins fetched\n",
      "⚠️ [16] No proteins fetched for Chitinibacter sp. ZOR0017\n",
      "\n",
      "🔍 Fetching proteins for: Candidatus Accumulibacter regalis (available: 8473, fetching: 8473)\n"
     ]
    },
    {
     "name": "stderr",
     "output_type": "stream",
     "text": [
      "Candidatus Accumulibacter regalis...: 100%|██████████| 17/17 [00:27<00:00,  1.60s/it]\n"
     ]
    },
    {
     "name": "stdout",
     "output_type": "stream",
     "text": [
      "✅ [17] Candidatus Accumulibacter regalis: 8500 proteins fetched\n",
      "\n",
      "🔍 Fetching proteins for: Rhodoferax sp. AJA081-3 (available: 4656, fetching: 4656)\n"
     ]
    },
    {
     "name": "stderr",
     "output_type": "stream",
     "text": [
      "Rhodoferax sp. AJA081-3...: 100%|██████████| 10/10 [00:17<00:00,  1.71s/it]\n"
     ]
    },
    {
     "name": "stdout",
     "output_type": "stream",
     "text": [
      "✅ [18] Rhodoferax sp. AJA081-3: 5000 proteins fetched\n",
      "\n",
      "🔍 Fetching proteins for: Candidatus Propionivibrio aalborgensis (available: 3621, fetching: 3621)\n"
     ]
    },
    {
     "name": "stderr",
     "output_type": "stream",
     "text": [
      "Candidatus Propionivibrio aalborgensis...: 100%|██████████| 8/8 [00:12<00:00,  1.55s/it]\n"
     ]
    },
    {
     "name": "stdout",
     "output_type": "stream",
     "text": [
      "✅ [19] Candidatus Propionivibrio aalborgensis: 4000 proteins fetched\n",
      "\n",
      "🔍 Fetching proteins for: Pseudomonadota bacterium (available: 10865642, fetching: 100000)\n"
     ]
    },
    {
     "name": "stderr",
     "output_type": "stream",
     "text": [
      "Pseudomonadota bacterium...: 100%|██████████| 200/200 [11:41<00:00,  3.51s/it]\n"
     ]
    },
    {
     "name": "stdout",
     "output_type": "stream",
     "text": [
      "✅ [20] Pseudomonadota bacterium: 100200 proteins fetched\n",
      "\n",
      "📊 === SUMMARY ===\n",
      "📁 Output FASTA: Diamond_alignments/session_diamond_align_2025-06-07_22-07-13\\diamond_organisms_11_to_20.fasta\n",
      "📦 Total protein sequences in database: 343700\n"
     ]
    }
   ],
   "source": [
    "import os\n",
    "import math\n",
    "import requests\n",
    "import pandas as pd\n",
    "from datetime import datetime\n",
    "from tqdm import tqdm\n",
    "\n",
    "# === 1. Configuration ===\n",
    "# Define how many proteins you want to retrieve per organism in this rank group (11–20)\n",
    "limit_11_to_20 = 100000  # Can be tuned depending on database size, bandwidth, etc.\n",
    "\n",
    "# Use the same timestamped session folder as previous downloads to keep things organized\n",
    "output_dir = f\"Diamond_alignments/session_diamond_align_{session_time}\"\n",
    "os.makedirs(output_dir, exist_ok=True)\n",
    "\n",
    "# Define where to store the combined FASTA output for this rank group\n",
    "output_fasta_path = os.path.join(output_dir, f\"diamond_organisms_11_to_20.fasta\")\n",
    "\n",
    "# === 2. Load organisms ranked 11–20 with at least `min_hits` hits ===\n",
    "# Load the annotated DIAMOND results from earlier in the pipeline\n",
    "df = pd.read_csv(output_path)\n",
    "\n",
    "# Count number of hits (peptides matched) per organism\n",
    "organism_counts = df[\"lca_taxon_name\"].value_counts()\n",
    "\n",
    "# Only retain organisms with sufficient evidence (≥ min_hits)\n",
    "filtered_organisms = organism_counts[organism_counts >= min_hits]\n",
    "\n",
    "# Select organisms ranked 11th through 20th (index 10 to 19 inclusive)\n",
    "organisms_11_20 = filtered_organisms[10:20].index.tolist()\n",
    "\n",
    "# === 3. Fixed protein limit function for this group\n",
    "# This abstraction allows future flexibility (e.g. dynamic per-organism limits if needed)\n",
    "def get_protein_limit(_):\n",
    "    return limit_11_to_20\n",
    "\n",
    "# === 4. Helper function to get total number of UniProtKB protein entries for a given organism\n",
    "# This helps avoid requesting more than what is available from UniProt\n",
    "def get_total_results(organism):\n",
    "    base_url = \"https://rest.uniprot.org/uniprotkb/search\"\n",
    "    params = {\n",
    "        \"query\": organism,\n",
    "        \"format\": \"json\",\n",
    "        \"size\": 1  # We only need the header metadata for total count\n",
    "    }\n",
    "    try:\n",
    "        r = requests.get(base_url, params=params)\n",
    "        r.raise_for_status()\n",
    "        return int(r.headers.get(\"x-total-results\", 0))  # Extract total result count from response header\n",
    "    except Exception as e:\n",
    "        print(f\"❌ Failed to get total result count for {organism}: {e}\")\n",
    "        return 0\n",
    "\n",
    "# === 5. Function to download protein sequences from UniProt in FASTA format using pagination\n",
    "# Retrieves sequences in chunks to avoid server overload and manage large downloads\n",
    "def fetch_uniprotkb_chunked_fasta(organism, limit):\n",
    "    base_url = \"https://rest.uniprot.org/uniprotkb/search\"\n",
    "    chunk_size = 500  # UniProt maximum per request\n",
    "    headers = {\"Accept\": \"text/x-fasta\"}\n",
    "\n",
    "    # Check how many entries are actually available for this organism\n",
    "    total_available = get_total_results(organism)\n",
    "    if total_available == 0:\n",
    "        return \"\", 0\n",
    "\n",
    "    # Adjust the requested limit to the number of available proteins if necessary\n",
    "    limit = min(limit, total_available)\n",
    "    chunks = math.ceil(limit / chunk_size)  # Determine how many requests we need\n",
    "\n",
    "    print(f\"\\n🔍 Fetching proteins for: {organism} (available: {total_available}, fetching: {limit})\")\n",
    "\n",
    "    fetched = \"\"           # Will hold all FASTA content\n",
    "    total_downloaded = 0   # Counter for number of protein sequences downloaded\n",
    "\n",
    "    # Loop through and download the data in chunks\n",
    "    for i in tqdm(range(chunks), desc=f\"{organism[:40]}...\", leave=True):\n",
    "        offset = i * chunk_size\n",
    "        params = {\n",
    "            \"query\": organism,\n",
    "            \"format\": \"fasta\",\n",
    "            \"size\": chunk_size,\n",
    "            \"offset\": offset,\n",
    "            \"compressed\": \"false\"\n",
    "        }\n",
    "        try:\n",
    "            r = requests.get(base_url, headers=headers, params=params)\n",
    "            r.raise_for_status()\n",
    "            chunk = r.text.strip()\n",
    "            if not chunk:\n",
    "                break  # Exit early if UniProt returns no content\n",
    "            fetched += chunk + \"\\n\"\n",
    "            total_downloaded += chunk.count(\">\")  # Count the number of sequences by '>' headers\n",
    "        except Exception as e:\n",
    "            print(f\"❌ Chunk {i+1} failed: {e}\")\n",
    "            break\n",
    "\n",
    "    return fetched, total_downloaded\n",
    "\n",
    "# === 6. Run fetch operation and collect all results ===\n",
    "all_entries = []        # To store all FASTA content per organism\n",
    "total_downloaded = 0    # Counter across all organisms in this rank group\n",
    "\n",
    "print(\"🚀 Starting UniProtKB protein fetch for organisms ranked 11–20...\")\n",
    "\n",
    "# Loop through organisms 11th to 20th in order\n",
    "for idx, organism in enumerate(organisms_11_20):\n",
    "    limit = get_protein_limit(idx)\n",
    "    fasta, downloaded = fetch_uniprotkb_chunked_fasta(organism, limit)\n",
    "\n",
    "    if fasta:\n",
    "        all_entries.append(fasta.strip())\n",
    "        total_downloaded += downloaded\n",
    "        print(f\"✅ [{idx+11}] {organism}: {downloaded} proteins fetched\")\n",
    "    else:\n",
    "        print(f\"⚠️ [{idx+11}] No proteins fetched for {organism}\")\n",
    "\n",
    "# === 7. Save combined FASTA results ===\n",
    "# Write all downloaded entries to a single file for this group\n",
    "with open(output_fasta_path, \"w\") as f_out:\n",
    "    f_out.write(\"\\n\".join(all_entries))\n",
    "\n",
    "# === 8. Final summary output ===\n",
    "print(\"\\n📊 === SUMMARY ===\")\n",
    "print(f\"📁 Output FASTA: {output_fasta_path}\")\n",
    "print(f\"📦 Total protein sequences in database: {total_downloaded}\")\n"
   ]
  },
  {
   "cell_type": "code",
   "execution_count": 52,
   "id": "acf8cb05",
   "metadata": {},
   "outputs": [
    {
     "name": "stdout",
     "output_type": "stream",
     "text": [
      "🚀 Starting UniProtKB protein fetch for organisms ranked 21–50...\n",
      "\n",
      "🔍 Fetching proteins for: Dechloromonas aromatica RCB (available: 4156, fetching: 4156)\n"
     ]
    },
    {
     "name": "stderr",
     "output_type": "stream",
     "text": [
      "Dechloromonas aromatica RCB...: 100%|██████████| 9/9 [00:02<00:00,  3.52it/s]\n"
     ]
    },
    {
     "name": "stdout",
     "output_type": "stream",
     "text": [
      "✅ [21] Dechloromonas aromatica RCB: 4500 proteins fetched\n",
      "\n",
      "🔍 Fetching proteins for: Phycisphaerales bacterium (available: 245941, fetching: 30000)\n"
     ]
    },
    {
     "name": "stderr",
     "output_type": "stream",
     "text": [
      "Phycisphaerales bacterium...: 100%|██████████| 60/60 [00:10<00:00,  5.93it/s]\n"
     ]
    },
    {
     "name": "stdout",
     "output_type": "stream",
     "text": [
      "✅ [22] Phycisphaerales bacterium: 30000 proteins fetched\n",
      "\n",
      "🔍 Fetching proteins for: Nanoarchaeales archaeon (available: 1862, fetching: 1862)\n"
     ]
    },
    {
     "name": "stderr",
     "output_type": "stream",
     "text": [
      "Nanoarchaeales archaeon...: 100%|██████████| 4/4 [00:00<00:00,  6.99it/s]\n"
     ]
    },
    {
     "name": "stdout",
     "output_type": "stream",
     "text": [
      "✅ [23] Nanoarchaeales archaeon: 2000 proteins fetched\n",
      "\n",
      "🔍 Fetching proteins for: Thermoanaerobaculia bacterium (available: 22291, fetching: 22291)\n"
     ]
    },
    {
     "name": "stderr",
     "output_type": "stream",
     "text": [
      "Thermoanaerobaculia bacterium...: 100%|██████████| 45/45 [00:07<00:00,  6.33it/s]\n"
     ]
    },
    {
     "name": "stdout",
     "output_type": "stream",
     "text": [
      "✅ [24] Thermoanaerobaculia bacterium: 22500 proteins fetched\n",
      "\n",
      "🔍 Fetching proteins for: Verrucomicrobiota bacterium (available: 1472865, fetching: 30000)\n"
     ]
    },
    {
     "name": "stderr",
     "output_type": "stream",
     "text": [
      "Verrucomicrobiota bacterium...: 100%|██████████| 60/60 [00:09<00:00,  6.25it/s]\n"
     ]
    },
    {
     "name": "stdout",
     "output_type": "stream",
     "text": [
      "✅ [25] Verrucomicrobiota bacterium: 30000 proteins fetched\n",
      "\n",
      "🔍 Fetching proteins for: Planctomycetota bacterium (available: 2194054, fetching: 30000)\n"
     ]
    },
    {
     "name": "stderr",
     "output_type": "stream",
     "text": [
      "Planctomycetota bacterium...: 100%|██████████| 60/60 [00:09<00:00,  6.27it/s]\n"
     ]
    },
    {
     "name": "stdout",
     "output_type": "stream",
     "text": [
      "✅ [26] Planctomycetota bacterium: 30000 proteins fetched\n",
      "\n",
      "🔍 Fetching proteins for: Azotobacter beijerinckii (available: 15383, fetching: 15383)\n"
     ]
    },
    {
     "name": "stderr",
     "output_type": "stream",
     "text": [
      "Azotobacter beijerinckii...: 100%|██████████| 31/31 [00:04<00:00,  6.35it/s]\n"
     ]
    },
    {
     "name": "stdout",
     "output_type": "stream",
     "text": [
      "✅ [27] Azotobacter beijerinckii: 15500 proteins fetched\n",
      "\n",
      "🔍 Fetching proteins for: uncultured Bacteroidota bacterium (available: 38343, fetching: 30000)\n"
     ]
    },
    {
     "name": "stderr",
     "output_type": "stream",
     "text": [
      "uncultured Bacteroidota bacterium...: 100%|██████████| 60/60 [00:09<00:00,  6.02it/s]\n"
     ]
    },
    {
     "name": "stdout",
     "output_type": "stream",
     "text": [
      "✅ [28] uncultured Bacteroidota bacterium: 30000 proteins fetched\n",
      "\n",
      "🔍 Fetching proteins for: Burkholderiales bacterium 68-10 (available: 3038, fetching: 3038)\n"
     ]
    },
    {
     "name": "stderr",
     "output_type": "stream",
     "text": [
      "Burkholderiales bacterium 68-10...: 100%|██████████| 7/7 [00:01<00:00,  5.38it/s]\n"
     ]
    },
    {
     "name": "stdout",
     "output_type": "stream",
     "text": [
      "✅ [29] Burkholderiales bacterium 68-10: 3500 proteins fetched\n",
      "\n",
      "🔍 Fetching proteins for: Actinomycetes bacterium (available: 1769078, fetching: 30000)\n"
     ]
    },
    {
     "name": "stderr",
     "output_type": "stream",
     "text": [
      "Actinomycetes bacterium...: 100%|██████████| 60/60 [00:09<00:00,  6.09it/s]\n"
     ]
    },
    {
     "name": "stdout",
     "output_type": "stream",
     "text": [
      "✅ [30] Actinomycetes bacterium: 30000 proteins fetched\n",
      "\n",
      "🔍 Fetching proteins for: bacterium J17 (available: 549, fetching: 549)\n"
     ]
    },
    {
     "name": "stderr",
     "output_type": "stream",
     "text": [
      "bacterium J17...: 100%|██████████| 2/2 [00:00<00:00,  6.90it/s]\n"
     ]
    },
    {
     "name": "stdout",
     "output_type": "stream",
     "text": [
      "✅ [31] bacterium J17: 1000 proteins fetched\n",
      "⚠️ [32] No proteins fetched for Candidatus Armantifilum devescovinae\n",
      "\n",
      "🔍 Fetching proteins for: Peptoniphilus sp. BV3AC2 (available: 1784, fetching: 1784)\n"
     ]
    },
    {
     "name": "stderr",
     "output_type": "stream",
     "text": [
      "Peptoniphilus sp. BV3AC2...: 100%|██████████| 4/4 [00:00<00:00,  6.41it/s]\n"
     ]
    },
    {
     "name": "stdout",
     "output_type": "stream",
     "text": [
      "✅ [33] Peptoniphilus sp. BV3AC2: 2000 proteins fetched\n",
      "\n",
      "🔍 Fetching proteins for: uncultured Nitrosomonadales bacterium (available: 4304, fetching: 4304)\n"
     ]
    },
    {
     "name": "stderr",
     "output_type": "stream",
     "text": [
      "uncultured Nitrosomonadales bacterium...: 100%|██████████| 9/9 [00:01<00:00,  7.37it/s]\n"
     ]
    },
    {
     "name": "stdout",
     "output_type": "stream",
     "text": [
      "✅ [34] uncultured Nitrosomonadales bacterium: 4500 proteins fetched\n",
      "\n",
      "🔍 Fetching proteins for: Flavobacteriales bacterium BRH_c54 (available: 2326, fetching: 2326)\n"
     ]
    },
    {
     "name": "stderr",
     "output_type": "stream",
     "text": [
      "Flavobacteriales bacterium BRH_c54...: 100%|██████████| 5/5 [00:01<00:00,  4.10it/s]\n"
     ]
    },
    {
     "name": "stdout",
     "output_type": "stream",
     "text": [
      "✅ [35] Flavobacteriales bacterium BRH_c54: 2500 proteins fetched\n",
      "\n",
      "🔍 Fetching proteins for: Terriglobia bacterium (available: 250313, fetching: 20000)\n"
     ]
    },
    {
     "name": "stderr",
     "output_type": "stream",
     "text": [
      "Terriglobia bacterium...: 100%|██████████| 40/40 [00:06<00:00,  6.26it/s]\n"
     ]
    },
    {
     "name": "stdout",
     "output_type": "stream",
     "text": [
      "✅ [36] Terriglobia bacterium: 20000 proteins fetched\n",
      "\n",
      "🔍 Fetching proteins for: beta proteobacterium AAP65 (available: 3930, fetching: 3930)\n"
     ]
    },
    {
     "name": "stderr",
     "output_type": "stream",
     "text": [
      "beta proteobacterium AAP65...: 100%|██████████| 8/8 [00:01<00:00,  6.43it/s]\n"
     ]
    },
    {
     "name": "stdout",
     "output_type": "stream",
     "text": [
      "✅ [37] beta proteobacterium AAP65: 4000 proteins fetched\n",
      "\n",
      "🔍 Fetching proteins for: marine sediment metagenome (available: 668717, fetching: 20000)\n"
     ]
    },
    {
     "name": "stderr",
     "output_type": "stream",
     "text": [
      "marine sediment metagenome...: 100%|██████████| 40/40 [00:06<00:00,  6.47it/s]\n"
     ]
    },
    {
     "name": "stdout",
     "output_type": "stream",
     "text": [
      "✅ [38] marine sediment metagenome: 20000 proteins fetched\n",
      "\n",
      "🔍 Fetching proteins for: Candidatus Accumulibacter aalborgensis (available: 4556, fetching: 4556)\n"
     ]
    },
    {
     "name": "stderr",
     "output_type": "stream",
     "text": [
      "Candidatus Accumulibacter aalborgensis...: 100%|██████████| 10/10 [00:01<00:00,  6.58it/s]\n"
     ]
    },
    {
     "name": "stdout",
     "output_type": "stream",
     "text": [
      "✅ [39] Candidatus Accumulibacter aalborgensis: 5000 proteins fetched\n",
      "\n",
      "🔍 Fetching proteins for: endosymbiont of Galathealinum brachiosum (available: 3414, fetching: 3414)\n"
     ]
    },
    {
     "name": "stderr",
     "output_type": "stream",
     "text": [
      "endosymbiont of Galathealinum brachiosum...: 100%|██████████| 7/7 [00:01<00:00,  6.45it/s]\n"
     ]
    },
    {
     "name": "stdout",
     "output_type": "stream",
     "text": [
      "✅ [40] endosymbiont of Galathealinum brachiosum: 3500 proteins fetched\n",
      "⚠️ [41] No proteins fetched for Candidatus Accumulibacter jenkinsii\n",
      "\n",
      "🔍 Fetching proteins for: Candidatus Competibacter denitrificans Run_A_D11 (available: 4014, fetching: 4014)\n"
     ]
    },
    {
     "name": "stderr",
     "output_type": "stream",
     "text": [
      "Candidatus Competibacter denitrificans R...: 100%|██████████| 9/9 [00:15<00:00,  1.74s/it]\n"
     ]
    },
    {
     "name": "stdout",
     "output_type": "stream",
     "text": [
      "✅ [42] Candidatus Competibacter denitrificans Run_A_D11: 4500 proteins fetched\n",
      "\n",
      "🔍 Fetching proteins for: Paenibacillus sp. PastH-2 (available: 6567, fetching: 6567)\n"
     ]
    },
    {
     "name": "stderr",
     "output_type": "stream",
     "text": [
      "Paenibacillus sp. PastH-2...: 100%|██████████| 14/14 [00:24<00:00,  1.73s/it]\n"
     ]
    },
    {
     "name": "stdout",
     "output_type": "stream",
     "text": [
      "✅ [43] Paenibacillus sp. PastH-2: 7000 proteins fetched\n",
      "\n",
      "🔍 Fetching proteins for: Candidatus Nitrotoga fabula (available: 4612, fetching: 4612)\n"
     ]
    },
    {
     "name": "stderr",
     "output_type": "stream",
     "text": [
      "Candidatus Nitrotoga fabula...: 100%|██████████| 10/10 [00:18<00:00,  1.84s/it]\n"
     ]
    },
    {
     "name": "stdout",
     "output_type": "stream",
     "text": [
      "✅ [44] Candidatus Nitrotoga fabula: 5000 proteins fetched\n",
      "\n",
      "🔍 Fetching proteins for: Candidatus Nitrotoga sp. MKT (available: 2524, fetching: 2524)\n"
     ]
    },
    {
     "name": "stderr",
     "output_type": "stream",
     "text": [
      "Candidatus Nitrotoga sp. MKT...: 100%|██████████| 6/6 [00:13<00:00,  2.20s/it]\n"
     ]
    },
    {
     "name": "stdout",
     "output_type": "stream",
     "text": [
      "✅ [45] Candidatus Nitrotoga sp. MKT: 3000 proteins fetched\n",
      "\n",
      "🔍 Fetching proteins for: Burkholderiales bacterium PBB1 (available: 2894, fetching: 2894)\n"
     ]
    },
    {
     "name": "stderr",
     "output_type": "stream",
     "text": [
      "Burkholderiales bacterium PBB1...: 100%|██████████| 6/6 [00:19<00:00,  3.23s/it]\n"
     ]
    },
    {
     "name": "stdout",
     "output_type": "stream",
     "text": [
      "✅ [46] Burkholderiales bacterium PBB1: 3000 proteins fetched\n",
      "\n",
      "🔍 Fetching proteins for: Candidatus Accumulibacter appositus (available: 4265, fetching: 4265)\n"
     ]
    },
    {
     "name": "stderr",
     "output_type": "stream",
     "text": [
      "Candidatus Accumulibacter appositus...: 100%|██████████| 9/9 [00:17<00:00,  1.90s/it]\n"
     ]
    },
    {
     "name": "stdout",
     "output_type": "stream",
     "text": [
      "✅ [47] Candidatus Accumulibacter appositus: 4500 proteins fetched\n",
      "\n",
      "🔍 Fetching proteins for: Nitrospira sp. MA-1 (available: 231, fetching: 231)\n"
     ]
    },
    {
     "name": "stderr",
     "output_type": "stream",
     "text": [
      "Nitrospira sp. MA-1...: 100%|██████████| 1/1 [00:01<00:00,  1.59s/it]\n"
     ]
    },
    {
     "name": "stdout",
     "output_type": "stream",
     "text": [
      "✅ [48] Nitrospira sp. MA-1: 231 proteins fetched\n",
      "\n",
      "🔍 Fetching proteins for: Nitrospira sp. ND1 (available: 4671, fetching: 4671)\n"
     ]
    },
    {
     "name": "stderr",
     "output_type": "stream",
     "text": [
      "Nitrospira sp. ND1...: 100%|██████████| 10/10 [00:01<00:00,  6.73it/s]\n"
     ]
    },
    {
     "name": "stdout",
     "output_type": "stream",
     "text": [
      "✅ [49] Nitrospira sp. ND1: 5000 proteins fetched\n",
      "\n",
      "🔍 Fetching proteins for: Paenibacillus spiritus (available: 9921, fetching: 9921)\n"
     ]
    },
    {
     "name": "stderr",
     "output_type": "stream",
     "text": [
      "Paenibacillus spiritus...: 100%|██████████| 20/20 [00:37<00:00,  1.90s/it]\n"
     ]
    },
    {
     "name": "stdout",
     "output_type": "stream",
     "text": [
      "✅ [50] Paenibacillus spiritus: 10000 proteins fetched\n",
      "\n",
      "📊 === SUMMARY ===\n",
      "📁 Output FASTA: Diamond_alignments/session_diamond_align_2025-06-07_22-07-13\\diamond_organisms_21_to_50_splitlimits.fasta\n",
      "📦 Total protein sequences in database: 302731\n"
     ]
    }
   ],
   "source": [
    "import os\n",
    "import math\n",
    "import requests\n",
    "import pandas as pd\n",
    "from datetime import datetime\n",
    "from tqdm import tqdm\n",
    "\n",
    "# === 1. Configuration ===\n",
    "# Define custom download limits for three sub-ranges:\n",
    "limit_21_30 = 30000  # For organisms ranked 21st–30th\n",
    "limit_31_40 = 20000  # For organisms ranked 31st–40th\n",
    "limit_41_50 = 10000  # For organisms ranked 41st–50th\n",
    "\n",
    "# Use the same session timestamp as earlier defined (assumes `session_time` is set in global context)\n",
    "output_dir = f\"Diamond_alignments/session_diamond_align_{session_time}\"\n",
    "os.makedirs(output_dir, exist_ok=True)\n",
    "\n",
    "# Set path where final FASTA results for organisms 21–50 will be stored\n",
    "output_fasta_path = os.path.join(output_dir, f\"diamond_organisms_21_to_50_splitlimits.fasta\")\n",
    "\n",
    "# === 2. Load organisms ranked 21–50 with at least `min_hits` hits ===\n",
    "# Load the DataFrame that includes taxonomy rank info\n",
    "df = pd.read_csv(output_path)\n",
    "\n",
    "# Get the frequency count of peptide hits per organism\n",
    "organism_counts = df[\"lca_taxon_name\"].value_counts()\n",
    "\n",
    "# Select organisms ranked 21st to 50th (i.e. slice index 20:50)\n",
    "organisms_21_50 = organism_counts[20:50].index.tolist()\n",
    "\n",
    "# === 3. Decide protein limit based on sub-rank tier ===\n",
    "def get_protein_limit(relative_rank):\n",
    "    \"\"\"\n",
    "    Determines how many proteins to fetch based on sub-rank of the organism:\n",
    "    - Index 0-9 → rank 21-30\n",
    "    - Index 10-19 → rank 31-40\n",
    "    - Index 20-29 → rank 41-50\n",
    "    \"\"\"\n",
    "    if relative_rank < 10:\n",
    "        return limit_21_30\n",
    "    elif relative_rank < 20:\n",
    "        return limit_31_40\n",
    "    else:\n",
    "        return limit_41_50\n",
    "\n",
    "# === 4. Get the total number of UniProt protein entries available for a given organism ===\n",
    "def get_total_results(organism):\n",
    "    \"\"\"\n",
    "    Uses UniProt's metadata header to check how many results exist for a given organism.\n",
    "    This ensures we don't request more than what's available.\n",
    "    \"\"\"\n",
    "    base_url = \"https://rest.uniprot.org/uniprotkb/search\"\n",
    "    params = {\n",
    "        \"query\": organism,\n",
    "        \"format\": \"json\",\n",
    "        \"size\": 1  # Only one result needed to access metadata\n",
    "    }\n",
    "    try:\n",
    "        r = requests.get(base_url, params=params)\n",
    "        r.raise_for_status()\n",
    "        return int(r.headers.get(\"x-total-results\", 0))\n",
    "    except Exception as e:\n",
    "        print(f\"❌ Failed to get total result count for {organism}: {e}\")\n",
    "        return 0\n",
    "\n",
    "# === 5. Fetch protein sequences in paginated chunks from UniProtKB ===\n",
    "def fetch_uniprotkb_chunked_fasta(organism, limit):\n",
    "    \"\"\"\n",
    "    Downloads protein sequences in FASTA format from UniProt, split across pages if needed.\n",
    "    \"\"\"\n",
    "    base_url = \"https://rest.uniprot.org/uniprotkb/search\"\n",
    "    chunk_size = 500  # Max entries per API request\n",
    "    headers = {\"Accept\": \"text/x-fasta\"}\n",
    "\n",
    "    total_available = get_total_results(organism)\n",
    "    if total_available == 0:\n",
    "        return \"\", 0\n",
    "\n",
    "    # Ensure we don’t fetch more than what’s available\n",
    "    limit = min(limit, total_available)\n",
    "    chunks = math.ceil(limit / chunk_size)\n",
    "\n",
    "    print(f\"\\n🔍 Fetching proteins for: {organism} (available: {total_available}, fetching: {limit})\")\n",
    "\n",
    "    fetched = \"\"           # Will accumulate FASTA text\n",
    "    total_downloaded = 0   # Count how many protein sequences were retrieved\n",
    "\n",
    "    for i in tqdm(range(chunks), desc=f\"{organism[:40]}...\", leave=True):\n",
    "        offset = i * chunk_size\n",
    "        params = {\n",
    "            \"query\": organism,\n",
    "            \"format\": \"fasta\",\n",
    "            \"size\": chunk_size,\n",
    "            \"offset\": offset,\n",
    "            \"compressed\": \"false\"\n",
    "        }\n",
    "        try:\n",
    "            r = requests.get(base_url, headers=headers, params=params)\n",
    "            r.raise_for_status()\n",
    "            chunk = r.text.strip()\n",
    "            if not chunk:\n",
    "                break\n",
    "            fetched += chunk + \"\\n\"\n",
    "            total_downloaded += chunk.count(\">\")  # Count number of FASTA entries\n",
    "        except Exception as e:\n",
    "            print(f\"❌ Chunk {i+1} failed: {e}\")\n",
    "            break\n",
    "\n",
    "    return fetched, total_downloaded\n",
    "\n",
    "# === 6. Loop through all 30 organisms (ranks 21–50) and collect sequences ===\n",
    "all_entries = []\n",
    "total_downloaded = 0\n",
    "\n",
    "print(\"🚀 Starting UniProtKB protein fetch for organisms ranked 21–50...\")\n",
    "\n",
    "# `enumerate` keeps track of relative rank (used for limit logic) and organism name\n",
    "for idx, organism in enumerate(organisms_21_50):\n",
    "    limit = get_protein_limit(idx)\n",
    "    fasta, downloaded = fetch_uniprotkb_chunked_fasta(organism, limit)\n",
    "\n",
    "    if fasta:\n",
    "        all_entries.append(fasta.strip())\n",
    "        total_downloaded += downloaded\n",
    "        print(f\"✅ [{idx+21}] {organism}: {downloaded} proteins fetched\")\n",
    "    else:\n",
    "        print(f\"⚠️ [{idx+21}] No proteins fetched for {organism}\")\n",
    "\n",
    "# === 7. Save combined FASTA file ===\n",
    "with open(output_fasta_path, \"w\") as f_out:\n",
    "    f_out.write(\"\\n\".join(all_entries))\n",
    "\n",
    "# === 8. Summary Output ===\n",
    "print(\"\\n📊 === SUMMARY ===\")\n",
    "print(f\"📁 Output FASTA: {output_fasta_path}\")\n",
    "print(f\"📦 Total protein sequences in database: {total_downloaded}\")\n"
   ]
  },
  {
   "cell_type": "code",
   "execution_count": 53,
   "id": "9b21d0db",
   "metadata": {},
   "outputs": [
    {
     "name": "stdout",
     "output_type": "stream",
     "text": [
      "🚀 Starting UniProtKB protein fetch for 66 organisms ranked 51+\n",
      "\n",
      "🔍 Fetching proteins for: Candidatus Dechloromonas phosphorivorans (available: 7439, fetching: 3000)\n"
     ]
    },
    {
     "name": "stderr",
     "output_type": "stream",
     "text": [
      "Candidatus Dechloromonas phosphorivorans...: 100%|██████████| 6/6 [00:00<00:00,  6.57it/s]\n"
     ]
    },
    {
     "name": "stdout",
     "output_type": "stream",
     "text": [
      "✅ [51] Candidatus Dechloromonas phosphorivorans: 3000 proteins fetched\n",
      "\n",
      "🔍 Fetching proteins for: Candidatus Branchiomonas cysticola (available: 187, fetching: 187)\n"
     ]
    },
    {
     "name": "stderr",
     "output_type": "stream",
     "text": [
      "Candidatus Branchiomonas cysticola...: 100%|██████████| 1/1 [00:00<00:00,  1.27it/s]\n"
     ]
    },
    {
     "name": "stdout",
     "output_type": "stream",
     "text": [
      "✅ [52] Candidatus Branchiomonas cysticola: 187 proteins fetched\n",
      "\n",
      "🔍 Fetching proteins for: uncultured Myxococcales bacterium (available: 52, fetching: 52)\n"
     ]
    },
    {
     "name": "stderr",
     "output_type": "stream",
     "text": [
      "uncultured Myxococcales bacterium...: 100%|██████████| 1/1 [00:00<00:00,  2.00it/s]\n"
     ]
    },
    {
     "name": "stdout",
     "output_type": "stream",
     "text": [
      "✅ [53] uncultured Myxococcales bacterium: 52 proteins fetched\n",
      "⚠️ [54] No proteins fetched for Candidatus Azotimanducus thioimbibens\n",
      "⚠️ [55] No proteins fetched for uncultured Streptosporangiales bacterium\n",
      "\n",
      "🔍 Fetching proteins for: uncultured Lysobacteraceae bacterium (available: 27, fetching: 27)\n"
     ]
    },
    {
     "name": "stderr",
     "output_type": "stream",
     "text": [
      "uncultured Lysobacteraceae bacterium...: 100%|██████████| 1/1 [00:00<00:00,  3.20it/s]\n"
     ]
    },
    {
     "name": "stdout",
     "output_type": "stream",
     "text": [
      "✅ [56] uncultured Lysobacteraceae bacterium: 27 proteins fetched\n",
      "\n",
      "🔍 Fetching proteins for: Alphaproteobacteria bacterium ADurb.Bin100 (available: 3365, fetching: 3000)\n"
     ]
    },
    {
     "name": "stderr",
     "output_type": "stream",
     "text": [
      "Alphaproteobacteria bacterium ADurb.Bin1...: 100%|██████████| 6/6 [00:12<00:00,  2.05s/it]\n"
     ]
    },
    {
     "name": "stdout",
     "output_type": "stream",
     "text": [
      "✅ [57] Alphaproteobacteria bacterium ADurb.Bin100: 3000 proteins fetched\n",
      "\n",
      "🔍 Fetching proteins for: Candidatus Woesearchaeota archaeon (available: 255595, fetching: 3000)\n"
     ]
    },
    {
     "name": "stderr",
     "output_type": "stream",
     "text": [
      "Candidatus Woesearchaeota archaeon...: 100%|██████████| 6/6 [00:13<00:00,  2.27s/it]\n"
     ]
    },
    {
     "name": "stdout",
     "output_type": "stream",
     "text": [
      "✅ [58] Candidatus Woesearchaeota archaeon: 3000 proteins fetched\n",
      "\n",
      "🔍 Fetching proteins for: Alphaproteobacteria bacterium BRH_c36 (available: 3252, fetching: 3000)\n"
     ]
    },
    {
     "name": "stderr",
     "output_type": "stream",
     "text": [
      "Alphaproteobacteria bacterium BRH_c36...: 100%|██████████| 6/6 [00:09<00:00,  1.59s/it]\n"
     ]
    },
    {
     "name": "stdout",
     "output_type": "stream",
     "text": [
      "✅ [59] Alphaproteobacteria bacterium BRH_c36: 3000 proteins fetched\n",
      "\n",
      "🔍 Fetching proteins for: Nitrosomonas sp. Is79A3 (available: 3275, fetching: 3000)\n"
     ]
    },
    {
     "name": "stderr",
     "output_type": "stream",
     "text": [
      "Nitrosomonas sp. Is79A3...: 100%|██████████| 6/6 [00:12<00:00,  2.02s/it]\n"
     ]
    },
    {
     "name": "stdout",
     "output_type": "stream",
     "text": [
      "✅ [60] Nitrosomonas sp. Is79A3: 3000 proteins fetched\n",
      "\n",
      "🔍 Fetching proteins for: Betaproteobacteria bacterium HGW-Betaproteobacteria-7 (available: 8451, fetching: 3000)\n"
     ]
    },
    {
     "name": "stderr",
     "output_type": "stream",
     "text": [
      "Betaproteobacteria bacterium HGW-Betapro...: 100%|██████████| 6/6 [00:13<00:00,  2.24s/it]\n"
     ]
    },
    {
     "name": "stdout",
     "output_type": "stream",
     "text": [
      "✅ [61] Betaproteobacteria bacterium HGW-Betaproteobacteria-7: 3000 proteins fetched\n",
      "\n",
      "🔍 Fetching proteins for: Candidatus Saccharibacteria bacterium (available: 129702, fetching: 3000)\n"
     ]
    },
    {
     "name": "stderr",
     "output_type": "stream",
     "text": [
      "Candidatus Saccharibacteria bacterium...: 100%|██████████| 6/6 [00:11<00:00,  2.00s/it]\n"
     ]
    },
    {
     "name": "stdout",
     "output_type": "stream",
     "text": [
      "✅ [62] Candidatus Saccharibacteria bacterium: 3000 proteins fetched\n",
      "\n",
      "🔍 Fetching proteins for: Candidatus Methanomethylicota archaeon (available: 11023, fetching: 3000)\n"
     ]
    },
    {
     "name": "stderr",
     "output_type": "stream",
     "text": [
      "Candidatus Methanomethylicota archaeon...: 100%|██████████| 6/6 [00:10<00:00,  1.81s/it]\n"
     ]
    },
    {
     "name": "stdout",
     "output_type": "stream",
     "text": [
      "✅ [63] Candidatus Methanomethylicota archaeon: 3000 proteins fetched\n",
      "\n",
      "🔍 Fetching proteins for: Candidatus Malacoplasma girerdii (available: 572, fetching: 572)\n"
     ]
    },
    {
     "name": "stderr",
     "output_type": "stream",
     "text": [
      "Candidatus Malacoplasma girerdii...: 100%|██████████| 2/2 [00:03<00:00,  1.84s/it]\n"
     ]
    },
    {
     "name": "stdout",
     "output_type": "stream",
     "text": [
      "✅ [64] Candidatus Malacoplasma girerdii: 1000 proteins fetched\n",
      "\n",
      "🔍 Fetching proteins for: Candidatus Accumulibacter vicinus (available: 4354, fetching: 3000)\n"
     ]
    },
    {
     "name": "stderr",
     "output_type": "stream",
     "text": [
      "Candidatus Accumulibacter vicinus...: 100%|██████████| 6/6 [00:00<00:00,  6.67it/s]\n"
     ]
    },
    {
     "name": "stdout",
     "output_type": "stream",
     "text": [
      "✅ [65] Candidatus Accumulibacter vicinus: 3000 proteins fetched\n",
      "\n",
      "🔍 Fetching proteins for: Nitrosomonas sp. Nm86 (available: 1, fetching: 1)\n"
     ]
    },
    {
     "name": "stderr",
     "output_type": "stream",
     "text": [
      "Nitrosomonas sp. Nm86...: 100%|██████████| 1/1 [00:00<00:00,  5.25it/s]\n"
     ]
    },
    {
     "name": "stdout",
     "output_type": "stream",
     "text": [
      "✅ [66] Nitrosomonas sp. Nm86: 1 proteins fetched\n",
      "\n",
      "🔍 Fetching proteins for: Candidatus Poribacteria bacterium (available: 192122, fetching: 3000)\n"
     ]
    },
    {
     "name": "stderr",
     "output_type": "stream",
     "text": [
      "Candidatus Poribacteria bacterium...: 100%|██████████| 6/6 [00:11<00:00,  1.96s/it]\n"
     ]
    },
    {
     "name": "stdout",
     "output_type": "stream",
     "text": [
      "✅ [67] Candidatus Poribacteria bacterium: 3000 proteins fetched\n",
      "\n",
      "🔍 Fetching proteins for: Betaproteobacteria bacterium HGW-Betaproteobacteria-6 (available: 9273, fetching: 3000)\n"
     ]
    },
    {
     "name": "stderr",
     "output_type": "stream",
     "text": [
      "Betaproteobacteria bacterium HGW-Betapro...: 100%|██████████| 6/6 [00:10<00:00,  1.76s/it]\n"
     ]
    },
    {
     "name": "stdout",
     "output_type": "stream",
     "text": [
      "✅ [68] Betaproteobacteria bacterium HGW-Betaproteobacteria-6: 3000 proteins fetched\n",
      "\n",
      "🔍 Fetching proteins for: Paenibacillus aquistagni (available: 4778, fetching: 3000)\n"
     ]
    },
    {
     "name": "stderr",
     "output_type": "stream",
     "text": [
      "Paenibacillus aquistagni...: 100%|██████████| 6/6 [00:11<00:00,  1.96s/it]\n"
     ]
    },
    {
     "name": "stdout",
     "output_type": "stream",
     "text": [
      "✅ [69] Paenibacillus aquistagni: 3000 proteins fetched\n",
      "\n",
      "🔍 Fetching proteins for: uncultured ammonia-oxidizing microorganism (available: 68, fetching: 68)\n"
     ]
    },
    {
     "name": "stderr",
     "output_type": "stream",
     "text": [
      "uncultured ammonia-oxidizing microorgani...: 100%|██████████| 1/1 [00:00<00:00,  2.34it/s]\n"
     ]
    },
    {
     "name": "stdout",
     "output_type": "stream",
     "text": [
      "✅ [70] uncultured ammonia-oxidizing microorganism: 68 proteins fetched\n",
      "\n",
      "🔍 Fetching proteins for: Candidatus Firestoneibacteriota bacterium (available: 8338, fetching: 3000)\n"
     ]
    },
    {
     "name": "stderr",
     "output_type": "stream",
     "text": [
      "Candidatus Firestoneibacteriota bacteriu...: 100%|██████████| 6/6 [00:10<00:00,  1.82s/it]\n"
     ]
    },
    {
     "name": "stdout",
     "output_type": "stream",
     "text": [
      "✅ [71] Candidatus Firestoneibacteriota bacterium: 3000 proteins fetched\n",
      "⚠️ [72] No proteins fetched for Candidatus Tepidiaquacellales bacterium OLB5\n",
      "\n",
      "🔍 Fetching proteins for: Nitrospira sp. ST-bin5 (available: 3845, fetching: 3000)\n"
     ]
    },
    {
     "name": "stderr",
     "output_type": "stream",
     "text": [
      "Nitrospira sp. ST-bin5...: 100%|██████████| 6/6 [00:11<00:00,  1.86s/it]\n"
     ]
    },
    {
     "name": "stdout",
     "output_type": "stream",
     "text": [
      "✅ [73] Nitrospira sp. ST-bin5: 3000 proteins fetched\n",
      "\n",
      "🔍 Fetching proteins for: Candidatus Melainabacteria bacterium (available: 138609, fetching: 3000)\n"
     ]
    },
    {
     "name": "stderr",
     "output_type": "stream",
     "text": [
      "Candidatus Melainabacteria bacterium...: 100%|██████████| 6/6 [00:13<00:00,  2.20s/it]\n"
     ]
    },
    {
     "name": "stdout",
     "output_type": "stream",
     "text": [
      "✅ [74] Candidatus Melainabacteria bacterium: 3000 proteins fetched\n",
      "\n",
      "🔍 Fetching proteins for: Candidatus Stahlbacteria bacterium (available: 12300, fetching: 3000)\n"
     ]
    },
    {
     "name": "stderr",
     "output_type": "stream",
     "text": [
      "Candidatus Stahlbacteria bacterium...: 100%|██████████| 6/6 [00:11<00:00,  1.96s/it]\n"
     ]
    },
    {
     "name": "stdout",
     "output_type": "stream",
     "text": [
      "✅ [75] Candidatus Stahlbacteria bacterium: 3000 proteins fetched\n",
      "\n",
      "🔍 Fetching proteins for: Nitrospira defluvii (available: 4269, fetching: 3000)\n"
     ]
    },
    {
     "name": "stderr",
     "output_type": "stream",
     "text": [
      "Nitrospira defluvii...: 100%|██████████| 6/6 [00:00<00:00,  6.48it/s]\n"
     ]
    },
    {
     "name": "stdout",
     "output_type": "stream",
     "text": [
      "✅ [76] Nitrospira defluvii: 3000 proteins fetched\n",
      "\n",
      "🔍 Fetching proteins for: Candidatus Pacearchaeota archaeon (available: 101597, fetching: 3000)\n"
     ]
    },
    {
     "name": "stderr",
     "output_type": "stream",
     "text": [
      "Candidatus Pacearchaeota archaeon...: 100%|██████████| 6/6 [00:11<00:00,  1.92s/it]\n"
     ]
    },
    {
     "name": "stdout",
     "output_type": "stream",
     "text": [
      "✅ [77] Candidatus Pacearchaeota archaeon: 3000 proteins fetched\n",
      "\n",
      "🔍 Fetching proteins for: Candidatus Argoarchaeum ethanivorans (available: 6990, fetching: 3000)\n"
     ]
    },
    {
     "name": "stderr",
     "output_type": "stream",
     "text": [
      "Candidatus Argoarchaeum ethanivorans...: 100%|██████████| 6/6 [00:09<00:00,  1.66s/it]\n"
     ]
    },
    {
     "name": "stdout",
     "output_type": "stream",
     "text": [
      "✅ [78] Candidatus Argoarchaeum ethanivorans: 3000 proteins fetched\n",
      "\n",
      "🔍 Fetching proteins for: Candidatus Contendobacter odensis Run_B_J11 (available: 4763, fetching: 3000)\n"
     ]
    },
    {
     "name": "stderr",
     "output_type": "stream",
     "text": [
      "Candidatus Contendobacter odensis Run_B_...: 100%|██████████| 6/6 [00:11<00:00,  1.84s/it]\n"
     ]
    },
    {
     "name": "stdout",
     "output_type": "stream",
     "text": [
      "✅ [79] Candidatus Contendobacter odensis Run_B_J11: 3000 proteins fetched\n",
      "\n",
      "🔍 Fetching proteins for: Flavobacterium soyangense (available: 3096, fetching: 3000)\n"
     ]
    },
    {
     "name": "stderr",
     "output_type": "stream",
     "text": [
      "Flavobacterium soyangense...: 100%|██████████| 6/6 [00:11<00:00,  1.84s/it]\n"
     ]
    },
    {
     "name": "stdout",
     "output_type": "stream",
     "text": [
      "✅ [80] Flavobacterium soyangense: 3000 proteins fetched\n",
      "\n",
      "🔍 Fetching proteins for: Candidatus Sulfotelmatobacter kueseliae (available: 5048, fetching: 3000)\n"
     ]
    },
    {
     "name": "stderr",
     "output_type": "stream",
     "text": [
      "Candidatus Sulfotelmatobacter kueseliae...: 100%|██████████| 6/6 [00:11<00:00,  1.87s/it]\n"
     ]
    },
    {
     "name": "stdout",
     "output_type": "stream",
     "text": [
      "✅ [81] Candidatus Sulfotelmatobacter kueseliae: 3000 proteins fetched\n",
      "\n",
      "🔍 Fetching proteins for: Candidatus Eiseniibacteriota bacterium (available: 62821, fetching: 3000)\n"
     ]
    },
    {
     "name": "stderr",
     "output_type": "stream",
     "text": [
      "Candidatus Eiseniibacteriota bacterium...: 100%|██████████| 6/6 [00:12<00:00,  2.05s/it]\n"
     ]
    },
    {
     "name": "stdout",
     "output_type": "stream",
     "text": [
      "✅ [82] Candidatus Eiseniibacteriota bacterium: 3000 proteins fetched\n",
      "⚠️ [83] No proteins fetched for Candidatus Mesolinea sp. UBA5823\n",
      "\n",
      "🔍 Fetching proteins for: Flavobacterium swingsii (available: 2358, fetching: 2358)\n"
     ]
    },
    {
     "name": "stderr",
     "output_type": "stream",
     "text": [
      "Flavobacterium swingsii...: 100%|██████████| 5/5 [00:09<00:00,  1.96s/it]\n"
     ]
    },
    {
     "name": "stdout",
     "output_type": "stream",
     "text": [
      "✅ [84] Flavobacterium swingsii: 2500 proteins fetched\n",
      "\n",
      "🔍 Fetching proteins for: Burkholderiales bacterium C2 (available: 5613, fetching: 3000)\n"
     ]
    },
    {
     "name": "stderr",
     "output_type": "stream",
     "text": [
      "Burkholderiales bacterium C2...: 100%|██████████| 6/6 [00:11<00:00,  1.95s/it]\n"
     ]
    },
    {
     "name": "stdout",
     "output_type": "stream",
     "text": [
      "✅ [85] Burkholderiales bacterium C2: 3000 proteins fetched\n",
      "\n",
      "🔍 Fetching proteins for: Candidatus Accumulibacter cognatus (available: 4322, fetching: 3000)\n"
     ]
    },
    {
     "name": "stderr",
     "output_type": "stream",
     "text": [
      "Candidatus Accumulibacter cognatus...: 100%|██████████| 6/6 [00:00<00:00,  6.75it/s]\n"
     ]
    },
    {
     "name": "stdout",
     "output_type": "stream",
     "text": [
      "✅ [86] Candidatus Accumulibacter cognatus: 3000 proteins fetched\n",
      "\n",
      "🔍 Fetching proteins for: Candidatus Margulisbacteria bacterium GWF2_35_9 (available: 1983, fetching: 1983)\n"
     ]
    },
    {
     "name": "stderr",
     "output_type": "stream",
     "text": [
      "Candidatus Margulisbacteria bacterium GW...: 100%|██████████| 4/4 [00:07<00:00,  1.91s/it]\n"
     ]
    },
    {
     "name": "stdout",
     "output_type": "stream",
     "text": [
      "✅ [87] Candidatus Margulisbacteria bacterium GWF2_35_9: 2000 proteins fetched\n",
      "\n",
      "🔍 Fetching proteins for: Candidatus Accumulibacter adjunctus (available: 3906, fetching: 3000)\n"
     ]
    },
    {
     "name": "stderr",
     "output_type": "stream",
     "text": [
      "Candidatus Accumulibacter adjunctus...: 100%|██████████| 6/6 [00:00<00:00,  6.64it/s]\n"
     ]
    },
    {
     "name": "stdout",
     "output_type": "stream",
     "text": [
      "✅ [88] Candidatus Accumulibacter adjunctus: 3000 proteins fetched\n",
      "\n",
      "🔍 Fetching proteins for: Candidatus Accumulibacter affinis (available: 4127, fetching: 3000)\n"
     ]
    },
    {
     "name": "stderr",
     "output_type": "stream",
     "text": [
      "Candidatus Accumulibacter affinis...: 100%|██████████| 6/6 [00:00<00:00,  6.66it/s]\n"
     ]
    },
    {
     "name": "stdout",
     "output_type": "stream",
     "text": [
      "✅ [89] Candidatus Accumulibacter affinis: 3000 proteins fetched\n",
      "\n",
      "🔍 Fetching proteins for: Alphaproteobacteria bacterium CG_4_9_14_3_um_filter_47_13 (available: 2258, fetching: 2258)\n"
     ]
    },
    {
     "name": "stderr",
     "output_type": "stream",
     "text": [
      "Alphaproteobacteria bacterium CG_4_9_14_...: 100%|██████████| 5/5 [00:10<00:00,  2.03s/it]\n"
     ]
    },
    {
     "name": "stdout",
     "output_type": "stream",
     "text": [
      "✅ [90] Alphaproteobacteria bacterium CG_4_9_14_3_um_filter_47_13: 2500 proteins fetched\n",
      "\n",
      "🔍 Fetching proteins for: Candidatus Nitrosopelagicus sp. (available: 14362, fetching: 3000)\n"
     ]
    },
    {
     "name": "stderr",
     "output_type": "stream",
     "text": [
      "Candidatus Nitrosopelagicus sp....: 100%|██████████| 6/6 [00:12<00:00,  2.11s/it]\n"
     ]
    },
    {
     "name": "stdout",
     "output_type": "stream",
     "text": [
      "✅ [91] Candidatus Nitrosopelagicus sp.: 3000 proteins fetched\n",
      "\n",
      "🔍 Fetching proteins for: Flavobacterium sp. ABG (available: 4174, fetching: 3000)\n"
     ]
    },
    {
     "name": "stderr",
     "output_type": "stream",
     "text": [
      "Flavobacterium sp. ABG...: 100%|██████████| 6/6 [00:09<00:00,  1.53s/it]\n"
     ]
    },
    {
     "name": "stdout",
     "output_type": "stream",
     "text": [
      "✅ [92] Flavobacterium sp. ABG: 3000 proteins fetched\n",
      "⚠️ [93] No proteins fetched for Candidatus Altimarinota bacterium\n",
      "\n",
      "🔍 Fetching proteins for: Flavobacterium gawalongense (available: 3304, fetching: 3000)\n"
     ]
    },
    {
     "name": "stderr",
     "output_type": "stream",
     "text": [
      "Flavobacterium gawalongense...: 100%|██████████| 6/6 [00:09<00:00,  1.64s/it]\n"
     ]
    },
    {
     "name": "stdout",
     "output_type": "stream",
     "text": [
      "✅ [94] Flavobacterium gawalongense: 3000 proteins fetched\n",
      "\n",
      "🔍 Fetching proteins for: Candidatus Methylomirabilota bacterium (available: 133868, fetching: 3000)\n"
     ]
    },
    {
     "name": "stderr",
     "output_type": "stream",
     "text": [
      "Candidatus Methylomirabilota bacterium...: 100%|██████████| 6/6 [00:11<00:00,  1.89s/it]\n"
     ]
    },
    {
     "name": "stdout",
     "output_type": "stream",
     "text": [
      "✅ [95] Candidatus Methylomirabilota bacterium: 3000 proteins fetched\n",
      "\n",
      "🔍 Fetching proteins for: Paenibacillus sp. GP183 (available: 5493, fetching: 3000)\n"
     ]
    },
    {
     "name": "stderr",
     "output_type": "stream",
     "text": [
      "Paenibacillus sp. GP183...: 100%|██████████| 6/6 [00:12<00:00,  2.06s/it]\n"
     ]
    },
    {
     "name": "stdout",
     "output_type": "stream",
     "text": [
      "✅ [96] Paenibacillus sp. GP183: 3000 proteins fetched\n",
      "\n",
      "🔍 Fetching proteins for: Candidatus Hydrogenedentota bacterium (available: 83977, fetching: 3000)\n"
     ]
    },
    {
     "name": "stderr",
     "output_type": "stream",
     "text": [
      "Candidatus Hydrogenedentota bacterium...: 100%|██████████| 6/6 [00:12<00:00,  2.03s/it]\n"
     ]
    },
    {
     "name": "stdout",
     "output_type": "stream",
     "text": [
      "✅ [97] Candidatus Hydrogenedentota bacterium: 3000 proteins fetched\n",
      "\n",
      "🔍 Fetching proteins for: Candidatus Peregrinibacteria bacterium (available: 78836, fetching: 3000)\n"
     ]
    },
    {
     "name": "stderr",
     "output_type": "stream",
     "text": [
      "Candidatus Peregrinibacteria bacterium...: 100%|██████████| 6/6 [00:11<00:00,  1.98s/it]\n"
     ]
    },
    {
     "name": "stdout",
     "output_type": "stream",
     "text": [
      "✅ [98] Candidatus Peregrinibacteria bacterium: 3000 proteins fetched\n",
      "\n",
      "🔍 Fetching proteins for: Rhodoferax fermentans (available: 3991, fetching: 3000)\n"
     ]
    },
    {
     "name": "stderr",
     "output_type": "stream",
     "text": [
      "Rhodoferax fermentans...: 100%|██████████| 6/6 [00:11<00:00,  1.92s/it]\n"
     ]
    },
    {
     "name": "stdout",
     "output_type": "stream",
     "text": [
      "✅ [99] Rhodoferax fermentans: 3000 proteins fetched\n",
      "\n",
      "🔍 Fetching proteins for: uncultured Caudovirales phage (available: 74313, fetching: 3000)\n"
     ]
    },
    {
     "name": "stderr",
     "output_type": "stream",
     "text": [
      "uncultured Caudovirales phage...: 100%|██████████| 6/6 [00:10<00:00,  1.83s/it]\n"
     ]
    },
    {
     "name": "stdout",
     "output_type": "stream",
     "text": [
      "✅ [100] uncultured Caudovirales phage: 3000 proteins fetched\n",
      "\n",
      "🔍 Fetching proteins for: Betaproteobacteria bacterium RIFCSPLOWO2_02_FULL_66_14 (available: 2106, fetching: 1000)\n"
     ]
    },
    {
     "name": "stderr",
     "output_type": "stream",
     "text": [
      "Betaproteobacteria bacterium RIFCSPLOWO2...: 100%|██████████| 2/2 [00:04<00:00,  2.01s/it]\n"
     ]
    },
    {
     "name": "stdout",
     "output_type": "stream",
     "text": [
      "✅ [101] Betaproteobacteria bacterium RIFCSPLOWO2_02_FULL_66_14: 1000 proteins fetched\n",
      "\n",
      "🔍 Fetching proteins for: Candidatus Ornithospirochaeta avicola (available: 1415, fetching: 1000)\n"
     ]
    },
    {
     "name": "stderr",
     "output_type": "stream",
     "text": [
      "Candidatus Ornithospirochaeta avicola...: 100%|██████████| 2/2 [00:03<00:00,  1.78s/it]\n"
     ]
    },
    {
     "name": "stdout",
     "output_type": "stream",
     "text": [
      "✅ [102] Candidatus Ornithospirochaeta avicola: 1000 proteins fetched\n",
      "\n",
      "🔍 Fetching proteins for: Burkholderiales bacterium 28-67-8 (available: 2463, fetching: 1000)\n"
     ]
    },
    {
     "name": "stderr",
     "output_type": "stream",
     "text": [
      "Burkholderiales bacterium 28-67-8...: 100%|██████████| 2/2 [00:03<00:00,  1.78s/it]\n"
     ]
    },
    {
     "name": "stdout",
     "output_type": "stream",
     "text": [
      "✅ [103] Burkholderiales bacterium 28-67-8: 1000 proteins fetched\n",
      "\n",
      "🔍 Fetching proteins for: uncultured Verrucomicrobiales bacterium (available: 180, fetching: 180)\n"
     ]
    },
    {
     "name": "stderr",
     "output_type": "stream",
     "text": [
      "uncultured Verrucomicrobiales bacterium...: 100%|██████████| 1/1 [00:00<00:00,  1.53it/s]\n"
     ]
    },
    {
     "name": "stdout",
     "output_type": "stream",
     "text": [
      "✅ [104] uncultured Verrucomicrobiales bacterium: 180 proteins fetched\n",
      "\n",
      "🔍 Fetching proteins for: Candidatus Arcanobacter lacustris (available: 815, fetching: 815)\n"
     ]
    },
    {
     "name": "stderr",
     "output_type": "stream",
     "text": [
      "Candidatus Arcanobacter lacustris...: 100%|██████████| 2/2 [00:03<00:00,  1.53s/it]\n"
     ]
    },
    {
     "name": "stdout",
     "output_type": "stream",
     "text": [
      "✅ [105] Candidatus Arcanobacter lacustris: 1000 proteins fetched\n",
      "\n",
      "🔍 Fetching proteins for: Nitrosomonas ureae (available: 15272, fetching: 1000)\n"
     ]
    },
    {
     "name": "stderr",
     "output_type": "stream",
     "text": [
      "Nitrosomonas ureae...: 100%|██████████| 2/2 [00:00<00:00,  6.29it/s]\n"
     ]
    },
    {
     "name": "stdout",
     "output_type": "stream",
     "text": [
      "✅ [106] Nitrosomonas ureae: 1000 proteins fetched\n",
      "\n",
      "🔍 Fetching proteins for: Candidatus Saccharibacteria bacterium HGW-Saccharibacteria-1 (available: 1058, fetching: 1000)\n"
     ]
    },
    {
     "name": "stderr",
     "output_type": "stream",
     "text": [
      "Candidatus Saccharibacteria bacterium HG...: 100%|██████████| 2/2 [00:03<00:00,  1.87s/it]\n"
     ]
    },
    {
     "name": "stdout",
     "output_type": "stream",
     "text": [
      "✅ [107] Candidatus Saccharibacteria bacterium HGW-Saccharibacteria-1: 1000 proteins fetched\n",
      "\n",
      "🔍 Fetching proteins for: Candidatus Faecivivens stercoripullorum (available: 1906, fetching: 1000)\n"
     ]
    },
    {
     "name": "stderr",
     "output_type": "stream",
     "text": [
      "Candidatus Faecivivens stercoripullorum...: 100%|██████████| 2/2 [00:03<00:00,  1.82s/it]\n"
     ]
    },
    {
     "name": "stdout",
     "output_type": "stream",
     "text": [
      "✅ [108] Candidatus Faecivivens stercoripullorum: 1000 proteins fetched\n",
      "\n",
      "🔍 Fetching proteins for: Flavobacterium limnosediminis JC2902 (available: 3117, fetching: 1000)\n"
     ]
    },
    {
     "name": "stderr",
     "output_type": "stream",
     "text": [
      "Flavobacterium limnosediminis JC2902...: 100%|██████████| 2/2 [00:03<00:00,  1.87s/it]\n"
     ]
    },
    {
     "name": "stdout",
     "output_type": "stream",
     "text": [
      "✅ [109] Flavobacterium limnosediminis JC2902: 1000 proteins fetched\n",
      "\n",
      "🔍 Fetching proteins for: Nitrospira tepida (available: 4561, fetching: 1000)\n"
     ]
    },
    {
     "name": "stderr",
     "output_type": "stream",
     "text": [
      "Nitrospira tepida...: 100%|██████████| 2/2 [00:04<00:00,  2.21s/it]\n"
     ]
    },
    {
     "name": "stdout",
     "output_type": "stream",
     "text": [
      "✅ [110] Nitrospira tepida: 1000 proteins fetched\n",
      "\n",
      "🔍 Fetching proteins for: uncultured Planctomycetales bacterium (available: 176, fetching: 176)\n"
     ]
    },
    {
     "name": "stderr",
     "output_type": "stream",
     "text": [
      "uncultured Planctomycetales bacterium...: 100%|██████████| 1/1 [00:00<00:00,  1.22it/s]\n"
     ]
    },
    {
     "name": "stdout",
     "output_type": "stream",
     "text": [
      "✅ [111] uncultured Planctomycetales bacterium: 176 proteins fetched\n",
      "\n",
      "🔍 Fetching proteins for: Candidatus Azoamicus ciliaticola (available: 310, fetching: 310)\n"
     ]
    },
    {
     "name": "stderr",
     "output_type": "stream",
     "text": [
      "Candidatus Azoamicus ciliaticola...: 100%|██████████| 1/1 [00:00<00:00,  1.37it/s]\n"
     ]
    },
    {
     "name": "stdout",
     "output_type": "stream",
     "text": [
      "✅ [112] Candidatus Azoamicus ciliaticola: 310 proteins fetched\n",
      "\n",
      "🔍 Fetching proteins for: uncultured Sideroxydans sp. (available: 7, fetching: 7)\n"
     ]
    },
    {
     "name": "stderr",
     "output_type": "stream",
     "text": [
      "uncultured Sideroxydans sp....: 100%|██████████| 1/1 [00:00<00:00,  6.30it/s]\n"
     ]
    },
    {
     "name": "stdout",
     "output_type": "stream",
     "text": [
      "✅ [113] uncultured Sideroxydans sp.: 7 proteins fetched\n",
      "\n",
      "🔍 Fetching proteins for: Candidatus Contendobacter sp. (available: 4001, fetching: 1000)\n"
     ]
    },
    {
     "name": "stderr",
     "output_type": "stream",
     "text": [
      "Candidatus Contendobacter sp....: 100%|██████████| 2/2 [00:05<00:00,  2.56s/it]\n"
     ]
    },
    {
     "name": "stdout",
     "output_type": "stream",
     "text": [
      "✅ [114] Candidatus Contendobacter sp.: 1000 proteins fetched\n",
      "\n",
      "🔍 Fetching proteins for: Candidatus Kaiserbacteria bacterium RIFCSPHIGHO2_02_FULL_50_50 (available: 831, fetching: 831)\n"
     ]
    },
    {
     "name": "stderr",
     "output_type": "stream",
     "text": [
      "Candidatus Kaiserbacteria bacterium RIFC...: 100%|██████████| 2/2 [00:03<00:00,  1.82s/it]\n"
     ]
    },
    {
     "name": "stdout",
     "output_type": "stream",
     "text": [
      "✅ [115] Candidatus Kaiserbacteria bacterium RIFCSPHIGHO2_02_FULL_50_50: 1000 proteins fetched\n",
      "\n",
      "🔍 Fetching proteins for: bacterium SCN 62-11 (available: 4039, fetching: 1000)\n"
     ]
    },
    {
     "name": "stderr",
     "output_type": "stream",
     "text": [
      "bacterium SCN 62-11...: 100%|██████████| 2/2 [00:05<00:00,  2.77s/it]\n"
     ]
    },
    {
     "name": "stdout",
     "output_type": "stream",
     "text": [
      "✅ [116] bacterium SCN 62-11: 1000 proteins fetched\n",
      "\n",
      "📊 === SUMMARY ===\n",
      "📁 Output FASTA: Diamond_alignments/session_diamond_align_2025-06-07_22-07-13\\diamond_organisms_51_plus_splitlimits.fasta\n",
      "📦 Total protein sequences in database: 129008\n",
      "🧬 Total organisms processed: 66\n"
     ]
    }
   ],
   "source": [
    "import os\n",
    "import math\n",
    "import requests\n",
    "import pandas as pd\n",
    "from datetime import datetime\n",
    "from tqdm import tqdm\n",
    "\n",
    "# === 1. Configuration ===\n",
    "# Set protein download limits depending on organism rank group\n",
    "limit_51_100 = 3000    # For organisms ranked 51st to 100th\n",
    "limit_101_plus = 1000  # For organisms ranked 101st and beyond\n",
    "\n",
    "# Define the session-specific output directory\n",
    "output_dir = f\"Diamond_alignments/session_diamond_align_{session_time}\"\n",
    "os.makedirs(output_dir, exist_ok=True)\n",
    "\n",
    "# Output FASTA file for storing all sequences from organisms ranked 51+\n",
    "output_fasta_path = os.path.join(output_dir, f\"diamond_organisms_51_plus_splitlimits.fasta\")\n",
    "\n",
    "# === 2. Load organisms ranked 51 and higher with enough peptide hits ===\n",
    "df = pd.read_csv(output_path)\n",
    "\n",
    "# Count how many times each organism occurs (based on peptide matches)\n",
    "organism_counts = df[\"lca_taxon_name\"].value_counts()\n",
    "\n",
    "# Slice organisms starting from the 51st position onwards\n",
    "organisms_51_plus = organism_counts[50:].index.tolist()\n",
    "\n",
    "# === 3. Assign per-organism protein download limit based on sub-rank ===\n",
    "def get_protein_limit(relative_rank):\n",
    "    \"\"\"\n",
    "    Determines the number of protein sequences to fetch for an organism.\n",
    "    - Index 0–49 → rank 51–100 (use 3000 proteins)\n",
    "    - Index 50+  → rank 101 and higher (use 1000 proteins)\n",
    "    \"\"\"\n",
    "    if relative_rank < 50:\n",
    "        return limit_51_100\n",
    "    else:\n",
    "        return limit_101_plus\n",
    "\n",
    "# === 4. Determine how many protein entries are available on UniProt ===\n",
    "def get_total_results(organism):\n",
    "    \"\"\"\n",
    "    Returns the total number of UniProtKB entries for a given organism.\n",
    "    This ensures we don't request more than actually exists.\n",
    "    \"\"\"\n",
    "    base_url = \"https://rest.uniprot.org/uniprotkb/search\"\n",
    "    params = {\n",
    "        \"query\": organism,\n",
    "        \"format\": \"json\",\n",
    "        \"size\": 1\n",
    "    }\n",
    "    try:\n",
    "        r = requests.get(base_url, params=params)\n",
    "        r.raise_for_status()\n",
    "        return int(r.headers.get(\"x-total-results\", 0))\n",
    "    except Exception as e:\n",
    "        print(f\"❌ Failed to get total result count for {organism}: {e}\")\n",
    "        return 0\n",
    "\n",
    "# === 5. Fetch protein entries in paginated chunks ===\n",
    "def fetch_uniprotkb_chunked_fasta(organism, limit):\n",
    "    \"\"\"\n",
    "    Fetches protein entries from UniProt in FASTA format.\n",
    "    Handles pagination to fetch large numbers of entries in manageable chunks.\n",
    "    \"\"\"\n",
    "    base_url = \"https://rest.uniprot.org/uniprotkb/search\"\n",
    "    chunk_size = 500\n",
    "    headers = {\"Accept\": \"text/x-fasta\"}\n",
    "\n",
    "    total_available = get_total_results(organism)\n",
    "    if total_available == 0:\n",
    "        return \"\", 0\n",
    "\n",
    "    limit = min(limit, total_available)\n",
    "    chunks = math.ceil(limit / chunk_size)\n",
    "\n",
    "    print(f\"\\n🔍 Fetching proteins for: {organism} (available: {total_available}, fetching: {limit})\")\n",
    "\n",
    "    fetched = \"\"           # Will store raw FASTA text\n",
    "    total_downloaded = 0   # Counter for how many entries we retrieve\n",
    "\n",
    "    for i in tqdm(range(chunks), desc=f\"{organism[:40]}...\", leave=True):\n",
    "        offset = i * chunk_size\n",
    "        params = {\n",
    "            \"query\": organism,\n",
    "            \"format\": \"fasta\",\n",
    "            \"size\": chunk_size,\n",
    "            \"offset\": offset,\n",
    "            \"compressed\": \"false\"\n",
    "        }\n",
    "        try:\n",
    "            r = requests.get(base_url, headers=headers, params=params)\n",
    "            r.raise_for_status()\n",
    "            chunk = r.text.strip()\n",
    "            if not chunk:\n",
    "                break\n",
    "            fetched += chunk + \"\\n\"\n",
    "            total_downloaded += chunk.count(\">\")\n",
    "        except Exception as e:\n",
    "            print(f\"❌ Chunk {i+1} failed: {e}\")\n",
    "            break\n",
    "\n",
    "    return fetched, total_downloaded\n",
    "\n",
    "# === 6. Loop through all organisms and collect sequences ===\n",
    "all_entries = []\n",
    "total_downloaded = 0\n",
    "total_organisms = len(organisms_51_plus)\n",
    "\n",
    "print(f\"🚀 Starting UniProtKB protein fetch for {total_organisms} organisms ranked 51+\")\n",
    "\n",
    "for idx, organism in enumerate(organisms_51_plus):\n",
    "    limit = get_protein_limit(idx)\n",
    "    fasta, downloaded = fetch_uniprotkb_chunked_fasta(organism, limit)\n",
    "\n",
    "    if fasta:\n",
    "        all_entries.append(fasta.strip())\n",
    "        total_downloaded += downloaded\n",
    "        print(f\"✅ [{idx+51}] {organism}: {downloaded} proteins fetched\")\n",
    "    else:\n",
    "        print(f\"⚠️ [{idx+51}] No proteins fetched for {organism}\")\n",
    "\n",
    "# === 7. Write all sequences to the output FASTA file ===\n",
    "with open(output_fasta_path, \"w\") as f_out:\n",
    "    f_out.write(\"\\n\".join(all_entries))\n",
    "\n",
    "# === 8. Final Summary ===\n",
    "print(\"\\n📊 === SUMMARY ===\")\n",
    "print(f\"📁 Output FASTA: {output_fasta_path}\")\n",
    "print(f\"📦 Total protein sequences in database: {total_downloaded}\")\n",
    "print(f\"🧬 Total organisms processed: {total_organisms}\")\n"
   ]
  },
  {
   "cell_type": "markdown",
   "id": "f2e721b9",
   "metadata": {},
   "source": [
    "## FASTA Combination Step: Building the Final Custom Protein Database\n",
    "\n",
    "This step consolidates all previously downloaded FASTA files—each representing proteins from different organism ranking groups—into a **single unified FASTA file**. This final protein database reflects the microbial community composition inferred from the DIAMOND alignment results and is used as a tailored search space for peptide-spectrum matching or functional annotation.\n",
    "\n",
    "---\n",
    "\n",
    "### Inputs\n",
    "\n",
    "The FASTA files that are combined in this step were constructed in earlier steps by fetching proteins for organisms based on their peptide hit rank:\n",
    "\n",
    "- `from_diamond_top5_custom_limits.fasta` — Proteins from the **top 5 ranked** organisms\n",
    "- `from_diamond_organisms_6_to_10.fasta` — Proteins from organisms ranked **6–10**\n",
    "- `from_diamond_organisms_11_to_20.fasta` — Proteins from organisms ranked **11–20**\n",
    "- `from_diamond_organisms_21_to_50_splitlimits.fasta` — Proteins from organisms ranked **21–50**\n",
    "- `from_diamond_organisms_51_plus_splitlimits.fasta` — Proteins from organisms ranked **51 and beyond**\n",
    "\n",
    "---\n",
    "\n",
    "### Process Summary\n",
    "\n",
    "- Each FASTA file is opened and read.\n",
    "- Protein entries are **normalized and reformatted** to ensure proper FASTA formatting (i.e., prefixed with `>`).\n",
    "- Files that are missing or empty are **automatically skipped**.\n",
    "- All valid protein entries are concatenated and saved into a single output file.\n",
    "\n",
    "---\n",
    "\n",
    "### Output\n",
    "\n",
    "- A unified file named:  \n",
    "  `all_diamond_proteins_combined_{min_hits}_hits.fasta`  \n",
    "- This FASTA serves as the **final custom protein database** used for:\n",
    "  - Spectrum identification\n",
    "  - Protein annotation\n",
    "  - Functional inference\n",
    "  - Database reduction/clustering steps\n"
   ]
  },
  {
   "cell_type": "code",
   "execution_count": 54,
   "id": "0a5196ba",
   "metadata": {},
   "outputs": [
    {
     "name": "stdout",
     "output_type": "stream",
     "text": [
      "\n",
      "Combined protein FASTA created.\n",
      "Output FASTA: Diamond_alignments/session_diamond_align_2025-06-07_22-07-13\\all_diamond_proteins_combined_5_hits.fasta\n",
      "Total protein entries in combined database: 1057239\n"
     ]
    }
   ],
   "source": [
    "import os\n",
    "\n",
    "# === 1. File paths ===\n",
    "# Define the session directory based on previous session time variable\n",
    "session_folder = f\"Diamond_alignments/session_diamond_align_{session_time}\"\n",
    "\n",
    "# Define paths to each partial FASTA file created in previous steps\n",
    "top5_fasta = os.path.join(session_folder, \"diamond_top5_taxa_proteins.fasta\")\n",
    "middle5to10_fasta = os.path.join(session_folder, \"diamond_organisms_6_to_10.fasta\")\n",
    "middle11to20_fasta = os.path.join(session_folder, \"diamond_organisms_11_to_20.fasta\")\n",
    "middle21to50_fasta = os.path.join(session_folder, \"diamond_organisms_21_to_50_splitlimits.fasta\")\n",
    "remaining_fasta = os.path.join(session_folder, \"diamond_organisms_51_plus_splitlimits.fasta\")\n",
    "\n",
    "# Output file: final combined FASTA file with all proteins\n",
    "combined_fasta = os.path.join(session_folder, f\"all_diamond_proteins_combined_{min_hits}_hits.fasta\")\n",
    "\n",
    "# === 2. Merge all FASTA files ===\n",
    "# List all input files to loop through them\n",
    "input_files = [top5_fasta, middle5to10_fasta, middle11to20_fasta, middle21to50_fasta, remaining_fasta]\n",
    "total_entries = 0  # Counter for total number of protein entries added\n",
    "\n",
    "# Open the final combined FASTA file for writing\n",
    "with open(combined_fasta, \"w\") as out_f:\n",
    "    for file_path in input_files:\n",
    "        # Skip files that are missing (e.g., not generated due to lack of matches)\n",
    "        if not os.path.exists(file_path):\n",
    "            print(f\"Skipping missing file: {file_path}\")\n",
    "            continue\n",
    "\n",
    "        # Read and process the FASTA contents\n",
    "        with open(file_path, \"r\") as f_in:\n",
    "            content = f_in.read().strip()\n",
    "\n",
    "            # Skip empty files\n",
    "            if not content:\n",
    "                continue\n",
    "\n",
    "            # Split into individual protein entries (FASTA format)\n",
    "            entries = content.split(\"\\n>\")\n",
    "\n",
    "            for i, entry in enumerate(entries):\n",
    "                # Ensure every entry begins with a '>' symbol\n",
    "                if not entry.startswith(\">\"):\n",
    "                    entry = \">\" + entry\n",
    "\n",
    "                # Write cleaned entry to output FASTA\n",
    "                out_f.write(entry.strip() + \"\\n\")\n",
    "                total_entries += 1  # Increment global counter\n",
    "\n",
    "# === 3. Final Summary ===\n",
    "# Inform the user that the combined database has been created\n",
    "print(\"\\nCombined protein FASTA created.\")\n",
    "print(f\"Output FASTA: {combined_fasta}\")\n",
    "print(f\"Total protein entries in combined database: {total_entries}\")\n"
   ]
  }
 ],
 "metadata": {
  "kernelspec": {
   "display_name": "Python 3",
   "language": "python",
   "name": "python3"
  },
  "language_info": {
   "codemirror_mode": {
    "name": "ipython",
    "version": 3
   },
   "file_extension": ".py",
   "mimetype": "text/x-python",
   "name": "python",
   "nbconvert_exporter": "python",
   "pygments_lexer": "ipython3",
   "version": "3.9.13"
  }
 },
 "nbformat": 4,
 "nbformat_minor": 5
}
