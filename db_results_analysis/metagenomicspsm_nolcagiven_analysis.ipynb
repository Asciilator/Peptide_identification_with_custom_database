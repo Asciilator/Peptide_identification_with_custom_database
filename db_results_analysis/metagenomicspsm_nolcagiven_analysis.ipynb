{
 "cells": [
  {
   "cell_type": "code",
   "execution_count": 5,
   "id": "84232925",
   "metadata": {},
   "outputs": [
    {
     "data": {
      "text/html": [
       "<div>\n",
       "<style scoped>\n",
       "    .dataframe tbody tr th:only-of-type {\n",
       "        vertical-align: middle;\n",
       "    }\n",
       "\n",
       "    .dataframe tbody tr th {\n",
       "        vertical-align: top;\n",
       "    }\n",
       "\n",
       "    .dataframe thead th {\n",
       "        text-align: right;\n",
       "    }\n",
       "</style>\n",
       "<table border=\"1\" class=\"dataframe\">\n",
       "  <thead>\n",
       "    <tr style=\"text-align: right;\">\n",
       "      <th></th>\n",
       "      <th>Peptide</th>\n",
       "      <th>-10lgP</th>\n",
       "      <th>Mass</th>\n",
       "      <th>Length</th>\n",
       "      <th>ppm</th>\n",
       "      <th>m/z</th>\n",
       "      <th>Z</th>\n",
       "      <th>RT</th>\n",
       "      <th>Area</th>\n",
       "      <th>Fraction</th>\n",
       "      <th>Id</th>\n",
       "      <th>Scan</th>\n",
       "      <th>from Chimera</th>\n",
       "      <th>Source File</th>\n",
       "      <th>Accession</th>\n",
       "      <th>PTM</th>\n",
       "      <th>AScore</th>\n",
       "      <th>Found By</th>\n",
       "    </tr>\n",
       "  </thead>\n",
       "  <tbody>\n",
       "    <tr>\n",
       "      <th>0</th>\n",
       "      <td>LGEHNIDVLEGNEQFINAAK</td>\n",
       "      <td>122.75</td>\n",
       "      <td>2210.0967</td>\n",
       "      <td>20</td>\n",
       "      <td>2.3</td>\n",
       "      <td>1106.0581</td>\n",
       "      <td>2</td>\n",
       "      <td>119.72</td>\n",
       "      <td>754000.0</td>\n",
       "      <td>1</td>\n",
       "      <td>51390</td>\n",
       "      <td>41166</td>\n",
       "      <td>No</td>\n",
       "      <td>MP_RZ07032023_GW_flat_180min_DDA02.raw</td>\n",
       "      <td>NaN</td>\n",
       "      <td>NaN</td>\n",
       "      <td>NaN</td>\n",
       "      <td>PEAKS DB</td>\n",
       "    </tr>\n",
       "    <tr>\n",
       "      <th>1</th>\n",
       "      <td>LGEHNIDVLEGNEQFINAAK</td>\n",
       "      <td>84.45</td>\n",
       "      <td>2210.0967</td>\n",
       "      <td>20</td>\n",
       "      <td>0.1</td>\n",
       "      <td>737.7062</td>\n",
       "      <td>3</td>\n",
       "      <td>119.75</td>\n",
       "      <td>18576000.0</td>\n",
       "      <td>1</td>\n",
       "      <td>51404</td>\n",
       "      <td>41372</td>\n",
       "      <td>No</td>\n",
       "      <td>MP_RZ07032023_GW_flat_180min_DDA02.raw</td>\n",
       "      <td>NaN</td>\n",
       "      <td>NaN</td>\n",
       "      <td>NaN</td>\n",
       "      <td>PEAKS DB</td>\n",
       "    </tr>\n",
       "    <tr>\n",
       "      <th>2</th>\n",
       "      <td>LGEHNIDVLEGNEQFINAAK</td>\n",
       "      <td>69.67</td>\n",
       "      <td>2210.0967</td>\n",
       "      <td>20</td>\n",
       "      <td>0.1</td>\n",
       "      <td>737.7062</td>\n",
       "      <td>3</td>\n",
       "      <td>119.75</td>\n",
       "      <td>18576000.0</td>\n",
       "      <td>1</td>\n",
       "      <td>51403</td>\n",
       "      <td>41083</td>\n",
       "      <td>No</td>\n",
       "      <td>MP_RZ07032023_GW_flat_180min_DDA02.raw</td>\n",
       "      <td>NaN</td>\n",
       "      <td>NaN</td>\n",
       "      <td>NaN</td>\n",
       "      <td>PEAKS DB</td>\n",
       "    </tr>\n",
       "    <tr>\n",
       "      <th>3</th>\n",
       "      <td>GAHGDLMDEAAALQNYTVESADNSDIVVGR</td>\n",
       "      <td>116.35</td>\n",
       "      <td>3117.4309</td>\n",
       "      <td>30</td>\n",
       "      <td>0.0</td>\n",
       "      <td>1040.1509</td>\n",
       "      <td>3</td>\n",
       "      <td>143.89</td>\n",
       "      <td>2724900.0</td>\n",
       "      <td>1</td>\n",
       "      <td>63434</td>\n",
       "      <td>51408</td>\n",
       "      <td>No</td>\n",
       "      <td>MP_RZ07032023_GW_flat_180min_DDA02.raw</td>\n",
       "      <td>hypothetical protein IPI17_15100 [Nitrosomona...</td>\n",
       "      <td>NaN</td>\n",
       "      <td>NaN</td>\n",
       "      <td>PEAKS DB</td>\n",
       "    </tr>\n",
       "    <tr>\n",
       "      <th>4</th>\n",
       "      <td>GAHGDLMDEAAALQNYTVESADNSDIVVGR</td>\n",
       "      <td>39.26</td>\n",
       "      <td>3117.4309</td>\n",
       "      <td>30</td>\n",
       "      <td>-5.4</td>\n",
       "      <td>1040.1453</td>\n",
       "      <td>3</td>\n",
       "      <td>140.06</td>\n",
       "      <td>0.0</td>\n",
       "      <td>1</td>\n",
       "      <td>84072</td>\n",
       "      <td>49855</td>\n",
       "      <td>No</td>\n",
       "      <td>MP_RZ07032023_GW_flat_180min_DDA02.raw</td>\n",
       "      <td>hypothetical protein IPI17_15100 [Nitrosomona...</td>\n",
       "      <td>NaN</td>\n",
       "      <td>NaN</td>\n",
       "      <td>PEAKS DB</td>\n",
       "    </tr>\n",
       "  </tbody>\n",
       "</table>\n",
       "</div>"
      ],
      "text/plain": [
       "                          Peptide  -10lgP       Mass  Length  ppm        m/z  \\\n",
       "0            LGEHNIDVLEGNEQFINAAK  122.75  2210.0967      20  2.3  1106.0581   \n",
       "1            LGEHNIDVLEGNEQFINAAK   84.45  2210.0967      20  0.1   737.7062   \n",
       "2            LGEHNIDVLEGNEQFINAAK   69.67  2210.0967      20  0.1   737.7062   \n",
       "3  GAHGDLMDEAAALQNYTVESADNSDIVVGR  116.35  3117.4309      30  0.0  1040.1509   \n",
       "4  GAHGDLMDEAAALQNYTVESADNSDIVVGR   39.26  3117.4309      30 -5.4  1040.1453   \n",
       "\n",
       "   Z      RT        Area  Fraction     Id   Scan from Chimera  \\\n",
       "0  2  119.72    754000.0         1  51390  41166           No   \n",
       "1  3  119.75  18576000.0         1  51404  41372           No   \n",
       "2  3  119.75  18576000.0         1  51403  41083           No   \n",
       "3  3  143.89   2724900.0         1  63434  51408           No   \n",
       "4  3  140.06         0.0         1  84072  49855           No   \n",
       "\n",
       "                              Source File  \\\n",
       "0  MP_RZ07032023_GW_flat_180min_DDA02.raw   \n",
       "1  MP_RZ07032023_GW_flat_180min_DDA02.raw   \n",
       "2  MP_RZ07032023_GW_flat_180min_DDA02.raw   \n",
       "3  MP_RZ07032023_GW_flat_180min_DDA02.raw   \n",
       "4  MP_RZ07032023_GW_flat_180min_DDA02.raw   \n",
       "\n",
       "                                           Accession  PTM AScore  Found By  \n",
       "0                                                NaN  NaN    NaN  PEAKS DB  \n",
       "1                                                NaN  NaN    NaN  PEAKS DB  \n",
       "2                                                NaN  NaN    NaN  PEAKS DB  \n",
       "3   hypothetical protein IPI17_15100 [Nitrosomona...  NaN    NaN  PEAKS DB  \n",
       "4   hypothetical protein IPI17_15100 [Nitrosomona...  NaN    NaN  PEAKS DB  "
      ]
     },
     "metadata": {},
     "output_type": "display_data"
    }
   ],
   "source": [
    "import pandas as pd\n",
    "\n",
    "# === Step 1: Define file path ===\n",
    "# This is the result of a PSM search done in PEAKS Studio, exported as a CSV.\n",
    "# It contains all matched peptides and associated metadata for a custom protein database.\n",
    "psm_path = r\"C:\\Users\\Yusuf\\OneDrive\\LST\\Derde_jaar\\Y3Q4\\Metaproteomics_with_db\\db_psm_results\\Peaks_exports2\\YA_RZ_GW_SHMX_DB_analysis_AS_MAGs\\DB search psm.csv\"\n",
    "\n",
    "# === Step 2: Load the CSV file as a DataFrame ===\n",
    "# This will allow us to extract protein accessions and trace them back to taxonomy later.\n",
    "df = pd.read_csv(psm_path)\n",
    "\n",
    "# === Step 3: Preview the data structure ===\n",
    "# This is important to confirm that expected columns such as 'Peptide', 'Accession', 'Found By' are present\n",
    "display(df.head())"
   ]
  },
  {
   "cell_type": "code",
   "execution_count": 32,
   "id": "997dae36",
   "metadata": {},
   "outputs": [
    {
     "name": "stdout",
     "output_type": "stream",
     "text": [
      "\n",
      "Clean extraction complete.\n",
      "Entries with brackets: 1737 / 5276\n",
      "Clean taxon names extracted: 1737\n"
     ]
    },
    {
     "data": {
      "text/html": [
       "<div>\n",
       "<style scoped>\n",
       "    .dataframe tbody tr th:only-of-type {\n",
       "        vertical-align: middle;\n",
       "    }\n",
       "\n",
       "    .dataframe tbody tr th {\n",
       "        vertical-align: top;\n",
       "    }\n",
       "\n",
       "    .dataframe thead th {\n",
       "        text-align: right;\n",
       "    }\n",
       "</style>\n",
       "<table border=\"1\" class=\"dataframe\">\n",
       "  <thead>\n",
       "    <tr style=\"text-align: right;\">\n",
       "      <th></th>\n",
       "      <th>Peptide</th>\n",
       "      <th>Accession</th>\n",
       "      <th>Taxon_names</th>\n",
       "    </tr>\n",
       "  </thead>\n",
       "  <tbody>\n",
       "    <tr>\n",
       "      <th>0</th>\n",
       "      <td>LGEHNIDVLEGNEQFINAAK</td>\n",
       "      <td>NaN</td>\n",
       "      <td>NA</td>\n",
       "    </tr>\n",
       "    <tr>\n",
       "      <th>1</th>\n",
       "      <td>LGEHNIDVLEGNEQFINAAK</td>\n",
       "      <td>NaN</td>\n",
       "      <td>NA</td>\n",
       "    </tr>\n",
       "    <tr>\n",
       "      <th>2</th>\n",
       "      <td>LGEHNIDVLEGNEQFINAAK</td>\n",
       "      <td>NaN</td>\n",
       "      <td>NA</td>\n",
       "    </tr>\n",
       "    <tr>\n",
       "      <th>3</th>\n",
       "      <td>GAHGDLMDEAAALQNYTVESADNSDIVVGR</td>\n",
       "      <td>hypothetical protein IPI17_15100 [Nitrosomonas sp</td>\n",
       "      <td>Nitrosomonas sp</td>\n",
       "    </tr>\n",
       "    <tr>\n",
       "      <th>4</th>\n",
       "      <td>GAHGDLMDEAAALQNYTVESADNSDIVVGR</td>\n",
       "      <td>hypothetical protein IPI17_15100 [Nitrosomonas sp</td>\n",
       "      <td>Nitrosomonas sp</td>\n",
       "    </tr>\n",
       "    <tr>\n",
       "      <th>5</th>\n",
       "      <td>KVSYVLPAGSYAVGAGVYDDTPVATLESK</td>\n",
       "      <td>MBK7983733.1:MBK8961530.1:MBK9950756.1:MBK7541278.1:MBK8897725.1</td>\n",
       "      <td>NA</td>\n",
       "    </tr>\n",
       "    <tr>\n",
       "      <th>6</th>\n",
       "      <td>KVSYVLPAGSYAVGAGVYDDTPVATLESK</td>\n",
       "      <td>MBK7983733.1:MBK8961530.1:MBK9950756.1:MBK7541278.1:MBK8897725.1</td>\n",
       "      <td>NA</td>\n",
       "    </tr>\n",
       "    <tr>\n",
       "      <th>7</th>\n",
       "      <td>KVSYVLPAGSYAVGAGVYDDTPVATLESK</td>\n",
       "      <td>MBK7983733.1:MBK8961530.1:MBK9950756.1:MBK7541278.1:MBK8897725.1</td>\n",
       "      <td>NA</td>\n",
       "    </tr>\n",
       "    <tr>\n",
       "      <th>8</th>\n",
       "      <td>KVSYVLPAGSYAVGAGVYDDTPVATLESK</td>\n",
       "      <td>MBK7983733.1:MBK8961530.1:MBK9950756.1:MBK7541278.1:MBK8897725.1</td>\n",
       "      <td>NA</td>\n",
       "    </tr>\n",
       "    <tr>\n",
       "      <th>9</th>\n",
       "      <td>KVSYVLPAGSYAVGAGVYDDTPVATLESK</td>\n",
       "      <td>MBK7983733.1:MBK8961530.1:MBK9950756.1:MBK7541278.1:MBK8897725.1</td>\n",
       "      <td>NA</td>\n",
       "    </tr>\n",
       "    <tr>\n",
       "      <th>10</th>\n",
       "      <td>KVSYVLPAGSYAVGAGVYDDTPVATLESK</td>\n",
       "      <td>MBK7983733.1:MBK8961530.1:MBK9950756.1:MBK7541278.1:MBK8897725.1</td>\n",
       "      <td>NA</td>\n",
       "    </tr>\n",
       "    <tr>\n",
       "      <th>11</th>\n",
       "      <td>KVSYVLPAGSYAVGAGVYDDTPVATLESK</td>\n",
       "      <td>MBK7983733.1:MBK8961530.1:MBK9950756.1:MBK7541278.1:MBK8897725.1</td>\n",
       "      <td>NA</td>\n",
       "    </tr>\n",
       "    <tr>\n",
       "      <th>12</th>\n",
       "      <td>LDWSDQTKNDTAIGPQDFR</td>\n",
       "      <td>nitrite oxidoreductase  gamma subunit [Nitrospira sp</td>\n",
       "      <td>Nitrospira sp</td>\n",
       "    </tr>\n",
       "    <tr>\n",
       "      <th>13</th>\n",
       "      <td>LDWSDQTKNDTAIGPQDFR</td>\n",
       "      <td>nitrite oxidoreductase  gamma subunit [Nitrospira sp</td>\n",
       "      <td>Nitrospira sp</td>\n",
       "    </tr>\n",
       "    <tr>\n",
       "      <th>14</th>\n",
       "      <td>LDWSDQTKNDTAIGPQDFR</td>\n",
       "      <td>nitrite oxidoreductase  gamma subunit [Nitrospira sp</td>\n",
       "      <td>Nitrospira sp</td>\n",
       "    </tr>\n",
       "    <tr>\n",
       "      <th>15</th>\n",
       "      <td>LPQSSSGSGFGVGTGVGDVSGNSGR</td>\n",
       "      <td>hypothetical protein IPM88_18770 [Nitrospira sp: hypothetical protein IPI70_17765 [Nitrospira sp: hypothetical protein IPO99_04415 [Nitrospira sp: hypothetical protein IPL14_18650 [Nitrospira sp: hypothetical protein IPJ44_16680 [Nitrospira sp</td>\n",
       "      <td>Nitrospira sp</td>\n",
       "    </tr>\n",
       "    <tr>\n",
       "      <th>16</th>\n",
       "      <td>LPQSSSGSGFGVGTGVGDVSGNSGR</td>\n",
       "      <td>hypothetical protein IPM88_18770 [Nitrospira sp: hypothetical protein IPI70_17765 [Nitrospira sp: hypothetical protein IPO99_04415 [Nitrospira sp: hypothetical protein IPL14_18650 [Nitrospira sp: hypothetical protein IPJ44_16680 [Nitrospira sp</td>\n",
       "      <td>Nitrospira sp</td>\n",
       "    </tr>\n",
       "    <tr>\n",
       "      <th>17</th>\n",
       "      <td>LPQSSSGSGFGVGTGVGDVSGNSGR</td>\n",
       "      <td>hypothetical protein IPM88_18770 [Nitrospira sp: hypothetical protein IPI70_17765 [Nitrospira sp: hypothetical protein IPO99_04415 [Nitrospira sp: hypothetical protein IPL14_18650 [Nitrospira sp: hypothetical protein IPJ44_16680 [Nitrospira sp</td>\n",
       "      <td>Nitrospira sp</td>\n",
       "    </tr>\n",
       "    <tr>\n",
       "      <th>18</th>\n",
       "      <td>LPQSSSGSGFGVGTGVGDVSGNSGR</td>\n",
       "      <td>hypothetical protein IPM88_18770 [Nitrospira sp: hypothetical protein IPI70_17765 [Nitrospira sp: hypothetical protein IPO99_04415 [Nitrospira sp: hypothetical protein IPL14_18650 [Nitrospira sp: hypothetical protein IPJ44_16680 [Nitrospira sp</td>\n",
       "      <td>Nitrospira sp</td>\n",
       "    </tr>\n",
       "    <tr>\n",
       "      <th>19</th>\n",
       "      <td>NYSLTEHSMAPEVVVFSK</td>\n",
       "      <td>MBK8898956.1:MBK8963896.1:MBK7982494.1:MBK9951961.1:MBK7541969.1</td>\n",
       "      <td>NA</td>\n",
       "    </tr>\n",
       "    <tr>\n",
       "      <th>20</th>\n",
       "      <td>NYSLTEHSMAPEVVVFSK</td>\n",
       "      <td>MBK8898956.1:MBK8963896.1:MBK7982494.1:MBK9951961.1:MBK7541969.1</td>\n",
       "      <td>NA</td>\n",
       "    </tr>\n",
       "    <tr>\n",
       "      <th>21</th>\n",
       "      <td>GFGFIAQDAGGPDVFVHYSAIDSGGYR</td>\n",
       "      <td>MBL0003228.1:MBK6954763.1:MBK6442027.1:MBK7609905.1:MBK7273172.1:MBK6300809.1</td>\n",
       "      <td>NA</td>\n",
       "    </tr>\n",
       "    <tr>\n",
       "      <th>22</th>\n",
       "      <td>GFGFIAQDAGGPDVFVHYSAIDSGGYR</td>\n",
       "      <td>MBL0003228.1:MBK6954763.1:MBK6442027.1:MBK7609905.1:MBK7273172.1:MBK6300809.1</td>\n",
       "      <td>NA</td>\n",
       "    </tr>\n",
       "    <tr>\n",
       "      <th>23</th>\n",
       "      <td>GFGFIAQDAGGPDVFVHYSAIDSGGYR</td>\n",
       "      <td>MBL0003228.1:MBK6954763.1:MBK6442027.1:MBK7609905.1:MBK7273172.1:MBK6300809.1</td>\n",
       "      <td>NA</td>\n",
       "    </tr>\n",
       "    <tr>\n",
       "      <th>24</th>\n",
       "      <td>GFGFIAQDAGGPDVFVHYSAIDSGGYR</td>\n",
       "      <td>MBL0003228.1:MBK6954763.1:MBK6442027.1:MBK7609905.1:MBK7273172.1:MBK6300809.1</td>\n",
       "      <td>NA</td>\n",
       "    </tr>\n",
       "    <tr>\n",
       "      <th>25</th>\n",
       "      <td>GFGFIAQDAGGPDVFVHYSAIDSGGYR</td>\n",
       "      <td>MBL0003228.1:MBK6954763.1:MBK6442027.1:MBK7609905.1:MBK7273172.1:MBK6300809.1</td>\n",
       "      <td>NA</td>\n",
       "    </tr>\n",
       "    <tr>\n",
       "      <th>26</th>\n",
       "      <td>RVEEETKSPGGIVLPGAAAEKPSR</td>\n",
       "      <td>MBK9952571.1:MBK8897093.1:MBK8964575.1:MBK7541320.1:MBK7984659.1:MBK8507147.1</td>\n",
       "      <td>NA</td>\n",
       "    </tr>\n",
       "    <tr>\n",
       "      <th>27</th>\n",
       "      <td>RVEEETKSPGGIVLPGAAAEKPSR</td>\n",
       "      <td>MBK9952571.1:MBK8897093.1:MBK8964575.1:MBK7541320.1:MBK7984659.1:MBK8507147.1</td>\n",
       "      <td>NA</td>\n",
       "    </tr>\n",
       "    <tr>\n",
       "      <th>28</th>\n",
       "      <td>RVEEETKSPGGIVLPGAAAEKPSR</td>\n",
       "      <td>MBK9952571.1:MBK8897093.1:MBK8964575.1:MBK7541320.1:MBK7984659.1:MBK8507147.1</td>\n",
       "      <td>NA</td>\n",
       "    </tr>\n",
       "    <tr>\n",
       "      <th>29</th>\n",
       "      <td>RVEEETKSPGGIVLPGAAAEKPSR</td>\n",
       "      <td>MBK9952571.1:MBK8897093.1:MBK8964575.1:MBK7541320.1:MBK7984659.1:MBK8507147.1</td>\n",
       "      <td>NA</td>\n",
       "    </tr>\n",
       "    <tr>\n",
       "      <th>30</th>\n",
       "      <td>RVEEETKSPGGIVLPGAAAEKPSR</td>\n",
       "      <td>MBK9952571.1:MBK8897093.1:MBK8964575.1:MBK7541320.1:MBK7984659.1:MBK8507147.1</td>\n",
       "      <td>NA</td>\n",
       "    </tr>\n",
       "    <tr>\n",
       "      <th>31</th>\n",
       "      <td>NSVANGPVAGLPVTAAR</td>\n",
       "      <td>hypothetical protein IPN78_18060 [Candidatus Accumulibacter sp</td>\n",
       "      <td>Candidatus Accumulibacter sp</td>\n",
       "    </tr>\n",
       "    <tr>\n",
       "      <th>32</th>\n",
       "      <td>NSVANGPVAGLPVTAAR</td>\n",
       "      <td>hypothetical protein IPN78_18060 [Candidatus Accumulibacter sp</td>\n",
       "      <td>Candidatus Accumulibacter sp</td>\n",
       "    </tr>\n",
       "    <tr>\n",
       "      <th>33</th>\n",
       "      <td>KPDVIFLGGMDAVGGPMLK</td>\n",
       "      <td>branched-chain amino acid ABC transporter substrate-binding protein [Candidatus Accumulibacter sp</td>\n",
       "      <td>Candidatus Accumulibacter sp</td>\n",
       "    </tr>\n",
       "    <tr>\n",
       "      <th>34</th>\n",
       "      <td>KPDVIFLGGMDAVGGPMLK</td>\n",
       "      <td>branched-chain amino acid ABC transporter substrate-binding protein [Candidatus Accumulibacter sp</td>\n",
       "      <td>Candidatus Accumulibacter sp</td>\n",
       "    </tr>\n",
       "    <tr>\n",
       "      <th>35</th>\n",
       "      <td>KPDVIFLGGMDAVGGPMLK</td>\n",
       "      <td>branched-chain amino acid ABC transporter substrate-binding protein [Candidatus Accumulibacter sp</td>\n",
       "      <td>Candidatus Accumulibacter sp</td>\n",
       "    </tr>\n",
       "    <tr>\n",
       "      <th>36</th>\n",
       "      <td>VLGGLTDWTVTGLTPGTDYGFHVR</td>\n",
       "      <td>MBK9506472.1:MBK9456203.1:MBK9557624.1:MBL0280295.1</td>\n",
       "      <td>NA</td>\n",
       "    </tr>\n",
       "    <tr>\n",
       "      <th>37</th>\n",
       "      <td>VLGGLTDWTVTGLTPGTDYGFHVR</td>\n",
       "      <td>MBK9506472.1:MBK9456203.1:MBK9557624.1:MBL0280295.1</td>\n",
       "      <td>NA</td>\n",
       "    </tr>\n",
       "    <tr>\n",
       "      <th>38</th>\n",
       "      <td>TPTSYDLGAGYEYPTGANR</td>\n",
       "      <td>MBK9554347.1:MBL0280045.1:MBK9506720.1</td>\n",
       "      <td>NA</td>\n",
       "    </tr>\n",
       "    <tr>\n",
       "      <th>39</th>\n",
       "      <td>AGVAFSLIGVN(+.98)GSGTDQTQTELAHER</td>\n",
       "      <td>MBK7541638.1:MBK8897668.1:MBK9950702.1:MBK8963813.1:MBK7983791.1</td>\n",
       "      <td>NA</td>\n",
       "    </tr>\n",
       "    <tr>\n",
       "      <th>40</th>\n",
       "      <td>AGVAFSLIGVN(+.98)GSGTDQTQTELAHER</td>\n",
       "      <td>MBK7541638.1:MBK8897668.1:MBK9950702.1:MBK8963813.1:MBK7983791.1</td>\n",
       "      <td>NA</td>\n",
       "    </tr>\n",
       "    <tr>\n",
       "      <th>41</th>\n",
       "      <td>AGVAFSLIGVN(+.98)GSGTDQTQTELAHER</td>\n",
       "      <td>MBK7541638.1:MBK8897668.1:MBK9950702.1:MBK8963813.1:MBK7983791.1</td>\n",
       "      <td>NA</td>\n",
       "    </tr>\n",
       "    <tr>\n",
       "      <th>42</th>\n",
       "      <td>GAN(+.98)GGWVEYQWTKPGAEGNHR</td>\n",
       "      <td>MBK7983733.1:MBK8961530.1:MBK9950756.1:MBK7541278.1:MBK8897725.1</td>\n",
       "      <td>NA</td>\n",
       "    </tr>\n",
       "    <tr>\n",
       "      <th>43</th>\n",
       "      <td>GAN(+.98)GGWVEYQWTKPGAEGNHR</td>\n",
       "      <td>MBK7983733.1:MBK8961530.1:MBK9950756.1:MBK7541278.1:MBK8897725.1</td>\n",
       "      <td>NA</td>\n",
       "    </tr>\n",
       "    <tr>\n",
       "      <th>44</th>\n",
       "      <td>GAN(+.98)GGWVEYQWTKPGAEGNHR</td>\n",
       "      <td>MBK7983733.1:MBK8961530.1:MBK9950756.1:MBK7541278.1:MBK8897725.1</td>\n",
       "      <td>NA</td>\n",
       "    </tr>\n",
       "    <tr>\n",
       "      <th>45</th>\n",
       "      <td>GAN(+.98)GGWVEYQWTKPGAEGNHR</td>\n",
       "      <td>MBK7983733.1:MBK8961530.1:MBK9950756.1:MBK7541278.1:MBK8897725.1</td>\n",
       "      <td>NA</td>\n",
       "    </tr>\n",
       "    <tr>\n",
       "      <th>46</th>\n",
       "      <td>GAN(+.98)GGWVEYQWTKPGAEGNHR</td>\n",
       "      <td>MBK7983733.1:MBK8961530.1:MBK9950756.1:MBK7541278.1:MBK8897725.1</td>\n",
       "      <td>NA</td>\n",
       "    </tr>\n",
       "    <tr>\n",
       "      <th>47</th>\n",
       "      <td>GAN(+.98)GGWVEYQWTKPGAEGNHR</td>\n",
       "      <td>MBK7983733.1:MBK8961530.1:MBK9950756.1:MBK7541278.1:MBK8897725.1</td>\n",
       "      <td>NA</td>\n",
       "    </tr>\n",
       "    <tr>\n",
       "      <th>48</th>\n",
       "      <td>GAN(+.98)GGWVEYQWTKPGAEGNHR</td>\n",
       "      <td>MBK7983733.1:MBK8961530.1:MBK9950756.1:MBK7541278.1:MBK8897725.1</td>\n",
       "      <td>NA</td>\n",
       "    </tr>\n",
       "    <tr>\n",
       "      <th>49</th>\n",
       "      <td>SLDEGQRVEFDVTQGQK</td>\n",
       "      <td>MBL0003228.1:MBK6954763.1:MBK6442027.1:MBK7609905.1:MBK7273172.1:MBK6300809.1</td>\n",
       "      <td>NA</td>\n",
       "    </tr>\n",
       "  </tbody>\n",
       "</table>\n",
       "</div>"
      ],
      "text/plain": [
       "                             Peptide  \\\n",
       "0               LGEHNIDVLEGNEQFINAAK   \n",
       "1               LGEHNIDVLEGNEQFINAAK   \n",
       "2               LGEHNIDVLEGNEQFINAAK   \n",
       "3     GAHGDLMDEAAALQNYTVESADNSDIVVGR   \n",
       "4     GAHGDLMDEAAALQNYTVESADNSDIVVGR   \n",
       "5      KVSYVLPAGSYAVGAGVYDDTPVATLESK   \n",
       "6      KVSYVLPAGSYAVGAGVYDDTPVATLESK   \n",
       "7      KVSYVLPAGSYAVGAGVYDDTPVATLESK   \n",
       "8      KVSYVLPAGSYAVGAGVYDDTPVATLESK   \n",
       "9      KVSYVLPAGSYAVGAGVYDDTPVATLESK   \n",
       "10     KVSYVLPAGSYAVGAGVYDDTPVATLESK   \n",
       "11     KVSYVLPAGSYAVGAGVYDDTPVATLESK   \n",
       "12               LDWSDQTKNDTAIGPQDFR   \n",
       "13               LDWSDQTKNDTAIGPQDFR   \n",
       "14               LDWSDQTKNDTAIGPQDFR   \n",
       "15         LPQSSSGSGFGVGTGVGDVSGNSGR   \n",
       "16         LPQSSSGSGFGVGTGVGDVSGNSGR   \n",
       "17         LPQSSSGSGFGVGTGVGDVSGNSGR   \n",
       "18         LPQSSSGSGFGVGTGVGDVSGNSGR   \n",
       "19                NYSLTEHSMAPEVVVFSK   \n",
       "20                NYSLTEHSMAPEVVVFSK   \n",
       "21       GFGFIAQDAGGPDVFVHYSAIDSGGYR   \n",
       "22       GFGFIAQDAGGPDVFVHYSAIDSGGYR   \n",
       "23       GFGFIAQDAGGPDVFVHYSAIDSGGYR   \n",
       "24       GFGFIAQDAGGPDVFVHYSAIDSGGYR   \n",
       "25       GFGFIAQDAGGPDVFVHYSAIDSGGYR   \n",
       "26          RVEEETKSPGGIVLPGAAAEKPSR   \n",
       "27          RVEEETKSPGGIVLPGAAAEKPSR   \n",
       "28          RVEEETKSPGGIVLPGAAAEKPSR   \n",
       "29          RVEEETKSPGGIVLPGAAAEKPSR   \n",
       "30          RVEEETKSPGGIVLPGAAAEKPSR   \n",
       "31                 NSVANGPVAGLPVTAAR   \n",
       "32                 NSVANGPVAGLPVTAAR   \n",
       "33               KPDVIFLGGMDAVGGPMLK   \n",
       "34               KPDVIFLGGMDAVGGPMLK   \n",
       "35               KPDVIFLGGMDAVGGPMLK   \n",
       "36          VLGGLTDWTVTGLTPGTDYGFHVR   \n",
       "37          VLGGLTDWTVTGLTPGTDYGFHVR   \n",
       "38               TPTSYDLGAGYEYPTGANR   \n",
       "39  AGVAFSLIGVN(+.98)GSGTDQTQTELAHER   \n",
       "40  AGVAFSLIGVN(+.98)GSGTDQTQTELAHER   \n",
       "41  AGVAFSLIGVN(+.98)GSGTDQTQTELAHER   \n",
       "42       GAN(+.98)GGWVEYQWTKPGAEGNHR   \n",
       "43       GAN(+.98)GGWVEYQWTKPGAEGNHR   \n",
       "44       GAN(+.98)GGWVEYQWTKPGAEGNHR   \n",
       "45       GAN(+.98)GGWVEYQWTKPGAEGNHR   \n",
       "46       GAN(+.98)GGWVEYQWTKPGAEGNHR   \n",
       "47       GAN(+.98)GGWVEYQWTKPGAEGNHR   \n",
       "48       GAN(+.98)GGWVEYQWTKPGAEGNHR   \n",
       "49                 SLDEGQRVEFDVTQGQK   \n",
       "\n",
       "                                                                                                                                                                                                                                               Accession  \\\n",
       "0                                                                                                                                                                                                                                                    NaN   \n",
       "1                                                                                                                                                                                                                                                    NaN   \n",
       "2                                                                                                                                                                                                                                                    NaN   \n",
       "3                                                                                                                                                                                                      hypothetical protein IPI17_15100 [Nitrosomonas sp   \n",
       "4                                                                                                                                                                                                      hypothetical protein IPI17_15100 [Nitrosomonas sp   \n",
       "5                                                                                                                                                                                       MBK7983733.1:MBK8961530.1:MBK9950756.1:MBK7541278.1:MBK8897725.1   \n",
       "6                                                                                                                                                                                       MBK7983733.1:MBK8961530.1:MBK9950756.1:MBK7541278.1:MBK8897725.1   \n",
       "7                                                                                                                                                                                       MBK7983733.1:MBK8961530.1:MBK9950756.1:MBK7541278.1:MBK8897725.1   \n",
       "8                                                                                                                                                                                       MBK7983733.1:MBK8961530.1:MBK9950756.1:MBK7541278.1:MBK8897725.1   \n",
       "9                                                                                                                                                                                       MBK7983733.1:MBK8961530.1:MBK9950756.1:MBK7541278.1:MBK8897725.1   \n",
       "10                                                                                                                                                                                      MBK7983733.1:MBK8961530.1:MBK9950756.1:MBK7541278.1:MBK8897725.1   \n",
       "11                                                                                                                                                                                      MBK7983733.1:MBK8961530.1:MBK9950756.1:MBK7541278.1:MBK8897725.1   \n",
       "12                                                                                                                                                                                                  nitrite oxidoreductase  gamma subunit [Nitrospira sp   \n",
       "13                                                                                                                                                                                                  nitrite oxidoreductase  gamma subunit [Nitrospira sp   \n",
       "14                                                                                                                                                                                                  nitrite oxidoreductase  gamma subunit [Nitrospira sp   \n",
       "15   hypothetical protein IPM88_18770 [Nitrospira sp: hypothetical protein IPI70_17765 [Nitrospira sp: hypothetical protein IPO99_04415 [Nitrospira sp: hypothetical protein IPL14_18650 [Nitrospira sp: hypothetical protein IPJ44_16680 [Nitrospira sp   \n",
       "16   hypothetical protein IPM88_18770 [Nitrospira sp: hypothetical protein IPI70_17765 [Nitrospira sp: hypothetical protein IPO99_04415 [Nitrospira sp: hypothetical protein IPL14_18650 [Nitrospira sp: hypothetical protein IPJ44_16680 [Nitrospira sp   \n",
       "17   hypothetical protein IPM88_18770 [Nitrospira sp: hypothetical protein IPI70_17765 [Nitrospira sp: hypothetical protein IPO99_04415 [Nitrospira sp: hypothetical protein IPL14_18650 [Nitrospira sp: hypothetical protein IPJ44_16680 [Nitrospira sp   \n",
       "18   hypothetical protein IPM88_18770 [Nitrospira sp: hypothetical protein IPI70_17765 [Nitrospira sp: hypothetical protein IPO99_04415 [Nitrospira sp: hypothetical protein IPL14_18650 [Nitrospira sp: hypothetical protein IPJ44_16680 [Nitrospira sp   \n",
       "19                                                                                                                                                                                      MBK8898956.1:MBK8963896.1:MBK7982494.1:MBK9951961.1:MBK7541969.1   \n",
       "20                                                                                                                                                                                      MBK8898956.1:MBK8963896.1:MBK7982494.1:MBK9951961.1:MBK7541969.1   \n",
       "21                                                                                                                                                                         MBL0003228.1:MBK6954763.1:MBK6442027.1:MBK7609905.1:MBK7273172.1:MBK6300809.1   \n",
       "22                                                                                                                                                                         MBL0003228.1:MBK6954763.1:MBK6442027.1:MBK7609905.1:MBK7273172.1:MBK6300809.1   \n",
       "23                                                                                                                                                                         MBL0003228.1:MBK6954763.1:MBK6442027.1:MBK7609905.1:MBK7273172.1:MBK6300809.1   \n",
       "24                                                                                                                                                                         MBL0003228.1:MBK6954763.1:MBK6442027.1:MBK7609905.1:MBK7273172.1:MBK6300809.1   \n",
       "25                                                                                                                                                                         MBL0003228.1:MBK6954763.1:MBK6442027.1:MBK7609905.1:MBK7273172.1:MBK6300809.1   \n",
       "26                                                                                                                                                                         MBK9952571.1:MBK8897093.1:MBK8964575.1:MBK7541320.1:MBK7984659.1:MBK8507147.1   \n",
       "27                                                                                                                                                                         MBK9952571.1:MBK8897093.1:MBK8964575.1:MBK7541320.1:MBK7984659.1:MBK8507147.1   \n",
       "28                                                                                                                                                                         MBK9952571.1:MBK8897093.1:MBK8964575.1:MBK7541320.1:MBK7984659.1:MBK8507147.1   \n",
       "29                                                                                                                                                                         MBK9952571.1:MBK8897093.1:MBK8964575.1:MBK7541320.1:MBK7984659.1:MBK8507147.1   \n",
       "30                                                                                                                                                                         MBK9952571.1:MBK8897093.1:MBK8964575.1:MBK7541320.1:MBK7984659.1:MBK8507147.1   \n",
       "31                                                                                                                                                                                        hypothetical protein IPN78_18060 [Candidatus Accumulibacter sp   \n",
       "32                                                                                                                                                                                        hypothetical protein IPN78_18060 [Candidatus Accumulibacter sp   \n",
       "33                                                                                                                                                     branched-chain amino acid ABC transporter substrate-binding protein [Candidatus Accumulibacter sp   \n",
       "34                                                                                                                                                     branched-chain amino acid ABC transporter substrate-binding protein [Candidatus Accumulibacter sp   \n",
       "35                                                                                                                                                     branched-chain amino acid ABC transporter substrate-binding protein [Candidatus Accumulibacter sp   \n",
       "36                                                                                                                                                                                                   MBK9506472.1:MBK9456203.1:MBK9557624.1:MBL0280295.1   \n",
       "37                                                                                                                                                                                                   MBK9506472.1:MBK9456203.1:MBK9557624.1:MBL0280295.1   \n",
       "38                                                                                                                                                                                                                MBK9554347.1:MBL0280045.1:MBK9506720.1   \n",
       "39                                                                                                                                                                                      MBK7541638.1:MBK8897668.1:MBK9950702.1:MBK8963813.1:MBK7983791.1   \n",
       "40                                                                                                                                                                                      MBK7541638.1:MBK8897668.1:MBK9950702.1:MBK8963813.1:MBK7983791.1   \n",
       "41                                                                                                                                                                                      MBK7541638.1:MBK8897668.1:MBK9950702.1:MBK8963813.1:MBK7983791.1   \n",
       "42                                                                                                                                                                                      MBK7983733.1:MBK8961530.1:MBK9950756.1:MBK7541278.1:MBK8897725.1   \n",
       "43                                                                                                                                                                                      MBK7983733.1:MBK8961530.1:MBK9950756.1:MBK7541278.1:MBK8897725.1   \n",
       "44                                                                                                                                                                                      MBK7983733.1:MBK8961530.1:MBK9950756.1:MBK7541278.1:MBK8897725.1   \n",
       "45                                                                                                                                                                                      MBK7983733.1:MBK8961530.1:MBK9950756.1:MBK7541278.1:MBK8897725.1   \n",
       "46                                                                                                                                                                                      MBK7983733.1:MBK8961530.1:MBK9950756.1:MBK7541278.1:MBK8897725.1   \n",
       "47                                                                                                                                                                                      MBK7983733.1:MBK8961530.1:MBK9950756.1:MBK7541278.1:MBK8897725.1   \n",
       "48                                                                                                                                                                                      MBK7983733.1:MBK8961530.1:MBK9950756.1:MBK7541278.1:MBK8897725.1   \n",
       "49                                                                                                                                                                         MBL0003228.1:MBK6954763.1:MBK6442027.1:MBK7609905.1:MBK7273172.1:MBK6300809.1   \n",
       "\n",
       "                     Taxon_names  \n",
       "0                             NA  \n",
       "1                             NA  \n",
       "2                             NA  \n",
       "3                Nitrosomonas sp  \n",
       "4                Nitrosomonas sp  \n",
       "5                             NA  \n",
       "6                             NA  \n",
       "7                             NA  \n",
       "8                             NA  \n",
       "9                             NA  \n",
       "10                            NA  \n",
       "11                            NA  \n",
       "12                 Nitrospira sp  \n",
       "13                 Nitrospira sp  \n",
       "14                 Nitrospira sp  \n",
       "15                 Nitrospira sp  \n",
       "16                 Nitrospira sp  \n",
       "17                 Nitrospira sp  \n",
       "18                 Nitrospira sp  \n",
       "19                            NA  \n",
       "20                            NA  \n",
       "21                            NA  \n",
       "22                            NA  \n",
       "23                            NA  \n",
       "24                            NA  \n",
       "25                            NA  \n",
       "26                            NA  \n",
       "27                            NA  \n",
       "28                            NA  \n",
       "29                            NA  \n",
       "30                            NA  \n",
       "31  Candidatus Accumulibacter sp  \n",
       "32  Candidatus Accumulibacter sp  \n",
       "33  Candidatus Accumulibacter sp  \n",
       "34  Candidatus Accumulibacter sp  \n",
       "35  Candidatus Accumulibacter sp  \n",
       "36                            NA  \n",
       "37                            NA  \n",
       "38                            NA  \n",
       "39                            NA  \n",
       "40                            NA  \n",
       "41                            NA  \n",
       "42                            NA  \n",
       "43                            NA  \n",
       "44                            NA  \n",
       "45                            NA  \n",
       "46                            NA  \n",
       "47                            NA  \n",
       "48                            NA  \n",
       "49                            NA  "
      ]
     },
     "metadata": {},
     "output_type": "display_data"
    }
   ],
   "source": [
    "import pandas as pd\n",
    "import re\n",
    "from IPython.display import display\n",
    "\n",
    "def extract_clean_taxon(text):\n",
    "    \"\"\"\n",
    "    Extract only the organism name from within brackets.\n",
    "    Takes the text after '[' and stops at ':' or ']' or ','.\n",
    "    \"\"\"\n",
    "    if pd.isna(text):\n",
    "        return \"NA\"\n",
    "    \n",
    "    if \"[\" in text:\n",
    "        match = re.search(r\"\\[([^\\[\\]]+)\", text)  # match everything after [\n",
    "        if match:\n",
    "            raw = match.group(1)\n",
    "            # Split at ':' first, if present\n",
    "            taxon = raw.split(\":\")[0]\n",
    "            # Clean any trailing commas, DB flags, or whitespaces\n",
    "            taxon = re.split(r\",|\\||\\s+PEAKS|\\s+DB\", taxon)[0].strip()\n",
    "            return taxon if taxon else \"NA\"\n",
    "    return \"NA\"\n",
    "\n",
    "df[\"Taxon_names\"] = df[\"Accession\"].apply(extract_clean_taxon)\n",
    "\n",
    "total = len(df)\n",
    "with_brackets = df[\"Accession\"].astype(str).str.contains(r\"\\[\").sum()\n",
    "extracted = (df[\"Taxon_names\"] != \"NA\").sum()\n",
    "\n",
    "print(f\"\\nClean extraction complete.\")\n",
    "print(f\"Entries with brackets: {with_brackets} / {total}\")\n",
    "print(f\"Clean taxon names extracted: {extracted}\")\n",
    "\n",
    "pd.set_option(\"display.max_colwidth\", None)\n",
    "display(df[[\"Peptide\", \"Accession\", \"Taxon_names\"]].head(50))\n"
   ]
  },
  {
   "cell_type": "code",
   "execution_count": 33,
   "id": "aead3c1a",
   "metadata": {},
   "outputs": [
    {
     "name": "stdout",
     "output_type": "stream",
     "text": [
      "🧼 Cleaned peptides shape: (3539, 20)\n"
     ]
    },
    {
     "data": {
      "text/html": [
       "<div>\n",
       "<style scoped>\n",
       "    .dataframe tbody tr th:only-of-type {\n",
       "        vertical-align: middle;\n",
       "    }\n",
       "\n",
       "    .dataframe tbody tr th {\n",
       "        vertical-align: top;\n",
       "    }\n",
       "\n",
       "    .dataframe thead th {\n",
       "        text-align: right;\n",
       "    }\n",
       "</style>\n",
       "<table border=\"1\" class=\"dataframe\">\n",
       "  <thead>\n",
       "    <tr style=\"text-align: right;\">\n",
       "      <th></th>\n",
       "      <th>Peptide</th>\n",
       "      <th>Cleaned_Sequence</th>\n",
       "    </tr>\n",
       "  </thead>\n",
       "  <tbody>\n",
       "    <tr>\n",
       "      <th>39</th>\n",
       "      <td>AGVAFSLIGVN(+.98)GSGTDQTQTELAHER</td>\n",
       "      <td>AGVAFSIIGVNGSGTDQTQTEIAHER</td>\n",
       "    </tr>\n",
       "    <tr>\n",
       "      <th>40</th>\n",
       "      <td>AGVAFSLIGVN(+.98)GSGTDQTQTELAHER</td>\n",
       "      <td>AGVAFSIIGVNGSGTDQTQTEIAHER</td>\n",
       "    </tr>\n",
       "    <tr>\n",
       "      <th>41</th>\n",
       "      <td>AGVAFSLIGVN(+.98)GSGTDQTQTELAHER</td>\n",
       "      <td>AGVAFSIIGVNGSGTDQTQTEIAHER</td>\n",
       "    </tr>\n",
       "    <tr>\n",
       "      <th>42</th>\n",
       "      <td>GAN(+.98)GGWVEYQWTKPGAEGNHR</td>\n",
       "      <td>GANGGWVEYQWTKPGAEGNHR</td>\n",
       "    </tr>\n",
       "    <tr>\n",
       "      <th>43</th>\n",
       "      <td>GAN(+.98)GGWVEYQWTKPGAEGNHR</td>\n",
       "      <td>GANGGWVEYQWTKPGAEGNHR</td>\n",
       "    </tr>\n",
       "    <tr>\n",
       "      <th>44</th>\n",
       "      <td>GAN(+.98)GGWVEYQWTKPGAEGNHR</td>\n",
       "      <td>GANGGWVEYQWTKPGAEGNHR</td>\n",
       "    </tr>\n",
       "    <tr>\n",
       "      <th>45</th>\n",
       "      <td>GAN(+.98)GGWVEYQWTKPGAEGNHR</td>\n",
       "      <td>GANGGWVEYQWTKPGAEGNHR</td>\n",
       "    </tr>\n",
       "    <tr>\n",
       "      <th>46</th>\n",
       "      <td>GAN(+.98)GGWVEYQWTKPGAEGNHR</td>\n",
       "      <td>GANGGWVEYQWTKPGAEGNHR</td>\n",
       "    </tr>\n",
       "    <tr>\n",
       "      <th>47</th>\n",
       "      <td>GAN(+.98)GGWVEYQWTKPGAEGNHR</td>\n",
       "      <td>GANGGWVEYQWTKPGAEGNHR</td>\n",
       "    </tr>\n",
       "    <tr>\n",
       "      <th>48</th>\n",
       "      <td>GAN(+.98)GGWVEYQWTKPGAEGNHR</td>\n",
       "      <td>GANGGWVEYQWTKPGAEGNHR</td>\n",
       "    </tr>\n",
       "  </tbody>\n",
       "</table>\n",
       "</div>"
      ],
      "text/plain": [
       "                             Peptide            Cleaned_Sequence\n",
       "39  AGVAFSLIGVN(+.98)GSGTDQTQTELAHER  AGVAFSIIGVNGSGTDQTQTEIAHER\n",
       "40  AGVAFSLIGVN(+.98)GSGTDQTQTELAHER  AGVAFSIIGVNGSGTDQTQTEIAHER\n",
       "41  AGVAFSLIGVN(+.98)GSGTDQTQTELAHER  AGVAFSIIGVNGSGTDQTQTEIAHER\n",
       "42       GAN(+.98)GGWVEYQWTKPGAEGNHR       GANGGWVEYQWTKPGAEGNHR\n",
       "43       GAN(+.98)GGWVEYQWTKPGAEGNHR       GANGGWVEYQWTKPGAEGNHR\n",
       "44       GAN(+.98)GGWVEYQWTKPGAEGNHR       GANGGWVEYQWTKPGAEGNHR\n",
       "45       GAN(+.98)GGWVEYQWTKPGAEGNHR       GANGGWVEYQWTKPGAEGNHR\n",
       "46       GAN(+.98)GGWVEYQWTKPGAEGNHR       GANGGWVEYQWTKPGAEGNHR\n",
       "47       GAN(+.98)GGWVEYQWTKPGAEGNHR       GANGGWVEYQWTKPGAEGNHR\n",
       "48       GAN(+.98)GGWVEYQWTKPGAEGNHR       GANGGWVEYQWTKPGAEGNHR"
      ]
     },
     "metadata": {},
     "output_type": "display_data"
    }
   ],
   "source": [
    "import pandas as pd\n",
    "import re\n",
    "\n",
    "def wrangle_peptides(sequence: str, ptm_filter: bool=True, li_swap: bool=True) -> str:\n",
    "    if ptm_filter:\n",
    "        sequence = \"\".join(re.findall(r\"[A-Z]+\", sequence))\n",
    "    if li_swap:\n",
    "        sequence = sequence.replace(\"L\", \"I\")\n",
    "    return sequence\n",
    "\n",
    "# Only filter rows with NA in Taxon_names\n",
    "filtered_df = df[df[\"Taxon_names\"] == \"NA\"].copy()\n",
    "\n",
    "# Clean peptides\n",
    "filtered_df[\"Cleaned_Sequence\"] = filtered_df[\"Peptide\"].apply(wrangle_peptides)\n",
    "\n",
    "print(f\"🧼 Cleaned peptides shape: {filtered_df.shape}\")\n",
    "display(filtered_df[[\"Peptide\", \"Cleaned_Sequence\"]][25:35])\n"
   ]
  },
  {
   "cell_type": "code",
   "execution_count": 34,
   "id": "aac33c33",
   "metadata": {},
   "outputs": [
    {
     "name": "stdout",
     "output_type": "stream",
     "text": [
      "\n",
      "🔄 Processing batch 0–99...\n"
     ]
    },
    {
     "name": "stderr",
     "output_type": "stream",
     "text": [
      "100%|██████████| 100/100 [00:26<00:00,  3.84it/s]\n"
     ]
    },
    {
     "name": "stdout",
     "output_type": "stream",
     "text": [
      "\n",
      "🔄 Processing batch 100–199...\n"
     ]
    },
    {
     "name": "stderr",
     "output_type": "stream",
     "text": [
      "100%|██████████| 100/100 [00:24<00:00,  4.07it/s]\n"
     ]
    },
    {
     "name": "stdout",
     "output_type": "stream",
     "text": [
      "\n",
      "🔄 Processing batch 200–299...\n"
     ]
    },
    {
     "name": "stderr",
     "output_type": "stream",
     "text": [
      "100%|██████████| 100/100 [00:25<00:00,  3.99it/s]\n"
     ]
    },
    {
     "name": "stdout",
     "output_type": "stream",
     "text": [
      "\n",
      "🔄 Processing batch 300–399...\n"
     ]
    },
    {
     "name": "stderr",
     "output_type": "stream",
     "text": [
      "100%|██████████| 100/100 [00:25<00:00,  3.92it/s]\n"
     ]
    },
    {
     "name": "stdout",
     "output_type": "stream",
     "text": [
      "\n",
      "🔄 Processing batch 400–499...\n"
     ]
    },
    {
     "name": "stderr",
     "output_type": "stream",
     "text": [
      "100%|██████████| 100/100 [00:35<00:00,  2.80it/s]\n"
     ]
    },
    {
     "name": "stdout",
     "output_type": "stream",
     "text": [
      "\n",
      "🔄 Processing batch 500–599...\n"
     ]
    },
    {
     "name": "stderr",
     "output_type": "stream",
     "text": [
      "100%|██████████| 100/100 [00:26<00:00,  3.82it/s]\n"
     ]
    },
    {
     "name": "stdout",
     "output_type": "stream",
     "text": [
      "\n",
      "🔄 Processing batch 600–699...\n"
     ]
    },
    {
     "name": "stderr",
     "output_type": "stream",
     "text": [
      "100%|██████████| 100/100 [00:25<00:00,  3.88it/s]\n"
     ]
    },
    {
     "name": "stdout",
     "output_type": "stream",
     "text": [
      "\n",
      "🔄 Processing batch 700–799...\n"
     ]
    },
    {
     "name": "stderr",
     "output_type": "stream",
     "text": [
      "100%|██████████| 100/100 [00:25<00:00,  3.85it/s]\n"
     ]
    },
    {
     "name": "stdout",
     "output_type": "stream",
     "text": [
      "\n",
      "🔄 Processing batch 800–899...\n"
     ]
    },
    {
     "name": "stderr",
     "output_type": "stream",
     "text": [
      "100%|██████████| 100/100 [00:25<00:00,  3.91it/s]\n"
     ]
    },
    {
     "name": "stdout",
     "output_type": "stream",
     "text": [
      "\n",
      "🔄 Processing batch 900–999...\n"
     ]
    },
    {
     "name": "stderr",
     "output_type": "stream",
     "text": [
      "100%|██████████| 100/100 [00:33<00:00,  3.00it/s]\n"
     ]
    },
    {
     "name": "stdout",
     "output_type": "stream",
     "text": [
      "\n",
      "🔄 Processing batch 1000–1099...\n"
     ]
    },
    {
     "name": "stderr",
     "output_type": "stream",
     "text": [
      "100%|██████████| 100/100 [00:27<00:00,  3.62it/s]\n"
     ]
    },
    {
     "name": "stdout",
     "output_type": "stream",
     "text": [
      "\n",
      "🔄 Processing batch 1100–1199...\n"
     ]
    },
    {
     "name": "stderr",
     "output_type": "stream",
     "text": [
      "100%|██████████| 100/100 [00:24<00:00,  4.05it/s]\n"
     ]
    },
    {
     "name": "stdout",
     "output_type": "stream",
     "text": [
      "\n",
      "🔄 Processing batch 1200–1299...\n"
     ]
    },
    {
     "name": "stderr",
     "output_type": "stream",
     "text": [
      "100%|██████████| 100/100 [00:26<00:00,  3.80it/s]\n"
     ]
    },
    {
     "name": "stdout",
     "output_type": "stream",
     "text": [
      "\n",
      "🔄 Processing batch 1300–1399...\n"
     ]
    },
    {
     "name": "stderr",
     "output_type": "stream",
     "text": [
      "100%|██████████| 100/100 [00:25<00:00,  3.94it/s]\n"
     ]
    },
    {
     "name": "stdout",
     "output_type": "stream",
     "text": [
      "\n",
      "🔄 Processing batch 1400–1499...\n"
     ]
    },
    {
     "name": "stderr",
     "output_type": "stream",
     "text": [
      "100%|██████████| 100/100 [00:26<00:00,  3.83it/s]\n"
     ]
    },
    {
     "name": "stdout",
     "output_type": "stream",
     "text": [
      "\n",
      "🔄 Processing batch 1500–1599...\n"
     ]
    },
    {
     "name": "stderr",
     "output_type": "stream",
     "text": [
      "100%|██████████| 100/100 [00:34<00:00,  2.87it/s]\n"
     ]
    },
    {
     "name": "stdout",
     "output_type": "stream",
     "text": [
      "\n",
      "🔄 Processing batch 1600–1699...\n"
     ]
    },
    {
     "name": "stderr",
     "output_type": "stream",
     "text": [
      "100%|██████████| 100/100 [00:26<00:00,  3.71it/s]\n"
     ]
    },
    {
     "name": "stdout",
     "output_type": "stream",
     "text": [
      "\n",
      "🔄 Processing batch 1700–1799...\n"
     ]
    },
    {
     "name": "stderr",
     "output_type": "stream",
     "text": [
      "100%|██████████| 100/100 [00:35<00:00,  2.78it/s]\n"
     ]
    },
    {
     "name": "stdout",
     "output_type": "stream",
     "text": [
      "\n",
      "🔄 Processing batch 1800–1899...\n"
     ]
    },
    {
     "name": "stderr",
     "output_type": "stream",
     "text": [
      "100%|██████████| 100/100 [00:26<00:00,  3.80it/s]\n"
     ]
    },
    {
     "name": "stdout",
     "output_type": "stream",
     "text": [
      "\n",
      "🔄 Processing batch 1900–1999...\n"
     ]
    },
    {
     "name": "stderr",
     "output_type": "stream",
     "text": [
      "100%|██████████| 100/100 [00:33<00:00,  2.99it/s]\n"
     ]
    },
    {
     "name": "stdout",
     "output_type": "stream",
     "text": [
      "\n",
      "🔄 Processing batch 2000–2099...\n"
     ]
    },
    {
     "name": "stderr",
     "output_type": "stream",
     "text": [
      "100%|██████████| 100/100 [00:25<00:00,  3.93it/s]\n"
     ]
    },
    {
     "name": "stdout",
     "output_type": "stream",
     "text": [
      "\n",
      "🔄 Processing batch 2100–2199...\n"
     ]
    },
    {
     "name": "stderr",
     "output_type": "stream",
     "text": [
      "100%|██████████| 100/100 [00:26<00:00,  3.80it/s]\n"
     ]
    },
    {
     "name": "stdout",
     "output_type": "stream",
     "text": [
      "\n",
      "🔄 Processing batch 2200–2299...\n"
     ]
    },
    {
     "name": "stderr",
     "output_type": "stream",
     "text": [
      "100%|██████████| 100/100 [00:35<00:00,  2.82it/s]\n"
     ]
    },
    {
     "name": "stdout",
     "output_type": "stream",
     "text": [
      "\n",
      "🔄 Processing batch 2300–2399...\n"
     ]
    },
    {
     "name": "stderr",
     "output_type": "stream",
     "text": [
      "100%|██████████| 100/100 [00:24<00:00,  4.16it/s]\n"
     ]
    },
    {
     "name": "stdout",
     "output_type": "stream",
     "text": [
      "\n",
      "🔄 Processing batch 2400–2499...\n"
     ]
    },
    {
     "name": "stderr",
     "output_type": "stream",
     "text": [
      "100%|██████████| 100/100 [00:34<00:00,  2.88it/s]\n"
     ]
    },
    {
     "name": "stdout",
     "output_type": "stream",
     "text": [
      "\n",
      "🔄 Processing batch 2500–2599...\n"
     ]
    },
    {
     "name": "stderr",
     "output_type": "stream",
     "text": [
      "100%|██████████| 100/100 [00:25<00:00,  3.88it/s]\n"
     ]
    },
    {
     "name": "stdout",
     "output_type": "stream",
     "text": [
      "\n",
      "🔄 Processing batch 2600–2699...\n"
     ]
    },
    {
     "name": "stderr",
     "output_type": "stream",
     "text": [
      "100%|██████████| 100/100 [00:26<00:00,  3.77it/s]\n"
     ]
    },
    {
     "name": "stdout",
     "output_type": "stream",
     "text": [
      "\n",
      "🔄 Processing batch 2700–2799...\n"
     ]
    },
    {
     "name": "stderr",
     "output_type": "stream",
     "text": [
      "100%|██████████| 100/100 [00:33<00:00,  2.96it/s]\n"
     ]
    },
    {
     "name": "stdout",
     "output_type": "stream",
     "text": [
      "\n",
      "🔄 Processing batch 2800–2899...\n"
     ]
    },
    {
     "name": "stderr",
     "output_type": "stream",
     "text": [
      "100%|██████████| 100/100 [00:25<00:00,  3.91it/s]\n"
     ]
    },
    {
     "name": "stdout",
     "output_type": "stream",
     "text": [
      "\n",
      "🔄 Processing batch 2900–2999...\n"
     ]
    },
    {
     "name": "stderr",
     "output_type": "stream",
     "text": [
      "100%|██████████| 100/100 [00:26<00:00,  3.82it/s]\n"
     ]
    },
    {
     "name": "stdout",
     "output_type": "stream",
     "text": [
      "\n",
      "🔄 Processing batch 3000–3099...\n"
     ]
    },
    {
     "name": "stderr",
     "output_type": "stream",
     "text": [
      "100%|██████████| 100/100 [00:27<00:00,  3.70it/s]\n"
     ]
    },
    {
     "name": "stdout",
     "output_type": "stream",
     "text": [
      "\n",
      "🔄 Processing batch 3100–3199...\n"
     ]
    },
    {
     "name": "stderr",
     "output_type": "stream",
     "text": [
      "100%|██████████| 100/100 [00:27<00:00,  3.65it/s]\n"
     ]
    },
    {
     "name": "stdout",
     "output_type": "stream",
     "text": [
      "\n",
      "🔄 Processing batch 3200–3299...\n"
     ]
    },
    {
     "name": "stderr",
     "output_type": "stream",
     "text": [
      "100%|██████████| 100/100 [00:35<00:00,  2.79it/s]\n"
     ]
    },
    {
     "name": "stdout",
     "output_type": "stream",
     "text": [
      "\n",
      "🔄 Processing batch 3300–3399...\n"
     ]
    },
    {
     "name": "stderr",
     "output_type": "stream",
     "text": [
      "100%|██████████| 100/100 [00:26<00:00,  3.77it/s]\n"
     ]
    },
    {
     "name": "stdout",
     "output_type": "stream",
     "text": [
      "\n",
      "🔄 Processing batch 3400–3499...\n"
     ]
    },
    {
     "name": "stderr",
     "output_type": "stream",
     "text": [
      "100%|██████████| 100/100 [00:35<00:00,  2.78it/s]\n"
     ]
    },
    {
     "name": "stdout",
     "output_type": "stream",
     "text": [
      "\n",
      "🔄 Processing batch 3500–3538...\n"
     ]
    },
    {
     "name": "stderr",
     "output_type": "stream",
     "text": [
      "100%|██████████| 39/39 [00:10<00:00,  3.66it/s]"
     ]
    },
    {
     "name": "stdout",
     "output_type": "stream",
     "text": [
      "\n",
      "✅ UniPept querying complete.\n",
      "🧬 Taxon names from pept2lca: 1175\n",
      "🔁 Taxon names from pept2taxa (fallback): 1570\n",
      "💾 Updated DataFrame saved to: metaproteomics_updated_taxa.csv\n",
      "📊 Total valid taxon names now: 4482 / 5276\n"
     ]
    },
    {
     "name": "stderr",
     "output_type": "stream",
     "text": [
      "\n"
     ]
    },
    {
     "data": {
      "text/html": [
       "<div>\n",
       "<style scoped>\n",
       "    .dataframe tbody tr th:only-of-type {\n",
       "        vertical-align: middle;\n",
       "    }\n",
       "\n",
       "    .dataframe tbody tr th {\n",
       "        vertical-align: top;\n",
       "    }\n",
       "\n",
       "    .dataframe thead th {\n",
       "        text-align: right;\n",
       "    }\n",
       "</style>\n",
       "<table border=\"1\" class=\"dataframe\">\n",
       "  <thead>\n",
       "    <tr style=\"text-align: right;\">\n",
       "      <th></th>\n",
       "      <th>Peptide</th>\n",
       "      <th>Taxon_names</th>\n",
       "      <th>Taxon_rank</th>\n",
       "    </tr>\n",
       "  </thead>\n",
       "  <tbody>\n",
       "    <tr>\n",
       "      <th>0</th>\n",
       "      <td>LGEHNIDVLEGNEQFINAAK</td>\n",
       "      <td>Sus scrofa</td>\n",
       "      <td>species</td>\n",
       "    </tr>\n",
       "    <tr>\n",
       "      <th>1</th>\n",
       "      <td>LGEHNIDVLEGNEQFINAAK</td>\n",
       "      <td>Sus scrofa</td>\n",
       "      <td>species</td>\n",
       "    </tr>\n",
       "    <tr>\n",
       "      <th>2</th>\n",
       "      <td>LGEHNIDVLEGNEQFINAAK</td>\n",
       "      <td>Sus scrofa</td>\n",
       "      <td>species</td>\n",
       "    </tr>\n",
       "    <tr>\n",
       "      <th>5</th>\n",
       "      <td>KVSYVLPAGSYAVGAGVYDDTPVATLESK</td>\n",
       "      <td>Candidatus Competibacteraceae bacterium</td>\n",
       "      <td>species</td>\n",
       "    </tr>\n",
       "    <tr>\n",
       "      <th>6</th>\n",
       "      <td>KVSYVLPAGSYAVGAGVYDDTPVATLESK</td>\n",
       "      <td>Candidatus Competibacteraceae bacterium</td>\n",
       "      <td>species</td>\n",
       "    </tr>\n",
       "    <tr>\n",
       "      <th>7</th>\n",
       "      <td>KVSYVLPAGSYAVGAGVYDDTPVATLESK</td>\n",
       "      <td>Candidatus Competibacteraceae bacterium</td>\n",
       "      <td>species</td>\n",
       "    </tr>\n",
       "    <tr>\n",
       "      <th>8</th>\n",
       "      <td>KVSYVLPAGSYAVGAGVYDDTPVATLESK</td>\n",
       "      <td>Candidatus Competibacteraceae bacterium</td>\n",
       "      <td>species</td>\n",
       "    </tr>\n",
       "    <tr>\n",
       "      <th>9</th>\n",
       "      <td>KVSYVLPAGSYAVGAGVYDDTPVATLESK</td>\n",
       "      <td>Candidatus Competibacteraceae bacterium</td>\n",
       "      <td>species</td>\n",
       "    </tr>\n",
       "    <tr>\n",
       "      <th>10</th>\n",
       "      <td>KVSYVLPAGSYAVGAGVYDDTPVATLESK</td>\n",
       "      <td>Candidatus Competibacteraceae bacterium</td>\n",
       "      <td>species</td>\n",
       "    </tr>\n",
       "    <tr>\n",
       "      <th>11</th>\n",
       "      <td>KVSYVLPAGSYAVGAGVYDDTPVATLESK</td>\n",
       "      <td>Candidatus Competibacteraceae bacterium</td>\n",
       "      <td>species</td>\n",
       "    </tr>\n",
       "  </tbody>\n",
       "</table>\n",
       "</div>"
      ],
      "text/plain": [
       "                          Peptide                              Taxon_names  \\\n",
       "0            LGEHNIDVLEGNEQFINAAK                               Sus scrofa   \n",
       "1            LGEHNIDVLEGNEQFINAAK                               Sus scrofa   \n",
       "2            LGEHNIDVLEGNEQFINAAK                               Sus scrofa   \n",
       "5   KVSYVLPAGSYAVGAGVYDDTPVATLESK  Candidatus Competibacteraceae bacterium   \n",
       "6   KVSYVLPAGSYAVGAGVYDDTPVATLESK  Candidatus Competibacteraceae bacterium   \n",
       "7   KVSYVLPAGSYAVGAGVYDDTPVATLESK  Candidatus Competibacteraceae bacterium   \n",
       "8   KVSYVLPAGSYAVGAGVYDDTPVATLESK  Candidatus Competibacteraceae bacterium   \n",
       "9   KVSYVLPAGSYAVGAGVYDDTPVATLESK  Candidatus Competibacteraceae bacterium   \n",
       "10  KVSYVLPAGSYAVGAGVYDDTPVATLESK  Candidatus Competibacteraceae bacterium   \n",
       "11  KVSYVLPAGSYAVGAGVYDDTPVATLESK  Candidatus Competibacteraceae bacterium   \n",
       "\n",
       "   Taxon_rank  \n",
       "0     species  \n",
       "1     species  \n",
       "2     species  \n",
       "5     species  \n",
       "6     species  \n",
       "7     species  \n",
       "8     species  \n",
       "9     species  \n",
       "10    species  \n",
       "11    species  "
      ]
     },
     "metadata": {},
     "output_type": "display_data"
    }
   ],
   "source": [
    "import requests\n",
    "from tqdm import tqdm\n",
    "import time\n",
    "\n",
    "# === Settings ===\n",
    "batch_size = 100\n",
    "output_taxa = []\n",
    "output_ranks = []\n",
    "indices = []\n",
    "\n",
    "lca_count = 0\n",
    "taxa_count = 0\n",
    "\n",
    "# Rank specificity hierarchy\n",
    "rank_order = [\n",
    "    \"strain\", \"species\", \"subspecies\", \"genus\", \"subgenus\", \"family\",\n",
    "    \"order\", \"class\", \"phylum\", \"kingdom\", \"superkingdom\"\n",
    "]\n",
    "\n",
    "# === Main Loop ===\n",
    "for start in range(0, len(filtered_df), batch_size):\n",
    "    batch = filtered_df.iloc[start:start+batch_size]\n",
    "    print(f\"\\n🔄 Processing batch {start}–{start+len(batch)-1}...\")\n",
    "\n",
    "    for i, row in tqdm(batch.iterrows(), total=len(batch)):\n",
    "        pep = row[\"Cleaned_Sequence\"]\n",
    "        index = row.name\n",
    "\n",
    "        taxon_name = \"NA\"\n",
    "        taxon_rank = \"NA\"\n",
    "\n",
    "        # === Try pept2lca first ===\n",
    "        lca_url = f\"https://api.unipept.ugent.be/api/v2/pept2lca.json?input[]={pep}\"\n",
    "        try:\n",
    "            r1 = requests.get(lca_url, timeout=10)\n",
    "            r1.raise_for_status()\n",
    "            result = r1.json()\n",
    "            if result:\n",
    "                entry = result[0]\n",
    "                if entry[\"taxon_name\"].lower() not in [\"na\", \"root\"]:\n",
    "                    taxon_name = entry[\"taxon_name\"]\n",
    "                    taxon_rank = entry.get(\"taxon_rank\", \"NA\")\n",
    "                    lca_count += 1\n",
    "        except Exception as e:\n",
    "            print(f\"⚠️ pept2lca failed for {pep}: {e}\")\n",
    "\n",
    "        # === Fallback to pept2taxa ===\n",
    "        if taxon_name == \"NA\":\n",
    "            taxa_url = f\"https://api.unipept.ugent.be/api/v2/pept2taxa.json?input[]={pep}\"\n",
    "            try:\n",
    "                r2 = requests.get(taxa_url, timeout=10)\n",
    "                r2.raise_for_status()\n",
    "                result = r2.json()\n",
    "\n",
    "                ranked = [\n",
    "                    (hit[\"taxon_name\"], hit[\"taxon_rank\"])\n",
    "                    for hit in result\n",
    "                    if hit.get(\"taxon_name\", \"\").lower() not in [\"na\", \"root\"]\n",
    "                    and hit.get(\"taxon_rank\") in rank_order\n",
    "                ]\n",
    "\n",
    "                if ranked:\n",
    "                    ranked.sort(key=lambda x: rank_order.index(x[1]))\n",
    "                    taxon_name, taxon_rank = ranked[0]\n",
    "                    taxa_count += 1\n",
    "            except Exception as e:\n",
    "                print(f\"❌ pept2taxa also failed for {pep}: {e}\")\n",
    "\n",
    "        output_taxa.append(taxon_name)\n",
    "        output_ranks.append(taxon_rank)\n",
    "        indices.append(index)\n",
    "\n",
    "        time.sleep(0.1)\n",
    "\n",
    "# === Apply to DataFrame ===\n",
    "df.loc[indices, \"Taxon_names\"] = output_taxa\n",
    "df.loc[indices, \"Taxon_rank\"] = output_ranks\n",
    "\n",
    "# === Save results ===\n",
    "output_path = \"metaproteomics_updated_taxa.csv\"\n",
    "df.to_csv(output_path, index=False)\n",
    "\n",
    "# === Summary ===\n",
    "print(\"\\n✅ UniPept querying complete.\")\n",
    "print(f\"🧬 Taxon names from pept2lca: {lca_count}\")\n",
    "print(f\"🔁 Taxon names from pept2taxa (fallback): {taxa_count}\")\n",
    "print(f\"💾 Updated DataFrame saved to: {output_path}\")\n",
    "print(f\"📊 Total valid taxon names now: {df['Taxon_names'].ne('NA').sum()} / {len(df)}\")\n",
    "\n",
    "# Optional preview\n",
    "display(df[df.index.isin(indices)][[\"Peptide\", \"Taxon_names\", \"Taxon_rank\"]].head(10))\n"
   ]
  },
  {
   "cell_type": "code",
   "execution_count": 39,
   "id": "07941d78",
   "metadata": {},
   "outputs": [
    {
     "name": "stdout",
     "output_type": "stream",
     "text": [
      "🔎 Rows with multiple organism names: 0\n",
      "📊 Out of total valid taxon name rows: 4482\n"
     ]
    }
   ],
   "source": [
    "# Count rows with multiple taxon names (separated by ';')\n",
    "multiple_taxa = df[\"Taxon_names\"].astype(str).str.contains(\";\").sum()\n",
    "\n",
    "# Total rows with taxon names (non-NA)\n",
    "non_na = df[\"Taxon_names\"].ne(\"NA\").sum()\n",
    "\n",
    "print(f\"🔎 Rows with multiple organism names: {multiple_taxa}\")\n",
    "print(f\"📊 Out of total valid taxon name rows: {non_na}\")\n"
   ]
  },
  {
   "cell_type": "code",
   "execution_count": 4,
   "id": "26c2138c",
   "metadata": {},
   "outputs": [
    {
     "name": "stdout",
     "output_type": "stream",
     "text": [
      "🔍 Unique taxa to fetch ranks for: 4\n"
     ]
    },
    {
     "name": "stderr",
     "output_type": "stream",
     "text": [
      "🚀 Fetching taxon ranks: 100%|██████████| 4/4 [00:01<00:00,  2.76it/s]"
     ]
    },
    {
     "name": "stdout",
     "output_type": "stream",
     "text": [
      "✅ All taxon_rank values updated and saved to 'metaproteomics_updated_taxa.csv'.\n"
     ]
    },
    {
     "name": "stderr",
     "output_type": "stream",
     "text": [
      "\n"
     ]
    }
   ],
   "source": [
    "import pandas as pd\n",
    "from tqdm import tqdm\n",
    "from Bio import Entrez\n",
    "from concurrent.futures import ThreadPoolExecutor, as_completed\n",
    "import time\n",
    "\n",
    "# === Settings ===\n",
    "Entrez.email = \"your_email@example.com\"  # Replace with your email\n",
    "max_concurrent_requests = 1             # You can change this value\n",
    "\n",
    "# === Load DataFrame ===\n",
    "df = pd.read_csv(\"metaproteomics_updated_taxa.csv\")\n",
    "\n",
    "# === Step 1: Identify taxa with missing rank but valid names ===\n",
    "mask_missing_rank = df[\"Taxon_rank\"].isna() & df[\"Taxon_names\"].notna()\n",
    "taxa_with_missing_rank = df.loc[mask_missing_rank, \"Taxon_names\"]\n",
    "unique_taxa = taxa_with_missing_rank.dropna().unique()\n",
    "\n",
    "print(f\"🔍 Unique taxa to fetch ranks for: {len(unique_taxa)}\")\n",
    "\n",
    "# === Step 2: Avoid querying duplicates ===\n",
    "existing_ranks = df[~df[\"Taxon_rank\"].isna()].dropna(subset=[\"Taxon_names\"])[[\"Taxon_names\", \"Taxon_rank\"]]\n",
    "taxon_to_rank = dict(zip(existing_ranks[\"Taxon_names\"], existing_ranks[\"Taxon_rank\"]))\n",
    "\n",
    "# === Step 3: Function to fetch from NCBI with retry ===\n",
    "def fetch_ncbi_rank(taxon_name, retries=3, delay=2):\n",
    "    if taxon_name in taxon_to_rank:\n",
    "        return taxon_name, taxon_to_rank[taxon_name]  # Already known\n",
    "\n",
    "    for attempt in range(retries):\n",
    "        try:\n",
    "            search = Entrez.esearch(db=\"taxonomy\", term=taxon_name + \"[Scientific Name]\")\n",
    "            record = Entrez.read(search)\n",
    "            if record[\"IdList\"]:\n",
    "                tax_id = record[\"IdList\"][0]\n",
    "                fetch = Entrez.efetch(db=\"taxonomy\", id=tax_id, retmode=\"xml\")\n",
    "                data = Entrez.read(fetch)\n",
    "                return taxon_name, data[0][\"Rank\"]\n",
    "            break\n",
    "        except Exception as e:\n",
    "            wait = delay * (2 ** attempt)\n",
    "            print(f\"⚠️ Retry {attempt+1} for '{taxon_name}' failed ({e}), waiting {wait}s...\")\n",
    "            time.sleep(wait)\n",
    "    return taxon_name, None\n",
    "\n",
    "# === Step 4: Concurrent querying ===\n",
    "with ThreadPoolExecutor(max_workers=max_concurrent_requests) as executor:\n",
    "    futures = {executor.submit(fetch_ncbi_rank, name): name for name in unique_taxa if name not in taxon_to_rank}\n",
    "\n",
    "    for future in tqdm(as_completed(futures), total=len(futures), desc=\"🚀 Fetching taxon ranks\"):\n",
    "        try:\n",
    "            name, rank = future.result()\n",
    "            if rank:\n",
    "                taxon_to_rank[name] = rank\n",
    "        except Exception as e:\n",
    "            print(f\"❌ Final failure for '{futures[future]}': {e}\")\n",
    "\n",
    "# === Step 5: Map all known taxon ranks back to DataFrame ===\n",
    "df[\"Taxon_rank\"] = df[\"Taxon_names\"].map(taxon_to_rank)\n",
    "\n",
    "# === Step 6: Save result ===\n",
    "df.to_csv(\"metaproteomics_updated_taxa.csv\", index=False)\n",
    "print(\"✅ All taxon_rank values updated and saved to 'metaproteomics_updated_taxa.csv'.\")\n"
   ]
  },
  {
   "cell_type": "code",
   "execution_count": 12,
   "id": "2c872674",
   "metadata": {},
   "outputs": [
    {
     "name": "stdout",
     "output_type": "stream",
     "text": [
      "\n",
      "📋 Unique taxon names with missing rank:\n",
      "\n",
      "['Candidatus Promineofilum sp', 'Fe', 'Tetrasphaera sp']\n"
     ]
    }
   ],
   "source": [
    "import pandas as pd\n",
    "\n",
    "# === Load your updated file ===\n",
    "df = pd.read_csv(\"metaproteomics_updated_taxa.csv\")\n",
    "\n",
    "# === Step 1: Get unique taxon names with missing rank ===\n",
    "missing_ranks_df = df[df[\"Taxon_rank\"].isna() & df[\"Taxon_names\"].notna()]\n",
    "unique_missing_taxa = sorted(missing_ranks_df[\"Taxon_names\"].unique())\n",
    "\n",
    "# === Step 2: Print the list so you can copy/paste it into a mapping ===\n",
    "print(\"\\n📋 Unique taxon names with missing rank:\\n\")\n",
    "print(unique_missing_taxa)"
   ]
  },
  {
   "cell_type": "code",
   "execution_count": 13,
   "id": "71010ebc",
   "metadata": {},
   "outputs": [
    {
     "name": "stdout",
     "output_type": "stream",
     "text": [
      "\n",
      "Saved updated ranks to metaproteomics_updated_taxa.csv\n",
      "Valid ranks for taxon names: 4476 / 5276\n"
     ]
    }
   ],
   "source": [
    "# === Step 3: Create a manual mapping (YOU fill in the correct ranks) ===\n",
    "manual_rank_map = {\n",
    "    \"Candidatus Promineofilum sp\": \"species\",\n",
    "    \"Tetrasphaera sp\": \"genus\",\n",
    "    # \"Nitrosomonas sp\": \"species\",\n",
    "}\n",
    "\n",
    "# === Step 4: Apply your mapping ===\n",
    "for taxon, rank in manual_rank_map.items():\n",
    "    matched = df[\"Taxon_names\"] == taxon\n",
    "    df.loc[matched & df[\"Taxon_rank\"].isna(), \"Taxon_rank\"] = rank\n",
    "\n",
    "# === Step 5: Save and confirm ===\n",
    "df.to_csv(\"metaproteomics_updated_taxa.csv\", index=False)\n",
    "print(\"\\nSaved updated ranks to metaproteomics_updated_taxa.csv\")\n",
    "\n",
    "# === Step 6: Final stats ===\n",
    "valid_taxon_names = df[\"Taxon_names\"].ne(\"NA\")\n",
    "valid_ranks = df.loc[valid_taxon_names, \"Taxon_rank\"].notna().sum()\n",
    "print(f\"Valid ranks for taxon names: {valid_ranks} / {valid_taxon_names.sum()}\")"
   ]
  },
  {
   "cell_type": "code",
   "execution_count": 11,
   "id": "1175438f",
   "metadata": {},
   "outputs": [
    {
     "name": "stdout",
     "output_type": "stream",
     "text": [
      "📊 Rows with valid taxon ranks: 4465 / 5276\n"
     ]
    }
   ],
   "source": [
    "import pandas as pd\n",
    "\n",
    "# Load the updated CSV\n",
    "df = pd.read_csv(\"metaproteomics_updated_taxa.csv\")\n",
    "\n",
    "# Count non-NA taxon ranks\n",
    "valid_ranks = df[\"Taxon_rank\"].notna().sum()\n",
    "total_rows = len(df)\n",
    "\n",
    "print(f\"📊 Rows with valid taxon ranks: {valid_ranks} / {total_rows}\")\n"
   ]
  },
  {
   "cell_type": "code",
   "execution_count": 17,
   "id": "d0521456",
   "metadata": {},
   "outputs": [
    {
     "name": "stderr",
     "output_type": "stream",
     "text": [
      "C:\\Temp\\ipykernel_5108\\1234097050.py:38: UserWarning: set_ticklabels() should only be used with a fixed number of ticks, i.e. after set_ticks() or using a FixedLocator.\n",
      "  ax.set_xticklabels(relative_abundance.index, rotation=45, ha=\"right\")\n",
      "C:\\Temp\\ipykernel_5108\\1234097050.py:38: UserWarning: set_ticklabels() should only be used with a fixed number of ticks, i.e. after set_ticks() or using a FixedLocator.\n",
      "  ax.set_xticklabels(relative_abundance.index, rotation=45, ha=\"right\")\n",
      "C:\\Temp\\ipykernel_5108\\1234097050.py:38: UserWarning: set_ticklabels() should only be used with a fixed number of ticks, i.e. after set_ticks() or using a FixedLocator.\n",
      "  ax.set_xticklabels(relative_abundance.index, rotation=45, ha=\"right\")\n",
      "C:\\Temp\\ipykernel_5108\\1234097050.py:38: UserWarning: set_ticklabels() should only be used with a fixed number of ticks, i.e. after set_ticks() or using a FixedLocator.\n",
      "  ax.set_xticklabels(relative_abundance.index, rotation=45, ha=\"right\")\n"
     ]
    },
    {
     "data": {
      "image/png": "[encoded data removed]",
      "text/plain": [
       "<Figure size 1600x1000 with 4 Axes>"
      ]
     },
     "metadata": {},
     "output_type": "display_data"
    }
   ],
   "source": [
    "import pandas as pd\n",
    "import matplotlib.pyplot as plt\n",
    "\n",
    "# === Step 1: Define ranks to plot ===\n",
    "ranks_to_plot = [\"strain\", \"species\", \"genus\", \"family\"]\n",
    "\n",
    "# === Step 2: Prepare figure ===\n",
    "fig, axes = plt.subplots(nrows=2, ncols=2, figsize=(16, 10))\n",
    "axes = axes.flatten()\n",
    "\n",
    "# === Step 3: Loop through each rank ===\n",
    "for i, rank in enumerate(ranks_to_plot):\n",
    "    ax = axes[i]\n",
    "\n",
    "    # Filter DataFrame for the current rank\n",
    "    df_rank = df[df[\"Taxon_rank\"] == rank]\n",
    "\n",
    "    # Count frequency of taxon names at this rank\n",
    "    taxon_counts = df_rank[\"Taxon_names\"].value_counts()\n",
    "\n",
    "    # Select top 10 taxa\n",
    "    top_10 = taxon_counts.head(10)\n",
    "    other = taxon_counts.iloc[10:].sum()\n",
    "\n",
    "    # Create a new Series with \"Other\" added\n",
    "    full_counts = pd.concat([top_10, pd.Series({\"Other\": other})])\n",
    "\n",
    "    # Normalize to relative abundance\n",
    "    relative_abundance = full_counts / full_counts.sum()\n",
    "\n",
    "   # Define color map\n",
    "    colors = plt.cm.tab20c.colors\n",
    "\n",
    "    # Plot as bar with valid color values\n",
    "    ax.bar(relative_abundance.index, relative_abundance.values, color=colors[:len(relative_abundance)])\n",
    "    ax.set_title(f\"Top 10 Taxa at {rank.capitalize()} level\")\n",
    "    ax.set_ylabel(\"Relative Abundance\")\n",
    "    ax.set_xticklabels(relative_abundance.index, rotation=45, ha=\"right\")\n",
    "\n",
    "# === Step 4: Layout and show ===\n",
    "plt.tight_layout()\n",
    "plt.show()\n"
   ]
  }
 ],
 "metadata": {
  "kernelspec": {
   "display_name": "Python 3",
   "language": "python",
   "name": "python3"
  },
  "language_info": {
   "codemirror_mode": {
    "name": "ipython",
    "version": 3
   },
   "file_extension": ".py",
   "mimetype": "text/x-python",
   "name": "python",
   "nbconvert_exporter": "python",
   "pygments_lexer": "ipython3",
   "version": "3.9.13"
  }
 },
 "nbformat": 4,
 "nbformat_minor": 5
}
