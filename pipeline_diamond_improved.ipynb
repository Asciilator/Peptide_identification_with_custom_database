{
 "cells": [
  {
   "cell_type": "code",
   "execution_count": 16,
   "id": "0ef703c7",
   "metadata": {},
   "outputs": [
    {
     "name": "stdout",
     "output_type": "stream",
     "text": [
      "Base path of the project: c:\\Users\\Yusuf\\OneDrive\\LST\\Derde_jaar\\Y3Q4\\Metaproteomics_with_db\n"
     ]
    }
   ],
   "source": [
    "from pathlib import Path\n",
    "\n",
    "# Automatically get the base path of your project\n",
    "base_path = Path.cwd().parents[0]  # adjust .parents[0] if needed\n",
    "print(\"Base path of the project:\", base_path)"
   ]
  },
  {
   "cell_type": "code",
   "execution_count": 3,
   "id": "fa3f01f7",
   "metadata": {},
   "outputs": [],
   "source": [
    "# This code is more robust and will work regardless of the current working directory.\n",
    "# Make sure that base_path is defined correctly.\n",
    "# Install the requirements from the requirements.txt file\n",
    "#!pip3 install -r \"{base_path}/requirements.txt\""
   ]
  },
  {
   "cell_type": "code",
   "execution_count": 17,
   "id": "c21d44e9",
   "metadata": {},
   "outputs": [
    {
     "name": "stdout",
     "output_type": "stream",
     "text": [
      "Original dataset shape: (189185, 20)\n",
      "Original Data (rows 24219–24227):\n"
     ]
    },
    {
     "data": {
      "text/html": [
       "<div>\n",
       "<style scoped>\n",
       "    .dataframe tbody tr th:only-of-type {\n",
       "        vertical-align: middle;\n",
       "    }\n",
       "\n",
       "    .dataframe tbody tr th {\n",
       "        vertical-align: top;\n",
       "    }\n",
       "\n",
       "    .dataframe thead th {\n",
       "        text-align: right;\n",
       "    }\n",
       "</style>\n",
       "<table border=\"1\" class=\"dataframe\">\n",
       "  <thead>\n",
       "    <tr style=\"text-align: right;\">\n",
       "      <th></th>\n",
       "      <th>Fraction</th>\n",
       "      <th>Source File</th>\n",
       "      <th>Feature</th>\n",
       "      <th>Peptide</th>\n",
       "      <th>Scan</th>\n",
       "      <th>Tag Length</th>\n",
       "      <th>Denovo Score</th>\n",
       "      <th>ALC (%)</th>\n",
       "      <th>length</th>\n",
       "      <th>m/z</th>\n",
       "      <th>z</th>\n",
       "      <th>RT</th>\n",
       "      <th>Predict RT</th>\n",
       "      <th>Area</th>\n",
       "      <th>Mass</th>\n",
       "      <th>ppm</th>\n",
       "      <th>PTM</th>\n",
       "      <th>local confidence (%)</th>\n",
       "      <th>tag (&gt;=0%)</th>\n",
       "      <th>mode</th>\n",
       "    </tr>\n",
       "  </thead>\n",
       "  <tbody>\n",
       "    <tr>\n",
       "      <th>24218</th>\n",
       "      <td>2</td>\n",
       "      <td>MP_RZ07032023_GW_flat_180min_DDA02.raw</td>\n",
       "      <td>-</td>\n",
       "      <td>KYAYFPVWVNDDKMSLPLR</td>\n",
       "      <td>F2:51275</td>\n",
       "      <td>19</td>\n",
       "      <td>76</td>\n",
       "      <td>68</td>\n",
       "      <td>19</td>\n",
       "      <td>781.3988</td>\n",
       "      <td>3</td>\n",
       "      <td>143.42</td>\n",
       "      <td>142.11</td>\n",
       "      <td>0.0</td>\n",
       "      <td>2341.1929</td>\n",
       "      <td>-7.8</td>\n",
       "      <td>NaN</td>\n",
       "      <td>45 39 41 35 33 43 89 98 98 94 95 96 94 90 83 4...</td>\n",
       "      <td>KYAYFPVWVNDDKMSLPLR</td>\n",
       "      <td>HCD</td>\n",
       "    </tr>\n",
       "    <tr>\n",
       "      <th>24219</th>\n",
       "      <td>1</td>\n",
       "      <td>MP_RZ07032023_GW_flat_180min_DDA01.raw</td>\n",
       "      <td>F1:35083</td>\n",
       "      <td>MWALDLR</td>\n",
       "      <td>F1:38190</td>\n",
       "      <td>7</td>\n",
       "      <td>76</td>\n",
       "      <td>78</td>\n",
       "      <td>7</td>\n",
       "      <td>452.7394</td>\n",
       "      <td>2</td>\n",
       "      <td>113.16</td>\n",
       "      <td>129.39</td>\n",
       "      <td>34600.0</td>\n",
       "      <td>903.4636</td>\n",
       "      <td>0.6</td>\n",
       "      <td>NaN</td>\n",
       "      <td>56 71 84 79 79 85 90</td>\n",
       "      <td>MWALDLR</td>\n",
       "      <td>HCD</td>\n",
       "    </tr>\n",
       "    <tr>\n",
       "      <th>24220</th>\n",
       "      <td>2</td>\n",
       "      <td>MP_RZ07032023_GW_flat_180min_DDA02.raw</td>\n",
       "      <td>F2:98838</td>\n",
       "      <td>LAAALTPAPVLAK</td>\n",
       "      <td>F2:33083</td>\n",
       "      <td>13</td>\n",
       "      <td>76</td>\n",
       "      <td>70</td>\n",
       "      <td>13</td>\n",
       "      <td>618.3896</td>\n",
       "      <td>2</td>\n",
       "      <td>100.95</td>\n",
       "      <td>110.95</td>\n",
       "      <td>13200000.0</td>\n",
       "      <td>1234.7649</td>\n",
       "      <td>-0.2</td>\n",
       "      <td>NaN</td>\n",
       "      <td>48 50 80 99 100 100 99 96 33 31 48 45 82</td>\n",
       "      <td>LAAALTPAPVLAK</td>\n",
       "      <td>HCD</td>\n",
       "    </tr>\n",
       "    <tr>\n",
       "      <th>24221</th>\n",
       "      <td>2</td>\n",
       "      <td>MP_RZ07032023_GW_flat_180min_DDA02.raw</td>\n",
       "      <td>F2:83383</td>\n",
       "      <td>APMSGLQNWK</td>\n",
       "      <td>F2:29687</td>\n",
       "      <td>10</td>\n",
       "      <td>76</td>\n",
       "      <td>70</td>\n",
       "      <td>10</td>\n",
       "      <td>566.2845</td>\n",
       "      <td>2</td>\n",
       "      <td>92.40</td>\n",
       "      <td>83.12</td>\n",
       "      <td>215000.0</td>\n",
       "      <td>1130.5542</td>\n",
       "      <td>0.3</td>\n",
       "      <td>NaN</td>\n",
       "      <td>96 94 85 92 82 41 28 21 69 92</td>\n",
       "      <td>APMSGLQNWK</td>\n",
       "      <td>HCD</td>\n",
       "    </tr>\n",
       "    <tr>\n",
       "      <th>24222</th>\n",
       "      <td>2</td>\n",
       "      <td>MP_RZ07032023_GW_flat_180min_DDA02.raw</td>\n",
       "      <td>F2:107262</td>\n",
       "      <td>SLTAPSGVPGM(+15.99)FK</td>\n",
       "      <td>F2:26077</td>\n",
       "      <td>13</td>\n",
       "      <td>76</td>\n",
       "      <td>67</td>\n",
       "      <td>13</td>\n",
       "      <td>654.3237</td>\n",
       "      <td>2</td>\n",
       "      <td>83.51</td>\n",
       "      <td>83.66</td>\n",
       "      <td>75700.0</td>\n",
       "      <td>1306.6592</td>\n",
       "      <td>-20.1</td>\n",
       "      <td>Oxidation (M)</td>\n",
       "      <td>37 46 79 93 95 96 88 84 23 17 26 89 97</td>\n",
       "      <td>SLTAPSGVPGM(+15.99)FK</td>\n",
       "      <td>HCD</td>\n",
       "    </tr>\n",
       "    <tr>\n",
       "      <th>24223</th>\n",
       "      <td>2</td>\n",
       "      <td>MP_RZ07032023_GW_flat_180min_DDA02.raw</td>\n",
       "      <td>F2:139236</td>\n",
       "      <td>EVQAWSWWWM(+15.99)TRRAAMDVPGR</td>\n",
       "      <td>F2:49588</td>\n",
       "      <td>21</td>\n",
       "      <td>76</td>\n",
       "      <td>68</td>\n",
       "      <td>21</td>\n",
       "      <td>879.0955</td>\n",
       "      <td>3</td>\n",
       "      <td>139.45</td>\n",
       "      <td>141.68</td>\n",
       "      <td>822000.0</td>\n",
       "      <td>2634.2371</td>\n",
       "      <td>10.4</td>\n",
       "      <td>Oxidation (M)</td>\n",
       "      <td>37 25 33 44 44 41 81 84 90 88 90 40 52 96 95 8...</td>\n",
       "      <td>EVQAWSWWWM(+15.99)TRRAAMDVPGR</td>\n",
       "      <td>HCD</td>\n",
       "    </tr>\n",
       "    <tr>\n",
       "      <th>24224</th>\n",
       "      <td>2</td>\n",
       "      <td>MP_RZ07032023_GW_flat_180min_DDA02.raw</td>\n",
       "      <td>F2:3957</td>\n",
       "      <td>MGFYGGR</td>\n",
       "      <td>F2:13573</td>\n",
       "      <td>7</td>\n",
       "      <td>76</td>\n",
       "      <td>68</td>\n",
       "      <td>7</td>\n",
       "      <td>394.1815</td>\n",
       "      <td>2</td>\n",
       "      <td>50.45</td>\n",
       "      <td>47.75</td>\n",
       "      <td>376000.0</td>\n",
       "      <td>786.3483</td>\n",
       "      <td>0.3</td>\n",
       "      <td>NaN</td>\n",
       "      <td>17 29 90 86 80 83 90</td>\n",
       "      <td>MGFYGGR</td>\n",
       "      <td>HCD</td>\n",
       "    </tr>\n",
       "    <tr>\n",
       "      <th>24225</th>\n",
       "      <td>1</td>\n",
       "      <td>MP_RZ07032023_GW_flat_180min_DDA01.raw</td>\n",
       "      <td>F1:103943</td>\n",
       "      <td>TLGALDGTN(+.98)MNR</td>\n",
       "      <td>F1:23486</td>\n",
       "      <td>12</td>\n",
       "      <td>76</td>\n",
       "      <td>71</td>\n",
       "      <td>12</td>\n",
       "      <td>632.3035</td>\n",
       "      <td>2</td>\n",
       "      <td>78.32</td>\n",
       "      <td>67.85</td>\n",
       "      <td>3660000.0</td>\n",
       "      <td>1262.5925</td>\n",
       "      <td>0.0</td>\n",
       "      <td>Deamidation (NQ)</td>\n",
       "      <td>21 21 26 76 99 98 90 88 70 82 91 93</td>\n",
       "      <td>TLGALDGTN(+.98)MNR</td>\n",
       "      <td>HCD</td>\n",
       "    </tr>\n",
       "    <tr>\n",
       "      <th>24226</th>\n",
       "      <td>1</td>\n",
       "      <td>MP_RZ07032023_GW_flat_180min_DDA01.raw</td>\n",
       "      <td>F1:23734</td>\n",
       "      <td>LGGLSSAMK</td>\n",
       "      <td>F1:16822</td>\n",
       "      <td>9</td>\n",
       "      <td>76</td>\n",
       "      <td>75</td>\n",
       "      <td>9</td>\n",
       "      <td>432.2354</td>\n",
       "      <td>2</td>\n",
       "      <td>59.98</td>\n",
       "      <td>63.31</td>\n",
       "      <td>416000.0</td>\n",
       "      <td>862.4582</td>\n",
       "      <td>-2.4</td>\n",
       "      <td>NaN</td>\n",
       "      <td>62 77 48 88 82 73 68 78 97</td>\n",
       "      <td>LGGLSSAMK</td>\n",
       "      <td>HCD</td>\n",
       "    </tr>\n",
       "    <tr>\n",
       "      <th>24227</th>\n",
       "      <td>2</td>\n",
       "      <td>MP_RZ07032023_GW_flat_180min_DDA02.raw</td>\n",
       "      <td>-</td>\n",
       "      <td>LDQ(+.98)AHLYNWQWYR</td>\n",
       "      <td>F2:50574</td>\n",
       "      <td>13</td>\n",
       "      <td>76</td>\n",
       "      <td>77</td>\n",
       "      <td>13</td>\n",
       "      <td>897.4365</td>\n",
       "      <td>2</td>\n",
       "      <td>141.76</td>\n",
       "      <td>127.6</td>\n",
       "      <td>0.0</td>\n",
       "      <td>1792.8320</td>\n",
       "      <td>14.8</td>\n",
       "      <td>Deamidation (NQ)</td>\n",
       "      <td>31 38 40 61 54 99 98 96 96 94 95 98 100</td>\n",
       "      <td>LDQ(+.98)AHLYNWQWYR</td>\n",
       "      <td>HCD</td>\n",
       "    </tr>\n",
       "  </tbody>\n",
       "</table>\n",
       "</div>"
      ],
      "text/plain": [
       "       Fraction                             Source File    Feature  \\\n",
       "24218         2  MP_RZ07032023_GW_flat_180min_DDA02.raw          -   \n",
       "24219         1  MP_RZ07032023_GW_flat_180min_DDA01.raw   F1:35083   \n",
       "24220         2  MP_RZ07032023_GW_flat_180min_DDA02.raw   F2:98838   \n",
       "24221         2  MP_RZ07032023_GW_flat_180min_DDA02.raw   F2:83383   \n",
       "24222         2  MP_RZ07032023_GW_flat_180min_DDA02.raw  F2:107262   \n",
       "24223         2  MP_RZ07032023_GW_flat_180min_DDA02.raw  F2:139236   \n",
       "24224         2  MP_RZ07032023_GW_flat_180min_DDA02.raw    F2:3957   \n",
       "24225         1  MP_RZ07032023_GW_flat_180min_DDA01.raw  F1:103943   \n",
       "24226         1  MP_RZ07032023_GW_flat_180min_DDA01.raw   F1:23734   \n",
       "24227         2  MP_RZ07032023_GW_flat_180min_DDA02.raw          -   \n",
       "\n",
       "                             Peptide      Scan  Tag Length  Denovo Score  \\\n",
       "24218            KYAYFPVWVNDDKMSLPLR  F2:51275          19            76   \n",
       "24219                        MWALDLR  F1:38190           7            76   \n",
       "24220                  LAAALTPAPVLAK  F2:33083          13            76   \n",
       "24221                     APMSGLQNWK  F2:29687          10            76   \n",
       "24222          SLTAPSGVPGM(+15.99)FK  F2:26077          13            76   \n",
       "24223  EVQAWSWWWM(+15.99)TRRAAMDVPGR  F2:49588          21            76   \n",
       "24224                        MGFYGGR  F2:13573           7            76   \n",
       "24225             TLGALDGTN(+.98)MNR  F1:23486          12            76   \n",
       "24226                      LGGLSSAMK  F1:16822           9            76   \n",
       "24227            LDQ(+.98)AHLYNWQWYR  F2:50574          13            76   \n",
       "\n",
       "       ALC (%)  length       m/z  z      RT Predict RT        Area       Mass  \\\n",
       "24218       68      19  781.3988  3  143.42     142.11         0.0  2341.1929   \n",
       "24219       78       7  452.7394  2  113.16     129.39     34600.0   903.4636   \n",
       "24220       70      13  618.3896  2  100.95     110.95  13200000.0  1234.7649   \n",
       "24221       70      10  566.2845  2   92.40      83.12    215000.0  1130.5542   \n",
       "24222       67      13  654.3237  2   83.51      83.66     75700.0  1306.6592   \n",
       "24223       68      21  879.0955  3  139.45     141.68    822000.0  2634.2371   \n",
       "24224       68       7  394.1815  2   50.45      47.75    376000.0   786.3483   \n",
       "24225       71      12  632.3035  2   78.32      67.85   3660000.0  1262.5925   \n",
       "24226       75       9  432.2354  2   59.98      63.31    416000.0   862.4582   \n",
       "24227       77      13  897.4365  2  141.76      127.6         0.0  1792.8320   \n",
       "\n",
       "        ppm               PTM  \\\n",
       "24218  -7.8               NaN   \n",
       "24219   0.6               NaN   \n",
       "24220  -0.2               NaN   \n",
       "24221   0.3               NaN   \n",
       "24222 -20.1     Oxidation (M)   \n",
       "24223  10.4     Oxidation (M)   \n",
       "24224   0.3               NaN   \n",
       "24225   0.0  Deamidation (NQ)   \n",
       "24226  -2.4               NaN   \n",
       "24227  14.8  Deamidation (NQ)   \n",
       "\n",
       "                                    local confidence (%)  \\\n",
       "24218  45 39 41 35 33 43 89 98 98 94 95 96 94 90 83 4...   \n",
       "24219                               56 71 84 79 79 85 90   \n",
       "24220           48 50 80 99 100 100 99 96 33 31 48 45 82   \n",
       "24221                      96 94 85 92 82 41 28 21 69 92   \n",
       "24222             37 46 79 93 95 96 88 84 23 17 26 89 97   \n",
       "24223  37 25 33 44 44 41 81 84 90 88 90 40 52 96 95 8...   \n",
       "24224                               17 29 90 86 80 83 90   \n",
       "24225                21 21 26 76 99 98 90 88 70 82 91 93   \n",
       "24226                         62 77 48 88 82 73 68 78 97   \n",
       "24227            31 38 40 61 54 99 98 96 96 94 95 98 100   \n",
       "\n",
       "                          tag (>=0%) mode  \n",
       "24218            KYAYFPVWVNDDKMSLPLR  HCD  \n",
       "24219                        MWALDLR  HCD  \n",
       "24220                  LAAALTPAPVLAK  HCD  \n",
       "24221                     APMSGLQNWK  HCD  \n",
       "24222          SLTAPSGVPGM(+15.99)FK  HCD  \n",
       "24223  EVQAWSWWWM(+15.99)TRRAAMDVPGR  HCD  \n",
       "24224                        MGFYGGR  HCD  \n",
       "24225             TLGALDGTN(+.98)MNR  HCD  \n",
       "24226                      LGGLSSAMK  HCD  \n",
       "24227            LDQ(+.98)AHLYNWQWYR  HCD  "
      ]
     },
     "metadata": {},
     "output_type": "display_data"
    },
    {
     "name": "stdout",
     "output_type": "stream",
     "text": [
      "Filtered dataset shape: (32111, 20)\n",
      "Filtered Data (rows 24219-24227):\n"
     ]
    },
    {
     "data": {
      "text/html": [
       "<div>\n",
       "<style scoped>\n",
       "    .dataframe tbody tr th:only-of-type {\n",
       "        vertical-align: middle;\n",
       "    }\n",
       "\n",
       "    .dataframe tbody tr th {\n",
       "        vertical-align: top;\n",
       "    }\n",
       "\n",
       "    .dataframe thead th {\n",
       "        text-align: right;\n",
       "    }\n",
       "</style>\n",
       "<table border=\"1\" class=\"dataframe\">\n",
       "  <thead>\n",
       "    <tr style=\"text-align: right;\">\n",
       "      <th></th>\n",
       "      <th>Fraction</th>\n",
       "      <th>Source File</th>\n",
       "      <th>Feature</th>\n",
       "      <th>Peptide</th>\n",
       "      <th>Scan</th>\n",
       "      <th>Tag Length</th>\n",
       "      <th>Denovo Score</th>\n",
       "      <th>ALC (%)</th>\n",
       "      <th>length</th>\n",
       "      <th>m/z</th>\n",
       "      <th>z</th>\n",
       "      <th>RT</th>\n",
       "      <th>Predict RT</th>\n",
       "      <th>Area</th>\n",
       "      <th>Mass</th>\n",
       "      <th>ppm</th>\n",
       "      <th>PTM</th>\n",
       "      <th>local confidence (%)</th>\n",
       "      <th>tag (&gt;=0%)</th>\n",
       "      <th>mode</th>\n",
       "    </tr>\n",
       "  </thead>\n",
       "  <tbody>\n",
       "    <tr>\n",
       "      <th>25984</th>\n",
       "      <td>2</td>\n",
       "      <td>MP_RZ07032023_GW_flat_180min_DDA02.raw</td>\n",
       "      <td>-</td>\n",
       "      <td>LVTTDANGWYNK</td>\n",
       "      <td>F2:16205</td>\n",
       "      <td>12</td>\n",
       "      <td>75</td>\n",
       "      <td>73</td>\n",
       "      <td>12</td>\n",
       "      <td>691.3395</td>\n",
       "      <td>2</td>\n",
       "      <td>57.63</td>\n",
       "      <td>71.8</td>\n",
       "      <td>0.0</td>\n",
       "      <td>1380.6675</td>\n",
       "      <td>-2.1</td>\n",
       "      <td>NaN</td>\n",
       "      <td>59 60 95 95 95 89 83 70 69 28 43 98</td>\n",
       "      <td>LVTTDANGWYNK</td>\n",
       "      <td>HCD</td>\n",
       "    </tr>\n",
       "    <tr>\n",
       "      <th>25985</th>\n",
       "      <td>2</td>\n",
       "      <td>MP_RZ07032023_GW_flat_180min_DDA02.raw</td>\n",
       "      <td>F2:39500</td>\n",
       "      <td>KATSLMDR</td>\n",
       "      <td>F2:7950</td>\n",
       "      <td>8</td>\n",
       "      <td>75</td>\n",
       "      <td>76</td>\n",
       "      <td>8</td>\n",
       "      <td>461.2376</td>\n",
       "      <td>2</td>\n",
       "      <td>32.97</td>\n",
       "      <td>17.78</td>\n",
       "      <td>841000.0</td>\n",
       "      <td>920.4749</td>\n",
       "      <td>-15.5</td>\n",
       "      <td>NaN</td>\n",
       "      <td>77 34 38 87 93 88 96 94</td>\n",
       "      <td>KATSLMDR</td>\n",
       "      <td>HCD</td>\n",
       "    </tr>\n",
       "    <tr>\n",
       "      <th>25986</th>\n",
       "      <td>2</td>\n",
       "      <td>MP_RZ07032023_GW_flat_180min_DDA02.raw</td>\n",
       "      <td>F2:103841</td>\n",
       "      <td>WAADLDQ(+.98)MVTK</td>\n",
       "      <td>F2:42699</td>\n",
       "      <td>11</td>\n",
       "      <td>75</td>\n",
       "      <td>75</td>\n",
       "      <td>11</td>\n",
       "      <td>639.8031</td>\n",
       "      <td>2</td>\n",
       "      <td>123.18</td>\n",
       "      <td>107.95</td>\n",
       "      <td>110000.0</td>\n",
       "      <td>1277.5962</td>\n",
       "      <td>-3.6</td>\n",
       "      <td>Deamidation (NQ)</td>\n",
       "      <td>78 60 90 90 89 94 89 69 28 41 98</td>\n",
       "      <td>WAADLDQ(+.98)MVTK</td>\n",
       "      <td>HCD</td>\n",
       "    </tr>\n",
       "    <tr>\n",
       "      <th>25989</th>\n",
       "      <td>1</td>\n",
       "      <td>MP_RZ07032023_GW_flat_180min_DDA01.raw</td>\n",
       "      <td>F1:18876</td>\n",
       "      <td>Q(+.98)VYLHMDGFR</td>\n",
       "      <td>F1:35026</td>\n",
       "      <td>10</td>\n",
       "      <td>75</td>\n",
       "      <td>72</td>\n",
       "      <td>10</td>\n",
       "      <td>422.8690</td>\n",
       "      <td>3</td>\n",
       "      <td>105.90</td>\n",
       "      <td>95.37</td>\n",
       "      <td>300000.0</td>\n",
       "      <td>1265.5862</td>\n",
       "      <td>-0.9</td>\n",
       "      <td>Deamidation (NQ)</td>\n",
       "      <td>26 28 45 61 92 95 98 92 94 96</td>\n",
       "      <td>Q(+.98)VYLHMDGFR</td>\n",
       "      <td>HCD</td>\n",
       "    </tr>\n",
       "    <tr>\n",
       "      <th>25990</th>\n",
       "      <td>2</td>\n",
       "      <td>MP_RZ07032023_GW_flat_180min_DDA02.raw</td>\n",
       "      <td>F2:113009</td>\n",
       "      <td>TLLPALYLLQGR</td>\n",
       "      <td>F2:54646</td>\n",
       "      <td>12</td>\n",
       "      <td>75</td>\n",
       "      <td>74</td>\n",
       "      <td>12</td>\n",
       "      <td>679.4126</td>\n",
       "      <td>2</td>\n",
       "      <td>151.38</td>\n",
       "      <td>164.41</td>\n",
       "      <td>25200.0</td>\n",
       "      <td>1356.8130</td>\n",
       "      <td>-1.7</td>\n",
       "      <td>NaN</td>\n",
       "      <td>51 50 50 33 82 89 93 95 85 79 88 98</td>\n",
       "      <td>TLLPALYLLQGR</td>\n",
       "      <td>HCD</td>\n",
       "    </tr>\n",
       "    <tr>\n",
       "      <th>25991</th>\n",
       "      <td>1</td>\n",
       "      <td>MP_RZ07032023_GW_flat_180min_DDA01.raw</td>\n",
       "      <td>F1:139595</td>\n",
       "      <td>FGFGLSDPDDN(+.98)NLFAHFKPLC(+57.02)K</td>\n",
       "      <td>F1:54391</td>\n",
       "      <td>22</td>\n",
       "      <td>75</td>\n",
       "      <td>72</td>\n",
       "      <td>22</td>\n",
       "      <td>847.3984</td>\n",
       "      <td>3</td>\n",
       "      <td>151.74</td>\n",
       "      <td>161.24</td>\n",
       "      <td>6010000.0</td>\n",
       "      <td>2539.1841</td>\n",
       "      <td>-4.2</td>\n",
       "      <td>Deamidation (NQ); Carbamidomethylation</td>\n",
       "      <td>49 40 57 62 82 96 69 44 92 49 28 34 96 97 97 8...</td>\n",
       "      <td>FGFGLSDPDDN(+.98)NLFAHFKPLC(+57.02)K</td>\n",
       "      <td>HCD</td>\n",
       "    </tr>\n",
       "    <tr>\n",
       "      <th>25993</th>\n",
       "      <td>1</td>\n",
       "      <td>MP_RZ07032023_GW_flat_180min_DDA01.raw</td>\n",
       "      <td>-</td>\n",
       "      <td>YHDALTYVWNWGGFTGK</td>\n",
       "      <td>F1:45457</td>\n",
       "      <td>17</td>\n",
       "      <td>75</td>\n",
       "      <td>85</td>\n",
       "      <td>17</td>\n",
       "      <td>1007.9756</td>\n",
       "      <td>2</td>\n",
       "      <td>130.26</td>\n",
       "      <td>163.81</td>\n",
       "      <td>0.0</td>\n",
       "      <td>2013.9373</td>\n",
       "      <td>-0.3</td>\n",
       "      <td>NaN</td>\n",
       "      <td>34 20 62 78 99 99 98 98 98 97 98 97 97 98 98 9...</td>\n",
       "      <td>YHDALTYVWNWGGFTGK</td>\n",
       "      <td>HCD</td>\n",
       "    </tr>\n",
       "    <tr>\n",
       "      <th>25994</th>\n",
       "      <td>1</td>\n",
       "      <td>MP_RZ07032023_GW_flat_180min_DDA01.raw</td>\n",
       "      <td>F1:852</td>\n",
       "      <td>NSLAVLR</td>\n",
       "      <td>F1:12592</td>\n",
       "      <td>7</td>\n",
       "      <td>75</td>\n",
       "      <td>81</td>\n",
       "      <td>7</td>\n",
       "      <td>386.7372</td>\n",
       "      <td>2</td>\n",
       "      <td>48.50</td>\n",
       "      <td>66</td>\n",
       "      <td>1480000.0</td>\n",
       "      <td>771.4603</td>\n",
       "      <td>-0.4</td>\n",
       "      <td>NaN</td>\n",
       "      <td>61 60 82 92 94 94 86</td>\n",
       "      <td>NSLAVLR</td>\n",
       "      <td>HCD</td>\n",
       "    </tr>\n",
       "    <tr>\n",
       "      <th>25995</th>\n",
       "      <td>2</td>\n",
       "      <td>MP_RZ07032023_GW_flat_180min_DDA02.raw</td>\n",
       "      <td>F2:141090</td>\n",
       "      <td>NYLDDLR</td>\n",
       "      <td>F2:41876</td>\n",
       "      <td>7</td>\n",
       "      <td>75</td>\n",
       "      <td>85</td>\n",
       "      <td>7</td>\n",
       "      <td>908.4518</td>\n",
       "      <td>1</td>\n",
       "      <td>121.32</td>\n",
       "      <td>83.38</td>\n",
       "      <td>208000.0</td>\n",
       "      <td>907.4399</td>\n",
       "      <td>5.0</td>\n",
       "      <td>NaN</td>\n",
       "      <td>85 83 85 82 85 88 90</td>\n",
       "      <td>NYLDDLR</td>\n",
       "      <td>HCD</td>\n",
       "    </tr>\n",
       "    <tr>\n",
       "      <th>25997</th>\n",
       "      <td>2</td>\n",
       "      <td>MP_RZ07032023_GW_flat_180min_DDA02.raw</td>\n",
       "      <td>F2:129117</td>\n",
       "      <td>YM(+15.99)APQEVGPGSPFR</td>\n",
       "      <td>F2:34615</td>\n",
       "      <td>14</td>\n",
       "      <td>75</td>\n",
       "      <td>78</td>\n",
       "      <td>14</td>\n",
       "      <td>776.3701</td>\n",
       "      <td>2</td>\n",
       "      <td>104.14</td>\n",
       "      <td>93.71</td>\n",
       "      <td>57400.0</td>\n",
       "      <td>1550.7188</td>\n",
       "      <td>4.5</td>\n",
       "      <td>Oxidation (M)</td>\n",
       "      <td>37 35 43 41 90 96 95 97 93 92 94 82 95 100</td>\n",
       "      <td>YM(+15.99)APQEVGPGSPFR</td>\n",
       "      <td>HCD</td>\n",
       "    </tr>\n",
       "  </tbody>\n",
       "</table>\n",
       "</div>"
      ],
      "text/plain": [
       "       Fraction                             Source File    Feature  \\\n",
       "25984         2  MP_RZ07032023_GW_flat_180min_DDA02.raw          -   \n",
       "25985         2  MP_RZ07032023_GW_flat_180min_DDA02.raw   F2:39500   \n",
       "25986         2  MP_RZ07032023_GW_flat_180min_DDA02.raw  F2:103841   \n",
       "25989         1  MP_RZ07032023_GW_flat_180min_DDA01.raw   F1:18876   \n",
       "25990         2  MP_RZ07032023_GW_flat_180min_DDA02.raw  F2:113009   \n",
       "25991         1  MP_RZ07032023_GW_flat_180min_DDA01.raw  F1:139595   \n",
       "25993         1  MP_RZ07032023_GW_flat_180min_DDA01.raw          -   \n",
       "25994         1  MP_RZ07032023_GW_flat_180min_DDA01.raw     F1:852   \n",
       "25995         2  MP_RZ07032023_GW_flat_180min_DDA02.raw  F2:141090   \n",
       "25997         2  MP_RZ07032023_GW_flat_180min_DDA02.raw  F2:129117   \n",
       "\n",
       "                                    Peptide      Scan  Tag Length  \\\n",
       "25984                          LVTTDANGWYNK  F2:16205          12   \n",
       "25985                              KATSLMDR   F2:7950           8   \n",
       "25986                     WAADLDQ(+.98)MVTK  F2:42699          11   \n",
       "25989                      Q(+.98)VYLHMDGFR  F1:35026          10   \n",
       "25990                          TLLPALYLLQGR  F2:54646          12   \n",
       "25991  FGFGLSDPDDN(+.98)NLFAHFKPLC(+57.02)K  F1:54391          22   \n",
       "25993                     YHDALTYVWNWGGFTGK  F1:45457          17   \n",
       "25994                               NSLAVLR  F1:12592           7   \n",
       "25995                               NYLDDLR  F2:41876           7   \n",
       "25997                YM(+15.99)APQEVGPGSPFR  F2:34615          14   \n",
       "\n",
       "       Denovo Score  ALC (%)  length        m/z  z      RT Predict RT  \\\n",
       "25984            75       73      12   691.3395  2   57.63       71.8   \n",
       "25985            75       76       8   461.2376  2   32.97      17.78   \n",
       "25986            75       75      11   639.8031  2  123.18     107.95   \n",
       "25989            75       72      10   422.8690  3  105.90      95.37   \n",
       "25990            75       74      12   679.4126  2  151.38     164.41   \n",
       "25991            75       72      22   847.3984  3  151.74     161.24   \n",
       "25993            75       85      17  1007.9756  2  130.26     163.81   \n",
       "25994            75       81       7   386.7372  2   48.50         66   \n",
       "25995            75       85       7   908.4518  1  121.32      83.38   \n",
       "25997            75       78      14   776.3701  2  104.14      93.71   \n",
       "\n",
       "            Area       Mass   ppm                                     PTM  \\\n",
       "25984        0.0  1380.6675  -2.1                                     NaN   \n",
       "25985   841000.0   920.4749 -15.5                                     NaN   \n",
       "25986   110000.0  1277.5962  -3.6                        Deamidation (NQ)   \n",
       "25989   300000.0  1265.5862  -0.9                        Deamidation (NQ)   \n",
       "25990    25200.0  1356.8130  -1.7                                     NaN   \n",
       "25991  6010000.0  2539.1841  -4.2  Deamidation (NQ); Carbamidomethylation   \n",
       "25993        0.0  2013.9373  -0.3                                     NaN   \n",
       "25994  1480000.0   771.4603  -0.4                                     NaN   \n",
       "25995   208000.0   907.4399   5.0                                     NaN   \n",
       "25997    57400.0  1550.7188   4.5                           Oxidation (M)   \n",
       "\n",
       "                                    local confidence (%)  \\\n",
       "25984                59 60 95 95 95 89 83 70 69 28 43 98   \n",
       "25985                            77 34 38 87 93 88 96 94   \n",
       "25986                   78 60 90 90 89 94 89 69 28 41 98   \n",
       "25989                      26 28 45 61 92 95 98 92 94 96   \n",
       "25990                51 50 50 33 82 89 93 95 85 79 88 98   \n",
       "25991  49 40 57 62 82 96 69 44 92 49 28 34 96 97 97 8...   \n",
       "25993  34 20 62 78 99 99 98 98 98 97 98 97 97 98 98 9...   \n",
       "25994                               61 60 82 92 94 94 86   \n",
       "25995                               85 83 85 82 85 88 90   \n",
       "25997         37 35 43 41 90 96 95 97 93 92 94 82 95 100   \n",
       "\n",
       "                                 tag (>=0%) mode  \n",
       "25984                          LVTTDANGWYNK  HCD  \n",
       "25985                              KATSLMDR  HCD  \n",
       "25986                     WAADLDQ(+.98)MVTK  HCD  \n",
       "25989                      Q(+.98)VYLHMDGFR  HCD  \n",
       "25990                          TLLPALYLLQGR  HCD  \n",
       "25991  FGFGLSDPDDN(+.98)NLFAHFKPLC(+57.02)K  HCD  \n",
       "25993                     YHDALTYVWNWGGFTGK  HCD  \n",
       "25994                               NSLAVLR  HCD  \n",
       "25995                               NYLDDLR  HCD  \n",
       "25997                YM(+15.99)APQEVGPGSPFR  HCD  "
      ]
     },
     "metadata": {},
     "output_type": "display_data"
    },
    {
     "name": "stdout",
     "output_type": "stream",
     "text": [
      "Number of peptides filtered out: 157074\n"
     ]
    }
   ],
   "source": [
    "# Import necessary libraries\n",
    "import pandas as pd\n",
    "\n",
    "# Load the de novo peptide data\n",
    "file_path = base_path / \"de_novo_data\" / \"de_novo_garmerwolde.csv\"\n",
    "df = pd.read_csv(file_path)\n",
    "\n",
    "# Display the dataset dimensions\n",
    "print(f\"Original dataset shape: {df.shape}\")\n",
    "\n",
    "# Display rows 24219 to 24227 (Python is zero-indexed → use iloc[24218:24227+1])\n",
    "print(\"Original Data (rows 24219–24227):\")\n",
    "display(df.iloc[24218:24228])\n",
    "\n",
    "# Filter peptides with ALC (%) > 70\n",
    "filtered_df = df[df[\"ALC (%)\"] > 70]\n",
    "\n",
    "# Display the filtered dataset dimensions\n",
    "print(f\"Filtered dataset shape: {filtered_df.shape}\")\n",
    "\n",
    "# Display same rows (if they exist after filtering — some will be removed)\n",
    "print(\"Filtered Data (rows 24219-24227):\")\n",
    "display(filtered_df.iloc[24218:24228])  # This only works if enough rows remain after filtering\n",
    "print(f\"Number of peptides filtered out: {df.shape[0] - filtered_df.shape[0]}\")"
   ]
  },
  {
   "cell_type": "code",
   "execution_count": 5,
   "id": "c8d15cb9",
   "metadata": {},
   "outputs": [
    {
     "name": "stdout",
     "output_type": "stream",
     "text": [
      "Shape of the filtered DataFrame after adding the new column:\n"
     ]
    },
    {
     "name": "stderr",
     "output_type": "stream",
     "text": [
      "C:\\Temp\\ipykernel_16820\\2190476586.py:23: SettingWithCopyWarning: \n",
      "A value is trying to be set on a copy of a slice from a DataFrame.\n",
      "Try using .loc[row_indexer,col_indexer] = value instead\n",
      "\n",
      "See the caveats in the documentation: https://pandas.pydata.org/pandas-docs/stable/user_guide/indexing.html#returning-a-view-versus-a-copy\n",
      "  filtered_df[\"Cleaned Sequence\"] = filtered_df[\"Peptide\"].apply(lambda x: wrangle_peptides(x))\n"
     ]
    },
    {
     "data": {
      "text/plain": [
       "(32111, 21)"
      ]
     },
     "metadata": {},
     "output_type": "display_data"
    },
    {
     "name": "stdout",
     "output_type": "stream",
     "text": [
      "Cleaned Peptides (Rows 11–21):\n"
     ]
    },
    {
     "data": {
      "text/html": [
       "<div>\n",
       "<style scoped>\n",
       "    .dataframe tbody tr th:only-of-type {\n",
       "        vertical-align: middle;\n",
       "    }\n",
       "\n",
       "    .dataframe tbody tr th {\n",
       "        vertical-align: top;\n",
       "    }\n",
       "\n",
       "    .dataframe thead th {\n",
       "        text-align: right;\n",
       "    }\n",
       "</style>\n",
       "<table border=\"1\" class=\"dataframe\">\n",
       "  <thead>\n",
       "    <tr style=\"text-align: right;\">\n",
       "      <th></th>\n",
       "      <th>Peptide</th>\n",
       "      <th>Cleaned Sequence</th>\n",
       "    </tr>\n",
       "  </thead>\n",
       "  <tbody>\n",
       "    <tr>\n",
       "      <th>10</th>\n",
       "      <td>TSLLN(+.98)YLR</td>\n",
       "      <td>TSIINYIR</td>\n",
       "    </tr>\n",
       "    <tr>\n",
       "      <th>11</th>\n",
       "      <td>VVQLTMQ(+.98)TQEK</td>\n",
       "      <td>VVQITMQTQEK</td>\n",
       "    </tr>\n",
       "    <tr>\n",
       "      <th>12</th>\n",
       "      <td>ATMSDFSPK</td>\n",
       "      <td>ATMSDFSPK</td>\n",
       "    </tr>\n",
       "    <tr>\n",
       "      <th>13</th>\n",
       "      <td>LSELTSLTSAPR</td>\n",
       "      <td>ISEITSITSAPR</td>\n",
       "    </tr>\n",
       "    <tr>\n",
       "      <th>14</th>\n",
       "      <td>VSQ(+.98)AVLAASSGR</td>\n",
       "      <td>VSQAVIAASSGR</td>\n",
       "    </tr>\n",
       "    <tr>\n",
       "      <th>15</th>\n",
       "      <td>VGLAWDR</td>\n",
       "      <td>VGIAWDR</td>\n",
       "    </tr>\n",
       "    <tr>\n",
       "      <th>16</th>\n",
       "      <td>YLPASC(+57.02)R</td>\n",
       "      <td>YIPASCR</td>\n",
       "    </tr>\n",
       "    <tr>\n",
       "      <th>17</th>\n",
       "      <td>ASVEDLLK</td>\n",
       "      <td>ASVEDIIK</td>\n",
       "    </tr>\n",
       "    <tr>\n",
       "      <th>18</th>\n",
       "      <td>YPDVATTHGGSATK</td>\n",
       "      <td>YPDVATTHGGSATK</td>\n",
       "    </tr>\n",
       "    <tr>\n",
       "      <th>19</th>\n",
       "      <td>VMGVAFN(+.98)R</td>\n",
       "      <td>VMGVAFNR</td>\n",
       "    </tr>\n",
       "    <tr>\n",
       "      <th>20</th>\n",
       "      <td>APDNVGVLLR</td>\n",
       "      <td>APDNVGVIIR</td>\n",
       "    </tr>\n",
       "  </tbody>\n",
       "</table>\n",
       "</div>"
      ],
      "text/plain": [
       "               Peptide Cleaned Sequence\n",
       "10      TSLLN(+.98)YLR         TSIINYIR\n",
       "11   VVQLTMQ(+.98)TQEK      VVQITMQTQEK\n",
       "12           ATMSDFSPK        ATMSDFSPK\n",
       "13        LSELTSLTSAPR     ISEITSITSAPR\n",
       "14  VSQ(+.98)AVLAASSGR     VSQAVIAASSGR\n",
       "15             VGLAWDR          VGIAWDR\n",
       "16     YLPASC(+57.02)R          YIPASCR\n",
       "17            ASVEDLLK         ASVEDIIK\n",
       "18      YPDVATTHGGSATK   YPDVATTHGGSATK\n",
       "19      VMGVAFN(+.98)R         VMGVAFNR\n",
       "20          APDNVGVLLR       APDNVGVIIR"
      ]
     },
     "metadata": {},
     "output_type": "display_data"
    }
   ],
   "source": [
    "# Define the wrangle_peptides function\n",
    "import re\n",
    "\n",
    "def wrangle_peptides(sequence: str, ptm_filter: bool=True, li_swap: bool=True) -> str:\n",
    "    \"\"\"Process peptide sequences by removing post-translational modifications\n",
    "    and/or equating Leucine and Isoleucine amino acids.\n",
    "\n",
    "    Args:\n",
    "        sequence (str): Peptide sequence string\n",
    "        ptm_filter (bool, optional): Remove PTMs from sequence. Defaults to True.\n",
    "        li_swap (bool, optional): Equate Leucine (L) and Isoleucine (I). Defaults to True.\n",
    "\n",
    "    Returns:\n",
    "        str: Processed sequence string\n",
    "    \"\"\"\n",
    "    if ptm_filter:\n",
    "        sequence = \"\".join(re.findall(r\"[A-Z]+\", sequence))\n",
    "    if li_swap:\n",
    "        sequence = sequence.replace(\"L\", \"I\")\n",
    "    return sequence\n",
    "\n",
    "# Apply wrangle_peptides function to the filtered data\n",
    "filtered_df[\"Cleaned Sequence\"] = filtered_df[\"Peptide\"].apply(lambda x: wrangle_peptides(x))\n",
    "\n",
    "print(\"Shape of the filtered DataFrame after adding the new column:\")\n",
    "display(filtered_df.shape)  # Check the shape of the DataFrame after adding the new column\n",
    "\n",
    "# Display rows 11 to 21 (Python is 0-indexed, so need 10:21)\n",
    "print(\"Cleaned Peptides (Rows 11–21):\")\n",
    "display(filtered_df[[\"Peptide\", \"Cleaned Sequence\"]].iloc[10:21])"
   ]
  },
  {
   "cell_type": "code",
   "execution_count": null,
   "id": "54884e7e",
   "metadata": {},
   "outputs": [
    {
     "name": "stdout",
     "output_type": "stream",
     "text": [
      "DIAMOND not found — downloading latest release...\n",
      "Downloaded diamond-windows.zip\n",
      "Extracted files: ['diamond.exe']\n",
      "DIAMOND setup complete ✅\n"
     ]
    }
   ],
   "source": [
    "# This script checks if DIAMOND is installed already and downloads it if not\n",
    "import os\n",
    "import urllib.request\n",
    "import zipfile\n",
    "import platform\n",
    "\n",
    "# Set expected DIAMOND executable path\n",
    "diamond_exe = \"diamond.exe\"\n",
    "diamond_url = \"https://github.com/bbuchfink/diamond/releases/latest/download/diamond-windows.zip\"\n",
    "download_path = \"diamond-windows.zip\"\n",
    "\n",
    "# Only proceed if OS is Windows (check to avoid issues on Linux/Mac)\n",
    "if platform.system() == \"Windows\":\n",
    "    if not os.path.exists(diamond_exe):\n",
    "        print(\"DIAMOND not found — downloading latest release...\")\n",
    "        \n",
    "        # Download DIAMOND zip\n",
    "        urllib.request.urlretrieve(diamond_url, download_path)\n",
    "        print(\"Downloaded diamond-windows.zip\")\n",
    "\n",
    "        # Extract diamond.exe from zip\n",
    "        with zipfile.ZipFile(download_path, 'r') as zip_ref:\n",
    "            zip_ref.extractall()\n",
    "            print(\"Extracted files:\", zip_ref.namelist())\n",
    "        \n",
    "        # Clean up\n",
    "        os.remove(download_path)\n",
    "        print(\"DIAMOND setup complete ✅\")\n",
    "    else:\n",
    "        print(\"DIAMOND is already available ✅\")\n",
    "else:\n",
    "    print(\"This script is designed for Windows only. Please install DIAMOND manually for this OS.\")\n"
   ]
  },
  {
   "cell_type": "code",
   "execution_count": null,
   "id": "3d6b202b",
   "metadata": {},
   "outputs": [
    {
     "name": "stdout",
     "output_type": "stream",
     "text": [
      "uniref90.fasta already exists ✅\n"
     ]
    }
   ],
   "source": [
    "# This script checks if the UniRef database of your choice is installed already and downloads it if not\n",
    "import os\n",
    "import urllib.request\n",
    "\n",
    "# CHANGE THIS LINE ONLY to switch databases\n",
    "database_name = \"uniref100\"  # options: \"uniref50, uniref90\", \"uniref100\", etc.\n",
    "\n",
    "# Mapping of database names to URLs and filenames (extendable)\n",
    "database_configs = {\n",
    "    \"uniref90\": {\n",
    "        \"filename\": \"uniref90.fasta\",\n",
    "        \"url\": \"https://ftp.uniprot.org/pub/databases/uniprot/uniref/uniref90/uniref90.fasta.gz\"\n",
    "    },\n",
    "    \"uniref100\": {\n",
    "        \"filename\": \"uniref100.fasta\",\n",
    "        \"url\": \"https://ftp.uniprot.org/pub/databases/uniprot/uniref/uniref100/uniref100.fasta.gz\"\n",
    "    },\n",
    "    # Add more databases here if needed\n",
    "}\n",
    "\n",
    "# Get the config for the chosen database\n",
    "db_config = database_configs.get(database_name)\n",
    "\n",
    "if db_config is None:\n",
    "    raise ValueError(f\"Unknown database '{database_name}'. Please add it to 'database_configs'.\")\n",
    "\n",
    "fasta_filename = db_config[\"filename\"]\n",
    "fasta_url = db_config[\"url\"]\n",
    "\n",
    "# Check and download if missing\n",
    "if os.path.exists(fasta_filename):\n",
    "    print(f\"{fasta_filename} already exists ✅\")\n",
    "else:\n",
    "    print(f\"{fasta_filename} not found. Downloading from {fasta_url}...\")\n",
    "    gz_filename = fasta_filename + \".gz\"\n",
    "    urllib.request.urlretrieve(fasta_url, gz_filename)\n",
    "    print(\"Download complete. Extracting...\")\n",
    "\n",
    "    import gzip\n",
    "    with gzip.open(gz_filename, 'rb') as f_in, open(fasta_filename, 'wb') as f_out:\n",
    "        f_out.write(f_in.read())\n",
    "    \n",
    "    os.remove(gz_filename)\n",
    "    print(f\"{fasta_filename} extracted and ready ✅\")\n"
   ]
  },
  {
   "cell_type": "code",
   "execution_count": null,
   "id": "83ad9b29",
   "metadata": {},
   "outputs": [
    {
     "name": "stdout",
     "output_type": "stream",
     "text": [
      "Building DIAMOND database from 'uniref90.fasta'...\n",
      "DIAMOND database 'uniref90.dmnd' created successfully ✅\n"
     ]
    }
   ],
   "source": [
    "import os\n",
    "import subprocess\n",
    "\n",
    "# CHANGE THIS LINE ONLY to switch input FASTA file\n",
    "fasta_input = \"uniref100.fasta\"  # Can be \"uniref100.fasta\", \"custom_db.fasta\", etc.\n",
    "\n",
    "# Define DIAMOND database name (remove extension)\n",
    "dmnd_output = os.path.splitext(fasta_input)[0]  # e.g., \"uniref90\"\n",
    "\n",
    "# Path to diamond executable\n",
    "diamond_exe = \"diamond.exe\"  # Adjust if it's in a different directory\n",
    "\n",
    "# Check if DIAMOND database already exists\n",
    "if os.path.exists(f\"{dmnd_output}.dmnd\"):\n",
    "    print(f\"DIAMOND database '{dmnd_output}.dmnd' already exists ✅\")\n",
    "else:\n",
    "    print(f\"Building DIAMOND database from '{fasta_input}'...\")\n",
    "    \n",
    "    try:\n",
    "        subprocess.run(\n",
    "            [diamond_exe, \"makedb\", \"--in\", fasta_input, \"-d\", dmnd_output],\n",
    "            check=True\n",
    "        )\n",
    "        print(f\"DIAMOND database '{dmnd_output}.dmnd' created successfully ✅\")\n",
    "    except subprocess.CalledProcessError as e:\n",
    "        print(f\"❌ Error during DIAMOND database creation: {e}\")\n",
    "    except FileNotFoundError:\n",
    "        print(\"❌ diamond.exe not found — make sure it is in your project directory or update the path.\")\n"
   ]
  },
  {
   "cell_type": "code",
   "execution_count": 6,
   "id": "7f2dd3d0",
   "metadata": {},
   "outputs": [
    {
     "name": "stdout",
     "output_type": "stream",
     "text": [
      "Saved 32111 peptides to peptides.fasta\n"
     ]
    }
   ],
   "source": [
    "# Convert cleaned peptides to FASTA format for alignment\n",
    "from pathlib import Path\n",
    "\n",
    "# Save peptides from filtered_df to FASTA format\n",
    "def save_peptides_to_fasta(df, fasta_path, peptide_column=\"Cleaned Sequence\"):\n",
    "    with open(fasta_path, \"w\") as f:\n",
    "        for i, pep in enumerate(df[peptide_column]):\n",
    "            f.write(f\">peptide_{i}\\n{pep}\\n\")\n",
    "    print(f\"Saved {len(df)} peptides to {fasta_path}\")\n",
    "\n",
    "peptide_fasta = \"peptides.fasta\"\n",
    "save_peptides_to_fasta(filtered_df, peptide_fasta)\n"
   ]
  },
  {
   "cell_type": "code",
   "execution_count": 7,
   "id": "756fbf2b",
   "metadata": {},
   "outputs": [
    {
     "name": "stdout",
     "output_type": "stream",
     "text": [
      "PAM70.mat already exists ✅\n"
     ]
    }
   ],
   "source": [
    "# Check if PAM70 matrix is installed already and download it if not\n",
    "import os\n",
    "import urllib.request\n",
    "\n",
    "# Define local path and remote URL\n",
    "pam70_path = base_path / \"software_tools\" / \"PAM70.mat\"\n",
    "pam70_url = \"https://raw.githubusercontent.com/hbckleikamp/NovoLign/main/PAM70.mat\"\n",
    "\n",
    "# Check if file exists, otherwise download\n",
    "if os.path.exists(pam70_path):\n",
    "    print(\"PAM70.mat already exists ✅\")\n",
    "else:\n",
    "    print(\"PAM70.mat not found. Downloading...\")\n",
    "    urllib.request.urlretrieve(pam70_url, pam70_path)\n",
    "    print(\"PAM70.mat downloaded successfully ✅\")"
   ]
  },
  {
   "cell_type": "code",
   "execution_count": 32,
   "id": "f719b937",
   "metadata": {},
   "outputs": [
    {
     "name": "stdout",
     "output_type": "stream",
     "text": [
      "Using custom scoring matrix PAM70.mat\n",
      "Running DIAMOND alignment...\n",
      "DIAMOND alignment complete. Results saved to: c:\\Users\\Yusuf\\OneDrive\\LST\\Derde_jaar\\Y3Q4\\Metaproteomics_with_db\\Diamond_alignments\\garmerwoldepeptides_uniref100_aligned.tsv\n"
     ]
    }
   ],
   "source": [
    "# This script runs the DIAMOND alignment\n",
    "import os\n",
    "import subprocess\n",
    "\n",
    "# File paths and names\n",
    "diamond_exe = base_path / \"software_tools\" / \"diamond.exe\"\n",
    "query_fasta = base_path / \"peptides.fasta\"\n",
    "diamond_db = r\"E:\\Uniref100.dmnd\"\n",
    "output_dir = base_path / \"Diamond_alignments\"\n",
    "output_file = os.path.join(output_dir, \"garmerwoldepeptides_uniref100_aligned.tsv\")\n",
    "\n",
    "# Make sure output directory exists\n",
    "os.makedirs(output_dir, exist_ok=True)\n",
    "\n",
    "# Build DIAMOND command with NovoLign parameters\n",
    "diamond_command = [\n",
    "    diamond_exe, \"blastp\",\n",
    "    \"-q\", query_fasta,\n",
    "    \"-d\", diamond_db,\n",
    "    \"-o\", output_file,\n",
    "    \"-k\", \"50\",\n",
    "    \"--id\", \"85\",\n",
    "    \"--query-cover\", \"80\",\n",
    "    \"--min-score\", \"20\",\n",
    "    \"--gapopen\", \"2\",\n",
    "    \"--gapextend\", \"4\",\n",
    "    \"--algo\", \"ctg\",\n",
    "    \"-f\", \"6\", \"qseqid\", \"sseqid\", \"pident\", \"bitscore\", \"qseq\", \"sseq\",\n",
    "]\n",
    "\n",
    "# Include PAM70 scoring matrix if present\n",
    "pam70_path = base_path / \"software_tools\" / \"PAM70.mat\"\n",
    "if os.path.exists(pam70_path):\n",
    "    diamond_command += [\"--custom-matrix\", pam70_path]\n",
    "    print(\"Using custom scoring matrix PAM70.mat\")\n",
    "\n",
    "# Run DIAMOND\n",
    "print(\"Running DIAMOND alignment...\")\n",
    "try:\n",
    "    subprocess.run(diamond_command, check=True)\n",
    "    print(f\"DIAMOND alignment complete. Results saved to: {output_file}\")\n",
    "except subprocess.CalledProcessError as e:\n",
    "    print(f\"❌ DIAMOND failed: {e}\")\n"
   ]
  },
  {
   "cell_type": "code",
   "execution_count": 33,
   "id": "b53310cd",
   "metadata": {},
   "outputs": [
    {
     "name": "stdout",
     "output_type": "stream",
     "text": [
      "Loaded 59329 alignments.\n"
     ]
    },
    {
     "data": {
      "text/plain": [
       "(59329, 6)"
      ]
     },
     "metadata": {},
     "output_type": "display_data"
    },
    {
     "data": {
      "text/html": [
       "<div>\n",
       "<style scoped>\n",
       "    .dataframe tbody tr th:only-of-type {\n",
       "        vertical-align: middle;\n",
       "    }\n",
       "\n",
       "    .dataframe tbody tr th {\n",
       "        vertical-align: top;\n",
       "    }\n",
       "\n",
       "    .dataframe thead th {\n",
       "        text-align: right;\n",
       "    }\n",
       "</style>\n",
       "<table border=\"1\" class=\"dataframe\">\n",
       "  <thead>\n",
       "    <tr style=\"text-align: right;\">\n",
       "      <th></th>\n",
       "      <th>qseqid</th>\n",
       "      <th>sseqid</th>\n",
       "      <th>pident</th>\n",
       "      <th>bitscore</th>\n",
       "      <th>qseq</th>\n",
       "      <th>sseq</th>\n",
       "    </tr>\n",
       "  </thead>\n",
       "  <tbody>\n",
       "    <tr>\n",
       "      <th>0</th>\n",
       "      <td>peptide_2</td>\n",
       "      <td>UniRef100_A0A011QQ48</td>\n",
       "      <td>100.0</td>\n",
       "      <td>24.8</td>\n",
       "      <td>MAGSQTAMTR</td>\n",
       "      <td>MAGSQTAMTR</td>\n",
       "    </tr>\n",
       "    <tr>\n",
       "      <th>1</th>\n",
       "      <td>peptide_2</td>\n",
       "      <td>UniRef100_UPI0025C051C6</td>\n",
       "      <td>100.0</td>\n",
       "      <td>24.8</td>\n",
       "      <td>MAGSQTAMTR</td>\n",
       "      <td>MAGSQTAMTR</td>\n",
       "    </tr>\n",
       "    <tr>\n",
       "      <th>2</th>\n",
       "      <td>peptide_2</td>\n",
       "      <td>UniRef100_UPI0028C430E3</td>\n",
       "      <td>100.0</td>\n",
       "      <td>24.8</td>\n",
       "      <td>MAGSQTAMTR</td>\n",
       "      <td>MAGSQTAMTR</td>\n",
       "    </tr>\n",
       "    <tr>\n",
       "      <th>3</th>\n",
       "      <td>peptide_2</td>\n",
       "      <td>UniRef100_UPI0025B9E656</td>\n",
       "      <td>100.0</td>\n",
       "      <td>24.8</td>\n",
       "      <td>MAGSQTAMTR</td>\n",
       "      <td>MAGSQTAMTR</td>\n",
       "    </tr>\n",
       "    <tr>\n",
       "      <th>4</th>\n",
       "      <td>peptide_2</td>\n",
       "      <td>UniRef100_UPI00145EEA31</td>\n",
       "      <td>100.0</td>\n",
       "      <td>24.8</td>\n",
       "      <td>MAGSQTAMTR</td>\n",
       "      <td>MAGSQTAMTR</td>\n",
       "    </tr>\n",
       "  </tbody>\n",
       "</table>\n",
       "</div>"
      ],
      "text/plain": [
       "      qseqid                   sseqid  pident  bitscore        qseq  \\\n",
       "0  peptide_2     UniRef100_A0A011QQ48   100.0      24.8  MAGSQTAMTR   \n",
       "1  peptide_2  UniRef100_UPI0025C051C6   100.0      24.8  MAGSQTAMTR   \n",
       "2  peptide_2  UniRef100_UPI0028C430E3   100.0      24.8  MAGSQTAMTR   \n",
       "3  peptide_2  UniRef100_UPI0025B9E656   100.0      24.8  MAGSQTAMTR   \n",
       "4  peptide_2  UniRef100_UPI00145EEA31   100.0      24.8  MAGSQTAMTR   \n",
       "\n",
       "         sseq  \n",
       "0  MAGSQTAMTR  \n",
       "1  MAGSQTAMTR  \n",
       "2  MAGSQTAMTR  \n",
       "3  MAGSQTAMTR  \n",
       "4  MAGSQTAMTR  "
      ]
     },
     "metadata": {},
     "output_type": "display_data"
    },
    {
     "name": "stdout",
     "output_type": "stream",
     "text": [
      "Found 33301 unique matched protein IDs.\n"
     ]
    }
   ],
   "source": [
    "# Load and Extract Matched Protein Accessions\n",
    "import pandas as pd\n",
    "\n",
    "# Load DIAMOND output\n",
    "diamond_output_path = base_path / \"Diamond_alignments/garmerwoldepeptides_uniref100_aligned.tsv\"\n",
    "\n",
    "# Define column names used in DIAMOND command\n",
    "columns = [\"qseqid\", \"sseqid\", \"pident\", \"bitscore\", \"qseq\", \"sseq\"]\n",
    "\n",
    "# Read into DataFrame\n",
    "diamond_df = pd.read_csv(diamond_output_path, sep=\"\\t\", header=None, names=columns)\n",
    "print(f\"Loaded {len(diamond_df)} alignments.\")\n",
    "display(diamond_df.shape)\n",
    "\n",
    "# Show top rows\n",
    "display(diamond_df.head())\n",
    "\n",
    "# Extract unique matched protein accessions (sseqid)\n",
    "unique_proteins = diamond_df[\"sseqid\"].unique()\n",
    "print(f\"Found {len(unique_proteins)} unique matched protein IDs.\")"
   ]
  },
  {
   "cell_type": "code",
   "execution_count": 34,
   "id": "de343d26",
   "metadata": {},
   "outputs": [
    {
     "data": {
      "text/plain": [
       "(59329, 7)"
      ]
     },
     "metadata": {},
     "output_type": "display_data"
    },
    {
     "data": {
      "text/html": [
       "<div>\n",
       "<style scoped>\n",
       "    .dataframe tbody tr th:only-of-type {\n",
       "        vertical-align: middle;\n",
       "    }\n",
       "\n",
       "    .dataframe tbody tr th {\n",
       "        vertical-align: top;\n",
       "    }\n",
       "\n",
       "    .dataframe thead th {\n",
       "        text-align: right;\n",
       "    }\n",
       "</style>\n",
       "<table border=\"1\" class=\"dataframe\">\n",
       "  <thead>\n",
       "    <tr style=\"text-align: right;\">\n",
       "      <th></th>\n",
       "      <th>sseqid</th>\n",
       "      <th>accession</th>\n",
       "    </tr>\n",
       "  </thead>\n",
       "  <tbody>\n",
       "    <tr>\n",
       "      <th>0</th>\n",
       "      <td>UniRef100_A0A011QQ48</td>\n",
       "      <td>A0A011QQ48</td>\n",
       "    </tr>\n",
       "    <tr>\n",
       "      <th>1</th>\n",
       "      <td>UniRef100_UPI0025C051C6</td>\n",
       "      <td>UPI0025C051C6</td>\n",
       "    </tr>\n",
       "    <tr>\n",
       "      <th>2</th>\n",
       "      <td>UniRef100_UPI0028C430E3</td>\n",
       "      <td>UPI0028C430E3</td>\n",
       "    </tr>\n",
       "    <tr>\n",
       "      <th>3</th>\n",
       "      <td>UniRef100_UPI0025B9E656</td>\n",
       "      <td>UPI0025B9E656</td>\n",
       "    </tr>\n",
       "    <tr>\n",
       "      <th>4</th>\n",
       "      <td>UniRef100_UPI00145EEA31</td>\n",
       "      <td>UPI00145EEA31</td>\n",
       "    </tr>\n",
       "  </tbody>\n",
       "</table>\n",
       "</div>"
      ],
      "text/plain": [
       "                    sseqid      accession\n",
       "0     UniRef100_A0A011QQ48     A0A011QQ48\n",
       "1  UniRef100_UPI0025C051C6  UPI0025C051C6\n",
       "2  UniRef100_UPI0028C430E3  UPI0028C430E3\n",
       "3  UniRef100_UPI0025B9E656  UPI0025B9E656\n",
       "4  UniRef100_UPI00145EEA31  UPI00145EEA31"
      ]
     },
     "metadata": {},
     "output_type": "display_data"
    },
    {
     "name": "stdout",
     "output_type": "stream",
     "text": [
      "✅ Accessions to map: 33301\n"
     ]
    }
   ],
   "source": [
    "# Extract UniProt Accessions and Organism Info\n",
    "import re\n",
    "\n",
    "# Extract UniProt accession from UniRef headers (e.g., \"UniRef90_A0A1S2ZP88\" → \"A0A1S2ZP88\")\n",
    "def extract_accession(sseqid):\n",
    "    match = re.search(r\"[A-Z0-9]+$\", sseqid)\n",
    "    return match.group(0) if match else None\n",
    "\n",
    "# Apply to all matched sequences\n",
    "diamond_df[\"accession\"] = diamond_df[\"sseqid\"].apply(extract_accession)\n",
    "\n",
    "# Display sample\n",
    "display(diamond_df.shape)\n",
    "display(diamond_df[[\"sseqid\", \"accession\"]].drop_duplicates().head())\n",
    "\n",
    "# Count how many valid accessions were extracted\n",
    "accessions = diamond_df[\"accession\"].dropna().unique().tolist()\n",
    "print(f\"✅ Accessions to map: {len(accessions)}\")"
   ]
  },
  {
   "cell_type": "code",
   "execution_count": 35,
   "id": "7d59712f",
   "metadata": {},
   "outputs": [
    {
     "name": "stdout",
     "output_type": "stream",
     "text": [
      "🔢 Total unique accessions: 33301\n",
      "\n",
      "🚀 Submitting chunk 1/67 (size: 500)\n",
      "🆔 Job ID: lqZD7cw9vC\n",
      "⏳ Still processing...\n",
      "⏳ Still processing...\n",
      "⏳ Still processing...\n",
      "⏳ Still processing...\n",
      "⏳ Still processing...\n",
      "✅ Job completed.\n",
      "⬇️ Downloading all paginated results...\n",
      "✅ Downloaded total 308 mapped accessions.\n",
      "✅ Mapped 308 accessions.\n",
      "\n",
      "🚀 Submitting chunk 2/67 (size: 500)\n",
      "🆔 Job ID: bbHPe44MwE\n",
      "⏳ Still processing...\n",
      "⏳ Still processing...\n",
      "⏳ Still processing...\n",
      "⏳ Still processing...\n",
      "⏳ Still processing...\n",
      "✅ Job completed.\n",
      "⬇️ Downloading all paginated results...\n",
      "✅ Downloaded total 304 mapped accessions.\n",
      "✅ Mapped 304 accessions.\n",
      "\n",
      "🚀 Submitting chunk 3/67 (size: 500)\n",
      "🆔 Job ID: eMSCsFKJI4\n",
      "⏳ Still processing...\n",
      "⏳ Still processing...\n",
      "⏳ Still processing...\n",
      "⏳ Still processing...\n",
      "⏳ Still processing...\n",
      "✅ Job completed.\n",
      "⬇️ Downloading all paginated results...\n",
      "✅ Downloaded total 328 mapped accessions.\n",
      "✅ Mapped 328 accessions.\n",
      "\n",
      "🚀 Submitting chunk 4/67 (size: 500)\n",
      "🆔 Job ID: u6qGp0XVro\n",
      "⏳ Still processing...\n",
      "⏳ Still processing...\n",
      "⏳ Still processing...\n",
      "⏳ Still processing...\n",
      "⏳ Still processing...\n",
      "✅ Job completed.\n",
      "⬇️ Downloading all paginated results...\n",
      "✅ Downloaded total 261 mapped accessions.\n",
      "✅ Mapped 261 accessions.\n",
      "\n",
      "🚀 Submitting chunk 5/67 (size: 500)\n",
      "🆔 Job ID: yN29KT3cgP\n",
      "⏳ Still processing...\n",
      "⏳ Still processing...\n",
      "⏳ Still processing...\n",
      "⏳ Still processing...\n",
      "⏳ Still processing...\n",
      "⏳ Still processing...\n",
      "✅ Job completed.\n",
      "⬇️ Downloading all paginated results...\n",
      "✅ Downloaded total 338 mapped accessions.\n",
      "✅ Mapped 338 accessions.\n",
      "\n",
      "🚀 Submitting chunk 6/67 (size: 500)\n",
      "🆔 Job ID: h47DC0lWJ2\n",
      "⏳ Still processing...\n",
      "⏳ Still processing...\n",
      "⏳ Still processing...\n",
      "⏳ Still processing...\n",
      "⏳ Still processing...\n",
      "✅ Job completed.\n",
      "⬇️ Downloading all paginated results...\n",
      "✅ Downloaded total 365 mapped accessions.\n",
      "✅ Mapped 365 accessions.\n",
      "\n",
      "🚀 Submitting chunk 7/67 (size: 500)\n",
      "🆔 Job ID: gpDuNVlDDb\n",
      "⏳ Still processing...\n",
      "⏳ Still processing...\n",
      "⏳ Still processing...\n",
      "⏳ Still processing...\n",
      "⏳ Still processing...\n",
      "⏳ Still processing...\n",
      "✅ Job completed.\n",
      "⬇️ Downloading all paginated results...\n",
      "✅ Downloaded total 331 mapped accessions.\n",
      "✅ Mapped 331 accessions.\n",
      "\n",
      "🚀 Submitting chunk 8/67 (size: 500)\n",
      "🆔 Job ID: xprVbGncYh\n",
      "⏳ Still processing...\n",
      "⏳ Still processing...\n",
      "⏳ Still processing...\n",
      "⏳ Still processing...\n",
      "⏳ Still processing...\n",
      "⏳ Still processing...\n",
      "✅ Job completed.\n",
      "⬇️ Downloading all paginated results...\n",
      "✅ Downloaded total 332 mapped accessions.\n",
      "✅ Mapped 332 accessions.\n",
      "\n",
      "🚀 Submitting chunk 9/67 (size: 500)\n",
      "🆔 Job ID: fSERZoSBOP\n",
      "⏳ Still processing...\n",
      "⏳ Still processing...\n",
      "⏳ Still processing...\n",
      "⏳ Still processing...\n",
      "⏳ Still processing...\n",
      "✅ Job completed.\n",
      "⬇️ Downloading all paginated results...\n",
      "✅ Downloaded total 341 mapped accessions.\n",
      "✅ Mapped 341 accessions.\n",
      "\n",
      "🚀 Submitting chunk 10/67 (size: 500)\n",
      "🆔 Job ID: 4tzSu6IQw7\n",
      "⏳ Still processing...\n",
      "⏳ Still processing...\n",
      "⏳ Still processing...\n",
      "⏳ Still processing...\n",
      "⏳ Still processing...\n",
      "⏳ Still processing...\n",
      "✅ Job completed.\n",
      "⬇️ Downloading all paginated results...\n",
      "✅ Downloaded total 391 mapped accessions.\n",
      "✅ Mapped 391 accessions.\n",
      "\n",
      "🚀 Submitting chunk 11/67 (size: 500)\n",
      "🆔 Job ID: z6zmSG6TXp\n",
      "⏳ Still processing...\n",
      "⏳ Still processing...\n",
      "⏳ Still processing...\n",
      "⏳ Still processing...\n",
      "⏳ Still processing...\n",
      "✅ Job completed.\n",
      "⬇️ Downloading all paginated results...\n",
      "✅ Downloaded total 319 mapped accessions.\n",
      "✅ Mapped 319 accessions.\n",
      "\n",
      "🚀 Submitting chunk 12/67 (size: 500)\n",
      "🆔 Job ID: xcZda3hNLK\n",
      "⏳ Still processing...\n",
      "⏳ Still processing...\n",
      "⏳ Still processing...\n",
      "⏳ Still processing...\n",
      "⏳ Still processing...\n",
      "✅ Job completed.\n",
      "⬇️ Downloading all paginated results...\n",
      "✅ Downloaded total 296 mapped accessions.\n",
      "✅ Mapped 296 accessions.\n",
      "\n",
      "🚀 Submitting chunk 13/67 (size: 500)\n",
      "🆔 Job ID: dHQkyXtOMy\n",
      "⏳ Still processing...\n",
      "⏳ Still processing...\n",
      "⏳ Still processing...\n",
      "⏳ Still processing...\n",
      "⏳ Still processing...\n",
      "✅ Job completed.\n",
      "⬇️ Downloading all paginated results...\n",
      "✅ Downloaded total 306 mapped accessions.\n",
      "✅ Mapped 306 accessions.\n",
      "\n",
      "🚀 Submitting chunk 14/67 (size: 500)\n",
      "🆔 Job ID: aUvJtFXTwf\n",
      "⏳ Still processing...\n",
      "⏳ Still processing...\n",
      "⏳ Still processing...\n",
      "⏳ Still processing...\n",
      "⏳ Still processing...\n",
      "✅ Job completed.\n",
      "⬇️ Downloading all paginated results...\n",
      "✅ Downloaded total 292 mapped accessions.\n",
      "✅ Mapped 292 accessions.\n",
      "\n",
      "🚀 Submitting chunk 15/67 (size: 500)\n",
      "🆔 Job ID: 6PKlg5oxkF\n",
      "⏳ Still processing...\n",
      "⏳ Still processing...\n",
      "⏳ Still processing...\n",
      "⏳ Still processing...\n",
      "⏳ Still processing...\n",
      "✅ Job completed.\n",
      "⬇️ Downloading all paginated results...\n",
      "✅ Downloaded total 339 mapped accessions.\n",
      "✅ Mapped 339 accessions.\n",
      "\n",
      "🚀 Submitting chunk 16/67 (size: 500)\n",
      "🆔 Job ID: k5wqnkHmBN\n",
      "⏳ Still processing...\n",
      "⏳ Still processing...\n",
      "⏳ Still processing...\n",
      "⏳ Still processing...\n",
      "⏳ Still processing...\n",
      "✅ Job completed.\n",
      "⬇️ Downloading all paginated results...\n",
      "✅ Downloaded total 359 mapped accessions.\n",
      "✅ Mapped 359 accessions.\n",
      "\n",
      "🚀 Submitting chunk 17/67 (size: 500)\n",
      "🆔 Job ID: 3zinPnEfwY\n",
      "⏳ Still processing...\n",
      "⏳ Still processing...\n",
      "⏳ Still processing...\n",
      "⏳ Still processing...\n",
      "✅ Job completed.\n",
      "⬇️ Downloading all paginated results...\n",
      "✅ Downloaded total 295 mapped accessions.\n",
      "✅ Mapped 295 accessions.\n",
      "\n",
      "🚀 Submitting chunk 18/67 (size: 500)\n",
      "🆔 Job ID: h3xM52BhSV\n",
      "⏳ Still processing...\n",
      "⏳ Still processing...\n",
      "⏳ Still processing...\n",
      "⏳ Still processing...\n",
      "⏳ Still processing...\n",
      "✅ Job completed.\n",
      "⬇️ Downloading all paginated results...\n",
      "✅ Downloaded total 295 mapped accessions.\n",
      "✅ Mapped 295 accessions.\n",
      "\n",
      "🚀 Submitting chunk 19/67 (size: 500)\n",
      "🆔 Job ID: y97s5UNVuP\n",
      "⏳ Still processing...\n",
      "⏳ Still processing...\n",
      "⏳ Still processing...\n",
      "⏳ Still processing...\n",
      "⏳ Still processing...\n",
      "✅ Job completed.\n",
      "⬇️ Downloading all paginated results...\n",
      "✅ Downloaded total 344 mapped accessions.\n",
      "✅ Mapped 344 accessions.\n",
      "\n",
      "🚀 Submitting chunk 20/67 (size: 500)\n",
      "🆔 Job ID: a4LsTYSptp\n",
      "⏳ Still processing...\n",
      "⏳ Still processing...\n",
      "⏳ Still processing...\n",
      "⏳ Still processing...\n",
      "⏳ Still processing...\n",
      "✅ Job completed.\n",
      "⬇️ Downloading all paginated results...\n",
      "✅ Downloaded total 280 mapped accessions.\n",
      "✅ Mapped 280 accessions.\n",
      "\n",
      "🚀 Submitting chunk 21/67 (size: 500)\n",
      "🆔 Job ID: gLw7HgPMiV\n",
      "⏳ Still processing...\n",
      "⏳ Still processing...\n",
      "⏳ Still processing...\n",
      "⏳ Still processing...\n",
      "⏳ Still processing...\n",
      "⏳ Still processing...\n",
      "✅ Job completed.\n",
      "⬇️ Downloading all paginated results...\n",
      "✅ Downloaded total 305 mapped accessions.\n",
      "✅ Mapped 305 accessions.\n",
      "\n",
      "🚀 Submitting chunk 22/67 (size: 500)\n",
      "🆔 Job ID: 9IrDiOWjYK\n",
      "⏳ Still processing...\n",
      "⏳ Still processing...\n",
      "⏳ Still processing...\n",
      "⏳ Still processing...\n",
      "⏳ Still processing...\n",
      "⏳ Still processing...\n",
      "✅ Job completed.\n",
      "⬇️ Downloading all paginated results...\n",
      "✅ Downloaded total 331 mapped accessions.\n",
      "✅ Mapped 331 accessions.\n",
      "\n",
      "🚀 Submitting chunk 23/67 (size: 500)\n",
      "🆔 Job ID: wsLjqOMIsn\n",
      "⏳ Still processing...\n",
      "⏳ Still processing...\n",
      "⏳ Still processing...\n",
      "⏳ Still processing...\n",
      "⏳ Still processing...\n",
      "✅ Job completed.\n",
      "⬇️ Downloading all paginated results...\n",
      "✅ Downloaded total 327 mapped accessions.\n",
      "✅ Mapped 327 accessions.\n",
      "\n",
      "🚀 Submitting chunk 24/67 (size: 500)\n",
      "🆔 Job ID: sEmIRUnarC\n",
      "⏳ Still processing...\n",
      "⏳ Still processing...\n",
      "⏳ Still processing...\n",
      "⏳ Still processing...\n",
      "✅ Job completed.\n",
      "⬇️ Downloading all paginated results...\n",
      "✅ Downloaded total 297 mapped accessions.\n",
      "✅ Mapped 297 accessions.\n",
      "\n",
      "🚀 Submitting chunk 25/67 (size: 500)\n",
      "🆔 Job ID: kBdS9VzjLk\n",
      "⏳ Still processing...\n",
      "⏳ Still processing...\n",
      "⏳ Still processing...\n",
      "⏳ Still processing...\n",
      "⏳ Still processing...\n",
      "✅ Job completed.\n",
      "⬇️ Downloading all paginated results...\n",
      "✅ Downloaded total 329 mapped accessions.\n",
      "✅ Mapped 329 accessions.\n",
      "\n",
      "🚀 Submitting chunk 26/67 (size: 500)\n",
      "🆔 Job ID: lhza6DFKt3\n",
      "⏳ Still processing...\n",
      "⏳ Still processing...\n",
      "⏳ Still processing...\n",
      "⏳ Still processing...\n",
      "✅ Job completed.\n",
      "⬇️ Downloading all paginated results...\n",
      "✅ Downloaded total 252 mapped accessions.\n",
      "✅ Mapped 252 accessions.\n",
      "\n",
      "🚀 Submitting chunk 27/67 (size: 500)\n",
      "🆔 Job ID: agFSnvonLR\n",
      "⏳ Still processing...\n",
      "⏳ Still processing...\n",
      "⏳ Still processing...\n",
      "⏳ Still processing...\n",
      "⏳ Still processing...\n",
      "✅ Job completed.\n",
      "⬇️ Downloading all paginated results...\n",
      "✅ Downloaded total 313 mapped accessions.\n",
      "✅ Mapped 313 accessions.\n",
      "\n",
      "🚀 Submitting chunk 28/67 (size: 500)\n",
      "🆔 Job ID: tLp7vVV8Wv\n",
      "⏳ Still processing...\n",
      "⏳ Still processing...\n",
      "✅ Job completed.\n",
      "⬇️ Downloading all paginated results...\n",
      "✅ Downloaded total 297 mapped accessions.\n",
      "✅ Mapped 297 accessions.\n",
      "\n",
      "🚀 Submitting chunk 29/67 (size: 500)\n",
      "🆔 Job ID: uJ2M1qqou4\n",
      "⏳ Still processing...\n",
      "⏳ Still processing...\n",
      "⏳ Still processing...\n",
      "⏳ Still processing...\n",
      "⏳ Still processing...\n",
      "⏳ Still processing...\n",
      "✅ Job completed.\n",
      "⬇️ Downloading all paginated results...\n",
      "✅ Downloaded total 279 mapped accessions.\n",
      "✅ Mapped 279 accessions.\n",
      "\n",
      "🚀 Submitting chunk 30/67 (size: 500)\n",
      "🆔 Job ID: 1S6uJ03c7V\n",
      "⏳ Still processing...\n",
      "⏳ Still processing...\n",
      "⏳ Still processing...\n",
      "⏳ Still processing...\n",
      "⏳ Still processing...\n",
      "✅ Job completed.\n",
      "⬇️ Downloading all paginated results...\n",
      "✅ Downloaded total 299 mapped accessions.\n",
      "✅ Mapped 299 accessions.\n",
      "\n",
      "🚀 Submitting chunk 31/67 (size: 500)\n",
      "🆔 Job ID: 4ZogMrkV3K\n",
      "⏳ Still processing...\n",
      "⏳ Still processing...\n",
      "⏳ Still processing...\n",
      "⏳ Still processing...\n",
      "⏳ Still processing...\n",
      "✅ Job completed.\n",
      "⬇️ Downloading all paginated results...\n",
      "✅ Downloaded total 343 mapped accessions.\n",
      "✅ Mapped 343 accessions.\n",
      "\n",
      "🚀 Submitting chunk 32/67 (size: 500)\n",
      "🆔 Job ID: l1bvKvXOsZ\n",
      "⏳ Still processing...\n",
      "⏳ Still processing...\n",
      "⏳ Still processing...\n",
      "⏳ Still processing...\n",
      "⏳ Still processing...\n",
      "✅ Job completed.\n",
      "⬇️ Downloading all paginated results...\n",
      "✅ Downloaded total 293 mapped accessions.\n",
      "✅ Mapped 293 accessions.\n",
      "\n",
      "🚀 Submitting chunk 33/67 (size: 500)\n",
      "🆔 Job ID: z2iEfmAKDW\n",
      "⏳ Still processing...\n",
      "⏳ Still processing...\n",
      "⏳ Still processing...\n",
      "⏳ Still processing...\n",
      "⏳ Still processing...\n",
      "✅ Job completed.\n",
      "⬇️ Downloading all paginated results...\n",
      "✅ Downloaded total 297 mapped accessions.\n",
      "✅ Mapped 297 accessions.\n",
      "\n",
      "🚀 Submitting chunk 34/67 (size: 500)\n",
      "🆔 Job ID: nT1L2yTfoq\n",
      "⏳ Still processing...\n",
      "⏳ Still processing...\n",
      "⏳ Still processing...\n",
      "⏳ Still processing...\n",
      "⏳ Still processing...\n",
      "✅ Job completed.\n",
      "⬇️ Downloading all paginated results...\n",
      "✅ Downloaded total 318 mapped accessions.\n",
      "✅ Mapped 318 accessions.\n",
      "\n",
      "🚀 Submitting chunk 35/67 (size: 500)\n",
      "🆔 Job ID: rSaOvmao7i\n",
      "⏳ Still processing...\n",
      "⏳ Still processing...\n",
      "⏳ Still processing...\n",
      "⏳ Still processing...\n",
      "⏳ Still processing...\n",
      "✅ Job completed.\n",
      "⬇️ Downloading all paginated results...\n",
      "✅ Downloaded total 308 mapped accessions.\n",
      "✅ Mapped 308 accessions.\n",
      "\n",
      "🚀 Submitting chunk 36/67 (size: 500)\n",
      "🆔 Job ID: mKP6pwsVqF\n",
      "⏳ Still processing...\n",
      "⏳ Still processing...\n",
      "⏳ Still processing...\n",
      "⏳ Still processing...\n",
      "✅ Job completed.\n",
      "⬇️ Downloading all paginated results...\n",
      "✅ Downloaded total 309 mapped accessions.\n",
      "✅ Mapped 309 accessions.\n",
      "\n",
      "🚀 Submitting chunk 37/67 (size: 500)\n",
      "🆔 Job ID: bZH7Dkr4rh\n",
      "⏳ Still processing...\n",
      "⏳ Still processing...\n",
      "⏳ Still processing...\n",
      "⏳ Still processing...\n",
      "⏳ Still processing...\n",
      "✅ Job completed.\n",
      "⬇️ Downloading all paginated results...\n",
      "✅ Downloaded total 309 mapped accessions.\n",
      "✅ Mapped 309 accessions.\n",
      "\n",
      "🚀 Submitting chunk 38/67 (size: 500)\n",
      "🆔 Job ID: olT4br1baM\n",
      "⏳ Still processing...\n",
      "⏳ Still processing...\n",
      "⏳ Still processing...\n",
      "⏳ Still processing...\n",
      "✅ Job completed.\n",
      "⬇️ Downloading all paginated results...\n",
      "✅ Downloaded total 258 mapped accessions.\n",
      "✅ Mapped 258 accessions.\n",
      "\n",
      "🚀 Submitting chunk 39/67 (size: 500)\n",
      "🆔 Job ID: n2crHb8bAF\n",
      "⏳ Still processing...\n",
      "⏳ Still processing...\n",
      "⏳ Still processing...\n",
      "⏳ Still processing...\n",
      "⏳ Still processing...\n",
      "⏳ Still processing...\n",
      "✅ Job completed.\n",
      "⬇️ Downloading all paginated results...\n",
      "✅ Downloaded total 350 mapped accessions.\n",
      "✅ Mapped 350 accessions.\n",
      "\n",
      "🚀 Submitting chunk 40/67 (size: 500)\n",
      "🆔 Job ID: sYGSx2Isbk\n",
      "⏳ Still processing...\n",
      "⏳ Still processing...\n",
      "⏳ Still processing...\n",
      "⏳ Still processing...\n",
      "✅ Job completed.\n",
      "⬇️ Downloading all paginated results...\n",
      "✅ Downloaded total 303 mapped accessions.\n",
      "✅ Mapped 303 accessions.\n",
      "\n",
      "🚀 Submitting chunk 41/67 (size: 500)\n",
      "🆔 Job ID: 2iCcjbsFCk\n",
      "⏳ Still processing...\n",
      "⏳ Still processing...\n",
      "⏳ Still processing...\n",
      "⏳ Still processing...\n",
      "⏳ Still processing...\n",
      "⏳ Still processing...\n",
      "✅ Job completed.\n",
      "⬇️ Downloading all paginated results...\n",
      "✅ Downloaded total 373 mapped accessions.\n",
      "✅ Mapped 373 accessions.\n",
      "\n",
      "🚀 Submitting chunk 42/67 (size: 500)\n",
      "🆔 Job ID: 2958LycHqs\n",
      "⏳ Still processing...\n",
      "⏳ Still processing...\n",
      "⏳ Still processing...\n",
      "⏳ Still processing...\n",
      "✅ Job completed.\n",
      "⬇️ Downloading all paginated results...\n",
      "✅ Downloaded total 318 mapped accessions.\n",
      "✅ Mapped 318 accessions.\n",
      "\n",
      "🚀 Submitting chunk 43/67 (size: 500)\n",
      "🆔 Job ID: odWSYSzBt6\n",
      "⏳ Still processing...\n",
      "⏳ Still processing...\n",
      "⏳ Still processing...\n",
      "⏳ Still processing...\n",
      "⏳ Still processing...\n",
      "✅ Job completed.\n",
      "⬇️ Downloading all paginated results...\n",
      "✅ Downloaded total 274 mapped accessions.\n",
      "✅ Mapped 274 accessions.\n",
      "\n",
      "🚀 Submitting chunk 44/67 (size: 500)\n",
      "🆔 Job ID: bJEwbs0PRX\n",
      "⏳ Still processing...\n",
      "⏳ Still processing...\n",
      "⏳ Still processing...\n",
      "⏳ Still processing...\n",
      "⏳ Still processing...\n",
      "✅ Job completed.\n",
      "⬇️ Downloading all paginated results...\n",
      "✅ Downloaded total 345 mapped accessions.\n",
      "✅ Mapped 345 accessions.\n",
      "\n",
      "🚀 Submitting chunk 45/67 (size: 500)\n",
      "🆔 Job ID: eM99u02Qts\n",
      "⏳ Still processing...\n",
      "⏳ Still processing...\n",
      "⏳ Still processing...\n",
      "⏳ Still processing...\n",
      "⏳ Still processing...\n",
      "✅ Job completed.\n",
      "⬇️ Downloading all paginated results...\n",
      "✅ Downloaded total 299 mapped accessions.\n",
      "✅ Mapped 299 accessions.\n",
      "\n",
      "🚀 Submitting chunk 46/67 (size: 500)\n",
      "🆔 Job ID: mOeKMrPl3k\n",
      "⏳ Still processing...\n",
      "⏳ Still processing...\n",
      "⏳ Still processing...\n",
      "⏳ Still processing...\n",
      "✅ Job completed.\n",
      "⬇️ Downloading all paginated results...\n",
      "✅ Downloaded total 286 mapped accessions.\n",
      "✅ Mapped 286 accessions.\n",
      "\n",
      "🚀 Submitting chunk 47/67 (size: 500)\n",
      "🆔 Job ID: iATwJIpEtY\n",
      "⏳ Still processing...\n",
      "⏳ Still processing...\n",
      "⏳ Still processing...\n",
      "⏳ Still processing...\n",
      "⏳ Still processing...\n",
      "✅ Job completed.\n",
      "⬇️ Downloading all paginated results...\n",
      "✅ Downloaded total 323 mapped accessions.\n",
      "✅ Mapped 323 accessions.\n",
      "\n",
      "🚀 Submitting chunk 48/67 (size: 500)\n",
      "🆔 Job ID: x7XFssiezc\n",
      "⏳ Still processing...\n",
      "⏳ Still processing...\n",
      "⏳ Still processing...\n",
      "⏳ Still processing...\n",
      "⏳ Still processing...\n",
      "✅ Job completed.\n",
      "⬇️ Downloading all paginated results...\n",
      "✅ Downloaded total 300 mapped accessions.\n",
      "✅ Mapped 300 accessions.\n",
      "\n",
      "🚀 Submitting chunk 49/67 (size: 500)\n",
      "🆔 Job ID: 8BpAcbx8sE\n",
      "⏳ Still processing...\n",
      "⏳ Still processing...\n",
      "⏳ Still processing...\n",
      "⏳ Still processing...\n",
      "✅ Job completed.\n",
      "⬇️ Downloading all paginated results...\n",
      "✅ Downloaded total 236 mapped accessions.\n",
      "✅ Mapped 236 accessions.\n",
      "\n",
      "🚀 Submitting chunk 50/67 (size: 500)\n",
      "🆔 Job ID: ftnHmhjZDp\n",
      "⏳ Still processing...\n",
      "⏳ Still processing...\n",
      "⏳ Still processing...\n",
      "⏳ Still processing...\n",
      "⏳ Still processing...\n",
      "✅ Job completed.\n",
      "⬇️ Downloading all paginated results...\n",
      "✅ Downloaded total 297 mapped accessions.\n",
      "✅ Mapped 297 accessions.\n",
      "\n",
      "🚀 Submitting chunk 51/67 (size: 500)\n",
      "🆔 Job ID: 6mOgMk50T0\n",
      "⏳ Still processing...\n",
      "⏳ Still processing...\n",
      "⏳ Still processing...\n",
      "⏳ Still processing...\n",
      "⏳ Still processing...\n",
      "✅ Job completed.\n",
      "⬇️ Downloading all paginated results...\n",
      "✅ Downloaded total 329 mapped accessions.\n",
      "✅ Mapped 329 accessions.\n",
      "\n",
      "🚀 Submitting chunk 52/67 (size: 500)\n",
      "🆔 Job ID: ybNVnMADXr\n",
      "⏳ Still processing...\n",
      "⏳ Still processing...\n",
      "⏳ Still processing...\n",
      "⏳ Still processing...\n",
      "✅ Job completed.\n",
      "⬇️ Downloading all paginated results...\n",
      "✅ Downloaded total 292 mapped accessions.\n",
      "✅ Mapped 292 accessions.\n",
      "\n",
      "🚀 Submitting chunk 53/67 (size: 500)\n",
      "🆔 Job ID: 5GKBI0WnXW\n",
      "⏳ Still processing...\n",
      "⏳ Still processing...\n",
      "⏳ Still processing...\n",
      "⏳ Still processing...\n",
      "✅ Job completed.\n",
      "⬇️ Downloading all paginated results...\n",
      "✅ Downloaded total 294 mapped accessions.\n",
      "✅ Mapped 294 accessions.\n",
      "\n",
      "🚀 Submitting chunk 54/67 (size: 500)\n",
      "🆔 Job ID: 84ZAozfGiK\n",
      "⏳ Still processing...\n",
      "⏳ Still processing...\n",
      "⏳ Still processing...\n",
      "⏳ Still processing...\n",
      "✅ Job completed.\n",
      "⬇️ Downloading all paginated results...\n",
      "✅ Downloaded total 283 mapped accessions.\n",
      "✅ Mapped 283 accessions.\n",
      "\n",
      "🚀 Submitting chunk 55/67 (size: 500)\n",
      "🆔 Job ID: xdY1CbSzdj\n",
      "⏳ Still processing...\n",
      "⏳ Still processing...\n",
      "⏳ Still processing...\n",
      "⏳ Still processing...\n",
      "⏳ Still processing...\n",
      "✅ Job completed.\n",
      "⬇️ Downloading all paginated results...\n",
      "✅ Downloaded total 337 mapped accessions.\n",
      "✅ Mapped 337 accessions.\n",
      "\n",
      "🚀 Submitting chunk 56/67 (size: 500)\n",
      "🆔 Job ID: ezMDSAY1i0\n",
      "⏳ Still processing...\n",
      "⏳ Still processing...\n",
      "⏳ Still processing...\n",
      "⏳ Still processing...\n",
      "⏳ Still processing...\n",
      "✅ Job completed.\n",
      "⬇️ Downloading all paginated results...\n",
      "✅ Downloaded total 278 mapped accessions.\n",
      "✅ Mapped 278 accessions.\n",
      "\n",
      "🚀 Submitting chunk 57/67 (size: 500)\n",
      "🆔 Job ID: 2fiak2Jkhj\n",
      "⏳ Still processing...\n",
      "⏳ Still processing...\n",
      "⏳ Still processing...\n",
      "⏳ Still processing...\n",
      "⏳ Still processing...\n",
      "✅ Job completed.\n",
      "⬇️ Downloading all paginated results...\n",
      "✅ Downloaded total 306 mapped accessions.\n",
      "✅ Mapped 306 accessions.\n",
      "\n",
      "🚀 Submitting chunk 58/67 (size: 500)\n",
      "🆔 Job ID: znbUKMFN2L\n",
      "⏳ Still processing...\n",
      "⏳ Still processing...\n",
      "⏳ Still processing...\n",
      "⏳ Still processing...\n",
      "⏳ Still processing...\n",
      "⏳ Still processing...\n",
      "⏳ Still processing...\n",
      "✅ Job completed.\n",
      "⬇️ Downloading all paginated results...\n",
      "✅ Downloaded total 314 mapped accessions.\n",
      "✅ Mapped 314 accessions.\n",
      "\n",
      "🚀 Submitting chunk 59/67 (size: 500)\n",
      "🆔 Job ID: i5HPctWhrh\n",
      "⏳ Still processing...\n",
      "⏳ Still processing...\n",
      "⏳ Still processing...\n",
      "⏳ Still processing...\n",
      "⏳ Still processing...\n",
      "✅ Job completed.\n",
      "⬇️ Downloading all paginated results...\n",
      "✅ Downloaded total 325 mapped accessions.\n",
      "✅ Mapped 325 accessions.\n",
      "\n",
      "🚀 Submitting chunk 60/67 (size: 500)\n",
      "🆔 Job ID: gt6U9RcJ49\n",
      "⏳ Still processing...\n",
      "⏳ Still processing...\n",
      "⏳ Still processing...\n",
      "⏳ Still processing...\n",
      "⏳ Still processing...\n",
      "✅ Job completed.\n",
      "⬇️ Downloading all paginated results...\n",
      "✅ Downloaded total 338 mapped accessions.\n",
      "✅ Mapped 338 accessions.\n",
      "\n",
      "🚀 Submitting chunk 61/67 (size: 500)\n",
      "🆔 Job ID: 2ASOOzwZu7\n",
      "⏳ Still processing...\n",
      "⏳ Still processing...\n",
      "⏳ Still processing...\n",
      "⏳ Still processing...\n",
      "✅ Job completed.\n",
      "⬇️ Downloading all paginated results...\n",
      "✅ Downloaded total 286 mapped accessions.\n",
      "✅ Mapped 286 accessions.\n",
      "\n",
      "🚀 Submitting chunk 62/67 (size: 500)\n",
      "🆔 Job ID: s2aKiB73QS\n",
      "⏳ Still processing...\n",
      "⏳ Still processing...\n",
      "⏳ Still processing...\n",
      "⏳ Still processing...\n",
      "⏳ Still processing...\n",
      "✅ Job completed.\n",
      "⬇️ Downloading all paginated results...\n",
      "✅ Downloaded total 342 mapped accessions.\n",
      "✅ Mapped 342 accessions.\n",
      "\n",
      "🚀 Submitting chunk 63/67 (size: 500)\n",
      "🆔 Job ID: xuIOdv0W8U\n",
      "⏳ Still processing...\n",
      "⏳ Still processing...\n",
      "⏳ Still processing...\n",
      "⏳ Still processing...\n",
      "⏳ Still processing...\n",
      "✅ Job completed.\n",
      "⬇️ Downloading all paginated results...\n",
      "✅ Downloaded total 309 mapped accessions.\n",
      "✅ Mapped 309 accessions.\n",
      "\n",
      "🚀 Submitting chunk 64/67 (size: 500)\n",
      "🆔 Job ID: pAnenxGV5H\n",
      "⏳ Still processing...\n",
      "⏳ Still processing...\n",
      "⏳ Still processing...\n",
      "⏳ Still processing...\n",
      "⏳ Still processing...\n",
      "✅ Job completed.\n",
      "⬇️ Downloading all paginated results...\n",
      "✅ Downloaded total 302 mapped accessions.\n",
      "✅ Mapped 302 accessions.\n",
      "\n",
      "🚀 Submitting chunk 65/67 (size: 500)\n",
      "🆔 Job ID: ljhC8A8nLz\n",
      "❌ Error during chunk 65: 400 Client Error:  for url: https://rest.uniprot.org/idmapping/status/ljhC8A8nLz\n",
      "\n",
      "🚀 Submitting chunk 66/67 (size: 500)\n",
      "🆔 Job ID: yEghmFCyUG\n",
      "⏳ Still processing...\n",
      "⏳ Still processing...\n",
      "⏳ Still processing...\n",
      "⏳ Still processing...\n",
      "⏳ Still processing...\n",
      "✅ Job completed.\n",
      "⬇️ Downloading all paginated results...\n",
      "✅ Downloaded total 282 mapped accessions.\n",
      "✅ Mapped 282 accessions.\n",
      "\n",
      "🚀 Submitting chunk 67/67 (size: 301)\n",
      "🆔 Job ID: tuj5vOTZQ9\n",
      "⏳ Still processing...\n",
      "⏳ Still processing...\n",
      "⏳ Still processing...\n",
      "✅ Job completed.\n",
      "⬇️ Downloading all paginated results...\n",
      "✅ Downloaded total 188 mapped accessions.\n",
      "✅ Mapped 188 accessions.\n",
      "\n",
      "🎯 Total mapped entries: 20397\n",
      "💾 Saved updated diamond_df with organisms to: c:\\Users\\Yusuf\\OneDrive\\LST\\Derde_jaar\\Y3Q4\\Metaproteomics_with_db\\Diamond_alignments\\diamond_df_with_organisms_uniref100.csv\n"
     ]
    }
   ],
   "source": [
    "import requests\n",
    "import pandas as pd\n",
    "import time\n",
    "from io import StringIO\n",
    "\n",
    "# === CONFIG ===\n",
    "CHUNK_SIZE = 500  # You can increase this to ~9500 once you're sure it's stable\n",
    "SLEEP_BETWEEN_JOBS = 5  # seconds between submissions\n",
    "\n",
    "# === STEP 1: Extract unique accessions from diamond_df ===\n",
    "accessions = diamond_df[\"accession\"].dropna().unique().tolist()\n",
    "print(f\"🔢 Total unique accessions: {len(accessions)}\")\n",
    "\n",
    "# === UniProt Batch Mapping Helper Functions ===\n",
    "def submit_uniprot_mapping(accessions_chunk):\n",
    "    url = \"https://rest.uniprot.org/idmapping/run\"\n",
    "    headers = {\"Content-Type\": \"application/x-www-form-urlencoded\"}\n",
    "    data = {\n",
    "        \"from\": \"UniProtKB_AC-ID\",\n",
    "        \"to\": \"UniProtKB\",\n",
    "        \"ids\": \",\".join(accessions_chunk)\n",
    "    }\n",
    "\n",
    "    response = requests.post(url, data=data, headers=headers)\n",
    "    response.raise_for_status()\n",
    "    return response.json()[\"jobId\"]\n",
    "\n",
    "def wait_for_completion(job_id):\n",
    "    url = f\"https://rest.uniprot.org/idmapping/status/{job_id}\"\n",
    "    while True:\n",
    "        response = requests.get(url)\n",
    "        response.raise_for_status()\n",
    "        status = response.json()\n",
    "\n",
    "        if status.get(\"jobStatus\", \"\").upper() == \"RUNNING\":\n",
    "            print(\"⏳ Still processing...\")\n",
    "            time.sleep(3)\n",
    "        elif \"redirectURL\" in status or \"results\" in status or status.get(\"jobStatus\", \"\").upper() == \"FINISHED\":\n",
    "            print(\"✅ Job completed.\")\n",
    "            break\n",
    "        else:\n",
    "            print(\"🔁 Status unclear, retrying...\")\n",
    "            time.sleep(3)\n",
    "\n",
    "def download_results(job_id):\n",
    "    print(\"⬇️ Downloading all paginated results...\")\n",
    "    base_url = f\"https://rest.uniprot.org/idmapping/uniprotkb/results/{job_id}\"\n",
    "    headers = {\"Accept\": \"text/tab-separated-values\"}\n",
    "\n",
    "    all_chunks = []\n",
    "    next_url = base_url + \"?format=tsv&fields=accession,organism_name&size=500\"\n",
    "\n",
    "    while next_url:\n",
    "        response = requests.get(next_url, headers=headers)\n",
    "        response.raise_for_status()\n",
    "        chunk = pd.read_csv(StringIO(response.text), sep=\"\\t\")\n",
    "        all_chunks.append(chunk)\n",
    "\n",
    "        # Check if there's a next page in the headers\n",
    "        link_header = response.headers.get(\"Link\", \"\")\n",
    "        if 'rel=\"next\"' in link_header:\n",
    "            parts = link_header.split(\",\")\n",
    "            next_links = [p for p in parts if 'rel=\"next\"' in p]\n",
    "            if next_links:\n",
    "                next_url = next_links[0].split(\";\")[0].strip(\"<> \")\n",
    "            else:\n",
    "                next_url = None\n",
    "        else:\n",
    "            next_url = None\n",
    "\n",
    "    full_df = pd.concat(all_chunks, ignore_index=True)\n",
    "    print(f\"✅ Downloaded total {len(full_df)} mapped accessions.\")\n",
    "    return full_df\n",
    "\n",
    "# === STEP 2: Chunk accessions and map in batches ===\n",
    "all_mappings = []\n",
    "\n",
    "for i in range(0, len(accessions), CHUNK_SIZE):\n",
    "    chunk = accessions[i:i+CHUNK_SIZE]\n",
    "    print(f\"\\n🚀 Submitting chunk {i//CHUNK_SIZE + 1}/{(len(accessions)//CHUNK_SIZE)+1} (size: {len(chunk)})\")\n",
    "\n",
    "    try:\n",
    "        job_id = submit_uniprot_mapping(chunk)\n",
    "        print(f\"🆔 Job ID: {job_id}\")\n",
    "        wait_for_completion(job_id)\n",
    "        result_df = download_results(job_id)\n",
    "        all_mappings.append(result_df)\n",
    "        print(f\"✅ Mapped {len(result_df)} accessions.\")\n",
    "    except Exception as e:\n",
    "        print(f\"❌ Error during chunk {i//CHUNK_SIZE + 1}: {e}\")\n",
    "\n",
    "    time.sleep(SLEEP_BETWEEN_JOBS)\n",
    "\n",
    "# === STEP 3: Merge all results and map to diamond_df ===\n",
    "if all_mappings:\n",
    "    combined_df = pd.concat(all_mappings, ignore_index=True)\n",
    "    print(f\"\\n🎯 Total mapped entries: {len(combined_df)}\")\n",
    "\n",
    "    # Create mapping dictionary (From → Organism)\n",
    "    accession_to_org = dict(zip(combined_df[\"From\"], combined_df[\"Organism\"]))\n",
    "\n",
    "    # Map back to diamond_df\n",
    "    diamond_df[\"organism\"] = diamond_df[\"accession\"].map(accession_to_org)\n",
    "\n",
    "    # Save updated DataFrame\n",
    "    output_path = base_path / \"Diamond_alignments\" / \"diamond_df_with_organisms_uniref100.csv\"\n",
    "    diamond_df.to_csv(output_path, index=False)\n",
    "    print(f\"💾 Saved updated diamond_df with organisms to: {output_path}\")\n",
    "else:\n",
    "    print(\"⚠️ No successful mappings. Check API or chunk errors.\")"
   ]
  },
  {
   "cell_type": "code",
   "execution_count": 6,
   "id": "f0de3a8b",
   "metadata": {},
   "outputs": [
    {
     "name": "stdout",
     "output_type": "stream",
     "text": [
      "✅ Retained 278 confident organisms with ≥ 15 peptide hits\n",
      "\n",
      "🧬 Top 10 most frequent organisms:\n"
     ]
    },
    {
     "data": {
      "text/plain": [
       "organism\n",
       "Nitrospira sp                              928\n",
       "Accumulibacter sp                          924\n",
       "Candidatus Competibacteraceae bacterium    899\n",
       "Candidatus Accumulibacter phosphatis       865\n",
       "Gammaproteobacteria bacterium              863\n",
       "uncultured bacterium                       723\n",
       "Nitrospirota bacterium                     585\n",
       "Betaproteobacteria bacterium               558\n",
       "Accumulibacter regalis                     480\n",
       "Rhodocyclaceae bacterium                   456\n",
       "Name: count, dtype: int64"
      ]
     },
     "metadata": {},
     "output_type": "display_data"
    },
    {
     "name": "stdout",
     "output_type": "stream",
     "text": [
      "\n",
      "💾 Filtered dataset saved to: Diamond_alignments/diamond_df_filtered_15_hits.csv\n"
     ]
    }
   ],
   "source": [
    "import pandas as pd\n",
    "\n",
    "# Load mapped DIAMOND results\n",
    "file_path = base_path / \"Diamond_alignments\" / \"diamond_df_with_organisms_uniref100.csv\"\n",
    "df = pd.read_csv(file_path)\n",
    "\n",
    "# === Define threshold for confidence filtering ===\n",
    "min_hits = 15 # Keep only organisms with at least this many peptide hits\n",
    "\n",
    "# Count number of unique peptide hits per organism\n",
    "organism_counts = df[\"organism\"].value_counts()\n",
    "\n",
    "# === Filter based on minimum peptide matches ===\n",
    "confident_organisms = organism_counts[organism_counts >= min_hits].index.tolist()\n",
    "filtered_df = df[df[\"organism\"].isin(confident_organisms)].reset_index(drop=True)\n",
    "\n",
    "# ✅ Show number of organisms retained\n",
    "print(f\"✅ Retained {len(confident_organisms)} confident organisms with ≥ {min_hits} peptide hits\")\n",
    "\n",
    "# (Optional) Show top 10 for inspection\n",
    "print(\"\\n🧬 Top 10 most frequent organisms:\")\n",
    "display(organism_counts.head(10))\n",
    "\n",
    "# === Save filtered file ===\n",
    "filtered_path = f\"Diamond_alignments/diamond_df_filtered_{min_hits}_hits.csv\"\n",
    "filtered_df.to_csv(filtered_path, index=False)\n",
    "print(f\"\\n💾 Filtered dataset saved to: {filtered_path}\")"
   ]
  },
  {
   "cell_type": "code",
   "execution_count": 18,
   "id": "e922e0c0",
   "metadata": {},
   "outputs": [
    {
     "data": {
      "image/png": "[encoded data removed]",
      "text/plain": [
       "<Figure size 800x600 with 1 Axes>"
      ]
     },
     "metadata": {},
     "output_type": "display_data"
    }
   ],
   "source": [
    "# Visualize the top 20 organisms with most peptide hits\n",
    "import matplotlib.pyplot as plt\n",
    "# Load mapped DIAMOND results\n",
    "file_path = base_path / \"Diamond_alignments\" / \"diamond_df_with_organisms_uniref100.csv\"\n",
    "df = pd.read_csv(file_path)\n",
    "# Count number of unique peptide hits per organism\n",
    "organism_counts = df[\"organism\"].value_counts()\n",
    "\n",
    "organism_counts.head(50).plot(kind=\"barh\", figsize=(8,6), title=\"Top 50 matched organisms\")\n",
    "plt.xlabel(\"Number of peptide hits\")\n",
    "plt.gca().invert_yaxis()\n",
    "plt.tight_layout()\n",
    "plt.show()"
   ]
  },
  {
   "cell_type": "code",
   "execution_count": 12,
   "id": "7e3e0215",
   "metadata": {},
   "outputs": [
    {
     "name": "stdout",
     "output_type": "stream",
     "text": [
      "🔍 Fetching ranks from NCBI...\n"
     ]
    },
    {
     "name": "stderr",
     "output_type": "stream",
     "text": [
      "100%|██████████| 278/278 [06:02<00:00,  1.30s/it]"
     ]
    },
    {
     "name": "stdout",
     "output_type": "stream",
     "text": [
      "\n",
      "✅ Annotated CSV saved to: Diamond_alignments/diamond_df_rank_annotated.csv\n"
     ]
    },
    {
     "name": "stderr",
     "output_type": "stream",
     "text": [
      "\n"
     ]
    }
   ],
   "source": [
    "import pandas as pd\n",
    "from Bio import Entrez\n",
    "from time import sleep\n",
    "from tqdm import tqdm\n",
    "\n",
    "# === Set up NCBI Entrez ===\n",
    "Entrez.email = \"your_email@example.com\"  # <- use your real email\n",
    "Entrez.tool = \"TaxonRankFetcher\"\n",
    "\n",
    "# === Load the original data ===\n",
    "df = pd.read_csv(\"Diamond_alignments/diamond_df_filtered_15_hits.csv\")\n",
    "organisms = df[\"organism\"].dropna().unique()\n",
    "\n",
    "# === Lookup dictionary ===\n",
    "rank_lookup = {}\n",
    "\n",
    "# === Function to fetch taxonomic rank from NCBI ===\n",
    "def fetch_ncbi_rank(organism_name):\n",
    "    try:\n",
    "        search = Entrez.esearch(db=\"taxonomy\", term=organism_name, retmode=\"xml\")\n",
    "        record = Entrez.read(search)\n",
    "        if record[\"IdList\"]:\n",
    "            tax_id = record[\"IdList\"][0]\n",
    "            summary = Entrez.efetch(db=\"taxonomy\", id=tax_id, retmode=\"xml\")\n",
    "            data = Entrez.read(summary)\n",
    "            return data[0][\"Rank\"]\n",
    "        else:\n",
    "            return \"not_found\"\n",
    "    except Exception:\n",
    "        return \"error\"\n",
    "\n",
    "# === Populate the lookup ===\n",
    "print(\"🔍 Fetching ranks from NCBI...\")\n",
    "for org in tqdm(organisms):\n",
    "    rank = fetch_ncbi_rank(org)\n",
    "    rank_lookup[org] = rank\n",
    "    sleep(0.4)  # avoid hitting NCBI too quickly\n",
    "\n",
    "# === Apply rank to main DataFrame ===\n",
    "df[\"taxonomy_rank\"] = df[\"organism\"].map(rank_lookup)\n",
    "\n",
    "# === Save annotated file ===\n",
    "df.to_csv(\"Diamond_alignments/diamond_df_rank_annotated.csv\", index=False)\n",
    "print(\"\\n✅ Annotated CSV saved to: Diamond_alignments/diamond_df_rank_annotated.csv\")\n",
    "\n"
   ]
  },
  {
   "cell_type": "code",
   "execution_count": null,
   "id": "3b310969",
   "metadata": {},
   "outputs": [],
   "source": [
    "import os\n",
    "import math\n",
    "import requests\n",
    "import pandas as pd\n",
    "from datetime import datetime\n",
    "from tqdm import tqdm\n",
    "\n",
    "# === 1. Configuration ===\n",
    "min_hits = 15\n",
    "session_time = datetime.now().strftime(\"%Y-%m-%d_%H-%M-%S\")\n",
    "output_dir = f\"Diamond_alignments/session_diamond_align_{session_time}\"\n",
    "os.makedirs(output_dir, exist_ok=True)\n",
    "\n",
    "output_fasta_path = os.path.join(output_dir, f\"from_diamond_top20_{min_hits}_hits.fasta\")\n",
    "\n",
    "# === 2. Load organisms with at least `min_hits` peptide hits ===\n",
    "df = pd.read_csv(\"Diamond_alignments/diamond_df_rank_annotated.csv\")\n",
    "organism_counts = df[\"organism\"].value_counts()\n",
    "filtered_organisms = organism_counts[organism_counts >= min_hits]\n",
    "top_20_organisms = filtered_organisms.head(20).index.tolist()\n",
    "\n",
    "# === 3. Determine fetch limit for each of the top 20 ===\n",
    "def get_protein_limit(rank):\n",
    "    if rank == 0:\n",
    "        return 250000\n",
    "    elif 1 <= rank <= 4:\n",
    "        return 100000\n",
    "    else:\n",
    "        return 50000\n",
    "\n",
    "# === 4. Get total number of UniProt results for an organism ===\n",
    "def get_total_results(organism):\n",
    "    base_url = \"https://rest.uniprot.org/uniprotkb/search\"\n",
    "    params = {\n",
    "        \"query\": organism,\n",
    "        \"format\": \"json\",\n",
    "        \"size\": 1\n",
    "    }\n",
    "    try:\n",
    "        r = requests.get(base_url, params=params)\n",
    "        r.raise_for_status()\n",
    "        return int(r.headers.get(\"x-total-results\", 0))\n",
    "    except Exception as e:\n",
    "        print(f\"❌ Failed to get total result count for {organism}: {e}\")\n",
    "        return 0\n",
    "\n",
    "# === 5. Fetch protein sequences in chunks ===\n",
    "def fetch_uniprotkb_chunked_fasta(organism, limit):\n",
    "    base_url = \"https://rest.uniprot.org/uniprotkb/search\"\n",
    "    chunk_size = 500\n",
    "    headers = {\"Accept\": \"text/x-fasta\"}\n",
    "\n",
    "    total_available = get_total_results(organism)\n",
    "    if total_available == 0:\n",
    "        return \"\", 0\n",
    "\n",
    "    limit = min(limit, total_available)\n",
    "    chunks = math.ceil(limit / chunk_size)\n",
    "\n",
    "    print(f\"\\n🔍 Fetching proteins for: {organism} (available: {total_available}, fetching: {limit})\")\n",
    "\n",
    "    fetched = \"\"\n",
    "    total_downloaded = 0\n",
    "\n",
    "    for i in tqdm(range(chunks), desc=f\"{organism[:40]}...\", leave=True):\n",
    "        offset = i * chunk_size\n",
    "        params = {\n",
    "            \"query\": organism,\n",
    "            \"format\": \"fasta\",\n",
    "            \"size\": chunk_size,\n",
    "            \"offset\": offset,\n",
    "            \"compressed\": \"false\"\n",
    "        }\n",
    "        try:\n",
    "            r = requests.get(base_url, headers=headers, params=params)\n",
    "            r.raise_for_status()\n",
    "            chunk = r.text.strip()\n",
    "            if not chunk:\n",
    "                break\n",
    "            fetched += chunk + \"\\n\"\n",
    "            total_downloaded += chunk.count(\">\")\n",
    "        except Exception as e:\n",
    "            print(f\"❌ Chunk {i+1} failed: {e}\")\n",
    "            break\n",
    "\n",
    "    return fetched, total_downloaded\n",
    "\n",
    "# === 6. Fetch sequences for top 20 organisms only ===\n",
    "all_entries = []\n",
    "total_downloaded = 0\n",
    "\n",
    "print(\"🚀 Starting UniProtKB protein fetch for top 20 organisms...\")\n",
    "\n",
    "for idx, organism in enumerate(top_20_organisms):\n",
    "    limit = get_protein_limit(idx)\n",
    "    fasta, downloaded = fetch_uniprotkb_chunked_fasta(organism, limit)\n",
    "\n",
    "    if fasta:\n",
    "        all_entries.append(fasta.strip())\n",
    "        total_downloaded += downloaded\n",
    "        print(f\"✅ [{idx+1}] {organism}: {downloaded} proteins fetched\")\n",
    "    else:\n",
    "        print(f\"⚠️ [{idx+1}] No proteins fetched for {organism}\")\n",
    "\n",
    "# === 7. Save results ===\n",
    "with open(output_fasta_path, \"w\") as f_out:\n",
    "    f_out.write(\"\\n\".join(all_entries))\n",
    "\n",
    "# === 8. Summary ===\n",
    "print(\"\\n📊 === SUMMARY ===\")\n",
    "print(f\"📁 Output FASTA: {output_fasta_path}\")\n",
    "print(f\"📦 Total protein sequences in database: {total_downloaded}\")\n"
   ]
  },
  {
   "cell_type": "code",
   "execution_count": 1,
   "id": "acf8cb05",
   "metadata": {},
   "outputs": [
    {
     "name": "stdout",
     "output_type": "stream",
     "text": [
      "🚀 Starting UniProtKB protein fetch for organisms ranked 21–50...\n",
      "\n",
      "🔍 Fetching proteins for: Candidatus Accumulibacter cognatus (available: 4322, fetching: 4322)\n"
     ]
    },
    {
     "name": "stderr",
     "output_type": "stream",
     "text": [
      "Candidatus Accumulibacter cognatus...: 100%|██████████| 9/9 [00:01<00:00,  6.63it/s]\n"
     ]
    },
    {
     "name": "stdout",
     "output_type": "stream",
     "text": [
      "✅ [21] Candidatus Accumulibacter cognatus: 4500 proteins fetched\n",
      "\n",
      "🔍 Fetching proteins for: Burkholderiales bacterium (available: 910548, fetching: 10000)\n"
     ]
    },
    {
     "name": "stderr",
     "output_type": "stream",
     "text": [
      "Burkholderiales bacterium...: 100%|██████████| 20/20 [00:17<00:00,  1.17it/s]\n"
     ]
    },
    {
     "name": "stdout",
     "output_type": "stream",
     "text": [
      "✅ [22] Burkholderiales bacterium: 10000 proteins fetched\n",
      "\n",
      "🔍 Fetching proteins for: uncultured microorganism (available: 17209, fetching: 10000)\n"
     ]
    },
    {
     "name": "stderr",
     "output_type": "stream",
     "text": [
      "uncultured microorganism...: 100%|██████████| 20/20 [00:10<00:00,  1.87it/s]\n"
     ]
    },
    {
     "name": "stdout",
     "output_type": "stream",
     "text": [
      "✅ [23] uncultured microorganism: 10000 proteins fetched\n",
      "\n",
      "🔍 Fetching proteins for: Nitrosomonas oligotropha (available: 8255, fetching: 8255)\n"
     ]
    },
    {
     "name": "stderr",
     "output_type": "stream",
     "text": [
      "Nitrosomonas oligotropha...: 100%|██████████| 17/17 [00:08<00:00,  1.96it/s]\n"
     ]
    },
    {
     "name": "stdout",
     "output_type": "stream",
     "text": [
      "✅ [24] Nitrosomonas oligotropha: 8500 proteins fetched\n",
      "\n",
      "🔍 Fetching proteins for: Candidatus Accumulibacter proximus (available: 4538, fetching: 4538)\n"
     ]
    },
    {
     "name": "stderr",
     "output_type": "stream",
     "text": [
      "Candidatus Accumulibacter proximus...: 100%|██████████| 10/10 [00:01<00:00,  7.19it/s]\n"
     ]
    },
    {
     "name": "stdout",
     "output_type": "stream",
     "text": [
      "✅ [25] Candidatus Accumulibacter proximus: 5000 proteins fetched\n",
      "\n",
      "🔍 Fetching proteins for: Dechloromonas sp (available: 20280, fetching: 10000)\n"
     ]
    },
    {
     "name": "stderr",
     "output_type": "stream",
     "text": [
      "Dechloromonas sp...: 100%|██████████| 20/20 [00:11<00:00,  1.70it/s]\n"
     ]
    },
    {
     "name": "stdout",
     "output_type": "stream",
     "text": [
      "✅ [26] Dechloromonas sp: 10000 proteins fetched\n",
      "\n",
      "🔍 Fetching proteins for: Burkholderiaceae bacterium (available: 245560, fetching: 10000)\n"
     ]
    },
    {
     "name": "stderr",
     "output_type": "stream",
     "text": [
      "Burkholderiaceae bacterium...: 100%|██████████| 20/20 [00:13<00:00,  1.47it/s]\n"
     ]
    },
    {
     "name": "stdout",
     "output_type": "stream",
     "text": [
      "✅ [27] Burkholderiaceae bacterium: 10000 proteins fetched\n",
      "\n",
      "🔍 Fetching proteins for: Candidatus Dechloromonas phosphorivorans (available: 7439, fetching: 7439)\n"
     ]
    },
    {
     "name": "stderr",
     "output_type": "stream",
     "text": [
      "Candidatus Dechloromonas phosphorivorans...: 100%|██████████| 15/15 [00:06<00:00,  2.38it/s]\n"
     ]
    },
    {
     "name": "stdout",
     "output_type": "stream",
     "text": [
      "✅ [28] Candidatus Dechloromonas phosphorivorans: 7500 proteins fetched\n",
      "\n",
      "🔍 Fetching proteins for: Candidatus Accumulibacter affinis (available: 4127, fetching: 4127)\n"
     ]
    },
    {
     "name": "stderr",
     "output_type": "stream",
     "text": [
      "Candidatus Accumulibacter affinis...: 100%|██████████| 9/9 [00:01<00:00,  7.12it/s]\n"
     ]
    },
    {
     "name": "stdout",
     "output_type": "stream",
     "text": [
      "✅ [29] Candidatus Accumulibacter affinis: 4500 proteins fetched\n",
      "\n",
      "🔍 Fetching proteins for: Candidatus Accumulibacter sp. BA-94 (available: 3127, fetching: 3127)\n"
     ]
    },
    {
     "name": "stderr",
     "output_type": "stream",
     "text": [
      "Candidatus Accumulibacter sp. BA-94...: 100%|██████████| 7/7 [00:00<00:00,  7.42it/s]\n"
     ]
    },
    {
     "name": "stdout",
     "output_type": "stream",
     "text": [
      "✅ [30] Candidatus Accumulibacter sp. BA-94: 3500 proteins fetched\n",
      "\n",
      "🔍 Fetching proteins for: Verrucomicrobiota bacterium (available: 1472865, fetching: 10000)\n"
     ]
    },
    {
     "name": "stderr",
     "output_type": "stream",
     "text": [
      "Verrucomicrobiota bacterium...: 100%|██████████| 20/20 [00:16<00:00,  1.20it/s]\n"
     ]
    },
    {
     "name": "stdout",
     "output_type": "stream",
     "text": [
      "✅ [31] Verrucomicrobiota bacterium: 10000 proteins fetched\n",
      "\n",
      "🔍 Fetching proteins for: Candidatus Accumulibacter vicinus (available: 4354, fetching: 4354)\n"
     ]
    },
    {
     "name": "stderr",
     "output_type": "stream",
     "text": [
      "Candidatus Accumulibacter vicinus...: 100%|██████████| 9/9 [00:01<00:00,  6.70it/s]\n"
     ]
    },
    {
     "name": "stdout",
     "output_type": "stream",
     "text": [
      "✅ [32] Candidatus Accumulibacter vicinus: 4500 proteins fetched\n",
      "\n",
      "🔍 Fetching proteins for: Nitrospira sp. ND1 (available: 4671, fetching: 4671)\n"
     ]
    },
    {
     "name": "stderr",
     "output_type": "stream",
     "text": [
      "Nitrospira sp. ND1...: 100%|██████████| 10/10 [00:01<00:00,  7.40it/s]\n"
     ]
    },
    {
     "name": "stdout",
     "output_type": "stream",
     "text": [
      "✅ [33] Nitrospira sp. ND1: 5000 proteins fetched\n",
      "\n",
      "🔍 Fetching proteins for: Lysobacteraceae bacterium (available: 101762, fetching: 10000)\n"
     ]
    },
    {
     "name": "stderr",
     "output_type": "stream",
     "text": [
      "Lysobacteraceae bacterium...: 100%|██████████| 20/20 [00:11<00:00,  1.73it/s]\n"
     ]
    },
    {
     "name": "stdout",
     "output_type": "stream",
     "text": [
      "✅ [34] Lysobacteraceae bacterium: 10000 proteins fetched\n",
      "\n",
      "🔍 Fetching proteins for: Nitrosomonas sp (available: 55671, fetching: 10000)\n"
     ]
    },
    {
     "name": "stderr",
     "output_type": "stream",
     "text": [
      "Nitrosomonas sp...: 100%|██████████| 20/20 [00:12<00:00,  1.63it/s]\n"
     ]
    },
    {
     "name": "stdout",
     "output_type": "stream",
     "text": [
      "✅ [35] Nitrosomonas sp: 10000 proteins fetched\n",
      "\n",
      "🔍 Fetching proteins for: Nitrospira defluvii (available: 4269, fetching: 4269)\n"
     ]
    },
    {
     "name": "stderr",
     "output_type": "stream",
     "text": [
      "Nitrospira defluvii...: 100%|██████████| 9/9 [00:01<00:00,  6.73it/s]\n"
     ]
    },
    {
     "name": "stdout",
     "output_type": "stream",
     "text": [
      "✅ [36] Nitrospira defluvii: 4500 proteins fetched\n",
      "\n",
      "🔍 Fetching proteins for: bacterium (available: 44506293, fetching: 10000)\n"
     ]
    },
    {
     "name": "stderr",
     "output_type": "stream",
     "text": [
      "bacterium...: 100%|██████████| 20/20 [00:40<00:00,  2.03s/it]\n"
     ]
    },
    {
     "name": "stdout",
     "output_type": "stream",
     "text": [
      "✅ [37] bacterium: 10000 proteins fetched\n",
      "\n",
      "🔍 Fetching proteins for: Actinomycetes bacterium (available: 1769078, fetching: 10000)\n"
     ]
    },
    {
     "name": "stderr",
     "output_type": "stream",
     "text": [
      "Actinomycetes bacterium...: 100%|██████████| 20/20 [00:18<00:00,  1.08it/s]\n"
     ]
    },
    {
     "name": "stdout",
     "output_type": "stream",
     "text": [
      "✅ [38] Actinomycetes bacterium: 10000 proteins fetched\n",
      "\n",
      "🔍 Fetching proteins for: Bacteroidota bacterium (available: 4875014, fetching: 10000)\n"
     ]
    },
    {
     "name": "stderr",
     "output_type": "stream",
     "text": [
      "Bacteroidota bacterium...: 100%|██████████| 20/20 [00:19<00:00,  1.04it/s]\n"
     ]
    },
    {
     "name": "stdout",
     "output_type": "stream",
     "text": [
      "✅ [39] Bacteroidota bacterium: 10000 proteins fetched\n",
      "\n",
      "🔍 Fetching proteins for: Propionivibrio sp (available: 6461, fetching: 6461)\n"
     ]
    },
    {
     "name": "stderr",
     "output_type": "stream",
     "text": [
      "Propionivibrio sp...: 100%|██████████| 13/13 [00:04<00:00,  2.86it/s]\n"
     ]
    },
    {
     "name": "stdout",
     "output_type": "stream",
     "text": [
      "✅ [40] Propionivibrio sp: 6500 proteins fetched\n",
      "\n",
      "🔍 Fetching proteins for: marine metagenome (available: 1423689, fetching: 10000)\n"
     ]
    },
    {
     "name": "stderr",
     "output_type": "stream",
     "text": [
      "marine metagenome...: 100%|██████████| 20/20 [00:15<00:00,  1.29it/s]\n"
     ]
    },
    {
     "name": "stdout",
     "output_type": "stream",
     "text": [
      "✅ [41] marine metagenome: 10000 proteins fetched\n",
      "\n",
      "🔍 Fetching proteins for: Candidatus Accumulibacter adjunctus (available: 3906, fetching: 3906)\n"
     ]
    },
    {
     "name": "stderr",
     "output_type": "stream",
     "text": [
      "Candidatus Accumulibacter adjunctus...: 100%|██████████| 8/8 [00:01<00:00,  7.51it/s]\n"
     ]
    },
    {
     "name": "stdout",
     "output_type": "stream",
     "text": [
      "✅ [42] Candidatus Accumulibacter adjunctus: 4000 proteins fetched\n",
      "\n",
      "🔍 Fetching proteins for: Nitrosomonas ureae (available: 15272, fetching: 10000)\n"
     ]
    },
    {
     "name": "stderr",
     "output_type": "stream",
     "text": [
      "Nitrosomonas ureae...: 100%|██████████| 20/20 [00:11<00:00,  1.68it/s]\n"
     ]
    },
    {
     "name": "stdout",
     "output_type": "stream",
     "text": [
      "✅ [43] Nitrosomonas ureae: 10000 proteins fetched\n",
      "\n",
      "🔍 Fetching proteins for: Homo sapiens (Human) (available: 1670200, fetching: 10000)\n"
     ]
    },
    {
     "name": "stderr",
     "output_type": "stream",
     "text": [
      "Homo sapiens (Human)...: 100%|██████████| 20/20 [00:21<00:00,  1.08s/it]\n"
     ]
    },
    {
     "name": "stdout",
     "output_type": "stream",
     "text": [
      "✅ [44] Homo sapiens (Human): 10020 proteins fetched\n",
      "\n",
      "🔍 Fetching proteins for: Caldilineaceae bacterium (available: 146316, fetching: 10000)\n"
     ]
    },
    {
     "name": "stderr",
     "output_type": "stream",
     "text": [
      "Caldilineaceae bacterium...: 100%|██████████| 20/20 [00:12<00:00,  1.61it/s]\n"
     ]
    },
    {
     "name": "stdout",
     "output_type": "stream",
     "text": [
      "✅ [45] Caldilineaceae bacterium: 10000 proteins fetched\n",
      "\n",
      "🔍 Fetching proteins for: Azonexus sp (available: 9503, fetching: 9503)\n"
     ]
    },
    {
     "name": "stderr",
     "output_type": "stream",
     "text": [
      "Azonexus sp...: 100%|██████████| 20/20 [00:10<00:00,  1.82it/s]\n"
     ]
    },
    {
     "name": "stdout",
     "output_type": "stream",
     "text": [
      "✅ [46] Azonexus sp: 10000 proteins fetched\n",
      "\n",
      "🔍 Fetching proteins for: Planctomycetota bacterium (available: 2194054, fetching: 10000)\n"
     ]
    },
    {
     "name": "stderr",
     "output_type": "stream",
     "text": [
      "Planctomycetota bacterium...: 100%|██████████| 20/20 [00:24<00:00,  1.21s/it]\n"
     ]
    },
    {
     "name": "stdout",
     "output_type": "stream",
     "text": [
      "✅ [47] Planctomycetota bacterium: 10000 proteins fetched\n",
      "\n",
      "🔍 Fetching proteins for: Bacillota bacterium (Firmicutes bacterium) (available: 644160, fetching: 10000)\n"
     ]
    },
    {
     "name": "stderr",
     "output_type": "stream",
     "text": [
      "Bacillota bacterium (Firmicutes bacteriu...: 100%|██████████| 20/20 [00:16<00:00,  1.20it/s]\n"
     ]
    },
    {
     "name": "stdout",
     "output_type": "stream",
     "text": [
      "✅ [48] Bacillota bacterium (Firmicutes bacterium): 10000 proteins fetched\n",
      "\n",
      "🔍 Fetching proteins for: Gemmatimonadota bacterium (available: 800357, fetching: 10000)\n"
     ]
    },
    {
     "name": "stderr",
     "output_type": "stream",
     "text": [
      "Gemmatimonadota bacterium...: 100%|██████████| 20/20 [00:14<00:00,  1.34it/s]\n"
     ]
    },
    {
     "name": "stdout",
     "output_type": "stream",
     "text": [
      "✅ [49] Gemmatimonadota bacterium: 10000 proteins fetched\n",
      "\n",
      "🔍 Fetching proteins for: Candidatus Contendobacter sp (available: 4001, fetching: 4001)\n"
     ]
    },
    {
     "name": "stderr",
     "output_type": "stream",
     "text": [
      "Candidatus Contendobacter sp...: 100%|██████████| 9/9 [00:01<00:00,  7.57it/s]\n"
     ]
    },
    {
     "name": "stdout",
     "output_type": "stream",
     "text": [
      "✅ [50] Candidatus Contendobacter sp: 4500 proteins fetched\n",
      "\n",
      "📊 === SUMMARY ===\n",
      "📁 Output FASTA: Diamond_alignments/session_diamond_align_2025-06-01_21-33-52\\from_diamond_organisms_21_to_50_top10000.fasta\n",
      "📦 Total protein sequences in database: 242520\n"
     ]
    }
   ],
   "source": [
    "import os\n",
    "import math\n",
    "import requests\n",
    "import pandas as pd\n",
    "from datetime import datetime\n",
    "from tqdm import tqdm\n",
    "\n",
    "# === 1. Configuration ===\n",
    "min_hits = 15\n",
    "session_time = datetime.now().strftime(\"%Y-%m-%d_%H-%M-%S\")\n",
    "output_dir = f\"Diamond_alignments/session_diamond_align_{session_time}\"\n",
    "os.makedirs(output_dir, exist_ok=True)\n",
    "\n",
    "output_fasta_path = os.path.join(output_dir, \"from_diamond_organisms_21_to_50_top10000.fasta\")\n",
    "\n",
    "# === 2. Load organisms ranked 21–50 with at least `min_hits` hits ===\n",
    "df = pd.read_csv(\"Diamond_alignments/diamond_df_rank_annotated.csv\")\n",
    "organism_counts = df[\"organism\"].value_counts()\n",
    "filtered_organisms = organism_counts[organism_counts >= min_hits]\n",
    "organisms_21_50 = filtered_organisms[20:50].index.tolist()\n",
    "\n",
    "# === 3. Fetch limit fixed at 10,000\n",
    "def get_protein_limit(_):\n",
    "    return 10000\n",
    "\n",
    "# === 4. Get total number of UniProt results for an organism ===\n",
    "def get_total_results(organism):\n",
    "    base_url = \"https://rest.uniprot.org/uniprotkb/search\"\n",
    "    params = {\n",
    "        \"query\": organism,\n",
    "        \"format\": \"json\",\n",
    "        \"size\": 1\n",
    "    }\n",
    "    try:\n",
    "        r = requests.get(base_url, params=params)\n",
    "        r.raise_for_status()\n",
    "        return int(r.headers.get(\"x-total-results\", 0))\n",
    "    except Exception as e:\n",
    "        print(f\"❌ Failed to get total result count for {organism}: {e}\")\n",
    "        return 0\n",
    "\n",
    "# === 5. Fetch protein sequences in chunks ===\n",
    "def fetch_uniprotkb_chunked_fasta(organism, limit):\n",
    "    base_url = \"https://rest.uniprot.org/uniprotkb/search\"\n",
    "    chunk_size = 500\n",
    "    headers = {\"Accept\": \"text/x-fasta\"}\n",
    "\n",
    "    total_available = get_total_results(organism)\n",
    "    if total_available == 0:\n",
    "        return \"\", 0\n",
    "\n",
    "    limit = min(limit, total_available)\n",
    "    chunks = math.ceil(limit / chunk_size)\n",
    "\n",
    "    print(f\"\\n🔍 Fetching proteins for: {organism} (available: {total_available}, fetching: {limit})\")\n",
    "\n",
    "    fetched = \"\"\n",
    "    total_downloaded = 0\n",
    "\n",
    "    for i in tqdm(range(chunks), desc=f\"{organism[:40]}...\", leave=True):\n",
    "        offset = i * chunk_size\n",
    "        params = {\n",
    "            \"query\": organism,\n",
    "            \"format\": \"fasta\",\n",
    "            \"size\": chunk_size,\n",
    "            \"offset\": offset,\n",
    "            \"compressed\": \"false\"\n",
    "        }\n",
    "        try:\n",
    "            r = requests.get(base_url, headers=headers, params=params)\n",
    "            r.raise_for_status()\n",
    "            chunk = r.text.strip()\n",
    "            if not chunk:\n",
    "                break\n",
    "            fetched += chunk + \"\\n\"\n",
    "            total_downloaded += chunk.count(\">\")\n",
    "        except Exception as e:\n",
    "            print(f\"❌ Chunk {i+1} failed: {e}\")\n",
    "            break\n",
    "\n",
    "    return fetched, total_downloaded\n",
    "\n",
    "# === 6. Fetch and collect results ===\n",
    "all_entries = []\n",
    "total_downloaded = 0\n",
    "\n",
    "print(\"🚀 Starting UniProtKB protein fetch for organisms ranked 21–50...\")\n",
    "\n",
    "for idx, organism in enumerate(organisms_21_50):\n",
    "    limit = get_protein_limit(idx)\n",
    "    fasta, downloaded = fetch_uniprotkb_chunked_fasta(organism, limit)\n",
    "\n",
    "    if fasta:\n",
    "        all_entries.append(fasta.strip())\n",
    "        total_downloaded += downloaded\n",
    "        print(f\"✅ [{idx+21}] {organism}: {downloaded} proteins fetched\")\n",
    "    else:\n",
    "        print(f\"⚠️ [{idx+21}] No proteins fetched for {organism}\")\n",
    "\n",
    "# === 7. Save results ===\n",
    "with open(output_fasta_path, \"w\") as f_out:\n",
    "    f_out.write(\"\\n\".join(all_entries))\n",
    "\n",
    "# === 8. Summary ===\n",
    "print(\"\\n📊 === SUMMARY ===\")\n",
    "print(f\"📁 Output FASTA: {output_fasta_path}\")\n",
    "print(f\"📦 Total protein sequences in database: {total_downloaded}\")\n"
   ]
  },
  {
   "cell_type": "code",
   "execution_count": 2,
   "id": "9b21d0db",
   "metadata": {},
   "outputs": [
    {
     "name": "stdout",
     "output_type": "stream",
     "text": [
      "🚀 Starting UniProtKB protein fetch for 228 organisms ranked 51+\n",
      "\n",
      "🔍 Fetching proteins for: Planctomycetaceae bacterium (available: 511800, fetching: 1000)\n"
     ]
    },
    {
     "name": "stderr",
     "output_type": "stream",
     "text": [
      "Planctomycetaceae bacterium...: 100%|██████████| 2/2 [00:00<00:00,  7.44it/s]\n"
     ]
    },
    {
     "name": "stdout",
     "output_type": "stream",
     "text": [
      "✅ [51] Planctomycetaceae bacterium: 1000 proteins fetched\n",
      "\n",
      "🔍 Fetching proteins for: Candidatus Competibacter denitrificans Run_A_D11 (available: 4014, fetching: 1000)\n"
     ]
    },
    {
     "name": "stderr",
     "output_type": "stream",
     "text": [
      "Candidatus Competibacter denitrificans R...: 100%|██████████| 2/2 [00:00<00:00,  8.04it/s]\n"
     ]
    },
    {
     "name": "stdout",
     "output_type": "stream",
     "text": [
      "✅ [52] Candidatus Competibacter denitrificans Run_A_D11: 1000 proteins fetched\n",
      "\n",
      "🔍 Fetching proteins for: Candidatus Propionivibrio aalborgensis (available: 3621, fetching: 1000)\n"
     ]
    },
    {
     "name": "stderr",
     "output_type": "stream",
     "text": [
      "Candidatus Propionivibrio aalborgensis...: 100%|██████████| 2/2 [00:00<00:00,  7.35it/s]\n"
     ]
    },
    {
     "name": "stdout",
     "output_type": "stream",
     "text": [
      "✅ [53] Candidatus Propionivibrio aalborgensis: 1000 proteins fetched\n",
      "\n",
      "🔍 Fetching proteins for: Candidatus Contendobacter odensis Run_B_J11 (available: 4763, fetching: 1000)\n"
     ]
    },
    {
     "name": "stderr",
     "output_type": "stream",
     "text": [
      "Candidatus Contendobacter odensis Run_B_...: 100%|██████████| 2/2 [00:00<00:00,  7.47it/s]\n"
     ]
    },
    {
     "name": "stdout",
     "output_type": "stream",
     "text": [
      "✅ [54] Candidatus Contendobacter odensis Run_B_J11: 1000 proteins fetched\n",
      "\n",
      "🔍 Fetching proteins for: Candidatus Accumulibacter sp. SK-11 (available: 4767, fetching: 1000)\n"
     ]
    },
    {
     "name": "stderr",
     "output_type": "stream",
     "text": [
      "Candidatus Accumulibacter sp. SK-11...: 100%|██████████| 2/2 [00:00<00:00,  7.94it/s]\n"
     ]
    },
    {
     "name": "stdout",
     "output_type": "stream",
     "text": [
      "✅ [55] Candidatus Accumulibacter sp. SK-11: 1000 proteins fetched\n",
      "\n",
      "🔍 Fetching proteins for: Saprospiraceae bacterium (available: 249376, fetching: 1000)\n"
     ]
    },
    {
     "name": "stderr",
     "output_type": "stream",
     "text": [
      "Saprospiraceae bacterium...: 100%|██████████| 2/2 [00:00<00:00,  7.92it/s]\n"
     ]
    },
    {
     "name": "stdout",
     "output_type": "stream",
     "text": [
      "✅ [56] Saprospiraceae bacterium: 1000 proteins fetched\n",
      "\n",
      "🔍 Fetching proteins for: Candidatus Accumulibacter meliphilus (available: 575, fetching: 575)\n"
     ]
    },
    {
     "name": "stderr",
     "output_type": "stream",
     "text": [
      "Candidatus Accumulibacter meliphilus...: 100%|██████████| 2/2 [00:00<00:00,  7.90it/s]\n"
     ]
    },
    {
     "name": "stdout",
     "output_type": "stream",
     "text": [
      "✅ [57] Candidatus Accumulibacter meliphilus: 1000 proteins fetched\n",
      "\n",
      "🔍 Fetching proteins for: Flavobacteriales bacterium (available: 1113222, fetching: 1000)\n"
     ]
    },
    {
     "name": "stderr",
     "output_type": "stream",
     "text": [
      "Flavobacteriales bacterium...: 100%|██████████| 2/2 [00:00<00:00,  7.72it/s]\n"
     ]
    },
    {
     "name": "stdout",
     "output_type": "stream",
     "text": [
      "✅ [58] Flavobacteriales bacterium: 1000 proteins fetched\n",
      "\n",
      "🔍 Fetching proteins for: Bacteroidales bacterium (available: 778740, fetching: 1000)\n"
     ]
    },
    {
     "name": "stderr",
     "output_type": "stream",
     "text": [
      "Bacteroidales bacterium...: 100%|██████████| 2/2 [00:00<00:00,  7.38it/s]\n"
     ]
    },
    {
     "name": "stdout",
     "output_type": "stream",
     "text": [
      "✅ [59] Bacteroidales bacterium: 1000 proteins fetched\n",
      "\n",
      "🔍 Fetching proteins for: Candidatus Rokuibacteriota bacterium (available: 339145, fetching: 1000)\n"
     ]
    },
    {
     "name": "stderr",
     "output_type": "stream",
     "text": [
      "Candidatus Rokuibacteriota bacterium...: 100%|██████████| 2/2 [00:00<00:00,  7.94it/s]\n"
     ]
    },
    {
     "name": "stdout",
     "output_type": "stream",
     "text": [
      "✅ [60] Candidatus Rokuibacteriota bacterium: 1000 proteins fetched\n",
      "\n",
      "🔍 Fetching proteins for: mine drainage metagenome (available: 129886, fetching: 1000)\n"
     ]
    },
    {
     "name": "stderr",
     "output_type": "stream",
     "text": [
      "mine drainage metagenome...: 100%|██████████| 2/2 [00:00<00:00,  7.32it/s]\n"
     ]
    },
    {
     "name": "stdout",
     "output_type": "stream",
     "text": [
      "✅ [61] mine drainage metagenome: 1000 proteins fetched\n",
      "\n",
      "🔍 Fetching proteins for: Rhodospirillaceae bacterium (available: 397936, fetching: 1000)\n"
     ]
    },
    {
     "name": "stderr",
     "output_type": "stream",
     "text": [
      "Rhodospirillaceae bacterium...: 100%|██████████| 2/2 [00:00<00:00,  7.54it/s]\n"
     ]
    },
    {
     "name": "stdout",
     "output_type": "stream",
     "text": [
      "✅ [62] Rhodospirillaceae bacterium: 1000 proteins fetched\n",
      "\n",
      "🔍 Fetching proteins for: marine sediment metagenome (available: 668717, fetching: 1000)\n"
     ]
    },
    {
     "name": "stderr",
     "output_type": "stream",
     "text": [
      "marine sediment metagenome...: 100%|██████████| 2/2 [00:00<00:00,  7.26it/s]\n"
     ]
    },
    {
     "name": "stdout",
     "output_type": "stream",
     "text": [
      "✅ [63] marine sediment metagenome: 1000 proteins fetched\n",
      "\n",
      "🔍 Fetching proteins for: hydrothermal vent metagenome (available: 218760, fetching: 1000)\n"
     ]
    },
    {
     "name": "stderr",
     "output_type": "stream",
     "text": [
      "hydrothermal vent metagenome...: 100%|██████████| 2/2 [00:00<00:00,  7.57it/s]\n"
     ]
    },
    {
     "name": "stdout",
     "output_type": "stream",
     "text": [
      "✅ [64] hydrothermal vent metagenome: 1000 proteins fetched\n",
      "\n",
      "🔍 Fetching proteins for: Sulfuritalea sp (available: 15574, fetching: 1000)\n"
     ]
    },
    {
     "name": "stderr",
     "output_type": "stream",
     "text": [
      "Sulfuritalea sp...: 100%|██████████| 2/2 [00:00<00:00,  7.73it/s]\n"
     ]
    },
    {
     "name": "stdout",
     "output_type": "stream",
     "text": [
      "✅ [65] Sulfuritalea sp: 1000 proteins fetched\n",
      "\n",
      "🔍 Fetching proteins for: Pan troglodytes (Chimpanzee) (available: 358808, fetching: 1000)\n"
     ]
    },
    {
     "name": "stderr",
     "output_type": "stream",
     "text": [
      "Pan troglodytes (Chimpanzee)...: 100%|██████████| 2/2 [00:00<00:00,  6.99it/s]\n"
     ]
    },
    {
     "name": "stdout",
     "output_type": "stream",
     "text": [
      "✅ [66] Pan troglodytes (Chimpanzee): 1002 proteins fetched\n",
      "\n",
      "🔍 Fetching proteins for: Helicobacter pylori (Campylobacter pylori) (available: 95283, fetching: 1000)\n"
     ]
    },
    {
     "name": "stderr",
     "output_type": "stream",
     "text": [
      "Helicobacter pylori (Campylobacter pylor...: 100%|██████████| 2/2 [00:00<00:00,  8.24it/s]\n"
     ]
    },
    {
     "name": "stdout",
     "output_type": "stream",
     "text": [
      "✅ [67] Helicobacter pylori (Campylobacter pylori): 1000 proteins fetched\n",
      "\n",
      "🔍 Fetching proteins for: Lysobacterales bacterium (available: 278399, fetching: 1000)\n"
     ]
    },
    {
     "name": "stderr",
     "output_type": "stream",
     "text": [
      "Lysobacterales bacterium...: 100%|██████████| 2/2 [00:00<00:00,  7.24it/s]\n"
     ]
    },
    {
     "name": "stdout",
     "output_type": "stream",
     "text": [
      "✅ [68] Lysobacterales bacterium: 1000 proteins fetched\n",
      "\n",
      "🔍 Fetching proteins for: Mesorhizobium sp (available: 1671241, fetching: 1000)\n"
     ]
    },
    {
     "name": "stderr",
     "output_type": "stream",
     "text": [
      "Mesorhizobium sp...: 100%|██████████| 2/2 [00:00<00:00,  8.05it/s]\n"
     ]
    },
    {
     "name": "stdout",
     "output_type": "stream",
     "text": [
      "✅ [69] Mesorhizobium sp: 1000 proteins fetched\n",
      "\n",
      "🔍 Fetching proteins for: Hyphomicrobiales bacterium (available: 984064, fetching: 1000)\n"
     ]
    },
    {
     "name": "stderr",
     "output_type": "stream",
     "text": [
      "Hyphomicrobiales bacterium...: 100%|██████████| 2/2 [00:00<00:00,  7.53it/s]\n"
     ]
    },
    {
     "name": "stdout",
     "output_type": "stream",
     "text": [
      "✅ [70] Hyphomicrobiales bacterium: 1000 proteins fetched\n",
      "\n",
      "🔍 Fetching proteins for: Myxococcales bacterium (available: 517081, fetching: 1000)\n"
     ]
    },
    {
     "name": "stderr",
     "output_type": "stream",
     "text": [
      "Myxococcales bacterium...: 100%|██████████| 2/2 [00:00<00:00,  7.68it/s]\n"
     ]
    },
    {
     "name": "stdout",
     "output_type": "stream",
     "text": [
      "✅ [71] Myxococcales bacterium: 1000 proteins fetched\n",
      "\n",
      "🔍 Fetching proteins for: Rhodoferax sp (available: 112201, fetching: 1000)\n"
     ]
    },
    {
     "name": "stderr",
     "output_type": "stream",
     "text": [
      "Rhodoferax sp...: 100%|██████████| 2/2 [00:00<00:00,  7.44it/s]\n"
     ]
    },
    {
     "name": "stdout",
     "output_type": "stream",
     "text": [
      "✅ [72] Rhodoferax sp: 1000 proteins fetched\n",
      "\n",
      "🔍 Fetching proteins for: Variovorax sp (available: 331658, fetching: 1000)\n"
     ]
    },
    {
     "name": "stderr",
     "output_type": "stream",
     "text": [
      "Variovorax sp...: 100%|██████████| 2/2 [00:00<00:00,  7.85it/s]\n"
     ]
    },
    {
     "name": "stdout",
     "output_type": "stream",
     "text": [
      "✅ [73] Variovorax sp: 1000 proteins fetched\n",
      "\n",
      "🔍 Fetching proteins for: Ignavibacteria bacterium (available: 306832, fetching: 1000)\n"
     ]
    },
    {
     "name": "stderr",
     "output_type": "stream",
     "text": [
      "Ignavibacteria bacterium...: 100%|██████████| 2/2 [00:00<00:00,  6.97it/s]\n"
     ]
    },
    {
     "name": "stdout",
     "output_type": "stream",
     "text": [
      "✅ [74] Ignavibacteria bacterium: 1000 proteins fetched\n",
      "\n",
      "🔍 Fetching proteins for: Methylotenera sp (available: 39241, fetching: 1000)\n"
     ]
    },
    {
     "name": "stderr",
     "output_type": "stream",
     "text": [
      "Methylotenera sp...: 100%|██████████| 2/2 [00:00<00:00,  7.93it/s]\n"
     ]
    },
    {
     "name": "stdout",
     "output_type": "stream",
     "text": [
      "✅ [75] Methylotenera sp: 1000 proteins fetched\n",
      "\n",
      "🔍 Fetching proteins for: Rhodospirillales bacterium (available: 622488, fetching: 1000)\n"
     ]
    },
    {
     "name": "stderr",
     "output_type": "stream",
     "text": [
      "Rhodospirillales bacterium...: 100%|██████████| 2/2 [00:00<00:00,  6.76it/s]\n"
     ]
    },
    {
     "name": "stdout",
     "output_type": "stream",
     "text": [
      "✅ [76] Rhodospirillales bacterium: 1000 proteins fetched\n",
      "\n",
      "🔍 Fetching proteins for: Rhizobiaceae bacterium (available: 138309, fetching: 1000)\n"
     ]
    },
    {
     "name": "stderr",
     "output_type": "stream",
     "text": [
      "Rhizobiaceae bacterium...: 100%|██████████| 2/2 [00:00<00:00,  7.74it/s]\n"
     ]
    },
    {
     "name": "stdout",
     "output_type": "stream",
     "text": [
      "✅ [77] Rhizobiaceae bacterium: 1000 proteins fetched\n",
      "\n",
      "🔍 Fetching proteins for: Azotobacter beijerinckii (available: 15383, fetching: 1000)\n"
     ]
    },
    {
     "name": "stderr",
     "output_type": "stream",
     "text": [
      "Azotobacter beijerinckii...: 100%|██████████| 2/2 [00:00<00:00,  7.30it/s]\n"
     ]
    },
    {
     "name": "stdout",
     "output_type": "stream",
     "text": [
      "✅ [78] Azotobacter beijerinckii: 1000 proteins fetched\n",
      "\n",
      "🔍 Fetching proteins for: Candidatus Phosphoribacter hodrii (available: 6929, fetching: 1000)\n"
     ]
    },
    {
     "name": "stderr",
     "output_type": "stream",
     "text": [
      "Candidatus Phosphoribacter hodrii...: 100%|██████████| 2/2 [00:00<00:00,  8.17it/s]\n"
     ]
    },
    {
     "name": "stdout",
     "output_type": "stream",
     "text": [
      "✅ [79] Candidatus Phosphoribacter hodrii: 1000 proteins fetched\n",
      "\n",
      "🔍 Fetching proteins for: Dechloromonas aromatica (strain RCB) (available: 4156, fetching: 1000)\n"
     ]
    },
    {
     "name": "stderr",
     "output_type": "stream",
     "text": [
      "Dechloromonas aromatica (strain RCB)...: 100%|██████████| 2/2 [00:00<00:00,  6.48it/s]\n"
     ]
    },
    {
     "name": "stdout",
     "output_type": "stream",
     "text": [
      "✅ [80] Dechloromonas aromatica (strain RCB): 1000 proteins fetched\n",
      "\n",
      "🔍 Fetching proteins for: Nitrospiraceae bacterium (available: 68128, fetching: 1000)\n"
     ]
    },
    {
     "name": "stderr",
     "output_type": "stream",
     "text": [
      "Nitrospiraceae bacterium...: 100%|██████████| 2/2 [00:00<00:00,  7.10it/s]\n"
     ]
    },
    {
     "name": "stdout",
     "output_type": "stream",
     "text": [
      "✅ [81] Nitrospiraceae bacterium: 1000 proteins fetched\n",
      "\n",
      "🔍 Fetching proteins for: Dechloromonas sp. TW-R-39-2 (available: 3243, fetching: 1000)\n"
     ]
    },
    {
     "name": "stderr",
     "output_type": "stream",
     "text": [
      "Dechloromonas sp. TW-R-39-2...: 100%|██████████| 2/2 [00:00<00:00,  7.38it/s]\n"
     ]
    },
    {
     "name": "stdout",
     "output_type": "stream",
     "text": [
      "✅ [82] Dechloromonas sp. TW-R-39-2: 1000 proteins fetched\n",
      "\n",
      "🔍 Fetching proteins for: Zoogloea sp (available: 18675, fetching: 1000)\n"
     ]
    },
    {
     "name": "stderr",
     "output_type": "stream",
     "text": [
      "Zoogloea sp...: 100%|██████████| 2/2 [00:00<00:00,  7.19it/s]\n"
     ]
    },
    {
     "name": "stdout",
     "output_type": "stream",
     "text": [
      "✅ [83] Zoogloea sp: 1000 proteins fetched\n",
      "\n",
      "🔍 Fetching proteins for: Chitinophagaceae bacterium (available: 316708, fetching: 1000)\n"
     ]
    },
    {
     "name": "stderr",
     "output_type": "stream",
     "text": [
      "Chitinophagaceae bacterium...: 100%|██████████| 2/2 [00:00<00:00,  7.65it/s]\n"
     ]
    },
    {
     "name": "stdout",
     "output_type": "stream",
     "text": [
      "✅ [84] Chitinophagaceae bacterium: 1000 proteins fetched\n",
      "\n",
      "🔍 Fetching proteins for: Nitrosomonadales bacterium (available: 174283, fetching: 1000)\n"
     ]
    },
    {
     "name": "stderr",
     "output_type": "stream",
     "text": [
      "Nitrosomonadales bacterium...: 100%|██████████| 2/2 [00:00<00:00,  7.28it/s]\n"
     ]
    },
    {
     "name": "stdout",
     "output_type": "stream",
     "text": [
      "✅ [85] Nitrosomonadales bacterium: 1000 proteins fetched\n",
      "\n",
      "🔍 Fetching proteins for: Anaerolineaceae bacterium (available: 101445, fetching: 1000)\n"
     ]
    },
    {
     "name": "stderr",
     "output_type": "stream",
     "text": [
      "Anaerolineaceae bacterium...: 100%|██████████| 2/2 [00:00<00:00,  7.07it/s]\n"
     ]
    },
    {
     "name": "stdout",
     "output_type": "stream",
     "text": [
      "✅ [86] Anaerolineaceae bacterium: 1000 proteins fetched\n",
      "\n",
      "🔍 Fetching proteins for: Rhodocyclus tenuis (Rhodospirillum tenue) (available: 6149, fetching: 1000)\n"
     ]
    },
    {
     "name": "stderr",
     "output_type": "stream",
     "text": [
      "Rhodocyclus tenuis (Rhodospirillum tenue...: 100%|██████████| 2/2 [00:00<00:00,  7.45it/s]\n"
     ]
    },
    {
     "name": "stdout",
     "output_type": "stream",
     "text": [
      "✅ [87] Rhodocyclus tenuis (Rhodospirillum tenue): 1000 proteins fetched\n",
      "\n",
      "🔍 Fetching proteins for: Desulfobacteraceae bacterium (available: 231543, fetching: 1000)\n"
     ]
    },
    {
     "name": "stderr",
     "output_type": "stream",
     "text": [
      "Desulfobacteraceae bacterium...: 100%|██████████| 2/2 [00:00<00:00,  8.14it/s]\n"
     ]
    },
    {
     "name": "stdout",
     "output_type": "stream",
     "text": [
      "✅ [88] Desulfobacteraceae bacterium: 1000 proteins fetched\n",
      "\n",
      "🔍 Fetching proteins for: Synechococcaceae cyanobacterium SM1_2_3 (available: 3458, fetching: 1000)\n"
     ]
    },
    {
     "name": "stderr",
     "output_type": "stream",
     "text": [
      "Synechococcaceae cyanobacterium SM1_2_3...: 100%|██████████| 2/2 [00:00<00:00,  7.36it/s]\n"
     ]
    },
    {
     "name": "stdout",
     "output_type": "stream",
     "text": [
      "✅ [89] Synechococcaceae cyanobacterium SM1_2_3: 1000 proteins fetched\n",
      "\n",
      "🔍 Fetching proteins for: Candidatus Propionivibrio dominans (available: 3924, fetching: 1000)\n"
     ]
    },
    {
     "name": "stderr",
     "output_type": "stream",
     "text": [
      "Candidatus Propionivibrio dominans...: 100%|██████████| 2/2 [00:00<00:00,  7.71it/s]\n"
     ]
    },
    {
     "name": "stdout",
     "output_type": "stream",
     "text": [
      "✅ [90] Candidatus Propionivibrio dominans: 1000 proteins fetched\n",
      "\n",
      "🔍 Fetching proteins for: Methylophilaceae bacterium (available: 39626, fetching: 1000)\n"
     ]
    },
    {
     "name": "stderr",
     "output_type": "stream",
     "text": [
      "Methylophilaceae bacterium...: 100%|██████████| 2/2 [00:00<00:00,  8.19it/s]\n"
     ]
    },
    {
     "name": "stdout",
     "output_type": "stream",
     "text": [
      "✅ [91] Methylophilaceae bacterium: 1000 proteins fetched\n",
      "\n",
      "🔍 Fetching proteins for: Omnitrophica bacterium (Omnitrophota bacterium) (available: 292543, fetching: 1000)\n"
     ]
    },
    {
     "name": "stderr",
     "output_type": "stream",
     "text": [
      "Omnitrophica bacterium (Omnitrophota bac...: 100%|██████████| 2/2 [00:00<00:00,  7.18it/s]\n"
     ]
    },
    {
     "name": "stdout",
     "output_type": "stream",
     "text": [
      "✅ [92] Omnitrophica bacterium (Omnitrophota bacterium): 1000 proteins fetched\n",
      "\n",
      "🔍 Fetching proteins for: Massilia sp (available: 199811, fetching: 1000)\n"
     ]
    },
    {
     "name": "stderr",
     "output_type": "stream",
     "text": [
      "Massilia sp...: 100%|██████████| 2/2 [00:00<00:00,  7.61it/s]\n"
     ]
    },
    {
     "name": "stdout",
     "output_type": "stream",
     "text": [
      "✅ [93] Massilia sp: 1000 proteins fetched\n",
      "\n",
      "🔍 Fetching proteins for: Nitrospira lenta (available: 3888, fetching: 1000)\n"
     ]
    },
    {
     "name": "stderr",
     "output_type": "stream",
     "text": [
      "Nitrospira lenta...: 100%|██████████| 2/2 [00:00<00:00,  7.13it/s]\n"
     ]
    },
    {
     "name": "stdout",
     "output_type": "stream",
     "text": [
      "✅ [94] Nitrospira lenta: 1000 proteins fetched\n",
      "\n",
      "🔍 Fetching proteins for: Elusimicrobiota bacterium (available: 228669, fetching: 1000)\n"
     ]
    },
    {
     "name": "stderr",
     "output_type": "stream",
     "text": [
      "Elusimicrobiota bacterium...: 100%|██████████| 2/2 [00:00<00:00,  7.23it/s]\n"
     ]
    },
    {
     "name": "stdout",
     "output_type": "stream",
     "text": [
      "✅ [95] Elusimicrobiota bacterium: 1000 proteins fetched\n",
      "\n",
      "🔍 Fetching proteins for: Rhodocyclales bacterium (available: 190230, fetching: 1000)\n"
     ]
    },
    {
     "name": "stderr",
     "output_type": "stream",
     "text": [
      "Rhodocyclales bacterium...: 100%|██████████| 2/2 [00:00<00:00,  7.42it/s]\n"
     ]
    },
    {
     "name": "stdout",
     "output_type": "stream",
     "text": [
      "✅ [96] Rhodocyclales bacterium: 1000 proteins fetched\n",
      "\n",
      "🔍 Fetching proteins for: Nitrosospira multiformis (available: 16152, fetching: 1000)\n"
     ]
    },
    {
     "name": "stderr",
     "output_type": "stream",
     "text": [
      "Nitrosospira multiformis...: 100%|██████████| 2/2 [00:00<00:00,  7.50it/s]\n"
     ]
    },
    {
     "name": "stdout",
     "output_type": "stream",
     "text": [
      "✅ [97] Nitrosospira multiformis: 1000 proteins fetched\n",
      "\n",
      "🔍 Fetching proteins for: Nitrospira moscoviensis (available: 4743, fetching: 1000)\n"
     ]
    },
    {
     "name": "stderr",
     "output_type": "stream",
     "text": [
      "Nitrospira moscoviensis...: 100%|██████████| 2/2 [00:00<00:00,  7.40it/s]\n"
     ]
    },
    {
     "name": "stdout",
     "output_type": "stream",
     "text": [
      "✅ [98] Nitrospira moscoviensis: 1000 proteins fetched\n",
      "\n",
      "🔍 Fetching proteins for: Phycisphaerales bacterium (available: 245941, fetching: 1000)\n"
     ]
    },
    {
     "name": "stderr",
     "output_type": "stream",
     "text": [
      "Phycisphaerales bacterium...: 100%|██████████| 2/2 [00:00<00:00,  7.47it/s]\n"
     ]
    },
    {
     "name": "stdout",
     "output_type": "stream",
     "text": [
      "✅ [99] Phycisphaerales bacterium: 1000 proteins fetched\n",
      "\n",
      "🔍 Fetching proteins for: Candidatus Methylomirabilota bacterium (available: 133868, fetching: 1000)\n"
     ]
    },
    {
     "name": "stderr",
     "output_type": "stream",
     "text": [
      "Candidatus Methylomirabilota bacterium...: 100%|██████████| 2/2 [00:00<00:00,  7.16it/s]\n"
     ]
    },
    {
     "name": "stdout",
     "output_type": "stream",
     "text": [
      "✅ [100] Candidatus Methylomirabilota bacterium: 1000 proteins fetched\n",
      "\n",
      "🔍 Fetching proteins for: Clostridiales bacterium (available: 542179, fetching: 1000)\n"
     ]
    },
    {
     "name": "stderr",
     "output_type": "stream",
     "text": [
      "Clostridiales bacterium...: 100%|██████████| 2/2 [00:01<00:00,  1.11it/s]\n"
     ]
    },
    {
     "name": "stdout",
     "output_type": "stream",
     "text": [
      "✅ [101] Clostridiales bacterium: 1000 proteins fetched\n",
      "\n",
      "🔍 Fetching proteins for: Dehalococcoidia bacterium (available: 456376, fetching: 1000)\n"
     ]
    },
    {
     "name": "stderr",
     "output_type": "stream",
     "text": [
      "Dehalococcoidia bacterium...: 100%|██████████| 2/2 [00:01<00:00,  1.28it/s]\n"
     ]
    },
    {
     "name": "stdout",
     "output_type": "stream",
     "text": [
      "✅ [102] Dehalococcoidia bacterium: 1000 proteins fetched\n",
      "\n",
      "🔍 Fetching proteins for: Pseudomonas fluorescens (available: 781244, fetching: 1000)\n"
     ]
    },
    {
     "name": "stderr",
     "output_type": "stream",
     "text": [
      "Pseudomonas fluorescens...: 100%|██████████| 2/2 [00:02<00:00,  1.03s/it]\n"
     ]
    },
    {
     "name": "stdout",
     "output_type": "stream",
     "text": [
      "✅ [103] Pseudomonas fluorescens: 1004 proteins fetched\n",
      "\n",
      "🔍 Fetching proteins for: Ignavibacteriales bacterium (available: 115717, fetching: 1000)\n"
     ]
    },
    {
     "name": "stderr",
     "output_type": "stream",
     "text": [
      "Ignavibacteriales bacterium...: 100%|██████████| 2/2 [00:01<00:00,  1.24it/s]\n"
     ]
    },
    {
     "name": "stdout",
     "output_type": "stream",
     "text": [
      "✅ [104] Ignavibacteriales bacterium: 1000 proteins fetched\n",
      "\n",
      "🔍 Fetching proteins for: Sorangium cellulosum (Polyangium cellulosum) (available: 84064, fetching: 1000)\n"
     ]
    },
    {
     "name": "stderr",
     "output_type": "stream",
     "text": [
      "Sorangium cellulosum (Polyangium cellulo...: 100%|██████████| 2/2 [00:01<00:00,  1.39it/s]\n"
     ]
    },
    {
     "name": "stdout",
     "output_type": "stream",
     "text": [
      "✅ [105] Sorangium cellulosum (Polyangium cellulosum): 1000 proteins fetched\n",
      "\n",
      "🔍 Fetching proteins for: Peptococcaceae bacterium (available: 74028, fetching: 1000)\n"
     ]
    },
    {
     "name": "stderr",
     "output_type": "stream",
     "text": [
      "Peptococcaceae bacterium...: 100%|██████████| 2/2 [00:01<00:00,  1.19it/s]\n"
     ]
    },
    {
     "name": "stdout",
     "output_type": "stream",
     "text": [
      "✅ [106] Peptococcaceae bacterium: 1000 proteins fetched\n",
      "\n",
      "🔍 Fetching proteins for: Sus scrofa (Pig) (available: 373772, fetching: 1000)\n"
     ]
    },
    {
     "name": "stderr",
     "output_type": "stream",
     "text": [
      "Sus scrofa (Pig)...: 100%|██████████| 2/2 [00:01<00:00,  1.15it/s]\n"
     ]
    },
    {
     "name": "stdout",
     "output_type": "stream",
     "text": [
      "✅ [107] Sus scrofa (Pig): 1000 proteins fetched\n",
      "\n",
      "🔍 Fetching proteins for: Planctomycetales bacterium (available: 696095, fetching: 1000)\n"
     ]
    },
    {
     "name": "stderr",
     "output_type": "stream",
     "text": [
      "Planctomycetales bacterium...: 100%|██████████| 2/2 [00:01<00:00,  1.11it/s]\n"
     ]
    },
    {
     "name": "stdout",
     "output_type": "stream",
     "text": [
      "✅ [108] Planctomycetales bacterium: 1000 proteins fetched\n",
      "\n",
      "🔍 Fetching proteins for: Betaproteobacteria bacterium HGW-Betaproteobacteria-12 (available: 5288, fetching: 1000)\n"
     ]
    },
    {
     "name": "stderr",
     "output_type": "stream",
     "text": [
      "Betaproteobacteria bacterium HGW-Betapro...: 100%|██████████| 2/2 [00:01<00:00,  1.76it/s]\n"
     ]
    },
    {
     "name": "stdout",
     "output_type": "stream",
     "text": [
      "✅ [109] Betaproteobacteria bacterium HGW-Betaproteobacteria-12: 1000 proteins fetched\n",
      "\n",
      "🔍 Fetching proteins for: bioreactor metagenome (available: 214739, fetching: 1000)\n"
     ]
    },
    {
     "name": "stderr",
     "output_type": "stream",
     "text": [
      "bioreactor metagenome...: 100%|██████████| 2/2 [00:01<00:00,  1.29it/s]\n"
     ]
    },
    {
     "name": "stdout",
     "output_type": "stream",
     "text": [
      "✅ [110] bioreactor metagenome: 1000 proteins fetched\n",
      "\n",
      "🔍 Fetching proteins for: Phycisphaerae bacterium (available: 446450, fetching: 1000)\n"
     ]
    },
    {
     "name": "stderr",
     "output_type": "stream",
     "text": [
      "Phycisphaerae bacterium...: 100%|██████████| 2/2 [00:01<00:00,  1.08it/s]\n"
     ]
    },
    {
     "name": "stdout",
     "output_type": "stream",
     "text": [
      "✅ [111] Phycisphaerae bacterium: 1000 proteins fetched\n",
      "\n",
      "🔍 Fetching proteins for: Comamonadaceae bacterium (available: 159322, fetching: 1000)\n"
     ]
    },
    {
     "name": "stderr",
     "output_type": "stream",
     "text": [
      "Comamonadaceae bacterium...: 100%|██████████| 2/2 [00:01<00:00,  1.22it/s]\n"
     ]
    },
    {
     "name": "stdout",
     "output_type": "stream",
     "text": [
      "✅ [112] Comamonadaceae bacterium: 1000 proteins fetched\n",
      "\n",
      "🔍 Fetching proteins for: Actinomycetota bacterium (available: 3177512, fetching: 1000)\n"
     ]
    },
    {
     "name": "stderr",
     "output_type": "stream",
     "text": [
      "Actinomycetota bacterium...: 100%|██████████| 2/2 [00:01<00:00,  1.10it/s]\n"
     ]
    },
    {
     "name": "stdout",
     "output_type": "stream",
     "text": [
      "✅ [113] Actinomycetota bacterium: 1000 proteins fetched\n",
      "\n",
      "🔍 Fetching proteins for: uncultured prokaryote (available: 25145, fetching: 1000)\n"
     ]
    },
    {
     "name": "stderr",
     "output_type": "stream",
     "text": [
      "uncultured prokaryote...: 100%|██████████| 2/2 [00:01<00:00,  1.27it/s]\n"
     ]
    },
    {
     "name": "stdout",
     "output_type": "stream",
     "text": [
      "✅ [114] uncultured prokaryote: 1000 proteins fetched\n",
      "\n",
      "🔍 Fetching proteins for: Chromatiales bacterium (available: 184446, fetching: 1000)\n"
     ]
    },
    {
     "name": "stderr",
     "output_type": "stream",
     "text": [
      "Chromatiales bacterium...: 100%|██████████| 2/2 [00:01<00:00,  1.15it/s]\n"
     ]
    },
    {
     "name": "stdout",
     "output_type": "stream",
     "text": [
      "✅ [115] Chromatiales bacterium: 1000 proteins fetched\n",
      "\n",
      "🔍 Fetching proteins for: Nitrospira sp. WS238 (available: 3301, fetching: 1000)\n"
     ]
    },
    {
     "name": "stderr",
     "output_type": "stream",
     "text": [
      "Nitrospira sp. WS238...: 100%|██████████| 2/2 [00:01<00:00,  1.47it/s]\n"
     ]
    },
    {
     "name": "stdout",
     "output_type": "stream",
     "text": [
      "✅ [116] Nitrospira sp. WS238: 1000 proteins fetched\n",
      "\n",
      "🔍 Fetching proteins for: uncultured organism (available: 18929, fetching: 1000)\n"
     ]
    },
    {
     "name": "stderr",
     "output_type": "stream",
     "text": [
      "uncultured organism...: 100%|██████████| 2/2 [00:01<00:00,  1.16it/s]\n"
     ]
    },
    {
     "name": "stdout",
     "output_type": "stream",
     "text": [
      "✅ [117] uncultured organism: 1000 proteins fetched\n",
      "\n",
      "🔍 Fetching proteins for: Rhodobiaceae bacterium (available: 83879, fetching: 1000)\n"
     ]
    },
    {
     "name": "stderr",
     "output_type": "stream",
     "text": [
      "Rhodobiaceae bacterium...: 100%|██████████| 2/2 [00:02<00:00,  1.03s/it]\n"
     ]
    },
    {
     "name": "stdout",
     "output_type": "stream",
     "text": [
      "✅ [118] Rhodobiaceae bacterium: 1000 proteins fetched\n",
      "\n",
      "🔍 Fetching proteins for: Alcaligenaceae bacterium (available: 101514, fetching: 1000)\n"
     ]
    },
    {
     "name": "stderr",
     "output_type": "stream",
     "text": [
      "Alcaligenaceae bacterium...: 100%|██████████| 2/2 [00:01<00:00,  1.44it/s]\n"
     ]
    },
    {
     "name": "stdout",
     "output_type": "stream",
     "text": [
      "✅ [119] Alcaligenaceae bacterium: 1000 proteins fetched\n",
      "\n",
      "🔍 Fetching proteins for: Nitrosomonas sp. AL212 (available: 2844, fetching: 1000)\n"
     ]
    },
    {
     "name": "stderr",
     "output_type": "stream",
     "text": [
      "Nitrosomonas sp. AL212...: 100%|██████████| 2/2 [00:02<00:00,  1.06s/it]\n"
     ]
    },
    {
     "name": "stdout",
     "output_type": "stream",
     "text": [
      "✅ [120] Nitrosomonas sp. AL212: 1000 proteins fetched\n",
      "\n",
      "🔍 Fetching proteins for: Poribacteria bacterium (available: 192122, fetching: 1000)\n"
     ]
    },
    {
     "name": "stderr",
     "output_type": "stream",
     "text": [
      "Poribacteria bacterium...: 100%|██████████| 2/2 [00:01<00:00,  1.00it/s]\n"
     ]
    },
    {
     "name": "stdout",
     "output_type": "stream",
     "text": [
      "✅ [121] Poribacteria bacterium: 1000 proteins fetched\n",
      "\n",
      "🔍 Fetching proteins for: Nitrospira sp. KM1 (available: 4311, fetching: 1000)\n"
     ]
    },
    {
     "name": "stderr",
     "output_type": "stream",
     "text": [
      "Nitrospira sp. KM1...: 100%|██████████| 2/2 [00:01<00:00,  1.25it/s]\n"
     ]
    },
    {
     "name": "stdout",
     "output_type": "stream",
     "text": [
      "✅ [122] Nitrospira sp. KM1: 1000 proteins fetched\n",
      "\n",
      "🔍 Fetching proteins for: Dechloromonas denitrificans (available: 3889, fetching: 1000)\n"
     ]
    },
    {
     "name": "stderr",
     "output_type": "stream",
     "text": [
      "Dechloromonas denitrificans...: 100%|██████████| 2/2 [00:01<00:00,  1.20it/s]\n"
     ]
    },
    {
     "name": "stdout",
     "output_type": "stream",
     "text": [
      "✅ [123] Dechloromonas denitrificans: 1000 proteins fetched\n",
      "\n",
      "🔍 Fetching proteins for: Gemmatimonadales bacterium (available: 191358, fetching: 1000)\n"
     ]
    },
    {
     "name": "stderr",
     "output_type": "stream",
     "text": [
      "Gemmatimonadales bacterium...: 100%|██████████| 2/2 [00:01<00:00,  1.05it/s]\n"
     ]
    },
    {
     "name": "stdout",
     "output_type": "stream",
     "text": [
      "✅ [124] Gemmatimonadales bacterium: 1000 proteins fetched\n",
      "\n",
      "🔍 Fetching proteins for: Candidatus Proximibacter danicus (available: 2884, fetching: 1000)\n"
     ]
    },
    {
     "name": "stderr",
     "output_type": "stream",
     "text": [
      "Candidatus Proximibacter danicus...: 100%|██████████| 2/2 [00:01<00:00,  1.64it/s]\n"
     ]
    },
    {
     "name": "stdout",
     "output_type": "stream",
     "text": [
      "✅ [125] Candidatus Proximibacter danicus: 1000 proteins fetched\n",
      "\n",
      "🔍 Fetching proteins for: Rhizobacter sp (available: 72536, fetching: 1000)\n"
     ]
    },
    {
     "name": "stderr",
     "output_type": "stream",
     "text": [
      "Rhizobacter sp...: 100%|██████████| 2/2 [00:03<00:00,  1.64s/it]\n"
     ]
    },
    {
     "name": "stdout",
     "output_type": "stream",
     "text": [
      "✅ [126] Rhizobacter sp: 1000 proteins fetched\n",
      "\n",
      "🔍 Fetching proteins for: Thiobacillus sp (available: 106165, fetching: 1000)\n"
     ]
    },
    {
     "name": "stderr",
     "output_type": "stream",
     "text": [
      "Thiobacillus sp...: 100%|██████████| 2/2 [00:02<00:00,  1.20s/it]\n"
     ]
    },
    {
     "name": "stdout",
     "output_type": "stream",
     "text": [
      "✅ [127] Thiobacillus sp: 1000 proteins fetched\n",
      "\n",
      "🔍 Fetching proteins for: Candidatus Nitrospira nitrificans (available: 4434, fetching: 1000)\n"
     ]
    },
    {
     "name": "stderr",
     "output_type": "stream",
     "text": [
      "Candidatus Nitrospira nitrificans...: 100%|██████████| 2/2 [00:02<00:00,  1.22s/it]\n"
     ]
    },
    {
     "name": "stdout",
     "output_type": "stream",
     "text": [
      "✅ [128] Candidatus Nitrospira nitrificans: 1000 proteins fetched\n",
      "\n",
      "🔍 Fetching proteins for: Latescibacterota bacterium (available: 98416, fetching: 1000)\n"
     ]
    },
    {
     "name": "stderr",
     "output_type": "stream",
     "text": [
      "Latescibacterota bacterium...: 100%|██████████| 2/2 [00:02<00:00,  1.37s/it]\n"
     ]
    },
    {
     "name": "stdout",
     "output_type": "stream",
     "text": [
      "✅ [129] Latescibacterota bacterium: 1000 proteins fetched\n",
      "\n",
      "🔍 Fetching proteins for: Candidatus Methylophosphatis roskildensis (available: 4148, fetching: 1000)\n"
     ]
    },
    {
     "name": "stderr",
     "output_type": "stream",
     "text": [
      "Candidatus Methylophosphatis roskildensi...: 100%|██████████| 2/2 [00:02<00:00,  1.07s/it]\n"
     ]
    },
    {
     "name": "stdout",
     "output_type": "stream",
     "text": [
      "✅ [130] Candidatus Methylophosphatis roskildensis: 1000 proteins fetched\n",
      "\n",
      "🔍 Fetching proteins for: Nitrospira sp. SG-bin1 (available: 4107, fetching: 1000)\n"
     ]
    },
    {
     "name": "stderr",
     "output_type": "stream",
     "text": [
      "Nitrospira sp. SG-bin1...: 100%|██████████| 2/2 [00:02<00:00,  1.14s/it]\n"
     ]
    },
    {
     "name": "stdout",
     "output_type": "stream",
     "text": [
      "✅ [131] Nitrospira sp. SG-bin1: 1000 proteins fetched\n",
      "\n",
      "🔍 Fetching proteins for: Clostridia bacterium (available: 2265360, fetching: 1000)\n"
     ]
    },
    {
     "name": "stderr",
     "output_type": "stream",
     "text": [
      "Clostridia bacterium...: 100%|██████████| 2/2 [00:03<00:00,  1.65s/it]\n"
     ]
    },
    {
     "name": "stdout",
     "output_type": "stream",
     "text": [
      "✅ [132] Clostridia bacterium: 1000 proteins fetched\n",
      "\n",
      "🔍 Fetching proteins for: Desulfobacterales bacterium (available: 335670, fetching: 1000)\n"
     ]
    },
    {
     "name": "stderr",
     "output_type": "stream",
     "text": [
      "Desulfobacterales bacterium...: 100%|██████████| 2/2 [00:02<00:00,  1.32s/it]\n"
     ]
    },
    {
     "name": "stdout",
     "output_type": "stream",
     "text": [
      "✅ [133] Desulfobacterales bacterium: 1000 proteins fetched\n",
      "\n",
      "🔍 Fetching proteins for: Nitrospira sp. WS110 (available: 4849, fetching: 1000)\n"
     ]
    },
    {
     "name": "stderr",
     "output_type": "stream",
     "text": [
      "Nitrospira sp. WS110...: 100%|██████████| 2/2 [00:02<00:00,  1.04s/it]\n"
     ]
    },
    {
     "name": "stdout",
     "output_type": "stream",
     "text": [
      "✅ [134] Nitrospira sp. WS110: 1000 proteins fetched\n",
      "\n",
      "🔍 Fetching proteins for: Zoogloea ramigera (available: 8424, fetching: 1000)\n"
     ]
    },
    {
     "name": "stderr",
     "output_type": "stream",
     "text": [
      "Zoogloea ramigera...: 100%|██████████| 2/2 [00:02<00:00,  1.16s/it]\n"
     ]
    },
    {
     "name": "stdout",
     "output_type": "stream",
     "text": [
      "✅ [135] Zoogloea ramigera: 1000 proteins fetched\n",
      "\n",
      "🔍 Fetching proteins for: Halanaerobium congolense (available: 8306, fetching: 1000)\n"
     ]
    },
    {
     "name": "stderr",
     "output_type": "stream",
     "text": [
      "Halanaerobium congolense...: 100%|██████████| 2/2 [00:02<00:00,  1.14s/it]\n"
     ]
    },
    {
     "name": "stdout",
     "output_type": "stream",
     "text": [
      "✅ [136] Halanaerobium congolense: 1000 proteins fetched\n",
      "\n",
      "🔍 Fetching proteins for: Candidatus Nitrospira kreftii (available: 4147, fetching: 1000)\n"
     ]
    },
    {
     "name": "stderr",
     "output_type": "stream",
     "text": [
      "Candidatus Nitrospira kreftii...: 100%|██████████| 2/2 [00:02<00:00,  1.11s/it]\n"
     ]
    },
    {
     "name": "stdout",
     "output_type": "stream",
     "text": [
      "✅ [137] Candidatus Nitrospira kreftii: 1000 proteins fetched\n",
      "\n",
      "🔍 Fetching proteins for: Porticoccaceae bacterium (available: 79698, fetching: 1000)\n"
     ]
    },
    {
     "name": "stderr",
     "output_type": "stream",
     "text": [
      "Porticoccaceae bacterium...: 100%|██████████| 2/2 [00:02<00:00,  1.14s/it]\n"
     ]
    },
    {
     "name": "stdout",
     "output_type": "stream",
     "text": [
      "✅ [138] Porticoccaceae bacterium: 1000 proteins fetched\n",
      "\n",
      "🔍 Fetching proteins for: Nitrospira sp. ST-bin5 (available: 3845, fetching: 1000)\n"
     ]
    },
    {
     "name": "stderr",
     "output_type": "stream",
     "text": [
      "Nitrospira sp. ST-bin5...: 100%|██████████| 2/2 [00:02<00:00,  1.33s/it]\n"
     ]
    },
    {
     "name": "stdout",
     "output_type": "stream",
     "text": [
      "✅ [139] Nitrospira sp. ST-bin5: 1000 proteins fetched\n",
      "\n",
      "🔍 Fetching proteins for: Sciurus vulgaris (Eurasian red squirrel) (available: 33239, fetching: 1000)\n"
     ]
    },
    {
     "name": "stderr",
     "output_type": "stream",
     "text": [
      "Sciurus vulgaris (Eurasian red squirrel)...: 100%|██████████| 2/2 [00:02<00:00,  1.06s/it]\n"
     ]
    },
    {
     "name": "stdout",
     "output_type": "stream",
     "text": [
      "✅ [140] Sciurus vulgaris (Eurasian red squirrel): 1000 proteins fetched\n",
      "\n",
      "🔍 Fetching proteins for: Nitrospira sp. SCN 59-13 (available: 1559, fetching: 1000)\n"
     ]
    },
    {
     "name": "stderr",
     "output_type": "stream",
     "text": [
      "Nitrospira sp. SCN 59-13...: 100%|██████████| 2/2 [00:02<00:00,  1.13s/it]\n"
     ]
    },
    {
     "name": "stdout",
     "output_type": "stream",
     "text": [
      "✅ [141] Nitrospira sp. SCN 59-13: 1000 proteins fetched\n",
      "\n",
      "🔍 Fetching proteins for: Azonexus fungiphilus (available: 3289, fetching: 1000)\n"
     ]
    },
    {
     "name": "stderr",
     "output_type": "stream",
     "text": [
      "Azonexus fungiphilus...: 100%|██████████| 2/2 [00:02<00:00,  1.07s/it]\n"
     ]
    },
    {
     "name": "stdout",
     "output_type": "stream",
     "text": [
      "✅ [142] Azonexus fungiphilus: 1000 proteins fetched\n",
      "\n",
      "🔍 Fetching proteins for: Betaproteobacteria bacterium HGW-Betaproteobacteria-7 (available: 8451, fetching: 1000)\n"
     ]
    },
    {
     "name": "stderr",
     "output_type": "stream",
     "text": [
      "Betaproteobacteria bacterium HGW-Betapro...: 100%|██████████| 2/2 [00:02<00:00,  1.24s/it]\n"
     ]
    },
    {
     "name": "stdout",
     "output_type": "stream",
     "text": [
      "✅ [143] Betaproteobacteria bacterium HGW-Betaproteobacteria-7: 1000 proteins fetched\n",
      "\n",
      "🔍 Fetching proteins for: Nitrosospira sp. NpAV (available: 2950, fetching: 1000)\n"
     ]
    },
    {
     "name": "stderr",
     "output_type": "stream",
     "text": [
      "Nitrosospira sp. NpAV...: 100%|██████████| 2/2 [00:02<00:00,  1.05s/it]\n"
     ]
    },
    {
     "name": "stdout",
     "output_type": "stream",
     "text": [
      "✅ [144] Nitrosospira sp. NpAV: 1000 proteins fetched\n",
      "\n",
      "🔍 Fetching proteins for: Denitromonas halophila (available: 7820, fetching: 1000)\n"
     ]
    },
    {
     "name": "stderr",
     "output_type": "stream",
     "text": [
      "Denitromonas halophila...: 100%|██████████| 2/2 [00:02<00:00,  1.10s/it]\n"
     ]
    },
    {
     "name": "stdout",
     "output_type": "stream",
     "text": [
      "✅ [145] Denitromonas halophila: 1000 proteins fetched\n",
      "\n",
      "🔍 Fetching proteins for: Nitrospira japonica (available: 4147, fetching: 1000)\n"
     ]
    },
    {
     "name": "stderr",
     "output_type": "stream",
     "text": [
      "Nitrospira japonica...: 100%|██████████| 2/2 [00:02<00:00,  1.09s/it]\n"
     ]
    },
    {
     "name": "stdout",
     "output_type": "stream",
     "text": [
      "✅ [146] Nitrospira japonica: 1000 proteins fetched\n",
      "\n",
      "🔍 Fetching proteins for: Azospira sp. I13 (available: 3414, fetching: 1000)\n"
     ]
    },
    {
     "name": "stderr",
     "output_type": "stream",
     "text": [
      "Azospira sp. I13...: 100%|██████████| 2/2 [00:02<00:00,  1.13s/it]\n"
     ]
    },
    {
     "name": "stdout",
     "output_type": "stream",
     "text": [
      "✅ [147] Azospira sp. I13: 1000 proteins fetched\n",
      "\n",
      "🔍 Fetching proteins for: Nitrosomonas sp. (strain Is79A3) (available: 3274, fetching: 1000)\n"
     ]
    },
    {
     "name": "stderr",
     "output_type": "stream",
     "text": [
      "Nitrosomonas sp. (strain Is79A3)...: 100%|██████████| 2/2 [00:02<00:00,  1.15s/it]\n"
     ]
    },
    {
     "name": "stdout",
     "output_type": "stream",
     "text": [
      "✅ [148] Nitrosomonas sp. (strain Is79A3): 1000 proteins fetched\n",
      "\n",
      "🔍 Fetching proteins for: Oscillospiraceae bacterium (available: 363556, fetching: 1000)\n"
     ]
    },
    {
     "name": "stderr",
     "output_type": "stream",
     "text": [
      "Oscillospiraceae bacterium...: 100%|██████████| 2/2 [00:03<00:00,  1.75s/it]\n"
     ]
    },
    {
     "name": "stdout",
     "output_type": "stream",
     "text": [
      "✅ [149] Oscillospiraceae bacterium: 1000 proteins fetched\n",
      "\n",
      "🔍 Fetching proteins for: Pelagibacteraceae bacterium (available: 54953, fetching: 1000)\n"
     ]
    },
    {
     "name": "stderr",
     "output_type": "stream",
     "text": [
      "Pelagibacteraceae bacterium...: 100%|██████████| 2/2 [00:02<00:00,  1.33s/it]\n"
     ]
    },
    {
     "name": "stdout",
     "output_type": "stream",
     "text": [
      "✅ [150] Pelagibacteraceae bacterium: 1000 proteins fetched\n",
      "\n",
      "🔍 Fetching proteins for: Nitrosomonas supralitoralis (available: 3283, fetching: 1000)\n"
     ]
    },
    {
     "name": "stderr",
     "output_type": "stream",
     "text": [
      "Nitrosomonas supralitoralis...: 100%|██████████| 2/2 [00:02<00:00,  1.02s/it]\n"
     ]
    },
    {
     "name": "stdout",
     "output_type": "stream",
     "text": [
      "✅ [151] Nitrosomonas supralitoralis: 1000 proteins fetched\n",
      "\n",
      "🔍 Fetching proteins for: Rhodocyclales bacterium GT-UBC (available: 4376, fetching: 1000)\n"
     ]
    },
    {
     "name": "stderr",
     "output_type": "stream",
     "text": [
      "Rhodocyclales bacterium GT-UBC...: 100%|██████████| 2/2 [00:02<00:00,  1.10s/it]\n"
     ]
    },
    {
     "name": "stdout",
     "output_type": "stream",
     "text": [
      "✅ [152] Rhodocyclales bacterium GT-UBC: 1000 proteins fetched\n",
      "\n",
      "🔍 Fetching proteins for: Proteobacteria bacterium SG_bin4 (available: 2533, fetching: 1000)\n"
     ]
    },
    {
     "name": "stderr",
     "output_type": "stream",
     "text": [
      "Proteobacteria bacterium SG_bin4...: 100%|██████████| 2/2 [00:02<00:00,  1.08s/it]\n"
     ]
    },
    {
     "name": "stdout",
     "output_type": "stream",
     "text": [
      "✅ [153] Proteobacteria bacterium SG_bin4: 1000 proteins fetched\n",
      "\n",
      "🔍 Fetching proteins for: uncultured Pseudomonadota bacterium (available: 61345, fetching: 1000)\n"
     ]
    },
    {
     "name": "stderr",
     "output_type": "stream",
     "text": [
      "uncultured Pseudomonadota bacterium...: 100%|██████████| 2/2 [00:02<00:00,  1.31s/it]\n"
     ]
    },
    {
     "name": "stdout",
     "output_type": "stream",
     "text": [
      "✅ [154] uncultured Pseudomonadota bacterium: 1000 proteins fetched\n",
      "\n",
      "🔍 Fetching proteins for: Candidatus Nitrotoga fabula (available: 4612, fetching: 1000)\n"
     ]
    },
    {
     "name": "stderr",
     "output_type": "stream",
     "text": [
      "Candidatus Nitrotoga fabula...: 100%|██████████| 2/2 [00:02<00:00,  1.31s/it]\n"
     ]
    },
    {
     "name": "stdout",
     "output_type": "stream",
     "text": [
      "✅ [155] Candidatus Nitrotoga fabula: 1000 proteins fetched\n",
      "\n",
      "🔍 Fetching proteins for: Neomarinimicrobiota bacterium (available: 198192, fetching: 1000)\n"
     ]
    },
    {
     "name": "stderr",
     "output_type": "stream",
     "text": [
      "Neomarinimicrobiota bacterium...: 100%|██████████| 2/2 [00:02<00:00,  1.30s/it]\n"
     ]
    },
    {
     "name": "stdout",
     "output_type": "stream",
     "text": [
      "✅ [156] Neomarinimicrobiota bacterium: 1000 proteins fetched\n",
      "\n",
      "🔍 Fetching proteins for: Thiotrichales bacterium (available: 83497, fetching: 1000)\n"
     ]
    },
    {
     "name": "stderr",
     "output_type": "stream",
     "text": [
      "Thiotrichales bacterium...: 100%|██████████| 2/2 [00:02<00:00,  1.22s/it]\n"
     ]
    },
    {
     "name": "stdout",
     "output_type": "stream",
     "text": [
      "✅ [157] Thiotrichales bacterium: 1000 proteins fetched\n",
      "\n",
      "🔍 Fetching proteins for: Dechloromonas sp. HYN0024 (available: 3011, fetching: 1000)\n"
     ]
    },
    {
     "name": "stderr",
     "output_type": "stream",
     "text": [
      "Dechloromonas sp. HYN0024...: 100%|██████████| 2/2 [00:02<00:00,  1.16s/it]\n"
     ]
    },
    {
     "name": "stdout",
     "output_type": "stream",
     "text": [
      "✅ [158] Dechloromonas sp. HYN0024: 1000 proteins fetched\n",
      "\n",
      "🔍 Fetching proteins for: Nitrospira sp. CG24D (available: 3279, fetching: 1000)\n"
     ]
    },
    {
     "name": "stderr",
     "output_type": "stream",
     "text": [
      "Nitrospira sp. CG24D...: 100%|██████████| 2/2 [00:02<00:00,  1.22s/it]\n"
     ]
    },
    {
     "name": "stdout",
     "output_type": "stream",
     "text": [
      "✅ [159] Nitrospira sp. CG24D: 1000 proteins fetched\n",
      "\n",
      "🔍 Fetching proteins for: Nitrospira tepida (available: 4561, fetching: 1000)\n"
     ]
    },
    {
     "name": "stderr",
     "output_type": "stream",
     "text": [
      "Nitrospira tepida...: 100%|██████████| 2/2 [00:01<00:00,  1.01it/s]\n"
     ]
    },
    {
     "name": "stdout",
     "output_type": "stream",
     "text": [
      "✅ [160] Nitrospira tepida: 1000 proteins fetched\n",
      "\n",
      "🔍 Fetching proteins for: Propionivibrio dicarboxylicus (available: 4057, fetching: 1000)\n"
     ]
    },
    {
     "name": "stderr",
     "output_type": "stream",
     "text": [
      "Propionivibrio dicarboxylicus...: 100%|██████████| 2/2 [00:02<00:00,  1.27s/it]\n"
     ]
    },
    {
     "name": "stdout",
     "output_type": "stream",
     "text": [
      "✅ [161] Propionivibrio dicarboxylicus: 1000 proteins fetched\n",
      "\n",
      "🔍 Fetching proteins for: Azonexus hydrophilus (available: 3393, fetching: 1000)\n"
     ]
    },
    {
     "name": "stderr",
     "output_type": "stream",
     "text": [
      "Azonexus hydrophilus...: 100%|██████████| 2/2 [00:01<00:00,  1.08it/s]\n"
     ]
    },
    {
     "name": "stdout",
     "output_type": "stream",
     "text": [
      "✅ [162] Azonexus hydrophilus: 1000 proteins fetched\n",
      "\n",
      "🔍 Fetching proteins for: Clostridiaceae bacterium (available: 313895, fetching: 1000)\n"
     ]
    },
    {
     "name": "stderr",
     "output_type": "stream",
     "text": [
      "Clostridiaceae bacterium...: 100%|██████████| 2/2 [00:02<00:00,  1.38s/it]\n"
     ]
    },
    {
     "name": "stdout",
     "output_type": "stream",
     "text": [
      "✅ [163] Clostridiaceae bacterium: 1000 proteins fetched\n",
      "\n",
      "🔍 Fetching proteins for: Geminicoccaceae bacterium (available: 23475, fetching: 1000)\n"
     ]
    },
    {
     "name": "stderr",
     "output_type": "stream",
     "text": [
      "Geminicoccaceae bacterium...: 100%|██████████| 2/2 [00:02<00:00,  1.42s/it]\n"
     ]
    },
    {
     "name": "stdout",
     "output_type": "stream",
     "text": [
      "✅ [164] Geminicoccaceae bacterium: 1000 proteins fetched\n",
      "\n",
      "🔍 Fetching proteins for: Thauera sp (available: 38642, fetching: 1000)\n"
     ]
    },
    {
     "name": "stderr",
     "output_type": "stream",
     "text": [
      "Thauera sp...: 100%|██████████| 2/2 [00:02<00:00,  1.03s/it]\n"
     ]
    },
    {
     "name": "stdout",
     "output_type": "stream",
     "text": [
      "✅ [165] Thauera sp: 1000 proteins fetched\n",
      "\n",
      "🔍 Fetching proteins for: Limnohabitans sp (available: 85547, fetching: 1000)\n"
     ]
    },
    {
     "name": "stderr",
     "output_type": "stream",
     "text": [
      "Limnohabitans sp...: 100%|██████████| 2/2 [00:03<00:00,  1.53s/it]\n"
     ]
    },
    {
     "name": "stdout",
     "output_type": "stream",
     "text": [
      "✅ [166] Limnohabitans sp: 1000 proteins fetched\n",
      "\n",
      "🔍 Fetching proteins for: Gorilla gorilla gorilla (Western lowland gorilla) (available: 45072, fetching: 1000)\n"
     ]
    },
    {
     "name": "stderr",
     "output_type": "stream",
     "text": [
      "Gorilla gorilla gorilla (Western lowland...: 100%|██████████| 2/2 [00:02<00:00,  1.48s/it]\n"
     ]
    },
    {
     "name": "stdout",
     "output_type": "stream",
     "text": [
      "✅ [167] Gorilla gorilla gorilla (Western lowland gorilla): 1000 proteins fetched\n",
      "\n",
      "🔍 Fetching proteins for: Thauera aminoaromatica (available: 11374, fetching: 1000)\n"
     ]
    },
    {
     "name": "stderr",
     "output_type": "stream",
     "text": [
      "Thauera aminoaromatica...: 100%|██████████| 2/2 [00:02<00:00,  1.25s/it]\n"
     ]
    },
    {
     "name": "stdout",
     "output_type": "stream",
     "text": [
      "✅ [168] Thauera aminoaromatica: 1000 proteins fetched\n",
      "\n",
      "🔍 Fetching proteins for: Azospira oryzae (strain ATCC BAA-33 / DSM 13638 / PS) (Dechlorosoma suillum) (available: 785, fetching: 785)\n"
     ]
    },
    {
     "name": "stderr",
     "output_type": "stream",
     "text": [
      "Azospira oryzae (strain ATCC BAA-33 / DS...: 100%|██████████| 2/2 [00:02<00:00,  1.32s/it]\n"
     ]
    },
    {
     "name": "stdout",
     "output_type": "stream",
     "text": [
      "✅ [169] Azospira oryzae (strain ATCC BAA-33 / DSM 13638 / PS) (Dechlorosoma suillum): 1000 proteins fetched\n",
      "\n",
      "🔍 Fetching proteins for: Syntrophaceae bacterium (available: 61258, fetching: 1000)\n"
     ]
    },
    {
     "name": "stderr",
     "output_type": "stream",
     "text": [
      "Syntrophaceae bacterium...: 100%|██████████| 2/2 [00:02<00:00,  1.33s/it]\n"
     ]
    },
    {
     "name": "stdout",
     "output_type": "stream",
     "text": [
      "✅ [170] Syntrophaceae bacterium: 1000 proteins fetched\n",
      "\n",
      "🔍 Fetching proteins for: freshwater metagenome (available: 375270, fetching: 1000)\n"
     ]
    },
    {
     "name": "stderr",
     "output_type": "stream",
     "text": [
      "freshwater metagenome...: 100%|██████████| 2/2 [00:02<00:00,  1.46s/it]\n"
     ]
    },
    {
     "name": "stdout",
     "output_type": "stream",
     "text": [
      "✅ [171] freshwater metagenome: 1000 proteins fetched\n",
      "\n",
      "🔍 Fetching proteins for: Caulobacteraceae bacterium (available: 58196, fetching: 1000)\n"
     ]
    },
    {
     "name": "stderr",
     "output_type": "stream",
     "text": [
      "Caulobacteraceae bacterium...: 100%|██████████| 2/2 [00:02<00:00,  1.12s/it]\n"
     ]
    },
    {
     "name": "stdout",
     "output_type": "stream",
     "text": [
      "✅ [172] Caulobacteraceae bacterium: 1000 proteins fetched\n",
      "\n",
      "🔍 Fetching proteins for: Thauera phenylacetica B4P (available: 4836, fetching: 1000)\n"
     ]
    },
    {
     "name": "stderr",
     "output_type": "stream",
     "text": [
      "Thauera phenylacetica B4P...: 100%|██████████| 2/2 [00:02<00:00,  1.09s/it]\n"
     ]
    },
    {
     "name": "stdout",
     "output_type": "stream",
     "text": [
      "✅ [173] Thauera phenylacetica B4P: 1000 proteins fetched\n",
      "\n",
      "🔍 Fetching proteins for: Nitrospirae bacterium RIFCSPLOWO2_02_FULL_62_14 (available: 2322, fetching: 1000)\n"
     ]
    },
    {
     "name": "stderr",
     "output_type": "stream",
     "text": [
      "Nitrospirae bacterium RIFCSPLOWO2_02_FUL...: 100%|██████████| 2/2 [00:02<00:00,  1.06s/it]\n"
     ]
    },
    {
     "name": "stdout",
     "output_type": "stream",
     "text": [
      "✅ [174] Nitrospirae bacterium RIFCSPLOWO2_02_FULL_62_14: 1000 proteins fetched\n",
      "\n",
      "🔍 Fetching proteins for: Sphingomonadales bacterium (available: 376388, fetching: 1000)\n"
     ]
    },
    {
     "name": "stderr",
     "output_type": "stream",
     "text": [
      "Sphingomonadales bacterium...: 100%|██████████| 2/2 [00:03<00:00,  1.53s/it]\n"
     ]
    },
    {
     "name": "stdout",
     "output_type": "stream",
     "text": [
      "✅ [175] Sphingomonadales bacterium: 1000 proteins fetched\n",
      "\n",
      "🔍 Fetching proteins for: Terriglobia bacterium (available: 250313, fetching: 1000)\n"
     ]
    },
    {
     "name": "stderr",
     "output_type": "stream",
     "text": [
      "Terriglobia bacterium...: 100%|██████████| 2/2 [00:02<00:00,  1.50s/it]\n"
     ]
    },
    {
     "name": "stdout",
     "output_type": "stream",
     "text": [
      "✅ [176] Terriglobia bacterium: 1000 proteins fetched\n",
      "\n",
      "🔍 Fetching proteins for: Nitrosomonas sp. Nm84 (available: 3168, fetching: 1000)\n"
     ]
    },
    {
     "name": "stderr",
     "output_type": "stream",
     "text": [
      "Nitrosomonas sp. Nm84...: 100%|██████████| 2/2 [00:02<00:00,  1.05s/it]\n"
     ]
    },
    {
     "name": "stdout",
     "output_type": "stream",
     "text": [
      "✅ [177] Nitrosomonas sp. Nm84: 1000 proteins fetched\n",
      "\n",
      "🔍 Fetching proteins for: Pseudonocardiales bacterium (available: 112883, fetching: 1000)\n"
     ]
    },
    {
     "name": "stderr",
     "output_type": "stream",
     "text": [
      "Pseudonocardiales bacterium...: 100%|██████████| 2/2 [00:02<00:00,  1.16s/it]\n"
     ]
    },
    {
     "name": "stdout",
     "output_type": "stream",
     "text": [
      "✅ [178] Pseudonocardiales bacterium: 1000 proteins fetched\n",
      "\n",
      "🔍 Fetching proteins for: Patescibacteria bacterium (available: 1986296, fetching: 1000)\n"
     ]
    },
    {
     "name": "stderr",
     "output_type": "stream",
     "text": [
      "Patescibacteria bacterium...: 100%|██████████| 2/2 [00:03<00:00,  1.60s/it]\n"
     ]
    },
    {
     "name": "stdout",
     "output_type": "stream",
     "text": [
      "✅ [179] Patescibacteria bacterium: 1000 proteins fetched\n",
      "\n",
      "🔍 Fetching proteins for: Zoogloea dura (available: 5080, fetching: 1000)\n"
     ]
    },
    {
     "name": "stderr",
     "output_type": "stream",
     "text": [
      "Zoogloea dura...: 100%|██████████| 2/2 [00:02<00:00,  1.08s/it]\n"
     ]
    },
    {
     "name": "stdout",
     "output_type": "stream",
     "text": [
      "✅ [180] Zoogloea dura: 1000 proteins fetched\n",
      "\n",
      "🔍 Fetching proteins for: Calditrichota bacterium (available: 127762, fetching: 1000)\n"
     ]
    },
    {
     "name": "stderr",
     "output_type": "stream",
     "text": [
      "Calditrichota bacterium...: 100%|██████████| 2/2 [00:02<00:00,  1.22s/it]\n"
     ]
    },
    {
     "name": "stdout",
     "output_type": "stream",
     "text": [
      "✅ [181] Calditrichota bacterium: 1000 proteins fetched\n",
      "\n",
      "🔍 Fetching proteins for: Nitrospira sp. SG-bin2 (available: 3502, fetching: 1000)\n"
     ]
    },
    {
     "name": "stderr",
     "output_type": "stream",
     "text": [
      "Nitrospira sp. SG-bin2...: 100%|██████████| 2/2 [00:02<00:00,  1.12s/it]\n"
     ]
    },
    {
     "name": "stdout",
     "output_type": "stream",
     "text": [
      "✅ [182] Nitrospira sp. SG-bin2: 1000 proteins fetched\n",
      "\n",
      "🔍 Fetching proteins for: Acidimicrobiia bacterium (available: 591955, fetching: 1000)\n"
     ]
    },
    {
     "name": "stderr",
     "output_type": "stream",
     "text": [
      "Acidimicrobiia bacterium...: 100%|██████████| 2/2 [00:02<00:00,  1.22s/it]\n"
     ]
    },
    {
     "name": "stdout",
     "output_type": "stream",
     "text": [
      "✅ [183] Acidimicrobiia bacterium: 1000 proteins fetched\n",
      "\n",
      "🔍 Fetching proteins for: Nitrosomonas sp. Nm166 (available: 3014, fetching: 1000)\n"
     ]
    },
    {
     "name": "stderr",
     "output_type": "stream",
     "text": [
      "Nitrosomonas sp. Nm166...: 100%|██████████| 2/2 [00:02<00:00,  1.18s/it]\n"
     ]
    },
    {
     "name": "stdout",
     "output_type": "stream",
     "text": [
      "✅ [184] Nitrosomonas sp. Nm166: 1000 proteins fetched\n",
      "\n",
      "🔍 Fetching proteins for: human gut metagenome (available: 87727, fetching: 1000)\n"
     ]
    },
    {
     "name": "stderr",
     "output_type": "stream",
     "text": [
      "human gut metagenome...: 100%|██████████| 2/2 [00:02<00:00,  1.49s/it]\n"
     ]
    },
    {
     "name": "stdout",
     "output_type": "stream",
     "text": [
      "✅ [185] human gut metagenome: 1000 proteins fetched\n",
      "\n",
      "🔍 Fetching proteins for: SAR202 cluster bacterium (available: 127579, fetching: 1000)\n"
     ]
    },
    {
     "name": "stderr",
     "output_type": "stream",
     "text": [
      "SAR202 cluster bacterium...: 100%|██████████| 2/2 [00:02<00:00,  1.43s/it]\n"
     ]
    },
    {
     "name": "stdout",
     "output_type": "stream",
     "text": [
      "✅ [186] SAR202 cluster bacterium: 1000 proteins fetched\n",
      "\n",
      "🔍 Fetching proteins for: Halanaerobium saccharolyticum (available: 14008, fetching: 1000)\n"
     ]
    },
    {
     "name": "stderr",
     "output_type": "stream",
     "text": [
      "Halanaerobium saccharolyticum...: 100%|██████████| 2/2 [00:02<00:00,  1.20s/it]\n"
     ]
    },
    {
     "name": "stdout",
     "output_type": "stream",
     "text": [
      "✅ [187] Halanaerobium saccharolyticum: 1000 proteins fetched\n",
      "\n",
      "🔍 Fetching proteins for: Colletotrichum fructicola (available: 27215, fetching: 1000)\n"
     ]
    },
    {
     "name": "stderr",
     "output_type": "stream",
     "text": [
      "Colletotrichum fructicola...: 100%|██████████| 2/2 [00:02<00:00,  1.25s/it]\n"
     ]
    },
    {
     "name": "stdout",
     "output_type": "stream",
     "text": [
      "✅ [188] Colletotrichum fructicola: 1000 proteins fetched\n",
      "\n",
      "🔍 Fetching proteins for: Acetobacteraceae bacterium (available: 107120, fetching: 1000)\n"
     ]
    },
    {
     "name": "stderr",
     "output_type": "stream",
     "text": [
      "Acetobacteraceae bacterium...: 100%|██████████| 2/2 [00:01<00:00,  1.02it/s]\n"
     ]
    },
    {
     "name": "stdout",
     "output_type": "stream",
     "text": [
      "✅ [189] Acetobacteraceae bacterium: 1000 proteins fetched\n",
      "\n",
      "🔍 Fetching proteins for: Actinomycetales bacterium (available: 73077, fetching: 1000)\n"
     ]
    },
    {
     "name": "stderr",
     "output_type": "stream",
     "text": [
      "Actinomycetales bacterium...: 100%|██████████| 2/2 [00:02<00:00,  1.21s/it]\n"
     ]
    },
    {
     "name": "stdout",
     "output_type": "stream",
     "text": [
      "✅ [190] Actinomycetales bacterium: 1000 proteins fetched\n",
      "\n",
      "🔍 Fetching proteins for: Hyphomicrobiaceae bacterium (available: 57867, fetching: 1000)\n"
     ]
    },
    {
     "name": "stderr",
     "output_type": "stream",
     "text": [
      "Hyphomicrobiaceae bacterium...: 100%|██████████| 2/2 [00:02<00:00,  1.16s/it]\n"
     ]
    },
    {
     "name": "stdout",
     "output_type": "stream",
     "text": [
      "✅ [191] Hyphomicrobiaceae bacterium: 1000 proteins fetched\n",
      "\n",
      "🔍 Fetching proteins for: Rubrivivax sp (available: 51143, fetching: 1000)\n"
     ]
    },
    {
     "name": "stderr",
     "output_type": "stream",
     "text": [
      "Rubrivivax sp...: 100%|██████████| 2/2 [00:02<00:00,  1.37s/it]\n"
     ]
    },
    {
     "name": "stdout",
     "output_type": "stream",
     "text": [
      "✅ [192] Rubrivivax sp: 1000 proteins fetched\n",
      "\n",
      "🔍 Fetching proteins for: Mus caroli (Ryukyu mouse) (Ricefield mouse) (available: 38334, fetching: 1000)\n"
     ]
    },
    {
     "name": "stderr",
     "output_type": "stream",
     "text": [
      "Mus caroli (Ryukyu mouse) (Ricefield mou...: 100%|██████████| 2/2 [00:02<00:00,  1.27s/it]\n"
     ]
    },
    {
     "name": "stdout",
     "output_type": "stream",
     "text": [
      "✅ [193] Mus caroli (Ryukyu mouse) (Ricefield mouse): 1000 proteins fetched\n",
      "\n",
      "🔍 Fetching proteins for: Pseudomonadales bacterium (available: 302330, fetching: 1000)\n"
     ]
    },
    {
     "name": "stderr",
     "output_type": "stream",
     "text": [
      "Pseudomonadales bacterium...: 100%|██████████| 2/2 [00:03<00:00,  1.58s/it]\n"
     ]
    },
    {
     "name": "stdout",
     "output_type": "stream",
     "text": [
      "✅ [194] Pseudomonadales bacterium: 1000 proteins fetched\n",
      "\n",
      "🔍 Fetching proteins for: Syntrophomonadaceae bacterium (available: 76255, fetching: 1000)\n"
     ]
    },
    {
     "name": "stderr",
     "output_type": "stream",
     "text": [
      "Syntrophomonadaceae bacterium...: 100%|██████████| 2/2 [00:02<00:00,  1.14s/it]\n"
     ]
    },
    {
     "name": "stdout",
     "output_type": "stream",
     "text": [
      "✅ [195] Syntrophomonadaceae bacterium: 1000 proteins fetched\n",
      "\n",
      "🔍 Fetching proteins for: Ottowia sp (available: 29211, fetching: 1000)\n"
     ]
    },
    {
     "name": "stderr",
     "output_type": "stream",
     "text": [
      "Ottowia sp...: 100%|██████████| 2/2 [00:02<00:00,  1.27s/it]\n"
     ]
    },
    {
     "name": "stdout",
     "output_type": "stream",
     "text": [
      "✅ [196] Ottowia sp: 1000 proteins fetched\n",
      "\n",
      "🔍 Fetching proteins for: Candidatus Nitrospira nitrosa (available: 4245, fetching: 1000)\n"
     ]
    },
    {
     "name": "stderr",
     "output_type": "stream",
     "text": [
      "Candidatus Nitrospira nitrosa...: 100%|██████████| 2/2 [00:02<00:00,  1.20s/it]\n"
     ]
    },
    {
     "name": "stdout",
     "output_type": "stream",
     "text": [
      "✅ [197] Candidatus Nitrospira nitrosa: 1000 proteins fetched\n",
      "\n",
      "🔍 Fetching proteins for: Devosia sp (available: 98245, fetching: 1000)\n"
     ]
    },
    {
     "name": "stderr",
     "output_type": "stream",
     "text": [
      "Devosia sp...: 100%|██████████| 2/2 [00:02<00:00,  1.27s/it]\n"
     ]
    },
    {
     "name": "stdout",
     "output_type": "stream",
     "text": [
      "✅ [198] Devosia sp: 1000 proteins fetched\n",
      "\n",
      "🔍 Fetching proteins for: Nitrospira sp. ST-bin4 (available: 2803, fetching: 1000)\n"
     ]
    },
    {
     "name": "stderr",
     "output_type": "stream",
     "text": [
      "Nitrospira sp. ST-bin4...: 100%|██████████| 2/2 [00:01<00:00,  1.17it/s]\n"
     ]
    },
    {
     "name": "stdout",
     "output_type": "stream",
     "text": [
      "✅ [199] Nitrospira sp. ST-bin4: 1000 proteins fetched\n",
      "\n",
      "🔍 Fetching proteins for: Parazoarcus communis (available: 12673, fetching: 1000)\n"
     ]
    },
    {
     "name": "stderr",
     "output_type": "stream",
     "text": [
      "Parazoarcus communis...: 100%|██████████| 2/2 [00:02<00:00,  1.37s/it]\n"
     ]
    },
    {
     "name": "stdout",
     "output_type": "stream",
     "text": [
      "✅ [200] Parazoarcus communis: 1000 proteins fetched\n",
      "\n",
      "🔍 Fetching proteins for: Macaca mulatta (Rhesus macaque) (available: 88817, fetching: 1000)\n"
     ]
    },
    {
     "name": "stderr",
     "output_type": "stream",
     "text": [
      "Macaca mulatta (Rhesus macaque)...: 100%|██████████| 2/2 [00:02<00:00,  1.14s/it]\n"
     ]
    },
    {
     "name": "stdout",
     "output_type": "stream",
     "text": [
      "✅ [201] Macaca mulatta (Rhesus macaque): 1006 proteins fetched\n",
      "\n",
      "🔍 Fetching proteins for: Zoogloea oleivorans (available: 4974, fetching: 1000)\n"
     ]
    },
    {
     "name": "stderr",
     "output_type": "stream",
     "text": [
      "Zoogloea oleivorans...: 100%|██████████| 2/2 [00:01<00:00,  1.02it/s]\n"
     ]
    },
    {
     "name": "stdout",
     "output_type": "stream",
     "text": [
      "✅ [202] Zoogloea oleivorans: 1000 proteins fetched\n",
      "\n",
      "🔍 Fetching proteins for: Acidimicrobiaceae bacterium (available: 257877, fetching: 1000)\n"
     ]
    },
    {
     "name": "stderr",
     "output_type": "stream",
     "text": [
      "Acidimicrobiaceae bacterium...: 100%|██████████| 2/2 [00:02<00:00,  1.34s/it]\n"
     ]
    },
    {
     "name": "stdout",
     "output_type": "stream",
     "text": [
      "✅ [203] Acidimicrobiaceae bacterium: 1000 proteins fetched\n",
      "\n",
      "🔍 Fetching proteins for: Collimonas pratensis (available: 5395, fetching: 1000)\n"
     ]
    },
    {
     "name": "stderr",
     "output_type": "stream",
     "text": [
      "Collimonas pratensis...: 100%|██████████| 2/2 [00:01<00:00,  1.01it/s]\n"
     ]
    },
    {
     "name": "stdout",
     "output_type": "stream",
     "text": [
      "✅ [204] Collimonas pratensis: 1000 proteins fetched\n",
      "\n",
      "🔍 Fetching proteins for: Azoarcus sp. DD4 (available: 4840, fetching: 1000)\n"
     ]
    },
    {
     "name": "stderr",
     "output_type": "stream",
     "text": [
      "Azoarcus sp. DD4...: 100%|██████████| 2/2 [00:02<00:00,  1.10s/it]\n"
     ]
    },
    {
     "name": "stdout",
     "output_type": "stream",
     "text": [
      "✅ [205] Azoarcus sp. DD4: 1000 proteins fetched\n",
      "\n",
      "🔍 Fetching proteins for: Nitrosomonas aestuarii (available: 3748, fetching: 1000)\n"
     ]
    },
    {
     "name": "stderr",
     "output_type": "stream",
     "text": [
      "Nitrosomonas aestuarii...: 100%|██████████| 2/2 [00:03<00:00,  1.61s/it]\n"
     ]
    },
    {
     "name": "stdout",
     "output_type": "stream",
     "text": [
      "✅ [206] Nitrosomonas aestuarii: 1000 proteins fetched\n",
      "\n",
      "🔍 Fetching proteins for: Betaproteobacteria bacterium ADurb.Bin341 (available: 3523, fetching: 1000)\n"
     ]
    },
    {
     "name": "stderr",
     "output_type": "stream",
     "text": [
      "Betaproteobacteria bacterium ADurb.Bin34...: 100%|██████████| 2/2 [00:01<00:00,  1.02it/s]\n"
     ]
    },
    {
     "name": "stdout",
     "output_type": "stream",
     "text": [
      "✅ [207] Betaproteobacteria bacterium ADurb.Bin341: 1000 proteins fetched\n",
      "\n",
      "🔍 Fetching proteins for: Streptococcus suis (available: 96670, fetching: 1000)\n"
     ]
    },
    {
     "name": "stderr",
     "output_type": "stream",
     "text": [
      "Streptococcus suis...: 100%|██████████| 2/2 [00:02<00:00,  1.31s/it]\n"
     ]
    },
    {
     "name": "stdout",
     "output_type": "stream",
     "text": [
      "✅ [208] Streptococcus suis: 1000 proteins fetched\n",
      "\n",
      "🔍 Fetching proteins for: Woeseiaceae bacterium (available: 27903, fetching: 1000)\n"
     ]
    },
    {
     "name": "stderr",
     "output_type": "stream",
     "text": [
      "Woeseiaceae bacterium...: 100%|██████████| 2/2 [00:02<00:00,  1.15s/it]\n"
     ]
    },
    {
     "name": "stdout",
     "output_type": "stream",
     "text": [
      "✅ [209] Woeseiaceae bacterium: 1000 proteins fetched\n",
      "\n",
      "🔍 Fetching proteins for: Betaproteobacteria bacterium HGW-Betaproteobacteria-10 (available: 3982, fetching: 1000)\n"
     ]
    },
    {
     "name": "stderr",
     "output_type": "stream",
     "text": [
      "Betaproteobacteria bacterium HGW-Betapro...: 100%|██████████| 2/2 [00:02<00:00,  1.08s/it]\n"
     ]
    },
    {
     "name": "stdout",
     "output_type": "stream",
     "text": [
      "✅ [210] Betaproteobacteria bacterium HGW-Betaproteobacteria-10: 1000 proteins fetched\n",
      "\n",
      "🔍 Fetching proteins for: Hydrogenophaga sp (available: 89060, fetching: 1000)\n"
     ]
    },
    {
     "name": "stderr",
     "output_type": "stream",
     "text": [
      "Hydrogenophaga sp...: 100%|██████████| 2/2 [00:03<00:00,  1.54s/it]\n"
     ]
    },
    {
     "name": "stdout",
     "output_type": "stream",
     "text": [
      "✅ [211] Hydrogenophaga sp: 1000 proteins fetched\n",
      "\n",
      "🔍 Fetching proteins for: Nitrospirales bacterium (available: 87336, fetching: 1000)\n"
     ]
    },
    {
     "name": "stderr",
     "output_type": "stream",
     "text": [
      "Nitrospirales bacterium...: 100%|██████████| 2/2 [00:02<00:00,  1.29s/it]\n"
     ]
    },
    {
     "name": "stdout",
     "output_type": "stream",
     "text": [
      "✅ [212] Nitrospirales bacterium: 1000 proteins fetched\n",
      "\n",
      "🔍 Fetching proteins for: Collimonas fungivorans (available: 9781, fetching: 1000)\n"
     ]
    },
    {
     "name": "stderr",
     "output_type": "stream",
     "text": [
      "Collimonas fungivorans...: 100%|██████████| 2/2 [00:02<00:00,  1.27s/it]\n"
     ]
    },
    {
     "name": "stdout",
     "output_type": "stream",
     "text": [
      "✅ [213] Collimonas fungivorans: 1000 proteins fetched\n",
      "\n",
      "🔍 Fetching proteins for: Thermoanaerobaculia bacterium (available: 22291, fetching: 1000)\n"
     ]
    },
    {
     "name": "stderr",
     "output_type": "stream",
     "text": [
      "Thermoanaerobaculia bacterium...: 100%|██████████| 2/2 [00:01<00:00,  1.04it/s]\n"
     ]
    },
    {
     "name": "stdout",
     "output_type": "stream",
     "text": [
      "✅ [214] Thermoanaerobaculia bacterium: 1000 proteins fetched\n",
      "\n",
      "🔍 Fetching proteins for: Thauera humireducens (available: 3723, fetching: 1000)\n"
     ]
    },
    {
     "name": "stderr",
     "output_type": "stream",
     "text": [
      "Thauera humireducens...: 100%|██████████| 2/2 [00:02<00:00,  1.24s/it]\n"
     ]
    },
    {
     "name": "stdout",
     "output_type": "stream",
     "text": [
      "✅ [215] Thauera humireducens: 1000 proteins fetched\n",
      "\n",
      "🔍 Fetching proteins for: Ignavibacteriota bacterium (available: 403961, fetching: 1000)\n"
     ]
    },
    {
     "name": "stderr",
     "output_type": "stream",
     "text": [
      "Ignavibacteriota bacterium...: 100%|██████████| 2/2 [00:02<00:00,  1.17s/it]\n"
     ]
    },
    {
     "name": "stdout",
     "output_type": "stream",
     "text": [
      "✅ [216] Ignavibacteriota bacterium: 1000 proteins fetched\n",
      "\n",
      "🔍 Fetching proteins for: Dechloromonas agitata (available: 3153, fetching: 1000)\n"
     ]
    },
    {
     "name": "stderr",
     "output_type": "stream",
     "text": [
      "Dechloromonas agitata...: 100%|██████████| 2/2 [00:02<00:00,  1.10s/it]\n"
     ]
    },
    {
     "name": "stdout",
     "output_type": "stream",
     "text": [
      "✅ [217] Dechloromonas agitata: 1000 proteins fetched\n",
      "\n",
      "🔍 Fetching proteins for: uncultured bacterium A1Q1_fos_560 (available: 34, fetching: 34)\n"
     ]
    },
    {
     "name": "stderr",
     "output_type": "stream",
     "text": [
      "uncultured bacterium A1Q1_fos_560...: 100%|██████████| 1/1 [00:00<00:00,  4.01it/s]\n"
     ]
    },
    {
     "name": "stdout",
     "output_type": "stream",
     "text": [
      "✅ [218] uncultured bacterium A1Q1_fos_560: 34 proteins fetched\n",
      "\n",
      "🔍 Fetching proteins for: Betaproteobacteria bacterium HGW-Betaproteobacteria-4 (available: 13380, fetching: 1000)\n"
     ]
    },
    {
     "name": "stderr",
     "output_type": "stream",
     "text": [
      "Betaproteobacteria bacterium HGW-Betapro...: 100%|██████████| 2/2 [00:02<00:00,  1.17s/it]\n"
     ]
    },
    {
     "name": "stdout",
     "output_type": "stream",
     "text": [
      "✅ [219] Betaproteobacteria bacterium HGW-Betaproteobacteria-4: 1000 proteins fetched\n",
      "\n",
      "🔍 Fetching proteins for: Limisphaerales bacterium (available: 57259, fetching: 1000)\n"
     ]
    },
    {
     "name": "stderr",
     "output_type": "stream",
     "text": [
      "Limisphaerales bacterium...: 100%|██████████| 2/2 [00:02<00:00,  1.26s/it]\n"
     ]
    },
    {
     "name": "stdout",
     "output_type": "stream",
     "text": [
      "✅ [220] Limisphaerales bacterium: 1000 proteins fetched\n",
      "\n",
      "🔍 Fetching proteins for: Nitrospira sp. CG24B (available: 2968, fetching: 1000)\n"
     ]
    },
    {
     "name": "stderr",
     "output_type": "stream",
     "text": [
      "Nitrospira sp. CG24B...: 100%|██████████| 2/2 [00:02<00:00,  1.03s/it]\n"
     ]
    },
    {
     "name": "stdout",
     "output_type": "stream",
     "text": [
      "✅ [221] Nitrospira sp. CG24B: 1000 proteins fetched\n",
      "\n",
      "🔍 Fetching proteins for: Methylophaga sp (available: 44517, fetching: 1000)\n"
     ]
    },
    {
     "name": "stderr",
     "output_type": "stream",
     "text": [
      "Methylophaga sp...: 100%|██████████| 2/2 [00:01<00:00,  1.06it/s]\n"
     ]
    },
    {
     "name": "stdout",
     "output_type": "stream",
     "text": [
      "✅ [222] Methylophaga sp: 1000 proteins fetched\n",
      "\n",
      "🔍 Fetching proteins for: Variovorax paradoxus (available: 74627, fetching: 1000)\n"
     ]
    },
    {
     "name": "stderr",
     "output_type": "stream",
     "text": [
      "Variovorax paradoxus...: 100%|██████████| 2/2 [00:02<00:00,  1.18s/it]\n"
     ]
    },
    {
     "name": "stdout",
     "output_type": "stream",
     "text": [
      "✅ [223] Variovorax paradoxus: 1000 proteins fetched\n",
      "\n",
      "🔍 Fetching proteins for: Xanthomonas euvesicatoria (available: 16064, fetching: 1000)\n"
     ]
    },
    {
     "name": "stderr",
     "output_type": "stream",
     "text": [
      "Xanthomonas euvesicatoria...: 100%|██████████| 2/2 [00:02<00:00,  1.02s/it]\n"
     ]
    },
    {
     "name": "stdout",
     "output_type": "stream",
     "text": [
      "✅ [224] Xanthomonas euvesicatoria: 1000 proteins fetched\n",
      "\n",
      "🔍 Fetching proteins for: Macaca fascicularis (Crab-eating macaque) (Cynomolgus monkey) (available: 80989, fetching: 1000)\n"
     ]
    },
    {
     "name": "stderr",
     "output_type": "stream",
     "text": [
      "Macaca fascicularis (Crab-eating macaque...: 100%|██████████| 2/2 [00:03<00:00,  1.57s/it]\n"
     ]
    },
    {
     "name": "stdout",
     "output_type": "stream",
     "text": [
      "✅ [225] Macaca fascicularis (Crab-eating macaque) (Cynomolgus monkey): 1000 proteins fetched\n",
      "\n",
      "🔍 Fetching proteins for: Rhodobacterales bacterium (available: 678074, fetching: 1000)\n"
     ]
    },
    {
     "name": "stderr",
     "output_type": "stream",
     "text": [
      "Rhodobacterales bacterium...: 100%|██████████| 2/2 [00:03<00:00,  1.56s/it]\n"
     ]
    },
    {
     "name": "stdout",
     "output_type": "stream",
     "text": [
      "✅ [226] Rhodobacterales bacterium: 1000 proteins fetched\n",
      "\n",
      "🔍 Fetching proteins for: Azospira restricta (available: 3713, fetching: 1000)\n"
     ]
    },
    {
     "name": "stderr",
     "output_type": "stream",
     "text": [
      "Azospira restricta...: 100%|██████████| 2/2 [00:02<00:00,  1.06s/it]\n"
     ]
    },
    {
     "name": "stdout",
     "output_type": "stream",
     "text": [
      "✅ [227] Azospira restricta: 1000 proteins fetched\n",
      "\n",
      "🔍 Fetching proteins for: Candidatus Nitrospira inopinata (available: 3375, fetching: 1000)\n"
     ]
    },
    {
     "name": "stderr",
     "output_type": "stream",
     "text": [
      "Candidatus Nitrospira inopinata...: 100%|██████████| 2/2 [00:02<00:00,  1.09s/it]\n"
     ]
    },
    {
     "name": "stdout",
     "output_type": "stream",
     "text": [
      "✅ [228] Candidatus Nitrospira inopinata: 1000 proteins fetched\n",
      "\n",
      "🔍 Fetching proteins for: Nitrosospira sp. Nsp5 (available: 3204, fetching: 1000)\n"
     ]
    },
    {
     "name": "stderr",
     "output_type": "stream",
     "text": [
      "Nitrosospira sp. Nsp5...: 100%|██████████| 2/2 [00:02<00:00,  1.18s/it]\n"
     ]
    },
    {
     "name": "stdout",
     "output_type": "stream",
     "text": [
      "✅ [229] Nitrosospira sp. Nsp5: 1000 proteins fetched\n",
      "\n",
      "🔍 Fetching proteins for: Nitrosovibrio sp. Nv17 (available: 2594, fetching: 1000)\n"
     ]
    },
    {
     "name": "stderr",
     "output_type": "stream",
     "text": [
      "Nitrosovibrio sp. Nv17...: 100%|██████████| 2/2 [00:02<00:00,  1.18s/it]\n"
     ]
    },
    {
     "name": "stdout",
     "output_type": "stream",
     "text": [
      "✅ [230] Nitrosovibrio sp. Nv17: 1000 proteins fetched\n",
      "\n",
      "🔍 Fetching proteins for: Collimonas sp. OK607 (available: 5040, fetching: 1000)\n"
     ]
    },
    {
     "name": "stderr",
     "output_type": "stream",
     "text": [
      "Collimonas sp. OK607...: 100%|██████████| 2/2 [00:02<00:00,  1.16s/it]\n"
     ]
    },
    {
     "name": "stdout",
     "output_type": "stream",
     "text": [
      "✅ [231] Collimonas sp. OK607: 1000 proteins fetched\n",
      "\n",
      "🔍 Fetching proteins for: Collimonas sp. OK307 (available: 4740, fetching: 1000)\n"
     ]
    },
    {
     "name": "stderr",
     "output_type": "stream",
     "text": [
      "Collimonas sp. OK307...: 100%|██████████| 2/2 [00:02<00:00,  1.12s/it]\n"
     ]
    },
    {
     "name": "stdout",
     "output_type": "stream",
     "text": [
      "✅ [232] Collimonas sp. OK307: 1000 proteins fetched\n",
      "\n",
      "🔍 Fetching proteins for: Candidatus Nitrotoga sp. MKT (available: 2524, fetching: 1000)\n"
     ]
    },
    {
     "name": "stderr",
     "output_type": "stream",
     "text": [
      "Candidatus Nitrotoga sp. MKT...: 100%|██████████| 2/2 [00:01<00:00,  1.05it/s]\n"
     ]
    },
    {
     "name": "stdout",
     "output_type": "stream",
     "text": [
      "✅ [233] Candidatus Nitrotoga sp. MKT: 1000 proteins fetched\n",
      "\n",
      "🔍 Fetching proteins for: Collimonas fungivorans (strain Ter331) (available: 4476, fetching: 1000)\n"
     ]
    },
    {
     "name": "stderr",
     "output_type": "stream",
     "text": [
      "Collimonas fungivorans (strain Ter331)...: 100%|██████████| 2/2 [00:02<00:00,  1.28s/it]\n"
     ]
    },
    {
     "name": "stdout",
     "output_type": "stream",
     "text": [
      "✅ [234] Collimonas fungivorans (strain Ter331): 1000 proteins fetched\n",
      "\n",
      "🔍 Fetching proteins for: Collimonas sp. OK242 (available: 4603, fetching: 1000)\n"
     ]
    },
    {
     "name": "stderr",
     "output_type": "stream",
     "text": [
      "Collimonas sp. OK242...: 100%|██████████| 2/2 [00:02<00:00,  1.27s/it]\n"
     ]
    },
    {
     "name": "stdout",
     "output_type": "stream",
     "text": [
      "✅ [235] Collimonas sp. OK242: 1000 proteins fetched\n",
      "\n",
      "🔍 Fetching proteins for: Acidobacteria bacterium RBG_16_70_10 (available: 1692, fetching: 1000)\n"
     ]
    },
    {
     "name": "stderr",
     "output_type": "stream",
     "text": [
      "Acidobacteria bacterium RBG_16_70_10...: 100%|██████████| 2/2 [00:01<00:00,  1.05it/s]\n"
     ]
    },
    {
     "name": "stdout",
     "output_type": "stream",
     "text": [
      "✅ [236] Acidobacteria bacterium RBG_16_70_10: 1000 proteins fetched\n",
      "\n",
      "🔍 Fetching proteins for: Nitrospinota bacterium (available: 122550, fetching: 1000)\n"
     ]
    },
    {
     "name": "stderr",
     "output_type": "stream",
     "text": [
      "Nitrospinota bacterium...: 100%|██████████| 2/2 [00:03<00:00,  1.52s/it]\n"
     ]
    },
    {
     "name": "stdout",
     "output_type": "stream",
     "text": [
      "✅ [237] Nitrospinota bacterium: 1000 proteins fetched\n",
      "\n",
      "🔍 Fetching proteins for: Candidatus Accumulibacter sp. 66-26 (available: 3869, fetching: 1000)\n"
     ]
    },
    {
     "name": "stderr",
     "output_type": "stream",
     "text": [
      "Candidatus Accumulibacter sp. 66-26...: 100%|██████████| 2/2 [00:02<00:00,  1.12s/it]\n"
     ]
    },
    {
     "name": "stdout",
     "output_type": "stream",
     "text": [
      "✅ [238] Candidatus Accumulibacter sp. 66-26: 1000 proteins fetched\n",
      "\n",
      "🔍 Fetching proteins for: Nitrosomonas sp. Nm51 (available: 2990, fetching: 1000)\n"
     ]
    },
    {
     "name": "stderr",
     "output_type": "stream",
     "text": [
      "Nitrosomonas sp. Nm51...: 100%|██████████| 2/2 [00:02<00:00,  1.24s/it]\n"
     ]
    },
    {
     "name": "stdout",
     "output_type": "stream",
     "text": [
      "✅ [239] Nitrosomonas sp. Nm51: 1000 proteins fetched\n",
      "\n",
      "🔍 Fetching proteins for: Cebus imitator (Panamanian white-faced capuchin) (Cebus capucinus imitator) (available: 40179, fetching: 1000)\n"
     ]
    },
    {
     "name": "stderr",
     "output_type": "stream",
     "text": [
      "Cebus imitator (Panamanian white-faced c...: 100%|██████████| 2/2 [00:02<00:00,  1.03s/it]\n"
     ]
    },
    {
     "name": "stdout",
     "output_type": "stream",
     "text": [
      "✅ [240] Cebus imitator (Panamanian white-faced capuchin) (Cebus capucinus imitator): 1000 proteins fetched\n",
      "\n",
      "🔍 Fetching proteins for: Aspergillus calidoustus (available: 15523, fetching: 1000)\n"
     ]
    },
    {
     "name": "stderr",
     "output_type": "stream",
     "text": [
      "Aspergillus calidoustus...: 100%|██████████| 2/2 [00:02<00:00,  1.36s/it]\n"
     ]
    },
    {
     "name": "stdout",
     "output_type": "stream",
     "text": [
      "✅ [241] Aspergillus calidoustus: 1000 proteins fetched\n",
      "\n",
      "🔍 Fetching proteins for: Nitrosomonas cryotolerans ATCC 49181 (available: 2415, fetching: 1000)\n"
     ]
    },
    {
     "name": "stderr",
     "output_type": "stream",
     "text": [
      "Nitrosomonas cryotolerans ATCC 49181...: 100%|██████████| 2/2 [00:02<00:00,  1.26s/it]\n"
     ]
    },
    {
     "name": "stdout",
     "output_type": "stream",
     "text": [
      "✅ [242] Nitrosomonas cryotolerans ATCC 49181: 1000 proteins fetched\n",
      "\n",
      "🔍 Fetching proteins for: Polaromonas sp (available: 103163, fetching: 1000)\n"
     ]
    },
    {
     "name": "stderr",
     "output_type": "stream",
     "text": [
      "Polaromonas sp...: 100%|██████████| 2/2 [00:03<00:00,  1.59s/it]\n"
     ]
    },
    {
     "name": "stdout",
     "output_type": "stream",
     "text": [
      "✅ [243] Polaromonas sp: 1000 proteins fetched\n",
      "\n",
      "🔍 Fetching proteins for: Flavobacteriaceae bacterium (available: 495524, fetching: 1000)\n"
     ]
    },
    {
     "name": "stderr",
     "output_type": "stream",
     "text": [
      "Flavobacteriaceae bacterium...: 100%|██████████| 2/2 [00:03<00:00,  1.53s/it]\n"
     ]
    },
    {
     "name": "stdout",
     "output_type": "stream",
     "text": [
      "✅ [244] Flavobacteriaceae bacterium: 1000 proteins fetched\n",
      "\n",
      "🔍 Fetching proteins for: Vreelandella aquamarina (available: 14017, fetching: 1000)\n"
     ]
    },
    {
     "name": "stderr",
     "output_type": "stream",
     "text": [
      "Vreelandella aquamarina...: 100%|██████████| 2/2 [00:02<00:00,  1.27s/it]\n"
     ]
    },
    {
     "name": "stdout",
     "output_type": "stream",
     "text": [
      "✅ [245] Vreelandella aquamarina: 1000 proteins fetched\n",
      "\n",
      "🔍 Fetching proteins for: Malikia spinosa (available: 6262, fetching: 1000)\n"
     ]
    },
    {
     "name": "stderr",
     "output_type": "stream",
     "text": [
      "Malikia spinosa...: 100%|██████████| 2/2 [00:02<00:00,  1.14s/it]\n"
     ]
    },
    {
     "name": "stdout",
     "output_type": "stream",
     "text": [
      "✅ [246] Malikia spinosa: 1000 proteins fetched\n",
      "\n",
      "🔍 Fetching proteins for: Azospirillum brasilense (available: 62991, fetching: 1000)\n"
     ]
    },
    {
     "name": "stderr",
     "output_type": "stream",
     "text": [
      "Azospirillum brasilense...: 100%|██████████| 2/2 [00:01<00:00,  1.00it/s]\n"
     ]
    },
    {
     "name": "stdout",
     "output_type": "stream",
     "text": [
      "✅ [247] Azospirillum brasilense: 1000 proteins fetched\n",
      "\n",
      "🔍 Fetching proteins for: Nitrospira sp. HN-bin3 (available: 2398, fetching: 1000)\n"
     ]
    },
    {
     "name": "stderr",
     "output_type": "stream",
     "text": [
      "Nitrospira sp. HN-bin3...: 100%|██████████| 2/2 [00:02<00:00,  1.12s/it]\n"
     ]
    },
    {
     "name": "stdout",
     "output_type": "stream",
     "text": [
      "✅ [248] Nitrospira sp. HN-bin3: 1000 proteins fetched\n",
      "\n",
      "🔍 Fetching proteins for: uncultured Candidatus Accumulibacter sp (available: 206, fetching: 206)\n"
     ]
    },
    {
     "name": "stderr",
     "output_type": "stream",
     "text": [
      "uncultured Candidatus Accumulibacter sp...: 100%|██████████| 1/1 [00:00<00:00,  1.47it/s]\n"
     ]
    },
    {
     "name": "stdout",
     "output_type": "stream",
     "text": [
      "✅ [249] uncultured Candidatus Accumulibacter sp: 206 proteins fetched\n",
      "\n",
      "🔍 Fetching proteins for: Nitrosomonas marina (available: 6408, fetching: 1000)\n"
     ]
    },
    {
     "name": "stderr",
     "output_type": "stream",
     "text": [
      "Nitrosomonas marina...: 100%|██████████| 2/2 [00:02<00:00,  1.09s/it]\n"
     ]
    },
    {
     "name": "stdout",
     "output_type": "stream",
     "text": [
      "✅ [250] Nitrosomonas marina: 1000 proteins fetched\n",
      "\n",
      "🔍 Fetching proteins for: Kiritimatiellaceae bacterium (available: 10819, fetching: 1000)\n"
     ]
    },
    {
     "name": "stderr",
     "output_type": "stream",
     "text": [
      "Kiritimatiellaceae bacterium...: 100%|██████████| 2/2 [00:02<00:00,  1.12s/it]\n"
     ]
    },
    {
     "name": "stdout",
     "output_type": "stream",
     "text": [
      "✅ [251] Kiritimatiellaceae bacterium: 1000 proteins fetched\n",
      "\n",
      "🔍 Fetching proteins for: Listeria booriae (available: 46711, fetching: 1000)\n"
     ]
    },
    {
     "name": "stderr",
     "output_type": "stream",
     "text": [
      "Listeria booriae...: 100%|██████████| 2/2 [00:03<00:00,  1.51s/it]\n"
     ]
    },
    {
     "name": "stdout",
     "output_type": "stream",
     "text": [
      "✅ [252] Listeria booriae: 1000 proteins fetched\n",
      "\n",
      "🔍 Fetching proteins for: Herbaspirillum sp. Sphag64 (available: 4183, fetching: 1000)\n"
     ]
    },
    {
     "name": "stderr",
     "output_type": "stream",
     "text": [
      "Herbaspirillum sp. Sphag64...: 100%|██████████| 2/2 [00:01<00:00,  1.06it/s]\n"
     ]
    },
    {
     "name": "stdout",
     "output_type": "stream",
     "text": [
      "✅ [253] Herbaspirillum sp. Sphag64: 1000 proteins fetched\n",
      "\n",
      "🔍 Fetching proteins for: Pan paniscus (Pygmy chimpanzee) (Bonobo) (available: 43668, fetching: 1000)\n"
     ]
    },
    {
     "name": "stderr",
     "output_type": "stream",
     "text": [
      "Pan paniscus (Pygmy chimpanzee) (Bonobo)...: 100%|██████████| 2/2 [00:02<00:00,  1.23s/it]\n"
     ]
    },
    {
     "name": "stdout",
     "output_type": "stream",
     "text": [
      "✅ [254] Pan paniscus (Pygmy chimpanzee) (Bonobo): 1000 proteins fetched\n",
      "\n",
      "🔍 Fetching proteins for: Nitrospira sp. CG24A (available: 3111, fetching: 1000)\n"
     ]
    },
    {
     "name": "stderr",
     "output_type": "stream",
     "text": [
      "Nitrospira sp. CG24A...: 100%|██████████| 2/2 [00:01<00:00,  1.01it/s]\n"
     ]
    },
    {
     "name": "stdout",
     "output_type": "stream",
     "text": [
      "✅ [255] Nitrospira sp. CG24A: 1000 proteins fetched\n",
      "\n",
      "🔍 Fetching proteins for: Nitrospira sp. CG24E (available: 3281, fetching: 1000)\n"
     ]
    },
    {
     "name": "stderr",
     "output_type": "stream",
     "text": [
      "Nitrospira sp. CG24E...: 100%|██████████| 2/2 [00:01<00:00,  1.14it/s]\n"
     ]
    },
    {
     "name": "stdout",
     "output_type": "stream",
     "text": [
      "✅ [256] Nitrospira sp. CG24E: 1000 proteins fetched\n",
      "\n",
      "🔍 Fetching proteins for: Solirubrobacterales bacterium (available: 151662, fetching: 1000)\n"
     ]
    },
    {
     "name": "stderr",
     "output_type": "stream",
     "text": [
      "Solirubrobacterales bacterium...: 100%|██████████| 2/2 [00:03<00:00,  1.55s/it]\n"
     ]
    },
    {
     "name": "stdout",
     "output_type": "stream",
     "text": [
      "✅ [257] Solirubrobacterales bacterium: 1000 proteins fetched\n",
      "\n",
      "🔍 Fetching proteins for: Geobacter sp (available: 77740, fetching: 1000)\n"
     ]
    },
    {
     "name": "stderr",
     "output_type": "stream",
     "text": [
      "Geobacter sp...: 100%|██████████| 2/2 [00:02<00:00,  1.15s/it]\n"
     ]
    },
    {
     "name": "stdout",
     "output_type": "stream",
     "text": [
      "✅ [258] Geobacter sp: 1000 proteins fetched\n",
      "\n",
      "🔍 Fetching proteins for: Polarella glacialis (Dinoflagellate) (available: 97715, fetching: 1000)\n"
     ]
    },
    {
     "name": "stderr",
     "output_type": "stream",
     "text": [
      "Polarella glacialis (Dinoflagellate)...: 100%|██████████| 2/2 [00:02<00:00,  1.15s/it]\n"
     ]
    },
    {
     "name": "stdout",
     "output_type": "stream",
     "text": [
      "✅ [259] Polarella glacialis (Dinoflagellate): 1000 proteins fetched\n",
      "\n",
      "🔍 Fetching proteins for: Sphingobacteriaceae bacterium (available: 65562, fetching: 1000)\n"
     ]
    },
    {
     "name": "stderr",
     "output_type": "stream",
     "text": [
      "Sphingobacteriaceae bacterium...: 100%|██████████| 2/2 [00:02<00:00,  1.31s/it]\n"
     ]
    },
    {
     "name": "stdout",
     "output_type": "stream",
     "text": [
      "✅ [260] Sphingobacteriaceae bacterium: 1000 proteins fetched\n",
      "\n",
      "🔍 Fetching proteins for: Aromatoleum tolulyticum (available: 4632, fetching: 1000)\n"
     ]
    },
    {
     "name": "stderr",
     "output_type": "stream",
     "text": [
      "Aromatoleum tolulyticum...: 100%|██████████| 2/2 [00:02<00:00,  1.12s/it]\n"
     ]
    },
    {
     "name": "stdout",
     "output_type": "stream",
     "text": [
      "✅ [261] Aromatoleum tolulyticum: 1000 proteins fetched\n",
      "\n",
      "🔍 Fetching proteins for: Thauera phenolivorans (available: 7606, fetching: 1000)\n"
     ]
    },
    {
     "name": "stderr",
     "output_type": "stream",
     "text": [
      "Thauera phenolivorans...: 100%|██████████| 2/2 [00:02<00:00,  1.11s/it]\n"
     ]
    },
    {
     "name": "stdout",
     "output_type": "stream",
     "text": [
      "✅ [262] Thauera phenolivorans: 1000 proteins fetched\n",
      "\n",
      "🔍 Fetching proteins for: uncultured ammonia-oxidizing beta proteobacterium (available: 3304, fetching: 1000)\n"
     ]
    },
    {
     "name": "stderr",
     "output_type": "stream",
     "text": [
      "uncultured ammonia-oxidizing beta proteo...: 100%|██████████| 2/2 [00:02<00:00,  1.21s/it]\n"
     ]
    },
    {
     "name": "stdout",
     "output_type": "stream",
     "text": [
      "✅ [263] uncultured ammonia-oxidizing beta proteobacterium: 1000 proteins fetched\n",
      "\n",
      "🔍 Fetching proteins for: Nitrosospira lacus (available: 2856, fetching: 1000)\n"
     ]
    },
    {
     "name": "stderr",
     "output_type": "stream",
     "text": [
      "Nitrosospira lacus...: 100%|██████████| 2/2 [00:02<00:00,  1.08s/it]\n"
     ]
    },
    {
     "name": "stdout",
     "output_type": "stream",
     "text": [
      "✅ [264] Nitrosospira lacus: 1000 proteins fetched\n",
      "\n",
      "🔍 Fetching proteins for: Betaproteobacteria bacterium HGW-Betaproteobacteria-6 (available: 9273, fetching: 1000)\n"
     ]
    },
    {
     "name": "stderr",
     "output_type": "stream",
     "text": [
      "Betaproteobacteria bacterium HGW-Betapro...: 100%|██████████| 2/2 [00:02<00:00,  1.16s/it]\n"
     ]
    },
    {
     "name": "stdout",
     "output_type": "stream",
     "text": [
      "✅ [265] Betaproteobacteria bacterium HGW-Betaproteobacteria-6: 1000 proteins fetched\n",
      "\n",
      "🔍 Fetching proteins for: Methylococcaceae bacterium (available: 93629, fetching: 1000)\n"
     ]
    },
    {
     "name": "stderr",
     "output_type": "stream",
     "text": [
      "Methylococcaceae bacterium...: 100%|██████████| 2/2 [00:02<00:00,  1.35s/it]\n"
     ]
    },
    {
     "name": "stdout",
     "output_type": "stream",
     "text": [
      "✅ [266] Methylococcaceae bacterium: 1000 proteins fetched\n",
      "\n",
      "🔍 Fetching proteins for: Candidatus Nitrotoga sp. LAW (available: 2675, fetching: 1000)\n"
     ]
    },
    {
     "name": "stderr",
     "output_type": "stream",
     "text": [
      "Candidatus Nitrotoga sp. LAW...: 100%|██████████| 2/2 [00:02<00:00,  1.02s/it]\n"
     ]
    },
    {
     "name": "stdout",
     "output_type": "stream",
     "text": [
      "✅ [267] Candidatus Nitrotoga sp. LAW: 1000 proteins fetched\n",
      "\n",
      "🔍 Fetching proteins for: Escherichia coli (available: 963574, fetching: 1000)\n"
     ]
    },
    {
     "name": "stderr",
     "output_type": "stream",
     "text": [
      "Escherichia coli...: 100%|██████████| 2/2 [00:03<00:00,  1.93s/it]\n"
     ]
    },
    {
     "name": "stdout",
     "output_type": "stream",
     "text": [
      "✅ [268] Escherichia coli: 1000 proteins fetched\n",
      "\n",
      "🔍 Fetching proteins for: Tissierellia bacterium (available: 98346, fetching: 1000)\n"
     ]
    },
    {
     "name": "stderr",
     "output_type": "stream",
     "text": [
      "Tissierellia bacterium...: 100%|██████████| 2/2 [00:02<00:00,  1.13s/it]\n"
     ]
    },
    {
     "name": "stdout",
     "output_type": "stream",
     "text": [
      "✅ [269] Tissierellia bacterium: 1000 proteins fetched\n",
      "\n",
      "🔍 Fetching proteins for: Sterolibacterium sp (available: 2522, fetching: 1000)\n"
     ]
    },
    {
     "name": "stderr",
     "output_type": "stream",
     "text": [
      "Sterolibacterium sp...: 100%|██████████| 2/2 [00:02<00:00,  1.09s/it]\n"
     ]
    },
    {
     "name": "stdout",
     "output_type": "stream",
     "text": [
      "✅ [270] Sterolibacterium sp: 1000 proteins fetched\n",
      "\n",
      "🔍 Fetching proteins for: Noviherbaspirillum humi (available: 4789, fetching: 1000)\n"
     ]
    },
    {
     "name": "stderr",
     "output_type": "stream",
     "text": [
      "Noviherbaspirillum humi...: 100%|██████████| 2/2 [00:02<00:00,  1.19s/it]\n"
     ]
    },
    {
     "name": "stdout",
     "output_type": "stream",
     "text": [
      "✅ [271] Noviherbaspirillum humi: 1000 proteins fetched\n",
      "\n",
      "🔍 Fetching proteins for: Nitrosospira sp. Nsp2 (available: 3196, fetching: 1000)\n"
     ]
    },
    {
     "name": "stderr",
     "output_type": "stream",
     "text": [
      "Nitrosospira sp. Nsp2...: 100%|██████████| 2/2 [00:02<00:00,  1.08s/it]\n"
     ]
    },
    {
     "name": "stdout",
     "output_type": "stream",
     "text": [
      "✅ [272] Nitrosospira sp. Nsp2: 1000 proteins fetched\n",
      "\n",
      "🔍 Fetching proteins for: Leptospiraceae bacterium (available: 71721, fetching: 1000)\n"
     ]
    },
    {
     "name": "stderr",
     "output_type": "stream",
     "text": [
      "Leptospiraceae bacterium...: 100%|██████████| 2/2 [00:02<00:00,  1.29s/it]\n"
     ]
    },
    {
     "name": "stdout",
     "output_type": "stream",
     "text": [
      "✅ [273] Leptospiraceae bacterium: 1000 proteins fetched\n",
      "\n",
      "🔍 Fetching proteins for: Betaproteobacteria bacterium RIFCSPLOWO2_12_FULL_62_13b (available: 2713, fetching: 1000)\n"
     ]
    },
    {
     "name": "stderr",
     "output_type": "stream",
     "text": [
      "Betaproteobacteria bacterium RIFCSPLOWO2...: 100%|██████████| 2/2 [00:02<00:00,  1.12s/it]\n"
     ]
    },
    {
     "name": "stdout",
     "output_type": "stream",
     "text": [
      "✅ [274] Betaproteobacteria bacterium RIFCSPLOWO2_12_FULL_62_13b: 1000 proteins fetched\n",
      "\n",
      "🔍 Fetching proteins for: Azoarcus indigens (available: 4841, fetching: 1000)\n"
     ]
    },
    {
     "name": "stderr",
     "output_type": "stream",
     "text": [
      "Azoarcus indigens...: 100%|██████████| 2/2 [00:02<00:00,  1.24s/it]\n"
     ]
    },
    {
     "name": "stdout",
     "output_type": "stream",
     "text": [
      "✅ [275] Azoarcus indigens: 1000 proteins fetched\n",
      "\n",
      "🔍 Fetching proteins for: Chthoniobacterales bacterium (available: 64019, fetching: 1000)\n"
     ]
    },
    {
     "name": "stderr",
     "output_type": "stream",
     "text": [
      "Chthoniobacterales bacterium...: 100%|██████████| 2/2 [00:02<00:00,  1.14s/it]\n"
     ]
    },
    {
     "name": "stdout",
     "output_type": "stream",
     "text": [
      "✅ [276] Chthoniobacterales bacterium: 1000 proteins fetched\n",
      "\n",
      "🔍 Fetching proteins for: Nitrospirae bacterium RBG_19FT_COMBO_58_9 (available: 1606, fetching: 1000)\n"
     ]
    },
    {
     "name": "stderr",
     "output_type": "stream",
     "text": [
      "Nitrospirae bacterium RBG_19FT_COMBO_58_...: 100%|██████████| 2/2 [00:02<00:00,  1.19s/it]\n"
     ]
    },
    {
     "name": "stdout",
     "output_type": "stream",
     "text": [
      "✅ [277] Nitrospirae bacterium RBG_19FT_COMBO_58_9: 1000 proteins fetched\n",
      "\n",
      "🔍 Fetching proteins for: Nitrosospira sp. Is2 (available: 3038, fetching: 1000)\n"
     ]
    },
    {
     "name": "stderr",
     "output_type": "stream",
     "text": [
      "Nitrosospira sp. Is2...: 100%|██████████| 2/2 [00:02<00:00,  1.17s/it]\n"
     ]
    },
    {
     "name": "stdout",
     "output_type": "stream",
     "text": [
      "✅ [278] Nitrosospira sp. Is2: 1000 proteins fetched\n",
      "\n",
      "📊 === SUMMARY ===\n",
      "📁 Output FASTA: Diamond_alignments/session_diamond_align_2025-06-01_21-39-27\\from_diamond_organisms_51_plus_top1000.fasta\n",
      "📦 Total protein sequences in database: 226252\n"
     ]
    }
   ],
   "source": [
    "import os\n",
    "import math\n",
    "import requests\n",
    "import pandas as pd\n",
    "from datetime import datetime\n",
    "from tqdm import tqdm\n",
    "\n",
    "# === 1. Configuration ===\n",
    "min_hits = 15\n",
    "session_time = datetime.now().strftime(\"%Y-%m-%d_%H-%M-%S\")\n",
    "output_dir = f\"Diamond_alignments/session_diamond_align_{session_time}\"\n",
    "os.makedirs(output_dir, exist_ok=True)\n",
    "\n",
    "output_fasta_path = os.path.join(output_dir, \"from_diamond_organisms_51_plus_top1000.fasta\")\n",
    "\n",
    "# === 2. Load organisms ranked 51+ with at least `min_hits` hits ===\n",
    "df = pd.read_csv(\"Diamond_alignments/diamond_df_rank_annotated.csv\")\n",
    "organism_counts = df[\"organism\"].value_counts()\n",
    "filtered_organisms = organism_counts[organism_counts >= min_hits]\n",
    "organisms_51_plus = filtered_organisms[50:].index.tolist()\n",
    "\n",
    "# === 3. Fixed limit of 1000 proteins for each organism\n",
    "def get_protein_limit(_):\n",
    "    return 1000\n",
    "\n",
    "# === 4. Get total UniProt results for an organism ===\n",
    "def get_total_results(organism):\n",
    "    base_url = \"https://rest.uniprot.org/uniprotkb/search\"\n",
    "    params = {\n",
    "        \"query\": organism,\n",
    "        \"format\": \"json\",\n",
    "        \"size\": 1\n",
    "    }\n",
    "    try:\n",
    "        r = requests.get(base_url, params=params)\n",
    "        r.raise_for_status()\n",
    "        return int(r.headers.get(\"x-total-results\", 0))\n",
    "    except Exception as e:\n",
    "        print(f\"❌ Failed to get total result count for {organism}: {e}\")\n",
    "        return 0\n",
    "\n",
    "# === 5. Fetch proteins in chunks ===\n",
    "def fetch_uniprotkb_chunked_fasta(organism, limit):\n",
    "    base_url = \"https://rest.uniprot.org/uniprotkb/search\"\n",
    "    chunk_size = 500\n",
    "    headers = {\"Accept\": \"text/x-fasta\"}\n",
    "\n",
    "    total_available = get_total_results(organism)\n",
    "    if total_available == 0:\n",
    "        return \"\", 0\n",
    "\n",
    "    limit = min(limit, total_available)\n",
    "    chunks = math.ceil(limit / chunk_size)\n",
    "\n",
    "    print(f\"\\n🔍 Fetching proteins for: {organism} (available: {total_available}, fetching: {limit})\")\n",
    "\n",
    "    fetched = \"\"\n",
    "    total_downloaded = 0\n",
    "\n",
    "    for i in tqdm(range(chunks), desc=f\"{organism[:40]}...\", leave=True):\n",
    "        offset = i * chunk_size\n",
    "        params = {\n",
    "            \"query\": organism,\n",
    "            \"format\": \"fasta\",\n",
    "            \"size\": chunk_size,\n",
    "            \"offset\": offset,\n",
    "            \"compressed\": \"false\"\n",
    "        }\n",
    "        try:\n",
    "            r = requests.get(base_url, headers=headers, params=params)\n",
    "            r.raise_for_status()\n",
    "            chunk = r.text.strip()\n",
    "            if not chunk:\n",
    "                break\n",
    "            fetched += chunk + \"\\n\"\n",
    "            total_downloaded += chunk.count(\">\")\n",
    "        except Exception as e:\n",
    "            print(f\"❌ Chunk {i+1} failed: {e}\")\n",
    "            break\n",
    "\n",
    "    return fetched, total_downloaded\n",
    "\n",
    "# === 6. Fetch and collect results ===\n",
    "all_entries = []\n",
    "total_downloaded = 0\n",
    "\n",
    "print(f\"🚀 Starting UniProtKB protein fetch for {len(organisms_51_plus)} organisms ranked 51+\")\n",
    "\n",
    "for idx, organism in enumerate(organisms_51_plus):\n",
    "    limit = get_protein_limit(idx)\n",
    "    fasta, downloaded = fetch_uniprotkb_chunked_fasta(organism, limit)\n",
    "\n",
    "    if fasta:\n",
    "        all_entries.append(fasta.strip())\n",
    "        total_downloaded += downloaded\n",
    "        print(f\"✅ [{idx+51}] {organism}: {downloaded} proteins fetched\")\n",
    "    else:\n",
    "        print(f\"⚠️ [{idx+51}] No proteins fetched for {organism}\")\n",
    "\n",
    "# === 7. Save results ===\n",
    "with open(output_fasta_path, \"w\") as f_out:\n",
    "    f_out.write(\"\\n\".join(all_entries))\n",
    "\n",
    "# === 8. Summary ===\n",
    "print(\"\\n📊 === SUMMARY ===\")\n",
    "print(f\"📁 Output FASTA: {output_fasta_path}\")\n",
    "print(f\"📦 Total protein sequences in database: {total_downloaded}\")\n"
   ]
  },
  {
   "cell_type": "code",
   "execution_count": 3,
   "id": "0e05dcc7",
   "metadata": {},
   "outputs": [
    {
     "name": "stdout",
     "output_type": "stream",
     "text": [
      "\n",
      "✅ Combined protein FASTA created.\n",
      "📁 Output FASTA: Diamond_alignments/session_diamond_align_2025-06-01_21-39-27\\all_diamond_proteins_combined.fasta\n",
      "🧬 Total protein entries in combined database: 1246240\n"
     ]
    }
   ],
   "source": [
    "import os\n",
    "\n",
    "# === 1. File paths (adjust if needed) ===\n",
    "session_folder = \"Diamond_alignments/session_diamond_align_2025-06-01_21-39-27\"\n",
    "\n",
    "\n",
    "top20_fasta = r\"C:\\Users\\Yusuf\\OneDrive\\LST\\Derde_jaar\\Y3Q4\\Metaproteomics_with_db\\pipelines\\Diamond_alignments\\session_diamond_align_2025-05-31_15-22-59\\from_diamond_organisms_15_hits_top20.fasta\"\n",
    "middle_fasta = os.path.join(session_folder, \"from_diamond_organisms_21_to_50_top10000.fasta\")\n",
    "remaining_fasta = os.path.join(session_folder, \"from_diamond_organisms_51_plus_top1000.fasta\")\n",
    "combined_fasta = os.path.join(session_folder, \"all_diamond_proteins_combined.fasta\")\n",
    "\n",
    "# === 2. Combine all FASTA files ===\n",
    "input_files = [top20_fasta, middle_fasta, remaining_fasta]\n",
    "total_entries = 0\n",
    "\n",
    "with open(combined_fasta, \"w\") as out_f:\n",
    "    for file_path in input_files:\n",
    "        if not os.path.exists(file_path):\n",
    "            print(f\"⚠️ Skipping missing file: {file_path}\")\n",
    "            continue\n",
    "        with open(file_path, \"r\") as f_in:\n",
    "            content = f_in.read().strip()\n",
    "            if not content:\n",
    "                continue\n",
    "            entries = content.split(\"\\n>\")\n",
    "            for i, entry in enumerate(entries):\n",
    "                if not entry.startswith(\">\"):\n",
    "                    entry = \">\" + entry\n",
    "                out_f.write(entry.strip() + \"\\n\")\n",
    "                total_entries += 1\n",
    "\n",
    "# === 3. Summary ===\n",
    "print(\"\\n✅ Combined protein FASTA created.\")\n",
    "print(f\"📁 Output FASTA: {combined_fasta}\")\n",
    "print(f\"🧬 Total protein entries in combined database: {total_entries}\")\n"
   ]
  },
  {
   "cell_type": "code",
   "execution_count": 18,
   "id": "88a0361a",
   "metadata": {},
   "outputs": [
    {
     "name": "stdout",
     "output_type": "stream",
     "text": [
      "🔧 Running: wsl mmseqs createdb /mnt/c/Users/Yusuf/OneDrive/LST/Derde_jaar/Y3Q4/Metaproteomics_with_db/pipelines/Diamond_alignments/session_diamond_align_2025-06-01_21-39-27/all_diamond_proteins_combined_uniprotkb.fasta db\n",
      "🔧 Running: wsl mmseqs cluster db clust tmp --min-seq-id 1 -c 0.8\n",
      "🔧 Running: wsl mmseqs createtsv db db clust clusters.tsv\n",
      "🔧 Running: wsl mmseqs createsubdb clust db rep\n",
      "🔧 Running: wsl mmseqs result2flat db db rep clustered_raw.fasta\n",
      "\n",
      "✅ Clustered file written to:\n",
      "C:\\Users\\Yusuf\\OneDrive\\LST\\Derde_jaar\\Y3Q4\\Metaproteomics_with_db\\pipelines\\Diamond_alignments\\session_diamond_align_2025-06-01_21-39-27\\all_diamond_proteins_combined_uniprotkb_clust100.fasta\n"
     ]
    }
   ],
   "source": [
    "import os\n",
    "import subprocess\n",
    "from Bio import SeqIO\n",
    "import pandas as pd\n",
    "\n",
    "# === 1. Input and Output paths ===\n",
    "input_fasta_win = r\"C:\\Users\\Yusuf\\OneDrive\\LST\\Derde_jaar\\Y3Q4\\Metaproteomics_with_db\\pipelines\\Diamond_alignments\\session_diamond_align_2025-06-01_21-39-27\\all_diamond_proteins_combined_uniprotkb.fasta\"\n",
    "input_fasta_wsl = \"/mnt/\" + input_fasta_win.replace(\"\\\\\", \"/\").replace(\":\", \"\").replace(\"C\", \"c\")\n",
    "\n",
    "output_fasta_win = r\"C:\\Users\\Yusuf\\OneDrive\\LST\\Derde_jaar\\Y3Q4\\Metaproteomics_with_db\\pipelines\\Diamond_alignments\\session_diamond_align_2025-06-01_21-39-27\\all_diamond_proteins_combined_uniprotkb_clust100.fasta\"\n",
    "output_fasta_wsl = \"/mnt/\" + output_fasta_win.replace(\"\\\\\", \"/\").replace(\":\", \"\").replace(\"C\", \"c\")\n",
    "\n",
    "# === 2. MMseqs2 clustering steps ===\n",
    "commands = [\n",
    "    f\"wsl mmseqs createdb {input_fasta_wsl} db\",\n",
    "    \"wsl mmseqs cluster db clust tmp --min-seq-id 1 -c 0.8\",\n",
    "    \"wsl mmseqs createtsv db db clust clusters.tsv\",\n",
    "    \"wsl mmseqs createsubdb clust db rep\",\n",
    "    f\"wsl mmseqs result2flat db db rep clustered_raw.fasta\"\n",
    "]\n",
    "\n",
    "def run(cmd):\n",
    "    print(f\"🔧 Running: {cmd}\")\n",
    "    result = subprocess.run(cmd, shell=True, text=True, capture_output=True)\n",
    "    if result.returncode != 0:\n",
    "        print(result.stdout)\n",
    "        print(result.stderr)\n",
    "        raise RuntimeError(\"Command failed.\")\n",
    "\n",
    "for cmd in commands:\n",
    "    run(cmd)\n",
    "\n",
    "# === 3. Enrich headers ===\n",
    "clusters_df = pd.read_csv(\"clusters.tsv\", sep=\"\\t\", header=None, names=[\"member\", \"representative\"])\n",
    "cluster_map = clusters_df.groupby(\"representative\")[\"member\"].apply(list).to_dict()\n",
    "\n",
    "# Store original full headers to keep protein name and taxid\n",
    "original_headers = {}\n",
    "for rec in SeqIO.parse(input_fasta_win, \"fasta\"):\n",
    "    original_headers[rec.id] = rec.description\n",
    "\n",
    "# Load representative sequences\n",
    "rep_records = list(SeqIO.parse(\"clustered_raw.fasta\", \"fasta\"))\n",
    "\n",
    "for rec in rep_records:\n",
    "    rep_id = rec.id\n",
    "    members = cluster_map.get(rep_id, [rep_id])\n",
    "    size = len(members)\n",
    "\n",
    "    # Retrieve original metadata-rich header\n",
    "    original_header = original_headers.get(rep_id, rep_id)\n",
    "\n",
    "    # Replace default description with enriched metadata\n",
    "    rec.description = f\"{original_header} | Cluster={rep_id} | Members={','.join(members)} | Size={size}\"\n",
    "\n",
    "# === 4. Save final clustered file with enriched headers ===\n",
    "SeqIO.write(rep_records, output_fasta_win, \"fasta\")\n",
    "print(f\"\\n✅ Clustered file written to:\\n{output_fasta_win}\")"
   ]
  },
  {
   "cell_type": "code",
   "execution_count": 17,
   "id": "d6d4ffea",
   "metadata": {},
   "outputs": [
    {
     "name": "stdout",
     "output_type": "stream",
     "text": [
      "\n",
      "🔍 Fetching best proteomes for organisms NOT in top 20...\n",
      "\n"
     ]
    },
    {
     "name": "stderr",
     "output_type": "stream",
     "text": [
      "  0%|          | 0/258 [00:00<?, ?it/s]"
     ]
    },
    {
     "name": "stdout",
     "output_type": "stream",
     "text": [
      "✅ Candidatus Accumulibacter cognatus (species) → UP000021315 (Representative proteome)\n",
      "✅ Burkholderiales bacterium (species) → UP000664003 (Representative proteome)\n"
     ]
    },
    {
     "name": "stderr",
     "output_type": "stream",
     "text": [
      "  2%|▏         | 4/258 [00:00<00:31,  8.00it/s]"
     ]
    },
    {
     "name": "stdout",
     "output_type": "stream",
     "text": [
      "❌ uncultured microorganism (species) → No proteome found\n",
      "✅ Nitrosomonas oligotropha (species) → UP000198814 (Representative proteome)\n",
      "✅ Candidatus Accumulibacter proximus (species) → UP000697998 (Other proteome)\n"
     ]
    },
    {
     "name": "stderr",
     "output_type": "stream",
     "text": [
      "  3%|▎         | 7/258 [00:00<00:29,  8.46it/s]"
     ]
    },
    {
     "name": "stdout",
     "output_type": "stream",
     "text": [
      "✅ Dechloromonas sp (species) → UP000509529 (Representative proteome)\n",
      "✅ Burkholderiaceae bacterium (species) → UP000510879 (Representative proteome)\n"
     ]
    },
    {
     "name": "stderr",
     "output_type": "stream",
     "text": [
      "  3%|▎         | 9/258 [00:01<00:26,  9.40it/s]"
     ]
    },
    {
     "name": "stdout",
     "output_type": "stream",
     "text": [
      "✅ Candidatus Dechloromonas phosphorivorans (species) → UP000739411 (Other proteome)\n",
      "✅ Candidatus Accumulibacter affinis (species) → UP000706151 (Other proteome)\n",
      "✅ Candidatus Accumulibacter sp. BA-94 (species) → UP000020878 (Representative proteome)\n"
     ]
    },
    {
     "name": "stderr",
     "output_type": "stream",
     "text": [
      "  5%|▌         | 13/258 [00:01<00:24, 10.06it/s]"
     ]
    },
    {
     "name": "stdout",
     "output_type": "stream",
     "text": [
      "✅ Verrucomicrobiota bacterium (species) → UP000033046 (Representative proteome)\n",
      "✅ Candidatus Accumulibacter vicinus (species) → UP000019812 (Other proteome)\n",
      "✅ Nitrospira sp. ND1 (species) → UP000192075 (Other proteome)\n"
     ]
    },
    {
     "name": "stderr",
     "output_type": "stream",
     "text": [
      "  6%|▌         | 15/258 [00:01<00:23, 10.14it/s]"
     ]
    },
    {
     "name": "stdout",
     "output_type": "stream",
     "text": [
      "✅ Lysobacteraceae bacterium (species) → UP000292226 (Representative proteome)\n",
      "✅ Nitrosomonas sp (species) → UP000001629 (Representative proteome)\n",
      "✅ Nitrospira defluvii (species) → UP000001660 (Representative proteome)\n"
     ]
    },
    {
     "name": "stderr",
     "output_type": "stream",
     "text": [
      "  7%|▋         | 18/258 [00:01<00:25,  9.31it/s]"
     ]
    },
    {
     "name": "stdout",
     "output_type": "stream",
     "text": [
      "✅ bacterium (species) → UP000293802 (Representative proteome)\n",
      "✅ Actinomycetes bacterium (species) → UP000035517 (Representative proteome)\n"
     ]
    },
    {
     "name": "stderr",
     "output_type": "stream",
     "text": [
      "  7%|▋         | 19/258 [00:02<00:26,  9.06it/s]"
     ]
    },
    {
     "name": "stdout",
     "output_type": "stream",
     "text": [
      "✅ Bacteroidota bacterium (species) → UP000509427 (Representative proteome)\n",
      "✅ Propionivibrio sp (species) → UP000702847 (Other proteome)\n"
     ]
    },
    {
     "name": "stderr",
     "output_type": "stream",
     "text": [
      "  9%|▉         | 23/258 [00:02<00:25,  9.08it/s]"
     ]
    },
    {
     "name": "stdout",
     "output_type": "stream",
     "text": [
      "❌ marine metagenome (species) → No proteome found\n",
      "✅ Candidatus Accumulibacter adjunctus (species) → UP000020218 (Representative proteome)\n",
      "✅ Nitrosomonas ureae (species) → UP000181998 (Other proteome)\n"
     ]
    },
    {
     "name": "stderr",
     "output_type": "stream",
     "text": [
      "  9%|▉         | 24/258 [00:02<00:26,  8.77it/s]"
     ]
    },
    {
     "name": "stdout",
     "output_type": "stream",
     "text": [
      "✅ Homo sapiens (Human) (species) → UP000005640 (Reference and representative proteome)\n",
      "✅ Caldilineaceae bacterium (species) → UP000674002 (Other proteome)\n",
      "✅ Azonexus sp (species) → UP000672756 (Other proteome)\n"
     ]
    },
    {
     "name": "stderr",
     "output_type": "stream",
     "text": [
      " 11%|█         | 28/258 [00:03<00:25,  8.92it/s]"
     ]
    },
    {
     "name": "stdout",
     "output_type": "stream",
     "text": [
      "✅ Planctomycetota bacterium (species) → UP000315010 (Representative proteome)\n",
      "✅ Bacillota bacterium (Firmicutes bacterium) (species) → UP000681864 (Representative proteome)\n"
     ]
    },
    {
     "name": "stderr",
     "output_type": "stream",
     "text": [
      " 12%|█▏        | 31/258 [00:03<00:27,  8.16it/s]"
     ]
    },
    {
     "name": "stdout",
     "output_type": "stream",
     "text": [
      "✅ Gemmatimonadota bacterium (species) → UP000221516 (Other proteome)\n",
      "✅ Candidatus Contendobacter sp (species) → UP000439117 (Other proteome)\n",
      "✅ Planctomycetaceae bacterium (species) → UP000222210 (Other proteome)\n"
     ]
    },
    {
     "name": "stderr",
     "output_type": "stream",
     "text": [
      " 13%|█▎        | 34/258 [00:03<00:24,  9.19it/s]"
     ]
    },
    {
     "name": "stdout",
     "output_type": "stream",
     "text": [
      "✅ Candidatus Competibacter denitrificans Run_A_D11 (strain) → UP000035760 (Other proteome)\n",
      "✅ Candidatus Propionivibrio aalborgensis (species) → UP000199600 (Representative proteome)\n",
      "✅ Candidatus Contendobacter odensis Run_B_J11 (strain) → UP000019184 (Other proteome)\n"
     ]
    },
    {
     "name": "stderr",
     "output_type": "stream",
     "text": [
      " 14%|█▍        | 36/258 [00:04<00:24,  9.12it/s]"
     ]
    },
    {
     "name": "stdout",
     "output_type": "stream",
     "text": [
      "✅ Candidatus Accumulibacter sp. SK-11 (species) → UP000020226 (Representative proteome)\n",
      "✅ Saprospiraceae bacterium (species) → UP000318368 (Other proteome)\n",
      "✅ Candidatus Accumulibacter meliphilus (species) → UP000253831 (Other proteome)\n"
     ]
    },
    {
     "name": "stderr",
     "output_type": "stream",
     "text": [
      " 15%|█▌        | 39/258 [00:04<00:25,  8.76it/s]"
     ]
    },
    {
     "name": "stdout",
     "output_type": "stream",
     "text": [
      "✅ Flavobacteriales bacterium (species) → UP000664181 (Representative proteome)\n",
      "✅ Bacteroidales bacterium (species) → UP000676034 (Representative proteome)\n",
      "✅ Candidatus Rokuibacteriota bacterium (species) → UP000247367 (Other proteome)\n",
      "❌ mine drainage metagenome (species) → No proteome found\n"
     ]
    },
    {
     "name": "stderr",
     "output_type": "stream",
     "text": [
      " 17%|█▋        | 43/258 [00:04<00:28,  7.48it/s]"
     ]
    },
    {
     "name": "stdout",
     "output_type": "stream",
     "text": [
      "✅ Rhodospirillaceae bacterium (species) → UP000501891 (Representative proteome)\n",
      "❌ marine sediment metagenome (species) → No proteome found\n"
     ]
    },
    {
     "name": "stderr",
     "output_type": "stream",
     "text": [
      " 18%|█▊        | 46/258 [00:05<00:25,  8.25it/s]"
     ]
    },
    {
     "name": "stdout",
     "output_type": "stream",
     "text": [
      "❌ hydrothermal vent metagenome (species) → No proteome found\n",
      "✅ Sulfuritalea sp (species) → UP000678867 (Representative proteome)\n",
      "✅ Pan troglodytes (Chimpanzee) (species) → UP000002277 (Reference and representative proteome)\n"
     ]
    },
    {
     "name": "stderr",
     "output_type": "stream",
     "text": [
      " 19%|█▊        | 48/258 [00:05<00:25,  8.14it/s]"
     ]
    },
    {
     "name": "stdout",
     "output_type": "stream",
     "text": [
      "✅ Helicobacter pylori (Campylobacter pylori) (species) → UP000000429 (Reference and representative proteome)\n",
      "✅ Lysobacterales bacterium (species) → UP000292226 (Representative proteome)\n"
     ]
    },
    {
     "name": "stderr",
     "output_type": "stream",
     "text": [
      " 19%|█▉        | 50/258 [00:05<00:24,  8.37it/s]"
     ]
    },
    {
     "name": "stdout",
     "output_type": "stream",
     "text": [
      "✅ Mesorhizobium sp (species) → UP000018524 (Representative proteome)\n",
      "✅ Hyphomicrobiales bacterium (species) → UP000679647 (Representative proteome)\n"
     ]
    },
    {
     "name": "stderr",
     "output_type": "stream",
     "text": [
      " 20%|█▉        | 51/258 [00:05<00:25,  8.19it/s]"
     ]
    },
    {
     "name": "stdout",
     "output_type": "stream",
     "text": [
      "✅ Myxococcales bacterium (species) → UP000291769 (Representative proteome)\n",
      "✅ Rhodoferax sp (species) → UP000641280 (Representative proteome)\n"
     ]
    },
    {
     "name": "stderr",
     "output_type": "stream",
     "text": [
      " 21%|██        | 54/258 [00:06<00:22,  9.03it/s]"
     ]
    },
    {
     "name": "stdout",
     "output_type": "stream",
     "text": [
      "✅ Variovorax sp (species) → UP000315748 (Representative proteome)\n",
      "✅ Ignavibacteria bacterium (species) → UP000678872 (Representative proteome)\n"
     ]
    },
    {
     "name": "stderr",
     "output_type": "stream",
     "text": [
      " 22%|██▏       | 56/258 [00:06<00:23,  8.50it/s]"
     ]
    },
    {
     "name": "stdout",
     "output_type": "stream",
     "text": [
      "✅ Methylotenera sp (species) → UP000237592 (Other proteome)\n",
      "✅ Rhodospirillales bacterium (species) → UP000438537 (Representative proteome)\n"
     ]
    },
    {
     "name": "stderr",
     "output_type": "stream",
     "text": [
      " 22%|██▏       | 58/258 [00:06<00:21,  9.47it/s]"
     ]
    },
    {
     "name": "stdout",
     "output_type": "stream",
     "text": [
      "✅ Rhizobiaceae bacterium (species) → UP000226672 (Other proteome)\n",
      "✅ Azotobacter beijerinckii (species) → UP000199005 (Other proteome)\n",
      "✅ Candidatus Phosphoribacter hodrii (species) → UP000718281 (Other proteome)\n"
     ]
    },
    {
     "name": "stderr",
     "output_type": "stream",
     "text": [
      " 24%|██▎       | 61/258 [00:06<00:22,  8.80it/s]"
     ]
    },
    {
     "name": "stdout",
     "output_type": "stream",
     "text": [
      "❌ Dechloromonas aromatica (strain RCB) (not_found) → No proteome found\n",
      "✅ Nitrospiraceae bacterium (species) → UP001147470 (Representative proteome)\n",
      "✅ Dechloromonas sp. TW-R-39-2 (species) → UP000663379 (Representative proteome)\n"
     ]
    },
    {
     "name": "stderr",
     "output_type": "stream",
     "text": [
      " 25%|██▍       | 64/258 [00:07<00:20,  9.33it/s]"
     ]
    },
    {
     "name": "stdout",
     "output_type": "stream",
     "text": [
      "✅ Zoogloea sp (species) → UP000478367 (Other proteome)\n",
      "✅ Chitinophagaceae bacterium (species) → UP000293149 (Representative proteome)\n"
     ]
    },
    {
     "name": "stderr",
     "output_type": "stream",
     "text": [
      " 26%|██▌       | 66/258 [00:07<00:20,  9.36it/s]"
     ]
    },
    {
     "name": "stdout",
     "output_type": "stream",
     "text": [
      "✅ Nitrosomonadales bacterium (species) → UP000054262 (Representative proteome)\n",
      "✅ Anaerolineaceae bacterium (species) → UP000221358 (Other proteome)\n",
      "✅ Rhodocyclus tenuis (Rhodospirillum tenue) (species) → UP000587070 (Representative proteome)\n"
     ]
    },
    {
     "name": "stderr",
     "output_type": "stream",
     "text": [
      " 26%|██▋       | 68/258 [00:07<00:19,  9.91it/s]"
     ]
    },
    {
     "name": "stdout",
     "output_type": "stream",
     "text": [
      "✅ Desulfobacteraceae bacterium (species) → UP000236646 (Other proteome)\n",
      "✅ Synechococcaceae cyanobacterium SM1_2_3 (species) → UP000552234 (Other proteome)\n",
      "✅ Candidatus Propionivibrio dominans (species) → UP000886602 (Other proteome)\n"
     ]
    },
    {
     "name": "stderr",
     "output_type": "stream",
     "text": [
      " 28%|██▊       | 72/258 [00:08<00:18,  9.84it/s]"
     ]
    },
    {
     "name": "stdout",
     "output_type": "stream",
     "text": [
      "✅ Methylophilaceae bacterium (species) → UP000664716 (Representative proteome)\n",
      "✅ Omnitrophica bacterium (Omnitrophota bacterium) (species) → UP000257775 (Other proteome)\n",
      "✅ Massilia sp (species) → UP000028843 (Representative proteome)\n"
     ]
    },
    {
     "name": "stderr",
     "output_type": "stream",
     "text": [
      " 29%|██▊       | 74/258 [00:08<00:18, 10.19it/s]"
     ]
    },
    {
     "name": "stdout",
     "output_type": "stream",
     "text": [
      "✅ Nitrospira lenta (species) → UP000248168 (Representative proteome)\n",
      "✅ Elusimicrobiota bacterium (species) → UP001064802 (Representative proteome)\n",
      "✅ Rhodocyclales bacterium (species) → UP000251502 (Other proteome)\n"
     ]
    },
    {
     "name": "stderr",
     "output_type": "stream",
     "text": [
      " 30%|███       | 78/258 [00:08<00:17, 10.17it/s]"
     ]
    },
    {
     "name": "stdout",
     "output_type": "stream",
     "text": [
      "✅ Nitrosospira multiformis (species) → UP000002718 (Representative proteome)\n",
      "✅ Nitrospira moscoviensis (species) → UP000069205 (Representative proteome)\n",
      "✅ Phycisphaerales bacterium (species) → UP000664142 (Representative proteome)\n"
     ]
    },
    {
     "name": "stderr",
     "output_type": "stream",
     "text": [
      " 31%|███▏      | 81/258 [00:09<00:18,  9.49it/s]"
     ]
    },
    {
     "name": "stdout",
     "output_type": "stream",
     "text": [
      "✅ Candidatus Methylomirabilota bacterium (species) → UP000245904 (Other proteome)\n",
      "✅ Clostridiales bacterium (species) → UP000681244 (Representative proteome)\n"
     ]
    },
    {
     "name": "stderr",
     "output_type": "stream",
     "text": [
      " 32%|███▏      | 83/258 [00:09<00:19,  8.99it/s]"
     ]
    },
    {
     "name": "stdout",
     "output_type": "stream",
     "text": [
      "✅ Dehalococcoidia bacterium (species) → UP000471295 (Representative proteome)\n",
      "✅ Pseudomonas fluorescens (species) → UP000002332 (Representative proteome)\n"
     ]
    },
    {
     "name": "stderr",
     "output_type": "stream",
     "text": [
      " 33%|███▎      | 86/258 [00:09<00:17,  9.70it/s]"
     ]
    },
    {
     "name": "stdout",
     "output_type": "stream",
     "text": [
      "✅ Ignavibacteriales bacterium (species) → UP000678872 (Representative proteome)\n",
      "✅ Sorangium cellulosum (Polyangium cellulosum) (species) → UP000002139 (Representative proteome)\n",
      "✅ Peptococcaceae bacterium (species) → UP000681387 (Representative proteome)\n"
     ]
    },
    {
     "name": "stderr",
     "output_type": "stream",
     "text": [
      " 34%|███▍      | 88/258 [00:09<00:17,  9.69it/s]"
     ]
    },
    {
     "name": "stdout",
     "output_type": "stream",
     "text": [
      "✅ Sus scrofa (Pig) (species) → UP000008227 (Reference and representative proteome)\n",
      "✅ Planctomycetales bacterium (species) → UP000352687 (Representative proteome)\n",
      "✅ Betaproteobacteria bacterium HGW-Betaproteobacteria-12 (species) → UP000233252 (Other proteome)\n"
     ]
    },
    {
     "name": "stderr",
     "output_type": "stream",
     "text": [
      " 35%|███▌      | 91/258 [00:10<00:19,  8.45it/s]"
     ]
    },
    {
     "name": "stdout",
     "output_type": "stream",
     "text": [
      "❌ bioreactor metagenome (species) → No proteome found\n",
      "✅ Phycisphaerae bacterium (species) → UP000316082 (Representative proteome)\n"
     ]
    },
    {
     "name": "stderr",
     "output_type": "stream",
     "text": [
      " 36%|███▌      | 93/258 [00:10<00:18,  8.74it/s]"
     ]
    },
    {
     "name": "stdout",
     "output_type": "stream",
     "text": [
      "✅ Comamonadaceae bacterium (species) → UP000292155 (Representative proteome)\n",
      "✅ Actinomycetota bacterium (species) → UP000678472 (Representative proteome)\n"
     ]
    },
    {
     "name": "stderr",
     "output_type": "stream",
     "text": [
      " 37%|███▋      | 95/258 [00:10<00:19,  8.17it/s]"
     ]
    },
    {
     "name": "stdout",
     "output_type": "stream",
     "text": [
      "❌ uncultured prokaryote (species) → No proteome found\n",
      "✅ Chromatiales bacterium (species) → UP000221897 (Other proteome)\n",
      "✅ Nitrospira sp. WS238 (species) → UP000715424 (Other proteome)\n"
     ]
    },
    {
     "name": "stderr",
     "output_type": "stream",
     "text": [
      " 38%|███▊      | 99/258 [00:11<00:18,  8.64it/s]"
     ]
    },
    {
     "name": "stdout",
     "output_type": "stream",
     "text": [
      "❌ uncultured organism (species) → No proteome found\n",
      "✅ Rhodobiaceae bacterium (species) → UP000253117 (Representative proteome)\n",
      "✅ Alcaligenaceae bacterium (species) → UP000306734 (Representative proteome)\n"
     ]
    },
    {
     "name": "stderr",
     "output_type": "stream",
     "text": [
      " 40%|███▉      | 102/258 [00:11<00:16,  9.46it/s]"
     ]
    },
    {
     "name": "stdout",
     "output_type": "stream",
     "text": [
      "✅ Nitrosomonas sp. AL212 (species) → UP000001629 (Representative proteome)\n",
      "✅ Poribacteria bacterium (species) → UP000226579 (Other proteome)\n",
      "✅ Nitrospira sp. KM1 (species) → UP000501139 (Representative proteome)\n"
     ]
    },
    {
     "name": "stderr",
     "output_type": "stream",
     "text": [
      " 40%|████      | 104/258 [00:11<00:16,  9.31it/s]"
     ]
    },
    {
     "name": "stdout",
     "output_type": "stream",
     "text": [
      "✅ Dechloromonas denitrificans (species) → UP000070186 (Representative proteome)\n",
      "✅ Gemmatimonadales bacterium (species) → UP000318813 (Other proteome)\n"
     ]
    },
    {
     "name": "stderr",
     "output_type": "stream",
     "text": [
      " 41%|████      | 106/258 [00:11<00:15,  9.80it/s]"
     ]
    },
    {
     "name": "stdout",
     "output_type": "stream",
     "text": [
      "✅ Candidatus Proximibacter danicus (species) → UP000886689 (Other proteome)\n",
      "✅ Rhizobacter sp (species) → UP000051195 (Representative proteome)\n",
      "✅ Thiobacillus sp (species) → UP000510829 (Representative proteome)\n"
     ]
    },
    {
     "name": "stderr",
     "output_type": "stream",
     "text": [
      " 43%|████▎     | 110/258 [00:12<00:14, 10.52it/s]"
     ]
    },
    {
     "name": "stdout",
     "output_type": "stream",
     "text": [
      "✅ Candidatus Nitrospira nitrificans (species) → UP000198736 (Representative proteome)\n",
      "✅ Latescibacterota bacterium (species) → UP000681675 (Representative proteome)\n",
      "✅ Candidatus Methylophosphatis roskildensis (species) → UP000807785 (Other proteome)\n"
     ]
    },
    {
     "name": "stderr",
     "output_type": "stream",
     "text": [
      " 43%|████▎     | 112/258 [00:12<00:14, 10.21it/s]"
     ]
    },
    {
     "name": "stdout",
     "output_type": "stream",
     "text": [
      "✅ Nitrospira sp. SG-bin1 (species) → UP000192779 (Other proteome)\n",
      "✅ Clostridia bacterium (species) → UP000655701 (Representative proteome)\n"
     ]
    },
    {
     "name": "stderr",
     "output_type": "stream",
     "text": [
      " 44%|████▍     | 114/258 [00:12<00:14, 10.04it/s]"
     ]
    },
    {
     "name": "stdout",
     "output_type": "stream",
     "text": [
      "✅ Desulfobacterales bacterium (species) → UP000228720 (Other proteome)\n",
      "✅ Nitrospira sp. WS110 (species) → UP000765620 (Other proteome)\n",
      "✅ Zoogloea ramigera (species) → UP000318422 (Representative proteome)\n"
     ]
    },
    {
     "name": "stderr",
     "output_type": "stream",
     "text": [
      " 46%|████▌     | 118/258 [00:12<00:13, 10.46it/s]"
     ]
    },
    {
     "name": "stdout",
     "output_type": "stream",
     "text": [
      "✅ Halanaerobium congolense (species) → UP000198612 (Other proteome)\n",
      "✅ Candidatus Nitrospira kreftii (species) → UP000593737 (Other proteome)\n",
      "✅ Porticoccaceae bacterium (species) → UP001177579 (Representative proteome)\n"
     ]
    },
    {
     "name": "stderr",
     "output_type": "stream",
     "text": [
      " 47%|████▋     | 120/258 [00:13<00:13, 10.57it/s]"
     ]
    },
    {
     "name": "stdout",
     "output_type": "stream",
     "text": [
      "✅ Nitrospira sp. ST-bin5 (species) → UP000192740 (Other proteome)\n",
      "✅ Sciurus vulgaris (Eurasian red squirrel) (species) → UP000694564 (Representative proteome)\n",
      "✅ Nitrospira sp. SCN 59-13 (species) → UP000095024 (Other proteome)\n"
     ]
    },
    {
     "name": "stderr",
     "output_type": "stream",
     "text": [
      " 47%|████▋     | 122/258 [00:13<00:12, 10.87it/s]"
     ]
    },
    {
     "name": "stdout",
     "output_type": "stream",
     "text": [
      "✅ Azonexus fungiphilus (species) → UP000270626 (Other proteome)\n",
      "✅ Betaproteobacteria bacterium HGW-Betaproteobacteria-7 (species) → UP000233586 (Other proteome)\n",
      "✅ Nitrosospira sp. NpAV (species) → UP000031969 (Other proteome)\n"
     ]
    },
    {
     "name": "stderr",
     "output_type": "stream",
     "text": [
      " 49%|████▉     | 126/258 [00:13<00:12, 10.74it/s]"
     ]
    },
    {
     "name": "stdout",
     "output_type": "stream",
     "text": [
      "✅ Denitromonas halophila (species) → UP000319502 (Other proteome)\n",
      "✅ Nitrospira japonica (species) → UP000192042 (Representative proteome)\n",
      "✅ Azospira sp. I13 (species) → UP000244972 (Representative proteome)\n"
     ]
    },
    {
     "name": "stderr",
     "output_type": "stream",
     "text": [
      " 50%|█████     | 129/258 [00:14<00:13,  9.30it/s]"
     ]
    },
    {
     "name": "stdout",
     "output_type": "stream",
     "text": [
      "❌ Nitrosomonas sp. (strain Is79A3) (not_found) → No proteome found\n",
      "✅ Oscillospiraceae bacterium (species) → UP000678348 (Representative proteome)\n"
     ]
    },
    {
     "name": "stderr",
     "output_type": "stream",
     "text": [
      " 51%|█████     | 131/258 [00:14<00:13,  9.63it/s]"
     ]
    },
    {
     "name": "stdout",
     "output_type": "stream",
     "text": [
      "✅ Pelagibacteraceae bacterium (species) → UP000668061 (Representative proteome)\n",
      "✅ Nitrosomonas supralitoralis (species) → UP000241912 (Other proteome)\n",
      "✅ Rhodocyclales bacterium GT-UBC (species) → UP000265961 (Other proteome)\n"
     ]
    },
    {
     "name": "stderr",
     "output_type": "stream",
     "text": [
      " 52%|█████▏    | 133/258 [00:14<00:12,  9.99it/s]"
     ]
    },
    {
     "name": "stdout",
     "output_type": "stream",
     "text": [
      "✅ Proteobacteria bacterium SG_bin4 (species) → UP000192864 (Other proteome)\n",
      "❌ uncultured Pseudomonadota bacterium (species) → No proteome found\n"
     ]
    },
    {
     "name": "stderr",
     "output_type": "stream",
     "text": [
      " 53%|█████▎    | 136/258 [00:14<00:15,  7.99it/s]"
     ]
    },
    {
     "name": "stdout",
     "output_type": "stream",
     "text": [
      "✅ Candidatus Nitrotoga fabula (species) → UP000675882 (Representative proteome)\n",
      "✅ Neomarinimicrobiota bacterium (species) → UP000218611 (Other proteome)\n"
     ]
    },
    {
     "name": "stderr",
     "output_type": "stream",
     "text": [
      " 53%|█████▎    | 138/258 [00:15<00:13,  8.62it/s]"
     ]
    },
    {
     "name": "stdout",
     "output_type": "stream",
     "text": [
      "✅ Thiotrichales bacterium (species) → UP000217535 (Other proteome)\n",
      "✅ Dechloromonas sp. HYN0024 (species) → UP000257259 (Representative proteome)\n",
      "✅ Nitrospira sp. CG24D (species) → UP000234782 (Other proteome)\n"
     ]
    },
    {
     "name": "stderr",
     "output_type": "stream",
     "text": [
      " 55%|█████▌    | 142/258 [00:15<00:11,  9.77it/s]"
     ]
    },
    {
     "name": "stdout",
     "output_type": "stream",
     "text": [
      "✅ Nitrospira tepida (species) → UP001179121 (Representative proteome)\n",
      "✅ Propionivibrio dicarboxylicus (species) → UP000198607 (Representative proteome)\n",
      "✅ Azonexus hydrophilus (species) → UP000187526 (Representative proteome)\n"
     ]
    },
    {
     "name": "stderr",
     "output_type": "stream",
     "text": [
      " 56%|█████▌    | 145/258 [00:15<00:11, 10.09it/s]"
     ]
    },
    {
     "name": "stdout",
     "output_type": "stream",
     "text": [
      "✅ Clostridiaceae bacterium (species) → UP000237298 (Representative proteome)\n",
      "✅ Geminicoccaceae bacterium (species) → UP000432822 (Other proteome)\n",
      "✅ Thauera sp (species) → UP000013140 (Representative proteome)\n"
     ]
    },
    {
     "name": "stderr",
     "output_type": "stream",
     "text": [
      " 57%|█████▋    | 147/258 [00:15<00:10, 10.28it/s]"
     ]
    },
    {
     "name": "stdout",
     "output_type": "stream",
     "text": [
      "✅ Limnohabitans sp (species) → UP000063254 (Representative proteome)\n",
      "✅ Gorilla gorilla gorilla (Western lowland gorilla) (subspecies) → UP000001519 (Reference proteome)\n",
      "✅ Thauera aminoaromatica (species) → UP000002186 (Representative proteome)\n"
     ]
    },
    {
     "name": "stderr",
     "output_type": "stream",
     "text": [
      " 58%|█████▊    | 149/258 [00:16<00:11,  9.15it/s]"
     ]
    },
    {
     "name": "stdout",
     "output_type": "stream",
     "text": [
      "❌ Azospira oryzae (strain ATCC BAA-33 / DSM 13638 / PS) (Dechlorosoma suillum) (not_found) → No proteome found\n",
      "✅ Syntrophaceae bacterium (species) → UP000683141 (Representative proteome)\n"
     ]
    },
    {
     "name": "stderr",
     "output_type": "stream",
     "text": [
      " 59%|█████▉    | 153/258 [00:16<00:11,  8.84it/s]"
     ]
    },
    {
     "name": "stdout",
     "output_type": "stream",
     "text": [
      "❌ freshwater metagenome (species) → No proteome found\n",
      "✅ Caulobacteraceae bacterium (species) → UP000291219 (Representative proteome)\n",
      "✅ Thauera phenylacetica B4P (strain) → UP000013047 (Other proteome)\n"
     ]
    },
    {
     "name": "stderr",
     "output_type": "stream",
     "text": [
      " 60%|██████    | 155/258 [00:16<00:11,  9.03it/s]"
     ]
    },
    {
     "name": "stdout",
     "output_type": "stream",
     "text": [
      "✅ Nitrospirae bacterium RIFCSPLOWO2_02_FULL_62_14 (species) → UP000178516 (Other proteome)\n",
      "✅ Sphingomonadales bacterium (species) → UP000292783 (Representative proteome)\n"
     ]
    },
    {
     "name": "stderr",
     "output_type": "stream",
     "text": [
      " 61%|██████    | 158/258 [00:17<00:10,  9.52it/s]"
     ]
    },
    {
     "name": "stdout",
     "output_type": "stream",
     "text": [
      "✅ Terriglobia bacterium (species) → UP000245990 (Other proteome)\n",
      "✅ Nitrosomonas sp. Nm84 (species) → UP000248024 (Representative proteome)\n",
      "✅ Pseudonocardiales bacterium (species) → UP000468742 (Representative proteome)\n"
     ]
    },
    {
     "name": "stderr",
     "output_type": "stream",
     "text": [
      " 62%|██████▏   | 161/258 [00:17<00:09,  9.72it/s]"
     ]
    },
    {
     "name": "stdout",
     "output_type": "stream",
     "text": [
      "✅ Patescibacteria bacterium (species) → UP000557613 (Representative proteome)\n",
      "✅ Zoogloea dura (species) → UP000580043 (Representative proteome)\n",
      "✅ Calditrichota bacterium (species) → UP000267650 (Other proteome)\n"
     ]
    },
    {
     "name": "stderr",
     "output_type": "stream",
     "text": [
      " 63%|██████▎   | 163/258 [00:17<00:09,  9.61it/s]"
     ]
    },
    {
     "name": "stdout",
     "output_type": "stream",
     "text": [
      "✅ Nitrospira sp. SG-bin2 (species) → UP000192473 (Other proteome)\n",
      "✅ Acidimicrobiia bacterium (species) → UP000473322 (Representative proteome)\n"
     ]
    },
    {
     "name": "stderr",
     "output_type": "stream",
     "text": [
      " 64%|██████▍   | 165/258 [00:17<00:10,  8.63it/s]"
     ]
    },
    {
     "name": "stdout",
     "output_type": "stream",
     "text": [
      "✅ Nitrosomonas sp. Nm166 (species) → UP000199102 (Representative proteome)\n",
      "❌ human gut metagenome (species) → No proteome found\n"
     ]
    },
    {
     "name": "stderr",
     "output_type": "stream",
     "text": [
      " 65%|██████▍   | 167/258 [00:18<00:09,  9.24it/s]"
     ]
    },
    {
     "name": "stdout",
     "output_type": "stream",
     "text": [
      "✅ SAR202 cluster bacterium (species) → UP000326137 (Representative proteome)\n",
      "✅ Halanaerobium saccharolyticum (species) → UP000012063 (Representative proteome)\n",
      "✅ Colletotrichum fructicola (species) → UP000288884 (Representative proteome)\n"
     ]
    },
    {
     "name": "stderr",
     "output_type": "stream",
     "text": [
      " 66%|██████▌   | 170/258 [00:18<00:09,  9.51it/s]"
     ]
    },
    {
     "name": "stdout",
     "output_type": "stream",
     "text": [
      "✅ Acetobacteraceae bacterium (species) → UP000297111 (Representative proteome)\n",
      "✅ Actinomycetales bacterium (species) → UP000196124 (Representative proteome)\n",
      "✅ Hyphomicrobiaceae bacterium (species) → UP000437123 (Other proteome)\n"
     ]
    },
    {
     "name": "stderr",
     "output_type": "stream",
     "text": [
      " 67%|██████▋   | 174/258 [00:18<00:08, 10.07it/s]"
     ]
    },
    {
     "name": "stdout",
     "output_type": "stream",
     "text": [
      "✅ Rubrivivax sp (species) → UP000316214 (Representative proteome)\n",
      "✅ Mus caroli (Ryukyu mouse) (Ricefield mouse) (species) → UP000515126 (Other proteome)\n",
      "✅ Pseudomonadales bacterium (species) → UP000227043 (Other proteome)\n"
     ]
    },
    {
     "name": "stderr",
     "output_type": "stream",
     "text": [
      " 68%|██████▊   | 176/258 [00:19<00:08, 10.14it/s]"
     ]
    },
    {
     "name": "stdout",
     "output_type": "stream",
     "text": [
      "✅ Syntrophomonadaceae bacterium (species) → UP000678406 (Representative proteome)\n",
      "✅ Ottowia sp (species) → UP000321694 (Representative proteome)\n",
      "✅ Candidatus Nitrospira nitrosa (species) → UP000199032 (Representative proteome)\n"
     ]
    },
    {
     "name": "stderr",
     "output_type": "stream",
     "text": [
      " 70%|██████▉   | 180/258 [00:19<00:07, 10.61it/s]"
     ]
    },
    {
     "name": "stdout",
     "output_type": "stream",
     "text": [
      "✅ Devosia sp (species) → UP000028638 (Representative proteome)\n",
      "✅ Nitrospira sp. ST-bin4 (species) → UP000192458 (Other proteome)\n",
      "✅ Parazoarcus communis (species) → UP000244930 (Representative proteome)\n"
     ]
    },
    {
     "name": "stderr",
     "output_type": "stream",
     "text": [
      " 71%|███████   | 182/258 [00:19<00:06, 10.87it/s]"
     ]
    },
    {
     "name": "stdout",
     "output_type": "stream",
     "text": [
      "✅ Macaca mulatta (Rhesus macaque) (species) → UP000006718 (Reference and representative proteome)\n",
      "✅ Zoogloea oleivorans (species) → UP000389128 (Representative proteome)\n"
     ]
    },
    {
     "name": "stderr",
     "output_type": "stream",
     "text": [
      " 71%|███████▏  | 184/258 [00:19<00:06, 10.65it/s]"
     ]
    },
    {
     "name": "stdout",
     "output_type": "stream",
     "text": [
      "✅ Acidimicrobiaceae bacterium (species) → UP000226507 (Other proteome)\n",
      "✅ Collimonas pratensis (species) → UP000074561 (Other proteome)\n",
      "✅ Azoarcus sp. DD4 (species) → UP000317813 (Other proteome)\n"
     ]
    },
    {
     "name": "stderr",
     "output_type": "stream",
     "text": [
      " 72%|███████▏  | 186/258 [00:19<00:06, 10.54it/s]"
     ]
    },
    {
     "name": "stdout",
     "output_type": "stream",
     "text": [
      "✅ Nitrosomonas aestuarii (species) → UP000199533 (Representative proteome)\n",
      "✅ Betaproteobacteria bacterium ADurb.Bin341 (species) → UP000485501 (Other proteome)\n",
      "✅ Streptococcus suis (species) → UP000009077 (Reference and representative proteome)\n"
     ]
    },
    {
     "name": "stderr",
     "output_type": "stream",
     "text": [
      " 74%|███████▎  | 190/258 [00:20<00:06, 10.43it/s]"
     ]
    },
    {
     "name": "stdout",
     "output_type": "stream",
     "text": [
      "✅ Woeseiaceae bacterium (species) → UP000232361 (Other proteome)\n",
      "✅ Betaproteobacteria bacterium HGW-Betaproteobacteria-10 (species) → UP000233401 (Other proteome)\n",
      "✅ Hydrogenophaga sp (species) → UP000683229 (Representative proteome)\n"
     ]
    },
    {
     "name": "stderr",
     "output_type": "stream",
     "text": [
      " 75%|███████▌  | 194/258 [00:20<00:06, 10.18it/s]"
     ]
    },
    {
     "name": "stdout",
     "output_type": "stream",
     "text": [
      "✅ Nitrospirales bacterium (species) → UP000298402 (Representative proteome)\n",
      "✅ Collimonas fungivorans (species) → UP000008392 (Representative proteome)\n",
      "✅ Thermoanaerobaculia bacterium (species) → UP000430327 (Other proteome)\n"
     ]
    },
    {
     "name": "stderr",
     "output_type": "stream",
     "text": [
      " 76%|███████▌  | 196/258 [00:20<00:06, 10.00it/s]"
     ]
    },
    {
     "name": "stdout",
     "output_type": "stream",
     "text": [
      "✅ Thauera humireducens (species) → UP000036902 (Other proteome)\n",
      "✅ Ignavibacteriota bacterium (species) → UP000226925 (Other proteome)\n",
      "✅ Dechloromonas agitata (species) → UP000718593 (Other proteome)\n"
     ]
    },
    {
     "name": "stderr",
     "output_type": "stream",
     "text": [
      " 78%|███████▊  | 200/258 [00:21<00:06,  9.26it/s]"
     ]
    },
    {
     "name": "stdout",
     "output_type": "stream",
     "text": [
      "❌ uncultured bacterium A1Q1_fos_560 (species) → No proteome found\n",
      "✅ Betaproteobacteria bacterium HGW-Betaproteobacteria-4 (species) → UP000233557 (Other proteome)\n",
      "✅ Limisphaerales bacterium (species) → UP000259012 (Other proteome)\n"
     ]
    },
    {
     "name": "stderr",
     "output_type": "stream",
     "text": [
      " 78%|███████▊  | 202/258 [00:21<00:05,  9.65it/s]"
     ]
    },
    {
     "name": "stdout",
     "output_type": "stream",
     "text": [
      "✅ Nitrospira sp. CG24B (species) → UP000234749 (Other proteome)\n",
      "✅ Methylophaga sp (species) → UP000221591 (Other proteome)\n",
      "✅ Variovorax paradoxus (species) → UP000035170 (Representative proteome)\n"
     ]
    },
    {
     "name": "stderr",
     "output_type": "stream",
     "text": [
      " 79%|███████▉  | 204/258 [00:21<00:05,  9.81it/s]"
     ]
    },
    {
     "name": "stdout",
     "output_type": "stream",
     "text": [
      "✅ Xanthomonas euvesicatoria (species) → UP001197729 (Redundant proteome)\n",
      "✅ Macaca fascicularis (Crab-eating macaque) (Cynomolgus monkey) (species) → UP000233100 (Reference and representative proteome)\n"
     ]
    },
    {
     "name": "stderr",
     "output_type": "stream",
     "text": [
      " 80%|████████  | 207/258 [00:22<00:05,  9.62it/s]"
     ]
    },
    {
     "name": "stdout",
     "output_type": "stream",
     "text": [
      "✅ Rhodobacterales bacterium (species) → UP000324880 (Representative proteome)\n",
      "✅ Azospira restricta (species) → UP000663444 (Representative proteome)\n"
     ]
    },
    {
     "name": "stderr",
     "output_type": "stream",
     "text": [
      " 81%|████████  | 209/258 [00:22<00:05,  9.64it/s]"
     ]
    },
    {
     "name": "stdout",
     "output_type": "stream",
     "text": [
      "✅ Candidatus Nitrospira inopinata (species) → UP000066284 (Representative proteome)\n",
      "✅ Nitrosospira sp. Nsp5 (species) → UP000244244 (Other proteome)\n",
      "✅ Nitrosovibrio sp. Nv17 (species) → UP000183249 (Representative proteome)\n"
     ]
    },
    {
     "name": "stderr",
     "output_type": "stream",
     "text": [
      " 83%|████████▎ | 213/258 [00:22<00:04, 10.41it/s]"
     ]
    },
    {
     "name": "stdout",
     "output_type": "stream",
     "text": [
      "✅ Collimonas sp. OK607 (species) → UP000198887 (Other proteome)\n",
      "✅ Collimonas sp. OK307 (species) → UP000198674 (Other proteome)\n",
      "✅ Candidatus Nitrotoga sp. MKT (species) → UP000257121 (Other proteome)\n"
     ]
    },
    {
     "name": "stderr",
     "output_type": "stream",
     "text": [
      " 83%|████████▎ | 215/258 [00:22<00:04, 10.17it/s]"
     ]
    },
    {
     "name": "stdout",
     "output_type": "stream",
     "text": [
      "✅ Collimonas fungivorans (strain Ter331) (not_found) → UP000008392 (Representative proteome)\n",
      "✅ Collimonas sp. OK242 (species) → UP000198586 (Other proteome)\n",
      "✅ Acidobacteria bacterium RBG_16_70_10 (species) → UP000178407 (Other proteome)\n"
     ]
    },
    {
     "name": "stderr",
     "output_type": "stream",
     "text": [
      " 84%|████████▍ | 218/258 [00:23<00:04,  9.75it/s]"
     ]
    },
    {
     "name": "stdout",
     "output_type": "stream",
     "text": [
      "✅ Nitrospinota bacterium (species) → UP000226943 (Other proteome)\n",
      "✅ Candidatus Accumulibacter sp. 66-26 (species) → UP000186203 (Other proteome)\n",
      "✅ Nitrosomonas sp. Nm51 (species) → UP000198732 (Representative proteome)\n"
     ]
    },
    {
     "name": "stderr",
     "output_type": "stream",
     "text": [
      " 85%|████████▌ | 220/258 [00:23<00:03, 10.21it/s]"
     ]
    },
    {
     "name": "stdout",
     "output_type": "stream",
     "text": [
      "✅ Cebus imitator (Panamanian white-faced capuchin) (Cebus capucinus imitator) (species) → UP000233040 (Reference and representative proteome)\n",
      "✅ Aspergillus calidoustus (species) → UP000054771 (Representative proteome)\n",
      "✅ Nitrosomonas cryotolerans ATCC 49181 (strain) → UP000185062 (Representative proteome)\n"
     ]
    },
    {
     "name": "stderr",
     "output_type": "stream",
     "text": [
      " 87%|████████▋ | 224/258 [00:23<00:03,  9.86it/s]"
     ]
    },
    {
     "name": "stdout",
     "output_type": "stream",
     "text": [
      "✅ Polaromonas sp (species) → UP000218978 (Representative proteome)\n",
      "✅ Flavobacteriaceae bacterium (species) → UP000260281 (Representative proteome)\n",
      "✅ Vreelandella aquamarina (species) → UP000199493 (Other proteome)\n"
     ]
    },
    {
     "name": "stderr",
     "output_type": "stream",
     "text": [
      " 88%|████████▊ | 228/258 [00:24<00:02, 10.20it/s]"
     ]
    },
    {
     "name": "stdout",
     "output_type": "stream",
     "text": [
      "✅ Malikia spinosa (species) → UP000238326 (Other proteome)\n",
      "✅ Azospirillum brasilense (species) → UP000215367 (Other proteome)\n",
      "✅ Nitrospira sp. HN-bin3 (species) → UP000192310 (Other proteome)\n"
     ]
    },
    {
     "name": "stderr",
     "output_type": "stream",
     "text": [
      " 89%|████████▉ | 230/258 [00:24<00:03,  8.88it/s]"
     ]
    },
    {
     "name": "stdout",
     "output_type": "stream",
     "text": [
      "❌ uncultured Candidatus Accumulibacter sp (species) → No proteome found\n",
      "✅ Nitrosomonas marina (species) → UP000199345 (Other proteome)\n",
      "✅ Kiritimatiellaceae bacterium (species) → UP000227232 (Other proteome)\n"
     ]
    },
    {
     "name": "stderr",
     "output_type": "stream",
     "text": [
      " 90%|████████▉ | 232/258 [00:24<00:02,  9.35it/s]"
     ]
    },
    {
     "name": "stdout",
     "output_type": "stream",
     "text": [
      "✅ Listeria booriae (species) → UP000029844 (Representative proteome)\n",
      "✅ Herbaspirillum sp. Sphag64 (species) → UP000574694 (Representative proteome)\n",
      "✅ Pan paniscus (Pygmy chimpanzee) (Bonobo) (species) → UP000240080 (Reference proteome)\n"
     ]
    },
    {
     "name": "stderr",
     "output_type": "stream",
     "text": [
      " 91%|█████████▏| 236/258 [00:25<00:02, 10.04it/s]"
     ]
    },
    {
     "name": "stdout",
     "output_type": "stream",
     "text": [
      "✅ Nitrospira sp. CG24A (species) → UP000234867 (Other proteome)\n",
      "✅ Nitrospira sp. CG24E (species) → UP000234896 (Other proteome)\n",
      "✅ Solirubrobacterales bacterium (species) → UP000435342 (Representative proteome)\n"
     ]
    },
    {
     "name": "stderr",
     "output_type": "stream",
     "text": [
      " 93%|█████████▎| 240/258 [00:25<00:01, 10.07it/s]"
     ]
    },
    {
     "name": "stdout",
     "output_type": "stream",
     "text": [
      "✅ Geobacter sp (species) → UP000494220 (Representative proteome)\n",
      "✅ Polarella glacialis (Dinoflagellate) (not_found) → UP000654075 (Representative proteome)\n",
      "✅ Sphingobacteriaceae bacterium (species) → UP000294109 (Representative proteome)\n"
     ]
    },
    {
     "name": "stderr",
     "output_type": "stream",
     "text": [
      " 94%|█████████▍| 242/258 [00:25<00:01, 10.14it/s]"
     ]
    },
    {
     "name": "stdout",
     "output_type": "stream",
     "text": [
      "✅ Aromatoleum tolulyticum (species) → UP000186819 (Representative proteome)\n",
      "✅ Thauera phenolivorans (species) → UP000536534 (Other proteome)\n"
     ]
    },
    {
     "name": "stderr",
     "output_type": "stream",
     "text": [
      " 95%|█████████▍| 244/258 [00:25<00:01,  9.02it/s]"
     ]
    },
    {
     "name": "stdout",
     "output_type": "stream",
     "text": [
      "❌ uncultured ammonia-oxidizing beta proteobacterium (species) → No proteome found\n",
      "✅ Nitrosospira lacus (species) → UP000012179 (Representative proteome)\n",
      "✅ Betaproteobacteria bacterium HGW-Betaproteobacteria-6 (species) → UP000233284 (Other proteome)\n"
     ]
    },
    {
     "name": "stderr",
     "output_type": "stream",
     "text": [
      " 95%|█████████▌| 246/258 [00:26<00:01,  9.52it/s]"
     ]
    },
    {
     "name": "stdout",
     "output_type": "stream",
     "text": [
      "✅ Methylococcaceae bacterium (species) → UP000258687 (Other proteome)\n",
      "✅ Candidatus Nitrotoga sp. LAW (species) → UP000256642 (Other proteome)\n"
     ]
    },
    {
     "name": "stderr",
     "output_type": "stream",
     "text": [
      " 97%|█████████▋| 250/258 [00:26<00:00,  9.95it/s]"
     ]
    },
    {
     "name": "stdout",
     "output_type": "stream",
     "text": [
      "✅ Escherichia coli (species) → UP000000625 (Reference and representative proteome)\n",
      "✅ Tissierellia bacterium (species) → UP000070503 (Representative proteome)\n",
      "✅ Sterolibacterium sp (species) → UP000672741 (Other proteome)\n"
     ]
    },
    {
     "name": "stderr",
     "output_type": "stream",
     "text": [
      " 98%|█████████▊| 252/258 [00:26<00:00, 10.19it/s]"
     ]
    },
    {
     "name": "stdout",
     "output_type": "stream",
     "text": [
      "✅ Noviherbaspirillum humi (species) → UP000198284 (Representative proteome)\n",
      "✅ Nitrosospira sp. Nsp2 (species) → UP000244133 (Other proteome)\n"
     ]
    },
    {
     "name": "stderr",
     "output_type": "stream",
     "text": [
      " 98%|█████████▊| 254/258 [00:26<00:00, 10.26it/s]"
     ]
    },
    {
     "name": "stdout",
     "output_type": "stream",
     "text": [
      "✅ Leptospiraceae bacterium (species) → UP000229946 (Other proteome)\n",
      "✅ Betaproteobacteria bacterium RIFCSPLOWO2_12_FULL_62_13b (species) → UP000176679 (Other proteome)\n",
      "✅ Azoarcus indigens (species) → UP000295129 (Representative proteome)\n"
     ]
    },
    {
     "name": "stderr",
     "output_type": "stream",
     "text": [
      "100%|██████████| 258/258 [00:27<00:00, 10.28it/s]"
     ]
    },
    {
     "name": "stdout",
     "output_type": "stream",
     "text": [
      "✅ Chthoniobacterales bacterium (species) → UP000248826 (Other proteome)\n",
      "✅ Nitrospirae bacterium RBG_19FT_COMBO_58_9 (species) → UP000177544 (Other proteome)\n",
      "✅ Nitrosospira sp. Is2 (species) → UP001302684 (Redundant proteome)\n"
     ]
    },
    {
     "name": "stderr",
     "output_type": "stream",
     "text": [
      "100%|██████████| 258/258 [00:27<00:00,  9.45it/s]"
     ]
    },
    {
     "name": "stdout",
     "output_type": "stream",
     "text": [
      "\n",
      "📊 === SUMMARY ===\n",
      "🧬 Matched: 241 / 258\n",
      "❌ Not matched: 17\n",
      "📁 Output saved to: Diamond_alignments/session_diamond_align_2025-05-31_15-40-56\\diamond_proteome_matches_remaining.csv\n"
     ]
    },
    {
     "name": "stderr",
     "output_type": "stream",
     "text": [
      "\n"
     ]
    }
   ],
   "source": [
    "import pandas as pd\n",
    "import os\n",
    "import requests\n",
    "from datetime import datetime\n",
    "from tqdm import tqdm\n",
    "\n",
    "# === 1. Setup output path ===\n",
    "session_time = datetime.now().strftime(\"%Y-%m-%d_%H-%M-%S\")\n",
    "output_dir = f\"Diamond_alignments/session_diamond_align_{session_time}\"\n",
    "os.makedirs(output_dir, exist_ok=True)\n",
    "proteome_csv_path = os.path.join(output_dir, \"diamond_proteome_matches_remaining.csv\")\n",
    "\n",
    "# === 2. Load organism data and exclude top 20 ===\n",
    "df = pd.read_csv(\"Diamond_alignments/diamond_df_rank_annotated.csv\")\n",
    "organism_counts = df[\"organism\"].value_counts()\n",
    "top_20_organisms = organism_counts.head(20).index.tolist()\n",
    "all_organisms = organism_counts.index.tolist()\n",
    "remaining_organisms = [org for org in all_organisms if org not in top_20_organisms]\n",
    "\n",
    "# === 3. Rank lookup ===\n",
    "rank_lookup = df.drop_duplicates(subset=\"organism\").set_index(\"organism\")[\"taxonomy_rank\"].to_dict()\n",
    "\n",
    "# === 4. Function to fetch best proteome ===\n",
    "def fetch_best_proteome(organism, rank):\n",
    "    url = \"https://rest.uniprot.org/proteomes/search\"\n",
    "    results = []\n",
    "    query_type = \"name\"\n",
    "\n",
    "    try:\n",
    "        r = requests.get(url, params={\"query\": organism, \"format\": \"json\", \"size\": 500})\n",
    "        r.raise_for_status()\n",
    "        results = r.json().get(\"results\", [])\n",
    "    except:\n",
    "        results = []\n",
    "\n",
    "    if not results:\n",
    "        try:\n",
    "            r = requests.get(url, params={\"query\": \"taxonomy_id:0\", \"format\": \"json\", \"size\": 100})\n",
    "            r.raise_for_status()\n",
    "            results = r.json().get(\"results\", [])\n",
    "            query_type = \"taxid\"\n",
    "        except:\n",
    "            results = []\n",
    "\n",
    "    if not results:\n",
    "        return None, False\n",
    "\n",
    "    reference = [r for r in results if r.get(\"proteomeType\") == \"Reference\"]\n",
    "    rank = rank.lower() if isinstance(rank, str) else \"unknown\"\n",
    "\n",
    "    selected = reference[0] if reference else max(results, key=lambda r: r.get(\"busco\", {}).get(\"complete\", 0))\n",
    "\n",
    "    return (\n",
    "        organism,\n",
    "        selected.get(\"id\"),\n",
    "        selected.get(\"proteomeType\"),\n",
    "        selected.get(\"taxonomy\", {}).get(\"rank\", \"unknown\"),\n",
    "        query_type\n",
    "    ), True\n",
    "\n",
    "# === 5. Main loop ===\n",
    "final_results = []\n",
    "not_found = []\n",
    "\n",
    "print(\"\\n🔍 Fetching best proteomes for organisms NOT in top 20...\\n\")\n",
    "for org in tqdm(remaining_organisms):\n",
    "    rank = rank_lookup.get(org, \"unknown\")\n",
    "    result, ok = fetch_best_proteome(org, rank)\n",
    "    if ok:\n",
    "        print(f\"✅ {org} ({rank}) → {result[1]} ({result[2]})\")\n",
    "        final_results.append(result)\n",
    "    else:\n",
    "        print(f\"❌ {org} ({rank}) → No proteome found\")\n",
    "        not_found.append(org)\n",
    "\n",
    "# === 6. Save ===\n",
    "df_out = pd.DataFrame(final_results, columns=[\"Organism\", \"Proteome ID\", \"Proteome Type\", \"Tax Rank\", \"Used Query\"])\n",
    "df_out.to_csv(proteome_csv_path, index=False)\n",
    "\n",
    "# === 7. Summary ===\n",
    "print(\"\\n📊 === SUMMARY ===\")\n",
    "print(f\"🧬 Matched: {len(final_results)} / {len(remaining_organisms)}\")\n",
    "print(f\"❌ Not matched: {len(not_found)}\")\n",
    "print(f\"📁 Output saved to: {proteome_csv_path}\")\n"
   ]
  },
  {
   "cell_type": "code",
   "execution_count": 18,
   "id": "eabe0e22",
   "metadata": {},
   "outputs": [
    {
     "name": "stdout",
     "output_type": "stream",
     "text": [
      "\n",
      "📦 Starting full protein download (no deduplication)...\n"
     ]
    },
    {
     "name": "stderr",
     "output_type": "stream",
     "text": [
      "  0%|          | 1/237 [00:06<26:22,  6.71s/it]"
     ]
    },
    {
     "name": "stdout",
     "output_type": "stream",
     "text": [
      "✅ UP000021315: 3953 proteins parsed\n"
     ]
    },
    {
     "name": "stderr",
     "output_type": "stream",
     "text": [
      "  1%|          | 2/237 [00:15<32:05,  8.19s/it]"
     ]
    },
    {
     "name": "stdout",
     "output_type": "stream",
     "text": [
      "✅ UP000664003: 3702 proteins parsed\n"
     ]
    },
    {
     "name": "stderr",
     "output_type": "stream",
     "text": [
      "  1%|▏         | 3/237 [00:23<30:00,  7.69s/it]"
     ]
    },
    {
     "name": "stdout",
     "output_type": "stream",
     "text": [
      "✅ UP000198814: 3170 proteins parsed\n"
     ]
    },
    {
     "name": "stderr",
     "output_type": "stream",
     "text": [
      "  2%|▏         | 4/237 [00:32<32:25,  8.35s/it]"
     ]
    },
    {
     "name": "stdout",
     "output_type": "stream",
     "text": [
      "✅ UP000697998: 4538 proteins parsed\n"
     ]
    },
    {
     "name": "stderr",
     "output_type": "stream",
     "text": [
      "  2%|▏         | 5/237 [00:38<28:29,  7.37s/it]"
     ]
    },
    {
     "name": "stdout",
     "output_type": "stream",
     "text": [
      "✅ UP000509529: 2873 proteins parsed\n"
     ]
    },
    {
     "name": "stderr",
     "output_type": "stream",
     "text": [
      "  3%|▎         | 6/237 [00:42<24:00,  6.23s/it]"
     ]
    },
    {
     "name": "stdout",
     "output_type": "stream",
     "text": [
      "✅ UP000510879: 2571 proteins parsed\n"
     ]
    },
    {
     "name": "stderr",
     "output_type": "stream",
     "text": [
      "  3%|▎         | 7/237 [00:49<25:47,  6.73s/it]"
     ]
    },
    {
     "name": "stdout",
     "output_type": "stream",
     "text": [
      "✅ UP000739411: 3814 proteins parsed\n"
     ]
    },
    {
     "name": "stderr",
     "output_type": "stream",
     "text": [
      "  3%|▎         | 8/237 [00:57<26:32,  6.96s/it]"
     ]
    },
    {
     "name": "stdout",
     "output_type": "stream",
     "text": [
      "✅ UP000706151: 4127 proteins parsed\n"
     ]
    },
    {
     "name": "stderr",
     "output_type": "stream",
     "text": [
      "  4%|▍         | 9/237 [01:02<24:15,  6.39s/it]"
     ]
    },
    {
     "name": "stdout",
     "output_type": "stream",
     "text": [
      "✅ UP000020878: 3127 proteins parsed\n"
     ]
    },
    {
     "name": "stderr",
     "output_type": "stream",
     "text": [
      "  4%|▍         | 10/237 [01:06<21:54,  5.79s/it]"
     ]
    },
    {
     "name": "stdout",
     "output_type": "stream",
     "text": [
      "✅ UP000033046: 2622 proteins parsed\n"
     ]
    },
    {
     "name": "stderr",
     "output_type": "stream",
     "text": [
      "  5%|▍         | 11/237 [01:13<23:16,  6.18s/it]"
     ]
    },
    {
     "name": "stdout",
     "output_type": "stream",
     "text": [
      "✅ UP000019812: 4354 proteins parsed\n"
     ]
    },
    {
     "name": "stderr",
     "output_type": "stream",
     "text": [
      "  5%|▌         | 12/237 [01:22<25:53,  6.90s/it]"
     ]
    },
    {
     "name": "stdout",
     "output_type": "stream",
     "text": [
      "✅ UP000192075: 4586 proteins parsed\n"
     ]
    },
    {
     "name": "stderr",
     "output_type": "stream",
     "text": [
      "  5%|▌         | 13/237 [01:27<24:11,  6.48s/it]"
     ]
    },
    {
     "name": "stdout",
     "output_type": "stream",
     "text": [
      "✅ UP000292226: 3169 proteins parsed\n"
     ]
    },
    {
     "name": "stderr",
     "output_type": "stream",
     "text": [
      "  6%|▌         | 14/237 [01:32<21:59,  5.92s/it]"
     ]
    },
    {
     "name": "stdout",
     "output_type": "stream",
     "text": [
      "✅ UP000001629: 2841 proteins parsed\n"
     ]
    },
    {
     "name": "stderr",
     "output_type": "stream",
     "text": [
      "  6%|▋         | 15/237 [01:39<22:50,  6.17s/it]"
     ]
    },
    {
     "name": "stdout",
     "output_type": "stream",
     "text": [
      "✅ UP000001660: 4263 proteins parsed\n"
     ]
    },
    {
     "name": "stderr",
     "output_type": "stream",
     "text": [
      "  7%|▋         | 16/237 [01:49<26:59,  7.33s/it]"
     ]
    },
    {
     "name": "stdout",
     "output_type": "stream",
     "text": [
      "✅ UP000293802: 5998 proteins parsed\n"
     ]
    },
    {
     "name": "stderr",
     "output_type": "stream",
     "text": [
      "  7%|▋         | 17/237 [01:53<23:02,  6.28s/it]"
     ]
    },
    {
     "name": "stdout",
     "output_type": "stream",
     "text": [
      "✅ UP000035517: 2299 proteins parsed\n"
     ]
    },
    {
     "name": "stderr",
     "output_type": "stream",
     "text": [
      "  8%|▊         | 18/237 [02:00<23:34,  6.46s/it]"
     ]
    },
    {
     "name": "stdout",
     "output_type": "stream",
     "text": [
      "✅ UP000509427: 4173 proteins parsed\n"
     ]
    },
    {
     "name": "stderr",
     "output_type": "stream",
     "text": [
      "  8%|▊         | 19/237 [02:05<22:28,  6.19s/it]"
     ]
    },
    {
     "name": "stdout",
     "output_type": "stream",
     "text": [
      "✅ UP000702847: 2957 proteins parsed\n"
     ]
    },
    {
     "name": "stderr",
     "output_type": "stream",
     "text": [
      "  8%|▊         | 20/237 [02:12<23:36,  6.53s/it]"
     ]
    },
    {
     "name": "stdout",
     "output_type": "stream",
     "text": [
      "✅ UP000020218: 3906 proteins parsed\n"
     ]
    },
    {
     "name": "stderr",
     "output_type": "stream",
     "text": [
      "  9%|▉         | 21/237 [02:18<22:21,  6.21s/it]"
     ]
    },
    {
     "name": "stdout",
     "output_type": "stream",
     "text": [
      "✅ UP000181998: 3133 proteins parsed\n"
     ]
    },
    {
     "name": "stderr",
     "output_type": "stream",
     "text": [
      "  9%|▉         | 22/237 [04:32<2:39:35, 44.54s/it]"
     ]
    },
    {
     "name": "stdout",
     "output_type": "stream",
     "text": [
      "✅ UP000005640: 83374 proteins parsed\n"
     ]
    },
    {
     "name": "stderr",
     "output_type": "stream",
     "text": [
      " 10%|▉         | 23/237 [04:40<1:59:31, 33.51s/it]"
     ]
    },
    {
     "name": "stdout",
     "output_type": "stream",
     "text": [
      "✅ UP000674002: 4743 proteins parsed\n"
     ]
    },
    {
     "name": "stderr",
     "output_type": "stream",
     "text": [
      " 10%|█         | 24/237 [04:44<1:27:58, 24.78s/it]"
     ]
    },
    {
     "name": "stdout",
     "output_type": "stream",
     "text": [
      "✅ UP000672756: 2893 proteins parsed\n"
     ]
    },
    {
     "name": "stderr",
     "output_type": "stream",
     "text": [
      " 11%|█         | 25/237 [04:55<1:12:36, 20.55s/it]"
     ]
    },
    {
     "name": "stdout",
     "output_type": "stream",
     "text": [
      "✅ UP000315010: 7247 proteins parsed\n"
     ]
    },
    {
     "name": "stderr",
     "output_type": "stream",
     "text": [
      " 11%|█         | 26/237 [04:59<54:54, 15.62s/it]  "
     ]
    },
    {
     "name": "stdout",
     "output_type": "stream",
     "text": [
      "✅ UP000681864: 2157 proteins parsed\n"
     ]
    },
    {
     "name": "stderr",
     "output_type": "stream",
     "text": [
      " 11%|█▏        | 27/237 [05:01<40:52, 11.68s/it]"
     ]
    },
    {
     "name": "stdout",
     "output_type": "stream",
     "text": [
      "✅ UP000221516: 1751 proteins parsed\n"
     ]
    },
    {
     "name": "stderr",
     "output_type": "stream",
     "text": [
      " 12%|█▏        | 28/237 [05:08<35:30, 10.19s/it]"
     ]
    },
    {
     "name": "stdout",
     "output_type": "stream",
     "text": [
      "✅ UP000439117: 3999 proteins parsed\n"
     ]
    },
    {
     "name": "stderr",
     "output_type": "stream",
     "text": [
      " 12%|█▏        | 29/237 [05:11<27:58,  8.07s/it]"
     ]
    },
    {
     "name": "stdout",
     "output_type": "stream",
     "text": [
      "✅ UP000222210: 1320 proteins parsed\n"
     ]
    },
    {
     "name": "stderr",
     "output_type": "stream",
     "text": [
      " 13%|█▎        | 30/237 [05:19<27:06,  7.86s/it]"
     ]
    },
    {
     "name": "stdout",
     "output_type": "stream",
     "text": [
      "✅ UP000035760: 4014 proteins parsed\n"
     ]
    },
    {
     "name": "stderr",
     "output_type": "stream",
     "text": [
      " 13%|█▎        | 31/237 [05:26<26:57,  7.85s/it]"
     ]
    },
    {
     "name": "stdout",
     "output_type": "stream",
     "text": [
      "✅ UP000199600: 3621 proteins parsed\n"
     ]
    },
    {
     "name": "stderr",
     "output_type": "stream",
     "text": [
      " 14%|█▎        | 32/237 [05:35<27:26,  8.03s/it]"
     ]
    },
    {
     "name": "stdout",
     "output_type": "stream",
     "text": [
      "✅ UP000019184: 4763 proteins parsed\n"
     ]
    },
    {
     "name": "stderr",
     "output_type": "stream",
     "text": [
      " 14%|█▍        | 33/237 [05:43<27:46,  8.17s/it]"
     ]
    },
    {
     "name": "stdout",
     "output_type": "stream",
     "text": [
      "✅ UP000020226: 4767 proteins parsed\n"
     ]
    },
    {
     "name": "stderr",
     "output_type": "stream",
     "text": [
      " 14%|█▍        | 34/237 [05:50<26:25,  7.81s/it]"
     ]
    },
    {
     "name": "stdout",
     "output_type": "stream",
     "text": [
      "✅ UP000318368: 3738 proteins parsed\n"
     ]
    },
    {
     "name": "stderr",
     "output_type": "stream",
     "text": [
      " 15%|█▍        | 35/237 [05:57<25:03,  7.44s/it]"
     ]
    },
    {
     "name": "stdout",
     "output_type": "stream",
     "text": [
      "✅ UP000253831: 3943 proteins parsed\n"
     ]
    },
    {
     "name": "stderr",
     "output_type": "stream",
     "text": [
      " 15%|█▌        | 36/237 [06:03<23:27,  7.00s/it]"
     ]
    },
    {
     "name": "stdout",
     "output_type": "stream",
     "text": [
      "✅ UP000664181: 2725 proteins parsed\n"
     ]
    },
    {
     "name": "stderr",
     "output_type": "stream",
     "text": [
      " 16%|█▌        | 37/237 [06:08<21:59,  6.60s/it]"
     ]
    },
    {
     "name": "stdout",
     "output_type": "stream",
     "text": [
      "✅ UP000676034: 3047 proteins parsed\n"
     ]
    },
    {
     "name": "stderr",
     "output_type": "stream",
     "text": [
      " 16%|█▌        | 38/237 [06:17<23:35,  7.11s/it]"
     ]
    },
    {
     "name": "stdout",
     "output_type": "stream",
     "text": [
      "✅ UP000247367: 4330 proteins parsed\n"
     ]
    },
    {
     "name": "stderr",
     "output_type": "stream",
     "text": [
      " 16%|█▋        | 39/237 [06:23<22:37,  6.86s/it]"
     ]
    },
    {
     "name": "stdout",
     "output_type": "stream",
     "text": [
      "✅ UP000501891: 3265 proteins parsed\n"
     ]
    },
    {
     "name": "stderr",
     "output_type": "stream",
     "text": [
      " 17%|█▋        | 40/237 [06:26<18:43,  5.70s/it]"
     ]
    },
    {
     "name": "stdout",
     "output_type": "stream",
     "text": [
      "✅ UP000678867: 1182 proteins parsed\n"
     ]
    },
    {
     "name": "stderr",
     "output_type": "stream",
     "text": [
      " 17%|█▋        | 41/237 [08:18<2:02:20, 37.45s/it]"
     ]
    },
    {
     "name": "stdout",
     "output_type": "stream",
     "text": [
      "✅ UP000002277: 48769 proteins parsed\n"
     ]
    },
    {
     "name": "stderr",
     "output_type": "stream",
     "text": [
      " 18%|█▊        | 42/237 [08:22<1:29:41, 27.60s/it]"
     ]
    },
    {
     "name": "stdout",
     "output_type": "stream",
     "text": [
      "✅ UP000000429: 1554 proteins parsed\n"
     ]
    },
    {
     "name": "stderr",
     "output_type": "stream",
     "text": [
      " 18%|█▊        | 43/237 [08:40<1:19:27, 24.58s/it]"
     ]
    },
    {
     "name": "stdout",
     "output_type": "stream",
     "text": [
      "✅ UP000018524: 7026 proteins parsed\n"
     ]
    },
    {
     "name": "stderr",
     "output_type": "stream",
     "text": [
      " 19%|█▊        | 44/237 [08:49<1:04:00, 19.90s/it]"
     ]
    },
    {
     "name": "stdout",
     "output_type": "stream",
     "text": [
      "✅ UP000679647: 3214 proteins parsed\n"
     ]
    },
    {
     "name": "stderr",
     "output_type": "stream",
     "text": [
      " 19%|█▉        | 45/237 [09:04<59:38, 18.64s/it]  "
     ]
    },
    {
     "name": "stdout",
     "output_type": "stream",
     "text": [
      "✅ UP000291769: 7151 proteins parsed\n"
     ]
    },
    {
     "name": "stderr",
     "output_type": "stream",
     "text": [
      " 19%|█▉        | 46/237 [09:12<48:51, 15.35s/it]"
     ]
    },
    {
     "name": "stdout",
     "output_type": "stream",
     "text": [
      "✅ UP000641280: 3875 proteins parsed\n"
     ]
    },
    {
     "name": "stderr",
     "output_type": "stream",
     "text": [
      " 20%|█▉        | 47/237 [09:21<42:39, 13.47s/it]"
     ]
    },
    {
     "name": "stdout",
     "output_type": "stream",
     "text": [
      "✅ UP000315748: 4285 proteins parsed\n"
     ]
    },
    {
     "name": "stderr",
     "output_type": "stream",
     "text": [
      " 20%|██        | 48/237 [09:28<35:59, 11.42s/it]"
     ]
    },
    {
     "name": "stdout",
     "output_type": "stream",
     "text": [
      "✅ UP000678872: 2809 proteins parsed\n"
     ]
    },
    {
     "name": "stderr",
     "output_type": "stream",
     "text": [
      " 21%|██        | 49/237 [09:33<29:54,  9.54s/it]"
     ]
    },
    {
     "name": "stdout",
     "output_type": "stream",
     "text": [
      "✅ UP000237592: 1970 proteins parsed\n"
     ]
    },
    {
     "name": "stderr",
     "output_type": "stream",
     "text": [
      " 21%|██        | 50/237 [09:47<34:14, 10.99s/it]"
     ]
    },
    {
     "name": "stdout",
     "output_type": "stream",
     "text": [
      "✅ UP000438537: 7065 proteins parsed\n"
     ]
    },
    {
     "name": "stderr",
     "output_type": "stream",
     "text": [
      " 22%|██▏       | 51/237 [09:57<32:27, 10.47s/it]"
     ]
    },
    {
     "name": "stdout",
     "output_type": "stream",
     "text": [
      "✅ UP000226672: 5177 proteins parsed\n"
     ]
    },
    {
     "name": "stderr",
     "output_type": "stream",
     "text": [
      " 22%|██▏       | 52/237 [10:09<33:50, 10.98s/it]"
     ]
    },
    {
     "name": "stdout",
     "output_type": "stream",
     "text": [
      "✅ UP000199005: 4809 proteins parsed\n"
     ]
    },
    {
     "name": "stderr",
     "output_type": "stream",
     "text": [
      " 22%|██▏       | 53/237 [10:17<30:49, 10.05s/it]"
     ]
    },
    {
     "name": "stdout",
     "output_type": "stream",
     "text": [
      "✅ UP000718281: 2924 proteins parsed\n"
     ]
    },
    {
     "name": "stderr",
     "output_type": "stream",
     "text": [
      " 23%|██▎       | 54/237 [10:23<26:48,  8.79s/it]"
     ]
    },
    {
     "name": "stdout",
     "output_type": "stream",
     "text": [
      "✅ UP001147470: 3043 proteins parsed\n"
     ]
    },
    {
     "name": "stderr",
     "output_type": "stream",
     "text": [
      " 23%|██▎       | 55/237 [10:30<25:13,  8.32s/it]"
     ]
    },
    {
     "name": "stdout",
     "output_type": "stream",
     "text": [
      "✅ UP000663379: 3243 proteins parsed\n"
     ]
    },
    {
     "name": "stderr",
     "output_type": "stream",
     "text": [
      " 24%|██▎       | 56/237 [10:40<27:08,  9.00s/it]"
     ]
    },
    {
     "name": "stdout",
     "output_type": "stream",
     "text": [
      "✅ UP000478367: 4822 proteins parsed\n"
     ]
    },
    {
     "name": "stderr",
     "output_type": "stream",
     "text": [
      " 24%|██▍       | 57/237 [10:48<25:44,  8.58s/it]"
     ]
    },
    {
     "name": "stdout",
     "output_type": "stream",
     "text": [
      "✅ UP000293149: 3060 proteins parsed\n"
     ]
    },
    {
     "name": "stderr",
     "output_type": "stream",
     "text": [
      " 24%|██▍       | 58/237 [10:51<20:18,  6.81s/it]"
     ]
    },
    {
     "name": "stdout",
     "output_type": "stream",
     "text": [
      "✅ UP000054262: 1336 proteins parsed\n"
     ]
    },
    {
     "name": "stderr",
     "output_type": "stream",
     "text": [
      " 25%|██▍       | 59/237 [11:04<25:38,  8.64s/it]"
     ]
    },
    {
     "name": "stdout",
     "output_type": "stream",
     "text": [
      "✅ UP000221358: 6021 proteins parsed\n"
     ]
    },
    {
     "name": "stderr",
     "output_type": "stream",
     "text": [
      " 25%|██▌       | 60/237 [11:12<25:32,  8.66s/it]"
     ]
    },
    {
     "name": "stdout",
     "output_type": "stream",
     "text": [
      "✅ UP000587070: 3536 proteins parsed\n"
     ]
    },
    {
     "name": "stderr",
     "output_type": "stream",
     "text": [
      " 26%|██▌       | 61/237 [11:20<24:50,  8.47s/it]"
     ]
    },
    {
     "name": "stdout",
     "output_type": "stream",
     "text": [
      "✅ UP000236646: 3591 proteins parsed\n"
     ]
    },
    {
     "name": "stderr",
     "output_type": "stream",
     "text": [
      " 26%|██▌       | 62/237 [11:27<23:29,  8.05s/it]"
     ]
    },
    {
     "name": "stdout",
     "output_type": "stream",
     "text": [
      "✅ UP000552234: 3458 proteins parsed\n"
     ]
    },
    {
     "name": "stderr",
     "output_type": "stream",
     "text": [
      " 27%|██▋       | 63/237 [11:35<23:21,  8.06s/it]"
     ]
    },
    {
     "name": "stdout",
     "output_type": "stream",
     "text": [
      "✅ UP000886602: 3924 proteins parsed\n"
     ]
    },
    {
     "name": "stderr",
     "output_type": "stream",
     "text": [
      " 27%|██▋       | 64/237 [11:43<23:14,  8.06s/it]"
     ]
    },
    {
     "name": "stdout",
     "output_type": "stream",
     "text": [
      "✅ UP000664716: 3155 proteins parsed\n"
     ]
    },
    {
     "name": "stderr",
     "output_type": "stream",
     "text": [
      " 27%|██▋       | 65/237 [11:46<18:30,  6.45s/it]"
     ]
    },
    {
     "name": "stdout",
     "output_type": "stream",
     "text": [
      "✅ UP000257775: 1696 proteins parsed\n"
     ]
    },
    {
     "name": "stderr",
     "output_type": "stream",
     "text": [
      " 28%|██▊       | 66/237 [11:56<20:54,  7.34s/it]"
     ]
    },
    {
     "name": "stdout",
     "output_type": "stream",
     "text": [
      "✅ UP000028843: 4034 proteins parsed\n"
     ]
    },
    {
     "name": "stderr",
     "output_type": "stream",
     "text": [
      " 28%|██▊       | 67/237 [12:05<22:26,  7.92s/it]"
     ]
    },
    {
     "name": "stdout",
     "output_type": "stream",
     "text": [
      "✅ UP000248168: 3885 proteins parsed\n"
     ]
    },
    {
     "name": "stderr",
     "output_type": "stream",
     "text": [
      " 29%|██▊       | 68/237 [12:09<19:15,  6.84s/it]"
     ]
    },
    {
     "name": "stdout",
     "output_type": "stream",
     "text": [
      "✅ UP001064802: 1110 proteins parsed\n"
     ]
    },
    {
     "name": "stderr",
     "output_type": "stream",
     "text": [
      " 29%|██▉       | 69/237 [12:17<19:55,  7.12s/it]"
     ]
    },
    {
     "name": "stdout",
     "output_type": "stream",
     "text": [
      "✅ UP000251502: 3381 proteins parsed\n"
     ]
    },
    {
     "name": "stderr",
     "output_type": "stream",
     "text": [
      " 30%|██▉       | 70/237 [12:22<18:31,  6.66s/it]"
     ]
    },
    {
     "name": "stdout",
     "output_type": "stream",
     "text": [
      "✅ UP000002718: 2732 proteins parsed\n"
     ]
    },
    {
     "name": "stderr",
     "output_type": "stream",
     "text": [
      " 30%|██▉       | 71/237 [12:32<20:31,  7.42s/it]"
     ]
    },
    {
     "name": "stdout",
     "output_type": "stream",
     "text": [
      "✅ UP000069205: 4733 proteins parsed\n"
     ]
    },
    {
     "name": "stderr",
     "output_type": "stream",
     "text": [
      " 30%|███       | 72/237 [12:41<22:05,  8.03s/it]"
     ]
    },
    {
     "name": "stdout",
     "output_type": "stream",
     "text": [
      "✅ UP000664142: 3884 proteins parsed\n"
     ]
    },
    {
     "name": "stderr",
     "output_type": "stream",
     "text": [
      " 31%|███       | 73/237 [12:48<20:42,  7.58s/it]"
     ]
    },
    {
     "name": "stdout",
     "output_type": "stream",
     "text": [
      "✅ UP000245904: 2171 proteins parsed\n"
     ]
    },
    {
     "name": "stderr",
     "output_type": "stream",
     "text": [
      " 31%|███       | 74/237 [12:52<17:50,  6.57s/it]"
     ]
    },
    {
     "name": "stdout",
     "output_type": "stream",
     "text": [
      "✅ UP000681244: 1857 proteins parsed\n"
     ]
    },
    {
     "name": "stderr",
     "output_type": "stream",
     "text": [
      " 32%|███▏      | 75/237 [12:59<18:09,  6.73s/it]"
     ]
    },
    {
     "name": "stdout",
     "output_type": "stream",
     "text": [
      "✅ UP000471295: 2903 proteins parsed\n"
     ]
    },
    {
     "name": "stderr",
     "output_type": "stream",
     "text": [
      " 32%|███▏      | 76/237 [13:00<13:27,  5.02s/it]"
     ]
    },
    {
     "name": "stdout",
     "output_type": "stream",
     "text": [
      "✅ UP000002332: 474 proteins parsed\n"
     ]
    },
    {
     "name": "stderr",
     "output_type": "stream",
     "text": [
      " 32%|███▏      | 77/237 [13:20<25:19,  9.50s/it]"
     ]
    },
    {
     "name": "stdout",
     "output_type": "stream",
     "text": [
      "✅ UP000002139: 9320 proteins parsed\n"
     ]
    },
    {
     "name": "stderr",
     "output_type": "stream",
     "text": [
      " 33%|███▎      | 78/237 [13:26<22:20,  8.43s/it]"
     ]
    },
    {
     "name": "stdout",
     "output_type": "stream",
     "text": [
      "✅ UP000681387: 2380 proteins parsed\n"
     ]
    },
    {
     "name": "stderr",
     "output_type": "stream",
     "text": [
      " 33%|███▎      | 79/237 [15:26<1:50:12, 41.85s/it]"
     ]
    },
    {
     "name": "stdout",
     "output_type": "stream",
     "text": [
      "✅ UP000008227: 45672 proteins parsed\n"
     ]
    },
    {
     "name": "stderr",
     "output_type": "stream",
     "text": [
      " 34%|███▍      | 80/237 [15:34<1:22:47, 31.64s/it]"
     ]
    },
    {
     "name": "stdout",
     "output_type": "stream",
     "text": [
      "✅ UP000352687: 4056 proteins parsed\n"
     ]
    },
    {
     "name": "stderr",
     "output_type": "stream",
     "text": [
      " 34%|███▍      | 81/237 [15:41<1:03:45, 24.52s/it]"
     ]
    },
    {
     "name": "stdout",
     "output_type": "stream",
     "text": [
      "✅ UP000233252: 4350 proteins parsed\n"
     ]
    },
    {
     "name": "stderr",
     "output_type": "stream",
     "text": [
      " 35%|███▍      | 82/237 [15:51<51:37, 19.98s/it]  "
     ]
    },
    {
     "name": "stdout",
     "output_type": "stream",
     "text": [
      "✅ UP000316082: 4315 proteins parsed\n"
     ]
    },
    {
     "name": "stderr",
     "output_type": "stream",
     "text": [
      " 35%|███▌      | 83/237 [15:59<41:57, 16.35s/it]"
     ]
    },
    {
     "name": "stdout",
     "output_type": "stream",
     "text": [
      "✅ UP000292155: 4276 proteins parsed\n"
     ]
    },
    {
     "name": "stderr",
     "output_type": "stream",
     "text": [
      " 35%|███▌      | 84/237 [16:02<31:44, 12.45s/it]"
     ]
    },
    {
     "name": "stdout",
     "output_type": "stream",
     "text": [
      "✅ UP000678472: 1846 proteins parsed\n"
     ]
    },
    {
     "name": "stderr",
     "output_type": "stream",
     "text": [
      " 36%|███▌      | 85/237 [16:06<25:01,  9.88s/it]"
     ]
    },
    {
     "name": "stdout",
     "output_type": "stream",
     "text": [
      "✅ UP000221897: 2397 proteins parsed\n"
     ]
    },
    {
     "name": "stderr",
     "output_type": "stream",
     "text": [
      " 36%|███▋      | 86/237 [16:12<22:18,  8.86s/it]"
     ]
    },
    {
     "name": "stdout",
     "output_type": "stream",
     "text": [
      "✅ UP000715424: 3301 proteins parsed\n"
     ]
    },
    {
     "name": "stderr",
     "output_type": "stream",
     "text": [
      " 37%|███▋      | 87/237 [16:19<20:43,  8.29s/it]"
     ]
    },
    {
     "name": "stdout",
     "output_type": "stream",
     "text": [
      "✅ UP000253117: 3729 proteins parsed\n"
     ]
    },
    {
     "name": "stderr",
     "output_type": "stream",
     "text": [
      " 37%|███▋      | 88/237 [16:26<19:40,  7.92s/it]"
     ]
    },
    {
     "name": "stdout",
     "output_type": "stream",
     "text": [
      "✅ UP000306734: 3405 proteins parsed\n"
     ]
    },
    {
     "name": "stderr",
     "output_type": "stream",
     "text": [
      " 38%|███▊      | 89/237 [16:35<19:52,  8.06s/it]"
     ]
    },
    {
     "name": "stdout",
     "output_type": "stream",
     "text": [
      "✅ UP000226579: 3934 proteins parsed\n"
     ]
    },
    {
     "name": "stderr",
     "output_type": "stream",
     "text": [
      " 38%|███▊      | 90/237 [16:43<19:46,  8.07s/it]"
     ]
    },
    {
     "name": "stdout",
     "output_type": "stream",
     "text": [
      "✅ UP000501139: 4311 proteins parsed\n"
     ]
    },
    {
     "name": "stderr",
     "output_type": "stream",
     "text": [
      " 38%|███▊      | 91/237 [16:50<19:05,  7.84s/it]"
     ]
    },
    {
     "name": "stdout",
     "output_type": "stream",
     "text": [
      "✅ UP000070186: 3886 proteins parsed\n"
     ]
    },
    {
     "name": "stderr",
     "output_type": "stream",
     "text": [
      " 39%|███▉      | 92/237 [16:54<16:08,  6.68s/it]"
     ]
    },
    {
     "name": "stdout",
     "output_type": "stream",
     "text": [
      "✅ UP000318813: 1705 proteins parsed\n"
     ]
    },
    {
     "name": "stderr",
     "output_type": "stream",
     "text": [
      " 39%|███▉      | 93/237 [17:00<15:40,  6.53s/it]"
     ]
    },
    {
     "name": "stdout",
     "output_type": "stream",
     "text": [
      "✅ UP000886689: 2884 proteins parsed\n"
     ]
    },
    {
     "name": "stderr",
     "output_type": "stream",
     "text": [
      " 40%|███▉      | 94/237 [17:14<20:40,  8.67s/it]"
     ]
    },
    {
     "name": "stdout",
     "output_type": "stream",
     "text": [
      "✅ UP000051195: 5611 proteins parsed\n"
     ]
    },
    {
     "name": "stderr",
     "output_type": "stream",
     "text": [
      " 40%|████      | 95/237 [17:20<18:41,  7.90s/it]"
     ]
    },
    {
     "name": "stdout",
     "output_type": "stream",
     "text": [
      "✅ UP000510829: 3064 proteins parsed\n"
     ]
    },
    {
     "name": "stderr",
     "output_type": "stream",
     "text": [
      " 41%|████      | 96/237 [17:29<19:11,  8.17s/it]"
     ]
    },
    {
     "name": "stdout",
     "output_type": "stream",
     "text": [
      "✅ UP000198736: 4434 proteins parsed\n"
     ]
    },
    {
     "name": "stderr",
     "output_type": "stream",
     "text": [
      " 41%|████      | 97/237 [17:33<16:16,  6.97s/it]"
     ]
    },
    {
     "name": "stdout",
     "output_type": "stream",
     "text": [
      "✅ UP000681675: 1778 proteins parsed\n"
     ]
    },
    {
     "name": "stderr",
     "output_type": "stream",
     "text": [
      " 41%|████▏     | 98/237 [17:43<17:54,  7.73s/it]"
     ]
    },
    {
     "name": "stdout",
     "output_type": "stream",
     "text": [
      "✅ UP000807785: 4148 proteins parsed\n"
     ]
    },
    {
     "name": "stderr",
     "output_type": "stream",
     "text": [
      " 42%|████▏     | 99/237 [17:48<16:15,  7.07s/it]"
     ]
    },
    {
     "name": "stdout",
     "output_type": "stream",
     "text": [
      "✅ UP000192779: 4107 proteins parsed\n"
     ]
    },
    {
     "name": "stderr",
     "output_type": "stream",
     "text": [
      " 42%|████▏     | 100/237 [17:53<14:18,  6.26s/it]"
     ]
    },
    {
     "name": "stdout",
     "output_type": "stream",
     "text": [
      "✅ UP000655701: 2313 proteins parsed\n"
     ]
    },
    {
     "name": "stderr",
     "output_type": "stream",
     "text": [
      " 43%|████▎     | 101/237 [17:55<11:25,  5.04s/it]"
     ]
    },
    {
     "name": "stdout",
     "output_type": "stream",
     "text": [
      "✅ UP000228720: 1245 proteins parsed\n"
     ]
    },
    {
     "name": "stderr",
     "output_type": "stream",
     "text": [
      " 43%|████▎     | 102/237 [18:03<13:12,  5.87s/it]"
     ]
    },
    {
     "name": "stdout",
     "output_type": "stream",
     "text": [
      "✅ UP000765620: 4849 proteins parsed\n"
     ]
    },
    {
     "name": "stderr",
     "output_type": "stream",
     "text": [
      " 43%|████▎     | 103/237 [18:11<15:09,  6.79s/it]"
     ]
    },
    {
     "name": "stdout",
     "output_type": "stream",
     "text": [
      "✅ UP000318422: 3918 proteins parsed\n"
     ]
    },
    {
     "name": "stderr",
     "output_type": "stream",
     "text": [
      " 44%|████▍     | 104/237 [18:17<14:29,  6.53s/it]"
     ]
    },
    {
     "name": "stdout",
     "output_type": "stream",
     "text": [
      "✅ UP000198612: 2844 proteins parsed\n"
     ]
    },
    {
     "name": "stderr",
     "output_type": "stream",
     "text": [
      " 44%|████▍     | 105/237 [18:24<14:08,  6.43s/it]"
     ]
    },
    {
     "name": "stdout",
     "output_type": "stream",
     "text": [
      "✅ UP000593737: 4147 proteins parsed\n"
     ]
    },
    {
     "name": "stderr",
     "output_type": "stream",
     "text": [
      " 45%|████▍     | 106/237 [18:28<12:38,  5.79s/it]"
     ]
    },
    {
     "name": "stdout",
     "output_type": "stream",
     "text": [
      "✅ UP001177579: 2655 proteins parsed\n"
     ]
    },
    {
     "name": "stderr",
     "output_type": "stream",
     "text": [
      " 45%|████▌     | 107/237 [18:35<13:11,  6.09s/it]"
     ]
    },
    {
     "name": "stdout",
     "output_type": "stream",
     "text": [
      "✅ UP000192740: 3845 proteins parsed\n"
     ]
    },
    {
     "name": "stderr",
     "output_type": "stream",
     "text": [
      " 46%|████▌     | 108/237 [19:38<49:55, 23.22s/it]"
     ]
    },
    {
     "name": "stdout",
     "output_type": "stream",
     "text": [
      "✅ UP000694564: 33006 proteins parsed\n"
     ]
    },
    {
     "name": "stderr",
     "output_type": "stream",
     "text": [
      " 46%|████▌     | 109/237 [19:40<36:09, 16.95s/it]"
     ]
    },
    {
     "name": "stdout",
     "output_type": "stream",
     "text": [
      "✅ UP000095024: 1559 proteins parsed\n"
     ]
    },
    {
     "name": "stderr",
     "output_type": "stream",
     "text": [
      " 46%|████▋     | 110/237 [19:46<29:05, 13.74s/it]"
     ]
    },
    {
     "name": "stdout",
     "output_type": "stream",
     "text": [
      "✅ UP000270626: 3285 proteins parsed\n"
     ]
    },
    {
     "name": "stderr",
     "output_type": "stream",
     "text": [
      " 47%|████▋     | 111/237 [19:54<24:50, 11.83s/it]"
     ]
    },
    {
     "name": "stdout",
     "output_type": "stream",
     "text": [
      "✅ UP000233586: 4082 proteins parsed\n"
     ]
    },
    {
     "name": "stderr",
     "output_type": "stream",
     "text": [
      " 47%|████▋     | 112/237 [19:59<20:38,  9.91s/it]"
     ]
    },
    {
     "name": "stdout",
     "output_type": "stream",
     "text": [
      "✅ UP000031969: 2930 proteins parsed\n"
     ]
    },
    {
     "name": "stderr",
     "output_type": "stream",
     "text": [
      " 48%|████▊     | 113/237 [20:07<19:22,  9.38s/it]"
     ]
    },
    {
     "name": "stdout",
     "output_type": "stream",
     "text": [
      "✅ UP000319502: 4098 proteins parsed\n"
     ]
    },
    {
     "name": "stderr",
     "output_type": "stream",
     "text": [
      " 48%|████▊     | 114/237 [20:15<18:19,  8.94s/it]"
     ]
    },
    {
     "name": "stdout",
     "output_type": "stream",
     "text": [
      "✅ UP000192042: 4147 proteins parsed\n"
     ]
    },
    {
     "name": "stderr",
     "output_type": "stream",
     "text": [
      " 49%|████▊     | 115/237 [20:21<16:23,  8.06s/it]"
     ]
    },
    {
     "name": "stdout",
     "output_type": "stream",
     "text": [
      "✅ UP000244972: 3413 proteins parsed\n"
     ]
    },
    {
     "name": "stderr",
     "output_type": "stream",
     "text": [
      " 49%|████▉     | 116/237 [20:28<15:24,  7.64s/it]"
     ]
    },
    {
     "name": "stdout",
     "output_type": "stream",
     "text": [
      "✅ UP000678348: 2755 proteins parsed\n"
     ]
    },
    {
     "name": "stderr",
     "output_type": "stream",
     "text": [
      " 49%|████▉     | 117/237 [20:31<12:22,  6.19s/it]"
     ]
    },
    {
     "name": "stdout",
     "output_type": "stream",
     "text": [
      "✅ UP000668061: 1015 proteins parsed\n"
     ]
    },
    {
     "name": "stderr",
     "output_type": "stream",
     "text": [
      " 50%|████▉     | 118/237 [20:38<13:01,  6.57s/it]"
     ]
    },
    {
     "name": "stdout",
     "output_type": "stream",
     "text": [
      "✅ UP000241912: 3283 proteins parsed\n"
     ]
    },
    {
     "name": "stderr",
     "output_type": "stream",
     "text": [
      " 50%|█████     | 119/237 [20:46<13:37,  6.93s/it]"
     ]
    },
    {
     "name": "stdout",
     "output_type": "stream",
     "text": [
      "✅ UP000265961: 4376 proteins parsed\n"
     ]
    },
    {
     "name": "stderr",
     "output_type": "stream",
     "text": [
      " 51%|█████     | 120/237 [20:52<12:41,  6.50s/it]"
     ]
    },
    {
     "name": "stdout",
     "output_type": "stream",
     "text": [
      "✅ UP000192864: 2533 proteins parsed\n"
     ]
    },
    {
     "name": "stderr",
     "output_type": "stream",
     "text": [
      " 51%|█████     | 121/237 [20:56<11:16,  5.83s/it]"
     ]
    },
    {
     "name": "stdout",
     "output_type": "stream",
     "text": [
      "✅ UP000675882: 2174 proteins parsed\n"
     ]
    },
    {
     "name": "stderr",
     "output_type": "stream",
     "text": [
      " 51%|█████▏    | 122/237 [20:59<09:25,  4.92s/it]"
     ]
    },
    {
     "name": "stdout",
     "output_type": "stream",
     "text": [
      "✅ UP000218611: 1543 proteins parsed\n"
     ]
    },
    {
     "name": "stderr",
     "output_type": "stream",
     "text": [
      " 52%|█████▏    | 123/237 [21:02<08:29,  4.47s/it]"
     ]
    },
    {
     "name": "stdout",
     "output_type": "stream",
     "text": [
      "✅ UP000217535: 2170 proteins parsed\n"
     ]
    },
    {
     "name": "stderr",
     "output_type": "stream",
     "text": [
      " 52%|█████▏    | 124/237 [21:07<08:45,  4.65s/it]"
     ]
    },
    {
     "name": "stdout",
     "output_type": "stream",
     "text": [
      "✅ UP000257259: 3011 proteins parsed\n"
     ]
    },
    {
     "name": "stderr",
     "output_type": "stream",
     "text": [
      " 53%|█████▎    | 125/237 [21:12<08:41,  4.66s/it]"
     ]
    },
    {
     "name": "stdout",
     "output_type": "stream",
     "text": [
      "✅ UP000234782: 3279 proteins parsed\n"
     ]
    },
    {
     "name": "stderr",
     "output_type": "stream",
     "text": [
      " 53%|█████▎    | 126/237 [21:21<11:08,  6.02s/it]"
     ]
    },
    {
     "name": "stdout",
     "output_type": "stream",
     "text": [
      "✅ UP001179121: 4561 proteins parsed\n"
     ]
    },
    {
     "name": "stderr",
     "output_type": "stream",
     "text": [
      " 54%|█████▎    | 127/237 [21:28<11:28,  6.26s/it]"
     ]
    },
    {
     "name": "stdout",
     "output_type": "stream",
     "text": [
      "✅ UP000198607: 4057 proteins parsed\n"
     ]
    },
    {
     "name": "stderr",
     "output_type": "stream",
     "text": [
      " 54%|█████▍    | 128/237 [21:33<10:56,  6.03s/it]"
     ]
    },
    {
     "name": "stdout",
     "output_type": "stream",
     "text": [
      "✅ UP000187526: 3392 proteins parsed\n"
     ]
    },
    {
     "name": "stderr",
     "output_type": "stream",
     "text": [
      " 54%|█████▍    | 129/237 [21:37<09:24,  5.23s/it]"
     ]
    },
    {
     "name": "stdout",
     "output_type": "stream",
     "text": [
      "✅ UP000237298: 2035 proteins parsed\n"
     ]
    },
    {
     "name": "stderr",
     "output_type": "stream",
     "text": [
      " 55%|█████▍    | 130/237 [21:43<09:49,  5.51s/it]"
     ]
    },
    {
     "name": "stdout",
     "output_type": "stream",
     "text": [
      "✅ UP000432822: 3554 proteins parsed\n"
     ]
    },
    {
     "name": "stderr",
     "output_type": "stream",
     "text": [
      " 55%|█████▌    | 131/237 [21:50<10:49,  6.12s/it]"
     ]
    },
    {
     "name": "stdout",
     "output_type": "stream",
     "text": [
      "✅ UP000013140: 4268 proteins parsed\n"
     ]
    },
    {
     "name": "stderr",
     "output_type": "stream",
     "text": [
      " 56%|█████▌    | 132/237 [21:54<09:29,  5.42s/it]"
     ]
    },
    {
     "name": "stdout",
     "output_type": "stream",
     "text": [
      "✅ UP000063254: 2804 proteins parsed\n"
     ]
    },
    {
     "name": "stderr",
     "output_type": "stream",
     "text": [
      " 56%|█████▌    | 133/237 [23:14<48:12, 27.81s/it]"
     ]
    },
    {
     "name": "stdout",
     "output_type": "stream",
     "text": [
      "✅ UP000001519: 44723 proteins parsed\n"
     ]
    },
    {
     "name": "stderr",
     "output_type": "stream",
     "text": [
      " 57%|█████▋    | 134/237 [23:21<37:06, 21.62s/it]"
     ]
    },
    {
     "name": "stdout",
     "output_type": "stream",
     "text": [
      "✅ UP000002186: 3927 proteins parsed\n"
     ]
    },
    {
     "name": "stderr",
     "output_type": "stream",
     "text": [
      " 57%|█████▋    | 135/237 [23:26<28:16, 16.63s/it]"
     ]
    },
    {
     "name": "stdout",
     "output_type": "stream",
     "text": [
      "✅ UP000683141: 2617 proteins parsed\n"
     ]
    },
    {
     "name": "stderr",
     "output_type": "stream",
     "text": [
      " 57%|█████▋    | 136/237 [23:32<22:38, 13.45s/it]"
     ]
    },
    {
     "name": "stdout",
     "output_type": "stream",
     "text": [
      "✅ UP000291219: 4191 proteins parsed\n"
     ]
    },
    {
     "name": "stderr",
     "output_type": "stream",
     "text": [
      " 58%|█████▊    | 137/237 [23:42<20:23, 12.24s/it]"
     ]
    },
    {
     "name": "stdout",
     "output_type": "stream",
     "text": [
      "✅ UP000013047: 4836 proteins parsed\n"
     ]
    },
    {
     "name": "stderr",
     "output_type": "stream",
     "text": [
      " 58%|█████▊    | 138/237 [23:46<16:16,  9.87s/it]"
     ]
    },
    {
     "name": "stdout",
     "output_type": "stream",
     "text": [
      "✅ UP000178516: 2322 proteins parsed\n"
     ]
    },
    {
     "name": "stderr",
     "output_type": "stream",
     "text": [
      " 59%|█████▊    | 139/237 [23:54<15:18,  9.37s/it]"
     ]
    },
    {
     "name": "stdout",
     "output_type": "stream",
     "text": [
      "✅ UP000292783: 4688 proteins parsed\n"
     ]
    },
    {
     "name": "stderr",
     "output_type": "stream",
     "text": [
      " 59%|█████▉    | 140/237 [24:06<16:25, 10.16s/it]"
     ]
    },
    {
     "name": "stdout",
     "output_type": "stream",
     "text": [
      "✅ UP000245990: 6454 proteins parsed\n"
     ]
    },
    {
     "name": "stderr",
     "output_type": "stream",
     "text": [
      " 59%|█████▉    | 141/237 [24:13<14:33,  9.10s/it]"
     ]
    },
    {
     "name": "stdout",
     "output_type": "stream",
     "text": [
      "✅ UP000248024: 3167 proteins parsed\n"
     ]
    },
    {
     "name": "stderr",
     "output_type": "stream",
     "text": [
      " 60%|█████▉    | 142/237 [24:20<13:32,  8.55s/it]"
     ]
    },
    {
     "name": "stdout",
     "output_type": "stream",
     "text": [
      "✅ UP000468742: 5656 proteins parsed\n"
     ]
    },
    {
     "name": "stderr",
     "output_type": "stream",
     "text": [
      " 60%|██████    | 143/237 [24:22<10:15,  6.55s/it]"
     ]
    },
    {
     "name": "stdout",
     "output_type": "stream",
     "text": [
      "✅ UP000557613: 1047 proteins parsed\n"
     ]
    },
    {
     "name": "stderr",
     "output_type": "stream",
     "text": [
      " 61%|██████    | 144/237 [24:30<10:36,  6.84s/it]"
     ]
    },
    {
     "name": "stdout",
     "output_type": "stream",
     "text": [
      "✅ UP000580043: 5080 proteins parsed\n"
     ]
    },
    {
     "name": "stderr",
     "output_type": "stream",
     "text": [
      " 61%|██████    | 145/237 [24:36<10:10,  6.63s/it]"
     ]
    },
    {
     "name": "stdout",
     "output_type": "stream",
     "text": [
      "✅ UP000267650: 3260 proteins parsed\n"
     ]
    },
    {
     "name": "stderr",
     "output_type": "stream",
     "text": [
      " 62%|██████▏   | 146/237 [24:41<09:34,  6.31s/it]"
     ]
    },
    {
     "name": "stdout",
     "output_type": "stream",
     "text": [
      "✅ UP000192473: 3502 proteins parsed\n"
     ]
    },
    {
     "name": "stderr",
     "output_type": "stream",
     "text": [
      " 62%|██████▏   | 147/237 [24:48<09:39,  6.44s/it]"
     ]
    },
    {
     "name": "stdout",
     "output_type": "stream",
     "text": [
      "✅ UP000473322: 3762 proteins parsed\n"
     ]
    },
    {
     "name": "stderr",
     "output_type": "stream",
     "text": [
      " 62%|██████▏   | 148/237 [24:53<09:04,  6.11s/it]"
     ]
    },
    {
     "name": "stdout",
     "output_type": "stream",
     "text": [
      "✅ UP000199102: 3014 proteins parsed\n"
     ]
    },
    {
     "name": "stderr",
     "output_type": "stream",
     "text": [
      " 63%|██████▎   | 149/237 [24:54<06:42,  4.58s/it]"
     ]
    },
    {
     "name": "stdout",
     "output_type": "stream",
     "text": [
      "✅ UP000326137: 274 proteins parsed\n"
     ]
    },
    {
     "name": "stderr",
     "output_type": "stream",
     "text": [
      " 64%|██████▎   | 151/237 [24:59<04:36,  3.22s/it]"
     ]
    },
    {
     "name": "stdout",
     "output_type": "stream",
     "text": [
      "✅ UP000012063: 2662 proteins parsed\n",
      "✅ UP000288884: 7 proteins parsed\n"
     ]
    },
    {
     "name": "stderr",
     "output_type": "stream",
     "text": [
      " 64%|██████▍   | 152/237 [25:03<05:01,  3.55s/it]"
     ]
    },
    {
     "name": "stdout",
     "output_type": "stream",
     "text": [
      "✅ UP000297111: 1743 proteins parsed\n"
     ]
    },
    {
     "name": "stderr",
     "output_type": "stream",
     "text": [
      " 65%|██████▍   | 153/237 [25:09<05:51,  4.18s/it]"
     ]
    },
    {
     "name": "stdout",
     "output_type": "stream",
     "text": [
      "✅ UP000196124: 2923 proteins parsed\n"
     ]
    },
    {
     "name": "stderr",
     "output_type": "stream",
     "text": [
      " 65%|██████▍   | 154/237 [25:17<07:19,  5.30s/it]"
     ]
    },
    {
     "name": "stdout",
     "output_type": "stream",
     "text": [
      "✅ UP000437123: 4942 proteins parsed\n"
     ]
    },
    {
     "name": "stderr",
     "output_type": "stream",
     "text": [
      " 65%|██████▌   | 155/237 [25:23<07:36,  5.57s/it]"
     ]
    },
    {
     "name": "stdout",
     "output_type": "stream",
     "text": [
      "✅ UP000316214: 4239 proteins parsed\n"
     ]
    },
    {
     "name": "stderr",
     "output_type": "stream",
     "text": [
      " 66%|██████▌   | 156/237 [26:22<29:05, 21.55s/it]"
     ]
    },
    {
     "name": "stdout",
     "output_type": "stream",
     "text": [
      "✅ UP000515126: 38135 proteins parsed\n"
     ]
    },
    {
     "name": "stderr",
     "output_type": "stream",
     "text": [
      " 66%|██████▌   | 157/237 [26:28<22:35, 16.95s/it]"
     ]
    },
    {
     "name": "stdout",
     "output_type": "stream",
     "text": [
      "✅ UP000227043: 4097 proteins parsed\n"
     ]
    },
    {
     "name": "stderr",
     "output_type": "stream",
     "text": [
      " 67%|██████▋   | 158/237 [26:33<17:24, 13.22s/it]"
     ]
    },
    {
     "name": "stdout",
     "output_type": "stream",
     "text": [
      "✅ UP000678406: 3052 proteins parsed\n"
     ]
    },
    {
     "name": "stderr",
     "output_type": "stream",
     "text": [
      " 67%|██████▋   | 159/237 [26:39<14:22, 11.05s/it]"
     ]
    },
    {
     "name": "stdout",
     "output_type": "stream",
     "text": [
      "✅ UP000321694: 3798 proteins parsed\n"
     ]
    },
    {
     "name": "stderr",
     "output_type": "stream",
     "text": [
      " 68%|██████▊   | 160/237 [26:47<12:58, 10.11s/it]"
     ]
    },
    {
     "name": "stdout",
     "output_type": "stream",
     "text": [
      "✅ UP000199032: 4245 proteins parsed\n"
     ]
    },
    {
     "name": "stderr",
     "output_type": "stream",
     "text": [
      " 68%|██████▊   | 161/237 [26:52<11:10,  8.82s/it]"
     ]
    },
    {
     "name": "stdout",
     "output_type": "stream",
     "text": [
      "✅ UP000028638: 4116 proteins parsed\n"
     ]
    },
    {
     "name": "stderr",
     "output_type": "stream",
     "text": [
      " 68%|██████▊   | 162/237 [26:57<09:24,  7.52s/it]"
     ]
    },
    {
     "name": "stdout",
     "output_type": "stream",
     "text": [
      "✅ UP000192458: 2803 proteins parsed\n"
     ]
    },
    {
     "name": "stderr",
     "output_type": "stream",
     "text": [
      " 69%|██████▉   | 163/237 [27:04<09:03,  7.34s/it]"
     ]
    },
    {
     "name": "stdout",
     "output_type": "stream",
     "text": [
      "✅ UP000244930: 4055 proteins parsed\n"
     ]
    },
    {
     "name": "stderr",
     "output_type": "stream",
     "text": [
      " 69%|██████▉   | 164/237 [28:49<44:45, 36.78s/it]"
     ]
    },
    {
     "name": "stdout",
     "output_type": "stream",
     "text": [
      "✅ UP000006718: 44389 proteins parsed\n"
     ]
    },
    {
     "name": "stderr",
     "output_type": "stream",
     "text": [
      " 70%|██████▉   | 165/237 [28:59<34:14, 28.53s/it]"
     ]
    },
    {
     "name": "stdout",
     "output_type": "stream",
     "text": [
      "✅ UP000389128: 4972 proteins parsed\n"
     ]
    },
    {
     "name": "stderr",
     "output_type": "stream",
     "text": [
      " 70%|███████   | 166/237 [29:03<25:10, 21.28s/it]"
     ]
    },
    {
     "name": "stdout",
     "output_type": "stream",
     "text": [
      "✅ UP000226507: 2643 proteins parsed\n"
     ]
    },
    {
     "name": "stderr",
     "output_type": "stream",
     "text": [
      " 70%|███████   | 167/237 [29:10<19:59, 17.13s/it]"
     ]
    },
    {
     "name": "stdout",
     "output_type": "stream",
     "text": [
      "✅ UP000074561: 5385 proteins parsed\n"
     ]
    },
    {
     "name": "stderr",
     "output_type": "stream",
     "text": [
      " 71%|███████   | 168/237 [29:18<16:32, 14.38s/it]"
     ]
    },
    {
     "name": "stdout",
     "output_type": "stream",
     "text": [
      "✅ UP000317813: 4839 proteins parsed\n"
     ]
    },
    {
     "name": "stderr",
     "output_type": "stream",
     "text": [
      " 71%|███████▏  | 169/237 [29:27<14:18, 12.63s/it]"
     ]
    },
    {
     "name": "stdout",
     "output_type": "stream",
     "text": [
      "✅ UP000199533: 3744 proteins parsed\n"
     ]
    },
    {
     "name": "stderr",
     "output_type": "stream",
     "text": [
      " 72%|███████▏  | 170/237 [29:33<12:03, 10.79s/it]"
     ]
    },
    {
     "name": "stdout",
     "output_type": "stream",
     "text": [
      "✅ UP000485501: 3523 proteins parsed\n"
     ]
    },
    {
     "name": "stderr",
     "output_type": "stream",
     "text": [
      " 72%|███████▏  | 171/237 [29:36<09:13,  8.39s/it]"
     ]
    },
    {
     "name": "stdout",
     "output_type": "stream",
     "text": [
      "✅ UP000009077: 1922 proteins parsed\n"
     ]
    },
    {
     "name": "stderr",
     "output_type": "stream",
     "text": [
      " 73%|███████▎  | 172/237 [29:38<07:02,  6.50s/it]"
     ]
    },
    {
     "name": "stdout",
     "output_type": "stream",
     "text": [
      "✅ UP000232361: 1480 proteins parsed\n"
     ]
    },
    {
     "name": "stderr",
     "output_type": "stream",
     "text": [
      " 73%|███████▎  | 173/237 [29:45<06:54,  6.47s/it]"
     ]
    },
    {
     "name": "stdout",
     "output_type": "stream",
     "text": [
      "✅ UP000233401: 3232 proteins parsed\n"
     ]
    },
    {
     "name": "stderr",
     "output_type": "stream",
     "text": [
      " 73%|███████▎  | 174/237 [29:51<06:50,  6.52s/it]"
     ]
    },
    {
     "name": "stdout",
     "output_type": "stream",
     "text": [
      "✅ UP000683229: 3137 proteins parsed\n"
     ]
    },
    {
     "name": "stderr",
     "output_type": "stream",
     "text": [
      " 74%|███████▍  | 175/237 [29:56<06:05,  5.90s/it]"
     ]
    },
    {
     "name": "stdout",
     "output_type": "stream",
     "text": [
      "✅ UP000298402: 1991 proteins parsed\n"
     ]
    },
    {
     "name": "stderr",
     "output_type": "stream",
     "text": [
      " 74%|███████▍  | 176/237 [30:06<07:13,  7.10s/it]"
     ]
    },
    {
     "name": "stdout",
     "output_type": "stream",
     "text": [
      "✅ UP000008392: 4429 proteins parsed\n"
     ]
    },
    {
     "name": "stderr",
     "output_type": "stream",
     "text": [
      " 75%|███████▍  | 177/237 [30:11<06:42,  6.71s/it]"
     ]
    },
    {
     "name": "stdout",
     "output_type": "stream",
     "text": [
      "✅ UP000430327: 2993 proteins parsed\n"
     ]
    },
    {
     "name": "stderr",
     "output_type": "stream",
     "text": [
      " 75%|███████▌  | 178/237 [30:17<06:23,  6.50s/it]"
     ]
    },
    {
     "name": "stdout",
     "output_type": "stream",
     "text": [
      "✅ UP000036902: 3723 proteins parsed\n"
     ]
    },
    {
     "name": "stderr",
     "output_type": "stream",
     "text": [
      " 76%|███████▌  | 179/237 [30:23<06:01,  6.24s/it]"
     ]
    },
    {
     "name": "stdout",
     "output_type": "stream",
     "text": [
      "✅ UP000226925: 3703 proteins parsed\n"
     ]
    },
    {
     "name": "stderr",
     "output_type": "stream",
     "text": [
      " 76%|███████▌  | 180/237 [30:28<05:25,  5.71s/it]"
     ]
    },
    {
     "name": "stdout",
     "output_type": "stream",
     "text": [
      "✅ UP000718593: 3147 proteins parsed\n"
     ]
    },
    {
     "name": "stderr",
     "output_type": "stream",
     "text": [
      " 76%|███████▋  | 181/237 [30:34<05:36,  6.01s/it]"
     ]
    },
    {
     "name": "stdout",
     "output_type": "stream",
     "text": [
      "✅ UP000233557: 3699 proteins parsed\n"
     ]
    },
    {
     "name": "stderr",
     "output_type": "stream",
     "text": [
      " 77%|███████▋  | 182/237 [30:39<05:17,  5.77s/it]"
     ]
    },
    {
     "name": "stdout",
     "output_type": "stream",
     "text": [
      "✅ UP000259012: 3738 proteins parsed\n"
     ]
    },
    {
     "name": "stderr",
     "output_type": "stream",
     "text": [
      " 77%|███████▋  | 183/237 [30:43<04:35,  5.10s/it]"
     ]
    },
    {
     "name": "stdout",
     "output_type": "stream",
     "text": [
      "✅ UP000234749: 2968 proteins parsed\n"
     ]
    },
    {
     "name": "stderr",
     "output_type": "stream",
     "text": [
      " 78%|███████▊  | 184/237 [30:47<04:12,  4.76s/it]"
     ]
    },
    {
     "name": "stdout",
     "output_type": "stream",
     "text": [
      "✅ UP000221591: 2310 proteins parsed\n"
     ]
    },
    {
     "name": "stderr",
     "output_type": "stream",
     "text": [
      " 78%|███████▊  | 186/237 [30:59<04:06,  4.83s/it]"
     ]
    },
    {
     "name": "stdout",
     "output_type": "stream",
     "text": [
      "✅ UP000035170: 6788 proteins parsed\n",
      "❌ Failed to download UP001197729\n"
     ]
    },
    {
     "name": "stderr",
     "output_type": "stream",
     "text": [
      " 79%|███████▉  | 187/237 [32:30<25:37, 30.75s/it]"
     ]
    },
    {
     "name": "stdout",
     "output_type": "stream",
     "text": [
      "✅ UP000233100: 50205 proteins parsed\n"
     ]
    },
    {
     "name": "stderr",
     "output_type": "stream",
     "text": [
      " 79%|███████▉  | 188/237 [32:39<19:40, 24.08s/it]"
     ]
    },
    {
     "name": "stdout",
     "output_type": "stream",
     "text": [
      "✅ UP000324880: 5345 proteins parsed\n"
     ]
    },
    {
     "name": "stderr",
     "output_type": "stream",
     "text": [
      " 80%|███████▉  | 189/237 [32:46<15:10, 18.96s/it]"
     ]
    },
    {
     "name": "stdout",
     "output_type": "stream",
     "text": [
      "✅ UP000663444: 3712 proteins parsed\n"
     ]
    },
    {
     "name": "stderr",
     "output_type": "stream",
     "text": [
      " 80%|████████  | 190/237 [32:52<11:57, 15.26s/it]"
     ]
    },
    {
     "name": "stdout",
     "output_type": "stream",
     "text": [
      "✅ UP000066284: 3371 proteins parsed\n"
     ]
    },
    {
     "name": "stderr",
     "output_type": "stream",
     "text": [
      " 81%|████████  | 191/237 [32:56<09:09, 11.94s/it]"
     ]
    },
    {
     "name": "stdout",
     "output_type": "stream",
     "text": [
      "✅ UP000244244: 3203 proteins parsed\n"
     ]
    },
    {
     "name": "stderr",
     "output_type": "stream",
     "text": [
      " 81%|████████  | 192/237 [33:01<07:25,  9.90s/it]"
     ]
    },
    {
     "name": "stdout",
     "output_type": "stream",
     "text": [
      "✅ UP000183249: 2594 proteins parsed\n"
     ]
    },
    {
     "name": "stderr",
     "output_type": "stream",
     "text": [
      " 81%|████████▏ | 193/237 [33:12<07:20, 10.02s/it]"
     ]
    },
    {
     "name": "stdout",
     "output_type": "stream",
     "text": [
      "✅ UP000198887: 5040 proteins parsed\n"
     ]
    },
    {
     "name": "stderr",
     "output_type": "stream",
     "text": [
      " 82%|████████▏ | 194/237 [33:22<07:13, 10.07s/it]"
     ]
    },
    {
     "name": "stdout",
     "output_type": "stream",
     "text": [
      "✅ UP000198674: 4740 proteins parsed\n"
     ]
    },
    {
     "name": "stderr",
     "output_type": "stream",
     "text": [
      " 82%|████████▏ | 195/237 [33:26<05:48,  8.30s/it]"
     ]
    },
    {
     "name": "stdout",
     "output_type": "stream",
     "text": [
      "✅ UP000257121: 2524 proteins parsed\n"
     ]
    },
    {
     "name": "stderr",
     "output_type": "stream",
     "text": [
      " 83%|████████▎ | 196/237 [33:34<05:29,  8.03s/it]"
     ]
    },
    {
     "name": "stdout",
     "output_type": "stream",
     "text": [
      "✅ UP000198586: 4603 proteins parsed\n"
     ]
    },
    {
     "name": "stderr",
     "output_type": "stream",
     "text": [
      " 83%|████████▎ | 197/237 [33:36<04:12,  6.32s/it]"
     ]
    },
    {
     "name": "stdout",
     "output_type": "stream",
     "text": [
      "✅ UP000178407: 1690 proteins parsed\n"
     ]
    },
    {
     "name": "stderr",
     "output_type": "stream",
     "text": [
      " 84%|████████▎ | 198/237 [33:39<03:33,  5.47s/it]"
     ]
    },
    {
     "name": "stdout",
     "output_type": "stream",
     "text": [
      "✅ UP000226943: 2430 proteins parsed\n"
     ]
    },
    {
     "name": "stderr",
     "output_type": "stream",
     "text": [
      " 84%|████████▍ | 199/237 [33:44<03:19,  5.26s/it]"
     ]
    },
    {
     "name": "stdout",
     "output_type": "stream",
     "text": [
      "✅ UP000186203: 3869 proteins parsed\n"
     ]
    },
    {
     "name": "stderr",
     "output_type": "stream",
     "text": [
      " 84%|████████▍ | 200/237 [33:49<03:12,  5.19s/it]"
     ]
    },
    {
     "name": "stdout",
     "output_type": "stream",
     "text": [
      "✅ UP000198732: 2986 proteins parsed\n"
     ]
    },
    {
     "name": "stderr",
     "output_type": "stream",
     "text": [
      " 85%|████████▍ | 201/237 [35:00<14:56, 24.91s/it]"
     ]
    },
    {
     "name": "stdout",
     "output_type": "stream",
     "text": [
      "✅ UP000233040: 40117 proteins parsed\n"
     ]
    },
    {
     "name": "stderr",
     "output_type": "stream",
     "text": [
      " 85%|████████▌ | 202/237 [35:22<13:58, 23.95s/it]"
     ]
    },
    {
     "name": "stdout",
     "output_type": "stream",
     "text": [
      "✅ UP000054771: 15359 proteins parsed\n"
     ]
    },
    {
     "name": "stderr",
     "output_type": "stream",
     "text": [
      " 86%|████████▌ | 203/237 [35:26<10:17, 18.16s/it]"
     ]
    },
    {
     "name": "stdout",
     "output_type": "stream",
     "text": [
      "✅ UP000185062: 2414 proteins parsed\n"
     ]
    },
    {
     "name": "stderr",
     "output_type": "stream",
     "text": [
      " 86%|████████▌ | 204/237 [35:35<08:28, 15.42s/it]"
     ]
    },
    {
     "name": "stdout",
     "output_type": "stream",
     "text": [
      "✅ UP000218978: 4286 proteins parsed\n"
     ]
    },
    {
     "name": "stderr",
     "output_type": "stream",
     "text": [
      " 86%|████████▋ | 205/237 [35:41<06:36, 12.41s/it]"
     ]
    },
    {
     "name": "stdout",
     "output_type": "stream",
     "text": [
      "✅ UP000260281: 3010 proteins parsed\n"
     ]
    },
    {
     "name": "stderr",
     "output_type": "stream",
     "text": [
      " 87%|████████▋ | 206/237 [35:48<05:31, 10.69s/it]"
     ]
    },
    {
     "name": "stdout",
     "output_type": "stream",
     "text": [
      "✅ UP000199493: 3356 proteins parsed\n"
     ]
    },
    {
     "name": "stderr",
     "output_type": "stream",
     "text": [
      " 87%|████████▋ | 207/237 [35:53<04:35,  9.17s/it]"
     ]
    },
    {
     "name": "stdout",
     "output_type": "stream",
     "text": [
      "✅ UP000238326: 3366 proteins parsed\n"
     ]
    },
    {
     "name": "stderr",
     "output_type": "stream",
     "text": [
      " 88%|████████▊ | 208/237 [36:05<04:50, 10.02s/it]"
     ]
    },
    {
     "name": "stdout",
     "output_type": "stream",
     "text": [
      "✅ UP000215367: 6435 proteins parsed\n"
     ]
    },
    {
     "name": "stderr",
     "output_type": "stream",
     "text": [
      " 88%|████████▊ | 209/237 [36:09<03:45,  8.06s/it]"
     ]
    },
    {
     "name": "stdout",
     "output_type": "stream",
     "text": [
      "✅ UP000192310: 2398 proteins parsed\n"
     ]
    },
    {
     "name": "stderr",
     "output_type": "stream",
     "text": [
      " 89%|████████▊ | 210/237 [36:15<03:23,  7.54s/it]"
     ]
    },
    {
     "name": "stdout",
     "output_type": "stream",
     "text": [
      "✅ UP000199345: 3151 proteins parsed\n"
     ]
    },
    {
     "name": "stderr",
     "output_type": "stream",
     "text": [
      " 89%|████████▉ | 211/237 [36:18<02:37,  6.05s/it]"
     ]
    },
    {
     "name": "stdout",
     "output_type": "stream",
     "text": [
      "✅ UP000227232: 1710 proteins parsed\n"
     ]
    },
    {
     "name": "stderr",
     "output_type": "stream",
     "text": [
      " 89%|████████▉ | 212/237 [36:24<02:30,  6.02s/it]"
     ]
    },
    {
     "name": "stdout",
     "output_type": "stream",
     "text": [
      "✅ UP000029844: 3104 proteins parsed\n"
     ]
    },
    {
     "name": "stderr",
     "output_type": "stream",
     "text": [
      " 90%|████████▉ | 213/237 [36:31<02:31,  6.33s/it]"
     ]
    },
    {
     "name": "stdout",
     "output_type": "stream",
     "text": [
      "✅ UP000574694: 4183 proteins parsed\n"
     ]
    },
    {
     "name": "stderr",
     "output_type": "stream",
     "text": [
      " 90%|█████████ | 214/237 [37:50<10:51, 28.34s/it]"
     ]
    },
    {
     "name": "stdout",
     "output_type": "stream",
     "text": [
      "✅ UP000240080: 42996 proteins parsed\n"
     ]
    },
    {
     "name": "stderr",
     "output_type": "stream",
     "text": [
      " 91%|█████████ | 215/237 [37:55<07:49, 21.33s/it]"
     ]
    },
    {
     "name": "stdout",
     "output_type": "stream",
     "text": [
      "✅ UP000234867: 3111 proteins parsed\n"
     ]
    },
    {
     "name": "stderr",
     "output_type": "stream",
     "text": [
      " 91%|█████████ | 216/237 [37:59<05:38, 16.10s/it]"
     ]
    },
    {
     "name": "stdout",
     "output_type": "stream",
     "text": [
      "✅ UP000234896: 3281 proteins parsed\n"
     ]
    },
    {
     "name": "stderr",
     "output_type": "stream",
     "text": [
      " 92%|█████████▏| 217/237 [38:06<04:23, 13.19s/it]"
     ]
    },
    {
     "name": "stdout",
     "output_type": "stream",
     "text": [
      "✅ UP000435342: 4121 proteins parsed\n"
     ]
    },
    {
     "name": "stderr",
     "output_type": "stream",
     "text": [
      " 92%|█████████▏| 218/237 [38:13<03:36, 11.37s/it]"
     ]
    },
    {
     "name": "stdout",
     "output_type": "stream",
     "text": [
      "✅ UP000494220: 4350 proteins parsed\n"
     ]
    },
    {
     "name": "stderr",
     "output_type": "stream",
     "text": [
      " 92%|█████████▏| 219/237 [39:45<10:44, 35.78s/it]"
     ]
    },
    {
     "name": "stdout",
     "output_type": "stream",
     "text": [
      "✅ UP000654075: 55419 proteins parsed\n"
     ]
    },
    {
     "name": "stderr",
     "output_type": "stream",
     "text": [
      " 93%|█████████▎| 220/237 [39:52<07:38, 26.96s/it]"
     ]
    },
    {
     "name": "stdout",
     "output_type": "stream",
     "text": [
      "✅ UP000294109: 4235 proteins parsed\n"
     ]
    },
    {
     "name": "stderr",
     "output_type": "stream",
     "text": [
      " 93%|█████████▎| 221/237 [40:00<05:41, 21.35s/it]"
     ]
    },
    {
     "name": "stdout",
     "output_type": "stream",
     "text": [
      "✅ UP000186819: 4623 proteins parsed\n"
     ]
    },
    {
     "name": "stderr",
     "output_type": "stream",
     "text": [
      " 94%|█████████▎| 222/237 [40:06<04:09, 16.64s/it]"
     ]
    },
    {
     "name": "stdout",
     "output_type": "stream",
     "text": [
      "✅ UP000536534: 3215 proteins parsed\n"
     ]
    },
    {
     "name": "stderr",
     "output_type": "stream",
     "text": [
      " 94%|█████████▍| 223/237 [40:11<03:07, 13.38s/it]"
     ]
    },
    {
     "name": "stdout",
     "output_type": "stream",
     "text": [
      "✅ UP000012179: 2855 proteins parsed\n"
     ]
    },
    {
     "name": "stderr",
     "output_type": "stream",
     "text": [
      " 95%|█████████▍| 224/237 [40:17<02:24, 11.15s/it]"
     ]
    },
    {
     "name": "stdout",
     "output_type": "stream",
     "text": [
      "✅ UP000233284: 3966 proteins parsed\n"
     ]
    },
    {
     "name": "stderr",
     "output_type": "stream",
     "text": [
      " 95%|█████████▍| 225/237 [40:21<01:47,  8.96s/it]"
     ]
    },
    {
     "name": "stdout",
     "output_type": "stream",
     "text": [
      "✅ UP000258687: 2108 proteins parsed\n"
     ]
    },
    {
     "name": "stderr",
     "output_type": "stream",
     "text": [
      " 95%|█████████▌| 226/237 [40:26<01:24,  7.72s/it]"
     ]
    },
    {
     "name": "stdout",
     "output_type": "stream",
     "text": [
      "✅ UP000256642: 2675 proteins parsed\n"
     ]
    },
    {
     "name": "stderr",
     "output_type": "stream",
     "text": [
      " 96%|█████████▌| 227/237 [40:36<01:24,  8.43s/it]"
     ]
    },
    {
     "name": "stdout",
     "output_type": "stream",
     "text": [
      "✅ UP000000625: 4402 proteins parsed\n"
     ]
    },
    {
     "name": "stderr",
     "output_type": "stream",
     "text": [
      " 96%|█████████▌| 228/237 [40:39<01:02,  6.89s/it]"
     ]
    },
    {
     "name": "stdout",
     "output_type": "stream",
     "text": [
      "✅ UP000070503: 1550 proteins parsed\n"
     ]
    },
    {
     "name": "stderr",
     "output_type": "stream",
     "text": [
      " 97%|█████████▋| 229/237 [40:44<00:48,  6.06s/it]"
     ]
    },
    {
     "name": "stdout",
     "output_type": "stream",
     "text": [
      "✅ UP000672741: 2520 proteins parsed\n"
     ]
    },
    {
     "name": "stderr",
     "output_type": "stream",
     "text": [
      " 97%|█████████▋| 230/237 [40:52<00:47,  6.74s/it]"
     ]
    },
    {
     "name": "stdout",
     "output_type": "stream",
     "text": [
      "✅ UP000198284: 4789 proteins parsed\n"
     ]
    },
    {
     "name": "stderr",
     "output_type": "stream",
     "text": [
      " 97%|█████████▋| 231/237 [40:59<00:40,  6.79s/it]"
     ]
    },
    {
     "name": "stdout",
     "output_type": "stream",
     "text": [
      "✅ UP000244133: 3193 proteins parsed\n"
     ]
    },
    {
     "name": "stderr",
     "output_type": "stream",
     "text": [
      " 98%|█████████▊| 232/237 [41:04<00:31,  6.30s/it]"
     ]
    },
    {
     "name": "stdout",
     "output_type": "stream",
     "text": [
      "✅ UP000229946: 3919 proteins parsed\n"
     ]
    },
    {
     "name": "stderr",
     "output_type": "stream",
     "text": [
      " 98%|█████████▊| 233/237 [41:10<00:24,  6.12s/it]"
     ]
    },
    {
     "name": "stdout",
     "output_type": "stream",
     "text": [
      "✅ UP000176679: 2713 proteins parsed\n"
     ]
    },
    {
     "name": "stderr",
     "output_type": "stream",
     "text": [
      " 99%|█████████▊| 234/237 [41:18<00:20,  6.77s/it]"
     ]
    },
    {
     "name": "stdout",
     "output_type": "stream",
     "text": [
      "✅ UP000295129: 4840 proteins parsed\n"
     ]
    },
    {
     "name": "stderr",
     "output_type": "stream",
     "text": [
      " 99%|█████████▉| 235/237 [41:25<00:13,  6.79s/it]"
     ]
    },
    {
     "name": "stdout",
     "output_type": "stream",
     "text": [
      "✅ UP000248826: 3425 proteins parsed\n"
     ]
    },
    {
     "name": "stderr",
     "output_type": "stream",
     "text": [
      "100%|██████████| 237/237 [41:28<00:00, 10.50s/it]"
     ]
    },
    {
     "name": "stdout",
     "output_type": "stream",
     "text": [
      "✅ UP000177544: 1606 proteins parsed\n",
      "❌ Failed to download UP001302684\n"
     ]
    },
    {
     "name": "stderr",
     "output_type": "stream",
     "text": [
      "\n"
     ]
    },
    {
     "name": "stdout",
     "output_type": "stream",
     "text": [
      "\n",
      "🎯 Combined database saved to: Diamond_alignments/session_diamond_align_2025-05-31_15-40-56\\diamond_proteins_remaining_proteomes.fasta\n",
      "🧬 Total proteins in database (no deduplication): 1318992\n"
     ]
    }
   ],
   "source": [
    "import pandas as pd\n",
    "import os\n",
    "import requests\n",
    "from tqdm import tqdm\n",
    "\n",
    "# === 1. FASTA download function ===\n",
    "def download_fasta(proteome_id):\n",
    "    url = f\"https://rest.uniprot.org/uniprotkb/stream?query=proteome:{proteome_id}&format=fasta\"\n",
    "    try:\n",
    "        response = requests.get(url)\n",
    "        if response.ok and response.text.strip():\n",
    "            return response.text\n",
    "    except:\n",
    "        pass\n",
    "    return None\n",
    "\n",
    "# === 2. Paths ===\n",
    "proteome_csv_path = r\"Diamond_alignments/session_diamond_align_2025-05-31_15-40-56/diamond_proteome_matches_remaining.csv\"\n",
    "output_dir = os.path.dirname(proteome_csv_path)\n",
    "\n",
    "fasta_filename = \"diamond_proteins_remaining_proteomes.fasta\"\n",
    "combined_fasta_path = os.path.join(output_dir, fasta_filename)\n",
    "\n",
    "# === 3. Load proteome IDs ===\n",
    "df = pd.read_csv(proteome_csv_path)\n",
    "valid_df = df[df[\"Proteome ID\"].notna()]\n",
    "proteome_ids = valid_df[\"Proteome ID\"].unique()\n",
    "\n",
    "# === 4. Download all proteins (no deduplication) ===\n",
    "all_entries = []\n",
    "total_downloaded = 0\n",
    "\n",
    "print(\"\\n📦 Starting full protein download (no deduplication)...\")\n",
    "\n",
    "for upid in tqdm(proteome_ids):\n",
    "    fasta = download_fasta(upid)\n",
    "    if not fasta:\n",
    "        print(f\"❌ Failed to download {upid}\")\n",
    "        continue\n",
    "\n",
    "    proteins = fasta.strip().split(\"\\n>\")\n",
    "    for i, entry in enumerate(proteins):\n",
    "        if not entry.startswith(\">\"):\n",
    "            entry = \">\" + entry\n",
    "        all_entries.append(entry)\n",
    "\n",
    "    print(f\"✅ {upid}: {len(proteins)} proteins parsed\")\n",
    "    total_downloaded += len(proteins)\n",
    "\n",
    "# === 5. Save all entries ===\n",
    "with open(combined_fasta_path, \"w\") as out_f:\n",
    "    out_f.write(\"\\n\".join(all_entries))\n",
    "\n",
    "# === 6. Summary ===\n",
    "print(f\"\\n🎯 Combined database saved to: {combined_fasta_path}\")\n",
    "print(f\"🧬 Total proteins in database (no deduplication): {total_downloaded}\")\n"
   ]
  },
  {
   "cell_type": "code",
   "execution_count": 21,
   "id": "5c0956c3",
   "metadata": {},
   "outputs": [
    {
     "name": "stdout",
     "output_type": "stream",
     "text": [
      "\n",
      "✅ Combined protein FASTA created.\n",
      "📁 Output FASTA: Diamond_alignments/session_diamond_align_2025-05-31_15-40-56\\all_diamond_proteins_combined.fasta\n",
      "🧬 Total protein entries in combined database: 2096492\n"
     ]
    }
   ],
   "source": [
    "import os\n",
    "\n",
    "# === 1. File paths (adjust if needed) ===\n",
    "session_folder = \"Diamond_alignments/session_diamond_align_2025-05-31_15-40-56\"\n",
    "top20_fasta = r\"C:\\Users\\Yusuf\\OneDrive\\LST\\Derde_jaar\\Y3Q4\\Metaproteomics_with_db\\pipelines\\Diamond_alignments\\session_diamond_align_2025-05-31_15-22-59\\from_diamond_organisms_15_hits_top20.fasta\"\n",
    "remaining_fasta = os.path.join(session_folder, \"diamond_proteins_remaining_proteomes.fasta\")\n",
    "combined_fasta = os.path.join(session_folder, \"all_diamond_proteins_combined.fasta\")\n",
    "\n",
    "# === 2. Combine both files ===\n",
    "total_entries = 0\n",
    "with open(combined_fasta, \"w\") as out_f:\n",
    "    for path in [top20_fasta, remaining_fasta]:\n",
    "        with open(path, \"r\") as f_in:\n",
    "            content = f_in.read().strip()\n",
    "            if not content:\n",
    "                continue\n",
    "            entries = content.split(\"\\n>\")\n",
    "            for i, entry in enumerate(entries):\n",
    "                if not entry.startswith(\">\"):\n",
    "                    entry = \">\" + entry\n",
    "                out_f.write(entry.strip() + \"\\n\")\n",
    "                total_entries += 1\n",
    "\n",
    "# === 3. Summary ===\n",
    "print(\"\\n✅ Combined protein FASTA created.\")\n",
    "print(f\"📁 Output FASTA: {combined_fasta}\")\n",
    "print(f\"🧬 Total protein entries in combined database: {total_entries}\")"
   ]
  },
  {
   "cell_type": "code",
   "execution_count": 7,
   "id": "c29ca7f9",
   "metadata": {},
   "outputs": [
    {
     "name": "stdout",
     "output_type": "stream",
     "text": [
      "🔧 Creating DIAMOND database...\n",
      "🔧 Running DIAMOND clustering...\n",
      "C:\\Users\\Yusuf\\OneDrive\\LST\\Derde_jaar\\Y3Q4\\Metaproteomics_with_db\\software_tools\\diamond.exe linclust -d C:\\Users\\Yusuf\\OneDrive\\LST\\Derde_jaar\\Y3Q4\\Metaproteomics_with_db\\pipelines\\Diamond_alignments\\session_diamond_align_2025-06-01_21-39-27\\diamond_db.dmnd -o C:\\Users\\Yusuf\\OneDrive\\LST\\Derde_jaar\\Y3Q4\\Metaproteomics_with_db\\pipelines\\Diamond_alignments\\session_diamond_align_2025-06-01_21-39-27\\diamond_deepclust_output.tsv --approx-id 0.95 -M 64G\n",
      "✅ Clustering complete.\n",
      "✅ Final clustered FASTA written to:\n",
      "C:\\Users\\Yusuf\\OneDrive\\LST\\Derde_jaar\\Y3Q4\\Metaproteomics_with_db\\pipelines\\Diamond_alignments\\session_diamond_align_2025-06-01_21-39-27\\all_diamond_uniprotkb_deepclust95.fasta\n"
     ]
    }
   ],
   "source": [
    "import subprocess\n",
    "import pandas as pd\n",
    "from pathlib import Path\n",
    "from Bio import SeqIO\n",
    "\n",
    "# === 1. Config ===\n",
    "diamond_exe = r\"C:\\Users\\Yusuf\\OneDrive\\LST\\Derde_jaar\\Y3Q4\\Metaproteomics_with_db\\software_tools\\diamond.exe\"\n",
    "diamond_exe = Path(diamond_exe)  # adjust path if needed\n",
    "input_fasta = r\"C:\\Users\\Yusuf\\OneDrive\\LST\\Derde_jaar\\Y3Q4\\Metaproteomics_with_db\\pipelines\\Diamond_alignments\\session_diamond_align_2025-06-01_21-39-27\\all_diamond_proteins_combined_uniprotkb.fasta\"\n",
    "input_fasta = Path(input_fasta)  # Convert to Path object for consistency\n",
    "output_dir = input_fasta.parent\n",
    "diamond_db = output_dir / \"diamond_db.dmnd\"\n",
    "cluster_output = output_dir / \"diamond_deepclust_output.tsv\"\n",
    "clustered_fasta = output_dir / \"all_diamond_uniprotkb_deepclust95.fasta\"\n",
    "\n",
    "identity_threshold = 0.95  # Set your sequence identity cutoff (0.0 to 1.0)\n",
    "\n",
    "\n",
    "# === 2. Make DIAMOND database ===\n",
    "cmd_db = [str(diamond_exe), \"makedb\", \"--in\", str(input_fasta), \"-d\", str(diamond_db)]\n",
    "print(\"🔧 Creating DIAMOND database...\")\n",
    "result = subprocess.run(cmd_db, capture_output=True, text=True)\n",
    "if result.returncode != 0:\n",
    "    print(result.stderr)\n",
    "    raise RuntimeError(\"DIAMOND makedb failed.\")\n",
    "\n",
    "\n",
    "# === 3. Run DIAMOND clustering ===\n",
    "cmd_cluster = [\n",
    "    str(diamond_exe), \"linclust\",\n",
    "    \"-d\", str(diamond_db),\n",
    "    \"-o\", str(cluster_output),\n",
    "    \"--approx-id\", str(identity_threshold),\n",
    "    \"-M\", \"64G\"\n",
    "]\n",
    "\n",
    "print(f\"🔧 Running DIAMOND clustering...\\n{' '.join(cmd_cluster)}\")\n",
    "result = subprocess.run(cmd_cluster, capture_output=True, text=True)\n",
    "if result.returncode != 0:\n",
    "    print(result.stderr)\n",
    "    raise RuntimeError(\"DIAMOND clustering failed.\")\n",
    "print(\"✅ Clustering complete.\")\n",
    "\n",
    "# === 4. Parse clustering output ===\n",
    "df = pd.read_csv(cluster_output, sep=\"\\t\", header=None, names=[\"cluster\", \"member\"])\n",
    "cluster_map = df.groupby(\"cluster\")[\"member\"].apply(list).to_dict()\n",
    "\n",
    "# === 5. Load original sequences ===\n",
    "records_dict = {rec.id: rec for rec in SeqIO.parse(input_fasta, \"fasta\")}\n",
    "\n",
    "# === 6. Longest member becomes representative ===\n",
    "rep_records = []\n",
    "for cluster_id, members in cluster_map.items():\n",
    "    valid_members = [records_dict[m] for m in members if m in records_dict]\n",
    "    if not valid_members:\n",
    "        continue\n",
    "\n",
    "    rep_seq = max(valid_members, key=lambda r: len(r.seq))\n",
    "    rep_id = rep_seq.id\n",
    "    size = len(valid_members)\n",
    "    member_ids = [m.id for m in valid_members]\n",
    "\n",
    "    original_desc = rep_seq.description\n",
    "    new_desc = f\"{original_desc} | Cluster={rep_id} | Members={','.join(member_ids)} | Size={size}\"\n",
    "    rep_seq.description = new_desc\n",
    "    rep_seq.name = rep_id\n",
    "    rep_seq.id = rep_id\n",
    "    rep_records.append(rep_seq)\n",
    "\n",
    "# === 7. Save clustered FASTA ===\n",
    "SeqIO.write(rep_records, clustered_fasta, \"fasta\")\n",
    "print(f\"✅ Final clustered FASTA written to:\\n{clustered_fasta}\")\n"
   ]
  },
  {
   "cell_type": "code",
   "execution_count": 17,
   "id": "d7f77769",
   "metadata": {},
   "outputs": [
    {
     "name": "stdout",
     "output_type": "stream",
     "text": [
      "🧬 Total proteins in 'C:\\Users\\Yusuf\\OneDrive\\LST\\Derde_jaar\\Y3Q4\\Metaproteomics_with_db\\pipelines\\Diamond_alignments\\session_diamond_align_2025-06-01_21-39-27\\all_diamond_proteins_combined_uniprotkb.fasta': 1246240\n",
      "🧬 Total proteins in 'C:\\Users\\Yusuf\\OneDrive\\LST\\Derde_jaar\\Y3Q4\\Metaproteomics_with_db\\pipelines\\Diamond_alignments\\session_diamond_align_2025-06-01_21-39-27\\all_diamond_proteins_combined_uniprotkb_clust95.fasta': 113958\n",
      "📉 Proteins clustered away: 1132282 (90.86%)\n"
     ]
    }
   ],
   "source": [
    "\n",
    "def count_proteins_in_fasta(fasta_path):\n",
    "    \"\"\"Count the number of protein entries in a FASTA file.\"\"\"\n",
    "    count = 0\n",
    "    with open(fasta_path, \"r\") as file:\n",
    "        for line in file:\n",
    "            if line.startswith(\">\"):\n",
    "                count += 1\n",
    "    print(f\"🧬 Total proteins in '{fasta_path}': {count}\")\n",
    "    return count\n",
    "\n",
    "# === Example usage ===\n",
    "clustered_path = r\"C:\\Users\\Yusuf\\OneDrive\\LST\\Derde_jaar\\Y3Q4\\Metaproteomics_with_db\\pipelines\\Diamond_alignments\\session_diamond_align_2025-06-01_21-39-27\\all_diamond_proteins_combined_uniprotkb_clust95.fasta\"\n",
    "original_path  = r\"C:\\Users\\Yusuf\\OneDrive\\LST\\Derde_jaar\\Y3Q4\\Metaproteomics_with_db\\pipelines\\Diamond_alignments\\session_diamond_align_2025-06-01_21-39-27\\all_diamond_proteins_combined_uniprotkb.fasta\"\n",
    "\n",
    "# Run both\n",
    "original_count = count_proteins_in_fasta(original_path)\n",
    "clustered_count = count_proteins_in_fasta(clustered_path)\n",
    "\n",
    "# Difference\n",
    "reduction = original_count - clustered_count\n",
    "print(f\"📉 Proteins clustered away: {reduction} ({(reduction/original_count)*100:.2f}%)\")\n"
   ]
  },
  {
   "cell_type": "code",
   "execution_count": 19,
   "id": "435b64a4",
   "metadata": {},
   "outputs": [
    {
     "name": "stdout",
     "output_type": "stream",
     "text": [
      "✅ Final clustered FASTA written with full metadata:\n",
      "C:\\Users\\Yusuf\\OneDrive\\LST\\Derde_jaar\\Y3Q4\\Metaproteomics_with_db\\pipelines\\Diamond_alignments\\session_diamond_align_2025-06-01_21-39-27\\all_diamond_proteins_combined_uniprotkb_clust100_with_metadata.fasta\n",
      "🧬 Total sequences processed: 132946\n"
     ]
    }
   ],
   "source": [
    "from Bio import SeqIO\n",
    "from pathlib import Path\n",
    "\n",
    "# === 1. Input file paths ===\n",
    "clustered_fasta_path = Path(r\"C:\\Users\\Yusuf\\OneDrive\\LST\\Derde_jaar\\Y3Q4\\Metaproteomics_with_db\\pipelines\\Diamond_alignments\\session_diamond_align_2025-06-01_21-39-27\\all_diamond_proteins_combined_uniprotkb_clust100.fasta\")\n",
    "unclustered_fasta_path = Path(r\"C:\\Users\\Yusuf\\OneDrive\\LST\\Derde_jaar\\Y3Q4\\Metaproteomics_with_db\\pipelines\\Diamond_alignments\\session_diamond_align_2025-06-01_21-39-27\\all_diamond_proteins_combined_uniprotkb.fasta\")\n",
    "output_fasta_path = clustered_fasta_path.with_name(clustered_fasta_path.stem + \"_with_metadata.fasta\")\n",
    "\n",
    "# === 2. Load unclustered headers (metadata) by protein ID ===\n",
    "id_to_metadata = {}\n",
    "for rec in SeqIO.parse(unclustered_fasta_path, \"fasta\"):\n",
    "    # Extract the clean ID used by clustered file (e.g., A0A679HT45)\n",
    "    # which can be extracted from headers like: >tr|A0A679HT45|...\n",
    "    parts = rec.id.split(\"|\")\n",
    "    clean_id = parts[1] if len(parts) > 2 else rec.id\n",
    "    id_to_metadata[clean_id] = rec.description\n",
    "\n",
    "# === 3. Update clustered FASTA headers with metadata ===\n",
    "updated_records = []\n",
    "for rec in SeqIO.parse(clustered_fasta_path, \"fasta\"):\n",
    "    cluster_id = rec.id\n",
    "\n",
    "    # Get metadata-rich header from original file\n",
    "    metadata_header = id_to_metadata.get(cluster_id, cluster_id)\n",
    "\n",
    "    # Extract cluster info (starts after first space)\n",
    "    cluster_info = rec.description[len(cluster_id):].strip()\n",
    "\n",
    "    # Combine metadata + cluster info\n",
    "    rec.description = f\"{metadata_header} {cluster_info}\".strip()\n",
    "    rec.name = cluster_id\n",
    "    rec.id = cluster_id\n",
    "    updated_records.append(rec)\n",
    "\n",
    "# === 4. Write updated FASTA ===\n",
    "SeqIO.write(updated_records, output_fasta_path, \"fasta\")\n",
    "print(f\"✅ Final clustered FASTA written with full metadata:\\n{output_fasta_path}\")\n",
    "print(f\"🧬 Total sequences processed: {len(updated_records)}\")\n"
   ]
  }
 ],
 "metadata": {
  "kernelspec": {
   "display_name": "Python 3",
   "language": "python",
   "name": "python3"
  },
  "language_info": {
   "codemirror_mode": {
    "name": "ipython",
    "version": 3
   },
   "file_extension": ".py",
   "mimetype": "text/x-python",
   "name": "python",
   "nbconvert_exporter": "python",
   "pygments_lexer": "ipython3",
   "version": "3.9.13"
  }
 },
 "nbformat": 4,
 "nbformat_minor": 5
}
