{
 "cells": [
  {
   "cell_type": "code",
   "execution_count": 8,
   "id": "0395db21",
   "metadata": {},
   "outputs": [],
   "source": [
    "# === File paths ===\n",
    "metagenomics_taxa_csv = r\"C:\\Users\\Yusuf\\OneDrive\\LST\\Derde_jaar\\Y3Q4\\Metaproteomics_with_db\\db_results_analysis\\unique_taxa_in_metagendb.csv\"\n",
    "\n",
    "diamond_df_csv = r\"C:\\Users\\Yusuf\\OneDrive\\LST\\Derde_jaar\\Y3Q4\\Metaproteomics_with_db\\pipelines\\Diamond_alignments\\diamond_df_rank_annotated.csv\"\n",
    "\n",
    "# === CONFIGURATION ===\n",
    "# Choose a taxonomic rank (e.g., \"species\", \"genus\", etc.)\n",
    "# Set to None to compare all taxa regardless of rank\n",
    "selected_rank = \"species\"  # ← modify this line only"
   ]
  },
  {
   "cell_type": "code",
   "execution_count": 9,
   "id": "c58291f5",
   "metadata": {},
   "outputs": [
    {
     "name": "stdout",
     "output_type": "stream",
     "text": [
      "\n",
      "🧬 DIAMOND DB taxa found in metagenomics DB (species): 175\n",
      "❌ DIAMOND DB taxa NOT found in metagenomics DB (species): 92\n",
      "📊 Percentage of DIAMOND DB taxa found: 65.54%\n",
      "\n",
      "🧬 Metagenomics DB taxa found in DIAMOND DB (species): 175\n",
      "❌ Metagenomics DB taxa NOT found in DIAMOND DB (species): 9299\n",
      "📊 Percentage of metagenomics taxa found in DIAMOND DB: 1.85%\n"
     ]
    }
   ],
   "source": [
    "import pandas as pd\n",
    "\n",
    "# === Load and filter metagenomics taxa ===\n",
    "df_meta = pd.read_csv(metagenomics_taxa_csv)\n",
    "if selected_rank:\n",
    "    df_meta = df_meta[df_meta[\"rank\"] == selected_rank]\n",
    "meta_taxa = set(df_meta[\"taxon_name\"])\n",
    "\n",
    "# === Load and filter DIAMOND-based taxa ===\n",
    "df_diamond = pd.read_csv(diamond_df_csv)\n",
    "if selected_rank:\n",
    "    df_diamond = df_diamond[df_diamond[\"taxonomy_rank\"] == selected_rank]\n",
    "diamond_taxa = set(df_diamond[\"organism\"])\n",
    "\n",
    "# === Compare sets ===\n",
    "diamond_in_meta = diamond_taxa & meta_taxa\n",
    "diamond_not_in_meta = diamond_taxa - meta_taxa\n",
    "\n",
    "meta_in_diamond = meta_taxa & diamond_taxa\n",
    "meta_not_in_diamond = meta_taxa - diamond_taxa\n",
    "\n",
    "# === Print results ===\n",
    "print(f\"\\n🧬 DIAMOND DB taxa found in metagenomics DB ({selected_rank or 'all ranks'}): {len(diamond_in_meta)}\")\n",
    "print(f\"❌ DIAMOND DB taxa NOT found in metagenomics DB ({selected_rank or 'all ranks'}): {len(diamond_not_in_meta)}\")\n",
    "print(f\"📊 Percentage of DIAMOND DB taxa found: \"\n",
    "      f\"{(len(diamond_in_meta) / len(diamond_taxa)) * 100:.2f}%\" if diamond_taxa else \"0.00%\")\n",
    "\n",
    "print(f\"\\n🧬 Metagenomics DB taxa found in DIAMOND DB ({selected_rank or 'all ranks'}): {len(meta_in_diamond)}\")\n",
    "print(f\"❌ Metagenomics DB taxa NOT found in DIAMOND DB ({selected_rank or 'all ranks'}): {len(meta_not_in_diamond)}\")\n",
    "print(f\"📊 Percentage of metagenomics taxa found in DIAMOND DB: \"\n",
    "      f\"{(len(meta_in_diamond) / len(meta_taxa)) * 100:.2f}%\" if meta_taxa else \"0.00%\")\n"
   ]
  },
  {
   "cell_type": "code",
   "execution_count": null,
   "id": "0c3fe2cd",
   "metadata": {},
   "outputs": [],
   "source": []
  }
 ],
 "metadata": {
  "kernelspec": {
   "display_name": "Python 3",
   "language": "python",
   "name": "python3"
  },
  "language_info": {
   "codemirror_mode": {
    "name": "ipython",
    "version": 3
   },
   "file_extension": ".py",
   "mimetype": "text/x-python",
   "name": "python",
   "nbconvert_exporter": "python",
   "pygments_lexer": "ipython3",
   "version": "3.9.13"
  }
 },
 "nbformat": 4,
 "nbformat_minor": 5
}
