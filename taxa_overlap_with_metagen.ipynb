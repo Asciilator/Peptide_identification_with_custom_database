{
 "cells": [
  {
   "cell_type": "markdown",
   "id": "d5312386",
   "metadata": {},
   "source": [
    "Taxa overlap of query database with metagnomics taxa from raw metagenomics database"
   ]
  },
  {
   "cell_type": "code",
   "execution_count": null,
   "id": "0395db21",
   "metadata": {},
   "outputs": [],
   "source": [
    "# === File paths ===\n",
    "# Paste the path of the raw metagenomics taxa CSV file\n",
    "metagenomics_taxa_csv = r\"C:\\Users\\Yusuf\\OneDrive\\LST\\Derde_jaar\\Y3Q4\\Metaproteomics_with_db\\db_results_analysis\\unique_taxa_in_metagendb.csv\"\n",
    "\n",
    "# Paste the path of the query DataFrame CSV file\n",
    "query_df_csv = r\"C:\\Users\\Yusuf\\OneDrive\\LST\\Derde_jaar\\Y3Q4\\Metaproteomics_with_db\\pipelines\\Diamond_alignments\\diamond_df_rank_annotated.csv\"\n",
    "\n",
    "# === CONFIGURATION ===\n",
    "# Choose a taxonomic rank (e.g., \"species\", \"genus\", etc.)\n",
    "# Set to None to compare all taxa regardless of rank\n",
    "selected_rank = \"species\"  # ← modify this line only"
   ]
  },
  {
   "cell_type": "code",
   "execution_count": null,
   "id": "c58291f5",
   "metadata": {},
   "outputs": [
    {
     "name": "stdout",
     "output_type": "stream",
     "text": [
      "\n",
      "DIAMOND DB taxa found in metagenomics DB (species): 175\n",
      "DIAMOND DB taxa NOT found in metagenomics DB (species): 92\n",
      "Percentage of DIAMOND DB taxa found: 65.54%\n",
      "\n",
      "Metagenomics DB taxa found in DIAMOND DB (species): 175\n",
      "Metagenomics DB taxa NOT found in DIAMOND DB (species): 9299\n",
      "Percentage of metagenomics taxa found in DIAMOND DB: 1.85%\n"
     ]
    }
   ],
   "source": [
    "import pandas as pd\n",
    "\n",
    "# === Load and filter metagenomics taxa ===\n",
    "df_meta = pd.read_csv(metagenomics_taxa_csv)\n",
    "if selected_rank:\n",
    "    df_meta = df_meta[df_meta[\"rank\"] == selected_rank]\n",
    "meta_taxa = set(df_meta[\"taxon_name\"])\n",
    "\n",
    "# === Load and filter DIAMOND-based taxa ===\n",
    "df_diamond = pd.read_csv(query_df_csv)\n",
    "if selected_rank:\n",
    "    df_diamond = df_diamond[df_diamond[\"taxonomy_rank\"] == selected_rank]\n",
    "diamond_taxa = set(df_diamond[\"organism\"])\n",
    "\n",
    "# === Compare sets ===\n",
    "diamond_in_meta = diamond_taxa & meta_taxa\n",
    "diamond_not_in_meta = diamond_taxa - meta_taxa\n",
    "\n",
    "meta_in_diamond = meta_taxa & diamond_taxa\n",
    "meta_not_in_diamond = meta_taxa - diamond_taxa\n",
    "\n",
    "# === Print results ===\n",
    "print(f\"\\nDIAMOND DB taxa found in metagenomics raw DB ({selected_rank or 'all ranks'}): {len(diamond_in_meta)}\")\n",
    "print(f\"DIAMOND DB taxa NOT found in metagenomics raw DB ({selected_rank or 'all ranks'}): {len(diamond_not_in_meta)}\")\n",
    "print(f\"Percentage of DIAMOND DB taxa found: \"\n",
    "      f\"{(len(diamond_in_meta) / len(diamond_taxa)) * 100:.2f}%\" if diamond_taxa else \"0.00%\")\n",
    "\n",
    "print(f\"\\nMetagenomics raw DB taxa found in DIAMOND DB ({selected_rank or 'all ranks'}): {len(meta_in_diamond)}\")\n",
    "print(f\"Metagenomics raw DB taxa NOT found in DIAMOND DB ({selected_rank or 'all ranks'}): {len(meta_not_in_diamond)}\")\n",
    "print(f\"Percentage of raw metagenomics taxa found in DIAMOND DB: \"\n",
    "      f\"{(len(meta_in_diamond) / len(meta_taxa)) * 100:.2f}%\" if meta_taxa else \"0.00%\")\n"
   ]
  },
  {
   "cell_type": "markdown",
   "id": "41f25f47",
   "metadata": {},
   "source": [
    "Taxa overlap of query database with metagnomics taxa from psm's"
   ]
  },
  {
   "cell_type": "code",
   "execution_count": 11,
   "id": "0c3fe2cd",
   "metadata": {},
   "outputs": [],
   "source": [
    "# === File paths ===\n",
    "# Paste the path of the metagenomics PSM taxa CSV file\n",
    "metagenomics_psm_taxa_csv = r\"C:\\Users\\Yusuf\\OneDrive\\LST\\Derde_jaar\\Y3Q4\\Metaproteomics_with_db\\db_results_analysis\\unique_taxa_in_metagenpsmdb.csv\"\n",
    "\n",
    "# Paste the path of the query DataFrame CSV file\n",
    "query_df_csv = r\"C:\\Users\\Yusuf\\OneDrive\\LST\\Derde_jaar\\Y3Q4\\Metaproteomics_with_db\\pipelines\\Diamond_alignments\\diamond_df_rank_annotated.csv\"\n",
    "\n",
    "# === CONFIGURATION ===\n",
    "# Choose a taxonomic rank (e.g., \"species\", \"genus\", etc.)\n",
    "# Set to None to compare all taxa regardless of rank\n",
    "selected_rank = \"species\"  # ← modify this line only"
   ]
  },
  {
   "cell_type": "code",
   "execution_count": null,
   "id": "2007431d",
   "metadata": {},
   "outputs": [
    {
     "name": "stdout",
     "output_type": "stream",
     "text": [
      "\n",
      "DIAMOND DB taxa found in metagenomics DB (species): 54\n",
      "DIAMOND DB taxa NOT found in metagenomics DB (species): 213\n",
      "Percentage of DIAMOND DB taxa found: 20.22%\n",
      "\n",
      "Metagenomics DB taxa found in DIAMOND DB (species): 54\n",
      "Metagenomics DB taxa NOT found in DIAMOND DB (species): 98\n",
      "Percentage of metagenomics taxa found in DIAMOND DB: 35.53%\n"
     ]
    }
   ],
   "source": [
    "import pandas as pd\n",
    "\n",
    "# === Load and filter metagenomics taxa ===\n",
    "df_meta = pd.read_csv(metagenomics_psm_taxa_csv)\n",
    "if selected_rank:\n",
    "    df_meta = df_meta[df_meta[\"taxon_rank\"] == selected_rank]\n",
    "meta_taxa = set(df_meta[\"taxon_name\"])\n",
    "\n",
    "# === Load and filter DIAMOND-based taxa ===\n",
    "df_diamond = pd.read_csv(query_df_csv)\n",
    "if selected_rank:\n",
    "    df_diamond = df_diamond[df_diamond[\"taxonomy_rank\"] == selected_rank]\n",
    "diamond_taxa = set(df_diamond[\"organism\"])\n",
    "\n",
    "# === Compare sets ===\n",
    "diamond_in_meta = diamond_taxa & meta_taxa\n",
    "diamond_not_in_meta = diamond_taxa - meta_taxa\n",
    "\n",
    "meta_in_diamond = meta_taxa & diamond_taxa\n",
    "meta_not_in_diamond = meta_taxa - diamond_taxa\n",
    "\n",
    "# === Print results ===\n",
    "print(f\"\\nDIAMOND DB taxa found in metagenomics psm DB ({selected_rank or 'all ranks'}): {len(diamond_in_meta)}\")\n",
    "print(f\"DIAMOND DB taxa NOT found in metagenomics psm DB ({selected_rank or 'all ranks'}): {len(diamond_not_in_meta)}\")\n",
    "print(f\"Percentage of DIAMOND DB taxa found: \"\n",
    "      f\"{(len(diamond_in_meta) / len(diamond_taxa)) * 100:.2f}%\" if diamond_taxa else \"0.00%\")\n",
    "\n",
    "print(f\"\\nMetagenomics psm DB taxa found in DIAMOND DB ({selected_rank or 'all ranks'}): {len(meta_in_diamond)}\")\n",
    "print(f\"Metagenomics psm DB taxa NOT found in DIAMOND DB ({selected_rank or 'all ranks'}): {len(meta_not_in_diamond)}\")\n",
    "print(f\"Percentage of metagenomics psm taxa found in DIAMOND DB: \"\n",
    "      f\"{(len(meta_in_diamond) / len(meta_taxa)) * 100:.2f}%\" if meta_taxa else \"0.00%\")"
   ]
  }
 ],
 "metadata": {
  "kernelspec": {
   "display_name": "Python 3",
   "language": "python",
   "name": "python3"
  },
  "language_info": {
   "codemirror_mode": {
    "name": "ipython",
    "version": 3
   },
   "file_extension": ".py",
   "mimetype": "text/x-python",
   "name": "python",
   "nbconvert_exporter": "python",
   "pygments_lexer": "ipython3",
   "version": "3.9.13"
  }
 },
 "nbformat": 4,
 "nbformat_minor": 5
}
