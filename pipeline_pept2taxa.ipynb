{
 "cells": [
  {
   "cell_type": "code",
   "execution_count": null,
   "id": "5463015d",
   "metadata": {},
   "outputs": [],
   "source": [
    "# Install the necessary libraries if not installed already\n",
    "#!pip3 install -r \"{base_path}/requirements.txt\""
   ]
  },
  {
   "cell_type": "code",
   "execution_count": 2,
   "id": "2372c649",
   "metadata": {},
   "outputs": [
    {
     "name": "stdout",
     "output_type": "stream",
     "text": [
      "Base path of the project: c:\\Users\\Yusuf\\OneDrive\\LST\\Derde_jaar\\Y3Q4\\Metaproteomics_with_db\n"
     ]
    }
   ],
   "source": [
    "from pathlib import Path\n",
    "\n",
    "# Automatically get the base path of your project\n",
    "base_path = Path.cwd().parents[0]  # adjust .parents[0] if needed\n",
    "print(\"Base path of the project:\", base_path)"
   ]
  },
  {
   "cell_type": "code",
   "execution_count": 3,
   "id": "773780df",
   "metadata": {},
   "outputs": [
    {
     "name": "stdout",
     "output_type": "stream",
     "text": [
      "Original dataset shape: (189185, 20)\n",
      "Original Data (rows 24219–24227):\n"
     ]
    },
    {
     "data": {
      "text/html": [
       "<div>\n",
       "<style scoped>\n",
       "    .dataframe tbody tr th:only-of-type {\n",
       "        vertical-align: middle;\n",
       "    }\n",
       "\n",
       "    .dataframe tbody tr th {\n",
       "        vertical-align: top;\n",
       "    }\n",
       "\n",
       "    .dataframe thead th {\n",
       "        text-align: right;\n",
       "    }\n",
       "</style>\n",
       "<table border=\"1\" class=\"dataframe\">\n",
       "  <thead>\n",
       "    <tr style=\"text-align: right;\">\n",
       "      <th></th>\n",
       "      <th>Fraction</th>\n",
       "      <th>Source File</th>\n",
       "      <th>Feature</th>\n",
       "      <th>Peptide</th>\n",
       "      <th>Scan</th>\n",
       "      <th>Tag Length</th>\n",
       "      <th>Denovo Score</th>\n",
       "      <th>ALC (%)</th>\n",
       "      <th>length</th>\n",
       "      <th>m/z</th>\n",
       "      <th>z</th>\n",
       "      <th>RT</th>\n",
       "      <th>Predict RT</th>\n",
       "      <th>Area</th>\n",
       "      <th>Mass</th>\n",
       "      <th>ppm</th>\n",
       "      <th>PTM</th>\n",
       "      <th>local confidence (%)</th>\n",
       "      <th>tag (&gt;=0%)</th>\n",
       "      <th>mode</th>\n",
       "    </tr>\n",
       "  </thead>\n",
       "  <tbody>\n",
       "    <tr>\n",
       "      <th>24218</th>\n",
       "      <td>2</td>\n",
       "      <td>MP_RZ07032023_GW_flat_180min_DDA02.raw</td>\n",
       "      <td>-</td>\n",
       "      <td>KYAYFPVWVNDDKMSLPLR</td>\n",
       "      <td>F2:51275</td>\n",
       "      <td>19</td>\n",
       "      <td>76</td>\n",
       "      <td>68</td>\n",
       "      <td>19</td>\n",
       "      <td>781.3988</td>\n",
       "      <td>3</td>\n",
       "      <td>143.42</td>\n",
       "      <td>142.11</td>\n",
       "      <td>0.0</td>\n",
       "      <td>2341.1929</td>\n",
       "      <td>-7.8</td>\n",
       "      <td>NaN</td>\n",
       "      <td>45 39 41 35 33 43 89 98 98 94 95 96 94 90 83 4...</td>\n",
       "      <td>KYAYFPVWVNDDKMSLPLR</td>\n",
       "      <td>HCD</td>\n",
       "    </tr>\n",
       "    <tr>\n",
       "      <th>24219</th>\n",
       "      <td>1</td>\n",
       "      <td>MP_RZ07032023_GW_flat_180min_DDA01.raw</td>\n",
       "      <td>F1:35083</td>\n",
       "      <td>MWALDLR</td>\n",
       "      <td>F1:38190</td>\n",
       "      <td>7</td>\n",
       "      <td>76</td>\n",
       "      <td>78</td>\n",
       "      <td>7</td>\n",
       "      <td>452.7394</td>\n",
       "      <td>2</td>\n",
       "      <td>113.16</td>\n",
       "      <td>129.39</td>\n",
       "      <td>34600.0</td>\n",
       "      <td>903.4636</td>\n",
       "      <td>0.6</td>\n",
       "      <td>NaN</td>\n",
       "      <td>56 71 84 79 79 85 90</td>\n",
       "      <td>MWALDLR</td>\n",
       "      <td>HCD</td>\n",
       "    </tr>\n",
       "    <tr>\n",
       "      <th>24220</th>\n",
       "      <td>2</td>\n",
       "      <td>MP_RZ07032023_GW_flat_180min_DDA02.raw</td>\n",
       "      <td>F2:98838</td>\n",
       "      <td>LAAALTPAPVLAK</td>\n",
       "      <td>F2:33083</td>\n",
       "      <td>13</td>\n",
       "      <td>76</td>\n",
       "      <td>70</td>\n",
       "      <td>13</td>\n",
       "      <td>618.3896</td>\n",
       "      <td>2</td>\n",
       "      <td>100.95</td>\n",
       "      <td>110.95</td>\n",
       "      <td>13200000.0</td>\n",
       "      <td>1234.7649</td>\n",
       "      <td>-0.2</td>\n",
       "      <td>NaN</td>\n",
       "      <td>48 50 80 99 100 100 99 96 33 31 48 45 82</td>\n",
       "      <td>LAAALTPAPVLAK</td>\n",
       "      <td>HCD</td>\n",
       "    </tr>\n",
       "    <tr>\n",
       "      <th>24221</th>\n",
       "      <td>2</td>\n",
       "      <td>MP_RZ07032023_GW_flat_180min_DDA02.raw</td>\n",
       "      <td>F2:83383</td>\n",
       "      <td>APMSGLQNWK</td>\n",
       "      <td>F2:29687</td>\n",
       "      <td>10</td>\n",
       "      <td>76</td>\n",
       "      <td>70</td>\n",
       "      <td>10</td>\n",
       "      <td>566.2845</td>\n",
       "      <td>2</td>\n",
       "      <td>92.40</td>\n",
       "      <td>83.12</td>\n",
       "      <td>215000.0</td>\n",
       "      <td>1130.5542</td>\n",
       "      <td>0.3</td>\n",
       "      <td>NaN</td>\n",
       "      <td>96 94 85 92 82 41 28 21 69 92</td>\n",
       "      <td>APMSGLQNWK</td>\n",
       "      <td>HCD</td>\n",
       "    </tr>\n",
       "    <tr>\n",
       "      <th>24222</th>\n",
       "      <td>2</td>\n",
       "      <td>MP_RZ07032023_GW_flat_180min_DDA02.raw</td>\n",
       "      <td>F2:107262</td>\n",
       "      <td>SLTAPSGVPGM(+15.99)FK</td>\n",
       "      <td>F2:26077</td>\n",
       "      <td>13</td>\n",
       "      <td>76</td>\n",
       "      <td>67</td>\n",
       "      <td>13</td>\n",
       "      <td>654.3237</td>\n",
       "      <td>2</td>\n",
       "      <td>83.51</td>\n",
       "      <td>83.66</td>\n",
       "      <td>75700.0</td>\n",
       "      <td>1306.6592</td>\n",
       "      <td>-20.1</td>\n",
       "      <td>Oxidation (M)</td>\n",
       "      <td>37 46 79 93 95 96 88 84 23 17 26 89 97</td>\n",
       "      <td>SLTAPSGVPGM(+15.99)FK</td>\n",
       "      <td>HCD</td>\n",
       "    </tr>\n",
       "    <tr>\n",
       "      <th>24223</th>\n",
       "      <td>2</td>\n",
       "      <td>MP_RZ07032023_GW_flat_180min_DDA02.raw</td>\n",
       "      <td>F2:139236</td>\n",
       "      <td>EVQAWSWWWM(+15.99)TRRAAMDVPGR</td>\n",
       "      <td>F2:49588</td>\n",
       "      <td>21</td>\n",
       "      <td>76</td>\n",
       "      <td>68</td>\n",
       "      <td>21</td>\n",
       "      <td>879.0955</td>\n",
       "      <td>3</td>\n",
       "      <td>139.45</td>\n",
       "      <td>141.68</td>\n",
       "      <td>822000.0</td>\n",
       "      <td>2634.2371</td>\n",
       "      <td>10.4</td>\n",
       "      <td>Oxidation (M)</td>\n",
       "      <td>37 25 33 44 44 41 81 84 90 88 90 40 52 96 95 8...</td>\n",
       "      <td>EVQAWSWWWM(+15.99)TRRAAMDVPGR</td>\n",
       "      <td>HCD</td>\n",
       "    </tr>\n",
       "    <tr>\n",
       "      <th>24224</th>\n",
       "      <td>2</td>\n",
       "      <td>MP_RZ07032023_GW_flat_180min_DDA02.raw</td>\n",
       "      <td>F2:3957</td>\n",
       "      <td>MGFYGGR</td>\n",
       "      <td>F2:13573</td>\n",
       "      <td>7</td>\n",
       "      <td>76</td>\n",
       "      <td>68</td>\n",
       "      <td>7</td>\n",
       "      <td>394.1815</td>\n",
       "      <td>2</td>\n",
       "      <td>50.45</td>\n",
       "      <td>47.75</td>\n",
       "      <td>376000.0</td>\n",
       "      <td>786.3483</td>\n",
       "      <td>0.3</td>\n",
       "      <td>NaN</td>\n",
       "      <td>17 29 90 86 80 83 90</td>\n",
       "      <td>MGFYGGR</td>\n",
       "      <td>HCD</td>\n",
       "    </tr>\n",
       "    <tr>\n",
       "      <th>24225</th>\n",
       "      <td>1</td>\n",
       "      <td>MP_RZ07032023_GW_flat_180min_DDA01.raw</td>\n",
       "      <td>F1:103943</td>\n",
       "      <td>TLGALDGTN(+.98)MNR</td>\n",
       "      <td>F1:23486</td>\n",
       "      <td>12</td>\n",
       "      <td>76</td>\n",
       "      <td>71</td>\n",
       "      <td>12</td>\n",
       "      <td>632.3035</td>\n",
       "      <td>2</td>\n",
       "      <td>78.32</td>\n",
       "      <td>67.85</td>\n",
       "      <td>3660000.0</td>\n",
       "      <td>1262.5925</td>\n",
       "      <td>0.0</td>\n",
       "      <td>Deamidation (NQ)</td>\n",
       "      <td>21 21 26 76 99 98 90 88 70 82 91 93</td>\n",
       "      <td>TLGALDGTN(+.98)MNR</td>\n",
       "      <td>HCD</td>\n",
       "    </tr>\n",
       "    <tr>\n",
       "      <th>24226</th>\n",
       "      <td>1</td>\n",
       "      <td>MP_RZ07032023_GW_flat_180min_DDA01.raw</td>\n",
       "      <td>F1:23734</td>\n",
       "      <td>LGGLSSAMK</td>\n",
       "      <td>F1:16822</td>\n",
       "      <td>9</td>\n",
       "      <td>76</td>\n",
       "      <td>75</td>\n",
       "      <td>9</td>\n",
       "      <td>432.2354</td>\n",
       "      <td>2</td>\n",
       "      <td>59.98</td>\n",
       "      <td>63.31</td>\n",
       "      <td>416000.0</td>\n",
       "      <td>862.4582</td>\n",
       "      <td>-2.4</td>\n",
       "      <td>NaN</td>\n",
       "      <td>62 77 48 88 82 73 68 78 97</td>\n",
       "      <td>LGGLSSAMK</td>\n",
       "      <td>HCD</td>\n",
       "    </tr>\n",
       "    <tr>\n",
       "      <th>24227</th>\n",
       "      <td>2</td>\n",
       "      <td>MP_RZ07032023_GW_flat_180min_DDA02.raw</td>\n",
       "      <td>-</td>\n",
       "      <td>LDQ(+.98)AHLYNWQWYR</td>\n",
       "      <td>F2:50574</td>\n",
       "      <td>13</td>\n",
       "      <td>76</td>\n",
       "      <td>77</td>\n",
       "      <td>13</td>\n",
       "      <td>897.4365</td>\n",
       "      <td>2</td>\n",
       "      <td>141.76</td>\n",
       "      <td>127.6</td>\n",
       "      <td>0.0</td>\n",
       "      <td>1792.8320</td>\n",
       "      <td>14.8</td>\n",
       "      <td>Deamidation (NQ)</td>\n",
       "      <td>31 38 40 61 54 99 98 96 96 94 95 98 100</td>\n",
       "      <td>LDQ(+.98)AHLYNWQWYR</td>\n",
       "      <td>HCD</td>\n",
       "    </tr>\n",
       "  </tbody>\n",
       "</table>\n",
       "</div>"
      ],
      "text/plain": [
       "       Fraction                             Source File    Feature  \\\n",
       "24218         2  MP_RZ07032023_GW_flat_180min_DDA02.raw          -   \n",
       "24219         1  MP_RZ07032023_GW_flat_180min_DDA01.raw   F1:35083   \n",
       "24220         2  MP_RZ07032023_GW_flat_180min_DDA02.raw   F2:98838   \n",
       "24221         2  MP_RZ07032023_GW_flat_180min_DDA02.raw   F2:83383   \n",
       "24222         2  MP_RZ07032023_GW_flat_180min_DDA02.raw  F2:107262   \n",
       "24223         2  MP_RZ07032023_GW_flat_180min_DDA02.raw  F2:139236   \n",
       "24224         2  MP_RZ07032023_GW_flat_180min_DDA02.raw    F2:3957   \n",
       "24225         1  MP_RZ07032023_GW_flat_180min_DDA01.raw  F1:103943   \n",
       "24226         1  MP_RZ07032023_GW_flat_180min_DDA01.raw   F1:23734   \n",
       "24227         2  MP_RZ07032023_GW_flat_180min_DDA02.raw          -   \n",
       "\n",
       "                             Peptide      Scan  Tag Length  Denovo Score  \\\n",
       "24218            KYAYFPVWVNDDKMSLPLR  F2:51275          19            76   \n",
       "24219                        MWALDLR  F1:38190           7            76   \n",
       "24220                  LAAALTPAPVLAK  F2:33083          13            76   \n",
       "24221                     APMSGLQNWK  F2:29687          10            76   \n",
       "24222          SLTAPSGVPGM(+15.99)FK  F2:26077          13            76   \n",
       "24223  EVQAWSWWWM(+15.99)TRRAAMDVPGR  F2:49588          21            76   \n",
       "24224                        MGFYGGR  F2:13573           7            76   \n",
       "24225             TLGALDGTN(+.98)MNR  F1:23486          12            76   \n",
       "24226                      LGGLSSAMK  F1:16822           9            76   \n",
       "24227            LDQ(+.98)AHLYNWQWYR  F2:50574          13            76   \n",
       "\n",
       "       ALC (%)  length       m/z  z      RT Predict RT        Area       Mass  \\\n",
       "24218       68      19  781.3988  3  143.42     142.11         0.0  2341.1929   \n",
       "24219       78       7  452.7394  2  113.16     129.39     34600.0   903.4636   \n",
       "24220       70      13  618.3896  2  100.95     110.95  13200000.0  1234.7649   \n",
       "24221       70      10  566.2845  2   92.40      83.12    215000.0  1130.5542   \n",
       "24222       67      13  654.3237  2   83.51      83.66     75700.0  1306.6592   \n",
       "24223       68      21  879.0955  3  139.45     141.68    822000.0  2634.2371   \n",
       "24224       68       7  394.1815  2   50.45      47.75    376000.0   786.3483   \n",
       "24225       71      12  632.3035  2   78.32      67.85   3660000.0  1262.5925   \n",
       "24226       75       9  432.2354  2   59.98      63.31    416000.0   862.4582   \n",
       "24227       77      13  897.4365  2  141.76      127.6         0.0  1792.8320   \n",
       "\n",
       "        ppm               PTM  \\\n",
       "24218  -7.8               NaN   \n",
       "24219   0.6               NaN   \n",
       "24220  -0.2               NaN   \n",
       "24221   0.3               NaN   \n",
       "24222 -20.1     Oxidation (M)   \n",
       "24223  10.4     Oxidation (M)   \n",
       "24224   0.3               NaN   \n",
       "24225   0.0  Deamidation (NQ)   \n",
       "24226  -2.4               NaN   \n",
       "24227  14.8  Deamidation (NQ)   \n",
       "\n",
       "                                    local confidence (%)  \\\n",
       "24218  45 39 41 35 33 43 89 98 98 94 95 96 94 90 83 4...   \n",
       "24219                               56 71 84 79 79 85 90   \n",
       "24220           48 50 80 99 100 100 99 96 33 31 48 45 82   \n",
       "24221                      96 94 85 92 82 41 28 21 69 92   \n",
       "24222             37 46 79 93 95 96 88 84 23 17 26 89 97   \n",
       "24223  37 25 33 44 44 41 81 84 90 88 90 40 52 96 95 8...   \n",
       "24224                               17 29 90 86 80 83 90   \n",
       "24225                21 21 26 76 99 98 90 88 70 82 91 93   \n",
       "24226                         62 77 48 88 82 73 68 78 97   \n",
       "24227            31 38 40 61 54 99 98 96 96 94 95 98 100   \n",
       "\n",
       "                          tag (>=0%) mode  \n",
       "24218            KYAYFPVWVNDDKMSLPLR  HCD  \n",
       "24219                        MWALDLR  HCD  \n",
       "24220                  LAAALTPAPVLAK  HCD  \n",
       "24221                     APMSGLQNWK  HCD  \n",
       "24222          SLTAPSGVPGM(+15.99)FK  HCD  \n",
       "24223  EVQAWSWWWM(+15.99)TRRAAMDVPGR  HCD  \n",
       "24224                        MGFYGGR  HCD  \n",
       "24225             TLGALDGTN(+.98)MNR  HCD  \n",
       "24226                      LGGLSSAMK  HCD  \n",
       "24227            LDQ(+.98)AHLYNWQWYR  HCD  "
      ]
     },
     "metadata": {},
     "output_type": "display_data"
    },
    {
     "name": "stdout",
     "output_type": "stream",
     "text": [
      "Filtered dataset shape: (32111, 20)\n",
      "Filtered Data (rows 24219-24227):\n"
     ]
    },
    {
     "data": {
      "text/html": [
       "<div>\n",
       "<style scoped>\n",
       "    .dataframe tbody tr th:only-of-type {\n",
       "        vertical-align: middle;\n",
       "    }\n",
       "\n",
       "    .dataframe tbody tr th {\n",
       "        vertical-align: top;\n",
       "    }\n",
       "\n",
       "    .dataframe thead th {\n",
       "        text-align: right;\n",
       "    }\n",
       "</style>\n",
       "<table border=\"1\" class=\"dataframe\">\n",
       "  <thead>\n",
       "    <tr style=\"text-align: right;\">\n",
       "      <th></th>\n",
       "      <th>Fraction</th>\n",
       "      <th>Source File</th>\n",
       "      <th>Feature</th>\n",
       "      <th>Peptide</th>\n",
       "      <th>Scan</th>\n",
       "      <th>Tag Length</th>\n",
       "      <th>Denovo Score</th>\n",
       "      <th>ALC (%)</th>\n",
       "      <th>length</th>\n",
       "      <th>m/z</th>\n",
       "      <th>z</th>\n",
       "      <th>RT</th>\n",
       "      <th>Predict RT</th>\n",
       "      <th>Area</th>\n",
       "      <th>Mass</th>\n",
       "      <th>ppm</th>\n",
       "      <th>PTM</th>\n",
       "      <th>local confidence (%)</th>\n",
       "      <th>tag (&gt;=0%)</th>\n",
       "      <th>mode</th>\n",
       "    </tr>\n",
       "  </thead>\n",
       "  <tbody>\n",
       "    <tr>\n",
       "      <th>25984</th>\n",
       "      <td>2</td>\n",
       "      <td>MP_RZ07032023_GW_flat_180min_DDA02.raw</td>\n",
       "      <td>-</td>\n",
       "      <td>LVTTDANGWYNK</td>\n",
       "      <td>F2:16205</td>\n",
       "      <td>12</td>\n",
       "      <td>75</td>\n",
       "      <td>73</td>\n",
       "      <td>12</td>\n",
       "      <td>691.3395</td>\n",
       "      <td>2</td>\n",
       "      <td>57.63</td>\n",
       "      <td>71.8</td>\n",
       "      <td>0.0</td>\n",
       "      <td>1380.6675</td>\n",
       "      <td>-2.1</td>\n",
       "      <td>NaN</td>\n",
       "      <td>59 60 95 95 95 89 83 70 69 28 43 98</td>\n",
       "      <td>LVTTDANGWYNK</td>\n",
       "      <td>HCD</td>\n",
       "    </tr>\n",
       "    <tr>\n",
       "      <th>25985</th>\n",
       "      <td>2</td>\n",
       "      <td>MP_RZ07032023_GW_flat_180min_DDA02.raw</td>\n",
       "      <td>F2:39500</td>\n",
       "      <td>KATSLMDR</td>\n",
       "      <td>F2:7950</td>\n",
       "      <td>8</td>\n",
       "      <td>75</td>\n",
       "      <td>76</td>\n",
       "      <td>8</td>\n",
       "      <td>461.2376</td>\n",
       "      <td>2</td>\n",
       "      <td>32.97</td>\n",
       "      <td>17.78</td>\n",
       "      <td>841000.0</td>\n",
       "      <td>920.4749</td>\n",
       "      <td>-15.5</td>\n",
       "      <td>NaN</td>\n",
       "      <td>77 34 38 87 93 88 96 94</td>\n",
       "      <td>KATSLMDR</td>\n",
       "      <td>HCD</td>\n",
       "    </tr>\n",
       "    <tr>\n",
       "      <th>25986</th>\n",
       "      <td>2</td>\n",
       "      <td>MP_RZ07032023_GW_flat_180min_DDA02.raw</td>\n",
       "      <td>F2:103841</td>\n",
       "      <td>WAADLDQ(+.98)MVTK</td>\n",
       "      <td>F2:42699</td>\n",
       "      <td>11</td>\n",
       "      <td>75</td>\n",
       "      <td>75</td>\n",
       "      <td>11</td>\n",
       "      <td>639.8031</td>\n",
       "      <td>2</td>\n",
       "      <td>123.18</td>\n",
       "      <td>107.95</td>\n",
       "      <td>110000.0</td>\n",
       "      <td>1277.5962</td>\n",
       "      <td>-3.6</td>\n",
       "      <td>Deamidation (NQ)</td>\n",
       "      <td>78 60 90 90 89 94 89 69 28 41 98</td>\n",
       "      <td>WAADLDQ(+.98)MVTK</td>\n",
       "      <td>HCD</td>\n",
       "    </tr>\n",
       "    <tr>\n",
       "      <th>25989</th>\n",
       "      <td>1</td>\n",
       "      <td>MP_RZ07032023_GW_flat_180min_DDA01.raw</td>\n",
       "      <td>F1:18876</td>\n",
       "      <td>Q(+.98)VYLHMDGFR</td>\n",
       "      <td>F1:35026</td>\n",
       "      <td>10</td>\n",
       "      <td>75</td>\n",
       "      <td>72</td>\n",
       "      <td>10</td>\n",
       "      <td>422.8690</td>\n",
       "      <td>3</td>\n",
       "      <td>105.90</td>\n",
       "      <td>95.37</td>\n",
       "      <td>300000.0</td>\n",
       "      <td>1265.5862</td>\n",
       "      <td>-0.9</td>\n",
       "      <td>Deamidation (NQ)</td>\n",
       "      <td>26 28 45 61 92 95 98 92 94 96</td>\n",
       "      <td>Q(+.98)VYLHMDGFR</td>\n",
       "      <td>HCD</td>\n",
       "    </tr>\n",
       "    <tr>\n",
       "      <th>25990</th>\n",
       "      <td>2</td>\n",
       "      <td>MP_RZ07032023_GW_flat_180min_DDA02.raw</td>\n",
       "      <td>F2:113009</td>\n",
       "      <td>TLLPALYLLQGR</td>\n",
       "      <td>F2:54646</td>\n",
       "      <td>12</td>\n",
       "      <td>75</td>\n",
       "      <td>74</td>\n",
       "      <td>12</td>\n",
       "      <td>679.4126</td>\n",
       "      <td>2</td>\n",
       "      <td>151.38</td>\n",
       "      <td>164.41</td>\n",
       "      <td>25200.0</td>\n",
       "      <td>1356.8130</td>\n",
       "      <td>-1.7</td>\n",
       "      <td>NaN</td>\n",
       "      <td>51 50 50 33 82 89 93 95 85 79 88 98</td>\n",
       "      <td>TLLPALYLLQGR</td>\n",
       "      <td>HCD</td>\n",
       "    </tr>\n",
       "    <tr>\n",
       "      <th>25991</th>\n",
       "      <td>1</td>\n",
       "      <td>MP_RZ07032023_GW_flat_180min_DDA01.raw</td>\n",
       "      <td>F1:139595</td>\n",
       "      <td>FGFGLSDPDDN(+.98)NLFAHFKPLC(+57.02)K</td>\n",
       "      <td>F1:54391</td>\n",
       "      <td>22</td>\n",
       "      <td>75</td>\n",
       "      <td>72</td>\n",
       "      <td>22</td>\n",
       "      <td>847.3984</td>\n",
       "      <td>3</td>\n",
       "      <td>151.74</td>\n",
       "      <td>161.24</td>\n",
       "      <td>6010000.0</td>\n",
       "      <td>2539.1841</td>\n",
       "      <td>-4.2</td>\n",
       "      <td>Deamidation (NQ); Carbamidomethylation</td>\n",
       "      <td>49 40 57 62 82 96 69 44 92 49 28 34 96 97 97 8...</td>\n",
       "      <td>FGFGLSDPDDN(+.98)NLFAHFKPLC(+57.02)K</td>\n",
       "      <td>HCD</td>\n",
       "    </tr>\n",
       "    <tr>\n",
       "      <th>25993</th>\n",
       "      <td>1</td>\n",
       "      <td>MP_RZ07032023_GW_flat_180min_DDA01.raw</td>\n",
       "      <td>-</td>\n",
       "      <td>YHDALTYVWNWGGFTGK</td>\n",
       "      <td>F1:45457</td>\n",
       "      <td>17</td>\n",
       "      <td>75</td>\n",
       "      <td>85</td>\n",
       "      <td>17</td>\n",
       "      <td>1007.9756</td>\n",
       "      <td>2</td>\n",
       "      <td>130.26</td>\n",
       "      <td>163.81</td>\n",
       "      <td>0.0</td>\n",
       "      <td>2013.9373</td>\n",
       "      <td>-0.3</td>\n",
       "      <td>NaN</td>\n",
       "      <td>34 20 62 78 99 99 98 98 98 97 98 97 97 98 98 9...</td>\n",
       "      <td>YHDALTYVWNWGGFTGK</td>\n",
       "      <td>HCD</td>\n",
       "    </tr>\n",
       "    <tr>\n",
       "      <th>25994</th>\n",
       "      <td>1</td>\n",
       "      <td>MP_RZ07032023_GW_flat_180min_DDA01.raw</td>\n",
       "      <td>F1:852</td>\n",
       "      <td>NSLAVLR</td>\n",
       "      <td>F1:12592</td>\n",
       "      <td>7</td>\n",
       "      <td>75</td>\n",
       "      <td>81</td>\n",
       "      <td>7</td>\n",
       "      <td>386.7372</td>\n",
       "      <td>2</td>\n",
       "      <td>48.50</td>\n",
       "      <td>66</td>\n",
       "      <td>1480000.0</td>\n",
       "      <td>771.4603</td>\n",
       "      <td>-0.4</td>\n",
       "      <td>NaN</td>\n",
       "      <td>61 60 82 92 94 94 86</td>\n",
       "      <td>NSLAVLR</td>\n",
       "      <td>HCD</td>\n",
       "    </tr>\n",
       "    <tr>\n",
       "      <th>25995</th>\n",
       "      <td>2</td>\n",
       "      <td>MP_RZ07032023_GW_flat_180min_DDA02.raw</td>\n",
       "      <td>F2:141090</td>\n",
       "      <td>NYLDDLR</td>\n",
       "      <td>F2:41876</td>\n",
       "      <td>7</td>\n",
       "      <td>75</td>\n",
       "      <td>85</td>\n",
       "      <td>7</td>\n",
       "      <td>908.4518</td>\n",
       "      <td>1</td>\n",
       "      <td>121.32</td>\n",
       "      <td>83.38</td>\n",
       "      <td>208000.0</td>\n",
       "      <td>907.4399</td>\n",
       "      <td>5.0</td>\n",
       "      <td>NaN</td>\n",
       "      <td>85 83 85 82 85 88 90</td>\n",
       "      <td>NYLDDLR</td>\n",
       "      <td>HCD</td>\n",
       "    </tr>\n",
       "    <tr>\n",
       "      <th>25997</th>\n",
       "      <td>2</td>\n",
       "      <td>MP_RZ07032023_GW_flat_180min_DDA02.raw</td>\n",
       "      <td>F2:129117</td>\n",
       "      <td>YM(+15.99)APQEVGPGSPFR</td>\n",
       "      <td>F2:34615</td>\n",
       "      <td>14</td>\n",
       "      <td>75</td>\n",
       "      <td>78</td>\n",
       "      <td>14</td>\n",
       "      <td>776.3701</td>\n",
       "      <td>2</td>\n",
       "      <td>104.14</td>\n",
       "      <td>93.71</td>\n",
       "      <td>57400.0</td>\n",
       "      <td>1550.7188</td>\n",
       "      <td>4.5</td>\n",
       "      <td>Oxidation (M)</td>\n",
       "      <td>37 35 43 41 90 96 95 97 93 92 94 82 95 100</td>\n",
       "      <td>YM(+15.99)APQEVGPGSPFR</td>\n",
       "      <td>HCD</td>\n",
       "    </tr>\n",
       "  </tbody>\n",
       "</table>\n",
       "</div>"
      ],
      "text/plain": [
       "       Fraction                             Source File    Feature  \\\n",
       "25984         2  MP_RZ07032023_GW_flat_180min_DDA02.raw          -   \n",
       "25985         2  MP_RZ07032023_GW_flat_180min_DDA02.raw   F2:39500   \n",
       "25986         2  MP_RZ07032023_GW_flat_180min_DDA02.raw  F2:103841   \n",
       "25989         1  MP_RZ07032023_GW_flat_180min_DDA01.raw   F1:18876   \n",
       "25990         2  MP_RZ07032023_GW_flat_180min_DDA02.raw  F2:113009   \n",
       "25991         1  MP_RZ07032023_GW_flat_180min_DDA01.raw  F1:139595   \n",
       "25993         1  MP_RZ07032023_GW_flat_180min_DDA01.raw          -   \n",
       "25994         1  MP_RZ07032023_GW_flat_180min_DDA01.raw     F1:852   \n",
       "25995         2  MP_RZ07032023_GW_flat_180min_DDA02.raw  F2:141090   \n",
       "25997         2  MP_RZ07032023_GW_flat_180min_DDA02.raw  F2:129117   \n",
       "\n",
       "                                    Peptide      Scan  Tag Length  \\\n",
       "25984                          LVTTDANGWYNK  F2:16205          12   \n",
       "25985                              KATSLMDR   F2:7950           8   \n",
       "25986                     WAADLDQ(+.98)MVTK  F2:42699          11   \n",
       "25989                      Q(+.98)VYLHMDGFR  F1:35026          10   \n",
       "25990                          TLLPALYLLQGR  F2:54646          12   \n",
       "25991  FGFGLSDPDDN(+.98)NLFAHFKPLC(+57.02)K  F1:54391          22   \n",
       "25993                     YHDALTYVWNWGGFTGK  F1:45457          17   \n",
       "25994                               NSLAVLR  F1:12592           7   \n",
       "25995                               NYLDDLR  F2:41876           7   \n",
       "25997                YM(+15.99)APQEVGPGSPFR  F2:34615          14   \n",
       "\n",
       "       Denovo Score  ALC (%)  length        m/z  z      RT Predict RT  \\\n",
       "25984            75       73      12   691.3395  2   57.63       71.8   \n",
       "25985            75       76       8   461.2376  2   32.97      17.78   \n",
       "25986            75       75      11   639.8031  2  123.18     107.95   \n",
       "25989            75       72      10   422.8690  3  105.90      95.37   \n",
       "25990            75       74      12   679.4126  2  151.38     164.41   \n",
       "25991            75       72      22   847.3984  3  151.74     161.24   \n",
       "25993            75       85      17  1007.9756  2  130.26     163.81   \n",
       "25994            75       81       7   386.7372  2   48.50         66   \n",
       "25995            75       85       7   908.4518  1  121.32      83.38   \n",
       "25997            75       78      14   776.3701  2  104.14      93.71   \n",
       "\n",
       "            Area       Mass   ppm                                     PTM  \\\n",
       "25984        0.0  1380.6675  -2.1                                     NaN   \n",
       "25985   841000.0   920.4749 -15.5                                     NaN   \n",
       "25986   110000.0  1277.5962  -3.6                        Deamidation (NQ)   \n",
       "25989   300000.0  1265.5862  -0.9                        Deamidation (NQ)   \n",
       "25990    25200.0  1356.8130  -1.7                                     NaN   \n",
       "25991  6010000.0  2539.1841  -4.2  Deamidation (NQ); Carbamidomethylation   \n",
       "25993        0.0  2013.9373  -0.3                                     NaN   \n",
       "25994  1480000.0   771.4603  -0.4                                     NaN   \n",
       "25995   208000.0   907.4399   5.0                                     NaN   \n",
       "25997    57400.0  1550.7188   4.5                           Oxidation (M)   \n",
       "\n",
       "                                    local confidence (%)  \\\n",
       "25984                59 60 95 95 95 89 83 70 69 28 43 98   \n",
       "25985                            77 34 38 87 93 88 96 94   \n",
       "25986                   78 60 90 90 89 94 89 69 28 41 98   \n",
       "25989                      26 28 45 61 92 95 98 92 94 96   \n",
       "25990                51 50 50 33 82 89 93 95 85 79 88 98   \n",
       "25991  49 40 57 62 82 96 69 44 92 49 28 34 96 97 97 8...   \n",
       "25993  34 20 62 78 99 99 98 98 98 97 98 97 97 98 98 9...   \n",
       "25994                               61 60 82 92 94 94 86   \n",
       "25995                               85 83 85 82 85 88 90   \n",
       "25997         37 35 43 41 90 96 95 97 93 92 94 82 95 100   \n",
       "\n",
       "                                 tag (>=0%) mode  \n",
       "25984                          LVTTDANGWYNK  HCD  \n",
       "25985                              KATSLMDR  HCD  \n",
       "25986                     WAADLDQ(+.98)MVTK  HCD  \n",
       "25989                      Q(+.98)VYLHMDGFR  HCD  \n",
       "25990                          TLLPALYLLQGR  HCD  \n",
       "25991  FGFGLSDPDDN(+.98)NLFAHFKPLC(+57.02)K  HCD  \n",
       "25993                     YHDALTYVWNWGGFTGK  HCD  \n",
       "25994                               NSLAVLR  HCD  \n",
       "25995                               NYLDDLR  HCD  \n",
       "25997                YM(+15.99)APQEVGPGSPFR  HCD  "
      ]
     },
     "metadata": {},
     "output_type": "display_data"
    },
    {
     "name": "stdout",
     "output_type": "stream",
     "text": [
      "Number of peptides filtered out: 157074\n"
     ]
    }
   ],
   "source": [
    "# Import necessary libraries\n",
    "import pandas as pd\n",
    "\n",
    "\n",
    "# Load the de novo peptide data\n",
    "file_path = base_path / \"de_novo_data\" / \"de_novo_garmerwolde.csv\"\n",
    "df = pd.read_csv(file_path)\n",
    "\n",
    "# Display the dataset dimensions\n",
    "print(f\"Original dataset shape: {df.shape}\")\n",
    "\n",
    "# Display rows 24219 to 24227 (Python is zero-indexed → use iloc[24218:24227+1])\n",
    "print(\"Original Data (rows 24219–24227):\")\n",
    "display(df.iloc[24218:24228])\n",
    "\n",
    "# Filter peptides with ALC (%) > 70\n",
    "filtered_df = df[df[\"ALC (%)\"] > 70]\n",
    "\n",
    "# Display the filtered dataset dimensions\n",
    "print(f\"Filtered dataset shape: {filtered_df.shape}\")\n",
    "\n",
    "# Display same rows (if they exist after filtering — some will be removed)\n",
    "print(\"Filtered Data (rows 24219-24227):\")\n",
    "display(filtered_df.iloc[24218:24228])  # This only works if enough rows remain after filtering\n",
    "print(f\"Number of peptides filtered out: {df.shape[0] - filtered_df.shape[0]}\")"
   ]
  },
  {
   "cell_type": "code",
   "execution_count": 4,
   "id": "19d8f42e",
   "metadata": {},
   "outputs": [
    {
     "name": "stdout",
     "output_type": "stream",
     "text": [
      "Shape of the filtered DataFrame after adding the new column:\n"
     ]
    },
    {
     "name": "stderr",
     "output_type": "stream",
     "text": [
      "C:\\Temp\\ipykernel_12880\\2995632746.py:23: SettingWithCopyWarning: \n",
      "A value is trying to be set on a copy of a slice from a DataFrame.\n",
      "Try using .loc[row_indexer,col_indexer] = value instead\n",
      "\n",
      "See the caveats in the documentation: https://pandas.pydata.org/pandas-docs/stable/user_guide/indexing.html#returning-a-view-versus-a-copy\n",
      "  filtered_df[\"Cleaned Sequence\"] = filtered_df[\"Peptide\"].apply(lambda x: wrangle_peptides(x))\n"
     ]
    },
    {
     "data": {
      "text/plain": [
       "(32111, 21)"
      ]
     },
     "metadata": {},
     "output_type": "display_data"
    },
    {
     "name": "stdout",
     "output_type": "stream",
     "text": [
      "Cleaned Peptides (Rows 11–21):\n"
     ]
    },
    {
     "data": {
      "text/html": [
       "<div>\n",
       "<style scoped>\n",
       "    .dataframe tbody tr th:only-of-type {\n",
       "        vertical-align: middle;\n",
       "    }\n",
       "\n",
       "    .dataframe tbody tr th {\n",
       "        vertical-align: top;\n",
       "    }\n",
       "\n",
       "    .dataframe thead th {\n",
       "        text-align: right;\n",
       "    }\n",
       "</style>\n",
       "<table border=\"1\" class=\"dataframe\">\n",
       "  <thead>\n",
       "    <tr style=\"text-align: right;\">\n",
       "      <th></th>\n",
       "      <th>Peptide</th>\n",
       "      <th>Cleaned Sequence</th>\n",
       "    </tr>\n",
       "  </thead>\n",
       "  <tbody>\n",
       "    <tr>\n",
       "      <th>10</th>\n",
       "      <td>TSLLN(+.98)YLR</td>\n",
       "      <td>TSIINYIR</td>\n",
       "    </tr>\n",
       "    <tr>\n",
       "      <th>11</th>\n",
       "      <td>VVQLTMQ(+.98)TQEK</td>\n",
       "      <td>VVQITMQTQEK</td>\n",
       "    </tr>\n",
       "    <tr>\n",
       "      <th>12</th>\n",
       "      <td>ATMSDFSPK</td>\n",
       "      <td>ATMSDFSPK</td>\n",
       "    </tr>\n",
       "    <tr>\n",
       "      <th>13</th>\n",
       "      <td>LSELTSLTSAPR</td>\n",
       "      <td>ISEITSITSAPR</td>\n",
       "    </tr>\n",
       "    <tr>\n",
       "      <th>14</th>\n",
       "      <td>VSQ(+.98)AVLAASSGR</td>\n",
       "      <td>VSQAVIAASSGR</td>\n",
       "    </tr>\n",
       "    <tr>\n",
       "      <th>15</th>\n",
       "      <td>VGLAWDR</td>\n",
       "      <td>VGIAWDR</td>\n",
       "    </tr>\n",
       "    <tr>\n",
       "      <th>16</th>\n",
       "      <td>YLPASC(+57.02)R</td>\n",
       "      <td>YIPASCR</td>\n",
       "    </tr>\n",
       "    <tr>\n",
       "      <th>17</th>\n",
       "      <td>ASVEDLLK</td>\n",
       "      <td>ASVEDIIK</td>\n",
       "    </tr>\n",
       "    <tr>\n",
       "      <th>18</th>\n",
       "      <td>YPDVATTHGGSATK</td>\n",
       "      <td>YPDVATTHGGSATK</td>\n",
       "    </tr>\n",
       "    <tr>\n",
       "      <th>19</th>\n",
       "      <td>VMGVAFN(+.98)R</td>\n",
       "      <td>VMGVAFNR</td>\n",
       "    </tr>\n",
       "    <tr>\n",
       "      <th>20</th>\n",
       "      <td>APDNVGVLLR</td>\n",
       "      <td>APDNVGVIIR</td>\n",
       "    </tr>\n",
       "  </tbody>\n",
       "</table>\n",
       "</div>"
      ],
      "text/plain": [
       "               Peptide Cleaned Sequence\n",
       "10      TSLLN(+.98)YLR         TSIINYIR\n",
       "11   VVQLTMQ(+.98)TQEK      VVQITMQTQEK\n",
       "12           ATMSDFSPK        ATMSDFSPK\n",
       "13        LSELTSLTSAPR     ISEITSITSAPR\n",
       "14  VSQ(+.98)AVLAASSGR     VSQAVIAASSGR\n",
       "15             VGLAWDR          VGIAWDR\n",
       "16     YLPASC(+57.02)R          YIPASCR\n",
       "17            ASVEDLLK         ASVEDIIK\n",
       "18      YPDVATTHGGSATK   YPDVATTHGGSATK\n",
       "19      VMGVAFN(+.98)R         VMGVAFNR\n",
       "20          APDNVGVLLR       APDNVGVIIR"
      ]
     },
     "metadata": {},
     "output_type": "display_data"
    }
   ],
   "source": [
    "# Define the wrangle_peptides function\n",
    "import re\n",
    "\n",
    "def wrangle_peptides(sequence: str, ptm_filter: bool=True, li_swap: bool=True) -> str:\n",
    "    \"\"\"Process peptide sequences by removing post-translational modifications\n",
    "    and/or equating Leucine and Isoleucine amino acids.\n",
    "\n",
    "    Args:\n",
    "        sequence (str): Peptide sequence string\n",
    "        ptm_filter (bool, optional): Remove PTMs from sequence. Defaults to True.\n",
    "        li_swap (bool, optional): Equate Leucine (L) and Isoleucine (I). Defaults to True.\n",
    "\n",
    "    Returns:\n",
    "        str: Processed sequence string\n",
    "    \"\"\"\n",
    "    if ptm_filter:\n",
    "        sequence = \"\".join(re.findall(r\"[A-Z]+\", sequence))\n",
    "    if li_swap:\n",
    "        sequence = sequence.replace(\"L\", \"I\")\n",
    "    return sequence\n",
    "\n",
    "# Apply wrangle_peptides function to the filtered data\n",
    "filtered_df[\"Cleaned Sequence\"] = filtered_df[\"Peptide\"].apply(lambda x: wrangle_peptides(x))\n",
    "\n",
    "print(\"Shape of the filtered DataFrame after adding the new column:\")\n",
    "display(filtered_df.shape)  # Check the shape of the DataFrame after adding the new column\n",
    "\n",
    "# Display rows 11 to 21 (Python is 0-indexed, so need 10:21)\n",
    "print(\"Cleaned Peptides (Rows 11–21):\")\n",
    "display(filtered_df[[\"Peptide\", \"Cleaned Sequence\"]].iloc[10:21])\n"
   ]
  },
  {
   "cell_type": "code",
   "execution_count": 5,
   "id": "42a2fe74",
   "metadata": {},
   "outputs": [],
   "source": [
    "import os\n",
    "import requests\n",
    "import time\n",
    "\n",
    "def fetch_request(url: str, retries: int = 3, delay: int = 5) -> requests.Response:\n",
    "    for attempt in range(retries):\n",
    "        req_get = requests.get(url)\n",
    "        if req_get.status_code == 200:\n",
    "            return req_get\n",
    "        print(f\"Request failed with status {req_get.status_code}. Retrying ({attempt+1}/{retries}) in {delay} seconds...\")\n",
    "        time.sleep(delay)\n",
    "    raise RuntimeError(f\"Request failed after {retries} retries: statuscode {req_get.status_code}\")\n",
    "\n",
    "def request_unipept_pept2taxa(pept_df: pd.DataFrame, seq_col: str) -> pd.DataFrame:\n",
    "    \"\"\"Fetch taxon info using UniPept's pept2taxa API.\"\"\"\n",
    "    base_url = \"https://api.unipept.ugent.be/api/v1/pept2taxa.json?equate_il=true\"\n",
    "    batch_size = 100\n",
    "\n",
    "    seq_series = [\"&input[]=\" + seq for seq in pept_df[seq_col].drop_duplicates()]\n",
    "    taxa_df = pd.DataFrame(columns=[\"Peptide\", \"Taxon ID\", \"Taxon Name\", \"Taxon Rank\"])\n",
    "\n",
    "    x = 0\n",
    "    total_batches = (len(seq_series) + batch_size - 1) // batch_size\n",
    "    print(f\"🔄 Total batches: {total_batches}\")\n",
    "\n",
    "    while x < len(seq_series):\n",
    "        peptides = seq_series[x:x + batch_size]\n",
    "        req_str = \"\".join([base_url, *peptides])\n",
    "        try:\n",
    "            response = fetch_request(req_str).json()\n",
    "        except Exception as e:\n",
    "            print(f\"❌ Error in batch {x // batch_size + 1}: {e}\")\n",
    "            x += batch_size\n",
    "            continue\n",
    "\n",
    "        batch_df = pd.DataFrame(\n",
    "            [\n",
    "                {\n",
    "                    \"Peptide\": record.get(\"peptide\", \"Unknown\"),\n",
    "                    \"Taxon ID\": record.get(\"taxon_id\", \"Unknown\"),\n",
    "                    \"Taxon Name\": record.get(\"taxon_name\", \"Unknown\"),\n",
    "                    \"Taxon Rank\": record.get(\"taxon_rank\", \"Unknown\")\n",
    "                }\n",
    "                for record in response\n",
    "            ]\n",
    "        )\n",
    "        taxa_df = pd.concat([taxa_df, batch_df], ignore_index=True)\n",
    "        x += batch_size\n",
    "\n",
    "    print(f\"✅ Done. Total mappings: {len(taxa_df)}\")\n",
    "    return taxa_df"
   ]
  },
  {
   "cell_type": "code",
   "execution_count": 6,
   "id": "5c30a22e",
   "metadata": {},
   "outputs": [
    {
     "name": "stdout",
     "output_type": "stream",
     "text": [
      "🔄 Total batches: 265\n",
      "✅ Done. Total mappings: 8330061\n"
     ]
    },
    {
     "data": {
      "text/html": [
       "<div>\n",
       "<style scoped>\n",
       "    .dataframe tbody tr th:only-of-type {\n",
       "        vertical-align: middle;\n",
       "    }\n",
       "\n",
       "    .dataframe tbody tr th {\n",
       "        vertical-align: top;\n",
       "    }\n",
       "\n",
       "    .dataframe thead th {\n",
       "        text-align: right;\n",
       "    }\n",
       "</style>\n",
       "<table border=\"1\" class=\"dataframe\">\n",
       "  <thead>\n",
       "    <tr style=\"text-align: right;\">\n",
       "      <th></th>\n",
       "      <th>Peptide</th>\n",
       "      <th>Taxon ID</th>\n",
       "      <th>Taxon Name</th>\n",
       "      <th>Taxon Rank</th>\n",
       "    </tr>\n",
       "  </thead>\n",
       "  <tbody>\n",
       "    <tr>\n",
       "      <th>0</th>\n",
       "      <td>AISTWFTIK</td>\n",
       "      <td>2026887</td>\n",
       "      <td>Nitrospirota bacterium</td>\n",
       "      <td>species</td>\n",
       "    </tr>\n",
       "    <tr>\n",
       "      <th>1</th>\n",
       "      <td>AISTWFTIK</td>\n",
       "      <td>1985133</td>\n",
       "      <td>Nitrospira sp. CG24A</td>\n",
       "      <td>species</td>\n",
       "    </tr>\n",
       "    <tr>\n",
       "      <th>2</th>\n",
       "      <td>AISTWFTIK</td>\n",
       "      <td>1617410</td>\n",
       "      <td>Nitrospira sp. OLB3</td>\n",
       "      <td>species</td>\n",
       "    </tr>\n",
       "    <tr>\n",
       "      <th>3</th>\n",
       "      <td>AISTWFTIK</td>\n",
       "      <td>70125</td>\n",
       "      <td>Nitrospira sp.</td>\n",
       "      <td>species</td>\n",
       "    </tr>\n",
       "    <tr>\n",
       "      <th>4</th>\n",
       "      <td>AISTWFTIK</td>\n",
       "      <td>1985130</td>\n",
       "      <td>Nitrospira sp. CG24D</td>\n",
       "      <td>species</td>\n",
       "    </tr>\n",
       "  </tbody>\n",
       "</table>\n",
       "</div>"
      ],
      "text/plain": [
       "     Peptide Taxon ID              Taxon Name Taxon Rank\n",
       "0  AISTWFTIK  2026887  Nitrospirota bacterium    species\n",
       "1  AISTWFTIK  1985133    Nitrospira sp. CG24A    species\n",
       "2  AISTWFTIK  1617410     Nitrospira sp. OLB3    species\n",
       "3  AISTWFTIK    70125          Nitrospira sp.    species\n",
       "4  AISTWFTIK  1985130    Nitrospira sp. CG24D    species"
      ]
     },
     "metadata": {},
     "output_type": "display_data"
    }
   ],
   "source": [
    "# Example call\n",
    "taxa_results_df = request_unipept_pept2taxa(filtered_df, seq_col=\"Cleaned Sequence\")\n",
    "display(taxa_results_df.head())"
   ]
  },
  {
   "cell_type": "code",
   "execution_count": 7,
   "id": "bcf2c2f1",
   "metadata": {},
   "outputs": [
    {
     "data": {
      "text/plain": [
       "(8330061, 4)"
      ]
     },
     "metadata": {},
     "output_type": "display_data"
    }
   ],
   "source": [
    "display(taxa_results_df.shape)"
   ]
  },
  {
   "cell_type": "code",
   "execution_count": 9,
   "id": "c0350998",
   "metadata": {},
   "outputs": [],
   "source": [
    "def filter_taxa_by_peptide_support(taxa_df, min_peptides=5):\n",
    "    \"\"\"\n",
    "    Keep only taxa supported by at least `min_peptides` unique peptides.\n",
    "    Also include the taxon rank for downstream filtering.\n",
    "    \"\"\"\n",
    "    support_counts = taxa_df.groupby([\"Taxon ID\", \"Taxon Name\", \"Taxon Rank\"]).agg({\n",
    "        \"Peptide\": pd.Series.nunique\n",
    "    }).reset_index().rename(columns={\"Peptide\": \"Num Peptides\"})\n",
    "\n",
    "    filtered = support_counts[support_counts[\"Num Peptides\"] >= min_peptides]\n",
    "    print(f\"🧬 Retained {len(filtered)} taxa with ≥ {min_peptides} unique peptides.\")\n",
    "\n",
    "    return filtered"
   ]
  },
  {
   "cell_type": "code",
   "execution_count": 84,
   "id": "5d47c7c1",
   "metadata": {},
   "outputs": [
    {
     "name": "stdout",
     "output_type": "stream",
     "text": [
      "🧬 Retained 393 taxa with ≥ 1000 unique peptides.\n"
     ]
    },
    {
     "data": {
      "text/html": [
       "<div>\n",
       "<style scoped>\n",
       "    .dataframe tbody tr th:only-of-type {\n",
       "        vertical-align: middle;\n",
       "    }\n",
       "\n",
       "    .dataframe tbody tr th {\n",
       "        vertical-align: top;\n",
       "    }\n",
       "\n",
       "    .dataframe thead th {\n",
       "        text-align: right;\n",
       "    }\n",
       "</style>\n",
       "<table border=\"1\" class=\"dataframe\">\n",
       "  <thead>\n",
       "    <tr style=\"text-align: right;\">\n",
       "      <th></th>\n",
       "      <th>Taxon ID</th>\n",
       "      <th>Taxon Name</th>\n",
       "      <th>Taxon Rank</th>\n",
       "      <th>Num Peptides</th>\n",
       "    </tr>\n",
       "  </thead>\n",
       "  <tbody>\n",
       "    <tr>\n",
       "      <th>19</th>\n",
       "      <td>56</td>\n",
       "      <td>Sorangium cellulosum</td>\n",
       "      <td>species</td>\n",
       "      <td>1064</td>\n",
       "    </tr>\n",
       "    <tr>\n",
       "      <th>50</th>\n",
       "      <td>166</td>\n",
       "      <td>Treponema sp.</td>\n",
       "      <td>species</td>\n",
       "      <td>1333</td>\n",
       "    </tr>\n",
       "    <tr>\n",
       "      <th>87</th>\n",
       "      <td>239</td>\n",
       "      <td>Flavobacterium sp.</td>\n",
       "      <td>species</td>\n",
       "      <td>1220</td>\n",
       "    </tr>\n",
       "    <tr>\n",
       "      <th>116</th>\n",
       "      <td>294</td>\n",
       "      <td>Pseudomonas fluorescens</td>\n",
       "      <td>species</td>\n",
       "      <td>1691</td>\n",
       "    </tr>\n",
       "    <tr>\n",
       "      <th>122</th>\n",
       "      <td>303</td>\n",
       "      <td>Pseudomonas putida</td>\n",
       "      <td>species</td>\n",
       "      <td>1344</td>\n",
       "    </tr>\n",
       "  </tbody>\n",
       "</table>\n",
       "</div>"
      ],
      "text/plain": [
       "     Taxon ID               Taxon Name Taxon Rank  Num Peptides\n",
       "19         56     Sorangium cellulosum    species          1064\n",
       "50        166            Treponema sp.    species          1333\n",
       "87        239       Flavobacterium sp.    species          1220\n",
       "116       294  Pseudomonas fluorescens    species          1691\n",
       "122       303       Pseudomonas putida    species          1344"
      ]
     },
     "metadata": {},
     "output_type": "display_data"
    },
    {
     "name": "stdout",
     "output_type": "stream",
     "text": [
      "Filtered taxa DataFrame shape: (393, 4)\n"
     ]
    }
   ],
   "source": [
    "# === Example usage ===\n",
    "min_peptides = 1000  # Set your desired supporting peptide threshold here (will also be used for database name)\n",
    "filtered_taxa_df = filter_taxa_by_peptide_support(taxa_results_df, min_peptides)\n",
    "display(filtered_taxa_df.head())\n",
    "print(f\"Filtered taxa DataFrame shape: {filtered_taxa_df.shape}\")"
   ]
  },
  {
   "cell_type": "code",
   "execution_count": 11,
   "id": "4e406e27",
   "metadata": {},
   "outputs": [],
   "source": [
    "def filter_taxa_by_rank_level(taxa_df, min_rank=\"species\"):\n",
    "    \"\"\"\n",
    "    Filter a taxonomy dataframe by minimum taxonomic rank.\n",
    "    Only keep taxa that are at `min_rank` level or more specific (e.g. strain).\n",
    "    \n",
    "    Args:\n",
    "        taxa_df (pd.DataFrame): Input dataframe with a 'Taxon Rank' column.\n",
    "        min_rank (str): Minimum rank to retain (e.g., \"family\", \"species\", \"strain\").\n",
    "\n",
    "    Returns:\n",
    "        pd.DataFrame: Filtered dataframe with allowed taxon ranks.\n",
    "    \"\"\"\n",
    "    # Define ordered taxonomic ranks from general to specific\n",
    "    rank_order = [\n",
    "        \"superkingdom\", \"kingdom\", \"phylum\", \"class\", \"order\", \"family\",\n",
    "        \"genus\", \"species\", \"subspecies\", \"forma\", \"varietas\", \"strain\"\n",
    "    ]\n",
    "\n",
    "    # Normalize and validate\n",
    "    min_rank = min_rank.lower()\n",
    "    if min_rank not in rank_order:\n",
    "        raise ValueError(f\"Invalid min_rank: {min_rank}. Must be one of: {rank_order}\")\n",
    "\n",
    "    # Determine allowed ranks from min_rank onward\n",
    "    min_index = rank_order.index(min_rank)\n",
    "    allowed_ranks = rank_order[min_index:]\n",
    "\n",
    "    # Filter the dataframe\n",
    "    filtered = taxa_df[\n",
    "        taxa_df[\"Taxon Rank\"].str.lower().isin(allowed_ranks)\n",
    "    ].drop_duplicates(subset=[\"Taxon ID\", \"Taxon Name\"])\n",
    "\n",
    "    print(f\"🔎 Filtered {len(filtered)} taxa with rank ≥ '{min_rank}' ({len(allowed_ranks)} levels considered)\")\n",
    "    return filtered"
   ]
  },
  {
   "cell_type": "code",
   "execution_count": null,
   "id": "e6fe8095",
   "metadata": {},
   "outputs": [
    {
     "name": "stdout",
     "output_type": "stream",
     "text": [
      "🔎 Filtered 391 taxa with rank ≥ 'species' (5 levels considered)\n"
     ]
    },
    {
     "data": {
      "text/plain": [
       "(391, 4)"
      ]
     },
     "metadata": {},
     "output_type": "display_data"
    },
    {
     "data": {
      "text/html": [
       "<div>\n",
       "<style scoped>\n",
       "    .dataframe tbody tr th:only-of-type {\n",
       "        vertical-align: middle;\n",
       "    }\n",
       "\n",
       "    .dataframe tbody tr th {\n",
       "        vertical-align: top;\n",
       "    }\n",
       "\n",
       "    .dataframe thead th {\n",
       "        text-align: right;\n",
       "    }\n",
       "</style>\n",
       "<table border=\"1\" class=\"dataframe\">\n",
       "  <thead>\n",
       "    <tr style=\"text-align: right;\">\n",
       "      <th></th>\n",
       "      <th>Taxon ID</th>\n",
       "      <th>Taxon Name</th>\n",
       "      <th>Taxon Rank</th>\n",
       "      <th>Num Peptides</th>\n",
       "    </tr>\n",
       "  </thead>\n",
       "  <tbody>\n",
       "    <tr>\n",
       "      <th>19</th>\n",
       "      <td>56</td>\n",
       "      <td>Sorangium cellulosum</td>\n",
       "      <td>species</td>\n",
       "      <td>1064</td>\n",
       "    </tr>\n",
       "    <tr>\n",
       "      <th>50</th>\n",
       "      <td>166</td>\n",
       "      <td>Treponema sp.</td>\n",
       "      <td>species</td>\n",
       "      <td>1333</td>\n",
       "    </tr>\n",
       "    <tr>\n",
       "      <th>87</th>\n",
       "      <td>239</td>\n",
       "      <td>Flavobacterium sp.</td>\n",
       "      <td>species</td>\n",
       "      <td>1220</td>\n",
       "    </tr>\n",
       "    <tr>\n",
       "      <th>116</th>\n",
       "      <td>294</td>\n",
       "      <td>Pseudomonas fluorescens</td>\n",
       "      <td>species</td>\n",
       "      <td>1691</td>\n",
       "    </tr>\n",
       "    <tr>\n",
       "      <th>122</th>\n",
       "      <td>303</td>\n",
       "      <td>Pseudomonas putida</td>\n",
       "      <td>species</td>\n",
       "      <td>1344</td>\n",
       "    </tr>\n",
       "    <tr>\n",
       "      <th>125</th>\n",
       "      <td>306</td>\n",
       "      <td>Pseudomonas sp.</td>\n",
       "      <td>species</td>\n",
       "      <td>1257</td>\n",
       "    </tr>\n",
       "    <tr>\n",
       "      <th>129</th>\n",
       "      <td>317</td>\n",
       "      <td>Pseudomonas syringae</td>\n",
       "      <td>species</td>\n",
       "      <td>1012</td>\n",
       "    </tr>\n",
       "    <tr>\n",
       "      <th>158</th>\n",
       "      <td>384</td>\n",
       "      <td>Rhizobium leguminosarum</td>\n",
       "      <td>species</td>\n",
       "      <td>1010</td>\n",
       "    </tr>\n",
       "    <tr>\n",
       "      <th>246</th>\n",
       "      <td>562</td>\n",
       "      <td>Escherichia coli</td>\n",
       "      <td>species</td>\n",
       "      <td>1337</td>\n",
       "    </tr>\n",
       "    <tr>\n",
       "      <th>253</th>\n",
       "      <td>573</td>\n",
       "      <td>Klebsiella pneumoniae</td>\n",
       "      <td>species</td>\n",
       "      <td>1022</td>\n",
       "    </tr>\n",
       "  </tbody>\n",
       "</table>\n",
       "</div>"
      ],
      "text/plain": [
       "     Taxon ID               Taxon Name Taxon Rank  Num Peptides\n",
       "19         56     Sorangium cellulosum    species          1064\n",
       "50        166            Treponema sp.    species          1333\n",
       "87        239       Flavobacterium sp.    species          1220\n",
       "116       294  Pseudomonas fluorescens    species          1691\n",
       "122       303       Pseudomonas putida    species          1344\n",
       "125       306          Pseudomonas sp.    species          1257\n",
       "129       317     Pseudomonas syringae    species          1012\n",
       "158       384  Rhizobium leguminosarum    species          1010\n",
       "246       562         Escherichia coli    species          1337\n",
       "253       573    Klebsiella pneumoniae    species          1022"
      ]
     },
     "metadata": {},
     "output_type": "display_data"
    }
   ],
   "source": [
    "min_rank = \"species\"  # Set your desired minimum rank here\n",
    "filtered_taxa_by_rank = filter_taxa_by_rank_level(filtered_taxa_df, min_rank)\n",
    "display(filtered_taxa_by_rank.shape)\n",
    "display(filtered_taxa_by_rank.head(10))"
   ]
  },
  {
   "cell_type": "code",
   "execution_count": 91,
   "id": "d68bd60d",
   "metadata": {},
   "outputs": [
    {
     "name": "stdout",
     "output_type": "stream",
     "text": [
      "📦 Filtered taxa based on kingdom: Bacteria\n",
      "📊 Original size: (391, 5)\n",
      "📉 Filtered size: (173, 5)\n"
     ]
    },
    {
     "data": {
      "text/html": [
       "<div>\n",
       "<style scoped>\n",
       "    .dataframe tbody tr th:only-of-type {\n",
       "        vertical-align: middle;\n",
       "    }\n",
       "\n",
       "    .dataframe tbody tr th {\n",
       "        vertical-align: top;\n",
       "    }\n",
       "\n",
       "    .dataframe thead th {\n",
       "        text-align: right;\n",
       "    }\n",
       "</style>\n",
       "<table border=\"1\" class=\"dataframe\">\n",
       "  <thead>\n",
       "    <tr style=\"text-align: right;\">\n",
       "      <th></th>\n",
       "      <th>Taxon ID</th>\n",
       "      <th>Taxon Name</th>\n",
       "      <th>Taxon Rank</th>\n",
       "      <th>Num Peptides</th>\n",
       "      <th>Kingdom</th>\n",
       "    </tr>\n",
       "  </thead>\n",
       "  <tbody>\n",
       "    <tr>\n",
       "      <th>19</th>\n",
       "      <td>56</td>\n",
       "      <td>Sorangium cellulosum</td>\n",
       "      <td>species</td>\n",
       "      <td>1064</td>\n",
       "      <td>Bacteria</td>\n",
       "    </tr>\n",
       "    <tr>\n",
       "      <th>50</th>\n",
       "      <td>166</td>\n",
       "      <td>Treponema sp.</td>\n",
       "      <td>species</td>\n",
       "      <td>1333</td>\n",
       "      <td>Bacteria</td>\n",
       "    </tr>\n",
       "    <tr>\n",
       "      <th>87</th>\n",
       "      <td>239</td>\n",
       "      <td>Flavobacterium sp.</td>\n",
       "      <td>species</td>\n",
       "      <td>1220</td>\n",
       "      <td>Bacteria</td>\n",
       "    </tr>\n",
       "    <tr>\n",
       "      <th>116</th>\n",
       "      <td>294</td>\n",
       "      <td>Pseudomonas fluorescens</td>\n",
       "      <td>species</td>\n",
       "      <td>1691</td>\n",
       "      <td>Bacteria</td>\n",
       "    </tr>\n",
       "    <tr>\n",
       "      <th>122</th>\n",
       "      <td>303</td>\n",
       "      <td>Pseudomonas putida</td>\n",
       "      <td>species</td>\n",
       "      <td>1344</td>\n",
       "      <td>Bacteria</td>\n",
       "    </tr>\n",
       "    <tr>\n",
       "      <th>125</th>\n",
       "      <td>306</td>\n",
       "      <td>Pseudomonas sp.</td>\n",
       "      <td>species</td>\n",
       "      <td>1257</td>\n",
       "      <td>Bacteria</td>\n",
       "    </tr>\n",
       "    <tr>\n",
       "      <th>129</th>\n",
       "      <td>317</td>\n",
       "      <td>Pseudomonas syringae</td>\n",
       "      <td>species</td>\n",
       "      <td>1012</td>\n",
       "      <td>Bacteria</td>\n",
       "    </tr>\n",
       "    <tr>\n",
       "      <th>158</th>\n",
       "      <td>384</td>\n",
       "      <td>Rhizobium leguminosarum</td>\n",
       "      <td>species</td>\n",
       "      <td>1010</td>\n",
       "      <td>Bacteria</td>\n",
       "    </tr>\n",
       "    <tr>\n",
       "      <th>246</th>\n",
       "      <td>562</td>\n",
       "      <td>Escherichia coli</td>\n",
       "      <td>species</td>\n",
       "      <td>1337</td>\n",
       "      <td>Bacteria</td>\n",
       "    </tr>\n",
       "    <tr>\n",
       "      <th>253</th>\n",
       "      <td>573</td>\n",
       "      <td>Klebsiella pneumoniae</td>\n",
       "      <td>species</td>\n",
       "      <td>1022</td>\n",
       "      <td>Bacteria</td>\n",
       "    </tr>\n",
       "    <tr>\n",
       "      <th>618</th>\n",
       "      <td>1396</td>\n",
       "      <td>Bacillus cereus</td>\n",
       "      <td>species</td>\n",
       "      <td>1011</td>\n",
       "      <td>Bacteria</td>\n",
       "    </tr>\n",
       "    <tr>\n",
       "      <th>682</th>\n",
       "      <td>1506</td>\n",
       "      <td>Clostridium sp.</td>\n",
       "      <td>species</td>\n",
       "      <td>1169</td>\n",
       "      <td>Bacteria</td>\n",
       "    </tr>\n",
       "    <tr>\n",
       "      <th>855</th>\n",
       "      <td>1785</td>\n",
       "      <td>Mycobacterium sp.</td>\n",
       "      <td>species</td>\n",
       "      <td>1094</td>\n",
       "      <td>Bacteria</td>\n",
       "    </tr>\n",
       "    <tr>\n",
       "      <th>4187</th>\n",
       "      <td>28214</td>\n",
       "      <td>Sphingomonas sp.</td>\n",
       "      <td>species</td>\n",
       "      <td>1146</td>\n",
       "      <td>Bacteria</td>\n",
       "    </tr>\n",
       "    <tr>\n",
       "      <th>4341</th>\n",
       "      <td>28901</td>\n",
       "      <td>Salmonella enterica</td>\n",
       "      <td>species</td>\n",
       "      <td>1248</td>\n",
       "      <td>Bacteria</td>\n",
       "    </tr>\n",
       "    <tr>\n",
       "      <th>4556</th>\n",
       "      <td>29523</td>\n",
       "      <td>Bacteroides sp.</td>\n",
       "      <td>species</td>\n",
       "      <td>1021</td>\n",
       "      <td>Bacteria</td>\n",
       "    </tr>\n",
       "    <tr>\n",
       "      <th>5344</th>\n",
       "      <td>34073</td>\n",
       "      <td>Variovorax paradoxus</td>\n",
       "      <td>species</td>\n",
       "      <td>1088</td>\n",
       "      <td>Bacteria</td>\n",
       "    </tr>\n",
       "    <tr>\n",
       "      <th>8602</th>\n",
       "      <td>50259</td>\n",
       "      <td>Rubrivivax sp.</td>\n",
       "      <td>species</td>\n",
       "      <td>1096</td>\n",
       "      <td>Bacteria</td>\n",
       "    </tr>\n",
       "    <tr>\n",
       "      <th>8642</th>\n",
       "      <td>50421</td>\n",
       "      <td>Rhodoferax sp.</td>\n",
       "      <td>species</td>\n",
       "      <td>1402</td>\n",
       "      <td>Bacteria</td>\n",
       "    </tr>\n",
       "    <tr>\n",
       "      <th>10310</th>\n",
       "      <td>59620</td>\n",
       "      <td>uncultured Clostridium sp.</td>\n",
       "      <td>species</td>\n",
       "      <td>1562</td>\n",
       "      <td>Bacteria</td>\n",
       "    </tr>\n",
       "  </tbody>\n",
       "</table>\n",
       "</div>"
      ],
      "text/plain": [
       "       Taxon ID                  Taxon Name Taxon Rank  Num Peptides   Kingdom\n",
       "19           56        Sorangium cellulosum    species          1064  Bacteria\n",
       "50          166               Treponema sp.    species          1333  Bacteria\n",
       "87          239          Flavobacterium sp.    species          1220  Bacteria\n",
       "116         294     Pseudomonas fluorescens    species          1691  Bacteria\n",
       "122         303          Pseudomonas putida    species          1344  Bacteria\n",
       "125         306             Pseudomonas sp.    species          1257  Bacteria\n",
       "129         317        Pseudomonas syringae    species          1012  Bacteria\n",
       "158         384     Rhizobium leguminosarum    species          1010  Bacteria\n",
       "246         562            Escherichia coli    species          1337  Bacteria\n",
       "253         573       Klebsiella pneumoniae    species          1022  Bacteria\n",
       "618        1396             Bacillus cereus    species          1011  Bacteria\n",
       "682        1506             Clostridium sp.    species          1169  Bacteria\n",
       "855        1785           Mycobacterium sp.    species          1094  Bacteria\n",
       "4187      28214            Sphingomonas sp.    species          1146  Bacteria\n",
       "4341      28901         Salmonella enterica    species          1248  Bacteria\n",
       "4556      29523             Bacteroides sp.    species          1021  Bacteria\n",
       "5344      34073        Variovorax paradoxus    species          1088  Bacteria\n",
       "8602      50259              Rubrivivax sp.    species          1096  Bacteria\n",
       "8642      50421              Rhodoferax sp.    species          1402  Bacteria\n",
       "10310     59620  uncultured Clostridium sp.    species          1562  Bacteria"
      ]
     },
     "metadata": {},
     "output_type": "display_data"
    }
   ],
   "source": [
    "from ete3 import NCBITaxa\n",
    "\n",
    "# === Toggle: Apply kingdom/domain filter or not ===\n",
    "apply_kingdom_filter = True  # Set to False to skip filtering on kingdom\n",
    "kingdom_filter = \"Bacteria\"  # Options: \"Bacteria\", \"Eukaryota\", \"Archaea\", etc.\n",
    "\n",
    "# === Initialize NCBI Taxonomy\n",
    "ncbi = NCBITaxa()\n",
    "\n",
    "# === If filtering is enabled, apply it\n",
    "if apply_kingdom_filter:\n",
    "    # Step 1: Get all unique taxon IDs\n",
    "    unique_tax_ids = filtered_taxa_by_rank[\"Taxon ID\"].dropna().astype(int).unique()\n",
    "\n",
    "    # Step 2: Map each taxon ID to its top-level kingdom/domain\n",
    "    taxid_to_kingdom = {}\n",
    "    for taxid in unique_tax_ids:\n",
    "        try:\n",
    "            lineage = ncbi.get_lineage(taxid)\n",
    "            names = ncbi.get_taxid_translator(lineage)\n",
    "            for ancestor_taxid in lineage:\n",
    "                name = names.get(ancestor_taxid, \"\")\n",
    "                if name in [\"Bacteria\", \"Eukaryota\", \"Archaea\"]:\n",
    "                    taxid_to_kingdom[taxid] = name\n",
    "                    break\n",
    "        except:\n",
    "            taxid_to_kingdom[taxid] = \"Unknown\"\n",
    "\n",
    "    # Step 3: Annotate kingdom and apply filter\n",
    "    filtered_taxa_by_rank[\"Kingdom\"] = filtered_taxa_by_rank[\"Taxon ID\"].map(taxid_to_kingdom)\n",
    "    filtered_by_kingdom = filtered_taxa_by_rank[filtered_taxa_by_rank[\"Kingdom\"] == kingdom_filter]\n",
    "\n",
    "    # Step 4: Output\n",
    "    print(f\"📦 Filtered taxa based on kingdom: {kingdom_filter}\")\n",
    "    print(f\"📊 Original size: {filtered_taxa_by_rank.shape}\")\n",
    "    print(f\"📉 Filtered size: {filtered_by_kingdom.shape}\")\n",
    "    display(filtered_by_kingdom.head(20))\n",
    "\n",
    "else:\n",
    "    # Define it as a passthrough to avoid downstream errors\n",
    "    filtered_by_kingdom = filtered_taxa_by_rank.copy()\n",
    "    print(\"⚠️ Kingdom filtering skipped. Using full filtered_taxa_by_rank dataset.\")\n",
    "    display(filtered_by_kingdom.head(20))\n"
   ]
  },
  {
   "cell_type": "code",
   "execution_count": 97,
   "id": "ad6780fb",
   "metadata": {},
   "outputs": [
    {
     "name": "stdout",
     "output_type": "stream",
     "text": [
      "🔬 Total taxa checked: 11071\n",
      "🧫 Bacterial taxa: 10641\n",
      "📊 Percentage of bacterial taxa in metagenomics DB: 96.12%\n"
     ]
    }
   ],
   "source": [
    "import pandas as pd\n",
    "from ete3 import NCBITaxa\n",
    "\n",
    "# === Load taxa from metagenomics database ===\n",
    "meta_path = base_path / \"db_results_analysis\" / \"unique_taxa_in_metagendb.csv\"\n",
    "df_meta = pd.read_csv(meta_path)\n",
    "df_meta.columns = df_meta.columns.str.strip()\n",
    "\n",
    "# === Initialize NCBI Taxonomy handler\n",
    "ncbi = NCBITaxa()\n",
    "\n",
    "# === Step 1: Get unique taxon names\n",
    "unique_taxa = df_meta[\"taxon_name\"].dropna().unique()\n",
    "\n",
    "# === Step 2: Map names to taxon IDs\n",
    "name_to_id = ncbi.get_name_translator(unique_taxa.tolist())\n",
    "tax_ids = [name_to_id.get(name, [None])[0] for name in unique_taxa]\n",
    "\n",
    "# === Step 3: Determine which are Bacteria\n",
    "bacteria_count = 0\n",
    "checked = 0\n",
    "\n",
    "for taxid in tax_ids:\n",
    "    if not taxid:\n",
    "        continue\n",
    "    try:\n",
    "        lineage = ncbi.get_lineage(taxid)\n",
    "        names = ncbi.get_taxid_translator(lineage)\n",
    "        if \"Bacteria\" in names.values():\n",
    "            bacteria_count += 1\n",
    "    except:\n",
    "        continue\n",
    "    checked += 1\n",
    "\n",
    "# === Step 4: Compute and print result\n",
    "percent_bacteria = (bacteria_count / checked) * 100 if checked > 0 else 0\n",
    "\n",
    "print(f\"🔬 Total taxa checked: {checked}\")\n",
    "print(f\"🧫 Bacterial taxa: {bacteria_count}\")\n",
    "print(f\"📊 Percentage of bacterial taxa in metagenomics DB: {percent_bacteria:.2f}%\")\n"
   ]
  },
  {
   "cell_type": "code",
   "execution_count": 92,
   "id": "91491c96",
   "metadata": {},
   "outputs": [
    {
     "name": "stdout",
     "output_type": "stream",
     "text": [
      "🔬 Comparison (with kingdom filter) restricted to ranks: ['species']\n",
      "🔍 Taxonomic Comparison:\n",
      "🧬 Total unique taxa in Pept2Taxa: 173\n",
      "🧬 Total unique taxa in Metagenomics DB: 9474\n",
      "✅ Overlapping taxa: 171\n",
      "❌ Pept2Taxa taxa not in Metagenomics: 2\n",
      "❌ Metagenomics taxa not in Pept2Taxa: 9303\n",
      "📊 Percent of Pept2Taxa taxa overlapping with Metagenomics: 98.84%\n"
     ]
    },
    {
     "data": {
      "text/html": [
       "<div>\n",
       "<style scoped>\n",
       "    .dataframe tbody tr th:only-of-type {\n",
       "        vertical-align: middle;\n",
       "    }\n",
       "\n",
       "    .dataframe tbody tr th {\n",
       "        vertical-align: top;\n",
       "    }\n",
       "\n",
       "    .dataframe thead th {\n",
       "        text-align: right;\n",
       "    }\n",
       "</style>\n",
       "<table border=\"1\" class=\"dataframe\">\n",
       "  <thead>\n",
       "    <tr style=\"text-align: right;\">\n",
       "      <th></th>\n",
       "      <th>Common Taxa</th>\n",
       "    </tr>\n",
       "  </thead>\n",
       "  <tbody>\n",
       "    <tr>\n",
       "      <th>0</th>\n",
       "      <td>Accumulibacter sp.</td>\n",
       "    </tr>\n",
       "    <tr>\n",
       "      <th>1</th>\n",
       "      <td>Acetobacteraceae bacterium</td>\n",
       "    </tr>\n",
       "    <tr>\n",
       "      <th>2</th>\n",
       "      <td>Acidimicrobiaceae bacterium</td>\n",
       "    </tr>\n",
       "    <tr>\n",
       "      <th>3</th>\n",
       "      <td>Acidimicrobiales bacterium</td>\n",
       "    </tr>\n",
       "    <tr>\n",
       "      <th>4</th>\n",
       "      <td>Acidimicrobiia bacterium</td>\n",
       "    </tr>\n",
       "    <tr>\n",
       "      <th>5</th>\n",
       "      <td>Acidobacteriaceae bacterium</td>\n",
       "    </tr>\n",
       "    <tr>\n",
       "      <th>6</th>\n",
       "      <td>Acidobacteriota bacterium</td>\n",
       "    </tr>\n",
       "    <tr>\n",
       "      <th>7</th>\n",
       "      <td>Actinomycetales bacterium</td>\n",
       "    </tr>\n",
       "    <tr>\n",
       "      <th>8</th>\n",
       "      <td>Actinomycetes bacterium</td>\n",
       "    </tr>\n",
       "    <tr>\n",
       "      <th>9</th>\n",
       "      <td>Actinomycetota bacterium</td>\n",
       "    </tr>\n",
       "  </tbody>\n",
       "</table>\n",
       "</div>"
      ],
      "text/plain": [
       "                   Common Taxa\n",
       "0           Accumulibacter sp.\n",
       "1   Acetobacteraceae bacterium\n",
       "2  Acidimicrobiaceae bacterium\n",
       "3   Acidimicrobiales bacterium\n",
       "4     Acidimicrobiia bacterium\n",
       "5  Acidobacteriaceae bacterium\n",
       "6    Acidobacteriota bacterium\n",
       "7    Actinomycetales bacterium\n",
       "8      Actinomycetes bacterium\n",
       "9     Actinomycetota bacterium"
      ]
     },
     "metadata": {},
     "output_type": "display_data"
    }
   ],
   "source": [
    "import pandas as pd\n",
    "\n",
    "# === Choose the correct DataFrame based on filter toggle ===\n",
    "comparison_df = filtered_by_kingdom if apply_kingdom_filter else filtered_taxa_by_rank\n",
    "\n",
    "# === Ranks you want to include in the comparison ===\n",
    "ranks_to_include = [\"species\"]  # e.g., [\"species\", \"genus\", \"family\"]\n",
    "\n",
    "# === Load metagenomics taxa list ===\n",
    "metagenomics_path = base_path / \"db_results_analysis\" / \"unique_taxa_in_metagendb.csv\"\n",
    "df_meta_taxa = pd.read_csv(metagenomics_path)\n",
    "df_meta_taxa.columns = [col.strip() for col in df_meta_taxa.columns]\n",
    "\n",
    "# 🧬 Filter metagenomics taxa by selected ranks\n",
    "meta_filtered = df_meta_taxa[df_meta_taxa[\"rank\"].isin(ranks_to_include)]\n",
    "meta_taxa_set = set(meta_filtered[\"taxon_name\"].dropna().str.strip())\n",
    "\n",
    "# 🧬 Filter selected Pept2Taxa taxa by rank\n",
    "pept2taxa_filtered = comparison_df[comparison_df[\"Taxon Rank\"].isin(ranks_to_include)]\n",
    "pept2taxa_taxa_set = set(pept2taxa_filtered[\"Taxon Name\"].dropna().str.strip())\n",
    "\n",
    "# === Compare sets\n",
    "overlapping_taxa = pept2taxa_taxa_set & meta_taxa_set\n",
    "only_in_pept2taxa = pept2taxa_taxa_set - meta_taxa_set\n",
    "only_in_meta = meta_taxa_set - pept2taxa_taxa_set\n",
    "\n",
    "# === Report statistics\n",
    "total_pept2taxa = len(pept2taxa_taxa_set)\n",
    "total_metagenomics = len(meta_taxa_set)\n",
    "total_overlap = len(overlapping_taxa)\n",
    "percent_overlap = (total_overlap / total_pept2taxa) * 100 if total_pept2taxa else 0\n",
    "\n",
    "# === Print results\n",
    "filter_note = \"with kingdom filter\" if apply_kingdom_filter else \"without kingdom filter\"\n",
    "print(f\"🔬 Comparison ({filter_note}) restricted to ranks: {ranks_to_include}\")\n",
    "print(\"🔍 Taxonomic Comparison:\")\n",
    "print(f\"🧬 Total unique taxa in Pept2Taxa: {total_pept2taxa}\")\n",
    "print(f\"🧬 Total unique taxa in Metagenomics DB: {total_metagenomics}\")\n",
    "print(f\"✅ Overlapping taxa: {total_overlap}\")\n",
    "print(f\"❌ Pept2Taxa taxa not in Metagenomics: {len(only_in_pept2taxa)}\")\n",
    "print(f\"❌ Metagenomics taxa not in Pept2Taxa: {len(only_in_meta)}\")\n",
    "print(f\"📊 Percent of Pept2Taxa taxa overlapping with Metagenomics: {percent_overlap:.2f}%\")\n",
    "\n",
    "# Optional: display overlapping taxa\n",
    "overlap_df = pd.DataFrame(sorted(overlapping_taxa), columns=[\"Common Taxa\"])\n",
    "display(overlap_df.head(10))\n"
   ]
  },
  {
   "cell_type": "markdown",
   "id": "401799d1",
   "metadata": {},
   "source": [
    "This proves that the pept2taxa api call takes way too many possible matching taxa with the query (de novo) peptides. That's why it is crucial to filter the taxa based on only those that match a large number of peptides (in our case 1500) to make sure we collect as many taxa as possible that are also in the metagenomics database and avoid collecting taxa that are not in the metagenomics database as much as possible.    "
   ]
  },
  {
   "cell_type": "code",
   "execution_count": 93,
   "id": "44031b75",
   "metadata": {},
   "outputs": [],
   "source": [
    "import requests\n",
    "from tqdm import tqdm\n",
    "\n",
    "def search_best_proteomes(taxa_df, name_col=\"Taxon Name\", id_col=\"Taxon ID\"):\n",
    "    \"\"\"Search UniProt proteomes using strain names with fallback to taxon ID.\n",
    "       Returns a list of (taxon_id, taxon_name, proteome_id, is_reference).\n",
    "    \"\"\"\n",
    "    found = []\n",
    "    not_found = []\n",
    "\n",
    "    for _, row in tqdm(taxa_df.iterrows(), total=len(taxa_df)):\n",
    "        taxon_id = row[id_col]\n",
    "        taxon_name = row[name_col]\n",
    "\n",
    "        url = \"https://rest.uniprot.org/proteomes/search\"\n",
    "        used_query = \"name\"\n",
    "\n",
    "        # Step 1: Try by strain name\n",
    "        params = {\"query\": taxon_name, \"format\": \"json\", \"size\": 100}\n",
    "        try:\n",
    "            r = requests.get(url, params=params)\n",
    "            r.raise_for_status()\n",
    "            results = r.json().get(\"results\", [])\n",
    "        except:\n",
    "            results = []\n",
    "\n",
    "        # Step 2: Fallback to taxon ID\n",
    "        if not results:\n",
    "            params = {\"query\": f\"taxonomy_id:{taxon_id}\", \"format\": \"json\", \"size\": 100}\n",
    "            try:\n",
    "                r = requests.get(url, params=params)\n",
    "                r.raise_for_status()\n",
    "                results = r.json().get(\"results\", [])\n",
    "                used_query = \"taxid\"\n",
    "            except:\n",
    "                results = []\n",
    "\n",
    "        # Step 3: Handle failure\n",
    "        if not results:\n",
    "            not_found.append((taxon_id, taxon_name))\n",
    "            print(f\"❌ No proteome found for: {taxon_name} (Taxon ID: {taxon_id})\")\n",
    "            continue\n",
    "\n",
    "        # Step 4: Pick best proteome (Reference > BUSCO completeness)\n",
    "        reference = [r for r in results if r.get(\"proteomeType\") == \"Reference\"]\n",
    "        selected = reference[0] if reference else max(\n",
    "            results, key=lambda r: r.get(\"busco\", {}).get(\"complete\", 0)\n",
    "        )\n",
    "\n",
    "        # ✅ FIXED: Use 'id' for proteome ID\n",
    "        proteome_id = selected.get(\"id\", None)\n",
    "        is_ref = selected.get(\"proteomeType\") == \"Reference\"\n",
    "\n",
    "        print(f\"✅ {taxon_name} → Proteome ID: {proteome_id} (Reference: {is_ref}, via: {used_query})\")\n",
    "\n",
    "        found.append((taxon_id, taxon_name, proteome_id, is_ref))\n",
    "\n",
    "    # Summary\n",
    "    print(f\"\\n🎯 Proteomes found for {len(found)} out of {len(taxa_df)} strains.\")\n",
    "    if not_found:\n",
    "        print(f\"\\n⚠️ No proteomes found for {len(not_found)} strains:\")\n",
    "        for tid, name in not_found:\n",
    "            print(f\" - {name} (Taxon ID: {tid})\")\n",
    "\n",
    "    return found\n",
    "\n"
   ]
  },
  {
   "cell_type": "code",
   "execution_count": 94,
   "id": "6ba0e09f",
   "metadata": {},
   "outputs": [],
   "source": [
    "def save_proteome_matches_to_csv(proteome_list, output_path):\n",
    "    \"\"\"Save list of found proteomes to a CSV file.\"\"\"\n",
    "    df = pd.DataFrame(proteome_list, columns=[\n",
    "        \"Taxon ID\", \"Taxon Name\", \"Proteome ID (UPID)\", \"Is Reference Proteome\"\n",
    "    ])\n",
    "    df.to_csv(output_path, index=False)\n",
    "    print(f\"📄 Summary saved to: {output_path}\")"
   ]
  },
  {
   "cell_type": "code",
   "execution_count": null,
   "id": "03b1c9f3",
   "metadata": {},
   "outputs": [
    {
     "name": "stderr",
     "output_type": "stream",
     "text": [
      "  0%|          | 0/173 [00:00<?, ?it/s]"
     ]
    },
    {
     "name": "stderr",
     "output_type": "stream",
     "text": [
      "  1%|          | 1/173 [00:00<00:21,  7.94it/s]"
     ]
    },
    {
     "name": "stdout",
     "output_type": "stream",
     "text": [
      "✅ Sorangium cellulosum → Proteome ID: UP000002139 (Reference: False, via: name)\n"
     ]
    },
    {
     "name": "stderr",
     "output_type": "stream",
     "text": [
      "  1%|          | 2/173 [00:00<00:32,  5.27it/s]"
     ]
    },
    {
     "name": "stdout",
     "output_type": "stream",
     "text": [
      "✅ Treponema sp. → Proteome ID: UP000002967 (Reference: False, via: name)\n",
      "✅ Flavobacterium sp. → Proteome ID: UP000316154 (Reference: False, via: name)\n"
     ]
    },
    {
     "name": "stderr",
     "output_type": "stream",
     "text": [
      "  3%|▎         | 5/173 [00:00<00:32,  5.12it/s]"
     ]
    },
    {
     "name": "stdout",
     "output_type": "stream",
     "text": [
      "✅ Pseudomonas fluorescens → Proteome ID: UP000002332 (Reference: False, via: name)\n",
      "✅ Pseudomonas putida → Proteome ID: UP000000556 (Reference: False, via: name)\n"
     ]
    },
    {
     "name": "stderr",
     "output_type": "stream",
     "text": [
      "  4%|▍         | 7/173 [00:01<00:32,  5.17it/s]"
     ]
    },
    {
     "name": "stdout",
     "output_type": "stream",
     "text": [
      "✅ Pseudomonas sp. → Proteome ID: UP000004339 (Reference: False, via: name)\n",
      "✅ Pseudomonas syringae → Proteome ID: UP000028631 (Reference: False, via: name)\n"
     ]
    },
    {
     "name": "stderr",
     "output_type": "stream",
     "text": [
      "  5%|▌         | 9/173 [00:01<00:31,  5.13it/s]"
     ]
    },
    {
     "name": "stdout",
     "output_type": "stream",
     "text": [
      "✅ Rhizobium leguminosarum → Proteome ID: UP000008330 (Reference: False, via: name)\n",
      "✅ Escherichia coli → Proteome ID: UP000000625 (Reference: False, via: name)\n"
     ]
    },
    {
     "name": "stderr",
     "output_type": "stream",
     "text": [
      "  6%|▋         | 11/173 [00:02<00:28,  5.79it/s]"
     ]
    },
    {
     "name": "stdout",
     "output_type": "stream",
     "text": [
      "✅ Klebsiella pneumoniae → Proteome ID: UP000019183 (Reference: False, via: name)\n",
      "✅ Bacillus cereus → Proteome ID: UP000000594 (Reference: False, via: name)\n"
     ]
    },
    {
     "name": "stderr",
     "output_type": "stream",
     "text": [
      "  8%|▊         | 13/173 [00:02<00:25,  6.23it/s]"
     ]
    },
    {
     "name": "stdout",
     "output_type": "stream",
     "text": [
      "✅ Clostridium sp. → Proteome ID: UP000003978 (Reference: False, via: name)\n",
      "✅ Mycobacterium sp. → Proteome ID: UP000051127 (Reference: False, via: name)\n"
     ]
    },
    {
     "name": "stderr",
     "output_type": "stream",
     "text": [
      "  9%|▊         | 15/173 [00:02<00:23,  6.66it/s]"
     ]
    },
    {
     "name": "stdout",
     "output_type": "stream",
     "text": [
      "✅ Sphingomonas sp. → Proteome ID: UP000033201 (Reference: False, via: name)\n",
      "✅ Salmonella enterica → Proteome ID: UP000298196 (Reference: False, via: name)\n"
     ]
    },
    {
     "name": "stderr",
     "output_type": "stream",
     "text": [
      " 10%|▉         | 17/173 [00:02<00:21,  7.30it/s]"
     ]
    },
    {
     "name": "stdout",
     "output_type": "stream",
     "text": [
      "✅ Bacteroides sp. → Proteome ID: UP000003135 (Reference: False, via: name)\n",
      "✅ Variovorax paradoxus → Proteome ID: UP000035170 (Reference: False, via: name)\n"
     ]
    },
    {
     "name": "stderr",
     "output_type": "stream",
     "text": [
      " 11%|█         | 19/173 [00:03<00:21,  7.11it/s]"
     ]
    },
    {
     "name": "stdout",
     "output_type": "stream",
     "text": [
      "✅ Rubrivivax sp. → Proteome ID: UP000316214 (Reference: False, via: name)\n",
      "✅ Rhodoferax sp. → Proteome ID: UP000641280 (Reference: False, via: name)\n"
     ]
    },
    {
     "name": "stderr",
     "output_type": "stream",
     "text": [
      " 12%|█▏        | 20/173 [00:03<00:26,  5.77it/s]"
     ]
    },
    {
     "name": "stdout",
     "output_type": "stream",
     "text": [
      "❌ No proteome found for: uncultured Clostridium sp. (Taxon ID: 59620)\n"
     ]
    },
    {
     "name": "stderr",
     "output_type": "stream",
     "text": [
      " 13%|█▎        | 22/173 [00:03<00:25,  5.82it/s]"
     ]
    },
    {
     "name": "stdout",
     "output_type": "stream",
     "text": [
      "✅ Prevotella sp. → Proteome ID: UP000198560 (Reference: False, via: name)\n",
      "✅ Nitrospira sp. → Proteome ID: UP000501139 (Reference: False, via: name)\n"
     ]
    },
    {
     "name": "stderr",
     "output_type": "stream",
     "text": [
      " 13%|█▎        | 23/173 [00:03<00:22,  6.53it/s]"
     ]
    },
    {
     "name": "stdout",
     "output_type": "stream",
     "text": [
      "✅ uncultured bacterium → Proteome ID: UP000041370 (Reference: False, via: name)\n"
     ]
    },
    {
     "name": "stderr",
     "output_type": "stream",
     "text": [
      " 14%|█▍        | 25/173 [00:04<00:26,  5.60it/s]"
     ]
    },
    {
     "name": "stdout",
     "output_type": "stream",
     "text": [
      "❌ No proteome found for: uncultured Ruminococcus sp. (Taxon ID: 165186)\n",
      "✅ Candidatus Accumulibacter phosphatis → Proteome ID: UP000020077 (Reference: False, via: name)\n"
     ]
    },
    {
     "name": "stderr",
     "output_type": "stream",
     "text": [
      " 16%|█▌        | 27/173 [00:04<00:23,  6.32it/s]"
     ]
    },
    {
     "name": "stdout",
     "output_type": "stream",
     "text": [
      "✅ Pedobacter sp. → Proteome ID: UP000315466 (Reference: False, via: name)\n",
      "✅ Chitinophagaceae bacterium → Proteome ID: UP000293149 (Reference: False, via: name)\n"
     ]
    },
    {
     "name": "stderr",
     "output_type": "stream",
     "text": [
      " 17%|█▋        | 29/173 [00:04<00:20,  6.98it/s]"
     ]
    },
    {
     "name": "stdout",
     "output_type": "stream",
     "text": [
      "✅ bacterium → Proteome ID: UP000293802 (Reference: False, via: name)\n",
      "✅ Polaromonas sp. → Proteome ID: UP000218978 (Reference: False, via: name)\n"
     ]
    },
    {
     "name": "stderr",
     "output_type": "stream",
     "text": [
      " 18%|█▊        | 31/173 [00:05<00:19,  7.33it/s]"
     ]
    },
    {
     "name": "stdout",
     "output_type": "stream",
     "text": [
      "✅ Flavobacteriaceae bacterium → Proteome ID: UP000260281 (Reference: False, via: name)\n",
      "✅ Variovorax sp. → Proteome ID: UP000315748 (Reference: False, via: name)\n"
     ]
    },
    {
     "name": "stderr",
     "output_type": "stream",
     "text": [
      " 19%|█▉        | 33/173 [00:05<00:18,  7.65it/s]"
     ]
    },
    {
     "name": "stdout",
     "output_type": "stream",
     "text": [
      "✅ Mesorhizobium sp. → Proteome ID: UP000018524 (Reference: False, via: name)\n",
      "✅ Comamonadaceae bacterium → Proteome ID: UP000292155 (Reference: False, via: name)\n"
     ]
    },
    {
     "name": "stderr",
     "output_type": "stream",
     "text": [
      " 20%|██        | 35/173 [00:05<00:18,  7.58it/s]"
     ]
    },
    {
     "name": "stdout",
     "output_type": "stream",
     "text": [
      "✅ Nocardioidaceae bacterium → Proteome ID: UP000510787 (Reference: False, via: name)\n",
      "✅ Brevundimonas sp. → Proteome ID: UP000317223 (Reference: False, via: name)\n"
     ]
    },
    {
     "name": "stderr",
     "output_type": "stream",
     "text": [
      " 21%|██▏       | 37/173 [00:05<00:18,  7.33it/s]"
     ]
    },
    {
     "name": "stdout",
     "output_type": "stream",
     "text": [
      "✅ Novosphingobium sp. → Proteome ID: UP000009242 (Reference: False, via: name)\n",
      "✅ Bacillota bacterium → Proteome ID: UP000681864 (Reference: False, via: name)\n"
     ]
    },
    {
     "name": "stderr",
     "output_type": "stream",
     "text": [
      " 22%|██▏       | 38/173 [00:06<00:17,  7.65it/s]"
     ]
    },
    {
     "name": "stdout",
     "output_type": "stream",
     "text": [
      "✅ Actinomycetes bacterium → Proteome ID: UP000035517 (Reference: False, via: name)\n"
     ]
    },
    {
     "name": "stderr",
     "output_type": "stream",
     "text": [
      " 23%|██▎       | 40/173 [00:06<00:21,  6.06it/s]"
     ]
    },
    {
     "name": "stdout",
     "output_type": "stream",
     "text": [
      "✅ Pseudomonadales bacterium → Proteome ID: UP000227043 (Reference: False, via: name)\n",
      "✅ Burkholderiales bacterium → Proteome ID: UP000664003 (Reference: False, via: name)\n"
     ]
    },
    {
     "name": "stderr",
     "output_type": "stream",
     "text": [
      " 24%|██▍       | 42/173 [00:06<00:18,  6.95it/s]"
     ]
    },
    {
     "name": "stdout",
     "output_type": "stream",
     "text": [
      "✅ Betaproteobacteria bacterium → Proteome ID: UP000437529 (Reference: False, via: name)\n",
      "✅ Rhodocyclaceae bacterium → Proteome ID: UP000235024 (Reference: False, via: name)\n"
     ]
    },
    {
     "name": "stderr",
     "output_type": "stream",
     "text": [
      " 25%|██▌       | 44/173 [00:06<00:17,  7.38it/s]"
     ]
    },
    {
     "name": "stdout",
     "output_type": "stream",
     "text": [
      "✅ Bacteroidota bacterium → Proteome ID: UP000509427 (Reference: False, via: name)\n",
      "✅ Rhodospirillaceae bacterium → Proteome ID: UP000501891 (Reference: False, via: name)\n"
     ]
    },
    {
     "name": "stderr",
     "output_type": "stream",
     "text": [
      " 27%|██▋       | 46/173 [00:07<00:16,  7.85it/s]"
     ]
    },
    {
     "name": "stdout",
     "output_type": "stream",
     "text": [
      "✅ Lachnospiraceae bacterium → Proteome ID: UP000191179 (Reference: False, via: name)\n",
      "✅ Clostridiaceae bacterium → Proteome ID: UP000237298 (Reference: False, via: name)\n"
     ]
    },
    {
     "name": "stderr",
     "output_type": "stream",
     "text": [
      " 28%|██▊       | 48/173 [00:07<00:15,  8.04it/s]"
     ]
    },
    {
     "name": "stdout",
     "output_type": "stream",
     "text": [
      "✅ Spirochaetaceae bacterium → Proteome ID: UP000228721 (Reference: False, via: name)\n",
      "✅ Clostridiales bacterium → Proteome ID: UP000681244 (Reference: False, via: name)\n"
     ]
    },
    {
     "name": "stderr",
     "output_type": "stream",
     "text": [
      " 29%|██▉       | 50/173 [00:07<00:14,  8.32it/s]"
     ]
    },
    {
     "name": "stdout",
     "output_type": "stream",
     "text": [
      "✅ Oceanospirillaceae bacterium → Proteome ID: UP000567520 (Reference: False, via: name)\n",
      "✅ Paracoccaceae bacterium → Proteome ID: UP000319595 (Reference: False, via: name)\n"
     ]
    },
    {
     "name": "stderr",
     "output_type": "stream",
     "text": [
      " 30%|███       | 52/173 [00:07<00:14,  8.32it/s]"
     ]
    },
    {
     "name": "stdout",
     "output_type": "stream",
     "text": [
      "✅ Acetobacteraceae bacterium → Proteome ID: UP000297111 (Reference: False, via: name)\n",
      "✅ Hyphomicrobiales bacterium → Proteome ID: UP000679647 (Reference: False, via: name)\n"
     ]
    },
    {
     "name": "stderr",
     "output_type": "stream",
     "text": [
      " 31%|███       | 54/173 [00:08<00:15,  7.75it/s]"
     ]
    },
    {
     "name": "stdout",
     "output_type": "stream",
     "text": [
      "✅ Solirubrobacterales bacterium → Proteome ID: UP000435342 (Reference: False, via: name)\n",
      "✅ Actinomycetales bacterium → Proteome ID: UP000196124 (Reference: False, via: name)\n"
     ]
    },
    {
     "name": "stderr",
     "output_type": "stream",
     "text": [
      " 32%|███▏      | 56/173 [00:08<00:15,  7.80it/s]"
     ]
    },
    {
     "name": "stdout",
     "output_type": "stream",
     "text": [
      "✅ Rhizobiaceae bacterium → Proteome ID: UP000226672 (Reference: False, via: name)\n",
      "✅ Alphaproteobacteria bacterium → Proteome ID: UP000291202 (Reference: False, via: name)\n"
     ]
    },
    {
     "name": "stderr",
     "output_type": "stream",
     "text": [
      " 34%|███▎      | 58/173 [00:08<00:16,  7.19it/s]"
     ]
    },
    {
     "name": "stdout",
     "output_type": "stream",
     "text": [
      "✅ Gammaproteobacteria bacterium → Proteome ID: UP000292529 (Reference: False, via: name)\n",
      "✅ Lysobacteraceae bacterium → Proteome ID: UP000292226 (Reference: False, via: name)\n"
     ]
    },
    {
     "name": "stderr",
     "output_type": "stream",
     "text": [
      " 35%|███▍      | 60/173 [00:09<00:15,  7.17it/s]"
     ]
    },
    {
     "name": "stdout",
     "output_type": "stream",
     "text": [
      "✅ Lentisphaerota bacterium → Proteome ID: UP000663363 (Reference: False, via: name)\n",
      "✅ Ferruginibacter sp. → Proteome ID: UP000538852 (Reference: False, via: name)\n"
     ]
    },
    {
     "name": "stderr",
     "output_type": "stream",
     "text": [
      " 36%|███▌      | 62/173 [00:09<00:14,  7.73it/s]"
     ]
    },
    {
     "name": "stdout",
     "output_type": "stream",
     "text": [
      "✅ Phaeodactylibacter sp. → Proteome ID: UP000695919 (Reference: False, via: name)\n",
      "✅ Rhodobacterales bacterium → Proteome ID: UP000324880 (Reference: False, via: name)\n"
     ]
    },
    {
     "name": "stderr",
     "output_type": "stream",
     "text": [
      " 37%|███▋      | 64/173 [00:09<00:13,  7.95it/s]"
     ]
    },
    {
     "name": "stdout",
     "output_type": "stream",
     "text": [
      "✅ Pseudomonadota bacterium → Proteome ID: UP000293400 (Reference: False, via: name)\n",
      "✅ Caulobacteraceae bacterium → Proteome ID: UP000291219 (Reference: False, via: name)\n"
     ]
    },
    {
     "name": "stderr",
     "output_type": "stream",
     "text": [
      " 38%|███▊      | 66/173 [00:09<00:12,  8.27it/s]"
     ]
    },
    {
     "name": "stdout",
     "output_type": "stream",
     "text": [
      "✅ Acidobacteriota bacterium → Proteome ID: UP000324789 (Reference: False, via: name)\n",
      "✅ Sphingomonadales bacterium → Proteome ID: UP000292783 (Reference: False, via: name)\n"
     ]
    },
    {
     "name": "stderr",
     "output_type": "stream",
     "text": [
      " 39%|███▉      | 68/173 [00:10<00:13,  7.84it/s]"
     ]
    },
    {
     "name": "stdout",
     "output_type": "stream",
     "text": [
      "✅ Opitutaceae bacterium → Proteome ID: UP000003813 (Reference: False, via: name)\n",
      "✅ Lysobacterales bacterium → Proteome ID: UP000292226 (Reference: False, via: name)\n"
     ]
    },
    {
     "name": "stderr",
     "output_type": "stream",
     "text": [
      " 40%|████      | 70/173 [00:10<00:11,  8.61it/s]"
     ]
    },
    {
     "name": "stdout",
     "output_type": "stream",
     "text": [
      "✅ Hyphomicrobiaceae bacterium → Proteome ID: UP000437123 (Reference: False, via: name)\n",
      "✅ Alcaligenaceae bacterium → Proteome ID: UP000306734 (Reference: False, via: name)\n"
     ]
    },
    {
     "name": "stderr",
     "output_type": "stream",
     "text": [
      " 42%|████▏     | 72/173 [00:10<00:11,  8.51it/s]"
     ]
    },
    {
     "name": "stdout",
     "output_type": "stream",
     "text": [
      "✅ Flavobacteriales bacterium → Proteome ID: UP000664181 (Reference: False, via: name)\n",
      "✅ Acidimicrobiaceae bacterium → Proteome ID: UP000226507 (Reference: False, via: name)\n"
     ]
    },
    {
     "name": "stderr",
     "output_type": "stream",
     "text": [
      " 43%|████▎     | 74/173 [00:10<00:11,  8.72it/s]"
     ]
    },
    {
     "name": "stdout",
     "output_type": "stream",
     "text": [
      "✅ Anaerolineaceae bacterium → Proteome ID: UP000221358 (Reference: False, via: name)\n",
      "✅ Pseudobdellovibrionaceae bacterium → Proteome ID: UP000226554 (Reference: False, via: name)\n"
     ]
    },
    {
     "name": "stderr",
     "output_type": "stream",
     "text": [
      " 44%|████▍     | 76/173 [00:10<00:11,  8.78it/s]"
     ]
    },
    {
     "name": "stdout",
     "output_type": "stream",
     "text": [
      "✅ Candidatus Saccharibacteria bacterium → Proteome ID: UP000608889 (Reference: False, via: name)\n",
      "✅ Chloroflexota bacterium → Proteome ID: UP000655226 (Reference: False, via: name)\n"
     ]
    },
    {
     "name": "stderr",
     "output_type": "stream",
     "text": [
      " 45%|████▌     | 78/173 [00:11<00:11,  8.58it/s]"
     ]
    },
    {
     "name": "stdout",
     "output_type": "stream",
     "text": [
      "✅ Chromatiales bacterium → Proteome ID: UP000221897 (Reference: False, via: name)\n",
      "✅ Crocinitomicaceae bacterium → Proteome ID: UP000227081 (Reference: False, via: name)\n"
     ]
    },
    {
     "name": "stderr",
     "output_type": "stream",
     "text": [
      " 46%|████▌     | 80/173 [00:11<00:11,  8.32it/s]"
     ]
    },
    {
     "name": "stdout",
     "output_type": "stream",
     "text": [
      "✅ Dehalococcoidia bacterium → Proteome ID: UP000471295 (Reference: False, via: name)\n",
      "✅ Deltaproteobacteria bacterium → Proteome ID: UP000430523 (Reference: False, via: name)\n"
     ]
    },
    {
     "name": "stderr",
     "output_type": "stream",
     "text": [
      " 47%|████▋     | 81/173 [00:11<00:11,  8.00it/s]"
     ]
    },
    {
     "name": "stdout",
     "output_type": "stream",
     "text": [
      "✅ Gemmatimonadaceae bacterium → Proteome ID: UP000226915 (Reference: False, via: name)\n"
     ]
    },
    {
     "name": "stderr",
     "output_type": "stream",
     "text": [
      " 48%|████▊     | 83/173 [00:11<00:15,  5.77it/s]"
     ]
    },
    {
     "name": "stdout",
     "output_type": "stream",
     "text": [
      "✅ Gemmatimonadota bacterium → Proteome ID: UP000221516 (Reference: False, via: name)\n",
      "✅ Halieaceae bacterium → Proteome ID: UP000228746 (Reference: False, via: name)\n"
     ]
    },
    {
     "name": "stderr",
     "output_type": "stream",
     "text": [
      " 49%|████▉     | 85/173 [00:12<00:12,  6.83it/s]"
     ]
    },
    {
     "name": "stdout",
     "output_type": "stream",
     "text": [
      "✅ Hyphomonadaceae bacterium → Proteome ID: UP000229416 (Reference: False, via: name)\n",
      "✅ Ignavibacteriota bacterium → Proteome ID: UP000226925 (Reference: False, via: name)\n"
     ]
    },
    {
     "name": "stderr",
     "output_type": "stream",
     "text": [
      " 50%|█████     | 87/173 [00:12<00:11,  7.46it/s]"
     ]
    },
    {
     "name": "stdout",
     "output_type": "stream",
     "text": [
      "✅ Leptospiraceae bacterium → Proteome ID: UP000229946 (Reference: False, via: name)\n",
      "✅ Fidelibacterota bacterium → Proteome ID: UP000297497 (Reference: False, via: name)\n"
     ]
    },
    {
     "name": "stderr",
     "output_type": "stream",
     "text": [
      " 51%|█████▏    | 89/173 [00:12<00:10,  7.97it/s]"
     ]
    },
    {
     "name": "stdout",
     "output_type": "stream",
     "text": [
      "✅ Myxococcales bacterium → Proteome ID: UP000291769 (Reference: False, via: name)\n",
      "✅ Nitrospinota bacterium → Proteome ID: UP000226943 (Reference: False, via: name)\n"
     ]
    },
    {
     "name": "stderr",
     "output_type": "stream",
     "text": [
      " 53%|█████▎    | 91/173 [00:12<00:10,  8.08it/s]"
     ]
    },
    {
     "name": "stdout",
     "output_type": "stream",
     "text": [
      "✅ Nitrospiraceae bacterium → Proteome ID: UP001147470 (Reference: False, via: name)\n",
      "✅ Opitutia bacterium → Proteome ID: UP000003813 (Reference: False, via: name)\n"
     ]
    },
    {
     "name": "stderr",
     "output_type": "stream",
     "text": [
      " 54%|█████▍    | 93/173 [00:13<00:09,  8.24it/s]"
     ]
    },
    {
     "name": "stdout",
     "output_type": "stream",
     "text": [
      "✅ Phycisphaeraceae bacterium → Proteome ID: UP000222953 (Reference: False, via: name)\n",
      "✅ Phycisphaerae bacterium → Proteome ID: UP000316082 (Reference: False, via: name)\n"
     ]
    },
    {
     "name": "stderr",
     "output_type": "stream",
     "text": [
      " 55%|█████▍    | 95/173 [00:13<00:09,  8.09it/s]"
     ]
    },
    {
     "name": "stdout",
     "output_type": "stream",
     "text": [
      "✅ Planctomycetaceae bacterium → Proteome ID: UP000222210 (Reference: False, via: name)\n",
      "✅ Planctomycetota bacterium → Proteome ID: UP000315010 (Reference: False, via: name)\n"
     ]
    },
    {
     "name": "stderr",
     "output_type": "stream",
     "text": [
      " 56%|█████▌    | 97/173 [00:13<00:09,  8.44it/s]"
     ]
    },
    {
     "name": "stdout",
     "output_type": "stream",
     "text": [
      "✅ Candidatus Poribacteria bacterium → Proteome ID: UP000226579 (Reference: False, via: name)\n",
      "✅ Porticoccaceae bacterium → Proteome ID: UP001177579 (Reference: False, via: name)\n"
     ]
    },
    {
     "name": "stderr",
     "output_type": "stream",
     "text": [
      " 57%|█████▋    | 98/173 [00:13<00:08,  8.52it/s]"
     ]
    },
    {
     "name": "stdout",
     "output_type": "stream",
     "text": [
      "✅ Rhodobiaceae bacterium → Proteome ID: UP000253117 (Reference: False, via: name)\n"
     ]
    },
    {
     "name": "stderr",
     "output_type": "stream",
     "text": [
      " 58%|█████▊    | 100/173 [00:14<00:10,  6.82it/s]"
     ]
    },
    {
     "name": "stdout",
     "output_type": "stream",
     "text": [
      "✅ Rhodospirillales bacterium → Proteome ID: UP000438537 (Reference: False, via: name)\n",
      "✅ Rickettsiales bacterium → Proteome ID: UP000028936 (Reference: False, via: name)\n"
     ]
    },
    {
     "name": "stderr",
     "output_type": "stream",
     "text": [
      " 59%|█████▉    | 102/173 [00:14<00:09,  7.46it/s]"
     ]
    },
    {
     "name": "stdout",
     "output_type": "stream",
     "text": [
      "✅ Bryobacterales bacterium → Proteome ID: UP000228926 (Reference: False, via: name)\n",
      "✅ Spirochaetales bacterium → Proteome ID: UP000226503 (Reference: False, via: name)\n"
     ]
    },
    {
     "name": "stderr",
     "output_type": "stream",
     "text": [
      " 60%|██████    | 104/173 [00:14<00:08,  8.08it/s]"
     ]
    },
    {
     "name": "stdout",
     "output_type": "stream",
     "text": [
      "✅ Verrucomicrobiota bacterium → Proteome ID: UP000033046 (Reference: False, via: name)\n",
      "✅ Verrucomicrobiaceae bacterium → Proteome ID: UP000293567 (Reference: False, via: name)\n"
     ]
    },
    {
     "name": "stderr",
     "output_type": "stream",
     "text": [
      " 61%|██████▏   | 106/173 [00:14<00:07,  8.54it/s]"
     ]
    },
    {
     "name": "stdout",
     "output_type": "stream",
     "text": [
      "✅ Verrucomicrobiales bacterium → Proteome ID: UP000216473 (Reference: False, via: name)\n",
      "✅ Nitrospirota bacterium → Proteome ID: UP000298402 (Reference: False, via: name)\n"
     ]
    },
    {
     "name": "stderr",
     "output_type": "stream",
     "text": [
      " 62%|██████▏   | 108/173 [00:15<00:07,  8.62it/s]"
     ]
    },
    {
     "name": "stdout",
     "output_type": "stream",
     "text": [
      "✅ Elusimicrobiota bacterium → Proteome ID: UP001064802 (Reference: False, via: name)\n",
      "✅ Burkholderiaceae bacterium → Proteome ID: UP000510879 (Reference: False, via: name)\n"
     ]
    },
    {
     "name": "stderr",
     "output_type": "stream",
     "text": [
      " 64%|██████▎   | 110/173 [00:15<00:07,  8.08it/s]"
     ]
    },
    {
     "name": "stdout",
     "output_type": "stream",
     "text": [
      "✅ Candidatus Cloacimonadota bacterium → Proteome ID: UP000218146 (Reference: False, via: name)\n",
      "✅ Candidatus Hydrogenedentota bacterium → Proteome ID: UP000230406 (Reference: False, via: name)\n"
     ]
    },
    {
     "name": "stderr",
     "output_type": "stream",
     "text": [
      " 65%|██████▍   | 112/173 [00:15<00:10,  6.02it/s]"
     ]
    },
    {
     "name": "stdout",
     "output_type": "stream",
     "text": [
      "✅ SAR202 cluster bacterium → Proteome ID: UP000326137 (Reference: False, via: name)\n",
      "✅ Bacteroidales bacterium → Proteome ID: UP000676034 (Reference: False, via: name)\n"
     ]
    },
    {
     "name": "stderr",
     "output_type": "stream",
     "text": [
      " 66%|██████▌   | 114/173 [00:16<00:08,  6.80it/s]"
     ]
    },
    {
     "name": "stdout",
     "output_type": "stream",
     "text": [
      "✅ Armatimonadota bacterium → Proteome ID: UP000195582 (Reference: False, via: name)\n",
      "✅ Candidatus Omnitrophota bacterium → Proteome ID: UP000257775 (Reference: False, via: name)\n"
     ]
    },
    {
     "name": "stderr",
     "output_type": "stream",
     "text": [
      " 67%|██████▋   | 116/173 [00:16<00:08,  7.06it/s]"
     ]
    },
    {
     "name": "stdout",
     "output_type": "stream",
     "text": [
      "✅ Bacteroidia bacterium → Proteome ID: UP000676034 (Reference: False, via: name)\n",
      "✅ Clostridia bacterium → Proteome ID: UP000655701 (Reference: False, via: name)\n"
     ]
    },
    {
     "name": "stderr",
     "output_type": "stream",
     "text": [
      " 68%|██████▊   | 118/173 [00:16<00:08,  6.75it/s]"
     ]
    },
    {
     "name": "stdout",
     "output_type": "stream",
     "text": [
      "✅ Desulfobacterales bacterium → Proteome ID: UP000228720 (Reference: False, via: name)\n",
      "✅ Sphingobacteriales bacterium → Proteome ID: UP000240367 (Reference: False, via: name)\n"
     ]
    },
    {
     "name": "stderr",
     "output_type": "stream",
     "text": [
      " 69%|██████▉   | 119/173 [00:16<00:07,  7.24it/s]"
     ]
    },
    {
     "name": "stdout",
     "output_type": "stream",
     "text": [
      "✅ Porphyromonadaceae bacterium → Proteome ID: UP000030107 (Reference: False, via: name)\n"
     ]
    },
    {
     "name": "stderr",
     "output_type": "stream",
     "text": [
      " 70%|██████▉   | 121/173 [00:17<00:08,  5.93it/s]"
     ]
    },
    {
     "name": "stdout",
     "output_type": "stream",
     "text": [
      "✅ Rikenellaceae bacterium → Proteome ID: UP000258783 (Reference: False, via: name)\n",
      "✅ Ignavibacteriales bacterium → Proteome ID: UP000678872 (Reference: False, via: name)\n"
     ]
    },
    {
     "name": "stderr",
     "output_type": "stream",
     "text": [
      " 71%|███████   | 123/173 [00:17<00:07,  6.69it/s]"
     ]
    },
    {
     "name": "stdout",
     "output_type": "stream",
     "text": [
      "✅ Tissierellia bacterium → Proteome ID: UP000070503 (Reference: False, via: name)\n",
      "✅ Desulfobacteraceae bacterium → Proteome ID: UP000236646 (Reference: False, via: name)\n"
     ]
    },
    {
     "name": "stderr",
     "output_type": "stream",
     "text": [
      " 72%|███████▏  | 125/173 [00:17<00:06,  7.24it/s]"
     ]
    },
    {
     "name": "stdout",
     "output_type": "stream",
     "text": [
      "✅ Patescibacteria group bacterium → Proteome ID: UP000557613 (Reference: False, via: name)\n",
      "✅ Acidobacteriaceae bacterium → Proteome ID: UP000527645 (Reference: False, via: name)\n"
     ]
    },
    {
     "name": "stderr",
     "output_type": "stream",
     "text": [
      " 73%|███████▎  | 127/173 [00:17<00:06,  7.62it/s]"
     ]
    },
    {
     "name": "stdout",
     "output_type": "stream",
     "text": [
      "✅ Anaerolineae bacterium → Proteome ID: UP000510895 (Reference: False, via: name)\n",
      "✅ Blastocatellia bacterium → Proteome ID: UP000245515 (Reference: False, via: name)\n"
     ]
    },
    {
     "name": "stderr",
     "output_type": "stream",
     "text": [
      " 75%|███████▍  | 129/173 [00:18<00:05,  7.77it/s]"
     ]
    },
    {
     "name": "stdout",
     "output_type": "stream",
     "text": [
      "✅ candidate division WOR-3 bacterium → Proteome ID: UP000262454 (Reference: False, via: name)\n",
      "✅ Candidatus Aminicenantes bacterium → Proteome ID: UP000235566 (Reference: False, via: name)\n"
     ]
    },
    {
     "name": "stderr",
     "output_type": "stream",
     "text": [
      " 76%|███████▌  | 131/173 [00:18<00:06,  6.90it/s]"
     ]
    },
    {
     "name": "stdout",
     "output_type": "stream",
     "text": [
      "✅ Gemmataceae bacterium → Proteome ID: UP000485840 (Reference: False, via: name)\n",
      "✅ Peptococcaceae bacterium → Proteome ID: UP000681387 (Reference: False, via: name)\n"
     ]
    },
    {
     "name": "stderr",
     "output_type": "stream",
     "text": [
      " 77%|███████▋  | 133/173 [00:18<00:05,  7.35it/s]"
     ]
    },
    {
     "name": "stdout",
     "output_type": "stream",
     "text": [
      "✅ Phycisphaerales bacterium → Proteome ID: UP000664142 (Reference: False, via: name)\n",
      "✅ Planctomycetia bacterium → Proteome ID: UP000485840 (Reference: False, via: name)\n"
     ]
    },
    {
     "name": "stderr",
     "output_type": "stream",
     "text": [
      " 78%|███████▊  | 135/173 [00:19<00:05,  6.52it/s]"
     ]
    },
    {
     "name": "stdout",
     "output_type": "stream",
     "text": [
      "✅ Syntrophaceae bacterium → Proteome ID: UP000683141 (Reference: False, via: name)\n",
      "✅ Limisphaerales bacterium → Proteome ID: UP000259012 (Reference: False, via: name)\n"
     ]
    },
    {
     "name": "stderr",
     "output_type": "stream",
     "text": [
      " 79%|███████▉  | 137/173 [00:19<00:05,  6.96it/s]"
     ]
    },
    {
     "name": "stdout",
     "output_type": "stream",
     "text": [
      "✅ Ignavibacteria bacterium → Proteome ID: UP000678872 (Reference: False, via: name)\n",
      "✅ Desulfobulbaceae bacterium → Proteome ID: UP000682332 (Reference: False, via: name)\n"
     ]
    },
    {
     "name": "stderr",
     "output_type": "stream",
     "text": [
      " 80%|████████  | 139/173 [00:19<00:04,  7.49it/s]"
     ]
    },
    {
     "name": "stdout",
     "output_type": "stream",
     "text": [
      "✅ Accumulibacter sp. → Proteome ID: UP000020226 (Reference: False, via: name)\n",
      "✅ Bdellovibrionales bacterium → Proteome ID: UP000258691 (Reference: False, via: name)\n"
     ]
    },
    {
     "name": "stderr",
     "output_type": "stream",
     "text": [
      " 82%|████████▏ | 141/173 [00:19<00:04,  7.96it/s]"
     ]
    },
    {
     "name": "stdout",
     "output_type": "stream",
     "text": [
      "✅ Candidatus Zixiibacteriota bacterium → Proteome ID: UP000412907 (Reference: False, via: name)\n",
      "✅ Candidatus Competibacteraceae bacterium → Proteome ID: UP000259827 (Reference: False, via: name)\n"
     ]
    },
    {
     "name": "stderr",
     "output_type": "stream",
     "text": [
      " 83%|████████▎ | 143/173 [00:20<00:03,  8.19it/s]"
     ]
    },
    {
     "name": "stdout",
     "output_type": "stream",
     "text": [
      "✅ Cytophagales bacterium → Proteome ID: UP000628204 (Reference: False, via: name)\n",
      "✅ Lentisphaeria bacterium → Proteome ID: UP000261795 (Reference: False, via: name)\n"
     ]
    },
    {
     "name": "stderr",
     "output_type": "stream",
     "text": [
      " 84%|████████▍ | 145/173 [00:20<00:03,  8.50it/s]"
     ]
    },
    {
     "name": "stdout",
     "output_type": "stream",
     "text": [
      "✅ Candidatus Latescibacterota bacterium → Proteome ID: UP000681675 (Reference: False, via: name)\n",
      "✅ Planctomycetales bacterium → Proteome ID: UP000352687 (Reference: False, via: name)\n"
     ]
    },
    {
     "name": "stderr",
     "output_type": "stream",
     "text": [
      " 85%|████████▍ | 147/173 [00:20<00:03,  7.95it/s]"
     ]
    },
    {
     "name": "stdout",
     "output_type": "stream",
     "text": [
      "✅ Candidatus Rokuibacteriota bacterium → Proteome ID: UP000247367 (Reference: False, via: name)\n",
      "✅ Candidatus Methylomirabilota bacterium → Proteome ID: UP000245904 (Reference: False, via: name)\n"
     ]
    },
    {
     "name": "stderr",
     "output_type": "stream",
     "text": [
      " 86%|████████▌ | 149/173 [00:20<00:03,  8.00it/s]"
     ]
    },
    {
     "name": "stdout",
     "output_type": "stream",
     "text": [
      "✅ Anaerolineales bacterium → Proteome ID: UP000664790 (Reference: False, via: name)\n",
      "✅ Acidimicrobiia bacterium → Proteome ID: UP000473322 (Reference: False, via: name)\n"
     ]
    },
    {
     "name": "stderr",
     "output_type": "stream",
     "text": [
      " 87%|████████▋ | 150/173 [00:21<00:02,  7.98it/s]"
     ]
    },
    {
     "name": "stdout",
     "output_type": "stream",
     "text": [
      "✅ Candidatus Dadabacteria bacterium → Proteome ID: UP000267849 (Reference: False, via: name)\n"
     ]
    },
    {
     "name": "stderr",
     "output_type": "stream",
     "text": [
      " 88%|████████▊ | 152/173 [00:21<00:03,  5.87it/s]"
     ]
    },
    {
     "name": "stdout",
     "output_type": "stream",
     "text": [
      "✅ Terriglobia bacterium → Proteome ID: UP000245990 (Reference: False, via: name)\n",
      "✅ Syntrophomonadaceae bacterium → Proteome ID: UP000678406 (Reference: False, via: name)\n"
     ]
    },
    {
     "name": "stderr",
     "output_type": "stream",
     "text": [
      " 89%|████████▉ | 154/173 [00:21<00:02,  6.99it/s]"
     ]
    },
    {
     "name": "stdout",
     "output_type": "stream",
     "text": [
      "✅ Cyclobacteriaceae bacterium → Proteome ID: UP000509630 (Reference: False, via: name)\n",
      "✅ Candidatus Zhuqueibacterota bacterium → Proteome ID: UP000265450 (Reference: False, via: name)\n"
     ]
    },
    {
     "name": "stderr",
     "output_type": "stream",
     "text": [
      " 90%|█████████ | 156/173 [00:21<00:02,  7.68it/s]"
     ]
    },
    {
     "name": "stdout",
     "output_type": "stream",
     "text": [
      "✅ Chthoniobacterales bacterium → Proteome ID: UP000248826 (Reference: False, via: name)\n",
      "✅ Acidimicrobiales bacterium → Proteome ID: UP000249517 (Reference: False, via: name)\n"
     ]
    },
    {
     "name": "stderr",
     "output_type": "stream",
     "text": [
      " 91%|█████████ | 157/173 [00:22<00:02,  7.08it/s]"
     ]
    },
    {
     "name": "stdout",
     "output_type": "stream",
     "text": [
      "✅ Spirochaetota bacterium → Proteome ID: UP000510830 (Reference: False, via: name)\n"
     ]
    },
    {
     "name": "stderr",
     "output_type": "stream",
     "text": [
      " 92%|█████████▏| 159/173 [00:22<00:02,  6.38it/s]"
     ]
    },
    {
     "name": "stdout",
     "output_type": "stream",
     "text": [
      "✅ Saprospiraceae bacterium → Proteome ID: UP000318368 (Reference: False, via: name)\n",
      "✅ Bryobacteraceae bacterium → Proteome ID: UP000520895 (Reference: False, via: name)\n"
     ]
    },
    {
     "name": "stderr",
     "output_type": "stream",
     "text": [
      " 93%|█████████▎| 161/173 [00:22<00:01,  7.12it/s]"
     ]
    },
    {
     "name": "stdout",
     "output_type": "stream",
     "text": [
      "✅ Calditrichota bacterium → Proteome ID: UP000267650 (Reference: False, via: name)\n",
      "✅ Candidatus Eiseniibacteriota bacterium → Proteome ID: UP000178273 (Reference: False, via: name)\n"
     ]
    },
    {
     "name": "stderr",
     "output_type": "stream",
     "text": [
      " 94%|█████████▍| 163/173 [00:22<00:01,  7.72it/s]"
     ]
    },
    {
     "name": "stdout",
     "output_type": "stream",
     "text": [
      "✅ Chlorobiota bacterium → Proteome ID: UP000037950 (Reference: False, via: name)\n",
      "✅ Polyangiaceae bacterium → Proteome ID: UP000537077 (Reference: False, via: name)\n"
     ]
    },
    {
     "name": "stderr",
     "output_type": "stream",
     "text": [
      " 95%|█████████▌| 165/173 [00:23<00:01,  7.81it/s]"
     ]
    },
    {
     "name": "stdout",
     "output_type": "stream",
     "text": [
      "✅ Pyrinomonadaceae bacterium → Proteome ID: UP000517880 (Reference: False, via: name)\n",
      "✅ Gemmatimonadales bacterium → Proteome ID: UP000318813 (Reference: False, via: name)\n"
     ]
    },
    {
     "name": "stderr",
     "output_type": "stream",
     "text": [
      " 97%|█████████▋| 167/173 [00:23<00:00,  7.97it/s]"
     ]
    },
    {
     "name": "stdout",
     "output_type": "stream",
     "text": [
      "✅ Chloroflexia bacterium → Proteome ID: UP000462167 (Reference: False, via: name)\n",
      "✅ Oscillospiraceae bacterium → Proteome ID: UP000678348 (Reference: False, via: name)\n"
     ]
    },
    {
     "name": "stderr",
     "output_type": "stream",
     "text": [
      " 98%|█████████▊| 169/173 [00:23<00:00,  8.14it/s]"
     ]
    },
    {
     "name": "stdout",
     "output_type": "stream",
     "text": [
      "✅ Verrucomicrobiia bacterium → Proteome ID: UP000003839 (Reference: False, via: name)\n",
      "✅ Caldilineaceae bacterium → Proteome ID: UP000674002 (Reference: False, via: name)\n"
     ]
    },
    {
     "name": "stderr",
     "output_type": "stream",
     "text": [
      " 99%|█████████▉| 171/173 [00:23<00:00,  8.49it/s]"
     ]
    },
    {
     "name": "stdout",
     "output_type": "stream",
     "text": [
      "✅ Pirellulaceae bacterium → Proteome ID: UP000566337 (Reference: False, via: name)\n",
      "✅ Candidatus Parcubacteria bacterium → Proteome ID: UP000018547 (Reference: False, via: name)\n"
     ]
    },
    {
     "name": "stderr",
     "output_type": "stream",
     "text": [
      "100%|██████████| 173/173 [00:24<00:00,  7.15it/s]"
     ]
    },
    {
     "name": "stdout",
     "output_type": "stream",
     "text": [
      "✅ Actinomycetota bacterium → Proteome ID: UP000678472 (Reference: False, via: name)\n",
      "✅ Vulcanimicrobiota bacterium → Proteome ID: UP000249174 (Reference: False, via: name)\n",
      "\n",
      "🎯 Proteomes found for 171 out of 173 strains.\n",
      "\n",
      "⚠️ No proteomes found for 2 strains:\n",
      " - uncultured Clostridium sp. (Taxon ID: 59620)\n",
      " - uncultured Ruminococcus sp. (Taxon ID: 165186)\n",
      "📄 Summary saved to: fasta_proteomes_proteomes_api/session_strain_level_2025-05-26_20-27-13\\strain_proteome_matches.csv\n"
     ]
    },
    {
     "name": "stderr",
     "output_type": "stream",
     "text": [
      "\n"
     ]
    }
   ],
   "source": [
    "from datetime import datetime\n",
    "import os\n",
    "\n",
    "# Define the output session directory based on current timestamp\n",
    "session_time = datetime.now().strftime(\"%Y-%m-%d_%H-%M-%S\")\n",
    "output_dir = base_path / f\"fasta_proteomes_proteomes_api/session_strain_level_{session_time}\"\n",
    "os.makedirs(output_dir, exist_ok=True)\n",
    "\n",
    "# Now use this path to write the CSV\n",
    "output_csv_path = os.path.join(output_dir, \"strain_proteome_matches.csv\")\n",
    "\n",
    "# Get the proteome matches using the function\n",
    "found_proteomes = search_best_proteomes(filtered_by_kingdom)\n",
    "\n",
    "# Save the results to a CSV file\n",
    "save_proteome_matches_to_csv(found_proteomes, output_csv_path)"
   ]
  },
  {
   "cell_type": "code",
   "execution_count": 96,
   "id": "ebf3f5f5",
   "metadata": {},
   "outputs": [
    {
     "name": "stdout",
     "output_type": "stream",
     "text": [
      "📦 Starting protein download...\n",
      "\n",
      "✅ UP000002139 (Sorangium cellulosum): 9320 proteins\n",
      "✅ UP000002967 (Treponema sp.): 2570 proteins\n",
      "✅ UP000316154 (Flavobacterium sp.): 3029 proteins\n",
      "✅ UP000002332 (Pseudomonas fluorescens): 474 proteins\n",
      "✅ UP000000556 (Pseudomonas putida): 5527 proteins\n",
      "✅ UP000004339 (Pseudomonas sp.): 5675 proteins\n",
      "✅ UP000028631 (Pseudomonas syringae): 4834 proteins\n",
      "✅ UP000008330 (Rhizobium leguminosarum): 313 proteins\n",
      "✅ UP000000625 (Escherichia coli): 4402 proteins\n",
      "✅ UP000019183 (Klebsiella pneumoniae): 5959 proteins\n",
      "✅ UP000000594 (Bacillus cereus): 5493 proteins\n",
      "✅ UP000003978 (Clostridium sp.): 4496 proteins\n",
      "✅ UP000051127 (Mycobacterium sp.): 5998 proteins\n",
      "✅ UP000033201 (Sphingomonas sp.): 3084 proteins\n",
      "✅ UP000298196 (Salmonella enterica): 5880 proteins\n",
      "✅ UP000003135 (Bacteroides sp.): 5202 proteins\n",
      "✅ UP000035170 (Variovorax paradoxus): 6790 proteins\n",
      "✅ UP000316214 (Rubrivivax sp.): 4239 proteins\n",
      "✅ UP000641280 (Rhodoferax sp.): 3875 proteins\n",
      "✅ UP000198560 (Prevotella sp.): 2763 proteins\n",
      "✅ UP000501139 (Nitrospira sp.): 4311 proteins\n",
      "✅ UP000041370 (uncultured bacterium): 1290 proteins\n",
      "✅ UP000020077 (Candidatus Accumulibacter phosphatis): 4449 proteins\n",
      "✅ UP000315466 (Pedobacter sp.): 6611 proteins\n",
      "✅ UP000293149 (Chitinophagaceae bacterium): 3060 proteins\n",
      "✅ UP000293802 (bacterium): 5998 proteins\n",
      "✅ UP000218978 (Polaromonas sp.): 4286 proteins\n",
      "✅ UP000260281 (Flavobacteriaceae bacterium): 3010 proteins\n",
      "✅ UP000315748 (Variovorax sp.): 4285 proteins\n",
      "✅ UP000018524 (Mesorhizobium sp.): 7026 proteins\n",
      "✅ UP000292155 (Comamonadaceae bacterium): 4276 proteins\n",
      "✅ UP000510787 (Nocardioidaceae bacterium): 2963 proteins\n",
      "✅ UP000317223 (Brevundimonas sp.): 2819 proteins\n",
      "✅ UP000009242 (Novosphingobium sp.): 4624 proteins\n",
      "✅ UP000681864 (Bacillota bacterium): 2157 proteins\n",
      "✅ UP000035517 (Actinomycetes bacterium): 2299 proteins\n",
      "✅ UP000227043 (Pseudomonadales bacterium): 4097 proteins\n",
      "✅ UP000664003 (Burkholderiales bacterium): 3702 proteins\n",
      "✅ UP000437529 (Betaproteobacteria bacterium): 5913 proteins\n",
      "✅ UP000235024 (Rhodocyclaceae bacterium): 2909 proteins\n",
      "✅ UP000509427 (Bacteroidota bacterium): 4173 proteins\n",
      "✅ UP000501891 (Rhodospirillaceae bacterium): 3265 proteins\n",
      "✅ UP000191179 (Lachnospiraceae bacterium): 3259 proteins\n",
      "✅ UP000237298 (Clostridiaceae bacterium): 2036 proteins\n",
      "✅ UP000228721 (Spirochaetaceae bacterium): 4209 proteins\n",
      "✅ UP000681244 (Clostridiales bacterium): 1857 proteins\n",
      "✅ UP000567520 (Oceanospirillaceae bacterium): 3262 proteins\n",
      "✅ UP000319595 (Paracoccaceae bacterium): 3313 proteins\n",
      "✅ UP000297111 (Acetobacteraceae bacterium): 1743 proteins\n",
      "✅ UP000679647 (Hyphomicrobiales bacterium): 3214 proteins\n",
      "✅ UP000435342 (Solirubrobacterales bacterium): 4121 proteins\n",
      "✅ UP000196124 (Actinomycetales bacterium): 2923 proteins\n",
      "✅ UP000226672 (Rhizobiaceae bacterium): 5177 proteins\n",
      "✅ UP000291202 (Alphaproteobacteria bacterium): 5432 proteins\n",
      "✅ UP000292529 (Gammaproteobacteria bacterium): 3997 proteins\n",
      "✅ UP000292226 (Lysobacteraceae bacterium): 3169 proteins\n",
      "✅ UP000663363 (Lentisphaerota bacterium): 2655 proteins\n",
      "✅ UP000538852 (Ferruginibacter sp.): 4612 proteins\n",
      "✅ UP000695919 (Phaeodactylibacter sp.): 5393 proteins\n",
      "✅ UP000324880 (Rhodobacterales bacterium): 5345 proteins\n",
      "✅ UP000293400 (Pseudomonadota bacterium): 5266 proteins\n",
      "✅ UP000291219 (Caulobacteraceae bacterium): 4191 proteins\n",
      "✅ UP000324789 (Acidobacteriota bacterium): 5367 proteins\n",
      "✅ UP000292783 (Sphingomonadales bacterium): 4688 proteins\n",
      "✅ UP000003813 (Opitutaceae bacterium): 6011 proteins\n",
      "✅ UP000292226 (Lysobacterales bacterium): 3169 proteins\n",
      "✅ UP000437123 (Hyphomicrobiaceae bacterium): 4942 proteins\n",
      "✅ UP000306734 (Alcaligenaceae bacterium): 3405 proteins\n",
      "✅ UP000664181 (Flavobacteriales bacterium): 2725 proteins\n",
      "✅ UP000226507 (Acidimicrobiaceae bacterium): 2644 proteins\n",
      "✅ UP000221358 (Anaerolineaceae bacterium): 6021 proteins\n",
      "✅ UP000226554 (Pseudobdellovibrionaceae bacterium): 3332 proteins\n",
      "✅ UP000608889 (Candidatus Saccharibacteria bacterium): 697 proteins\n",
      "✅ UP000655226 (Chloroflexota bacterium): 7330 proteins\n",
      "✅ UP000221897 (Chromatiales bacterium): 2397 proteins\n",
      "✅ UP000227081 (Crocinitomicaceae bacterium): 4398 proteins\n",
      "✅ UP000471295 (Dehalococcoidia bacterium): 2903 proteins\n",
      "✅ UP000430523 (Deltaproteobacteria bacterium): 3959 proteins\n",
      "✅ UP000226915 (Gemmatimonadaceae bacterium): 1651 proteins\n",
      "✅ UP000221516 (Gemmatimonadota bacterium): 1751 proteins\n",
      "✅ UP000228746 (Halieaceae bacterium): 2535 proteins\n",
      "✅ UP000229416 (Hyphomonadaceae bacterium): 3218 proteins\n",
      "✅ UP000226925 (Ignavibacteriota bacterium): 3703 proteins\n",
      "✅ UP000229946 (Leptospiraceae bacterium): 3919 proteins\n",
      "✅ UP000297497 (Fidelibacterota bacterium): 1311 proteins\n",
      "✅ UP000291769 (Myxococcales bacterium): 7151 proteins\n",
      "✅ UP000226943 (Nitrospinota bacterium): 2430 proteins\n",
      "✅ UP001147470 (Nitrospiraceae bacterium): 3043 proteins\n",
      "✅ UP000003813 (Opitutia bacterium): 6011 proteins\n",
      "✅ UP000222953 (Phycisphaeraceae bacterium): 5557 proteins\n",
      "✅ UP000316082 (Phycisphaerae bacterium): 4319 proteins\n",
      "✅ UP000222210 (Planctomycetaceae bacterium): 1320 proteins\n",
      "✅ UP000315010 (Planctomycetota bacterium): 7254 proteins\n",
      "✅ UP000226579 (Candidatus Poribacteria bacterium): 3934 proteins\n",
      "✅ UP001177579 (Porticoccaceae bacterium): 2655 proteins\n",
      "✅ UP000253117 (Rhodobiaceae bacterium): 3730 proteins\n",
      "✅ UP000438537 (Rhodospirillales bacterium): 7065 proteins\n",
      "✅ UP000028936 (Rickettsiales bacterium): 1659 proteins\n",
      "✅ UP000228926 (Bryobacterales bacterium): 1674 proteins\n",
      "✅ UP000226503 (Spirochaetales bacterium): 1290 proteins\n",
      "✅ UP000033046 (Verrucomicrobiota bacterium): 2622 proteins\n",
      "✅ UP000293567 (Verrucomicrobiaceae bacterium): 5527 proteins\n",
      "✅ UP000216473 (Verrucomicrobiales bacterium): 5352 proteins\n",
      "✅ UP000298402 (Nitrospirota bacterium): 1991 proteins\n",
      "✅ UP001064802 (Elusimicrobiota bacterium): 1110 proteins\n",
      "✅ UP000510879 (Burkholderiaceae bacterium): 2571 proteins\n",
      "✅ UP000218146 (Candidatus Cloacimonadota bacterium): 3525 proteins\n",
      "✅ UP000230406 (Candidatus Hydrogenedentota bacterium): 3382 proteins\n",
      "✅ UP000326137 (SAR202 cluster bacterium): 274 proteins\n",
      "✅ UP000676034 (Bacteroidales bacterium): 3047 proteins\n",
      "✅ UP000195582 (Armatimonadota bacterium): 2524 proteins\n",
      "✅ UP000257775 (Candidatus Omnitrophota bacterium): 1696 proteins\n",
      "✅ UP000676034 (Bacteroidia bacterium): 3047 proteins\n",
      "✅ UP000655701 (Clostridia bacterium): 2313 proteins\n",
      "✅ UP000228720 (Desulfobacterales bacterium): 1245 proteins\n",
      "✅ UP000240367 (Sphingobacteriales bacterium): 7782 proteins\n",
      "✅ UP000030107 (Porphyromonadaceae bacterium): 1856 proteins\n",
      "✅ UP000258783 (Rikenellaceae bacterium): 1644 proteins\n",
      "✅ UP000678872 (Ignavibacteriales bacterium): 2809 proteins\n",
      "✅ UP000070503 (Tissierellia bacterium): 1550 proteins\n",
      "✅ UP000236646 (Desulfobacteraceae bacterium): 3591 proteins\n",
      "✅ UP000557613 (Patescibacteria group bacterium): 1047 proteins\n",
      "✅ UP000527645 (Acidobacteriaceae bacterium): 4309 proteins\n",
      "✅ UP000510895 (Anaerolineae bacterium): 4437 proteins\n",
      "✅ UP000245515 (Blastocatellia bacterium): 2781 proteins\n",
      "✅ UP000262454 (candidate division WOR-3 bacterium): 1673 proteins\n",
      "✅ UP000235566 (Candidatus Aminicenantes bacterium): 2253 proteins\n",
      "✅ UP000485840 (Gemmataceae bacterium): 6468 proteins\n",
      "✅ UP000681387 (Peptococcaceae bacterium): 2380 proteins\n",
      "✅ UP000664142 (Phycisphaerales bacterium): 3884 proteins\n",
      "✅ UP000485840 (Planctomycetia bacterium): 6468 proteins\n",
      "✅ UP000683141 (Syntrophaceae bacterium): 2617 proteins\n",
      "✅ UP000259012 (Limisphaerales bacterium): 3738 proteins\n",
      "✅ UP000678872 (Ignavibacteria bacterium): 2809 proteins\n",
      "✅ UP000682332 (Desulfobulbaceae bacterium): 2857 proteins\n",
      "✅ UP000020226 (Accumulibacter sp.): 4767 proteins\n",
      "✅ UP000258691 (Bdellovibrionales bacterium): 2248 proteins\n",
      "✅ UP000412907 (Candidatus Zixiibacteriota bacterium): 3031 proteins\n",
      "✅ UP000259827 (Candidatus Competibacteraceae bacterium): 3206 proteins\n",
      "✅ UP000628204 (Cytophagales bacterium): 4786 proteins\n",
      "✅ UP000261795 (Lentisphaeria bacterium): 2871 proteins\n",
      "✅ UP000681675 (Candidatus Latescibacterota bacterium): 1778 proteins\n",
      "✅ UP000352687 (Planctomycetales bacterium): 4056 proteins\n",
      "✅ UP000247367 (Candidatus Rokuibacteriota bacterium): 4330 proteins\n",
      "✅ UP000245904 (Candidatus Methylomirabilota bacterium): 2171 proteins\n",
      "✅ UP000664790 (Anaerolineales bacterium): 5304 proteins\n",
      "✅ UP000473322 (Acidimicrobiia bacterium): 3762 proteins\n",
      "✅ UP000267849 (Candidatus Dadabacteria bacterium): 2550 proteins\n",
      "✅ UP000245990 (Terriglobia bacterium): 6454 proteins\n",
      "✅ UP000678406 (Syntrophomonadaceae bacterium): 3052 proteins\n",
      "✅ UP000509630 (Cyclobacteriaceae bacterium): 3666 proteins\n",
      "✅ UP000265450 (Candidatus Zhuqueibacterota bacterium): 6402 proteins\n",
      "✅ UP000248826 (Chthoniobacterales bacterium): 3425 proteins\n",
      "✅ UP000249517 (Acidimicrobiales bacterium): 2447 proteins\n",
      "✅ UP000510830 (Spirochaetota bacterium): 1649 proteins\n",
      "✅ UP000318368 (Saprospiraceae bacterium): 3738 proteins\n",
      "✅ UP000520895 (Bryobacteraceae bacterium): 4645 proteins\n",
      "✅ UP000267650 (Calditrichota bacterium): 3260 proteins\n",
      "✅ UP000178273 (Candidatus Eiseniibacteriota bacterium): 2923 proteins\n",
      "✅ UP000037950 (Chlorobiota bacterium): 4024 proteins\n",
      "✅ UP000537077 (Polyangiaceae bacterium): 10077 proteins\n",
      "✅ UP000517880 (Pyrinomonadaceae bacterium): 4189 proteins\n",
      "✅ UP000318813 (Gemmatimonadales bacterium): 1705 proteins\n",
      "✅ UP000462167 (Chloroflexia bacterium): 5329 proteins\n",
      "✅ UP000678348 (Oscillospiraceae bacterium): 2755 proteins\n",
      "✅ UP000003839 (Verrucomicrobiia bacterium): 4883 proteins\n",
      "✅ UP000674002 (Caldilineaceae bacterium): 4743 proteins\n",
      "✅ UP000566337 (Pirellulaceae bacterium): 5828 proteins\n",
      "✅ UP000018547 (Candidatus Parcubacteria bacterium): 686 proteins\n",
      "✅ UP000678472 (Actinomycetota bacterium): 1846 proteins\n",
      "✅ UP000249174 (Vulcanimicrobiota bacterium): 1920 proteins\n",
      "\n",
      "🎯 Combined database saved to: fasta_proteomes_proteomes_api/session_strain_level_2025-05-26_20-27-13\\pept2taxa_strain_1000_db.fasta\n",
      "🧬 Total proteins in database: 635473\n"
     ]
    }
   ],
   "source": [
    "import pandas as pd\n",
    "import os\n",
    "import requests\n",
    "\n",
    "# === 1. Define paths ===\n",
    "proteome_csv_path = f\"fasta_proteomes_proteomes_api/session_strain_level_{session_time}\\strain_proteome_matches.csv\"\n",
    "output_dir = os.path.dirname(proteome_csv_path)\n",
    "combined_filename = f\"pept2taxa_{min_rank}_{min_peptides}_db.fasta\"\n",
    "combined_fasta_path = os.path.join(output_dir, combined_filename)\n",
    "\n",
    "# === 2. Function to download FASTA from UniProt by proteome ID ===\n",
    "def download_fasta(proteome_id):\n",
    "    url = f\"https://rest.uniprot.org/uniprotkb/stream?query=proteome:{proteome_id}&format=fasta\"\n",
    "    response = requests.get(url)\n",
    "    if response.ok and response.text.strip():\n",
    "        return response.text\n",
    "    return None\n",
    "\n",
    "# === 3. Read proteome list ===\n",
    "df = pd.read_csv(proteome_csv_path)\n",
    "valid_df = df[df[\"Proteome ID (UPID)\"].notna()]\n",
    "\n",
    "# === 4. Process proteomes ===\n",
    "total_proteins = 0\n",
    "print(\"📦 Starting protein download...\\n\")\n",
    "\n",
    "with open(combined_fasta_path, \"w\") as fasta_out:\n",
    "    for _, row in valid_df.iterrows():\n",
    "        upid = row[\"Proteome ID (UPID)\"]\n",
    "        name = row[\"Taxon Name\"]\n",
    "\n",
    "        fasta = download_fasta(upid)\n",
    "        if fasta:\n",
    "            count = fasta.count(\">\")\n",
    "            total_proteins += count\n",
    "            fasta_out.write(fasta)\n",
    "            print(f\"✅ {upid} ({name}): {count} proteins\")\n",
    "        else:\n",
    "            print(f\"❌ Failed to download {upid} ({name})\")\n",
    "\n",
    "print(f\"\\n🎯 Combined database saved to: {combined_fasta_path}\")\n",
    "print(f\"🧬 Total proteins in database: {total_proteins}\")"
   ]
  },
  {
   "cell_type": "code",
   "execution_count": null,
   "id": "e70d178b",
   "metadata": {},
   "outputs": [
    {
     "name": "stdout",
     "output_type": "stream",
     "text": [
      "🔁 Converted WSL input path:\n",
      "/mnt/c/Users/Yusuf/OneDrive/LST/Derde_jaar/Y3Q4/Pipeline/fasta_proteomes_proteomes_api/session_strain_level_2025-05-13_17-30-32/custom_strain_protein_database.fasta\n",
      "📄 Output clustered FASTA will be:\n",
      "/mnt/c/Users/Yusuf/OneDrive/LST/Derde_jaar/Y3Q4/Pipeline/fasta_proteomes_proteomes_api/session_strain_level_2025-05-13_17-30-32/custom_strain_protein_database_clustered50.fasta\n",
      "\n",
      "🔄 Running: wsl mmseqs createdb /mnt/c/Users/Yusuf/OneDrive/LST/Derde_jaar/Y3Q4/Pipeline/fasta_proteomes_proteomes_api/session_strain_level_2025-05-13_17-30-32/custom_strain_protein_database.fasta custom_db\n",
      "custom_db exists and will be overwritten\n",
      "createdb /mnt/c/Users/Yusuf/OneDrive/LST/Derde_jaar/Y3Q4/Pipeline/fasta_proteomes_proteomes_api/session_strain_level_2025-05-13_17-30-32/custom_strain_protein_database.fasta custom_db\n",
      "\n",
      "MMseqs Version:       \tdefe1afca38747fda4811bb427150fc595d84f43\n",
      "Database type         \t0\n",
      "Shuffle input database\ttrue\n",
      "Createdb mode         \t0\n",
      "Write lookup file     \t1\n",
      "Offset of numeric ids \t0\n",
      "Compressed            \t0\n",
      "Verbosity             \t3\n",
      "\n",
      "Converting sequences\n",
      "[===================================================================================================\t1 Mio. sequences processed\n",
      "========================================================================================\n",
      "Time for merging to custom_db_h: 0h 0m 5s 149ms\n",
      "Time for merging to custom_db: 0h 0m 9s 575ms\n",
      "Database type: Aminoacid\n",
      "Time for processing: 0h 0m 48s 754ms\n",
      "\n",
      "🔄 Running: wsl mmseqs cluster custom_db clustered_db tmp --min-seq-id 0.5\n",
      "cluster custom_db clustered_db tmp --min-seq-id 0.5\n",
      "\n",
      "MMseqs Version:                     \tdefe1afca38747fda4811bb427150fc595d84f43\n",
      "Substitution matrix                 \taa:blosum62.out,nucl:nucleotide.out\n",
      "Seed substitution matrix            \taa:VTML80.out,nucl:nucleotide.out\n",
      "Sensitivity                         \t4\n",
      "k-mer length                        \t0\n",
      "Target search mode                  \t0\n",
      "k-score                             \tseq:2147483647,prof:2147483647\n",
      "Alphabet size                       \taa:21,nucl:5\n",
      "Max sequence length                 \t65535\n",
      "Max results per query               \t20\n",
      "Split database                      \t0\n",
      "Split mode                          \t2\n",
      "Split memory limit                  \t0\n",
      "Coverage threshold                  \t0.8\n",
      "Coverage mode                       \t0\n",
      "Compositional bias                  \t1\n",
      "Compositional bias scale            \t1\n",
      "Diagonal scoring                    \ttrue\n",
      "Exact k-mer matching                \t0\n",
      "Mask residues                       \t1\n",
      "Mask residues probability           \t0.9\n",
      "Mask lower case residues            \t0\n",
      "Mask lower letter repeating N times \t0\n",
      "Minimum diagonal score              \t15\n",
      "Selected taxa\n",
      "Include identical seq. id.          \tfalse\n",
      "Spaced k-mers                       \t1\n",
      "Preload mode                        \t0\n",
      "Pseudo count a                      \tsubstitution:1.100,context:1.400\n",
      "Pseudo count b                      \tsubstitution:4.100,context:5.800\n",
      "Spaced k-mer pattern\n",
      "Local temporary path\n",
      "Threads                             \t12\n",
      "Compressed                          \t0\n",
      "Verbosity                           \t3\n",
      "Add backtrace                       \tfalse\n",
      "Alignment mode                      \t3\n",
      "Alignment mode                      \t0\n",
      "Allow wrapped scoring               \tfalse\n",
      "E-value threshold                   \t0.001\n",
      "Seq. id. threshold                  \t0.5\n",
      "Min alignment length                \t0\n",
      "Seq. id. mode                       \t0\n",
      "Alternative alignments              \t0\n",
      "Max reject                          \t2147483647\n",
      "Max accept                          \t2147483647\n",
      "Score bias                          \t0\n",
      "Realign hits                        \tfalse\n",
      "Realign score bias                  \t-0.2\n",
      "Realign max seqs                    \t2147483647\n",
      "Correlation score weight            \t0\n",
      "Gap open cost                       \taa:11,nucl:5\n",
      "Gap extension cost                  \taa:1,nucl:2\n",
      "Zdrop                               \t40\n",
      "Rescore mode                        \t0\n",
      "Remove hits by seq. id. and coverage\tfalse\n",
      "Sort results                        \t0\n",
      "Cluster mode                        \t0\n",
      "Max connected component depth       \t1000\n",
      "Similarity type                     \t2\n",
      "Weight file name\n",
      "Cluster Weight threshold            \t0.9\n",
      "Single step clustering              \tfalse\n",
      "Cascaded clustering steps           \t3\n",
      "Cluster reassign                    \tfalse\n",
      "Remove temporary files              \tfalse\n",
      "Force restart with latest tmp       \tfalse\n",
      "MPI runner\n",
      "k-mers per sequence                 \t21\n",
      "Scale k-mers per sequence           \taa:0.000,nucl:0.200\n",
      "Adjust k-mer length                 \tfalse\n",
      "Shift hash                          \t67\n",
      "Include only extendable             \tfalse\n",
      "Skip repeating k-mers               \tfalse\n",
      "\n",
      "Set cluster sensitivity to -s 3.000000\n",
      "Set cluster mode SET COVER\n",
      "Set cluster iterations to 3\n",
      "linclust custom_db tmp/6073622973636308846/clu_redundancy tmp/6073622973636308846/linclust --cluster-mode 0 --max-iterations 1000 --similarity-type 2 --threads 12 --compressed 0 -v 3 --cluster-weight-threshold 0.9 --sub-mat 'aa:blosum62.out,nucl:nucleotide.out' -a 0 --alignment-mode 3 --alignment-output-mode 0 --wrapped-scoring 0 -e 0.001 --min-seq-id 0.5 --min-aln-len 0 --seq-id-mode 0 --alt-ali 0 -c 0.8 --cov-mode 0 --max-seq-len 65535 --comp-bias-corr 1 --comp-bias-corr-scale 1 --max-rejected 2147483647 --max-accept 2147483647 --add-self-matches 0 --db-load-mode 0 --pca substitution:1.100,context:1.400 --pcb substitution:4.100,context:5.800 --score-bias 0 --realign 0 --realign-score-bias -0.2 --realign-max-seqs 2147483647 --corr-score-weight 0 --gap-open aa:11,nucl:5 --gap-extend aa:1,nucl:2 --zdrop 40 --alph-size aa:13,nucl:5 --kmer-per-seq 21 --spaced-kmer-mode 1 --kmer-per-seq-scale aa:0.000,nucl:0.200 --adjust-kmer-len 0 --mask 0 --mask-prob 0.9 --mask-lower-case 0 --mask-n-repeat 0 -k 0 --hash-shift 67 --split-memory-limit 0 --include-only-extendable 0 --ignore-multi-kmer 0 --rescore-mode 0 --filter-hits 0 --sort-results 0 --remove-tmp-files 0 --force-reuse 0\n",
      "\n",
      "kmermatcher custom_db tmp/6073622973636308846/linclust/9070321297044658396/pref --sub-mat 'aa:blosum62.out,nucl:nucleotide.out' --alph-size aa:13,nucl:5 --min-seq-id 0.5 --kmer-per-seq 21 --spaced-kmer-mode 1 --kmer-per-seq-scale aa:0.000,nucl:0.200 --adjust-kmer-len 0 --mask 0 --mask-prob 0.9 --mask-lower-case 0 --mask-n-repeat 0 --cov-mode 0 -k 0 -c 0.8 --max-seq-len 65535 --hash-shift 67 --split-memory-limit 0 --include-only-extendable 0 --ignore-multi-kmer 0 --threads 12 --compressed 0 -v 3 --cluster-weight-threshold 0.9\n",
      "\n",
      "kmermatcher custom_db tmp/6073622973636308846/linclust/9070321297044658396/pref --sub-mat 'aa:blosum62.out,nucl:nucleotide.out' --alph-size aa:13,nucl:5 --min-seq-id 0.5 --kmer-per-seq 21 --spaced-kmer-mode 1 --kmer-per-seq-scale aa:0.000,nucl:0.200 --adjust-kmer-len 0 --mask 0 --mask-prob 0.9 --mask-lower-case 0 --mask-n-repeat 0 --cov-mode 0 -k 0 -c 0.8 --max-seq-len 65535 --hash-shift 67 --split-memory-limit 0 --include-only-extendable 0 --ignore-multi-kmer 0 --threads 12 --compressed 0 -v 3 --cluster-weight-threshold 0.9\n",
      "\n",
      "Database size: 1885063 type: Aminoacid\n",
      "Reduced amino acid alphabet: (A S T) (C) (D B N) (E Q Z) (F Y) (G) (H) (I V) (K R) (L J M) (P) (W) (X)\n",
      "\n",
      "Generate k-mers list for 1 split\n",
      "[=================================================================] 1.89M 8s 146ms\n",
      "Sort kmer 0h 0m 6s 861ms\n",
      "Sort by rep. sequence 0h 0m 3s 160ms\n",
      "Time for fill: 0h 0m 1s 795ms\n",
      "Time for merging to pref: 0h 0m 0s 24ms\n",
      "Time for processing: 0h 0m 22s 315ms\n",
      "rescorediagonal custom_db custom_db tmp/6073622973636308846/linclust/9070321297044658396/pref tmp/6073622973636308846/linclust/9070321297044658396/pref_rescore1 --sub-mat 'aa:blosum62.out,nucl:nucleotide.out' --rescore-mode 0 --wrapped-scoring 0 --filter-hits 0 -e 0.001 -c 0.8 -a 0 --cov-mode 0 --min-seq-id 0.5 --min-aln-len 0 --seq-id-mode 0 --add-self-matches 0 --sort-results 0 --db-load-mode 0 --threads 12 --compressed 0 -v 3\n",
      "\n",
      "[=================================================================] 1.89M 1s 587ms\n",
      "Time for merging to pref_rescore1: 0h 0m 4s 894ms\n",
      "Time for processing: 0h 0m 27s 785ms\n",
      "clust custom_db tmp/6073622973636308846/linclust/9070321297044658396/pref_rescore1 tmp/6073622973636308846/linclust/9070321297044658396/pre_clust --cluster-mode 0 --max-iterations 1000 --similarity-type 2 --threads 12 --compressed 0 -v 3 --cluster-weight-threshold 0.9\n",
      "\n",
      "Clustering mode: Set Cover\n",
      "[=================================================================] 1.89M 0s 717ms\n",
      "Sort entries\n",
      "Find missing connections\n",
      "Found 1491554 new connections.\n",
      "Reconstruct initial order\n",
      "[=================================================================] 1.89M 0s 985ms\n",
      "Add missing connections\n",
      "[=================================================================] 1.89M 0s 87ms\n",
      "\n",
      "Time for read in: 0h 0m 2s 80ms\n",
      "Total time: 0h 0m 2s 712ms\n",
      "\n",
      "Size of the sequence database: 1885063\n",
      "Size of the alignment database: 1885063\n",
      "Number of clusters: 1188607\n",
      "\n",
      "Writing results 0h 0m 0s 602ms\n",
      "Time for merging to pre_clust: 0h 0m 0s 15ms\n",
      "Time for processing: 0h 0m 4s 408ms\n",
      "createsubdb tmp/6073622973636308846/linclust/9070321297044658396/order_redundancy custom_db tmp/6073622973636308846/linclust/9070321297044658396/input_step_redundancy -v 3 --subdb-mode 1\n",
      "\n",
      "Time for merging to input_step_redundancy: 0h 0m 0s 9ms\n",
      "Time for processing: 0h 0m 1s 803ms\n",
      "createsubdb tmp/6073622973636308846/linclust/9070321297044658396/order_redundancy tmp/6073622973636308846/linclust/9070321297044658396/pref tmp/6073622973636308846/linclust/9070321297044658396/pref_filter1 -v 3 --subdb-mode 1\n",
      "\n",
      "Time for merging to pref_filter1: 0h 0m 0s 9ms\n",
      "Time for processing: 0h 0m 1s 913ms\n",
      "filterdb tmp/6073622973636308846/linclust/9070321297044658396/pref_filter1 tmp/6073622973636308846/linclust/9070321297044658396/pref_filter2 --filter-file tmp/6073622973636308846/linclust/9070321297044658396/order_redundancy --threads 12 --compressed 0 -v 3\n",
      "\n",
      "Filtering using file(s)\n",
      "[=================================================================] 1.19M 1s 7ms\n",
      "Time for merging to pref_filter2: 0h 0m 2s 385ms\n",
      "Time for processing: 0h 0m 4s 399ms\n",
      "rescorediagonal tmp/6073622973636308846/linclust/9070321297044658396/input_step_redundancy tmp/6073622973636308846/linclust/9070321297044658396/input_step_redundancy tmp/6073622973636308846/linclust/9070321297044658396/pref_filter2 tmp/6073622973636308846/linclust/9070321297044658396/pref_rescore2 --sub-mat 'aa:blosum62.out,nucl:nucleotide.out' --rescore-mode 1 --wrapped-scoring 0 --filter-hits 1 -e 0.001 -c 0.8 -a 0 --cov-mode 0 --min-seq-id 0.5 --min-aln-len 0 --seq-id-mode 0 --add-self-matches 0 --sort-results 0 --db-load-mode 0 --threads 12 --compressed 0 -v 3\n",
      "\n",
      "[=================================================================] 1.19M 1s 378ms\n",
      "Time for merging to pref_rescore2: 0h 0m 2s 298ms\n",
      "Time for processing: 0h 0m 20s 946ms\n",
      "align tmp/6073622973636308846/linclust/9070321297044658396/input_step_redundancy tmp/6073622973636308846/linclust/9070321297044658396/input_step_redundancy tmp/6073622973636308846/linclust/9070321297044658396/pref_rescore2 tmp/6073622973636308846/linclust/9070321297044658396/aln --sub-mat 'aa:blosum62.out,nucl:nucleotide.out' -a 0 --alignment-mode 3 --alignment-output-mode 0 --wrapped-scoring 0 -e 0.001 --min-seq-id 0.5 --min-aln-len 0 --seq-id-mode 0 --alt-ali 0 -c 0.8 --cov-mode 0 --max-seq-len 65535 --comp-bias-corr 1 --comp-bias-corr-scale 1 --max-rejected 2147483647 --max-accept 2147483647 --add-self-matches 0 --db-load-mode 0 --pca substitution:1.100,context:1.400 --pcb substitution:4.100,context:5.800 --score-bias 0 --realign 0 --realign-score-bias -0.2 --realign-max-seqs 2147483647 --corr-score-weight 0 --gap-open aa:11,nucl:5 --gap-extend aa:1,nucl:2 --zdrop 40 --threads 12 --compressed 0 -v 3\n",
      "\n",
      "Compute score, coverage and sequence identity\n",
      "Query database size: 1188607 type: Aminoacid\n",
      "Target database size: 1188607 type: Aminoacid\n",
      "Calculation of alignments\n",
      "[=================================================================] 1.19M 1m 15s 668ms\n",
      "Time for merging to aln: 0h 0m 2s 439ms\n",
      "1687701 alignments calculated\n",
      "1469242 sequence pairs passed the thresholds (0.870558 of overall calculated)\n",
      "1.236104 hits per query sequence\n",
      "Time for processing: 0h 1m 34s 648ms\n",
      "clust tmp/6073622973636308846/linclust/9070321297044658396/input_step_redundancy tmp/6073622973636308846/linclust/9070321297044658396/aln tmp/6073622973636308846/linclust/9070321297044658396/clust --cluster-mode 0 --max-iterations 1000 --similarity-type 2 --threads 12 --compressed 0 -v 3 --cluster-weight-threshold 0.9\n",
      "\n",
      "Clustering mode: Set Cover\n",
      "[=================================================================] 1.19M 0s 562ms\n",
      "Sort entries\n",
      "Find missing connections\n",
      "Found 280635 new connections.\n",
      "Reconstruct initial order\n",
      "[=================================================================] 1.19M 1s 40ms\n",
      "Add missing connections\n",
      "[=================================================================] 1.19M 0s 34ms\n",
      "\n",
      "Time for read in: 0h 0m 1s 811ms\n",
      "Total time: 0h 0m 3s 235ms\n",
      "\n",
      "Size of the sequence database: 1188607\n",
      "Size of the alignment database: 1188607\n",
      "Number of clusters: 1012066\n",
      "\n",
      "Writing results 0h 0m 0s 525ms\n",
      "Time for merging to clust: 0h 0m 0s 14ms\n",
      "Time for processing: 0h 0m 4s 389ms\n",
      "mergeclusters custom_db tmp/6073622973636308846/clu_redundancy tmp/6073622973636308846/linclust/9070321297044658396/pre_clust tmp/6073622973636308846/linclust/9070321297044658396/clust --threads 12 --compressed 0 -v 3\n",
      "\n",
      "Clustering step 1\n",
      "[=================================================================] 1.19M 0s 261ms\n",
      "Clustering step 2\n",
      "[=================================================================] 1.01M 0s 628ms\n",
      "Write merged clustering\n",
      "[=================================================================] 1.89M 0s 877ms\n",
      "Time for merging to clu_redundancy: 0h 0m 1s 730ms\n",
      "Time for processing: 0h 0m 3s 405ms\n",
      "createsubdb tmp/6073622973636308846/clu_redundancy custom_db tmp/6073622973636308846/input_step_redundancy -v 3 --subdb-mode 1\n",
      "\n",
      "Time for merging to input_step_redundancy: 0h 0m 0s 8ms\n",
      "Time for processing: 0h 0m 1s 802ms\n",
      "prefilter tmp/6073622973636308846/input_step_redundancy tmp/6073622973636308846/input_step_redundancy tmp/6073622973636308846/pref_step0 --sub-mat 'aa:blosum62.out,nucl:nucleotide.out' --seed-sub-mat 'aa:VTML80.out,nucl:nucleotide.out' -s 1 -k 0 --target-search-mode 0 --k-score seq:2147483647,prof:2147483647 --alph-size aa:21,nucl:5 --max-seq-len 65535 --max-seqs 20 --split 0 --split-mode 2 --split-memory-limit 0 -c 0.8 --cov-mode 0 --comp-bias-corr 0 --comp-bias-corr-scale 1 --diag-score 0 --exact-kmer-matching 0 --mask 1 --mask-prob 0.9 --mask-lower-case 0 --mask-n-repeat 0 --min-ungapped-score 0 --add-self-matches 0 --spaced-kmer-mode 1 --db-load-mode 0 --pca substitution:1.100,context:1.400 --pcb substitution:4.100,context:5.800 --threads 12 --compressed 0 -v 3\n",
      "\n",
      "Query database size: 1012066 type: Aminoacid\n",
      "Estimated memory consumption: 4G\n",
      "Target database size: 1012066 type: Aminoacid\n",
      "Index table k-mer threshold: 154 at k-mer size 6\n",
      "Index table: counting k-mers\n",
      "[=================================================================] 1.01M 9s 810ms\n",
      "Index table: Masked residues: 10058090\n",
      "Index table: fill\n",
      "[=================================================================] 1.01M 4s 370ms\n",
      "Index statistics\n",
      "Entries:          175860107\n",
      "DB size:          1494 MB\n",
      "Avg k-mer size:   2.747814\n",
      "Top 10 k-mers\n",
      "STYPDG\t3426\n",
      "HPTGER\t3340\n",
      "IIDDFT\t3209\n",
      "GTLFAY\t2967\n",
      "DPFSWT\t2659\n",
      "GDRLYT\t2303\n",
      "RDKTLW\t2257\n",
      "WPFGEY\t1920\n",
      "IIHGEY\t1862\n",
      "ERYPRR\t1774\n",
      "Time for index table init: 0h 0m 14s 796ms\n",
      "Process prefiltering step 1 of 1\n",
      "\n",
      "k-mer similarity threshold: 154\n",
      "Starting prefiltering scores calculation (step 1 of 1)\n",
      "Query db start 1 to 1012066\n",
      "Target db start 1 to 1012066\n",
      "[=================================================================] 1.01M 33s 787ms\n",
      "\n",
      "2.291123 k-mers per position\n",
      "5344 DB matches per sequence\n",
      "0 overflows\n",
      "15 sequences passed prefiltering per query sequence\n",
      "20 median result list length\n",
      "0 sequences with 0 size result lists\n",
      "Time for merging to pref_step0: 0h 0m 2s 662ms\n",
      "Time for processing: 0h 0m 52s 324ms\n",
      "align tmp/6073622973636308846/input_step_redundancy tmp/6073622973636308846/input_step_redundancy tmp/6073622973636308846/pref_step0 tmp/6073622973636308846/aln_step0 --sub-mat 'aa:blosum62.out,nucl:nucleotide.out' -a 0 --alignment-mode 3 --alignment-output-mode 0 --wrapped-scoring 0 -e 0.001 --min-seq-id 0.5 --min-aln-len 0 --seq-id-mode 0 --alt-ali 0 -c 0.8 --cov-mode 0 --max-seq-len 65535 --comp-bias-corr 0 --comp-bias-corr-scale 1 --max-rejected 2147483647 --max-accept 2147483647 --add-self-matches 0 --db-load-mode 0 --pca substitution:1.100,context:1.400 --pcb substitution:4.100,context:5.800 --score-bias 0 --realign 0 --realign-score-bias -0.2 --realign-max-seqs 2147483647 --corr-score-weight 0 --gap-open aa:11,nucl:5 --gap-extend aa:1,nucl:2 --zdrop 40 --threads 12 --compressed 0 -v 3\n",
      "\n",
      "Compute score, coverage and sequence identity\n",
      "Query database size: 1012066 type: Aminoacid\n",
      "Target database size: 1012066 type: Aminoacid\n",
      "Calculation of alignments\n",
      "[=================================================================] 1.01M 7m 37s 429ms\n",
      "Time for merging to aln_step0: 0h 0m 1s 779ms\n",
      "5612191 alignments calculated\n",
      "1785401 sequence pairs passed the thresholds (0.318129 of overall calculated)\n",
      "1.764115 hits per query sequence\n",
      "Time for processing: 0h 7m 56s 487ms\n",
      "clust tmp/6073622973636308846/input_step_redundancy tmp/6073622973636308846/aln_step0 tmp/6073622973636308846/clu_step0 --cluster-mode 0 --max-iterations 1000 --similarity-type 2 --threads 12 --compressed 0 -v 3 --cluster-weight-threshold 0.9\n",
      "\n",
      "Clustering mode: Set Cover\n",
      "[=================================================================] 1.01M 0s 603ms\n",
      "Sort entries\n",
      "Find missing connections\n",
      "Found 187933 new connections.\n",
      "Reconstruct initial order\n",
      "[=================================================================] 1.01M 1s 189ms\n",
      "Add missing connections\n",
      "[=================================================================] 1.01M 0s 45ms\n",
      "\n",
      "Time for read in: 0h 0m 1s 985ms\n",
      "Total time: 0h 0m 2s 552ms\n",
      "\n",
      "Size of the sequence database: 1012066\n",
      "Size of the alignment database: 1012066\n",
      "Number of clusters: 830474\n",
      "\n",
      "Writing results 0h 0m 0s 386ms\n",
      "Time for merging to clu_step0: 0h 0m 0s 12ms\n",
      "Time for processing: 0h 0m 3s 487ms\n",
      "createsubdb tmp/6073622973636308846/clu_step0 tmp/6073622973636308846/input_step_redundancy tmp/6073622973636308846/input_step1 -v 3 --subdb-mode 1\n",
      "\n",
      "Time for merging to input_step1: 0h 0m 0s 8ms\n",
      "Time for processing: 0h 0m 1s 176ms\n",
      "prefilter tmp/6073622973636308846/input_step1 tmp/6073622973636308846/input_step1 tmp/6073622973636308846/pref_step1 --sub-mat 'aa:blosum62.out,nucl:nucleotide.out' --seed-sub-mat 'aa:VTML80.out,nucl:nucleotide.out' -s 2 -k 0 --target-search-mode 0 --k-score seq:2147483647,prof:2147483647 --alph-size aa:21,nucl:5 --max-seq-len 65535 --max-seqs 20 --split 0 --split-mode 2 --split-memory-limit 0 -c 0.8 --cov-mode 0 --comp-bias-corr 1 --comp-bias-corr-scale 1 --diag-score 1 --exact-kmer-matching 0 --mask 1 --mask-prob 0.9 --mask-lower-case 0 --mask-n-repeat 0 --min-ungapped-score 15 --add-self-matches 0 --spaced-kmer-mode 1 --db-load-mode 0 --pca substitution:1.100,context:1.400 --pcb substitution:4.100,context:5.800 --threads 12 --compressed 0 -v 3\n",
      "\n",
      "Query database size: 830474 type: Aminoacid\n",
      "Estimated memory consumption: 3G\n",
      "Target database size: 830474 type: Aminoacid\n",
      "Index table k-mer threshold: 145 at k-mer size 6\n",
      "Index table: counting k-mers\n",
      "[=================================================================] 830.47K 8s 831ms\n",
      "Index table: Masked residues: 8648660\n",
      "Index table: fill\n",
      "[=================================================================] 830.47K 4s 771ms\n",
      "Index statistics\n",
      "Entries:          208393890\n",
      "DB size:          1680 MB\n",
      "Avg k-mer size:   3.256155\n",
      "Top 10 k-mers\n",
      "WFRWQE\t1703\n",
      "LPELIF\t1300\n",
      "LPERIY\t1280\n",
      "HPTGER\t1094\n",
      "ISRPTS\t1002\n",
      "KLFTHP\t971\n",
      "IIDDFT\t945\n",
      "GTLFAY\t942\n",
      "GHEVTT\t698\n",
      "GDRLYT\t664\n",
      "Time for index table init: 0h 0m 14s 195ms\n",
      "Process prefiltering step 1 of 1\n",
      "\n",
      "k-mer similarity threshold: 145\n",
      "Starting prefiltering scores calculation (step 1 of 1)\n",
      "Query db start 1 to 830474\n",
      "Target db start 1 to 830474\n",
      "[=================================================================] 830.47K 1m 6s 728ms\n",
      "\n",
      "7.490196 k-mers per position\n",
      "7374 DB matches per sequence\n",
      "0 overflows\n",
      "17 sequences passed prefiltering per query sequence\n",
      "20 median result list length\n",
      "0 sequences with 0 size result lists\n",
      "Time for merging to pref_step1: 0h 0m 1s 376ms\n",
      "Time for processing: 0h 1m 23s 214ms\n",
      "align tmp/6073622973636308846/input_step1 tmp/6073622973636308846/input_step1 tmp/6073622973636308846/pref_step1 tmp/6073622973636308846/aln_step1 --sub-mat 'aa:blosum62.out,nucl:nucleotide.out' -a 0 --alignment-mode 3 --alignment-output-mode 0 --wrapped-scoring 0 -e 0.001 --min-seq-id 0.5 --min-aln-len 0 --seq-id-mode 0 --alt-ali 0 -c 0.8 --cov-mode 0 --max-seq-len 65535 --comp-bias-corr 1 --comp-bias-corr-scale 1 --max-rejected 2147483647 --max-accept 2147483647 --add-self-matches 0 --db-load-mode 0 --pca substitution:1.100,context:1.400 --pcb substitution:4.100,context:5.800 --score-bias 0 --realign 0 --realign-score-bias -0.2 --realign-max-seqs 2147483647 --corr-score-weight 0 --gap-open aa:11,nucl:5 --gap-extend aa:1,nucl:2 --zdrop 40 --threads 12 --compressed 0 -v 3\n",
      "\n",
      "Compute score, coverage and sequence identity\n",
      "Query database size: 830474 type: Aminoacid\n",
      "Target database size: 830474 type: Aminoacid\n",
      "Calculation of alignments\n",
      "[=================================================================] 830.47K 3m 48s 385ms\n",
      "Time for merging to aln_step1: 0h 0m 1s 371ms\n",
      "4205458 alignments calculated\n",
      "876524 sequence pairs passed the thresholds (0.208425 of overall calculated)\n",
      "1.055450 hits per query sequence\n",
      "Time for processing: 0h 4m 6s 803ms\n",
      "clust tmp/6073622973636308846/input_step1 tmp/6073622973636308846/aln_step1 tmp/6073622973636308846/clu_step1 --cluster-mode 0 --max-iterations 1000 --similarity-type 2 --threads 12 --compressed 0 -v 3 --cluster-weight-threshold 0.9\n",
      "\n",
      "Clustering mode: Set Cover\n",
      "[=================================================================] 830.47K 0s 80ms\n",
      "Sort entries\n",
      "Find missing connections\n",
      "Found 26600 new connections.\n",
      "Reconstruct initial order\n",
      "[=================================================================] 830.47K 0s 351ms\n",
      "Add missing connections\n",
      "[=================================================================] 830.47K 0s 18ms\n",
      "\n",
      "Time for read in: 0h 0m 0s 579ms\n",
      "Total time: 0h 0m 0s 876ms\n",
      "\n",
      "Size of the sequence database: 830474\n",
      "Size of the alignment database: 830474\n",
      "Number of clusters: 812286\n",
      "\n",
      "Writing results 0h 0m 0s 382ms\n",
      "Time for merging to clu_step1: 0h 0m 0s 12ms\n",
      "Time for processing: 0h 0m 1s 692ms\n",
      "createsubdb tmp/6073622973636308846/clu_step1 tmp/6073622973636308846/input_step1 tmp/6073622973636308846/input_step2 -v 3 --subdb-mode 1\n",
      "\n",
      "Time for merging to input_step2: 0h 0m 0s 8ms\n",
      "Time for processing: 0h 0m 1s 240ms\n",
      "prefilter tmp/6073622973636308846/input_step2 tmp/6073622973636308846/input_step2 tmp/6073622973636308846/pref_step2 --sub-mat 'aa:blosum62.out,nucl:nucleotide.out' --seed-sub-mat 'aa:VTML80.out,nucl:nucleotide.out' -s 3 -k 0 --target-search-mode 0 --k-score seq:2147483647,prof:2147483647 --alph-size aa:21,nucl:5 --max-seq-len 65535 --max-seqs 20 --split 0 --split-mode 2 --split-memory-limit 0 -c 0.8 --cov-mode 0 --comp-bias-corr 1 --comp-bias-corr-scale 1 --diag-score 1 --exact-kmer-matching 0 --mask 1 --mask-prob 0.9 --mask-lower-case 0 --mask-n-repeat 0 --min-ungapped-score 15 --add-self-matches 0 --spaced-kmer-mode 1 --db-load-mode 0 --pca substitution:1.100,context:1.400 --pcb substitution:4.100,context:5.800 --threads 12 --compressed 0 -v 3\n",
      "\n",
      "Query database size: 812286 type: Aminoacid\n",
      "Estimated memory consumption: 3G\n",
      "Target database size: 812286 type: Aminoacid\n",
      "Index table k-mer threshold: 136 at k-mer size 6\n",
      "Index table: counting k-mers\n",
      "[=================================================================] 812.29K 9s 717ms\n",
      "Index table: Masked residues: 8536789\n",
      "Index table: fill\n",
      "[=================================================================] 812.29K 6s 774ms\n",
      "Index statistics\n",
      "Entries:          270938188\n",
      "DB size:          2038 MB\n",
      "Avg k-mer size:   4.233409\n",
      "Top 10 k-mers\n",
      "WFRWQE\t1665\n",
      "LPELIF\t1291\n",
      "LPERIY\t1279\n",
      "LLGPGK\t952\n",
      "VHDKNI\t788\n",
      "GWLEAP\t717\n",
      "CIQDER\t680\n",
      "LPERIW\t629\n",
      "PSSSPS\t554\n",
      "SPPSSS\t539\n",
      "Time for index table init: 0h 0m 17s 281ms\n",
      "Process prefiltering step 1 of 1\n",
      "\n",
      "k-mer similarity threshold: 136\n",
      "Starting prefiltering scores calculation (step 1 of 1)\n",
      "Query db start 1 to 812286\n",
      "Target db start 1 to 812286\n",
      "[=================================================================] 812.29K 2m 7s 672ms\n",
      "\n",
      "21.743854 k-mers per position\n",
      "23614 DB matches per sequence\n",
      "0 overflows\n",
      "19 sequences passed prefiltering per query sequence\n",
      "20 median result list length\n",
      "0 sequences with 0 size result lists\n",
      "Time for merging to pref_step2: 0h 0m 1s 463ms\n",
      "Time for processing: 0h 2m 27s 299ms\n",
      "align tmp/6073622973636308846/input_step2 tmp/6073622973636308846/input_step2 tmp/6073622973636308846/pref_step2 tmp/6073622973636308846/aln_step2 --sub-mat 'aa:blosum62.out,nucl:nucleotide.out' -a 0 --alignment-mode 3 --alignment-output-mode 0 --wrapped-scoring 0 -e 0.001 --min-seq-id 0.5 --min-aln-len 0 --seq-id-mode 0 --alt-ali 0 -c 0.8 --cov-mode 0 --max-seq-len 65535 --comp-bias-corr 1 --comp-bias-corr-scale 1 --max-rejected 2147483647 --max-accept 2147483647 --add-self-matches 0 --db-load-mode 0 --pca substitution:1.100,context:1.400 --pcb substitution:4.100,context:5.800 --score-bias 0 --realign 0 --realign-score-bias -0.2 --realign-max-seqs 2147483647 --corr-score-weight 0 --gap-open aa:11,nucl:5 --gap-extend aa:1,nucl:2 --zdrop 40 --threads 12 --compressed 0 -v 3\n",
      "\n",
      "Compute score, coverage and sequence identity\n",
      "Query database size: 812286 type: Aminoacid\n",
      "Target database size: 812286 type: Aminoacid\n",
      "Calculation of alignments\n",
      "[=================================================================] 812.29K 4m 6s 894ms\n",
      "Time for merging to aln_step2: 0h 0m 1s 634ms\n",
      "4455272 alignments calculated\n",
      "819037 sequence pairs passed the thresholds (0.183835 of overall calculated)\n",
      "1.008311 hits per query sequence\n",
      "Time for processing: 0h 4m 25s 460ms\n",
      "clust tmp/6073622973636308846/input_step2 tmp/6073622973636308846/aln_step2 tmp/6073622973636308846/clu_step2 --cluster-mode 0 --max-iterations 1000 --similarity-type 2 --threads 12 --compressed 0 -v 3 --cluster-weight-threshold 0.9\n",
      "\n",
      "Clustering mode: Set Cover\n",
      "[=================================================================] 812.29K 0s 83ms\n",
      "Sort entries\n",
      "Find missing connections\n",
      "Found 4413 new connections.\n",
      "Reconstruct initial order\n",
      "[=================================================================] 812.29K 0s 326ms\n",
      "Add missing connections\n",
      "[=================================================================] 812.29K 0s 16ms\n",
      "\n",
      "Time for read in: 0h 0m 0s 556ms\n",
      "Total time: 0h 0m 0s 855ms\n",
      "\n",
      "Size of the sequence database: 812286\n",
      "Size of the alignment database: 812286\n",
      "Number of clusters: 808448\n",
      "\n",
      "Writing results 0h 0m 0s 417ms\n",
      "Time for merging to clu_step2: 0h 0m 0s 12ms\n",
      "Time for processing: 0h 0m 1s 762ms\n",
      "mergeclusters custom_db clustered_db tmp/6073622973636308846/clu_redundancy tmp/6073622973636308846/clu_step0 tmp/6073622973636308846/clu_step1 tmp/6073622973636308846/clu_step2 --threads 12 --compressed 0 -v 3\n",
      "\n",
      "Clustering step 1\n",
      "[=================================================================] 1.01M 0s 295ms\n",
      "Clustering step 2\n",
      "[=================================================================] 830.47K 0s 636ms\n",
      "Clustering step 3\n",
      "[=================================================================] 812.29K 0s 960ms\n",
      "Clustering step 4\n",
      "[=================================================================] 808.45K 1s 246ms\n",
      "Write merged clustering\n",
      "[=================================================================] 1.89M 1s 515ms\n",
      "Time for merging to clustered_db: 0h 0m 1s 607ms\n",
      "Time for processing: 0h 0m 4s 345ms\n",
      "\n",
      "🔄 Running: wsl mmseqs createsubdb clustered_db custom_db clustered_reps\n",
      "createsubdb clustered_db custom_db clustered_reps\n",
      "\n",
      "MMseqs Version: \tdefe1afca38747fda4811bb427150fc595d84f43\n",
      "Subdb mode      \t0\n",
      "Database ID mode\t0\n",
      "Verbosity       \t3\n",
      "\n",
      "Time for merging to clustered_reps: 0h 0m 0s 20ms\n",
      "Time for processing: 0h 0m 19s 337ms\n",
      "\n",
      "🔄 Running: wsl mmseqs result2flat custom_db custom_db clustered_reps /mnt/c/Users/Yusuf/OneDrive/LST/Derde_jaar/Y3Q4/Pipeline/fasta_proteomes_proteomes_api/session_strain_level_2025-05-13_17-30-32/custom_strain_protein_database_clustered50.fasta\n",
      "result2flat custom_db custom_db clustered_reps /mnt/c/Users/Yusuf/OneDrive/LST/Derde_jaar/Y3Q4/Pipeline/fasta_proteomes_proteomes_api/session_strain_level_2025-05-13_17-30-32/custom_strain_protein_database_clustered50.fasta\n",
      "\n",
      "MMseqs Version: \tdefe1afca38747fda4811bb427150fc595d84f43\n",
      "Use fasta header\tfalse\n",
      "Verbosity       \t3\n",
      "\n",
      "Time for processing: 0h 0m 30s 34ms\n",
      "\n",
      "✅ Done! Clustered FASTA saved as:\n",
      "/mnt/c/Users/Yusuf/OneDrive/LST/Derde_jaar/Y3Q4/Pipeline/fasta_proteomes_proteomes_api/session_strain_level_2025-05-13_17-30-32/custom_strain_protein_database_clustered50.fasta\n",
      "🧹 Deleted: custom_db\n",
      "🧹 Deleted: custom_db_h\n",
      "🧹 Deleted: custom_db.index\n",
      "🧹 Deleted: custom_db.dbtype\n",
      "🧹 Deleted: clustered_db\n",
      "🧹 Deleted: clustered_db_h\n",
      "🧹 Deleted: clustered_db.index\n",
      "🧹 Deleted: clustered_db.dbtype\n",
      "🧹 Deleted: clustered_db_seq\n",
      "🧹 Deleted: clustered_db_seq_h\n",
      "🧹 Deleted: clustered_db_seq.index\n",
      "🧹 Deleted: clustered_db_seq.dbtype\n",
      "⚠️ Could not delete tmp: [WinError 145] The directory is not empty: 'tmp'\n",
      "✅ Cleanup complete.\n"
     ]
    }
   ],
   "source": [
    "'''\n",
    "# Clustering the proteins in the database with MMseqs2\n",
    "import subprocess\n",
    "import os\n",
    "\n",
    "# ✅ Step 1: Define the input file path (Windows format)\n",
    "input_file_path = r\"C:\\Users\\Yusuf\\OneDrive\\LST\\Derde_jaar\\Y3Q4\\Pipeline\\fasta_proteomes_proteomes_api\\session_strain_level_2025-05-13_17-30-32\\custom_strain_protein_database.fasta\"\n",
    "\n",
    "# ✅ Step 2: Convert to WSL path\n",
    "input_fasta = input_file_path.replace(\"\\\\\", \"/\").replace(\"C:\", \"/mnt/c\")\n",
    "output_fasta = input_fasta.replace(\".fasta\", \"_clustered60.fasta\")\n",
    "\n",
    "print(f\"🔁 Converted WSL input path:\\n{input_fasta}\")\n",
    "print(f\"📄 Output clustered FASTA will be:\\n{output_fasta}\")\n",
    "\n",
    "# ✅ Step 3: Define MMseqs2 commands\n",
    "commands = [\n",
    "    f'wsl mmseqs createdb {input_fasta} custom_db',\n",
    "    'wsl mmseqs cluster custom_db clustered_db tmp --min-seq-id 0.6',\n",
    "    'wsl mmseqs createsubdb clustered_db custom_db clustered_reps',\n",
    "    f'wsl mmseqs result2flat custom_db custom_db clustered_reps {output_fasta}'\n",
    "]\n",
    "\n",
    "# ✅ Step 4: Function to stream output in real-time\n",
    "def run_with_streaming(cmd):\n",
    "    print(f\"\\n🔄 Running: {cmd}\")\n",
    "    process = subprocess.Popen(cmd, shell=True, stdout=subprocess.PIPE, stderr=subprocess.STDOUT, text=True)\n",
    "    for line in process.stdout:\n",
    "        print(line.strip())\n",
    "    process.wait()\n",
    "    if process.returncode != 0:\n",
    "        raise subprocess.CalledProcessError(process.returncode, cmd)\n",
    "\n",
    "# ✅ Step 5: Run each MMseqs2 command with streaming\n",
    "for cmd in commands:\n",
    "    run_with_streaming(cmd)\n",
    "\n",
    "print(f\"\\n✅ Done! Clustered FASTA saved as:\\n{output_fasta}\")\n",
    "\n",
    "# ✅ Step 6: Clean up intermediate files (optional)\n",
    "intermediate_files = [\n",
    "    \"custom_db\", \"custom_db_h\", \"custom_db.index\", \"custom_db.dbtype\",\n",
    "    \"clustered_db\", \"clustered_db_h\", \"clustered_db.index\", \"clustered_db.dbtype\",\n",
    "    \"clustered_db_seq\", \"clustered_db_seq_h\", \"clustered_db_seq.index\", \"clustered_db_seq.dbtype\",\n",
    "    \"tmp\"\n",
    "]\n",
    "\n",
    "for fname in intermediate_files:\n",
    "    try:\n",
    "        if os.path.isdir(fname):\n",
    "            os.rmdir(fname)\n",
    "        elif os.path.exists(fname):\n",
    "            os.remove(fname)\n",
    "        print(f\"🧹 Deleted: {fname}\")\n",
    "    except Exception as e:\n",
    "        print(f\"⚠️ Could not delete {fname}: {e}\")\n",
    "\n",
    "print(\"✅ Cleanup complete.\")\n",
    "'''"
   ]
  },
  {
   "cell_type": "code",
   "execution_count": 7,
   "id": "2610ba8a",
   "metadata": {},
   "outputs": [
    {
     "name": "stdout",
     "output_type": "stream",
     "text": [
      "🔧 Running: wsl mmseqs createdb /mnt/c/Users/Yusuf/OneDrive/LST/Derde_jaar/Y3Q4/Pipeline/fasta_proteomes/combined_databases/pept2taxa_strain200_pept2prot_combined.fasta db\n",
      "🔧 Running: wsl mmseqs cluster db clust tmp --min-seq-id 0.95 -c 0.8\n",
      "🔧 Running: wsl mmseqs createtsv db db clust clusters.tsv\n",
      "🔧 Running: wsl mmseqs createsubdb clust db rep\n",
      "🔧 Running: wsl mmseqs result2flat db db rep clustered_raw.fasta\n",
      "\n",
      "✅ Clustered file written to:\n",
      "fasta_proteomes/combined_databases/pept2taxa_strain200_pept2prot_combined_clustered95.fasta\n"
     ]
    }
   ],
   "source": [
    "import os\n",
    "import subprocess\n",
    "from Bio import SeqIO\n",
    "import pandas as pd\n",
    "\n",
    "# === 1. Input and Output paths ===\n",
    "input_fasta_win = r\"C:\\Users\\Yusuf\\OneDrive\\LST\\Derde_jaar\\Y3Q4\\Pipeline\\fasta_proteomes\\combined_databases\\pept2taxa_strain200_pept2prot_combined.fasta\"\n",
    "input_fasta_wsl = \"/mnt/\" + input_fasta_win.replace(\"\\\\\", \"/\").replace(\":\", \"\").replace(\"C\", \"c\")\n",
    "\n",
    "base = os.path.splitext(os.path.basename(input_fasta_win))[0]\n",
    "output_fasta_win = f\"fasta_proteomes/combined_databases/{base}_clustered95.fasta\"\n",
    "output_fasta_wsl = \"/mnt/\" + output_fasta_win.replace(\"\\\\\", \"/\").replace(\":\", \"\").replace(\"C\", \"c\")\n",
    "\n",
    "# === 2. MMseqs2 clustering steps ===\n",
    "commands = [\n",
    "    f\"wsl mmseqs createdb {input_fasta_wsl} db\",\n",
    "    \"wsl mmseqs cluster db clust tmp --min-seq-id 0.95 -c 0.8\",\n",
    "    \"wsl mmseqs createtsv db db clust clusters.tsv\",\n",
    "    \"wsl mmseqs createsubdb clust db rep\",\n",
    "    f\"wsl mmseqs result2flat db db rep clustered_raw.fasta\"\n",
    "]\n",
    "\n",
    "def run(cmd):\n",
    "    print(f\"🔧 Running: {cmd}\")\n",
    "    result = subprocess.run(cmd, shell=True, text=True, capture_output=True)\n",
    "    if result.returncode != 0:\n",
    "        print(result.stdout)\n",
    "        print(result.stderr)\n",
    "        raise RuntimeError(\"Command failed.\")\n",
    "\n",
    "for cmd in commands:\n",
    "    run(cmd)\n",
    "\n",
    "# === 3. Enrich headers ===\n",
    "clusters_df = pd.read_csv(\"clusters.tsv\", sep=\"\\t\", header=None, names=[\"member\", \"representative\"])\n",
    "cluster_map = clusters_df.groupby(\"representative\")[\"member\"].apply(list).to_dict()\n",
    "\n",
    "original_headers = {rec.id: rec.description for rec in SeqIO.parse(input_fasta_win, \"fasta\")}\n",
    "rep_records = list(SeqIO.parse(\"clustered_raw.fasta\", \"fasta\"))\n",
    "\n",
    "for rec in rep_records:\n",
    "    rep_id = rec.id\n",
    "    members = cluster_map.get(rep_id, [rep_id])\n",
    "    size = len(members)\n",
    "    original_header = original_headers.get(rep_id, rep_id)\n",
    "    rec.description = f\"{original_header} | Cluster={rep_id} | Members={','.join(members)} | Size={size}\"\n",
    "\n",
    "# === 4. Save final clustered file with enriched headers ===\n",
    "SeqIO.write(rep_records, output_fasta_win, \"fasta\")\n",
    "print(f\"\\n✅ Clustered file written to:\\n{output_fasta_win}\")\n",
    "\n"
   ]
  },
  {
   "cell_type": "code",
   "execution_count": 9,
   "id": "fad023f4",
   "metadata": {},
   "outputs": [
    {
     "name": "stdout",
     "output_type": "stream",
     "text": [
      "🧬 Total proteins in 'C:\\Users\\Yusuf\\OneDrive\\LST\\Derde_jaar\\Y3Q4\\Pipeline\\fasta_proteomes\\combined_databases\\pept2taxa_strain200_pept2prot_combined.fasta': 873448\n",
      "🧬 Total proteins in 'C:\\Users\\Yusuf\\OneDrive\\LST\\Derde_jaar\\Y3Q4\\Pipeline\\fasta_proteomes\\combined_databases\\pept2taxa_strain200_pept2prot_combined_clustered95.fasta': 527806\n",
      "📉 Proteins clustered away: 345642 (39.57%)\n"
     ]
    }
   ],
   "source": [
    "\n",
    "def count_proteins_in_fasta(fasta_path):\n",
    "    \"\"\"Count the number of protein entries in a FASTA file.\"\"\"\n",
    "    count = 0\n",
    "    with open(fasta_path, \"r\") as file:\n",
    "        for line in file:\n",
    "            if line.startswith(\">\"):\n",
    "                count += 1\n",
    "    print(f\"🧬 Total proteins in '{fasta_path}': {count}\")\n",
    "    return count\n",
    "\n",
    "# === Example usage ===\n",
    "clustered_path = r\"C:\\Users\\Yusuf\\OneDrive\\LST\\Derde_jaar\\Y3Q4\\Pipeline\\fasta_proteomes\\combined_databases\\pept2taxa_strain200_pept2prot_combined_clustered95.fasta\"\n",
    "original_path  = r\"C:\\Users\\Yusuf\\OneDrive\\LST\\Derde_jaar\\Y3Q4\\Pipeline\\fasta_proteomes\\combined_databases\\pept2taxa_strain200_pept2prot_combined.fasta\"\n",
    "\n",
    "# Run both\n",
    "original_count = count_proteins_in_fasta(original_path)\n",
    "clustered_count = count_proteins_in_fasta(clustered_path)\n",
    "\n",
    "# Difference\n",
    "reduction = original_count - clustered_count\n",
    "print(f\"📉 Proteins clustered away: {reduction} ({(reduction/original_count)*100:.2f}%)\")\n"
   ]
  }
 ],
 "metadata": {
  "kernelspec": {
   "display_name": "Python 3",
   "language": "python",
   "name": "python3"
  },
  "language_info": {
   "codemirror_mode": {
    "name": "ipython",
    "version": 3
   },
   "file_extension": ".py",
   "mimetype": "text/x-python",
   "name": "python",
   "nbconvert_exporter": "python",
   "pygments_lexer": "ipython3",
   "version": "3.9.13"
  }
 },
 "nbformat": 4,
 "nbformat_minor": 5
}
