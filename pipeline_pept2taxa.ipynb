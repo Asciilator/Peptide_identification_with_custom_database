{
 "cells": [
  {
   "cell_type": "code",
   "execution_count": 5,
   "id": "773780df",
   "metadata": {},
   "outputs": [
    {
     "name": "stdout",
     "output_type": "stream",
     "text": [
      "Original dataset shape: (189185, 20)\n",
      "Original Data (rows 24219–24227):\n"
     ]
    },
    {
     "data": {
      "text/html": [
       "<div>\n",
       "<style scoped>\n",
       "    .dataframe tbody tr th:only-of-type {\n",
       "        vertical-align: middle;\n",
       "    }\n",
       "\n",
       "    .dataframe tbody tr th {\n",
       "        vertical-align: top;\n",
       "    }\n",
       "\n",
       "    .dataframe thead th {\n",
       "        text-align: right;\n",
       "    }\n",
       "</style>\n",
       "<table border=\"1\" class=\"dataframe\">\n",
       "  <thead>\n",
       "    <tr style=\"text-align: right;\">\n",
       "      <th></th>\n",
       "      <th>Fraction</th>\n",
       "      <th>Source File</th>\n",
       "      <th>Feature</th>\n",
       "      <th>Peptide</th>\n",
       "      <th>Scan</th>\n",
       "      <th>Tag Length</th>\n",
       "      <th>Denovo Score</th>\n",
       "      <th>ALC (%)</th>\n",
       "      <th>length</th>\n",
       "      <th>m/z</th>\n",
       "      <th>z</th>\n",
       "      <th>RT</th>\n",
       "      <th>Predict RT</th>\n",
       "      <th>Area</th>\n",
       "      <th>Mass</th>\n",
       "      <th>ppm</th>\n",
       "      <th>PTM</th>\n",
       "      <th>local confidence (%)</th>\n",
       "      <th>tag (&gt;=0%)</th>\n",
       "      <th>mode</th>\n",
       "    </tr>\n",
       "  </thead>\n",
       "  <tbody>\n",
       "    <tr>\n",
       "      <th>24218</th>\n",
       "      <td>2</td>\n",
       "      <td>MP_RZ07032023_GW_flat_180min_DDA02.raw</td>\n",
       "      <td>-</td>\n",
       "      <td>KYAYFPVWVNDDKMSLPLR</td>\n",
       "      <td>F2:51275</td>\n",
       "      <td>19</td>\n",
       "      <td>76</td>\n",
       "      <td>68</td>\n",
       "      <td>19</td>\n",
       "      <td>781.3988</td>\n",
       "      <td>3</td>\n",
       "      <td>143.42</td>\n",
       "      <td>142.11</td>\n",
       "      <td>0.0</td>\n",
       "      <td>2341.1929</td>\n",
       "      <td>-7.8</td>\n",
       "      <td>NaN</td>\n",
       "      <td>45 39 41 35 33 43 89 98 98 94 95 96 94 90 83 4...</td>\n",
       "      <td>KYAYFPVWVNDDKMSLPLR</td>\n",
       "      <td>HCD</td>\n",
       "    </tr>\n",
       "    <tr>\n",
       "      <th>24219</th>\n",
       "      <td>1</td>\n",
       "      <td>MP_RZ07032023_GW_flat_180min_DDA01.raw</td>\n",
       "      <td>F1:35083</td>\n",
       "      <td>MWALDLR</td>\n",
       "      <td>F1:38190</td>\n",
       "      <td>7</td>\n",
       "      <td>76</td>\n",
       "      <td>78</td>\n",
       "      <td>7</td>\n",
       "      <td>452.7394</td>\n",
       "      <td>2</td>\n",
       "      <td>113.16</td>\n",
       "      <td>129.39</td>\n",
       "      <td>34600.0</td>\n",
       "      <td>903.4636</td>\n",
       "      <td>0.6</td>\n",
       "      <td>NaN</td>\n",
       "      <td>56 71 84 79 79 85 90</td>\n",
       "      <td>MWALDLR</td>\n",
       "      <td>HCD</td>\n",
       "    </tr>\n",
       "    <tr>\n",
       "      <th>24220</th>\n",
       "      <td>2</td>\n",
       "      <td>MP_RZ07032023_GW_flat_180min_DDA02.raw</td>\n",
       "      <td>F2:98838</td>\n",
       "      <td>LAAALTPAPVLAK</td>\n",
       "      <td>F2:33083</td>\n",
       "      <td>13</td>\n",
       "      <td>76</td>\n",
       "      <td>70</td>\n",
       "      <td>13</td>\n",
       "      <td>618.3896</td>\n",
       "      <td>2</td>\n",
       "      <td>100.95</td>\n",
       "      <td>110.95</td>\n",
       "      <td>13200000.0</td>\n",
       "      <td>1234.7649</td>\n",
       "      <td>-0.2</td>\n",
       "      <td>NaN</td>\n",
       "      <td>48 50 80 99 100 100 99 96 33 31 48 45 82</td>\n",
       "      <td>LAAALTPAPVLAK</td>\n",
       "      <td>HCD</td>\n",
       "    </tr>\n",
       "    <tr>\n",
       "      <th>24221</th>\n",
       "      <td>2</td>\n",
       "      <td>MP_RZ07032023_GW_flat_180min_DDA02.raw</td>\n",
       "      <td>F2:83383</td>\n",
       "      <td>APMSGLQNWK</td>\n",
       "      <td>F2:29687</td>\n",
       "      <td>10</td>\n",
       "      <td>76</td>\n",
       "      <td>70</td>\n",
       "      <td>10</td>\n",
       "      <td>566.2845</td>\n",
       "      <td>2</td>\n",
       "      <td>92.40</td>\n",
       "      <td>83.12</td>\n",
       "      <td>215000.0</td>\n",
       "      <td>1130.5542</td>\n",
       "      <td>0.3</td>\n",
       "      <td>NaN</td>\n",
       "      <td>96 94 85 92 82 41 28 21 69 92</td>\n",
       "      <td>APMSGLQNWK</td>\n",
       "      <td>HCD</td>\n",
       "    </tr>\n",
       "    <tr>\n",
       "      <th>24222</th>\n",
       "      <td>2</td>\n",
       "      <td>MP_RZ07032023_GW_flat_180min_DDA02.raw</td>\n",
       "      <td>F2:107262</td>\n",
       "      <td>SLTAPSGVPGM(+15.99)FK</td>\n",
       "      <td>F2:26077</td>\n",
       "      <td>13</td>\n",
       "      <td>76</td>\n",
       "      <td>67</td>\n",
       "      <td>13</td>\n",
       "      <td>654.3237</td>\n",
       "      <td>2</td>\n",
       "      <td>83.51</td>\n",
       "      <td>83.66</td>\n",
       "      <td>75700.0</td>\n",
       "      <td>1306.6592</td>\n",
       "      <td>-20.1</td>\n",
       "      <td>Oxidation (M)</td>\n",
       "      <td>37 46 79 93 95 96 88 84 23 17 26 89 97</td>\n",
       "      <td>SLTAPSGVPGM(+15.99)FK</td>\n",
       "      <td>HCD</td>\n",
       "    </tr>\n",
       "    <tr>\n",
       "      <th>24223</th>\n",
       "      <td>2</td>\n",
       "      <td>MP_RZ07032023_GW_flat_180min_DDA02.raw</td>\n",
       "      <td>F2:139236</td>\n",
       "      <td>EVQAWSWWWM(+15.99)TRRAAMDVPGR</td>\n",
       "      <td>F2:49588</td>\n",
       "      <td>21</td>\n",
       "      <td>76</td>\n",
       "      <td>68</td>\n",
       "      <td>21</td>\n",
       "      <td>879.0955</td>\n",
       "      <td>3</td>\n",
       "      <td>139.45</td>\n",
       "      <td>141.68</td>\n",
       "      <td>822000.0</td>\n",
       "      <td>2634.2371</td>\n",
       "      <td>10.4</td>\n",
       "      <td>Oxidation (M)</td>\n",
       "      <td>37 25 33 44 44 41 81 84 90 88 90 40 52 96 95 8...</td>\n",
       "      <td>EVQAWSWWWM(+15.99)TRRAAMDVPGR</td>\n",
       "      <td>HCD</td>\n",
       "    </tr>\n",
       "    <tr>\n",
       "      <th>24224</th>\n",
       "      <td>2</td>\n",
       "      <td>MP_RZ07032023_GW_flat_180min_DDA02.raw</td>\n",
       "      <td>F2:3957</td>\n",
       "      <td>MGFYGGR</td>\n",
       "      <td>F2:13573</td>\n",
       "      <td>7</td>\n",
       "      <td>76</td>\n",
       "      <td>68</td>\n",
       "      <td>7</td>\n",
       "      <td>394.1815</td>\n",
       "      <td>2</td>\n",
       "      <td>50.45</td>\n",
       "      <td>47.75</td>\n",
       "      <td>376000.0</td>\n",
       "      <td>786.3483</td>\n",
       "      <td>0.3</td>\n",
       "      <td>NaN</td>\n",
       "      <td>17 29 90 86 80 83 90</td>\n",
       "      <td>MGFYGGR</td>\n",
       "      <td>HCD</td>\n",
       "    </tr>\n",
       "    <tr>\n",
       "      <th>24225</th>\n",
       "      <td>1</td>\n",
       "      <td>MP_RZ07032023_GW_flat_180min_DDA01.raw</td>\n",
       "      <td>F1:103943</td>\n",
       "      <td>TLGALDGTN(+.98)MNR</td>\n",
       "      <td>F1:23486</td>\n",
       "      <td>12</td>\n",
       "      <td>76</td>\n",
       "      <td>71</td>\n",
       "      <td>12</td>\n",
       "      <td>632.3035</td>\n",
       "      <td>2</td>\n",
       "      <td>78.32</td>\n",
       "      <td>67.85</td>\n",
       "      <td>3660000.0</td>\n",
       "      <td>1262.5925</td>\n",
       "      <td>0.0</td>\n",
       "      <td>Deamidation (NQ)</td>\n",
       "      <td>21 21 26 76 99 98 90 88 70 82 91 93</td>\n",
       "      <td>TLGALDGTN(+.98)MNR</td>\n",
       "      <td>HCD</td>\n",
       "    </tr>\n",
       "    <tr>\n",
       "      <th>24226</th>\n",
       "      <td>1</td>\n",
       "      <td>MP_RZ07032023_GW_flat_180min_DDA01.raw</td>\n",
       "      <td>F1:23734</td>\n",
       "      <td>LGGLSSAMK</td>\n",
       "      <td>F1:16822</td>\n",
       "      <td>9</td>\n",
       "      <td>76</td>\n",
       "      <td>75</td>\n",
       "      <td>9</td>\n",
       "      <td>432.2354</td>\n",
       "      <td>2</td>\n",
       "      <td>59.98</td>\n",
       "      <td>63.31</td>\n",
       "      <td>416000.0</td>\n",
       "      <td>862.4582</td>\n",
       "      <td>-2.4</td>\n",
       "      <td>NaN</td>\n",
       "      <td>62 77 48 88 82 73 68 78 97</td>\n",
       "      <td>LGGLSSAMK</td>\n",
       "      <td>HCD</td>\n",
       "    </tr>\n",
       "    <tr>\n",
       "      <th>24227</th>\n",
       "      <td>2</td>\n",
       "      <td>MP_RZ07032023_GW_flat_180min_DDA02.raw</td>\n",
       "      <td>-</td>\n",
       "      <td>LDQ(+.98)AHLYNWQWYR</td>\n",
       "      <td>F2:50574</td>\n",
       "      <td>13</td>\n",
       "      <td>76</td>\n",
       "      <td>77</td>\n",
       "      <td>13</td>\n",
       "      <td>897.4365</td>\n",
       "      <td>2</td>\n",
       "      <td>141.76</td>\n",
       "      <td>127.6</td>\n",
       "      <td>0.0</td>\n",
       "      <td>1792.8320</td>\n",
       "      <td>14.8</td>\n",
       "      <td>Deamidation (NQ)</td>\n",
       "      <td>31 38 40 61 54 99 98 96 96 94 95 98 100</td>\n",
       "      <td>LDQ(+.98)AHLYNWQWYR</td>\n",
       "      <td>HCD</td>\n",
       "    </tr>\n",
       "  </tbody>\n",
       "</table>\n",
       "</div>"
      ],
      "text/plain": [
       "       Fraction                             Source File    Feature  \\\n",
       "24218         2  MP_RZ07032023_GW_flat_180min_DDA02.raw          -   \n",
       "24219         1  MP_RZ07032023_GW_flat_180min_DDA01.raw   F1:35083   \n",
       "24220         2  MP_RZ07032023_GW_flat_180min_DDA02.raw   F2:98838   \n",
       "24221         2  MP_RZ07032023_GW_flat_180min_DDA02.raw   F2:83383   \n",
       "24222         2  MP_RZ07032023_GW_flat_180min_DDA02.raw  F2:107262   \n",
       "24223         2  MP_RZ07032023_GW_flat_180min_DDA02.raw  F2:139236   \n",
       "24224         2  MP_RZ07032023_GW_flat_180min_DDA02.raw    F2:3957   \n",
       "24225         1  MP_RZ07032023_GW_flat_180min_DDA01.raw  F1:103943   \n",
       "24226         1  MP_RZ07032023_GW_flat_180min_DDA01.raw   F1:23734   \n",
       "24227         2  MP_RZ07032023_GW_flat_180min_DDA02.raw          -   \n",
       "\n",
       "                             Peptide      Scan  Tag Length  Denovo Score  \\\n",
       "24218            KYAYFPVWVNDDKMSLPLR  F2:51275          19            76   \n",
       "24219                        MWALDLR  F1:38190           7            76   \n",
       "24220                  LAAALTPAPVLAK  F2:33083          13            76   \n",
       "24221                     APMSGLQNWK  F2:29687          10            76   \n",
       "24222          SLTAPSGVPGM(+15.99)FK  F2:26077          13            76   \n",
       "24223  EVQAWSWWWM(+15.99)TRRAAMDVPGR  F2:49588          21            76   \n",
       "24224                        MGFYGGR  F2:13573           7            76   \n",
       "24225             TLGALDGTN(+.98)MNR  F1:23486          12            76   \n",
       "24226                      LGGLSSAMK  F1:16822           9            76   \n",
       "24227            LDQ(+.98)AHLYNWQWYR  F2:50574          13            76   \n",
       "\n",
       "       ALC (%)  length       m/z  z      RT Predict RT        Area       Mass  \\\n",
       "24218       68      19  781.3988  3  143.42     142.11         0.0  2341.1929   \n",
       "24219       78       7  452.7394  2  113.16     129.39     34600.0   903.4636   \n",
       "24220       70      13  618.3896  2  100.95     110.95  13200000.0  1234.7649   \n",
       "24221       70      10  566.2845  2   92.40      83.12    215000.0  1130.5542   \n",
       "24222       67      13  654.3237  2   83.51      83.66     75700.0  1306.6592   \n",
       "24223       68      21  879.0955  3  139.45     141.68    822000.0  2634.2371   \n",
       "24224       68       7  394.1815  2   50.45      47.75    376000.0   786.3483   \n",
       "24225       71      12  632.3035  2   78.32      67.85   3660000.0  1262.5925   \n",
       "24226       75       9  432.2354  2   59.98      63.31    416000.0   862.4582   \n",
       "24227       77      13  897.4365  2  141.76      127.6         0.0  1792.8320   \n",
       "\n",
       "        ppm               PTM  \\\n",
       "24218  -7.8               NaN   \n",
       "24219   0.6               NaN   \n",
       "24220  -0.2               NaN   \n",
       "24221   0.3               NaN   \n",
       "24222 -20.1     Oxidation (M)   \n",
       "24223  10.4     Oxidation (M)   \n",
       "24224   0.3               NaN   \n",
       "24225   0.0  Deamidation (NQ)   \n",
       "24226  -2.4               NaN   \n",
       "24227  14.8  Deamidation (NQ)   \n",
       "\n",
       "                                    local confidence (%)  \\\n",
       "24218  45 39 41 35 33 43 89 98 98 94 95 96 94 90 83 4...   \n",
       "24219                               56 71 84 79 79 85 90   \n",
       "24220           48 50 80 99 100 100 99 96 33 31 48 45 82   \n",
       "24221                      96 94 85 92 82 41 28 21 69 92   \n",
       "24222             37 46 79 93 95 96 88 84 23 17 26 89 97   \n",
       "24223  37 25 33 44 44 41 81 84 90 88 90 40 52 96 95 8...   \n",
       "24224                               17 29 90 86 80 83 90   \n",
       "24225                21 21 26 76 99 98 90 88 70 82 91 93   \n",
       "24226                         62 77 48 88 82 73 68 78 97   \n",
       "24227            31 38 40 61 54 99 98 96 96 94 95 98 100   \n",
       "\n",
       "                          tag (>=0%) mode  \n",
       "24218            KYAYFPVWVNDDKMSLPLR  HCD  \n",
       "24219                        MWALDLR  HCD  \n",
       "24220                  LAAALTPAPVLAK  HCD  \n",
       "24221                     APMSGLQNWK  HCD  \n",
       "24222          SLTAPSGVPGM(+15.99)FK  HCD  \n",
       "24223  EVQAWSWWWM(+15.99)TRRAAMDVPGR  HCD  \n",
       "24224                        MGFYGGR  HCD  \n",
       "24225             TLGALDGTN(+.98)MNR  HCD  \n",
       "24226                      LGGLSSAMK  HCD  \n",
       "24227            LDQ(+.98)AHLYNWQWYR  HCD  "
      ]
     },
     "metadata": {},
     "output_type": "display_data"
    },
    {
     "name": "stdout",
     "output_type": "stream",
     "text": [
      "Filtered dataset shape: (32111, 20)\n",
      "Filtered Data (rows 24219-24227):\n"
     ]
    },
    {
     "data": {
      "text/html": [
       "<div>\n",
       "<style scoped>\n",
       "    .dataframe tbody tr th:only-of-type {\n",
       "        vertical-align: middle;\n",
       "    }\n",
       "\n",
       "    .dataframe tbody tr th {\n",
       "        vertical-align: top;\n",
       "    }\n",
       "\n",
       "    .dataframe thead th {\n",
       "        text-align: right;\n",
       "    }\n",
       "</style>\n",
       "<table border=\"1\" class=\"dataframe\">\n",
       "  <thead>\n",
       "    <tr style=\"text-align: right;\">\n",
       "      <th></th>\n",
       "      <th>Fraction</th>\n",
       "      <th>Source File</th>\n",
       "      <th>Feature</th>\n",
       "      <th>Peptide</th>\n",
       "      <th>Scan</th>\n",
       "      <th>Tag Length</th>\n",
       "      <th>Denovo Score</th>\n",
       "      <th>ALC (%)</th>\n",
       "      <th>length</th>\n",
       "      <th>m/z</th>\n",
       "      <th>z</th>\n",
       "      <th>RT</th>\n",
       "      <th>Predict RT</th>\n",
       "      <th>Area</th>\n",
       "      <th>Mass</th>\n",
       "      <th>ppm</th>\n",
       "      <th>PTM</th>\n",
       "      <th>local confidence (%)</th>\n",
       "      <th>tag (&gt;=0%)</th>\n",
       "      <th>mode</th>\n",
       "    </tr>\n",
       "  </thead>\n",
       "  <tbody>\n",
       "    <tr>\n",
       "      <th>25984</th>\n",
       "      <td>2</td>\n",
       "      <td>MP_RZ07032023_GW_flat_180min_DDA02.raw</td>\n",
       "      <td>-</td>\n",
       "      <td>LVTTDANGWYNK</td>\n",
       "      <td>F2:16205</td>\n",
       "      <td>12</td>\n",
       "      <td>75</td>\n",
       "      <td>73</td>\n",
       "      <td>12</td>\n",
       "      <td>691.3395</td>\n",
       "      <td>2</td>\n",
       "      <td>57.63</td>\n",
       "      <td>71.8</td>\n",
       "      <td>0.0</td>\n",
       "      <td>1380.6675</td>\n",
       "      <td>-2.1</td>\n",
       "      <td>NaN</td>\n",
       "      <td>59 60 95 95 95 89 83 70 69 28 43 98</td>\n",
       "      <td>LVTTDANGWYNK</td>\n",
       "      <td>HCD</td>\n",
       "    </tr>\n",
       "    <tr>\n",
       "      <th>25985</th>\n",
       "      <td>2</td>\n",
       "      <td>MP_RZ07032023_GW_flat_180min_DDA02.raw</td>\n",
       "      <td>F2:39500</td>\n",
       "      <td>KATSLMDR</td>\n",
       "      <td>F2:7950</td>\n",
       "      <td>8</td>\n",
       "      <td>75</td>\n",
       "      <td>76</td>\n",
       "      <td>8</td>\n",
       "      <td>461.2376</td>\n",
       "      <td>2</td>\n",
       "      <td>32.97</td>\n",
       "      <td>17.78</td>\n",
       "      <td>841000.0</td>\n",
       "      <td>920.4749</td>\n",
       "      <td>-15.5</td>\n",
       "      <td>NaN</td>\n",
       "      <td>77 34 38 87 93 88 96 94</td>\n",
       "      <td>KATSLMDR</td>\n",
       "      <td>HCD</td>\n",
       "    </tr>\n",
       "    <tr>\n",
       "      <th>25986</th>\n",
       "      <td>2</td>\n",
       "      <td>MP_RZ07032023_GW_flat_180min_DDA02.raw</td>\n",
       "      <td>F2:103841</td>\n",
       "      <td>WAADLDQ(+.98)MVTK</td>\n",
       "      <td>F2:42699</td>\n",
       "      <td>11</td>\n",
       "      <td>75</td>\n",
       "      <td>75</td>\n",
       "      <td>11</td>\n",
       "      <td>639.8031</td>\n",
       "      <td>2</td>\n",
       "      <td>123.18</td>\n",
       "      <td>107.95</td>\n",
       "      <td>110000.0</td>\n",
       "      <td>1277.5962</td>\n",
       "      <td>-3.6</td>\n",
       "      <td>Deamidation (NQ)</td>\n",
       "      <td>78 60 90 90 89 94 89 69 28 41 98</td>\n",
       "      <td>WAADLDQ(+.98)MVTK</td>\n",
       "      <td>HCD</td>\n",
       "    </tr>\n",
       "    <tr>\n",
       "      <th>25989</th>\n",
       "      <td>1</td>\n",
       "      <td>MP_RZ07032023_GW_flat_180min_DDA01.raw</td>\n",
       "      <td>F1:18876</td>\n",
       "      <td>Q(+.98)VYLHMDGFR</td>\n",
       "      <td>F1:35026</td>\n",
       "      <td>10</td>\n",
       "      <td>75</td>\n",
       "      <td>72</td>\n",
       "      <td>10</td>\n",
       "      <td>422.8690</td>\n",
       "      <td>3</td>\n",
       "      <td>105.90</td>\n",
       "      <td>95.37</td>\n",
       "      <td>300000.0</td>\n",
       "      <td>1265.5862</td>\n",
       "      <td>-0.9</td>\n",
       "      <td>Deamidation (NQ)</td>\n",
       "      <td>26 28 45 61 92 95 98 92 94 96</td>\n",
       "      <td>Q(+.98)VYLHMDGFR</td>\n",
       "      <td>HCD</td>\n",
       "    </tr>\n",
       "    <tr>\n",
       "      <th>25990</th>\n",
       "      <td>2</td>\n",
       "      <td>MP_RZ07032023_GW_flat_180min_DDA02.raw</td>\n",
       "      <td>F2:113009</td>\n",
       "      <td>TLLPALYLLQGR</td>\n",
       "      <td>F2:54646</td>\n",
       "      <td>12</td>\n",
       "      <td>75</td>\n",
       "      <td>74</td>\n",
       "      <td>12</td>\n",
       "      <td>679.4126</td>\n",
       "      <td>2</td>\n",
       "      <td>151.38</td>\n",
       "      <td>164.41</td>\n",
       "      <td>25200.0</td>\n",
       "      <td>1356.8130</td>\n",
       "      <td>-1.7</td>\n",
       "      <td>NaN</td>\n",
       "      <td>51 50 50 33 82 89 93 95 85 79 88 98</td>\n",
       "      <td>TLLPALYLLQGR</td>\n",
       "      <td>HCD</td>\n",
       "    </tr>\n",
       "    <tr>\n",
       "      <th>25991</th>\n",
       "      <td>1</td>\n",
       "      <td>MP_RZ07032023_GW_flat_180min_DDA01.raw</td>\n",
       "      <td>F1:139595</td>\n",
       "      <td>FGFGLSDPDDN(+.98)NLFAHFKPLC(+57.02)K</td>\n",
       "      <td>F1:54391</td>\n",
       "      <td>22</td>\n",
       "      <td>75</td>\n",
       "      <td>72</td>\n",
       "      <td>22</td>\n",
       "      <td>847.3984</td>\n",
       "      <td>3</td>\n",
       "      <td>151.74</td>\n",
       "      <td>161.24</td>\n",
       "      <td>6010000.0</td>\n",
       "      <td>2539.1841</td>\n",
       "      <td>-4.2</td>\n",
       "      <td>Deamidation (NQ); Carbamidomethylation</td>\n",
       "      <td>49 40 57 62 82 96 69 44 92 49 28 34 96 97 97 8...</td>\n",
       "      <td>FGFGLSDPDDN(+.98)NLFAHFKPLC(+57.02)K</td>\n",
       "      <td>HCD</td>\n",
       "    </tr>\n",
       "    <tr>\n",
       "      <th>25993</th>\n",
       "      <td>1</td>\n",
       "      <td>MP_RZ07032023_GW_flat_180min_DDA01.raw</td>\n",
       "      <td>-</td>\n",
       "      <td>YHDALTYVWNWGGFTGK</td>\n",
       "      <td>F1:45457</td>\n",
       "      <td>17</td>\n",
       "      <td>75</td>\n",
       "      <td>85</td>\n",
       "      <td>17</td>\n",
       "      <td>1007.9756</td>\n",
       "      <td>2</td>\n",
       "      <td>130.26</td>\n",
       "      <td>163.81</td>\n",
       "      <td>0.0</td>\n",
       "      <td>2013.9373</td>\n",
       "      <td>-0.3</td>\n",
       "      <td>NaN</td>\n",
       "      <td>34 20 62 78 99 99 98 98 98 97 98 97 97 98 98 9...</td>\n",
       "      <td>YHDALTYVWNWGGFTGK</td>\n",
       "      <td>HCD</td>\n",
       "    </tr>\n",
       "    <tr>\n",
       "      <th>25994</th>\n",
       "      <td>1</td>\n",
       "      <td>MP_RZ07032023_GW_flat_180min_DDA01.raw</td>\n",
       "      <td>F1:852</td>\n",
       "      <td>NSLAVLR</td>\n",
       "      <td>F1:12592</td>\n",
       "      <td>7</td>\n",
       "      <td>75</td>\n",
       "      <td>81</td>\n",
       "      <td>7</td>\n",
       "      <td>386.7372</td>\n",
       "      <td>2</td>\n",
       "      <td>48.50</td>\n",
       "      <td>66</td>\n",
       "      <td>1480000.0</td>\n",
       "      <td>771.4603</td>\n",
       "      <td>-0.4</td>\n",
       "      <td>NaN</td>\n",
       "      <td>61 60 82 92 94 94 86</td>\n",
       "      <td>NSLAVLR</td>\n",
       "      <td>HCD</td>\n",
       "    </tr>\n",
       "    <tr>\n",
       "      <th>25995</th>\n",
       "      <td>2</td>\n",
       "      <td>MP_RZ07032023_GW_flat_180min_DDA02.raw</td>\n",
       "      <td>F2:141090</td>\n",
       "      <td>NYLDDLR</td>\n",
       "      <td>F2:41876</td>\n",
       "      <td>7</td>\n",
       "      <td>75</td>\n",
       "      <td>85</td>\n",
       "      <td>7</td>\n",
       "      <td>908.4518</td>\n",
       "      <td>1</td>\n",
       "      <td>121.32</td>\n",
       "      <td>83.38</td>\n",
       "      <td>208000.0</td>\n",
       "      <td>907.4399</td>\n",
       "      <td>5.0</td>\n",
       "      <td>NaN</td>\n",
       "      <td>85 83 85 82 85 88 90</td>\n",
       "      <td>NYLDDLR</td>\n",
       "      <td>HCD</td>\n",
       "    </tr>\n",
       "    <tr>\n",
       "      <th>25997</th>\n",
       "      <td>2</td>\n",
       "      <td>MP_RZ07032023_GW_flat_180min_DDA02.raw</td>\n",
       "      <td>F2:129117</td>\n",
       "      <td>YM(+15.99)APQEVGPGSPFR</td>\n",
       "      <td>F2:34615</td>\n",
       "      <td>14</td>\n",
       "      <td>75</td>\n",
       "      <td>78</td>\n",
       "      <td>14</td>\n",
       "      <td>776.3701</td>\n",
       "      <td>2</td>\n",
       "      <td>104.14</td>\n",
       "      <td>93.71</td>\n",
       "      <td>57400.0</td>\n",
       "      <td>1550.7188</td>\n",
       "      <td>4.5</td>\n",
       "      <td>Oxidation (M)</td>\n",
       "      <td>37 35 43 41 90 96 95 97 93 92 94 82 95 100</td>\n",
       "      <td>YM(+15.99)APQEVGPGSPFR</td>\n",
       "      <td>HCD</td>\n",
       "    </tr>\n",
       "  </tbody>\n",
       "</table>\n",
       "</div>"
      ],
      "text/plain": [
       "       Fraction                             Source File    Feature  \\\n",
       "25984         2  MP_RZ07032023_GW_flat_180min_DDA02.raw          -   \n",
       "25985         2  MP_RZ07032023_GW_flat_180min_DDA02.raw   F2:39500   \n",
       "25986         2  MP_RZ07032023_GW_flat_180min_DDA02.raw  F2:103841   \n",
       "25989         1  MP_RZ07032023_GW_flat_180min_DDA01.raw   F1:18876   \n",
       "25990         2  MP_RZ07032023_GW_flat_180min_DDA02.raw  F2:113009   \n",
       "25991         1  MP_RZ07032023_GW_flat_180min_DDA01.raw  F1:139595   \n",
       "25993         1  MP_RZ07032023_GW_flat_180min_DDA01.raw          -   \n",
       "25994         1  MP_RZ07032023_GW_flat_180min_DDA01.raw     F1:852   \n",
       "25995         2  MP_RZ07032023_GW_flat_180min_DDA02.raw  F2:141090   \n",
       "25997         2  MP_RZ07032023_GW_flat_180min_DDA02.raw  F2:129117   \n",
       "\n",
       "                                    Peptide      Scan  Tag Length  \\\n",
       "25984                          LVTTDANGWYNK  F2:16205          12   \n",
       "25985                              KATSLMDR   F2:7950           8   \n",
       "25986                     WAADLDQ(+.98)MVTK  F2:42699          11   \n",
       "25989                      Q(+.98)VYLHMDGFR  F1:35026          10   \n",
       "25990                          TLLPALYLLQGR  F2:54646          12   \n",
       "25991  FGFGLSDPDDN(+.98)NLFAHFKPLC(+57.02)K  F1:54391          22   \n",
       "25993                     YHDALTYVWNWGGFTGK  F1:45457          17   \n",
       "25994                               NSLAVLR  F1:12592           7   \n",
       "25995                               NYLDDLR  F2:41876           7   \n",
       "25997                YM(+15.99)APQEVGPGSPFR  F2:34615          14   \n",
       "\n",
       "       Denovo Score  ALC (%)  length        m/z  z      RT Predict RT  \\\n",
       "25984            75       73      12   691.3395  2   57.63       71.8   \n",
       "25985            75       76       8   461.2376  2   32.97      17.78   \n",
       "25986            75       75      11   639.8031  2  123.18     107.95   \n",
       "25989            75       72      10   422.8690  3  105.90      95.37   \n",
       "25990            75       74      12   679.4126  2  151.38     164.41   \n",
       "25991            75       72      22   847.3984  3  151.74     161.24   \n",
       "25993            75       85      17  1007.9756  2  130.26     163.81   \n",
       "25994            75       81       7   386.7372  2   48.50         66   \n",
       "25995            75       85       7   908.4518  1  121.32      83.38   \n",
       "25997            75       78      14   776.3701  2  104.14      93.71   \n",
       "\n",
       "            Area       Mass   ppm                                     PTM  \\\n",
       "25984        0.0  1380.6675  -2.1                                     NaN   \n",
       "25985   841000.0   920.4749 -15.5                                     NaN   \n",
       "25986   110000.0  1277.5962  -3.6                        Deamidation (NQ)   \n",
       "25989   300000.0  1265.5862  -0.9                        Deamidation (NQ)   \n",
       "25990    25200.0  1356.8130  -1.7                                     NaN   \n",
       "25991  6010000.0  2539.1841  -4.2  Deamidation (NQ); Carbamidomethylation   \n",
       "25993        0.0  2013.9373  -0.3                                     NaN   \n",
       "25994  1480000.0   771.4603  -0.4                                     NaN   \n",
       "25995   208000.0   907.4399   5.0                                     NaN   \n",
       "25997    57400.0  1550.7188   4.5                           Oxidation (M)   \n",
       "\n",
       "                                    local confidence (%)  \\\n",
       "25984                59 60 95 95 95 89 83 70 69 28 43 98   \n",
       "25985                            77 34 38 87 93 88 96 94   \n",
       "25986                   78 60 90 90 89 94 89 69 28 41 98   \n",
       "25989                      26 28 45 61 92 95 98 92 94 96   \n",
       "25990                51 50 50 33 82 89 93 95 85 79 88 98   \n",
       "25991  49 40 57 62 82 96 69 44 92 49 28 34 96 97 97 8...   \n",
       "25993  34 20 62 78 99 99 98 98 98 97 98 97 97 98 98 9...   \n",
       "25994                               61 60 82 92 94 94 86   \n",
       "25995                               85 83 85 82 85 88 90   \n",
       "25997         37 35 43 41 90 96 95 97 93 92 94 82 95 100   \n",
       "\n",
       "                                 tag (>=0%) mode  \n",
       "25984                          LVTTDANGWYNK  HCD  \n",
       "25985                              KATSLMDR  HCD  \n",
       "25986                     WAADLDQ(+.98)MVTK  HCD  \n",
       "25989                      Q(+.98)VYLHMDGFR  HCD  \n",
       "25990                          TLLPALYLLQGR  HCD  \n",
       "25991  FGFGLSDPDDN(+.98)NLFAHFKPLC(+57.02)K  HCD  \n",
       "25993                     YHDALTYVWNWGGFTGK  HCD  \n",
       "25994                               NSLAVLR  HCD  \n",
       "25995                               NYLDDLR  HCD  \n",
       "25997                YM(+15.99)APQEVGPGSPFR  HCD  "
      ]
     },
     "metadata": {},
     "output_type": "display_data"
    },
    {
     "name": "stdout",
     "output_type": "stream",
     "text": [
      "Number of peptides filtered out: 157074\n"
     ]
    }
   ],
   "source": [
    "# Import necessary libraries\n",
    "import pandas as pd\n",
    "\n",
    "# Load the de novo peptide data\n",
    "file_path = \"de_novo_garmerwolde.csv\"\n",
    "df = pd.read_csv(file_path)\n",
    "\n",
    "# Display the dataset dimensions\n",
    "print(f\"Original dataset shape: {df.shape}\")\n",
    "\n",
    "# Display rows 24219 to 24227 (Python is zero-indexed → use iloc[24218:24227+1])\n",
    "print(\"Original Data (rows 24219–24227):\")\n",
    "display(df.iloc[24218:24228])\n",
    "\n",
    "# Filter peptides with ALC (%) > 70\n",
    "filtered_df = df[df[\"ALC (%)\"] > 70]\n",
    "\n",
    "# Display the filtered dataset dimensions\n",
    "print(f\"Filtered dataset shape: {filtered_df.shape}\")\n",
    "\n",
    "# Display same rows (if they exist after filtering — some will be removed)\n",
    "print(\"Filtered Data (rows 24219-24227):\")\n",
    "display(filtered_df.iloc[24218:24228])  # This only works if enough rows remain after filtering\n",
    "print(f\"Number of peptides filtered out: {df.shape[0] - filtered_df.shape[0]}\")"
   ]
  },
  {
   "cell_type": "code",
   "execution_count": 6,
   "id": "19d8f42e",
   "metadata": {},
   "outputs": [
    {
     "name": "stdout",
     "output_type": "stream",
     "text": [
      "Shape of the filtered DataFrame after adding the new column:\n"
     ]
    },
    {
     "name": "stderr",
     "output_type": "stream",
     "text": [
      "C:\\Temp\\ipykernel_18596\\2995632746.py:23: SettingWithCopyWarning: \n",
      "A value is trying to be set on a copy of a slice from a DataFrame.\n",
      "Try using .loc[row_indexer,col_indexer] = value instead\n",
      "\n",
      "See the caveats in the documentation: https://pandas.pydata.org/pandas-docs/stable/user_guide/indexing.html#returning-a-view-versus-a-copy\n",
      "  filtered_df[\"Cleaned Sequence\"] = filtered_df[\"Peptide\"].apply(lambda x: wrangle_peptides(x))\n"
     ]
    },
    {
     "data": {
      "text/plain": [
       "(32111, 21)"
      ]
     },
     "metadata": {},
     "output_type": "display_data"
    },
    {
     "name": "stdout",
     "output_type": "stream",
     "text": [
      "Cleaned Peptides (Rows 11–21):\n"
     ]
    },
    {
     "data": {
      "text/html": [
       "<div>\n",
       "<style scoped>\n",
       "    .dataframe tbody tr th:only-of-type {\n",
       "        vertical-align: middle;\n",
       "    }\n",
       "\n",
       "    .dataframe tbody tr th {\n",
       "        vertical-align: top;\n",
       "    }\n",
       "\n",
       "    .dataframe thead th {\n",
       "        text-align: right;\n",
       "    }\n",
       "</style>\n",
       "<table border=\"1\" class=\"dataframe\">\n",
       "  <thead>\n",
       "    <tr style=\"text-align: right;\">\n",
       "      <th></th>\n",
       "      <th>Peptide</th>\n",
       "      <th>Cleaned Sequence</th>\n",
       "    </tr>\n",
       "  </thead>\n",
       "  <tbody>\n",
       "    <tr>\n",
       "      <th>10</th>\n",
       "      <td>TSLLN(+.98)YLR</td>\n",
       "      <td>TSIINYIR</td>\n",
       "    </tr>\n",
       "    <tr>\n",
       "      <th>11</th>\n",
       "      <td>VVQLTMQ(+.98)TQEK</td>\n",
       "      <td>VVQITMQTQEK</td>\n",
       "    </tr>\n",
       "    <tr>\n",
       "      <th>12</th>\n",
       "      <td>ATMSDFSPK</td>\n",
       "      <td>ATMSDFSPK</td>\n",
       "    </tr>\n",
       "    <tr>\n",
       "      <th>13</th>\n",
       "      <td>LSELTSLTSAPR</td>\n",
       "      <td>ISEITSITSAPR</td>\n",
       "    </tr>\n",
       "    <tr>\n",
       "      <th>14</th>\n",
       "      <td>VSQ(+.98)AVLAASSGR</td>\n",
       "      <td>VSQAVIAASSGR</td>\n",
       "    </tr>\n",
       "    <tr>\n",
       "      <th>15</th>\n",
       "      <td>VGLAWDR</td>\n",
       "      <td>VGIAWDR</td>\n",
       "    </tr>\n",
       "    <tr>\n",
       "      <th>16</th>\n",
       "      <td>YLPASC(+57.02)R</td>\n",
       "      <td>YIPASCR</td>\n",
       "    </tr>\n",
       "    <tr>\n",
       "      <th>17</th>\n",
       "      <td>ASVEDLLK</td>\n",
       "      <td>ASVEDIIK</td>\n",
       "    </tr>\n",
       "    <tr>\n",
       "      <th>18</th>\n",
       "      <td>YPDVATTHGGSATK</td>\n",
       "      <td>YPDVATTHGGSATK</td>\n",
       "    </tr>\n",
       "    <tr>\n",
       "      <th>19</th>\n",
       "      <td>VMGVAFN(+.98)R</td>\n",
       "      <td>VMGVAFNR</td>\n",
       "    </tr>\n",
       "    <tr>\n",
       "      <th>20</th>\n",
       "      <td>APDNVGVLLR</td>\n",
       "      <td>APDNVGVIIR</td>\n",
       "    </tr>\n",
       "  </tbody>\n",
       "</table>\n",
       "</div>"
      ],
      "text/plain": [
       "               Peptide Cleaned Sequence\n",
       "10      TSLLN(+.98)YLR         TSIINYIR\n",
       "11   VVQLTMQ(+.98)TQEK      VVQITMQTQEK\n",
       "12           ATMSDFSPK        ATMSDFSPK\n",
       "13        LSELTSLTSAPR     ISEITSITSAPR\n",
       "14  VSQ(+.98)AVLAASSGR     VSQAVIAASSGR\n",
       "15             VGLAWDR          VGIAWDR\n",
       "16     YLPASC(+57.02)R          YIPASCR\n",
       "17            ASVEDLLK         ASVEDIIK\n",
       "18      YPDVATTHGGSATK   YPDVATTHGGSATK\n",
       "19      VMGVAFN(+.98)R         VMGVAFNR\n",
       "20          APDNVGVLLR       APDNVGVIIR"
      ]
     },
     "metadata": {},
     "output_type": "display_data"
    }
   ],
   "source": [
    "# Define the wrangle_peptides function\n",
    "import re\n",
    "\n",
    "def wrangle_peptides(sequence: str, ptm_filter: bool=True, li_swap: bool=True) -> str:\n",
    "    \"\"\"Process peptide sequences by removing post-translational modifications\n",
    "    and/or equating Leucine and Isoleucine amino acids.\n",
    "\n",
    "    Args:\n",
    "        sequence (str): Peptide sequence string\n",
    "        ptm_filter (bool, optional): Remove PTMs from sequence. Defaults to True.\n",
    "        li_swap (bool, optional): Equate Leucine (L) and Isoleucine (I). Defaults to True.\n",
    "\n",
    "    Returns:\n",
    "        str: Processed sequence string\n",
    "    \"\"\"\n",
    "    if ptm_filter:\n",
    "        sequence = \"\".join(re.findall(r\"[A-Z]+\", sequence))\n",
    "    if li_swap:\n",
    "        sequence = sequence.replace(\"L\", \"I\")\n",
    "    return sequence\n",
    "\n",
    "# Apply wrangle_peptides function to the filtered data\n",
    "filtered_df[\"Cleaned Sequence\"] = filtered_df[\"Peptide\"].apply(lambda x: wrangle_peptides(x))\n",
    "\n",
    "print(\"Shape of the filtered DataFrame after adding the new column:\")\n",
    "display(filtered_df.shape)  # Check the shape of the DataFrame after adding the new column\n",
    "\n",
    "# Display rows 11 to 21 (Python is 0-indexed, so need 10:21)\n",
    "print(\"Cleaned Peptides (Rows 11–21):\")\n",
    "display(filtered_df[[\"Peptide\", \"Cleaned Sequence\"]].iloc[10:21])\n"
   ]
  },
  {
   "cell_type": "code",
   "execution_count": 7,
   "id": "42a2fe74",
   "metadata": {},
   "outputs": [],
   "source": [
    "import os\n",
    "import requests\n",
    "import time\n",
    "\n",
    "def fetch_request(url: str, retries: int = 3, delay: int = 5) -> requests.Response:\n",
    "    for attempt in range(retries):\n",
    "        req_get = requests.get(url)\n",
    "        if req_get.status_code == 200:\n",
    "            return req_get\n",
    "        print(f\"Request failed with status {req_get.status_code}. Retrying ({attempt+1}/{retries}) in {delay} seconds...\")\n",
    "        time.sleep(delay)\n",
    "    raise RuntimeError(f\"Request failed after {retries} retries: statuscode {req_get.status_code}\")\n",
    "\n",
    "def request_unipept_pept2taxa(pept_df: pd.DataFrame, seq_col: str) -> pd.DataFrame:\n",
    "    \"\"\"Fetch taxon info using UniPept's pept2taxa API.\"\"\"\n",
    "    base_url = \"https://api.unipept.ugent.be/api/v1/pept2taxa.json?equate_il=true\"\n",
    "    batch_size = 100\n",
    "\n",
    "    seq_series = [\"&input[]=\" + seq for seq in pept_df[seq_col].drop_duplicates()]\n",
    "    taxa_df = pd.DataFrame(columns=[\"Peptide\", \"Taxon ID\", \"Taxon Name\", \"Taxon Rank\"])\n",
    "\n",
    "    x = 0\n",
    "    total_batches = (len(seq_series) + batch_size - 1) // batch_size\n",
    "    print(f\"🔄 Total batches: {total_batches}\")\n",
    "\n",
    "    while x < len(seq_series):\n",
    "        peptides = seq_series[x:x + batch_size]\n",
    "        req_str = \"\".join([base_url, *peptides])\n",
    "        try:\n",
    "            response = fetch_request(req_str).json()\n",
    "        except Exception as e:\n",
    "            print(f\"❌ Error in batch {x // batch_size + 1}: {e}\")\n",
    "            x += batch_size\n",
    "            continue\n",
    "\n",
    "        batch_df = pd.DataFrame(\n",
    "            [\n",
    "                {\n",
    "                    \"Peptide\": record.get(\"peptide\", \"Unknown\"),\n",
    "                    \"Taxon ID\": record.get(\"taxon_id\", \"Unknown\"),\n",
    "                    \"Taxon Name\": record.get(\"taxon_name\", \"Unknown\"),\n",
    "                    \"Taxon Rank\": record.get(\"taxon_rank\", \"Unknown\")\n",
    "                }\n",
    "                for record in response\n",
    "            ]\n",
    "        )\n",
    "        taxa_df = pd.concat([taxa_df, batch_df], ignore_index=True)\n",
    "        x += batch_size\n",
    "\n",
    "    print(f\"✅ Done. Total mappings: {len(taxa_df)}\")\n",
    "    return taxa_df"
   ]
  },
  {
   "cell_type": "code",
   "execution_count": 8,
   "id": "5c30a22e",
   "metadata": {},
   "outputs": [
    {
     "name": "stdout",
     "output_type": "stream",
     "text": [
      "🔄 Total batches: 265\n",
      "✅ Done. Total mappings: 8327285\n"
     ]
    },
    {
     "data": {
      "text/html": [
       "<div>\n",
       "<style scoped>\n",
       "    .dataframe tbody tr th:only-of-type {\n",
       "        vertical-align: middle;\n",
       "    }\n",
       "\n",
       "    .dataframe tbody tr th {\n",
       "        vertical-align: top;\n",
       "    }\n",
       "\n",
       "    .dataframe thead th {\n",
       "        text-align: right;\n",
       "    }\n",
       "</style>\n",
       "<table border=\"1\" class=\"dataframe\">\n",
       "  <thead>\n",
       "    <tr style=\"text-align: right;\">\n",
       "      <th></th>\n",
       "      <th>Peptide</th>\n",
       "      <th>Taxon ID</th>\n",
       "      <th>Taxon Name</th>\n",
       "      <th>Taxon Rank</th>\n",
       "    </tr>\n",
       "  </thead>\n",
       "  <tbody>\n",
       "    <tr>\n",
       "      <th>0</th>\n",
       "      <td>AISTWFTIK</td>\n",
       "      <td>1436998</td>\n",
       "      <td>Nitrospira lenta</td>\n",
       "      <td>species</td>\n",
       "    </tr>\n",
       "    <tr>\n",
       "      <th>1</th>\n",
       "      <td>AISTWFTIK</td>\n",
       "      <td>1936990</td>\n",
       "      <td>Nitrospira sp. KM1</td>\n",
       "      <td>species</td>\n",
       "    </tr>\n",
       "    <tr>\n",
       "      <th>2</th>\n",
       "      <td>AISTWFTIK</td>\n",
       "      <td>2026887</td>\n",
       "      <td>Nitrospirota bacterium</td>\n",
       "      <td>species</td>\n",
       "    </tr>\n",
       "    <tr>\n",
       "      <th>3</th>\n",
       "      <td>AISTWFTIK</td>\n",
       "      <td>1985129</td>\n",
       "      <td>Nitrospira sp. CG24E</td>\n",
       "      <td>species</td>\n",
       "    </tr>\n",
       "    <tr>\n",
       "      <th>4</th>\n",
       "      <td>AISTWFTIK</td>\n",
       "      <td>330214</td>\n",
       "      <td>Nitrospira defluvii</td>\n",
       "      <td>species</td>\n",
       "    </tr>\n",
       "  </tbody>\n",
       "</table>\n",
       "</div>"
      ],
      "text/plain": [
       "     Peptide Taxon ID              Taxon Name Taxon Rank\n",
       "0  AISTWFTIK  1436998        Nitrospira lenta    species\n",
       "1  AISTWFTIK  1936990      Nitrospira sp. KM1    species\n",
       "2  AISTWFTIK  2026887  Nitrospirota bacterium    species\n",
       "3  AISTWFTIK  1985129    Nitrospira sp. CG24E    species\n",
       "4  AISTWFTIK   330214     Nitrospira defluvii    species"
      ]
     },
     "metadata": {},
     "output_type": "display_data"
    }
   ],
   "source": [
    "# Example call\n",
    "taxa_results_df = request_unipept_pept2taxa(filtered_df, seq_col=\"Cleaned Sequence\")\n",
    "display(taxa_results_df.head())"
   ]
  },
  {
   "cell_type": "code",
   "execution_count": 9,
   "id": "bcf2c2f1",
   "metadata": {},
   "outputs": [
    {
     "data": {
      "text/plain": [
       "(8327285, 4)"
      ]
     },
     "metadata": {},
     "output_type": "display_data"
    }
   ],
   "source": [
    "display(taxa_results_df.shape)"
   ]
  },
  {
   "cell_type": "code",
   "execution_count": 10,
   "id": "acd17b9c",
   "metadata": {},
   "outputs": [],
   "source": [
    "import pandas as pd\n",
    "import requests\n",
    "import time\n",
    "\n",
    "def fetch_request(url: str, retries: int = 3, delay: int = 5) -> requests.Response:\n",
    "    for attempt in range(retries):\n",
    "        req_get = requests.get(url)\n",
    "        if req_get.status_code == 200:\n",
    "            return req_get\n",
    "        print(f\"Request failed with status {req_get.status_code}. Retrying ({attempt+1}/{retries}) in {delay} seconds...\")\n",
    "        time.sleep(delay)\n",
    "    raise RuntimeError(f\"Request failed after {retries} retries: statuscode {req_get.status_code}\")\n",
    "\n",
    "def request_unipept_pept2taxa(pept_df: pd.DataFrame, seq_col: str) -> pd.DataFrame:\n",
    "    \"\"\"Fetch taxon info using UniPept's pept2taxa API with extended metadata.\"\"\"\n",
    "    base_url = \"https://api.unipept.ugent.be/api/v1/pept2taxa.json?equate_il=true&extra=true&compact=true\"\n",
    "    batch_size = 100\n",
    "\n",
    "    seq_series = [\"&input[]=\" + seq for seq in pept_df[seq_col].drop_duplicates()]\n",
    "    taxa_df = pd.DataFrame(columns=[\n",
    "        \"Peptide\", \"Taxon ID\", \"Taxon Name\", \"Taxon Rank\", \"Matches\", \"Protein Count\"\n",
    "    ])\n",
    "\n",
    "    x = 0\n",
    "    total_batches = (len(seq_series) + batch_size - 1) // batch_size\n",
    "    print(f\"🔄 Total batches: {total_batches}\")\n",
    "\n",
    "    while x < len(seq_series):\n",
    "        peptides = seq_series[x:x + batch_size]\n",
    "        req_str = \"\".join([base_url, *peptides])\n",
    "        try:\n",
    "            response = fetch_request(req_str).json()\n",
    "        except Exception as e:\n",
    "            print(f\"❌ Error in batch {x // batch_size + 1}: {e}\")\n",
    "            x += batch_size\n",
    "            continue\n",
    "\n",
    "        batch_df = pd.DataFrame([\n",
    "            {\n",
    "                \"Peptide\": record.get(\"peptide\", \"Unknown\"),\n",
    "                \"Taxon ID\": record.get(\"taxon_id\", \"Unknown\"),\n",
    "                \"Taxon Name\": record.get(\"taxon_name\", \"Unknown\"),\n",
    "                \"Taxon Rank\": record.get(\"taxon_rank\", \"Unknown\"),\n",
    "                \"Matches\": record.get(\"matches\", 0),\n",
    "                \"Protein Count\": record.get(\"protein_count\", 0)\n",
    "            }\n",
    "            for record in response\n",
    "        ])\n",
    "\n",
    "        taxa_df = pd.concat([taxa_df, batch_df], ignore_index=True)\n",
    "        x += batch_size\n",
    "\n",
    "    print(f\"✅ Done. Total mappings: {len(taxa_df)}\")\n",
    "    return taxa_df"
   ]
  },
  {
   "cell_type": "code",
   "execution_count": 11,
   "id": "c0350998",
   "metadata": {},
   "outputs": [],
   "source": [
    "def filter_taxa_by_peptide_support(taxa_df, min_peptides=5):\n",
    "    \"\"\"\n",
    "    Keep only taxa supported by at least `min_peptides` unique peptides.\n",
    "    Also include the taxon rank for downstream filtering.\n",
    "    \"\"\"\n",
    "    support_counts = taxa_df.groupby([\"Taxon ID\", \"Taxon Name\", \"Taxon Rank\"]).agg({\n",
    "        \"Peptide\": pd.Series.nunique\n",
    "    }).reset_index().rename(columns={\"Peptide\": \"Num Peptides\"})\n",
    "\n",
    "    filtered = support_counts[support_counts[\"Num Peptides\"] >= min_peptides]\n",
    "    print(f\"🧬 Retained {len(filtered)} taxa with ≥ {min_peptides} unique peptides.\")\n",
    "\n",
    "    return filtered"
   ]
  },
  {
   "cell_type": "code",
   "execution_count": 12,
   "id": "5d47c7c1",
   "metadata": {},
   "outputs": [
    {
     "name": "stdout",
     "output_type": "stream",
     "text": [
      "🧬 Retained 7911 taxa with ≥ 300 unique peptides.\n"
     ]
    },
    {
     "data": {
      "text/html": [
       "<div>\n",
       "<style scoped>\n",
       "    .dataframe tbody tr th:only-of-type {\n",
       "        vertical-align: middle;\n",
       "    }\n",
       "\n",
       "    .dataframe tbody tr th {\n",
       "        vertical-align: top;\n",
       "    }\n",
       "\n",
       "    .dataframe thead th {\n",
       "        text-align: right;\n",
       "    }\n",
       "</style>\n",
       "<table border=\"1\" class=\"dataframe\">\n",
       "  <thead>\n",
       "    <tr style=\"text-align: right;\">\n",
       "      <th></th>\n",
       "      <th>Taxon ID</th>\n",
       "      <th>Taxon Name</th>\n",
       "      <th>Taxon Rank</th>\n",
       "      <th>Num Peptides</th>\n",
       "    </tr>\n",
       "  </thead>\n",
       "  <tbody>\n",
       "    <tr>\n",
       "      <th>9</th>\n",
       "      <td>33</td>\n",
       "      <td>Myxococcus fulvus</td>\n",
       "      <td>species</td>\n",
       "      <td>443</td>\n",
       "    </tr>\n",
       "    <tr>\n",
       "      <th>10</th>\n",
       "      <td>34</td>\n",
       "      <td>Myxococcus xanthus</td>\n",
       "      <td>species</td>\n",
       "      <td>611</td>\n",
       "    </tr>\n",
       "    <tr>\n",
       "      <th>13</th>\n",
       "      <td>41</td>\n",
       "      <td>Stigmatella aurantiaca</td>\n",
       "      <td>species</td>\n",
       "      <td>437</td>\n",
       "    </tr>\n",
       "    <tr>\n",
       "      <th>14</th>\n",
       "      <td>43</td>\n",
       "      <td>Cystobacter fuscus</td>\n",
       "      <td>species</td>\n",
       "      <td>505</td>\n",
       "    </tr>\n",
       "    <tr>\n",
       "      <th>16</th>\n",
       "      <td>48</td>\n",
       "      <td>Archangium gephyra</td>\n",
       "      <td>species</td>\n",
       "      <td>745</td>\n",
       "    </tr>\n",
       "  </tbody>\n",
       "</table>\n",
       "</div>"
      ],
      "text/plain": [
       "    Taxon ID              Taxon Name Taxon Rank  Num Peptides\n",
       "9         33       Myxococcus fulvus    species           443\n",
       "10        34      Myxococcus xanthus    species           611\n",
       "13        41  Stigmatella aurantiaca    species           437\n",
       "14        43      Cystobacter fuscus    species           505\n",
       "16        48      Archangium gephyra    species           745"
      ]
     },
     "metadata": {},
     "output_type": "display_data"
    },
    {
     "name": "stdout",
     "output_type": "stream",
     "text": [
      "Filtered taxa DataFrame shape: (7911, 4)\n"
     ]
    }
   ],
   "source": [
    "# === Example usage ===\n",
    "filtered_taxa_df = filter_taxa_by_peptide_support(taxa_results_df, min_peptides=300)\n",
    "display(filtered_taxa_df.head())\n",
    "print(f\"Filtered taxa DataFrame shape: {filtered_taxa_df.shape}\")"
   ]
  },
  {
   "cell_type": "code",
   "execution_count": 13,
   "id": "4e406e27",
   "metadata": {},
   "outputs": [],
   "source": [
    "def filter_taxa_by_rank_level(taxa_df, min_rank=\"species\"):\n",
    "    \"\"\"\n",
    "    Filter a taxonomy dataframe by minimum taxonomic rank.\n",
    "    Only keep taxa that are at `min_rank` level or more specific (e.g. strain).\n",
    "    \n",
    "    Args:\n",
    "        taxa_df (pd.DataFrame): Input dataframe with a 'Taxon Rank' column.\n",
    "        min_rank (str): Minimum rank to retain (e.g., \"family\", \"species\", \"strain\").\n",
    "\n",
    "    Returns:\n",
    "        pd.DataFrame: Filtered dataframe with allowed taxon ranks.\n",
    "    \"\"\"\n",
    "    # Define ordered taxonomic ranks from general to specific\n",
    "    rank_order = [\n",
    "        \"superkingdom\", \"kingdom\", \"phylum\", \"class\", \"order\", \"family\",\n",
    "        \"genus\", \"species\", \"subspecies\", \"forma\", \"varietas\", \"strain\"\n",
    "    ]\n",
    "\n",
    "    # Normalize and validate\n",
    "    min_rank = min_rank.lower()\n",
    "    if min_rank not in rank_order:\n",
    "        raise ValueError(f\"Invalid min_rank: {min_rank}. Must be one of: {rank_order}\")\n",
    "\n",
    "    # Determine allowed ranks from min_rank onward\n",
    "    min_index = rank_order.index(min_rank)\n",
    "    allowed_ranks = rank_order[min_index:]\n",
    "\n",
    "    # Filter the dataframe\n",
    "    filtered = taxa_df[\n",
    "        taxa_df[\"Taxon Rank\"].str.lower().isin(allowed_ranks)\n",
    "    ].drop_duplicates(subset=[\"Taxon ID\", \"Taxon Name\"])\n",
    "\n",
    "    print(f\"🔎 Filtered {len(filtered)} taxa with rank ≥ '{min_rank}' ({len(allowed_ranks)} levels considered)\")\n",
    "    return filtered"
   ]
  },
  {
   "cell_type": "code",
   "execution_count": 14,
   "id": "e6fe8095",
   "metadata": {},
   "outputs": [
    {
     "name": "stdout",
     "output_type": "stream",
     "text": [
      "🔎 Filtered 736 taxa with rank ≥ 'strain' (1 levels considered)\n"
     ]
    },
    {
     "data": {
      "text/plain": [
       "(736, 4)"
      ]
     },
     "metadata": {},
     "output_type": "display_data"
    },
    {
     "data": {
      "text/html": [
       "<div>\n",
       "<style scoped>\n",
       "    .dataframe tbody tr th:only-of-type {\n",
       "        vertical-align: middle;\n",
       "    }\n",
       "\n",
       "    .dataframe tbody tr th {\n",
       "        vertical-align: top;\n",
       "    }\n",
       "\n",
       "    .dataframe thead th {\n",
       "        text-align: right;\n",
       "    }\n",
       "</style>\n",
       "<table border=\"1\" class=\"dataframe\">\n",
       "  <thead>\n",
       "    <tr style=\"text-align: right;\">\n",
       "      <th></th>\n",
       "      <th>Taxon ID</th>\n",
       "      <th>Taxon Name</th>\n",
       "      <th>Taxon Rank</th>\n",
       "      <th>Num Peptides</th>\n",
       "    </tr>\n",
       "  </thead>\n",
       "  <tbody>\n",
       "    <tr>\n",
       "      <th>165</th>\n",
       "      <td>394</td>\n",
       "      <td>Sinorhizobium fredii NGR234</td>\n",
       "      <td>strain</td>\n",
       "      <td>359</td>\n",
       "    </tr>\n",
       "    <tr>\n",
       "      <th>2141</th>\n",
       "      <td>5851</td>\n",
       "      <td>Plasmodium knowlesi strain H</td>\n",
       "      <td>strain</td>\n",
       "      <td>396</td>\n",
       "    </tr>\n",
       "    <tr>\n",
       "      <th>12788</th>\n",
       "      <td>76114</td>\n",
       "      <td>Aromatoleum aromaticum EbN1</td>\n",
       "      <td>strain</td>\n",
       "      <td>317</td>\n",
       "    </tr>\n",
       "    <tr>\n",
       "      <th>15851</th>\n",
       "      <td>100226</td>\n",
       "      <td>Streptomyces coelicolor A3(2)</td>\n",
       "      <td>strain</td>\n",
       "      <td>341</td>\n",
       "    </tr>\n",
       "    <tr>\n",
       "      <th>16010</th>\n",
       "      <td>101510</td>\n",
       "      <td>Rhodococcus jostii RHA1</td>\n",
       "      <td>strain</td>\n",
       "      <td>384</td>\n",
       "    </tr>\n",
       "  </tbody>\n",
       "</table>\n",
       "</div>"
      ],
      "text/plain": [
       "       Taxon ID                     Taxon Name Taxon Rank  Num Peptides\n",
       "165         394    Sinorhizobium fredii NGR234     strain           359\n",
       "2141       5851   Plasmodium knowlesi strain H     strain           396\n",
       "12788     76114    Aromatoleum aromaticum EbN1     strain           317\n",
       "15851    100226  Streptomyces coelicolor A3(2)     strain           341\n",
       "16010    101510        Rhodococcus jostii RHA1     strain           384"
      ]
     },
     "metadata": {},
     "output_type": "display_data"
    }
   ],
   "source": [
    "filtered_taxa_by_rank = filter_taxa_by_rank_level(filtered_taxa_df, min_rank=\"strain\")\n",
    "display(filtered_taxa_by_rank.shape)\n",
    "display(filtered_taxa_by_rank.head())"
   ]
  },
  {
   "cell_type": "code",
   "execution_count": 11,
   "id": "14ccf643",
   "metadata": {},
   "outputs": [
    {
     "name": "stdout",
     "output_type": "stream",
     "text": [
      "Requirement already satisfied: tqdm in c:\\users\\yusuf\\appdata\\local\\packages\\pythonsoftwarefoundation.python.3.9_qbz5n2kfra8p0\\localcache\\local-packages\\python39\\site-packages (4.67.1)\n",
      "Requirement already satisfied: colorama in c:\\users\\yusuf\\appdata\\local\\packages\\pythonsoftwarefoundation.python.3.9_qbz5n2kfra8p0\\localcache\\local-packages\\python39\\site-packages (from tqdm) (0.4.6)\n"
     ]
    },
    {
     "name": "stderr",
     "output_type": "stream",
     "text": [
      "WARNING: You are using pip version 22.0.4; however, version 25.1.1 is available.\n",
      "You should consider upgrading via the 'C:\\Users\\Yusuf\\AppData\\Local\\Microsoft\\WindowsApps\\PythonSoftwareFoundation.Python.3.9_qbz5n2kfra8p0\\python.exe -m pip install --upgrade pip' command.\n"
     ]
    }
   ],
   "source": [
    "# Install the tqdm library if not installed already\n",
    "!pip3 install tqdm"
   ]
  },
  {
   "cell_type": "code",
   "execution_count": 15,
   "id": "44031b75",
   "metadata": {},
   "outputs": [],
   "source": [
    "import requests\n",
    "from tqdm import tqdm\n",
    "\n",
    "def search_best_proteomes(taxa_df, name_col=\"Taxon Name\", id_col=\"Taxon ID\"):\n",
    "    \"\"\"Search UniProt proteomes using strain names with fallback to taxon ID.\n",
    "       Returns a list of (taxon_id, taxon_name, proteome_id, is_reference).\n",
    "    \"\"\"\n",
    "    found = []\n",
    "    not_found = []\n",
    "\n",
    "    for _, row in tqdm(taxa_df.iterrows(), total=len(taxa_df)):\n",
    "        taxon_id = row[id_col]\n",
    "        taxon_name = row[name_col]\n",
    "\n",
    "        url = \"https://rest.uniprot.org/proteomes/search\"\n",
    "        used_query = \"name\"\n",
    "\n",
    "        # Step 1: Try by strain name\n",
    "        params = {\"query\": taxon_name, \"format\": \"json\", \"size\": 100}\n",
    "        try:\n",
    "            r = requests.get(url, params=params)\n",
    "            r.raise_for_status()\n",
    "            results = r.json().get(\"results\", [])\n",
    "        except:\n",
    "            results = []\n",
    "\n",
    "        # Step 2: Fallback to taxon ID\n",
    "        if not results:\n",
    "            params = {\"query\": f\"taxonomy_id:{taxon_id}\", \"format\": \"json\", \"size\": 100}\n",
    "            try:\n",
    "                r = requests.get(url, params=params)\n",
    "                r.raise_for_status()\n",
    "                results = r.json().get(\"results\", [])\n",
    "                used_query = \"taxid\"\n",
    "            except:\n",
    "                results = []\n",
    "\n",
    "        # Step 3: Handle failure\n",
    "        if not results:\n",
    "            not_found.append((taxon_id, taxon_name))\n",
    "            print(f\"❌ No proteome found for: {taxon_name} (Taxon ID: {taxon_id})\")\n",
    "            continue\n",
    "\n",
    "        # Step 4: Pick best proteome (Reference > BUSCO completeness)\n",
    "        reference = [r for r in results if r.get(\"proteomeType\") == \"Reference\"]\n",
    "        selected = reference[0] if reference else max(\n",
    "            results, key=lambda r: r.get(\"busco\", {}).get(\"complete\", 0)\n",
    "        )\n",
    "\n",
    "        # ✅ FIXED: Use 'id' for proteome ID\n",
    "        proteome_id = selected.get(\"id\", None)\n",
    "        is_ref = selected.get(\"proteomeType\") == \"Reference\"\n",
    "\n",
    "        print(f\"✅ {taxon_name} → Proteome ID: {proteome_id} (Reference: {is_ref}, via: {used_query})\")\n",
    "\n",
    "        found.append((taxon_id, taxon_name, proteome_id, is_ref))\n",
    "\n",
    "    # Summary\n",
    "    print(f\"\\n🎯 Proteomes found for {len(found)} out of {len(taxa_df)} strains.\")\n",
    "    if not_found:\n",
    "        print(f\"\\n⚠️ No proteomes found for {len(not_found)} strains:\")\n",
    "        for tid, name in not_found:\n",
    "            print(f\" - {name} (Taxon ID: {tid})\")\n",
    "\n",
    "    return found\n",
    "\n"
   ]
  },
  {
   "cell_type": "code",
   "execution_count": 16,
   "id": "6ba0e09f",
   "metadata": {},
   "outputs": [],
   "source": [
    "def save_proteome_matches_to_csv(proteome_list, output_path):\n",
    "    \"\"\"Save list of found proteomes to a CSV file.\"\"\"\n",
    "    df = pd.DataFrame(proteome_list, columns=[\n",
    "        \"Taxon ID\", \"Taxon Name\", \"Proteome ID (UPID)\", \"Is Reference Proteome\"\n",
    "    ])\n",
    "    df.to_csv(output_path, index=False)\n",
    "    print(f\"📄 Summary saved to: {output_path}\")"
   ]
  },
  {
   "cell_type": "code",
   "execution_count": 17,
   "id": "03b1c9f3",
   "metadata": {},
   "outputs": [
    {
     "name": "stderr",
     "output_type": "stream",
     "text": [
      "  0%|          | 2/736 [00:00<01:23,  8.76it/s]"
     ]
    },
    {
     "name": "stdout",
     "output_type": "stream",
     "text": [
      "✅ Sinorhizobium fredii NGR234 → Proteome ID: UP000001054 (Reference: False, via: name)\n",
      "✅ Plasmodium knowlesi strain H → Proteome ID: UP000031513 (Reference: False, via: name)\n",
      "✅ Aromatoleum aromaticum EbN1 → Proteome ID: UP000006552 (Reference: False, via: name)\n"
     ]
    },
    {
     "name": "stderr",
     "output_type": "stream",
     "text": [
      "  1%|          | 4/736 [00:00<01:10, 10.32it/s]"
     ]
    },
    {
     "name": "stdout",
     "output_type": "stream",
     "text": [
      "✅ Streptomyces coelicolor A3(2) → Proteome ID: UP000001973 (Reference: False, via: name)\n",
      "✅ Rhodococcus jostii RHA1 → Proteome ID: UP000008710 (Reference: False, via: name)\n"
     ]
    },
    {
     "name": "stderr",
     "output_type": "stream",
     "text": [
      "  1%|          | 6/736 [00:00<01:24,  8.62it/s]"
     ]
    },
    {
     "name": "stdout",
     "output_type": "stream",
     "text": [
      "✅ Plasmodium vivax Sal-1 → Proteome ID: UP000008333 (Reference: False, via: taxid)\n",
      "✅ Scytonema hofmannii PCC 7110 → Proteome ID: UP000076925 (Reference: False, via: name)\n"
     ]
    },
    {
     "name": "stderr",
     "output_type": "stream",
     "text": [
      "  1%|          | 8/736 [00:00<01:32,  7.89it/s]"
     ]
    },
    {
     "name": "stdout",
     "output_type": "stream",
     "text": [
      "❌ No proteome found for: Dechloromonas aromatica RCB (Taxon ID: 159087)\n",
      "✅ Giardia lamblia ATCC 50803 → Proteome ID: UP000001548 (Reference: False, via: name)\n"
     ]
    },
    {
     "name": "stderr",
     "output_type": "stream",
     "text": [
      "  2%|▏         | 12/736 [00:01<01:26,  8.35it/s]"
     ]
    },
    {
     "name": "stdout",
     "output_type": "stream",
     "text": [
      "✅ Trypanosoma brucei brucei TREU927 → Proteome ID: UP000008524 (Reference: False, via: taxid)\n",
      "✅ Pseudomonas aeruginosa UCBPP-PA14 → Proteome ID: UP000000653 (Reference: False, via: name)\n",
      "✅ Pseudomonas aeruginosa PAO1 → Proteome ID: UP000002438 (Reference: False, via: name)\n"
     ]
    },
    {
     "name": "stderr",
     "output_type": "stream",
     "text": [
      "  2%|▏         | 14/736 [00:01<01:20,  8.96it/s]"
     ]
    },
    {
     "name": "stdout",
     "output_type": "stream",
     "text": [
      "✅ Cryptococcus neoformans var. neoformans JEC21 → Proteome ID: UP000002149 (Reference: False, via: name)\n",
      "✅ Burkholderia cenocepacia J2315 → Proteome ID: UP000001035 (Reference: False, via: name)\n"
     ]
    },
    {
     "name": "stderr",
     "output_type": "stream",
     "text": [
      "  2%|▏         | 15/736 [00:01<01:31,  7.87it/s]"
     ]
    },
    {
     "name": "stdout",
     "output_type": "stream",
     "text": [
      "✅ Pseudomonas [fluorescens] SBW25 → Proteome ID: UP000002332 (Reference: False, via: taxid)\n",
      "✅ Rhizobium johnstonii 3841 → Proteome ID: UP000006575 (Reference: False, via: name)\n"
     ]
    },
    {
     "name": "stderr",
     "output_type": "stream",
     "text": [
      "  2%|▏         | 18/736 [00:02<01:41,  7.07it/s]"
     ]
    },
    {
     "name": "stdout",
     "output_type": "stream",
     "text": [
      "✅ Salmonella enterica subsp. enterica serovar Typhimurium str. SL1344 → Proteome ID: UP000008962 (Reference: False, via: taxid)\n",
      "❌ No proteome found for: Salmonella enterica subsp. enterica serovar Typhi str. CT18 (Taxon ID: 220341)\n"
     ]
    },
    {
     "name": "stderr",
     "output_type": "stream",
     "text": [
      "  3%|▎         | 20/736 [00:02<01:43,  6.93it/s]"
     ]
    },
    {
     "name": "stdout",
     "output_type": "stream",
     "text": [
      "✅ Pseudomonas protegens Pf-5 → Proteome ID: UP000008540 (Reference: False, via: name)\n",
      "✅ Coccidioides posadasii C735 delta SOWgp → Proteome ID: UP000009084 (Reference: False, via: taxid)\n"
     ]
    },
    {
     "name": "stderr",
     "output_type": "stream",
     "text": [
      "  3%|▎         | 22/736 [00:02<01:31,  7.83it/s]"
     ]
    },
    {
     "name": "stdout",
     "output_type": "stream",
     "text": [
      "✅ Salmonella enterica subsp. enterica serovar Java → Proteome ID: UP000305891 (Reference: False, via: name)\n",
      "✅ Bradyrhizobium diazoefficiens USDA 110 → Proteome ID: UP000002526 (Reference: False, via: name)\n"
     ]
    },
    {
     "name": "stderr",
     "output_type": "stream",
     "text": [
      "  3%|▎         | 24/736 [00:03<01:34,  7.57it/s]"
     ]
    },
    {
     "name": "stdout",
     "output_type": "stream",
     "text": [
      "✅ Saccharomyces kudriavzevii IFO 1802 → Proteome ID: UP000002753 (Reference: False, via: taxid)\n",
      "✅ Aspergillus nidulans FGSC A4 → Proteome ID: UP000000560 (Reference: False, via: name)\n",
      "✅ Streptomyces avermitilis MA-4680 = NBRC 14893 → Proteome ID: UP000000428 (Reference: False, via: name)\n"
     ]
    },
    {
     "name": "stderr",
     "output_type": "stream",
     "text": [
      "  4%|▍         | 28/736 [00:03<01:14,  9.49it/s]"
     ]
    },
    {
     "name": "stdout",
     "output_type": "stream",
     "text": [
      "✅ Fusarium graminearum PH-1 → Proteome ID: UP000070720 (Reference: False, via: name)\n",
      "✅ Dulcicalothrix desertica PCC 7102 → Proteome ID: UP000271624 (Reference: False, via: name)\n",
      "✅ Rhodococcus erythropolis PR4 → Proteome ID: UP000002204 (Reference: False, via: name)\n"
     ]
    },
    {
     "name": "stderr",
     "output_type": "stream",
     "text": [
      "  4%|▍         | 30/736 [00:03<01:23,  8.48it/s]"
     ]
    },
    {
     "name": "stdout",
     "output_type": "stream",
     "text": [
      "✅ Cryptococcus neoformans var. grubii H99 → Proteome ID: UP000010091 (Reference: False, via: name)\n",
      "✅ Coprinopsis cinerea okayama7#130 → Proteome ID: UP000001861 (Reference: False, via: taxid)\n"
     ]
    },
    {
     "name": "stderr",
     "output_type": "stream",
     "text": [
      "  4%|▍         | 32/736 [00:03<01:17,  9.08it/s]"
     ]
    },
    {
     "name": "stdout",
     "output_type": "stream",
     "text": [
      "✅ Pyricularia oryzae 70-15 → Proteome ID: UP000009058 (Reference: False, via: name)\n",
      "✅ Burkholderia mallei ATCC 23344 → Proteome ID: UP000006693 (Reference: False, via: name)\n",
      "✅ Mycolicibacterium smegmatis MC2 155 → Proteome ID: UP000006158 (Reference: False, via: name)\n"
     ]
    },
    {
     "name": "stderr",
     "output_type": "stream",
     "text": [
      "  5%|▍         | 36/736 [00:04<01:10,  9.88it/s]"
     ]
    },
    {
     "name": "stdout",
     "output_type": "stream",
     "text": [
      "✅ Myxococcus xanthus DK 1622 → Proteome ID: UP000002402 (Reference: False, via: name)\n",
      "✅ Rhizopus delemar RA 99-880 → Proteome ID: UP000009138 (Reference: False, via: name)\n",
      "✅ Coccidioides immitis RS → Proteome ID: UP000001261 (Reference: False, via: name)\n"
     ]
    },
    {
     "name": "stderr",
     "output_type": "stream",
     "text": [
      "  5%|▌         | 38/736 [00:04<01:10,  9.92it/s]"
     ]
    },
    {
     "name": "stdout",
     "output_type": "stream",
     "text": [
      "✅ Bordetella bronchiseptica RB50 → Proteome ID: UP000001027 (Reference: False, via: name)\n",
      "✅ Rhodopseudomonas palustris CGA009 → Proteome ID: UP000001426 (Reference: False, via: name)\n"
     ]
    },
    {
     "name": "stderr",
     "output_type": "stream",
     "text": [
      "  5%|▌         | 40/736 [00:04<01:16,  9.12it/s]"
     ]
    },
    {
     "name": "stdout",
     "output_type": "stream",
     "text": [
      "❌ No proteome found for: Cupriavidus pinatubonensis JMP134 (Taxon ID: 264198)\n",
      "✅ Cupriavidus metallidurans CH34 → Proteome ID: UP000002429 (Reference: False, via: name)\n",
      "✅ Paraburkholderia xenovorans LB400 → Proteome ID: UP000001817 (Reference: False, via: name)\n"
     ]
    },
    {
     "name": "stderr",
     "output_type": "stream",
     "text": [
      "  6%|▌         | 43/736 [00:05<01:13,  9.47it/s]"
     ]
    },
    {
     "name": "stdout",
     "output_type": "stream",
     "text": [
      "✅ Sinorhizobium meliloti 1021 → Proteome ID: UP000001976 (Reference: False, via: name)\n",
      "✅ Mesorhizobium japonicum MAFF 303099 → Proteome ID: UP000000552 (Reference: False, via: name)\n"
     ]
    },
    {
     "name": "stderr",
     "output_type": "stream",
     "text": [
      "  6%|▋         | 46/736 [00:05<01:11,  9.62it/s]"
     ]
    },
    {
     "name": "stdout",
     "output_type": "stream",
     "text": [
      "✅ Ralstonia pseudosolanacearum GMI1000 → Proteome ID: UP000001436 (Reference: False, via: name)\n",
      "✅ Burkholderia vietnamiensis G4 → Proteome ID: UP000002287 (Reference: False, via: name)\n",
      "✅ Burkholderia thailandensis E264 → Proteome ID: UP000001930 (Reference: False, via: name)\n"
     ]
    },
    {
     "name": "stderr",
     "output_type": "stream",
     "text": [
      "  7%|▋         | 48/736 [00:05<01:10,  9.77it/s]"
     ]
    },
    {
     "name": "stdout",
     "output_type": "stream",
     "text": [
      "✅ Burkholderia pseudomallei K96243 → Proteome ID: UP000000605 (Reference: False, via: name)\n",
      "✅ Methylorubrum extorquens AM1 → Proteome ID: UP000009081 (Reference: False, via: name)\n",
      "✅ Streptomyces ambofaciens ATCC 23877 → Proteome ID: UP000061018 (Reference: False, via: name)\n"
     ]
    },
    {
     "name": "stderr",
     "output_type": "stream",
     "text": [
      "  7%|▋         | 51/736 [00:05<01:10,  9.66it/s]"
     ]
    },
    {
     "name": "stdout",
     "output_type": "stream",
     "text": [
      "✅ Emiliania huxleyi CCMP1516 → Proteome ID: UP000013827 (Reference: False, via: name)\n",
      "✅ Cyanidioschyzon merolae strain 10D → Proteome ID: UP000007014 (Reference: False, via: name)\n"
     ]
    },
    {
     "name": "stderr",
     "output_type": "stream",
     "text": [
      "  7%|▋         | 54/736 [00:06<01:14,  9.10it/s]"
     ]
    },
    {
     "name": "stdout",
     "output_type": "stream",
     "text": [
      "✅ Yarrowia lipolytica CLIB122 → Proteome ID: UP000001300 (Reference: False, via: taxid)\n",
      "✅ Anaeromyxobacter dehalogenans 2CP-C → Proteome ID: UP000001935 (Reference: False, via: name)\n",
      "✅ Chaetomium globosum CBS 148.51 → Proteome ID: UP000001056 (Reference: False, via: name)\n"
     ]
    },
    {
     "name": "stderr",
     "output_type": "stream",
     "text": [
      "  8%|▊         | 56/736 [00:06<01:11,  9.56it/s]"
     ]
    },
    {
     "name": "stdout",
     "output_type": "stream",
     "text": [
      "✅ Rhizobium rhizogenes K84 → Proteome ID: UP000001600 (Reference: False, via: name)\n",
      "✅ Tetrahymena thermophila SB210 → Proteome ID: UP000009168 (Reference: False, via: name)\n"
     ]
    },
    {
     "name": "stderr",
     "output_type": "stream",
     "text": [
      "  8%|▊         | 57/736 [00:06<01:11,  9.56it/s]"
     ]
    },
    {
     "name": "stdout",
     "output_type": "stream",
     "text": [
      "✅ Microscilla marina ATCC 23134 → Proteome ID: UP000004095 (Reference: False, via: name)\n",
      "✅ Rhodopseudomonas palustris HaA2 → Proteome ID: UP000008809 (Reference: False, via: name)\n"
     ]
    },
    {
     "name": "stderr",
     "output_type": "stream",
     "text": [
      "  8%|▊         | 61/736 [00:06<01:07,  9.98it/s]"
     ]
    },
    {
     "name": "stdout",
     "output_type": "stream",
     "text": [
      "✅ Burkholderia pseudomallei 1710a → Proteome ID: UP000001812 (Reference: False, via: name)\n",
      "✅ Burkholderia pseudomallei 1710b → Proteome ID: UP000002700 (Reference: False, via: name)\n",
      "✅ Pedosphaera parvula Ellin514 → Proteome ID: UP000003688 (Reference: False, via: name)\n"
     ]
    },
    {
     "name": "stderr",
     "output_type": "stream",
     "text": [
      "  9%|▊         | 63/736 [00:07<01:06, 10.09it/s]"
     ]
    },
    {
     "name": "stdout",
     "output_type": "stream",
     "text": [
      "✅ Parastagonospora nodorum SN15 → Proteome ID: UP000663193 (Reference: False, via: name)\n",
      "✅ Frankia alni ACN14a → Proteome ID: UP000000657 (Reference: False, via: name)\n",
      "✅ Aspergillus fumigatus Af293 → Proteome ID: UP000002530 (Reference: False, via: name)\n"
     ]
    },
    {
     "name": "stderr",
     "output_type": "stream",
     "text": [
      "  9%|▉         | 65/736 [00:07<01:07, 10.01it/s]"
     ]
    },
    {
     "name": "stdout",
     "output_type": "stream",
     "text": [
      "✅ Aspergillus fischeri NRRL 181 → Proteome ID: UP000006702 (Reference: False, via: name)\n"
     ]
    },
    {
     "name": "stderr",
     "output_type": "stream",
     "text": [
      "  9%|▉         | 66/736 [00:08<03:23,  3.29it/s]"
     ]
    },
    {
     "name": "stdout",
     "output_type": "stream",
     "text": [
      "❌ No proteome found for: Burkholderia orbicola AU 1054 (Taxon ID: 331271)\n",
      "✅ Botrytis cinerea B05.10 → Proteome ID: UP000001798 (Reference: False, via: name)\n"
     ]
    },
    {
     "name": "stderr",
     "output_type": "stream",
     "text": [
      " 10%|▉         | 70/736 [00:08<02:10,  5.11it/s]"
     ]
    },
    {
     "name": "stdout",
     "output_type": "stream",
     "text": [
      "✅ Aspergillus flavus NRRL3357 → Proteome ID: UP000596276 (Reference: False, via: taxid)\n",
      "✅ Fusarium verticillioides 7600 → Proteome ID: UP000009096 (Reference: False, via: name)\n",
      "✅ Zymoseptoria tritici IPO323 → Proteome ID: UP000008062 (Reference: False, via: name)\n"
     ]
    },
    {
     "name": "stderr",
     "output_type": "stream",
     "text": [
      " 10%|▉         | 73/736 [00:09<01:39,  6.69it/s]"
     ]
    },
    {
     "name": "stdout",
     "output_type": "stream",
     "text": [
      "✅ Uncinocarpus reesii 1704 → Proteome ID: UP000002058 (Reference: False, via: name)\n",
      "✅ Rhodoferax ferrireducens T118 → Proteome ID: UP000008332 (Reference: False, via: name)\n",
      "✅ Burkholderia ambifaria AMMD → Proteome ID: UP000000662 (Reference: False, via: name)\n"
     ]
    },
    {
     "name": "stderr",
     "output_type": "stream",
     "text": [
      " 10%|█         | 75/736 [00:09<01:35,  6.91it/s]"
     ]
    },
    {
     "name": "stdout",
     "output_type": "stream",
     "text": [
      "✅ Bordetella petrii DSM 12804 → Proteome ID: UP000001225 (Reference: False, via: name)\n",
      "✅ Aspergillus terreus NIH2624 → Proteome ID: UP000007963 (Reference: False, via: taxid)\n"
     ]
    },
    {
     "name": "stderr",
     "output_type": "stream",
     "text": [
      " 10%|█         | 77/736 [00:09<01:25,  7.75it/s]"
     ]
    },
    {
     "name": "stdout",
     "output_type": "stream",
     "text": [
      "✅ Aspergillus clavatus NRRL 1 → Proteome ID: UP000006701 (Reference: False, via: name)\n",
      "✅ Rhizobium etli CFN 42 → Proteome ID: UP000001936 (Reference: False, via: name)\n",
      "✅ Hahella chejuensis KCTC 2396 → Proteome ID: UP000000238 (Reference: False, via: name)\n"
     ]
    },
    {
     "name": "stderr",
     "output_type": "stream",
     "text": [
      " 11%|█         | 81/736 [00:10<01:11,  9.10it/s]"
     ]
    },
    {
     "name": "stdout",
     "output_type": "stream",
     "text": [
      "✅ Trypanosoma cruzi strain CL Brener → Proteome ID: UP000002296 (Reference: False, via: name)\n",
      "✅ Burkholderia pseudomallei 1106a → Proteome ID: UP000006738 (Reference: False, via: name)\n",
      "✅ Polaromonas naphthalenivorans CJ2 → Proteome ID: UP000000644 (Reference: False, via: name)\n"
     ]
    },
    {
     "name": "stderr",
     "output_type": "stream",
     "text": [
      " 11%|█▏        | 83/736 [00:10<01:18,  8.32it/s]"
     ]
    },
    {
     "name": "stdout",
     "output_type": "stream",
     "text": [
      "✅ Sinorhizobium medicae WSM419 → Proteome ID: UP000001108 (Reference: False, via: name)\n",
      "✅ Neurospora crassa OR74A → Proteome ID: UP000001805 (Reference: False, via: taxid)\n"
     ]
    },
    {
     "name": "stderr",
     "output_type": "stream",
     "text": [
      " 12%|█▏        | 86/736 [00:10<01:12,  9.00it/s]"
     ]
    },
    {
     "name": "stdout",
     "output_type": "stream",
     "text": [
      "✅ Cryptococcus gattii WM276 → Proteome ID: UP000007805 (Reference: False, via: name)\n",
      "✅ Entamoeba invadens IP1 → Proteome ID: UP000014680 (Reference: False, via: name)\n",
      "✅ Stigmatella aurantiaca DW4/3-1 → Proteome ID: UP000001351 (Reference: False, via: name)\n"
     ]
    },
    {
     "name": "stderr",
     "output_type": "stream",
     "text": [
      " 12%|█▏        | 89/736 [00:10<01:06,  9.76it/s]"
     ]
    },
    {
     "name": "stdout",
     "output_type": "stream",
     "text": [
      "✅ Aspergillus niger ATCC 1015 → Proteome ID: UP000009038 (Reference: False, via: name)\n",
      "✅ Cupriavidus necator H16 → Proteome ID: UP000008210 (Reference: False, via: name)\n",
      "✅ Pseudomonas paraeruginosa PA7 → Proteome ID: UP000001582 (Reference: False, via: name)\n"
     ]
    },
    {
     "name": "stderr",
     "output_type": "stream",
     "text": [
      " 12%|█▏        | 91/736 [00:11<01:04, 10.01it/s]"
     ]
    },
    {
     "name": "stdout",
     "output_type": "stream",
     "text": [
      "✅ Pseudocercospora fijiensis CIRAD86 → Proteome ID: UP000016932 (Reference: False, via: name)\n",
      "✅ Paraburkholderia phymatum STM815 → Proteome ID: UP000001192 (Reference: False, via: name)\n",
      "✅ Plesiocystis pacifica SIR-1 → Proteome ID: UP000005801 (Reference: False, via: name)\n"
     ]
    },
    {
     "name": "stderr",
     "output_type": "stream",
     "text": [
      " 13%|█▎        | 95/736 [00:11<01:00, 10.64it/s]"
     ]
    },
    {
     "name": "stdout",
     "output_type": "stream",
     "text": [
      "✅ Verminephrobacter eiseniae EF01-2 → Proteome ID: UP000000374 (Reference: False, via: name)\n",
      "✅ Ascosphaera apis ARSEF 7405 → Proteome ID: UP000242877 (Reference: False, via: name)\n",
      "✅ Burkholderia multivorans ATCC 17616 → Proteome ID: UP000008815 (Reference: False, via: name)\n"
     ]
    },
    {
     "name": "stderr",
     "output_type": "stream",
     "text": [
      " 13%|█▎        | 97/736 [00:11<00:59, 10.78it/s]"
     ]
    },
    {
     "name": "stdout",
     "output_type": "stream",
     "text": [
      "✅ Rhizobium leguminosarum bv. trifolii WSM1325 → Proteome ID: UP000002256 (Reference: False, via: name)\n",
      "✅ Leptothrix cholodnii SP-6 → Proteome ID: UP000001693 (Reference: False, via: name)\n",
      "✅ Burkholderia ambifaria IOP40-10 → Proteome ID: UP000005463 (Reference: False, via: name)\n"
     ]
    },
    {
     "name": "stderr",
     "output_type": "stream",
     "text": [
      " 13%|█▎        | 99/736 [00:11<00:59, 10.62it/s]"
     ]
    },
    {
     "name": "stdout",
     "output_type": "stream",
     "text": [
      "✅ Burkholderia ambifaria MEX-5 → Proteome ID: UP000004814 (Reference: False, via: name)\n",
      "✅ Paraburkholderia graminis C4D1M → Proteome ID: UP000005045 (Reference: False, via: name)\n",
      "✅ Coccidioides immitis H538.4 → Proteome ID: UP000054563 (Reference: False, via: name)\n"
     ]
    },
    {
     "name": "stderr",
     "output_type": "stream",
     "text": [
      " 14%|█▍        | 103/736 [00:12<00:59, 10.72it/s]"
     ]
    },
    {
     "name": "stdout",
     "output_type": "stream",
     "text": [
      "✅ Paracidovorax citrulli AAC00-1 → Proteome ID: UP000002596 (Reference: False, via: name)\n",
      "✅ Paraburkholderia phytofirmans PsJN → Proteome ID: UP000001739 (Reference: False, via: name)\n",
      "✅ Burkholderia ambifaria MC40-6 → Proteome ID: UP000001680 (Reference: False, via: name)\n"
     ]
    },
    {
     "name": "stderr",
     "output_type": "stream",
     "text": [
      " 14%|█▍        | 105/736 [00:12<00:57, 10.93it/s]"
     ]
    },
    {
     "name": "stdout",
     "output_type": "stream",
     "text": [
      "✅ Delftia acidovorans SPH-1 → Proteome ID: UP000000784 (Reference: False, via: name)\n",
      "✅ Comamonas testosteroni KF-1 → Proteome ID: UP000003039 (Reference: False, via: name)\n"
     ]
    },
    {
     "name": "stderr",
     "output_type": "stream",
     "text": [
      " 15%|█▍        | 109/736 [00:12<01:03,  9.88it/s]"
     ]
    },
    {
     "name": "stdout",
     "output_type": "stream",
     "text": [
      "❌ No proteome found for: Ralstonia pickettii 12J (Taxon ID: 402626)\n",
      "✅ Batrachochytrium dendrobatidis JEL423 → Proteome ID: UP000077115 (Reference: False, via: name)\n",
      "✅ Phytophthora infestans T30-4 → Proteome ID: UP000006643 (Reference: False, via: name)\n"
     ]
    },
    {
     "name": "stderr",
     "output_type": "stream",
     "text": [
      " 15%|█▌        | 111/736 [00:13<01:01, 10.18it/s]"
     ]
    },
    {
     "name": "stdout",
     "output_type": "stream",
     "text": [
      "✅ Coccidioides immitis RMSCC 2394 → Proteome ID: UP000054565 (Reference: False, via: name)\n",
      "✅ Saccharopolyspora erythraea NRRL 2338 → Proteome ID: UP000006728 (Reference: False, via: name)\n"
     ]
    },
    {
     "name": "stderr",
     "output_type": "stream",
     "text": [
      " 15%|█▌        | 113/736 [00:13<01:03,  9.80it/s]"
     ]
    },
    {
     "name": "stdout",
     "output_type": "stream",
     "text": [
      "✅ Burkholderia orbicola MC0-3 → Proteome ID: UP000002169 (Reference: False, via: name)\n",
      "✅ Burkholderia mallei NCTC 10229 → Proteome ID: UP000002283 (Reference: False, via: name)\n",
      "✅ Trichoderma virens Gv29-8 → Proteome ID: UP000007115 (Reference: False, via: name)\n"
     ]
    },
    {
     "name": "stderr",
     "output_type": "stream",
     "text": [
      " 16%|█▌        | 117/736 [00:13<01:00, 10.29it/s]"
     ]
    },
    {
     "name": "stdout",
     "output_type": "stream",
     "text": [
      "✅ Puccinia graminis f. sp. tritici CRL 75-36-700-3 → Proteome ID: UP000008783 (Reference: False, via: name)\n",
      "✅ Leishmania braziliensis MHOM/BR/75/M2904 → Proteome ID: UP000319462 (Reference: False, via: name)\n",
      "✅ Methylibium petroleiphilum PM1 → Proteome ID: UP000000366 (Reference: False, via: name)\n"
     ]
    },
    {
     "name": "stderr",
     "output_type": "stream",
     "text": [
      " 16%|█▌        | 119/736 [00:13<00:58, 10.49it/s]"
     ]
    },
    {
     "name": "stdout",
     "output_type": "stream",
     "text": [
      "✅ Perkinsus marinus ATCC 50983 → Proteome ID: UP000007800 (Reference: False, via: name)\n",
      "✅ Aspergillus niger CBS 513.88 → Proteome ID: UP000006706 (Reference: False, via: name)\n",
      "✅ Methylobacterium radiotolerans JCM 2831 → Proteome ID: UP000006589 (Reference: False, via: name)\n"
     ]
    },
    {
     "name": "stderr",
     "output_type": "stream",
     "text": [
      " 16%|█▋        | 121/736 [00:14<00:57, 10.73it/s]"
     ]
    },
    {
     "name": "stdout",
     "output_type": "stream",
     "text": [
      "✅ Pyrenophora tritici-repentis Pt-1C-BFP → Proteome ID: UP000001471 (Reference: False, via: name)\n",
      "✅ Fusarium oxysporum f. sp. lycopersici 4287 → Proteome ID: UP000009097 (Reference: False, via: name)\n"
     ]
    },
    {
     "name": "stderr",
     "output_type": "stream",
     "text": [
      " 17%|█▋        | 125/736 [00:14<01:02,  9.71it/s]"
     ]
    },
    {
     "name": "stdout",
     "output_type": "stream",
     "text": [
      "❌ No proteome found for: Ralstonia pickettii 12D (Taxon ID: 428406)\n",
      "✅ Trypanosoma rangeli SC58 → Proteome ID: UP000031737 (Reference: False, via: name)\n",
      "✅ Trichoderma reesei QM6a → Proteome ID: UP000008984 (Reference: False, via: name)\n"
     ]
    },
    {
     "name": "stderr",
     "output_type": "stream",
     "text": [
      " 17%|█▋        | 127/736 [00:14<01:01,  9.87it/s]"
     ]
    },
    {
     "name": "stdout",
     "output_type": "stream",
     "text": [
      "✅ Globisporangium ultimum DAOM BR144 → Proteome ID: UP000019132 (Reference: False, via: name)\n",
      "✅ Toxoplasma gondii VEG → Proteome ID: UP000002226 (Reference: False, via: name)\n",
      "✅ Ostreococcus lucimarinus CCE9901 → Proteome ID: UP000001568 (Reference: False, via: name)\n"
     ]
    },
    {
     "name": "stderr",
     "output_type": "stream",
     "text": [
      " 18%|█▊        | 131/736 [00:15<00:58, 10.42it/s]"
     ]
    },
    {
     "name": "stdout",
     "output_type": "stream",
     "text": [
      "✅ Methylorubrum extorquens CM4 → Proteome ID: UP000002385 (Reference: False, via: name)\n",
      "✅ Methylorubrum populi BJ001 → Proteome ID: UP000007136 (Reference: False, via: name)\n",
      "✅ Talaromyces stipitatus ATCC 10500 → Proteome ID: UP000001745 (Reference: False, via: name)\n"
     ]
    },
    {
     "name": "stderr",
     "output_type": "stream",
     "text": [
      " 18%|█▊        | 133/736 [00:15<01:05,  9.16it/s]"
     ]
    },
    {
     "name": "stdout",
     "output_type": "stream",
     "text": [
      "✅ Talaromyces marneffei ATCC 18224 → Proteome ID: UP000001294 (Reference: False, via: name)\n",
      "✅ Coccidioides posadasii str. Silveira → Proteome ID: UP000002497 (Reference: False, via: taxid)\n"
     ]
    },
    {
     "name": "stderr",
     "output_type": "stream",
     "text": [
      " 18%|█▊        | 135/736 [00:15<01:04,  9.27it/s]"
     ]
    },
    {
     "name": "stdout",
     "output_type": "stream",
     "text": [
      "✅ Actinosynnema mirum DSM 43827 → Proteome ID: UP000002213 (Reference: False, via: name)\n",
      "✅ Stackebrandtia nassauensis DSM 44728 → Proteome ID: UP000000844 (Reference: False, via: name)\n",
      "✅ Histoplasma capsulatum G186AR → Proteome ID: UP000001631 (Reference: False, via: name)\n"
     ]
    },
    {
     "name": "stderr",
     "output_type": "stream",
     "text": [
      " 19%|█▉        | 138/736 [00:15<01:02,  9.54it/s]"
     ]
    },
    {
     "name": "stdout",
     "output_type": "stream",
     "text": [
      "✅ Sorangium cellulosum So ce56 → Proteome ID: UP000002139 (Reference: False, via: name)\n",
      "✅ Aspergillus fumigatus A1163 → Proteome ID: UP000001699 (Reference: False, via: name)\n"
     ]
    },
    {
     "name": "stderr",
     "output_type": "stream",
     "text": [
      " 19%|█▉        | 141/736 [00:16<00:59, 10.08it/s]"
     ]
    },
    {
     "name": "stdout",
     "output_type": "stream",
     "text": [
      "✅ Trichoderma atroviride IMI 206040 → Proteome ID: UP000005426 (Reference: False, via: name)\n",
      "✅ Kitasatospora setae KM-6054 → Proteome ID: UP000007076 (Reference: False, via: name)\n",
      "✅ Coccidioides posadasii RMSCC 3488 → Proteome ID: UP000054567 (Reference: False, via: name)\n"
     ]
    },
    {
     "name": "stderr",
     "output_type": "stream",
     "text": [
      " 19%|█▉        | 143/736 [00:16<00:57, 10.30it/s]"
     ]
    },
    {
     "name": "stdout",
     "output_type": "stream",
     "text": [
      "✅ Coccidioides immitis RMSCC 3703 → Proteome ID: UP000054559 (Reference: False, via: name)\n",
      "✅ Streptomyces griseus subsp. griseus NBRC 13350 → Proteome ID: UP000001685 (Reference: False, via: name)\n",
      "✅ Streptomyces himastatinicus ATCC 53653 → Proteome ID: UP000003963 (Reference: False, via: name)\n"
     ]
    },
    {
     "name": "stderr",
     "output_type": "stream",
     "text": [
      " 20%|█▉        | 147/736 [00:16<00:57, 10.31it/s]"
     ]
    },
    {
     "name": "stdout",
     "output_type": "stream",
     "text": [
      "✅ Streptomyces lividans TK24 → Proteome ID: UP000002769 (Reference: False, via: name)\n",
      "✅ Streptomyces pristinaespiralis ATCC 25486 → Proteome ID: UP000002805 (Reference: False, via: name)\n",
      "✅ Streptomyces filamentosus NRRL 15998 → Proteome ID: UP000003986 (Reference: False, via: name)\n"
     ]
    },
    {
     "name": "stderr",
     "output_type": "stream",
     "text": [
      " 20%|██        | 149/736 [00:16<00:55, 10.50it/s]"
     ]
    },
    {
     "name": "stdout",
     "output_type": "stream",
     "text": [
      "✅ Methylobacterium nodulans ORS 2060 → Proteome ID: UP000008207 (Reference: False, via: name)\n",
      "✅ Thecamonas trahens ATCC 50062 → Proteome ID: UP000054408 (Reference: False, via: name)\n",
      "✅ Streptomyces sviceus ATCC 29083 → Proteome ID: UP000002785 (Reference: False, via: name)\n"
     ]
    },
    {
     "name": "stderr",
     "output_type": "stream",
     "text": [
      " 21%|██        | 153/736 [00:17<00:53, 10.83it/s]"
     ]
    },
    {
     "name": "stdout",
     "output_type": "stream",
     "text": [
      "✅ Streptomyces griseoflavus Tu4000 → Proteome ID: UP000002968 (Reference: False, via: name)\n",
      "✅ Achromobacter arsenitoxydans SY8 → Proteome ID: UP000003113 (Reference: False, via: name)\n",
      "✅ Streptosporangium roseum DSM 43021 → Proteome ID: UP000002029 (Reference: False, via: name)\n"
     ]
    },
    {
     "name": "stderr",
     "output_type": "stream",
     "text": [
      " 21%|██        | 155/736 [00:17<00:56, 10.30it/s]"
     ]
    },
    {
     "name": "stdout",
     "output_type": "stream",
     "text": [
      "✅ Catenulispora acidiphila DSM 44928 → Proteome ID: UP000000851 (Reference: False, via: name)\n",
      "✅ Kribbella flavida DSM 17836 → Proteome ID: UP000007967 (Reference: False, via: name)\n",
      "✅ Myxococcus fulvus HW-1 → Proteome ID: UP000000488 (Reference: False, via: name)\n"
     ]
    },
    {
     "name": "stderr",
     "output_type": "stream",
     "text": [
      " 21%|██▏       | 157/736 [00:17<00:55, 10.35it/s]"
     ]
    },
    {
     "name": "stdout",
     "output_type": "stream",
     "text": [
      "✅ Ktedonobacter racemifer DSM 44963 → Proteome ID: UP000004508 (Reference: False, via: name)\n",
      "✅ Chitinophaga pinensis DSM 2588 → Proteome ID: UP000002215 (Reference: False, via: name)\n",
      "✅ Laccaria bicolor S238N-H82 → Proteome ID: UP000001194 (Reference: False, via: name)\n"
     ]
    },
    {
     "name": "stderr",
     "output_type": "stream",
     "text": [
      " 22%|██▏       | 161/736 [00:18<01:02,  9.23it/s]"
     ]
    },
    {
     "name": "stdout",
     "output_type": "stream",
     "text": [
      "✅ Chthoniobacter flavus Ellin428 → Proteome ID: UP000005824 (Reference: False, via: name)\n",
      "❌ No proteome found for: Salmonella enterica subsp. enterica serovar Typhi str. 404ty (Taxon ID: 497977)\n"
     ]
    },
    {
     "name": "stderr",
     "output_type": "stream",
     "text": [
      " 22%|██▏       | 164/736 [00:18<00:59,  9.60it/s]"
     ]
    },
    {
     "name": "stdout",
     "output_type": "stream",
     "text": [
      "✅ Verticillium dahliae VdLs.17 → Proteome ID: UP000001611 (Reference: False, via: name)\n",
      "✅ Penicillium rubens Wisconsin 54-1255 → Proteome ID: UP000000724 (Reference: False, via: name)\n",
      "✅ Haliangium ochraceum DSM 14365 → Proteome ID: UP000001880 (Reference: False, via: name)\n"
     ]
    },
    {
     "name": "stderr",
     "output_type": "stream",
     "text": [
      " 23%|██▎       | 166/736 [00:18<00:57,  9.87it/s]"
     ]
    },
    {
     "name": "stdout",
     "output_type": "stream",
     "text": [
      "✅ Paracoccidioides lutzii Pb01 → Proteome ID: UP000002059 (Reference: False, via: name)\n",
      "✅ Paracoccidioides brasiliensis Pb18 → Proteome ID: UP000001628 (Reference: False, via: name)\n",
      "✅ Spirosoma linguale DSM 74 → Proteome ID: UP000002028 (Reference: False, via: name)\n"
     ]
    },
    {
     "name": "stderr",
     "output_type": "stream",
     "text": [
      " 23%|██▎       | 168/736 [00:18<00:56, 10.10it/s]"
     ]
    },
    {
     "name": "stdout",
     "output_type": "stream",
     "text": [
      "✅ Toxoplasma gondii GT1 → Proteome ID: UP000005641 (Reference: False, via: name)\n",
      "✅ Toxoplasma gondii ME49 → Proteome ID: UP000001529 (Reference: False, via: name)\n"
     ]
    },
    {
     "name": "stderr",
     "output_type": "stream",
     "text": [
      " 23%|██▎       | 172/736 [00:19<01:01,  9.10it/s]"
     ]
    },
    {
     "name": "stdout",
     "output_type": "stream",
     "text": [
      "✅ Aspergillus oryzae RIB40 → Proteome ID: UP000006564 (Reference: False, via: taxid)\n",
      "✅ Neurospora tetrasperma FGSC 2508 → Proteome ID: UP000008065 (Reference: False, via: name)\n",
      "✅ Actinoplanes missouriensis 431 → Proteome ID: UP000007882 (Reference: False, via: name)\n"
     ]
    },
    {
     "name": "stderr",
     "output_type": "stream",
     "text": [
      " 24%|██▎       | 174/736 [00:19<01:06,  8.51it/s]"
     ]
    },
    {
     "name": "stdout",
     "output_type": "stream",
     "text": [
      "✅ Burkholderia multivorans CGD2 → Proteome ID: UP000004535 (Reference: False, via: name)\n",
      "✅ Podospora anserina S mat+ → Proteome ID: UP000001197 (Reference: False, via: taxid)\n"
     ]
    },
    {
     "name": "stderr",
     "output_type": "stream",
     "text": [
      " 24%|██▍       | 176/736 [00:19<01:09,  8.01it/s]"
     ]
    },
    {
     "name": "stdout",
     "output_type": "stream",
     "text": [
      "✅ Verticillium alfalfae VaMs.102 → Proteome ID: UP000008698 (Reference: False, via: name)\n",
      "✅ Nannizzia gypsea CBS 118893 → Proteome ID: UP000002669 (Reference: False, via: taxid)\n"
     ]
    },
    {
     "name": "stderr",
     "output_type": "stream",
     "text": [
      " 24%|██▍       | 177/736 [00:19<01:07,  8.28it/s]"
     ]
    },
    {
     "name": "stdout",
     "output_type": "stream",
     "text": [
      "✅ Mesorhizobium opportunistum WSM2075 → Proteome ID: UP000001623 (Reference: False, via: name)\n",
      "✅ Rhizobium etli 8C-3 → Proteome ID: UP000185109 (Reference: False, via: name)\n"
     ]
    },
    {
     "name": "stderr",
     "output_type": "stream",
     "text": [
      " 25%|██▍       | 181/736 [00:20<01:05,  8.52it/s]"
     ]
    },
    {
     "name": "stdout",
     "output_type": "stream",
     "text": [
      "❌ No proteome found for: Variovorax paradoxus S110 (Taxon ID: 543728)\n",
      "✅ Histoplasma capsulatum var. duboisii H88 → Proteome ID: UP000008142 (Reference: False, via: name)\n",
      "✅ Histoplasma capsulatum H143 → Proteome ID: UP000002624 (Reference: False, via: name)\n"
     ]
    },
    {
     "name": "stderr",
     "output_type": "stream",
     "text": [
      " 25%|██▍       | 183/736 [00:20<01:09,  7.98it/s]"
     ]
    },
    {
     "name": "stdout",
     "output_type": "stream",
     "text": [
      "✅ Blumeria hordei DH14 → Proteome ID: UP000015441 (Reference: False, via: name)\n",
      "✅ Salmonella enterica subsp. enterica serovar Enteritidis str. P125109 → Proteome ID: UP000000613 (Reference: False, via: taxid)\n"
     ]
    },
    {
     "name": "stderr",
     "output_type": "stream",
     "text": [
      " 25%|██▌       | 185/736 [00:20<01:03,  8.64it/s]"
     ]
    },
    {
     "name": "stdout",
     "output_type": "stream",
     "text": [
      "✅ Microsporum canis CBS 113480 → Proteome ID: UP000002035 (Reference: False, via: name)\n",
      "✅ Phaeodactylum tricornutum CCAP 1055/1 → Proteome ID: UP000000759 (Reference: False, via: name)\n",
      "✅ Saccharomyces cerevisiae S288C → Proteome ID: UP000002311 (Reference: False, via: name)\n"
     ]
    },
    {
     "name": "stderr",
     "output_type": "stream",
     "text": [
      " 26%|██▌       | 188/736 [00:21<01:00,  9.06it/s]"
     ]
    },
    {
     "name": "stdout",
     "output_type": "stream",
     "text": [
      "✅ Blastomyces gilchristii SLH14081 → Proteome ID: UP000002038 (Reference: False, via: name)\n",
      "✅ Millerozyma farinosa CBS 7064 → Proteome ID: UP000005222 (Reference: False, via: name)\n",
      "✅ Trichophyton rubrum CBS 118892 → Proteome ID: UP000008864 (Reference: False, via: name)\n"
     ]
    },
    {
     "name": "stderr",
     "output_type": "stream",
     "text": [
      " 26%|██▌       | 192/736 [00:21<00:54, 10.05it/s]"
     ]
    },
    {
     "name": "stdout",
     "output_type": "stream",
     "text": [
      "✅ Hyaloperonospora arabidopsidis Emoy2 → Proteome ID: UP000011713 (Reference: False, via: name)\n",
      "✅ Trichophyton equinum CBS 127.97 → Proteome ID: UP000009169 (Reference: False, via: name)\n",
      "✅ Tistlia consotensis USBA 355 → Proteome ID: UP000192917 (Reference: False, via: name)\n"
     ]
    },
    {
     "name": "stderr",
     "output_type": "stream",
     "text": [
      " 26%|██▋       | 194/736 [00:21<00:52, 10.31it/s]"
     ]
    },
    {
     "name": "stdout",
     "output_type": "stream",
     "text": [
      "✅ Micromonas pusilla CCMP1545 → Proteome ID: UP000001876 (Reference: False, via: name)\n",
      "✅ Streptomyces viridosporus ATCC 14672 → Proteome ID: UP000003824 (Reference: False, via: name)\n",
      "✅ Neospora caninum Liverpool → Proteome ID: UP000007494 (Reference: False, via: name)\n"
     ]
    },
    {
     "name": "stderr",
     "output_type": "stream",
     "text": [
      " 27%|██▋       | 196/736 [00:21<00:52, 10.19it/s]"
     ]
    },
    {
     "name": "stdout",
     "output_type": "stream",
     "text": [
      "✅ Acidovorax delafieldii 2AN → Proteome ID: UP000003856 (Reference: False, via: name)\n",
      "✅ Thermothelomyces thermophilus ATCC 42464 → Proteome ID: UP000007322 (Reference: False, via: name)\n"
     ]
    },
    {
     "name": "stderr",
     "output_type": "stream",
     "text": [
      " 27%|██▋       | 199/736 [00:22<00:58,  9.13it/s]"
     ]
    },
    {
     "name": "stdout",
     "output_type": "stream",
     "text": [
      "✅ Candida parapsilosis CDC317 → Proteome ID: UP000005221 (Reference: False, via: taxid)\n",
      "✅ Thermothielavioides terrestris NRRL 8126 → Proteome ID: UP000008181 (Reference: False, via: name)\n",
      "✅ Serpula lacrymans var. lacrymans S7.9 → Proteome ID: UP000008064 (Reference: False, via: name)\n"
     ]
    },
    {
     "name": "stderr",
     "output_type": "stream",
     "text": [
      " 28%|██▊       | 203/736 [00:22<00:52, 10.09it/s]"
     ]
    },
    {
     "name": "stdout",
     "output_type": "stream",
     "text": [
      "✅ Schizophyllum commune H4-8 → Proteome ID: UP000007431 (Reference: False, via: name)\n",
      "✅ Rhodotorula graminis WP1 → Proteome ID: UP000053890 (Reference: False, via: name)\n",
      "✅ Allomyces macrogynus ATCC 38327 → Proteome ID: UP000054350 (Reference: False, via: name)\n"
     ]
    },
    {
     "name": "stderr",
     "output_type": "stream",
     "text": [
      " 28%|██▊       | 205/736 [00:22<00:51, 10.26it/s]"
     ]
    },
    {
     "name": "stdout",
     "output_type": "stream",
     "text": [
      "✅ Streptomyces viridochromogenes DSM 40736 → Proteome ID: UP000004184 (Reference: False, via: name)\n",
      "✅ Streptomyces pratensis ATCC 33331 → Proteome ID: UP000002066 (Reference: False, via: name)\n",
      "✅ Capsaspora owczarzaki ATCC 30864 → Proteome ID: UP000008743 (Reference: False, via: name)\n"
     ]
    },
    {
     "name": "stderr",
     "output_type": "stream",
     "text": [
      " 28%|██▊       | 209/736 [00:23<00:50, 10.35it/s]"
     ]
    },
    {
     "name": "stdout",
     "output_type": "stream",
     "text": [
      "✅ Variovorax paradoxus EPS → Proteome ID: UP000008917 (Reference: False, via: name)\n",
      "✅ Alicycliphilus denitrificans K601 → Proteome ID: UP000007938 (Reference: False, via: name)\n",
      "✅ Agaricus bisporus var. burnettii JB137-S8 → Proteome ID: UP000008493 (Reference: False, via: name)\n"
     ]
    },
    {
     "name": "stderr",
     "output_type": "stream",
     "text": [
      " 29%|██▊       | 211/736 [00:23<00:50, 10.30it/s]"
     ]
    },
    {
     "name": "stdout",
     "output_type": "stream",
     "text": [
      "✅ Aspergillus carbonarius ITEM 5010 → Proteome ID: UP000188318 (Reference: False, via: name)\n",
      "✅ Puccinia triticina 1-1 BBBD Race 1 → Proteome ID: UP000005240 (Reference: False, via: name)\n",
      "✅ Rhodococcus opacus B4 → Proteome ID: UP000002212 (Reference: False, via: name)\n"
     ]
    },
    {
     "name": "stderr",
     "output_type": "stream",
     "text": [
      " 29%|██▉       | 215/736 [00:23<00:49, 10.61it/s]"
     ]
    },
    {
     "name": "stdout",
     "output_type": "stream",
     "text": [
      "✅ Fragilariopsis cylindrus CCMP1102 → Proteome ID: UP000095751 (Reference: False, via: name)\n",
      "✅ Azospira oryzae PS → Proteome ID: UP000005633 (Reference: False, via: name)\n",
      "✅ Paracidovorax avenae ATCC 19860 → Proteome ID: UP000002482 (Reference: False, via: name)\n"
     ]
    },
    {
     "name": "stderr",
     "output_type": "stream",
     "text": [
      " 29%|██▉       | 217/736 [00:24<00:49, 10.50it/s]"
     ]
    },
    {
     "name": "stdout",
     "output_type": "stream",
     "text": [
      "✅ Gaeumannomyces tritici R3-111a-1 → Proteome ID: UP000006039 (Reference: False, via: name)\n",
      "✅ Magnaporthiopsis poae ATCC 64411 → Proteome ID: UP000011715 (Reference: False, via: name)\n",
      "✅ Colletotrichum graminicola M1.001 → Proteome ID: UP000008782 (Reference: False, via: name)\n"
     ]
    },
    {
     "name": "stderr",
     "output_type": "stream",
     "text": [
      " 30%|███       | 221/736 [00:24<00:49, 10.41it/s]"
     ]
    },
    {
     "name": "stdout",
     "output_type": "stream",
     "text": [
      "✅ Spizellomyces punctatus DAOM BR117 → Proteome ID: UP000053201 (Reference: False, via: name)\n",
      "✅ Trichophyton tonsurans CBS 112818 → Proteome ID: UP000009172 (Reference: False, via: name)\n",
      "✅ Phanerochaete carnosa HHB-10118-sp → Proteome ID: UP000008370 (Reference: False, via: name)\n"
     ]
    },
    {
     "name": "stderr",
     "output_type": "stream",
     "text": [
      " 30%|███       | 223/736 [00:24<00:49, 10.46it/s]"
     ]
    },
    {
     "name": "stdout",
     "output_type": "stream",
     "text": [
      "✅ Streptomyces violaceusniger Tu 4113 → Proteome ID: UP000008703 (Reference: False, via: name)\n",
      "✅ Blastomyces dermatitidis ATCC 18188 → Proteome ID: UP000007802 (Reference: False, via: name)\n",
      "✅ Beauveria bassiana ARSEF 2860 → Proteome ID: UP000002762 (Reference: False, via: name)\n"
     ]
    },
    {
     "name": "stderr",
     "output_type": "stream",
     "text": [
      " 31%|███       | 227/736 [00:25<00:48, 10.50it/s]"
     ]
    },
    {
     "name": "stdout",
     "output_type": "stream",
     "text": [
      "✅ Metarhizium acridum CQMa 102 → Proteome ID: UP000002499 (Reference: False, via: name)\n",
      "✅ Metarhizium robertsii ARSEF 23 → Proteome ID: UP000002498 (Reference: False, via: name)\n",
      "✅ Grosmannia clavigera kw1407 → Proteome ID: UP000007796 (Reference: False, via: name)\n"
     ]
    },
    {
     "name": "stderr",
     "output_type": "stream",
     "text": [
      " 31%|███       | 229/736 [00:25<00:47, 10.72it/s]"
     ]
    },
    {
     "name": "stdout",
     "output_type": "stream",
     "text": [
      "✅ Tuber melanosporum Mel28 → Proteome ID: UP000006911 (Reference: False, via: name)\n",
      "✅ Pseudogymnoascus destructans 20631-21 → Proteome ID: UP000011064 (Reference: False, via: name)\n",
      "✅ Fusarium oxysporum f. sp. conglutinans Fo5176 → Proteome ID: UP000593570 (Reference: False, via: name)\n"
     ]
    },
    {
     "name": "stderr",
     "output_type": "stream",
     "text": [
      " 32%|███▏      | 233/736 [00:25<00:47, 10.56it/s]"
     ]
    },
    {
     "name": "stdout",
     "output_type": "stream",
     "text": [
      "✅ Fusarium oxysporum Fo47 → Proteome ID: UP000030766 (Reference: False, via: name)\n",
      "✅ Fusarium oxysporum NRRL 32931 → Proteome ID: UP000030753 (Reference: False, via: name)\n",
      "✅ Fusarium vanettenii 77-13-4 → Proteome ID: UP000005206 (Reference: False, via: name)\n"
     ]
    },
    {
     "name": "stderr",
     "output_type": "stream",
     "text": [
      " 32%|███▏      | 235/736 [00:25<00:48, 10.36it/s]"
     ]
    },
    {
     "name": "stdout",
     "output_type": "stream",
     "text": [
      "✅ Cryphonectria parasitica EP155 → Proteome ID: UP000803844 (Reference: False, via: name)\n",
      "✅ Trichophyton verrucosum HKI 0517 → Proteome ID: UP000008383 (Reference: False, via: name)\n",
      "✅ Trichophyton benhamiae CBS 112371 → Proteome ID: UP000008866 (Reference: False, via: name)\n"
     ]
    },
    {
     "name": "stderr",
     "output_type": "stream",
     "text": [
      " 32%|███▏      | 237/736 [00:25<00:48, 10.26it/s]"
     ]
    },
    {
     "name": "stdout",
     "output_type": "stream",
     "text": [
      "✅ Paxillus involutus ATCC 200175 → Proteome ID: UP000053647 (Reference: False, via: name)\n",
      "✅ Bipolaris maydis ATCC 48331 → Proteome ID: UP000012338 (Reference: False, via: name)\n"
     ]
    },
    {
     "name": "stderr",
     "output_type": "stream",
     "text": [
      " 33%|███▎      | 241/736 [00:26<00:51,  9.57it/s]"
     ]
    },
    {
     "name": "stdout",
     "output_type": "stream",
     "text": [
      "✅ Sclerotinia sclerotiorum 1980 UF-70 → Proteome ID: UP000001312 (Reference: False, via: taxid)\n",
      "✅ Bipolaris sorokiniana ND90Pr → Proteome ID: UP000016934 (Reference: False, via: name)\n",
      "✅ Sphaeroforma arctica JP610 → Proteome ID: UP000054560 (Reference: False, via: name)\n"
     ]
    },
    {
     "name": "stderr",
     "output_type": "stream",
     "text": [
      " 33%|███▎      | 243/736 [00:26<00:49,  9.88it/s]"
     ]
    },
    {
     "name": "stdout",
     "output_type": "stream",
     "text": [
      "✅ Heterostelium album PN500 → Proteome ID: UP000001396 (Reference: False, via: name)\n",
      "✅ Gloeophyllum trabeum ATCC 11539 → Proteome ID: UP000030669 (Reference: False, via: name)\n",
      "✅ Postia placenta MAD-698-R-SB12 → Proteome ID: UP000194127 (Reference: False, via: name)\n"
     ]
    },
    {
     "name": "stderr",
     "output_type": "stream",
     "text": [
      " 34%|███▎      | 247/736 [00:27<00:52,  9.25it/s]"
     ]
    },
    {
     "name": "stdout",
     "output_type": "stream",
     "text": [
      "✅ Exserohilum turcica Et28A → Proteome ID: UP000016935 (Reference: False, via: taxid)\n",
      "✅ Dothistroma septosporum NZE10 → Proteome ID: UP000016933 (Reference: False, via: name)\n",
      "✅ Pseudonocardia dioxanivorans CB1190 → Proteome ID: UP000007809 (Reference: False, via: name)\n"
     ]
    },
    {
     "name": "stderr",
     "output_type": "stream",
     "text": [
      " 34%|███▍      | 249/736 [00:27<00:50,  9.59it/s]"
     ]
    },
    {
     "name": "stdout",
     "output_type": "stream",
     "text": [
      "✅ Lipomyces starkeyi NRRL Y-11557 → Proteome ID: UP000094385 (Reference: False, via: name)\n",
      "✅ Trypanosoma brucei gambiense DAL972 → Proteome ID: UP000002316 (Reference: False, via: name)\n",
      "✅ Streptomyces scabiei 87.22 → Proteome ID: UP000001444 (Reference: False, via: name)\n"
     ]
    },
    {
     "name": "stderr",
     "output_type": "stream",
     "text": [
      " 34%|███▍      | 251/736 [00:27<00:48,  9.99it/s]"
     ]
    },
    {
     "name": "stdout",
     "output_type": "stream",
     "text": [
      "✅ Microbotryum lychnidis-dioicae p1A1 Lamole → Proteome ID: UP000017200 (Reference: False, via: name)\n",
      "✅ Batrachochytrium dendrobatidis JAM81 → Proteome ID: UP000007241 (Reference: False, via: name)\n",
      "✅ Galerina marginata CBS 339.88 → Proteome ID: UP000027222 (Reference: False, via: name)\n"
     ]
    },
    {
     "name": "stderr",
     "output_type": "stream",
     "text": [
      " 35%|███▍      | 255/736 [00:27<00:47, 10.18it/s]"
     ]
    },
    {
     "name": "stdout",
     "output_type": "stream",
     "text": [
      "✅ Aspergillus aculeatus ATCC 16872 → Proteome ID: UP000184546 (Reference: False, via: name)\n",
      "✅ Sphaerulina musiva SO2202 → Proteome ID: UP000016931 (Reference: False, via: name)\n",
      "✅ Methylobacterium oryzae CBMB20 → Proteome ID: UP000029492 (Reference: False, via: name)\n"
     ]
    },
    {
     "name": "stderr",
     "output_type": "stream",
     "text": [
      " 35%|███▌      | 259/736 [00:28<00:45, 10.47it/s]"
     ]
    },
    {
     "name": "stdout",
     "output_type": "stream",
     "text": [
      "✅ Saprolegnia parasitica CBS 223.65 → Proteome ID: UP000030745 (Reference: False, via: name)\n",
      "✅ Saitoella complicata NRRL Y-17804 → Proteome ID: UP000033140 (Reference: False, via: name)\n",
      "✅ Streptomyces ipomoeae 91-03 → Proteome ID: UP000010411 (Reference: False, via: name)\n"
     ]
    },
    {
     "name": "stderr",
     "output_type": "stream",
     "text": [
      " 35%|███▌      | 261/736 [00:28<00:44, 10.75it/s]"
     ]
    },
    {
     "name": "stdout",
     "output_type": "stream",
     "text": [
      "✅ Streptomyces turgidiscabies Car8 → Proteome ID: UP000010931 (Reference: False, via: name)\n",
      "✅ Streptomyces zinciresistens K42 → Proteome ID: UP000004217 (Reference: False, via: name)\n",
      "✅ Niastella koreensis GR20-10 → Proteome ID: UP000005438 (Reference: False, via: name)\n"
     ]
    },
    {
     "name": "stderr",
     "output_type": "stream",
     "text": [
      " 36%|███▌      | 265/736 [00:28<00:43, 10.78it/s]"
     ]
    },
    {
     "name": "stdout",
     "output_type": "stream",
     "text": [
      "✅ Bipolaris maydis C5 → Proteome ID: UP000016936 (Reference: False, via: name)\n",
      "✅ Amanita thiersii Skay4041 → Proteome ID: UP000242287 (Reference: False, via: name)\n",
      "✅ Sinorhizobium meliloti SM11 → Proteome ID: UP000009045 (Reference: False, via: name)\n"
     ]
    },
    {
     "name": "stderr",
     "output_type": "stream",
     "text": [
      " 36%|███▋      | 267/736 [00:28<00:45, 10.40it/s]"
     ]
    },
    {
     "name": "stdout",
     "output_type": "stream",
     "text": [
      "✅ Cronartium quercuum f. sp. fusiforme G11 → Proteome ID: UP000886653 (Reference: False, via: name)\n",
      "✅ Amycolatopsis mediterranei S699 → Proteome ID: UP000006138 (Reference: False, via: name)\n",
      "✅ Mucilaginibacter paludis DSM 18603 → Proteome ID: UP000002774 (Reference: False, via: name)\n"
     ]
    },
    {
     "name": "stderr",
     "output_type": "stream",
     "text": [
      " 37%|███▋      | 271/736 [00:29<00:44, 10.47it/s]"
     ]
    },
    {
     "name": "stdout",
     "output_type": "stream",
     "text": [
      "✅ Baudoinia panamericana UAMH 10762 → Proteome ID: UP000011761 (Reference: False, via: name)\n",
      "✅ Cercospora zeae-maydis SCOH1-5 → Proteome ID: UP000799539 (Reference: False, via: name)\n",
      "✅ Dichomitus squalens LYAD-421 SS1 → Proteome ID: UP000053319 (Reference: False, via: name)\n"
     ]
    },
    {
     "name": "stderr",
     "output_type": "stream",
     "text": [
      " 37%|███▋      | 273/736 [00:29<00:50,  9.25it/s]"
     ]
    },
    {
     "name": "stdout",
     "output_type": "stream",
     "text": [
      "✅ Coniophora puteana RWD-64-598 SS2 → Proteome ID: UP000053558 (Reference: False, via: name)\n",
      "❌ No proteome found for: blood disease bacterium R229 (Taxon ID: 741978)\n"
     ]
    },
    {
     "name": "stderr",
     "output_type": "stream",
     "text": [
      " 38%|███▊      | 276/736 [00:30<00:51,  8.85it/s]"
     ]
    },
    {
     "name": "stdout",
     "output_type": "stream",
     "text": [
      "✅ Wolfiporia cocos MD-104 SS10 → Proteome ID: UP000218811 (Reference: False, via: taxid)\n",
      "✅ Achromobacter piechaudii ATCC 43553 → Proteome ID: UP000004510 (Reference: False, via: name)\n",
      "✅ Phlebiopsis gigantea 11061_1 CR5-6 → Proteome ID: UP000053257 (Reference: False, via: name)\n"
     ]
    },
    {
     "name": "stderr",
     "output_type": "stream",
     "text": [
      " 38%|███▊      | 278/736 [00:30<00:49,  9.21it/s]"
     ]
    },
    {
     "name": "stdout",
     "output_type": "stream",
     "text": [
      "✅ Rhizophagus irregularis DAOM 181602=DAOM 197198 → Proteome ID: UP000018888 (Reference: False, via: name)\n",
      "✅ Heterobasidion irregulare TC 32-1 → Proteome ID: UP000030671 (Reference: False, via: name)\n",
      "✅ Melampsora larici-populina 98AG31 → Proteome ID: UP000001072 (Reference: False, via: name)\n"
     ]
    },
    {
     "name": "stderr",
     "output_type": "stream",
     "text": [
      " 38%|███▊      | 281/736 [00:30<00:47,  9.50it/s]"
     ]
    },
    {
     "name": "stdout",
     "output_type": "stream",
     "text": [
      "✅ Mucor lusitanicus CBS 277.49 → Proteome ID: UP000077051 (Reference: False, via: name)\n",
      "✅ Streptomyces bingchenggensis BCW-1 → Proteome ID: UP000000377 (Reference: False, via: name)\n"
     ]
    },
    {
     "name": "stderr",
     "output_type": "stream",
     "text": [
      " 38%|███▊      | 283/736 [00:30<00:53,  8.39it/s]"
     ]
    },
    {
     "name": "stdout",
     "output_type": "stream",
     "text": [
      "✅ Amycolatopsis mediterranei U32 → Proteome ID: UP000000328 (Reference: False, via: taxid)\n",
      "✅ Paraburkholderia sprentiae WSM5005 → Proteome ID: UP000179860 (Reference: False, via: name)\n",
      "✅ Bradyrhizobium diazoefficiens SEMIA 5080 → Proteome ID: UP000024900 (Reference: False, via: name)\n"
     ]
    },
    {
     "name": "stderr",
     "output_type": "stream",
     "text": [
      " 39%|███▉      | 287/736 [00:31<00:46,  9.72it/s]"
     ]
    },
    {
     "name": "stdout",
     "output_type": "stream",
     "text": [
      "✅ Rhizobium leguminosarum bv. trifolii WSM2297 → Proteome ID: UP000005732 (Reference: False, via: name)\n",
      "✅ Rhizobium leguminosarum bv. trifolii WSM597 → Proteome ID: UP000005092 (Reference: False, via: name)\n",
      "✅ Orbilia oligospora ATCC 24927 → Proteome ID: UP000008784 (Reference: False, via: name)\n"
     ]
    },
    {
     "name": "stderr",
     "output_type": "stream",
     "text": [
      " 39%|███▉      | 289/736 [00:31<00:46,  9.70it/s]"
     ]
    },
    {
     "name": "stdout",
     "output_type": "stream",
     "text": [
      "✅ Herbaspirillum seropedicae SmR1 → Proteome ID: UP000000329 (Reference: False, via: name)\n",
      "✅ Thermochaetoides thermophila DSM 1495 → Proteome ID: UP000008066 (Reference: False, via: name)\n"
     ]
    },
    {
     "name": "stderr",
     "output_type": "stream",
     "text": [
      " 40%|███▉      | 291/736 [00:31<00:46,  9.52it/s]"
     ]
    },
    {
     "name": "stdout",
     "output_type": "stream",
     "text": [
      "✅ Colletotrichum higginsianum IMI 349063 → Proteome ID: UP000092177 (Reference: False, via: name)\n",
      "✅ Haliscomenobacter hydrossis DSM 1100 → Proteome ID: UP000008461 (Reference: False, via: name)\n"
     ]
    },
    {
     "name": "stderr",
     "output_type": "stream",
     "text": [
      " 40%|███▉      | 293/736 [00:31<00:44,  9.92it/s]"
     ]
    },
    {
     "name": "stdout",
     "output_type": "stream",
     "text": [
      "✅ Runella slithyformis DSM 19594 → Proteome ID: UP000000493 (Reference: False, via: name)\n",
      "✅ Phytophthora nicotianae INRA-310 → Proteome ID: UP000018817 (Reference: False, via: name)\n",
      "✅ Achromobacter xylosoxidans A8 → Proteome ID: UP000006876 (Reference: False, via: name)\n"
     ]
    },
    {
     "name": "stderr",
     "output_type": "stream",
     "text": [
      " 40%|████      | 295/736 [00:31<00:42, 10.41it/s]"
     ]
    },
    {
     "name": "stdout",
     "output_type": "stream",
     "text": [
      "✅ Pichia membranifaciens NRRL Y-2026 → Proteome ID: UP000094455 (Reference: False, via: name)\n",
      "✅ Phycomyces blakesleeanus NRRL 1555(-) → Proteome ID: UP000077315 (Reference: False, via: taxid)\n"
     ]
    },
    {
     "name": "stderr",
     "output_type": "stream",
     "text": [
      " 41%|████      | 299/736 [00:32<00:46,  9.41it/s]"
     ]
    },
    {
     "name": "stdout",
     "output_type": "stream",
     "text": [
      "✅ Coemansia reversa NRRL 1564 → Proteome ID: UP000242474 (Reference: False, via: name)\n",
      "✅ Mixia osmundae IAM 14324 → Proteome ID: UP000009131 (Reference: False, via: name)\n",
      "✅ Pisolithus microcarpus 441 → Proteome ID: UP000054018 (Reference: False, via: name)\n"
     ]
    },
    {
     "name": "stderr",
     "output_type": "stream",
     "text": [
      " 41%|████      | 301/736 [00:32<00:44,  9.77it/s]"
     ]
    },
    {
     "name": "stdout",
     "output_type": "stream",
     "text": [
      "✅ Piloderma croceum F 1598 → Proteome ID: UP000054166 (Reference: False, via: name)\n",
      "✅ Catenaria anguillulae PL171 → Proteome ID: UP000193411 (Reference: False, via: name)\n",
      "✅ Acidomyces richmondensis BFW → Proteome ID: UP000075602 (Reference: False, via: name)\n"
     ]
    },
    {
     "name": "stderr",
     "output_type": "stream",
     "text": [
      " 41%|████▏     | 305/736 [00:33<00:43,  9.95it/s]"
     ]
    },
    {
     "name": "stdout",
     "output_type": "stream",
     "text": [
      "✅ Aspergillus brasiliensis CBS 101740 → Proteome ID: UP000184499 (Reference: False, via: name)\n",
      "✅ Aspergillus tubingensis CBS 134.48 → Proteome ID: UP000184304 (Reference: False, via: name)\n",
      "✅ Sordaria macrospora k-hell → Proteome ID: UP000001881 (Reference: False, via: name)\n"
     ]
    },
    {
     "name": "stderr",
     "output_type": "stream",
     "text": [
      " 42%|████▏     | 307/736 [00:33<00:42, 10.18it/s]"
     ]
    },
    {
     "name": "stdout",
     "output_type": "stream",
     "text": [
      "✅ Conidiobolus coronatus NRRL 28638 → Proteome ID: UP000070444 (Reference: False, via: name)\n",
      "✅ Hapsidospora chrysogenum ATCC 11550 → Proteome ID: UP000029964 (Reference: False, via: name)\n",
      "✅ Amorphotheca resinae ATCC 22711 → Proteome ID: UP000241818 (Reference: False, via: name)\n"
     ]
    },
    {
     "name": "stderr",
     "output_type": "stream",
     "text": [
      " 42%|████▏     | 311/736 [00:33<00:40, 10.51it/s]"
     ]
    },
    {
     "name": "stdout",
     "output_type": "stream",
     "text": [
      "✅ Exophiala dermatitidis NIH/UT8656 → Proteome ID: UP000007304 (Reference: False, via: name)\n",
      "✅ Pyrenophora teres f. teres 0-1 → Proteome ID: UP000001067 (Reference: False, via: name)\n",
      "✅ Azospirillum lipoferum 4B → Proteome ID: UP000005667 (Reference: False, via: name)\n"
     ]
    },
    {
     "name": "stderr",
     "output_type": "stream",
     "text": [
      " 43%|████▎     | 313/736 [00:33<00:40, 10.39it/s]"
     ]
    },
    {
     "name": "stdout",
     "output_type": "stream",
     "text": [
      "✅ Herbaspirillum frisingense GSF30 → Proteome ID: UP000006772 (Reference: False, via: name)\n",
      "✅ Pisolithus tinctorius Marx 270 → Proteome ID: UP000054217 (Reference: False, via: name)\n",
      "✅ Epichloe festucae Fl1 → Proteome ID: UP000594364 (Reference: False, via: name)\n"
     ]
    },
    {
     "name": "stderr",
     "output_type": "stream",
     "text": [
      " 43%|████▎     | 317/736 [00:34<00:41, 10.19it/s]"
     ]
    },
    {
     "name": "stdout",
     "output_type": "stream",
     "text": [
      "✅ Methylorubrum extorquens DSM 13060 → Proteome ID: UP000004382 (Reference: False, via: name)\n",
      "✅ Massilia timonae CCUG 45783 → Proteome ID: UP000009874 (Reference: False, via: name)\n",
      "✅ Burkholderia pseudomallei 1026b → Proteome ID: UP000010087 (Reference: False, via: name)\n"
     ]
    },
    {
     "name": "stderr",
     "output_type": "stream",
     "text": [
      " 43%|████▎     | 319/736 [00:34<00:41, 10.03it/s]"
     ]
    },
    {
     "name": "stdout",
     "output_type": "stream",
     "text": [
      "✅ Singulisphaera acidiphila DSM 18658 → Proteome ID: UP000010798 (Reference: False, via: name)\n",
      "✅ Candidatus Magnetoglobus multicellularis str. Araruama → Proteome ID: UP000189670 (Reference: False, via: name)\n"
     ]
    },
    {
     "name": "stderr",
     "output_type": "stream",
     "text": [
      " 44%|████▎     | 321/736 [00:34<00:40, 10.13it/s]"
     ]
    },
    {
     "name": "stdout",
     "output_type": "stream",
     "text": [
      "✅ Guillardia theta CCMP2712 → Proteome ID: UP000011087 (Reference: False, via: name)\n",
      "✅ Methylobacterium mesophilicum SR1.6/6 → Proteome ID: UP000012488 (Reference: False, via: name)\n",
      "✅ Caballeronia mineralivorans PML1(12) → Proteome ID: UP000035963 (Reference: False, via: name)\n"
     ]
    },
    {
     "name": "stderr",
     "output_type": "stream",
     "text": [
      " 44%|████▍     | 325/736 [00:34<00:39, 10.46it/s]"
     ]
    },
    {
     "name": "stdout",
     "output_type": "stream",
     "text": [
      "✅ Ophiocordyceps sinensis CO18 → Proteome ID: UP000019374 (Reference: False, via: name)\n",
      "✅ Oidiodendron maius Zn → Proteome ID: UP000054321 (Reference: False, via: name)\n",
      "✅ Gelatoporia subvermispora B → Proteome ID: UP000016930 (Reference: False, via: name)\n"
     ]
    },
    {
     "name": "stderr",
     "output_type": "stream",
     "text": [
      " 44%|████▍     | 327/736 [00:35<00:38, 10.72it/s]"
     ]
    },
    {
     "name": "stdout",
     "output_type": "stream",
     "text": [
      "✅ Leishmania mexicana MHOM/GT/2001/U1103 → Proteome ID: UP000007259 (Reference: False, via: name)\n",
      "✅ Bipolaris zeicola 26-R-13 → Proteome ID: UP000053841 (Reference: False, via: name)\n",
      "✅ Bipolaris oryzae ATCC 44560 → Proteome ID: UP000054032 (Reference: False, via: name)\n"
     ]
    },
    {
     "name": "stderr",
     "output_type": "stream",
     "text": [
      " 45%|████▍     | 331/736 [00:35<00:36, 10.96it/s]"
     ]
    },
    {
     "name": "stdout",
     "output_type": "stream",
     "text": [
      "✅ Bipolaris victoriae FI3 → Proteome ID: UP000054337 (Reference: False, via: name)\n",
      "✅ Botryobasidium botryosum FD-172 SS1 → Proteome ID: UP000027195 (Reference: False, via: name)\n",
      "✅ Paxillus rubicundulus Ve08.2h10 → Proteome ID: UP000054538 (Reference: False, via: name)\n"
     ]
    },
    {
     "name": "stderr",
     "output_type": "stream",
     "text": [
      " 45%|████▌     | 333/736 [00:35<00:37, 10.76it/s]"
     ]
    },
    {
     "name": "stdout",
     "output_type": "stream",
     "text": [
      "✅ Suillus luteus UH-Slu-Lm8-n1 → Proteome ID: UP000054485 (Reference: False, via: name)\n",
      "✅ Toxoplasma gondii VAND → Proteome ID: UP000028840 (Reference: False, via: name)\n"
     ]
    },
    {
     "name": "stderr",
     "output_type": "stream",
     "text": [
      " 46%|████▌     | 335/736 [00:35<00:38, 10.55it/s]"
     ]
    },
    {
     "name": "stdout",
     "output_type": "stream",
     "text": [
      "✅ Jaapia argillacea MUCL 33604 → Proteome ID: UP000027265 (Reference: False, via: name)\n",
      "✅ Penicillium oxalicum 114-2 → Proteome ID: UP000019376 (Reference: False, via: name)\n",
      "✅ Serendipita vermifera MAFF 305830 → Proteome ID: UP000054097 (Reference: False, via: name)\n"
     ]
    },
    {
     "name": "stderr",
     "output_type": "stream",
     "text": [
      " 46%|████▌     | 339/736 [00:36<00:37, 10.66it/s]"
     ]
    },
    {
     "name": "stdout",
     "output_type": "stream",
     "text": [
      "✅ Mesorhizobium loti R88b → Proteome ID: UP000503017 (Reference: False, via: name)\n",
      "✅ Toxoplasma gondii RUB → Proteome ID: UP000028834 (Reference: False, via: name)\n",
      "✅ Cupriavidus gilardii J11 → Proteome ID: UP000318141 (Reference: False, via: name)\n",
      "✅ Serpula lacrymans var. lacrymans S7.3 → Proteome ID: UP000008063 (Reference: False, via: name)\n"
     ]
    },
    {
     "name": "stderr",
     "output_type": "stream",
     "text": [
      " 47%|████▋     | 343/736 [00:36<00:40,  9.61it/s]"
     ]
    },
    {
     "name": "stdout",
     "output_type": "stream",
     "text": [
      "✅ Escherichia coli O25b:H4 → Proteome ID: UP000183316 (Reference: False, via: taxid)\n",
      "✅ Toxoplasma gondii MAS → Proteome ID: UP000028821 (Reference: False, via: name)\n",
      "✅ Toxoplasma gondii p89 → Proteome ID: UP000028828 (Reference: False, via: name)\n"
     ]
    },
    {
     "name": "stderr",
     "output_type": "stream",
     "text": [
      " 47%|████▋     | 345/736 [00:36<00:39,  9.82it/s]"
     ]
    },
    {
     "name": "stdout",
     "output_type": "stream",
     "text": [
      "✅ Toxoplasma gondii TgCATBr9 → Proteome ID: UP000244488 (Reference: False, via: name)\n",
      "✅ Toxoplasma gondii FOU → Proteome ID: UP000028838 (Reference: False, via: name)\n",
      "✅ Collybiopsis luxurians FD-317 M1 → Proteome ID: UP000053593 (Reference: False, via: name)\n"
     ]
    },
    {
     "name": "stderr",
     "output_type": "stream",
     "text": [
      " 47%|████▋     | 349/736 [00:37<00:38, 10.08it/s]"
     ]
    },
    {
     "name": "stdout",
     "output_type": "stream",
     "text": [
      "✅ Hypholoma sublateritium FD-334 SS-4 → Proteome ID: UP000054270 (Reference: False, via: name)\n",
      "✅ Amanita muscaria Koide BX008 → Proteome ID: UP000054549 (Reference: False, via: name)\n",
      "✅ Streptomyces venezuelae ATCC 10712 → Proteome ID: UP000006854 (Reference: False, via: name)\n"
     ]
    },
    {
     "name": "stderr",
     "output_type": "stream",
     "text": [
      " 48%|████▊     | 351/736 [00:37<00:37, 10.15it/s]"
     ]
    },
    {
     "name": "stdout",
     "output_type": "stream",
     "text": [
      "✅ Cupriavidus taiwanensis LMG 19424 → Proteome ID: UP000001692 (Reference: False, via: name)\n",
      "✅ Cordyceps militaris CM01 → Proteome ID: UP000001610 (Reference: False, via: name)\n",
      "✅ Rubrivivax gelatinosus IL144 → Proteome ID: UP000007883 (Reference: False, via: name)\n"
     ]
    },
    {
     "name": "stderr",
     "output_type": "stream",
     "text": [
      " 48%|████▊     | 355/736 [00:37<00:37, 10.24it/s]"
     ]
    },
    {
     "name": "stdout",
     "output_type": "stream",
     "text": [
      "✅ Trichoderma harzianum CBS 226.95 → Proteome ID: UP000241690 (Reference: False, via: name)\n",
      "✅ Trichoderma longibrachiatum ATCC 18648 → Proteome ID: UP000240760 (Reference: False, via: name)\n",
      "✅ Cyberlindnera jadinii NRRL Y-1542 → Proteome ID: UP000094389 (Reference: False, via: name)\n"
     ]
    },
    {
     "name": "stderr",
     "output_type": "stream",
     "text": [
      " 49%|████▊     | 357/736 [00:38<00:36, 10.39it/s]"
     ]
    },
    {
     "name": "stdout",
     "output_type": "stream",
     "text": [
      "✅ Babjeviella inositovora NRRL Y-12698 → Proteome ID: UP000094336 (Reference: False, via: name)\n",
      "✅ Suhomyces tanzawaensis NRRL Y-17324 → Proteome ID: UP000094285 (Reference: False, via: name)\n",
      "✅ Plenodomus lingam JN3 → Proteome ID: UP000002668 (Reference: False, via: name)\n"
     ]
    },
    {
     "name": "stderr",
     "output_type": "stream",
     "text": [
      " 49%|████▉     | 361/736 [00:38<00:35, 10.48it/s]"
     ]
    },
    {
     "name": "stdout",
     "output_type": "stream",
     "text": [
      "✅ Rozella allomycis CSF55 → Proteome ID: UP000030755 (Reference: False, via: name)\n",
      "✅ Rhizobium grahamii CCGE 502 → Proteome ID: UP000014411 (Reference: False, via: name)\n",
      "✅ Sphaerobolus stellatus SS14 → Proteome ID: UP000054279 (Reference: False, via: name)\n"
     ]
    },
    {
     "name": "stderr",
     "output_type": "stream",
     "text": [
      " 49%|████▉     | 363/736 [00:38<00:40,  9.12it/s]"
     ]
    },
    {
     "name": "stdout",
     "output_type": "stream",
     "text": [
      "✅ Hydnomerulius pinastri MD-312 → Proteome ID: UP000053820 (Reference: False, via: name)\n",
      "✅ Pseudomonas brassicacearum subsp. brassicacearum NFM421 → Proteome ID: UP000006692 (Reference: False, via: taxid)\n"
     ]
    },
    {
     "name": "stderr",
     "output_type": "stream",
     "text": [
      " 50%|████▉     | 365/736 [00:38<00:39,  9.30it/s]"
     ]
    },
    {
     "name": "stdout",
     "output_type": "stream",
     "text": [
      "✅ Streptomyces griseoaurantiacus M045 → Proteome ID: UP000003022 (Reference: False, via: name)\n",
      "✅ Paenibacillus mucilaginosus K02 → Proteome ID: UP000007392 (Reference: False, via: name)\n"
     ]
    },
    {
     "name": "stderr",
     "output_type": "stream",
     "text": [
      " 50%|████▉     | 367/736 [00:39<00:38,  9.52it/s]"
     ]
    },
    {
     "name": "stdout",
     "output_type": "stream",
     "text": [
      "✅ Bacteroides cellulosilyticus CL02T12C19 → Proteome ID: UP000003741 (Reference: False, via: name)\n",
      "✅ Burkholderia gladioli BSR3 → Proteome ID: UP000008316 (Reference: False, via: name)\n",
      "✅ Sporisorium reilianum SRZ2 → Proteome ID: UP000008867 (Reference: False, via: name)\n"
     ]
    },
    {
     "name": "stderr",
     "output_type": "stream",
     "text": [
      " 50%|█████     | 370/736 [00:39<00:37,  9.86it/s]"
     ]
    },
    {
     "name": "stdout",
     "output_type": "stream",
     "text": [
      "✅ Botrytis cinerea T4 → Proteome ID: UP000008177 (Reference: False, via: name)\n",
      "✅ Streptantibioticus cattleyicolor NRRL 8057 = DSM 46488 → Proteome ID: UP000007842 (Reference: False, via: name)\n",
      "✅ Achromobacter insuavis AXX-A → Proteome ID: UP000004853 (Reference: False, via: name)\n"
     ]
    },
    {
     "name": "stderr",
     "output_type": "stream",
     "text": [
      " 51%|█████     | 373/736 [00:39<00:35, 10.16it/s]"
     ]
    },
    {
     "name": "stdout",
     "output_type": "stream",
     "text": [
      "✅ Burkholderia cepacia GG4 → Proteome ID: UP000032866 (Reference: False, via: name)\n",
      "✅ Nannochloropsis salina CCMP1776 → Proteome ID: UP000355283 (Reference: False, via: name)\n",
      "✅ Fusarium pseudograminearum CS3096 → Proteome ID: UP000007978 (Reference: False, via: name)\n"
     ]
    },
    {
     "name": "stderr",
     "output_type": "stream",
     "text": [
      " 51%|█████     | 375/736 [00:39<00:35, 10.25it/s]"
     ]
    },
    {
     "name": "stdout",
     "output_type": "stream",
     "text": [
      "✅ Neorhizobium galegae bv. orientalis str. HAMBI 540 → Proteome ID: UP000028181 (Reference: False, via: name)\n",
      "✅ Neorhizobium galegae bv. officinalis bv. officinalis str. HAMBI 1141 → Proteome ID: UP000028186 (Reference: False, via: name)\n",
      "✅ Ralstonia solanacearum Po82 → Proteome ID: UP000007953 (Reference: False, via: name)\n"
     ]
    },
    {
     "name": "stderr",
     "output_type": "stream",
     "text": [
      " 51%|█████▏    | 379/736 [00:40<00:33, 10.50it/s]"
     ]
    },
    {
     "name": "stdout",
     "output_type": "stream",
     "text": [
      "✅ Plasmodium vivax Brazil I → Proteome ID: UP000053327 (Reference: False, via: name)\n",
      "✅ Ceratocystis fimbriata CBS 114723 → Proteome ID: UP000222788 (Reference: False, via: name)\n",
      "✅ Plasmodium vivax North Korean → Proteome ID: UP000053239 (Reference: False, via: name)\n"
     ]
    },
    {
     "name": "stderr",
     "output_type": "stream",
     "text": [
      " 52%|█████▏    | 381/736 [00:40<00:33, 10.62it/s]"
     ]
    },
    {
     "name": "stdout",
     "output_type": "stream",
     "text": [
      "✅ Plasmodium vivax Mauritania I → Proteome ID: UP000053776 (Reference: False, via: name)\n",
      "✅ Aspergillus versicolor CBS 583.65 → Proteome ID: UP000184073 (Reference: False, via: name)\n",
      "✅ Aspergillus sydowii CBS 593.65 → Proteome ID: UP000184356 (Reference: False, via: name)\n"
     ]
    },
    {
     "name": "stderr",
     "output_type": "stream",
     "text": [
      " 52%|█████▏    | 385/736 [00:40<00:33, 10.59it/s]"
     ]
    },
    {
     "name": "stdout",
     "output_type": "stream",
     "text": [
      "✅ Paenibacillus mucilaginosus KNP414 → Proteome ID: UP000006620 (Reference: False, via: name)\n",
      "✅ Scleroderma citrinum Foug A → Proteome ID: UP000053989 (Reference: False, via: name)\n",
      "✅ Tilletiaria anomala UBC 951 → Proteome ID: UP000027361 (Reference: False, via: name)\n"
     ]
    },
    {
     "name": "stderr",
     "output_type": "stream",
     "text": [
      " 53%|█████▎    | 387/736 [00:41<00:32, 10.76it/s]"
     ]
    },
    {
     "name": "stdout",
     "output_type": "stream",
     "text": [
      "✅ Pseudomonas chlororaphis O6 → Proteome ID: UP000003790 (Reference: False, via: name)\n",
      "✅ Rhizobium gallicum bv. gallicum R602sp → Proteome ID: UP000031368 (Reference: False, via: name)\n",
      "✅ Trichoderma asperellum CBS 433.97 → Proteome ID: UP000240493 (Reference: False, via: name)\n"
     ]
    },
    {
     "name": "stderr",
     "output_type": "stream",
     "text": [
      " 53%|█████▎    | 391/736 [00:41<00:31, 10.86it/s]"
     ]
    },
    {
     "name": "stdout",
     "output_type": "stream",
     "text": [
      "✅ Cupriavidus necator N-1 → Proteome ID: UP000006798 (Reference: False, via: name)\n",
      "✅ Aureobasidium pullulans EXF-150 → Proteome ID: UP000030706 (Reference: False, via: name)\n",
      "✅ Aureobasidium melanogenum CBS 110374 → Proteome ID: UP000030672 (Reference: False, via: name)\n"
     ]
    },
    {
     "name": "stderr",
     "output_type": "stream",
     "text": [
      " 54%|█████▎    | 395/736 [00:41<00:31, 10.76it/s]"
     ]
    },
    {
     "name": "stdout",
     "output_type": "stream",
     "text": [
      "✅ Aureobasidium namibiae CBS 147.97 → Proteome ID: UP000027730 (Reference: False, via: name)\n",
      "✅ Aureobasidium subglaciale EXF-2481 → Proteome ID: UP000030641 (Reference: False, via: name)\n",
      "✅ Hirsutella minnesotensis 3608 → Proteome ID: UP000054481 (Reference: False, via: name)\n"
     ]
    },
    {
     "name": "stderr",
     "output_type": "stream",
     "text": [
      " 54%|█████▍    | 397/736 [00:41<00:31, 10.61it/s]"
     ]
    },
    {
     "name": "stdout",
     "output_type": "stream",
     "text": [
      "✅ Drechslerella stenobrocha 248 → Proteome ID: UP000024837 (Reference: False, via: name)\n",
      "✅ Terfezia boudieri ATCC MYA-4762 → Proteome ID: UP000267821 (Reference: False, via: name)\n",
      "✅ Tulasnella calospora MUT 4182 → Proteome ID: UP000054248 (Reference: False, via: name)\n"
     ]
    },
    {
     "name": "stderr",
     "output_type": "stream",
     "text": [
      " 54%|█████▍    | 401/736 [00:42<00:31, 10.72it/s]"
     ]
    },
    {
     "name": "stdout",
     "output_type": "stream",
     "text": [
      "✅ Streptomyces bottropensis ATCC 25435 → Proteome ID: UP000030760 (Reference: False, via: name)\n",
      "✅ Trypanosoma vivax Y486 → Proteome ID: UP000009027 (Reference: False, via: name)\n",
      "✅ Trypanosoma congolense IL3000 → Proteome ID: UP000000702 (Reference: False, via: name)\n"
     ]
    },
    {
     "name": "stderr",
     "output_type": "stream",
     "text": [
      " 55%|█████▍    | 403/736 [00:42<00:30, 10.84it/s]"
     ]
    },
    {
     "name": "stdout",
     "output_type": "stream",
     "text": [
      "✅ Amycolatopsis methanolica 239 → Proteome ID: UP000062973 (Reference: False, via: name)\n",
      "✅ Huiozyma naganishii CBS 8797 → Proteome ID: UP000006310 (Reference: False, via: name)\n",
      "✅ Drepanopeziza brunnea f. sp. 'multigermtubi' MB_m1 → Proteome ID: UP000006753 (Reference: False, via: name)\n"
     ]
    },
    {
     "name": "stderr",
     "output_type": "stream",
     "text": [
      " 55%|█████▌    | 407/736 [00:42<00:30, 10.72it/s]"
     ]
    },
    {
     "name": "stdout",
     "output_type": "stream",
     "text": [
      "✅ Aspergillus wentii DTO 134E9 → Proteome ID: UP000184383 (Reference: False, via: name)\n",
      "✅ Penicilliopsis zonata CBS 506.65 → Proteome ID: UP000184188 (Reference: False, via: name)\n",
      "✅ Toxoplasma gondii ARI → Proteome ID: UP000074247 (Reference: False, via: name)\n"
     ]
    },
    {
     "name": "stderr",
     "output_type": "stream",
     "text": [
      " 56%|█████▌    | 409/736 [00:43<00:30, 10.89it/s]"
     ]
    },
    {
     "name": "stdout",
     "output_type": "stream",
     "text": [
      "✅ Toxoplasma gondii COUG → Proteome ID: UP000236343 (Reference: False, via: name)\n",
      "✅ Pyronema omphalodes CBS 100304 → Proteome ID: UP000018144 (Reference: False, via: name)\n",
      "✅ Plasmodium vivax India VII → Proteome ID: UP000053562 (Reference: False, via: name)\n"
     ]
    },
    {
     "name": "stderr",
     "output_type": "stream",
     "text": [
      " 56%|█████▌    | 413/736 [00:43<00:29, 10.85it/s]"
     ]
    },
    {
     "name": "stdout",
     "output_type": "stream",
     "text": [
      "✅ Ganoderma sinense ZZ0214-1 → Proteome ID: UP000230002 (Reference: False, via: name)\n",
      "✅ Talaromyces marneffei PM1 → Proteome ID: UP000029285 (Reference: False, via: name)\n",
      "✅ Rhizobium mongolense USDA 1844 → Proteome ID: UP000319824 (Reference: False, via: name)\n"
     ]
    },
    {
     "name": "stderr",
     "output_type": "stream",
     "text": [
      " 56%|█████▋    | 415/736 [00:43<00:29, 10.83it/s]"
     ]
    },
    {
     "name": "stdout",
     "output_type": "stream",
     "text": [
      "✅ Streptomyces chartreusis NRRL 3882 → Proteome ID: UP000235464 (Reference: False, via: name)\n",
      "✅ Zasmidium cellare ATCC 36951 → Proteome ID: UP000799537 (Reference: False, via: name)\n",
      "✅ Fusarium oxysporum f. sp. pisi HDV247 → Proteome ID: UP000030751 (Reference: False, via: name)\n"
     ]
    },
    {
     "name": "stderr",
     "output_type": "stream",
     "text": [
      " 57%|█████▋    | 419/736 [00:44<00:29, 10.66it/s]"
     ]
    },
    {
     "name": "stdout",
     "output_type": "stream",
     "text": [
      "✅ Amycolatopsis balhimycina DSM 5908 → Proteome ID: UP000286716 (Reference: False, via: name)\n",
      "✅ Niveomyces insectorum RCEF 264 → Proteome ID: UP000076874 (Reference: False, via: name)\n",
      "✅ Metarhizium album ARSEF 1941 → Proteome ID: UP000030816 (Reference: False, via: name)\n"
     ]
    },
    {
     "name": "stderr",
     "output_type": "stream",
     "text": [
      " 57%|█████▋    | 421/736 [00:44<00:30, 10.36it/s]"
     ]
    },
    {
     "name": "stdout",
     "output_type": "stream",
     "text": [
      "✅ Cordyceps fumosorosea ARSEF 2679 → Proteome ID: UP000076744 (Reference: False, via: name)\n",
      "✅ Beauveria brongniartii RCEF 3172 → Proteome ID: UP000076863 (Reference: False, via: name)\n",
      "✅ Akanthomyces lecanii RCEF 1005 → Proteome ID: UP000076881 (Reference: False, via: name)\n"
     ]
    },
    {
     "name": "stderr",
     "output_type": "stream",
     "text": [
      " 58%|█████▊    | 425/736 [00:44<00:30, 10.29it/s]"
     ]
    },
    {
     "name": "stdout",
     "output_type": "stream",
     "text": [
      "✅ Moelleriella libera RCEF 2490 → Proteome ID: UP000078544 (Reference: False, via: name)\n",
      "✅ Streptomyces albus subsp. albus DSM 41398 → Proteome ID: UP000031523 (Reference: False, via: name)\n",
      "✅ Mesorhizobium amorphae CCNWGS0123 → Proteome ID: UP000002949 (Reference: False, via: name)\n"
     ]
    },
    {
     "name": "stderr",
     "output_type": "stream",
     "text": [
      " 58%|█████▊    | 427/736 [00:44<00:30, 10.07it/s]"
     ]
    },
    {
     "name": "stdout",
     "output_type": "stream",
     "text": [
      "✅ Rhizoctonia solani AG-3 Rhs1AP → Proteome ID: UP000030108 (Reference: False, via: name)\n",
      "✅ Fusarium oxysporum f. sp. vasinfectum 25433 → Proteome ID: UP000030701 (Reference: False, via: name)\n"
     ]
    },
    {
     "name": "stderr",
     "output_type": "stream",
     "text": [
      " 58%|█████▊    | 429/736 [00:45<00:41,  7.32it/s]"
     ]
    },
    {
     "name": "stdout",
     "output_type": "stream",
     "text": [
      "✅ Fusarium odoratissimum NRRL 54006 → Proteome ID: UP000030685 (Reference: False, via: name)\n",
      "✅ Fusarium oxysporum f. sp. melonis 26406 → Proteome ID: UP000030703 (Reference: False, via: name)\n",
      "✅ Fusarium oxysporum f. sp. conglutinans race 2 54008 → Proteome ID: UP000030676 (Reference: False, via: name)\n"
     ]
    },
    {
     "name": "stderr",
     "output_type": "stream",
     "text": [
      " 59%|█████▉    | 433/736 [00:45<00:35,  8.66it/s]"
     ]
    },
    {
     "name": "stdout",
     "output_type": "stream",
     "text": [
      "✅ Fusarium oxysporum f. sp. raphani 54005 → Proteome ID: UP000030663 (Reference: False, via: name)\n",
      "✅ Ralstonia solanacearum K60 → Proteome ID: UP000003425 (Reference: False, via: name)\n",
      "✅ Phytophthora sojae strain P6497 → Proteome ID: UP000002640 (Reference: False, via: name)\n"
     ]
    },
    {
     "name": "stderr",
     "output_type": "stream",
     "text": [
      " 59%|█████▉    | 435/736 [00:45<00:32,  9.17it/s]"
     ]
    },
    {
     "name": "stdout",
     "output_type": "stream",
     "text": [
      "✅ Laccaria amethystina LaAM-08-1 → Proteome ID: UP000054477 (Reference: False, via: name)\n",
      "✅ Hyaloscypha bicolor E → Proteome ID: UP000235371 (Reference: False, via: name)\n",
      "✅ Saccharomyces cerevisiae x Saccharomyces kudriavzevii VIN7 → Proteome ID: UP000009009 (Reference: False, via: name)\n"
     ]
    },
    {
     "name": "stderr",
     "output_type": "stream",
     "text": [
      " 60%|█████▉    | 438/736 [00:46<00:31,  9.42it/s]"
     ]
    },
    {
     "name": "stdout",
     "output_type": "stream",
     "text": [
      "✅ Glarea lozoyensis 74030 → Proteome ID: UP000005446 (Reference: False, via: name)\n",
      "✅ Sinorhizobium meliloti CCNWSX0020 → Proteome ID: UP000004038 (Reference: False, via: name)\n",
      "✅ Mesorhizobium alhagi CCNWXJ12-2 → Proteome ID: UP000003250 (Reference: False, via: name)\n"
     ]
    },
    {
     "name": "stderr",
     "output_type": "stream",
     "text": [
      " 60%|██████    | 442/736 [00:46<00:29, 10.00it/s]"
     ]
    },
    {
     "name": "stdout",
     "output_type": "stream",
     "text": [
      "✅ Serendipita indica DSM 11827 → Proteome ID: UP000007148 (Reference: False, via: name)\n",
      "✅ Tistrella mobilis KA081020-065 → Proteome ID: UP000005258 (Reference: False, via: name)\n",
      "✅ Nocardia asteroides NBRC 15531 → Proteome ID: UP000017048 (Reference: False, via: name)\n"
     ]
    },
    {
     "name": "stderr",
     "output_type": "stream",
     "text": [
      " 60%|██████    | 444/736 [00:46<00:28, 10.33it/s]"
     ]
    },
    {
     "name": "stdout",
     "output_type": "stream",
     "text": [
      "✅ Claviceps purpurea 20.1 → Proteome ID: UP000016801 (Reference: False, via: name)\n",
      "✅ Streptomyces tsukubensis NRRL18488 → Proteome ID: UP000005940 (Reference: False, via: name)\n",
      "✅ Glarea lozoyensis ATCC 20868 → Proteome ID: UP000016922 (Reference: False, via: name)\n"
     ]
    },
    {
     "name": "stderr",
     "output_type": "stream",
     "text": [
      " 61%|██████    | 448/736 [00:47<00:27, 10.54it/s]"
     ]
    },
    {
     "name": "stdout",
     "output_type": "stream",
     "text": [
      "✅ Sinorhizobium fredii HH103 → Proteome ID: UP000007735 (Reference: False, via: name)\n",
      "✅ Plasmodium cynomolgi strain B → Proteome ID: UP000006319 (Reference: False, via: name)\n",
      "✅ Actinomadura pelletieri DSM 43383 → Proteome ID: UP000274601 (Reference: False, via: name)\n"
     ]
    },
    {
     "name": "stderr",
     "output_type": "stream",
     "text": [
      " 61%|██████    | 450/736 [00:47<00:27, 10.44it/s]"
     ]
    },
    {
     "name": "stdout",
     "output_type": "stream",
     "text": [
      "✅ Parazoarcus communis SWub3 = DSM 12120 → Proteome ID: UP000248259 (Reference: False, via: name)\n",
      "✅ Caenimonas koreensis DSM 17982 → Proteome ID: UP000487350 (Reference: False, via: name)\n",
      "✅ Derxia gummosa DSM 723 → Proteome ID: UP000675920 (Reference: False, via: name)\n"
     ]
    },
    {
     "name": "stderr",
     "output_type": "stream",
     "text": [
      " 62%|██████▏   | 454/736 [00:47<00:26, 10.50it/s]"
     ]
    },
    {
     "name": "stdout",
     "output_type": "stream",
     "text": [
      "✅ Flavilitoribacter nigricans DSM 23189 = NBRC 102662 → Proteome ID: UP000223913 (Reference: False, via: name)\n",
      "✅ Falsiroseomonas stagni DSM 19981 → Proteome ID: UP000199473 (Reference: False, via: name)\n",
      "✅ Sphingomonas sanxanigenens DSM 19645 = NX02 → Proteome ID: UP000018851 (Reference: False, via: name)\n"
     ]
    },
    {
     "name": "stderr",
     "output_type": "stream",
     "text": [
      " 62%|██████▏   | 456/736 [00:47<00:26, 10.54it/s]"
     ]
    },
    {
     "name": "stdout",
     "output_type": "stream",
     "text": [
      "✅ Thauera linaloolentis 47Lol = DSM 12138 → Proteome ID: UP000013232 (Reference: False, via: name)\n",
      "✅ Pseudomonas protegens CHA0 → Proteome ID: UP001256598 (Reference: False, via: name)\n",
      "✅ Amycolatopsis alba DSM 44262 → Proteome ID: UP000215563 (Reference: False, via: name)\n"
     ]
    },
    {
     "name": "stderr",
     "output_type": "stream",
     "text": [
      " 62%|██████▎   | 460/736 [00:48<00:26, 10.56it/s]"
     ]
    },
    {
     "name": "stdout",
     "output_type": "stream",
     "text": [
      "✅ Macrophomina phaseolina MS6 → Proteome ID: UP000007129 (Reference: False, via: name)\n",
      "✅ Cupriavidus basilensis OR16 → Proteome ID: UP000005808 (Reference: False, via: name)\n",
      "✅ Fistulina hepatica ATCC 64428 → Proteome ID: UP000054144 (Reference: False, via: name)\n"
     ]
    },
    {
     "name": "stderr",
     "output_type": "stream",
     "text": [
      " 63%|██████▎   | 462/736 [00:48<00:26, 10.46it/s]"
     ]
    },
    {
     "name": "stdout",
     "output_type": "stream",
     "text": [
      "✅ Rhodococcus opacus M213 → Proteome ID: UP000005951 (Reference: False, via: name)\n",
      "✅ Toxoplasma gondii GAB2-2007-GAL-DOM2 → Proteome ID: UP000028837 (Reference: False, via: name)\n",
      "✅ Toxoplasma gondii TgCatPRC2 → Proteome ID: UP000075225 (Reference: False, via: name)\n"
     ]
    },
    {
     "name": "stderr",
     "output_type": "stream",
     "text": [
      " 63%|██████▎   | 466/736 [00:48<00:25, 10.44it/s]"
     ]
    },
    {
     "name": "stdout",
     "output_type": "stream",
     "text": [
      "✅ Rhodotorula toruloides NP11 → Proteome ID: UP000016926 (Reference: False, via: name)\n",
      "✅ Nocardia brasiliensis ATCC 700358 → Proteome ID: UP000006304 (Reference: False, via: name)\n",
      "✅ Pleurotus ostreatus PC15 → Proteome ID: UP000027073 (Reference: False, via: name)\n"
     ]
    },
    {
     "name": "stderr",
     "output_type": "stream",
     "text": [
      " 64%|██████▎   | 468/736 [00:48<00:24, 10.87it/s]"
     ]
    },
    {
     "name": "stdout",
     "output_type": "stream",
     "text": [
      "✅ Aspergillus luchuensis CBS 106.47 → Proteome ID: UP000184063 (Reference: False, via: name)\n",
      "✅ Pyricularia oryzae Y34 → Proteome ID: UP000011086 (Reference: False, via: name)\n"
     ]
    },
    {
     "name": "stderr",
     "output_type": "stream",
     "text": [
      " 64%|██████▍   | 470/736 [00:49<00:36,  7.21it/s]"
     ]
    },
    {
     "name": "stdout",
     "output_type": "stream",
     "text": [
      "❌ No proteome found for: Pyricularia oryzae P131 (Taxon ID: 1143193)\n",
      "✅ Corallococcus coralloides DSM 2259 → Proteome ID: UP000007587 (Reference: False, via: name)\n",
      "✅ Pseudomonas mandelii JR-1 → Proteome ID: UP000026913 (Reference: False, via: name)\n"
     ]
    },
    {
     "name": "stderr",
     "output_type": "stream",
     "text": [
      " 64%|██████▍   | 474/736 [00:49<00:29,  8.93it/s]"
     ]
    },
    {
     "name": "stdout",
     "output_type": "stream",
     "text": [
      "✅ Hyaloscypha variabilis F → Proteome ID: UP000235786 (Reference: False, via: name)\n",
      "✅ Didymella exigua CBS 183.55 → Proteome ID: UP000800082 (Reference: False, via: name)\n",
      "✅ Micromonospora lupini str. Lupac 08 → Proteome ID: UP000003448 (Reference: False, via: name)\n"
     ]
    },
    {
     "name": "stderr",
     "output_type": "stream",
     "text": [
      " 65%|██████▍   | 476/736 [00:50<00:32,  8.11it/s]"
     ]
    },
    {
     "name": "stdout",
     "output_type": "stream",
     "text": [
      "✅ Moesziomyces antarcticus T-34 → Proteome ID: UP000011976 (Reference: False, via: taxid)\n",
      "✅ Saprolegnia diclina VS20 → Proteome ID: UP000030762 (Reference: False, via: name)\n",
      "✅ Hortaea werneckii EXF-2000 → Proteome ID: UP000194280 (Reference: False, via: name)\n"
     ]
    },
    {
     "name": "stderr",
     "output_type": "stream",
     "text": [
      " 65%|██████▌   | 480/736 [00:50<00:28,  9.05it/s]"
     ]
    },
    {
     "name": "stdout",
     "output_type": "stream",
     "text": [
      "✅ Aspergillus glaucus CBS 516.65 → Proteome ID: UP000184300 (Reference: False, via: name)\n",
      "✅ Aspergillus oryzae 3.042 → Proteome ID: UP000002812 (Reference: False, via: name)\n",
      "✅ Ascobolus immersus RN42 → Proteome ID: UP000275078 (Reference: False, via: name)\n"
     ]
    },
    {
     "name": "stderr",
     "output_type": "stream",
     "text": [
      " 65%|██████▌   | 481/736 [00:50<00:27,  9.23it/s]"
     ]
    },
    {
     "name": "stdout",
     "output_type": "stream",
     "text": [
      "✅ Streptomyces viridochromogenes Tue57 → Proteome ID: UP000011205 (Reference: False, via: name)\n",
      "✅ Streptomyces auratus AGR0001 → Proteome ID: UP000009036 (Reference: False, via: name)\n",
      "✅ Tolypocladium ophioglossoides CBS 100239 → Proteome ID: UP000036947 (Reference: False, via: name)\n"
     ]
    },
    {
     "name": "stderr",
     "output_type": "stream",
     "text": [
      " 66%|██████▌   | 485/736 [00:50<00:26,  9.64it/s]"
     ]
    },
    {
     "name": "stdout",
     "output_type": "stream",
     "text": [
      "✅ Puccinia striiformis f. sp. tritici PST-78 → Proteome ID: UP000054564 (Reference: False, via: name)\n",
      "✅ Coniosporium apollinis CBS 100218 → Proteome ID: UP000016924 (Reference: False, via: name)\n"
     ]
    },
    {
     "name": "stderr",
     "output_type": "stream",
     "text": [
      " 66%|██████▌   | 487/736 [00:51<00:25,  9.96it/s]"
     ]
    },
    {
     "name": "stdout",
     "output_type": "stream",
     "text": [
      "✅ Cucurbitaria berberidis CBS 394.84 → Proteome ID: UP000800039 (Reference: False, via: name)\n",
      "✅ Lentithecium fluviatile CBS 122367 → Proteome ID: UP000799291 (Reference: False, via: name)\n",
      "✅ Myriangium duriaei CBS 260.36 → Proteome ID: UP000799439 (Reference: False, via: name)\n"
     ]
    },
    {
     "name": "stderr",
     "output_type": "stream",
     "text": [
      " 67%|██████▋   | 490/736 [00:51<00:27,  8.96it/s]"
     ]
    },
    {
     "name": "stdout",
     "output_type": "stream",
     "text": [
      "❌ No proteome found for: Chromera velia CCMP2878 (Taxon ID: 1169474)\n",
      "✅ Vitrella brassicaformis CCMP3155 → Proteome ID: UP000041254 (Reference: False, via: name)\n",
      "✅ Penicillium digitatum PHI26 → Proteome ID: UP000009882 (Reference: False, via: name)\n"
     ]
    },
    {
     "name": "stderr",
     "output_type": "stream",
     "text": [
      " 67%|██████▋   | 494/736 [00:51<00:24,  9.86it/s]"
     ]
    },
    {
     "name": "stdout",
     "output_type": "stream",
     "text": [
      "✅ Penicillium digitatum Pd1 → Proteome ID: UP000009886 (Reference: False, via: name)\n",
      "✅ Streptomyces globisporus C-1027 → Proteome ID: UP000064183 (Reference: False, via: name)\n",
      "✅ Aplosporella prunicola CBS 121167 → Proteome ID: UP000799438 (Reference: False, via: name)\n"
     ]
    },
    {
     "name": "stderr",
     "output_type": "stream",
     "text": [
      " 67%|██████▋   | 496/736 [00:52<00:23, 10.29it/s]"
     ]
    },
    {
     "name": "stdout",
     "output_type": "stream",
     "text": [
      "✅ Aulographum hederae CBS 113979 → Proteome ID: UP000800041 (Reference: False, via: name)\n",
      "✅ Saccharothrix espanaensis DSM 44229 → Proteome ID: UP000006281 (Reference: False, via: name)\n",
      "✅ Capronia coronata CBS 617.96 → Proteome ID: UP000019484 (Reference: False, via: name)\n"
     ]
    },
    {
     "name": "stderr",
     "output_type": "stream",
     "text": [
      " 68%|██████▊   | 500/736 [00:52<00:22, 10.41it/s]"
     ]
    },
    {
     "name": "stdout",
     "output_type": "stream",
     "text": [
      "✅ Capronia epimyces CBS 606.96 → Proteome ID: UP000019478 (Reference: False, via: name)\n",
      "✅ Cladophialophora psammophila CBS 110553 → Proteome ID: UP000019471 (Reference: False, via: name)\n",
      "✅ Cladophialophora yegresii CBS 114405 → Proteome ID: UP000019473 (Reference: False, via: name)\n"
     ]
    },
    {
     "name": "stderr",
     "output_type": "stream",
     "text": [
      " 68%|██████▊   | 502/736 [00:52<00:22, 10.45it/s]"
     ]
    },
    {
     "name": "stdout",
     "output_type": "stream",
     "text": [
      "✅ Exophiala aquamarina CBS 119918 → Proteome ID: UP000027920 (Reference: False, via: name)\n",
      "✅ Agrobacterium tomkonis CFBP 6623 → Proteome ID: UP000191988 (Reference: False, via: name)\n",
      "✅ Sinorhizobium fredii USDA 257 → Proteome ID: UP000006180 (Reference: False, via: name)\n"
     ]
    },
    {
     "name": "stderr",
     "output_type": "stream",
     "text": [
      " 69%|██████▉   | 506/736 [00:53<00:22, 10.42it/s]"
     ]
    },
    {
     "name": "stdout",
     "output_type": "stream",
     "text": [
      "✅ Fibrisoma limi BUZ 3 → Proteome ID: UP000009309 (Reference: False, via: name)\n",
      "✅ Trichosporon asahii var. asahii CBS 2479 → Proteome ID: UP000002748 (Reference: False, via: name)\n",
      "✅ Corallococcus macrosporus DSM 14697 → Proteome ID: UP000217343 (Reference: False, via: name)\n"
     ]
    },
    {
     "name": "stderr",
     "output_type": "stream",
     "text": [
      " 69%|██████▉   | 508/736 [00:53<00:22, 10.34it/s]"
     ]
    },
    {
     "name": "stdout",
     "output_type": "stream",
     "text": [
      "✅ Chondromyces apiculatus DSM 436 → Proteome ID: UP000019678 (Reference: False, via: name)\n",
      "✅ Granulosicoccus antarcticus IMCC3135 → Proteome ID: UP000250079 (Reference: False, via: name)\n",
      "✅ Streptomyces lividans 1326 → Proteome ID: UP000014062 (Reference: False, via: name)\n"
     ]
    },
    {
     "name": "stderr",
     "output_type": "stream",
     "text": [
      " 69%|██████▉   | 510/736 [00:53<00:21, 10.58it/s]"
     ]
    },
    {
     "name": "stdout",
     "output_type": "stream",
     "text": [
      "✅ Wickerhamomyces ciferrii NRRL Y-1031 → Proteome ID: UP000009328 (Reference: False, via: name)\n",
      "✅ Nocardia ninae NBRC 108245 → Proteome ID: UP000321424 (Reference: False, via: name)\n"
     ]
    },
    {
     "name": "stderr",
     "output_type": "stream",
     "text": [
      " 70%|██████▉   | 514/736 [00:53<00:21, 10.32it/s]"
     ]
    },
    {
     "name": "stdout",
     "output_type": "stream",
     "text": [
      "✅ Colletotrichum orbiculare MAFF 240422 → Proteome ID: UP000014480 (Reference: False, via: name)\n",
      "✅ Colletotrichum fructicola Nara gc5 → Proteome ID: UP000011096 (Reference: False, via: name)\n",
      "✅ Streptomyces davaonensis JCM 4913 → Proteome ID: UP000008043 (Reference: False, via: name)\n"
     ]
    },
    {
     "name": "stderr",
     "output_type": "stream",
     "text": [
      " 70%|███████   | 516/736 [00:54<00:23,  9.17it/s]"
     ]
    },
    {
     "name": "stdout",
     "output_type": "stream",
     "text": [
      "✅ Streptomyces collinus Tu 365 → Proteome ID: UP000015423 (Reference: False, via: taxid)\n",
      "✅ Trichophyton rubrum CBS 288.86 → Proteome ID: UP000023758 (Reference: False, via: name)\n",
      "✅ Trichophyton soudanense CBS 452.61 → Proteome ID: UP000023623 (Reference: False, via: name)\n"
     ]
    },
    {
     "name": "stderr",
     "output_type": "stream",
     "text": [
      " 70%|███████   | 518/736 [00:54<00:23,  9.44it/s]"
     ]
    },
    {
     "name": "stdout",
     "output_type": "stream",
     "text": [
      "✅ Trichophyton interdigitale MR816 → Proteome ID: UP000024533 (Reference: False, via: name)\n",
      "✅ Rhodococcus wratislaviensis NBRC 100605 → Proteome ID: UP000019491 (Reference: False, via: name)\n",
      "✅ Trichosporon asahii var. asahii CBS 8904 → Proteome ID: UP000006757 (Reference: False, via: name)\n"
     ]
    },
    {
     "name": "stderr",
     "output_type": "stream",
     "text": [
      " 71%|███████   | 522/736 [00:54<00:21, 10.15it/s]"
     ]
    },
    {
     "name": "stdout",
     "output_type": "stream",
     "text": [
      "✅ Rhizobium rhizogenes NBRC 13257 → Proteome ID: UP000026941 (Reference: False, via: name)\n",
      "✅ Cyphellophora europaea CBS 101466 → Proteome ID: UP000030752 (Reference: False, via: name)\n",
      "✅ Mucor circinelloides 1006PhL → Proteome ID: UP000014254 (Reference: False, via: name)\n"
     ]
    },
    {
     "name": "stderr",
     "output_type": "stream",
     "text": [
      " 71%|███████▏  | 526/736 [00:55<00:20, 10.24it/s]"
     ]
    },
    {
     "name": "stdout",
     "output_type": "stream",
     "text": [
      "✅ Pseudomonas fluorescens NCIMB 11764 → Proteome ID: UP000017175 (Reference: False, via: name)\n",
      "✅ Streptomyces mobaraensis NBRC 13819 = DSM 40847 → Proteome ID: UP000011740 (Reference: False, via: name)\n",
      "✅ Fusarium proliferatum ET1 → Proteome ID: UP000183971 (Reference: False, via: name)\n"
     ]
    },
    {
     "name": "stderr",
     "output_type": "stream",
     "text": [
      " 72%|███████▏  | 528/736 [00:55<00:20, 10.30it/s]"
     ]
    },
    {
     "name": "stdout",
     "output_type": "stream",
     "text": [
      "✅ Paraburkholderia phenoliruptrix BR3459a → Proteome ID: UP000010105 (Reference: False, via: name)\n",
      "✅ Pestalotiopsis fici W106-1 → Proteome ID: UP000030651 (Reference: False, via: name)\n",
      "✅ Fusarium oxysporum f. sp. cubense race 1 → Proteome ID: UP000016928 (Reference: False, via: name)\n"
     ]
    },
    {
     "name": "stderr",
     "output_type": "stream",
     "text": [
      " 72%|███████▏  | 532/736 [00:55<00:19, 10.42it/s]"
     ]
    },
    {
     "name": "stdout",
     "output_type": "stream",
     "text": [
      "✅ Cryptococcus neoformans var. grubii Tu259-1 → Proteome ID: UP000199727 (Reference: False, via: name)\n",
      "✅ Thauera aminoaromatica S2 → Proteome ID: UP000013042 (Reference: False, via: name)\n",
      "✅ Thauera phenylacetica B4P → Proteome ID: UP000013047 (Reference: False, via: name)\n"
     ]
    },
    {
     "name": "stderr",
     "output_type": "stream",
     "text": [
      " 73%|███████▎  | 534/736 [00:55<00:19, 10.49it/s]"
     ]
    },
    {
     "name": "stdout",
     "output_type": "stream",
     "text": [
      "✅ Herbaspirillum rubrisubalbicans Os34 → Proteome ID: UP000501648 (Reference: False, via: name)\n",
      "✅ Plasmodium inui San Antonio 1 → Proteome ID: UP000030640 (Reference: False, via: name)\n",
      "✅ Colletotrichum gloeosporioides Cg-14 → Proteome ID: UP000015530 (Reference: False, via: name)\n"
     ]
    },
    {
     "name": "stderr",
     "output_type": "stream",
     "text": [
      " 73%|███████▎  | 538/736 [00:56<00:18, 10.57it/s]"
     ]
    },
    {
     "name": "stdout",
     "output_type": "stream",
     "text": [
      "✅ Amycolatopsis azurea DSM 43854 → Proteome ID: UP000014137 (Reference: False, via: name)\n",
      "✅ Streptomyces natalensis ATCC 27448 → Proteome ID: UP000032458 (Reference: False, via: name)\n",
      "✅ Cystobacter fuscus DSM 2262 → Proteome ID: UP000011682 (Reference: False, via: name)\n"
     ]
    },
    {
     "name": "stderr",
     "output_type": "stream",
     "text": [
      " 73%|███████▎  | 540/736 [00:56<00:18, 10.77it/s]"
     ]
    },
    {
     "name": "stdout",
     "output_type": "stream",
     "text": [
      "✅ Bradyrhizobium oligotrophicum S58 → Proteome ID: UP000011841 (Reference: False, via: name)\n",
      "✅ Metapseudomonas resinovorans NBRC 106553 → Proteome ID: UP000015503 (Reference: False, via: name)\n",
      "✅ Beauveria bassiana D1-5 → Proteome ID: UP000030106 (Reference: False, via: name)\n"
     ]
    },
    {
     "name": "stderr",
     "output_type": "stream",
     "text": [
      " 74%|███████▎  | 542/736 [00:56<00:18, 10.72it/s]"
     ]
    },
    {
     "name": "stdout",
     "output_type": "stream",
     "text": [
      "✅ Variovorax paradoxus B4 → Proteome ID: UP000016223 (Reference: False, via: name)\n",
      "✅ Actinoplanes friuliensis DSM 7358 → Proteome ID: UP000017746 (Reference: False, via: name)\n",
      "✅ Emmonsia crescens UAMH 3008 → Proteome ID: UP000034164 (Reference: False, via: name)\n"
     ]
    },
    {
     "name": "stderr",
     "output_type": "stream",
     "text": [
      " 74%|███████▍  | 544/736 [00:56<00:18, 10.56it/s]"
     ]
    },
    {
     "name": "stdout",
     "output_type": "stream",
     "text": [
      "✅ Sorangium cellulosum So0157-2 → Proteome ID: UP000014803 (Reference: False, via: name)\n",
      "✅ Acanthamoeba castellanii str. Neff → Proteome ID: UP000011083 (Reference: False, via: taxid)\n"
     ]
    },
    {
     "name": "stderr",
     "output_type": "stream",
     "text": [
      " 74%|███████▍  | 548/736 [00:57<00:22,  8.25it/s]"
     ]
    },
    {
     "name": "stdout",
     "output_type": "stream",
     "text": [
      "✅ Ophiostoma piceae UAMH 11346 → Proteome ID: UP000016923 (Reference: False, via: name)\n",
      "✅ Lichtheimia corymbifera JMRC:FSU:9682 → Proteome ID: UP000027586 (Reference: False, via: taxid)\n"
     ]
    },
    {
     "name": "stderr",
     "output_type": "stream",
     "text": [
      " 75%|███████▍  | 550/736 [00:57<00:20,  8.97it/s]"
     ]
    },
    {
     "name": "stdout",
     "output_type": "stream",
     "text": [
      "✅ Endocarpon pusillum Z07020 → Proteome ID: UP000019373 (Reference: False, via: name)\n",
      "✅ Ralstonia pickettii OR214 → Proteome ID: UP000013280 (Reference: False, via: name)\n",
      "✅ Rhodopirellula maiorica SM1 → Proteome ID: UP000011991 (Reference: False, via: name)\n"
     ]
    },
    {
     "name": "stderr",
     "output_type": "stream",
     "text": [
      " 75%|███████▌  | 553/736 [00:57<00:19,  9.30it/s]"
     ]
    },
    {
     "name": "stdout",
     "output_type": "stream",
     "text": [
      "✅ Streptomyces rimosus subsp. rimosus ATCC 10970 → Proteome ID: UP000011074 (Reference: False, via: name)\n",
      "✅ Blumeria graminis f. sp. tritici 96224 → Proteome ID: UP000053110 (Reference: False, via: name)\n",
      "✅ Metarhizium guizhouense ARSEF 977 → Proteome ID: UP000031192 (Reference: False, via: name)\n"
     ]
    },
    {
     "name": "stderr",
     "output_type": "stream",
     "text": [
      " 76%|███████▌  | 556/736 [00:58<00:18,  9.62it/s]"
     ]
    },
    {
     "name": "stdout",
     "output_type": "stream",
     "text": [
      "✅ Zymoseptoria tritici ST99CH_1A5 → Proteome ID: UP000215453 (Reference: False, via: name)\n",
      "✅ Zymoseptoria tritici ST99CH_1E4 → Proteome ID: UP000245764 (Reference: False, via: name)\n",
      "✅ Zymoseptoria tritici ST99CH_3D7 → Proteome ID: UP000215127 (Reference: False, via: name)\n"
     ]
    },
    {
     "name": "stderr",
     "output_type": "stream",
     "text": [
      " 76%|███████▌  | 560/736 [00:58<00:17, 10.19it/s]"
     ]
    },
    {
     "name": "stdout",
     "output_type": "stream",
     "text": [
      "✅ Pseudozyma flocculosa PF-1 → Proteome ID: UP000053664 (Reference: False, via: name)\n",
      "✅ Myxococcus stipitatus DSM 14675 → Proteome ID: UP000011131 (Reference: False, via: name)\n",
      "✅ Cladophialophora carrionii CBS 160.54 → Proteome ID: UP000030678 (Reference: False, via: name)\n"
     ]
    },
    {
     "name": "stderr",
     "output_type": "stream",
     "text": [
      " 76%|███████▋  | 562/736 [00:58<00:17, 10.04it/s]"
     ]
    },
    {
     "name": "stdout",
     "output_type": "stream",
     "text": [
      "✅ Fusarium fujikuroi IMI 58289 → Proteome ID: UP000016800 (Reference: False, via: name)\n",
      "✅ Stachybotrys chartarum IBT 7711 → Proteome ID: UP000028045 (Reference: False, via: name)\n"
     ]
    },
    {
     "name": "stderr",
     "output_type": "stream",
     "text": [
      " 77%|███████▋  | 564/736 [00:58<00:16, 10.19it/s]"
     ]
    },
    {
     "name": "stdout",
     "output_type": "stream",
     "text": [
      "✅ Hydrogenophaga taeniospiralis CCUG 15921 → Proteome ID: UP001152876 (Reference: False, via: name)\n",
      "✅ Streptomyces afghaniensis 772 → Proteome ID: UP000015001 (Reference: False, via: name)\n",
      "✅ Stachybotrys chlorohalonatus IBT 40285 → Proteome ID: UP000028524 (Reference: False, via: name)\n"
     ]
    },
    {
     "name": "stderr",
     "output_type": "stream",
     "text": [
      " 77%|███████▋  | 568/736 [00:59<00:15, 10.62it/s]"
     ]
    },
    {
     "name": "stdout",
     "output_type": "stream",
     "text": [
      "✅ Dactylellina haptotyla CBS 200.50 → Proteome ID: UP000015100 (Reference: False, via: name)\n",
      "✅ Amycolatopsis decaplanina DSM 44594 → Proteome ID: UP000054226 (Reference: False, via: name)\n",
      "✅ Phytophthora kernoviae 00238/432 → Proteome ID: UP000702964 (Reference: False, via: name)\n"
     ]
    },
    {
     "name": "stderr",
     "output_type": "stream",
     "text": [
      " 77%|███████▋  | 570/736 [00:59<00:16, 10.12it/s]"
     ]
    },
    {
     "name": "stdout",
     "output_type": "stream",
     "text": [
      "✅ Streptomyces aurantiacus JA 4570 → Proteome ID: UP000014629 (Reference: False, via: name)\n",
      "✅ Sphaerotilus natans subsp. natans DSM 6575 → Proteome ID: UP000026714 (Reference: False, via: name)\n"
     ]
    },
    {
     "name": "stderr",
     "output_type": "stream",
     "text": [
      " 78%|███████▊  | 572/736 [00:59<00:20,  8.00it/s]"
     ]
    },
    {
     "name": "stdout",
     "output_type": "stream",
     "text": [
      "✅ Phaeoacremonium minimum UCRPA7 → Proteome ID: UP000014074 (Reference: False, via: taxid)\n",
      "✅ Neofusicoccum parvum UCRNP2 → Proteome ID: UP000013521 (Reference: False, via: taxid)\n"
     ]
    },
    {
     "name": "stderr",
     "output_type": "stream",
     "text": [
      " 78%|███████▊  | 575/736 [01:00<00:19,  8.36it/s]"
     ]
    },
    {
     "name": "stdout",
     "output_type": "stream",
     "text": [
      "✅ Eutypa lata UCREL1 → Proteome ID: UP000012174 (Reference: False, via: taxid)\n",
      "✅ Botrytis cinerea BcDW1 → Proteome ID: UP000012045 (Reference: False, via: name)\n",
      "✅ Metarhizium anisopliae BRIP 53293 → Proteome ID: UP000054544 (Reference: False, via: name)\n"
     ]
    },
    {
     "name": "stderr",
     "output_type": "stream",
     "text": [
      " 78%|███████▊  | 577/736 [01:00<00:17,  8.84it/s]"
     ]
    },
    {
     "name": "stdout",
     "output_type": "stream",
     "text": [
      "✅ Amycolatopsis vancoresmycina DSM 44592 → Proteome ID: UP000014139 (Reference: False, via: name)\n",
      "✅ Melittangium boletus DSM 14713 → Proteome ID: UP000217289 (Reference: False, via: name)\n",
      "✅ Pseudomonas veronii 1YdBTEX2 → Proteome ID: UP000245431 (Reference: False, via: name)\n"
     ]
    },
    {
     "name": "stderr",
     "output_type": "stream",
     "text": [
      " 79%|███████▊  | 579/736 [01:00<00:16,  9.56it/s]"
     ]
    },
    {
     "name": "stdout",
     "output_type": "stream",
     "text": [
      "✅ Cryptococcus wingfieldii CBS 7118 → Proteome ID: UP000094819 (Reference: False, via: name)\n",
      "✅ Cryptococcus depauperatus CBS 7841 → Proteome ID: UP000094043 (Reference: False, via: name)\n",
      "✅ Cryptococcus amylolentus CBS 6039 → Proteome ID: UP000094065 (Reference: False, via: name)\n"
     ]
    },
    {
     "name": "stderr",
     "output_type": "stream",
     "text": [
      " 79%|███████▉  | 583/736 [01:00<00:15, 10.19it/s]"
     ]
    },
    {
     "name": "stdout",
     "output_type": "stream",
     "text": [
      "✅ Kwoniella dendrophila CBS 6074 → Proteome ID: UP001355207 (Reference: False, via: name)\n",
      "✅ Kwoniella pini CBS 10737 → Proteome ID: UP000094020 (Reference: False, via: name)\n",
      "✅ Kwoniella bestiolae CBS 10118 → Proteome ID: UP000092730 (Reference: False, via: name)\n"
     ]
    },
    {
     "name": "stderr",
     "output_type": "stream",
     "text": [
      " 80%|███████▉  | 586/736 [01:01<00:16,  8.91it/s]"
     ]
    },
    {
     "name": "stdout",
     "output_type": "stream",
     "text": [
      "❌ No proteome found for: Cryptococcus bacillisporus CA1280 (Taxon ID: 1296109)\n",
      "✅ Cryptococcus deuterogattii Ram5 → Proteome ID: UP000053392 (Reference: False, via: name)\n",
      "✅ Cryptococcus amylolentus CBS 6273 → Proteome ID: UP000095149 (Reference: False, via: name)\n"
     ]
    },
    {
     "name": "stderr",
     "output_type": "stream",
     "text": [
      " 80%|███████▉  | 588/736 [01:01<00:15,  9.35it/s]"
     ]
    },
    {
     "name": "stdout",
     "output_type": "stream",
     "text": [
      "✅ Kwoniella heveanensis BCC8398 → Proteome ID: UP000092666 (Reference: False, via: name)\n",
      "✅ Kwoniella dejecticola CBS 10117 → Proteome ID: UP000078595 (Reference: False, via: name)\n",
      "✅ Pyrenophora seminiperda CCB06 → Proteome ID: UP000265663 (Reference: False, via: name)\n"
     ]
    },
    {
     "name": "stderr",
     "output_type": "stream",
     "text": [
      " 80%|████████  | 591/736 [01:01<00:14,  9.74it/s]"
     ]
    },
    {
     "name": "stdout",
     "output_type": "stream",
     "text": [
      "✅ Rhodococcus qingshengii JCM 15477 → Proteome ID: UP000831484 (Reference: False, via: name)\n",
      "✅ Streptomyces microflavus DSM 40593 → Proteome ID: UP000013304 (Reference: False, via: name)\n"
     ]
    },
    {
     "name": "stderr",
     "output_type": "stream",
     "text": [
      " 81%|████████  | 593/736 [01:02<00:14,  9.59it/s]"
     ]
    },
    {
     "name": "stdout",
     "output_type": "stream",
     "text": [
      "✅ Pseudozyma hubeiensis SY62 → Proteome ID: UP000014071 (Reference: False, via: name)\n"
     ]
    },
    {
     "name": "stderr",
     "output_type": "stream",
     "text": [
      " 81%|████████  | 596/736 [01:02<00:17,  7.91it/s]"
     ]
    },
    {
     "name": "stdout",
     "output_type": "stream",
     "text": [
      "✅ Streptomyces naganishii JCM 4654 → Proteome ID: UP000608955 (Reference: False, via: name)\n",
      "✅ Streptomyces chrestomyceticus JCM 4735 → Proteome ID: UP000287830 (Reference: False, via: name)\n",
      "✅ Polychaeton citri CBS 116435 → Proteome ID: UP000799441 (Reference: False, via: name)\n"
     ]
    },
    {
     "name": "stderr",
     "output_type": "stream",
     "text": [
      " 81%|████████▏ | 598/736 [01:02<00:15,  8.69it/s]"
     ]
    },
    {
     "name": "stdout",
     "output_type": "stream",
     "text": [
      "✅ Lepidopterella palustris CBS 459.81 → Proteome ID: UP000250266 (Reference: False, via: name)\n",
      "✅ Cylindrobasidium torrendii FP15055 ss-10 → Proteome ID: UP000054007 (Reference: False, via: name)\n",
      "✅ Umbelopsis ramanniana AG → Proteome ID: UP001206595 (Reference: False, via: name)\n"
     ]
    },
    {
     "name": "stderr",
     "output_type": "stream",
     "text": [
      " 82%|████████▏ | 600/736 [01:02<00:14,  9.43it/s]"
     ]
    },
    {
     "name": "stdout",
     "output_type": "stream",
     "text": [
      "✅ Linnemannia elongata AG-77 → Proteome ID: UP000078512 (Reference: False, via: name)\n",
      "✅ Sodiomyces alkalinus F11 → Proteome ID: UP000272025 (Reference: False, via: name)\n",
      "✅ Sistotremastrum suecicum HHB10207 ss-3 → Proteome ID: UP000076798 (Reference: False, via: name)\n"
     ]
    },
    {
     "name": "stderr",
     "output_type": "stream",
     "text": [
      " 82%|████████▏ | 604/736 [01:03<00:13, 10.03it/s]"
     ]
    },
    {
     "name": "stdout",
     "output_type": "stream",
     "text": [
      "✅ Sistotremastrum niveocremeum HHB9708 → Proteome ID: UP000076722 (Reference: False, via: name)\n",
      "✅ Polyporus arcularius HHB13444 → Proteome ID: UP000308197 (Reference: False, via: name)\n",
      "✅ Zopfia rhizophila CBS 207.26 → Proteome ID: UP000800200 (Reference: False, via: name)\n"
     ]
    },
    {
     "name": "stderr",
     "output_type": "stream",
     "text": [
      " 82%|████████▏ | 606/736 [01:03<00:13,  9.91it/s]"
     ]
    },
    {
     "name": "stdout",
     "output_type": "stream",
     "text": [
      "✅ Piedraia hortae CBS 480.64 → Proteome ID: UP000799421 (Reference: False, via: name)\n",
      "✅ Exidia glandulosa HHB12029 → Proteome ID: UP000077266 (Reference: False, via: name)\n"
     ]
    },
    {
     "name": "stderr",
     "output_type": "stream",
     "text": [
      " 83%|████████▎ | 610/736 [01:03<00:13,  9.62it/s]"
     ]
    },
    {
     "name": "stdout",
     "output_type": "stream",
     "text": [
      "✅ Neolentinus lepideus HHB14362 ss-1 → Proteome ID: UP000076761 (Reference: False, via: name)\n",
      "✅ Daedalea quercina L-15889 → Proteome ID: UP000076727 (Reference: False, via: name)\n",
      "✅ Laetiporus sulphureus 93-53 → Proteome ID: UP000076871 (Reference: False, via: name)\n"
     ]
    },
    {
     "name": "stderr",
     "output_type": "stream",
     "text": [
      " 83%|████████▎ | 613/736 [01:04<00:12,  9.95it/s]"
     ]
    },
    {
     "name": "stdout",
     "output_type": "stream",
     "text": [
      "✅ Dissoconium aciculare CBS 342.82 → Proteome ID: UP000504637 (Reference: False, via: name)\n",
      "✅ Saccharata proteae CBS 121410 → Proteome ID: UP000799776 (Reference: False, via: name)\n",
      "✅ Lophiostoma macrostomum CBS 122681 → Proteome ID: UP000799324 (Reference: False, via: name)\n"
     ]
    },
    {
     "name": "stderr",
     "output_type": "stream",
     "text": [
      " 84%|████████▎ | 615/736 [01:04<00:12,  9.86it/s]"
     ]
    },
    {
     "name": "stdout",
     "output_type": "stream",
     "text": [
      "✅ Basidiobolus meristosporus CBS 931.73 → Proteome ID: UP000193498 (Reference: False, via: name)\n",
      "✅ Rhizopogon vinicolor AM-OR11-026 → Proteome ID: UP000092154 (Reference: False, via: name)\n"
     ]
    },
    {
     "name": "stderr",
     "output_type": "stream",
     "text": [
      " 84%|████████▍ | 618/736 [01:04<00:11, 10.24it/s]"
     ]
    },
    {
     "name": "stdout",
     "output_type": "stream",
     "text": [
      "✅ Pleomassaria siparia CBS 279.74 → Proteome ID: UP000799428 (Reference: False, via: name)\n",
      "✅ Melanomma pulvis-pyrius CBS 109.77 → Proteome ID: UP000799757 (Reference: False, via: name)\n",
      "✅ Dendrothele bispora CBS 962.96 → Proteome ID: UP000297245 (Reference: False, via: name)\n"
     ]
    },
    {
     "name": "stderr",
     "output_type": "stream",
     "text": [
      " 84%|████████▍ | 620/736 [01:04<00:11, 10.31it/s]"
     ]
    },
    {
     "name": "stdout",
     "output_type": "stream",
     "text": [
      "✅ Phytophthora nicotianae CJ01A1 → Proteome ID: UP000018958 (Reference: False, via: name)\n",
      "✅ Phytophthora nicotianae P10297 → Proteome ID: UP000018948 (Reference: False, via: name)\n",
      "✅ Phytophthora nicotianae P1569 → Proteome ID: UP000018721 (Reference: False, via: name)\n"
     ]
    },
    {
     "name": "stderr",
     "output_type": "stream",
     "text": [
      " 85%|████████▍ | 624/736 [01:05<00:10, 10.39it/s]"
     ]
    },
    {
     "name": "stdout",
     "output_type": "stream",
     "text": [
      "✅ Phytophthora nicotianae P1976 → Proteome ID: UP000028582 (Reference: False, via: name)\n",
      "✅ Streptomyces fradiae ATCC 10745 = DSM 40063 → Proteome ID: UP000194318 (Reference: False, via: name)\n",
      "✅ Paraburkholderia caribensis MBA4 → Proteome ID: UP000019146 (Reference: False, via: name)\n"
     ]
    },
    {
     "name": "stderr",
     "output_type": "stream",
     "text": [
      " 85%|████████▌ | 626/736 [01:05<00:10, 10.32it/s]"
     ]
    },
    {
     "name": "stdout",
     "output_type": "stream",
     "text": [
      "✅ Pseudomonas fluorescens LMG 5329 → Proteome ID: UP000030060 (Reference: False, via: name)\n",
      "✅ Boletus edulis BED1 → Proteome ID: UP001194468 (Reference: False, via: name)\n",
      "✅ Lentinus tigrinus ALCF2SS1-6 → Proteome ID: UP000313359 (Reference: False, via: name)\n"
     ]
    },
    {
     "name": "stderr",
     "output_type": "stream",
     "text": [
      " 85%|████████▌ | 628/736 [01:05<00:10, 10.56it/s]"
     ]
    },
    {
     "name": "stdout",
     "output_type": "stream",
     "text": [
      "✅ Xylona heveae TC161 → Proteome ID: UP000076632 (Reference: False, via: name)\n",
      "✅ Calocera viscosa TUFC12733 → Proteome ID: UP000076738 (Reference: False, via: name)\n"
     ]
    },
    {
     "name": "stderr",
     "output_type": "stream",
     "text": [
      " 86%|████████▌ | 632/736 [01:06<00:10, 10.24it/s]"
     ]
    },
    {
     "name": "stdout",
     "output_type": "stream",
     "text": [
      "✅ Ophiocordyceps polyrhachis-furcata BCC 54312 → Proteome ID: UP000253664 (Reference: False, via: name)\n",
      "✅ Kwoniella mangroviensis CBS 10435 → Proteome ID: UP000092583 (Reference: False, via: name)\n",
      "✅ Streptomyces sparsogenes DSM 40356 → Proteome ID: UP000186168 (Reference: False, via: name)\n"
     ]
    },
    {
     "name": "stderr",
     "output_type": "stream",
     "text": [
      " 86%|████████▌ | 634/736 [01:06<00:09, 10.44it/s]"
     ]
    },
    {
     "name": "stdout",
     "output_type": "stream",
     "text": [
      "✅ Choiromyces venosus 120613-1 → Proteome ID: UP000276215 (Reference: False, via: name)\n",
      "✅ Sporormia fimetaria CBS 119925 → Proteome ID: UP000799440 (Reference: False, via: name)\n",
      "✅ Rhizopus microsporus ATCC 52813 → Proteome ID: UP000242254 (Reference: False, via: name)\n"
     ]
    },
    {
     "name": "stderr",
     "output_type": "stream",
     "text": [
      " 86%|████████▋ | 636/736 [01:06<00:09, 10.43it/s]"
     ]
    },
    {
     "name": "stdout",
     "output_type": "stream",
     "text": [
      "✅ Streptomyces rapamycinicus NRRL 5491 → Proteome ID: UP000281594 (Reference: False, via: name)\n",
      "✅ Trichoderma reesei RUT C-30 → Proteome ID: UP000024376 (Reference: False, via: name)\n",
      "✅ Gonapodya prolifera JEL478 → Proteome ID: UP000070544 (Reference: False, via: name)\n"
     ]
    },
    {
     "name": "stderr",
     "output_type": "stream",
     "text": [
      " 87%|████████▋ | 640/736 [01:06<00:09, 10.47it/s]"
     ]
    },
    {
     "name": "stdout",
     "output_type": "stream",
     "text": [
      "✅ Patellaria atrata CBS 101060 → Proteome ID: UP000799429 (Reference: False, via: name)\n",
      "✅ Thauera terpenica 58Eu → Proteome ID: UP000015455 (Reference: False, via: name)\n",
      "✅ Kitasatospora cheerisanensis KCTC 2395 → Proteome ID: UP000027178 (Reference: False, via: name)\n"
     ]
    },
    {
     "name": "stderr",
     "output_type": "stream",
     "text": [
      " 88%|████████▊ | 644/736 [01:07<00:08, 10.49it/s]"
     ]
    },
    {
     "name": "stdout",
     "output_type": "stream",
     "text": [
      "✅ Janthinobacterium agaricidamnosum NBRC 102515 = DSM 9628 → Proteome ID: UP000027604 (Reference: False, via: name)\n",
      "✅ Streptomyces roseochromogenus subsp. oscitans DS 12.976 → Proteome ID: UP000017984 (Reference: False, via: name)\n",
      "✅ Aspergillus phoenicis ATCC 13157 → Proteome ID: UP000254937 (Reference: False, via: name)\n"
     ]
    },
    {
     "name": "stderr",
     "output_type": "stream",
     "text": [
      " 88%|████████▊ | 646/736 [01:07<00:08, 10.41it/s]"
     ]
    },
    {
     "name": "stdout",
     "output_type": "stream",
     "text": [
      "✅ Aspergillus niger ATCC 13496 → Proteome ID: UP000253845 (Reference: False, via: name)\n",
      "✅ Trametes coccinea BRFM310 → Proteome ID: UP000193067 (Reference: False, via: name)\n",
      "✅ Calocera cornea HHB12733 → Proteome ID: UP000076842 (Reference: False, via: name)\n"
     ]
    },
    {
     "name": "stderr",
     "output_type": "stream",
     "text": [
      " 88%|████████▊ | 648/736 [01:07<00:08, 10.49it/s]"
     ]
    },
    {
     "name": "stdout",
     "output_type": "stream",
     "text": [
      "✅ Paecilomyces variotii No. 5 → Proteome ID: UP000018001 (Reference: False, via: name)\n",
      "✅ Penicillium roqueforti FM164 → Proteome ID: UP000030686 (Reference: False, via: name)\n"
     ]
    },
    {
     "name": "stderr",
     "output_type": "stream",
     "text": [
      " 89%|████████▊ | 652/736 [01:08<00:08, 10.38it/s]"
     ]
    },
    {
     "name": "stdout",
     "output_type": "stream",
     "text": [
      "✅ Kalmanozyma brasiliensis GHG001 → Proteome ID: UP000019377 (Reference: False, via: name)\n",
      "✅ Pochonia chlamydosporia 170 → Proteome ID: UP000078397 (Reference: False, via: name)\n",
      "✅ Moniliophthora roreri MCA 2997 → Proteome ID: UP000017559 (Reference: False, via: name)\n"
     ]
    },
    {
     "name": "stderr",
     "output_type": "stream",
     "text": [
      " 89%|████████▉ | 654/736 [01:08<00:07, 10.45it/s]"
     ]
    },
    {
     "name": "stdout",
     "output_type": "stream",
     "text": [
      "✅ Kuraishia capsulata CBS 1993 → Proteome ID: UP000019384 (Reference: False, via: name)\n",
      "✅ Skermanella stibiiresistens SB22 → Proteome ID: UP000019486 (Reference: False, via: name)\n",
      "✅ Aspergillus ruber CBS 135680 → Proteome ID: UP000019804 (Reference: False, via: name)\n"
     ]
    },
    {
     "name": "stderr",
     "output_type": "stream",
     "text": [
      " 89%|████████▉ | 658/736 [01:08<00:07, 10.50it/s]"
     ]
    },
    {
     "name": "stdout",
     "output_type": "stream",
     "text": [
      "✅ Austropuccinia psidii MF-1 → Proteome ID: UP000765509 (Reference: False, via: name)\n",
      "✅ Sporothrix schenckii ATCC 58251 → Proteome ID: UP000018087 (Reference: False, via: name)\n",
      "✅ Comamonas testosteroni TK102 → Proteome ID: UP000028782 (Reference: False, via: name)\n"
     ]
    },
    {
     "name": "stderr",
     "output_type": "stream",
     "text": [
      " 90%|████████▉ | 660/736 [01:09<00:18,  4.04it/s]"
     ]
    },
    {
     "name": "stdout",
     "output_type": "stream",
     "text": [
      "✅ Aspergillus flavus AF70 → Proteome ID: UP000032444 (Reference: False, via: name)\n",
      "✅ Eremomyces bilateralis CBS 781.70 → Proteome ID: UP000504638 (Reference: False, via: name)\n",
      "✅ Dothidotthia symphoricarpi CBS 119687 → Proteome ID: UP000799771 (Reference: False, via: name)\n"
     ]
    },
    {
     "name": "stderr",
     "output_type": "stream",
     "text": [
      " 90%|█████████ | 664/736 [01:10<00:12,  5.91it/s]"
     ]
    },
    {
     "name": "stdout",
     "output_type": "stream",
     "text": [
      "✅ Amniculicola lignicola CBS 123094 → Proteome ID: UP000799779 (Reference: False, via: name)\n",
      "✅ Morchella conica CCBAS932 → Proteome ID: UP000277580 (Reference: False, via: name)\n",
      "✅ Aspergillus campestris IBT 28561 → Proteome ID: UP000234254 (Reference: False, via: name)\n"
     ]
    },
    {
     "name": "stderr",
     "output_type": "stream",
     "text": [
      " 90%|█████████ | 666/736 [01:10<00:10,  6.87it/s]"
     ]
    },
    {
     "name": "stdout",
     "output_type": "stream",
     "text": [
      "✅ Aspergillus steynii IBT 23096 → Proteome ID: UP000234275 (Reference: False, via: name)\n",
      "✅ Karstenula rhodostoma CBS 690.94 → Proteome ID: UP000799764 (Reference: False, via: name)\n",
      "✅ Aspergillus novofumigatus IBT 16806 → Proteome ID: UP000234474 (Reference: False, via: name)\n"
     ]
    },
    {
     "name": "stderr",
     "output_type": "stream",
     "text": [
      " 91%|█████████ | 670/736 [01:10<00:07,  8.42it/s]"
     ]
    },
    {
     "name": "stdout",
     "output_type": "stream",
     "text": [
      "✅ Aspergillus ochraceoroseus IBT 24754 → Proteome ID: UP000244073 (Reference: False, via: name)\n",
      "✅ Massarina eburnea CBS 473.64 → Proteome ID: UP000799753 (Reference: False, via: name)\n",
      "✅ Sporothrix schenckii 1099-18 → Proteome ID: UP000033710 (Reference: False, via: name)\n"
     ]
    },
    {
     "name": "stderr",
     "output_type": "stream",
     "text": [
      " 91%|█████████▏| 672/736 [01:10<00:08,  7.93it/s]"
     ]
    },
    {
     "name": "stdout",
     "output_type": "stream",
     "text": [
      "✅ Sporothrix brasiliensis 5110 → Proteome ID: UP000031575 (Reference: False, via: name)\n",
      "❌ No proteome found for: Melanopsichium pennsylvanicum 4 (Taxon ID: 1398559)\n"
     ]
    },
    {
     "name": "stderr",
     "output_type": "stream",
     "text": [
      " 92%|█████████▏| 674/736 [01:11<00:07,  8.59it/s]"
     ]
    },
    {
     "name": "stdout",
     "output_type": "stream",
     "text": [
      "✅ Macrolepiota fuliginosa MF-IS2 → Proteome ID: UP000807342 (Reference: False, via: name)\n",
      "✅ Candidatus Contendobacter odensis Run_B_J11 → Proteome ID: UP000019184 (Reference: False, via: name)\n",
      "✅ Candidatus Competibacter denitrificans Run_A_D11 → Proteome ID: UP000035760 (Reference: False, via: name)\n"
     ]
    },
    {
     "name": "stderr",
     "output_type": "stream",
     "text": [
      " 92%|█████████▏| 678/736 [01:11<00:06,  9.48it/s]"
     ]
    },
    {
     "name": "stdout",
     "output_type": "stream",
     "text": [
      "✅ Aspergillus parasiticus SU-1 → Proteome ID: UP000033540 (Reference: False, via: name)\n",
      "✅ Archangium violaceum Cb vi76 → Proteome ID: UP000028547 (Reference: False, via: name)\n",
      "✅ Coniochaeta ligniaria NRRL 30616 → Proteome ID: UP000182658 (Reference: False, via: name)\n"
     ]
    },
    {
     "name": "stderr",
     "output_type": "stream",
     "text": [
      " 92%|█████████▏| 680/736 [01:11<00:05,  9.87it/s]"
     ]
    },
    {
     "name": "stdout",
     "output_type": "stream",
     "text": [
      "✅ Plenodomus tracheiphilus IPT5 → Proteome ID: UP000799423 (Reference: False, via: name)\n",
      "✅ Rasamsonia emersonii CBS 393.64 → Proteome ID: UP000053958 (Reference: False, via: name)\n",
      "✅ Nocardia nova SH22a → Proteome ID: UP000019150 (Reference: False, via: name)\n"
     ]
    },
    {
     "name": "stderr",
     "output_type": "stream",
     "text": [
      " 93%|█████████▎| 682/736 [01:11<00:05, 10.19it/s]"
     ]
    },
    {
     "name": "stdout",
     "output_type": "stream",
     "text": [
      "✅ Trypanosoma cruzi Dm28c → Proteome ID: UP000017861 (Reference: False, via: name)\n",
      "✅ Paraburkholderia phytofirmans OLGA172 → Proteome ID: UP000076852 (Reference: False, via: name)\n",
      "✅ Pseudomonas mandelii PD30 → Proteome ID: UP000026739 (Reference: False, via: name)\n"
     ]
    },
    {
     "name": "stderr",
     "output_type": "stream",
     "text": [
      " 93%|█████████▎| 686/736 [01:12<00:04, 10.26it/s]"
     ]
    },
    {
     "name": "stdout",
     "output_type": "stream",
     "text": [
      "✅ Rhizoctonia solani 123E → Proteome ID: UP000027456 (Reference: False, via: name)\n",
      "✅ Kwoniella europaea PYCC6329 → Proteome ID: UP001358614 (Reference: False, via: name)\n",
      "✅ Penicillium camemberti FM 013 → Proteome ID: UP000053732 (Reference: False, via: name)\n"
     ]
    },
    {
     "name": "stderr",
     "output_type": "stream",
     "text": [
      " 94%|█████████▍| 690/736 [01:12<00:04, 10.63it/s]"
     ]
    },
    {
     "name": "stdout",
     "output_type": "stream",
     "text": [
      "✅ Rhizobium etli bv. mimosae str. IE4771 → Proteome ID: UP000027180 (Reference: False, via: name)\n",
      "✅ Rhizophagus irregularis DAOM 197198w → Proteome ID: UP000022910 (Reference: False, via: name)\n",
      "✅ Sclerotinia borealis F-4128 → Proteome ID: UP000019487 (Reference: False, via: name)\n"
     ]
    },
    {
     "name": "stderr",
     "output_type": "stream",
     "text": [
      " 94%|█████████▍| 692/736 [01:12<00:04, 10.35it/s]"
     ]
    },
    {
     "name": "stdout",
     "output_type": "stream",
     "text": [
      "✅ Streptomyces scopuliridis RB72 → Proteome ID: UP000245992 (Reference: False, via: name)\n",
      "✅ Nitrospirillum viridazoti CBAmc → Proteome ID: UP000197153 (Reference: False, via: name)\n",
      "✅ Fonsecaea pedrosoi CBS 271.37 → Proteome ID: UP000053029 (Reference: False, via: name)\n"
     ]
    },
    {
     "name": "stderr",
     "output_type": "stream",
     "text": [
      " 94%|█████████▍| 694/736 [01:13<00:04, 10.41it/s]"
     ]
    },
    {
     "name": "stdout",
     "output_type": "stream",
     "text": [
      "✅ Rhinocladiella mackenziei CBS 650.93 → Proteome ID: UP000053617 (Reference: False, via: name)\n",
      "✅ Cladophialophora bantiana CBS 173.52 → Proteome ID: UP000053789 (Reference: False, via: name)\n",
      "✅ Fonsecaea multimorphosa CBS 102226 → Proteome ID: UP000053411 (Reference: False, via: name)\n"
     ]
    },
    {
     "name": "stderr",
     "output_type": "stream",
     "text": [
      " 95%|█████████▍| 698/736 [01:13<00:03, 10.57it/s]"
     ]
    },
    {
     "name": "stdout",
     "output_type": "stream",
     "text": [
      "✅ Lysobacter capsici AZ78 → Proteome ID: UP000023435 (Reference: False, via: name)\n",
      "✅ Colletotrichum fioriniae PJ7 → Proteome ID: UP000020467 (Reference: False, via: name)\n",
      "✅ Emergomyces pasteurianus Ep9510 → Proteome ID: UP000182235 (Reference: False, via: name)\n"
     ]
    },
    {
     "name": "stderr",
     "output_type": "stream",
     "text": [
      " 95%|█████████▌| 700/736 [01:13<00:03, 10.68it/s]"
     ]
    },
    {
     "name": "stdout",
     "output_type": "stream",
     "text": [
      "✅ Helicocarpus griseus UAMH5409 → Proteome ID: UP000223968 (Reference: False, via: name)\n",
      "✅ Polytolypa hystricis UAMH7299 → Proteome ID: UP000224634 (Reference: False, via: name)\n"
     ]
    },
    {
     "name": "stderr",
     "output_type": "stream",
     "text": [
      " 96%|█████████▌| 704/736 [01:14<00:03, 10.58it/s]"
     ]
    },
    {
     "name": "stdout",
     "output_type": "stream",
     "text": [
      "✅ Bimuria novae-zelandiae CBS 107.79 → Proteome ID: UP000800036 (Reference: False, via: name)\n",
      "✅ Gymnopus androsaceus JB14 → Proteome ID: UP000799118 (Reference: False, via: name)\n",
      "✅ Corynespora cassiicola Philippines → Proteome ID: UP000240883 (Reference: False, via: name)\n"
     ]
    },
    {
     "name": "stderr",
     "output_type": "stream",
     "text": [
      " 96%|█████████▌| 706/736 [01:14<00:02, 10.43it/s]"
     ]
    },
    {
     "name": "stdout",
     "output_type": "stream",
     "text": [
      "✅ Hydnum rufescens UP504 → Proteome ID: UP000886523 (Reference: False, via: name)\n",
      "✅ Aspergillus neoniger CBS 115656 → Proteome ID: UP000247647 (Reference: False, via: name)\n",
      "✅ Aspergillus vadensis CBS 113365 → Proteome ID: UP000248405 (Reference: False, via: name)\n"
     ]
    },
    {
     "name": "stderr",
     "output_type": "stream",
     "text": [
      " 96%|█████████▋| 710/736 [01:14<00:02, 10.60it/s]"
     ]
    },
    {
     "name": "stdout",
     "output_type": "stream",
     "text": [
      "✅ Aspergillus japonicus CBS 114.51 → Proteome ID: UP000249497 (Reference: False, via: name)\n",
      "✅ Aspergillus piperis CBS 112811 → Proteome ID: UP000249526 (Reference: False, via: name)\n",
      "✅ Aspergillus eucalypticola CBS 122712 → Proteome ID: UP000246171 (Reference: False, via: name)\n"
     ]
    },
    {
     "name": "stderr",
     "output_type": "stream",
     "text": [
      " 97%|█████████▋| 712/736 [01:14<00:02, 10.54it/s]"
     ]
    },
    {
     "name": "stdout",
     "output_type": "stream",
     "text": [
      "✅ Aspergillus uvarum CBS 121591 → Proteome ID: UP000248340 (Reference: False, via: name)\n",
      "✅ Aspergillus ibericus CBS 121593 → Proteome ID: UP000249402 (Reference: False, via: name)\n",
      "✅ Aspergillus sclerotiicarbonarius CBS 121057 → Proteome ID: UP000248423 (Reference: False, via: name)\n"
     ]
    },
    {
     "name": "stderr",
     "output_type": "stream",
     "text": [
      " 97%|█████████▋| 714/736 [01:14<00:02, 10.50it/s]"
     ]
    },
    {
     "name": "stdout",
     "output_type": "stream",
     "text": [
      "✅ Aspergillus fijiensis CBS 313.89 → Proteome ID: UP000249789 (Reference: False, via: name)\n",
      "✅ Aspergillus ellipticus CBS 707.79 → Proteome ID: UP000247810 (Reference: False, via: name)\n",
      "✅ Aspergillus heteromorphus CBS 117.55 → Proteome ID: UP000247233 (Reference: False, via: name)\n"
     ]
    },
    {
     "name": "stderr",
     "output_type": "stream",
     "text": [
      " 98%|█████████▊| 718/736 [01:15<00:01, 10.47it/s]"
     ]
    },
    {
     "name": "stdout",
     "output_type": "stream",
     "text": [
      "✅ Kutzneria albida DSM 43870 → Proteome ID: UP000019225 (Reference: False, via: name)\n",
      "✅ Aaosphaeria arxii CBS 175.79 → Proteome ID: UP000799778 (Reference: False, via: name)\n",
      "✅ Aspergillus sclerotioniger CBS 115572 → Proteome ID: UP000246702 (Reference: False, via: name)\n"
     ]
    },
    {
     "name": "stderr",
     "output_type": "stream",
     "text": [
      " 98%|█████████▊| 722/736 [01:15<00:01, 10.33it/s]"
     ]
    },
    {
     "name": "stdout",
     "output_type": "stream",
     "text": [
      "✅ Guyanagaster necrorhizus MCA 3950 → Proteome ID: UP000812287 (Reference: False, via: name)\n",
      "✅ Aspergillus homomorphus CBS 101889 → Proteome ID: UP000248961 (Reference: False, via: name)\n",
      "✅ Aspergillus violaceofuscus CBS 115571 → Proteome ID: UP000249829 (Reference: False, via: name)\n"
     ]
    },
    {
     "name": "stderr",
     "output_type": "stream",
     "text": [
      " 98%|█████████▊| 724/736 [01:15<00:01, 10.04it/s]"
     ]
    },
    {
     "name": "stdout",
     "output_type": "stream",
     "text": [
      "✅ Aspergillus saccharolyticus JOP 1030-1 → Proteome ID: UP000248349 (Reference: False, via: name)\n",
      "✅ Aspergillus indologenus CBS 114.80 → Proteome ID: UP000248817 (Reference: False, via: name)\n",
      "✅ Amycolatopsis lurida NRRL 2430 → Proteome ID: UP000256220 (Reference: False, via: name)\n"
     ]
    },
    {
     "name": "stderr",
     "output_type": "stream",
     "text": [
      " 99%|█████████▉| 728/736 [01:16<00:00, 10.39it/s]"
     ]
    },
    {
     "name": "stdout",
     "output_type": "stream",
     "text": [
      "✅ Colletotrichum nymphaeae SA-01 → Proteome ID: UP000070054 (Reference: False, via: name)\n",
      "✅ Tolypothrix bouteillei VB521301 → Proteome ID: UP000029738 (Reference: False, via: name)\n",
      "✅ Aspergillus nomiae NRRL 13137 → Proteome ID: UP000037505 (Reference: False, via: name)\n"
     ]
    },
    {
     "name": "stderr",
     "output_type": "stream",
     "text": [
      " 99%|█████████▉| 730/736 [01:16<00:00, 10.57it/s]"
     ]
    },
    {
     "name": "stdout",
     "output_type": "stream",
     "text": [
      "✅ Delitschia confertaspora ATCC 74209 → Proteome ID: UP000799536 (Reference: False, via: name)\n",
      "✅ Dendronalium phyllosphericum CENA369 → Proteome ID: UP000662314 (Reference: False, via: name)\n",
      "✅ Nostoc minutum NIES-26 → Proteome ID: UP000252107 (Reference: False, via: name)\n"
     ]
    },
    {
     "name": "stderr",
     "output_type": "stream",
     "text": [
      "100%|█████████▉| 734/736 [01:16<00:00, 10.64it/s]"
     ]
    },
    {
     "name": "stdout",
     "output_type": "stream",
     "text": [
      "✅ Microseira wollei NIES-4236 → Proteome ID: UP001050975 (Reference: False, via: name)\n",
      "✅ Nostoc sphaeroides CCNUC1 → Proteome ID: UP000326678 (Reference: False, via: name)\n",
      "✅ Aetokthonos hydrillicola Thurmond2011 → Proteome ID: UP000667802 (Reference: False, via: name)\n"
     ]
    },
    {
     "name": "stderr",
     "output_type": "stream",
     "text": [
      "100%|██████████| 736/736 [01:17<00:00,  9.55it/s]"
     ]
    },
    {
     "name": "stdout",
     "output_type": "stream",
     "text": [
      "✅ Iningainema tapete BLCC-T55 → Proteome ID: UP000629098 (Reference: False, via: name)\n",
      "✅ Aerosakkonema funiforme FACHB-1375 → Proteome ID: UP000641646 (Reference: False, via: name)\n",
      "\n",
      "🎯 Proteomes found for 723 out of 736 strains.\n",
      "\n",
      "⚠️ No proteomes found for 13 strains:\n",
      " - Dechloromonas aromatica RCB (Taxon ID: 159087)\n",
      " - Salmonella enterica subsp. enterica serovar Typhi str. CT18 (Taxon ID: 220341)\n",
      " - Cupriavidus pinatubonensis JMP134 (Taxon ID: 264198)\n",
      " - Burkholderia orbicola AU 1054 (Taxon ID: 331271)\n",
      " - Ralstonia pickettii 12J (Taxon ID: 402626)\n",
      " - Ralstonia pickettii 12D (Taxon ID: 428406)\n",
      " - Salmonella enterica subsp. enterica serovar Typhi str. 404ty (Taxon ID: 497977)\n",
      " - Variovorax paradoxus S110 (Taxon ID: 543728)\n",
      " - blood disease bacterium R229 (Taxon ID: 741978)\n",
      " - Pyricularia oryzae P131 (Taxon ID: 1143193)\n",
      " - Chromera velia CCMP2878 (Taxon ID: 1169474)\n",
      " - Cryptococcus bacillisporus CA1280 (Taxon ID: 1296109)\n",
      " - Melanopsichium pennsylvanicum 4 (Taxon ID: 1398559)\n",
      "📄 Summary saved to: fasta_proteomes_proteomes_api/session_strain_level_2025-05-13_21-52-07\\strain_proteome_matches.csv\n"
     ]
    },
    {
     "name": "stderr",
     "output_type": "stream",
     "text": [
      "\n"
     ]
    }
   ],
   "source": [
    "from datetime import datetime\n",
    "import os\n",
    "\n",
    "# Define the output session directory based on current timestamp\n",
    "session_time = datetime.now().strftime(\"%Y-%m-%d_%H-%M-%S\")\n",
    "output_dir = f\"fasta_proteomes_proteomes_api/session_strain_level_{session_time}\"\n",
    "os.makedirs(output_dir, exist_ok=True)\n",
    "\n",
    "# Now use this path to write the CSV\n",
    "output_csv_path = os.path.join(output_dir, \"strain_proteome_matches.csv\")\n",
    "\n",
    "# Get the proteome matches using the function\n",
    "found_proteomes = search_best_proteomes(filtered_taxa_by_rank)\n",
    "\n",
    "# Save the results to a CSV file\n",
    "save_proteome_matches_to_csv(found_proteomes, output_csv_path)"
   ]
  },
  {
   "cell_type": "code",
   "execution_count": 19,
   "id": "ebf3f5f5",
   "metadata": {},
   "outputs": [
    {
     "name": "stdout",
     "output_type": "stream",
     "text": [
      "📦 Starting protein download...\n",
      "\n",
      "✅ UP000001054 (Sinorhizobium fredii NGR234): 6273 proteins\n",
      "✅ UP000031513 (Plasmodium knowlesi strain H): 5339 proteins\n",
      "✅ UP000006552 (Aromatoleum aromaticum EbN1): 4483 proteins\n",
      "✅ UP000001973 (Streptomyces coelicolor A3(2)): 8038 proteins\n",
      "✅ UP000008710 (Rhodococcus jostii RHA1): 9077 proteins\n",
      "✅ UP000008333 (Plasmodium vivax Sal-1): 5389 proteins\n",
      "✅ UP000076925 (Scytonema hofmannii PCC 7110): 9705 proteins\n",
      "✅ UP000001548 (Giardia lamblia ATCC 50803): 4900 proteins\n",
      "✅ UP000008524 (Trypanosoma brucei brucei TREU927): 8587 proteins\n",
      "✅ UP000000653 (Pseudomonas aeruginosa UCBPP-PA14): 5886 proteins\n",
      "✅ UP000002438 (Pseudomonas aeruginosa PAO1): 5563 proteins\n",
      "✅ UP000002149 (Cryptococcus neoformans var. neoformans JEC21): 6740 proteins\n",
      "✅ UP000001035 (Burkholderia cenocepacia J2315): 6993 proteins\n",
      "✅ UP000002332 (Pseudomonas [fluorescens] SBW25): 474 proteins\n",
      "✅ UP000006575 (Rhizobium johnstonii 3841): 7093 proteins\n",
      "✅ UP000008962 (Salmonella enterica subsp. enterica serovar Typhimurium str. SL1344): 4659 proteins\n",
      "✅ UP000008540 (Pseudomonas protegens Pf-5): 6109 proteins\n",
      "✅ UP000009084 (Coccidioides posadasii C735 delta SOWgp): 7225 proteins\n",
      "✅ UP000305891 (Salmonella enterica subsp. enterica serovar Java): 4509 proteins\n",
      "✅ UP000002526 (Bradyrhizobium diazoefficiens USDA 110): 8254 proteins\n",
      "✅ UP000002753 (Saccharomyces kudriavzevii IFO 1802): 3745 proteins\n",
      "✅ UP000000560 (Aspergillus nidulans FGSC A4): 10562 proteins\n",
      "✅ UP000000428 (Streptomyces avermitilis MA-4680 = NBRC 14893): 7673 proteins\n",
      "✅ UP000070720 (Fusarium graminearum PH-1): 14146 proteins\n",
      "✅ UP000271624 (Dulcicalothrix desertica PCC 7102): 9970 proteins\n",
      "✅ UP000002204 (Rhodococcus erythropolis PR4): 6425 proteins\n",
      "✅ UP000010091 (Cryptococcus neoformans var. grubii H99): 7429 proteins\n",
      "✅ UP000001861 (Coprinopsis cinerea okayama7#130): 13335 proteins\n",
      "✅ UP000009058 (Pyricularia oryzae 70-15): 12794 proteins\n",
      "✅ UP000006693 (Burkholderia mallei ATCC 23344): 4797 proteins\n",
      "✅ UP000006158 (Mycolicibacterium smegmatis MC2 155): 6590 proteins\n",
      "✅ UP000002402 (Myxococcus xanthus DK 1622): 7314 proteins\n",
      "✅ UP000009138 (Rhizopus delemar RA 99-880): 16971 proteins\n",
      "✅ UP000001261 (Coccidioides immitis RS): 9712 proteins\n",
      "✅ UP000001027 (Bordetella bronchiseptica RB50): 4961 proteins\n",
      "✅ UP000001426 (Rhodopseudomonas palustris CGA009): 4920 proteins\n",
      "✅ UP000002429 (Cupriavidus metallidurans CH34): 6364 proteins\n",
      "✅ UP000001817 (Paraburkholderia xenovorans LB400): 8591 proteins\n",
      "✅ UP000001976 (Sinorhizobium meliloti 1021): 6171 proteins\n",
      "✅ UP000000552 (Mesorhizobium japonicum MAFF 303099): 7256 proteins\n",
      "✅ UP000001436 (Ralstonia pseudosolanacearum GMI1000): 5002 proteins\n",
      "✅ UP000002287 (Burkholderia vietnamiensis G4): 7411 proteins\n",
      "✅ UP000001930 (Burkholderia thailandensis E264): 5562 proteins\n",
      "✅ UP000000605 (Burkholderia pseudomallei K96243): 5717 proteins\n",
      "✅ UP000009081 (Methylorubrum extorquens AM1): 6233 proteins\n",
      "✅ UP000061018 (Streptomyces ambofaciens ATCC 23877): 7571 proteins\n",
      "✅ UP000013827 (Emiliania huxleyi CCMP1516): 35618 proteins\n",
      "✅ UP000007014 (Cyanidioschyzon merolae strain 10D): 4997 proteins\n",
      "✅ UP000001300 (Yarrowia lipolytica CLIB122): 6454 proteins\n",
      "✅ UP000001935 (Anaeromyxobacter dehalogenans 2CP-C): 4346 proteins\n",
      "✅ UP000001056 (Chaetomium globosum CBS 148.51): 11038 proteins\n",
      "✅ UP000001600 (Rhizobium rhizogenes K84): 6674 proteins\n",
      "✅ UP000009168 (Tetrahymena thermophila SB210): 26975 proteins\n",
      "✅ UP000004095 (Microscilla marina ATCC 23134): 8248 proteins\n",
      "✅ UP000008809 (Rhodopseudomonas palustris HaA2): 4681 proteins\n",
      "✅ UP000001812 (Burkholderia pseudomallei 1710a): 7475 proteins\n",
      "✅ UP000002700 (Burkholderia pseudomallei 1710b): 6329 proteins\n",
      "✅ UP000003688 (Pedosphaera parvula Ellin514): 6493 proteins\n",
      "✅ UP000663193 (Parastagonospora nodorum SN15): 17730 proteins\n",
      "✅ UP000000657 (Frankia alni ACN14a): 6712 proteins\n",
      "✅ UP000002530 (Aspergillus fumigatus Af293): 9647 proteins\n",
      "✅ UP000006702 (Aspergillus fischeri NRRL 181): 10409 proteins\n",
      "✅ UP000001798 (Botrytis cinerea B05.10): 13037 proteins\n",
      "✅ UP000596276 (Aspergillus flavus NRRL3357): 13708 proteins\n",
      "✅ UP000009096 (Fusarium verticillioides 7600): 17875 proteins\n",
      "✅ UP000008062 (Zymoseptoria tritici IPO323): 10973 proteins\n",
      "✅ UP000002058 (Uncinocarpus reesii 1704): 7760 proteins\n",
      "✅ UP000008332 (Rhodoferax ferrireducens T118): 4401 proteins\n",
      "✅ UP000000662 (Burkholderia ambifaria AMMD): 6600 proteins\n",
      "✅ UP000001225 (Bordetella petrii DSM 12804): 4912 proteins\n",
      "✅ UP000007963 (Aspergillus terreus NIH2624): 10417 proteins\n",
      "✅ UP000006701 (Aspergillus clavatus NRRL 1): 9140 proteins\n",
      "✅ UP000001936 (Rhizobium etli CFN 42): 5922 proteins\n",
      "✅ UP000000238 (Hahella chejuensis KCTC 2396): 6751 proteins\n",
      "✅ UP000002296 (Trypanosoma cruzi strain CL Brener): 19242 proteins\n",
      "✅ UP000006738 (Burkholderia pseudomallei 1106a): 7145 proteins\n",
      "✅ UP000000644 (Polaromonas naphthalenivorans CJ2): 4879 proteins\n",
      "✅ UP000001108 (Sinorhizobium medicae WSM419): 6145 proteins\n",
      "✅ UP000001805 (Neurospora crassa OR74A): 10255 proteins\n",
      "✅ UP000007805 (Cryptococcus gattii WM276): 6560 proteins\n",
      "✅ UP000014680 (Entamoeba invadens IP1): 9860 proteins\n",
      "✅ UP000001351 (Stigmatella aurantiaca DW4/3-1): 8311 proteins\n",
      "✅ UP000009038 (Aspergillus niger ATCC 1015): 10949 proteins\n",
      "✅ UP000008210 (Cupriavidus necator H16): 6614 proteins\n",
      "✅ UP000001582 (Pseudomonas paraeruginosa PA7): 5974 proteins\n",
      "✅ UP000016932 (Pseudocercospora fijiensis CIRAD86): 13062 proteins\n",
      "✅ UP000001192 (Paraburkholderia phymatum STM815): 7461 proteins\n",
      "✅ UP000005801 (Plesiocystis pacifica SIR-1): 8437 proteins\n",
      "✅ UP000000374 (Verminephrobacter eiseniae EF01-2): 4911 proteins\n",
      "✅ UP000242877 (Ascosphaera apis ARSEF 7405): 6442 proteins\n",
      "✅ UP000008815 (Burkholderia multivorans ATCC 17616): 6040 proteins\n",
      "✅ UP000002256 (Rhizobium leguminosarum bv. trifolii WSM1325): 6988 proteins\n",
      "✅ UP000001693 (Leptothrix cholodnii SP-6): 4343 proteins\n",
      "✅ UP000005463 (Burkholderia ambifaria IOP40-10): 6923 proteins\n",
      "✅ UP000004814 (Burkholderia ambifaria MEX-5): 7124 proteins\n",
      "✅ UP000005045 (Paraburkholderia graminis C4D1M): 6722 proteins\n",
      "✅ UP000054563 (Coccidioides immitis H538.4): 10588 proteins\n",
      "✅ UP000002596 (Paracidovorax citrulli AAC00-1): 4602 proteins\n",
      "✅ UP000001739 (Paraburkholderia phytofirmans PsJN): 7197 proteins\n",
      "✅ UP000001680 (Burkholderia ambifaria MC40-6): 6690 proteins\n",
      "✅ UP000000784 (Delftia acidovorans SPH-1): 5968 proteins\n",
      "✅ UP000003039 (Comamonas testosteroni KF-1): 5386 proteins\n",
      "✅ UP000077115 (Batrachochytrium dendrobatidis JEL423): 9531 proteins\n",
      "✅ UP000006643 (Phytophthora infestans T30-4): 17610 proteins\n",
      "✅ UP000054565 (Coccidioides immitis RMSCC 2394): 10406 proteins\n",
      "✅ UP000006728 (Saccharopolyspora erythraea NRRL 2338): 7155 proteins\n",
      "✅ UP000002169 (Burkholderia orbicola MC0-3): 6986 proteins\n",
      "✅ UP000002283 (Burkholderia mallei NCTC 10229): 4944 proteins\n",
      "✅ UP000007115 (Trichoderma virens Gv29-8): 12389 proteins\n",
      "✅ UP000008783 (Puccinia graminis f. sp. tritici CRL 75-36-700-3): 15808 proteins\n",
      "✅ UP000319462 (Leishmania braziliensis MHOM/BR/75/M2904): 7975 proteins\n",
      "✅ UP000000366 (Methylibium petroleiphilum PM1): 4359 proteins\n",
      "✅ UP000007800 (Perkinsus marinus ATCC 50983): 23116 proteins\n",
      "✅ UP000006706 (Aspergillus niger CBS 513.88): 14069 proteins\n",
      "✅ UP000006589 (Methylobacterium radiotolerans JCM 2831): 6388 proteins\n",
      "✅ UP000001471 (Pyrenophora tritici-repentis Pt-1C-BFP): 12062 proteins\n",
      "✅ UP000009097 (Fusarium oxysporum f. sp. lycopersici 4287): 23101 proteins\n",
      "✅ UP000031737 (Trypanosoma rangeli SC58): 7365 proteins\n",
      "✅ UP000008984 (Trichoderma reesei QM6a): 9115 proteins\n",
      "✅ UP000019132 (Globisporangium ultimum DAOM BR144): 15153 proteins\n",
      "✅ UP000002226 (Toxoplasma gondii VEG): 8404 proteins\n",
      "✅ UP000001568 (Ostreococcus lucimarinus CCE9901): 7403 proteins\n",
      "✅ UP000002385 (Methylorubrum extorquens CM4): 5491 proteins\n",
      "✅ UP000007136 (Methylorubrum populi BJ001): 5325 proteins\n",
      "✅ UP000001745 (Talaromyces stipitatus ATCC 10500): 13021 proteins\n",
      "✅ UP000001294 (Talaromyces marneffei ATCC 18224): 10448 proteins\n",
      "✅ UP000002497 (Coccidioides posadasii str. Silveira): 10212 proteins\n",
      "✅ UP000002213 (Actinosynnema mirum DSM 43827): 6912 proteins\n",
      "✅ UP000000844 (Stackebrandtia nassauensis DSM 44728): 6379 proteins\n",
      "✅ UP000001631 (Histoplasma capsulatum G186AR): 9214 proteins\n",
      "✅ UP000002139 (Sorangium cellulosum So ce56): 9320 proteins\n",
      "✅ UP000001699 (Aspergillus fumigatus A1163): 9942 proteins\n",
      "✅ UP000005426 (Trichoderma atroviride IMI 206040): 11815 proteins\n",
      "✅ UP000007076 (Kitasatospora setae KM-6054): 7443 proteins\n",
      "✅ UP000054567 (Coccidioides posadasii RMSCC 3488): 9958 proteins\n",
      "✅ UP000054559 (Coccidioides immitis RMSCC 3703): 10461 proteins\n",
      "✅ UP000001685 (Streptomyces griseus subsp. griseus NBRC 13350): 7008 proteins\n",
      "✅ UP000003963 (Streptomyces himastatinicus ATCC 53653): 9179 proteins\n",
      "✅ UP000002769 (Streptomyces lividans TK24): 7520 proteins\n",
      "✅ UP000002805 (Streptomyces pristinaespiralis ATCC 25486): 6867 proteins\n",
      "✅ UP000003986 (Streptomyces filamentosus NRRL 15998): 6893 proteins\n",
      "✅ UP000008207 (Methylobacterium nodulans ORS 2060): 8128 proteins\n",
      "✅ UP000054408 (Thecamonas trahens ATCC 50062): 10604 proteins\n",
      "✅ UP000002785 (Streptomyces sviceus ATCC 29083): 8203 proteins\n",
      "✅ UP000002968 (Streptomyces griseoflavus Tu4000): 6337 proteins\n",
      "✅ UP000003113 (Achromobacter arsenitoxydans SY8): 5721 proteins\n",
      "✅ UP000002029 (Streptosporangium roseum DSM 43021): 8956 proteins\n",
      "✅ UP000000851 (Catenulispora acidiphila DSM 44928): 8909 proteins\n",
      "✅ UP000007967 (Kribbella flavida DSM 17836): 6940 proteins\n",
      "✅ UP000000488 (Myxococcus fulvus HW-1): 7228 proteins\n",
      "✅ UP000004508 (Ktedonobacter racemifer DSM 44963): 11211 proteins\n",
      "✅ UP000002215 (Chitinophaga pinensis DSM 2588): 7179 proteins\n",
      "✅ UP000001194 (Laccaria bicolor S238N-H82): 17895 proteins\n",
      "✅ UP000005824 (Chthoniobacter flavus Ellin428): 6705 proteins\n",
      "✅ UP000001611 (Verticillium dahliae VdLs.17): 9894 proteins\n",
      "✅ UP000000724 (Penicillium rubens Wisconsin 54-1255): 12788 proteins\n",
      "✅ UP000001880 (Haliangium ochraceum DSM 14365): 6684 proteins\n",
      "✅ UP000002059 (Paracoccidioides lutzii Pb01): 8811 proteins\n",
      "✅ UP000001628 (Paracoccidioides brasiliensis Pb18): 8399 proteins\n",
      "✅ UP000002028 (Spirosoma linguale DSM 74): 6867 proteins\n",
      "✅ UP000005641 (Toxoplasma gondii GT1): 8450 proteins\n",
      "✅ UP000001529 (Toxoplasma gondii ME49): 8315 proteins\n",
      "✅ UP000006564 (Aspergillus oryzae RIB40): 12057 proteins\n",
      "✅ UP000008065 (Neurospora tetrasperma FGSC 2508): 10378 proteins\n",
      "✅ UP000007882 (Actinoplanes missouriensis 431): 8113 proteins\n",
      "✅ UP000004535 (Burkholderia multivorans CGD2): 6615 proteins\n",
      "✅ UP000001197 (Podospora anserina S mat+): 10657 proteins\n",
      "✅ UP000008698 (Verticillium alfalfae VaMs.102): 10233 proteins\n",
      "✅ UP000002669 (Nannizzia gypsea CBS 118893): 8921 proteins\n",
      "✅ UP000001623 (Mesorhizobium opportunistum WSM2075): 6496 proteins\n",
      "✅ UP000185109 (Rhizobium etli 8C-3): 7012 proteins\n",
      "✅ UP000008142 (Histoplasma capsulatum var. duboisii H88): 9445 proteins\n",
      "✅ UP000002624 (Histoplasma capsulatum H143): 9545 proteins\n",
      "✅ UP000015441 (Blumeria hordei DH14): 6486 proteins\n",
      "✅ UP000000613 (Salmonella enterica subsp. enterica serovar Enteritidis str. P125109): 4192 proteins\n",
      "✅ UP000002035 (Microsporum canis CBS 113480): 8764 proteins\n",
      "✅ UP000000759 (Phaeodactylum tricornutum CCAP 1055/1): 10465 proteins\n",
      "✅ UP000002311 (Saccharomyces cerevisiae S288C): 6066 proteins\n",
      "✅ UP000002038 (Blastomyces gilchristii SLH14081): 10303 proteins\n",
      "✅ UP000005222 (Millerozyma farinosa CBS 7064): 8851 proteins\n",
      "✅ UP000008864 (Trichophyton rubrum CBS 118892): 10005 proteins\n",
      "✅ UP000011713 (Hyaloperonospora arabidopsidis Emoy2): 13837 proteins\n",
      "✅ UP000009169 (Trichophyton equinum CBS 127.97): 8676 proteins\n",
      "✅ UP000192917 (Tistlia consotensis USBA 355): 6388 proteins\n",
      "✅ UP000001876 (Micromonas pusilla CCMP1545): 10250 proteins\n",
      "✅ UP000003824 (Streptomyces viridosporus ATCC 14672): 7866 proteins\n",
      "✅ UP000007494 (Neospora caninum Liverpool): 6933 proteins\n",
      "✅ UP000003856 (Acidovorax delafieldii 2AN): 4890 proteins\n",
      "✅ UP000007322 (Thermothelomyces thermophilus ATCC 42464): 9079 proteins\n",
      "✅ UP000005221 (Candida parapsilosis CDC317): 5777 proteins\n",
      "✅ UP000008181 (Thermothielavioides terrestris NRRL 8126): 9760 proteins\n",
      "✅ UP000008064 (Serpula lacrymans var. lacrymans S7.9): 12721 proteins\n",
      "✅ UP000007431 (Schizophyllum commune H4-8): 13128 proteins\n",
      "✅ UP000053890 (Rhodotorula graminis WP1): 7228 proteins\n",
      "✅ UP000054350 (Allomyces macrogynus ATCC 38327): 19092 proteins\n",
      "✅ UP000004184 (Streptomyces viridochromogenes DSM 40736): 7706 proteins\n",
      "✅ UP000002066 (Streptomyces pratensis ATCC 33331): 6558 proteins\n",
      "✅ UP000008743 (Capsaspora owczarzaki ATCC 30864): 9794 proteins\n",
      "✅ UP000008917 (Variovorax paradoxus EPS): 5937 proteins\n",
      "✅ UP000007938 (Alicycliphilus denitrificans K601): 4620 proteins\n",
      "✅ UP000008493 (Agaricus bisporus var. burnettii JB137-S8): 11211 proteins\n",
      "✅ UP000188318 (Aspergillus carbonarius ITEM 5010): 11037 proteins\n",
      "✅ UP000005240 (Puccinia triticina 1-1 BBBD Race 1): 11515 proteins\n",
      "✅ UP000002212 (Rhodococcus opacus B4): 8171 proteins\n",
      "✅ UP000095751 (Fragilariopsis cylindrus CCMP1102): 18075 proteins\n",
      "✅ UP000005633 (Azospira oryzae PS): 3432 proteins\n",
      "✅ UP000002482 (Paracidovorax avenae ATCC 19860): 4718 proteins\n",
      "✅ UP000006039 (Gaeumannomyces tritici R3-111a-1): 14597 proteins\n",
      "✅ UP000011715 (Magnaporthiopsis poae ATCC 64411): 11303 proteins\n",
      "✅ UP000008782 (Colletotrichum graminicola M1.001): 12019 proteins\n",
      "✅ UP000053201 (Spizellomyces punctatus DAOM BR117): 9267 proteins\n",
      "✅ UP000009172 (Trichophyton tonsurans CBS 112818): 8520 proteins\n",
      "✅ UP000008370 (Phanerochaete carnosa HHB-10118-sp): 13867 proteins\n",
      "✅ UP000008703 (Streptomyces violaceusniger Tu 4113): 8941 proteins\n",
      "✅ UP000007802 (Blastomyces dermatitidis ATCC 18188): 10679 proteins\n",
      "✅ UP000002762 (Beauveria bassiana ARSEF 2860): 10363 proteins\n",
      "✅ UP000002499 (Metarhizium acridum CQMa 102): 9831 proteins\n",
      "✅ UP000002498 (Metarhizium robertsii ARSEF 23): 11684 proteins\n",
      "✅ UP000007796 (Grosmannia clavigera kw1407): 8311 proteins\n",
      "✅ UP000006911 (Tuber melanosporum Mel28): 7494 proteins\n",
      "✅ UP000011064 (Pseudogymnoascus destructans 20631-21): 9122 proteins\n",
      "✅ UP000593570 (Fusarium oxysporum f. sp. conglutinans Fo5176): 16776 proteins\n",
      "✅ UP000030766 (Fusarium oxysporum Fo47): 21661 proteins\n",
      "✅ UP000030753 (Fusarium oxysporum NRRL 32931): 20767 proteins\n",
      "✅ UP000005206 (Fusarium vanettenii 77-13-4): 15709 proteins\n",
      "✅ UP000803844 (Cryphonectria parasitica EP155): 11564 proteins\n",
      "✅ UP000008383 (Trichophyton verrucosum HKI 0517): 8028 proteins\n",
      "✅ UP000008866 (Trichophyton benhamiae CBS 112371): 7976 proteins\n",
      "✅ UP000053647 (Paxillus involutus ATCC 200175): 11689 proteins\n",
      "✅ UP000012338 (Bipolaris maydis ATCC 48331): 12705 proteins\n",
      "✅ UP000001312 (Sclerotinia sclerotiorum 1980 UF-70): 14445 proteins\n",
      "✅ UP000016934 (Bipolaris sorokiniana ND90Pr): 12174 proteins\n",
      "✅ UP000054560 (Sphaeroforma arctica JP610): 18649 proteins\n",
      "✅ UP000001396 (Heterostelium album PN500): 12351 proteins\n",
      "✅ UP000030669 (Gloeophyllum trabeum ATCC 11539): 11735 proteins\n",
      "✅ UP000194127 (Postia placenta MAD-698-R-SB12): 12517 proteins\n",
      "✅ UP000016935 (Exserohilum turcica Et28A): 11687 proteins\n",
      "✅ UP000016933 (Dothistroma septosporum NZE10): 12414 proteins\n",
      "✅ UP000007809 (Pseudonocardia dioxanivorans CB1190): 6638 proteins\n",
      "✅ UP000094385 (Lipomyces starkeyi NRRL Y-11557): 8136 proteins\n",
      "✅ UP000002316 (Trypanosoma brucei gambiense DAL972): 9668 proteins\n",
      "✅ UP000001444 (Streptomyces scabiei 87.22): 8700 proteins\n",
      "✅ UP000017200 (Microbotryum lychnidis-dioicae p1A1 Lamole): 7656 proteins\n",
      "✅ UP000007241 (Batrachochytrium dendrobatidis JAM81): 8610 proteins\n",
      "✅ UP000027222 (Galerina marginata CBS 339.88): 21357 proteins\n",
      "✅ UP000184546 (Aspergillus aculeatus ATCC 16872): 10843 proteins\n",
      "✅ UP000016931 (Sphaerulina musiva SO2202): 10154 proteins\n",
      "✅ UP000029492 (Methylobacterium oryzae CBMB20): 6256 proteins\n",
      "✅ UP000030745 (Saprolegnia parasitica CBS 223.65): 20052 proteins\n",
      "✅ UP000033140 (Saitoella complicata NRRL Y-17804): 7118 proteins\n",
      "✅ UP000010411 (Streptomyces ipomoeae 91-03): 9369 proteins\n",
      "✅ UP000010931 (Streptomyces turgidiscabies Car8): 10035 proteins\n",
      "✅ UP000004217 (Streptomyces zinciresistens K42): 7578 proteins\n",
      "✅ UP000005438 (Niastella koreensis GR20-10): 7171 proteins\n",
      "✅ UP000016936 (Bipolaris maydis C5): 12857 proteins\n",
      "✅ UP000242287 (Amanita thiersii Skay4041): 10343 proteins\n",
      "✅ UP000009045 (Sinorhizobium meliloti SM11): 7317 proteins\n",
      "✅ UP000886653 (Cronartium quercuum f. sp. fusiforme G11): 13713 proteins\n",
      "✅ UP000006138 (Amycolatopsis mediterranei S699): 9551 proteins\n",
      "✅ UP000002774 (Mucilaginibacter paludis DSM 18603): 6864 proteins\n",
      "✅ UP000011761 (Baudoinia panamericana UAMH 10762): 10508 proteins\n",
      "✅ UP000799539 (Cercospora zeae-maydis SCOH1-5): 12005 proteins\n",
      "✅ UP000053319 (Dichomitus squalens LYAD-421 SS1): 7183 proteins\n",
      "✅ UP000053558 (Coniophora puteana RWD-64-598 SS2): 13735 proteins\n",
      "✅ UP000218811 (Wolfiporia cocos MD-104 SS10): 12196 proteins\n",
      "✅ UP000004510 (Achromobacter piechaudii ATCC 43553): 5756 proteins\n",
      "✅ UP000053257 (Phlebiopsis gigantea 11061_1 CR5-6): 11848 proteins\n",
      "✅ UP000018888 (Rhizophagus irregularis DAOM 181602=DAOM 197198): 26011 proteins\n",
      "✅ UP000030671 (Heterobasidion irregulare TC 32-1): 13159 proteins\n",
      "✅ UP000001072 (Melampsora larici-populina 98AG31): 16237 proteins\n",
      "✅ UP000077051 (Mucor lusitanicus CBS 277.49): 11586 proteins\n",
      "✅ UP000000377 (Streptomyces bingchenggensis BCW-1): 10019 proteins\n",
      "✅ UP000000328 (Amycolatopsis mediterranei U32): 9204 proteins\n",
      "✅ UP000179860 (Paraburkholderia sprentiae WSM5005): 6429 proteins\n",
      "✅ UP000024900 (Bradyrhizobium diazoefficiens SEMIA 5080): 8188 proteins\n",
      "✅ UP000005732 (Rhizobium leguminosarum bv. trifolii WSM2297): 6421 proteins\n",
      "✅ UP000005092 (Rhizobium leguminosarum bv. trifolii WSM597): 6883 proteins\n",
      "✅ UP000008784 (Orbilia oligospora ATCC 24927): 11479 proteins\n",
      "✅ UP000000329 (Herbaspirillum seropedicae SmR1): 4732 proteins\n",
      "✅ UP000008066 (Thermochaetoides thermophila DSM 1495): 7189 proteins\n",
      "✅ UP000092177 (Colletotrichum higginsianum IMI 349063): 14636 proteins\n",
      "✅ UP000008461 (Haliscomenobacter hydrossis DSM 1100): 6705 proteins\n",
      "✅ UP000000493 (Runella slithyformis DSM 19594): 5750 proteins\n",
      "✅ UP000018817 (Phytophthora nicotianae INRA-310): 26438 proteins\n",
      "✅ UP000006876 (Achromobacter xylosoxidans A8): 6798 proteins\n",
      "✅ UP000094455 (Pichia membranifaciens NRRL Y-2026): 5536 proteins\n",
      "✅ UP000077315 (Phycomyces blakesleeanus NRRL 1555(-)): 16155 proteins\n",
      "✅ UP000242474 (Coemansia reversa NRRL 1564): 7317 proteins\n",
      "✅ UP000009131 (Mixia osmundae IAM 14324): 6725 proteins\n",
      "✅ UP000054018 (Pisolithus microcarpus 441): 20748 proteins\n",
      "✅ UP000054166 (Piloderma croceum F 1598): 21360 proteins\n",
      "✅ UP000193411 (Catenaria anguillulae PL171): 12599 proteins\n",
      "✅ UP000075602 (Acidomyces richmondensis BFW): 11098 proteins\n",
      "✅ UP000184499 (Aspergillus brasiliensis CBS 101740): 12982 proteins\n",
      "✅ UP000184304 (Aspergillus tubingensis CBS 134.48): 12319 proteins\n",
      "✅ UP000001881 (Sordaria macrospora k-hell): 9890 proteins\n",
      "✅ UP000070444 (Conidiobolus coronatus NRRL 28638): 10567 proteins\n",
      "✅ UP000029964 (Hapsidospora chrysogenum ATCC 11550): 8900 proteins\n",
      "✅ UP000241818 (Amorphotheca resinae ATCC 22711): 9640 proteins\n",
      "✅ UP000007304 (Exophiala dermatitidis NIH/UT8656): 9391 proteins\n",
      "✅ UP000001067 (Pyrenophora teres f. teres 0-1): 11705 proteins\n",
      "✅ UP000005667 (Azospirillum lipoferum 4B): 6062 proteins\n",
      "✅ UP000006772 (Herbaspirillum frisingense GSF30): 4868 proteins\n",
      "✅ UP000054217 (Pisolithus tinctorius Marx 270): 22409 proteins\n",
      "✅ UP000594364 (Epichloe festucae Fl1): 7031 proteins\n",
      "✅ UP000004382 (Methylorubrum extorquens DSM 13060): 6832 proteins\n",
      "✅ UP000009874 (Massilia timonae CCUG 45783): 5097 proteins\n",
      "✅ UP000010087 (Burkholderia pseudomallei 1026b): 6032 proteins\n",
      "✅ UP000010798 (Singulisphaera acidiphila DSM 18658): 7126 proteins\n",
      "✅ UP000189670 (Candidatus Magnetoglobus multicellularis str. Araruama): 9976 proteins\n",
      "✅ UP000011087 (Guillardia theta CCMP2712): 24739 proteins\n",
      "✅ UP000012488 (Methylobacterium mesophilicum SR1.6/6): 5962 proteins\n",
      "✅ UP000035963 (Caballeronia mineralivorans PML1(12)): 8182 proteins\n",
      "✅ UP000019374 (Ophiocordyceps sinensis CO18): 6968 proteins\n",
      "✅ UP000054321 (Oidiodendron maius Zn): 16697 proteins\n",
      "✅ UP000016930 (Gelatoporia subvermispora B): 12078 proteins\n",
      "✅ UP000007259 (Leishmania mexicana MHOM/GT/2001/U1103): 8044 proteins\n",
      "✅ UP000053841 (Bipolaris zeicola 26-R-13): 12851 proteins\n",
      "✅ UP000054032 (Bipolaris oryzae ATCC 44560): 12000 proteins\n",
      "✅ UP000054337 (Bipolaris victoriae FI3): 12879 proteins\n",
      "✅ UP000027195 (Botryobasidium botryosum FD-172 SS1): 16484 proteins\n",
      "✅ UP000054538 (Paxillus rubicundulus Ve08.2h10): 21906 proteins\n",
      "✅ UP000054485 (Suillus luteus UH-Slu-Lm8-n1): 18277 proteins\n",
      "✅ UP000028840 (Toxoplasma gondii VAND): 9147 proteins\n",
      "✅ UP000027265 (Jaapia argillacea MUCL 33604): 16341 proteins\n",
      "✅ UP000019376 (Penicillium oxalicum 114-2): 9977 proteins\n",
      "✅ UP000054097 (Serendipita vermifera MAFF 305830): 15021 proteins\n",
      "✅ UP000503017 (Mesorhizobium loti R88b): 6732 proteins\n",
      "✅ UP000028834 (Toxoplasma gondii RUB): 10027 proteins\n",
      "✅ UP000318141 (Cupriavidus gilardii J11): 4348 proteins\n",
      "✅ UP000008063 (Serpula lacrymans var. lacrymans S7.3): 14339 proteins\n",
      "✅ UP000183316 (Escherichia coli O25b:H4): 5899 proteins\n",
      "✅ UP000028821 (Toxoplasma gondii MAS): 10005 proteins\n",
      "✅ UP000028828 (Toxoplasma gondii p89): 9595 proteins\n",
      "✅ UP000244488 (Toxoplasma gondii TgCATBr9): 9833 proteins\n",
      "✅ UP000028838 (Toxoplasma gondii FOU): 10116 proteins\n",
      "✅ UP000053593 (Collybiopsis luxurians FD-317 M1): 14588 proteins\n",
      "✅ UP000054270 (Hypholoma sublateritium FD-334 SS-4): 17638 proteins\n",
      "✅ UP000054549 (Amanita muscaria Koide BX008): 17954 proteins\n",
      "✅ UP000006854 (Streptomyces venezuelae ATCC 10712): 7451 proteins\n",
      "✅ UP000001692 (Cupriavidus taiwanensis LMG 19424): 5838 proteins\n",
      "✅ UP000001610 (Cordyceps militaris CM01): 9651 proteins\n",
      "✅ UP000007883 (Rubrivivax gelatinosus IL144): 4686 proteins\n",
      "✅ UP000241690 (Trichoderma harzianum CBS 226.95): 14049 proteins\n",
      "✅ UP000240760 (Trichoderma longibrachiatum ATCC 18648): 10930 proteins\n",
      "✅ UP000094389 (Cyberlindnera jadinii NRRL Y-1542): 5994 proteins\n",
      "✅ UP000094336 (Babjeviella inositovora NRRL Y-12698): 6394 proteins\n",
      "✅ UP000094285 (Suhomyces tanzawaensis NRRL Y-17324): 5882 proteins\n",
      "✅ UP000002668 (Plenodomus lingam JN3): 12608 proteins\n",
      "✅ UP000030755 (Rozella allomycis CSF55): 6337 proteins\n",
      "✅ UP000014411 (Rhizobium grahamii CCGE 502): 6839 proteins\n",
      "✅ UP000054279 (Sphaerobolus stellatus SS14): 24609 proteins\n",
      "✅ UP000053820 (Hydnomerulius pinastri MD-312): 7783 proteins\n",
      "✅ UP000006692 (Pseudomonas brassicacearum subsp. brassicacearum NFM421): 6081 proteins\n",
      "✅ UP000003022 (Streptomyces griseoaurantiacus M045): 6839 proteins\n",
      "✅ UP000007392 (Paenibacillus mucilaginosus K02): 7331 proteins\n",
      "✅ UP000003741 (Bacteroides cellulosilyticus CL02T12C19): 6276 proteins\n",
      "✅ UP000008316 (Burkholderia gladioli BSR3): 7351 proteins\n",
      "✅ UP000008867 (Sporisorium reilianum SRZ2): 6674 proteins\n",
      "✅ UP000008177 (Botrytis cinerea T4): 16338 proteins\n",
      "✅ UP000007842 (Streptantibioticus cattleyicolor NRRL 8057 = DSM 46488): 7537 proteins\n",
      "✅ UP000004853 (Achromobacter insuavis AXX-A): 6159 proteins\n",
      "✅ UP000032866 (Burkholderia cepacia GG4): 5818 proteins\n",
      "✅ UP000355283 (Nannochloropsis salina CCMP1776): 8911 proteins\n",
      "✅ UP000007978 (Fusarium pseudograminearum CS3096): 12448 proteins\n",
      "✅ UP000028181 (Neorhizobium galegae bv. orientalis str. HAMBI 540): 6147 proteins\n",
      "✅ UP000028186 (Neorhizobium galegae bv. officinalis bv. officinalis str. HAMBI 1141): 6141 proteins\n",
      "✅ UP000007953 (Ralstonia solanacearum Po82): 4960 proteins\n",
      "✅ UP000053327 (Plasmodium vivax Brazil I): 6421 proteins\n",
      "✅ UP000222788 (Ceratocystis fimbriata CBS 114723): 7264 proteins\n",
      "✅ UP000053239 (Plasmodium vivax North Korean): 6647 proteins\n",
      "✅ UP000053776 (Plasmodium vivax Mauritania I): 6328 proteins\n",
      "✅ UP000184073 (Aspergillus versicolor CBS 583.65): 13222 proteins\n",
      "✅ UP000184356 (Aspergillus sydowii CBS 593.65): 13568 proteins\n",
      "✅ UP000006620 (Paenibacillus mucilaginosus KNP414): 7782 proteins\n",
      "✅ UP000053989 (Scleroderma citrinum Foug A): 20903 proteins\n",
      "✅ UP000027361 (Tilletiaria anomala UBC 951): 6806 proteins\n",
      "✅ UP000003790 (Pseudomonas chlororaphis O6): 6219 proteins\n",
      "✅ UP000031368 (Rhizobium gallicum bv. gallicum R602sp): 7035 proteins\n",
      "✅ UP000240493 (Trichoderma asperellum CBS 433.97): 12547 proteins\n",
      "✅ UP000006798 (Cupriavidus necator N-1): 7773 proteins\n",
      "✅ UP000030706 (Aureobasidium pullulans EXF-150): 11844 proteins\n",
      "✅ UP000030672 (Aureobasidium melanogenum CBS 110374): 10583 proteins\n",
      "✅ UP000027730 (Aureobasidium namibiae CBS 147.97): 10258 proteins\n",
      "✅ UP000030641 (Aureobasidium subglaciale EXF-2481): 10792 proteins\n",
      "✅ UP000054481 (Hirsutella minnesotensis 3608): 9072 proteins\n",
      "✅ UP000024837 (Drechslerella stenobrocha 248): 5595 proteins\n",
      "✅ UP000267821 (Terfezia boudieri ATCC MYA-4762): 12026 proteins\n",
      "✅ UP000054248 (Tulasnella calospora MUT 4182): 19357 proteins\n",
      "✅ UP000030760 (Streptomyces bottropensis ATCC 25435): 8252 proteins\n",
      "✅ UP000009027 (Trypanosoma vivax Y486): 3778 proteins\n",
      "✅ UP000000702 (Trypanosoma congolense IL3000): 5906 proteins\n",
      "✅ UP000062973 (Amycolatopsis methanolica 239): 7005 proteins\n",
      "✅ UP000006310 (Huiozyma naganishii CBS 8797): 5301 proteins\n",
      "✅ UP000006753 (Drepanopeziza brunnea f. sp. 'multigermtubi' MB_m1): 10037 proteins\n",
      "✅ UP000184383 (Aspergillus wentii DTO 134E9): 12389 proteins\n",
      "✅ UP000184188 (Penicilliopsis zonata CBS 506.65): 9870 proteins\n",
      "✅ UP000074247 (Toxoplasma gondii ARI): 9958 proteins\n",
      "✅ UP000236343 (Toxoplasma gondii COUG): 9866 proteins\n",
      "✅ UP000018144 (Pyronema omphalodes CBS 100304): 13306 proteins\n",
      "✅ UP000053562 (Plasmodium vivax India VII): 6588 proteins\n",
      "✅ UP000230002 (Ganoderma sinense ZZ0214-1): 15394 proteins\n",
      "✅ UP000029285 (Talaromyces marneffei PM1): 12156 proteins\n",
      "✅ UP000319824 (Rhizobium mongolense USDA 1844): 6588 proteins\n",
      "✅ UP000235464 (Streptomyces chartreusis NRRL 3882): 7911 proteins\n",
      "✅ UP000799537 (Zasmidium cellare ATCC 36951): 16014 proteins\n",
      "✅ UP000030751 (Fusarium oxysporum f. sp. pisi HDV247): 23263 proteins\n",
      "✅ UP000286716 (Amycolatopsis balhimycina DSM 5908): 9374 proteins\n",
      "✅ UP000076874 (Niveomyces insectorum RCEF 264): 9495 proteins\n",
      "✅ UP000030816 (Metarhizium album ARSEF 1941): 8389 proteins\n",
      "✅ UP000076744 (Cordyceps fumosorosea ARSEF 2679): 10050 proteins\n",
      "✅ UP000076863 (Beauveria brongniartii RCEF 3172): 9594 proteins\n",
      "✅ UP000076881 (Akanthomyces lecanii RCEF 1005): 11019 proteins\n",
      "✅ UP000078544 (Moelleriella libera RCEF 2490): 8458 proteins\n",
      "✅ UP000031523 (Streptomyces albus subsp. albus DSM 41398): 7323 proteins\n",
      "✅ UP000002949 (Mesorhizobium amorphae CCNWGS0123): 7083 proteins\n",
      "✅ UP000030108 (Rhizoctonia solani AG-3 Rhs1AP): 12711 proteins\n",
      "✅ UP000030701 (Fusarium oxysporum f. sp. vasinfectum 25433): 22248 proteins\n",
      "✅ UP000030685 (Fusarium odoratissimum NRRL 54006): 19807 proteins\n",
      "✅ UP000030703 (Fusarium oxysporum f. sp. melonis 26406): 23318 proteins\n",
      "✅ UP000030676 (Fusarium oxysporum f. sp. conglutinans race 2 54008): 23271 proteins\n",
      "✅ UP000030663 (Fusarium oxysporum f. sp. raphani 54005): 22754 proteins\n",
      "❌ Failed to download UP000003425 (Ralstonia solanacearum K60)\n",
      "✅ UP000002640 (Phytophthora sojae strain P6497): 25721 proteins\n",
      "✅ UP000054477 (Laccaria amethystina LaAM-08-1): 20893 proteins\n",
      "✅ UP000235371 (Hyaloscypha bicolor E): 18616 proteins\n",
      "✅ UP000009009 (Saccharomyces cerevisiae x Saccharomyces kudriavzevii VIN7): 9076 proteins\n",
      "✅ UP000005446 (Glarea lozoyensis 74030): 7926 proteins\n",
      "✅ UP000004038 (Sinorhizobium meliloti CCNWSX0020): 6841 proteins\n",
      "✅ UP000003250 (Mesorhizobium alhagi CCNWXJ12-2): 7195 proteins\n",
      "✅ UP000007148 (Serendipita indica DSM 11827): 11780 proteins\n",
      "✅ UP000005258 (Tistrella mobilis KA081020-065): 5779 proteins\n",
      "✅ UP000017048 (Nocardia asteroides NBRC 15531): 6460 proteins\n",
      "✅ UP000016801 (Claviceps purpurea 20.1): 8815 proteins\n",
      "✅ UP000005940 (Streptomyces tsukubensis NRRL18488): 6304 proteins\n",
      "✅ UP000016922 (Glarea lozoyensis ATCC 20868): 13082 proteins\n",
      "✅ UP000007735 (Sinorhizobium fredii HH103): 6072 proteins\n",
      "✅ UP000006319 (Plasmodium cynomolgi strain B): 5713 proteins\n",
      "✅ UP000274601 (Actinomadura pelletieri DSM 43383): 6664 proteins\n",
      "✅ UP000248259 (Parazoarcus communis SWub3 = DSM 12120): 4610 proteins\n",
      "✅ UP000487350 (Caenimonas koreensis DSM 17982): 4154 proteins\n",
      "✅ UP000675920 (Derxia gummosa DSM 723): 4331 proteins\n",
      "✅ UP000223913 (Flavilitoribacter nigricans DSM 23189 = NBRC 102662): 8179 proteins\n",
      "✅ UP000199473 (Falsiroseomonas stagni DSM 19981): 5902 proteins\n",
      "✅ UP000018851 (Sphingomonas sanxanigenens DSM 19645 = NX02): 6101 proteins\n",
      "✅ UP000013232 (Thauera linaloolentis 47Lol = DSM 12138): 3836 proteins\n",
      "❌ Failed to download UP001256598 (Pseudomonas protegens CHA0)\n",
      "✅ UP000215563 (Amycolatopsis alba DSM 44262): 8560 proteins\n",
      "✅ UP000007129 (Macrophomina phaseolina MS6): 13804 proteins\n",
      "✅ UP000005808 (Cupriavidus basilensis OR16): 7530 proteins\n",
      "✅ UP000054144 (Fistulina hepatica ATCC 64428): 9322 proteins\n",
      "✅ UP000005951 (Rhodococcus opacus M213): 8623 proteins\n",
      "✅ UP000028837 (Toxoplasma gondii GAB2-2007-GAL-DOM2): 9135 proteins\n",
      "✅ UP000075225 (Toxoplasma gondii TgCatPRC2): 10120 proteins\n",
      "✅ UP000016926 (Rhodotorula toruloides NP11): 8138 proteins\n",
      "✅ UP000006304 (Nocardia brasiliensis ATCC 700358): 8415 proteins\n",
      "✅ UP000027073 (Pleurotus ostreatus PC15): 12186 proteins\n",
      "✅ UP000184063 (Aspergillus luchuensis CBS 106.47): 13491 proteins\n",
      "✅ UP000011086 (Pyricularia oryzae Y34): 12860 proteins\n",
      "✅ UP000007587 (Corallococcus coralloides DSM 2259): 8019 proteins\n",
      "✅ UP000026913 (Pseudomonas mandelii JR-1): 6626 proteins\n",
      "✅ UP000235786 (Hyaloscypha variabilis F): 20347 proteins\n",
      "✅ UP000800082 (Didymella exigua CBS 183.55): 12355 proteins\n",
      "✅ UP000003448 (Micromonospora lupini str. Lupac 08): 6991 proteins\n",
      "✅ UP000011976 (Moesziomyces antarcticus T-34): 6640 proteins\n",
      "✅ UP000030762 (Saprolegnia diclina VS20): 18047 proteins\n",
      "✅ UP000194280 (Hortaea werneckii EXF-2000): 15464 proteins\n",
      "✅ UP000184300 (Aspergillus glaucus CBS 516.65): 11245 proteins\n",
      "✅ UP000002812 (Aspergillus oryzae 3.042): 11396 proteins\n",
      "✅ UP000275078 (Ascobolus immersus RN42): 17778 proteins\n",
      "✅ UP000011205 (Streptomyces viridochromogenes Tue57): 8832 proteins\n",
      "✅ UP000009036 (Streptomyces auratus AGR0001): 6513 proteins\n",
      "✅ UP000036947 (Tolypocladium ophioglossoides CBS 100239): 9303 proteins\n",
      "✅ UP000054564 (Puccinia striiformis f. sp. tritici PST-78): 19932 proteins\n",
      "✅ UP000016924 (Coniosporium apollinis CBS 100218): 9306 proteins\n",
      "✅ UP000800039 (Cucurbitaria berberidis CBS 394.84): 12428 proteins\n",
      "✅ UP000799291 (Lentithecium fluviatile CBS 122367): 16710 proteins\n",
      "✅ UP000799439 (Myriangium duriaei CBS 260.36): 10674 proteins\n",
      "✅ UP000041254 (Vitrella brassicaformis CCMP3155): 23030 proteins\n",
      "✅ UP000009882 (Penicillium digitatum PHI26): 9101 proteins\n",
      "✅ UP000009886 (Penicillium digitatum Pd1): 8961 proteins\n",
      "✅ UP000064183 (Streptomyces globisporus C-1027): 6614 proteins\n",
      "✅ UP000799438 (Aplosporella prunicola CBS 121167): 12493 proteins\n",
      "✅ UP000800041 (Aulographum hederae CBS 113979): 12052 proteins\n",
      "✅ UP000006281 (Saccharothrix espanaensis DSM 44229): 8423 proteins\n",
      "✅ UP000019484 (Capronia coronata CBS 617.96): 9230 proteins\n",
      "✅ UP000019478 (Capronia epimyces CBS 606.96): 10469 proteins\n",
      "✅ UP000019471 (Cladophialophora psammophila CBS 110553): 13417 proteins\n",
      "✅ UP000019473 (Cladophialophora yegresii CBS 114405): 10118 proteins\n",
      "✅ UP000027920 (Exophiala aquamarina CBS 119918): 13118 proteins\n",
      "✅ UP000191988 (Agrobacterium tomkonis CFBP 6623): 5410 proteins\n",
      "✅ UP000006180 (Sinorhizobium fredii USDA 257): 6698 proteins\n",
      "✅ UP000009309 (Fibrisoma limi BUZ 3): 6343 proteins\n",
      "✅ UP000002748 (Trichosporon asahii var. asahii CBS 2479): 8310 proteins\n",
      "✅ UP000217343 (Corallococcus macrosporus DSM 14697): 7112 proteins\n",
      "✅ UP000019678 (Chondromyces apiculatus DSM 436): 9037 proteins\n",
      "✅ UP000250079 (Granulosicoccus antarcticus IMCC3135): 6681 proteins\n",
      "✅ UP000014062 (Streptomyces lividans 1326): 8074 proteins\n",
      "✅ UP000009328 (Wickerhamomyces ciferrii NRRL Y-1031): 6698 proteins\n",
      "✅ UP000321424 (Nocardia ninae NBRC 108245): 8888 proteins\n",
      "✅ UP000014480 (Colletotrichum orbiculare MAFF 240422): 13230 proteins\n",
      "✅ UP000011096 (Colletotrichum fructicola Nara gc5): 17187 proteins\n",
      "✅ UP000008043 (Streptomyces davaonensis JCM 4913): 8553 proteins\n",
      "✅ UP000015423 (Streptomyces collinus Tu 365): 6682 proteins\n",
      "✅ UP000023758 (Trichophyton rubrum CBS 288.86): 10285 proteins\n",
      "✅ UP000023623 (Trichophyton soudanense CBS 452.61): 10303 proteins\n",
      "✅ UP000024533 (Trichophyton interdigitale MR816): 8217 proteins\n",
      "✅ UP000019491 (Rhodococcus wratislaviensis NBRC 100605): 9470 proteins\n",
      "✅ UP000006757 (Trichosporon asahii var. asahii CBS 8904): 8515 proteins\n",
      "✅ UP000026941 (Rhizobium rhizogenes NBRC 13257): 6618 proteins\n",
      "✅ UP000030752 (Cyphellophora europaea CBS 101466): 11090 proteins\n",
      "✅ UP000014254 (Mucor circinelloides 1006PhL): 12143 proteins\n",
      "✅ UP000017175 (Pseudomonas fluorescens NCIMB 11764): 6131 proteins\n",
      "✅ UP000011740 (Streptomyces mobaraensis NBRC 13819 = DSM 40847): 6422 proteins\n",
      "✅ UP000183971 (Fusarium proliferatum ET1): 16123 proteins\n",
      "✅ UP000010105 (Paraburkholderia phenoliruptrix BR3459a): 6489 proteins\n",
      "✅ UP000030651 (Pestalotiopsis fici W106-1): 15412 proteins\n",
      "✅ UP000016928 (Fusarium oxysporum f. sp. cubense race 1): 15355 proteins\n",
      "✅ UP000199727 (Cryptococcus neoformans var. grubii Tu259-1): 6937 proteins\n",
      "✅ UP000013042 (Thauera aminoaromatica S2): 3940 proteins\n",
      "✅ UP000013047 (Thauera phenylacetica B4P): 4836 proteins\n",
      "✅ UP000501648 (Herbaspirillum rubrisubalbicans Os34): 5282 proteins\n",
      "✅ UP000030640 (Plasmodium inui San Antonio 1): 5828 proteins\n",
      "✅ UP000015530 (Colletotrichum gloeosporioides Cg-14): 16388 proteins\n",
      "✅ UP000014137 (Amycolatopsis azurea DSM 43854): 8603 proteins\n",
      "✅ UP000032458 (Streptomyces natalensis ATCC 27448): 6559 proteins\n",
      "✅ UP000011682 (Cystobacter fuscus DSM 2262): 10513 proteins\n",
      "✅ UP000011841 (Bradyrhizobium oligotrophicum S58): 7223 proteins\n",
      "✅ UP000015503 (Metapseudomonas resinovorans NBRC 106553): 5795 proteins\n",
      "✅ UP000030106 (Beauveria bassiana D1-5): 11860 proteins\n",
      "✅ UP000016223 (Variovorax paradoxus B4): 6727 proteins\n",
      "✅ UP000017746 (Actinoplanes friuliensis DSM 7358): 8558 proteins\n",
      "✅ UP000034164 (Emmonsia crescens UAMH 3008): 9444 proteins\n",
      "✅ UP000014803 (Sorangium cellulosum So0157-2): 10372 proteins\n",
      "✅ UP000011083 (Acanthamoeba castellanii str. Neff): 14939 proteins\n",
      "✅ UP000016923 (Ophiostoma piceae UAMH 11346): 8878 proteins\n",
      "✅ UP000027586 (Lichtheimia corymbifera JMRC:FSU:9682): 13257 proteins\n",
      "✅ UP000019373 (Endocarpon pusillum Z07020): 9228 proteins\n",
      "✅ UP000013280 (Ralstonia pickettii OR214): 5243 proteins\n",
      "✅ UP000011991 (Rhodopirellula maiorica SM1): 7824 proteins\n",
      "✅ UP000011074 (Streptomyces rimosus subsp. rimosus ATCC 10970): 7990 proteins\n",
      "✅ UP000053110 (Blumeria graminis f. sp. tritici 96224): 4024 proteins\n",
      "✅ UP000031192 (Metarhizium guizhouense ARSEF 977): 11727 proteins\n",
      "✅ UP000215453 (Zymoseptoria tritici ST99CH_1A5): 12027 proteins\n",
      "✅ UP000245764 (Zymoseptoria tritici ST99CH_1E4): 11988 proteins\n",
      "✅ UP000215127 (Zymoseptoria tritici ST99CH_3D7): 11722 proteins\n",
      "✅ UP000053664 (Pseudozyma flocculosa PF-1): 4425 proteins\n",
      "✅ UP000011131 (Myxococcus stipitatus DSM 14675): 8043 proteins\n",
      "✅ UP000030678 (Cladophialophora carrionii CBS 160.54): 10373 proteins\n",
      "✅ UP000016800 (Fusarium fujikuroi IMI 58289): 14793 proteins\n",
      "✅ UP000028045 (Stachybotrys chartarum IBT 7711): 11510 proteins\n",
      "✅ UP001152876 (Hydrogenophaga taeniospiralis CCUG 15921): 4916 proteins\n",
      "✅ UP000015001 (Streptomyces afghaniensis 772): 9012 proteins\n",
      "✅ UP000028524 (Stachybotrys chlorohalonatus IBT 40285): 10676 proteins\n",
      "✅ UP000015100 (Dactylellina haptotyla CBS 200.50): 10959 proteins\n",
      "✅ UP000054226 (Amycolatopsis decaplanina DSM 44594): 7716 proteins\n",
      "✅ UP000702964 (Phytophthora kernoviae 00238/432): 11679 proteins\n",
      "✅ UP000014629 (Streptomyces aurantiacus JA 4570): 7752 proteins\n",
      "✅ UP000026714 (Sphaerotilus natans subsp. natans DSM 6575): 4177 proteins\n",
      "✅ UP000014074 (Phaeoacremonium minimum UCRPA7): 8833 proteins\n",
      "✅ UP000013521 (Neofusicoccum parvum UCRNP2): 10365 proteins\n",
      "✅ UP000012174 (Eutypa lata UCREL1): 11684 proteins\n",
      "✅ UP000012045 (Botrytis cinerea BcDW1): 11022 proteins\n",
      "✅ UP000054544 (Metarhizium anisopliae BRIP 53293): 11404 proteins\n",
      "✅ UP000014139 (Amycolatopsis vancoresmycina DSM 44592): 8680 proteins\n",
      "✅ UP000217289 (Melittangium boletus DSM 14713): 7974 proteins\n",
      "✅ UP000245431 (Pseudomonas veronii 1YdBTEX2): 7333 proteins\n",
      "✅ UP000094819 (Cryptococcus wingfieldii CBS 7118): 8085 proteins\n",
      "✅ UP000094043 (Cryptococcus depauperatus CBS 7841): 6334 proteins\n",
      "✅ UP000094065 (Cryptococcus amylolentus CBS 6039): 9877 proteins\n",
      "✅ UP001355207 (Kwoniella dendrophila CBS 6074): 8022 proteins\n",
      "✅ UP000094020 (Kwoniella pini CBS 10737): 7807 proteins\n",
      "✅ UP000092730 (Kwoniella bestiolae CBS 10118): 9104 proteins\n",
      "✅ UP000053392 (Cryptococcus deuterogattii Ram5): 6462 proteins\n",
      "✅ UP000095149 (Cryptococcus amylolentus CBS 6273): 8168 proteins\n",
      "✅ UP000092666 (Kwoniella heveanensis BCC8398): 7924 proteins\n",
      "✅ UP000078595 (Kwoniella dejecticola CBS 10117): 8630 proteins\n",
      "✅ UP000265663 (Pyrenophora seminiperda CCB06): 8702 proteins\n",
      "✅ UP000831484 (Rhodococcus qingshengii JCM 15477): 6682 proteins\n",
      "✅ UP000013304 (Streptomyces microflavus DSM 40593): 6916 proteins\n",
      "✅ UP000014071 (Pseudozyma hubeiensis SY62): 7472 proteins\n",
      "✅ UP000608955 (Streptomyces naganishii JCM 4654): 6962 proteins\n",
      "✅ UP000287830 (Streptomyces chrestomyceticus JCM 4735): 8054 proteins\n",
      "✅ UP000799441 (Polychaeton citri CBS 116435): 10579 proteins\n",
      "✅ UP000250266 (Lepidopterella palustris CBS 459.81): 13861 proteins\n",
      "✅ UP000054007 (Cylindrobasidium torrendii FP15055 ss-10): 13901 proteins\n",
      "✅ UP001206595 (Umbelopsis ramanniana AG): 9906 proteins\n",
      "✅ UP000078512 (Linnemannia elongata AG-77): 14849 proteins\n",
      "✅ UP000272025 (Sodiomyces alkalinus F11): 9397 proteins\n",
      "✅ UP000076798 (Sistotremastrum suecicum HHB10207 ss-3): 13633 proteins\n",
      "✅ UP000076722 (Sistotremastrum niveocremeum HHB9708): 13037 proteins\n",
      "✅ UP000308197 (Polyporus arcularius HHB13444): 17473 proteins\n",
      "✅ UP000800200 (Zopfia rhizophila CBS 207.26): 21463 proteins\n",
      "✅ UP000799421 (Piedraia hortae CBS 480.64): 7550 proteins\n",
      "✅ UP000077266 (Exidia glandulosa HHB12029): 26313 proteins\n",
      "✅ UP000076761 (Neolentinus lepideus HHB14362 ss-1): 13108 proteins\n",
      "✅ UP000076727 (Daedalea quercina L-15889): 12170 proteins\n",
      "✅ UP000076871 (Laetiporus sulphureus 93-53): 13712 proteins\n",
      "✅ UP000504637 (Dissoconium aciculare CBS 342.82): 10290 proteins\n",
      "✅ UP000799776 (Saccharata proteae CBS 121410): 9222 proteins\n",
      "✅ UP000799324 (Lophiostoma macrostomum CBS 122681): 16140 proteins\n",
      "✅ UP000193498 (Basidiobolus meristosporus CBS 931.73): 15513 proteins\n",
      "✅ UP000092154 (Rhizopogon vinicolor AM-OR11-026): 14447 proteins\n",
      "✅ UP000799428 (Pleomassaria siparia CBS 279.74): 13452 proteins\n",
      "✅ UP000799757 (Melanomma pulvis-pyrius CBS 109.77): 15833 proteins\n",
      "✅ UP000297245 (Dendrothele bispora CBS 962.96): 33018 proteins\n",
      "✅ UP000018958 (Phytophthora nicotianae CJ01A1): 26489 proteins\n",
      "✅ UP000018948 (Phytophthora nicotianae P10297): 26452 proteins\n",
      "✅ UP000018721 (Phytophthora nicotianae P1569): 26477 proteins\n",
      "✅ UP000028582 (Phytophthora nicotianae P1976): 26517 proteins\n",
      "✅ UP000194318 (Streptomyces fradiae ATCC 10745 = DSM 40063): 5721 proteins\n",
      "✅ UP000019146 (Paraburkholderia caribensis MBA4): 9021 proteins\n",
      "✅ UP000030060 (Pseudomonas fluorescens LMG 5329): 6125 proteins\n",
      "✅ UP001194468 (Boletus edulis BED1): 18020 proteins\n",
      "✅ UP000313359 (Lentinus tigrinus ALCF2SS1-6): 15512 proteins\n",
      "✅ UP000076632 (Xylona heveae TC161): 8201 proteins\n",
      "✅ UP000076738 (Calocera viscosa TUFC12733): 12323 proteins\n",
      "✅ UP000253664 (Ophiocordyceps polyrhachis-furcata BCC 54312): 10104 proteins\n",
      "✅ UP000092583 (Kwoniella mangroviensis CBS 10435): 8428 proteins\n",
      "✅ UP000186168 (Streptomyces sparsogenes DSM 40356): 8678 proteins\n",
      "✅ UP000276215 (Choiromyces venosus 120613-1): 17720 proteins\n",
      "✅ UP000799440 (Sporormia fimetaria CBS 119925): 10772 proteins\n",
      "✅ UP000242254 (Rhizopus microsporus ATCC 52813): 10804 proteins\n",
      "✅ UP000281594 (Streptomyces rapamycinicus NRRL 5491): 10187 proteins\n",
      "✅ UP000024376 (Trichoderma reesei RUT C-30): 9849 proteins\n",
      "✅ UP000070544 (Gonapodya prolifera JEL478): 13801 proteins\n",
      "✅ UP000799429 (Patellaria atrata CBS 101060): 9745 proteins\n",
      "✅ UP000015455 (Thauera terpenica 58Eu): 3813 proteins\n",
      "✅ UP000027178 (Kitasatospora cheerisanensis KCTC 2395): 7804 proteins\n",
      "✅ UP000027604 (Janthinobacterium agaricidamnosum NBRC 102515 = DSM 9628): 5488 proteins\n",
      "✅ UP000017984 (Streptomyces roseochromogenus subsp. oscitans DS 12.976): 8885 proteins\n",
      "✅ UP000254937 (Aspergillus phoenicis ATCC 13157): 11665 proteins\n",
      "✅ UP000253845 (Aspergillus niger ATCC 13496): 11942 proteins\n",
      "✅ UP000193067 (Trametes coccinea BRFM310): 12648 proteins\n",
      "✅ UP000076842 (Calocera cornea HHB12733): 13078 proteins\n",
      "✅ UP000018001 (Paecilomyces variotii No. 5): 8877 proteins\n",
      "✅ UP000030686 (Penicillium roqueforti FM164): 12315 proteins\n",
      "✅ UP000019377 (Kalmanozyma brasiliensis GHG001): 5650 proteins\n",
      "✅ UP000078397 (Pochonia chlamydosporia 170): 14143 proteins\n",
      "✅ UP000017559 (Moniliophthora roreri MCA 2997): 17976 proteins\n",
      "✅ UP000019384 (Kuraishia capsulata CBS 1993): 6027 proteins\n",
      "✅ UP000019486 (Skermanella stibiiresistens SB22): 7269 proteins\n",
      "✅ UP000019804 (Aspergillus ruber CBS 135680): 10054 proteins\n",
      "✅ UP000765509 (Austropuccinia psidii MF-1): 133953 proteins\n",
      "✅ UP000018087 (Sporothrix schenckii ATCC 58251): 8673 proteins\n",
      "✅ UP000028782 (Comamonas testosteroni TK102): 5539 proteins\n",
      "❌ Failed to download UP000032444 (Aspergillus flavus AF70)\n",
      "✅ UP000504638 (Eremomyces bilateralis CBS 781.70): 9854 proteins\n",
      "✅ UP000799771 (Dothidotthia symphoricarpi CBS 119687): 11786 proteins\n",
      "✅ UP000799779 (Amniculicola lignicola CBS 123094): 15571 proteins\n",
      "✅ UP000277580 (Morchella conica CCBAS932): 11578 proteins\n",
      "✅ UP000234254 (Aspergillus campestris IBT 28561): 9702 proteins\n",
      "✅ UP000234275 (Aspergillus steynii IBT 23096): 12965 proteins\n",
      "✅ UP000799764 (Karstenula rhodostoma CBS 690.94): 15037 proteins\n",
      "✅ UP000234474 (Aspergillus novofumigatus IBT 16806): 11480 proteins\n",
      "✅ UP000244073 (Aspergillus ochraceoroseus IBT 24754): 8866 proteins\n",
      "✅ UP000799753 (Massarina eburnea CBS 473.64): 12931 proteins\n",
      "✅ UP000033710 (Sporothrix schenckii 1099-18): 10292 proteins\n",
      "✅ UP000031575 (Sporothrix brasiliensis 5110): 9091 proteins\n",
      "✅ UP000807342 (Macrolepiota fuliginosa MF-IS2): 15707 proteins\n",
      "✅ UP000019184 (Candidatus Contendobacter odensis Run_B_J11): 4763 proteins\n",
      "✅ UP000035760 (Candidatus Competibacter denitrificans Run_A_D11): 4014 proteins\n",
      "✅ UP000033540 (Aspergillus parasiticus SU-1): 8651 proteins\n",
      "✅ UP000028547 (Archangium violaceum Cb vi76): 8199 proteins\n",
      "✅ UP000182658 (Coniochaeta ligniaria NRRL 30616): 13658 proteins\n",
      "✅ UP000799423 (Plenodomus tracheiphilus IPT5): 13190 proteins\n",
      "✅ UP000053958 (Rasamsonia emersonii CBS 393.64): 9842 proteins\n",
      "✅ UP000019150 (Nocardia nova SH22a): 7579 proteins\n",
      "✅ UP000017861 (Trypanosoma cruzi Dm28c): 11346 proteins\n",
      "✅ UP000076852 (Paraburkholderia phytofirmans OLGA172): 7096 proteins\n",
      "✅ UP000026739 (Pseudomonas mandelii PD30): 6122 proteins\n",
      "✅ UP000027456 (Rhizoctonia solani 123E): 10990 proteins\n",
      "✅ UP001358614 (Kwoniella europaea PYCC6329): 8573 proteins\n",
      "✅ UP000053732 (Penicillium camemberti FM 013): 14391 proteins\n",
      "✅ UP000027180 (Rhizobium etli bv. mimosae str. IE4771): 6739 proteins\n",
      "✅ UP000022910 (Rhizophagus irregularis DAOM 197198w): 28669 proteins\n",
      "✅ UP000019487 (Sclerotinia borealis F-4128): 10165 proteins\n",
      "✅ UP000245992 (Streptomyces scopuliridis RB72): 6830 proteins\n",
      "✅ UP000197153 (Nitrospirillum viridazoti CBAmc): 6034 proteins\n",
      "✅ UP000053029 (Fonsecaea pedrosoi CBS 271.37): 12525 proteins\n",
      "✅ UP000053617 (Rhinocladiella mackenziei CBS 650.93): 11378 proteins\n",
      "✅ UP000053789 (Cladophialophora bantiana CBS 173.52): 12756 proteins\n",
      "✅ UP000053411 (Fonsecaea multimorphosa CBS 102226): 12368 proteins\n",
      "✅ UP000023435 (Lysobacter capsici AZ78): 5276 proteins\n",
      "✅ UP000020467 (Colletotrichum fioriniae PJ7): 13759 proteins\n",
      "✅ UP000182235 (Emergomyces pasteurianus Ep9510): 8944 proteins\n",
      "✅ UP000223968 (Helicocarpus griseus UAMH5409): 10216 proteins\n",
      "✅ UP000224634 (Polytolypa hystricis UAMH7299): 9934 proteins\n",
      "✅ UP000800036 (Bimuria novae-zelandiae CBS 107.79): 16571 proteins\n",
      "✅ UP000799118 (Gymnopus androsaceus JB14): 29201 proteins\n",
      "✅ UP000240883 (Corynespora cassiicola Philippines): 17125 proteins\n",
      "✅ UP000886523 (Hydnum rufescens UP504): 18582 proteins\n",
      "✅ UP000247647 (Aspergillus neoniger CBS 115656): 11937 proteins\n",
      "✅ UP000248405 (Aspergillus vadensis CBS 113365): 12132 proteins\n",
      "✅ UP000249497 (Aspergillus japonicus CBS 114.51): 12019 proteins\n",
      "✅ UP000249526 (Aspergillus piperis CBS 112811): 12061 proteins\n",
      "✅ UP000246171 (Aspergillus eucalypticola CBS 122712): 11883 proteins\n",
      "✅ UP000248340 (Aspergillus uvarum CBS 121591): 12014 proteins\n",
      "✅ UP000249402 (Aspergillus ibericus CBS 121593): 11680 proteins\n",
      "✅ UP000248423 (Aspergillus sclerotiicarbonarius CBS 121057): 12562 proteins\n",
      "✅ UP000249789 (Aspergillus fijiensis CBS 313.89): 12018 proteins\n",
      "✅ UP000247810 (Aspergillus ellipticus CBS 707.79): 12861 proteins\n",
      "✅ UP000247233 (Aspergillus heteromorphus CBS 117.55): 10837 proteins\n",
      "✅ UP000019225 (Kutzneria albida DSM 43870): 8775 proteins\n",
      "✅ UP000799778 (Aaosphaeria arxii CBS 175.79): 14198 proteins\n",
      "✅ UP000246702 (Aspergillus sclerotioniger CBS 115572): 12304 proteins\n",
      "✅ UP000812287 (Guyanagaster necrorhizus MCA 3950): 14190 proteins\n",
      "✅ UP000248961 (Aspergillus homomorphus CBS 101889): 11360 proteins\n",
      "✅ UP000249829 (Aspergillus violaceofuscus CBS 115571): 12074 proteins\n",
      "✅ UP000248349 (Aspergillus saccharolyticus JOP 1030-1): 10061 proteins\n",
      "✅ UP000248817 (Aspergillus indologenus CBS 114.80): 12161 proteins\n",
      "✅ UP000256220 (Amycolatopsis lurida NRRL 2430): 8138 proteins\n",
      "✅ UP000070054 (Colletotrichum nymphaeae SA-01): 14402 proteins\n",
      "✅ UP000029738 (Tolypothrix bouteillei VB521301): 7632 proteins\n",
      "✅ UP000037505 (Aspergillus nomiae NRRL 13137): 11916 proteins\n",
      "✅ UP000799536 (Delitschia confertaspora ATCC 74209): 10166 proteins\n",
      "✅ UP000662314 (Dendronalium phyllosphericum CENA369): 7004 proteins\n",
      "✅ UP000252107 (Nostoc minutum NIES-26): 7588 proteins\n",
      "✅ UP001050975 (Microseira wollei NIES-4236): 9431 proteins\n",
      "✅ UP000326678 (Nostoc sphaeroides CCNUC1): 10233 proteins\n",
      "✅ UP000667802 (Aetokthonos hydrillicola Thurmond2011): 8000 proteins\n",
      "✅ UP000629098 (Iningainema tapete BLCC-T55): 8412 proteins\n",
      "✅ UP000641646 (Aerosakkonema funiforme FACHB-1375): 7004 proteins\n",
      "\n",
      "🎯 Combined database saved to: fasta_proteomes_proteomes_api/session_strain_level_2025-05-13_21-52-07\\custom_strain_protein_database.fasta\n",
      "🧬 Total proteins in database: 7454722\n"
     ]
    }
   ],
   "source": [
    "import pandas as pd\n",
    "import os\n",
    "import requests\n",
    "\n",
    "# === 1. Define paths ===\n",
    "proteome_csv_path = f\"fasta_proteomes_proteomes_api/session_strain_level_{session_time}\\strain_proteome_matches.csv\"\n",
    "output_dir = os.path.dirname(proteome_csv_path)\n",
    "combined_fasta_path = os.path.join(output_dir, \"custom_strain_protein_database.fasta\")\n",
    "\n",
    "# === 2. Function to download FASTA from UniProt by proteome ID ===\n",
    "def download_fasta(proteome_id):\n",
    "    url = f\"https://rest.uniprot.org/uniprotkb/stream?query=proteome:{proteome_id}&format=fasta\"\n",
    "    response = requests.get(url)\n",
    "    if response.ok and response.text.strip():\n",
    "        return response.text\n",
    "    return None\n",
    "\n",
    "# === 3. Read proteome list ===\n",
    "df = pd.read_csv(proteome_csv_path)\n",
    "valid_df = df[df[\"Proteome ID (UPID)\"].notna()]\n",
    "\n",
    "# === 4. Process proteomes ===\n",
    "total_proteins = 0\n",
    "print(\"📦 Starting protein download...\\n\")\n",
    "\n",
    "with open(combined_fasta_path, \"w\") as fasta_out:\n",
    "    for _, row in valid_df.iterrows():\n",
    "        upid = row[\"Proteome ID (UPID)\"]\n",
    "        name = row[\"Taxon Name\"]\n",
    "\n",
    "        fasta = download_fasta(upid)\n",
    "        if fasta:\n",
    "            count = fasta.count(\">\")\n",
    "            total_proteins += count\n",
    "            fasta_out.write(fasta)\n",
    "            print(f\"✅ {upid} ({name}): {count} proteins\")\n",
    "        else:\n",
    "            print(f\"❌ Failed to download {upid} ({name})\")\n",
    "\n",
    "print(f\"\\n🎯 Combined database saved to: {combined_fasta_path}\")\n",
    "print(f\"🧬 Total proteins in database: {total_proteins}\")"
   ]
  },
  {
   "cell_type": "code",
   "execution_count": null,
   "id": "e70d178b",
   "metadata": {},
   "outputs": [
    {
     "name": "stdout",
     "output_type": "stream",
     "text": [
      "🔁 Converted WSL input path:\n",
      "/mnt/c/Users/Yusuf/OneDrive/LST/Derde_jaar/Y3Q4/Pipeline/fasta_proteomes_proteomes_api/session_strain_level_2025-05-13_17-30-32/custom_strain_protein_database.fasta\n",
      "📄 Output clustered FASTA will be:\n",
      "/mnt/c/Users/Yusuf/OneDrive/LST/Derde_jaar/Y3Q4/Pipeline/fasta_proteomes_proteomes_api/session_strain_level_2025-05-13_17-30-32/custom_strain_protein_database_clustered50.fasta\n",
      "\n",
      "🔄 Running: wsl mmseqs createdb /mnt/c/Users/Yusuf/OneDrive/LST/Derde_jaar/Y3Q4/Pipeline/fasta_proteomes_proteomes_api/session_strain_level_2025-05-13_17-30-32/custom_strain_protein_database.fasta custom_db\n",
      "custom_db exists and will be overwritten\n",
      "createdb /mnt/c/Users/Yusuf/OneDrive/LST/Derde_jaar/Y3Q4/Pipeline/fasta_proteomes_proteomes_api/session_strain_level_2025-05-13_17-30-32/custom_strain_protein_database.fasta custom_db\n",
      "\n",
      "MMseqs Version:       \tdefe1afca38747fda4811bb427150fc595d84f43\n",
      "Database type         \t0\n",
      "Shuffle input database\ttrue\n",
      "Createdb mode         \t0\n",
      "Write lookup file     \t1\n",
      "Offset of numeric ids \t0\n",
      "Compressed            \t0\n",
      "Verbosity             \t3\n",
      "\n",
      "Converting sequences\n",
      "[===================================================================================================\t1 Mio. sequences processed\n",
      "========================================================================================\n",
      "Time for merging to custom_db_h: 0h 0m 5s 149ms\n",
      "Time for merging to custom_db: 0h 0m 9s 575ms\n",
      "Database type: Aminoacid\n",
      "Time for processing: 0h 0m 48s 754ms\n",
      "\n",
      "🔄 Running: wsl mmseqs cluster custom_db clustered_db tmp --min-seq-id 0.5\n",
      "cluster custom_db clustered_db tmp --min-seq-id 0.5\n",
      "\n",
      "MMseqs Version:                     \tdefe1afca38747fda4811bb427150fc595d84f43\n",
      "Substitution matrix                 \taa:blosum62.out,nucl:nucleotide.out\n",
      "Seed substitution matrix            \taa:VTML80.out,nucl:nucleotide.out\n",
      "Sensitivity                         \t4\n",
      "k-mer length                        \t0\n",
      "Target search mode                  \t0\n",
      "k-score                             \tseq:2147483647,prof:2147483647\n",
      "Alphabet size                       \taa:21,nucl:5\n",
      "Max sequence length                 \t65535\n",
      "Max results per query               \t20\n",
      "Split database                      \t0\n",
      "Split mode                          \t2\n",
      "Split memory limit                  \t0\n",
      "Coverage threshold                  \t0.8\n",
      "Coverage mode                       \t0\n",
      "Compositional bias                  \t1\n",
      "Compositional bias scale            \t1\n",
      "Diagonal scoring                    \ttrue\n",
      "Exact k-mer matching                \t0\n",
      "Mask residues                       \t1\n",
      "Mask residues probability           \t0.9\n",
      "Mask lower case residues            \t0\n",
      "Mask lower letter repeating N times \t0\n",
      "Minimum diagonal score              \t15\n",
      "Selected taxa\n",
      "Include identical seq. id.          \tfalse\n",
      "Spaced k-mers                       \t1\n",
      "Preload mode                        \t0\n",
      "Pseudo count a                      \tsubstitution:1.100,context:1.400\n",
      "Pseudo count b                      \tsubstitution:4.100,context:5.800\n",
      "Spaced k-mer pattern\n",
      "Local temporary path\n",
      "Threads                             \t12\n",
      "Compressed                          \t0\n",
      "Verbosity                           \t3\n",
      "Add backtrace                       \tfalse\n",
      "Alignment mode                      \t3\n",
      "Alignment mode                      \t0\n",
      "Allow wrapped scoring               \tfalse\n",
      "E-value threshold                   \t0.001\n",
      "Seq. id. threshold                  \t0.5\n",
      "Min alignment length                \t0\n",
      "Seq. id. mode                       \t0\n",
      "Alternative alignments              \t0\n",
      "Max reject                          \t2147483647\n",
      "Max accept                          \t2147483647\n",
      "Score bias                          \t0\n",
      "Realign hits                        \tfalse\n",
      "Realign score bias                  \t-0.2\n",
      "Realign max seqs                    \t2147483647\n",
      "Correlation score weight            \t0\n",
      "Gap open cost                       \taa:11,nucl:5\n",
      "Gap extension cost                  \taa:1,nucl:2\n",
      "Zdrop                               \t40\n",
      "Rescore mode                        \t0\n",
      "Remove hits by seq. id. and coverage\tfalse\n",
      "Sort results                        \t0\n",
      "Cluster mode                        \t0\n",
      "Max connected component depth       \t1000\n",
      "Similarity type                     \t2\n",
      "Weight file name\n",
      "Cluster Weight threshold            \t0.9\n",
      "Single step clustering              \tfalse\n",
      "Cascaded clustering steps           \t3\n",
      "Cluster reassign                    \tfalse\n",
      "Remove temporary files              \tfalse\n",
      "Force restart with latest tmp       \tfalse\n",
      "MPI runner\n",
      "k-mers per sequence                 \t21\n",
      "Scale k-mers per sequence           \taa:0.000,nucl:0.200\n",
      "Adjust k-mer length                 \tfalse\n",
      "Shift hash                          \t67\n",
      "Include only extendable             \tfalse\n",
      "Skip repeating k-mers               \tfalse\n",
      "\n",
      "Set cluster sensitivity to -s 3.000000\n",
      "Set cluster mode SET COVER\n",
      "Set cluster iterations to 3\n",
      "linclust custom_db tmp/6073622973636308846/clu_redundancy tmp/6073622973636308846/linclust --cluster-mode 0 --max-iterations 1000 --similarity-type 2 --threads 12 --compressed 0 -v 3 --cluster-weight-threshold 0.9 --sub-mat 'aa:blosum62.out,nucl:nucleotide.out' -a 0 --alignment-mode 3 --alignment-output-mode 0 --wrapped-scoring 0 -e 0.001 --min-seq-id 0.5 --min-aln-len 0 --seq-id-mode 0 --alt-ali 0 -c 0.8 --cov-mode 0 --max-seq-len 65535 --comp-bias-corr 1 --comp-bias-corr-scale 1 --max-rejected 2147483647 --max-accept 2147483647 --add-self-matches 0 --db-load-mode 0 --pca substitution:1.100,context:1.400 --pcb substitution:4.100,context:5.800 --score-bias 0 --realign 0 --realign-score-bias -0.2 --realign-max-seqs 2147483647 --corr-score-weight 0 --gap-open aa:11,nucl:5 --gap-extend aa:1,nucl:2 --zdrop 40 --alph-size aa:13,nucl:5 --kmer-per-seq 21 --spaced-kmer-mode 1 --kmer-per-seq-scale aa:0.000,nucl:0.200 --adjust-kmer-len 0 --mask 0 --mask-prob 0.9 --mask-lower-case 0 --mask-n-repeat 0 -k 0 --hash-shift 67 --split-memory-limit 0 --include-only-extendable 0 --ignore-multi-kmer 0 --rescore-mode 0 --filter-hits 0 --sort-results 0 --remove-tmp-files 0 --force-reuse 0\n",
      "\n",
      "kmermatcher custom_db tmp/6073622973636308846/linclust/9070321297044658396/pref --sub-mat 'aa:blosum62.out,nucl:nucleotide.out' --alph-size aa:13,nucl:5 --min-seq-id 0.5 --kmer-per-seq 21 --spaced-kmer-mode 1 --kmer-per-seq-scale aa:0.000,nucl:0.200 --adjust-kmer-len 0 --mask 0 --mask-prob 0.9 --mask-lower-case 0 --mask-n-repeat 0 --cov-mode 0 -k 0 -c 0.8 --max-seq-len 65535 --hash-shift 67 --split-memory-limit 0 --include-only-extendable 0 --ignore-multi-kmer 0 --threads 12 --compressed 0 -v 3 --cluster-weight-threshold 0.9\n",
      "\n",
      "kmermatcher custom_db tmp/6073622973636308846/linclust/9070321297044658396/pref --sub-mat 'aa:blosum62.out,nucl:nucleotide.out' --alph-size aa:13,nucl:5 --min-seq-id 0.5 --kmer-per-seq 21 --spaced-kmer-mode 1 --kmer-per-seq-scale aa:0.000,nucl:0.200 --adjust-kmer-len 0 --mask 0 --mask-prob 0.9 --mask-lower-case 0 --mask-n-repeat 0 --cov-mode 0 -k 0 -c 0.8 --max-seq-len 65535 --hash-shift 67 --split-memory-limit 0 --include-only-extendable 0 --ignore-multi-kmer 0 --threads 12 --compressed 0 -v 3 --cluster-weight-threshold 0.9\n",
      "\n",
      "Database size: 1885063 type: Aminoacid\n",
      "Reduced amino acid alphabet: (A S T) (C) (D B N) (E Q Z) (F Y) (G) (H) (I V) (K R) (L J M) (P) (W) (X)\n",
      "\n",
      "Generate k-mers list for 1 split\n",
      "[=================================================================] 1.89M 8s 146ms\n",
      "Sort kmer 0h 0m 6s 861ms\n",
      "Sort by rep. sequence 0h 0m 3s 160ms\n",
      "Time for fill: 0h 0m 1s 795ms\n",
      "Time for merging to pref: 0h 0m 0s 24ms\n",
      "Time for processing: 0h 0m 22s 315ms\n",
      "rescorediagonal custom_db custom_db tmp/6073622973636308846/linclust/9070321297044658396/pref tmp/6073622973636308846/linclust/9070321297044658396/pref_rescore1 --sub-mat 'aa:blosum62.out,nucl:nucleotide.out' --rescore-mode 0 --wrapped-scoring 0 --filter-hits 0 -e 0.001 -c 0.8 -a 0 --cov-mode 0 --min-seq-id 0.5 --min-aln-len 0 --seq-id-mode 0 --add-self-matches 0 --sort-results 0 --db-load-mode 0 --threads 12 --compressed 0 -v 3\n",
      "\n",
      "[=================================================================] 1.89M 1s 587ms\n",
      "Time for merging to pref_rescore1: 0h 0m 4s 894ms\n",
      "Time for processing: 0h 0m 27s 785ms\n",
      "clust custom_db tmp/6073622973636308846/linclust/9070321297044658396/pref_rescore1 tmp/6073622973636308846/linclust/9070321297044658396/pre_clust --cluster-mode 0 --max-iterations 1000 --similarity-type 2 --threads 12 --compressed 0 -v 3 --cluster-weight-threshold 0.9\n",
      "\n",
      "Clustering mode: Set Cover\n",
      "[=================================================================] 1.89M 0s 717ms\n",
      "Sort entries\n",
      "Find missing connections\n",
      "Found 1491554 new connections.\n",
      "Reconstruct initial order\n",
      "[=================================================================] 1.89M 0s 985ms\n",
      "Add missing connections\n",
      "[=================================================================] 1.89M 0s 87ms\n",
      "\n",
      "Time for read in: 0h 0m 2s 80ms\n",
      "Total time: 0h 0m 2s 712ms\n",
      "\n",
      "Size of the sequence database: 1885063\n",
      "Size of the alignment database: 1885063\n",
      "Number of clusters: 1188607\n",
      "\n",
      "Writing results 0h 0m 0s 602ms\n",
      "Time for merging to pre_clust: 0h 0m 0s 15ms\n",
      "Time for processing: 0h 0m 4s 408ms\n",
      "createsubdb tmp/6073622973636308846/linclust/9070321297044658396/order_redundancy custom_db tmp/6073622973636308846/linclust/9070321297044658396/input_step_redundancy -v 3 --subdb-mode 1\n",
      "\n",
      "Time for merging to input_step_redundancy: 0h 0m 0s 9ms\n",
      "Time for processing: 0h 0m 1s 803ms\n",
      "createsubdb tmp/6073622973636308846/linclust/9070321297044658396/order_redundancy tmp/6073622973636308846/linclust/9070321297044658396/pref tmp/6073622973636308846/linclust/9070321297044658396/pref_filter1 -v 3 --subdb-mode 1\n",
      "\n",
      "Time for merging to pref_filter1: 0h 0m 0s 9ms\n",
      "Time for processing: 0h 0m 1s 913ms\n",
      "filterdb tmp/6073622973636308846/linclust/9070321297044658396/pref_filter1 tmp/6073622973636308846/linclust/9070321297044658396/pref_filter2 --filter-file tmp/6073622973636308846/linclust/9070321297044658396/order_redundancy --threads 12 --compressed 0 -v 3\n",
      "\n",
      "Filtering using file(s)\n",
      "[=================================================================] 1.19M 1s 7ms\n",
      "Time for merging to pref_filter2: 0h 0m 2s 385ms\n",
      "Time for processing: 0h 0m 4s 399ms\n",
      "rescorediagonal tmp/6073622973636308846/linclust/9070321297044658396/input_step_redundancy tmp/6073622973636308846/linclust/9070321297044658396/input_step_redundancy tmp/6073622973636308846/linclust/9070321297044658396/pref_filter2 tmp/6073622973636308846/linclust/9070321297044658396/pref_rescore2 --sub-mat 'aa:blosum62.out,nucl:nucleotide.out' --rescore-mode 1 --wrapped-scoring 0 --filter-hits 1 -e 0.001 -c 0.8 -a 0 --cov-mode 0 --min-seq-id 0.5 --min-aln-len 0 --seq-id-mode 0 --add-self-matches 0 --sort-results 0 --db-load-mode 0 --threads 12 --compressed 0 -v 3\n",
      "\n",
      "[=================================================================] 1.19M 1s 378ms\n",
      "Time for merging to pref_rescore2: 0h 0m 2s 298ms\n",
      "Time for processing: 0h 0m 20s 946ms\n",
      "align tmp/6073622973636308846/linclust/9070321297044658396/input_step_redundancy tmp/6073622973636308846/linclust/9070321297044658396/input_step_redundancy tmp/6073622973636308846/linclust/9070321297044658396/pref_rescore2 tmp/6073622973636308846/linclust/9070321297044658396/aln --sub-mat 'aa:blosum62.out,nucl:nucleotide.out' -a 0 --alignment-mode 3 --alignment-output-mode 0 --wrapped-scoring 0 -e 0.001 --min-seq-id 0.5 --min-aln-len 0 --seq-id-mode 0 --alt-ali 0 -c 0.8 --cov-mode 0 --max-seq-len 65535 --comp-bias-corr 1 --comp-bias-corr-scale 1 --max-rejected 2147483647 --max-accept 2147483647 --add-self-matches 0 --db-load-mode 0 --pca substitution:1.100,context:1.400 --pcb substitution:4.100,context:5.800 --score-bias 0 --realign 0 --realign-score-bias -0.2 --realign-max-seqs 2147483647 --corr-score-weight 0 --gap-open aa:11,nucl:5 --gap-extend aa:1,nucl:2 --zdrop 40 --threads 12 --compressed 0 -v 3\n",
      "\n",
      "Compute score, coverage and sequence identity\n",
      "Query database size: 1188607 type: Aminoacid\n",
      "Target database size: 1188607 type: Aminoacid\n",
      "Calculation of alignments\n",
      "[=================================================================] 1.19M 1m 15s 668ms\n",
      "Time for merging to aln: 0h 0m 2s 439ms\n",
      "1687701 alignments calculated\n",
      "1469242 sequence pairs passed the thresholds (0.870558 of overall calculated)\n",
      "1.236104 hits per query sequence\n",
      "Time for processing: 0h 1m 34s 648ms\n",
      "clust tmp/6073622973636308846/linclust/9070321297044658396/input_step_redundancy tmp/6073622973636308846/linclust/9070321297044658396/aln tmp/6073622973636308846/linclust/9070321297044658396/clust --cluster-mode 0 --max-iterations 1000 --similarity-type 2 --threads 12 --compressed 0 -v 3 --cluster-weight-threshold 0.9\n",
      "\n",
      "Clustering mode: Set Cover\n",
      "[=================================================================] 1.19M 0s 562ms\n",
      "Sort entries\n",
      "Find missing connections\n",
      "Found 280635 new connections.\n",
      "Reconstruct initial order\n",
      "[=================================================================] 1.19M 1s 40ms\n",
      "Add missing connections\n",
      "[=================================================================] 1.19M 0s 34ms\n",
      "\n",
      "Time for read in: 0h 0m 1s 811ms\n",
      "Total time: 0h 0m 3s 235ms\n",
      "\n",
      "Size of the sequence database: 1188607\n",
      "Size of the alignment database: 1188607\n",
      "Number of clusters: 1012066\n",
      "\n",
      "Writing results 0h 0m 0s 525ms\n",
      "Time for merging to clust: 0h 0m 0s 14ms\n",
      "Time for processing: 0h 0m 4s 389ms\n",
      "mergeclusters custom_db tmp/6073622973636308846/clu_redundancy tmp/6073622973636308846/linclust/9070321297044658396/pre_clust tmp/6073622973636308846/linclust/9070321297044658396/clust --threads 12 --compressed 0 -v 3\n",
      "\n",
      "Clustering step 1\n",
      "[=================================================================] 1.19M 0s 261ms\n",
      "Clustering step 2\n",
      "[=================================================================] 1.01M 0s 628ms\n",
      "Write merged clustering\n",
      "[=================================================================] 1.89M 0s 877ms\n",
      "Time for merging to clu_redundancy: 0h 0m 1s 730ms\n",
      "Time for processing: 0h 0m 3s 405ms\n",
      "createsubdb tmp/6073622973636308846/clu_redundancy custom_db tmp/6073622973636308846/input_step_redundancy -v 3 --subdb-mode 1\n",
      "\n",
      "Time for merging to input_step_redundancy: 0h 0m 0s 8ms\n",
      "Time for processing: 0h 0m 1s 802ms\n",
      "prefilter tmp/6073622973636308846/input_step_redundancy tmp/6073622973636308846/input_step_redundancy tmp/6073622973636308846/pref_step0 --sub-mat 'aa:blosum62.out,nucl:nucleotide.out' --seed-sub-mat 'aa:VTML80.out,nucl:nucleotide.out' -s 1 -k 0 --target-search-mode 0 --k-score seq:2147483647,prof:2147483647 --alph-size aa:21,nucl:5 --max-seq-len 65535 --max-seqs 20 --split 0 --split-mode 2 --split-memory-limit 0 -c 0.8 --cov-mode 0 --comp-bias-corr 0 --comp-bias-corr-scale 1 --diag-score 0 --exact-kmer-matching 0 --mask 1 --mask-prob 0.9 --mask-lower-case 0 --mask-n-repeat 0 --min-ungapped-score 0 --add-self-matches 0 --spaced-kmer-mode 1 --db-load-mode 0 --pca substitution:1.100,context:1.400 --pcb substitution:4.100,context:5.800 --threads 12 --compressed 0 -v 3\n",
      "\n",
      "Query database size: 1012066 type: Aminoacid\n",
      "Estimated memory consumption: 4G\n",
      "Target database size: 1012066 type: Aminoacid\n",
      "Index table k-mer threshold: 154 at k-mer size 6\n",
      "Index table: counting k-mers\n",
      "[=================================================================] 1.01M 9s 810ms\n",
      "Index table: Masked residues: 10058090\n",
      "Index table: fill\n",
      "[=================================================================] 1.01M 4s 370ms\n",
      "Index statistics\n",
      "Entries:          175860107\n",
      "DB size:          1494 MB\n",
      "Avg k-mer size:   2.747814\n",
      "Top 10 k-mers\n",
      "STYPDG\t3426\n",
      "HPTGER\t3340\n",
      "IIDDFT\t3209\n",
      "GTLFAY\t2967\n",
      "DPFSWT\t2659\n",
      "GDRLYT\t2303\n",
      "RDKTLW\t2257\n",
      "WPFGEY\t1920\n",
      "IIHGEY\t1862\n",
      "ERYPRR\t1774\n",
      "Time for index table init: 0h 0m 14s 796ms\n",
      "Process prefiltering step 1 of 1\n",
      "\n",
      "k-mer similarity threshold: 154\n",
      "Starting prefiltering scores calculation (step 1 of 1)\n",
      "Query db start 1 to 1012066\n",
      "Target db start 1 to 1012066\n",
      "[=================================================================] 1.01M 33s 787ms\n",
      "\n",
      "2.291123 k-mers per position\n",
      "5344 DB matches per sequence\n",
      "0 overflows\n",
      "15 sequences passed prefiltering per query sequence\n",
      "20 median result list length\n",
      "0 sequences with 0 size result lists\n",
      "Time for merging to pref_step0: 0h 0m 2s 662ms\n",
      "Time for processing: 0h 0m 52s 324ms\n",
      "align tmp/6073622973636308846/input_step_redundancy tmp/6073622973636308846/input_step_redundancy tmp/6073622973636308846/pref_step0 tmp/6073622973636308846/aln_step0 --sub-mat 'aa:blosum62.out,nucl:nucleotide.out' -a 0 --alignment-mode 3 --alignment-output-mode 0 --wrapped-scoring 0 -e 0.001 --min-seq-id 0.5 --min-aln-len 0 --seq-id-mode 0 --alt-ali 0 -c 0.8 --cov-mode 0 --max-seq-len 65535 --comp-bias-corr 0 --comp-bias-corr-scale 1 --max-rejected 2147483647 --max-accept 2147483647 --add-self-matches 0 --db-load-mode 0 --pca substitution:1.100,context:1.400 --pcb substitution:4.100,context:5.800 --score-bias 0 --realign 0 --realign-score-bias -0.2 --realign-max-seqs 2147483647 --corr-score-weight 0 --gap-open aa:11,nucl:5 --gap-extend aa:1,nucl:2 --zdrop 40 --threads 12 --compressed 0 -v 3\n",
      "\n",
      "Compute score, coverage and sequence identity\n",
      "Query database size: 1012066 type: Aminoacid\n",
      "Target database size: 1012066 type: Aminoacid\n",
      "Calculation of alignments\n",
      "[=================================================================] 1.01M 7m 37s 429ms\n",
      "Time for merging to aln_step0: 0h 0m 1s 779ms\n",
      "5612191 alignments calculated\n",
      "1785401 sequence pairs passed the thresholds (0.318129 of overall calculated)\n",
      "1.764115 hits per query sequence\n",
      "Time for processing: 0h 7m 56s 487ms\n",
      "clust tmp/6073622973636308846/input_step_redundancy tmp/6073622973636308846/aln_step0 tmp/6073622973636308846/clu_step0 --cluster-mode 0 --max-iterations 1000 --similarity-type 2 --threads 12 --compressed 0 -v 3 --cluster-weight-threshold 0.9\n",
      "\n",
      "Clustering mode: Set Cover\n",
      "[=================================================================] 1.01M 0s 603ms\n",
      "Sort entries\n",
      "Find missing connections\n",
      "Found 187933 new connections.\n",
      "Reconstruct initial order\n",
      "[=================================================================] 1.01M 1s 189ms\n",
      "Add missing connections\n",
      "[=================================================================] 1.01M 0s 45ms\n",
      "\n",
      "Time for read in: 0h 0m 1s 985ms\n",
      "Total time: 0h 0m 2s 552ms\n",
      "\n",
      "Size of the sequence database: 1012066\n",
      "Size of the alignment database: 1012066\n",
      "Number of clusters: 830474\n",
      "\n",
      "Writing results 0h 0m 0s 386ms\n",
      "Time for merging to clu_step0: 0h 0m 0s 12ms\n",
      "Time for processing: 0h 0m 3s 487ms\n",
      "createsubdb tmp/6073622973636308846/clu_step0 tmp/6073622973636308846/input_step_redundancy tmp/6073622973636308846/input_step1 -v 3 --subdb-mode 1\n",
      "\n",
      "Time for merging to input_step1: 0h 0m 0s 8ms\n",
      "Time for processing: 0h 0m 1s 176ms\n",
      "prefilter tmp/6073622973636308846/input_step1 tmp/6073622973636308846/input_step1 tmp/6073622973636308846/pref_step1 --sub-mat 'aa:blosum62.out,nucl:nucleotide.out' --seed-sub-mat 'aa:VTML80.out,nucl:nucleotide.out' -s 2 -k 0 --target-search-mode 0 --k-score seq:2147483647,prof:2147483647 --alph-size aa:21,nucl:5 --max-seq-len 65535 --max-seqs 20 --split 0 --split-mode 2 --split-memory-limit 0 -c 0.8 --cov-mode 0 --comp-bias-corr 1 --comp-bias-corr-scale 1 --diag-score 1 --exact-kmer-matching 0 --mask 1 --mask-prob 0.9 --mask-lower-case 0 --mask-n-repeat 0 --min-ungapped-score 15 --add-self-matches 0 --spaced-kmer-mode 1 --db-load-mode 0 --pca substitution:1.100,context:1.400 --pcb substitution:4.100,context:5.800 --threads 12 --compressed 0 -v 3\n",
      "\n",
      "Query database size: 830474 type: Aminoacid\n",
      "Estimated memory consumption: 3G\n",
      "Target database size: 830474 type: Aminoacid\n",
      "Index table k-mer threshold: 145 at k-mer size 6\n",
      "Index table: counting k-mers\n",
      "[=================================================================] 830.47K 8s 831ms\n",
      "Index table: Masked residues: 8648660\n",
      "Index table: fill\n",
      "[=================================================================] 830.47K 4s 771ms\n",
      "Index statistics\n",
      "Entries:          208393890\n",
      "DB size:          1680 MB\n",
      "Avg k-mer size:   3.256155\n",
      "Top 10 k-mers\n",
      "WFRWQE\t1703\n",
      "LPELIF\t1300\n",
      "LPERIY\t1280\n",
      "HPTGER\t1094\n",
      "ISRPTS\t1002\n",
      "KLFTHP\t971\n",
      "IIDDFT\t945\n",
      "GTLFAY\t942\n",
      "GHEVTT\t698\n",
      "GDRLYT\t664\n",
      "Time for index table init: 0h 0m 14s 195ms\n",
      "Process prefiltering step 1 of 1\n",
      "\n",
      "k-mer similarity threshold: 145\n",
      "Starting prefiltering scores calculation (step 1 of 1)\n",
      "Query db start 1 to 830474\n",
      "Target db start 1 to 830474\n",
      "[=================================================================] 830.47K 1m 6s 728ms\n",
      "\n",
      "7.490196 k-mers per position\n",
      "7374 DB matches per sequence\n",
      "0 overflows\n",
      "17 sequences passed prefiltering per query sequence\n",
      "20 median result list length\n",
      "0 sequences with 0 size result lists\n",
      "Time for merging to pref_step1: 0h 0m 1s 376ms\n",
      "Time for processing: 0h 1m 23s 214ms\n",
      "align tmp/6073622973636308846/input_step1 tmp/6073622973636308846/input_step1 tmp/6073622973636308846/pref_step1 tmp/6073622973636308846/aln_step1 --sub-mat 'aa:blosum62.out,nucl:nucleotide.out' -a 0 --alignment-mode 3 --alignment-output-mode 0 --wrapped-scoring 0 -e 0.001 --min-seq-id 0.5 --min-aln-len 0 --seq-id-mode 0 --alt-ali 0 -c 0.8 --cov-mode 0 --max-seq-len 65535 --comp-bias-corr 1 --comp-bias-corr-scale 1 --max-rejected 2147483647 --max-accept 2147483647 --add-self-matches 0 --db-load-mode 0 --pca substitution:1.100,context:1.400 --pcb substitution:4.100,context:5.800 --score-bias 0 --realign 0 --realign-score-bias -0.2 --realign-max-seqs 2147483647 --corr-score-weight 0 --gap-open aa:11,nucl:5 --gap-extend aa:1,nucl:2 --zdrop 40 --threads 12 --compressed 0 -v 3\n",
      "\n",
      "Compute score, coverage and sequence identity\n",
      "Query database size: 830474 type: Aminoacid\n",
      "Target database size: 830474 type: Aminoacid\n",
      "Calculation of alignments\n",
      "[=================================================================] 830.47K 3m 48s 385ms\n",
      "Time for merging to aln_step1: 0h 0m 1s 371ms\n",
      "4205458 alignments calculated\n",
      "876524 sequence pairs passed the thresholds (0.208425 of overall calculated)\n",
      "1.055450 hits per query sequence\n",
      "Time for processing: 0h 4m 6s 803ms\n",
      "clust tmp/6073622973636308846/input_step1 tmp/6073622973636308846/aln_step1 tmp/6073622973636308846/clu_step1 --cluster-mode 0 --max-iterations 1000 --similarity-type 2 --threads 12 --compressed 0 -v 3 --cluster-weight-threshold 0.9\n",
      "\n",
      "Clustering mode: Set Cover\n",
      "[=================================================================] 830.47K 0s 80ms\n",
      "Sort entries\n",
      "Find missing connections\n",
      "Found 26600 new connections.\n",
      "Reconstruct initial order\n",
      "[=================================================================] 830.47K 0s 351ms\n",
      "Add missing connections\n",
      "[=================================================================] 830.47K 0s 18ms\n",
      "\n",
      "Time for read in: 0h 0m 0s 579ms\n",
      "Total time: 0h 0m 0s 876ms\n",
      "\n",
      "Size of the sequence database: 830474\n",
      "Size of the alignment database: 830474\n",
      "Number of clusters: 812286\n",
      "\n",
      "Writing results 0h 0m 0s 382ms\n",
      "Time for merging to clu_step1: 0h 0m 0s 12ms\n",
      "Time for processing: 0h 0m 1s 692ms\n",
      "createsubdb tmp/6073622973636308846/clu_step1 tmp/6073622973636308846/input_step1 tmp/6073622973636308846/input_step2 -v 3 --subdb-mode 1\n",
      "\n",
      "Time for merging to input_step2: 0h 0m 0s 8ms\n",
      "Time for processing: 0h 0m 1s 240ms\n",
      "prefilter tmp/6073622973636308846/input_step2 tmp/6073622973636308846/input_step2 tmp/6073622973636308846/pref_step2 --sub-mat 'aa:blosum62.out,nucl:nucleotide.out' --seed-sub-mat 'aa:VTML80.out,nucl:nucleotide.out' -s 3 -k 0 --target-search-mode 0 --k-score seq:2147483647,prof:2147483647 --alph-size aa:21,nucl:5 --max-seq-len 65535 --max-seqs 20 --split 0 --split-mode 2 --split-memory-limit 0 -c 0.8 --cov-mode 0 --comp-bias-corr 1 --comp-bias-corr-scale 1 --diag-score 1 --exact-kmer-matching 0 --mask 1 --mask-prob 0.9 --mask-lower-case 0 --mask-n-repeat 0 --min-ungapped-score 15 --add-self-matches 0 --spaced-kmer-mode 1 --db-load-mode 0 --pca substitution:1.100,context:1.400 --pcb substitution:4.100,context:5.800 --threads 12 --compressed 0 -v 3\n",
      "\n",
      "Query database size: 812286 type: Aminoacid\n",
      "Estimated memory consumption: 3G\n",
      "Target database size: 812286 type: Aminoacid\n",
      "Index table k-mer threshold: 136 at k-mer size 6\n",
      "Index table: counting k-mers\n",
      "[=================================================================] 812.29K 9s 717ms\n",
      "Index table: Masked residues: 8536789\n",
      "Index table: fill\n",
      "[=================================================================] 812.29K 6s 774ms\n",
      "Index statistics\n",
      "Entries:          270938188\n",
      "DB size:          2038 MB\n",
      "Avg k-mer size:   4.233409\n",
      "Top 10 k-mers\n",
      "WFRWQE\t1665\n",
      "LPELIF\t1291\n",
      "LPERIY\t1279\n",
      "LLGPGK\t952\n",
      "VHDKNI\t788\n",
      "GWLEAP\t717\n",
      "CIQDER\t680\n",
      "LPERIW\t629\n",
      "PSSSPS\t554\n",
      "SPPSSS\t539\n",
      "Time for index table init: 0h 0m 17s 281ms\n",
      "Process prefiltering step 1 of 1\n",
      "\n",
      "k-mer similarity threshold: 136\n",
      "Starting prefiltering scores calculation (step 1 of 1)\n",
      "Query db start 1 to 812286\n",
      "Target db start 1 to 812286\n",
      "[=================================================================] 812.29K 2m 7s 672ms\n",
      "\n",
      "21.743854 k-mers per position\n",
      "23614 DB matches per sequence\n",
      "0 overflows\n",
      "19 sequences passed prefiltering per query sequence\n",
      "20 median result list length\n",
      "0 sequences with 0 size result lists\n",
      "Time for merging to pref_step2: 0h 0m 1s 463ms\n",
      "Time for processing: 0h 2m 27s 299ms\n",
      "align tmp/6073622973636308846/input_step2 tmp/6073622973636308846/input_step2 tmp/6073622973636308846/pref_step2 tmp/6073622973636308846/aln_step2 --sub-mat 'aa:blosum62.out,nucl:nucleotide.out' -a 0 --alignment-mode 3 --alignment-output-mode 0 --wrapped-scoring 0 -e 0.001 --min-seq-id 0.5 --min-aln-len 0 --seq-id-mode 0 --alt-ali 0 -c 0.8 --cov-mode 0 --max-seq-len 65535 --comp-bias-corr 1 --comp-bias-corr-scale 1 --max-rejected 2147483647 --max-accept 2147483647 --add-self-matches 0 --db-load-mode 0 --pca substitution:1.100,context:1.400 --pcb substitution:4.100,context:5.800 --score-bias 0 --realign 0 --realign-score-bias -0.2 --realign-max-seqs 2147483647 --corr-score-weight 0 --gap-open aa:11,nucl:5 --gap-extend aa:1,nucl:2 --zdrop 40 --threads 12 --compressed 0 -v 3\n",
      "\n",
      "Compute score, coverage and sequence identity\n",
      "Query database size: 812286 type: Aminoacid\n",
      "Target database size: 812286 type: Aminoacid\n",
      "Calculation of alignments\n",
      "[=================================================================] 812.29K 4m 6s 894ms\n",
      "Time for merging to aln_step2: 0h 0m 1s 634ms\n",
      "4455272 alignments calculated\n",
      "819037 sequence pairs passed the thresholds (0.183835 of overall calculated)\n",
      "1.008311 hits per query sequence\n",
      "Time for processing: 0h 4m 25s 460ms\n",
      "clust tmp/6073622973636308846/input_step2 tmp/6073622973636308846/aln_step2 tmp/6073622973636308846/clu_step2 --cluster-mode 0 --max-iterations 1000 --similarity-type 2 --threads 12 --compressed 0 -v 3 --cluster-weight-threshold 0.9\n",
      "\n",
      "Clustering mode: Set Cover\n",
      "[=================================================================] 812.29K 0s 83ms\n",
      "Sort entries\n",
      "Find missing connections\n",
      "Found 4413 new connections.\n",
      "Reconstruct initial order\n",
      "[=================================================================] 812.29K 0s 326ms\n",
      "Add missing connections\n",
      "[=================================================================] 812.29K 0s 16ms\n",
      "\n",
      "Time for read in: 0h 0m 0s 556ms\n",
      "Total time: 0h 0m 0s 855ms\n",
      "\n",
      "Size of the sequence database: 812286\n",
      "Size of the alignment database: 812286\n",
      "Number of clusters: 808448\n",
      "\n",
      "Writing results 0h 0m 0s 417ms\n",
      "Time for merging to clu_step2: 0h 0m 0s 12ms\n",
      "Time for processing: 0h 0m 1s 762ms\n",
      "mergeclusters custom_db clustered_db tmp/6073622973636308846/clu_redundancy tmp/6073622973636308846/clu_step0 tmp/6073622973636308846/clu_step1 tmp/6073622973636308846/clu_step2 --threads 12 --compressed 0 -v 3\n",
      "\n",
      "Clustering step 1\n",
      "[=================================================================] 1.01M 0s 295ms\n",
      "Clustering step 2\n",
      "[=================================================================] 830.47K 0s 636ms\n",
      "Clustering step 3\n",
      "[=================================================================] 812.29K 0s 960ms\n",
      "Clustering step 4\n",
      "[=================================================================] 808.45K 1s 246ms\n",
      "Write merged clustering\n",
      "[=================================================================] 1.89M 1s 515ms\n",
      "Time for merging to clustered_db: 0h 0m 1s 607ms\n",
      "Time for processing: 0h 0m 4s 345ms\n",
      "\n",
      "🔄 Running: wsl mmseqs createsubdb clustered_db custom_db clustered_reps\n",
      "createsubdb clustered_db custom_db clustered_reps\n",
      "\n",
      "MMseqs Version: \tdefe1afca38747fda4811bb427150fc595d84f43\n",
      "Subdb mode      \t0\n",
      "Database ID mode\t0\n",
      "Verbosity       \t3\n",
      "\n",
      "Time for merging to clustered_reps: 0h 0m 0s 20ms\n",
      "Time for processing: 0h 0m 19s 337ms\n",
      "\n",
      "🔄 Running: wsl mmseqs result2flat custom_db custom_db clustered_reps /mnt/c/Users/Yusuf/OneDrive/LST/Derde_jaar/Y3Q4/Pipeline/fasta_proteomes_proteomes_api/session_strain_level_2025-05-13_17-30-32/custom_strain_protein_database_clustered50.fasta\n",
      "result2flat custom_db custom_db clustered_reps /mnt/c/Users/Yusuf/OneDrive/LST/Derde_jaar/Y3Q4/Pipeline/fasta_proteomes_proteomes_api/session_strain_level_2025-05-13_17-30-32/custom_strain_protein_database_clustered50.fasta\n",
      "\n",
      "MMseqs Version: \tdefe1afca38747fda4811bb427150fc595d84f43\n",
      "Use fasta header\tfalse\n",
      "Verbosity       \t3\n",
      "\n",
      "Time for processing: 0h 0m 30s 34ms\n",
      "\n",
      "✅ Done! Clustered FASTA saved as:\n",
      "/mnt/c/Users/Yusuf/OneDrive/LST/Derde_jaar/Y3Q4/Pipeline/fasta_proteomes_proteomes_api/session_strain_level_2025-05-13_17-30-32/custom_strain_protein_database_clustered50.fasta\n",
      "🧹 Deleted: custom_db\n",
      "🧹 Deleted: custom_db_h\n",
      "🧹 Deleted: custom_db.index\n",
      "🧹 Deleted: custom_db.dbtype\n",
      "🧹 Deleted: clustered_db\n",
      "🧹 Deleted: clustered_db_h\n",
      "🧹 Deleted: clustered_db.index\n",
      "🧹 Deleted: clustered_db.dbtype\n",
      "🧹 Deleted: clustered_db_seq\n",
      "🧹 Deleted: clustered_db_seq_h\n",
      "🧹 Deleted: clustered_db_seq.index\n",
      "🧹 Deleted: clustered_db_seq.dbtype\n",
      "⚠️ Could not delete tmp: [WinError 145] The directory is not empty: 'tmp'\n",
      "✅ Cleanup complete.\n"
     ]
    }
   ],
   "source": [
    "'''\n",
    "# Clustering the proteins in the database with MMseqs2\n",
    "import subprocess\n",
    "import os\n",
    "\n",
    "# ✅ Step 1: Define the input file path (Windows format)\n",
    "input_file_path = r\"C:\\Users\\Yusuf\\OneDrive\\LST\\Derde_jaar\\Y3Q4\\Pipeline\\fasta_proteomes_proteomes_api\\session_strain_level_2025-05-13_17-30-32\\custom_strain_protein_database.fasta\"\n",
    "\n",
    "# ✅ Step 2: Convert to WSL path\n",
    "input_fasta = input_file_path.replace(\"\\\\\", \"/\").replace(\"C:\", \"/mnt/c\")\n",
    "output_fasta = input_fasta.replace(\".fasta\", \"_clustered50.fasta\")\n",
    "\n",
    "print(f\"🔁 Converted WSL input path:\\n{input_fasta}\")\n",
    "print(f\"📄 Output clustered FASTA will be:\\n{output_fasta}\")\n",
    "\n",
    "# ✅ Step 3: Define MMseqs2 commands\n",
    "commands = [\n",
    "    f'wsl mmseqs createdb {input_fasta} custom_db',\n",
    "    'wsl mmseqs cluster custom_db clustered_db tmp --min-seq-id 0.5',\n",
    "    'wsl mmseqs createsubdb clustered_db custom_db clustered_reps',\n",
    "    f'wsl mmseqs result2flat custom_db custom_db clustered_reps {output_fasta}'\n",
    "]\n",
    "\n",
    "# ✅ Step 4: Function to stream output in real-time\n",
    "def run_with_streaming(cmd):\n",
    "    print(f\"\\n🔄 Running: {cmd}\")\n",
    "    process = subprocess.Popen(cmd, shell=True, stdout=subprocess.PIPE, stderr=subprocess.STDOUT, text=True)\n",
    "    for line in process.stdout:\n",
    "        print(line.strip())\n",
    "    process.wait()\n",
    "    if process.returncode != 0:\n",
    "        raise subprocess.CalledProcessError(process.returncode, cmd)\n",
    "\n",
    "# ✅ Step 5: Run each MMseqs2 command with streaming\n",
    "for cmd in commands:\n",
    "    run_with_streaming(cmd)\n",
    "\n",
    "print(f\"\\n✅ Done! Clustered FASTA saved as:\\n{output_fasta}\")\n",
    "\n",
    "# ✅ Step 6: Clean up intermediate files (optional)\n",
    "intermediate_files = [\n",
    "    \"custom_db\", \"custom_db_h\", \"custom_db.index\", \"custom_db.dbtype\",\n",
    "    \"clustered_db\", \"clustered_db_h\", \"clustered_db.index\", \"clustered_db.dbtype\",\n",
    "    \"clustered_db_seq\", \"clustered_db_seq_h\", \"clustered_db_seq.index\", \"clustered_db_seq.dbtype\",\n",
    "    \"tmp\"\n",
    "]\n",
    "\n",
    "for fname in intermediate_files:\n",
    "    try:\n",
    "        if os.path.isdir(fname):\n",
    "            os.rmdir(fname)\n",
    "        elif os.path.exists(fname):\n",
    "            os.remove(fname)\n",
    "        print(f\"🧹 Deleted: {fname}\")\n",
    "    except Exception as e:\n",
    "        print(f\"⚠️ Could not delete {fname}: {e}\")\n",
    "\n",
    "print(\"✅ Cleanup complete.\")\n",
    "'''"
   ]
  },
  {
   "cell_type": "code",
   "execution_count": null,
   "id": "fad023f4",
   "metadata": {},
   "outputs": [
    {
     "name": "stdout",
     "output_type": "stream",
     "text": [
      "🧬 Total proteins in 'C:\\Users\\Yusuf\\OneDrive\\LST\\Derde_jaar\\Y3Q4\\Pipeline\\fasta_proteomes_proteomes_api\\session_strain_level_2025-05-13_17-30-32\\custom_strain_protein_database.fasta': 1885063\n",
      "🧬 Total proteins in 'C:\\Users\\Yusuf\\OneDrive\\LST\\Derde_jaar\\Y3Q4\\Pipeline\\fasta_proteomes_proteomes_api\\session_strain_level_2025-05-13_17-30-32\\custom_strain_protein_database_clustered50.fasta': 808448\n",
      "📉 Proteins clustered away: 1076615 (57.11%)\n"
     ]
    }
   ],
   "source": [
    "'''\n",
    "def count_proteins_in_fasta(fasta_path):\n",
    "    \"\"\"Count the number of protein entries in a FASTA file.\"\"\"\n",
    "    count = 0\n",
    "    with open(fasta_path, \"r\") as file:\n",
    "        for line in file:\n",
    "            if line.startswith(\">\"):\n",
    "                count += 1\n",
    "    print(f\"🧬 Total proteins in '{fasta_path}': {count}\")\n",
    "    return count\n",
    "\n",
    "# === Example usage ===\n",
    "clustered_path = r\"C:\\Users\\Yusuf\\OneDrive\\LST\\Derde_jaar\\Y3Q4\\Pipeline\\fasta_proteomes_proteomes_api\\session_strain_level_2025-05-13_17-30-32\\custom_strain_protein_database_clustered50.fasta\"\n",
    "original_path  = r\"C:\\Users\\Yusuf\\OneDrive\\LST\\Derde_jaar\\Y3Q4\\Pipeline\\fasta_proteomes_proteomes_api\\session_strain_level_2025-05-13_17-30-32\\custom_strain_protein_database.fasta\"\n",
    "\n",
    "# Run both\n",
    "original_count = count_proteins_in_fasta(original_path)\n",
    "clustered_count = count_proteins_in_fasta(clustered_path)\n",
    "\n",
    "# Difference\n",
    "reduction = original_count - clustered_count\n",
    "print(f\"📉 Proteins clustered away: {reduction} ({(reduction/original_count)*100:.2f}%)\")\n",
    "'''"
   ]
  }
 ],
 "metadata": {
  "kernelspec": {
   "display_name": "Python 3",
   "language": "python",
   "name": "python3"
  },
  "language_info": {
   "codemirror_mode": {
    "name": "ipython",
    "version": 3
   },
   "file_extension": ".py",
   "mimetype": "text/x-python",
   "name": "python",
   "nbconvert_exporter": "python",
   "pygments_lexer": "ipython3",
   "version": "3.9.13"
  }
 },
 "nbformat": 4,
 "nbformat_minor": 5
}
