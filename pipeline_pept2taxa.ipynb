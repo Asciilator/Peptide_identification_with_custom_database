{
 "cells": [
  {
   "cell_type": "code",
   "execution_count": 1,
   "id": "773780df",
   "metadata": {},
   "outputs": [
    {
     "name": "stdout",
     "output_type": "stream",
     "text": [
      "Original dataset shape: (189185, 20)\n",
      "Original Data (rows 24219–24227):\n"
     ]
    },
    {
     "data": {
      "text/html": [
       "<div>\n",
       "<style scoped>\n",
       "    .dataframe tbody tr th:only-of-type {\n",
       "        vertical-align: middle;\n",
       "    }\n",
       "\n",
       "    .dataframe tbody tr th {\n",
       "        vertical-align: top;\n",
       "    }\n",
       "\n",
       "    .dataframe thead th {\n",
       "        text-align: right;\n",
       "    }\n",
       "</style>\n",
       "<table border=\"1\" class=\"dataframe\">\n",
       "  <thead>\n",
       "    <tr style=\"text-align: right;\">\n",
       "      <th></th>\n",
       "      <th>Fraction</th>\n",
       "      <th>Source File</th>\n",
       "      <th>Feature</th>\n",
       "      <th>Peptide</th>\n",
       "      <th>Scan</th>\n",
       "      <th>Tag Length</th>\n",
       "      <th>Denovo Score</th>\n",
       "      <th>ALC (%)</th>\n",
       "      <th>length</th>\n",
       "      <th>m/z</th>\n",
       "      <th>z</th>\n",
       "      <th>RT</th>\n",
       "      <th>Predict RT</th>\n",
       "      <th>Area</th>\n",
       "      <th>Mass</th>\n",
       "      <th>ppm</th>\n",
       "      <th>PTM</th>\n",
       "      <th>local confidence (%)</th>\n",
       "      <th>tag (&gt;=0%)</th>\n",
       "      <th>mode</th>\n",
       "    </tr>\n",
       "  </thead>\n",
       "  <tbody>\n",
       "    <tr>\n",
       "      <th>24218</th>\n",
       "      <td>2</td>\n",
       "      <td>MP_RZ07032023_GW_flat_180min_DDA02.raw</td>\n",
       "      <td>-</td>\n",
       "      <td>KYAYFPVWVNDDKMSLPLR</td>\n",
       "      <td>F2:51275</td>\n",
       "      <td>19</td>\n",
       "      <td>76</td>\n",
       "      <td>68</td>\n",
       "      <td>19</td>\n",
       "      <td>781.3988</td>\n",
       "      <td>3</td>\n",
       "      <td>143.42</td>\n",
       "      <td>142.11</td>\n",
       "      <td>0.0</td>\n",
       "      <td>2341.1929</td>\n",
       "      <td>-7.8</td>\n",
       "      <td>NaN</td>\n",
       "      <td>45 39 41 35 33 43 89 98 98 94 95 96 94 90 83 4...</td>\n",
       "      <td>KYAYFPVWVNDDKMSLPLR</td>\n",
       "      <td>HCD</td>\n",
       "    </tr>\n",
       "    <tr>\n",
       "      <th>24219</th>\n",
       "      <td>1</td>\n",
       "      <td>MP_RZ07032023_GW_flat_180min_DDA01.raw</td>\n",
       "      <td>F1:35083</td>\n",
       "      <td>MWALDLR</td>\n",
       "      <td>F1:38190</td>\n",
       "      <td>7</td>\n",
       "      <td>76</td>\n",
       "      <td>78</td>\n",
       "      <td>7</td>\n",
       "      <td>452.7394</td>\n",
       "      <td>2</td>\n",
       "      <td>113.16</td>\n",
       "      <td>129.39</td>\n",
       "      <td>34600.0</td>\n",
       "      <td>903.4636</td>\n",
       "      <td>0.6</td>\n",
       "      <td>NaN</td>\n",
       "      <td>56 71 84 79 79 85 90</td>\n",
       "      <td>MWALDLR</td>\n",
       "      <td>HCD</td>\n",
       "    </tr>\n",
       "    <tr>\n",
       "      <th>24220</th>\n",
       "      <td>2</td>\n",
       "      <td>MP_RZ07032023_GW_flat_180min_DDA02.raw</td>\n",
       "      <td>F2:98838</td>\n",
       "      <td>LAAALTPAPVLAK</td>\n",
       "      <td>F2:33083</td>\n",
       "      <td>13</td>\n",
       "      <td>76</td>\n",
       "      <td>70</td>\n",
       "      <td>13</td>\n",
       "      <td>618.3896</td>\n",
       "      <td>2</td>\n",
       "      <td>100.95</td>\n",
       "      <td>110.95</td>\n",
       "      <td>13200000.0</td>\n",
       "      <td>1234.7649</td>\n",
       "      <td>-0.2</td>\n",
       "      <td>NaN</td>\n",
       "      <td>48 50 80 99 100 100 99 96 33 31 48 45 82</td>\n",
       "      <td>LAAALTPAPVLAK</td>\n",
       "      <td>HCD</td>\n",
       "    </tr>\n",
       "    <tr>\n",
       "      <th>24221</th>\n",
       "      <td>2</td>\n",
       "      <td>MP_RZ07032023_GW_flat_180min_DDA02.raw</td>\n",
       "      <td>F2:83383</td>\n",
       "      <td>APMSGLQNWK</td>\n",
       "      <td>F2:29687</td>\n",
       "      <td>10</td>\n",
       "      <td>76</td>\n",
       "      <td>70</td>\n",
       "      <td>10</td>\n",
       "      <td>566.2845</td>\n",
       "      <td>2</td>\n",
       "      <td>92.40</td>\n",
       "      <td>83.12</td>\n",
       "      <td>215000.0</td>\n",
       "      <td>1130.5542</td>\n",
       "      <td>0.3</td>\n",
       "      <td>NaN</td>\n",
       "      <td>96 94 85 92 82 41 28 21 69 92</td>\n",
       "      <td>APMSGLQNWK</td>\n",
       "      <td>HCD</td>\n",
       "    </tr>\n",
       "    <tr>\n",
       "      <th>24222</th>\n",
       "      <td>2</td>\n",
       "      <td>MP_RZ07032023_GW_flat_180min_DDA02.raw</td>\n",
       "      <td>F2:107262</td>\n",
       "      <td>SLTAPSGVPGM(+15.99)FK</td>\n",
       "      <td>F2:26077</td>\n",
       "      <td>13</td>\n",
       "      <td>76</td>\n",
       "      <td>67</td>\n",
       "      <td>13</td>\n",
       "      <td>654.3237</td>\n",
       "      <td>2</td>\n",
       "      <td>83.51</td>\n",
       "      <td>83.66</td>\n",
       "      <td>75700.0</td>\n",
       "      <td>1306.6592</td>\n",
       "      <td>-20.1</td>\n",
       "      <td>Oxidation (M)</td>\n",
       "      <td>37 46 79 93 95 96 88 84 23 17 26 89 97</td>\n",
       "      <td>SLTAPSGVPGM(+15.99)FK</td>\n",
       "      <td>HCD</td>\n",
       "    </tr>\n",
       "    <tr>\n",
       "      <th>24223</th>\n",
       "      <td>2</td>\n",
       "      <td>MP_RZ07032023_GW_flat_180min_DDA02.raw</td>\n",
       "      <td>F2:139236</td>\n",
       "      <td>EVQAWSWWWM(+15.99)TRRAAMDVPGR</td>\n",
       "      <td>F2:49588</td>\n",
       "      <td>21</td>\n",
       "      <td>76</td>\n",
       "      <td>68</td>\n",
       "      <td>21</td>\n",
       "      <td>879.0955</td>\n",
       "      <td>3</td>\n",
       "      <td>139.45</td>\n",
       "      <td>141.68</td>\n",
       "      <td>822000.0</td>\n",
       "      <td>2634.2371</td>\n",
       "      <td>10.4</td>\n",
       "      <td>Oxidation (M)</td>\n",
       "      <td>37 25 33 44 44 41 81 84 90 88 90 40 52 96 95 8...</td>\n",
       "      <td>EVQAWSWWWM(+15.99)TRRAAMDVPGR</td>\n",
       "      <td>HCD</td>\n",
       "    </tr>\n",
       "    <tr>\n",
       "      <th>24224</th>\n",
       "      <td>2</td>\n",
       "      <td>MP_RZ07032023_GW_flat_180min_DDA02.raw</td>\n",
       "      <td>F2:3957</td>\n",
       "      <td>MGFYGGR</td>\n",
       "      <td>F2:13573</td>\n",
       "      <td>7</td>\n",
       "      <td>76</td>\n",
       "      <td>68</td>\n",
       "      <td>7</td>\n",
       "      <td>394.1815</td>\n",
       "      <td>2</td>\n",
       "      <td>50.45</td>\n",
       "      <td>47.75</td>\n",
       "      <td>376000.0</td>\n",
       "      <td>786.3483</td>\n",
       "      <td>0.3</td>\n",
       "      <td>NaN</td>\n",
       "      <td>17 29 90 86 80 83 90</td>\n",
       "      <td>MGFYGGR</td>\n",
       "      <td>HCD</td>\n",
       "    </tr>\n",
       "    <tr>\n",
       "      <th>24225</th>\n",
       "      <td>1</td>\n",
       "      <td>MP_RZ07032023_GW_flat_180min_DDA01.raw</td>\n",
       "      <td>F1:103943</td>\n",
       "      <td>TLGALDGTN(+.98)MNR</td>\n",
       "      <td>F1:23486</td>\n",
       "      <td>12</td>\n",
       "      <td>76</td>\n",
       "      <td>71</td>\n",
       "      <td>12</td>\n",
       "      <td>632.3035</td>\n",
       "      <td>2</td>\n",
       "      <td>78.32</td>\n",
       "      <td>67.85</td>\n",
       "      <td>3660000.0</td>\n",
       "      <td>1262.5925</td>\n",
       "      <td>0.0</td>\n",
       "      <td>Deamidation (NQ)</td>\n",
       "      <td>21 21 26 76 99 98 90 88 70 82 91 93</td>\n",
       "      <td>TLGALDGTN(+.98)MNR</td>\n",
       "      <td>HCD</td>\n",
       "    </tr>\n",
       "    <tr>\n",
       "      <th>24226</th>\n",
       "      <td>1</td>\n",
       "      <td>MP_RZ07032023_GW_flat_180min_DDA01.raw</td>\n",
       "      <td>F1:23734</td>\n",
       "      <td>LGGLSSAMK</td>\n",
       "      <td>F1:16822</td>\n",
       "      <td>9</td>\n",
       "      <td>76</td>\n",
       "      <td>75</td>\n",
       "      <td>9</td>\n",
       "      <td>432.2354</td>\n",
       "      <td>2</td>\n",
       "      <td>59.98</td>\n",
       "      <td>63.31</td>\n",
       "      <td>416000.0</td>\n",
       "      <td>862.4582</td>\n",
       "      <td>-2.4</td>\n",
       "      <td>NaN</td>\n",
       "      <td>62 77 48 88 82 73 68 78 97</td>\n",
       "      <td>LGGLSSAMK</td>\n",
       "      <td>HCD</td>\n",
       "    </tr>\n",
       "    <tr>\n",
       "      <th>24227</th>\n",
       "      <td>2</td>\n",
       "      <td>MP_RZ07032023_GW_flat_180min_DDA02.raw</td>\n",
       "      <td>-</td>\n",
       "      <td>LDQ(+.98)AHLYNWQWYR</td>\n",
       "      <td>F2:50574</td>\n",
       "      <td>13</td>\n",
       "      <td>76</td>\n",
       "      <td>77</td>\n",
       "      <td>13</td>\n",
       "      <td>897.4365</td>\n",
       "      <td>2</td>\n",
       "      <td>141.76</td>\n",
       "      <td>127.6</td>\n",
       "      <td>0.0</td>\n",
       "      <td>1792.8320</td>\n",
       "      <td>14.8</td>\n",
       "      <td>Deamidation (NQ)</td>\n",
       "      <td>31 38 40 61 54 99 98 96 96 94 95 98 100</td>\n",
       "      <td>LDQ(+.98)AHLYNWQWYR</td>\n",
       "      <td>HCD</td>\n",
       "    </tr>\n",
       "  </tbody>\n",
       "</table>\n",
       "</div>"
      ],
      "text/plain": [
       "       Fraction                             Source File    Feature  \\\n",
       "24218         2  MP_RZ07032023_GW_flat_180min_DDA02.raw          -   \n",
       "24219         1  MP_RZ07032023_GW_flat_180min_DDA01.raw   F1:35083   \n",
       "24220         2  MP_RZ07032023_GW_flat_180min_DDA02.raw   F2:98838   \n",
       "24221         2  MP_RZ07032023_GW_flat_180min_DDA02.raw   F2:83383   \n",
       "24222         2  MP_RZ07032023_GW_flat_180min_DDA02.raw  F2:107262   \n",
       "24223         2  MP_RZ07032023_GW_flat_180min_DDA02.raw  F2:139236   \n",
       "24224         2  MP_RZ07032023_GW_flat_180min_DDA02.raw    F2:3957   \n",
       "24225         1  MP_RZ07032023_GW_flat_180min_DDA01.raw  F1:103943   \n",
       "24226         1  MP_RZ07032023_GW_flat_180min_DDA01.raw   F1:23734   \n",
       "24227         2  MP_RZ07032023_GW_flat_180min_DDA02.raw          -   \n",
       "\n",
       "                             Peptide      Scan  Tag Length  Denovo Score  \\\n",
       "24218            KYAYFPVWVNDDKMSLPLR  F2:51275          19            76   \n",
       "24219                        MWALDLR  F1:38190           7            76   \n",
       "24220                  LAAALTPAPVLAK  F2:33083          13            76   \n",
       "24221                     APMSGLQNWK  F2:29687          10            76   \n",
       "24222          SLTAPSGVPGM(+15.99)FK  F2:26077          13            76   \n",
       "24223  EVQAWSWWWM(+15.99)TRRAAMDVPGR  F2:49588          21            76   \n",
       "24224                        MGFYGGR  F2:13573           7            76   \n",
       "24225             TLGALDGTN(+.98)MNR  F1:23486          12            76   \n",
       "24226                      LGGLSSAMK  F1:16822           9            76   \n",
       "24227            LDQ(+.98)AHLYNWQWYR  F2:50574          13            76   \n",
       "\n",
       "       ALC (%)  length       m/z  z      RT Predict RT        Area       Mass  \\\n",
       "24218       68      19  781.3988  3  143.42     142.11         0.0  2341.1929   \n",
       "24219       78       7  452.7394  2  113.16     129.39     34600.0   903.4636   \n",
       "24220       70      13  618.3896  2  100.95     110.95  13200000.0  1234.7649   \n",
       "24221       70      10  566.2845  2   92.40      83.12    215000.0  1130.5542   \n",
       "24222       67      13  654.3237  2   83.51      83.66     75700.0  1306.6592   \n",
       "24223       68      21  879.0955  3  139.45     141.68    822000.0  2634.2371   \n",
       "24224       68       7  394.1815  2   50.45      47.75    376000.0   786.3483   \n",
       "24225       71      12  632.3035  2   78.32      67.85   3660000.0  1262.5925   \n",
       "24226       75       9  432.2354  2   59.98      63.31    416000.0   862.4582   \n",
       "24227       77      13  897.4365  2  141.76      127.6         0.0  1792.8320   \n",
       "\n",
       "        ppm               PTM  \\\n",
       "24218  -7.8               NaN   \n",
       "24219   0.6               NaN   \n",
       "24220  -0.2               NaN   \n",
       "24221   0.3               NaN   \n",
       "24222 -20.1     Oxidation (M)   \n",
       "24223  10.4     Oxidation (M)   \n",
       "24224   0.3               NaN   \n",
       "24225   0.0  Deamidation (NQ)   \n",
       "24226  -2.4               NaN   \n",
       "24227  14.8  Deamidation (NQ)   \n",
       "\n",
       "                                    local confidence (%)  \\\n",
       "24218  45 39 41 35 33 43 89 98 98 94 95 96 94 90 83 4...   \n",
       "24219                               56 71 84 79 79 85 90   \n",
       "24220           48 50 80 99 100 100 99 96 33 31 48 45 82   \n",
       "24221                      96 94 85 92 82 41 28 21 69 92   \n",
       "24222             37 46 79 93 95 96 88 84 23 17 26 89 97   \n",
       "24223  37 25 33 44 44 41 81 84 90 88 90 40 52 96 95 8...   \n",
       "24224                               17 29 90 86 80 83 90   \n",
       "24225                21 21 26 76 99 98 90 88 70 82 91 93   \n",
       "24226                         62 77 48 88 82 73 68 78 97   \n",
       "24227            31 38 40 61 54 99 98 96 96 94 95 98 100   \n",
       "\n",
       "                          tag (>=0%) mode  \n",
       "24218            KYAYFPVWVNDDKMSLPLR  HCD  \n",
       "24219                        MWALDLR  HCD  \n",
       "24220                  LAAALTPAPVLAK  HCD  \n",
       "24221                     APMSGLQNWK  HCD  \n",
       "24222          SLTAPSGVPGM(+15.99)FK  HCD  \n",
       "24223  EVQAWSWWWM(+15.99)TRRAAMDVPGR  HCD  \n",
       "24224                        MGFYGGR  HCD  \n",
       "24225             TLGALDGTN(+.98)MNR  HCD  \n",
       "24226                      LGGLSSAMK  HCD  \n",
       "24227            LDQ(+.98)AHLYNWQWYR  HCD  "
      ]
     },
     "metadata": {},
     "output_type": "display_data"
    },
    {
     "name": "stdout",
     "output_type": "stream",
     "text": [
      "Filtered dataset shape: (32111, 20)\n",
      "Filtered Data (rows 24219-24227):\n"
     ]
    },
    {
     "data": {
      "text/html": [
       "<div>\n",
       "<style scoped>\n",
       "    .dataframe tbody tr th:only-of-type {\n",
       "        vertical-align: middle;\n",
       "    }\n",
       "\n",
       "    .dataframe tbody tr th {\n",
       "        vertical-align: top;\n",
       "    }\n",
       "\n",
       "    .dataframe thead th {\n",
       "        text-align: right;\n",
       "    }\n",
       "</style>\n",
       "<table border=\"1\" class=\"dataframe\">\n",
       "  <thead>\n",
       "    <tr style=\"text-align: right;\">\n",
       "      <th></th>\n",
       "      <th>Fraction</th>\n",
       "      <th>Source File</th>\n",
       "      <th>Feature</th>\n",
       "      <th>Peptide</th>\n",
       "      <th>Scan</th>\n",
       "      <th>Tag Length</th>\n",
       "      <th>Denovo Score</th>\n",
       "      <th>ALC (%)</th>\n",
       "      <th>length</th>\n",
       "      <th>m/z</th>\n",
       "      <th>z</th>\n",
       "      <th>RT</th>\n",
       "      <th>Predict RT</th>\n",
       "      <th>Area</th>\n",
       "      <th>Mass</th>\n",
       "      <th>ppm</th>\n",
       "      <th>PTM</th>\n",
       "      <th>local confidence (%)</th>\n",
       "      <th>tag (&gt;=0%)</th>\n",
       "      <th>mode</th>\n",
       "    </tr>\n",
       "  </thead>\n",
       "  <tbody>\n",
       "    <tr>\n",
       "      <th>25984</th>\n",
       "      <td>2</td>\n",
       "      <td>MP_RZ07032023_GW_flat_180min_DDA02.raw</td>\n",
       "      <td>-</td>\n",
       "      <td>LVTTDANGWYNK</td>\n",
       "      <td>F2:16205</td>\n",
       "      <td>12</td>\n",
       "      <td>75</td>\n",
       "      <td>73</td>\n",
       "      <td>12</td>\n",
       "      <td>691.3395</td>\n",
       "      <td>2</td>\n",
       "      <td>57.63</td>\n",
       "      <td>71.8</td>\n",
       "      <td>0.0</td>\n",
       "      <td>1380.6675</td>\n",
       "      <td>-2.1</td>\n",
       "      <td>NaN</td>\n",
       "      <td>59 60 95 95 95 89 83 70 69 28 43 98</td>\n",
       "      <td>LVTTDANGWYNK</td>\n",
       "      <td>HCD</td>\n",
       "    </tr>\n",
       "    <tr>\n",
       "      <th>25985</th>\n",
       "      <td>2</td>\n",
       "      <td>MP_RZ07032023_GW_flat_180min_DDA02.raw</td>\n",
       "      <td>F2:39500</td>\n",
       "      <td>KATSLMDR</td>\n",
       "      <td>F2:7950</td>\n",
       "      <td>8</td>\n",
       "      <td>75</td>\n",
       "      <td>76</td>\n",
       "      <td>8</td>\n",
       "      <td>461.2376</td>\n",
       "      <td>2</td>\n",
       "      <td>32.97</td>\n",
       "      <td>17.78</td>\n",
       "      <td>841000.0</td>\n",
       "      <td>920.4749</td>\n",
       "      <td>-15.5</td>\n",
       "      <td>NaN</td>\n",
       "      <td>77 34 38 87 93 88 96 94</td>\n",
       "      <td>KATSLMDR</td>\n",
       "      <td>HCD</td>\n",
       "    </tr>\n",
       "    <tr>\n",
       "      <th>25986</th>\n",
       "      <td>2</td>\n",
       "      <td>MP_RZ07032023_GW_flat_180min_DDA02.raw</td>\n",
       "      <td>F2:103841</td>\n",
       "      <td>WAADLDQ(+.98)MVTK</td>\n",
       "      <td>F2:42699</td>\n",
       "      <td>11</td>\n",
       "      <td>75</td>\n",
       "      <td>75</td>\n",
       "      <td>11</td>\n",
       "      <td>639.8031</td>\n",
       "      <td>2</td>\n",
       "      <td>123.18</td>\n",
       "      <td>107.95</td>\n",
       "      <td>110000.0</td>\n",
       "      <td>1277.5962</td>\n",
       "      <td>-3.6</td>\n",
       "      <td>Deamidation (NQ)</td>\n",
       "      <td>78 60 90 90 89 94 89 69 28 41 98</td>\n",
       "      <td>WAADLDQ(+.98)MVTK</td>\n",
       "      <td>HCD</td>\n",
       "    </tr>\n",
       "    <tr>\n",
       "      <th>25989</th>\n",
       "      <td>1</td>\n",
       "      <td>MP_RZ07032023_GW_flat_180min_DDA01.raw</td>\n",
       "      <td>F1:18876</td>\n",
       "      <td>Q(+.98)VYLHMDGFR</td>\n",
       "      <td>F1:35026</td>\n",
       "      <td>10</td>\n",
       "      <td>75</td>\n",
       "      <td>72</td>\n",
       "      <td>10</td>\n",
       "      <td>422.8690</td>\n",
       "      <td>3</td>\n",
       "      <td>105.90</td>\n",
       "      <td>95.37</td>\n",
       "      <td>300000.0</td>\n",
       "      <td>1265.5862</td>\n",
       "      <td>-0.9</td>\n",
       "      <td>Deamidation (NQ)</td>\n",
       "      <td>26 28 45 61 92 95 98 92 94 96</td>\n",
       "      <td>Q(+.98)VYLHMDGFR</td>\n",
       "      <td>HCD</td>\n",
       "    </tr>\n",
       "    <tr>\n",
       "      <th>25990</th>\n",
       "      <td>2</td>\n",
       "      <td>MP_RZ07032023_GW_flat_180min_DDA02.raw</td>\n",
       "      <td>F2:113009</td>\n",
       "      <td>TLLPALYLLQGR</td>\n",
       "      <td>F2:54646</td>\n",
       "      <td>12</td>\n",
       "      <td>75</td>\n",
       "      <td>74</td>\n",
       "      <td>12</td>\n",
       "      <td>679.4126</td>\n",
       "      <td>2</td>\n",
       "      <td>151.38</td>\n",
       "      <td>164.41</td>\n",
       "      <td>25200.0</td>\n",
       "      <td>1356.8130</td>\n",
       "      <td>-1.7</td>\n",
       "      <td>NaN</td>\n",
       "      <td>51 50 50 33 82 89 93 95 85 79 88 98</td>\n",
       "      <td>TLLPALYLLQGR</td>\n",
       "      <td>HCD</td>\n",
       "    </tr>\n",
       "    <tr>\n",
       "      <th>25991</th>\n",
       "      <td>1</td>\n",
       "      <td>MP_RZ07032023_GW_flat_180min_DDA01.raw</td>\n",
       "      <td>F1:139595</td>\n",
       "      <td>FGFGLSDPDDN(+.98)NLFAHFKPLC(+57.02)K</td>\n",
       "      <td>F1:54391</td>\n",
       "      <td>22</td>\n",
       "      <td>75</td>\n",
       "      <td>72</td>\n",
       "      <td>22</td>\n",
       "      <td>847.3984</td>\n",
       "      <td>3</td>\n",
       "      <td>151.74</td>\n",
       "      <td>161.24</td>\n",
       "      <td>6010000.0</td>\n",
       "      <td>2539.1841</td>\n",
       "      <td>-4.2</td>\n",
       "      <td>Deamidation (NQ); Carbamidomethylation</td>\n",
       "      <td>49 40 57 62 82 96 69 44 92 49 28 34 96 97 97 8...</td>\n",
       "      <td>FGFGLSDPDDN(+.98)NLFAHFKPLC(+57.02)K</td>\n",
       "      <td>HCD</td>\n",
       "    </tr>\n",
       "    <tr>\n",
       "      <th>25993</th>\n",
       "      <td>1</td>\n",
       "      <td>MP_RZ07032023_GW_flat_180min_DDA01.raw</td>\n",
       "      <td>-</td>\n",
       "      <td>YHDALTYVWNWGGFTGK</td>\n",
       "      <td>F1:45457</td>\n",
       "      <td>17</td>\n",
       "      <td>75</td>\n",
       "      <td>85</td>\n",
       "      <td>17</td>\n",
       "      <td>1007.9756</td>\n",
       "      <td>2</td>\n",
       "      <td>130.26</td>\n",
       "      <td>163.81</td>\n",
       "      <td>0.0</td>\n",
       "      <td>2013.9373</td>\n",
       "      <td>-0.3</td>\n",
       "      <td>NaN</td>\n",
       "      <td>34 20 62 78 99 99 98 98 98 97 98 97 97 98 98 9...</td>\n",
       "      <td>YHDALTYVWNWGGFTGK</td>\n",
       "      <td>HCD</td>\n",
       "    </tr>\n",
       "    <tr>\n",
       "      <th>25994</th>\n",
       "      <td>1</td>\n",
       "      <td>MP_RZ07032023_GW_flat_180min_DDA01.raw</td>\n",
       "      <td>F1:852</td>\n",
       "      <td>NSLAVLR</td>\n",
       "      <td>F1:12592</td>\n",
       "      <td>7</td>\n",
       "      <td>75</td>\n",
       "      <td>81</td>\n",
       "      <td>7</td>\n",
       "      <td>386.7372</td>\n",
       "      <td>2</td>\n",
       "      <td>48.50</td>\n",
       "      <td>66</td>\n",
       "      <td>1480000.0</td>\n",
       "      <td>771.4603</td>\n",
       "      <td>-0.4</td>\n",
       "      <td>NaN</td>\n",
       "      <td>61 60 82 92 94 94 86</td>\n",
       "      <td>NSLAVLR</td>\n",
       "      <td>HCD</td>\n",
       "    </tr>\n",
       "    <tr>\n",
       "      <th>25995</th>\n",
       "      <td>2</td>\n",
       "      <td>MP_RZ07032023_GW_flat_180min_DDA02.raw</td>\n",
       "      <td>F2:141090</td>\n",
       "      <td>NYLDDLR</td>\n",
       "      <td>F2:41876</td>\n",
       "      <td>7</td>\n",
       "      <td>75</td>\n",
       "      <td>85</td>\n",
       "      <td>7</td>\n",
       "      <td>908.4518</td>\n",
       "      <td>1</td>\n",
       "      <td>121.32</td>\n",
       "      <td>83.38</td>\n",
       "      <td>208000.0</td>\n",
       "      <td>907.4399</td>\n",
       "      <td>5.0</td>\n",
       "      <td>NaN</td>\n",
       "      <td>85 83 85 82 85 88 90</td>\n",
       "      <td>NYLDDLR</td>\n",
       "      <td>HCD</td>\n",
       "    </tr>\n",
       "    <tr>\n",
       "      <th>25997</th>\n",
       "      <td>2</td>\n",
       "      <td>MP_RZ07032023_GW_flat_180min_DDA02.raw</td>\n",
       "      <td>F2:129117</td>\n",
       "      <td>YM(+15.99)APQEVGPGSPFR</td>\n",
       "      <td>F2:34615</td>\n",
       "      <td>14</td>\n",
       "      <td>75</td>\n",
       "      <td>78</td>\n",
       "      <td>14</td>\n",
       "      <td>776.3701</td>\n",
       "      <td>2</td>\n",
       "      <td>104.14</td>\n",
       "      <td>93.71</td>\n",
       "      <td>57400.0</td>\n",
       "      <td>1550.7188</td>\n",
       "      <td>4.5</td>\n",
       "      <td>Oxidation (M)</td>\n",
       "      <td>37 35 43 41 90 96 95 97 93 92 94 82 95 100</td>\n",
       "      <td>YM(+15.99)APQEVGPGSPFR</td>\n",
       "      <td>HCD</td>\n",
       "    </tr>\n",
       "  </tbody>\n",
       "</table>\n",
       "</div>"
      ],
      "text/plain": [
       "       Fraction                             Source File    Feature  \\\n",
       "25984         2  MP_RZ07032023_GW_flat_180min_DDA02.raw          -   \n",
       "25985         2  MP_RZ07032023_GW_flat_180min_DDA02.raw   F2:39500   \n",
       "25986         2  MP_RZ07032023_GW_flat_180min_DDA02.raw  F2:103841   \n",
       "25989         1  MP_RZ07032023_GW_flat_180min_DDA01.raw   F1:18876   \n",
       "25990         2  MP_RZ07032023_GW_flat_180min_DDA02.raw  F2:113009   \n",
       "25991         1  MP_RZ07032023_GW_flat_180min_DDA01.raw  F1:139595   \n",
       "25993         1  MP_RZ07032023_GW_flat_180min_DDA01.raw          -   \n",
       "25994         1  MP_RZ07032023_GW_flat_180min_DDA01.raw     F1:852   \n",
       "25995         2  MP_RZ07032023_GW_flat_180min_DDA02.raw  F2:141090   \n",
       "25997         2  MP_RZ07032023_GW_flat_180min_DDA02.raw  F2:129117   \n",
       "\n",
       "                                    Peptide      Scan  Tag Length  \\\n",
       "25984                          LVTTDANGWYNK  F2:16205          12   \n",
       "25985                              KATSLMDR   F2:7950           8   \n",
       "25986                     WAADLDQ(+.98)MVTK  F2:42699          11   \n",
       "25989                      Q(+.98)VYLHMDGFR  F1:35026          10   \n",
       "25990                          TLLPALYLLQGR  F2:54646          12   \n",
       "25991  FGFGLSDPDDN(+.98)NLFAHFKPLC(+57.02)K  F1:54391          22   \n",
       "25993                     YHDALTYVWNWGGFTGK  F1:45457          17   \n",
       "25994                               NSLAVLR  F1:12592           7   \n",
       "25995                               NYLDDLR  F2:41876           7   \n",
       "25997                YM(+15.99)APQEVGPGSPFR  F2:34615          14   \n",
       "\n",
       "       Denovo Score  ALC (%)  length        m/z  z      RT Predict RT  \\\n",
       "25984            75       73      12   691.3395  2   57.63       71.8   \n",
       "25985            75       76       8   461.2376  2   32.97      17.78   \n",
       "25986            75       75      11   639.8031  2  123.18     107.95   \n",
       "25989            75       72      10   422.8690  3  105.90      95.37   \n",
       "25990            75       74      12   679.4126  2  151.38     164.41   \n",
       "25991            75       72      22   847.3984  3  151.74     161.24   \n",
       "25993            75       85      17  1007.9756  2  130.26     163.81   \n",
       "25994            75       81       7   386.7372  2   48.50         66   \n",
       "25995            75       85       7   908.4518  1  121.32      83.38   \n",
       "25997            75       78      14   776.3701  2  104.14      93.71   \n",
       "\n",
       "            Area       Mass   ppm                                     PTM  \\\n",
       "25984        0.0  1380.6675  -2.1                                     NaN   \n",
       "25985   841000.0   920.4749 -15.5                                     NaN   \n",
       "25986   110000.0  1277.5962  -3.6                        Deamidation (NQ)   \n",
       "25989   300000.0  1265.5862  -0.9                        Deamidation (NQ)   \n",
       "25990    25200.0  1356.8130  -1.7                                     NaN   \n",
       "25991  6010000.0  2539.1841  -4.2  Deamidation (NQ); Carbamidomethylation   \n",
       "25993        0.0  2013.9373  -0.3                                     NaN   \n",
       "25994  1480000.0   771.4603  -0.4                                     NaN   \n",
       "25995   208000.0   907.4399   5.0                                     NaN   \n",
       "25997    57400.0  1550.7188   4.5                           Oxidation (M)   \n",
       "\n",
       "                                    local confidence (%)  \\\n",
       "25984                59 60 95 95 95 89 83 70 69 28 43 98   \n",
       "25985                            77 34 38 87 93 88 96 94   \n",
       "25986                   78 60 90 90 89 94 89 69 28 41 98   \n",
       "25989                      26 28 45 61 92 95 98 92 94 96   \n",
       "25990                51 50 50 33 82 89 93 95 85 79 88 98   \n",
       "25991  49 40 57 62 82 96 69 44 92 49 28 34 96 97 97 8...   \n",
       "25993  34 20 62 78 99 99 98 98 98 97 98 97 97 98 98 9...   \n",
       "25994                               61 60 82 92 94 94 86   \n",
       "25995                               85 83 85 82 85 88 90   \n",
       "25997         37 35 43 41 90 96 95 97 93 92 94 82 95 100   \n",
       "\n",
       "                                 tag (>=0%) mode  \n",
       "25984                          LVTTDANGWYNK  HCD  \n",
       "25985                              KATSLMDR  HCD  \n",
       "25986                     WAADLDQ(+.98)MVTK  HCD  \n",
       "25989                      Q(+.98)VYLHMDGFR  HCD  \n",
       "25990                          TLLPALYLLQGR  HCD  \n",
       "25991  FGFGLSDPDDN(+.98)NLFAHFKPLC(+57.02)K  HCD  \n",
       "25993                     YHDALTYVWNWGGFTGK  HCD  \n",
       "25994                               NSLAVLR  HCD  \n",
       "25995                               NYLDDLR  HCD  \n",
       "25997                YM(+15.99)APQEVGPGSPFR  HCD  "
      ]
     },
     "metadata": {},
     "output_type": "display_data"
    },
    {
     "name": "stdout",
     "output_type": "stream",
     "text": [
      "Number of peptides filtered out: 157074\n"
     ]
    }
   ],
   "source": [
    "# Import necessary libraries\n",
    "import pandas as pd\n",
    "\n",
    "# Load the de novo peptide data\n",
    "file_path = \"de_novo_garmerwolde.csv\"\n",
    "df = pd.read_csv(file_path)\n",
    "\n",
    "# Display the dataset dimensions\n",
    "print(f\"Original dataset shape: {df.shape}\")\n",
    "\n",
    "# Display rows 24219 to 24227 (Python is zero-indexed → use iloc[24218:24227+1])\n",
    "print(\"Original Data (rows 24219–24227):\")\n",
    "display(df.iloc[24218:24228])\n",
    "\n",
    "# Filter peptides with ALC (%) > 70\n",
    "filtered_df = df[df[\"ALC (%)\"] > 70]\n",
    "\n",
    "# Display the filtered dataset dimensions\n",
    "print(f\"Filtered dataset shape: {filtered_df.shape}\")\n",
    "\n",
    "# Display same rows (if they exist after filtering — some will be removed)\n",
    "print(\"Filtered Data (rows 24219-24227):\")\n",
    "display(filtered_df.iloc[24218:24228])  # This only works if enough rows remain after filtering\n",
    "print(f\"Number of peptides filtered out: {df.shape[0] - filtered_df.shape[0]}\")"
   ]
  },
  {
   "cell_type": "code",
   "execution_count": 2,
   "id": "19d8f42e",
   "metadata": {},
   "outputs": [
    {
     "name": "stdout",
     "output_type": "stream",
     "text": [
      "Shape of the filtered DataFrame after adding the new column:\n"
     ]
    },
    {
     "name": "stderr",
     "output_type": "stream",
     "text": [
      "C:\\Temp\\ipykernel_11628\\2995632746.py:23: SettingWithCopyWarning: \n",
      "A value is trying to be set on a copy of a slice from a DataFrame.\n",
      "Try using .loc[row_indexer,col_indexer] = value instead\n",
      "\n",
      "See the caveats in the documentation: https://pandas.pydata.org/pandas-docs/stable/user_guide/indexing.html#returning-a-view-versus-a-copy\n",
      "  filtered_df[\"Cleaned Sequence\"] = filtered_df[\"Peptide\"].apply(lambda x: wrangle_peptides(x))\n"
     ]
    },
    {
     "data": {
      "text/plain": [
       "(32111, 21)"
      ]
     },
     "metadata": {},
     "output_type": "display_data"
    },
    {
     "name": "stdout",
     "output_type": "stream",
     "text": [
      "Cleaned Peptides (Rows 11–21):\n"
     ]
    },
    {
     "data": {
      "text/html": [
       "<div>\n",
       "<style scoped>\n",
       "    .dataframe tbody tr th:only-of-type {\n",
       "        vertical-align: middle;\n",
       "    }\n",
       "\n",
       "    .dataframe tbody tr th {\n",
       "        vertical-align: top;\n",
       "    }\n",
       "\n",
       "    .dataframe thead th {\n",
       "        text-align: right;\n",
       "    }\n",
       "</style>\n",
       "<table border=\"1\" class=\"dataframe\">\n",
       "  <thead>\n",
       "    <tr style=\"text-align: right;\">\n",
       "      <th></th>\n",
       "      <th>Peptide</th>\n",
       "      <th>Cleaned Sequence</th>\n",
       "    </tr>\n",
       "  </thead>\n",
       "  <tbody>\n",
       "    <tr>\n",
       "      <th>10</th>\n",
       "      <td>TSLLN(+.98)YLR</td>\n",
       "      <td>TSIINYIR</td>\n",
       "    </tr>\n",
       "    <tr>\n",
       "      <th>11</th>\n",
       "      <td>VVQLTMQ(+.98)TQEK</td>\n",
       "      <td>VVQITMQTQEK</td>\n",
       "    </tr>\n",
       "    <tr>\n",
       "      <th>12</th>\n",
       "      <td>ATMSDFSPK</td>\n",
       "      <td>ATMSDFSPK</td>\n",
       "    </tr>\n",
       "    <tr>\n",
       "      <th>13</th>\n",
       "      <td>LSELTSLTSAPR</td>\n",
       "      <td>ISEITSITSAPR</td>\n",
       "    </tr>\n",
       "    <tr>\n",
       "      <th>14</th>\n",
       "      <td>VSQ(+.98)AVLAASSGR</td>\n",
       "      <td>VSQAVIAASSGR</td>\n",
       "    </tr>\n",
       "    <tr>\n",
       "      <th>15</th>\n",
       "      <td>VGLAWDR</td>\n",
       "      <td>VGIAWDR</td>\n",
       "    </tr>\n",
       "    <tr>\n",
       "      <th>16</th>\n",
       "      <td>YLPASC(+57.02)R</td>\n",
       "      <td>YIPASCR</td>\n",
       "    </tr>\n",
       "    <tr>\n",
       "      <th>17</th>\n",
       "      <td>ASVEDLLK</td>\n",
       "      <td>ASVEDIIK</td>\n",
       "    </tr>\n",
       "    <tr>\n",
       "      <th>18</th>\n",
       "      <td>YPDVATTHGGSATK</td>\n",
       "      <td>YPDVATTHGGSATK</td>\n",
       "    </tr>\n",
       "    <tr>\n",
       "      <th>19</th>\n",
       "      <td>VMGVAFN(+.98)R</td>\n",
       "      <td>VMGVAFNR</td>\n",
       "    </tr>\n",
       "    <tr>\n",
       "      <th>20</th>\n",
       "      <td>APDNVGVLLR</td>\n",
       "      <td>APDNVGVIIR</td>\n",
       "    </tr>\n",
       "  </tbody>\n",
       "</table>\n",
       "</div>"
      ],
      "text/plain": [
       "               Peptide Cleaned Sequence\n",
       "10      TSLLN(+.98)YLR         TSIINYIR\n",
       "11   VVQLTMQ(+.98)TQEK      VVQITMQTQEK\n",
       "12           ATMSDFSPK        ATMSDFSPK\n",
       "13        LSELTSLTSAPR     ISEITSITSAPR\n",
       "14  VSQ(+.98)AVLAASSGR     VSQAVIAASSGR\n",
       "15             VGLAWDR          VGIAWDR\n",
       "16     YLPASC(+57.02)R          YIPASCR\n",
       "17            ASVEDLLK         ASVEDIIK\n",
       "18      YPDVATTHGGSATK   YPDVATTHGGSATK\n",
       "19      VMGVAFN(+.98)R         VMGVAFNR\n",
       "20          APDNVGVLLR       APDNVGVIIR"
      ]
     },
     "metadata": {},
     "output_type": "display_data"
    }
   ],
   "source": [
    "# Define the wrangle_peptides function\n",
    "import re\n",
    "\n",
    "def wrangle_peptides(sequence: str, ptm_filter: bool=True, li_swap: bool=True) -> str:\n",
    "    \"\"\"Process peptide sequences by removing post-translational modifications\n",
    "    and/or equating Leucine and Isoleucine amino acids.\n",
    "\n",
    "    Args:\n",
    "        sequence (str): Peptide sequence string\n",
    "        ptm_filter (bool, optional): Remove PTMs from sequence. Defaults to True.\n",
    "        li_swap (bool, optional): Equate Leucine (L) and Isoleucine (I). Defaults to True.\n",
    "\n",
    "    Returns:\n",
    "        str: Processed sequence string\n",
    "    \"\"\"\n",
    "    if ptm_filter:\n",
    "        sequence = \"\".join(re.findall(r\"[A-Z]+\", sequence))\n",
    "    if li_swap:\n",
    "        sequence = sequence.replace(\"L\", \"I\")\n",
    "    return sequence\n",
    "\n",
    "# Apply wrangle_peptides function to the filtered data\n",
    "filtered_df[\"Cleaned Sequence\"] = filtered_df[\"Peptide\"].apply(lambda x: wrangle_peptides(x))\n",
    "\n",
    "print(\"Shape of the filtered DataFrame after adding the new column:\")\n",
    "display(filtered_df.shape)  # Check the shape of the DataFrame after adding the new column\n",
    "\n",
    "# Display rows 11 to 21 (Python is 0-indexed, so need 10:21)\n",
    "print(\"Cleaned Peptides (Rows 11–21):\")\n",
    "display(filtered_df[[\"Peptide\", \"Cleaned Sequence\"]].iloc[10:21])\n"
   ]
  },
  {
   "cell_type": "code",
   "execution_count": 3,
   "id": "42a2fe74",
   "metadata": {},
   "outputs": [],
   "source": [
    "import os\n",
    "import requests\n",
    "import time\n",
    "\n",
    "def fetch_request(url: str, retries: int = 3, delay: int = 5) -> requests.Response:\n",
    "    for attempt in range(retries):\n",
    "        req_get = requests.get(url)\n",
    "        if req_get.status_code == 200:\n",
    "            return req_get\n",
    "        print(f\"Request failed with status {req_get.status_code}. Retrying ({attempt+1}/{retries}) in {delay} seconds...\")\n",
    "        time.sleep(delay)\n",
    "    raise RuntimeError(f\"Request failed after {retries} retries: statuscode {req_get.status_code}\")\n",
    "\n",
    "def request_unipept_pept2taxa(pept_df: pd.DataFrame, seq_col: str) -> pd.DataFrame:\n",
    "    \"\"\"Fetch taxon info using UniPept's pept2taxa API.\"\"\"\n",
    "    base_url = \"https://api.unipept.ugent.be/api/v1/pept2taxa.json?equate_il=true\"\n",
    "    batch_size = 100\n",
    "\n",
    "    seq_series = [\"&input[]=\" + seq for seq in pept_df[seq_col].drop_duplicates()]\n",
    "    taxa_df = pd.DataFrame(columns=[\"Peptide\", \"Taxon ID\", \"Taxon Name\", \"Taxon Rank\"])\n",
    "\n",
    "    x = 0\n",
    "    total_batches = (len(seq_series) + batch_size - 1) // batch_size\n",
    "    print(f\"🔄 Total batches: {total_batches}\")\n",
    "\n",
    "    while x < len(seq_series):\n",
    "        peptides = seq_series[x:x + batch_size]\n",
    "        req_str = \"\".join([base_url, *peptides])\n",
    "        try:\n",
    "            response = fetch_request(req_str).json()\n",
    "        except Exception as e:\n",
    "            print(f\"❌ Error in batch {x // batch_size + 1}: {e}\")\n",
    "            x += batch_size\n",
    "            continue\n",
    "\n",
    "        batch_df = pd.DataFrame(\n",
    "            [\n",
    "                {\n",
    "                    \"Peptide\": record.get(\"peptide\", \"Unknown\"),\n",
    "                    \"Taxon ID\": record.get(\"taxon_id\", \"Unknown\"),\n",
    "                    \"Taxon Name\": record.get(\"taxon_name\", \"Unknown\"),\n",
    "                    \"Taxon Rank\": record.get(\"taxon_rank\", \"Unknown\")\n",
    "                }\n",
    "                for record in response\n",
    "            ]\n",
    "        )\n",
    "        taxa_df = pd.concat([taxa_df, batch_df], ignore_index=True)\n",
    "        x += batch_size\n",
    "\n",
    "    print(f\"✅ Done. Total mappings: {len(taxa_df)}\")\n",
    "    return taxa_df"
   ]
  },
  {
   "cell_type": "code",
   "execution_count": 4,
   "id": "5c30a22e",
   "metadata": {},
   "outputs": [
    {
     "name": "stdout",
     "output_type": "stream",
     "text": [
      "🔄 Total batches: 265\n",
      "✅ Done. Total mappings: 8327285\n"
     ]
    },
    {
     "data": {
      "text/html": [
       "<div>\n",
       "<style scoped>\n",
       "    .dataframe tbody tr th:only-of-type {\n",
       "        vertical-align: middle;\n",
       "    }\n",
       "\n",
       "    .dataframe tbody tr th {\n",
       "        vertical-align: top;\n",
       "    }\n",
       "\n",
       "    .dataframe thead th {\n",
       "        text-align: right;\n",
       "    }\n",
       "</style>\n",
       "<table border=\"1\" class=\"dataframe\">\n",
       "  <thead>\n",
       "    <tr style=\"text-align: right;\">\n",
       "      <th></th>\n",
       "      <th>Peptide</th>\n",
       "      <th>Taxon ID</th>\n",
       "      <th>Taxon Name</th>\n",
       "      <th>Taxon Rank</th>\n",
       "    </tr>\n",
       "  </thead>\n",
       "  <tbody>\n",
       "    <tr>\n",
       "      <th>0</th>\n",
       "      <td>AISTWFTIK</td>\n",
       "      <td>1325564</td>\n",
       "      <td>Nitrospira japonica</td>\n",
       "      <td>species</td>\n",
       "    </tr>\n",
       "    <tr>\n",
       "      <th>1</th>\n",
       "      <td>AISTWFTIK</td>\n",
       "      <td>330214</td>\n",
       "      <td>Nitrospira defluvii</td>\n",
       "      <td>species</td>\n",
       "    </tr>\n",
       "    <tr>\n",
       "      <th>2</th>\n",
       "      <td>AISTWFTIK</td>\n",
       "      <td>70125</td>\n",
       "      <td>Nitrospira sp.</td>\n",
       "      <td>species</td>\n",
       "    </tr>\n",
       "    <tr>\n",
       "      <th>3</th>\n",
       "      <td>AISTWFTIK</td>\n",
       "      <td>1985133</td>\n",
       "      <td>Nitrospira sp. CG24A</td>\n",
       "      <td>species</td>\n",
       "    </tr>\n",
       "    <tr>\n",
       "      <th>4</th>\n",
       "      <td>AISTWFTIK</td>\n",
       "      <td>2026887</td>\n",
       "      <td>Nitrospirota bacterium</td>\n",
       "      <td>species</td>\n",
       "    </tr>\n",
       "  </tbody>\n",
       "</table>\n",
       "</div>"
      ],
      "text/plain": [
       "     Peptide Taxon ID              Taxon Name Taxon Rank\n",
       "0  AISTWFTIK  1325564     Nitrospira japonica    species\n",
       "1  AISTWFTIK   330214     Nitrospira defluvii    species\n",
       "2  AISTWFTIK    70125          Nitrospira sp.    species\n",
       "3  AISTWFTIK  1985133    Nitrospira sp. CG24A    species\n",
       "4  AISTWFTIK  2026887  Nitrospirota bacterium    species"
      ]
     },
     "metadata": {},
     "output_type": "display_data"
    }
   ],
   "source": [
    "# Example call\n",
    "taxa_results_df = request_unipept_pept2taxa(filtered_df, seq_col=\"Cleaned Sequence\")\n",
    "display(taxa_results_df.head())"
   ]
  },
  {
   "cell_type": "code",
   "execution_count": 5,
   "id": "bcf2c2f1",
   "metadata": {},
   "outputs": [
    {
     "data": {
      "text/plain": [
       "(8327285, 4)"
      ]
     },
     "metadata": {},
     "output_type": "display_data"
    }
   ],
   "source": [
    "display(taxa_results_df.shape)"
   ]
  },
  {
   "cell_type": "code",
   "execution_count": 6,
   "id": "acd17b9c",
   "metadata": {},
   "outputs": [],
   "source": [
    "import pandas as pd\n",
    "import requests\n",
    "import time\n",
    "\n",
    "def fetch_request(url: str, retries: int = 3, delay: int = 5) -> requests.Response:\n",
    "    for attempt in range(retries):\n",
    "        req_get = requests.get(url)\n",
    "        if req_get.status_code == 200:\n",
    "            return req_get\n",
    "        print(f\"Request failed with status {req_get.status_code}. Retrying ({attempt+1}/{retries}) in {delay} seconds...\")\n",
    "        time.sleep(delay)\n",
    "    raise RuntimeError(f\"Request failed after {retries} retries: statuscode {req_get.status_code}\")\n",
    "\n",
    "def request_unipept_pept2taxa(pept_df: pd.DataFrame, seq_col: str) -> pd.DataFrame:\n",
    "    \"\"\"Fetch taxon info using UniPept's pept2taxa API with extended metadata.\"\"\"\n",
    "    base_url = \"https://api.unipept.ugent.be/api/v1/pept2taxa.json?equate_il=true&extra=true&compact=true\"\n",
    "    batch_size = 100\n",
    "\n",
    "    seq_series = [\"&input[]=\" + seq for seq in pept_df[seq_col].drop_duplicates()]\n",
    "    taxa_df = pd.DataFrame(columns=[\n",
    "        \"Peptide\", \"Taxon ID\", \"Taxon Name\", \"Taxon Rank\", \"Matches\", \"Protein Count\"\n",
    "    ])\n",
    "\n",
    "    x = 0\n",
    "    total_batches = (len(seq_series) + batch_size - 1) // batch_size\n",
    "    print(f\"🔄 Total batches: {total_batches}\")\n",
    "\n",
    "    while x < len(seq_series):\n",
    "        peptides = seq_series[x:x + batch_size]\n",
    "        req_str = \"\".join([base_url, *peptides])\n",
    "        try:\n",
    "            response = fetch_request(req_str).json()\n",
    "        except Exception as e:\n",
    "            print(f\"❌ Error in batch {x // batch_size + 1}: {e}\")\n",
    "            x += batch_size\n",
    "            continue\n",
    "\n",
    "        batch_df = pd.DataFrame([\n",
    "            {\n",
    "                \"Peptide\": record.get(\"peptide\", \"Unknown\"),\n",
    "                \"Taxon ID\": record.get(\"taxon_id\", \"Unknown\"),\n",
    "                \"Taxon Name\": record.get(\"taxon_name\", \"Unknown\"),\n",
    "                \"Taxon Rank\": record.get(\"taxon_rank\", \"Unknown\"),\n",
    "                \"Matches\": record.get(\"matches\", 0),\n",
    "                \"Protein Count\": record.get(\"protein_count\", 0)\n",
    "            }\n",
    "            for record in response\n",
    "        ])\n",
    "\n",
    "        taxa_df = pd.concat([taxa_df, batch_df], ignore_index=True)\n",
    "        x += batch_size\n",
    "\n",
    "    print(f\"✅ Done. Total mappings: {len(taxa_df)}\")\n",
    "    return taxa_df"
   ]
  },
  {
   "cell_type": "code",
   "execution_count": 7,
   "id": "c0350998",
   "metadata": {},
   "outputs": [],
   "source": [
    "def filter_taxa_by_peptide_support(taxa_df, min_peptides=5):\n",
    "    \"\"\"\n",
    "    Keep only taxa supported by at least `min_peptides` unique peptides.\n",
    "    Also include the taxon rank for downstream filtering.\n",
    "    \"\"\"\n",
    "    support_counts = taxa_df.groupby([\"Taxon ID\", \"Taxon Name\", \"Taxon Rank\"]).agg({\n",
    "        \"Peptide\": pd.Series.nunique\n",
    "    }).reset_index().rename(columns={\"Peptide\": \"Num Peptides\"})\n",
    "\n",
    "    filtered = support_counts[support_counts[\"Num Peptides\"] >= min_peptides]\n",
    "    print(f\"🧬 Retained {len(filtered)} taxa with ≥ {min_peptides} unique peptides.\")\n",
    "\n",
    "    return filtered"
   ]
  },
  {
   "cell_type": "code",
   "execution_count": null,
   "id": "5d47c7c1",
   "metadata": {},
   "outputs": [
    {
     "name": "stdout",
     "output_type": "stream",
     "text": [
      "🧬 Retained 15390 taxa with ≥ 200 unique peptides.\n"
     ]
    },
    {
     "data": {
      "text/html": [
       "<div>\n",
       "<style scoped>\n",
       "    .dataframe tbody tr th:only-of-type {\n",
       "        vertical-align: middle;\n",
       "    }\n",
       "\n",
       "    .dataframe tbody tr th {\n",
       "        vertical-align: top;\n",
       "    }\n",
       "\n",
       "    .dataframe thead th {\n",
       "        text-align: right;\n",
       "    }\n",
       "</style>\n",
       "<table border=\"1\" class=\"dataframe\">\n",
       "  <thead>\n",
       "    <tr style=\"text-align: right;\">\n",
       "      <th></th>\n",
       "      <th>Taxon ID</th>\n",
       "      <th>Taxon Name</th>\n",
       "      <th>Taxon Rank</th>\n",
       "      <th>Num Peptides</th>\n",
       "    </tr>\n",
       "  </thead>\n",
       "  <tbody>\n",
       "    <tr>\n",
       "      <th>5</th>\n",
       "      <td>23</td>\n",
       "      <td>Shewanella colwelliana</td>\n",
       "      <td>species</td>\n",
       "      <td>200</td>\n",
       "    </tr>\n",
       "    <tr>\n",
       "      <th>7</th>\n",
       "      <td>25</td>\n",
       "      <td>Shewanella hanedai</td>\n",
       "      <td>species</td>\n",
       "      <td>206</td>\n",
       "    </tr>\n",
       "    <tr>\n",
       "      <th>9</th>\n",
       "      <td>33</td>\n",
       "      <td>Myxococcus fulvus</td>\n",
       "      <td>species</td>\n",
       "      <td>443</td>\n",
       "    </tr>\n",
       "    <tr>\n",
       "      <th>10</th>\n",
       "      <td>34</td>\n",
       "      <td>Myxococcus xanthus</td>\n",
       "      <td>species</td>\n",
       "      <td>611</td>\n",
       "    </tr>\n",
       "    <tr>\n",
       "      <th>13</th>\n",
       "      <td>41</td>\n",
       "      <td>Stigmatella aurantiaca</td>\n",
       "      <td>species</td>\n",
       "      <td>437</td>\n",
       "    </tr>\n",
       "  </tbody>\n",
       "</table>\n",
       "</div>"
      ],
      "text/plain": [
       "    Taxon ID              Taxon Name Taxon Rank  Num Peptides\n",
       "5         23  Shewanella colwelliana    species           200\n",
       "7         25      Shewanella hanedai    species           206\n",
       "9         33       Myxococcus fulvus    species           443\n",
       "10        34      Myxococcus xanthus    species           611\n",
       "13        41  Stigmatella aurantiaca    species           437"
      ]
     },
     "metadata": {},
     "output_type": "display_data"
    },
    {
     "name": "stdout",
     "output_type": "stream",
     "text": [
      "Filtered taxa DataFrame shape: (15390, 4)\n"
     ]
    }
   ],
   "source": [
    "# === Example usage ===\n",
    "min_peptides = 700  # Set your desired supporting peptide threshold here (will also be used for database name)\n",
    "filtered_taxa_df = filter_taxa_by_peptide_support(taxa_results_df, min_peptides)\n",
    "display(filtered_taxa_df.head())\n",
    "print(f\"Filtered taxa DataFrame shape: {filtered_taxa_df.shape}\")"
   ]
  },
  {
   "cell_type": "code",
   "execution_count": 9,
   "id": "4e406e27",
   "metadata": {},
   "outputs": [],
   "source": [
    "def filter_taxa_by_rank_level(taxa_df, min_rank=\"species\"):\n",
    "    \"\"\"\n",
    "    Filter a taxonomy dataframe by minimum taxonomic rank.\n",
    "    Only keep taxa that are at `min_rank` level or more specific (e.g. strain).\n",
    "    \n",
    "    Args:\n",
    "        taxa_df (pd.DataFrame): Input dataframe with a 'Taxon Rank' column.\n",
    "        min_rank (str): Minimum rank to retain (e.g., \"family\", \"species\", \"strain\").\n",
    "\n",
    "    Returns:\n",
    "        pd.DataFrame: Filtered dataframe with allowed taxon ranks.\n",
    "    \"\"\"\n",
    "    # Define ordered taxonomic ranks from general to specific\n",
    "    rank_order = [\n",
    "        \"superkingdom\", \"kingdom\", \"phylum\", \"class\", \"order\", \"family\",\n",
    "        \"genus\", \"species\", \"subspecies\", \"forma\", \"varietas\", \"strain\"\n",
    "    ]\n",
    "\n",
    "    # Normalize and validate\n",
    "    min_rank = min_rank.lower()\n",
    "    if min_rank not in rank_order:\n",
    "        raise ValueError(f\"Invalid min_rank: {min_rank}. Must be one of: {rank_order}\")\n",
    "\n",
    "    # Determine allowed ranks from min_rank onward\n",
    "    min_index = rank_order.index(min_rank)\n",
    "    allowed_ranks = rank_order[min_index:]\n",
    "\n",
    "    # Filter the dataframe\n",
    "    filtered = taxa_df[\n",
    "        taxa_df[\"Taxon Rank\"].str.lower().isin(allowed_ranks)\n",
    "    ].drop_duplicates(subset=[\"Taxon ID\", \"Taxon Name\"])\n",
    "\n",
    "    print(f\"🔎 Filtered {len(filtered)} taxa with rank ≥ '{min_rank}' ({len(allowed_ranks)} levels considered)\")\n",
    "    return filtered"
   ]
  },
  {
   "cell_type": "code",
   "execution_count": 12,
   "id": "e6fe8095",
   "metadata": {},
   "outputs": [
    {
     "name": "stdout",
     "output_type": "stream",
     "text": [
      "🔎 Filtered 1759 taxa with rank ≥ 'strain' (1 levels considered)\n"
     ]
    },
    {
     "data": {
      "text/plain": [
       "(1759, 4)"
      ]
     },
     "metadata": {},
     "output_type": "display_data"
    },
    {
     "data": {
      "text/html": [
       "<div>\n",
       "<style scoped>\n",
       "    .dataframe tbody tr th:only-of-type {\n",
       "        vertical-align: middle;\n",
       "    }\n",
       "\n",
       "    .dataframe tbody tr th {\n",
       "        vertical-align: top;\n",
       "    }\n",
       "\n",
       "    .dataframe thead th {\n",
       "        text-align: right;\n",
       "    }\n",
       "</style>\n",
       "<table border=\"1\" class=\"dataframe\">\n",
       "  <thead>\n",
       "    <tr style=\"text-align: right;\">\n",
       "      <th></th>\n",
       "      <th>Taxon ID</th>\n",
       "      <th>Taxon Name</th>\n",
       "      <th>Taxon Rank</th>\n",
       "      <th>Num Peptides</th>\n",
       "    </tr>\n",
       "  </thead>\n",
       "  <tbody>\n",
       "    <tr>\n",
       "      <th>165</th>\n",
       "      <td>394</td>\n",
       "      <td>Sinorhizobium fredii NGR234</td>\n",
       "      <td>strain</td>\n",
       "      <td>359</td>\n",
       "    </tr>\n",
       "    <tr>\n",
       "      <th>2127</th>\n",
       "      <td>5823</td>\n",
       "      <td>Plasmodium berghei ANKA</td>\n",
       "      <td>strain</td>\n",
       "      <td>271</td>\n",
       "    </tr>\n",
       "    <tr>\n",
       "      <th>2135</th>\n",
       "      <td>5835</td>\n",
       "      <td>Plasmodium falciparum CAMP/Malaysia</td>\n",
       "      <td>strain</td>\n",
       "      <td>274</td>\n",
       "    </tr>\n",
       "    <tr>\n",
       "      <th>2141</th>\n",
       "      <td>5851</td>\n",
       "      <td>Plasmodium knowlesi strain H</td>\n",
       "      <td>strain</td>\n",
       "      <td>396</td>\n",
       "    </tr>\n",
       "    <tr>\n",
       "      <th>7378</th>\n",
       "      <td>44139</td>\n",
       "      <td>Thauera aromatica K172</td>\n",
       "      <td>strain</td>\n",
       "      <td>286</td>\n",
       "    </tr>\n",
       "  </tbody>\n",
       "</table>\n",
       "</div>"
      ],
      "text/plain": [
       "      Taxon ID                           Taxon Name Taxon Rank  Num Peptides\n",
       "165        394          Sinorhizobium fredii NGR234     strain           359\n",
       "2127      5823              Plasmodium berghei ANKA     strain           271\n",
       "2135      5835  Plasmodium falciparum CAMP/Malaysia     strain           274\n",
       "2141      5851         Plasmodium knowlesi strain H     strain           396\n",
       "7378     44139               Thauera aromatica K172     strain           286"
      ]
     },
     "metadata": {},
     "output_type": "display_data"
    }
   ],
   "source": [
    "filtered_taxa_by_rank = filter_taxa_by_rank_level(filtered_taxa_df, min_rank=\"strain\")\n",
    "display(filtered_taxa_by_rank.shape)\n",
    "display(filtered_taxa_by_rank.head())"
   ]
  },
  {
   "cell_type": "code",
   "execution_count": 11,
   "id": "14ccf643",
   "metadata": {},
   "outputs": [
    {
     "name": "stdout",
     "output_type": "stream",
     "text": [
      "Requirement already satisfied: tqdm in c:\\users\\yusuf\\appdata\\local\\packages\\pythonsoftwarefoundation.python.3.9_qbz5n2kfra8p0\\localcache\\local-packages\\python39\\site-packages (4.67.1)\n",
      "Requirement already satisfied: colorama in c:\\users\\yusuf\\appdata\\local\\packages\\pythonsoftwarefoundation.python.3.9_qbz5n2kfra8p0\\localcache\\local-packages\\python39\\site-packages (from tqdm) (0.4.6)\n"
     ]
    },
    {
     "name": "stderr",
     "output_type": "stream",
     "text": [
      "WARNING: You are using pip version 22.0.4; however, version 25.1.1 is available.\n",
      "You should consider upgrading via the 'C:\\Users\\Yusuf\\AppData\\Local\\Microsoft\\WindowsApps\\PythonSoftwareFoundation.Python.3.9_qbz5n2kfra8p0\\python.exe -m pip install --upgrade pip' command.\n"
     ]
    }
   ],
   "source": [
    "# Install the tqdm library if not installed already\n",
    "!pip3 install tqdm"
   ]
  },
  {
   "cell_type": "code",
   "execution_count": 13,
   "id": "44031b75",
   "metadata": {},
   "outputs": [],
   "source": [
    "import requests\n",
    "from tqdm import tqdm\n",
    "\n",
    "def search_best_proteomes(taxa_df, name_col=\"Taxon Name\", id_col=\"Taxon ID\"):\n",
    "    \"\"\"Search UniProt proteomes using strain names with fallback to taxon ID.\n",
    "       Returns a list of (taxon_id, taxon_name, proteome_id, is_reference).\n",
    "    \"\"\"\n",
    "    found = []\n",
    "    not_found = []\n",
    "\n",
    "    for _, row in tqdm(taxa_df.iterrows(), total=len(taxa_df)):\n",
    "        taxon_id = row[id_col]\n",
    "        taxon_name = row[name_col]\n",
    "\n",
    "        url = \"https://rest.uniprot.org/proteomes/search\"\n",
    "        used_query = \"name\"\n",
    "\n",
    "        # Step 1: Try by strain name\n",
    "        params = {\"query\": taxon_name, \"format\": \"json\", \"size\": 100}\n",
    "        try:\n",
    "            r = requests.get(url, params=params)\n",
    "            r.raise_for_status()\n",
    "            results = r.json().get(\"results\", [])\n",
    "        except:\n",
    "            results = []\n",
    "\n",
    "        # Step 2: Fallback to taxon ID\n",
    "        if not results:\n",
    "            params = {\"query\": f\"taxonomy_id:{taxon_id}\", \"format\": \"json\", \"size\": 100}\n",
    "            try:\n",
    "                r = requests.get(url, params=params)\n",
    "                r.raise_for_status()\n",
    "                results = r.json().get(\"results\", [])\n",
    "                used_query = \"taxid\"\n",
    "            except:\n",
    "                results = []\n",
    "\n",
    "        # Step 3: Handle failure\n",
    "        if not results:\n",
    "            not_found.append((taxon_id, taxon_name))\n",
    "            print(f\"❌ No proteome found for: {taxon_name} (Taxon ID: {taxon_id})\")\n",
    "            continue\n",
    "\n",
    "        # Step 4: Pick best proteome (Reference > BUSCO completeness)\n",
    "        reference = [r for r in results if r.get(\"proteomeType\") == \"Reference\"]\n",
    "        selected = reference[0] if reference else max(\n",
    "            results, key=lambda r: r.get(\"busco\", {}).get(\"complete\", 0)\n",
    "        )\n",
    "\n",
    "        # ✅ FIXED: Use 'id' for proteome ID\n",
    "        proteome_id = selected.get(\"id\", None)\n",
    "        is_ref = selected.get(\"proteomeType\") == \"Reference\"\n",
    "\n",
    "        print(f\"✅ {taxon_name} → Proteome ID: {proteome_id} (Reference: {is_ref}, via: {used_query})\")\n",
    "\n",
    "        found.append((taxon_id, taxon_name, proteome_id, is_ref))\n",
    "\n",
    "    # Summary\n",
    "    print(f\"\\n🎯 Proteomes found for {len(found)} out of {len(taxa_df)} strains.\")\n",
    "    if not_found:\n",
    "        print(f\"\\n⚠️ No proteomes found for {len(not_found)} strains:\")\n",
    "        for tid, name in not_found:\n",
    "            print(f\" - {name} (Taxon ID: {tid})\")\n",
    "\n",
    "    return found\n",
    "\n"
   ]
  },
  {
   "cell_type": "code",
   "execution_count": 14,
   "id": "6ba0e09f",
   "metadata": {},
   "outputs": [],
   "source": [
    "def save_proteome_matches_to_csv(proteome_list, output_path):\n",
    "    \"\"\"Save list of found proteomes to a CSV file.\"\"\"\n",
    "    df = pd.DataFrame(proteome_list, columns=[\n",
    "        \"Taxon ID\", \"Taxon Name\", \"Proteome ID (UPID)\", \"Is Reference Proteome\"\n",
    "    ])\n",
    "    df.to_csv(output_path, index=False)\n",
    "    print(f\"📄 Summary saved to: {output_path}\")"
   ]
  },
  {
   "cell_type": "code",
   "execution_count": 15,
   "id": "03b1c9f3",
   "metadata": {},
   "outputs": [
    {
     "name": "stderr",
     "output_type": "stream",
     "text": [
      "  0%|          | 2/1759 [00:00<03:04,  9.52it/s]"
     ]
    },
    {
     "name": "stdout",
     "output_type": "stream",
     "text": [
      "✅ Sinorhizobium fredii NGR234 → Proteome ID: UP000001054 (Reference: False, via: name)\n",
      "✅ Plasmodium berghei ANKA → Proteome ID: UP000074855 (Reference: False, via: name)\n"
     ]
    },
    {
     "name": "stderr",
     "output_type": "stream",
     "text": [
      "  0%|          | 3/1759 [00:00<05:11,  5.63it/s]"
     ]
    },
    {
     "name": "stdout",
     "output_type": "stream",
     "text": [
      "✅ Plasmodium falciparum CAMP/Malaysia → Proteome ID: UP000030694 (Reference: False, via: name)\n"
     ]
    },
    {
     "name": "stderr",
     "output_type": "stream",
     "text": [
      "  0%|          | 5/1759 [00:00<04:41,  6.23it/s]"
     ]
    },
    {
     "name": "stdout",
     "output_type": "stream",
     "text": [
      "✅ Plasmodium knowlesi strain H → Proteome ID: UP000031513 (Reference: False, via: name)\n",
      "✅ Thauera aromatica K172 → Proteome ID: UP000241885 (Reference: False, via: name)\n"
     ]
    },
    {
     "name": "stderr",
     "output_type": "stream",
     "text": [
      "  0%|          | 8/1759 [00:01<04:16,  6.83it/s]"
     ]
    },
    {
     "name": "stdout",
     "output_type": "stream",
     "text": [
      "✅ Cylindrospermum stagnale PCC 7417 → Proteome ID: UP000010475 (Reference: False, via: name)\n",
      "✅ Oscillatoria acuminata PCC 6304 → Proteome ID: UP000010367 (Reference: False, via: name)\n",
      "✅ Plasmodium falciparum 7G8 → Proteome ID: UP000030688 (Reference: False, via: name)\n"
     ]
    },
    {
     "name": "stderr",
     "output_type": "stream",
     "text": [
      "  1%|          | 10/1759 [00:01<03:36,  8.08it/s]"
     ]
    },
    {
     "name": "stdout",
     "output_type": "stream",
     "text": [
      "✅ Plasmodium falciparum Palo Alto/Uganda → Proteome ID: UP000019103 (Reference: False, via: name)\n",
      "✅ Nostoc punctiforme PCC 73102 → Proteome ID: UP000001191 (Reference: False, via: name)\n",
      "✅ Gloeothece citriformis PCC 7424 → Proteome ID: UP000002384 (Reference: False, via: name)\n"
     ]
    },
    {
     "name": "stderr",
     "output_type": "stream",
     "text": [
      "  1%|          | 13/1759 [00:01<04:23,  6.63it/s]"
     ]
    },
    {
     "name": "stdout",
     "output_type": "stream",
     "text": [
      "❌ No proteome found for: Thiomonas intermedia K12 (Taxon ID: 75379)\n",
      "✅ Aromatoleum aromaticum EbN1 → Proteome ID: UP000006552 (Reference: False, via: name)\n"
     ]
    },
    {
     "name": "stderr",
     "output_type": "stream",
     "text": [
      "  1%|          | 15/1759 [00:02<03:43,  7.79it/s]"
     ]
    },
    {
     "name": "stdout",
     "output_type": "stream",
     "text": [
      "✅ Pseudomonas putida GB-1 → Proteome ID: UP000002157 (Reference: False, via: name)\n",
      "✅ Xanthobacter autotrophicus Py2 → Proteome ID: UP000002417 (Reference: False, via: name)\n"
     ]
    },
    {
     "name": "stderr",
     "output_type": "stream",
     "text": [
      "  1%|          | 17/1759 [00:02<04:33,  6.37it/s]"
     ]
    },
    {
     "name": "stdout",
     "output_type": "stream",
     "text": [
      "✅ Mycobacterium tuberculosis CDC1551 → Proteome ID: UP000001020 (Reference: False, via: taxid)\n",
      "✅ Mycobacterium tuberculosis H37Rv → Proteome ID: UP000001584 (Reference: False, via: name)\n"
     ]
    },
    {
     "name": "stderr",
     "output_type": "stream",
     "text": [
      "  1%|          | 19/1759 [00:02<04:02,  7.17it/s]"
     ]
    },
    {
     "name": "stdout",
     "output_type": "stream",
     "text": [
      "✅ Escherichia coli K-12 → Proteome ID: UP000005626 (Reference: False, via: name)\n",
      "✅ Clostridium pasteurianum BC1 → Proteome ID: UP000013523 (Reference: False, via: name)\n"
     ]
    },
    {
     "name": "stderr",
     "output_type": "stream",
     "text": [
      "  1%|          | 20/1759 [00:03<05:47,  5.01it/s]"
     ]
    },
    {
     "name": "stdout",
     "output_type": "stream",
     "text": [
      "✅ Pseudoalteromonas tunicata D2 → Proteome ID: UP000006201 (Reference: False, via: name)\n",
      "✅ Stutzerimonas stutzeri ATCC 17588 = LMG 11199 → Proteome ID: UP000294666 (Reference: False, via: name)\n"
     ]
    },
    {
     "name": "stderr",
     "output_type": "stream",
     "text": [
      "  1%|▏         | 22/1759 [00:03<04:57,  5.84it/s]"
     ]
    },
    {
     "name": "stdout",
     "output_type": "stream",
     "text": [
      "✅ Salmonella enterica subsp. enterica serovar Typhimurium str. LT2 → Proteome ID: UP000001014 (Reference: False, via: taxid)\n",
      "✅ Streptomyces coelicolor A3(2) → Proteome ID: UP000001973 (Reference: False, via: name)\n",
      "✅ Rhodococcus jostii RHA1 → Proteome ID: UP000008710 (Reference: False, via: name)\n"
     ]
    },
    {
     "name": "stderr",
     "output_type": "stream",
     "text": [
      "  1%|▏         | 26/1759 [00:03<04:14,  6.82it/s]"
     ]
    },
    {
     "name": "stdout",
     "output_type": "stream",
     "text": [
      "✅ Coleofasciculus chthonoplastes PCC 7420 → Proteome ID: UP000003835 (Reference: False, via: name)\n",
      "✅ Plasmodium vivax Sal-1 → Proteome ID: UP000008333 (Reference: False, via: taxid)\n"
     ]
    },
    {
     "name": "stderr",
     "output_type": "stream",
     "text": [
      "  2%|▏         | 28/1759 [00:04<03:36,  7.99it/s]"
     ]
    },
    {
     "name": "stdout",
     "output_type": "stream",
     "text": [
      "✅ Scytonema hofmannii PCC 7110 → Proteome ID: UP000076925 (Reference: False, via: name)\n",
      "✅ Desulfitobacterium hafniense Y51 → Proteome ID: UP000001946 (Reference: False, via: name)\n"
     ]
    },
    {
     "name": "stderr",
     "output_type": "stream",
     "text": [
      "  2%|▏         | 31/1759 [00:04<04:28,  6.44it/s]"
     ]
    },
    {
     "name": "stdout",
     "output_type": "stream",
     "text": [
      "❌ No proteome found for: Dechloromonas aromatica RCB (Taxon ID: 159087)\n",
      "✅ Pseudomonas putida KT2440 → Proteome ID: UP000000556 (Reference: False, via: name)\n",
      "✅ Colwellia psychrerythraea 34H → Proteome ID: UP000000547 (Reference: False, via: name)\n"
     ]
    },
    {
     "name": "stderr",
     "output_type": "stream",
     "text": [
      "  2%|▏         | 34/1759 [00:05<04:13,  6.81it/s]"
     ]
    },
    {
     "name": "stdout",
     "output_type": "stream",
     "text": [
      "✅ Agrobacterium fabrum str. C58 → Proteome ID: UP000000813 (Reference: False, via: taxid)\n",
      "✅ Desulforapulum autotrophicum HRM2 → Proteome ID: UP000000442 (Reference: False, via: name)\n",
      "✅ Oscillatoria nigro-viridis PCC 7112 → Proteome ID: UP000010478 (Reference: False, via: name)\n"
     ]
    },
    {
     "name": "stderr",
     "output_type": "stream",
     "text": [
      "  2%|▏         | 36/1759 [00:05<04:20,  6.62it/s]"
     ]
    },
    {
     "name": "stdout",
     "output_type": "stream",
     "text": [
      "✅ Giardia lamblia ATCC 50803 → Proteome ID: UP000001548 (Reference: False, via: name)\n",
      "✅ Trypanosoma brucei brucei TREU927 → Proteome ID: UP000008524 (Reference: False, via: taxid)\n"
     ]
    },
    {
     "name": "stderr",
     "output_type": "stream",
     "text": [
      "  2%|▏         | 37/1759 [00:05<05:37,  5.11it/s]"
     ]
    },
    {
     "name": "stdout",
     "output_type": "stream",
     "text": [
      "✅ Xanthomonas campestris pv. campestris str. ATCC 33913 → Proteome ID: UP000001010 (Reference: False, via: taxid)\n",
      "✅ Xanthomonas citri pv. citri str. 306 → Proteome ID: UP000000576 (Reference: False, via: taxid)\n"
     ]
    },
    {
     "name": "stderr",
     "output_type": "stream",
     "text": [
      "  2%|▏         | 39/1759 [00:06<05:49,  4.92it/s]"
     ]
    },
    {
     "name": "stdout",
     "output_type": "stream",
     "text": [
      "✅ Caulobacter vibrioides CB15 → Proteome ID: UP000001816 (Reference: False, via: taxid)\n",
      "✅ Vibrio vulnificus YJ016 → Proteome ID: UP000002675 (Reference: False, via: name)\n"
     ]
    },
    {
     "name": "stderr",
     "output_type": "stream",
     "text": [
      "  2%|▏         | 42/1759 [00:06<04:43,  6.06it/s]"
     ]
    },
    {
     "name": "stdout",
     "output_type": "stream",
     "text": [
      "✅ Shigella flexneri 2a str. 301 → Proteome ID: UP000198358 (Reference: False, via: name)\n",
      "✅ Dickeya dadantii 3937 → Proteome ID: UP000006859 (Reference: False, via: name)\n"
     ]
    },
    {
     "name": "stderr",
     "output_type": "stream",
     "text": [
      "  3%|▎         | 44/1759 [00:06<03:55,  7.29it/s]"
     ]
    },
    {
     "name": "stdout",
     "output_type": "stream",
     "text": [
      "✅ Escherichia coli CFT073 → Proteome ID: UP000001410 (Reference: False, via: name)\n",
      "✅ Saccharophagus degradans 2-40 → Proteome ID: UP000001947 (Reference: False, via: name)\n",
      "✅ Pseudomonas syringae pv. syringae B728a → Proteome ID: UP000000426 (Reference: False, via: name)\n"
     ]
    },
    {
     "name": "stderr",
     "output_type": "stream",
     "text": [
      "  3%|▎         | 46/1759 [00:07<03:22,  8.47it/s]"
     ]
    },
    {
     "name": "stdout",
     "output_type": "stream",
     "text": [
      "✅ Pseudomonas fluorescens Pf0-1 → Proteome ID: UP000002704 (Reference: False, via: name)\n",
      "✅ Pseudomonas aeruginosa UCBPP-PA14 → Proteome ID: UP000000653 (Reference: False, via: name)\n",
      "✅ Pseudomonas aeruginosa PAO1 → Proteome ID: UP000002438 (Reference: False, via: name)\n"
     ]
    },
    {
     "name": "stderr",
     "output_type": "stream",
     "text": [
      "  3%|▎         | 51/1759 [00:07<02:56,  9.65it/s]"
     ]
    },
    {
     "name": "stdout",
     "output_type": "stream",
     "text": [
      "✅ Fischerella major NIES-592 → Proteome ID: UP000186391 (Reference: False, via: name)\n",
      "✅ Chlorogloeopsis fritschii PCC 6912 → Proteome ID: UP000268857 (Reference: False, via: name)\n",
      "✅ Shewanella oneidensis MR-1 → Proteome ID: UP000008186 (Reference: False, via: name)\n"
     ]
    },
    {
     "name": "stderr",
     "output_type": "stream",
     "text": [
      "  3%|▎         | 53/1759 [00:07<02:48, 10.12it/s]"
     ]
    },
    {
     "name": "stdout",
     "output_type": "stream",
     "text": [
      "✅ Cryptococcus neoformans var. neoformans JEC21 → Proteome ID: UP000002149 (Reference: False, via: name)\n",
      "✅ Burkholderia cenocepacia J2315 → Proteome ID: UP000001035 (Reference: False, via: name)\n",
      "✅ Escherichia coli 042 → Proteome ID: UP000239221 (Reference: False, via: name)\n"
     ]
    },
    {
     "name": "stderr",
     "output_type": "stream",
     "text": [
      "  3%|▎         | 55/1759 [00:07<02:45, 10.32it/s]"
     ]
    },
    {
     "name": "stdout",
     "output_type": "stream",
     "text": [
      "✅ Mycobacterium marinum M → Proteome ID: UP000001190 (Reference: False, via: name)\n",
      "✅ Pseudomonas [fluorescens] SBW25 → Proteome ID: UP000002332 (Reference: False, via: taxid)\n"
     ]
    },
    {
     "name": "stderr",
     "output_type": "stream",
     "text": [
      "  3%|▎         | 57/1759 [00:08<03:05,  9.19it/s]"
     ]
    },
    {
     "name": "stdout",
     "output_type": "stream",
     "text": [
      "✅ Rhizobium johnstonii 3841 → Proteome ID: UP000006575 (Reference: False, via: name)\n"
     ]
    },
    {
     "name": "stderr",
     "output_type": "stream",
     "text": [
      "  3%|▎         | 60/1759 [00:08<03:21,  8.42it/s]"
     ]
    },
    {
     "name": "stdout",
     "output_type": "stream",
     "text": [
      "✅ Salmonella enterica subsp. enterica serovar Typhimurium str. SL1344 → Proteome ID: UP000008962 (Reference: False, via: taxid)\n",
      "✅ Vibrio vulnificus CMCP6 → Proteome ID: UP000002275 (Reference: False, via: name)\n",
      "✅ Pectobacterium atrosepticum SCRI1043 → Proteome ID: UP001055441 (Reference: False, via: name)\n"
     ]
    },
    {
     "name": "stderr",
     "output_type": "stream",
     "text": [
      "  3%|▎         | 61/1759 [00:08<03:15,  8.67it/s]"
     ]
    },
    {
     "name": "stdout",
     "output_type": "stream",
     "text": [
      "✅ Salmonella bongori NCTC 12419 → Proteome ID: UP000000289 (Reference: False, via: name)\n"
     ]
    },
    {
     "name": "stderr",
     "output_type": "stream",
     "text": [
      "  4%|▎         | 63/1759 [00:09<04:37,  6.11it/s]"
     ]
    },
    {
     "name": "stdout",
     "output_type": "stream",
     "text": [
      "❌ No proteome found for: Salmonella enterica subsp. enterica serovar Typhi str. CT18 (Taxon ID: 220341)\n",
      "✅ Pseudomonas protegens Pf-5 → Proteome ID: UP000008540 (Reference: False, via: name)\n"
     ]
    },
    {
     "name": "stderr",
     "output_type": "stream",
     "text": [
      "  4%|▎         | 64/1759 [00:09<04:51,  5.82it/s]"
     ]
    },
    {
     "name": "stdout",
     "output_type": "stream",
     "text": [
      "✅ Coccidioides posadasii C735 delta SOWgp → Proteome ID: UP000009084 (Reference: False, via: taxid)\n"
     ]
    },
    {
     "name": "stderr",
     "output_type": "stream",
     "text": [
      "  4%|▍         | 66/1759 [00:10<06:27,  4.37it/s]"
     ]
    },
    {
     "name": "stdout",
     "output_type": "stream",
     "text": [
      "✅ Pseudomonas syringae pv. tomato str. DC3000 → Proteome ID: UP000002515 (Reference: False, via: taxid)\n",
      "✅ Vibrio parahaemolyticus RIMD 2210633 → Proteome ID: UP000002493 (Reference: False, via: name)\n"
     ]
    },
    {
     "name": "stderr",
     "output_type": "stream",
     "text": [
      "  4%|▍         | 69/1759 [00:10<05:01,  5.60it/s]"
     ]
    },
    {
     "name": "stdout",
     "output_type": "stream",
     "text": [
      "✅ Bacillus subtilis subsp. subtilis str. 168 → Proteome ID: UP000001570 (Reference: False, via: taxid)\n",
      "✅ Salmonella enterica subsp. enterica serovar Java → Proteome ID: UP000305891 (Reference: False, via: name)\n",
      "✅ Bradyrhizobium diazoefficiens USDA 110 → Proteome ID: UP000002526 (Reference: False, via: name)\n"
     ]
    },
    {
     "name": "stderr",
     "output_type": "stream",
     "text": [
      "  4%|▍         | 71/1759 [00:10<04:04,  6.91it/s]"
     ]
    },
    {
     "name": "stdout",
     "output_type": "stream",
     "text": [
      "✅ Marinobacter adhaerens HP15 → Proteome ID: UP000007077 (Reference: False, via: name)\n",
      "✅ Saccharomyces mikatae IFO 1815 → Proteome ID: UP001161438 (Reference: False, via: name)\n"
     ]
    },
    {
     "name": "stderr",
     "output_type": "stream",
     "text": [
      "  4%|▍         | 72/1759 [00:10<03:50,  7.33it/s]"
     ]
    },
    {
     "name": "stdout",
     "output_type": "stream",
     "text": [
      "✅ Bacteroides thetaiotaomicron VPI-5482 → Proteome ID: UP000001414 (Reference: False, via: name)\n",
      "✅ Saccharomyces kudriavzevii IFO 1802 → Proteome ID: UP000002753 (Reference: False, via: taxid)\n"
     ]
    },
    {
     "name": "stderr",
     "output_type": "stream",
     "text": [
      "  4%|▍         | 75/1759 [00:11<03:30,  7.98it/s]"
     ]
    },
    {
     "name": "stdout",
     "output_type": "stream",
     "text": [
      "✅ Aspergillus nidulans FGSC A4 → Proteome ID: UP000000560 (Reference: False, via: name)\n",
      "✅ Streptomyces avermitilis MA-4680 = NBRC 14893 → Proteome ID: UP000000428 (Reference: False, via: name)\n"
     ]
    },
    {
     "name": "stderr",
     "output_type": "stream",
     "text": [
      "  4%|▍         | 77/1759 [00:11<04:01,  6.96it/s]"
     ]
    },
    {
     "name": "stdout",
     "output_type": "stream",
     "text": [
      "✅ Fusarium graminearum PH-1 → Proteome ID: UP000070720 (Reference: False, via: name)\n",
      "✅ Pseudomonas putida ND6 → Proteome ID: UP000005268 (Reference: False, via: name)\n"
     ]
    },
    {
     "name": "stderr",
     "output_type": "stream",
     "text": [
      "  4%|▍         | 79/1759 [00:11<03:24,  8.20it/s]"
     ]
    },
    {
     "name": "stdout",
     "output_type": "stream",
     "text": [
      "✅ Tolypothrix tenuis PCC 7101 → Proteome ID: UP000218785 (Reference: False, via: name)\n",
      "✅ Dulcicalothrix desertica PCC 7102 → Proteome ID: UP000271624 (Reference: False, via: name)\n"
     ]
    },
    {
     "name": "stderr",
     "output_type": "stream",
     "text": [
      "  5%|▍         | 81/1759 [00:12<03:40,  7.62it/s]"
     ]
    },
    {
     "name": "stdout",
     "output_type": "stream",
     "text": [
      "✅ Mycobacterium tuberculosis variant bovis AF2122/97 → Proteome ID: UP000001419 (Reference: False, via: taxid)\n",
      "✅ Rhodococcus erythropolis PR4 → Proteome ID: UP000002204 (Reference: False, via: name)\n"
     ]
    },
    {
     "name": "stderr",
     "output_type": "stream",
     "text": [
      "  5%|▍         | 82/1759 [00:12<03:36,  7.75it/s]"
     ]
    },
    {
     "name": "stdout",
     "output_type": "stream",
     "text": [
      "✅ Cryptococcus neoformans var. grubii H99 → Proteome ID: UP000010091 (Reference: False, via: name)\n",
      "✅ Candida albicans SC5314 → Proteome ID: UP000000559 (Reference: False, via: name)\n"
     ]
    },
    {
     "name": "stderr",
     "output_type": "stream",
     "text": [
      "  5%|▍         | 86/1759 [00:12<03:19,  8.37it/s]"
     ]
    },
    {
     "name": "stdout",
     "output_type": "stream",
     "text": [
      "✅ Coprinopsis cinerea okayama7#130 → Proteome ID: UP000001861 (Reference: False, via: taxid)\n",
      "✅ Trichormus variabilis ATCC 29413 → Proteome ID: UP000002533 (Reference: False, via: name)\n",
      "✅ Pyricularia oryzae 70-15 → Proteome ID: UP000009058 (Reference: False, via: name)\n"
     ]
    },
    {
     "name": "stderr",
     "output_type": "stream",
     "text": [
      "  5%|▌         | 89/1759 [00:13<03:20,  8.32it/s]"
     ]
    },
    {
     "name": "stdout",
     "output_type": "stream",
     "text": [
      "✅ Rhodopirellula baltica SH 1 → Proteome ID: UP000001025 (Reference: False, via: taxid)\n",
      "✅ Burkholderia mallei ATCC 23344 → Proteome ID: UP000006693 (Reference: False, via: name)\n",
      "✅ Mycobacterium avium 104 → Proteome ID: UP000001574 (Reference: False, via: name)\n"
     ]
    },
    {
     "name": "stderr",
     "output_type": "stream",
     "text": [
      "  5%|▌         | 90/1759 [00:13<03:46,  7.37it/s]"
     ]
    },
    {
     "name": "stdout",
     "output_type": "stream",
     "text": [
      "✅ Photorhabdus laumondii subsp. laumondii TTO1 → Proteome ID: UP000002514 (Reference: False, via: taxid)\n"
     ]
    },
    {
     "name": "stderr",
     "output_type": "stream",
     "text": [
      "  5%|▌         | 91/1759 [00:13<04:52,  5.71it/s]"
     ]
    },
    {
     "name": "stdout",
     "output_type": "stream",
     "text": [
      "✅ Chromobacterium violaceum ATCC 12472 → Proteome ID: UP000001424 (Reference: False, via: name)\n"
     ]
    },
    {
     "name": "stderr",
     "output_type": "stream",
     "text": [
      "  5%|▌         | 93/1759 [00:13<04:54,  5.67it/s]"
     ]
    },
    {
     "name": "stdout",
     "output_type": "stream",
     "text": [
      "✅ Roseibium alexandrii DFL-11 → Proteome ID: UP000004703 (Reference: False, via: name)\n",
      "✅ Mycolicibacterium smegmatis MC2 155 → Proteome ID: UP000006158 (Reference: False, via: name)\n",
      "✅ Myxococcus xanthus DK 1622 → Proteome ID: UP000002402 (Reference: False, via: name)\n"
     ]
    },
    {
     "name": "stderr",
     "output_type": "stream",
     "text": [
      "  5%|▌         | 96/1759 [00:14<03:45,  7.38it/s]"
     ]
    },
    {
     "name": "stdout",
     "output_type": "stream",
     "text": [
      "✅ Ruegeria pomeroyi DSS-3 → Proteome ID: UP000001023 (Reference: False, via: name)\n",
      "✅ Rhizopus delemar RA 99-880 → Proteome ID: UP000009138 (Reference: False, via: name)\n",
      "✅ Coccidioides immitis RS → Proteome ID: UP000001261 (Reference: False, via: name)\n"
     ]
    },
    {
     "name": "stderr",
     "output_type": "stream",
     "text": [
      "  6%|▌         | 99/1759 [00:14<03:07,  8.83it/s]"
     ]
    },
    {
     "name": "stdout",
     "output_type": "stream",
     "text": [
      "✅ Nocardia farcinica IFM 10152 → Proteome ID: UP000006820 (Reference: False, via: name)\n",
      "✅ Gloeobacter violaceus PCC 7421 → Proteome ID: UP000000557 (Reference: False, via: name)\n",
      "✅ Chroococcidiopsis thermalis PCC 7203 → Proteome ID: UP000010384 (Reference: False, via: name)\n"
     ]
    },
    {
     "name": "stderr",
     "output_type": "stream",
     "text": [
      "  6%|▌         | 103/1759 [00:14<02:45, 10.03it/s]"
     ]
    },
    {
     "name": "stdout",
     "output_type": "stream",
     "text": [
      "✅ Pseudooceanicola batsensis HTCC2597 → Proteome ID: UP000004318 (Reference: False, via: name)\n",
      "✅ Bordetella bronchiseptica RB50 → Proteome ID: UP000001027 (Reference: False, via: name)\n",
      "✅ Bordetella parapertussis 12822 → Proteome ID: UP000001421 (Reference: False, via: name)\n"
     ]
    },
    {
     "name": "stderr",
     "output_type": "stream",
     "text": [
      "  6%|▌         | 105/1759 [00:15<03:07,  8.81it/s]"
     ]
    },
    {
     "name": "stdout",
     "output_type": "stream",
     "text": [
      "✅ Rhodopseudomonas palustris CGA009 → Proteome ID: UP000001426 (Reference: False, via: name)\n",
      "✅ Mycobacterium avium subsp. paratuberculosis K-10 → Proteome ID: UP000000580 (Reference: False, via: taxid)\n"
     ]
    },
    {
     "name": "stderr",
     "output_type": "stream",
     "text": [
      "  6%|▌         | 107/1759 [00:15<03:28,  7.91it/s]"
     ]
    },
    {
     "name": "stdout",
     "output_type": "stream",
     "text": [
      "❌ No proteome found for: Cupriavidus pinatubonensis JMP134 (Taxon ID: 264198)\n",
      "✅ Pseudomonas savastanoi pv. phaseolicola 1448A → Proteome ID: UP000000551 (Reference: False, via: name)\n"
     ]
    },
    {
     "name": "stderr",
     "output_type": "stream",
     "text": [
      "  6%|▋         | 110/1759 [00:15<03:11,  8.60it/s]"
     ]
    },
    {
     "name": "stdout",
     "output_type": "stream",
     "text": [
      "✅ Cupriavidus metallidurans CH34 → Proteome ID: UP000002429 (Reference: False, via: name)\n",
      "✅ Paraburkholderia xenovorans LB400 → Proteome ID: UP000001817 (Reference: False, via: name)\n",
      "✅ Sinorhizobium meliloti 1021 → Proteome ID: UP000001976 (Reference: False, via: name)\n"
     ]
    },
    {
     "name": "stderr",
     "output_type": "stream",
     "text": [
      "  6%|▋         | 112/1759 [00:16<03:33,  7.73it/s]"
     ]
    },
    {
     "name": "stdout",
     "output_type": "stream",
     "text": [
      "✅ Mesorhizobium japonicum MAFF 303099 → Proteome ID: UP000000552 (Reference: False, via: name)\n",
      "✅ Kineococcus radiotolerans SRS30216 = ATCC BAA-149 → Proteome ID: UP000001116 (Reference: False, via: name)\n"
     ]
    },
    {
     "name": "stderr",
     "output_type": "stream",
     "text": [
      "  6%|▋         | 114/1759 [00:16<03:29,  7.86it/s]"
     ]
    },
    {
     "name": "stdout",
     "output_type": "stream",
     "text": [
      "✅ Ralstonia pseudosolanacearum GMI1000 → Proteome ID: UP000001436 (Reference: False, via: name)\n",
      "✅ Burkholderia vietnamiensis G4 → Proteome ID: UP000002287 (Reference: False, via: name)\n"
     ]
    },
    {
     "name": "stderr",
     "output_type": "stream",
     "text": [
      "  7%|▋         | 117/1759 [00:16<03:00,  9.09it/s]"
     ]
    },
    {
     "name": "stdout",
     "output_type": "stream",
     "text": [
      "✅ Rhodospirillum rubrum ATCC 11170 → Proteome ID: UP000001929 (Reference: False, via: name)\n",
      "✅ Burkholderia thailandensis E264 → Proteome ID: UP000001930 (Reference: False, via: name)\n",
      "✅ Anabaena cylindrica PCC 7122 → Proteome ID: UP000010474 (Reference: False, via: name)\n"
     ]
    },
    {
     "name": "stderr",
     "output_type": "stream",
     "text": [
      "  7%|▋         | 119/1759 [00:16<02:45,  9.89it/s]"
     ]
    },
    {
     "name": "stdout",
     "output_type": "stream",
     "text": [
      "✅ Bacteroides fragilis NCTC 9343 → Proteome ID: UP000006731 (Reference: False, via: name)\n",
      "✅ Burkholderia pseudomallei K96243 → Proteome ID: UP000000605 (Reference: False, via: name)\n",
      "✅ Desulfitobacterium hafniense DCB-2 → Proteome ID: UP000007726 (Reference: False, via: name)\n"
     ]
    },
    {
     "name": "stderr",
     "output_type": "stream",
     "text": [
      "  7%|▋         | 121/1759 [00:17<03:18,  8.27it/s]"
     ]
    },
    {
     "name": "stdout",
     "output_type": "stream",
     "text": [
      "✅ Gluconacetobacter diazotrophicus PA1 5 → Proteome ID: UP000001176 (Reference: False, via: taxid)\n",
      "✅ Klebsiella pneumoniae subsp. pneumoniae MGH 78578 → Proteome ID: UP000000265 (Reference: False, via: name)\n",
      "✅ Paramagnetospirillum magnetotacticum MS-1 → Proteome ID: UP000031971 (Reference: False, via: name)\n"
     ]
    },
    {
     "name": "stderr",
     "output_type": "stream",
     "text": [
      "  7%|▋         | 125/1759 [00:17<03:25,  7.96it/s]"
     ]
    },
    {
     "name": "stdout",
     "output_type": "stream",
     "text": [
      "✅ Methylorubrum extorquens AM1 → Proteome ID: UP000009081 (Reference: False, via: name)\n",
      "✅ Rhodobacter capsulatus SB 1003 → Proteome ID: UP000002361 (Reference: False, via: taxid)\n"
     ]
    },
    {
     "name": "stderr",
     "output_type": "stream",
     "text": [
      "  7%|▋         | 127/1759 [00:17<04:15,  6.38it/s]"
     ]
    },
    {
     "name": "stdout",
     "output_type": "stream",
     "text": [
      "✅ Cereibacter sphaeroides 2.4.1 → Proteome ID: UP000002703 (Reference: False, via: name)\n",
      "✅ Mycolicibacterium gilvum Spyr1 → Proteome ID: UP000008916 (Reference: False, via: name)\n"
     ]
    },
    {
     "name": "stderr",
     "output_type": "stream",
     "text": [
      "  7%|▋         | 129/1759 [00:18<04:30,  6.03it/s]"
     ]
    },
    {
     "name": "stdout",
     "output_type": "stream",
     "text": [
      "✅ Streptomyces ambofaciens ATCC 23877 → Proteome ID: UP000061018 (Reference: False, via: name)\n",
      "✅ Novosphingobium aromaticivorans DSM 12444 → Proteome ID: UP000009134 (Reference: False, via: name)\n",
      "✅ Pseudogulbenkiania ferrooxidans 2002 → Proteome ID: UP000003165 (Reference: False, via: name)\n"
     ]
    },
    {
     "name": "stderr",
     "output_type": "stream",
     "text": [
      "  7%|▋         | 131/1759 [00:18<04:33,  5.96it/s]"
     ]
    },
    {
     "name": "stdout",
     "output_type": "stream",
     "text": [
      "✅ Emiliania huxleyi CCMP1516 → Proteome ID: UP000013827 (Reference: False, via: name)\n",
      "✅ Cyanidioschyzon merolae strain 10D → Proteome ID: UP000007014 (Reference: False, via: name)\n"
     ]
    },
    {
     "name": "stderr",
     "output_type": "stream",
     "text": [
      "  8%|▊         | 133/1759 [00:19<04:21,  6.22it/s]"
     ]
    },
    {
     "name": "stdout",
     "output_type": "stream",
     "text": [
      "✅ [Bacillus thuringiensis] serovar konkukian str. 97-27 → Proteome ID: UP000001301 (Reference: False, via: taxid)\n",
      "✅ Kluyveromyces lactis NRRL Y-1140 → Proteome ID: UP000000598 (Reference: False, via: name)\n"
     ]
    },
    {
     "name": "stderr",
     "output_type": "stream",
     "text": [
      "  8%|▊         | 135/1759 [00:19<04:10,  6.48it/s]"
     ]
    },
    {
     "name": "stdout",
     "output_type": "stream",
     "text": [
      "✅ Yarrowia lipolytica CLIB122 → Proteome ID: UP000001300 (Reference: False, via: taxid)\n"
     ]
    },
    {
     "name": "stderr",
     "output_type": "stream",
     "text": [
      "  8%|▊         | 138/1759 [00:19<04:39,  5.79it/s]"
     ]
    },
    {
     "name": "stdout",
     "output_type": "stream",
     "text": [
      "✅ Debaryomyces hansenii CBS767 → Proteome ID: UP000000599 (Reference: False, via: taxid)\n",
      "✅ Nakaseomyces glabratus CBS 138 → Proteome ID: UP000002428 (Reference: False, via: name)\n",
      "✅ Eremothecium gossypii ATCC 10895 → Proteome ID: UP000000591 (Reference: False, via: name)\n"
     ]
    },
    {
     "name": "stderr",
     "output_type": "stream",
     "text": [
      "  8%|▊         | 140/1759 [00:20<03:56,  6.86it/s]"
     ]
    },
    {
     "name": "stdout",
     "output_type": "stream",
     "text": [
      "✅ Schizosaccharomyces pombe 972h- → Proteome ID: UP000002485 (Reference: False, via: name)\n",
      "✅ Saccharomyces cerevisiae RM11-1a → Proteome ID: UP000008335 (Reference: False, via: name)\n",
      "✅ Aurantimonas manganoxydans SI85-9A1 → Proteome ID: UP000000321 (Reference: False, via: name)\n"
     ]
    },
    {
     "name": "stderr",
     "output_type": "stream",
     "text": [
      "  8%|▊         | 144/1759 [00:20<03:10,  8.49it/s]"
     ]
    },
    {
     "name": "stdout",
     "output_type": "stream",
     "text": [
      "✅ Mojavia pulchra JT2-VF2 → Proteome ID: UP000715781 (Reference: False, via: name)\n",
      "✅ Citrobacter koseri ATCC BAA-895 → Proteome ID: UP000008148 (Reference: False, via: name)\n",
      "✅ Cronobacter sakazakii ATCC BAA-894 → Proteome ID: UP000000260 (Reference: False, via: name)\n"
     ]
    },
    {
     "name": "stderr",
     "output_type": "stream",
     "text": [
      "  8%|▊         | 146/1759 [00:20<03:00,  8.93it/s]"
     ]
    },
    {
     "name": "stdout",
     "output_type": "stream",
     "text": [
      "✅ Anaeromyxobacter dehalogenans 2CP-C → Proteome ID: UP000001935 (Reference: False, via: name)\n",
      "✅ Clostridium beijerinckii NCIMB 8052 → Proteome ID: UP000000565 (Reference: False, via: name)\n"
     ]
    },
    {
     "name": "stderr",
     "output_type": "stream",
     "text": [
      "  8%|▊         | 147/1759 [00:20<03:27,  7.77it/s]"
     ]
    },
    {
     "name": "stdout",
     "output_type": "stream",
     "text": [
      "✅ Xanthomonas oryzae pv. oryzae KACC 10331 → Proteome ID: UP000006735 (Reference: False, via: taxid)\n",
      "✅ Thiobacillus denitrificans ATCC 25259 → Proteome ID: UP000008291 (Reference: False, via: name)\n"
     ]
    },
    {
     "name": "stderr",
     "output_type": "stream",
     "text": [
      "  9%|▊         | 151/1759 [00:21<03:18,  8.09it/s]"
     ]
    },
    {
     "name": "stdout",
     "output_type": "stream",
     "text": [
      "✅ Entamoeba histolytica HM-1:IMSS → Proteome ID: UP000001926 (Reference: False, via: taxid)\n",
      "✅ Meyerozyma guilliermondii ATCC 6260 → Proteome ID: UP000001997 (Reference: False, via: name)\n",
      "✅ Candida tropicalis MYA-3404 → Proteome ID: UP000002037 (Reference: False, via: name)\n"
     ]
    },
    {
     "name": "stderr",
     "output_type": "stream",
     "text": [
      "  9%|▊         | 152/1759 [00:21<03:13,  8.32it/s]"
     ]
    },
    {
     "name": "stdout",
     "output_type": "stream",
     "text": [
      "✅ Candida albicans WO-1 → Proteome ID: UP000001429 (Reference: False, via: name)\n"
     ]
    },
    {
     "name": "stderr",
     "output_type": "stream",
     "text": [
      "  9%|▉         | 155/1759 [00:21<03:31,  7.58it/s]"
     ]
    },
    {
     "name": "stdout",
     "output_type": "stream",
     "text": [
      "✅ Salmonella enterica subsp. enterica serovar Paratyphi A str. ATCC 9150 → Proteome ID: UP000008185 (Reference: False, via: taxid)\n",
      "✅ Bacteroides fragilis YCH46 → Proteome ID: UP000002197 (Reference: False, via: name)\n",
      "✅ Photobacterium profundum SS9 → Proteome ID: UP000000593 (Reference: False, via: name)\n"
     ]
    },
    {
     "name": "stderr",
     "output_type": "stream",
     "text": [
      "  9%|▉         | 156/1759 [00:22<04:30,  5.92it/s]"
     ]
    },
    {
     "name": "stdout",
     "output_type": "stream",
     "text": [
      "✅ Shigella boydii Sb227 → Proteome ID: UP000007067 (Reference: False, via: name)\n"
     ]
    },
    {
     "name": "stderr",
     "output_type": "stream",
     "text": [
      "  9%|▉         | 158/1759 [00:22<05:13,  5.10it/s]"
     ]
    },
    {
     "name": "stdout",
     "output_type": "stream",
     "text": [
      "✅ Shigella sonnei Ss046 → Proteome ID: UP000002529 (Reference: False, via: name)\n",
      "✅ Chaetomium globosum CBS 148.51 → Proteome ID: UP000001056 (Reference: False, via: name)\n"
     ]
    },
    {
     "name": "stderr",
     "output_type": "stream",
     "text": [
      "  9%|▉         | 160/1759 [00:22<04:05,  6.53it/s]"
     ]
    },
    {
     "name": "stdout",
     "output_type": "stream",
     "text": [
      "✅ Clavispora lusitaniae ATCC 42720 → Proteome ID: UP000007703 (Reference: False, via: name)\n",
      "✅ Saccharomyces cerevisiae YJM789 → Proteome ID: UP000007060 (Reference: False, via: name)\n"
     ]
    },
    {
     "name": "stderr",
     "output_type": "stream",
     "text": [
      "  9%|▉         | 161/1759 [00:23<03:46,  7.06it/s]"
     ]
    },
    {
     "name": "stdout",
     "output_type": "stream",
     "text": [
      "✅ Allorhizobium ampelinum S4 → Proteome ID: UP000001596 (Reference: False, via: name)\n",
      "✅ Rhizobium rhizogenes K84 → Proteome ID: UP000001600 (Reference: False, via: name)\n"
     ]
    },
    {
     "name": "stderr",
     "output_type": "stream",
     "text": [
      "  9%|▉         | 164/1759 [00:23<03:11,  8.33it/s]"
     ]
    },
    {
     "name": "stdout",
     "output_type": "stream",
     "text": [
      "✅ Tetrahymena thermophila SB210 → Proteome ID: UP000009168 (Reference: False, via: name)\n",
      "✅ Microscilla marina ATCC 23134 → Proteome ID: UP000004095 (Reference: False, via: name)\n",
      "✅ Lentisphaera araneosa HTCC2155 → Proteome ID: UP000004947 (Reference: False, via: name)\n"
     ]
    },
    {
     "name": "stderr",
     "output_type": "stream",
     "text": [
      "  9%|▉         | 166/1759 [00:23<02:54,  9.15it/s]"
     ]
    },
    {
     "name": "stdout",
     "output_type": "stream",
     "text": [
      "✅ Blastopirellula marina DSM 3645 → Proteome ID: UP000004358 (Reference: False, via: name)\n",
      "✅ Salipiger bermudensis HTCC2601 → Proteome ID: UP000006230 (Reference: False, via: name)\n",
      "✅ Maritimibacter alkaliphilus HTCC2654 → Proteome ID: UP000002931 (Reference: False, via: name)\n"
     ]
    },
    {
     "name": "stderr",
     "output_type": "stream",
     "text": [
      " 10%|▉         | 170/1759 [00:23<02:42,  9.79it/s]"
     ]
    },
    {
     "name": "stdout",
     "output_type": "stream",
     "text": [
      "✅ Photobacterium profundum 3TCK → Proteome ID: UP000003789 (Reference: False, via: name)\n",
      "✅ Reinekea blandensis MED297 → Proteome ID: UP000005953 (Reference: False, via: name)\n"
     ]
    },
    {
     "name": "stderr",
     "output_type": "stream",
     "text": [
      " 10%|▉         | 171/1759 [00:24<02:46,  9.55it/s]"
     ]
    },
    {
     "name": "stdout",
     "output_type": "stream",
     "text": [
      "✅ Congregibacter litoralis KT71 → Proteome ID: UP000019205 (Reference: False, via: name)\n",
      "✅ Photobacterium angustum S14 → Proteome ID: UP000001603 (Reference: False, via: name)\n"
     ]
    },
    {
     "name": "stderr",
     "output_type": "stream",
     "text": [
      " 10%|▉         | 173/1759 [00:24<02:46,  9.55it/s]"
     ]
    },
    {
     "name": "stdout",
     "output_type": "stream",
     "text": [
      "✅ Xanthomonas campestris pv. campestris str. 8004 → Proteome ID: UP000251037 (Reference: False, via: name)\n",
      "❌ No proteome found for: Rhodopseudomonas palustris BisA53 (Taxon ID: 316055)\n"
     ]
    },
    {
     "name": "stderr",
     "output_type": "stream",
     "text": [
      " 10%|█         | 177/1759 [00:24<03:37,  7.29it/s]"
     ]
    },
    {
     "name": "stdout",
     "output_type": "stream",
     "text": [
      "❌ No proteome found for: Rhodopseudomonas palustris BisB18 (Taxon ID: 316056)\n",
      "✅ Rhodopseudomonas palustris BisB5 → Proteome ID: UP000001818 (Reference: False, via: name)\n",
      "✅ Rhodopseudomonas palustris HaA2 → Proteome ID: UP000008809 (Reference: False, via: name)\n"
     ]
    },
    {
     "name": "stderr",
     "output_type": "stream",
     "text": [
      " 10%|█         | 178/1759 [00:25<03:58,  6.63it/s]"
     ]
    },
    {
     "name": "stdout",
     "output_type": "stream",
     "text": [
      "✅ Xanthomonas euvesicatoria pv. vesicatoria str. 85-10 → Proteome ID: UP000007069 (Reference: False, via: taxid)\n",
      "✅ Herpetosiphon aurantiacus DSM 785 → Proteome ID: UP000000787 (Reference: False, via: name)\n"
     ]
    },
    {
     "name": "stderr",
     "output_type": "stream",
     "text": [
      " 10%|█         | 180/1759 [00:25<03:57,  6.65it/s]"
     ]
    },
    {
     "name": "stdout",
     "output_type": "stream",
     "text": [
      "✅ Paracoccus denitrificans PD1222 → Proteome ID: UP000000361 (Reference: False, via: taxid)\n"
     ]
    },
    {
     "name": "stderr",
     "output_type": "stream",
     "text": [
      " 10%|█         | 183/1759 [00:25<03:34,  7.34it/s]"
     ]
    },
    {
     "name": "stdout",
     "output_type": "stream",
     "text": [
      "❌ No proteome found for: Shewanella putrefaciens CN-32 (Taxon ID: 319224)\n",
      "✅ Burkholderia pseudomallei 1710a → Proteome ID: UP000001812 (Reference: False, via: name)\n",
      "✅ Burkholderia pseudomallei 1710b → Proteome ID: UP000002700 (Reference: False, via: name)\n"
     ]
    },
    {
     "name": "stderr",
     "output_type": "stream",
     "text": [
      " 11%|█         | 185/1759 [00:26<03:44,  7.01it/s]"
     ]
    },
    {
     "name": "stdout",
     "output_type": "stream",
     "text": [
      "✅ Pedosphaera parvula Ellin514 → Proteome ID: UP000003688 (Reference: False, via: name)\n",
      "✅ Salmonella enterica subsp. enterica serovar Choleraesuis str. SC-B67 → Proteome ID: UP000000538 (Reference: False, via: taxid)\n"
     ]
    },
    {
     "name": "stderr",
     "output_type": "stream",
     "text": [
      " 11%|█         | 187/1759 [00:26<03:16,  7.99it/s]"
     ]
    },
    {
     "name": "stdout",
     "output_type": "stream",
     "text": [
      "✅ Parastagonospora nodorum SN15 → Proteome ID: UP000663193 (Reference: False, via: name)\n",
      "✅ Scheffersomyces stipitis CBS 6054 → Proteome ID: UP000002258 (Reference: False, via: name)\n"
     ]
    },
    {
     "name": "stderr",
     "output_type": "stream",
     "text": [
      " 11%|█         | 189/1759 [00:26<03:13,  8.10it/s]"
     ]
    },
    {
     "name": "stdout",
     "output_type": "stream",
     "text": [
      "✅ Azotobacter vinelandii DJ → Proteome ID: UP001343781 (Reference: False, via: name)\n",
      "✅ Nitrobacter hamburgensis X14 → Proteome ID: UP000001953 (Reference: False, via: name)\n"
     ]
    },
    {
     "name": "stderr",
     "output_type": "stream",
     "text": [
      " 11%|█         | 191/1759 [00:26<03:02,  8.57it/s]"
     ]
    },
    {
     "name": "stdout",
     "output_type": "stream",
     "text": [
      "✅ Nitrosospira multiformis ATCC 25196 → Proteome ID: UP000002718 (Reference: False, via: name)\n",
      "✅ Shewanella loihica PV-4 → Proteome ID: UP000001558 (Reference: False, via: name)\n"
     ]
    },
    {
     "name": "stderr",
     "output_type": "stream",
     "text": [
      " 11%|█         | 193/1759 [00:27<03:03,  8.51it/s]"
     ]
    },
    {
     "name": "stdout",
     "output_type": "stream",
     "text": [
      "✅ Shewanella baltica OS155 → Proteome ID: UP000001557 (Reference: False, via: name)\n",
      "✅ Shewanella amazonensis SB2B → Proteome ID: UP000009175 (Reference: False, via: name)\n",
      "✅ Frankia alni ACN14a → Proteome ID: UP000000657 (Reference: False, via: name)\n"
     ]
    },
    {
     "name": "stderr",
     "output_type": "stream",
     "text": [
      " 11%|█         | 196/1759 [00:27<03:25,  7.59it/s]"
     ]
    },
    {
     "name": "stdout",
     "output_type": "stream",
     "text": [
      "✅ Acaryochloris marina MBIC11017 → Proteome ID: UP000000268 (Reference: False, via: taxid)\n",
      "✅ Aspergillus fumigatus Af293 → Proteome ID: UP000002530 (Reference: False, via: name)\n"
     ]
    },
    {
     "name": "stderr",
     "output_type": "stream",
     "text": [
      " 11%|█▏        | 198/1759 [00:27<04:27,  5.84it/s]"
     ]
    },
    {
     "name": "stdout",
     "output_type": "stream",
     "text": [
      "✅ Escherichia coli O139:H28 str. E24377A → Proteome ID: UP000001122 (Reference: False, via: taxid)\n",
      "✅ Escherichia coli HS → Proteome ID: UP000001123 (Reference: False, via: name)\n"
     ]
    },
    {
     "name": "stderr",
     "output_type": "stream",
     "text": [
      " 11%|█▏        | 199/1759 [00:28<03:58,  6.55it/s]"
     ]
    },
    {
     "name": "stdout",
     "output_type": "stream",
     "text": [
      "✅ Aspergillus fischeri NRRL 181 → Proteome ID: UP000006702 (Reference: False, via: name)\n"
     ]
    },
    {
     "name": "stderr",
     "output_type": "stream",
     "text": [
      " 11%|█▏        | 201/1759 [00:28<04:01,  6.45it/s]"
     ]
    },
    {
     "name": "stdout",
     "output_type": "stream",
     "text": [
      "❌ No proteome found for: Burkholderia orbicola AU 1054 (Taxon ID: 331271)\n",
      "✅ Botrytis cinerea B05.10 → Proteome ID: UP000001798 (Reference: False, via: name)\n"
     ]
    },
    {
     "name": "stderr",
     "output_type": "stream",
     "text": [
      " 12%|█▏        | 203/1759 [00:28<04:25,  5.87it/s]"
     ]
    },
    {
     "name": "stdout",
     "output_type": "stream",
     "text": [
      "✅ Aspergillus flavus NRRL3357 → Proteome ID: UP000596276 (Reference: False, via: taxid)\n",
      "✅ Fusarium verticillioides 7600 → Proteome ID: UP000009096 (Reference: False, via: name)\n"
     ]
    },
    {
     "name": "stderr",
     "output_type": "stream",
     "text": [
      " 12%|█▏        | 205/1759 [00:29<03:42,  6.99it/s]"
     ]
    },
    {
     "name": "stdout",
     "output_type": "stream",
     "text": [
      "✅ Syntrophobacter fumaroxidans MPOB → Proteome ID: UP000001784 (Reference: False, via: name)\n",
      "✅ Zymoseptoria tritici IPO323 → Proteome ID: UP000008062 (Reference: False, via: name)\n"
     ]
    },
    {
     "name": "stderr",
     "output_type": "stream",
     "text": [
      " 12%|█▏        | 207/1759 [00:29<03:18,  7.83it/s]"
     ]
    },
    {
     "name": "stdout",
     "output_type": "stream",
     "text": [
      "✅ Uncinocarpus reesii 1704 → Proteome ID: UP000002058 (Reference: False, via: name)\n",
      "✅ Rhodoferax ferrireducens T118 → Proteome ID: UP000008332 (Reference: False, via: name)\n",
      "✅ Burkholderia ambifaria AMMD → Proteome ID: UP000000662 (Reference: False, via: name)\n"
     ]
    },
    {
     "name": "stderr",
     "output_type": "stream",
     "text": [
      " 12%|█▏        | 209/1759 [00:29<03:03,  8.46it/s]"
     ]
    },
    {
     "name": "stdout",
     "output_type": "stream",
     "text": [
      "✅ Bordetella petrii DSM 12804 → Proteome ID: UP000001225 (Reference: False, via: name)\n"
     ]
    },
    {
     "name": "stderr",
     "output_type": "stream",
     "text": [
      " 12%|█▏        | 211/1759 [00:30<08:53,  2.90it/s]"
     ]
    },
    {
     "name": "stdout",
     "output_type": "stream",
     "text": [
      "✅ Aspergillus terreus NIH2624 → Proteome ID: UP000007963 (Reference: False, via: taxid)\n",
      "✅ Paramagnetospirillum magneticum AMB-1 → Proteome ID: UP000007058 (Reference: False, via: name)\n"
     ]
    },
    {
     "name": "stderr",
     "output_type": "stream",
     "text": [
      " 12%|█▏        | 213/1759 [00:31<05:59,  4.30it/s]"
     ]
    },
    {
     "name": "stdout",
     "output_type": "stream",
     "text": [
      "✅ Ralstonia solanacearum UW551 → Proteome ID: UP000005933 (Reference: False, via: name)\n",
      "✅ Aspergillus clavatus NRRL 1 → Proteome ID: UP000006701 (Reference: False, via: name)\n"
     ]
    },
    {
     "name": "stderr",
     "output_type": "stream",
     "text": [
      " 12%|█▏        | 214/1759 [00:31<05:19,  4.84it/s]"
     ]
    },
    {
     "name": "stdout",
     "output_type": "stream",
     "text": [
      "✅ Rhizobium etli CFN 42 → Proteome ID: UP000001936 (Reference: False, via: name)\n"
     ]
    },
    {
     "name": "stderr",
     "output_type": "stream",
     "text": [
      " 12%|█▏        | 216/1759 [00:31<04:39,  5.52it/s]"
     ]
    },
    {
     "name": "stdout",
     "output_type": "stream",
     "text": [
      "❌ No proteome found for: Cereibacter sphaeroides ATCC 17025 (Taxon ID: 349102)\n",
      "✅ Acidiphilium cryptum JF-5 → Proteome ID: UP000000245 (Reference: False, via: name)\n"
     ]
    },
    {
     "name": "stderr",
     "output_type": "stream",
     "text": [
      " 12%|█▏        | 217/1759 [00:32<12:02,  2.13it/s]"
     ]
    },
    {
     "name": "stdout",
     "output_type": "stream",
     "text": [
      "✅ Hahella chejuensis KCTC 2396 → Proteome ID: UP000000238 (Reference: False, via: name)\n",
      "✅ Yersinia pseudotuberculosis IP 31758 → Proteome ID: UP000002412 (Reference: False, via: name)\n"
     ]
    },
    {
     "name": "stderr",
     "output_type": "stream",
     "text": [
      " 13%|█▎        | 220/1759 [00:33<06:59,  3.67it/s]"
     ]
    },
    {
     "name": "stdout",
     "output_type": "stream",
     "text": [
      "❌ No proteome found for: Mycolicibacterium gilvum PYR-GCK (Taxon ID: 350054)\n",
      "✅ Mycolicibacterium vanbaalenii PYR-1 → Proteome ID: UP000009159 (Reference: False, via: name)\n"
     ]
    },
    {
     "name": "stderr",
     "output_type": "stream",
     "text": [
      " 13%|█▎        | 222/1759 [00:33<05:20,  4.79it/s]"
     ]
    },
    {
     "name": "stdout",
     "output_type": "stream",
     "text": [
      "✅ Marinobacter nauticus VT8 → Proteome ID: UP000000998 (Reference: False, via: name)\n",
      "✅ Geotalea uraniireducens Rf4 → Proteome ID: UP000006695 (Reference: False, via: name)\n"
     ]
    },
    {
     "name": "stderr",
     "output_type": "stream",
     "text": [
      " 13%|█▎        | 224/1759 [00:33<04:11,  6.11it/s]"
     ]
    },
    {
     "name": "stdout",
     "output_type": "stream",
     "text": [
      "✅ Pseudomonas putida F1 → Proteome ID: UP001277857 (Reference: False, via: name)\n",
      "✅ Cryptosporidium parvum Iowa II → Proteome ID: UP000006726 (Reference: False, via: name)\n"
     ]
    },
    {
     "name": "stderr",
     "output_type": "stream",
     "text": [
      " 13%|█▎        | 225/1759 [00:33<03:55,  6.51it/s]"
     ]
    },
    {
     "name": "stdout",
     "output_type": "stream",
     "text": [
      "✅ Trypanosoma cruzi strain CL Brener → Proteome ID: UP000002296 (Reference: False, via: name)\n",
      "✅ Burkholderia pseudomallei 1106a → Proteome ID: UP000006738 (Reference: False, via: name)\n"
     ]
    },
    {
     "name": "stderr",
     "output_type": "stream",
     "text": [
      " 13%|█▎        | 228/1759 [00:34<03:25,  7.45it/s]"
     ]
    },
    {
     "name": "stdout",
     "output_type": "stream",
     "text": [
      "✅ Brevibacillus brevis NBRC 100599 → Proteome ID: UP000001877 (Reference: False, via: name)\n",
      "✅ Xanthomonas oryzae pv. oryzae PXO99A → Proteome ID: UP000001740 (Reference: False, via: name)\n"
     ]
    },
    {
     "name": "stderr",
     "output_type": "stream",
     "text": [
      " 13%|█▎        | 230/1759 [00:34<03:20,  7.63it/s]"
     ]
    },
    {
     "name": "stdout",
     "output_type": "stream",
     "text": [
      "✅ Yersinia pestis Antiqua → Proteome ID: UP000001971 (Reference: False, via: name)\n",
      "✅ Bordetella avium 197N → Proteome ID: UP000001977 (Reference: False, via: name)\n"
     ]
    },
    {
     "name": "stderr",
     "output_type": "stream",
     "text": [
      " 13%|█▎        | 232/1759 [00:34<03:22,  7.54it/s]"
     ]
    },
    {
     "name": "stdout",
     "output_type": "stream",
     "text": [
      "✅ Bacillus cereus Q1 → Proteome ID: UP000000441 (Reference: False, via: name)\n",
      "✅ Mycobacterium ulcerans Agy99 → Proteome ID: UP000000765 (Reference: False, via: name)\n"
     ]
    },
    {
     "name": "stderr",
     "output_type": "stream",
     "text": [
      " 13%|█▎        | 234/1759 [00:34<03:07,  8.13it/s]"
     ]
    },
    {
     "name": "stdout",
     "output_type": "stream",
     "text": [
      "✅ Escherichia coli 536 → Proteome ID: UP000095213 (Reference: False, via: name)\n",
      "✅ Rhizobium freirei PRF 81 → Proteome ID: UP000012429 (Reference: False, via: name)\n"
     ]
    },
    {
     "name": "stderr",
     "output_type": "stream",
     "text": [
      " 13%|█▎        | 236/1759 [00:35<03:21,  7.55it/s]"
     ]
    },
    {
     "name": "stdout",
     "output_type": "stream",
     "text": [
      "✅ Escherichia coli UTI89 → Proteome ID: UP000001952 (Reference: False, via: name)\n",
      "✅ Polaromonas naphthalenivorans CJ2 → Proteome ID: UP000000644 (Reference: False, via: name)\n"
     ]
    },
    {
     "name": "stderr",
     "output_type": "stream",
     "text": [
      " 13%|█▎        | 237/1759 [00:35<03:26,  7.36it/s]"
     ]
    },
    {
     "name": "stdout",
     "output_type": "stream",
     "text": [
      "✅ Ramlibacter tataouinensis TTB310 → Proteome ID: UP000008385 (Reference: False, via: name)\n"
     ]
    },
    {
     "name": "stderr",
     "output_type": "stream",
     "text": [
      " 14%|█▎        | 238/1759 [00:35<04:39,  5.44it/s]"
     ]
    },
    {
     "name": "stdout",
     "output_type": "stream",
     "text": [
      "✅ Sinorhizobium medicae WSM419 → Proteome ID: UP000001108 (Reference: False, via: name)\n"
     ]
    },
    {
     "name": "stderr",
     "output_type": "stream",
     "text": [
      " 14%|█▎        | 240/1759 [00:35<04:18,  5.88it/s]"
     ]
    },
    {
     "name": "stdout",
     "output_type": "stream",
     "text": [
      "✅ Neurospora crassa OR74A → Proteome ID: UP000001805 (Reference: False, via: taxid)\n",
      "✅ Cryptococcus gattii WM276 → Proteome ID: UP000007805 (Reference: False, via: name)\n"
     ]
    },
    {
     "name": "stderr",
     "output_type": "stream",
     "text": [
      " 14%|█▍        | 242/1759 [00:36<04:11,  6.03it/s]"
     ]
    },
    {
     "name": "stdout",
     "output_type": "stream",
     "text": [
      "✅ Salinispora tropica CNB-440 → Proteome ID: UP000000235 (Reference: False, via: name)\n",
      "✅ Entamoeba dispar SAW760 → Proteome ID: UP000008076 (Reference: False, via: name)\n"
     ]
    },
    {
     "name": "stderr",
     "output_type": "stream",
     "text": [
      " 14%|█▍        | 244/1759 [00:36<03:32,  7.13it/s]"
     ]
    },
    {
     "name": "stdout",
     "output_type": "stream",
     "text": [
      "✅ Entamoeba invadens IP1 → Proteome ID: UP000014680 (Reference: False, via: name)\n",
      "✅ Mastigocoleus testarum BC008 → Proteome ID: UP000053372 (Reference: False, via: name)\n",
      "✅ Yersinia pestis biovar Orientalis str. IP275 → Proteome ID: UP000004430 (Reference: False, via: name)\n"
     ]
    },
    {
     "name": "stderr",
     "output_type": "stream",
     "text": [
      " 14%|█▍        | 247/1759 [00:36<02:54,  8.64it/s]"
     ]
    },
    {
     "name": "stdout",
     "output_type": "stream",
     "text": [
      "✅ Roseobacter denitrificans OCh 114 → Proteome ID: UP000007029 (Reference: False, via: name)\n",
      "✅ Flavobacterium johnsoniae UW101 → Proteome ID: UP000006694 (Reference: False, via: name)\n",
      "✅ Teredinibacter turnerae T7901 → Proteome ID: UP000009080 (Reference: False, via: name)\n"
     ]
    },
    {
     "name": "stderr",
     "output_type": "stream",
     "text": [
      " 14%|█▍        | 251/1759 [00:37<02:35,  9.72it/s]"
     ]
    },
    {
     "name": "stdout",
     "output_type": "stream",
     "text": [
      "✅ Stigmatella aurantiaca DW4/3-1 → Proteome ID: UP000001351 (Reference: False, via: name)\n",
      "✅ Gemmatimonas aurantiaca T-27 → Proteome ID: UP000002209 (Reference: False, via: name)\n",
      "✅ Lodderomyces elongisporus NRRL YB-4239 → Proteome ID: UP000001996 (Reference: False, via: name)\n"
     ]
    },
    {
     "name": "stderr",
     "output_type": "stream",
     "text": [
      " 14%|█▍        | 254/1759 [00:37<02:29, 10.08it/s]"
     ]
    },
    {
     "name": "stdout",
     "output_type": "stream",
     "text": [
      "✅ Stutzerimonas stutzeri A1501 → Proteome ID: UP000000233 (Reference: False, via: name)\n",
      "✅ Aeromonas hydrophila subsp. hydrophila ATCC 7966 → Proteome ID: UP000000756 (Reference: False, via: name)\n",
      "✅ Aspergillus niger ATCC 1015 → Proteome ID: UP000009038 (Reference: False, via: name)\n"
     ]
    },
    {
     "name": "stderr",
     "output_type": "stream",
     "text": [
      " 15%|█▍        | 256/1759 [00:37<02:32,  9.86it/s]"
     ]
    },
    {
     "name": "stdout",
     "output_type": "stream",
     "text": [
      "✅ Cupriavidus necator H16 → Proteome ID: UP000008210 (Reference: False, via: name)\n",
      "✅ Pseudomonas paraeruginosa PA7 → Proteome ID: UP000001582 (Reference: False, via: name)\n",
      "✅ Aeromonas salmonicida subsp. salmonicida A449 → Proteome ID: UP000000225 (Reference: False, via: name)\n"
     ]
    },
    {
     "name": "stderr",
     "output_type": "stream",
     "text": [
      " 15%|█▍        | 258/1759 [00:37<02:27, 10.21it/s]"
     ]
    },
    {
     "name": "stdout",
     "output_type": "stream",
     "text": [
      "✅ Roseiflexus castenholzii DSM 13941 → Proteome ID: UP000000263 (Reference: False, via: name)\n",
      "✅ Xanthomonas oryzae pv. oryzicola BLS256 → Proteome ID: UP000008851 (Reference: False, via: name)\n",
      "✅ Pseudocercospora fijiensis CIRAD86 → Proteome ID: UP000016932 (Reference: False, via: name)\n"
     ]
    },
    {
     "name": "stderr",
     "output_type": "stream",
     "text": [
      " 15%|█▍        | 262/1759 [00:38<02:25, 10.28it/s]"
     ]
    },
    {
     "name": "stdout",
     "output_type": "stream",
     "text": [
      "✅ Pseudomonas entomophila L48 → Proteome ID: UP000000658 (Reference: False, via: name)\n",
      "✅ Roseibium aggregatum IAM 12614 → Proteome ID: UP000004848 (Reference: False, via: name)\n",
      "✅ Chroococcidiopsis cubana SAG 39.79 → Proteome ID: UP000282574 (Reference: False, via: name)\n"
     ]
    },
    {
     "name": "stderr",
     "output_type": "stream",
     "text": [
      " 15%|█▌        | 264/1759 [00:38<02:20, 10.67it/s]"
     ]
    },
    {
     "name": "stdout",
     "output_type": "stream",
     "text": [
      "✅ Sagittula stellata E-37 → Proteome ID: UP000005713 (Reference: False, via: name)\n",
      "❌ No proteome found for: Pseudomonas putida W619 (Taxon ID: 390235)\n"
     ]
    },
    {
     "name": "stderr",
     "output_type": "stream",
     "text": [
      " 15%|█▌        | 266/1759 [00:38<02:40,  9.31it/s]"
     ]
    },
    {
     "name": "stdout",
     "output_type": "stream",
     "text": [
      "✅ Stenotrophomonas maltophilia R551-3 → Proteome ID: UP000001867 (Reference: False, via: name)\n",
      "❌ No proteome found for: Salinispora arenicola CNS-205 (Taxon ID: 391037)\n"
     ]
    },
    {
     "name": "stderr",
     "output_type": "stream",
     "text": [
      " 15%|█▌        | 269/1759 [00:39<03:04,  8.06it/s]"
     ]
    },
    {
     "name": "stdout",
     "output_type": "stream",
     "text": [
      "✅ Paraburkholderia phymatum STM815 → Proteome ID: UP000001192 (Reference: False, via: name)\n",
      "✅ Roseobacter litoralis Och 149 → Proteome ID: UP000001353 (Reference: False, via: name)\n"
     ]
    },
    {
     "name": "stderr",
     "output_type": "stream",
     "text": [
      " 15%|█▌        | 271/1759 [00:39<02:49,  8.78it/s]"
     ]
    },
    {
     "name": "stdout",
     "output_type": "stream",
     "text": [
      "✅ Plesiocystis pacifica SIR-1 → Proteome ID: UP000005801 (Reference: False, via: name)\n",
      "✅ Octadecabacter antarcticus 307 → Proteome ID: UP000005307 (Reference: False, via: name)\n"
     ]
    },
    {
     "name": "stderr",
     "output_type": "stream",
     "text": [
      " 16%|█▌        | 273/1759 [00:39<03:09,  7.84it/s]"
     ]
    },
    {
     "name": "stdout",
     "output_type": "stream",
     "text": [
      "✅ Verminephrobacter eiseniae EF01-2 → Proteome ID: UP000000374 (Reference: False, via: name)\n",
      "✅ Isoalcanivorax pacificus W11-5 → Proteome ID: UP000006764 (Reference: False, via: name)\n",
      "✅ Nitratireductor pacificus pht-3B → Proteome ID: UP000006786 (Reference: False, via: name)\n"
     ]
    },
    {
     "name": "stderr",
     "output_type": "stream",
     "text": [
      " 16%|█▌        | 276/1759 [00:40<03:50,  6.44it/s]"
     ]
    },
    {
     "name": "stdout",
     "output_type": "stream",
     "text": [
      "✅ Rhizorhabdus wittichii RW1 → Proteome ID: UP000001989 (Reference: False, via: name)\n",
      "✅ Shewanella woodyi ATCC 51908 → Proteome ID: UP000002168 (Reference: False, via: name)\n"
     ]
    },
    {
     "name": "stderr",
     "output_type": "stream",
     "text": [
      " 16%|█▌        | 279/1759 [00:40<02:59,  8.26it/s]"
     ]
    },
    {
     "name": "stdout",
     "output_type": "stream",
     "text": [
      "✅ Ascosphaera apis ARSEF 7405 → Proteome ID: UP000242877 (Reference: False, via: name)\n",
      "✅ Yersinia enterocolitica subsp. enterocolitica 8081 → Proteome ID: UP000000642 (Reference: False, via: name)\n",
      "✅ Burkholderia multivorans ATCC 17616 → Proteome ID: UP000008815 (Reference: False, via: name)\n"
     ]
    },
    {
     "name": "stderr",
     "output_type": "stream",
     "text": [
      " 16%|█▌        | 281/1759 [00:40<02:47,  8.81it/s]"
     ]
    },
    {
     "name": "stdout",
     "output_type": "stream",
     "text": [
      "✅ Rhizobium leguminosarum bv. trifolii WSM1325 → Proteome ID: UP000002256 (Reference: False, via: name)\n",
      "✅ Gallionella capsiferriformans ES-2 → Proteome ID: UP000001235 (Reference: False, via: name)\n",
      "✅ Leptothrix cholodnii SP-6 → Proteome ID: UP000001693 (Reference: False, via: name)\n"
     ]
    },
    {
     "name": "stderr",
     "output_type": "stream",
     "text": [
      " 16%|█▌        | 284/1759 [00:40<02:42,  9.10it/s]"
     ]
    },
    {
     "name": "stdout",
     "output_type": "stream",
     "text": [
      "✅ Beijerinckia indica subsp. indica ATCC 9039 → Proteome ID: UP000001695 (Reference: False, via: name)\n",
      "✅ Methylocella silvestris BL2 → Proteome ID: UP000002257 (Reference: False, via: name)\n"
     ]
    },
    {
     "name": "stderr",
     "output_type": "stream",
     "text": [
      " 16%|█▋        | 286/1759 [00:41<02:33,  9.59it/s]"
     ]
    },
    {
     "name": "stdout",
     "output_type": "stream",
     "text": [
      "✅ Burkholderia ambifaria IOP40-10 → Proteome ID: UP000005463 (Reference: False, via: name)\n",
      "✅ Burkholderia ambifaria MEX-5 → Proteome ID: UP000004814 (Reference: False, via: name)\n",
      "✅ Paraburkholderia graminis C4D1M → Proteome ID: UP000005045 (Reference: False, via: name)\n"
     ]
    },
    {
     "name": "stderr",
     "output_type": "stream",
     "text": [
      " 16%|█▋        | 289/1759 [00:41<02:31,  9.71it/s]"
     ]
    },
    {
     "name": "stdout",
     "output_type": "stream",
     "text": [
      "✅ Coccidioides immitis H538.4 → Proteome ID: UP000054563 (Reference: False, via: name)\n",
      "✅ Paracidovorax citrulli AAC00-1 → Proteome ID: UP000002596 (Reference: False, via: name)\n",
      "✅ Pseudobacteroides cellulosolvens ATCC 35603 = DSM 2933 → Proteome ID: UP000036923 (Reference: False, via: name)\n"
     ]
    },
    {
     "name": "stderr",
     "output_type": "stream",
     "text": [
      " 17%|█▋        | 291/1759 [00:41<02:28,  9.90it/s]"
     ]
    },
    {
     "name": "stdout",
     "output_type": "stream",
     "text": [
      "✅ Paraburkholderia phytofirmans PsJN → Proteome ID: UP000001739 (Reference: False, via: name)\n",
      "✅ Burkholderia ambifaria MC40-6 → Proteome ID: UP000001680 (Reference: False, via: name)\n",
      "✅ Delftia acidovorans SPH-1 → Proteome ID: UP000000784 (Reference: False, via: name)\n"
     ]
    },
    {
     "name": "stderr",
     "output_type": "stream",
     "text": [
      " 17%|█▋        | 295/1759 [00:41<02:24, 10.12it/s]"
     ]
    },
    {
     "name": "stdout",
     "output_type": "stream",
     "text": [
      "✅ Shewanella pealeana ATCC 700345 → Proteome ID: UP000002608 (Reference: False, via: name)\n",
      "✅ Dinoroseobacter shibae DFL 12 = DSM 16493 → Proteome ID: UP000006833 (Reference: False, via: name)\n",
      "✅ Shewanella baltica OS195 → Proteome ID: UP000000770 (Reference: False, via: name)\n"
     ]
    },
    {
     "name": "stderr",
     "output_type": "stream",
     "text": [
      " 17%|█▋        | 298/1759 [00:42<03:13,  7.56it/s]"
     ]
    },
    {
     "name": "stdout",
     "output_type": "stream",
     "text": [
      "❌ No proteome found for: Ectopseudomonas mendocina ymp (Taxon ID: 399739)\n",
      "❌ No proteome found for: Serratia proteamaculans 568 (Taxon ID: 399741)\n"
     ]
    },
    {
     "name": "stderr",
     "output_type": "stream",
     "text": [
      " 17%|█▋        | 301/1759 [00:42<02:51,  8.49it/s]"
     ]
    },
    {
     "name": "stdout",
     "output_type": "stream",
     "text": [
      "✅ Comamonas testosteroni KF-1 → Proteome ID: UP000003039 (Reference: False, via: name)\n",
      "✅ Shewanella putrefaciens 200 → Proteome ID: UP000008209 (Reference: False, via: name)\n",
      "✅ Terriglobus saanensis SP1PR4 → Proteome ID: UP000006844 (Reference: False, via: name)\n"
     ]
    },
    {
     "name": "stderr",
     "output_type": "stream",
     "text": [
      " 17%|█▋        | 302/1759 [00:42<03:15,  7.45it/s]"
     ]
    },
    {
     "name": "stdout",
     "output_type": "stream",
     "text": [
      "❌ No proteome found for: Ralstonia pickettii 12J (Taxon ID: 402626)\n",
      "✅ Schizosaccharomyces japonicus yFS275 → Proteome ID: UP000001744 (Reference: False, via: name)\n",
      "✅ Parvibaculum lavamentivorans DS-1 → Proteome ID: UP000006377 (Reference: False, via: name)\n"
     ]
    },
    {
     "name": "stderr",
     "output_type": "stream",
     "text": [
      " 17%|█▋        | 306/1759 [00:43<02:39,  9.11it/s]"
     ]
    },
    {
     "name": "stdout",
     "output_type": "stream",
     "text": [
      "✅ Batrachochytrium dendrobatidis JEL423 → Proteome ID: UP000077115 (Reference: False, via: name)\n",
      "✅ Phytophthora infestans T30-4 → Proteome ID: UP000006643 (Reference: False, via: name)\n",
      "✅ Coccidioides immitis RMSCC 2394 → Proteome ID: UP000054565 (Reference: False, via: name)\n"
     ]
    },
    {
     "name": "stderr",
     "output_type": "stream",
     "text": [
      " 18%|█▊        | 309/1759 [00:43<02:34,  9.41it/s]"
     ]
    },
    {
     "name": "stdout",
     "output_type": "stream",
     "text": [
      "✅ Bacillus cereus G9842 → Proteome ID: UP000006744 (Reference: False, via: name)\n",
      "✅ Bacillus cereus AH820 → Proteome ID: UP000001363 (Reference: False, via: name)\n",
      "✅ Saccharopolyspora erythraea NRRL 2338 → Proteome ID: UP000006728 (Reference: False, via: name)\n"
     ]
    },
    {
     "name": "stderr",
     "output_type": "stream",
     "text": [
      " 18%|█▊        | 313/1759 [00:44<02:23, 10.10it/s]"
     ]
    },
    {
     "name": "stdout",
     "output_type": "stream",
     "text": [
      "✅ Escherichia coli APEC O1 → Proteome ID: UP000008216 (Reference: False, via: name)\n",
      "✅ Burkholderia orbicola MC0-3 → Proteome ID: UP000002169 (Reference: False, via: name)\n",
      "✅ Escherichia coli SE11 → Proteome ID: UP000008199 (Reference: False, via: name)\n"
     ]
    },
    {
     "name": "stderr",
     "output_type": "stream",
     "text": [
      " 18%|█▊        | 315/1759 [00:44<02:28,  9.74it/s]"
     ]
    },
    {
     "name": "stdout",
     "output_type": "stream",
     "text": [
      "✅ Bacteroides ovatus ATCC 8483 → Proteome ID: UP000067491 (Reference: False, via: name)\n",
      "✅ Hoeflea phototrophica DFL-43 → Proteome ID: UP000004291 (Reference: False, via: name)\n"
     ]
    },
    {
     "name": "stderr",
     "output_type": "stream",
     "text": [
      " 18%|█▊        | 317/1759 [00:44<02:24,  9.95it/s]"
     ]
    },
    {
     "name": "stdout",
     "output_type": "stream",
     "text": [
      "✅ Enterocloster bolteae ATCC BAA-613 → Proteome ID: UP000204173 (Reference: False, via: name)\n",
      "✅ Burkholderia mallei NCTC 10229 → Proteome ID: UP000002283 (Reference: False, via: name)\n",
      "✅ Trichoderma virens Gv29-8 → Proteome ID: UP000007115 (Reference: False, via: name)\n"
     ]
    },
    {
     "name": "stderr",
     "output_type": "stream",
     "text": [
      " 18%|█▊        | 319/1759 [00:44<02:21, 10.21it/s]"
     ]
    },
    {
     "name": "stdout",
     "output_type": "stream",
     "text": [
      "✅ Rhodospirillum centenum SW → Proteome ID: UP000001591 (Reference: False, via: name)\n",
      "✅ Brasilonema sennae CENA114 → Proteome ID: UP000503129 (Reference: False, via: name)\n"
     ]
    },
    {
     "name": "stderr",
     "output_type": "stream",
     "text": [
      " 18%|█▊        | 322/1759 [00:44<02:37,  9.14it/s]"
     ]
    },
    {
     "name": "stdout",
     "output_type": "stream",
     "text": [
      "✅ Puccinia graminis f. sp. tritici CRL 75-36-700-3 → Proteome ID: UP000008783 (Reference: False, via: name)\n",
      "✅ Mycobacterium tuberculosis H37Ra → Proteome ID: UP000001988 (Reference: False, via: name)\n"
     ]
    },
    {
     "name": "stderr",
     "output_type": "stream",
     "text": [
      " 18%|█▊        | 323/1759 [00:45<02:40,  8.94it/s]"
     ]
    },
    {
     "name": "stdout",
     "output_type": "stream",
     "text": [
      "✅ Leishmania braziliensis MHOM/BR/75/M2904 → Proteome ID: UP000319462 (Reference: False, via: name)\n"
     ]
    },
    {
     "name": "stderr",
     "output_type": "stream",
     "text": [
      " 18%|█▊        | 325/1759 [00:45<04:04,  5.86it/s]"
     ]
    },
    {
     "name": "stdout",
     "output_type": "stream",
     "text": [
      "✅ Methylibium petroleiphilum PM1 → Proteome ID: UP000000366 (Reference: False, via: name)\n",
      "✅ Salmonella enterica subsp. enterica serovar Newport str. SL254 → Proteome ID: UP000008824 (Reference: False, via: taxid)\n"
     ]
    },
    {
     "name": "stderr",
     "output_type": "stream",
     "text": [
      " 19%|█▊        | 327/1759 [00:45<03:42,  6.44it/s]"
     ]
    },
    {
     "name": "stdout",
     "output_type": "stream",
     "text": [
      "✅ Perkinsus marinus ATCC 50983 → Proteome ID: UP000007800 (Reference: False, via: name)\n",
      "✅ Aspergillus niger CBS 513.88 → Proteome ID: UP000006706 (Reference: False, via: name)\n"
     ]
    },
    {
     "name": "stderr",
     "output_type": "stream",
     "text": [
      " 19%|█▉        | 330/1759 [00:46<03:40,  6.50it/s]"
     ]
    },
    {
     "name": "stdout",
     "output_type": "stream",
     "text": [
      "✅ Malassezia restricta CBS 7877 → Proteome ID: UP000269793 (Reference: False, via: name)\n",
      "✅ Malassezia globosa CBS 7966 → Proteome ID: UP000008837 (Reference: False, via: name)\n",
      "✅ Methylobacterium radiotolerans JCM 2831 → Proteome ID: UP000006589 (Reference: False, via: name)\n"
     ]
    },
    {
     "name": "stderr",
     "output_type": "stream",
     "text": [
      " 19%|█▉        | 332/1759 [00:46<03:05,  7.71it/s]"
     ]
    },
    {
     "name": "stdout",
     "output_type": "stream",
     "text": [
      "✅ Pyrenophora tritici-repentis Pt-1C-BFP → Proteome ID: UP000001471 (Reference: False, via: name)\n",
      "✅ Fusarium oxysporum f. sp. lycopersici 4287 → Proteome ID: UP000009097 (Reference: False, via: name)\n"
     ]
    },
    {
     "name": "stderr",
     "output_type": "stream",
     "text": [
      " 19%|█▉        | 335/1759 [00:46<02:50,  8.35it/s]"
     ]
    },
    {
     "name": "stdout",
     "output_type": "stream",
     "text": [
      "❌ No proteome found for: Ralstonia pickettii 12D (Taxon ID: 428406)\n",
      "✅ Trypanosoma rangeli SC58 → Proteome ID: UP000031737 (Reference: False, via: name)\n",
      "✅ Trichoderma reesei QM6a → Proteome ID: UP000008984 (Reference: False, via: name)\n"
     ]
    },
    {
     "name": "stderr",
     "output_type": "stream",
     "text": [
      " 19%|█▉        | 337/1759 [00:47<02:34,  9.21it/s]"
     ]
    },
    {
     "name": "stdout",
     "output_type": "stream",
     "text": [
      "✅ Globisporangium ultimum DAOM BR144 → Proteome ID: UP000019132 (Reference: False, via: name)\n",
      "✅ Magnetospirillum gryphiswaldense MSR-1 → Proteome ID: UP000018922 (Reference: False, via: name)\n",
      "✅ Toxoplasma gondii VEG → Proteome ID: UP000002226 (Reference: False, via: name)\n"
     ]
    },
    {
     "name": "stderr",
     "output_type": "stream",
     "text": [
      " 19%|█▉        | 341/1759 [00:47<02:20, 10.06it/s]"
     ]
    },
    {
     "name": "stdout",
     "output_type": "stream",
     "text": [
      "✅ Phocaeicola vulgatus ATCC 8482 → Proteome ID: UP001148345 (Reference: False, via: name)\n",
      "✅ Parabacteroides distasonis ATCC 8503 → Proteome ID: UP000000566 (Reference: False, via: name)\n",
      "✅ Ostreococcus lucimarinus CCE9901 → Proteome ID: UP000001568 (Reference: False, via: name)\n"
     ]
    },
    {
     "name": "stderr",
     "output_type": "stream",
     "text": [
      " 19%|█▉        | 343/1759 [00:47<02:17, 10.33it/s]"
     ]
    },
    {
     "name": "stdout",
     "output_type": "stream",
     "text": [
      "✅ Acinetobacter oleivorans DR1 → Proteome ID: UP000000392 (Reference: False, via: name)\n",
      "✅ Vanderwaltozyma polyspora DSM 70294 → Proteome ID: UP000000267 (Reference: False, via: name)\n",
      "✅ Azorhizobium caulinodans ORS 571 → Proteome ID: UP000000270 (Reference: False, via: name)\n"
     ]
    },
    {
     "name": "stderr",
     "output_type": "stream",
     "text": [
      " 20%|█▉        | 345/1759 [00:47<02:17, 10.28it/s]"
     ]
    },
    {
     "name": "stdout",
     "output_type": "stream",
     "text": [
      "✅ Brucella anthropi ATCC 49188 → Proteome ID: UP000002301 (Reference: False, via: name)\n",
      "✅ Salmonella enterica subsp. enterica serovar Schwarzengrund str. CVM19633 → Proteome ID: UP000001865 (Reference: False, via: taxid)\n"
     ]
    },
    {
     "name": "stderr",
     "output_type": "stream",
     "text": [
      " 20%|█▉        | 348/1759 [00:48<02:53,  8.11it/s]"
     ]
    },
    {
     "name": "stdout",
     "output_type": "stream",
     "text": [
      "✅ Salmonella enterica subsp. enterica serovar Dublin str. CT_02021853 → Proteome ID: UP000008322 (Reference: False, via: taxid)\n",
      "✅ Escherichia coli SMS-3-5 → Proteome ID: UP000007011 (Reference: False, via: name)\n",
      "✅ Methylorubrum extorquens CM4 → Proteome ID: UP000002385 (Reference: False, via: name)\n"
     ]
    },
    {
     "name": "stderr",
     "output_type": "stream",
     "text": [
      " 20%|█▉        | 351/1759 [00:48<02:42,  8.67it/s]"
     ]
    },
    {
     "name": "stdout",
     "output_type": "stream",
     "text": [
      "✅ Cryptosporidium muris RN66 → Proteome ID: UP000001460 (Reference: False, via: name)\n",
      "✅ Methylorubrum populi BJ001 → Proteome ID: UP000007136 (Reference: False, via: name)\n",
      "✅ Talaromyces stipitatus ATCC 10500 → Proteome ID: UP000001745 (Reference: False, via: name)\n"
     ]
    },
    {
     "name": "stderr",
     "output_type": "stream",
     "text": [
      " 20%|██        | 354/1759 [00:48<02:29,  9.38it/s]"
     ]
    },
    {
     "name": "stdout",
     "output_type": "stream",
     "text": [
      "✅ Talaromyces marneffei ATCC 18224 → Proteome ID: UP000001294 (Reference: False, via: name)\n",
      "✅ Rubellimicrobium mesophilum DSM 19309 → Proteome ID: UP000019666 (Reference: False, via: name)\n",
      "✅ Hoyosella subflava DQS3-9A1 → Proteome ID: UP000009235 (Reference: False, via: name)\n"
     ]
    },
    {
     "name": "stderr",
     "output_type": "stream",
     "text": [
      " 20%|██        | 357/1759 [00:49<02:53,  8.08it/s]"
     ]
    },
    {
     "name": "stdout",
     "output_type": "stream",
     "text": [
      "✅ Coccidioides posadasii str. Silveira → Proteome ID: UP000002497 (Reference: False, via: taxid)\n",
      "✅ Actinosynnema mirum DSM 43827 → Proteome ID: UP000002213 (Reference: False, via: name)\n"
     ]
    },
    {
     "name": "stderr",
     "output_type": "stream",
     "text": [
      " 20%|██        | 359/1759 [00:49<02:52,  8.14it/s]"
     ]
    },
    {
     "name": "stdout",
     "output_type": "stream",
     "text": [
      "✅ Nocardiopsis dassonvillei subsp. dassonvillei DSM 43111 → Proteome ID: UP000002219 (Reference: False, via: name)\n",
      "✅ Stackebrandtia nassauensis DSM 44728 → Proteome ID: UP000000844 (Reference: False, via: name)\n"
     ]
    },
    {
     "name": "stderr",
     "output_type": "stream",
     "text": [
      " 21%|██        | 361/1759 [00:49<02:33,  9.13it/s]"
     ]
    },
    {
     "name": "stdout",
     "output_type": "stream",
     "text": [
      "✅ Histoplasma capsulatum G186AR → Proteome ID: UP000001631 (Reference: False, via: name)\n",
      "✅ Trichormus variabilis SAG 1403-4b → Proteome ID: UP000276103 (Reference: False, via: name)\n",
      "✅ Sorangium cellulosum So ce56 → Proteome ID: UP000002139 (Reference: False, via: name)\n"
     ]
    },
    {
     "name": "stderr",
     "output_type": "stream",
     "text": [
      " 21%|██        | 364/1759 [00:50<02:26,  9.55it/s]"
     ]
    },
    {
     "name": "stdout",
     "output_type": "stream",
     "text": [
      "✅ Phenylobacterium zucineum HLK1 → Proteome ID: UP000001868 (Reference: False, via: name)\n",
      "✅ Bacillus cereus 03BB108 → Proteome ID: UP000031861 (Reference: False, via: name)\n",
      "✅ Aspergillus fumigatus A1163 → Proteome ID: UP000001699 (Reference: False, via: name)\n"
     ]
    },
    {
     "name": "stderr",
     "output_type": "stream",
     "text": [
      " 21%|██        | 367/1759 [00:50<03:08,  7.39it/s]"
     ]
    },
    {
     "name": "stdout",
     "output_type": "stream",
     "text": [
      "✅ Trichoderma atroviride IMI 206040 → Proteome ID: UP000005426 (Reference: False, via: name)\n",
      "✅ Opitutus terrae PB90-1 → Proteome ID: UP000007013 (Reference: False, via: name)\n"
     ]
    },
    {
     "name": "stderr",
     "output_type": "stream",
     "text": [
      " 21%|██        | 369/1759 [00:51<03:40,  6.31it/s]"
     ]
    },
    {
     "name": "stdout",
     "output_type": "stream",
     "text": [
      "✅ Kitasatospora setae KM-6054 → Proteome ID: UP000007076 (Reference: False, via: name)\n",
      "✅ Sphingobium indicum UT26S → Proteome ID: UP000007753 (Reference: False, via: name)\n"
     ]
    },
    {
     "name": "stderr",
     "output_type": "stream",
     "text": [
      " 21%|██        | 371/1759 [00:51<03:42,  6.25it/s]"
     ]
    },
    {
     "name": "stdout",
     "output_type": "stream",
     "text": [
      "✅ Pseudarthrobacter chlorophenolicus A6 → Proteome ID: UP000182966 (Reference: False, via: name)\n",
      "✅ Salmonella enterica subsp. enterica serovar Agona str. SL483 → Proteome ID: UP000008819 (Reference: False, via: taxid)\n"
     ]
    },
    {
     "name": "stderr",
     "output_type": "stream",
     "text": [
      " 21%|██        | 372/1759 [00:51<04:05,  5.65it/s]"
     ]
    },
    {
     "name": "stdout",
     "output_type": "stream",
     "text": [
      "✅ Salmonella enterica subsp. enterica serovar Heidelberg str. SL476 → Proteome ID: UP000001866 (Reference: False, via: taxid)\n",
      "✅ Coccidioides posadasii RMSCC 3488 → Proteome ID: UP000054567 (Reference: False, via: name)\n"
     ]
    },
    {
     "name": "stderr",
     "output_type": "stream",
     "text": [
      " 21%|██▏       | 375/1759 [00:51<03:20,  6.91it/s]"
     ]
    },
    {
     "name": "stdout",
     "output_type": "stream",
     "text": [
      "✅ Coccidioides immitis RMSCC 3703 → Proteome ID: UP000054559 (Reference: False, via: name)\n",
      "✅ Anaeromyxobacter dehalogenans 2CP-1 → Proteome ID: UP000007089 (Reference: False, via: name)\n",
      "✅ Streptomyces griseus subsp. griseus NBRC 13350 → Proteome ID: UP000001685 (Reference: False, via: name)\n"
     ]
    },
    {
     "name": "stderr",
     "output_type": "stream",
     "text": [
      " 22%|██▏       | 379/1759 [00:52<02:34,  8.93it/s]"
     ]
    },
    {
     "name": "stdout",
     "output_type": "stream",
     "text": [
      "✅ Streptomyces himastatinicus ATCC 53653 → Proteome ID: UP000003963 (Reference: False, via: name)\n",
      "✅ Streptomyces lividans TK24 → Proteome ID: UP000002769 (Reference: False, via: name)\n",
      "✅ Streptomyces pristinaespiralis ATCC 25486 → Proteome ID: UP000002805 (Reference: False, via: name)\n"
     ]
    },
    {
     "name": "stderr",
     "output_type": "stream",
     "text": [
      " 22%|██▏       | 381/1759 [00:52<02:25,  9.50it/s]"
     ]
    },
    {
     "name": "stdout",
     "output_type": "stream",
     "text": [
      "✅ Streptomyces filamentosus NRRL 15998 → Proteome ID: UP000003986 (Reference: False, via: name)\n",
      "✅ Shewanella halifaxensis HAW-EB4 → Proteome ID: UP000001317 (Reference: False, via: name)\n"
     ]
    },
    {
     "name": "stderr",
     "output_type": "stream",
     "text": [
      " 22%|██▏       | 384/1759 [00:52<02:43,  8.41it/s]"
     ]
    },
    {
     "name": "stdout",
     "output_type": "stream",
     "text": [
      "✅ Mycobacterium liflandii 128FXT → Proteome ID: UP000011157 (Reference: False, via: name)\n",
      "✅ Methylobacterium nodulans ORS 2060 → Proteome ID: UP000008207 (Reference: False, via: name)\n",
      "✅ Thecamonas trahens ATCC 50062 → Proteome ID: UP000054408 (Reference: False, via: name)\n"
     ]
    },
    {
     "name": "stderr",
     "output_type": "stream",
     "text": [
      " 22%|██▏       | 386/1759 [00:53<02:58,  7.69it/s]"
     ]
    },
    {
     "name": "stdout",
     "output_type": "stream",
     "text": [
      "✅ Streptomyces sviceus ATCC 29083 → Proteome ID: UP000002785 (Reference: False, via: name)\n",
      "✅ Salmonella enterica subsp. enterica serovar Virchow str. SL491 → Proteome ID: UP000003614 (Reference: False, via: taxid)\n"
     ]
    },
    {
     "name": "stderr",
     "output_type": "stream",
     "text": [
      " 22%|██▏       | 388/1759 [00:53<02:56,  7.75it/s]"
     ]
    },
    {
     "name": "stdout",
     "output_type": "stream",
     "text": [
      "✅ Streptomyces griseoflavus Tu4000 → Proteome ID: UP000002968 (Reference: False, via: name)\n",
      "✅ Escherichia coli BL21(DE3) → Proteome ID: UP000002032 (Reference: False, via: name)\n"
     ]
    },
    {
     "name": "stderr",
     "output_type": "stream",
     "text": [
      " 22%|██▏       | 390/1759 [00:53<03:03,  7.45it/s]"
     ]
    },
    {
     "name": "stdout",
     "output_type": "stream",
     "text": [
      "✅ Conexibacter woesei DSM 14684 → Proteome ID: UP000008229 (Reference: False, via: name)\n",
      "✅ Thermomonospora curvata DSM 43183 → Proteome ID: UP000001918 (Reference: False, via: name)\n"
     ]
    },
    {
     "name": "stderr",
     "output_type": "stream",
     "text": [
      " 22%|██▏       | 391/1759 [00:53<02:53,  7.91it/s]"
     ]
    },
    {
     "name": "stdout",
     "output_type": "stream",
     "text": [
      "✅ Beutenbergia cavernae DSM 12333 → Proteome ID: UP000007962 (Reference: False, via: name)\n",
      "✅ Dyadobacter fermentans DSM 18053 → Proteome ID: UP000002011 (Reference: False, via: name)\n"
     ]
    },
    {
     "name": "stderr",
     "output_type": "stream",
     "text": [
      " 22%|██▏       | 394/1759 [00:54<03:23,  6.72it/s]"
     ]
    },
    {
     "name": "stdout",
     "output_type": "stream",
     "text": [
      "✅ Bacteroides intestinalis DSM 17393 → Proteome ID: UP000004596 (Reference: False, via: name)\n",
      "✅ Xanthomonas citri pv. phaseoli var. fuscans → Proteome ID: UP000230560 (Reference: False, via: name)\n"
     ]
    },
    {
     "name": "stderr",
     "output_type": "stream",
     "text": [
      " 22%|██▏       | 395/1759 [00:54<03:33,  6.39it/s]"
     ]
    },
    {
     "name": "stdout",
     "output_type": "stream",
     "text": [
      "✅ Salmonella enterica subsp. enterica serovar Paratyphi C str. RKS4594 → Proteome ID: UP000001599 (Reference: False, via: taxid)\n",
      "✅ Achromobacter arsenitoxydans SY8 → Proteome ID: UP000003113 (Reference: False, via: name)\n"
     ]
    },
    {
     "name": "stderr",
     "output_type": "stream",
     "text": [
      " 23%|██▎       | 397/1759 [00:54<03:28,  6.54it/s]"
     ]
    },
    {
     "name": "stdout",
     "output_type": "stream",
     "text": [
      "✅ Escherichia coli O157:H7 str. EC869 → Proteome ID: UP000004641 (Reference: False, via: taxid)\n",
      "✅ Plasmodium falciparum Santa Lucia → Proteome ID: UP000030666 (Reference: False, via: name)\n"
     ]
    },
    {
     "name": "stderr",
     "output_type": "stream",
     "text": [
      " 23%|██▎       | 400/1759 [00:55<03:12,  7.05it/s]"
     ]
    },
    {
     "name": "stdout",
     "output_type": "stream",
     "text": [
      "✅ Nakamurella multipartita DSM 44233 → Proteome ID: UP000002218 (Reference: False, via: name)\n",
      "✅ Streptosporangium roseum DSM 43021 → Proteome ID: UP000002029 (Reference: False, via: name)\n"
     ]
    },
    {
     "name": "stderr",
     "output_type": "stream",
     "text": [
      " 23%|██▎       | 402/1759 [00:55<02:45,  8.21it/s]"
     ]
    },
    {
     "name": "stdout",
     "output_type": "stream",
     "text": [
      "✅ Catenulispora acidiphila DSM 44928 → Proteome ID: UP000000851 (Reference: False, via: name)\n",
      "✅ Kribbella flavida DSM 17836 → Proteome ID: UP000007967 (Reference: False, via: name)\n",
      "✅ Phocaeicola dorei DSM 17855 → Proteome ID: UP000004849 (Reference: False, via: name)\n"
     ]
    },
    {
     "name": "stderr",
     "output_type": "stream",
     "text": [
      " 23%|██▎       | 405/1759 [00:55<02:25,  9.29it/s]"
     ]
    },
    {
     "name": "stdout",
     "output_type": "stream",
     "text": [
      "✅ Myxococcus fulvus HW-1 → Proteome ID: UP000000488 (Reference: False, via: name)\n",
      "✅ Schizosaccharomyces octosporus yFS286 → Proteome ID: UP000016088 (Reference: False, via: name)\n",
      "✅ Ktedonobacter racemifer DSM 44963 → Proteome ID: UP000004508 (Reference: False, via: name)\n"
     ]
    },
    {
     "name": "stderr",
     "output_type": "stream",
     "text": [
      " 23%|██▎       | 408/1759 [00:56<02:18,  9.75it/s]"
     ]
    },
    {
     "name": "stdout",
     "output_type": "stream",
     "text": [
      "✅ Pedobacter heparinus DSM 2366 → Proteome ID: UP000000852 (Reference: False, via: name)\n",
      "✅ Chitinophaga pinensis DSM 2588 → Proteome ID: UP000002215 (Reference: False, via: name)\n",
      "✅ Laccaria bicolor S238N-H82 → Proteome ID: UP000001194 (Reference: False, via: name)\n"
     ]
    },
    {
     "name": "stderr",
     "output_type": "stream",
     "text": [
      " 23%|██▎       | 412/1759 [00:56<02:12, 10.16it/s]"
     ]
    },
    {
     "name": "stdout",
     "output_type": "stream",
     "text": [
      "✅ Mycobacterium intracellulare ATCC 13950 → Proteome ID: UP000008004 (Reference: False, via: name)\n",
      "✅ Moorena producens 3L → Proteome ID: UP000003959 (Reference: False, via: name)\n",
      "✅ Rhizobium etli CIAT 652 → Proteome ID: UP000008817 (Reference: False, via: name)\n"
     ]
    },
    {
     "name": "stderr",
     "output_type": "stream",
     "text": [
      " 24%|██▎       | 414/1759 [00:56<02:15,  9.89it/s]"
     ]
    },
    {
     "name": "stdout",
     "output_type": "stream",
     "text": [
      "✅ Paraglaciecola arctica BSs20135 → Proteome ID: UP000006327 (Reference: False, via: name)\n",
      "✅ Chthoniobacter flavus Ellin428 → Proteome ID: UP000005824 (Reference: False, via: name)\n"
     ]
    },
    {
     "name": "stderr",
     "output_type": "stream",
     "text": [
      " 24%|██▎       | 416/1759 [00:56<02:42,  8.26it/s]"
     ]
    },
    {
     "name": "stdout",
     "output_type": "stream",
     "text": [
      "✅ Gloeothece verrucosa PCC 7822 → Proteome ID: UP000008206 (Reference: False, via: name)\n",
      "❌ No proteome found for: Salmonella enterica subsp. enterica serovar Typhi str. 404ty (Taxon ID: 497977)\n"
     ]
    },
    {
     "name": "stderr",
     "output_type": "stream",
     "text": [
      " 24%|██▍       | 419/1759 [00:57<02:28,  9.05it/s]"
     ]
    },
    {
     "name": "stdout",
     "output_type": "stream",
     "text": [
      "✅ Cellvibrio japonicus Ueda107 → Proteome ID: UP000001036 (Reference: False, via: name)\n",
      "✅ Verticillium dahliae VdLs.17 → Proteome ID: UP000001611 (Reference: False, via: name)\n",
      "✅ Penicillium rubens Wisconsin 54-1255 → Proteome ID: UP000000724 (Reference: False, via: name)\n"
     ]
    },
    {
     "name": "stderr",
     "output_type": "stream",
     "text": [
      " 24%|██▍       | 421/1759 [00:57<02:26,  9.12it/s]"
     ]
    },
    {
     "name": "stdout",
     "output_type": "stream",
     "text": [
      "✅ Citrobacter youngae ATCC 29220 → Proteome ID: UP000003880 (Reference: False, via: name)\n",
      "✅ Haliangium ochraceum DSM 14365 → Proteome ID: UP000001880 (Reference: False, via: name)\n",
      "✅ Paracoccidioides lutzii Pb01 → Proteome ID: UP000002059 (Reference: False, via: name)\n"
     ]
    },
    {
     "name": "stderr",
     "output_type": "stream",
     "text": [
      " 24%|██▍       | 424/1759 [00:57<02:19,  9.54it/s]"
     ]
    },
    {
     "name": "stdout",
     "output_type": "stream",
     "text": [
      "✅ Paracoccidioides brasiliensis Pb18 → Proteome ID: UP000001628 (Reference: False, via: name)\n",
      "✅ Yersinia pseudotuberculosis YPIII → Proteome ID: UP000031889 (Reference: False, via: name)\n"
     ]
    },
    {
     "name": "stderr",
     "output_type": "stream",
     "text": [
      " 24%|██▍       | 427/1759 [00:58<02:14,  9.93it/s]"
     ]
    },
    {
     "name": "stdout",
     "output_type": "stream",
     "text": [
      "✅ Spirosoma linguale DSM 74 → Proteome ID: UP000002028 (Reference: False, via: name)\n",
      "✅ Afipia carboxidovorans OM5 → Proteome ID: UP000007730 (Reference: False, via: name)\n",
      "✅ Klebsiella pneumoniae 342 → Proteome ID: UP000001734 (Reference: False, via: name)\n"
     ]
    },
    {
     "name": "stderr",
     "output_type": "stream",
     "text": [
      " 24%|██▍       | 429/1759 [00:58<02:11, 10.14it/s]"
     ]
    },
    {
     "name": "stdout",
     "output_type": "stream",
     "text": [
      "✅ Toxoplasma gondii GT1 → Proteome ID: UP000005641 (Reference: False, via: name)\n",
      "✅ Toxoplasma gondii ME49 → Proteome ID: UP000001529 (Reference: False, via: name)\n"
     ]
    },
    {
     "name": "stderr",
     "output_type": "stream",
     "text": [
      " 24%|██▍       | 430/1759 [00:58<02:35,  8.54it/s]"
     ]
    },
    {
     "name": "stdout",
     "output_type": "stream",
     "text": [
      "✅ Xanthomonas campestris pv. campestris str. B100 → Proteome ID: UP000001188 (Reference: False, via: taxid)\n",
      "✅ Caulobacter segnis ATCC 21756 → Proteome ID: UP000002629 (Reference: False, via: name)\n"
     ]
    },
    {
     "name": "stderr",
     "output_type": "stream",
     "text": [
      " 25%|██▍       | 433/1759 [00:58<02:39,  8.30it/s]"
     ]
    },
    {
     "name": "stdout",
     "output_type": "stream",
     "text": [
      "✅ Aspergillus oryzae RIB40 → Proteome ID: UP000006564 (Reference: False, via: taxid)\n",
      "✅ Neurospora tetrasperma FGSC 2508 → Proteome ID: UP000008065 (Reference: False, via: name)\n"
     ]
    },
    {
     "name": "stderr",
     "output_type": "stream",
     "text": [
      " 25%|██▍       | 434/1759 [00:58<02:48,  7.87it/s]"
     ]
    },
    {
     "name": "stdout",
     "output_type": "stream",
     "text": [
      "✅ Actinoplanes missouriensis 431 → Proteome ID: UP000007882 (Reference: False, via: name)\n",
      "✅ Burkholderia multivorans CGD2 → Proteome ID: UP000004535 (Reference: False, via: name)\n"
     ]
    },
    {
     "name": "stderr",
     "output_type": "stream",
     "text": [
      " 25%|██▍       | 436/1759 [00:59<03:00,  7.33it/s]"
     ]
    },
    {
     "name": "stdout",
     "output_type": "stream",
     "text": [
      "✅ Podospora anserina S mat+ → Proteome ID: UP000001197 (Reference: False, via: taxid)\n",
      "✅ [Clostridium] asparagiforme DSM 15981 → Proteome ID: UP000004756 (Reference: False, via: taxid)\n"
     ]
    },
    {
     "name": "stderr",
     "output_type": "stream",
     "text": [
      " 25%|██▍       | 439/1759 [00:59<02:51,  7.68it/s]"
     ]
    },
    {
     "name": "stdout",
     "output_type": "stream",
     "text": [
      "✅ Tsukamurella paurometabola DSM 20162 → Proteome ID: UP000001213 (Reference: False, via: name)\n",
      "✅ Planctopirus limnophila DSM 3776 → Proteome ID: UP000002220 (Reference: False, via: name)\n",
      "✅ Stenotrophomonas maltophilia K279a → Proteome ID: UP000008840 (Reference: False, via: name)\n"
     ]
    },
    {
     "name": "stderr",
     "output_type": "stream",
     "text": [
      " 25%|██▌       | 443/1759 [01:00<02:23,  9.20it/s]"
     ]
    },
    {
     "name": "stdout",
     "output_type": "stream",
     "text": [
      "✅ Mycobacterium parascrofulaceum ATCC BAA-614 → Proteome ID: UP000003653 (Reference: False, via: name)\n",
      "✅ Prescottella equi ATCC 33707 → Proteome ID: UP000004245 (Reference: False, via: name)\n",
      "✅ Pseudoroseomonas cervicalis ATCC 49957 → Proteome ID: UP000005324 (Reference: False, via: name)\n"
     ]
    },
    {
     "name": "stderr",
     "output_type": "stream",
     "text": [
      " 25%|██▌       | 445/1759 [01:00<02:15,  9.71it/s]"
     ]
    },
    {
     "name": "stdout",
     "output_type": "stream",
     "text": [
      "✅ Sphingobacterium spiritivorum ATCC 33300 → Proteome ID: UP000006241 (Reference: False, via: name)\n",
      "✅ Sphingobacterium spiritivorum ATCC 33861 → Proteome ID: UP000006258 (Reference: False, via: name)\n",
      "✅ Verticillium alfalfae VaMs.102 → Proteome ID: UP000008698 (Reference: False, via: name)\n"
     ]
    },
    {
     "name": "stderr",
     "output_type": "stream",
     "text": [
      " 26%|██▌       | 449/1759 [01:00<02:11, 10.00it/s]"
     ]
    },
    {
     "name": "stdout",
     "output_type": "stream",
     "text": [
      "✅ Geodermatophilus obscurus DSM 43160 → Proteome ID: UP000001382 (Reference: False, via: name)\n",
      "✅ Gordonia bronchialis DSM 43247 → Proteome ID: UP000001219 (Reference: False, via: name)\n",
      "✅ Allomeiothermus silvanus DSM 9946 → Proteome ID: UP000001916 (Reference: False, via: name)\n"
     ]
    },
    {
     "name": "stderr",
     "output_type": "stream",
     "text": [
      " 26%|██▌       | 451/1759 [01:00<02:09, 10.10it/s]"
     ]
    },
    {
     "name": "stdout",
     "output_type": "stream",
     "text": [
      "✅ Bacillus thuringiensis YBT-1518 → Proteome ID: UP000018566 (Reference: False, via: name)\n",
      "✅ Pirellula staleyi DSM 6068 → Proteome ID: UP000001887 (Reference: False, via: name)\n",
      "✅ [Acidovorax] ebreus TPSY → Proteome ID: UP000000450 (Reference: False, via: taxid)\n",
      "✅ Nannizzia gypsea CBS 118893 → Proteome ID: UP000002669 (Reference: False, via: taxid)\n"
     ]
    },
    {
     "name": "stderr",
     "output_type": "stream",
     "text": [
      " 26%|██▌       | 456/1759 [01:01<02:21,  9.21it/s]"
     ]
    },
    {
     "name": "stdout",
     "output_type": "stream",
     "text": [
      "✅ Mesorhizobium opportunistum WSM2075 → Proteome ID: UP000001623 (Reference: False, via: name)\n",
      "✅ Clostridium carboxidivorans P7 → Proteome ID: UP000004198 (Reference: False, via: name)\n",
      "✅ Parabacteroides johnsonii DSM 18315 → Proteome ID: UP000005510 (Reference: False, via: name)\n"
     ]
    },
    {
     "name": "stderr",
     "output_type": "stream",
     "text": [
      " 26%|██▌       | 458/1759 [01:01<02:14,  9.68it/s]"
     ]
    },
    {
     "name": "stdout",
     "output_type": "stream",
     "text": [
      "✅ Desulfitobacterium hafniense DP7 → Proteome ID: UP000004416 (Reference: False, via: name)\n",
      "✅ Bacteroides cellulosilyticus DSM 14838 → Proteome ID: UP000003711 (Reference: False, via: name)\n",
      "✅ Rhizobium etli 8C-3 → Proteome ID: UP000185109 (Reference: False, via: name)\n"
     ]
    },
    {
     "name": "stderr",
     "output_type": "stream",
     "text": [
      " 26%|██▌       | 460/1759 [01:01<02:09, 10.05it/s]"
     ]
    },
    {
     "name": "stdout",
     "output_type": "stream",
     "text": [
      "✅ Rhizobium rosettiformans W3 → Proteome ID: UP000307378 (Reference: False, via: name)\n",
      "❌ No proteome found for: Variovorax paradoxus S110 (Taxon ID: 543728)\n"
     ]
    },
    {
     "name": "stderr",
     "output_type": "stream",
     "text": [
      " 26%|██▋       | 463/1759 [01:02<02:26,  8.84it/s]"
     ]
    },
    {
     "name": "stdout",
     "output_type": "stream",
     "text": [
      "✅ Histoplasma capsulatum var. duboisii H88 → Proteome ID: UP000008142 (Reference: False, via: name)\n",
      "✅ Histoplasma capsulatum H143 → Proteome ID: UP000002624 (Reference: False, via: name)\n"
     ]
    },
    {
     "name": "stderr",
     "output_type": "stream",
     "text": [
      " 26%|██▋       | 465/1759 [01:02<02:48,  7.69it/s]"
     ]
    },
    {
     "name": "stdout",
     "output_type": "stream",
     "text": [
      "✅ Saccharomyces cerevisiae AWRI1631 → Proteome ID: UP000008988 (Reference: False, via: name)\n",
      "✅ Priestia megaterium QM B1551 → Proteome ID: UP000000935 (Reference: False, via: taxid)\n"
     ]
    },
    {
     "name": "stderr",
     "output_type": "stream",
     "text": [
      " 27%|██▋       | 467/1759 [01:02<02:30,  8.61it/s]"
     ]
    },
    {
     "name": "stdout",
     "output_type": "stream",
     "text": [
      "✅ Leadbettera azotonutricia ZAS-9 → Proteome ID: UP000009222 (Reference: False, via: name)\n",
      "✅ Blumeria hordei DH14 → Proteome ID: UP000015441 (Reference: False, via: name)\n",
      "✅ Phormidium tenue NIES-30 → Proteome ID: UP000185557 (Reference: False, via: name)\n"
     ]
    },
    {
     "name": "stderr",
     "output_type": "stream",
     "text": [
      " 27%|██▋       | 469/1759 [01:03<02:43,  7.87it/s]"
     ]
    },
    {
     "name": "stdout",
     "output_type": "stream",
     "text": [
      "✅ Salmonella enterica subsp. enterica serovar Enteritidis str. P125109 → Proteome ID: UP000000613 (Reference: False, via: taxid)\n"
     ]
    },
    {
     "name": "stderr",
     "output_type": "stream",
     "text": [
      " 27%|██▋       | 470/1759 [01:03<03:09,  6.79it/s]"
     ]
    },
    {
     "name": "stdout",
     "output_type": "stream",
     "text": [
      "✅ Salmonella enterica subsp. enterica serovar Gallinarum str. 287/91 → Proteome ID: UP000008321 (Reference: False, via: taxid)\n",
      "✅ Microsporum canis CBS 113480 → Proteome ID: UP000002035 (Reference: False, via: name)\n"
     ]
    },
    {
     "name": "stderr",
     "output_type": "stream",
     "text": [
      " 27%|██▋       | 474/1759 [01:03<02:52,  7.44it/s]"
     ]
    },
    {
     "name": "stdout",
     "output_type": "stream",
     "text": [
      "✅ Salmonella enterica subsp. enterica serovar Paratyphi A str. AKU_12601 → Proteome ID: UP000001869 (Reference: False, via: taxid)\n",
      "✅ Phaeodactylum tricornutum CCAP 1055/1 → Proteome ID: UP000000759 (Reference: False, via: name)\n",
      "✅ Laribacter hongkongensis HLHK9 → Proteome ID: UP000002010 (Reference: False, via: name)\n"
     ]
    },
    {
     "name": "stderr",
     "output_type": "stream",
     "text": [
      " 27%|██▋       | 476/1759 [01:03<02:34,  8.30it/s]"
     ]
    },
    {
     "name": "stdout",
     "output_type": "stream",
     "text": [
      "✅ Mycobacterium kansasii ATCC 12478 → Proteome ID: UP000017786 (Reference: False, via: name)\n",
      "✅ Saccharomyces cerevisiae S288C → Proteome ID: UP000002311 (Reference: False, via: name)\n",
      "✅ Lachancea thermotolerans CBS 6340 → Proteome ID: UP000002036 (Reference: False, via: name)\n"
     ]
    },
    {
     "name": "stderr",
     "output_type": "stream",
     "text": [
      " 27%|██▋       | 480/1759 [01:04<02:20,  9.11it/s]"
     ]
    },
    {
     "name": "stdout",
     "output_type": "stream",
     "text": [
      "✅ Blastomyces gilchristii SLH14081 → Proteome ID: UP000002038 (Reference: False, via: name)\n",
      "✅ Millerozyma farinosa CBS 7064 → Proteome ID: UP000005222 (Reference: False, via: name)\n",
      "✅ Trichophyton rubrum CBS 118892 → Proteome ID: UP000008864 (Reference: False, via: name)\n"
     ]
    },
    {
     "name": "stderr",
     "output_type": "stream",
     "text": [
      " 27%|██▋       | 482/1759 [01:04<02:29,  8.54it/s]"
     ]
    },
    {
     "name": "stdout",
     "output_type": "stream",
     "text": [
      "✅ Zygosaccharomyces rouxii CBS 732 → Proteome ID: UP000008536 (Reference: False, via: name)\n",
      "✅ Hyaloperonospora arabidopsidis Emoy2 → Proteome ID: UP000011713 (Reference: False, via: name)\n"
     ]
    },
    {
     "name": "stderr",
     "output_type": "stream",
     "text": [
      " 28%|██▊       | 484/1759 [01:04<02:17,  9.26it/s]"
     ]
    },
    {
     "name": "stdout",
     "output_type": "stream",
     "text": [
      "✅ Trichophyton equinum CBS 127.97 → Proteome ID: UP000009169 (Reference: False, via: name)\n",
      "✅ Tistlia consotensis USBA 355 → Proteome ID: UP000192917 (Reference: False, via: name)\n",
      "✅ Mycobacteroides abscessus ATCC 19977 → Proteome ID: UP000007137 (Reference: False, via: name)\n"
     ]
    },
    {
     "name": "stderr",
     "output_type": "stream",
     "text": [
      " 28%|██▊       | 486/1759 [01:04<02:13,  9.56it/s]"
     ]
    },
    {
     "name": "stdout",
     "output_type": "stream",
     "text": [
      "✅ Dickeya chrysanthemi Ech1591 → Proteome ID: UP000002735 (Reference: False, via: name)\n",
      "✅ Pectobacterium carotovorum subsp. carotovorum PC1 → Proteome ID: UP000002736 (Reference: False, via: name)\n",
      "✅ Micromonas pusilla CCMP1545 → Proteome ID: UP000001876 (Reference: False, via: name)\n"
     ]
    },
    {
     "name": "stderr",
     "output_type": "stream",
     "text": [
      " 28%|██▊       | 491/1759 [01:05<02:05, 10.09it/s]"
     ]
    },
    {
     "name": "stdout",
     "output_type": "stream",
     "text": [
      "✅ Caulobacter vibrioides NA1000 → Proteome ID: UP000001364 (Reference: False, via: name)\n",
      "✅ Streptomyces viridosporus ATCC 14672 → Proteome ID: UP000003824 (Reference: False, via: name)\n",
      "✅ Escherichia coli W → Proteome ID: UP000010107 (Reference: False, via: name)\n"
     ]
    },
    {
     "name": "stderr",
     "output_type": "stream",
     "text": [
      " 28%|██▊       | 493/1759 [01:05<02:09,  9.80it/s]"
     ]
    },
    {
     "name": "stdout",
     "output_type": "stream",
     "text": [
      "✅ Hungatella hathewayi DSM 13479 → Proteome ID: UP000004968 (Reference: False, via: name)\n",
      "✅ Cedecea davisae DSM 4568 → Proteome ID: UP000014585 (Reference: False, via: name)\n"
     ]
    },
    {
     "name": "stderr",
     "output_type": "stream",
     "text": [
      " 28%|██▊       | 495/1759 [01:05<02:33,  8.23it/s]"
     ]
    },
    {
     "name": "stdout",
     "output_type": "stream",
     "text": [
      "✅ Moorena bouillonii PNG → Proteome ID: UP000186657 (Reference: False, via: name)\n",
      "✅ Bordetella pertussis 18323 → Proteome ID: UP000005250 (Reference: False, via: name)\n",
      "✅ Bordetella bronchiseptica 253 → Proteome ID: UP000007564 (Reference: False, via: name)\n"
     ]
    },
    {
     "name": "stderr",
     "output_type": "stream",
     "text": [
      " 28%|██▊       | 499/1759 [01:06<02:32,  8.27it/s]"
     ]
    },
    {
     "name": "stdout",
     "output_type": "stream",
     "text": [
      "✅ Salmonella enterica subsp. enterica serovar Typhimurium str. D23580 → Proteome ID: UP000002622 (Reference: False, via: taxid)\n",
      "✅ Endozoicomonas montiporae CL-33 → Proteome ID: UP000071065 (Reference: False, via: name)\n",
      "✅ Neospora caninum Liverpool → Proteome ID: UP000007494 (Reference: False, via: name)\n"
     ]
    },
    {
     "name": "stderr",
     "output_type": "stream",
     "text": [
      " 28%|██▊       | 501/1759 [01:06<02:24,  8.72it/s]"
     ]
    },
    {
     "name": "stdout",
     "output_type": "stream",
     "text": [
      "✅ Acidovorax delafieldii 2AN → Proteome ID: UP000003856 (Reference: False, via: name)\n",
      "✅ Asticcacaulis excentricus CB 48 → Proteome ID: UP000001492 (Reference: False, via: name)\n",
      "✅ Solidesulfovibrio magneticus RS-1 → Proteome ID: UP000009071 (Reference: False, via: name)\n"
     ]
    },
    {
     "name": "stderr",
     "output_type": "stream",
     "text": [
      " 29%|██▊       | 505/1759 [01:07<02:16,  9.21it/s]"
     ]
    },
    {
     "name": "stdout",
     "output_type": "stream",
     "text": [
      "✅ Sediminispirochaeta smaragdinae DSM 11293 → Proteome ID: UP000002318 (Reference: False, via: name)\n",
      "✅ Thermothelomyces thermophilus ATCC 42464 → Proteome ID: UP000007322 (Reference: False, via: name)\n",
      "✅ Candida dubliniensis CD36 → Proteome ID: UP000002605 (Reference: False, via: name)\n"
     ]
    },
    {
     "name": "stderr",
     "output_type": "stream",
     "text": [
      " 29%|██▉       | 508/1759 [01:07<02:35,  8.06it/s]"
     ]
    },
    {
     "name": "stdout",
     "output_type": "stream",
     "text": [
      "✅ Escherichia coli O127:H6 str. E2348/69 → Proteome ID: UP000008205 (Reference: False, via: taxid)\n",
      "✅ Saccharomyces cerevisiae JAY291 → Proteome ID: UP000008073 (Reference: False, via: name)\n",
      "✅ Isosphaera pallida ATCC 43644 → Proteome ID: UP000008631 (Reference: False, via: name)\n"
     ]
    },
    {
     "name": "stderr",
     "output_type": "stream",
     "text": [
      " 29%|██▉       | 510/1759 [01:07<03:04,  6.78it/s]"
     ]
    },
    {
     "name": "stdout",
     "output_type": "stream",
     "text": [
      "✅ Candida parapsilosis CDC317 → Proteome ID: UP000005221 (Reference: False, via: taxid)\n",
      "✅ Thermothielavioides terrestris NRRL 8126 → Proteome ID: UP000008181 (Reference: False, via: name)\n"
     ]
    },
    {
     "name": "stderr",
     "output_type": "stream",
     "text": [
      " 29%|██▉       | 512/1759 [01:08<03:02,  6.84it/s]"
     ]
    },
    {
     "name": "stdout",
     "output_type": "stream",
     "text": [
      "✅ Serpula lacrymans var. lacrymans S7.9 → Proteome ID: UP000008064 (Reference: False, via: name)\n",
      "✅ Schizophyllum commune H4-8 → Proteome ID: UP000007431 (Reference: False, via: name)\n"
     ]
    },
    {
     "name": "stderr",
     "output_type": "stream",
     "text": [
      " 29%|██▉       | 515/1759 [01:08<02:45,  7.53it/s]"
     ]
    },
    {
     "name": "stdout",
     "output_type": "stream",
     "text": [
      "✅ Rhodotorula graminis WP1 → Proteome ID: UP000053890 (Reference: False, via: name)\n",
      "✅ Allomyces macrogynus ATCC 38327 → Proteome ID: UP000054350 (Reference: False, via: name)\n",
      "✅ Musicola paradisiaca Ech703 → Proteome ID: UP000002734 (Reference: False, via: name)\n"
     ]
    },
    {
     "name": "stderr",
     "output_type": "stream",
     "text": [
      " 29%|██▉       | 518/1759 [01:09<02:24,  8.57it/s]"
     ]
    },
    {
     "name": "stdout",
     "output_type": "stream",
     "text": [
      "✅ Plasmodium falciparum IGH-CR14 → Proteome ID: UP000054562 (Reference: False, via: name)\n",
      "✅ Sideroxydans lithotrophicus ES-1 → Proteome ID: UP000001625 (Reference: False, via: name)\n",
      "✅ Hyphomicrobium denitrificans ATCC 51888 → Proteome ID: UP000002033 (Reference: False, via: name)\n"
     ]
    },
    {
     "name": "stderr",
     "output_type": "stream",
     "text": [
      " 30%|██▉       | 521/1759 [01:09<02:10,  9.48it/s]"
     ]
    },
    {
     "name": "stdout",
     "output_type": "stream",
     "text": [
      "✅ Intrasporangium chromatireducens Q5-1 → Proteome ID: UP000019494 (Reference: False, via: name)\n",
      "✅ Escherichia coli S88 → Proteome ID: UP000000747 (Reference: False, via: name)\n",
      "✅ Escherichia fergusonii ATCC 35469 → Proteome ID: UP000000745 (Reference: False, via: name)\n"
     ]
    },
    {
     "name": "stderr",
     "output_type": "stream",
     "text": [
      " 30%|██▉       | 523/1759 [01:09<02:06,  9.74it/s]"
     ]
    },
    {
     "name": "stdout",
     "output_type": "stream",
     "text": [
      "✅ Escherichia coli 55989 → Proteome ID: UP000000746 (Reference: False, via: name)\n",
      "✅ Escherichia coli UMN026 → Proteome ID: UP000007097 (Reference: False, via: name)\n",
      "✅ Escherichia coli IAI39 → Proteome ID: UP000000749 (Reference: False, via: name)\n"
     ]
    },
    {
     "name": "stderr",
     "output_type": "stream",
     "text": [
      " 30%|██▉       | 526/1759 [01:09<02:16,  9.04it/s]"
     ]
    },
    {
     "name": "stdout",
     "output_type": "stream",
     "text": [
      "✅ Escherichia coli ED1a → Proteome ID: UP000000748 (Reference: False, via: name)\n",
      "✅ Deinococcus radiopugnans ATCC 19172 → Proteome ID: UP000313988 (Reference: False, via: name)\n"
     ]
    },
    {
     "name": "stderr",
     "output_type": "stream",
     "text": [
      " 30%|██▉       | 527/1759 [01:09<02:14,  9.16it/s]"
     ]
    },
    {
     "name": "stdout",
     "output_type": "stream",
     "text": [
      "✅ Dickeya parazeae Ech586 → Proteome ID: UP000001446 (Reference: False, via: name)\n",
      "✅ Yamadazyma tenuis ATCC 10573 → Proteome ID: UP001218248 (Reference: False, via: name)\n"
     ]
    },
    {
     "name": "stderr",
     "output_type": "stream",
     "text": [
      " 30%|███       | 531/1759 [01:10<02:51,  7.17it/s]"
     ]
    },
    {
     "name": "stdout",
     "output_type": "stream",
     "text": [
      "✅ Streptomyces viridochromogenes DSM 40736 → Proteome ID: UP000004184 (Reference: False, via: name)\n",
      "✅ Streptomyces pratensis ATCC 33331 → Proteome ID: UP000002066 (Reference: False, via: name)\n",
      "✅ Capsaspora owczarzaki ATCC 30864 → Proteome ID: UP000008743 (Reference: False, via: name)\n"
     ]
    },
    {
     "name": "stderr",
     "output_type": "stream",
     "text": [
      " 30%|███       | 532/1759 [01:10<02:44,  7.46it/s]"
     ]
    },
    {
     "name": "stdout",
     "output_type": "stream",
     "text": [
      "✅ Methylosinus trichosporium OB3b → Proteome ID: UP000230709 (Reference: False, via: name)\n",
      "✅ Variovorax paradoxus EPS → Proteome ID: UP000008917 (Reference: False, via: name)\n"
     ]
    },
    {
     "name": "stderr",
     "output_type": "stream",
     "text": [
      " 30%|███       | 535/1759 [01:11<03:00,  6.76it/s]"
     ]
    },
    {
     "name": "stdout",
     "output_type": "stream",
     "text": [
      "✅ Solidesulfovibrio fructosivorans JJ] → Proteome ID: UP000006250 (Reference: False, via: taxid)\n",
      "✅ Alicycliphilus denitrificans K601 → Proteome ID: UP000007938 (Reference: False, via: name)\n"
     ]
    },
    {
     "name": "stderr",
     "output_type": "stream",
     "text": [
      " 31%|███       | 538/1759 [01:11<02:29,  8.14it/s]"
     ]
    },
    {
     "name": "stdout",
     "output_type": "stream",
     "text": [
      "✅ Salmonella enterica subsp. enterica serovar Infantis str. SARB27 → Proteome ID: UP000004564 (Reference: False, via: name)\n",
      "✅ Agaricus bisporus var. burnettii JB137-S8 → Proteome ID: UP000008493 (Reference: False, via: name)\n",
      "✅ Giardia intestinalis ATCC 50581 → Proteome ID: UP000002488 (Reference: False, via: name)\n"
     ]
    },
    {
     "name": "stderr",
     "output_type": "stream",
     "text": [
      " 31%|███       | 540/1759 [01:11<02:30,  8.07it/s]"
     ]
    },
    {
     "name": "stdout",
     "output_type": "stream",
     "text": [
      "✅ Aspergillus carbonarius ITEM 5010 → Proteome ID: UP000188318 (Reference: False, via: name)\n",
      "✅ Spathaspora passalidarum NRRL Y-27907 → Proteome ID: UP000000709 (Reference: False, via: name)\n"
     ]
    },
    {
     "name": "stderr",
     "output_type": "stream",
     "text": [
      " 31%|███       | 543/1759 [01:12<02:16,  8.89it/s]"
     ]
    },
    {
     "name": "stdout",
     "output_type": "stream",
     "text": [
      "✅ Paenibacillus sp. oral taxon 786 str. D14 → Proteome ID: UP000003981 (Reference: False, via: name)\n",
      "✅ Sphingomonas melonis TY → Proteome ID: UP000078460 (Reference: False, via: name)\n",
      "✅ Marinobacter nanhaiticus D15-8W → Proteome ID: UP000013165 (Reference: False, via: name)\n"
     ]
    },
    {
     "name": "stderr",
     "output_type": "stream",
     "text": [
      " 31%|███       | 545/1759 [01:12<02:10,  9.28it/s]"
     ]
    },
    {
     "name": "stdout",
     "output_type": "stream",
     "text": [
      "✅ Pseudomonas amygdali pv. lachrymans str. M301315 → Proteome ID: UP000006426 (Reference: False, via: name)\n",
      "✅ Pseudomonas amygdali pv. mori str. 301020 → Proteome ID: UP000003465 (Reference: False, via: name)\n"
     ]
    },
    {
     "name": "stderr",
     "output_type": "stream",
     "text": [
      " 31%|███       | 547/1759 [01:12<02:07,  9.54it/s]"
     ]
    },
    {
     "name": "stdout",
     "output_type": "stream",
     "text": [
      "✅ Pseudomonas syringae pv. japonica str. M301072 → Proteome ID: UP000004471 (Reference: False, via: name)\n",
      "✅ Pseudomonas syringae pv. pisi str. 1704B → Proteome ID: UP000004986 (Reference: False, via: name)\n"
     ]
    },
    {
     "name": "stderr",
     "output_type": "stream",
     "text": [
      " 31%|███       | 549/1759 [01:12<02:17,  8.81it/s]"
     ]
    },
    {
     "name": "stdout",
     "output_type": "stream",
     "text": [
      "✅ Pseudomonas syringae Cit 7 → Proteome ID: UP000005924 (Reference: False, via: name)\n",
      "✅ Pseudomonas syringae pv. maculicola str. ES4326 → Proteome ID: UP000003811 (Reference: False, via: name)\n"
     ]
    },
    {
     "name": "stderr",
     "output_type": "stream",
     "text": [
      " 31%|███▏      | 551/1759 [01:12<02:11,  9.17it/s]"
     ]
    },
    {
     "name": "stdout",
     "output_type": "stream",
     "text": [
      "✅ Puccinia triticina 1-1 BBBD Race 1 → Proteome ID: UP000005240 (Reference: False, via: name)\n",
      "✅ Shimwellia blattae DSM 4481 = NBRC 105725 → Proteome ID: UP000001955 (Reference: False, via: name)\n"
     ]
    },
    {
     "name": "stderr",
     "output_type": "stream",
     "text": [
      " 31%|███▏      | 553/1759 [01:13<02:10,  9.27it/s]"
     ]
    },
    {
     "name": "stdout",
     "output_type": "stream",
     "text": [
      "✅ Lutibaculum baratangense AMV1 → Proteome ID: UP000017819 (Reference: False, via: name)\n",
      "✅ Rhodococcus opacus B4 → Proteome ID: UP000002212 (Reference: False, via: name)\n"
     ]
    },
    {
     "name": "stderr",
     "output_type": "stream",
     "text": [
      " 32%|███▏      | 556/1759 [01:13<02:01,  9.94it/s]"
     ]
    },
    {
     "name": "stdout",
     "output_type": "stream",
     "text": [
      "✅ Erwinia billingiae Eb661 → Proteome ID: UP000008793 (Reference: False, via: name)\n",
      "✅ Fragilariopsis cylindrus CCMP1102 → Proteome ID: UP000095751 (Reference: False, via: name)\n",
      "✅ Acidithiobacillus thiooxidans ATCC 19377 → Proteome ID: UP000315403 (Reference: False, via: name)\n"
     ]
    },
    {
     "name": "stderr",
     "output_type": "stream",
     "text": [
      " 32%|███▏      | 558/1759 [01:13<01:56, 10.30it/s]"
     ]
    },
    {
     "name": "stdout",
     "output_type": "stream",
     "text": [
      "✅ Citrobacter rodentium ICC168 → Proteome ID: UP000001889 (Reference: False, via: name)\n",
      "✅ Ancylobacter novellus DSM 506 → Proteome ID: UP000006633 (Reference: False, via: name)\n",
      "✅ Azospira oryzae PS → Proteome ID: UP000005633 (Reference: False, via: name)\n"
     ]
    },
    {
     "name": "stderr",
     "output_type": "stream",
     "text": [
      " 32%|███▏      | 562/1759 [01:14<01:54, 10.46it/s]"
     ]
    },
    {
     "name": "stdout",
     "output_type": "stream",
     "text": [
      "✅ Brucella intermedia LMG 3301 → Proteome ID: UP000004386 (Reference: False, via: name)\n",
      "✅ Cyclobacterium qasimii M12-11B → Proteome ID: UP000014974 (Reference: False, via: name)\n",
      "✅ Paracidovorax avenae ATCC 19860 → Proteome ID: UP000002482 (Reference: False, via: name)\n"
     ]
    },
    {
     "name": "stderr",
     "output_type": "stream",
     "text": [
      " 32%|███▏      | 564/1759 [01:14<01:52, 10.62it/s]"
     ]
    },
    {
     "name": "stdout",
     "output_type": "stream",
     "text": [
      "✅ Saccharomyces cerevisiae EC1118 → Proteome ID: UP000000286 (Reference: False, via: name)\n",
      "✅ Komagataella phaffii GS115 → Proteome ID: UP000000314 (Reference: False, via: name)\n",
      "✅ Gaeumannomyces tritici R3-111a-1 → Proteome ID: UP000006039 (Reference: False, via: name)\n"
     ]
    },
    {
     "name": "stderr",
     "output_type": "stream",
     "text": [
      " 32%|███▏      | 566/1759 [01:14<01:51, 10.72it/s]"
     ]
    },
    {
     "name": "stdout",
     "output_type": "stream",
     "text": [
      "✅ Magnaporthiopsis poae ATCC 64411 → Proteome ID: UP000011715 (Reference: False, via: name)\n",
      "✅ Stutzerimonas stutzeri RCH2 → Proteome ID: UP000010820 (Reference: False, via: name)\n",
      "✅ Colletotrichum graminicola M1.001 → Proteome ID: UP000008782 (Reference: False, via: name)\n"
     ]
    },
    {
     "name": "stderr",
     "output_type": "stream",
     "text": [
      " 32%|███▏      | 570/1759 [01:14<01:52, 10.56it/s]"
     ]
    },
    {
     "name": "stdout",
     "output_type": "stream",
     "text": [
      "✅ Spizellomyces punctatus DAOM BR117 → Proteome ID: UP000053201 (Reference: False, via: name)\n",
      "✅ Hymenobacter roseosalivarius DSM 11622 → Proteome ID: UP000192266 (Reference: False, via: name)\n",
      "✅ Trichophyton tonsurans CBS 112818 → Proteome ID: UP000009172 (Reference: False, via: name)\n"
     ]
    },
    {
     "name": "stderr",
     "output_type": "stream",
     "text": [
      " 33%|███▎      | 572/1759 [01:14<01:50, 10.71it/s]"
     ]
    },
    {
     "name": "stdout",
     "output_type": "stream",
     "text": [
      "✅ Rhodomicrobium vannielii ATCC 17100 → Proteome ID: UP000001399 (Reference: False, via: name)\n",
      "✅ Aneurinibacillus aneurinilyticus ATCC 12856 → Proteome ID: UP000016511 (Reference: False, via: name)\n"
     ]
    },
    {
     "name": "stderr",
     "output_type": "stream",
     "text": [
      " 33%|███▎      | 576/1759 [01:15<01:54, 10.36it/s]"
     ]
    },
    {
     "name": "stdout",
     "output_type": "stream",
     "text": [
      "✅ Phanerochaete carnosa HHB-10118-sp → Proteome ID: UP000008370 (Reference: False, via: name)\n",
      "✅ Desulfobacula toluolica Tol2 → Proteome ID: UP000007347 (Reference: False, via: name)\n",
      "✅ Rhodopseudomonas palustris DX-1 → Proteome ID: UP000001402 (Reference: False, via: name)\n"
     ]
    },
    {
     "name": "stderr",
     "output_type": "stream",
     "text": [
      " 33%|███▎      | 578/1759 [01:15<01:52, 10.50it/s]"
     ]
    },
    {
     "name": "stdout",
     "output_type": "stream",
     "text": [
      "✅ Streptomyces violaceusniger Tu 4113 → Proteome ID: UP000008703 (Reference: False, via: name)\n",
      "✅ Blastomyces dermatitidis ATCC 18188 → Proteome ID: UP000007802 (Reference: False, via: name)\n"
     ]
    },
    {
     "name": "stderr",
     "output_type": "stream",
     "text": [
      " 33%|███▎      | 581/1759 [01:15<02:04,  9.49it/s]"
     ]
    },
    {
     "name": "stdout",
     "output_type": "stream",
     "text": [
      "✅ Schizosaccharomyces cryophilus OY26 → Proteome ID: UP000015464 (Reference: False, via: name)\n",
      "✅ Zunongwangia profunda SM-A87 → Proteome ID: UP000001654 (Reference: False, via: name)\n",
      "✅ Beauveria bassiana ARSEF 2860 → Proteome ID: UP000002762 (Reference: False, via: name)\n"
     ]
    },
    {
     "name": "stderr",
     "output_type": "stream",
     "text": [
      " 33%|███▎      | 584/1759 [01:16<02:00,  9.78it/s]"
     ]
    },
    {
     "name": "stdout",
     "output_type": "stream",
     "text": [
      "✅ Metarhizium acridum CQMa 102 → Proteome ID: UP000002499 (Reference: False, via: name)\n",
      "✅ Metarhizium robertsii ARSEF 23 → Proteome ID: UP000002498 (Reference: False, via: name)\n",
      "✅ Grosmannia clavigera kw1407 → Proteome ID: UP000007796 (Reference: False, via: name)\n"
     ]
    },
    {
     "name": "stderr",
     "output_type": "stream",
     "text": [
      " 33%|███▎      | 586/1759 [01:16<01:54, 10.21it/s]"
     ]
    },
    {
     "name": "stdout",
     "output_type": "stream",
     "text": [
      "✅ Tuber melanosporum Mel28 → Proteome ID: UP000006911 (Reference: False, via: name)\n",
      "✅ Escherichia coli H386 → Proteome ID: UP000193045 (Reference: False, via: name)\n"
     ]
    },
    {
     "name": "stderr",
     "output_type": "stream",
     "text": [
      " 33%|███▎      | 588/1759 [01:16<02:03,  9.48it/s]"
     ]
    },
    {
     "name": "stdout",
     "output_type": "stream",
     "text": [
      "✅ Escherichia coli H605 → Proteome ID: UP000243401 (Reference: False, via: name)\n",
      "✅ Escherichia coli M605 → Proteome ID: UP000004710 (Reference: False, via: name)\n",
      "✅ Escherichia coli TA447 → Proteome ID: UP000193942 (Reference: False, via: name)\n"
     ]
    },
    {
     "name": "stderr",
     "output_type": "stream",
     "text": [
      " 34%|███▎      | 592/1759 [01:16<01:54, 10.19it/s]"
     ]
    },
    {
     "name": "stdout",
     "output_type": "stream",
     "text": [
      "✅ Bacteroides xylanisolvens XB1A → Proteome ID: UP000008795 (Reference: False, via: name)\n",
      "✅ Pseudogymnoascus destructans 20631-21 → Proteome ID: UP000011064 (Reference: False, via: name)\n",
      "✅ Photobacterium gaetbulicola Gung47 → Proteome ID: UP000032303 (Reference: False, via: name)\n"
     ]
    },
    {
     "name": "stderr",
     "output_type": "stream",
     "text": [
      " 34%|███▍      | 594/1759 [01:17<01:54, 10.19it/s]"
     ]
    },
    {
     "name": "stdout",
     "output_type": "stream",
     "text": [
      "✅ Giardia lamblia P15 → Proteome ID: UP000008974 (Reference: False, via: name)\n",
      "✅ Fusarium oxysporum f. sp. conglutinans Fo5176 → Proteome ID: UP000593570 (Reference: False, via: name)\n",
      "✅ Fusarium oxysporum Fo47 → Proteome ID: UP000030766 (Reference: False, via: name)\n"
     ]
    },
    {
     "name": "stderr",
     "output_type": "stream",
     "text": [
      " 34%|███▍      | 597/1759 [01:17<02:02,  9.51it/s]"
     ]
    },
    {
     "name": "stdout",
     "output_type": "stream",
     "text": [
      "✅ Fusarium oxysporum NRRL 32931 → Proteome ID: UP000030753 (Reference: False, via: name)\n",
      "✅ Fusarium vanettenii 77-13-4 → Proteome ID: UP000005206 (Reference: False, via: name)\n"
     ]
    },
    {
     "name": "stderr",
     "output_type": "stream",
     "text": [
      " 34%|███▍      | 599/1759 [01:17<01:58,  9.80it/s]"
     ]
    },
    {
     "name": "stdout",
     "output_type": "stream",
     "text": [
      "✅ Cryphonectria parasitica EP155 → Proteome ID: UP000803844 (Reference: False, via: name)\n",
      "✅ Pantoea stewartii subsp. stewartii DC283 → Proteome ID: UP000005050 (Reference: False, via: name)\n"
     ]
    },
    {
     "name": "stderr",
     "output_type": "stream",
     "text": [
      " 34%|███▍      | 601/1759 [01:17<02:01,  9.50it/s]"
     ]
    },
    {
     "name": "stdout",
     "output_type": "stream",
     "text": [
      "✅ Methylorubrum extorquens DM4 → Proteome ID: UP000008070 (Reference: False, via: name)\n",
      "✅ Fimbriimonas ginsengisoli Gsoil 348 → Proteome ID: UP000027982 (Reference: False, via: name)\n",
      "✅ Trichophyton verrucosum HKI 0517 → Proteome ID: UP000008383 (Reference: False, via: name)\n"
     ]
    },
    {
     "name": "stderr",
     "output_type": "stream",
     "text": [
      " 34%|███▍      | 603/1759 [01:18<01:56,  9.92it/s]"
     ]
    },
    {
     "name": "stdout",
     "output_type": "stream",
     "text": [
      "✅ Trichophyton benhamiae CBS 112371 → Proteome ID: UP000008866 (Reference: False, via: name)\n",
      "✅ Paxillus involutus ATCC 200175 → Proteome ID: UP000053647 (Reference: False, via: name)\n",
      "✅ Bipolaris maydis ATCC 48331 → Proteome ID: UP000012338 (Reference: False, via: name)\n"
     ]
    },
    {
     "name": "stderr",
     "output_type": "stream",
     "text": [
      " 35%|███▍      | 607/1759 [01:18<02:07,  9.07it/s]"
     ]
    },
    {
     "name": "stdout",
     "output_type": "stream",
     "text": [
      "✅ Sclerotinia sclerotiorum 1980 UF-70 → Proteome ID: UP000001312 (Reference: False, via: taxid)\n",
      "✅ Bipolaris sorokiniana ND90Pr → Proteome ID: UP000016934 (Reference: False, via: name)\n",
      "✅ Bacteroides eggerthii 1_2_48FAA → Proteome ID: UP000003246 (Reference: False, via: name)\n"
     ]
    },
    {
     "name": "stderr",
     "output_type": "stream",
     "text": [
      " 35%|███▍      | 611/1759 [01:18<01:54, 10.02it/s]"
     ]
    },
    {
     "name": "stdout",
     "output_type": "stream",
     "text": [
      "✅ Serratia odorifera DSM 4582 → Proteome ID: UP000005723 (Reference: False, via: name)\n",
      "✅ Sphaeroforma arctica JP610 → Proteome ID: UP000054560 (Reference: False, via: name)\n",
      "✅ Pachysolen tannophilus NRRL Y-2460 → Proteome ID: UP000094236 (Reference: False, via: name)\n"
     ]
    },
    {
     "name": "stderr",
     "output_type": "stream",
     "text": [
      " 35%|███▍      | 613/1759 [01:19<01:51, 10.27it/s]"
     ]
    },
    {
     "name": "stdout",
     "output_type": "stream",
     "text": [
      "✅ Hyphomicrobium denitrificans 1NES1 → Proteome ID: UP000005952 (Reference: False, via: name)\n",
      "✅ Heterostelium album PN500 → Proteome ID: UP000001396 (Reference: False, via: name)\n",
      "✅ Gloeophyllum trabeum ATCC 11539 → Proteome ID: UP000030669 (Reference: False, via: name)\n"
     ]
    },
    {
     "name": "stderr",
     "output_type": "stream",
     "text": [
      " 35%|███▌      | 617/1759 [01:19<01:51, 10.26it/s]"
     ]
    },
    {
     "name": "stdout",
     "output_type": "stream",
     "text": [
      "✅ Postia placenta MAD-698-R-SB12 → Proteome ID: UP000194127 (Reference: False, via: name)\n",
      "✅ Planktothrix serta PCC 8927 → Proteome ID: UP000184550 (Reference: False, via: name)\n",
      "✅ Planktothrix tepida PCC 9214 → Proteome ID: UP000184315 (Reference: False, via: name)\n"
     ]
    },
    {
     "name": "stderr",
     "output_type": "stream",
     "text": [
      " 35%|███▌      | 619/1759 [01:19<02:20,  8.10it/s]"
     ]
    },
    {
     "name": "stdout",
     "output_type": "stream",
     "text": [
      "✅ Wallemia mellicola CBS 633.66 → Proteome ID: UP000005242 (Reference: False, via: name)\n",
      "✅ Exserohilum turcica Et28A → Proteome ID: UP000016935 (Reference: False, via: taxid)\n"
     ]
    },
    {
     "name": "stderr",
     "output_type": "stream",
     "text": [
      " 35%|███▌      | 621/1759 [01:20<02:10,  8.73it/s]"
     ]
    },
    {
     "name": "stdout",
     "output_type": "stream",
     "text": [
      "✅ Dothistroma septosporum NZE10 → Proteome ID: UP000016933 (Reference: False, via: name)\n",
      "✅ Pseudonocardia dioxanivorans CB1190 → Proteome ID: UP000007809 (Reference: False, via: name)\n",
      "✅ Lipomyces starkeyi NRRL Y-11557 → Proteome ID: UP000094385 (Reference: False, via: name)\n"
     ]
    },
    {
     "name": "stderr",
     "output_type": "stream",
     "text": [
      " 35%|███▌      | 623/1759 [01:20<02:04,  9.15it/s]"
     ]
    },
    {
     "name": "stdout",
     "output_type": "stream",
     "text": [
      "✅ Escherichia coli MS 85-1 → Proteome ID: UP000005056 (Reference: False, via: name)\n",
      "✅ Trypanosoma brucei gambiense DAL972 → Proteome ID: UP000002316 (Reference: False, via: name)\n",
      "✅ Streptomyces scabiei 87.22 → Proteome ID: UP000001444 (Reference: False, via: name)\n"
     ]
    },
    {
     "name": "stderr",
     "output_type": "stream",
     "text": [
      " 36%|███▌      | 627/1759 [01:20<01:56,  9.68it/s]"
     ]
    },
    {
     "name": "stdout",
     "output_type": "stream",
     "text": [
      "✅ Granulicella mallensis MP5ACTX8 → Proteome ID: UP000007113 (Reference: False, via: name)\n",
      "✅ Microbotryum lychnidis-dioicae p1A1 Lamole → Proteome ID: UP000017200 (Reference: False, via: name)\n"
     ]
    },
    {
     "name": "stderr",
     "output_type": "stream",
     "text": [
      " 36%|███▌      | 629/1759 [01:21<02:39,  7.08it/s]"
     ]
    },
    {
     "name": "stdout",
     "output_type": "stream",
     "text": [
      "✅ Wickerhamomyces anomalus NRRL Y-366-8 → Proteome ID: UP000094112 (Reference: False, via: name)\n",
      "✅ Batrachochytrium dendrobatidis JAM81 → Proteome ID: UP000007241 (Reference: False, via: name)\n"
     ]
    },
    {
     "name": "stderr",
     "output_type": "stream",
     "text": [
      " 36%|███▌      | 630/1759 [01:21<03:20,  5.64it/s]"
     ]
    },
    {
     "name": "stdout",
     "output_type": "stream",
     "text": [
      "✅ Escherichia coli O83:H1 str. NRG 857C → Proteome ID: UP000008614 (Reference: False, via: taxid)\n"
     ]
    },
    {
     "name": "stderr",
     "output_type": "stream",
     "text": [
      " 36%|███▌      | 633/1759 [01:22<03:28,  5.40it/s]"
     ]
    },
    {
     "name": "stdout",
     "output_type": "stream",
     "text": [
      "✅ Galerina marginata CBS 339.88 → Proteome ID: UP000027222 (Reference: False, via: name)\n",
      "✅ Prescottella equi 103S → Proteome ID: UP001154400 (Reference: False, via: name)\n",
      "✅ Methylomicrobium album BG8 → Proteome ID: UP000005090 (Reference: False, via: name)\n"
     ]
    },
    {
     "name": "stderr",
     "output_type": "stream",
     "text": [
      " 36%|███▌      | 635/1759 [01:22<02:49,  6.61it/s]"
     ]
    },
    {
     "name": "stdout",
     "output_type": "stream",
     "text": [
      "✅ Cellulophaga algicola DSM 14237 → Proteome ID: UP000008634 (Reference: False, via: name)\n",
      "✅ Aspergillus aculeatus ATCC 16872 → Proteome ID: UP000184546 (Reference: False, via: name)\n",
      "✅ Sphingobium chlorophenolicum L-1 → Proteome ID: UP000007150 (Reference: False, via: name)\n"
     ]
    },
    {
     "name": "stderr",
     "output_type": "stream",
     "text": [
      " 36%|███▋      | 639/1759 [01:22<02:15,  8.24it/s]"
     ]
    },
    {
     "name": "stdout",
     "output_type": "stream",
     "text": [
      "✅ Sphaerulina musiva SO2202 → Proteome ID: UP000016931 (Reference: False, via: name)\n",
      "✅ Cronobacter turicensis z3032 → Proteome ID: UP000002069 (Reference: False, via: name)\n",
      "✅ Methylobacterium oryzae CBMB20 → Proteome ID: UP000029492 (Reference: False, via: name)\n"
     ]
    },
    {
     "name": "stderr",
     "output_type": "stream",
     "text": [
      " 36%|███▋      | 641/1759 [01:22<02:09,  8.65it/s]"
     ]
    },
    {
     "name": "stdout",
     "output_type": "stream",
     "text": [
      "✅ Deinococcus yavapaiensis KR-236 → Proteome ID: UP000248326 (Reference: False, via: name)\n",
      "✅ Flammeovirga aprica JL-4 → Proteome ID: UP000576082 (Reference: False, via: name)\n"
     ]
    },
    {
     "name": "stderr",
     "output_type": "stream",
     "text": [
      " 37%|███▋      | 643/1759 [01:23<01:58,  9.43it/s]"
     ]
    },
    {
     "name": "stdout",
     "output_type": "stream",
     "text": [
      "✅ Saprolegnia parasitica CBS 223.65 → Proteome ID: UP000030745 (Reference: False, via: name)\n",
      "✅ Deinococcus hopiensis KR-140 → Proteome ID: UP000192582 (Reference: False, via: name)\n",
      "✅ Methylobacter tundripaludum SV96 → Proteome ID: UP000004664 (Reference: False, via: name)\n"
     ]
    },
    {
     "name": "stderr",
     "output_type": "stream",
     "text": [
      " 37%|███▋      | 647/1759 [01:23<01:49, 10.13it/s]"
     ]
    },
    {
     "name": "stdout",
     "output_type": "stream",
     "text": [
      "✅ Saitoella complicata NRRL Y-17804 → Proteome ID: UP000033140 (Reference: False, via: name)\n",
      "✅ Streptomyces ipomoeae 91-03 → Proteome ID: UP000010411 (Reference: False, via: name)\n",
      "✅ Streptomyces turgidiscabies Car8 → Proteome ID: UP000010931 (Reference: False, via: name)\n",
      "✅ Mycolicibacterium neoaurum VKM Ac-1815D → Proteome ID: UP000018763 (Reference: False, via: name)\n"
     ]
    },
    {
     "name": "stderr",
     "output_type": "stream",
     "text": [
      " 37%|███▋      | 650/1759 [01:23<02:20,  7.87it/s]"
     ]
    },
    {
     "name": "stdout",
     "output_type": "stream",
     "text": [
      "✅ Streptomyces zinciresistens K42 → Proteome ID: UP000004217 (Reference: False, via: name)\n",
      "✅ Niastella koreensis GR20-10 → Proteome ID: UP000005438 (Reference: False, via: name)\n",
      "✅ Bipolaris maydis C5 → Proteome ID: UP000016936 (Reference: False, via: name)\n"
     ]
    },
    {
     "name": "stderr",
     "output_type": "stream",
     "text": [
      " 37%|███▋      | 654/1759 [01:24<02:12,  8.36it/s]"
     ]
    },
    {
     "name": "stdout",
     "output_type": "stream",
     "text": [
      "✅ [Enterobacter] lignolyticus SCF1 → Proteome ID: UP000006872 (Reference: False, via: taxid)\n",
      "✅ Phocaeicola vulgatus PC510 → Proteome ID: UP000004563 (Reference: False, via: name)\n",
      "✅ Bacteroides xylanisolvens SD CC 1b → Proteome ID: UP000004862 (Reference: False, via: name)\n"
     ]
    },
    {
     "name": "stderr",
     "output_type": "stream",
     "text": [
      " 37%|███▋      | 656/1759 [01:24<02:02,  9.02it/s]"
     ]
    },
    {
     "name": "stdout",
     "output_type": "stream",
     "text": [
      "✅ Amanita thiersii Skay4041 → Proteome ID: UP000242287 (Reference: False, via: name)\n",
      "✅ Pantoea ananatis LMG 20103 → Proteome ID: UP000001702 (Reference: False, via: name)\n",
      "✅ Desulfomonile tiedjei DSM 6799 → Proteome ID: UP000006055 (Reference: False, via: name)\n"
     ]
    },
    {
     "name": "stderr",
     "output_type": "stream",
     "text": [
      " 37%|███▋      | 659/1759 [01:24<01:55,  9.49it/s]"
     ]
    },
    {
     "name": "stdout",
     "output_type": "stream",
     "text": [
      "✅ Sinorhizobium meliloti SM11 → Proteome ID: UP000009045 (Reference: False, via: name)\n",
      "✅ Cronartium quercuum f. sp. fusiforme G11 → Proteome ID: UP000886653 (Reference: False, via: name)\n",
      "✅ Mycolicibacterium chubuense NBB4 → Proteome ID: UP000006057 (Reference: False, via: name)\n"
     ]
    },
    {
     "name": "stderr",
     "output_type": "stream",
     "text": [
      " 38%|███▊      | 662/1759 [01:25<01:52,  9.78it/s]"
     ]
    },
    {
     "name": "stdout",
     "output_type": "stream",
     "text": [
      "✅ Mycolicibacterium rhodesiae NBB3 → Proteome ID: UP000005442 (Reference: False, via: name)\n",
      "✅ Amycolatopsis mediterranei S699 → Proteome ID: UP000006138 (Reference: False, via: name)\n",
      "✅ Mucilaginibacter paludis DSM 18603 → Proteome ID: UP000002774 (Reference: False, via: name)\n"
     ]
    },
    {
     "name": "stderr",
     "output_type": "stream",
     "text": [
      " 38%|███▊      | 664/1759 [01:25<01:47, 10.15it/s]"
     ]
    },
    {
     "name": "stdout",
     "output_type": "stream",
     "text": [
      "✅ Paenibacillus vortex V453 → Proteome ID: UP000003094 (Reference: False, via: name)\n",
      "✅ Asticcacaulis biprosthecium C19 → Proteome ID: UP000006512 (Reference: False, via: name)\n",
      "✅ Enterobacter cloacae subsp. cloacae ATCC 13047 → Proteome ID: UP000002363 (Reference: False, via: name)\n"
     ]
    },
    {
     "name": "stderr",
     "output_type": "stream",
     "text": [
      " 38%|███▊      | 668/1759 [01:25<01:47, 10.18it/s]"
     ]
    },
    {
     "name": "stdout",
     "output_type": "stream",
     "text": [
      "✅ Sinorhizobium sojae CCBAU 05684 → Proteome ID: UP000217211 (Reference: False, via: name)\n",
      "✅ Paenibacillus curdlanolyticus YK9 → Proteome ID: UP000005387 (Reference: False, via: name)\n",
      "✅ Baudoinia panamericana UAMH 10762 → Proteome ID: UP000011761 (Reference: False, via: name)\n"
     ]
    },
    {
     "name": "stderr",
     "output_type": "stream",
     "text": [
      " 38%|███▊      | 672/1759 [01:26<01:44, 10.37it/s]"
     ]
    },
    {
     "name": "stdout",
     "output_type": "stream",
     "text": [
      "✅ Marinomonas mediterranea MMB-1 → Proteome ID: UP000001062 (Reference: False, via: name)\n",
      "✅ Cercospora zeae-maydis SCOH1-5 → Proteome ID: UP000799539 (Reference: False, via: name)\n",
      "✅ Auricularia subglabra TFB-10046 SS5 → Proteome ID: UP000006514 (Reference: False, via: name)\n"
     ]
    },
    {
     "name": "stderr",
     "output_type": "stream",
     "text": [
      " 38%|███▊      | 674/1759 [01:26<01:54,  9.49it/s]"
     ]
    },
    {
     "name": "stdout",
     "output_type": "stream",
     "text": [
      "✅ Bacillus cereus VD022 → Proteome ID: UP000006991 (Reference: False, via: name)\n",
      "✅ Saccharomyces cerevisiae Kyokai no. 7 → Proteome ID: UP000001608 (Reference: False, via: name)\n",
      "✅ Dichomitus squalens LYAD-421 SS1 → Proteome ID: UP000053319 (Reference: False, via: name)\n"
     ]
    },
    {
     "name": "stderr",
     "output_type": "stream",
     "text": [
      " 39%|███▊      | 678/1759 [01:26<01:44, 10.33it/s]"
     ]
    },
    {
     "name": "stdout",
     "output_type": "stream",
     "text": [
      "✅ Ectopseudomonas alcaliphila JAB1 → Proteome ID: UP000185453 (Reference: False, via: name)\n",
      "✅ Fischerella thermalis JSC-11 → Proteome ID: UP000004344 (Reference: False, via: name)\n",
      "✅ Coniophora puteana RWD-64-598 SS2 → Proteome ID: UP000053558 (Reference: False, via: name)\n",
      "❌ No proteome found for: blood disease bacterium R229 (Taxon ID: 741978)\n"
     ]
    },
    {
     "name": "stderr",
     "output_type": "stream",
     "text": [
      " 39%|███▉      | 682/1759 [01:27<02:07,  8.43it/s]"
     ]
    },
    {
     "name": "stdout",
     "output_type": "stream",
     "text": [
      "✅ Wolfiporia cocos MD-104 SS10 → Proteome ID: UP000218811 (Reference: False, via: taxid)\n",
      "✅ Achromobacter piechaudii ATCC 43553 → Proteome ID: UP000004510 (Reference: False, via: name)\n",
      "✅ Bacteroides oleiciplenus YIT 12058 → Proteome ID: UP000009872 (Reference: False, via: name)\n"
     ]
    },
    {
     "name": "stderr",
     "output_type": "stream",
     "text": [
      " 39%|███▉      | 684/1759 [01:27<02:36,  6.88it/s]"
     ]
    },
    {
     "name": "stdout",
     "output_type": "stream",
     "text": [
      "✅ [Clostridium] citroniae WAL-17108 → Proteome ID: UP000003763 (Reference: False, via: taxid)\n",
      "✅ [Clostridium] citroniae WAL-19142 → Proteome ID: UP000037392 (Reference: False, via: taxid)\n"
     ]
    },
    {
     "name": "stderr",
     "output_type": "stream",
     "text": [
      " 39%|███▉      | 685/1759 [01:27<02:26,  7.34it/s]"
     ]
    },
    {
     "name": "stdout",
     "output_type": "stream",
     "text": [
      "✅ Hungatella hathewayi WAL-18680 → Proteome ID: UP000005384 (Reference: False, via: name)\n"
     ]
    },
    {
     "name": "stderr",
     "output_type": "stream",
     "text": [
      " 39%|███▉      | 688/1759 [01:28<02:17,  7.79it/s]"
     ]
    },
    {
     "name": "stdout",
     "output_type": "stream",
     "text": [
      "✅ [Clostridium] symbiosum WAL-14163 → Proteome ID: UP000002970 (Reference: False, via: taxid)\n",
      "✅ Dysgonomonas gadei ATCC BAA-286 → Proteome ID: UP000004913 (Reference: False, via: name)\n",
      "✅ Pseudomonas fluorescens R124 → Proteome ID: UP000006045 (Reference: False, via: name)\n"
     ]
    },
    {
     "name": "stderr",
     "output_type": "stream",
     "text": [
      " 39%|███▉      | 690/1759 [01:28<02:00,  8.84it/s]"
     ]
    },
    {
     "name": "stdout",
     "output_type": "stream",
     "text": [
      "✅ Paenibacillus lactis 154 → Proteome ID: UP000003891 (Reference: False, via: name)\n",
      "✅ Pseudomonas fulva 12-X → Proteome ID: UP000000686 (Reference: False, via: name)\n",
      "✅ Rahnella aquatilis CIP 78.65 = ATCC 33071 → Proteome ID: UP000009010 (Reference: False, via: name)\n"
     ]
    },
    {
     "name": "stderr",
     "output_type": "stream",
     "text": [
      " 39%|███▉      | 692/1759 [01:28<01:54,  9.30it/s]"
     ]
    },
    {
     "name": "stdout",
     "output_type": "stream",
     "text": [
      "✅ Gallaecimonas xiamenensis 3-C-1 → Proteome ID: UP000006755 (Reference: False, via: name)\n",
      "✅ Phlebiopsis gigantea 11061_1 CR5-6 → Proteome ID: UP000053257 (Reference: False, via: name)\n",
      "✅ Deinococcus gobiensis I-0 → Proteome ID: UP000007575 (Reference: False, via: name)\n"
     ]
    },
    {
     "name": "stderr",
     "output_type": "stream",
     "text": [
      " 40%|███▉      | 697/1759 [01:29<01:45, 10.09it/s]"
     ]
    },
    {
     "name": "stdout",
     "output_type": "stream",
     "text": [
      "✅ Rhizophagus irregularis DAOM 181602=DAOM 197198 → Proteome ID: UP000018888 (Reference: False, via: name)\n",
      "✅ Heterobasidion irregulare TC 32-1 → Proteome ID: UP000030671 (Reference: False, via: name)\n",
      "✅ Melampsora larici-populina 98AG31 → Proteome ID: UP000001072 (Reference: False, via: name)\n"
     ]
    },
    {
     "name": "stderr",
     "output_type": "stream",
     "text": [
      " 40%|███▉      | 699/1759 [01:29<01:46,  9.96it/s]"
     ]
    },
    {
     "name": "stdout",
     "output_type": "stream",
     "text": [
      "✅ Mucor lusitanicus CBS 277.49 → Proteome ID: UP000077051 (Reference: False, via: name)\n",
      "✅ Streptomyces bingchenggensis BCW-1 → Proteome ID: UP000000377 (Reference: False, via: name)\n"
     ]
    },
    {
     "name": "stderr",
     "output_type": "stream",
     "text": [
      " 40%|███▉      | 701/1759 [01:29<02:10,  8.10it/s]"
     ]
    },
    {
     "name": "stdout",
     "output_type": "stream",
     "text": [
      "✅ Amycolatopsis mediterranei U32 → Proteome ID: UP000000328 (Reference: False, via: taxid)\n",
      "✅ Mesorhizobium australicum WSM2073 → Proteome ID: UP000010998 (Reference: False, via: name)\n"
     ]
    },
    {
     "name": "stderr",
     "output_type": "stream",
     "text": [
      " 40%|███▉      | 702/1759 [01:29<02:26,  7.21it/s]"
     ]
    },
    {
     "name": "stdout",
     "output_type": "stream",
     "text": [
      "✅ Shigella flexneri CCH060 → Proteome ID: UP000005406 (Reference: False, via: name)\n",
      "✅ Shigella dysenteriae 1617 → Proteome ID: UP000031647 (Reference: False, via: name)\n",
      "✅ Paraburkholderia sprentiae WSM5005 → Proteome ID: UP000179860 (Reference: False, via: name)\n"
     ]
    },
    {
     "name": "stderr",
     "output_type": "stream",
     "text": [
      " 40%|████      | 704/1759 [01:30<02:10,  8.10it/s]"
     ]
    },
    {
     "name": "stdout",
     "output_type": "stream",
     "text": [
      "✅ Bradyrhizobium diazoefficiens SEMIA 5080 → Proteome ID: UP000024900 (Reference: False, via: name)\n",
      "✅ Rhizobium leguminosarum bv. trifolii WSM2297 → Proteome ID: UP000005732 (Reference: False, via: name)\n"
     ]
    },
    {
     "name": "stderr",
     "output_type": "stream",
     "text": [
      " 40%|████      | 708/1759 [01:30<02:01,  8.63it/s]"
     ]
    },
    {
     "name": "stdout",
     "output_type": "stream",
     "text": [
      "✅ Rhizobium leguminosarum bv. trifolii WSM597 → Proteome ID: UP000005092 (Reference: False, via: name)\n",
      "✅ Orbilia oligospora ATCC 24927 → Proteome ID: UP000008784 (Reference: False, via: name)\n",
      "✅ Herbaspirillum seropedicae SmR1 → Proteome ID: UP000000329 (Reference: False, via: name)\n"
     ]
    },
    {
     "name": "stderr",
     "output_type": "stream",
     "text": [
      " 40%|████      | 712/1759 [01:30<01:46,  9.85it/s]"
     ]
    },
    {
     "name": "stdout",
     "output_type": "stream",
     "text": [
      "✅ Aquiflexum balticum DSM 16537 → Proteome ID: UP000192333 (Reference: False, via: name)\n",
      "✅ Thermochaetoides thermophila DSM 1495 → Proteome ID: UP000008066 (Reference: False, via: name)\n",
      "✅ Colletotrichum higginsianum IMI 349063 → Proteome ID: UP000092177 (Reference: False, via: name)\n"
     ]
    },
    {
     "name": "stderr",
     "output_type": "stream",
     "text": [
      " 41%|████      | 714/1759 [01:31<01:42, 10.19it/s]"
     ]
    },
    {
     "name": "stdout",
     "output_type": "stream",
     "text": [
      "✅ Haliscomenobacter hydrossis DSM 1100 → Proteome ID: UP000008461 (Reference: False, via: name)\n",
      "✅ Runella slithyformis DSM 19594 → Proteome ID: UP000000493 (Reference: False, via: name)\n",
      "✅ Phytophthora nicotianae INRA-310 → Proteome ID: UP000018817 (Reference: False, via: name)\n"
     ]
    },
    {
     "name": "stderr",
     "output_type": "stream",
     "text": [
      " 41%|████      | 716/1759 [01:31<01:42, 10.19it/s]"
     ]
    },
    {
     "name": "stdout",
     "output_type": "stream",
     "text": [
      "✅ Achromobacter xylosoxidans A8 → Proteome ID: UP000006876 (Reference: False, via: name)\n",
      "✅ Pichia membranifaciens NRRL Y-2026 → Proteome ID: UP000094455 (Reference: False, via: name)\n"
     ]
    },
    {
     "name": "stderr",
     "output_type": "stream",
     "text": [
      " 41%|████      | 720/1759 [01:31<02:00,  8.66it/s]"
     ]
    },
    {
     "name": "stdout",
     "output_type": "stream",
     "text": [
      "✅ Phycomyces blakesleeanus NRRL 1555(-) → Proteome ID: UP000077315 (Reference: False, via: taxid)\n",
      "✅ Coemansia reversa NRRL 1564 → Proteome ID: UP000242474 (Reference: False, via: name)\n",
      "✅ Mixia osmundae IAM 14324 → Proteome ID: UP000009131 (Reference: False, via: name)\n"
     ]
    },
    {
     "name": "stderr",
     "output_type": "stream",
     "text": [
      " 41%|████      | 722/1759 [01:31<01:53,  9.14it/s]"
     ]
    },
    {
     "name": "stdout",
     "output_type": "stream",
     "text": [
      "✅ Pisolithus microcarpus 441 → Proteome ID: UP000054018 (Reference: False, via: name)\n",
      "✅ Oscillochloris trichoides DG-6 → Proteome ID: UP000054010 (Reference: False, via: name)\n"
     ]
    },
    {
     "name": "stderr",
     "output_type": "stream",
     "text": [
      " 41%|████      | 723/1759 [01:32<01:52,  9.19it/s]"
     ]
    },
    {
     "name": "stdout",
     "output_type": "stream",
     "text": [
      "✅ Piloderma croceum F 1598 → Proteome ID: UP000054166 (Reference: False, via: name)\n",
      "✅ Mesorhizobium ciceri biovar biserrulae WSM1271 → Proteome ID: UP000007471 (Reference: False, via: name)\n"
     ]
    },
    {
     "name": "stderr",
     "output_type": "stream",
     "text": [
      " 41%|████▏     | 727/1759 [01:32<01:45,  9.77it/s]"
     ]
    },
    {
     "name": "stdout",
     "output_type": "stream",
     "text": [
      "✅ Marichromatium purpuratum 984 → Proteome ID: UP000005275 (Reference: False, via: name)\n",
      "✅ Thiocystis violascens DSM 198 → Proteome ID: UP000006062 (Reference: False, via: name)\n",
      "✅ Thiorhodococcus drewsii AZ1 → Proteome ID: UP000004200 (Reference: False, via: name)\n"
     ]
    },
    {
     "name": "stderr",
     "output_type": "stream",
     "text": [
      " 41%|████▏     | 729/1759 [01:32<01:43,  9.95it/s]"
     ]
    },
    {
     "name": "stdout",
     "output_type": "stream",
     "text": [
      "✅ Catenaria anguillulae PL171 → Proteome ID: UP000193411 (Reference: False, via: name)\n",
      "✅ Acidomyces richmondensis BFW → Proteome ID: UP000075602 (Reference: False, via: name)\n",
      "✅ Shigella boydii 4444-74 → Proteome ID: UP000004199 (Reference: False, via: name)\n"
     ]
    },
    {
     "name": "stderr",
     "output_type": "stream",
     "text": [
      " 42%|████▏     | 733/1759 [01:33<01:41, 10.08it/s]"
     ]
    },
    {
     "name": "stdout",
     "output_type": "stream",
     "text": [
      "✅ Tortispora caseinolytica NRRL Y-17796 → Proteome ID: UP000095023 (Reference: False, via: name)\n",
      "✅ Aspergillus brasiliensis CBS 101740 → Proteome ID: UP000184499 (Reference: False, via: name)\n",
      "✅ Aspergillus tubingensis CBS 134.48 → Proteome ID: UP000184304 (Reference: False, via: name)\n"
     ]
    },
    {
     "name": "stderr",
     "output_type": "stream",
     "text": [
      " 42%|████▏     | 735/1759 [01:33<01:40, 10.18it/s]"
     ]
    },
    {
     "name": "stdout",
     "output_type": "stream",
     "text": [
      "✅ Thiocapsa marina 5811 → Proteome ID: UP000005459 (Reference: False, via: name)\n",
      "✅ Desulfosporosinus meridiei DSM 13257 → Proteome ID: UP000005262 (Reference: False, via: name)\n",
      "✅ Desulfosporosinus orientis DSM 765 → Proteome ID: UP000006346 (Reference: False, via: name)\n"
     ]
    },
    {
     "name": "stderr",
     "output_type": "stream",
     "text": [
      " 42%|████▏     | 738/1759 [01:33<01:49,  9.29it/s]"
     ]
    },
    {
     "name": "stdout",
     "output_type": "stream",
     "text": [
      "✅ Desulfosporosinus youngiae DSM 17734 → Proteome ID: UP000005104 (Reference: False, via: name)\n",
      "✅ Sordaria macrospora k-hell → Proteome ID: UP000001881 (Reference: False, via: name)\n"
     ]
    },
    {
     "name": "stderr",
     "output_type": "stream",
     "text": [
      " 42%|████▏     | 740/1759 [01:33<01:59,  8.55it/s]"
     ]
    },
    {
     "name": "stdout",
     "output_type": "stream",
     "text": [
      "✅ Vibrio caribbeanicus ATCC BAA-2122 → Proteome ID: UP000002943 (Reference: False, via: name)\n",
      "✅ Conidiobolus coronatus NRRL 28638 → Proteome ID: UP000070444 (Reference: False, via: name)\n",
      "✅ Methylomonas methanica MC09 → Proteome ID: UP000008888 (Reference: False, via: name)\n"
     ]
    },
    {
     "name": "stderr",
     "output_type": "stream",
     "text": [
      " 42%|████▏     | 744/1759 [01:34<02:13,  7.62it/s]"
     ]
    },
    {
     "name": "stdout",
     "output_type": "stream",
     "text": [
      "✅ Hapsidospora chrysogenum ATCC 11550 → Proteome ID: UP000029964 (Reference: False, via: name)\n",
      "✅ Amorphotheca resinae ATCC 22711 → Proteome ID: UP000241818 (Reference: False, via: name)\n",
      "✅ Nadsonia fulvescens var. elongata DSM 6958 → Proteome ID: UP000095009 (Reference: False, via: name)\n"
     ]
    },
    {
     "name": "stderr",
     "output_type": "stream",
     "text": [
      " 42%|████▏     | 747/1759 [01:34<01:53,  8.91it/s]"
     ]
    },
    {
     "name": "stdout",
     "output_type": "stream",
     "text": [
      "✅ Exophiala dermatitidis NIH/UT8656 → Proteome ID: UP000007304 (Reference: False, via: name)\n",
      "✅ Sphingobium indicum B90A → Proteome ID: UP000004550 (Reference: False, via: name)\n",
      "✅ Pyrenophora teres f. teres 0-1 → Proteome ID: UP000001067 (Reference: False, via: name)\n"
     ]
    },
    {
     "name": "stderr",
     "output_type": "stream",
     "text": [
      " 43%|████▎     | 750/1759 [01:35<01:42,  9.82it/s]"
     ]
    },
    {
     "name": "stdout",
     "output_type": "stream",
     "text": [
      "✅ Azospirillum lipoferum 4B → Proteome ID: UP000005667 (Reference: False, via: name)\n",
      "✅ Bacteroides fragilis 638R → Proteome ID: UP000008560 (Reference: False, via: name)\n",
      "✅ Herbaspirillum frisingense GSF30 → Proteome ID: UP000006772 (Reference: False, via: name)\n"
     ]
    },
    {
     "name": "stderr",
     "output_type": "stream",
     "text": [
      " 43%|████▎     | 752/1759 [01:35<01:39, 10.13it/s]"
     ]
    },
    {
     "name": "stdout",
     "output_type": "stream",
     "text": [
      "✅ Escherichia coli DEC2D → Proteome ID: UP000005272 (Reference: False, via: name)\n",
      "✅ Turneriella parva DSM 21527 → Proteome ID: UP000006048 (Reference: False, via: name)\n"
     ]
    },
    {
     "name": "stderr",
     "output_type": "stream",
     "text": [
      " 43%|████▎     | 754/1759 [01:35<01:47,  9.35it/s]"
     ]
    },
    {
     "name": "stdout",
     "output_type": "stream",
     "text": [
      "✅ Saccharicrinis fermentans DSM 9555 = JCM 21142 → Proteome ID: UP000019402 (Reference: False, via: name)\n",
      "✅ Theileria orientalis strain Shintoku → Proteome ID: UP000003786 (Reference: False, via: name)\n",
      "✅ Escherichia coli 97.0246 → Proteome ID: UP000004454 (Reference: False, via: name)\n"
     ]
    },
    {
     "name": "stderr",
     "output_type": "stream",
     "text": [
      " 43%|████▎     | 758/1759 [01:35<01:41,  9.87it/s]"
     ]
    },
    {
     "name": "stdout",
     "output_type": "stream",
     "text": [
      "✅ Escherichia coli 4.0967 → Proteome ID: UP000003866 (Reference: False, via: name)\n",
      "✅ Metschnikowia bicuspidata var. bicuspidata NRRL YB-4993 → Proteome ID: UP000092555 (Reference: False, via: name)\n",
      "✅ Thiothrix nivea DSM 5205 → Proteome ID: UP000005317 (Reference: False, via: name)\n"
     ]
    },
    {
     "name": "stderr",
     "output_type": "stream",
     "text": [
      " 43%|████▎     | 760/1759 [01:36<01:39, 10.09it/s]"
     ]
    },
    {
     "name": "stdout",
     "output_type": "stream",
     "text": [
      "✅ Pisolithus tinctorius Marx 270 → Proteome ID: UP000054217 (Reference: False, via: name)\n",
      "✅ Vibrio scophthalmi LMG 19158 → Proteome ID: UP000004349 (Reference: False, via: name)\n",
      "✅ Ogataea parapolymorpha DL-1 → Proteome ID: UP000008673 (Reference: False, via: name)\n"
     ]
    },
    {
     "name": "stderr",
     "output_type": "stream",
     "text": [
      " 43%|████▎     | 764/1759 [01:36<01:35, 10.38it/s]"
     ]
    },
    {
     "name": "stdout",
     "output_type": "stream",
     "text": [
      "✅ Acinetobacter pittii PHEA-2 → Proteome ID: UP000007477 (Reference: False, via: name)\n",
      "✅ Pseudomonas savastanoi pv. glycinea str. race 4 → Proteome ID: UP000005466 (Reference: False, via: name)\n",
      "✅ Epichloe festucae Fl1 → Proteome ID: UP000594364 (Reference: False, via: name)\n"
     ]
    },
    {
     "name": "stderr",
     "output_type": "stream",
     "text": [
      " 44%|████▎     | 766/1759 [01:36<01:33, 10.60it/s]"
     ]
    },
    {
     "name": "stdout",
     "output_type": "stream",
     "text": [
      "✅ Cyclobacterium marinum DSM 745 → Proteome ID: UP000001635 (Reference: False, via: name)\n",
      "✅ Saccharomonospora azurea NA-128 → Proteome ID: UP000004705 (Reference: False, via: name)\n",
      "✅ Saccharomonospora cyanea NA-134 → Proteome ID: UP000002791 (Reference: False, via: name)\n"
     ]
    },
    {
     "name": "stderr",
     "output_type": "stream",
     "text": [
      " 44%|████▎     | 768/1759 [01:36<01:31, 10.80it/s]"
     ]
    },
    {
     "name": "stdout",
     "output_type": "stream",
     "text": [
      "✅ Saccharomonospora marina XMU15 → Proteome ID: UP000004926 (Reference: False, via: name)\n",
      "✅ Saccharomonospora xinjiangensis XJ-54 → Proteome ID: UP000004691 (Reference: False, via: name)\n"
     ]
    },
    {
     "name": "stderr",
     "output_type": "stream",
     "text": [
      " 44%|████▍     | 772/1759 [01:37<01:32, 10.65it/s]"
     ]
    },
    {
     "name": "stdout",
     "output_type": "stream",
     "text": [
      "✅ Mycetohabitans rhizoxinica HKI 454 → Proteome ID: UP000007437 (Reference: False, via: name)\n",
      "✅ Methylorubrum extorquens DSM 13060 → Proteome ID: UP000004382 (Reference: False, via: name)\n",
      "✅ Afipia broomeae ATCC 49717 → Proteome ID: UP000001096 (Reference: False, via: name)\n"
     ]
    },
    {
     "name": "stderr",
     "output_type": "stream",
     "text": [
      " 44%|████▍     | 774/1759 [01:37<01:39,  9.91it/s]"
     ]
    },
    {
     "name": "stdout",
     "output_type": "stream",
     "text": [
      "✅ Afipia clevelandensis ATCC 49720 → Proteome ID: UP000001095 (Reference: False, via: name)\n",
      "✅ Klebsiella oxytoca 10-5243 → Proteome ID: UP000003069 (Reference: False, via: name)\n"
     ]
    },
    {
     "name": "stderr",
     "output_type": "stream",
     "text": [
      " 44%|████▍     | 776/1759 [01:37<01:40,  9.76it/s]"
     ]
    },
    {
     "name": "stdout",
     "output_type": "stream",
     "text": [
      "✅ Massilia timonae CCUG 45783 → Proteome ID: UP000009874 (Reference: False, via: name)\n",
      "✅ Sphingobium yanoikuyae ATCC 51230 → Proteome ID: UP000009887 (Reference: False, via: name)\n"
     ]
    },
    {
     "name": "stderr",
     "output_type": "stream",
     "text": [
      " 44%|████▍     | 778/1759 [01:37<01:44,  9.41it/s]"
     ]
    },
    {
     "name": "stdout",
     "output_type": "stream",
     "text": [
      "✅ Burkholderia pseudomallei 1026b → Proteome ID: UP000010087 (Reference: False, via: name)\n",
      "✅ Entamoeba histolytica KU27 → Proteome ID: UP000011755 (Reference: False, via: name)\n"
     ]
    },
    {
     "name": "stderr",
     "output_type": "stream",
     "text": [
      " 44%|████▍     | 781/1759 [01:38<01:55,  8.50it/s]"
     ]
    },
    {
     "name": "stdout",
     "output_type": "stream",
     "text": [
      "✅ Entamoeba histolytica HM-3:IMSS → Proteome ID: UP000030780 (Reference: False, via: taxid)\n",
      "✅ Singulisphaera acidiphila DSM 18658 → Proteome ID: UP000010798 (Reference: False, via: name)\n",
      "✅ Paenibacillus polymyxa SC2 → Proteome ID: UP000006868 (Reference: False, via: name)\n"
     ]
    },
    {
     "name": "stderr",
     "output_type": "stream",
     "text": [
      " 45%|████▍     | 783/1759 [01:38<02:01,  8.01it/s]"
     ]
    },
    {
     "name": "stdout",
     "output_type": "stream",
     "text": [
      "✅ Hylemonella gracilis ATCC 19624 → Proteome ID: UP000016368 (Reference: False, via: name)\n",
      "❌ No proteome found for: Salmonella enterica subsp. enterica serovar Enteritidis str. 607307-2 (Taxon ID: 887070)\n"
     ]
    },
    {
     "name": "stderr",
     "output_type": "stream",
     "text": [
      " 45%|████▍     | 785/1759 [01:38<01:53,  8.55it/s]"
     ]
    },
    {
     "name": "stdout",
     "output_type": "stream",
     "text": [
      "✅ Enterobacter hormaechei ATCC 49162 → Proteome ID: UP000002984 (Reference: False, via: name)\n",
      "✅ Saccharomyces cerevisiae CEN.PK113-7D → Proteome ID: UP000013192 (Reference: False, via: name)\n",
      "✅ Candidatus Magnetoglobus multicellularis str. Araruama → Proteome ID: UP000189670 (Reference: False, via: name)\n"
     ]
    },
    {
     "name": "stderr",
     "output_type": "stream",
     "text": [
      " 45%|████▍     | 788/1759 [01:39<01:51,  8.72it/s]"
     ]
    },
    {
     "name": "stdout",
     "output_type": "stream",
     "text": [
      "✅ Salmonella enterica subsp. enterica serovar Choleraesuis str. SCSA50 → Proteome ID: UP000003971 (Reference: False, via: name)\n",
      "✅ Drouetiella hepatica Uher 2000/2452 → Proteome ID: UP000757435 (Reference: False, via: name)\n"
     ]
    },
    {
     "name": "stderr",
     "output_type": "stream",
     "text": [
      " 45%|████▍     | 789/1759 [01:39<01:52,  8.59it/s]"
     ]
    },
    {
     "name": "stdout",
     "output_type": "stream",
     "text": [
      "✅ Guillardia theta CCMP2712 → Proteome ID: UP000011087 (Reference: False, via: name)\n"
     ]
    },
    {
     "name": "stderr",
     "output_type": "stream",
     "text": [
      " 45%|████▌     | 792/1759 [01:39<02:01,  7.98it/s]"
     ]
    },
    {
     "name": "stdout",
     "output_type": "stream",
     "text": [
      "❌ No proteome found for: Ralstonia syzygii R24 (Taxon ID: 907261)\n",
      "✅ Methylobacterium mesophilicum SR1.6/6 → Proteome ID: UP000012488 (Reference: False, via: name)\n",
      "✅ Caballeronia mineralivorans PML1(12) → Proteome ID: UP000035963 (Reference: False, via: name)\n"
     ]
    },
    {
     "name": "stderr",
     "output_type": "stream",
     "text": [
      " 45%|████▌     | 794/1759 [01:39<01:50,  8.76it/s]"
     ]
    },
    {
     "name": "stdout",
     "output_type": "stream",
     "text": [
      "✅ Magnetospirillum aberrantis SpK → Proteome ID: UP000480684 (Reference: False, via: name)\n",
      "✅ Salmonella enterica subsp. enterica serovar Dublin str. SD3246 → Proteome ID: UP000002794 (Reference: False, via: name)\n"
     ]
    },
    {
     "name": "stderr",
     "output_type": "stream",
     "text": [
      " 45%|████▌     | 797/1759 [01:40<02:22,  6.76it/s]"
     ]
    },
    {
     "name": "stdout",
     "output_type": "stream",
     "text": [
      "✅ Salmonella enterica subsp. enterica serovar Typhimurium str. ST4/74 → Proteome ID: UP000008978 (Reference: False, via: taxid)\n",
      "✅ Ewingella americana ATCC 33852 → Proteome ID: UP000028640 (Reference: False, via: name)\n",
      "✅ Hafnia alvei ATCC 13337 → Proteome ID: UP000280189 (Reference: False, via: name)\n"
     ]
    },
    {
     "name": "stderr",
     "output_type": "stream",
     "text": [
      " 45%|████▌     | 799/1759 [01:40<02:19,  6.88it/s]"
     ]
    },
    {
     "name": "stdout",
     "output_type": "stream",
     "text": [
      "✅ Ophiocordyceps sinensis CO18 → Proteome ID: UP000019374 (Reference: False, via: name)\n",
      "❌ No proteome found for: Yersinia enterocolitica W22703 (Taxon ID: 913028)\n"
     ]
    },
    {
     "name": "stderr",
     "output_type": "stream",
     "text": [
      " 45%|████▌     | 800/1759 [01:40<02:17,  6.98it/s]"
     ]
    },
    {
     "name": "stdout",
     "output_type": "stream",
     "text": [
      "✅ Salmonella enterica subsp. enterica serovar Adelaide str. A4-669 → Proteome ID: UP000004906 (Reference: False, via: name)\n"
     ]
    },
    {
     "name": "stderr",
     "output_type": "stream",
     "text": [
      " 46%|████▌     | 802/1759 [01:41<03:17,  4.85it/s]"
     ]
    },
    {
     "name": "stdout",
     "output_type": "stream",
     "text": [
      "✅ Salmonella enterica subsp. enterica serovar Inverness str. R8-3668 → Proteome ID: UP000003532 (Reference: False, via: name)\n",
      "✅ Salmonella enterica subsp. enterica serovar Rubislaw str. A4-653 → Proteome ID: UP000004903 (Reference: False, via: name)\n"
     ]
    },
    {
     "name": "stderr",
     "output_type": "stream",
     "text": [
      " 46%|████▌     | 804/1759 [01:41<02:39,  5.98it/s]"
     ]
    },
    {
     "name": "stdout",
     "output_type": "stream",
     "text": [
      "✅ Salmonella enterica subsp. enterica serovar Senftenberg str. A4-543 → Proteome ID: UP000005065 (Reference: False, via: name)\n",
      "✅ Salmonella enterica subsp. enterica serovar Uganda str. R8-3404 → Proteome ID: UP000003915 (Reference: False, via: name)\n"
     ]
    },
    {
     "name": "stderr",
     "output_type": "stream",
     "text": [
      " 46%|████▌     | 805/1759 [01:41<02:24,  6.62it/s]"
     ]
    },
    {
     "name": "stdout",
     "output_type": "stream",
     "text": [
      "✅ Salmonella enterica subsp. enterica serovar Urbana str. R8-2977 → Proteome ID: UP000004776 (Reference: False, via: name)\n",
      "✅ Salmonella enterica subsp. enterica serovar Wandsworth str. A4-580 → Proteome ID: UP000003536 (Reference: False, via: name)\n"
     ]
    },
    {
     "name": "stderr",
     "output_type": "stream",
     "text": [
      " 46%|████▌     | 808/1759 [01:42<01:57,  8.10it/s]"
     ]
    },
    {
     "name": "stdout",
     "output_type": "stream",
     "text": [
      "✅ Salmonella enterica subsp. enterica serovar Alachua str. R6-377 → Proteome ID: UP000004642 (Reference: False, via: name)\n",
      "✅ Salmonella enterica subsp. enterica serovar Montevideo str. S5-403 → Proteome ID: UP000003221 (Reference: False, via: name)\n",
      "✅ Oidiodendron maius Zn → Proteome ID: UP000054321 (Reference: False, via: name)\n"
     ]
    },
    {
     "name": "stderr",
     "output_type": "stream",
     "text": [
      " 46%|████▌     | 811/1759 [01:42<01:47,  8.78it/s]"
     ]
    },
    {
     "name": "stdout",
     "output_type": "stream",
     "text": [
      "✅ Gelatoporia subvermispora B → Proteome ID: UP000016930 (Reference: False, via: name)\n",
      "✅ Xanthomonas vesicatoria ATCC 35937 → Proteome ID: UP000003299 (Reference: False, via: name)\n"
     ]
    },
    {
     "name": "stderr",
     "output_type": "stream",
     "text": [
      " 46%|████▋     | 814/1759 [01:42<01:37,  9.68it/s]"
     ]
    },
    {
     "name": "stdout",
     "output_type": "stream",
     "text": [
      "✅ Caldilinea aerophila DSM 14535 = NBRC 104270 → Proteome ID: UP000007880 (Reference: False, via: name)\n",
      "✅ Terriglobus roseus DSM 18391 → Proteome ID: UP000006056 (Reference: False, via: name)\n",
      "✅ Acidiphilium multivorum AIU301 → Proteome ID: UP000032662 (Reference: False, via: name)\n"
     ]
    },
    {
     "name": "stderr",
     "output_type": "stream",
     "text": [
      " 46%|████▋     | 816/1759 [01:42<01:33, 10.03it/s]"
     ]
    },
    {
     "name": "stdout",
     "output_type": "stream",
     "text": [
      "✅ Cryptosporangium arvum DSM 44712 → Proteome ID: UP000021053 (Reference: False, via: name)\n",
      "✅ Parabacteroides goldsteinii DSM 19448 = WAL 12034 → Proteome ID: UP000033047 (Reference: False, via: name)\n",
      "✅ Saccharomonospora glauca K62 → Proteome ID: UP000005087 (Reference: False, via: name)\n"
     ]
    },
    {
     "name": "stderr",
     "output_type": "stream",
     "text": [
      " 47%|████▋     | 820/1759 [01:43<01:33, 10.06it/s]"
     ]
    },
    {
     "name": "stdout",
     "output_type": "stream",
     "text": [
      "✅ Leishmania mexicana MHOM/GT/2001/U1103 → Proteome ID: UP000007259 (Reference: False, via: name)\n",
      "✅ Solitalea canadensis DSM 3403 → Proteome ID: UP000007590 (Reference: False, via: name)\n",
      "✅ Niabella soli DSM 19437 → Proteome ID: UP000003586 (Reference: False, via: name)\n",
      "✅ Bipolaris zeicola 26-R-13 → Proteome ID: UP000053841 (Reference: False, via: name)\n"
     ]
    },
    {
     "name": "stderr",
     "output_type": "stream",
     "text": [
      " 47%|████▋     | 823/1759 [01:43<01:57,  7.99it/s]"
     ]
    },
    {
     "name": "stdout",
     "output_type": "stream",
     "text": [
      "✅ Bipolaris oryzae ATCC 44560 → Proteome ID: UP000054032 (Reference: False, via: name)\n",
      "✅ Bipolaris victoriae FI3 → Proteome ID: UP000054337 (Reference: False, via: name)\n"
     ]
    },
    {
     "name": "stderr",
     "output_type": "stream",
     "text": [
      " 47%|████▋     | 826/1759 [01:44<01:58,  7.88it/s]"
     ]
    },
    {
     "name": "stdout",
     "output_type": "stream",
     "text": [
      "✅ Alloalcanivorax dieselolei B5 → Proteome ID: UP000006286 (Reference: False, via: taxid)\n",
      "✅ Pseudarthrobacter phenanthrenivorans Sphe3 → Proteome ID: UP000008639 (Reference: False, via: name)\n",
      "✅ Yersinia enterocolitica subsp. palearctica Y11 → Proteome ID: UP000008084 (Reference: False, via: name)\n"
     ]
    },
    {
     "name": "stderr",
     "output_type": "stream",
     "text": [
      " 47%|████▋     | 828/1759 [01:44<01:47,  8.63it/s]"
     ]
    },
    {
     "name": "stdout",
     "output_type": "stream",
     "text": [
      "✅ Botryobasidium botryosum FD-172 SS1 → Proteome ID: UP000027195 (Reference: False, via: name)\n",
      "✅ Paxillus rubicundulus Ve08.2h10 → Proteome ID: UP000054538 (Reference: False, via: name)\n",
      "✅ Suillus luteus UH-Slu-Lm8-n1 → Proteome ID: UP000054485 (Reference: False, via: name)\n"
     ]
    },
    {
     "name": "stderr",
     "output_type": "stream",
     "text": [
      " 47%|████▋     | 830/1759 [01:44<01:39,  9.31it/s]"
     ]
    },
    {
     "name": "stdout",
     "output_type": "stream",
     "text": [
      "✅ Eremothecium cymbalariae DBVPG#7215 → Proteome ID: UP000006790 (Reference: False, via: name)\n",
      "✅ Pantoea ananatis AJ13355 → Proteome ID: UP000006690 (Reference: False, via: name)\n",
      "✅ Toxoplasma gondii VAND → Proteome ID: UP000028840 (Reference: False, via: name)\n"
     ]
    },
    {
     "name": "stderr",
     "output_type": "stream",
     "text": [
      " 47%|████▋     | 835/1759 [01:45<01:33,  9.84it/s]"
     ]
    },
    {
     "name": "stdout",
     "output_type": "stream",
     "text": [
      "✅ Jaapia argillacea MUCL 33604 → Proteome ID: UP000027265 (Reference: False, via: name)\n",
      "✅ Penicillium oxalicum 114-2 → Proteome ID: UP000019376 (Reference: False, via: name)\n",
      "✅ Serendipita vermifera MAFF 305830 → Proteome ID: UP000054097 (Reference: False, via: name)\n"
     ]
    },
    {
     "name": "stderr",
     "output_type": "stream",
     "text": [
      " 48%|████▊     | 837/1759 [01:45<01:32,  9.96it/s]"
     ]
    },
    {
     "name": "stdout",
     "output_type": "stream",
     "text": [
      "✅ Rhodococcus rhodochrous J45 → Proteome ID: UP000317573 (Reference: False, via: name)\n",
      "✅ Mesorhizobium loti R88b → Proteome ID: UP000503017 (Reference: False, via: name)\n",
      "✅ Toxoplasma gondii RUB → Proteome ID: UP000028834 (Reference: False, via: name)\n"
     ]
    },
    {
     "name": "stderr",
     "output_type": "stream",
     "text": [
      " 48%|████▊     | 839/1759 [01:45<01:33,  9.87it/s]"
     ]
    },
    {
     "name": "stdout",
     "output_type": "stream",
     "text": [
      "✅ Cupriavidus gilardii J11 → Proteome ID: UP000318141 (Reference: False, via: name)\n",
      "✅ Serpula lacrymans var. lacrymans S7.3 → Proteome ID: UP000008063 (Reference: False, via: name)\n",
      "✅ Deinococcus peraridilitoris DSM 19664 → Proteome ID: UP000010467 (Reference: False, via: name)\n"
     ]
    },
    {
     "name": "stderr",
     "output_type": "stream",
     "text": [
      " 48%|████▊     | 843/1759 [01:46<01:57,  7.82it/s]"
     ]
    },
    {
     "name": "stdout",
     "output_type": "stream",
     "text": [
      "❌ No proteome found for: Salmonella enterica subsp. enterica serovar Rubislaw str. ATCC 10717 (Taxon ID: 938143)\n",
      "✅ Escherichia coli O25b:H4 → Proteome ID: UP000183316 (Reference: False, via: taxid)\n"
     ]
    },
    {
     "name": "stderr",
     "output_type": "stream",
     "text": [
      " 48%|████▊     | 846/1759 [01:46<01:43,  8.82it/s]"
     ]
    },
    {
     "name": "stdout",
     "output_type": "stream",
     "text": [
      "✅ Toxoplasma gondii MAS → Proteome ID: UP000028821 (Reference: False, via: name)\n",
      "✅ Toxoplasma gondii p89 → Proteome ID: UP000028828 (Reference: False, via: name)\n",
      "✅ Toxoplasma gondii TgCATBr9 → Proteome ID: UP000244488 (Reference: False, via: name)\n"
     ]
    },
    {
     "name": "stderr",
     "output_type": "stream",
     "text": [
      " 48%|████▊     | 848/1759 [01:46<02:11,  6.95it/s]"
     ]
    },
    {
     "name": "stdout",
     "output_type": "stream",
     "text": [
      "✅ Toxoplasma gondii FOU → Proteome ID: UP000028838 (Reference: False, via: name)\n",
      "✅ Collybiopsis luxurians FD-317 M1 → Proteome ID: UP000053593 (Reference: False, via: name)\n"
     ]
    },
    {
     "name": "stderr",
     "output_type": "stream",
     "text": [
      " 48%|████▊     | 850/1759 [01:46<01:55,  7.87it/s]"
     ]
    },
    {
     "name": "stdout",
     "output_type": "stream",
     "text": [
      "✅ Vibrio brasiliensis LMG 20546 → Proteome ID: UP000004371 (Reference: False, via: name)\n",
      "✅ Vibrio sinaloensis DSM 21326 → Proteome ID: UP000006228 (Reference: False, via: name)\n"
     ]
    },
    {
     "name": "stderr",
     "output_type": "stream",
     "text": [
      " 48%|████▊     | 853/1759 [01:47<01:42,  8.82it/s]"
     ]
    },
    {
     "name": "stdout",
     "output_type": "stream",
     "text": [
      "✅ Hypholoma sublateritium FD-334 SS-4 → Proteome ID: UP000054270 (Reference: False, via: name)\n",
      "✅ Hyella patelloides LEGE 07179 → Proteome ID: UP000320055 (Reference: False, via: name)\n",
      "✅ Lusitaniella coriacea LEGE 07157 → Proteome ID: UP000654482 (Reference: False, via: name)\n"
     ]
    },
    {
     "name": "stderr",
     "output_type": "stream",
     "text": [
      " 49%|████▊     | 855/1759 [01:47<01:40,  8.95it/s]"
     ]
    },
    {
     "name": "stdout",
     "output_type": "stream",
     "text": [
      "✅ Plectonema cf. radiosum LEGE 06105 → Proteome ID: UP000620559 (Reference: False, via: name)\n",
      "✅ Amanita muscaria Koide BX008 → Proteome ID: UP000054549 (Reference: False, via: name)\n",
      "✅ Streptomyces venezuelae ATCC 10712 → Proteome ID: UP000006854 (Reference: False, via: name)\n"
     ]
    },
    {
     "name": "stderr",
     "output_type": "stream",
     "text": [
      " 49%|████▉     | 858/1759 [01:47<01:32,  9.73it/s]"
     ]
    },
    {
     "name": "stdout",
     "output_type": "stream",
     "text": [
      "✅ Cupriavidus taiwanensis LMG 19424 → Proteome ID: UP000001692 (Reference: False, via: name)\n",
      "✅ Microbacterium testaceum StLB037 → Proteome ID: UP000008975 (Reference: False, via: name)\n",
      "✅ Acinetobacter bereziniae LMG 1003 = CIP 70.12 → Proteome ID: UP000013251 (Reference: False, via: name)\n"
     ]
    },
    {
     "name": "stderr",
     "output_type": "stream",
     "text": [
      " 49%|████▉     | 862/1759 [01:48<01:27, 10.29it/s]"
     ]
    },
    {
     "name": "stdout",
     "output_type": "stream",
     "text": [
      "✅ Komagataella phaffii CBS 7435 → Proteome ID: UP000006853 (Reference: False, via: name)\n",
      "✅ Cordyceps militaris CM01 → Proteome ID: UP000001610 (Reference: False, via: name)\n",
      "✅ Rubrivivax gelatinosus IL144 → Proteome ID: UP000007883 (Reference: False, via: name)\n"
     ]
    },
    {
     "name": "stderr",
     "output_type": "stream",
     "text": [
      " 49%|████▉     | 864/1759 [01:48<01:27, 10.25it/s]"
     ]
    },
    {
     "name": "stdout",
     "output_type": "stream",
     "text": [
      "✅ Novosphingobium nitrogenifigens DSM 19370 → Proteome ID: UP000004728 (Reference: False, via: name)\n",
      "✅ Trichoderma harzianum CBS 226.95 → Proteome ID: UP000241690 (Reference: False, via: name)\n",
      "✅ Trichoderma longibrachiatum ATCC 18648 → Proteome ID: UP000240760 (Reference: False, via: name)\n"
     ]
    },
    {
     "name": "stderr",
     "output_type": "stream",
     "text": [
      " 49%|████▉     | 866/1759 [01:48<01:25, 10.45it/s]"
     ]
    },
    {
     "name": "stdout",
     "output_type": "stream",
     "text": [
      "✅ Cyberlindnera jadinii NRRL Y-1542 → Proteome ID: UP000094389 (Reference: False, via: name)\n"
     ]
    },
    {
     "name": "stderr",
     "output_type": "stream",
     "text": [
      " 49%|████▉     | 868/1759 [01:48<01:43,  8.62it/s]"
     ]
    },
    {
     "name": "stdout",
     "output_type": "stream",
     "text": [
      "✅ [Candida] arabinofermentans NRRL YB-2248 → Proteome ID: UP000094801 (Reference: False, via: taxid)\n",
      "✅ Hyphopichia burtonii NRRL Y-1933 → Proteome ID: UP000095085 (Reference: False, via: name)\n",
      "✅ Babjeviella inositovora NRRL Y-12698 → Proteome ID: UP000094336 (Reference: False, via: name)\n"
     ]
    },
    {
     "name": "stderr",
     "output_type": "stream",
     "text": [
      " 49%|████▉     | 870/1759 [01:49<01:35,  9.34it/s]"
     ]
    },
    {
     "name": "stdout",
     "output_type": "stream",
     "text": [
      "✅ Suhomyces tanzawaensis NRRL Y-17324 → Proteome ID: UP000094285 (Reference: False, via: name)\n",
      "✅ Paenibacillus terrae HPL-003 → Proteome ID: UP000005876 (Reference: False, via: name)\n",
      "✅ Plenodomus lingam JN3 → Proteome ID: UP000002668 (Reference: False, via: name)\n"
     ]
    },
    {
     "name": "stderr",
     "output_type": "stream",
     "text": [
      " 50%|████▉     | 874/1759 [01:49<01:30,  9.81it/s]"
     ]
    },
    {
     "name": "stdout",
     "output_type": "stream",
     "text": [
      "✅ Brunnivagina elsteri CCALA 953 → Proteome ID: UP000218238 (Reference: False, via: name)\n",
      "✅ Rozella allomycis CSF55 → Proteome ID: UP000030755 (Reference: False, via: name)\n"
     ]
    },
    {
     "name": "stderr",
     "output_type": "stream",
     "text": [
      " 50%|████▉     | 876/1759 [01:49<01:39,  8.85it/s]"
     ]
    },
    {
     "name": "stdout",
     "output_type": "stream",
     "text": [
      "✅ Salmonella enterica subsp. enterica serovar Typhimurium str. UK-1 → Proteome ID: UP000008278 (Reference: False, via: taxid)\n",
      "✅ Rhizobium grahamii CCGE 502 → Proteome ID: UP000014411 (Reference: False, via: name)\n",
      "✅ Sphaerobolus stellatus SS14 → Proteome ID: UP000054279 (Reference: False, via: name)\n"
     ]
    },
    {
     "name": "stderr",
     "output_type": "stream",
     "text": [
      " 50%|████▉     | 879/1759 [01:50<01:32,  9.48it/s]"
     ]
    },
    {
     "name": "stdout",
     "output_type": "stream",
     "text": [
      "✅ Rhodopirellula baltica WH47 → Proteome ID: UP000006222 (Reference: False, via: name)\n",
      "✅ Polymorphum gilvum SL003B-26A1 → Proteome ID: UP000008130 (Reference: False, via: name)\n"
     ]
    },
    {
     "name": "stderr",
     "output_type": "stream",
     "text": [
      " 50%|█████     | 881/1759 [01:50<02:12,  6.64it/s]"
     ]
    },
    {
     "name": "stdout",
     "output_type": "stream",
     "text": [
      "✅ Rhodopirellula baltica SWK14 → Proteome ID: UP000010959 (Reference: False, via: name)\n",
      "✅ Rhodopirellula baltica SH28 → Proteome ID: UP000007993 (Reference: False, via: name)\n"
     ]
    },
    {
     "name": "stderr",
     "output_type": "stream",
     "text": [
      " 50%|█████     | 882/1759 [01:50<02:08,  6.82it/s]"
     ]
    },
    {
     "name": "stdout",
     "output_type": "stream",
     "text": [
      "✅ Hydnomerulius pinastri MD-312 → Proteome ID: UP000053820 (Reference: False, via: name)\n"
     ]
    },
    {
     "name": "stderr",
     "output_type": "stream",
     "text": [
      " 50%|█████     | 883/1759 [01:51<03:08,  4.65it/s]"
     ]
    },
    {
     "name": "stdout",
     "output_type": "stream",
     "text": [
      "✅ Pseudomonas brassicacearum subsp. brassicacearum NFM421 → Proteome ID: UP000006692 (Reference: False, via: taxid)\n",
      "✅ Streptomyces griseoaurantiacus M045 → Proteome ID: UP000003022 (Reference: False, via: name)\n"
     ]
    },
    {
     "name": "stderr",
     "output_type": "stream",
     "text": [
      " 50%|█████     | 886/1759 [01:51<02:28,  5.86it/s]"
     ]
    },
    {
     "name": "stdout",
     "output_type": "stream",
     "text": [
      "❌ No proteome found for: Salmonella enterica subsp. enterica serovar Newport str. WA_14882 (Taxon ID: 997339)\n",
      "✅ Paenibacillus mucilaginosus K02 → Proteome ID: UP000007392 (Reference: False, via: name)\n"
     ]
    },
    {
     "name": "stderr",
     "output_type": "stream",
     "text": [
      " 50%|█████     | 888/1759 [01:51<02:03,  7.07it/s]"
     ]
    },
    {
     "name": "stdout",
     "output_type": "stream",
     "text": [
      "✅ Bacteroides caccae CL03T12C61 → Proteome ID: UP000002965 (Reference: False, via: name)\n",
      "✅ Bacteroides cellulosilyticus CL02T12C19 → Proteome ID: UP000003741 (Reference: False, via: name)\n",
      "✅ Phocaeicola dorei CL02T12C06 → Proteome ID: UP000005974 (Reference: False, via: name)\n"
     ]
    },
    {
     "name": "stderr",
     "output_type": "stream",
     "text": [
      " 51%|█████     | 890/1759 [01:51<01:54,  7.59it/s]"
     ]
    },
    {
     "name": "stdout",
     "output_type": "stream",
     "text": [
      "✅ Phocaeicola dorei CL03T12C01 → Proteome ID: UP000004019 (Reference: False, via: name)\n",
      "✅ Bacteroides fragilis CL05T12C13 → Proteome ID: UP000003917 (Reference: False, via: name)\n",
      "✅ Bacteroides fragilis CL07T12C05 → Proteome ID: UP000003879 (Reference: False, via: name)\n"
     ]
    },
    {
     "name": "stderr",
     "output_type": "stream",
     "text": [
      " 51%|█████     | 894/1759 [01:52<01:37,  8.90it/s]"
     ]
    },
    {
     "name": "stdout",
     "output_type": "stream",
     "text": [
      "✅ Bacteroides nordii CL02T12C05 → Proteome ID: UP000003089 (Reference: False, via: name)\n",
      "✅ Bacteroides salyersiae CL02T12C01 → Proteome ID: UP000005150 (Reference: False, via: name)\n"
     ]
    },
    {
     "name": "stderr",
     "output_type": "stream",
     "text": [
      " 51%|█████     | 897/1759 [01:52<02:03,  6.96it/s]"
     ]
    },
    {
     "name": "stdout",
     "output_type": "stream",
     "text": [
      "✅ Bacteroides finegoldii CL09T03C10 → Proteome ID: UP000007995 (Reference: False, via: name)\n",
      "✅ Phocaeicola vulgatus CL09T03C04 → Proteome ID: UP000004219 (Reference: False, via: name)\n",
      "✅ Bacteroides xylanisolvens CL03T12C04 → Proteome ID: UP000003566 (Reference: False, via: name)\n"
     ]
    },
    {
     "name": "stderr",
     "output_type": "stream",
     "text": [
      " 51%|█████     | 899/1759 [01:53<01:55,  7.47it/s]"
     ]
    },
    {
     "name": "stdout",
     "output_type": "stream",
     "text": [
      "✅ Enterocloster bolteae 90A9 → Proteome ID: UP000013126 (Reference: False, via: name)\n",
      "✅ Enterocloster bolteae 90B8 → Proteome ID: UP000013041 (Reference: False, via: name)\n"
     ]
    },
    {
     "name": "stderr",
     "output_type": "stream",
     "text": [
      " 51%|█████     | 900/1759 [01:53<02:05,  6.87it/s]"
     ]
    },
    {
     "name": "stdout",
     "output_type": "stream",
     "text": [
      "✅ [Clostridium] clostridioforme 90A6 → Proteome ID: UP000013180 (Reference: False, via: taxid)\n",
      "✅ [Clostridium] clostridioforme 90A8 → Proteome ID: UP000013085 (Reference: False, via: taxid)\n"
     ]
    },
    {
     "name": "stderr",
     "output_type": "stream",
     "text": [
      " 51%|█████▏    | 902/1759 [01:53<02:55,  4.87it/s]"
     ]
    },
    {
     "name": "stdout",
     "output_type": "stream",
     "text": [
      "✅ Parabacteroides distasonis CL09T03C24 → Proteome ID: UP000006262 (Reference: False, via: name)\n",
      "✅ Parabacteroides goldsteinii CL02T12C30 → Proteome ID: UP000006330 (Reference: False, via: name)\n"
     ]
    },
    {
     "name": "stderr",
     "output_type": "stream",
     "text": [
      " 51%|█████▏    | 905/1759 [01:54<02:11,  6.52it/s]"
     ]
    },
    {
     "name": "stdout",
     "output_type": "stream",
     "text": [
      "✅ Parabacteroides merdae CL03T12C32 → Proteome ID: UP000006271 (Reference: False, via: name)\n",
      "✅ Burkholderia gladioli BSR3 → Proteome ID: UP000008316 (Reference: False, via: name)\n"
     ]
    },
    {
     "name": "stderr",
     "output_type": "stream",
     "text": [
      " 52%|█████▏    | 908/1759 [01:54<01:43,  8.23it/s]"
     ]
    },
    {
     "name": "stdout",
     "output_type": "stream",
     "text": [
      "✅ Leisingera methylohalidivorans DSM 14336 → Proteome ID: UP000018780 (Reference: False, via: name)\n",
      "✅ Sporisorium reilianum SRZ2 → Proteome ID: UP000008867 (Reference: False, via: name)\n",
      "✅ Botrytis cinerea T4 → Proteome ID: UP000008177 (Reference: False, via: name)\n"
     ]
    },
    {
     "name": "stderr",
     "output_type": "stream",
     "text": [
      " 52%|█████▏    | 910/1759 [01:54<01:34,  8.94it/s]"
     ]
    },
    {
     "name": "stdout",
     "output_type": "stream",
     "text": [
      "✅ Methyloversatilis universalis FAM5 → Proteome ID: UP000005019 (Reference: False, via: name)\n",
      "✅ Hafnia alvei ATCC 51873 → Proteome ID: UP000005959 (Reference: False, via: name)\n",
      "✅ Streptantibioticus cattleyicolor NRRL 8057 = DSM 46488 → Proteome ID: UP000007842 (Reference: False, via: name)\n"
     ]
    },
    {
     "name": "stderr",
     "output_type": "stream",
     "text": [
      " 52%|█████▏    | 914/1759 [01:55<01:28,  9.57it/s]"
     ]
    },
    {
     "name": "stdout",
     "output_type": "stream",
     "text": [
      "✅ Achromobacter insuavis AXX-A → Proteome ID: UP000004853 (Reference: False, via: name)\n",
      "✅ Kluyveromyces marxianus DMKU3-1042 → Proteome ID: UP000065495 (Reference: False, via: name)\n",
      "✅ Photorhabdus khanii NC19 → Proteome ID: UP000018957 (Reference: False, via: name)\n"
     ]
    },
    {
     "name": "stderr",
     "output_type": "stream",
     "text": [
      " 52%|█████▏    | 916/1759 [01:55<01:38,  8.53it/s]"
     ]
    },
    {
     "name": "stdout",
     "output_type": "stream",
     "text": [
      "✅ Alteromonas macleodii str. 'English Channel 673' → Proteome ID: UP000006296 (Reference: False, via: taxid)\n",
      "✅ Collimonas fungivorans Ter331 → Proteome ID: UP000008392 (Reference: False, via: name)\n"
     ]
    },
    {
     "name": "stderr",
     "output_type": "stream",
     "text": [
      " 52%|█████▏    | 918/1759 [01:55<01:31,  9.19it/s]"
     ]
    },
    {
     "name": "stdout",
     "output_type": "stream",
     "text": [
      "✅ Pseudomonas bharatica CSV86 → Proteome ID: UP000010448 (Reference: False, via: name)\n",
      "✅ Escherichia coli EC1870 → Proteome ID: UP000006789 (Reference: False, via: name)\n",
      "✅ Trabulsiella guamensis ATCC 49490 → Proteome ID: UP000028630 (Reference: False, via: name)\n"
     ]
    },
    {
     "name": "stderr",
     "output_type": "stream",
     "text": [
      " 52%|█████▏    | 922/1759 [01:55<01:24,  9.90it/s]"
     ]
    },
    {
     "name": "stdout",
     "output_type": "stream",
     "text": [
      "✅ Buttiauxella agrestis ATCC 33320 → Proteome ID: UP000028653 (Reference: False, via: name)\n",
      "✅ Priestia megaterium WSH-002 → Proteome ID: UP000001283 (Reference: False, via: name)\n",
      "✅ Klebsiella michiganensis KCTC 1686 → Proteome ID: UP000007843 (Reference: False, via: name)\n"
     ]
    },
    {
     "name": "stderr",
     "output_type": "stream",
     "text": [
      " 52%|█████▏    | 923/1759 [01:56<01:25,  9.81it/s]"
     ]
    },
    {
     "name": "stdout",
     "output_type": "stream",
     "text": [
      "✅ Burkholderia cepacia GG4 → Proteome ID: UP000032866 (Reference: False, via: name)\n",
      "✅ Salmonella enterica subsp. enterica serovar Paratyphi B str. SPB7 → Proteome ID: UP000008556 (Reference: False, via: taxid)\n"
     ]
    },
    {
     "name": "stderr",
     "output_type": "stream",
     "text": [
      " 53%|█████▎    | 926/1759 [01:56<01:34,  8.78it/s]"
     ]
    },
    {
     "name": "stdout",
     "output_type": "stream",
     "text": [
      "✅ Nannochloropsis salina CCMP1776 → Proteome ID: UP000355283 (Reference: False, via: name)\n",
      "✅ Gordonia alkanivorans NBRC 16433 → Proteome ID: UP000003558 (Reference: False, via: name)\n",
      "✅ Klebsiella aerogenes KCTC 2190 → Proteome ID: UP000008881 (Reference: False, via: name)\n"
     ]
    },
    {
     "name": "stderr",
     "output_type": "stream",
     "text": [
      " 53%|█████▎    | 928/1759 [01:56<01:27,  9.55it/s]"
     ]
    },
    {
     "name": "stdout",
     "output_type": "stream",
     "text": [
      "✅ Fusarium pseudograminearum CS3096 → Proteome ID: UP000007978 (Reference: False, via: name)\n",
      "✅ Neorhizobium galegae bv. orientalis str. HAMBI 540 → Proteome ID: UP000028181 (Reference: False, via: name)\n",
      "✅ Neorhizobium galegae bv. officinalis bv. officinalis str. HAMBI 1141 → Proteome ID: UP000028186 (Reference: False, via: name)\n"
     ]
    },
    {
     "name": "stderr",
     "output_type": "stream",
     "text": [
      " 53%|█████▎    | 932/1759 [01:57<01:34,  8.77it/s]"
     ]
    },
    {
     "name": "stdout",
     "output_type": "stream",
     "text": [
      "✅ Ralstonia solanacearum Po82 → Proteome ID: UP000007953 (Reference: False, via: name)\n",
      "✅ Microlunatus phosphovorus NM-1 → Proteome ID: UP000007947 (Reference: False, via: name)\n"
     ]
    },
    {
     "name": "stderr",
     "output_type": "stream",
     "text": [
      " 53%|█████▎    | 934/1759 [01:57<01:28,  9.31it/s]"
     ]
    },
    {
     "name": "stdout",
     "output_type": "stream",
     "text": [
      "✅ Plasmodium vivax Brazil I → Proteome ID: UP000053327 (Reference: False, via: name)\n",
      "✅ Ceratocystis fimbriata CBS 114723 → Proteome ID: UP000222788 (Reference: False, via: name)\n",
      "✅ Plasmodium vivax North Korean → Proteome ID: UP000053239 (Reference: False, via: name)\n"
     ]
    },
    {
     "name": "stderr",
     "output_type": "stream",
     "text": [
      " 53%|█████▎    | 938/1759 [01:57<01:20, 10.21it/s]"
     ]
    },
    {
     "name": "stdout",
     "output_type": "stream",
     "text": [
      "✅ Plasmodium vivax Mauritania I → Proteome ID: UP000053776 (Reference: False, via: name)\n",
      "✅ Aspergillus versicolor CBS 583.65 → Proteome ID: UP000184073 (Reference: False, via: name)\n",
      "✅ Aspergillus sydowii CBS 593.65 → Proteome ID: UP000184356 (Reference: False, via: name)\n"
     ]
    },
    {
     "name": "stderr",
     "output_type": "stream",
     "text": [
      " 53%|█████▎    | 940/1759 [01:57<01:38,  8.28it/s]"
     ]
    },
    {
     "name": "stdout",
     "output_type": "stream",
     "text": [
      "✅ Advenella kashmirensis WT001 → Proteome ID: UP000005267 (Reference: False, via: name)\n",
      "✅ Paenibacillus mucilaginosus KNP414 → Proteome ID: UP000006620 (Reference: False, via: name)\n",
      "✅ Plasmodium falciparum Vietnam Oak-Knoll (FVO) → Proteome ID: UP000030690 (Reference: False, via: name)\n"
     ]
    },
    {
     "name": "stderr",
     "output_type": "stream",
     "text": [
      " 54%|█████▎    | 943/1759 [01:58<01:31,  8.93it/s]"
     ]
    },
    {
     "name": "stdout",
     "output_type": "stream",
     "text": [
      "✅ Plasmodium falciparum FCH/4 → Proteome ID: UP000030656 (Reference: False, via: name)\n",
      "✅ Plasmodium falciparum Tanzania (2000708) → Proteome ID: UP000030708 (Reference: False, via: name)\n"
     ]
    },
    {
     "name": "stderr",
     "output_type": "stream",
     "text": [
      " 54%|█████▍    | 946/1759 [01:58<01:29,  9.07it/s]"
     ]
    },
    {
     "name": "stdout",
     "output_type": "stream",
     "text": [
      "✅ Plasmodium falciparum NF135/5.C10 → Proteome ID: UP000019114 (Reference: False, via: name)\n",
      "✅ Plasmodium falciparum MaliPS096_E11 → Proteome ID: UP000030699 (Reference: False, via: name)\n",
      "✅ Scleroderma citrinum Foug A → Proteome ID: UP000053989 (Reference: False, via: name)\n"
     ]
    },
    {
     "name": "stderr",
     "output_type": "stream",
     "text": [
      " 54%|█████▍    | 948/1759 [01:58<01:24,  9.63it/s]"
     ]
    },
    {
     "name": "stdout",
     "output_type": "stream",
     "text": [
      "✅ Tilletiaria anomala UBC 951 → Proteome ID: UP000027361 (Reference: False, via: name)\n",
      "✅ Pseudomonas chlororaphis O6 → Proteome ID: UP000003790 (Reference: False, via: name)\n"
     ]
    },
    {
     "name": "stderr",
     "output_type": "stream",
     "text": [
      " 54%|█████▍    | 950/1759 [01:59<01:40,  8.05it/s]"
     ]
    },
    {
     "name": "stdout",
     "output_type": "stream",
     "text": [
      "✅ Pseudomonas fluorescens Q2-87 → Proteome ID: UP000007289 (Reference: False, via: name)\n",
      "✅ Rhizobium gallicum bv. gallicum R602sp → Proteome ID: UP000031368 (Reference: False, via: name)\n",
      "✅ Mycobacterium colombiense CECT 3035 → Proteome ID: UP000006455 (Reference: False, via: name)\n"
     ]
    },
    {
     "name": "stderr",
     "output_type": "stream",
     "text": [
      " 54%|█████▍    | 954/1759 [01:59<01:40,  8.04it/s]"
     ]
    },
    {
     "name": "stdout",
     "output_type": "stream",
     "text": [
      "✅ Pseudomonas fluorescens HK44 → Proteome ID: UP000022611 (Reference: False, via: name)\n",
      "✅ Trichoderma asperellum CBS 433.97 → Proteome ID: UP000240493 (Reference: False, via: name)\n",
      "✅ Cupriavidus necator N-1 → Proteome ID: UP000006798 (Reference: False, via: name)\n"
     ]
    },
    {
     "name": "stderr",
     "output_type": "stream",
     "text": [
      " 54%|█████▍    | 955/1759 [01:59<01:38,  8.17it/s]"
     ]
    },
    {
     "name": "stdout",
     "output_type": "stream",
     "text": [
      "✅ Aureobasidium pullulans EXF-150 → Proteome ID: UP000030706 (Reference: False, via: name)\n",
      "✅ Aureobasidium melanogenum CBS 110374 → Proteome ID: UP000030672 (Reference: False, via: name)\n",
      "✅ Aureobasidium namibiae CBS 147.97 → Proteome ID: UP000027730 (Reference: False, via: name)\n"
     ]
    },
    {
     "name": "stderr",
     "output_type": "stream",
     "text": [
      " 55%|█████▍    | 959/1759 [02:00<01:33,  8.52it/s]"
     ]
    },
    {
     "name": "stdout",
     "output_type": "stream",
     "text": [
      "✅ Aureobasidium subglaciale EXF-2481 → Proteome ID: UP000030641 (Reference: False, via: name)\n",
      "✅ Hirsutella minnesotensis 3608 → Proteome ID: UP000054481 (Reference: False, via: name)\n"
     ]
    },
    {
     "name": "stderr",
     "output_type": "stream",
     "text": [
      " 55%|█████▍    | 961/1759 [02:00<01:32,  8.62it/s]"
     ]
    },
    {
     "name": "stdout",
     "output_type": "stream",
     "text": [
      "✅ Drechslerella stenobrocha 248 → Proteome ID: UP000024837 (Reference: False, via: name)\n",
      "✅ Vibrio tubiashii ATCC 19109 → Proteome ID: UP000030071 (Reference: False, via: name)\n",
      "✅ Terfezia boudieri ATCC MYA-4762 → Proteome ID: UP000267821 (Reference: False, via: name)\n"
     ]
    },
    {
     "name": "stderr",
     "output_type": "stream",
     "text": [
      " 55%|█████▍    | 964/1759 [02:00<01:32,  8.63it/s]"
     ]
    },
    {
     "name": "stdout",
     "output_type": "stream",
     "text": [
      "✅ Tulasnella calospora MUT 4182 → Proteome ID: UP000054248 (Reference: False, via: name)\n",
      "✅ Bacillus cereus HuA2-1 → Proteome ID: UP000004136 (Reference: False, via: name)\n"
     ]
    },
    {
     "name": "stderr",
     "output_type": "stream",
     "text": [
      " 55%|█████▍    | 967/1759 [02:01<01:25,  9.30it/s]"
     ]
    },
    {
     "name": "stdout",
     "output_type": "stream",
     "text": [
      "✅ Bacillus cereus HuA3-9 → Proteome ID: UP000014003 (Reference: False, via: name)\n",
      "✅ Bacillus cereus HuA4-10 → Proteome ID: UP000006977 (Reference: False, via: name)\n",
      "✅ Bacillus cereus HuB4-4 → Proteome ID: UP000014009 (Reference: False, via: name)\n"
     ]
    },
    {
     "name": "stderr",
     "output_type": "stream",
     "text": [
      " 55%|█████▌    | 969/1759 [02:01<01:24,  9.36it/s]"
     ]
    },
    {
     "name": "stdout",
     "output_type": "stream",
     "text": [
      "✅ Bacillus cereus ISP2954 → Proteome ID: UP000013989 (Reference: False, via: name)\n",
      "✅ Bacillus cereus VD014 → Proteome ID: UP000006607 (Reference: False, via: name)\n"
     ]
    },
    {
     "name": "stderr",
     "output_type": "stream",
     "text": [
      " 55%|█████▌    | 970/1759 [02:01<01:27,  9.02it/s]"
     ]
    },
    {
     "name": "stdout",
     "output_type": "stream",
     "text": [
      "✅ Bacillus cereus VD021 → Proteome ID: UP000014040 (Reference: False, via: name)\n",
      "✅ Bacillus cereus VD118 → Proteome ID: UP000014019 (Reference: False, via: name)\n",
      "✅ Bacillus cereus VD133 → Proteome ID: UP000014018 (Reference: False, via: name)\n"
     ]
    },
    {
     "name": "stderr",
     "output_type": "stream",
     "text": [
      " 55%|█████▌    | 974/1759 [02:01<01:30,  8.70it/s]"
     ]
    },
    {
     "name": "stdout",
     "output_type": "stream",
     "text": [
      "✅ Bacillus cereus VD154 → Proteome ID: UP000006967 (Reference: False, via: name)\n",
      "✅ Bacillus cereus VD184 → Proteome ID: UP000014028 (Reference: False, via: name)\n"
     ]
    },
    {
     "name": "stderr",
     "output_type": "stream",
     "text": [
      " 55%|█████▌    | 975/1759 [02:01<01:35,  8.24it/s]"
     ]
    },
    {
     "name": "stdout",
     "output_type": "stream",
     "text": [
      "✅ Bacillus cereus VD196 → Proteome ID: UP000014023 (Reference: False, via: name)\n"
     ]
    },
    {
     "name": "stderr",
     "output_type": "stream",
     "text": [
      " 56%|█████▌    | 977/1759 [02:02<01:57,  6.66it/s]"
     ]
    },
    {
     "name": "stdout",
     "output_type": "stream",
     "text": [
      "✅ Streptomyces bottropensis ATCC 25435 → Proteome ID: UP000030760 (Reference: False, via: name)\n",
      "✅ Escherichia coli O26 str. RM8426 → Proteome ID: UP000245156 (Reference: False, via: name)\n",
      "✅ Trypanosoma vivax Y486 → Proteome ID: UP000009027 (Reference: False, via: name)\n"
     ]
    },
    {
     "name": "stderr",
     "output_type": "stream",
     "text": [
      " 56%|█████▌    | 980/1759 [02:02<01:37,  7.99it/s]"
     ]
    },
    {
     "name": "stdout",
     "output_type": "stream",
     "text": [
      "✅ Trypanosoma congolense IL3000 → Proteome ID: UP000000702 (Reference: False, via: name)\n",
      "✅ Amycolatopsis methanolica 239 → Proteome ID: UP000062973 (Reference: False, via: name)\n"
     ]
    },
    {
     "name": "stderr",
     "output_type": "stream",
     "text": [
      " 56%|█████▌    | 982/1759 [02:02<01:28,  8.74it/s]"
     ]
    },
    {
     "name": "stdout",
     "output_type": "stream",
     "text": [
      "✅ Bdellovibrio bacteriovorus str. Tiberius → Proteome ID: UP000010074 (Reference: False, via: name)\n",
      "✅ Naumovozyma dairenensis CBS 421 → Proteome ID: UP000000689 (Reference: False, via: name)\n"
     ]
    },
    {
     "name": "stderr",
     "output_type": "stream",
     "text": [
      " 56%|█████▌    | 984/1759 [02:03<01:33,  8.30it/s]"
     ]
    },
    {
     "name": "stdout",
     "output_type": "stream",
     "text": [
      "✅ Henningerozyma blattae CBS 6284 → Proteome ID: UP000002866 (Reference: False, via: name)\n",
      "✅ Tetrapisispora phaffii CBS 4417 → Proteome ID: UP000005666 (Reference: False, via: name)\n"
     ]
    },
    {
     "name": "stderr",
     "output_type": "stream",
     "text": [
      " 56%|█████▌    | 986/1759 [02:03<01:38,  7.83it/s]"
     ]
    },
    {
     "name": "stdout",
     "output_type": "stream",
     "text": [
      "✅ Kazachstania africana CBS 2517 → Proteome ID: UP000005220 (Reference: False, via: name)\n",
      "✅ Huiozyma naganishii CBS 8797 → Proteome ID: UP000006310 (Reference: False, via: name)\n"
     ]
    },
    {
     "name": "stderr",
     "output_type": "stream",
     "text": [
      " 56%|█████▌    | 988/1759 [02:03<01:30,  8.49it/s]"
     ]
    },
    {
     "name": "stdout",
     "output_type": "stream",
     "text": [
      "✅ Drepanopeziza brunnea f. sp. 'multigermtubi' MB_m1 → Proteome ID: UP000006753 (Reference: False, via: name)\n",
      "✅ Aspergillus wentii DTO 134E9 → Proteome ID: UP000184383 (Reference: False, via: name)\n",
      "✅ Penicilliopsis zonata CBS 506.65 → Proteome ID: UP000184188 (Reference: False, via: name)\n"
     ]
    },
    {
     "name": "stderr",
     "output_type": "stream",
     "text": [
      " 56%|█████▋    | 992/1759 [02:03<01:19,  9.65it/s]"
     ]
    },
    {
     "name": "stdout",
     "output_type": "stream",
     "text": [
      "✅ Aeromonas veronii AMC34 → Proteome ID: UP000006087 (Reference: False, via: name)\n",
      "✅ Paenibacillus riograndensis SBR5 → Proteome ID: UP000033163 (Reference: False, via: name)\n",
      "✅ Gordonia araii NBRC 100433 → Proteome ID: UP000035088 (Reference: False, via: name)\n"
     ]
    },
    {
     "name": "stderr",
     "output_type": "stream",
     "text": [
      " 57%|█████▋    | 994/1759 [02:04<01:15, 10.07it/s]"
     ]
    },
    {
     "name": "stdout",
     "output_type": "stream",
     "text": [
      "✅ Cronobacter condimenti 1330 → Proteome ID: UP000009340 (Reference: False, via: name)\n",
      "✅ Cronobacter universalis NCTC 9529 → Proteome ID: UP000061974 (Reference: False, via: name)\n",
      "✅ Toxoplasma gondii ARI → Proteome ID: UP000074247 (Reference: False, via: name)\n"
     ]
    },
    {
     "name": "stderr",
     "output_type": "stream",
     "text": [
      " 57%|█████▋    | 998/1759 [02:04<01:14, 10.25it/s]"
     ]
    },
    {
     "name": "stdout",
     "output_type": "stream",
     "text": [
      "✅ Toxoplasma gondii COUG → Proteome ID: UP000236343 (Reference: False, via: name)\n",
      "✅ Gordonia amarae NBRC 15530 → Proteome ID: UP000006023 (Reference: False, via: name)\n",
      "✅ Entamoeba nuttalli P19 → Proteome ID: UP000006769 (Reference: False, via: name)\n"
     ]
    },
    {
     "name": "stderr",
     "output_type": "stream",
     "text": [
      " 57%|█████▋    | 1000/1759 [02:04<01:13, 10.35it/s]"
     ]
    },
    {
     "name": "stdout",
     "output_type": "stream",
     "text": [
      "✅ Pyronema omphalodes CBS 100304 → Proteome ID: UP000018144 (Reference: False, via: name)\n",
      "✅ Plasmodium vivax India VII → Proteome ID: UP000053562 (Reference: False, via: name)\n",
      "✅ Ganoderma sinense ZZ0214-1 → Proteome ID: UP000230002 (Reference: False, via: name)\n"
     ]
    },
    {
     "name": "stderr",
     "output_type": "stream",
     "text": [
      " 57%|█████▋    | 1004/1759 [02:05<01:11, 10.62it/s]"
     ]
    },
    {
     "name": "stdout",
     "output_type": "stream",
     "text": [
      "✅ Talaromyces marneffei PM1 → Proteome ID: UP000029285 (Reference: False, via: name)\n",
      "✅ Arthrobacter globiformis NBRC 12137 → Proteome ID: UP000003828 (Reference: False, via: name)\n",
      "✅ Gordonia effusa NBRC 100432 → Proteome ID: UP000035034 (Reference: False, via: name)\n"
     ]
    },
    {
     "name": "stderr",
     "output_type": "stream",
     "text": [
      " 57%|█████▋    | 1006/1759 [02:05<01:10, 10.75it/s]"
     ]
    },
    {
     "name": "stdout",
     "output_type": "stream",
     "text": [
      "✅ Mycolicibacterium thermoresistibile ATCC 19527 → Proteome ID: UP000004915 (Reference: False, via: name)\n",
      "✅ Rhizobium mongolense USDA 1844 → Proteome ID: UP000319824 (Reference: False, via: name)\n",
      "✅ Streptomyces chartreusis NRRL 3882 → Proteome ID: UP000235464 (Reference: False, via: name)\n"
     ]
    },
    {
     "name": "stderr",
     "output_type": "stream",
     "text": [
      " 57%|█████▋    | 1010/1759 [02:05<01:09, 10.77it/s]"
     ]
    },
    {
     "name": "stdout",
     "output_type": "stream",
     "text": [
      "✅ Zasmidium cellare ATCC 36951 → Proteome ID: UP000799537 (Reference: False, via: name)\n",
      "✅ Fusarium oxysporum f. sp. pisi HDV247 → Proteome ID: UP000030751 (Reference: False, via: name)\n",
      "✅ Amycolatopsis balhimycina DSM 5908 → Proteome ID: UP000286716 (Reference: False, via: name)\n"
     ]
    },
    {
     "name": "stderr",
     "output_type": "stream",
     "text": [
      " 58%|█████▊    | 1012/1759 [02:05<01:10, 10.65it/s]"
     ]
    },
    {
     "name": "stdout",
     "output_type": "stream",
     "text": [
      "✅ Niveomyces insectorum RCEF 264 → Proteome ID: UP000076874 (Reference: False, via: name)\n",
      "✅ Metarhizium album ARSEF 1941 → Proteome ID: UP000030816 (Reference: False, via: name)\n",
      "✅ Cordyceps fumosorosea ARSEF 2679 → Proteome ID: UP000076744 (Reference: False, via: name)\n"
     ]
    },
    {
     "name": "stderr",
     "output_type": "stream",
     "text": [
      " 58%|█████▊    | 1014/1759 [02:06<01:08, 10.89it/s]"
     ]
    },
    {
     "name": "stdout",
     "output_type": "stream",
     "text": [
      "✅ Beauveria brongniartii RCEF 3172 → Proteome ID: UP000076863 (Reference: False, via: name)\n",
      "✅ Akanthomyces lecanii RCEF 1005 → Proteome ID: UP000076881 (Reference: False, via: name)\n"
     ]
    },
    {
     "name": "stderr",
     "output_type": "stream",
     "text": [
      " 58%|█████▊    | 1018/1759 [02:06<01:08, 10.84it/s]"
     ]
    },
    {
     "name": "stdout",
     "output_type": "stream",
     "text": [
      "✅ Moelleriella libera RCEF 2490 → Proteome ID: UP000078544 (Reference: False, via: name)\n",
      "✅ Streptomyces albus subsp. albus DSM 41398 → Proteome ID: UP000031523 (Reference: False, via: name)\n",
      "✅ Mesorhizobium amorphae CCNWGS0123 → Proteome ID: UP000002949 (Reference: False, via: name)\n"
     ]
    },
    {
     "name": "stderr",
     "output_type": "stream",
     "text": [
      " 58%|█████▊    | 1020/1759 [02:06<01:07, 10.90it/s]"
     ]
    },
    {
     "name": "stdout",
     "output_type": "stream",
     "text": [
      "✅ Anabaenopsis circularis NIES-21 → Proteome ID: UP000218287 (Reference: False, via: name)\n",
      "✅ Rhizoctonia solani AG-3 Rhs1AP → Proteome ID: UP000030108 (Reference: False, via: name)\n",
      "✅ Novosphingobium pentaromativorans US6-1 → Proteome ID: UP000004030 (Reference: False, via: name)\n"
     ]
    },
    {
     "name": "stderr",
     "output_type": "stream",
     "text": [
      " 58%|█████▊    | 1024/1759 [02:06<01:08, 10.74it/s]"
     ]
    },
    {
     "name": "stdout",
     "output_type": "stream",
     "text": [
      "✅ Fusarium oxysporum f. sp. vasinfectum 25433 → Proteome ID: UP000030701 (Reference: False, via: name)\n",
      "✅ Fusarium odoratissimum NRRL 54006 → Proteome ID: UP000030685 (Reference: False, via: name)\n",
      "✅ Fusarium oxysporum f. sp. melonis 26406 → Proteome ID: UP000030703 (Reference: False, via: name)\n"
     ]
    },
    {
     "name": "stderr",
     "output_type": "stream",
     "text": [
      " 58%|█████▊    | 1026/1759 [02:07<01:07, 10.80it/s]"
     ]
    },
    {
     "name": "stdout",
     "output_type": "stream",
     "text": [
      "✅ Gordonia sputi NBRC 100414 → Proteome ID: UP000005845 (Reference: False, via: name)\n",
      "✅ Fusarium oxysporum f. sp. conglutinans race 2 54008 → Proteome ID: UP000030676 (Reference: False, via: name)\n",
      "✅ Fusarium oxysporum f. sp. raphani 54005 → Proteome ID: UP000030663 (Reference: False, via: name)\n"
     ]
    },
    {
     "name": "stderr",
     "output_type": "stream",
     "text": [
      " 59%|█████▊    | 1030/1759 [02:07<01:07, 10.75it/s]"
     ]
    },
    {
     "name": "stdout",
     "output_type": "stream",
     "text": [
      "✅ Ralstonia solanacearum K60 → Proteome ID: UP000003425 (Reference: False, via: name)\n",
      "✅ Methylotuvimicrobium alcaliphilum 20Z → Proteome ID: UP000008315 (Reference: False, via: name)\n",
      "✅ Xanthomonas vasicola pv. musacearum NCPPB 2005 → Proteome ID: UP000028168 (Reference: False, via: name)\n"
     ]
    },
    {
     "name": "stderr",
     "output_type": "stream",
     "text": [
      " 59%|█████▊    | 1032/1759 [02:07<01:08, 10.60it/s]"
     ]
    },
    {
     "name": "stdout",
     "output_type": "stream",
     "text": [
      "✅ Phytophthora sojae strain P6497 → Proteome ID: UP000002640 (Reference: False, via: name)\n",
      "✅ Marinobacter manganoxydans MnI7-9 → Proteome ID: UP000003208 (Reference: False, via: name)\n"
     ]
    },
    {
     "name": "stderr",
     "output_type": "stream",
     "text": [
      " 59%|█████▉    | 1034/1759 [02:07<01:10, 10.29it/s]"
     ]
    },
    {
     "name": "stdout",
     "output_type": "stream",
     "text": [
      "✅ Candida albicans P78048 → Proteome ID: UP000030161 (Reference: False, via: name)\n",
      "✅ Laccaria amethystina LaAM-08-1 → Proteome ID: UP000054477 (Reference: False, via: name)\n",
      "✅ Hyaloscypha bicolor E → Proteome ID: UP000235371 (Reference: False, via: name)\n"
     ]
    },
    {
     "name": "stderr",
     "output_type": "stream",
     "text": [
      " 59%|█████▉    | 1038/1759 [02:08<01:09, 10.41it/s]"
     ]
    },
    {
     "name": "stdout",
     "output_type": "stream",
     "text": [
      "✅ Saccharomyces cerevisiae x Saccharomyces kudriavzevii VIN7 → Proteome ID: UP000009009 (Reference: False, via: name)\n",
      "✅ Novosphingobium lindaniclasticum LE124 → Proteome ID: UP000015527 (Reference: False, via: name)\n",
      "✅ Taphrina deformans PYCC 5710 → Proteome ID: UP000013776 (Reference: False, via: name)\n"
     ]
    },
    {
     "name": "stderr",
     "output_type": "stream",
     "text": [
      " 59%|█████▉    | 1040/1759 [02:08<01:09, 10.36it/s]"
     ]
    },
    {
     "name": "stdout",
     "output_type": "stream",
     "text": [
      "✅ Glarea lozoyensis 74030 → Proteome ID: UP000005446 (Reference: False, via: name)\n",
      "✅ Sinorhizobium meliloti CCNWSX0020 → Proteome ID: UP000004038 (Reference: False, via: name)\n",
      "✅ Mesorhizobium alhagi CCNWXJ12-2 → Proteome ID: UP000003250 (Reference: False, via: name)\n"
     ]
    },
    {
     "name": "stderr",
     "output_type": "stream",
     "text": [
      " 59%|█████▉    | 1044/1759 [02:08<01:06, 10.70it/s]"
     ]
    },
    {
     "name": "stdout",
     "output_type": "stream",
     "text": [
      "✅ Gordonia otitidis NBRC 100426 → Proteome ID: UP000005038 (Reference: False, via: name)\n",
      "✅ Gordonia rhizosphera NBRC 16068 → Proteome ID: UP000008363 (Reference: False, via: name)\n",
      "✅ Serendipita indica DSM 11827 → Proteome ID: UP000007148 (Reference: False, via: name)\n"
     ]
    },
    {
     "name": "stderr",
     "output_type": "stream",
     "text": [
      " 59%|█████▉    | 1046/1759 [02:09<01:07, 10.57it/s]"
     ]
    },
    {
     "name": "stdout",
     "output_type": "stream",
     "text": [
      "✅ Tistrella mobilis KA081020-065 → Proteome ID: UP000005258 (Reference: False, via: name)\n",
      "✅ Nocardia asteroides NBRC 15531 → Proteome ID: UP000017048 (Reference: False, via: name)\n"
     ]
    },
    {
     "name": "stderr",
     "output_type": "stream",
     "text": [
      " 60%|█████▉    | 1048/1759 [02:09<01:06, 10.68it/s]"
     ]
    },
    {
     "name": "stdout",
     "output_type": "stream",
     "text": [
      "✅ Rhodoferax antarcticus ANT.BR → Proteome ID: UP000185911 (Reference: False, via: name)\n",
      "✅ Claviceps purpurea 20.1 → Proteome ID: UP000016801 (Reference: False, via: name)\n",
      "✅ Gordonia polyisoprenivorans VH2 → Proteome ID: UP000009154 (Reference: False, via: name)\n"
     ]
    },
    {
     "name": "stderr",
     "output_type": "stream",
     "text": [
      " 60%|█████▉    | 1052/1759 [02:09<01:05, 10.84it/s]"
     ]
    },
    {
     "name": "stdout",
     "output_type": "stream",
     "text": [
      "✅ Streptomyces tsukubensis NRRL18488 → Proteome ID: UP000005940 (Reference: False, via: name)\n",
      "✅ Rhodococcus pyridinivorans AK37 → Proteome ID: UP000005064 (Reference: False, via: name)\n",
      "✅ Novosphingobium barchaimii LL02 → Proteome ID: UP000052268 (Reference: False, via: name)\n"
     ]
    },
    {
     "name": "stderr",
     "output_type": "stream",
     "text": [
      " 60%|█████▉    | 1054/1759 [02:09<01:05, 10.81it/s]"
     ]
    },
    {
     "name": "stdout",
     "output_type": "stream",
     "text": [
      "✅ Sphingobium baderi LL03 → Proteome ID: UP000015524 (Reference: False, via: name)\n",
      "✅ Atlantibacter hermannii NBRC 105704 → Proteome ID: UP000010297 (Reference: False, via: name)\n",
      "✅ Pseudescherichia vulneris NBRC 102420 → Proteome ID: UP000029462 (Reference: False, via: name)\n"
     ]
    },
    {
     "name": "stderr",
     "output_type": "stream",
     "text": [
      " 60%|██████    | 1058/1759 [02:10<01:05, 10.69it/s]"
     ]
    },
    {
     "name": "stdout",
     "output_type": "stream",
     "text": [
      "✅ Escherichia coli MP021552.12 → Proteome ID: UP000012414 (Reference: False, via: name)\n",
      "✅ Glarea lozoyensis ATCC 20868 → Proteome ID: UP000016922 (Reference: False, via: name)\n",
      "✅ Devosia insulae DS-56 → Proteome ID: UP000095463 (Reference: False, via: name)\n"
     ]
    },
    {
     "name": "stderr",
     "output_type": "stream",
     "text": [
      " 60%|██████    | 1060/1759 [02:10<01:03, 11.00it/s]"
     ]
    },
    {
     "name": "stdout",
     "output_type": "stream",
     "text": [
      "✅ Paenibacillus mucilaginosus 3016 → Proteome ID: UP000007523 (Reference: False, via: name)\n",
      "✅ Pelatocladus maniniholoensis HA4357-MV3 → Proteome ID: UP000813215 (Reference: False, via: name)\n",
      "✅ Paenibacillus alvei TS-15 → Proteome ID: UP000015344 (Reference: False, via: name)\n"
     ]
    },
    {
     "name": "stderr",
     "output_type": "stream",
     "text": [
      " 60%|██████    | 1064/1759 [02:10<01:03, 10.93it/s]"
     ]
    },
    {
     "name": "stdout",
     "output_type": "stream",
     "text": [
      "✅ Pseudoalteromonas citrea DSM 8771 → Proteome ID: UP000016487 (Reference: False, via: name)\n",
      "✅ Neobacillus bataviensis LMG 21833 → Proteome ID: UP000006316 (Reference: False, via: name)\n",
      "✅ Simiduia agarivorans SA1 = DSM 21679 → Proteome ID: UP000000466 (Reference: False, via: name)\n"
     ]
    },
    {
     "name": "stderr",
     "output_type": "stream",
     "text": [
      " 61%|██████    | 1066/1759 [02:10<01:03, 10.98it/s]"
     ]
    },
    {
     "name": "stdout",
     "output_type": "stream",
     "text": [
      "✅ Sinorhizobium fredii HH103 → Proteome ID: UP000007735 (Reference: False, via: name)\n",
      "✅ Plasmodium cynomolgi strain B → Proteome ID: UP000006319 (Reference: False, via: name)\n",
      "✅ Actinomadura pelletieri DSM 43383 → Proteome ID: UP000274601 (Reference: False, via: name)\n"
     ]
    },
    {
     "name": "stderr",
     "output_type": "stream",
     "text": [
      " 61%|██████    | 1070/1759 [02:11<01:04, 10.75it/s]"
     ]
    },
    {
     "name": "stdout",
     "output_type": "stream",
     "text": [
      "✅ Andreprevotia lacus DSM 23236 → Proteome ID: UP000192761 (Reference: False, via: name)\n",
      "✅ Asticcacaulis benevestitus DSM 16100 = ATCC BAA-896 → Proteome ID: UP000017837 (Reference: False, via: name)\n",
      "✅ Parazoarcus communis SWub3 = DSM 12120 → Proteome ID: UP000248259 (Reference: False, via: name)\n"
     ]
    },
    {
     "name": "stderr",
     "output_type": "stream",
     "text": [
      " 61%|██████    | 1072/1759 [02:11<01:03, 10.89it/s]"
     ]
    },
    {
     "name": "stdout",
     "output_type": "stream",
     "text": [
      "✅ Brachymonas denitrificans DSM 15123 → Proteome ID: UP000199531 (Reference: False, via: name)\n",
      "✅ Brenneria nigrifluens DSM 30175 = ATCC 13028 → Proteome ID: UP000303847 (Reference: False, via: name)\n",
      "✅ Caenimonas koreensis DSM 17982 → Proteome ID: UP000487350 (Reference: False, via: name)\n"
     ]
    },
    {
     "name": "stderr",
     "output_type": "stream",
     "text": [
      " 61%|██████    | 1076/1759 [02:11<01:02, 10.90it/s]"
     ]
    },
    {
     "name": "stdout",
     "output_type": "stream",
     "text": [
      "✅ Chitinimonas taiwanensis DSM 18899 → Proteome ID: UP000186513 (Reference: False, via: name)\n",
      "✅ Clostridium cavendishii DSM 21758 → Proteome ID: UP000184310 (Reference: False, via: name)\n",
      "✅ Anaerocolumna jejuensis DSM 15929 → Proteome ID: UP000184386 (Reference: False, via: name)\n"
     ]
    },
    {
     "name": "stderr",
     "output_type": "stream",
     "text": [
      " 61%|██████▏   | 1078/1759 [02:11<01:04, 10.64it/s]"
     ]
    },
    {
     "name": "stdout",
     "output_type": "stream",
     "text": [
      "✅ Clostridium magnum DSM 2767 → Proteome ID: UP000076603 (Reference: False, via: name)\n",
      "✅ Ruminiclostridium sufflavum DSM 19573 → Proteome ID: UP000248132 (Reference: False, via: name)\n",
      "✅ Anaerocolumna xylanovorans DSM 12503 → Proteome ID: UP000184612 (Reference: False, via: name)\n"
     ]
    },
    {
     "name": "stderr",
     "output_type": "stream",
     "text": [
      " 61%|██████▏   | 1080/1759 [02:12<01:02, 10.87it/s]"
     ]
    },
    {
     "name": "stdout",
     "output_type": "stream",
     "text": [
      "✅ Derxia gummosa DSM 723 → Proteome ID: UP000675920 (Reference: False, via: name)\n",
      "✅ Desulfacinum infernum DSM 9756 → Proteome ID: UP000184076 (Reference: False, via: name)\n",
      "✅ Desulfatibacillum alkenivorans DSM 16219 → Proteome ID: UP000183994 (Reference: False, via: name)\n"
     ]
    },
    {
     "name": "stderr",
     "output_type": "stream",
     "text": [
      " 62%|██████▏   | 1084/1759 [02:12<01:04, 10.43it/s]"
     ]
    },
    {
     "name": "stdout",
     "output_type": "stream",
     "text": [
      "✅ Desulfitobacterium chlororespirans DSM 11544 → Proteome ID: UP000184010 (Reference: False, via: name)\n",
      "✅ Desulfocicer vacuolatum DSM 3385 → Proteome ID: UP000192418 (Reference: False, via: name)\n",
      "✅ Desulfococcus multivorans DSM 2059 → Proteome ID: UP000014977 (Reference: False, via: name)\n"
     ]
    },
    {
     "name": "stderr",
     "output_type": "stream",
     "text": [
      " 62%|██████▏   | 1088/1759 [02:12<01:03, 10.52it/s]"
     ]
    },
    {
     "name": "stdout",
     "output_type": "stream",
     "text": [
      "✅ Desulfofustis glycolicus DSM 9705 → Proteome ID: UP000184139 (Reference: False, via: name)\n",
      "✅ Desulfopila aestuarii DSM 18488 → Proteome ID: UP000184603 (Reference: False, via: name)\n",
      "✅ Desulfosporosinus hippei DSM 8344 → Proteome ID: UP000198656 (Reference: False, via: name)\n"
     ]
    },
    {
     "name": "stderr",
     "output_type": "stream",
     "text": [
      " 62%|██████▏   | 1090/1759 [02:13<01:02, 10.78it/s]"
     ]
    },
    {
     "name": "stdout",
     "output_type": "stream",
     "text": [
      "✅ Desulfosporosinus lacus DSM 15449 → Proteome ID: UP000183954 (Reference: False, via: name)\n",
      "✅ Desulfotruncus arcticus DSM 17038 → Proteome ID: UP000199337 (Reference: False, via: name)\n",
      "✅ Devosia limi DSM 17137 → Proteome ID: UP000033608 (Reference: False, via: name)\n"
     ]
    },
    {
     "name": "stderr",
     "output_type": "stream",
     "text": [
      " 62%|██████▏   | 1092/1759 [02:13<01:02, 10.63it/s]"
     ]
    },
    {
     "name": "stdout",
     "output_type": "stream",
     "text": [
      "✅ Enterovibrio nigricans DSM 22720 → Proteome ID: UP000190162 (Reference: False, via: name)\n",
      "✅ Enterovibrio norvegicus DSM 15893 → Proteome ID: UP000182692 (Reference: False, via: name)\n"
     ]
    },
    {
     "name": "stderr",
     "output_type": "stream",
     "text": [
      " 62%|██████▏   | 1096/1759 [02:13<01:04, 10.33it/s]"
     ]
    },
    {
     "name": "stdout",
     "output_type": "stream",
     "text": [
      "✅ Flavisolibacter ginsengisoli DSM 18119 → Proteome ID: UP000184048 (Reference: False, via: name)\n",
      "✅ Flavobacterium subsaxonicum WB 4.1-42 = DSM 21790 → Proteome ID: UP000030111 (Reference: False, via: name)\n",
      "✅ Glaciecola pallidula DSM 14239 = ACAM 615 → Proteome ID: UP000006251 (Reference: False, via: name)\n"
     ]
    },
    {
     "name": "stderr",
     "output_type": "stream",
     "text": [
      " 62%|██████▏   | 1098/1759 [02:13<01:03, 10.43it/s]"
     ]
    },
    {
     "name": "stdout",
     "output_type": "stream",
     "text": [
      "✅ Litchfieldella anticariensis FP35 = DSM 16096 → Proteome ID: UP000014463 (Reference: False, via: name)\n",
      "✅ Hymenobacter chitinivorans DSM 11115 → Proteome ID: UP000228535 (Reference: False, via: name)\n",
      "✅ Hymenobacter daecheongensis DSM 21074 → Proteome ID: UP000184418 (Reference: False, via: name)\n"
     ]
    },
    {
     "name": "stderr",
     "output_type": "stream",
     "text": [
      " 63%|██████▎   | 1100/1759 [02:14<01:02, 10.63it/s]"
     ]
    },
    {
     "name": "stdout",
     "output_type": "stream",
     "text": [
      "✅ Hymenobacter psychrotolerans DSM 18569 → Proteome ID: UP000183947 (Reference: False, via: name)\n",
      "✅ Kaistia soli DSM 19436 → Proteome ID: UP000184485 (Reference: False, via: name)\n"
     ]
    },
    {
     "name": "stderr",
     "output_type": "stream",
     "text": [
      " 63%|██████▎   | 1102/1759 [02:14<01:03, 10.27it/s]"
     ]
    },
    {
     "name": "stdout",
     "output_type": "stream",
     "text": [
      "✅ Lactonifactor longoviformis DSM 17459 → Proteome ID: UP000184245 (Reference: False, via: name)\n",
      "✅ Flavilitoribacter nigricans DSM 23189 = NBRC 102662 → Proteome ID: UP000223913 (Reference: False, via: name)\n",
      "✅ Marinactinospora thermotolerans DSM 45154 → Proteome ID: UP000190637 (Reference: False, via: name)\n"
     ]
    },
    {
     "name": "stderr",
     "output_type": "stream",
     "text": [
      " 63%|██████▎   | 1106/1759 [02:14<01:03, 10.31it/s]"
     ]
    },
    {
     "name": "stdout",
     "output_type": "stream",
     "text": [
      "✅ Marinomonas polaris DSM 16579 → Proteome ID: UP000184517 (Reference: False, via: name)\n",
      "✅ Marinoscillum furvescens DSM 4134 → Proteome ID: UP000256779 (Reference: False, via: name)\n",
      "✅ Martelella mediterranea DSM 17316 → Proteome ID: UP000191135 (Reference: False, via: name)\n"
     ]
    },
    {
     "name": "stderr",
     "output_type": "stream",
     "text": [
      " 63%|██████▎   | 1110/1759 [02:15<01:02, 10.35it/s]"
     ]
    },
    {
     "name": "stdout",
     "output_type": "stream",
     "text": [
      "✅ Mycolicibacterium hassiacum DSM 44199 → Proteome ID: UP000006265 (Reference: False, via: name)\n",
      "✅ Pseudoalteromonas denitrificans DSM 6059 → Proteome ID: UP000198862 (Reference: False, via: name)\n",
      "✅ Pseudogulbenkiania subflava DSM 22618 → Proteome ID: UP000192920 (Reference: False, via: name)\n"
     ]
    },
    {
     "name": "stderr",
     "output_type": "stream",
     "text": [
      " 63%|██████▎   | 1112/1759 [02:15<01:02, 10.41it/s]"
     ]
    },
    {
     "name": "stdout",
     "output_type": "stream",
     "text": [
      "✅ Stutzerimonas balearica DSM 6083 → Proteome ID: UP000031271 (Reference: False, via: name)\n",
      "✅ Pseudonocardia asaccharolytica DSM 44247 = NBRC 16224 → Proteome ID: UP000321328 (Reference: False, via: name)\n",
      "✅ Pseudoxanthobacter soli DSM 19599 → Proteome ID: UP000186406 (Reference: False, via: name)\n"
     ]
    },
    {
     "name": "stderr",
     "output_type": "stream",
     "text": [
      " 63%|██████▎   | 1116/1759 [02:15<01:00, 10.56it/s]"
     ]
    },
    {
     "name": "stdout",
     "output_type": "stream",
     "text": [
      "✅ Rhodonellum psychrophilum GCM71 = DSM 17998 → Proteome ID: UP000016843 (Reference: False, via: name)\n",
      "✅ Falsiroseomonas stagni DSM 19981 → Proteome ID: UP000199473 (Reference: False, via: name)\n",
      "✅ Salipiger mucosus DSM 16094 → Proteome ID: UP000015347 (Reference: False, via: name)\n"
     ]
    },
    {
     "name": "stderr",
     "output_type": "stream",
     "text": [
      " 64%|██████▎   | 1118/1759 [02:15<01:01, 10.41it/s]"
     ]
    },
    {
     "name": "stdout",
     "output_type": "stream",
     "text": [
      "✅ Sphingomonas sanxanigenens DSM 19645 = NX02 → Proteome ID: UP000018851 (Reference: False, via: name)\n",
      "✅ Pelosinus propionicus DSM 13327 → Proteome ID: UP000199520 (Reference: False, via: name)\n",
      "✅ Thalassobaculum litoreum DSM 18839 → Proteome ID: UP000198615 (Reference: False, via: name)\n"
     ]
    },
    {
     "name": "stderr",
     "output_type": "stream",
     "text": [
      " 64%|██████▍   | 1122/1759 [02:16<01:01, 10.44it/s]"
     ]
    },
    {
     "name": "stdout",
     "output_type": "stream",
     "text": [
      "✅ Thalassospira xiamenensis M-5 = DSM 17429 → Proteome ID: UP000186060 (Reference: False, via: name)\n",
      "✅ Thauera linaloolentis 47Lol = DSM 12138 → Proteome ID: UP000013232 (Reference: False, via: name)\n",
      "✅ Wenxinia marina DSM 24838 → Proteome ID: UP000035100 (Reference: False, via: name)\n"
     ]
    },
    {
     "name": "stderr",
     "output_type": "stream",
     "text": [
      " 64%|██████▍   | 1124/1759 [02:16<00:59, 10.59it/s]"
     ]
    },
    {
     "name": "stdout",
     "output_type": "stream",
     "text": [
      "✅ Pseudomonas protegens CHA0 → Proteome ID: UP001256598 (Reference: False, via: name)\n",
      "✅ Klebsiella pneumoniae subsp. pneumoniae HS11286 → Proteome ID: UP000007841 (Reference: False, via: name)\n",
      "✅ Amycolatopsis alba DSM 44262 → Proteome ID: UP000215563 (Reference: False, via: name)\n"
     ]
    },
    {
     "name": "stderr",
     "output_type": "stream",
     "text": [
      " 64%|██████▍   | 1128/1759 [02:16<00:58, 10.78it/s]"
     ]
    },
    {
     "name": "stdout",
     "output_type": "stream",
     "text": [
      "✅ Macrophomina phaseolina MS6 → Proteome ID: UP000007129 (Reference: False, via: name)\n",
      "✅ Nocardia cyriacigeorgica GUH-2 → Proteome ID: UP000008190 (Reference: False, via: name)\n",
      "✅ Cupriavidus basilensis OR16 → Proteome ID: UP000005808 (Reference: False, via: name)\n"
     ]
    },
    {
     "name": "stderr",
     "output_type": "stream",
     "text": [
      " 64%|██████▍   | 1130/1759 [02:16<00:59, 10.63it/s]"
     ]
    },
    {
     "name": "stdout",
     "output_type": "stream",
     "text": [
      "✅ Paraglaciecola chathamensis S18K6 → Proteome ID: UP000006320 (Reference: False, via: name)\n",
      "✅ Fistulina hepatica ATCC 64428 → Proteome ID: UP000054144 (Reference: False, via: name)\n",
      "✅ Paraglaciecola mesophila KMM 241 → Proteome ID: UP000006263 (Reference: False, via: name)\n"
     ]
    },
    {
     "name": "stderr",
     "output_type": "stream",
     "text": [
      " 64%|██████▍   | 1134/1759 [02:17<00:57, 10.87it/s]"
     ]
    },
    {
     "name": "stdout",
     "output_type": "stream",
     "text": [
      "✅ Pseudoalteromonas luteoviolacea S4054 → Proteome ID: UP000033434 (Reference: False, via: name)\n",
      "✅ Paraglaciecola polaris LMG 21857 → Proteome ID: UP000006322 (Reference: False, via: name)\n",
      "✅ Paraglaciecola psychrophila 170 → Proteome ID: UP000011864 (Reference: False, via: name)\n"
     ]
    },
    {
     "name": "stderr",
     "output_type": "stream",
     "text": [
      " 65%|██████▍   | 1136/1759 [02:17<00:57, 10.75it/s]"
     ]
    },
    {
     "name": "stdout",
     "output_type": "stream",
     "text": [
      "✅ Rhodococcus opacus M213 → Proteome ID: UP000005951 (Reference: False, via: name)\n",
      "✅ Toxoplasma gondii GAB2-2007-GAL-DOM2 → Proteome ID: UP000028837 (Reference: False, via: name)\n",
      "✅ Toxoplasma gondii TgCatPRC2 → Proteome ID: UP000075225 (Reference: False, via: name)\n"
     ]
    },
    {
     "name": "stderr",
     "output_type": "stream",
     "text": [
      " 65%|██████▍   | 1140/1759 [02:17<00:56, 10.94it/s]"
     ]
    },
    {
     "name": "stdout",
     "output_type": "stream",
     "text": [
      "✅ Rhodotorula toruloides NP11 → Proteome ID: UP000016926 (Reference: False, via: name)\n",
      "✅ Paenibacillus dendritiformis C454 → Proteome ID: UP000003900 (Reference: False, via: name)\n",
      "✅ Nocardia brasiliensis ATCC 700358 → Proteome ID: UP000006304 (Reference: False, via: name)\n"
     ]
    },
    {
     "name": "stderr",
     "output_type": "stream",
     "text": [
      " 65%|██████▍   | 1142/1759 [02:18<01:05,  9.39it/s]"
     ]
    },
    {
     "name": "stdout",
     "output_type": "stream",
     "text": [
      "✅ Escherichia coli O104:H4 str. 2011C-3493 → Proteome ID: UP000006167 (Reference: False, via: taxid)\n",
      "✅ Streptomyces somaliensis DSM 40738 → Proteome ID: UP000570003 (Reference: False, via: name)\n",
      "✅ Candida orthopsilosis Co 90-125 → Proteome ID: UP000005018 (Reference: False, via: name)\n"
     ]
    },
    {
     "name": "stderr",
     "output_type": "stream",
     "text": [
      " 65%|██████▌   | 1146/1759 [02:18<01:00, 10.05it/s]"
     ]
    },
    {
     "name": "stdout",
     "output_type": "stream",
     "text": [
      "✅ Pleurotus ostreatus PC15 → Proteome ID: UP000027073 (Reference: False, via: name)\n",
      "✅ Aspergillus luchuensis CBS 106.47 → Proteome ID: UP000184063 (Reference: False, via: name)\n",
      "✅ Pyricularia oryzae Y34 → Proteome ID: UP000011086 (Reference: False, via: name)\n"
     ]
    },
    {
     "name": "stderr",
     "output_type": "stream",
     "text": [
      " 65%|██████▌   | 1148/1759 [02:18<01:08,  8.95it/s]"
     ]
    },
    {
     "name": "stdout",
     "output_type": "stream",
     "text": [
      "❌ No proteome found for: Pyricularia oryzae P131 (Taxon ID: 1143193)\n",
      "✅ Corallococcus coralloides DSM 2259 → Proteome ID: UP000007587 (Reference: False, via: name)\n",
      "✅ Blastococcus saxobsidens DD2 → Proteome ID: UP000007517 (Reference: False, via: name)\n"
     ]
    },
    {
     "name": "stderr",
     "output_type": "stream",
     "text": [
      " 65%|██████▌   | 1152/1759 [02:19<01:01,  9.85it/s]"
     ]
    },
    {
     "name": "stdout",
     "output_type": "stream",
     "text": [
      "✅ Pseudomonas mandelii JR-1 → Proteome ID: UP000026913 (Reference: False, via: name)\n",
      "✅ Hyaloscypha variabilis F → Proteome ID: UP000235786 (Reference: False, via: name)\n",
      "✅ Pararhodospirillum photometricum DSM 122 → Proteome ID: UP000033220 (Reference: False, via: name)\n"
     ]
    },
    {
     "name": "stderr",
     "output_type": "stream",
     "text": [
      " 66%|██████▌   | 1154/1759 [02:19<01:00,  9.93it/s]"
     ]
    },
    {
     "name": "stdout",
     "output_type": "stream",
     "text": [
      "✅ Magnetospirillum molischianum DSM 120 → Proteome ID: UP000004169 (Reference: False, via: name)\n",
      "✅ Didymella exigua CBS 183.55 → Proteome ID: UP000800082 (Reference: False, via: name)\n",
      "✅ Micromonospora lupini str. Lupac 08 → Proteome ID: UP000003448 (Reference: False, via: name)\n"
     ]
    },
    {
     "name": "stderr",
     "output_type": "stream",
     "text": [
      " 66%|██████▌   | 1158/1759 [02:19<01:03,  9.41it/s]"
     ]
    },
    {
     "name": "stdout",
     "output_type": "stream",
     "text": [
      "✅ Moesziomyces antarcticus T-34 → Proteome ID: UP000011976 (Reference: False, via: taxid)\n",
      "✅ Saprolegnia diclina VS20 → Proteome ID: UP000030762 (Reference: False, via: name)\n",
      "✅ Agrobacterium albertimagni AOL15 → Proteome ID: UP000007123 (Reference: False, via: name)\n"
     ]
    },
    {
     "name": "stderr",
     "output_type": "stream",
     "text": [
      " 66%|██████▌   | 1160/1759 [02:20<01:01,  9.79it/s]"
     ]
    },
    {
     "name": "stdout",
     "output_type": "stream",
     "text": [
      "✅ Hortaea werneckii EXF-2000 → Proteome ID: UP000194280 (Reference: False, via: name)\n",
      "✅ Enterococcus pallens ATCC BAA-351 → Proteome ID: UP000013782 (Reference: False, via: name)\n",
      "✅ Aspergillus glaucus CBS 516.65 → Proteome ID: UP000184300 (Reference: False, via: name)\n"
     ]
    },
    {
     "name": "stderr",
     "output_type": "stream",
     "text": [
      " 66%|██████▌   | 1164/1759 [02:20<00:56, 10.45it/s]"
     ]
    },
    {
     "name": "stdout",
     "output_type": "stream",
     "text": [
      "✅ Aspergillus oryzae 3.042 → Proteome ID: UP000002812 (Reference: False, via: name)\n",
      "✅ Ascobolus immersus RN42 → Proteome ID: UP000275078 (Reference: False, via: name)\n",
      "✅ Streptomyces viridochromogenes Tue57 → Proteome ID: UP000011205 (Reference: False, via: name)\n"
     ]
    },
    {
     "name": "stderr",
     "output_type": "stream",
     "text": [
      " 66%|██████▋   | 1166/1759 [02:20<00:57, 10.33it/s]"
     ]
    },
    {
     "name": "stdout",
     "output_type": "stream",
     "text": [
      "✅ Streptomyces auratus AGR0001 → Proteome ID: UP000009036 (Reference: False, via: name)\n",
      "✅ Tolypocladium ophioglossoides CBS 100239 → Proteome ID: UP000036947 (Reference: False, via: name)\n"
     ]
    },
    {
     "name": "stderr",
     "output_type": "stream",
     "text": [
      " 66%|██████▋   | 1168/1759 [02:20<00:57, 10.28it/s]"
     ]
    },
    {
     "name": "stdout",
     "output_type": "stream",
     "text": [
      "✅ Rhodanobacter spathiphylli B39 → Proteome ID: UP000003226 (Reference: False, via: name)\n",
      "✅ Rhodanobacter fulvus Jip2 → Proteome ID: UP000004210 (Reference: False, via: name)\n",
      "✅ Sulfuricella denitrificans skB26 → Proteome ID: UP000015559 (Reference: False, via: name)\n"
     ]
    },
    {
     "name": "stderr",
     "output_type": "stream",
     "text": [
      " 67%|██████▋   | 1170/1759 [02:20<00:56, 10.39it/s]"
     ]
    },
    {
     "name": "stdout",
     "output_type": "stream",
     "text": [
      "✅ Puccinia striiformis f. sp. tritici PST-78 → Proteome ID: UP000054564 (Reference: False, via: name)\n",
      "✅ Rhodococcus opacus RKJ300 = JCM 13270 → Proteome ID: UP000006447 (Reference: False, via: name)\n",
      "✅ Fibrella aestuarina BUZ 2 → Proteome ID: UP000011058 (Reference: False, via: name)\n"
     ]
    },
    {
     "name": "stderr",
     "output_type": "stream",
     "text": [
      " 67%|██████▋   | 1174/1759 [02:21<00:56, 10.40it/s]"
     ]
    },
    {
     "name": "stdout",
     "output_type": "stream",
     "text": [
      "✅ Stenotrophomonas geniculata N1 → Proteome ID: UP000036890 (Reference: False, via: name)\n",
      "✅ Coniosporium apollinis CBS 100218 → Proteome ID: UP000016924 (Reference: False, via: name)\n",
      "✅ Cucurbitaria berberidis CBS 394.84 → Proteome ID: UP000800039 (Reference: False, via: name)\n"
     ]
    },
    {
     "name": "stderr",
     "output_type": "stream",
     "text": [
      " 67%|██████▋   | 1176/1759 [02:21<00:56, 10.36it/s]"
     ]
    },
    {
     "name": "stdout",
     "output_type": "stream",
     "text": [
      "✅ Lentithecium fluviatile CBS 122367 → Proteome ID: UP000799291 (Reference: False, via: name)\n",
      "✅ Myriangium duriaei CBS 260.36 → Proteome ID: UP000799439 (Reference: False, via: name)\n"
     ]
    },
    {
     "name": "stderr",
     "output_type": "stream",
     "text": [
      " 67%|██████▋   | 1179/1759 [02:21<01:03,  9.21it/s]"
     ]
    },
    {
     "name": "stdout",
     "output_type": "stream",
     "text": [
      "❌ No proteome found for: Chromera velia CCMP2878 (Taxon ID: 1169474)\n",
      "✅ Vitrella brassicaformis CCMP3155 → Proteome ID: UP000041254 (Reference: False, via: name)\n",
      "✅ Penicillium digitatum PHI26 → Proteome ID: UP000009882 (Reference: False, via: name)\n"
     ]
    },
    {
     "name": "stderr",
     "output_type": "stream",
     "text": [
      " 67%|██████▋   | 1182/1759 [02:22<00:59,  9.72it/s]"
     ]
    },
    {
     "name": "stdout",
     "output_type": "stream",
     "text": [
      "✅ Penicillium digitatum Pd1 → Proteome ID: UP000009886 (Reference: False, via: name)\n",
      "✅ Hydrocarboniphaga effusa AP103 → Proteome ID: UP000003704 (Reference: False, via: name)\n",
      "✅ Streptomyces globisporus C-1027 → Proteome ID: UP000064183 (Reference: False, via: name)\n"
     ]
    },
    {
     "name": "stderr",
     "output_type": "stream",
     "text": [
      " 67%|██████▋   | 1184/1759 [02:22<00:56, 10.25it/s]"
     ]
    },
    {
     "name": "stdout",
     "output_type": "stream",
     "text": [
      "✅ Chamaesiphon minutus PCC 6605 → Proteome ID: UP000010366 (Reference: False, via: name)\n",
      "✅ Allocoleopsis franciscana PCC 7113 → Proteome ID: UP000010471 (Reference: False, via: name)\n"
     ]
    },
    {
     "name": "stderr",
     "output_type": "stream",
     "text": [
      " 67%|██████▋   | 1187/1759 [02:22<01:11,  8.02it/s]"
     ]
    },
    {
     "name": "stdout",
     "output_type": "stream",
     "text": [
      "❌ No proteome found for: Salmonella enterica subsp. enterica serovar Bareilly str. CFSAN000189 (Taxon ID: 1173427)\n",
      "✅ Salmonella enterica subsp. indica serovar 6,14,25:z10:1,(2),7 str. 1121 → Proteome ID: UP000017304 (Reference: False, via: taxid)\n"
     ]
    },
    {
     "name": "stderr",
     "output_type": "stream",
     "text": [
      " 68%|██████▊   | 1189/1759 [02:23<01:04,  8.81it/s]"
     ]
    },
    {
     "name": "stdout",
     "output_type": "stream",
     "text": [
      "✅ Aplosporella prunicola CBS 121167 → Proteome ID: UP000799438 (Reference: False, via: name)\n",
      "✅ Aulographum hederae CBS 113979 → Proteome ID: UP000800041 (Reference: False, via: name)\n"
     ]
    },
    {
     "name": "stderr",
     "output_type": "stream",
     "text": [
      " 68%|██████▊   | 1191/1759 [02:23<01:01,  9.23it/s]"
     ]
    },
    {
     "name": "stdout",
     "output_type": "stream",
     "text": [
      "✅ Thalassospira profundimaris WP0211 → Proteome ID: UP000007365 (Reference: False, via: name)\n",
      "✅ Thalassospira xianhensis MCCC 1A02616 → Proteome ID: UP000252419 (Reference: False, via: name)\n",
      "✅ Saccharothrix espanaensis DSM 44229 → Proteome ID: UP000006281 (Reference: False, via: name)\n"
     ]
    },
    {
     "name": "stderr",
     "output_type": "stream",
     "text": [
      " 68%|██████▊   | 1195/1759 [02:23<00:55, 10.08it/s]"
     ]
    },
    {
     "name": "stdout",
     "output_type": "stream",
     "text": [
      "✅ Escherichia coli KTE182 → Proteome ID: UP000014179 (Reference: False, via: name)\n",
      "✅ Capronia coronata CBS 617.96 → Proteome ID: UP000019484 (Reference: False, via: name)\n",
      "✅ Capronia epimyces CBS 606.96 → Proteome ID: UP000019478 (Reference: False, via: name)\n"
     ]
    },
    {
     "name": "stderr",
     "output_type": "stream",
     "text": [
      " 68%|██████▊   | 1197/1759 [02:23<00:55, 10.19it/s]"
     ]
    },
    {
     "name": "stdout",
     "output_type": "stream",
     "text": [
      "✅ Cladophialophora psammophila CBS 110553 → Proteome ID: UP000019471 (Reference: False, via: name)\n",
      "✅ Cladophialophora yegresii CBS 114405 → Proteome ID: UP000019473 (Reference: False, via: name)\n",
      "✅ Exophiala aquamarina CBS 119918 → Proteome ID: UP000027920 (Reference: False, via: name)\n"
     ]
    },
    {
     "name": "stderr",
     "output_type": "stream",
     "text": [
      " 68%|██████▊   | 1201/1759 [02:24<00:51, 10.75it/s]"
     ]
    },
    {
     "name": "stdout",
     "output_type": "stream",
     "text": [
      "✅ Ectopseudomonas oleovorans CECT 5344 → Proteome ID: UP000032422 (Reference: False, via: name)\n",
      "✅ Agrobacterium tumefaciens str. B6 → Proteome ID: UP000192074 (Reference: False, via: name)\n",
      "✅ Agrobacterium tumefaciens str. Kerr 14 → Proteome ID: UP000191897 (Reference: False, via: name)\n"
     ]
    },
    {
     "name": "stderr",
     "output_type": "stream",
     "text": [
      " 68%|██████▊   | 1203/1759 [02:24<00:51, 10.76it/s]"
     ]
    },
    {
     "name": "stdout",
     "output_type": "stream",
     "text": [
      "✅ Agrobacterium deltaense NCPPB 1641 → Proteome ID: UP000192140 (Reference: False, via: name)\n",
      "✅ Agrobacterium deltaense Zutra 3/1 → Proteome ID: UP000191987 (Reference: False, via: name)\n",
      "✅ Agrobacterium tomkonis CFBP 6623 → Proteome ID: UP000191988 (Reference: False, via: name)\n"
     ]
    },
    {
     "name": "stderr",
     "output_type": "stream",
     "text": [
      " 69%|██████▊   | 1205/1759 [02:24<00:52, 10.59it/s]"
     ]
    },
    {
     "name": "stdout",
     "output_type": "stream",
     "text": [
      "✅ Agrobacterium genomosp. 2 str. CFBP 5494 → Proteome ID: UP000191933 (Reference: False, via: name)\n",
      "✅ Gloeobacter kilaueensis JS1 → Proteome ID: UP000017396 (Reference: False, via: name)\n",
      "✅ Xanthomonas vasicola pv. vasculorum NCPPB 890 → Proteome ID: UP000028167 (Reference: False, via: name)\n"
     ]
    },
    {
     "name": "stderr",
     "output_type": "stream",
     "text": [
      " 69%|██████▊   | 1209/1759 [02:24<00:52, 10.56it/s]"
     ]
    },
    {
     "name": "stdout",
     "output_type": "stream",
     "text": [
      "✅ Kineosphaera limosa NBRC 100340 → Proteome ID: UP000008366 (Reference: False, via: name)\n",
      "✅ Enterovibrio norvegicus FF-454 → Proteome ID: UP000095039 (Reference: False, via: name)\n",
      "✅ Sinorhizobium fredii USDA 257 → Proteome ID: UP000006180 (Reference: False, via: name)\n"
     ]
    },
    {
     "name": "stderr",
     "output_type": "stream",
     "text": [
      " 69%|██████▉   | 1211/1759 [02:25<00:51, 10.59it/s]"
     ]
    },
    {
     "name": "stdout",
     "output_type": "stream",
     "text": [
      "✅ Fibrisoma limi BUZ 3 → Proteome ID: UP000009309 (Reference: False, via: name)\n",
      "✅ Trichosporon asahii var. asahii CBS 2479 → Proteome ID: UP000002748 (Reference: False, via: name)\n"
     ]
    },
    {
     "name": "stderr",
     "output_type": "stream",
     "text": [
      " 69%|██████▉   | 1215/1759 [02:25<00:53, 10.11it/s]"
     ]
    },
    {
     "name": "stdout",
     "output_type": "stream",
     "text": [
      "✅ Vibrio genomosp. F10 str. ZF-129 → Proteome ID: UP000094741 (Reference: False, via: name)\n",
      "✅ Cereibacter changlensis JA139 → Proteome ID: UP000241010 (Reference: False, via: name)\n",
      "✅ Fuscovulum blasticum DSM 2131 → Proteome ID: UP000241362 (Reference: False, via: name)\n"
     ]
    },
    {
     "name": "stderr",
     "output_type": "stream",
     "text": [
      " 69%|██████▉   | 1217/1759 [02:25<00:52, 10.41it/s]"
     ]
    },
    {
     "name": "stdout",
     "output_type": "stream",
     "text": [
      "✅ Corallococcus macrosporus DSM 14697 → Proteome ID: UP000217343 (Reference: False, via: name)\n",
      "✅ Nitratireductor aquibiodomus RA22 → Proteome ID: UP000004622 (Reference: False, via: name)\n",
      "✅ Indibacter alkaliphilus LW1 → Proteome ID: UP000006073 (Reference: False, via: name)\n"
     ]
    },
    {
     "name": "stderr",
     "output_type": "stream",
     "text": [
      " 69%|██████▉   | 1219/1759 [02:25<00:51, 10.55it/s]"
     ]
    },
    {
     "name": "stdout",
     "output_type": "stream",
     "text": [
      "✅ Chondromyces apiculatus DSM 436 → Proteome ID: UP000019678 (Reference: False, via: name)\n",
      "✅ Salmonella enterica subsp. enterica serovar Cubana str. 76814 → Proteome ID: UP000018534 (Reference: False, via: name)\n"
     ]
    },
    {
     "name": "stderr",
     "output_type": "stream",
     "text": [
      " 69%|██████▉   | 1221/1759 [02:26<00:58,  9.18it/s]"
     ]
    },
    {
     "name": "stdout",
     "output_type": "stream",
     "text": [
      "✅ Salmonella enterica subsp. enterica serovar Enteritidis str. 2009K0958 → Proteome ID: UP000014535 (Reference: False, via: taxid)\n",
      "✅ Salmonella enterica subsp. enterica serovar Dublin str. UC16 → Proteome ID: UP000013259 (Reference: False, via: name)\n",
      "✅ Granulosicoccus antarcticus IMCC3135 → Proteome ID: UP000250079 (Reference: False, via: name)\n"
     ]
    },
    {
     "name": "stderr",
     "output_type": "stream",
     "text": [
      " 70%|██████▉   | 1225/1759 [02:26<00:56,  9.52it/s]"
     ]
    },
    {
     "name": "stdout",
     "output_type": "stream",
     "text": [
      "✅ Nostocoides australiense Ben110 → Proteome ID: UP000035763 (Reference: False, via: name)\n",
      "✅ Nostocoides japonicum T1-X7 → Proteome ID: UP000035721 (Reference: False, via: name)\n",
      "✅ Pseudomonas syringae pv. actinidifoliorum ICMP 18803 → Proteome ID: UP000748844 (Reference: False, via: name)\n"
     ]
    },
    {
     "name": "stderr",
     "output_type": "stream",
     "text": [
      " 70%|██████▉   | 1229/1759 [02:26<00:51, 10.22it/s]"
     ]
    },
    {
     "name": "stdout",
     "output_type": "stream",
     "text": [
      "✅ Pseudomonas syringae pv. actinidiae ICMP 18807 → Proteome ID: UP000015729 (Reference: False, via: name)\n",
      "✅ Pseudomonas syringae pv. actinidiae ICMP 19096 → Proteome ID: UP000018849 (Reference: False, via: name)\n",
      "✅ Mycolicibacterium vaccae ATCC 25954 → Proteome ID: UP000006072 (Reference: False, via: name)\n"
     ]
    },
    {
     "name": "stderr",
     "output_type": "stream",
     "text": [
      " 70%|██████▉   | 1231/1759 [02:27<00:50, 10.40it/s]"
     ]
    },
    {
     "name": "stdout",
     "output_type": "stream",
     "text": [
      "✅ Ruminiclostridium cellobioparum subsp. termitidis CT1112 → Proteome ID: UP000014155 (Reference: False, via: name)\n",
      "✅ Xanthomonas graminis pv. arrhenatheri LMG 727 → Proteome ID: UP000046187 (Reference: False, via: name)\n",
      "✅ Cytobacillus oceanisediminis 2691 → Proteome ID: UP000077856 (Reference: False, via: name)\n"
     ]
    },
    {
     "name": "stderr",
     "output_type": "stream",
     "text": [
      " 70%|███████   | 1235/1759 [02:27<00:49, 10.54it/s]"
     ]
    },
    {
     "name": "stdout",
     "output_type": "stream",
     "text": [
      "✅ Pseudomonas putida DOT-T1E → Proteome ID: UP000006503 (Reference: False, via: name)\n",
      "✅ Stutzerimonas stutzeri CCUG 29243 → Proteome ID: UP000006063 (Reference: False, via: name)\n",
      "✅ Salmonella bongori N268-08 → Proteome ID: UP000015042 (Reference: False, via: name)\n"
     ]
    },
    {
     "name": "stderr",
     "output_type": "stream",
     "text": [
      " 70%|███████   | 1237/1759 [02:27<00:50, 10.27it/s]"
     ]
    },
    {
     "name": "stdout",
     "output_type": "stream",
     "text": [
      "✅ Neolecta irregularis DAH-3 → Proteome ID: UP000186594 (Reference: False, via: name)\n",
      "✅ Granulicella tundricola MP5ACTX9 → Proteome ID: UP000000343 (Reference: False, via: name)\n",
      "✅ Pseudomonas viridiflava ICMP 13104 → Proteome ID: UP000053048 (Reference: False, via: name)\n"
     ]
    },
    {
     "name": "stderr",
     "output_type": "stream",
     "text": [
      " 71%|███████   | 1241/1759 [02:28<00:50, 10.29it/s]"
     ]
    },
    {
     "name": "stdout",
     "output_type": "stream",
     "text": [
      "✅ Pseudomonas fluorescens ICMP 11288 → Proteome ID: UP000054197 (Reference: False, via: name)\n",
      "✅ Falsiruegeria mediterranea M17 → Proteome ID: UP000244898 (Reference: False, via: name)\n",
      "✅ Streptomyces lividans 1326 → Proteome ID: UP000014062 (Reference: False, via: name)\n"
     ]
    },
    {
     "name": "stderr",
     "output_type": "stream",
     "text": [
      " 71%|███████   | 1243/1759 [02:28<00:50, 10.29it/s]"
     ]
    },
    {
     "name": "stdout",
     "output_type": "stream",
     "text": [
      "✅ Moritella marina ATCC 15381 → Proteome ID: UP000327424 (Reference: False, via: name)\n",
      "✅ Parabacteroides gordonii MS-1 = DSM 23371 → Proteome ID: UP000033035 (Reference: False, via: name)\n",
      "✅ Nocardiopsis alba ATCC BAA-2165 → Proteome ID: UP000003779 (Reference: False, via: name)\n"
     ]
    },
    {
     "name": "stderr",
     "output_type": "stream",
     "text": [
      " 71%|███████   | 1247/1759 [02:28<00:49, 10.30it/s]"
     ]
    },
    {
     "name": "stdout",
     "output_type": "stream",
     "text": [
      "✅ Wickerhamomyces ciferrii NRRL Y-1031 → Proteome ID: UP000009328 (Reference: False, via: name)\n",
      "✅ Solidesulfovibrio magneticus str. Maddingley MBC34 → Proteome ID: UP000006272 (Reference: False, via: name)\n",
      "✅ Oceanibaculum indicum P24 → Proteome ID: UP000006746 (Reference: False, via: name)\n"
     ]
    },
    {
     "name": "stderr",
     "output_type": "stream",
     "text": [
      " 71%|███████   | 1249/1759 [02:28<00:49, 10.28it/s]"
     ]
    },
    {
     "name": "stdout",
     "output_type": "stream",
     "text": [
      "✅ Gordonia namibiensis NBRC 108229 → Proteome ID: UP000035058 (Reference: False, via: name)\n",
      "✅ Sphingobium fuliginis ATCC 27551 → Proteome ID: UP000311469 (Reference: False, via: name)\n"
     ]
    },
    {
     "name": "stderr",
     "output_type": "stream",
     "text": [
      " 71%|███████   | 1251/1759 [02:29<00:55,  9.16it/s]"
     ]
    },
    {
     "name": "stdout",
     "output_type": "stream",
     "text": [
      "❌ No proteome found for: Salmonella enterica subsp. enterica serovar Abaetetuba str. ATCC 35640 (Taxon ID: 1208611)\n",
      "✅ Bordetella parapertussis Bpp5 → Proteome ID: UP000008035 (Reference: False, via: name)\n",
      "✅ Nocardia ninae NBRC 108245 → Proteome ID: UP000321424 (Reference: False, via: name)\n"
     ]
    },
    {
     "name": "stderr",
     "output_type": "stream",
     "text": [
      " 71%|███████▏  | 1255/1759 [02:29<00:50, 10.03it/s]"
     ]
    },
    {
     "name": "stdout",
     "output_type": "stream",
     "text": [
      "✅ Rhizobium mesoamericanum STM3625 → Proteome ID: UP000009319 (Reference: False, via: name)\n",
      "✅ Stutzerimonas stutzeri NF13 → Proteome ID: UP000011700 (Reference: False, via: name)\n",
      "✅ Colletotrichum orbiculare MAFF 240422 → Proteome ID: UP000014480 (Reference: False, via: name)\n"
     ]
    },
    {
     "name": "stderr",
     "output_type": "stream",
     "text": [
      " 71%|███████▏  | 1257/1759 [02:29<00:49, 10.24it/s]"
     ]
    },
    {
     "name": "stdout",
     "output_type": "stream",
     "text": [
      "✅ Colletotrichum fructicola Nara gc5 → Proteome ID: UP000011096 (Reference: False, via: name)\n",
      "✅ Streptomyces davaonensis JCM 4913 → Proteome ID: UP000008043 (Reference: False, via: name)\n",
      "✅ Mycolicibacterium fortuitum subsp. fortuitum DSM 46621 = ATCC 6841 = JCM 6387 → Proteome ID: UP000006043 (Reference: False, via: name)\n"
     ]
    },
    {
     "name": "stderr",
     "output_type": "stream",
     "text": [
      " 72%|███████▏  | 1261/1759 [02:30<00:51,  9.70it/s]"
     ]
    },
    {
     "name": "stdout",
     "output_type": "stream",
     "text": [
      "✅ Streptomyces collinus Tu 365 → Proteome ID: UP000015423 (Reference: False, via: taxid)\n",
      "✅ Mycolicibacterium smegmatis MKD8 → Proteome ID: UP000011200 (Reference: False, via: name)\n",
      "✅ Pseudomonas putida S12 → Proteome ID: UP000017753 (Reference: False, via: name)\n"
     ]
    },
    {
     "name": "stderr",
     "output_type": "stream",
     "text": [
      " 72%|███████▏  | 1263/1759 [02:30<00:49, 10.04it/s]"
     ]
    },
    {
     "name": "stdout",
     "output_type": "stream",
     "text": [
      "✅ Aquipseudomonas alcaligenes NBRC 14159 → Proteome ID: UP000016560 (Reference: False, via: name)\n",
      "✅ Trichophyton rubrum CBS 288.86 → Proteome ID: UP000023758 (Reference: False, via: name)\n",
      "✅ Trichophyton soudanense CBS 452.61 → Proteome ID: UP000023623 (Reference: False, via: name)\n"
     ]
    },
    {
     "name": "stderr",
     "output_type": "stream",
     "text": [
      " 72%|███████▏  | 1267/1759 [02:30<00:47, 10.36it/s]"
     ]
    },
    {
     "name": "stdout",
     "output_type": "stream",
     "text": [
      "✅ Trichophyton interdigitale MR816 → Proteome ID: UP000024533 (Reference: False, via: name)\n",
      "✅ Vibrio aerogenes CECT 7868 → Proteome ID: UP000184608 (Reference: False, via: name)\n",
      "✅ Acinetobacter bereziniae NIPH 3 → Proteome ID: UP000013270 (Reference: False, via: name)\n"
     ]
    },
    {
     "name": "stderr",
     "output_type": "stream",
     "text": [
      " 72%|███████▏  | 1269/1759 [02:30<00:46, 10.58it/s]"
     ]
    },
    {
     "name": "stdout",
     "output_type": "stream",
     "text": [
      "✅ Acinetobacter guillouiae NIPH 991 → Proteome ID: UP000013148 (Reference: False, via: name)\n",
      "✅ Acinetobacter gyllenbergii CIP 110306 = MTCC 11365 → Proteome ID: UP000014546 (Reference: False, via: name)\n",
      "✅ Dyella japonica A8 → Proteome ID: UP000027987 (Reference: False, via: name)\n"
     ]
    },
    {
     "name": "stderr",
     "output_type": "stream",
     "text": [
      " 72%|███████▏  | 1271/1759 [02:31<00:46, 10.50it/s]"
     ]
    },
    {
     "name": "stdout",
     "output_type": "stream",
     "text": [
      "✅ Bacillus thuringiensis HD-789 → Proteome ID: UP000005257 (Reference: False, via: name)\n",
      "✅ Acinetobacter nosocomialis NIPH 386 → Proteome ID: UP000013028 (Reference: False, via: name)\n",
      "✅ Bacillus thuringiensis HD-771 → Proteome ID: UP000005259 (Reference: False, via: name)\n"
     ]
    },
    {
     "name": "stderr",
     "output_type": "stream",
     "text": [
      " 72%|███████▏  | 1275/1759 [02:31<00:46, 10.39it/s]"
     ]
    },
    {
     "name": "stdout",
     "output_type": "stream",
     "text": [
      "✅ Stutzerimonas stutzeri KOS6 → Proteome ID: UP000026923 (Reference: False, via: name)\n",
      "✅ Rhodococcus wratislaviensis NBRC 100605 → Proteome ID: UP000019491 (Reference: False, via: name)\n",
      "✅ Caenibius tardaugens NBRC 16725 → Proteome ID: UP000016568 (Reference: False, via: name)\n"
     ]
    },
    {
     "name": "stderr",
     "output_type": "stream",
     "text": [
      " 73%|███████▎  | 1279/1759 [02:31<00:45, 10.55it/s]"
     ]
    },
    {
     "name": "stdout",
     "output_type": "stream",
     "text": [
      "✅ Sphingobium herbicidovorans NBRC 16415 → Proteome ID: UP000024284 (Reference: False, via: name)\n",
      "✅ Sphingomonas parapaucimobilis NBRC 15100 → Proteome ID: UP000032305 (Reference: False, via: name)\n",
      "✅ Sphingomonas paucimobilis NBRC 13935 → Proteome ID: UP000032025 (Reference: False, via: name)\n"
     ]
    },
    {
     "name": "stderr",
     "output_type": "stream",
     "text": [
      " 73%|███████▎  | 1281/1759 [02:32<00:45, 10.41it/s]"
     ]
    },
    {
     "name": "stdout",
     "output_type": "stream",
     "text": [
      "✅ Sphingopyxis terrae subsp. terrae NBRC 15098 → Proteome ID: UP000076234 (Reference: False, via: name)\n",
      "✅ Vibrio superstes NBRC 103154 → Proteome ID: UP000321113 (Reference: False, via: name)\n",
      "✅ Vibrio proteolyticus NBRC 13287 → Proteome ID: UP000016570 (Reference: False, via: name)\n"
     ]
    },
    {
     "name": "stderr",
     "output_type": "stream",
     "text": [
      " 73%|███████▎  | 1283/1759 [02:32<00:44, 10.59it/s]"
     ]
    },
    {
     "name": "stdout",
     "output_type": "stream",
     "text": [
      "✅ Vibrio natriegens NBRC 15636 = ATCC 14048 = DSM 759 → Proteome ID: UP000092741 (Reference: False, via: name)\n",
      "✅ Trichosporon asahii var. asahii CBS 8904 → Proteome ID: UP000006757 (Reference: False, via: name)\n"
     ]
    },
    {
     "name": "stderr",
     "output_type": "stream",
     "text": [
      " 73%|███████▎  | 1287/1759 [02:32<00:45, 10.36it/s]"
     ]
    },
    {
     "name": "stdout",
     "output_type": "stream",
     "text": [
      "✅ Flavihumibacter petaseus NBRC 106054 → Proteome ID: UP000033121 (Reference: False, via: name)\n",
      "✅ Rhizobium rhizogenes NBRC 13257 → Proteome ID: UP000026941 (Reference: False, via: name)\n",
      "✅ Gordonia aichiensis NBRC 108223 → Proteome ID: UP000010988 (Reference: False, via: name)\n"
     ]
    },
    {
     "name": "stderr",
     "output_type": "stream",
     "text": [
      " 73%|███████▎  | 1289/1759 [02:32<00:44, 10.46it/s]"
     ]
    },
    {
     "name": "stdout",
     "output_type": "stream",
     "text": [
      "✅ Cyphellophora europaea CBS 101466 → Proteome ID: UP000030752 (Reference: False, via: name)\n",
      "✅ Mucor circinelloides 1006PhL → Proteome ID: UP000014254 (Reference: False, via: name)\n",
      "✅ Pseudomonas fluorescens NCIMB 11764 → Proteome ID: UP000017175 (Reference: False, via: name)\n"
     ]
    },
    {
     "name": "stderr",
     "output_type": "stream",
     "text": [
      " 74%|███████▎  | 1293/1759 [02:33<00:44, 10.50it/s]"
     ]
    },
    {
     "name": "stdout",
     "output_type": "stream",
     "text": [
      "✅ Pseudonocardia sulfidoxydans NBRC 16205 → Proteome ID: UP000321685 (Reference: False, via: name)\n",
      "✅ Deinococcus cellulosilyticus NBRC 106333 = KACC 11606 → Proteome ID: UP000321306 (Reference: False, via: name)\n",
      "✅ Streptomyces mobaraensis NBRC 13819 = DSM 40847 → Proteome ID: UP000011740 (Reference: False, via: name)\n",
      "✅ Gordonia paraffinivorans NBRC 108238 → Proteome ID: UP000035021 (Reference: False, via: name)\n"
     ]
    },
    {
     "name": "stderr",
     "output_type": "stream",
     "text": [
      " 74%|███████▎  | 1297/1759 [02:33<00:54,  8.45it/s]"
     ]
    },
    {
     "name": "stdout",
     "output_type": "stream",
     "text": [
      "✅ Gordonia soli NBRC 108243 → Proteome ID: UP000011666 (Reference: False, via: name)\n",
      "✅ Sulfuritalea hydrogenivorans sk43H → Proteome ID: UP000031637 (Reference: False, via: name)\n",
      "✅ Mycolicibacterium phlei DSM 43239 = CCUG 21000 → Proteome ID: UP000325690 (Reference: False, via: name)\n"
     ]
    },
    {
     "name": "stderr",
     "output_type": "stream",
     "text": [
      " 74%|███████▍  | 1299/1759 [02:33<00:50,  9.04it/s]"
     ]
    },
    {
     "name": "stdout",
     "output_type": "stream",
     "text": [
      "✅ Mycolicibacterium mucogenicum DSM 44124 → Proteome ID: UP000309231 (Reference: False, via: name)\n",
      "✅ Fusarium proliferatum ET1 → Proteome ID: UP000183971 (Reference: False, via: name)\n",
      "✅ Hymenobacter swuensis DY53 → Proteome ID: UP000019423 (Reference: False, via: name)\n"
     ]
    },
    {
     "name": "stderr",
     "output_type": "stream",
     "text": [
      " 74%|███████▍  | 1303/1759 [02:34<00:45,  9.96it/s]"
     ]
    },
    {
     "name": "stdout",
     "output_type": "stream",
     "text": [
      "✅ Pseudomonas putida TRO1 → Proteome ID: UP000013237 (Reference: False, via: name)\n",
      "✅ Paraburkholderia phenoliruptrix BR3459a → Proteome ID: UP000010105 (Reference: False, via: name)\n",
      "✅ Vibrio owensii CAIM 1854 = LMG 25443 → Proteome ID: UP000031586 (Reference: False, via: name)\n"
     ]
    },
    {
     "name": "stderr",
     "output_type": "stream",
     "text": [
      " 74%|███████▍  | 1305/1759 [02:34<00:43, 10.41it/s]"
     ]
    },
    {
     "name": "stdout",
     "output_type": "stream",
     "text": [
      "✅ Pestalotiopsis fici W106-1 → Proteome ID: UP000030651 (Reference: False, via: name)\n",
      "✅ Fusarium oxysporum f. sp. cubense race 1 → Proteome ID: UP000016928 (Reference: False, via: name)\n",
      "✅ Cryptococcus neoformans var. grubii Tu259-1 → Proteome ID: UP000199727 (Reference: False, via: name)\n"
     ]
    },
    {
     "name": "stderr",
     "output_type": "stream",
     "text": [
      " 74%|███████▍  | 1309/1759 [02:34<00:43, 10.26it/s]"
     ]
    },
    {
     "name": "stdout",
     "output_type": "stream",
     "text": [
      "✅ Malassezia sympodialis ATCC 42132 → Proteome ID: UP000186303 (Reference: False, via: name)\n",
      "✅ Nitratireductor indicus C115 → Proteome ID: UP000007374 (Reference: False, via: name)\n",
      "✅ Dickeya solani D s0432-1 → Proteome ID: UP000017142 (Reference: False, via: name)\n"
     ]
    },
    {
     "name": "stderr",
     "output_type": "stream",
     "text": [
      " 75%|███████▍  | 1311/1759 [02:35<00:43, 10.30it/s]"
     ]
    },
    {
     "name": "stdout",
     "output_type": "stream",
     "text": [
      "✅ Mycobacterium intracellulare subsp. intracellulare MTCC 9506 → Proteome ID: UP000007329 (Reference: False, via: name)\n",
      "✅ Thauera aminoaromatica S2 → Proteome ID: UP000013042 (Reference: False, via: name)\n",
      "✅ Thauera phenylacetica B4P → Proteome ID: UP000013047 (Reference: False, via: name)\n"
     ]
    },
    {
     "name": "stderr",
     "output_type": "stream",
     "text": [
      " 75%|███████▍  | 1315/1759 [02:35<00:41, 10.66it/s]"
     ]
    },
    {
     "name": "stdout",
     "output_type": "stream",
     "text": [
      "✅ Brucella intermedia M86 → Proteome ID: UP000011971 (Reference: False, via: name)\n",
      "✅ Nocardiopsis gilva YIM 90087 → Proteome ID: UP000215005 (Reference: False, via: name)\n",
      "✅ Bacteroides thetaiotaomicron dnLKV9 → Proteome ID: UP000014207 (Reference: False, via: name)\n"
     ]
    },
    {
     "name": "stderr",
     "output_type": "stream",
     "text": [
      " 75%|███████▍  | 1317/1759 [02:35<00:42, 10.32it/s]"
     ]
    },
    {
     "name": "stdout",
     "output_type": "stream",
     "text": [
      "✅ Phocaeicola vulgatus dnLKV7 → Proteome ID: UP000014151 (Reference: False, via: name)\n",
      "✅ Parabacteroides goldsteinii dnLKV18 → Proteome ID: UP000014140 (Reference: False, via: name)\n"
     ]
    },
    {
     "name": "stderr",
     "output_type": "stream",
     "text": [
      " 75%|███████▍  | 1319/1759 [02:35<00:43, 10.14it/s]"
     ]
    },
    {
     "name": "stdout",
     "output_type": "stream",
     "text": [
      "✅ Paenibacillus barengoltzii G22 → Proteome ID: UP000019598 (Reference: False, via: name)\n",
      "✅ Eubacterium plexicaudatum ASF492 → Proteome ID: UP000012589 (Reference: False, via: name)\n",
      "✅ Bacillus thuringiensis Sbt003 → Proteome ID: UP000032407 (Reference: False, via: name)\n"
     ]
    },
    {
     "name": "stderr",
     "output_type": "stream",
     "text": [
      " 75%|███████▌  | 1323/1759 [02:36<00:41, 10.52it/s]"
     ]
    },
    {
     "name": "stdout",
     "output_type": "stream",
     "text": [
      "✅ Herbaspirillum rubrisubalbicans Os34 → Proteome ID: UP000501648 (Reference: False, via: name)\n",
      "✅ Mycobacterium bohemicum DSM 44277 → Proteome ID: UP000193990 (Reference: False, via: name)\n",
      "✅ Geofilum rubicundum JCM 15548 → Proteome ID: UP000032900 (Reference: False, via: name)\n"
     ]
    },
    {
     "name": "stderr",
     "output_type": "stream",
     "text": [
      " 75%|███████▌  | 1325/1759 [02:36<00:40, 10.62it/s]"
     ]
    },
    {
     "name": "stdout",
     "output_type": "stream",
     "text": [
      "✅ Fulvivirga imtechensis AK7 → Proteome ID: UP000011135 (Reference: False, via: name)\n",
      "✅ Plasmodium inui San Antonio 1 → Proteome ID: UP000030640 (Reference: False, via: name)\n",
      "✅ Plasmodium falciparum UGT5.1 → Proteome ID: UP000030697 (Reference: False, via: name)\n"
     ]
    },
    {
     "name": "stderr",
     "output_type": "stream",
     "text": [
      " 76%|███████▌  | 1329/1759 [02:36<00:40, 10.65it/s]"
     ]
    },
    {
     "name": "stdout",
     "output_type": "stream",
     "text": [
      "✅ Colletotrichum gloeosporioides Cg-14 → Proteome ID: UP000015530 (Reference: False, via: name)\n",
      "✅ Amycolatopsis azurea DSM 43854 → Proteome ID: UP000014137 (Reference: False, via: name)\n",
      "✅ Caenispirillum salinarum AK4 → Proteome ID: UP000009881 (Reference: False, via: name)\n"
     ]
    },
    {
     "name": "stderr",
     "output_type": "stream",
     "text": [
      " 76%|███████▌  | 1331/1759 [02:36<00:40, 10.65it/s]"
     ]
    },
    {
     "name": "stdout",
     "output_type": "stream",
     "text": [
      "✅ Vibrio nigripulchritudo SOn1 → Proteome ID: UP000018211 (Reference: False, via: name)\n",
      "✅ Mariniradius saccharolyticus AK6 → Proteome ID: UP000010953 (Reference: False, via: name)\n",
      "✅ Streptomyces natalensis ATCC 27448 → Proteome ID: UP000032458 (Reference: False, via: name)\n"
     ]
    },
    {
     "name": "stderr",
     "output_type": "stream",
     "text": [
      " 76%|███████▌  | 1333/1759 [02:37<00:41, 10.32it/s]"
     ]
    },
    {
     "name": "stdout",
     "output_type": "stream",
     "text": [
      "✅ Salmonella enterica subsp. enterica serovar Macclesfield str. S-1643 → Proteome ID: UP000197157 (Reference: False, via: name)\n",
      "✅ Cystobacter fuscus DSM 2262 → Proteome ID: UP000011682 (Reference: False, via: name)\n"
     ]
    },
    {
     "name": "stderr",
     "output_type": "stream",
     "text": [
      " 76%|███████▌  | 1336/1759 [02:37<00:53,  7.87it/s]"
     ]
    },
    {
     "name": "stdout",
     "output_type": "stream",
     "text": [
      "✅ Salmonella enterica subsp. salamae serovar 55:k:z39 str. 1315K → Proteome ID: UP000198067 (Reference: False, via: taxid)\n",
      "✅ Salmonella bongori serovar 66:z41:- str. SA19983605 → Proteome ID: UP000197991 (Reference: False, via: taxid)\n"
     ]
    },
    {
     "name": "stderr",
     "output_type": "stream",
     "text": [
      " 76%|███████▌  | 1338/1759 [02:37<00:48,  8.64it/s]"
     ]
    },
    {
     "name": "stdout",
     "output_type": "stream",
     "text": [
      "✅ Bradyrhizobium oligotrophicum S58 → Proteome ID: UP000011841 (Reference: False, via: name)\n",
      "✅ Metapseudomonas resinovorans NBRC 106553 → Proteome ID: UP000015503 (Reference: False, via: name)\n",
      "✅ Candida maltosa Xu316 → Proteome ID: UP000011777 (Reference: False, via: name)\n"
     ]
    },
    {
     "name": "stderr",
     "output_type": "stream",
     "text": [
      " 76%|███████▋  | 1342/1759 [02:38<00:43,  9.67it/s]"
     ]
    },
    {
     "name": "stdout",
     "output_type": "stream",
     "text": [
      "✅ Beauveria bassiana D1-5 → Proteome ID: UP000030106 (Reference: False, via: name)\n",
      "✅ Scytonema millei VB511283 → Proteome ID: UP000031532 (Reference: False, via: name)\n",
      "✅ Variovorax paradoxus B4 → Proteome ID: UP000016223 (Reference: False, via: name)\n"
     ]
    },
    {
     "name": "stderr",
     "output_type": "stream",
     "text": [
      " 76%|███████▋  | 1344/1759 [02:38<00:41, 10.08it/s]"
     ]
    },
    {
     "name": "stdout",
     "output_type": "stream",
     "text": [
      "✅ Actinoplanes friuliensis DSM 7358 → Proteome ID: UP000017746 (Reference: False, via: name)\n",
      "✅ Advenella mimigardefordensis DPN7 → Proteome ID: UP000019095 (Reference: False, via: name)\n",
      "✅ Emmonsia crescens UAMH 3008 → Proteome ID: UP000034164 (Reference: False, via: name)\n"
     ]
    },
    {
     "name": "stderr",
     "output_type": "stream",
     "text": [
      " 77%|███████▋  | 1346/1759 [02:38<00:40, 10.23it/s]"
     ]
    },
    {
     "name": "stdout",
     "output_type": "stream",
     "text": [
      "✅ Sorangium cellulosum So0157-2 → Proteome ID: UP000014803 (Reference: False, via: name)\n",
      "✅ Thioalkalivibrio nitratireducens DSM 14787 → Proteome ID: UP000010809 (Reference: False, via: name)\n"
     ]
    },
    {
     "name": "stderr",
     "output_type": "stream",
     "text": [
      " 77%|███████▋  | 1350/1759 [02:39<00:43,  9.45it/s]"
     ]
    },
    {
     "name": "stdout",
     "output_type": "stream",
     "text": [
      "✅ Acanthamoeba castellanii str. Neff → Proteome ID: UP000011083 (Reference: False, via: taxid)\n",
      "✅ Citrobacter amalonaticus Y19 → Proteome ID: UP000034085 (Reference: False, via: name)\n",
      "✅ Xanthomonas translucens pv. translucens DSM 18974 → Proteome ID: UP000093071 (Reference: False, via: name)\n"
     ]
    },
    {
     "name": "stderr",
     "output_type": "stream",
     "text": [
      " 77%|███████▋  | 1352/1759 [02:39<00:47,  8.55it/s]"
     ]
    },
    {
     "name": "stdout",
     "output_type": "stream",
     "text": [
      "✅ Ophiostoma piceae UAMH 11346 → Proteome ID: UP000016923 (Reference: False, via: name)\n",
      "✅ [Clostridium] clostridioforme CAG:132 → Proteome ID: UP000018009 (Reference: False, via: taxid)\n"
     ]
    },
    {
     "name": "stderr",
     "output_type": "stream",
     "text": [
      " 77%|███████▋  | 1355/1759 [02:39<00:46,  8.76it/s]"
     ]
    },
    {
     "name": "stdout",
     "output_type": "stream",
     "text": [
      "✅ Lichtheimia corymbifera JMRC:FSU:9682 → Proteome ID: UP000027586 (Reference: False, via: taxid)\n",
      "✅ Endocarpon pusillum Z07020 → Proteome ID: UP000019373 (Reference: False, via: name)\n",
      "✅ Stutzerimonas chloritidismutans AW-1 → Proteome ID: UP000017822 (Reference: False, via: name)\n"
     ]
    },
    {
     "name": "stderr",
     "output_type": "stream",
     "text": [
      " 77%|███████▋  | 1357/1759 [02:39<00:42,  9.44it/s]"
     ]
    },
    {
     "name": "stdout",
     "output_type": "stream",
     "text": [
      "✅ Rhodopirellula europaea 6C → Proteome ID: UP000011529 (Reference: False, via: name)\n",
      "✅ Rhodopirellula europaea SH398 → Proteome ID: UP000011996 (Reference: False, via: name)\n",
      "✅ Rhodopirellula sallentina SM41 → Proteome ID: UP000011885 (Reference: False, via: name)\n"
     ]
    },
    {
     "name": "stderr",
     "output_type": "stream",
     "text": [
      " 77%|███████▋  | 1361/1759 [02:40<00:38, 10.27it/s]"
     ]
    },
    {
     "name": "stdout",
     "output_type": "stream",
     "text": [
      "✅ Ralstonia pickettii OR214 → Proteome ID: UP000013280 (Reference: False, via: name)\n",
      "✅ Tritonibacter mobilis F1926 → Proteome ID: UP000013243 (Reference: False, via: name)\n",
      "✅ Mycobacterium arosiense ATCC BAA-1401 = DSM 45069 → Proteome ID: UP000192707 (Reference: False, via: name)\n"
     ]
    },
    {
     "name": "stderr",
     "output_type": "stream",
     "text": [
      " 77%|███████▋  | 1363/1759 [02:40<00:39, 10.08it/s]"
     ]
    },
    {
     "name": "stdout",
     "output_type": "stream",
     "text": [
      "✅ Rhodopirellula maiorica SM1 → Proteome ID: UP000011991 (Reference: False, via: name)\n",
      "✅ Streptomyces rimosus subsp. rimosus ATCC 10970 → Proteome ID: UP000011074 (Reference: False, via: name)\n",
      "✅ Lachancea nothofagi CBS 11611 → Proteome ID: UP000189911 (Reference: False, via: name)\n"
     ]
    },
    {
     "name": "stderr",
     "output_type": "stream",
     "text": [
      " 78%|███████▊  | 1367/1759 [02:40<00:36, 10.80it/s]"
     ]
    },
    {
     "name": "stdout",
     "output_type": "stream",
     "text": [
      "✅ Lachancea meyersii CBS 8951 → Proteome ID: UP000191144 (Reference: False, via: name)\n",
      "✅ Paenibacillus sabinae T27 → Proteome ID: UP000019772 (Reference: False, via: name)\n",
      "✅ Aeromonas molluscorum 848 → Proteome ID: UP000013526 (Reference: False, via: name)\n"
     ]
    },
    {
     "name": "stderr",
     "output_type": "stream",
     "text": [
      " 78%|███████▊  | 1369/1759 [02:40<00:36, 10.81it/s]"
     ]
    },
    {
     "name": "stdout",
     "output_type": "stream",
     "text": [
      "✅ Aeromonas diversa CDC 2478-85 → Proteome ID: UP000023775 (Reference: False, via: name)\n",
      "✅ Blumeria graminis f. sp. tritici 96224 → Proteome ID: UP000053110 (Reference: False, via: name)\n",
      "✅ Rhodococcus rhodnii LMG 5362 → Proteome ID: UP000013525 (Reference: False, via: name)\n"
     ]
    },
    {
     "name": "stderr",
     "output_type": "stream",
     "text": [
      " 78%|███████▊  | 1373/1759 [02:41<00:36, 10.64it/s]"
     ]
    },
    {
     "name": "stdout",
     "output_type": "stream",
     "text": [
      "✅ Metarhizium guizhouense ARSEF 977 → Proteome ID: UP000031192 (Reference: False, via: name)\n",
      "✅ Zymoseptoria tritici ST99CH_1A5 → Proteome ID: UP000215453 (Reference: False, via: name)\n",
      "✅ Zymoseptoria tritici ST99CH_1E4 → Proteome ID: UP000245764 (Reference: False, via: name)\n"
     ]
    },
    {
     "name": "stderr",
     "output_type": "stream",
     "text": [
      " 78%|███████▊  | 1375/1759 [02:41<00:35, 10.75it/s]"
     ]
    },
    {
     "name": "stdout",
     "output_type": "stream",
     "text": [
      "✅ Zymoseptoria tritici ST99CH_3D7 → Proteome ID: UP000215127 (Reference: False, via: name)\n",
      "✅ Paeniglutamicibacter gangotriensis Lz1y → Proteome ID: UP000012015 (Reference: False, via: name)\n",
      "✅ Pseudozyma flocculosa PF-1 → Proteome ID: UP000053664 (Reference: False, via: name)\n"
     ]
    },
    {
     "name": "stderr",
     "output_type": "stream",
     "text": [
      " 78%|███████▊  | 1379/1759 [02:41<00:34, 10.99it/s]"
     ]
    },
    {
     "name": "stdout",
     "output_type": "stream",
     "text": [
      "✅ Myxococcus stipitatus DSM 14675 → Proteome ID: UP000011131 (Reference: False, via: name)\n",
      "✅ Rhodococcus ruber BKS 20-38 → Proteome ID: UP000011731 (Reference: False, via: name)\n",
      "✅ Cesiribacter andamanensis AMV16 → Proteome ID: UP000011910 (Reference: False, via: name)\n"
     ]
    },
    {
     "name": "stderr",
     "output_type": "stream",
     "text": [
      " 79%|███████▊  | 1381/1759 [02:42<00:34, 10.82it/s]"
     ]
    },
    {
     "name": "stdout",
     "output_type": "stream",
     "text": [
      "✅ Cladophialophora carrionii CBS 160.54 → Proteome ID: UP000030678 (Reference: False, via: name)\n",
      "✅ Fusarium fujikuroi IMI 58289 → Proteome ID: UP000016800 (Reference: False, via: name)\n",
      "✅ Stachybotrys chartarum IBT 7711 → Proteome ID: UP000028045 (Reference: False, via: name)\n"
     ]
    },
    {
     "name": "stderr",
     "output_type": "stream",
     "text": [
      " 79%|███████▊  | 1385/1759 [02:42<00:34, 10.76it/s]"
     ]
    },
    {
     "name": "stdout",
     "output_type": "stream",
     "text": [
      "✅ Hyphomonas oceanitis SCH89 → Proteome ID: UP000024942 (Reference: False, via: name)\n",
      "✅ Hyphomonas polymorpha PS728 → Proteome ID: UP000027100 (Reference: False, via: name)\n",
      "✅ Escherichia coli HVH 36 (4-5675286) → Proteome ID: UP000017766 (Reference: False, via: name)\n"
     ]
    },
    {
     "name": "stderr",
     "output_type": "stream",
     "text": [
      " 79%|███████▉  | 1387/1759 [02:42<00:35, 10.48it/s]"
     ]
    },
    {
     "name": "stdout",
     "output_type": "stream",
     "text": [
      "✅ Escherichia coli UMEA 3162-1 → Proteome ID: UP000016035 (Reference: False, via: name)\n",
      "✅ Hydrogenophaga taeniospiralis CCUG 15921 → Proteome ID: UP001152876 (Reference: False, via: name)\n",
      "✅ Streptomyces afghaniensis 772 → Proteome ID: UP000015001 (Reference: False, via: name)\n"
     ]
    },
    {
     "name": "stderr",
     "output_type": "stream",
     "text": [
      " 79%|███████▉  | 1389/1759 [02:42<00:35, 10.41it/s]"
     ]
    },
    {
     "name": "stdout",
     "output_type": "stream",
     "text": [
      "✅ Azotobacter vinelandii CA6 → Proteome ID: UP000012988 (Reference: False, via: name)\n",
      "✅ Stachybotrys chlorohalonatus IBT 40285 → Proteome ID: UP000028524 (Reference: False, via: name)\n"
     ]
    },
    {
     "name": "stderr",
     "output_type": "stream",
     "text": [
      " 79%|███████▉  | 1393/1759 [02:43<00:35, 10.17it/s]"
     ]
    },
    {
     "name": "stdout",
     "output_type": "stream",
     "text": [
      "✅ Dactylellina haptotyla CBS 200.50 → Proteome ID: UP000015100 (Reference: False, via: name)\n",
      "✅ Amycolatopsis decaplanina DSM 44594 → Proteome ID: UP000054226 (Reference: False, via: name)\n",
      "✅ Phytophthora kernoviae 00238/432 → Proteome ID: UP000702964 (Reference: False, via: name)\n"
     ]
    },
    {
     "name": "stderr",
     "output_type": "stream",
     "text": [
      " 79%|███████▉  | 1395/1759 [02:43<00:35, 10.32it/s]"
     ]
    },
    {
     "name": "stdout",
     "output_type": "stream",
     "text": [
      "✅ Streptomyces gancidicus BKS 13-15 → Proteome ID: UP000011732 (Reference: False, via: name)\n",
      "✅ Streptomyces aurantiacus JA 4570 → Proteome ID: UP000014629 (Reference: False, via: name)\n"
     ]
    },
    {
     "name": "stderr",
     "output_type": "stream",
     "text": [
      " 79%|███████▉  | 1397/1759 [02:43<00:35, 10.12it/s]"
     ]
    },
    {
     "name": "stdout",
     "output_type": "stream",
     "text": [
      "✅ Sphaerotilus natans subsp. natans DSM 6575 → Proteome ID: UP000026714 (Reference: False, via: name)\n",
      "✅ Desulfotignum phosphitoxidans DSM 13687 → Proteome ID: UP000014216 (Reference: False, via: name)\n"
     ]
    },
    {
     "name": "stderr",
     "output_type": "stream",
     "text": [
      " 80%|███████▉  | 1399/1759 [02:44<00:44,  8.04it/s]"
     ]
    },
    {
     "name": "stdout",
     "output_type": "stream",
     "text": [
      "✅ Phaeoacremonium minimum UCRPA7 → Proteome ID: UP000014074 (Reference: False, via: taxid)\n",
      "✅ Neofusicoccum parvum UCRNP2 → Proteome ID: UP000013521 (Reference: False, via: taxid)\n"
     ]
    },
    {
     "name": "stderr",
     "output_type": "stream",
     "text": [
      " 80%|███████▉  | 1402/1759 [02:44<00:43,  8.18it/s]"
     ]
    },
    {
     "name": "stdout",
     "output_type": "stream",
     "text": [
      "✅ Eutypa lata UCREL1 → Proteome ID: UP000012174 (Reference: False, via: taxid)\n",
      "✅ Roseovarius mucosus DSM 17069 → Proteome ID: UP000030021 (Reference: False, via: name)\n",
      "✅ Botrytis cinerea BcDW1 → Proteome ID: UP000012045 (Reference: False, via: name)\n"
     ]
    },
    {
     "name": "stderr",
     "output_type": "stream",
     "text": [
      " 80%|███████▉  | 1404/1759 [02:44<00:40,  8.82it/s]"
     ]
    },
    {
     "name": "stdout",
     "output_type": "stream",
     "text": [
      "✅ Metarhizium anisopliae BRIP 53293 → Proteome ID: UP000054544 (Reference: False, via: name)\n",
      "✅ Caulobacter vibrioides OR37 → Proteome ID: UP000013063 (Reference: False, via: name)\n",
      "✅ Amycolatopsis vancoresmycina DSM 44592 → Proteome ID: UP000014139 (Reference: False, via: name)\n"
     ]
    },
    {
     "name": "stderr",
     "output_type": "stream",
     "text": [
      " 80%|███████▉  | 1407/1759 [02:44<00:38,  9.25it/s]"
     ]
    },
    {
     "name": "stdout",
     "output_type": "stream",
     "text": [
      "✅ Limnohabitans planktonicus II-D5 → Proteome ID: UP000037507 (Reference: False, via: name)\n",
      "✅ Limnohabitans parvus II-B4 → Proteome ID: UP000250790 (Reference: False, via: name)\n",
      "✅ Melittangium boletus DSM 14713 → Proteome ID: UP000217289 (Reference: False, via: name)\n"
     ]
    },
    {
     "name": "stderr",
     "output_type": "stream",
     "text": [
      " 80%|████████  | 1411/1759 [02:45<00:34,  9.95it/s]"
     ]
    },
    {
     "name": "stdout",
     "output_type": "stream",
     "text": [
      "✅ Pseudomonas veronii 1YdBTEX2 → Proteome ID: UP000245431 (Reference: False, via: name)\n",
      "✅ Cryptococcus wingfieldii CBS 7118 → Proteome ID: UP000094819 (Reference: False, via: name)\n",
      "✅ Cryptococcus depauperatus CBS 7841 → Proteome ID: UP000094043 (Reference: False, via: name)\n"
     ]
    },
    {
     "name": "stderr",
     "output_type": "stream",
     "text": [
      " 80%|████████  | 1413/1759 [02:45<00:33, 10.22it/s]"
     ]
    },
    {
     "name": "stdout",
     "output_type": "stream",
     "text": [
      "✅ Cryptococcus amylolentus CBS 6039 → Proteome ID: UP000094065 (Reference: False, via: name)\n",
      "✅ Kwoniella dendrophila CBS 6074 → Proteome ID: UP001355207 (Reference: False, via: name)\n"
     ]
    },
    {
     "name": "stderr",
     "output_type": "stream",
     "text": [
      " 80%|████████  | 1415/1759 [02:45<00:34,  9.83it/s]"
     ]
    },
    {
     "name": "stdout",
     "output_type": "stream",
     "text": [
      "✅ Kwoniella pini CBS 10737 → Proteome ID: UP000094020 (Reference: False, via: name)\n",
      "✅ Kwoniella bestiolae CBS 10118 → Proteome ID: UP000092730 (Reference: False, via: name)\n"
     ]
    },
    {
     "name": "stderr",
     "output_type": "stream",
     "text": [
      " 81%|████████  | 1417/1759 [02:45<00:40,  8.46it/s]"
     ]
    },
    {
     "name": "stdout",
     "output_type": "stream",
     "text": [
      "❌ No proteome found for: Cryptococcus bacillisporus CA1280 (Taxon ID: 1296109)\n",
      "✅ Cryptococcus deuterogattii Ram5 → Proteome ID: UP000053392 (Reference: False, via: name)\n"
     ]
    },
    {
     "name": "stderr",
     "output_type": "stream",
     "text": [
      " 81%|████████  | 1420/1759 [02:46<00:36,  9.35it/s]"
     ]
    },
    {
     "name": "stdout",
     "output_type": "stream",
     "text": [
      "✅ Cryptococcus amylolentus CBS 6273 → Proteome ID: UP000095149 (Reference: False, via: name)\n",
      "✅ Kwoniella heveanensis BCC8398 → Proteome ID: UP000092666 (Reference: False, via: name)\n",
      "✅ Kwoniella dejecticola CBS 10117 → Proteome ID: UP000078595 (Reference: False, via: name)\n"
     ]
    },
    {
     "name": "stderr",
     "output_type": "stream",
     "text": [
      " 81%|████████  | 1422/1759 [02:46<00:42,  7.90it/s]"
     ]
    },
    {
     "name": "stdout",
     "output_type": "stream",
     "text": [
      "✅ Mesorhizobium metallidurans STM 2683 → Proteome ID: UP000012062 (Reference: False, via: name)\n",
      "❌ No proteome found for: Salmonella enterica subsp. enterica serovar Paratyphi B str. CFSAN000540 (Taxon ID: 1299076)\n"
     ]
    },
    {
     "name": "stderr",
     "output_type": "stream",
     "text": [
      " 81%|████████  | 1424/1759 [02:46<00:53,  6.29it/s]"
     ]
    },
    {
     "name": "stdout",
     "output_type": "stream",
     "text": [
      "❌ No proteome found for: Salmonella enterica subsp. enterica serovar Paratyphi B str. CFSAN000541 (Taxon ID: 1299077)\n",
      "❌ No proteome found for: Salmonella enterica subsp. enterica serovar Paratyphi B str. CFSAN000542 (Taxon ID: 1299078)\n"
     ]
    },
    {
     "name": "stderr",
     "output_type": "stream",
     "text": [
      " 81%|████████  | 1426/1759 [02:47<00:55,  6.02it/s]"
     ]
    },
    {
     "name": "stdout",
     "output_type": "stream",
     "text": [
      "❌ No proteome found for: Salmonella enterica subsp. enterica serovar Typhimurium str. CFSAN000648 (Taxon ID: 1299111)\n",
      "❌ No proteome found for: Salmonella enterica subsp. enterica serovar Newport str. CFSAN000827 (Taxon ID: 1299166)\n"
     ]
    },
    {
     "name": "stderr",
     "output_type": "stream",
     "text": [
      " 81%|████████  | 1428/1759 [02:47<00:43,  7.53it/s]"
     ]
    },
    {
     "name": "stdout",
     "output_type": "stream",
     "text": [
      "✅ Salmonella enterica subsp. enterica serovar Newport str. CFSAN000835 → Proteome ID: UP000839534 (Reference: False, via: name)\n",
      "✅ Salmonella enterica subsp. enterica serovar Choleraesuis str. CFSAN000515 → Proteome ID: UP000711464 (Reference: False, via: name)\n",
      "✅ Salmonella enterica subsp. enterica serovar Infantis str. CFSAN000522 → Proteome ID: UP000427205 (Reference: False, via: name)\n"
     ]
    },
    {
     "name": "stderr",
     "output_type": "stream",
     "text": [
      " 81%|████████▏ | 1431/1759 [02:47<00:37,  8.80it/s]"
     ]
    },
    {
     "name": "stdout",
     "output_type": "stream",
     "text": [
      "✅ Wallemia ichthyophaga EXF-994 → Proteome ID: UP000014064 (Reference: False, via: name)\n",
      "✅ Mycobacteroides abscessus subsp. bolletii 1513 → Proteome ID: UP000023351 (Reference: False, via: name)\n",
      "✅ Mycobacteroides abscessus 1948 → Proteome ID: UP000021210 (Reference: False, via: name)\n"
     ]
    },
    {
     "name": "stderr",
     "output_type": "stream",
     "text": [
      " 81%|████████▏ | 1433/1759 [02:47<00:35,  9.30it/s]"
     ]
    },
    {
     "name": "stdout",
     "output_type": "stream",
     "text": [
      "✅ Mycobacteroides abscessus 21 → Proteome ID: UP000185094 (Reference: False, via: name)\n",
      "✅ Mycobacterium kansasii 662 → Proteome ID: UP000020561 (Reference: False, via: name)\n",
      "✅ Mycobacterium intracellulare 1956 → Proteome ID: UP000020825 (Reference: False, via: name)\n"
     ]
    },
    {
     "name": "stderr",
     "output_type": "stream",
     "text": [
      " 82%|████████▏ | 1438/1759 [02:48<00:34,  9.18it/s]"
     ]
    },
    {
     "name": "stdout",
     "output_type": "stream",
     "text": [
      "❌ No proteome found for: Mycobacterium xenopi 4042 (Taxon ID: 1299334)\n",
      "✅ Kosakonia cowanii JCM 10956 = DSM 18146 → Proteome ID: UP000187148 (Reference: False, via: name)\n",
      "✅ Brevibacillus borstelensis AK1 → Proteome ID: UP000012081 (Reference: False, via: name)\n"
     ]
    },
    {
     "name": "stderr",
     "output_type": "stream",
     "text": [
      " 82%|████████▏ | 1440/1759 [02:48<00:33,  9.48it/s]"
     ]
    },
    {
     "name": "stdout",
     "output_type": "stream",
     "text": [
      "✅ Dokdonella koreensis DS-123 → Proteome ID: UP000076830 (Reference: False, via: name)\n",
      "✅ Lysobacter dokdonensis DS-58 → Proteome ID: UP000030518 (Reference: False, via: name)\n",
      "✅ Sphingobium indicum BiD32 → Proteome ID: UP000013201 (Reference: False, via: name)\n"
     ]
    },
    {
     "name": "stderr",
     "output_type": "stream",
     "text": [
      " 82%|████████▏ | 1444/1759 [02:49<00:30, 10.22it/s]"
     ]
    },
    {
     "name": "stdout",
     "output_type": "stream",
     "text": [
      "✅ Pseudomonas knackmussii B13 → Proteome ID: UP000025241 (Reference: False, via: name)\n",
      "✅ Pyrenophora seminiperda CCB06 → Proteome ID: UP000265663 (Reference: False, via: name)\n",
      "✅ Mycobacteroides abscessus subsp. bolletii 50594 → Proteome ID: UP000013961 (Reference: False, via: name)\n"
     ]
    },
    {
     "name": "stderr",
     "output_type": "stream",
     "text": [
      " 82%|████████▏ | 1446/1759 [02:49<00:30, 10.37it/s]"
     ]
    },
    {
     "name": "stdout",
     "output_type": "stream",
     "text": [
      "✅ Rhodococcus qingshengii JCM 15477 → Proteome ID: UP000831484 (Reference: False, via: name)\n",
      "✅ Streptomyces microflavus DSM 40593 → Proteome ID: UP000013304 (Reference: False, via: name)\n",
      "✅ Salinisphaera hydrothermalis C41B8 → Proteome ID: UP000028302 (Reference: False, via: name)\n"
     ]
    },
    {
     "name": "stderr",
     "output_type": "stream",
     "text": [
      " 82%|████████▏ | 1450/1759 [02:49<00:29, 10.47it/s]"
     ]
    },
    {
     "name": "stdout",
     "output_type": "stream",
     "text": [
      "✅ Hassallia byssoidea VB512170 → Proteome ID: UP000031549 (Reference: False, via: name)\n",
      "✅ Xanthomonas axonopodis Xac29-1 → Proteome ID: UP000011979 (Reference: False, via: name)\n",
      "✅ Pseudozyma hubeiensis SY62 → Proteome ID: UP000014071 (Reference: False, via: name)\n"
     ]
    },
    {
     "name": "stderr",
     "output_type": "stream",
     "text": [
      " 83%|████████▎ | 1452/1759 [02:49<00:30, 10.16it/s]"
     ]
    },
    {
     "name": "stdout",
     "output_type": "stream",
     "text": [
      "✅ Streptomyces lucensis JCM 4490 → Proteome ID: UP000620224 (Reference: False, via: name)\n",
      "✅ Streptomyces naganishii JCM 4654 → Proteome ID: UP000608955 (Reference: False, via: name)\n",
      "✅ Streptomyces chrestomyceticus JCM 4735 → Proteome ID: UP000287830 (Reference: False, via: name)\n"
     ]
    },
    {
     "name": "stderr",
     "output_type": "stream",
     "text": [
      " 83%|████████▎ | 1456/1759 [02:50<00:29, 10.30it/s]"
     ]
    },
    {
     "name": "stdout",
     "output_type": "stream",
     "text": [
      "✅ Mycobacteroides abscessus subsp. bolletii CRM-0020 → Proteome ID: UP000014969 (Reference: False, via: name)\n",
      "✅ Streptomyces thermolilacinus SPC6 → Proteome ID: UP000095329 (Reference: False, via: name)\n",
      "✅ Marinobacter excellens LAMA 842 → Proteome ID: UP000070282 (Reference: False, via: name)\n"
     ]
    },
    {
     "name": "stderr",
     "output_type": "stream",
     "text": [
      " 83%|████████▎ | 1458/1759 [02:50<00:28, 10.42it/s]"
     ]
    },
    {
     "name": "stdout",
     "output_type": "stream",
     "text": [
      "✅ Cytobacillus firmus DS1 → Proteome ID: UP000019270 (Reference: False, via: name)\n",
      "✅ Acinetobacter baumannii 625974 → Proteome ID: UP000021108 (Reference: False, via: name)\n",
      "✅ Acinetobacter baumannii 1284800 → Proteome ID: UP000027056 (Reference: False, via: name)\n"
     ]
    },
    {
     "name": "stderr",
     "output_type": "stream",
     "text": [
      " 83%|████████▎ | 1462/1759 [02:50<00:28, 10.55it/s]"
     ]
    },
    {
     "name": "stdout",
     "output_type": "stream",
     "text": [
      "✅ Paenibacillus uliginis N3/975 → Proteome ID: UP000192940 (Reference: False, via: name)\n",
      "✅ Polychaeton citri CBS 116435 → Proteome ID: UP000799441 (Reference: False, via: name)\n",
      "✅ Lepidopterella palustris CBS 459.81 → Proteome ID: UP000250266 (Reference: False, via: name)\n"
     ]
    },
    {
     "name": "stderr",
     "output_type": "stream",
     "text": [
      " 83%|████████▎ | 1464/1759 [02:51<00:27, 10.56it/s]"
     ]
    },
    {
     "name": "stdout",
     "output_type": "stream",
     "text": [
      "✅ Cylindrobasidium torrendii FP15055 ss-10 → Proteome ID: UP000054007 (Reference: False, via: name)\n",
      "✅ Umbelopsis ramanniana AG → Proteome ID: UP001206595 (Reference: False, via: name)\n",
      "✅ Linnemannia elongata AG-77 → Proteome ID: UP000078512 (Reference: False, via: name)\n"
     ]
    },
    {
     "name": "stderr",
     "output_type": "stream",
     "text": [
      " 83%|████████▎ | 1468/1759 [02:51<00:26, 11.03it/s]"
     ]
    },
    {
     "name": "stdout",
     "output_type": "stream",
     "text": [
      "✅ Sodiomyces alkalinus F11 → Proteome ID: UP000272025 (Reference: False, via: name)\n",
      "✅ Sistotremastrum suecicum HHB10207 ss-3 → Proteome ID: UP000076798 (Reference: False, via: name)\n",
      "✅ Sistotremastrum niveocremeum HHB9708 → Proteome ID: UP000076722 (Reference: False, via: name)\n"
     ]
    },
    {
     "name": "stderr",
     "output_type": "stream",
     "text": [
      " 84%|████████▎ | 1470/1759 [02:51<00:26, 10.84it/s]"
     ]
    },
    {
     "name": "stdout",
     "output_type": "stream",
     "text": [
      "✅ Polyporus arcularius HHB13444 → Proteome ID: UP000308197 (Reference: False, via: name)\n",
      "✅ Zopfia rhizophila CBS 207.26 → Proteome ID: UP000800200 (Reference: False, via: name)\n",
      "✅ Piedraia hortae CBS 480.64 → Proteome ID: UP000799421 (Reference: False, via: name)\n"
     ]
    },
    {
     "name": "stderr",
     "output_type": "stream",
     "text": [
      " 84%|████████▎ | 1472/1759 [02:51<00:26, 10.89it/s]"
     ]
    },
    {
     "name": "stdout",
     "output_type": "stream",
     "text": [
      "✅ Exidia glandulosa HHB12029 → Proteome ID: UP000077266 (Reference: False, via: name)\n",
      "✅ Neolentinus lepideus HHB14362 ss-1 → Proteome ID: UP000076761 (Reference: False, via: name)\n"
     ]
    },
    {
     "name": "stderr",
     "output_type": "stream",
     "text": [
      " 84%|████████▍ | 1476/1759 [02:52<00:27, 10.46it/s]"
     ]
    },
    {
     "name": "stdout",
     "output_type": "stream",
     "text": [
      "✅ Daedalea quercina L-15889 → Proteome ID: UP000076727 (Reference: False, via: name)\n",
      "✅ Laetiporus sulphureus 93-53 → Proteome ID: UP000076871 (Reference: False, via: name)\n",
      "✅ Dissoconium aciculare CBS 342.82 → Proteome ID: UP000504637 (Reference: False, via: name)\n"
     ]
    },
    {
     "name": "stderr",
     "output_type": "stream",
     "text": [
      " 84%|████████▍ | 1478/1759 [02:52<00:27, 10.26it/s]"
     ]
    },
    {
     "name": "stdout",
     "output_type": "stream",
     "text": [
      "✅ Saccharata proteae CBS 121410 → Proteome ID: UP000799776 (Reference: False, via: name)\n",
      "✅ Lophiostoma macrostomum CBS 122681 → Proteome ID: UP000799324 (Reference: False, via: name)\n",
      "✅ Basidiobolus meristosporus CBS 931.73 → Proteome ID: UP000193498 (Reference: False, via: name)\n"
     ]
    },
    {
     "name": "stderr",
     "output_type": "stream",
     "text": [
      " 84%|████████▍ | 1482/1759 [02:52<00:26, 10.43it/s]"
     ]
    },
    {
     "name": "stdout",
     "output_type": "stream",
     "text": [
      "✅ Rhizopogon vinicolor AM-OR11-026 → Proteome ID: UP000092154 (Reference: False, via: name)\n",
      "✅ Pleomassaria siparia CBS 279.74 → Proteome ID: UP000799428 (Reference: False, via: name)\n",
      "✅ Melanomma pulvis-pyrius CBS 109.77 → Proteome ID: UP000799757 (Reference: False, via: name)\n"
     ]
    },
    {
     "name": "stderr",
     "output_type": "stream",
     "text": [
      " 84%|████████▍ | 1484/1759 [02:52<00:26, 10.28it/s]"
     ]
    },
    {
     "name": "stdout",
     "output_type": "stream",
     "text": [
      "✅ Dendrothele bispora CBS 962.96 → Proteome ID: UP000297245 (Reference: False, via: name)\n",
      "✅ Pseudoalteromonas peptidolytica F12-50-A1 → Proteome ID: UP000660708 (Reference: False, via: name)\n",
      "✅ Gordonia terrae C-6 → Proteome ID: UP000013569 (Reference: False, via: name)\n"
     ]
    },
    {
     "name": "stderr",
     "output_type": "stream",
     "text": [
      " 85%|████████▍ | 1488/1759 [02:53<00:26, 10.33it/s]"
     ]
    },
    {
     "name": "stdout",
     "output_type": "stream",
     "text": [
      "✅ Magnetospirillum fulvum MGU-K5 → Proteome ID: UP000015350 (Reference: False, via: name)\n",
      "✅ Phytophthora nicotianae CJ01A1 → Proteome ID: UP000018958 (Reference: False, via: name)\n",
      "✅ Phytophthora nicotianae P10297 → Proteome ID: UP000018948 (Reference: False, via: name)\n"
     ]
    },
    {
     "name": "stderr",
     "output_type": "stream",
     "text": [
      " 85%|████████▍ | 1490/1759 [02:53<00:26, 10.31it/s]"
     ]
    },
    {
     "name": "stdout",
     "output_type": "stream",
     "text": [
      "✅ Phytophthora nicotianae P1569 → Proteome ID: UP000018721 (Reference: False, via: name)\n",
      "✅ Phytophthora nicotianae P1976 → Proteome ID: UP000028582 (Reference: False, via: name)\n",
      "✅ Streptomyces fradiae ATCC 10745 = DSM 40063 → Proteome ID: UP000194318 (Reference: False, via: name)\n"
     ]
    },
    {
     "name": "stderr",
     "output_type": "stream",
     "text": [
      " 85%|████████▍ | 1494/1759 [02:53<00:25, 10.32it/s]"
     ]
    },
    {
     "name": "stdout",
     "output_type": "stream",
     "text": [
      "✅ Clostridiales bacterium oral taxon 876 str. F0540 → Proteome ID: UP000016490 (Reference: False, via: name)\n",
      "✅ Plasmodium yoelii 17X → Proteome ID: UP000018538 (Reference: False, via: name)\n",
      "✅ Paraburkholderia caribensis MBA4 → Proteome ID: UP000019146 (Reference: False, via: name)\n"
     ]
    },
    {
     "name": "stderr",
     "output_type": "stream",
     "text": [
      " 85%|████████▌ | 1496/1759 [02:54<00:27,  9.40it/s]"
     ]
    },
    {
     "name": "stdout",
     "output_type": "stream",
     "text": [
      "✅ Mycobacterium [tuberculosis] TKK-01-0051 → Proteome ID: UP000025947 (Reference: False, via: taxid)\n",
      "✅ Pseudomonas fluorescens LMG 5329 → Proteome ID: UP000030060 (Reference: False, via: name)\n",
      "✅ Aeromonas salmonicida subsp. pectinolytica 34mel → Proteome ID: UP000222916 (Reference: False, via: name)\n"
     ]
    },
    {
     "name": "stderr",
     "output_type": "stream",
     "text": [
      " 85%|████████▌ | 1499/1759 [02:54<00:26,  9.68it/s]"
     ]
    },
    {
     "name": "stdout",
     "output_type": "stream",
     "text": [
      "✅ Bacillus thuringiensis T01-328 → Proteome ID: UP000013487 (Reference: False, via: name)\n",
      "✅ Catenovulum agarivorans DS-2 → Proteome ID: UP000019276 (Reference: False, via: name)\n",
      "✅ Azotobacter chroococcum NCIMB 8003 → Proteome ID: UP000068210 (Reference: False, via: name)\n"
     ]
    },
    {
     "name": "stderr",
     "output_type": "stream",
     "text": [
      " 85%|████████▌ | 1501/1759 [02:54<00:25, 10.02it/s]"
     ]
    },
    {
     "name": "stdout",
     "output_type": "stream",
     "text": [
      "✅ Boletus edulis BED1 → Proteome ID: UP001194468 (Reference: False, via: name)\n",
      "✅ Lentinus tigrinus ALCF2SS1-6 → Proteome ID: UP000313359 (Reference: False, via: name)\n"
     ]
    },
    {
     "name": "stderr",
     "output_type": "stream",
     "text": [
      " 86%|████████▌ | 1504/1759 [02:54<00:25,  9.86it/s]"
     ]
    },
    {
     "name": "stdout",
     "output_type": "stream",
     "text": [
      "✅ Xylona heveae TC161 → Proteome ID: UP000076632 (Reference: False, via: name)\n",
      "✅ Sphingobium quisquiliarum P25 → Proteome ID: UP000015525 (Reference: False, via: name)\n",
      "✅ Calocera viscosa TUFC12733 → Proteome ID: UP000076738 (Reference: False, via: name)\n"
     ]
    },
    {
     "name": "stderr",
     "output_type": "stream",
     "text": [
      " 86%|████████▌ | 1506/1759 [02:55<00:24, 10.23it/s]"
     ]
    },
    {
     "name": "stdout",
     "output_type": "stream",
     "text": [
      "✅ Ophiocordyceps polyrhachis-furcata BCC 54312 → Proteome ID: UP000253664 (Reference: False, via: name)\n",
      "✅ Bacillus bombysepticus str. Wang → Proteome ID: UP000031778 (Reference: False, via: name)\n"
     ]
    },
    {
     "name": "stderr",
     "output_type": "stream",
     "text": [
      " 86%|████████▌ | 1510/1759 [02:55<00:24,  9.99it/s]"
     ]
    },
    {
     "name": "stdout",
     "output_type": "stream",
     "text": [
      "✅ Agarivorans albus MKT 106 → Proteome ID: UP000014461 (Reference: False, via: name)\n",
      "✅ Sphingobium lactosutens DS20 → Proteome ID: UP000015531 (Reference: False, via: name)\n",
      "✅ Kwoniella mangroviensis CBS 10435 → Proteome ID: UP000092583 (Reference: False, via: name)\n"
     ]
    },
    {
     "name": "stderr",
     "output_type": "stream",
     "text": [
      " 86%|████████▌ | 1512/1759 [02:55<00:25,  9.75it/s]"
     ]
    },
    {
     "name": "stdout",
     "output_type": "stream",
     "text": [
      "✅ Bordetella holmesii CDC-H585-BH → Proteome ID: UP000026682 (Reference: False, via: name)\n",
      "✅ Bordetella pertussis CHLA-26 → Proteome ID: UP000018679 (Reference: False, via: name)\n"
     ]
    },
    {
     "name": "stderr",
     "output_type": "stream",
     "text": [
      " 86%|████████▌ | 1514/1759 [02:55<00:24,  9.95it/s]"
     ]
    },
    {
     "name": "stdout",
     "output_type": "stream",
     "text": [
      "✅ Streptomyces sparsogenes DSM 40356 → Proteome ID: UP000186168 (Reference: False, via: name)\n",
      "✅ Paenibacillus durus ATCC 35681 → Proteome ID: UP000034189 (Reference: False, via: name)\n",
      "✅ Zygosaccharomyces bailii CLIB 213 → Proteome ID: UP000019375 (Reference: False, via: name)\n"
     ]
    },
    {
     "name": "stderr",
     "output_type": "stream",
     "text": [
      " 86%|████████▋ | 1518/1759 [02:56<00:23, 10.05it/s]"
     ]
    },
    {
     "name": "stdout",
     "output_type": "stream",
     "text": [
      "✅ Enterobacter cloacae ECNIH2 → Proteome ID: UP000027611 (Reference: False, via: name)\n",
      "✅ Serratia marcescens SM39 → Proteome ID: UP000031665 (Reference: False, via: name)\n",
      "✅ Mycobacteroides abscessus MAB_030201_1075 → Proteome ID: UP000019854 (Reference: False, via: name)\n"
     ]
    },
    {
     "name": "stderr",
     "output_type": "stream",
     "text": [
      " 86%|████████▋ | 1520/1759 [02:56<00:23, 10.01it/s]"
     ]
    },
    {
     "name": "stdout",
     "output_type": "stream",
     "text": [
      "✅ Mycobacteroides abscessus MAB_091912_2446 → Proteome ID: UP000018502 (Reference: False, via: name)\n",
      "✅ Mycolicibacterium elephantis DSM 44368 → Proteome ID: UP000287177 (Reference: False, via: name)\n",
      "✅ Ciceribacter selenitireducens ATCC BAA-1503 → Proteome ID: UP000254764 (Reference: False, via: name)\n"
     ]
    },
    {
     "name": "stderr",
     "output_type": "stream",
     "text": [
      " 87%|████████▋ | 1523/1759 [02:56<00:23,  9.83it/s]"
     ]
    },
    {
     "name": "stdout",
     "output_type": "stream",
     "text": [
      "✅ Choiromyces venosus 120613-1 → Proteome ID: UP000276215 (Reference: False, via: name)\n",
      "✅ Vibrio fluvialis PG41 → Proteome ID: UP000014854 (Reference: False, via: name)\n",
      "✅ Brucella intermedia 229E → Proteome ID: UP000016842 (Reference: False, via: name)\n"
     ]
    },
    {
     "name": "stderr",
     "output_type": "stream",
     "text": [
      " 87%|████████▋ | 1526/1759 [02:57<00:24,  9.49it/s]"
     ]
    },
    {
     "name": "stdout",
     "output_type": "stream",
     "text": [
      "✅ Bacteroides fragilis str. I1345 → Proteome ID: UP000022032 (Reference: False, via: name)\n",
      "✅ Bacteroides fragilis str. 2-F-2 #4 → Proteome ID: UP000022272 (Reference: False, via: name)\n"
     ]
    },
    {
     "name": "stderr",
     "output_type": "stream",
     "text": [
      " 87%|████████▋ | 1527/1759 [02:57<00:24,  9.56it/s]"
     ]
    },
    {
     "name": "stdout",
     "output_type": "stream",
     "text": [
      "✅ Bacteroides fragilis str. 1007-1-F #10 → Proteome ID: UP000022433 (Reference: False, via: name)\n",
      "✅ Bacteroides fragilis str. 3783N1-8 → Proteome ID: UP000020682 (Reference: False, via: name)\n"
     ]
    },
    {
     "name": "stderr",
     "output_type": "stream",
     "text": [
      " 87%|████████▋ | 1530/1759 [02:57<00:23,  9.55it/s]"
     ]
    },
    {
     "name": "stdout",
     "output_type": "stream",
     "text": [
      "✅ Bacteroides fragilis str. 3976T8 → Proteome ID: UP000020938 (Reference: False, via: name)\n",
      "✅ Bacteroides fragilis str. 3988T(B)14 → Proteome ID: UP000020529 (Reference: False, via: name)\n"
     ]
    },
    {
     "name": "stderr",
     "output_type": "stream",
     "text": [
      " 87%|████████▋ | 1532/1759 [02:57<00:23,  9.56it/s]"
     ]
    },
    {
     "name": "stdout",
     "output_type": "stream",
     "text": [
      "✅ Bacteroides fragilis str. 3998T(B)3 → Proteome ID: UP000020773 (Reference: False, via: name)\n",
      "✅ Bacteroides fragilis str. S36L11 → Proteome ID: UP000022082 (Reference: False, via: name)\n"
     ]
    },
    {
     "name": "stderr",
     "output_type": "stream",
     "text": [
      " 87%|████████▋ | 1535/1759 [02:58<00:23,  9.74it/s]"
     ]
    },
    {
     "name": "stdout",
     "output_type": "stream",
     "text": [
      "✅ Parabacteroides distasonis str. 3776 D15 i → Proteome ID: UP000027850 (Reference: False, via: name)\n",
      "✅ Phocaeicola vulgatus str. 3775 SL(B) 10 (iv) → Proteome ID: UP000028134 (Reference: False, via: name)\n",
      "✅ Phocaeicola vulgatus str. 3975 RP4 → Proteome ID: UP000027661 (Reference: False, via: name)\n"
     ]
    },
    {
     "name": "stderr",
     "output_type": "stream",
     "text": [
      " 87%|████████▋ | 1537/1759 [02:58<00:21, 10.25it/s]"
     ]
    },
    {
     "name": "stdout",
     "output_type": "stream",
     "text": [
      "✅ Sporormia fimetaria CBS 119925 → Proteome ID: UP000799440 (Reference: False, via: name)\n",
      "✅ Rhizopus microsporus ATCC 52813 → Proteome ID: UP000242254 (Reference: False, via: name)\n",
      "✅ Mycolicibacterium septicum DSM 44393 → Proteome ID: UP000518188 (Reference: False, via: name)\n"
     ]
    },
    {
     "name": "stderr",
     "output_type": "stream",
     "text": [
      " 88%|████████▊ | 1541/1759 [02:58<00:21, 10.16it/s]"
     ]
    },
    {
     "name": "stdout",
     "output_type": "stream",
     "text": [
      "✅ Streptomyces rapamycinicus NRRL 5491 → Proteome ID: UP000281594 (Reference: False, via: name)\n",
      "✅ Trichoderma reesei RUT C-30 → Proteome ID: UP000024376 (Reference: False, via: name)\n",
      "✅ Gonapodya prolifera JEL478 → Proteome ID: UP000070544 (Reference: False, via: name)\n"
     ]
    },
    {
     "name": "stderr",
     "output_type": "stream",
     "text": [
      " 88%|████████▊ | 1543/1759 [02:58<00:21, 10.23it/s]"
     ]
    },
    {
     "name": "stdout",
     "output_type": "stream",
     "text": [
      "✅ Ascoidea rubescens DSM 1968 → Proteome ID: UP000095038 (Reference: False, via: name)\n",
      "✅ Patellaria atrata CBS 101060 → Proteome ID: UP000799429 (Reference: False, via: name)\n",
      "✅ Sphingobacterium paucimobilis HER1398 → Proteome ID: UP000016584 (Reference: False, via: name)\n"
     ]
    },
    {
     "name": "stderr",
     "output_type": "stream",
     "text": [
      " 88%|████████▊ | 1545/1759 [02:59<00:20, 10.30it/s]"
     ]
    },
    {
     "name": "stdout",
     "output_type": "stream",
     "text": [
      "✅ Sphingobium ummariense RL-3 → Proteome ID: UP000015523 (Reference: False, via: name)\n",
      "✅ Lyngbya aestuarii BL J → Proteome ID: UP000017127 (Reference: False, via: name)\n"
     ]
    },
    {
     "name": "stderr",
     "output_type": "stream",
     "text": [
      " 88%|████████▊ | 1547/1759 [02:59<00:21, 10.09it/s]"
     ]
    },
    {
     "name": "stdout",
     "output_type": "stream",
     "text": [
      "✅ Priestia megaterium NBRC 15308 = ATCC 14581 → Proteome ID: UP000469503 (Reference: False, via: name)\n",
      "✅ Thauera terpenica 58Eu → Proteome ID: UP000015455 (Reference: False, via: name)\n",
      "✅ Kitasatospora cheerisanensis KCTC 2395 → Proteome ID: UP000027178 (Reference: False, via: name)\n"
     ]
    },
    {
     "name": "stderr",
     "output_type": "stream",
     "text": [
      " 88%|████████▊ | 1551/1759 [02:59<00:20, 10.32it/s]"
     ]
    },
    {
     "name": "stdout",
     "output_type": "stream",
     "text": [
      "✅ Janthinobacterium agaricidamnosum NBRC 102515 = DSM 9628 → Proteome ID: UP000027604 (Reference: False, via: name)\n",
      "✅ Streptomyces roseochromogenus subsp. oscitans DS 12.976 → Proteome ID: UP000017984 (Reference: False, via: name)\n"
     ]
    },
    {
     "name": "stderr",
     "output_type": "stream",
     "text": [
      " 88%|████████▊ | 1553/1759 [02:59<00:20, 10.13it/s]"
     ]
    },
    {
     "name": "stdout",
     "output_type": "stream",
     "text": [
      "✅ Aspergillus phoenicis ATCC 13157 → Proteome ID: UP000254937 (Reference: False, via: name)\n",
      "✅ Aspergillus niger ATCC 13496 → Proteome ID: UP000253845 (Reference: False, via: name)\n",
      "✅ Trametes coccinea BRFM310 → Proteome ID: UP000193067 (Reference: False, via: name)\n"
     ]
    },
    {
     "name": "stderr",
     "output_type": "stream",
     "text": [
      " 89%|████████▊ | 1557/1759 [03:00<00:20,  9.98it/s]"
     ]
    },
    {
     "name": "stdout",
     "output_type": "stream",
     "text": [
      "✅ Pseudoalteromonas luteoviolacea 2ta16 → Proteome ID: UP000017820 (Reference: False, via: name)\n",
      "✅ Calocera cornea HHB12733 → Proteome ID: UP000076842 (Reference: False, via: name)\n",
      "✅ Buttiauxella brennerae ATCC 51605 → Proteome ID: UP000078410 (Reference: False, via: name)\n"
     ]
    },
    {
     "name": "stderr",
     "output_type": "stream",
     "text": [
      " 89%|████████▊ | 1559/1759 [03:00<00:20,  9.93it/s]"
     ]
    },
    {
     "name": "stdout",
     "output_type": "stream",
     "text": [
      "✅ Buttiauxella gaviniae ATCC 51604 → Proteome ID: UP000078504 (Reference: False, via: name)\n",
      "✅ Buttiauxella noackiae ATCC 51607 → Proteome ID: UP000078286 (Reference: False, via: name)\n",
      "✅ Kluyvera georgiana ATCC 51603 → Proteome ID: UP000078386 (Reference: False, via: name)\n"
     ]
    },
    {
     "name": "stderr",
     "output_type": "stream",
     "text": [
      " 89%|████████▉ | 1563/1759 [03:00<00:19, 10.15it/s]"
     ]
    },
    {
     "name": "stdout",
     "output_type": "stream",
     "text": [
      "✅ Obesumbacterium proteus ATCC 12841 → Proteome ID: UP000078431 (Reference: False, via: name)\n",
      "✅ Paecilomyces variotii No. 5 → Proteome ID: UP000018001 (Reference: False, via: name)\n",
      "✅ Nostoc punctiforme NIES-2108 → Proteome ID: UP000252085 (Reference: False, via: name)\n"
     ]
    },
    {
     "name": "stderr",
     "output_type": "stream",
     "text": [
      " 89%|████████▉ | 1565/1759 [03:01<00:21,  9.15it/s]"
     ]
    },
    {
     "name": "stdout",
     "output_type": "stream",
     "text": [
      "❌ No proteome found for: Pseudomonas syringae CC1417 (Taxon ID: 1357272)\n",
      "✅ Pseudomonas syringae CC1557 → Proteome ID: UP000019089 (Reference: False, via: name)\n",
      "✅ Pseudomonas syringae UB303 → Proteome ID: UP000464688 (Reference: False, via: name)\n"
     ]
    },
    {
     "name": "stderr",
     "output_type": "stream",
     "text": [
      " 89%|████████▉ | 1569/1759 [03:01<00:20,  9.07it/s]"
     ]
    },
    {
     "name": "stdout",
     "output_type": "stream",
     "text": [
      "❌ No proteome found for: Pseudomonas syringae USA007 (Taxon ID: 1357288)\n",
      "✅ Pseudomonas syringae pv. pisi str. PP1 → Proteome ID: UP000277590 (Reference: False, via: name)\n",
      "✅ Richelia sinica FACHB-800 → Proteome ID: UP000683511 (Reference: False, via: name)\n"
     ]
    },
    {
     "name": "stderr",
     "output_type": "stream",
     "text": [
      " 89%|████████▉ | 1571/1759 [03:01<00:19,  9.58it/s]"
     ]
    },
    {
     "name": "stdout",
     "output_type": "stream",
     "text": [
      "✅ Pseudoalteromonas luteoviolacea CPMOR-1 → Proteome ID: UP000076486 (Reference: False, via: name)\n",
      "✅ Pseudoalteromonas luteoviolacea DSM 6061 → Proteome ID: UP000076643 (Reference: False, via: name)\n",
      "✅ Pseudoalteromonas luteoviolacea H33 → Proteome ID: UP000076503 (Reference: False, via: name)\n"
     ]
    },
    {
     "name": "stderr",
     "output_type": "stream",
     "text": [
      " 89%|████████▉ | 1574/1759 [03:02<00:18,  9.91it/s]"
     ]
    },
    {
     "name": "stdout",
     "output_type": "stream",
     "text": [
      "✅ Pseudoalteromonas luteoviolacea NCIMB 1942 → Proteome ID: UP000076587 (Reference: False, via: name)\n",
      "✅ Pseudoalteromonas luteoviolacea S4060-1 → Proteome ID: UP000076661 (Reference: False, via: name)\n",
      "✅ Penicillium roqueforti FM164 → Proteome ID: UP000030686 (Reference: False, via: name)\n"
     ]
    },
    {
     "name": "stderr",
     "output_type": "stream",
     "text": [
      " 90%|████████▉ | 1578/1759 [03:02<00:16, 10.66it/s]"
     ]
    },
    {
     "name": "stdout",
     "output_type": "stream",
     "text": [
      "✅ Kalmanozyma brasiliensis GHG001 → Proteome ID: UP000019377 (Reference: False, via: name)\n",
      "✅ Bacillus infantis NRRL B-14911 → Proteome ID: UP000017805 (Reference: False, via: name)\n",
      "✅ Paracoccus aminophilus JCM 7686 → Proteome ID: UP000015480 (Reference: False, via: name)\n"
     ]
    },
    {
     "name": "stderr",
     "output_type": "stream",
     "text": [
      " 90%|████████▉ | 1580/1759 [03:02<00:16, 10.87it/s]"
     ]
    },
    {
     "name": "stdout",
     "output_type": "stream",
     "text": [
      "✅ Agrobacterium rubi TR3 = NBRC 13261 → Proteome ID: UP000028701 (Reference: False, via: name)\n",
      "✅ Pochonia chlamydosporia 170 → Proteome ID: UP000078397 (Reference: False, via: name)\n",
      "✅ Moniliophthora roreri MCA 2997 → Proteome ID: UP000017559 (Reference: False, via: name)\n"
     ]
    },
    {
     "name": "stderr",
     "output_type": "stream",
     "text": [
      " 90%|████████▉ | 1582/1759 [03:02<00:16, 10.92it/s]"
     ]
    },
    {
     "name": "stdout",
     "output_type": "stream",
     "text": [
      "✅ Kuraishia capsulata CBS 1993 → Proteome ID: UP000019384 (Reference: False, via: name)\n",
      "✅ Pseudomonas putida S13.1.2 → Proteome ID: UP000033260 (Reference: False, via: name)\n",
      "✅ Skermanella stibiiresistens SB22 → Proteome ID: UP000019486 (Reference: False, via: name)\n"
     ]
    },
    {
     "name": "stderr",
     "output_type": "stream",
     "text": [
      " 90%|█████████ | 1586/1759 [03:03<00:16, 10.76it/s]"
     ]
    },
    {
     "name": "stdout",
     "output_type": "stream",
     "text": [
      "✅ Intrasporangium oryzae NRRL B-24470 → Proteome ID: UP000019489 (Reference: False, via: name)\n",
      "✅ Pseudomonas taiwanensis SJ9 → Proteome ID: UP000018511 (Reference: False, via: name)\n",
      "✅ Aspergillus ruber CBS 135680 → Proteome ID: UP000019804 (Reference: False, via: name)\n"
     ]
    },
    {
     "name": "stderr",
     "output_type": "stream",
     "text": [
      " 90%|█████████ | 1590/1759 [03:03<00:15, 10.70it/s]"
     ]
    },
    {
     "name": "stdout",
     "output_type": "stream",
     "text": [
      "✅ Austropuccinia psidii MF-1 → Proteome ID: UP000765509 (Reference: False, via: name)\n",
      "✅ Photorhabdus temperata J3 → Proteome ID: UP000017133 (Reference: False, via: name)\n",
      "✅ Sporothrix schenckii ATCC 58251 → Proteome ID: UP000018087 (Reference: False, via: name)\n"
     ]
    },
    {
     "name": "stderr",
     "output_type": "stream",
     "text": [
      " 91%|█████████ | 1592/1759 [03:03<00:15, 10.53it/s]"
     ]
    },
    {
     "name": "stdout",
     "output_type": "stream",
     "text": [
      "✅ Comamonas testosteroni TK102 → Proteome ID: UP000028782 (Reference: False, via: name)\n",
      "✅ Aspergillus flavus AF70 → Proteome ID: UP000032444 (Reference: False, via: name)\n"
     ]
    },
    {
     "name": "stderr",
     "output_type": "stream",
     "text": [
      " 91%|█████████ | 1594/1759 [03:03<00:15, 10.31it/s]"
     ]
    },
    {
     "name": "stdout",
     "output_type": "stream",
     "text": [
      "✅ Eremomyces bilateralis CBS 781.70 → Proteome ID: UP000504638 (Reference: False, via: name)\n",
      "✅ Dothidotthia symphoricarpi CBS 119687 → Proteome ID: UP000799771 (Reference: False, via: name)\n",
      "✅ Amniculicola lignicola CBS 123094 → Proteome ID: UP000799779 (Reference: False, via: name)\n"
     ]
    },
    {
     "name": "stderr",
     "output_type": "stream",
     "text": [
      " 91%|█████████ | 1598/1759 [03:04<00:14, 10.79it/s]"
     ]
    },
    {
     "name": "stdout",
     "output_type": "stream",
     "text": [
      "✅ Morchella conica CCBAS932 → Proteome ID: UP000277580 (Reference: False, via: name)\n",
      "✅ Aspergillus campestris IBT 28561 → Proteome ID: UP000234254 (Reference: False, via: name)\n",
      "✅ Aspergillus steynii IBT 23096 → Proteome ID: UP000234275 (Reference: False, via: name)\n"
     ]
    },
    {
     "name": "stderr",
     "output_type": "stream",
     "text": [
      " 91%|█████████ | 1600/1759 [03:04<00:15, 10.54it/s]"
     ]
    },
    {
     "name": "stdout",
     "output_type": "stream",
     "text": [
      "✅ Karstenula rhodostoma CBS 690.94 → Proteome ID: UP000799764 (Reference: False, via: name)\n",
      "✅ Aspergillus novofumigatus IBT 16806 → Proteome ID: UP000234474 (Reference: False, via: name)\n",
      "✅ Aspergillus ochraceoroseus IBT 24754 → Proteome ID: UP000244073 (Reference: False, via: name)\n"
     ]
    },
    {
     "name": "stderr",
     "output_type": "stream",
     "text": [
      " 91%|█████████ | 1602/1759 [03:04<00:14, 10.53it/s]"
     ]
    },
    {
     "name": "stdout",
     "output_type": "stream",
     "text": [
      "✅ Photorhabdus temperata subsp. temperata Meg1 → Proteome ID: UP000028002 (Reference: False, via: name)\n",
      "✅ Salmonella enterica subsp. arizonae serovar 18:z4,z23:- str. CVM N26626 → Proteome ID: UP000868500 (Reference: False, via: taxid)\n"
     ]
    },
    {
     "name": "stderr",
     "output_type": "stream",
     "text": [
      " 91%|█████████ | 1605/1759 [03:05<00:17,  9.00it/s]"
     ]
    },
    {
     "name": "stdout",
     "output_type": "stream",
     "text": [
      "✅ Massarina eburnea CBS 473.64 → Proteome ID: UP000799753 (Reference: False, via: name)\n",
      "✅ Pseudomonas moraviensis R28-S → Proteome ID: UP000024771 (Reference: False, via: name)\n"
     ]
    },
    {
     "name": "stderr",
     "output_type": "stream",
     "text": [
      " 91%|█████████▏| 1607/1759 [03:05<00:16,  9.04it/s]"
     ]
    },
    {
     "name": "stdout",
     "output_type": "stream",
     "text": [
      "✅ Pseudomonas taeanensis MS-3 → Proteome ID: UP000030063 (Reference: False, via: name)\n",
      "✅ Sporothrix schenckii 1099-18 → Proteome ID: UP000033710 (Reference: False, via: name)\n",
      "✅ Inquilinus limosus MP06 → Proteome ID: UP000029995 (Reference: False, via: name)\n"
     ]
    },
    {
     "name": "stderr",
     "output_type": "stream",
     "text": [
      " 91%|█████████▏| 1609/1759 [03:05<00:15,  9.74it/s]"
     ]
    },
    {
     "name": "stdout",
     "output_type": "stream",
     "text": [
      "✅ Sporothrix brasiliensis 5110 → Proteome ID: UP000031575 (Reference: False, via: name)\n",
      "❌ No proteome found for: Melanopsichium pennsylvanicum 4 (Taxon ID: 1398559)\n"
     ]
    },
    {
     "name": "stderr",
     "output_type": "stream",
     "text": [
      " 92%|█████████▏| 1613/1759 [03:05<00:16,  9.00it/s]"
     ]
    },
    {
     "name": "stdout",
     "output_type": "stream",
     "text": [
      "✅ Macrolepiota fuliginosa MF-IS2 → Proteome ID: UP000807342 (Reference: False, via: name)\n",
      "✅ Candidatus Contendobacter odensis Run_B_J11 → Proteome ID: UP000019184 (Reference: False, via: name)\n",
      "✅ Candidatus Competibacter denitrificans Run_A_D11 → Proteome ID: UP000035760 (Reference: False, via: name)\n"
     ]
    },
    {
     "name": "stderr",
     "output_type": "stream",
     "text": [
      " 92%|█████████▏| 1615/1759 [03:06<00:15,  9.26it/s]"
     ]
    },
    {
     "name": "stdout",
     "output_type": "stream",
     "text": [
      "✅ Aspergillus parasiticus SU-1 → Proteome ID: UP000033540 (Reference: False, via: name)\n",
      "✅ Stutzerimonas xanthomarina DSM 18231 → Proteome ID: UP000184000 (Reference: False, via: name)\n"
     ]
    },
    {
     "name": "stderr",
     "output_type": "stream",
     "text": [
      " 92%|█████████▏| 1618/1759 [03:06<00:14,  9.85it/s]"
     ]
    },
    {
     "name": "stdout",
     "output_type": "stream",
     "text": [
      "✅ Escherichia coli DORA_A_5_14_21 → Proteome ID: UP000018853 (Reference: False, via: name)\n",
      "✅ Archangium violaceum Cb vi76 → Proteome ID: UP000028547 (Reference: False, via: name)\n",
      "✅ Coniochaeta ligniaria NRRL 30616 → Proteome ID: UP000182658 (Reference: False, via: name)\n"
     ]
    },
    {
     "name": "stderr",
     "output_type": "stream",
     "text": [
      " 92%|█████████▏| 1620/1759 [03:06<00:13, 10.05it/s]"
     ]
    },
    {
     "name": "stdout",
     "output_type": "stream",
     "text": [
      "✅ Plenodomus tracheiphilus IPT5 → Proteome ID: UP000799423 (Reference: False, via: name)\n",
      "✅ Rasamsonia emersonii CBS 393.64 → Proteome ID: UP000053958 (Reference: False, via: name)\n"
     ]
    },
    {
     "name": "stderr",
     "output_type": "stream",
     "text": [
      " 92%|█████████▏| 1621/1759 [03:06<00:13,  9.90it/s]"
     ]
    },
    {
     "name": "stdout",
     "output_type": "stream",
     "text": [
      "✅ Brevibacillus panacihumi W25 → Proteome ID: UP000017973 (Reference: False, via: name)\n",
      "✅ Acinetobacter baumannii MRSN 3527 → Proteome ID: UP000036122 (Reference: False, via: name)\n"
     ]
    },
    {
     "name": "stderr",
     "output_type": "stream",
     "text": [
      " 92%|█████████▏| 1624/1759 [03:07<00:17,  7.68it/s]"
     ]
    },
    {
     "name": "stdout",
     "output_type": "stream",
     "text": [
      "❌ No proteome found for: Salmonella enterica subsp. enterica serovar Give var. 15 str. CFSAN004343 (Taxon ID: 1410932)\n",
      "❌ No proteome found for: Salmonella enterica subsp. enterica serovar Enteritidis str. EC20100103 (Taxon ID: 1412458)\n"
     ]
    },
    {
     "name": "stderr",
     "output_type": "stream",
     "text": [
      " 92%|█████████▏| 1625/1759 [03:07<00:19,  6.95it/s]"
     ]
    },
    {
     "name": "stdout",
     "output_type": "stream",
     "text": [
      "❌ No proteome found for: Salmonella enterica subsp. enterica serovar Enteritidis str. EC20100130 (Taxon ID: 1412464)\n"
     ]
    },
    {
     "name": "stderr",
     "output_type": "stream",
     "text": [
      " 92%|█████████▏| 1626/1759 [03:07<00:21,  6.24it/s]"
     ]
    },
    {
     "name": "stdout",
     "output_type": "stream",
     "text": [
      "❌ No proteome found for: Salmonella enterica subsp. enterica serovar Enteritidis str. EC20100134 (Taxon ID: 1412465)\n",
      "❌ No proteome found for: Salmonella enterica subsp. enterica serovar Enteritidis str. EC20120003 (Taxon ID: 1412467)\n"
     ]
    },
    {
     "name": "stderr",
     "output_type": "stream",
     "text": [
      " 93%|█████████▎| 1629/1759 [03:08<00:23,  5.58it/s]"
     ]
    },
    {
     "name": "stdout",
     "output_type": "stream",
     "text": [
      "❌ No proteome found for: Salmonella enterica subsp. enterica serovar Enteritidis str. EC20120007 (Taxon ID: 1412469)\n",
      "❌ No proteome found for: Salmonella enterica subsp. enterica serovar Enteritidis str. EC20120686 (Taxon ID: 1412607)\n"
     ]
    },
    {
     "name": "stderr",
     "output_type": "stream",
     "text": [
      " 93%|█████████▎| 1631/1759 [03:08<00:17,  7.14it/s]"
     ]
    },
    {
     "name": "stdout",
     "output_type": "stream",
     "text": [
      "✅ Xanthomonas arboricola pv. pruni str. MAFF 311562 → Proteome ID: UP000019143 (Reference: False, via: name)\n",
      "✅ Nocardia nova SH22a → Proteome ID: UP000019150 (Reference: False, via: name)\n",
      "✅ Trypanosoma cruzi Dm28c → Proteome ID: UP000017861 (Reference: False, via: name)\n"
     ]
    },
    {
     "name": "stderr",
     "output_type": "stream",
     "text": [
      " 93%|█████████▎| 1635/1759 [03:08<00:13,  8.92it/s]"
     ]
    },
    {
     "name": "stdout",
     "output_type": "stream",
     "text": [
      "✅ Paraburkholderia phytofirmans OLGA172 → Proteome ID: UP000076852 (Reference: False, via: name)\n",
      "✅ Xanthomonas arboricola pv. pruni MAFF 301420 → Proteome ID: UP000019084 (Reference: False, via: name)\n",
      "✅ Pseudomonas mandelii PD30 → Proteome ID: UP000026739 (Reference: False, via: name)\n"
     ]
    },
    {
     "name": "stderr",
     "output_type": "stream",
     "text": [
      " 93%|█████████▎| 1637/1759 [03:08<00:13,  9.12it/s]"
     ]
    },
    {
     "name": "stdout",
     "output_type": "stream",
     "text": [
      "✅ Klebsiella pneumoniae 30684/NJST258_2 → Proteome ID: UP000019586 (Reference: False, via: name)\n",
      "✅ Sphingobium cupriresistens LL01 → Proteome ID: UP000052232 (Reference: False, via: name)\n",
      "✅ Gordonia alkanivorans CGMCC 6845 → Proteome ID: UP000035035 (Reference: False, via: name)\n"
     ]
    },
    {
     "name": "stderr",
     "output_type": "stream",
     "text": [
      " 93%|█████████▎| 1641/1759 [03:09<00:11,  9.91it/s]"
     ]
    },
    {
     "name": "stdout",
     "output_type": "stream",
     "text": [
      "✅ Bacillus thuringiensis Bt18247 → Proteome ID: UP000192743 (Reference: False, via: name)\n",
      "✅ Rhizoctonia solani 123E → Proteome ID: UP000027456 (Reference: False, via: name)\n",
      "✅ Kwoniella europaea PYCC6329 → Proteome ID: UP001358614 (Reference: False, via: name)\n"
     ]
    },
    {
     "name": "stderr",
     "output_type": "stream",
     "text": [
      " 93%|█████████▎| 1643/1759 [03:09<00:11, 10.14it/s]"
     ]
    },
    {
     "name": "stdout",
     "output_type": "stream",
     "text": [
      "✅ Advenella kashmirensis W13003 → Proteome ID: UP000018733 (Reference: False, via: name)\n",
      "✅ Kluyveromyces dobzhanskii CBS 2104 → Proteome ID: UP000031516 (Reference: False, via: name)\n",
      "✅ Pannus brasiliensis CCIBt3594 → Proteome ID: UP001328733 (Reference: False, via: name)\n"
     ]
    },
    {
     "name": "stderr",
     "output_type": "stream",
     "text": [
      " 94%|█████████▎| 1645/1759 [03:09<00:11, 10.10it/s]"
     ]
    },
    {
     "name": "stdout",
     "output_type": "stream",
     "text": [
      "✅ Penicillium camemberti FM 013 → Proteome ID: UP000053732 (Reference: False, via: name)\n",
      "✅ Salmonella enterica subsp. enterica serovar Bovismorbificans str. Sal610 → Proteome ID: UP000683536 (Reference: False, via: name)\n"
     ]
    },
    {
     "name": "stderr",
     "output_type": "stream",
     "text": [
      " 94%|█████████▎| 1647/1759 [03:09<00:11, 10.02it/s]"
     ]
    },
    {
     "name": "stdout",
     "output_type": "stream",
     "text": [
      "✅ Bacillus thuringiensis DB27 → Proteome ID: UP000030682 (Reference: False, via: name)\n",
      "✅ Rhizobium etli bv. mimosae str. IE4771 → Proteome ID: UP000027180 (Reference: False, via: name)\n",
      "✅ Rhizophagus irregularis DAOM 197198w → Proteome ID: UP000022910 (Reference: False, via: name)\n"
     ]
    },
    {
     "name": "stderr",
     "output_type": "stream",
     "text": [
      " 94%|█████████▍| 1651/1759 [03:10<00:10,  9.91it/s]"
     ]
    },
    {
     "name": "stdout",
     "output_type": "stream",
     "text": [
      "✅ Sclerotinia borealis F-4128 → Proteome ID: UP000019487 (Reference: False, via: name)\n",
      "✅ Klebsiella pneumoniae IS43 → Proteome ID: UP000019183 (Reference: False, via: name)\n",
      "✅ Escherichia coli ISC7 → Proteome ID: UP000019199 (Reference: False, via: name)\n"
     ]
    },
    {
     "name": "stderr",
     "output_type": "stream",
     "text": [
      " 94%|█████████▍| 1654/1759 [03:10<00:10,  9.75it/s]"
     ]
    },
    {
     "name": "stdout",
     "output_type": "stream",
     "text": [
      "✅ Magnetofaba australis IT-1 → Proteome ID: UP000194003 (Reference: False, via: name)\n",
      "✅ Pseudomonas monteilii SB3101 → Proteome ID: UP000018660 (Reference: False, via: name)\n",
      "✅ Rhodococcus pyridinivorans SB3094 → Proteome ID: UP000018781 (Reference: False, via: name)\n"
     ]
    },
    {
     "name": "stderr",
     "output_type": "stream",
     "text": [
      " 94%|█████████▍| 1657/1759 [03:10<00:10,  9.59it/s]"
     ]
    },
    {
     "name": "stdout",
     "output_type": "stream",
     "text": [
      "✅ Castellaniella defragrans 65Phen → Proteome ID: UP000019805 (Reference: False, via: name)\n",
      "✅ Xanthomonas phaseoli pv. syngonii LMG 9055 → Proteome ID: UP000050343 (Reference: False, via: name)\n"
     ]
    },
    {
     "name": "stderr",
     "output_type": "stream",
     "text": [
      " 94%|█████████▍| 1659/1759 [03:11<00:10,  9.48it/s]"
     ]
    },
    {
     "name": "stdout",
     "output_type": "stream",
     "text": [
      "✅ Streptomyces scopuliridis RB72 → Proteome ID: UP000245992 (Reference: False, via: name)\n",
      "✅ Luteibacter rhizovicinus DSM 16549 → Proteome ID: UP000035585 (Reference: False, via: name)\n"
     ]
    },
    {
     "name": "stderr",
     "output_type": "stream",
     "text": [
      " 94%|█████████▍| 1660/1759 [03:11<00:10,  9.17it/s]"
     ]
    },
    {
     "name": "stdout",
     "output_type": "stream",
     "text": [
      "✅ Mycolicibacterium aromaticivorans JS19b1 = JCM 16368 → Proteome ID: UP000022835 (Reference: False, via: name)\n",
      "✅ Neptunomonas japonica JAMM 1380 → Proteome ID: UP000595332 (Reference: False, via: name)\n"
     ]
    },
    {
     "name": "stderr",
     "output_type": "stream",
     "text": [
      " 95%|█████████▍| 1664/1759 [03:11<00:10,  9.44it/s]"
     ]
    },
    {
     "name": "stdout",
     "output_type": "stream",
     "text": [
      "✅ Nitrospirillum viridazoti CBAmc → Proteome ID: UP000197153 (Reference: False, via: name)\n",
      "✅ Rhodococcus pyridinivorans KG-16 → Proteome ID: UP000053060 (Reference: False, via: name)\n",
      "✅ Rhodococcus rhodochrous KG-21 → Proteome ID: UP000037712 (Reference: False, via: name)\n"
     ]
    },
    {
     "name": "stderr",
     "output_type": "stream",
     "text": [
      " 95%|█████████▍| 1667/1759 [03:12<00:09, 10.11it/s]"
     ]
    },
    {
     "name": "stdout",
     "output_type": "stream",
     "text": [
      "✅ Chania multitudinisentens RB-25 → Proteome ID: UP000019030 (Reference: False, via: name)\n",
      "✅ Fonsecaea pedrosoi CBS 271.37 → Proteome ID: UP000053029 (Reference: False, via: name)\n",
      "✅ Rhinocladiella mackenziei CBS 650.93 → Proteome ID: UP000053617 (Reference: False, via: name)\n"
     ]
    },
    {
     "name": "stderr",
     "output_type": "stream",
     "text": [
      " 95%|█████████▍| 1668/1759 [03:12<00:09, 10.07it/s]"
     ]
    },
    {
     "name": "stdout",
     "output_type": "stream",
     "text": [
      "✅ Cladophialophora bantiana CBS 173.52 → Proteome ID: UP000053789 (Reference: False, via: name)\n",
      "✅ Fonsecaea multimorphosa CBS 102226 → Proteome ID: UP000053411 (Reference: False, via: name)\n"
     ]
    },
    {
     "name": "stderr",
     "output_type": "stream",
     "text": [
      " 95%|█████████▌| 1672/1759 [03:12<00:08, 10.05it/s]"
     ]
    },
    {
     "name": "stdout",
     "output_type": "stream",
     "text": [
      "✅ Escherichia coli 2-460-02_S1_C1 → Proteome ID: UP000028038 (Reference: False, via: name)\n",
      "✅ Escherichia coli 1-250-04_S3_C1 → Proteome ID: UP000024043 (Reference: False, via: name)\n",
      "✅ Lysobacter capsici AZ78 → Proteome ID: UP000023435 (Reference: False, via: name)\n"
     ]
    },
    {
     "name": "stderr",
     "output_type": "stream",
     "text": [
      " 95%|█████████▌| 1675/1759 [03:12<00:08,  9.66it/s]"
     ]
    },
    {
     "name": "stdout",
     "output_type": "stream",
     "text": [
      "✅ Gynuella sunshinyii YC6258 → Proteome ID: UP000032266 (Reference: False, via: name)\n",
      "✅ Colletotrichum fioriniae PJ7 → Proteome ID: UP000020467 (Reference: False, via: name)\n",
      "✅ Bacteroides reticulotermitis JCM 10512 → Proteome ID: UP000019131 (Reference: False, via: name)\n"
     ]
    },
    {
     "name": "stderr",
     "output_type": "stream",
     "text": [
      " 95%|█████████▌| 1677/1759 [03:13<00:08, 10.07it/s]"
     ]
    },
    {
     "name": "stdout",
     "output_type": "stream",
     "text": [
      "✅ Emergomyces pasteurianus Ep9510 → Proteome ID: UP000182235 (Reference: False, via: name)\n",
      "✅ Helicocarpus griseus UAMH5409 → Proteome ID: UP000223968 (Reference: False, via: name)\n",
      "✅ Polytolypa hystricis UAMH7299 → Proteome ID: UP000224634 (Reference: False, via: name)\n"
     ]
    },
    {
     "name": "stderr",
     "output_type": "stream",
     "text": [
      " 95%|█████████▌| 1679/1759 [03:13<00:07, 10.19it/s]"
     ]
    },
    {
     "name": "stdout",
     "output_type": "stream",
     "text": [
      "✅ Bimuria novae-zelandiae CBS 107.79 → Proteome ID: UP000800036 (Reference: False, via: name)\n",
      "✅ Gymnopus androsaceus JB14 → Proteome ID: UP000799118 (Reference: False, via: name)\n"
     ]
    },
    {
     "name": "stderr",
     "output_type": "stream",
     "text": [
      " 96%|█████████▌| 1682/1759 [03:13<00:07,  9.85it/s]"
     ]
    },
    {
     "name": "stdout",
     "output_type": "stream",
     "text": [
      "✅ Corynespora cassiicola Philippines → Proteome ID: UP000240883 (Reference: False, via: name)\n",
      "✅ Hydnum rufescens UP504 → Proteome ID: UP000886523 (Reference: False, via: name)\n",
      "✅ Aspergillus neoniger CBS 115656 → Proteome ID: UP000247647 (Reference: False, via: name)\n"
     ]
    },
    {
     "name": "stderr",
     "output_type": "stream",
     "text": [
      " 96%|█████████▌| 1686/1759 [03:13<00:07, 10.14it/s]"
     ]
    },
    {
     "name": "stdout",
     "output_type": "stream",
     "text": [
      "✅ Aspergillus vadensis CBS 113365 → Proteome ID: UP000248405 (Reference: False, via: name)\n",
      "✅ Aspergillus japonicus CBS 114.51 → Proteome ID: UP000249497 (Reference: False, via: name)\n",
      "✅ Aspergillus piperis CBS 112811 → Proteome ID: UP000249526 (Reference: False, via: name)\n"
     ]
    },
    {
     "name": "stderr",
     "output_type": "stream",
     "text": [
      " 96%|█████████▌| 1688/1759 [03:14<00:06, 10.56it/s]"
     ]
    },
    {
     "name": "stdout",
     "output_type": "stream",
     "text": [
      "✅ Aspergillus eucalypticola CBS 122712 → Proteome ID: UP000246171 (Reference: False, via: name)\n",
      "✅ Aspergillus uvarum CBS 121591 → Proteome ID: UP000248340 (Reference: False, via: name)\n",
      "✅ Aspergillus ibericus CBS 121593 → Proteome ID: UP000249402 (Reference: False, via: name)\n"
     ]
    },
    {
     "name": "stderr",
     "output_type": "stream",
     "text": [
      " 96%|█████████▌| 1692/1759 [03:14<00:06, 10.58it/s]"
     ]
    },
    {
     "name": "stdout",
     "output_type": "stream",
     "text": [
      "✅ Aspergillus sclerotiicarbonarius CBS 121057 → Proteome ID: UP000248423 (Reference: False, via: name)\n",
      "✅ Aspergillus fijiensis CBS 313.89 → Proteome ID: UP000249789 (Reference: False, via: name)\n",
      "✅ Aspergillus ellipticus CBS 707.79 → Proteome ID: UP000247810 (Reference: False, via: name)\n"
     ]
    },
    {
     "name": "stderr",
     "output_type": "stream",
     "text": [
      " 96%|█████████▋| 1694/1759 [03:14<00:06, 10.30it/s]"
     ]
    },
    {
     "name": "stdout",
     "output_type": "stream",
     "text": [
      "✅ Aspergillus heteromorphus CBS 117.55 → Proteome ID: UP000247233 (Reference: False, via: name)\n",
      "✅ Roseivivax isoporae LMG 25204 → Proteome ID: UP000023430 (Reference: False, via: name)\n",
      "✅ Kutzneria albida DSM 43870 → Proteome ID: UP000019225 (Reference: False, via: name)\n"
     ]
    },
    {
     "name": "stderr",
     "output_type": "stream",
     "text": [
      " 96%|█████████▋| 1696/1759 [03:14<00:06, 10.13it/s]"
     ]
    },
    {
     "name": "stdout",
     "output_type": "stream",
     "text": [
      "✅ Aaosphaeria arxii CBS 175.79 → Proteome ID: UP000799778 (Reference: False, via: name)\n",
      "✅ Sphingobium indicum F2 → Proteome ID: UP000028135 (Reference: False, via: name)\n"
     ]
    },
    {
     "name": "stderr",
     "output_type": "stream",
     "text": [
      " 97%|█████████▋| 1700/1759 [03:15<00:05, 10.17it/s]"
     ]
    },
    {
     "name": "stdout",
     "output_type": "stream",
     "text": [
      "✅ Aspergillus sclerotioniger CBS 115572 → Proteome ID: UP000246702 (Reference: False, via: name)\n",
      "✅ Guyanagaster necrorhizus MCA 3950 → Proteome ID: UP000812287 (Reference: False, via: name)\n",
      "✅ Aspergillus homomorphus CBS 101889 → Proteome ID: UP000248961 (Reference: False, via: name)\n"
     ]
    },
    {
     "name": "stderr",
     "output_type": "stream",
     "text": [
      " 97%|█████████▋| 1702/1759 [03:15<00:05, 10.16it/s]"
     ]
    },
    {
     "name": "stdout",
     "output_type": "stream",
     "text": [
      "✅ Aspergillus violaceofuscus CBS 115571 → Proteome ID: UP000249829 (Reference: False, via: name)\n",
      "✅ Aspergillus saccharolyticus JOP 1030-1 → Proteome ID: UP000248349 (Reference: False, via: name)\n",
      "✅ Aspergillus indologenus CBS 114.80 → Proteome ID: UP000248817 (Reference: False, via: name)\n"
     ]
    },
    {
     "name": "stderr",
     "output_type": "stream",
     "text": [
      " 97%|█████████▋| 1706/1759 [03:15<00:05,  9.95it/s]"
     ]
    },
    {
     "name": "stdout",
     "output_type": "stream",
     "text": [
      "✅ Hafnia alvei FB1 → Proteome ID: UP000029986 (Reference: False, via: name)\n",
      "✅ Moorena producens JHB → Proteome ID: UP000176944 (Reference: False, via: name)\n",
      "✅ Comamonas aquatica DA1877 → Proteome ID: UP000020766 (Reference: False, via: name)\n"
     ]
    },
    {
     "name": "stderr",
     "output_type": "stream",
     "text": [
      " 97%|█████████▋| 1708/1759 [03:16<00:05,  9.97it/s]"
     ]
    },
    {
     "name": "stdout",
     "output_type": "stream",
     "text": [
      "✅ Hylemonella gracilis str. Niagara R → Proteome ID: UP000023268 (Reference: False, via: name)\n",
      "✅ Moorena producens PAL-8-15-08-1 → Proteome ID: UP000177870 (Reference: False, via: name)\n"
     ]
    },
    {
     "name": "stderr",
     "output_type": "stream",
     "text": [
      " 97%|█████████▋| 1710/1759 [03:16<00:04,  9.85it/s]"
     ]
    },
    {
     "name": "stdout",
     "output_type": "stream",
     "text": [
      "✅ Amycolatopsis lurida NRRL 2430 → Proteome ID: UP000256220 (Reference: False, via: name)\n",
      "✅ Colletotrichum nymphaeae SA-01 → Proteome ID: UP000070054 (Reference: False, via: name)\n",
      "✅ Nostoc edaphicum CCNP1411 → Proteome ID: UP000514713 (Reference: False, via: name)\n"
     ]
    },
    {
     "name": "stderr",
     "output_type": "stream",
     "text": [
      " 97%|█████████▋| 1714/1759 [03:16<00:04, 10.23it/s]"
     ]
    },
    {
     "name": "stdout",
     "output_type": "stream",
     "text": [
      "✅ Tolypothrix bouteillei VB521301 → Proteome ID: UP000029738 (Reference: False, via: name)\n",
      "✅ Aspergillus nomiae NRRL 13137 → Proteome ID: UP000037505 (Reference: False, via: name)\n",
      "✅ Delitschia confertaspora ATCC 74209 → Proteome ID: UP000799536 (Reference: False, via: name)\n"
     ]
    },
    {
     "name": "stderr",
     "output_type": "stream",
     "text": [
      " 98%|█████████▊| 1716/1759 [03:16<00:04, 10.17it/s]"
     ]
    },
    {
     "name": "stdout",
     "output_type": "stream",
     "text": [
      "✅ Theileria equi strain WA → Proteome ID: UP000031512 (Reference: False, via: name)\n",
      "✅ Halotia branconii CENA392 → Proteome ID: UP001223520 (Reference: False, via: name)\n",
      "✅ Nostoc linckia z8 → Proteome ID: UP000222310 (Reference: False, via: name)\n"
     ]
    },
    {
     "name": "stderr",
     "output_type": "stream",
     "text": [
      " 98%|█████████▊| 1720/1759 [03:17<00:03, 10.68it/s]"
     ]
    },
    {
     "name": "stdout",
     "output_type": "stream",
     "text": [
      "✅ Halomicronema hongdechloris C2206 → Proteome ID: UP000191901 (Reference: False, via: name)\n",
      "✅ Atlanticothrix silvestris CENA357 → Proteome ID: UP000599391 (Reference: False, via: name)\n",
      "✅ Dendronalium phyllosphericum CENA369 → Proteome ID: UP000662314 (Reference: False, via: name)\n"
     ]
    },
    {
     "name": "stderr",
     "output_type": "stream",
     "text": [
      " 98%|█████████▊| 1722/1759 [03:17<00:03, 10.68it/s]"
     ]
    },
    {
     "name": "stdout",
     "output_type": "stream",
     "text": [
      "✅ Acaryochloris thomasi RCC1774 → Proteome ID: UP000248857 (Reference: False, via: name)\n",
      "✅ Desertifilum tharense IPPAS B-1220 → Proteome ID: UP000095472 (Reference: False, via: name)\n",
      "✅ Leptolyngbya cf. ectocarpi LEGE 11479 → Proteome ID: UP000615026 (Reference: False, via: name)\n"
     ]
    },
    {
     "name": "stderr",
     "output_type": "stream",
     "text": [
      " 98%|█████████▊| 1726/1759 [03:17<00:03, 10.71it/s]"
     ]
    },
    {
     "name": "stdout",
     "output_type": "stream",
     "text": [
      "✅ Desmonostoc muscorum LEGE 12446 → Proteome ID: UP000622533 (Reference: False, via: name)\n",
      "✅ Nostoc minutum NIES-26 → Proteome ID: UP000252107 (Reference: False, via: name)\n",
      "✅ Nostoc cycadae WK-1 → Proteome ID: UP000236527 (Reference: False, via: name)\n"
     ]
    },
    {
     "name": "stderr",
     "output_type": "stream",
     "text": [
      " 98%|█████████▊| 1728/1759 [03:17<00:02, 10.85it/s]"
     ]
    },
    {
     "name": "stdout",
     "output_type": "stream",
     "text": [
      "✅ Phormidesmis priestleyi ULC007 → Proteome ID: UP000238634 (Reference: False, via: name)\n",
      "✅ Hydrococcus rivularis NIES-593 → Proteome ID: UP000186868 (Reference: False, via: name)\n",
      "✅ blood disease bacterium A2-HR MARDI → Proteome ID: UP000189628 (Reference: False, via: name)\n"
     ]
    },
    {
     "name": "stderr",
     "output_type": "stream",
     "text": [
      " 98%|█████████▊| 1732/1759 [03:18<00:02, 10.50it/s]"
     ]
    },
    {
     "name": "stdout",
     "output_type": "stream",
     "text": [
      "✅ Trichormus variabilis NIES-23 → Proteome ID: UP000217507 (Reference: False, via: name)\n",
      "✅ Leptolyngbya boryana NIES-2135 → Proteome ID: UP000217895 (Reference: False, via: name)\n",
      "✅ Calothrix parasitica NIES-267 → Proteome ID: UP000218418 (Reference: False, via: name)\n"
     ]
    },
    {
     "name": "stderr",
     "output_type": "stream",
     "text": [
      " 99%|█████████▊| 1734/1759 [03:18<00:02, 10.43it/s]"
     ]
    },
    {
     "name": "stdout",
     "output_type": "stream",
     "text": [
      "✅ Nostoc commune NIES-4072 → Proteome ID: UP000245124 (Reference: False, via: name)\n",
      "✅ Thermocoleostomius sinensis A174 → Proteome ID: UP001163152 (Reference: False, via: name)\n",
      "✅ Fischerella muscicola CCMEE 5323 → Proteome ID: UP000235036 (Reference: False, via: name)\n"
     ]
    },
    {
     "name": "stderr",
     "output_type": "stream",
     "text": [
      " 99%|█████████▊| 1736/1759 [03:18<00:02, 10.54it/s]"
     ]
    },
    {
     "name": "stdout",
     "output_type": "stream",
     "text": [
      "✅ Fischerella thermalis CCMEE 5268 → Proteome ID: UP000235025 (Reference: False, via: name)\n",
      "✅ Fischerella thermalis CCMEE 5318 → Proteome ID: UP000235081 (Reference: False, via: name)\n"
     ]
    },
    {
     "name": "stderr",
     "output_type": "stream",
     "text": [
      " 99%|█████████▉| 1740/1759 [03:19<00:01, 10.58it/s]"
     ]
    },
    {
     "name": "stdout",
     "output_type": "stream",
     "text": [
      "✅ Fischerella thermalis CCMEE 5330 → Proteome ID: UP000234966 (Reference: False, via: name)\n",
      "✅ Nostoc flagelliforme CCNUN1 → Proteome ID: UP000232003 (Reference: False, via: name)\n",
      "✅ Stenomitos frigidus ULC18 → Proteome ID: UP000239576 (Reference: False, via: name)\n"
     ]
    },
    {
     "name": "stderr",
     "output_type": "stream",
     "text": [
      " 99%|█████████▉| 1742/1759 [03:19<00:01, 10.24it/s]"
     ]
    },
    {
     "name": "stdout",
     "output_type": "stream",
     "text": [
      "✅ Adonisia turfae CCMR0081 → Proteome ID: UP000481033 (Reference: False, via: name)\n",
      "✅ Adonisia turfae CCMR0082 → Proteome ID: UP000473574 (Reference: False, via: name)\n",
      "✅ Microseira wollei NIES-4236 → Proteome ID: UP001050975 (Reference: False, via: name)\n"
     ]
    },
    {
     "name": "stderr",
     "output_type": "stream",
     "text": [
      " 99%|█████████▉| 1745/1759 [03:19<00:01,  8.71it/s]"
     ]
    },
    {
     "name": "stdout",
     "output_type": "stream",
     "text": [
      "❌ No proteome found for: Thermoleptolyngbya oregonensis NK1-22 (Taxon ID: 2547457)\n",
      "✅ Komarekiella delphini-convector SJRDD-AB1 → Proteome ID: UP001165986 (Reference: False, via: name)\n"
     ]
    },
    {
     "name": "stderr",
     "output_type": "stream",
     "text": [
      " 99%|█████████▉| 1747/1759 [03:19<00:01,  8.83it/s]"
     ]
    },
    {
     "name": "stdout",
     "output_type": "stream",
     "text": [
      "✅ Nostoc sphaeroides CCNUC1 → Proteome ID: UP000326678 (Reference: False, via: name)\n",
      "✅ Anabaena sphaerica FACHB-251 → Proteome ID: UP000662185 (Reference: False, via: name)\n"
     ]
    },
    {
     "name": "stderr",
     "output_type": "stream",
     "text": [
      " 99%|█████████▉| 1749/1759 [03:20<00:01,  9.41it/s]"
     ]
    },
    {
     "name": "stdout",
     "output_type": "stream",
     "text": [
      "✅ Limnofasciculus baicalensis BBK-W-15 → Proteome ID: UP001204953 (Reference: False, via: name)\n",
      "✅ Aetokthonos hydrillicola Thurmond2011 → Proteome ID: UP000667802 (Reference: False, via: name)\n"
     ]
    },
    {
     "name": "stderr",
     "output_type": "stream",
     "text": [
      "100%|█████████▉| 1751/1759 [03:20<00:00,  9.13it/s]"
     ]
    },
    {
     "name": "stdout",
     "output_type": "stream",
     "text": [
      "✅ Thermoleptolyngbya sichuanensis A183 → Proteome ID: UP000505210 (Reference: False, via: name)\n",
      "✅ Iningainema tapete BLCC-T55 → Proteome ID: UP000629098 (Reference: False, via: name)\n",
      "✅ Romeriopsis navalis LEGE 11480 → Proteome ID: UP000625316 (Reference: False, via: name)\n"
     ]
    },
    {
     "name": "stderr",
     "output_type": "stream",
     "text": [
      "100%|█████████▉| 1755/1759 [03:20<00:00,  9.10it/s]"
     ]
    },
    {
     "name": "stdout",
     "output_type": "stream",
     "text": [
      "❌ No proteome found for: Planktothricoides raciborskii GIHE-MW2 (Taxon ID: 2792601)\n",
      "✅ Amazonocrinis nigriterrae CENA67 → Proteome ID: UP000632766 (Reference: False, via: name)\n",
      "✅ Cyanomargarita calcarea GSE-NOS-MK-12-04C → Proteome ID: UP000729701 (Reference: False, via: name)\n"
     ]
    },
    {
     "name": "stderr",
     "output_type": "stream",
     "text": [
      "100%|█████████▉| 1757/1759 [03:21<00:00,  9.57it/s]"
     ]
    },
    {
     "name": "stdout",
     "output_type": "stream",
     "text": [
      "✅ Pegethrix bostrychoides GSE-TBD4-15B → Proteome ID: UP000707356 (Reference: False, via: name)\n",
      "✅ Vibrio campbellii ATCC BAA-1116 → Proteome ID: UP000008152 (Reference: False, via: name)\n",
      "✅ Aerosakkonema funiforme FACHB-1375 → Proteome ID: UP000641646 (Reference: False, via: name)\n"
     ]
    },
    {
     "name": "stderr",
     "output_type": "stream",
     "text": [
      "100%|██████████| 1759/1759 [03:21<00:00,  8.74it/s]"
     ]
    },
    {
     "name": "stdout",
     "output_type": "stream",
     "text": [
      "✅ Leptolyngbya boryana CZ1 → Proteome ID: UP001303491 (Reference: False, via: name)\n",
      "\n",
      "🎯 Proteomes found for 1712 out of 1759 strains.\n",
      "\n",
      "⚠️ No proteomes found for 47 strains:\n",
      " - Thiomonas intermedia K12 (Taxon ID: 75379)\n",
      " - Dechloromonas aromatica RCB (Taxon ID: 159087)\n",
      " - Salmonella enterica subsp. enterica serovar Typhi str. CT18 (Taxon ID: 220341)\n",
      " - Cupriavidus pinatubonensis JMP134 (Taxon ID: 264198)\n",
      " - Rhodopseudomonas palustris BisA53 (Taxon ID: 316055)\n",
      " - Rhodopseudomonas palustris BisB18 (Taxon ID: 316056)\n",
      " - Shewanella putrefaciens CN-32 (Taxon ID: 319224)\n",
      " - Burkholderia orbicola AU 1054 (Taxon ID: 331271)\n",
      " - Cereibacter sphaeroides ATCC 17025 (Taxon ID: 349102)\n",
      " - Mycolicibacterium gilvum PYR-GCK (Taxon ID: 350054)\n",
      " - Pseudomonas putida W619 (Taxon ID: 390235)\n",
      " - Salinispora arenicola CNS-205 (Taxon ID: 391037)\n",
      " - Ectopseudomonas mendocina ymp (Taxon ID: 399739)\n",
      " - Serratia proteamaculans 568 (Taxon ID: 399741)\n",
      " - Ralstonia pickettii 12J (Taxon ID: 402626)\n",
      " - Ralstonia pickettii 12D (Taxon ID: 428406)\n",
      " - Salmonella enterica subsp. enterica serovar Typhi str. 404ty (Taxon ID: 497977)\n",
      " - Variovorax paradoxus S110 (Taxon ID: 543728)\n",
      " - blood disease bacterium R229 (Taxon ID: 741978)\n",
      " - Salmonella enterica subsp. enterica serovar Enteritidis str. 607307-2 (Taxon ID: 887070)\n",
      " - Ralstonia syzygii R24 (Taxon ID: 907261)\n",
      " - Yersinia enterocolitica W22703 (Taxon ID: 913028)\n",
      " - Salmonella enterica subsp. enterica serovar Rubislaw str. ATCC 10717 (Taxon ID: 938143)\n",
      " - Salmonella enterica subsp. enterica serovar Newport str. WA_14882 (Taxon ID: 997339)\n",
      " - Pyricularia oryzae P131 (Taxon ID: 1143193)\n",
      " - Chromera velia CCMP2878 (Taxon ID: 1169474)\n",
      " - Salmonella enterica subsp. enterica serovar Bareilly str. CFSAN000189 (Taxon ID: 1173427)\n",
      " - Salmonella enterica subsp. enterica serovar Abaetetuba str. ATCC 35640 (Taxon ID: 1208611)\n",
      " - Cryptococcus bacillisporus CA1280 (Taxon ID: 1296109)\n",
      " - Salmonella enterica subsp. enterica serovar Paratyphi B str. CFSAN000540 (Taxon ID: 1299076)\n",
      " - Salmonella enterica subsp. enterica serovar Paratyphi B str. CFSAN000541 (Taxon ID: 1299077)\n",
      " - Salmonella enterica subsp. enterica serovar Paratyphi B str. CFSAN000542 (Taxon ID: 1299078)\n",
      " - Salmonella enterica subsp. enterica serovar Typhimurium str. CFSAN000648 (Taxon ID: 1299111)\n",
      " - Salmonella enterica subsp. enterica serovar Newport str. CFSAN000827 (Taxon ID: 1299166)\n",
      " - Mycobacterium xenopi 4042 (Taxon ID: 1299334)\n",
      " - Pseudomonas syringae CC1417 (Taxon ID: 1357272)\n",
      " - Pseudomonas syringae USA007 (Taxon ID: 1357288)\n",
      " - Melanopsichium pennsylvanicum 4 (Taxon ID: 1398559)\n",
      " - Salmonella enterica subsp. enterica serovar Give var. 15 str. CFSAN004343 (Taxon ID: 1410932)\n",
      " - Salmonella enterica subsp. enterica serovar Enteritidis str. EC20100103 (Taxon ID: 1412458)\n",
      " - Salmonella enterica subsp. enterica serovar Enteritidis str. EC20100130 (Taxon ID: 1412464)\n",
      " - Salmonella enterica subsp. enterica serovar Enteritidis str. EC20100134 (Taxon ID: 1412465)\n",
      " - Salmonella enterica subsp. enterica serovar Enteritidis str. EC20120003 (Taxon ID: 1412467)\n",
      " - Salmonella enterica subsp. enterica serovar Enteritidis str. EC20120007 (Taxon ID: 1412469)\n",
      " - Salmonella enterica subsp. enterica serovar Enteritidis str. EC20120686 (Taxon ID: 1412607)\n",
      " - Thermoleptolyngbya oregonensis NK1-22 (Taxon ID: 2547457)\n",
      " - Planktothricoides raciborskii GIHE-MW2 (Taxon ID: 2792601)\n",
      "📄 Summary saved to: fasta_proteomes_proteomes_api/session_strain_level_2025-05-14_16-06-54\\strain_proteome_matches.csv\n"
     ]
    },
    {
     "name": "stderr",
     "output_type": "stream",
     "text": [
      "\n"
     ]
    }
   ],
   "source": [
    "from datetime import datetime\n",
    "import os\n",
    "\n",
    "# Define the output session directory based on current timestamp\n",
    "session_time = datetime.now().strftime(\"%Y-%m-%d_%H-%M-%S\")\n",
    "output_dir = f\"fasta_proteomes_proteomes_api/session_strain_level_{session_time}\"\n",
    "os.makedirs(output_dir, exist_ok=True)\n",
    "\n",
    "# Now use this path to write the CSV\n",
    "output_csv_path = os.path.join(output_dir, \"strain_proteome_matches.csv\")\n",
    "\n",
    "# Get the proteome matches using the function\n",
    "found_proteomes = search_best_proteomes(filtered_taxa_by_rank)\n",
    "\n",
    "# Save the results to a CSV file\n",
    "save_proteome_matches_to_csv(found_proteomes, output_csv_path)"
   ]
  },
  {
   "cell_type": "code",
   "execution_count": null,
   "id": "ebf3f5f5",
   "metadata": {},
   "outputs": [
    {
     "name": "stdout",
     "output_type": "stream",
     "text": [
      "📦 Starting protein download...\n",
      "\n",
      "✅ UP000001054 (Sinorhizobium fredii NGR234): 6273 proteins\n",
      "✅ UP000074855 (Plasmodium berghei ANKA): 4927 proteins\n",
      "✅ UP000030694 (Plasmodium falciparum CAMP/Malaysia): 6105 proteins\n",
      "✅ UP000031513 (Plasmodium knowlesi strain H): 5339 proteins\n",
      "✅ UP000241885 (Thauera aromatica K172): 3356 proteins\n",
      "✅ UP000010475 (Cylindrospermum stagnale PCC 7417): 6201 proteins\n",
      "✅ UP000010367 (Oscillatoria acuminata PCC 6304): 5756 proteins\n",
      "✅ UP000030688 (Plasmodium falciparum 7G8): 6297 proteins\n",
      "✅ UP000019103 (Plasmodium falciparum Palo Alto/Uganda): 6037 proteins\n",
      "✅ UP000001191 (Nostoc punctiforme PCC 73102): 6573 proteins\n",
      "✅ UP000002384 (Gloeothece citriformis PCC 7424): 5656 proteins\n",
      "✅ UP000006552 (Aromatoleum aromaticum EbN1): 4483 proteins\n",
      "✅ UP000002157 (Pseudomonas putida GB-1): 5396 proteins\n",
      "✅ UP000002417 (Xanthobacter autotrophicus Py2): 4971 proteins\n",
      "✅ UP000001020 (Mycobacterium tuberculosis CDC1551): 4208 proteins\n",
      "✅ UP000001584 (Mycobacterium tuberculosis H37Rv): 4002 proteins\n",
      "❌ Failed to download UP000005626 (Escherichia coli K-12)\n",
      "✅ UP000013523 (Clostridium pasteurianum BC1): 4454 proteins\n",
      "✅ UP000006201 (Pseudoalteromonas tunicata D2): 4490 proteins\n",
      "❌ Failed to download UP000294666 (Stutzerimonas stutzeri ATCC 17588 = LMG 11199)\n",
      "✅ UP000001014 (Salmonella enterica subsp. enterica serovar Typhimurium str. LT2): 4533 proteins\n",
      "✅ UP000001973 (Streptomyces coelicolor A3(2)): 8038 proteins\n",
      "✅ UP000008710 (Rhodococcus jostii RHA1): 9077 proteins\n",
      "✅ UP000003835 (Coleofasciculus chthonoplastes PCC 7420): 8193 proteins\n",
      "✅ UP000008333 (Plasmodium vivax Sal-1): 5389 proteins\n",
      "✅ UP000076925 (Scytonema hofmannii PCC 7110): 9705 proteins\n",
      "✅ UP000001946 (Desulfitobacterium hafniense Y51): 5014 proteins\n",
      "✅ UP000000556 (Pseudomonas putida KT2440): 5527 proteins\n",
      "✅ UP000000547 (Colwellia psychrerythraea 34H): 4872 proteins\n",
      "✅ UP000000813 (Agrobacterium fabrum str. C58): 5346 proteins\n",
      "✅ UP000000442 (Desulforapulum autotrophicum HRM2): 4846 proteins\n",
      "✅ UP000010478 (Oscillatoria nigro-viridis PCC 7112): 6277 proteins\n",
      "✅ UP000001548 (Giardia lamblia ATCC 50803): 4900 proteins\n",
      "✅ UP000008524 (Trypanosoma brucei brucei TREU927): 8587 proteins\n",
      "✅ UP000001010 (Xanthomonas campestris pv. campestris str. ATCC 33913): 4127 proteins\n",
      "✅ UP000000576 (Xanthomonas citri pv. citri str. 306): 4354 proteins\n",
      "✅ UP000001816 (Caulobacter vibrioides CB15): 3720 proteins\n",
      "✅ UP000002675 (Vibrio vulnificus YJ016): 4990 proteins\n",
      "✅ UP000198358 (Shigella flexneri 2a str. 301): 4584 proteins\n",
      "✅ UP000006859 (Dickeya dadantii 3937): 4532 proteins\n",
      "✅ UP000001410 (Escherichia coli CFT073): 5336 proteins\n",
      "✅ UP000001947 (Saccharophagus degradans 2-40): 4000 proteins\n",
      "✅ UP000000426 (Pseudomonas syringae pv. syringae B728a): 5071 proteins\n",
      "✅ UP000002704 (Pseudomonas fluorescens Pf0-1): 5712 proteins\n",
      "✅ UP000000653 (Pseudomonas aeruginosa UCBPP-PA14): 5886 proteins\n",
      "✅ UP000002438 (Pseudomonas aeruginosa PAO1): 5563 proteins\n",
      "✅ UP000186391 (Fischerella major NIES-592): 4507 proteins\n",
      "✅ UP000268857 (Chlorogloeopsis fritschii PCC 6912): 6594 proteins\n",
      "✅ UP000008186 (Shewanella oneidensis MR-1): 4068 proteins\n",
      "✅ UP000002149 (Cryptococcus neoformans var. neoformans JEC21): 6740 proteins\n",
      "✅ UP000001035 (Burkholderia cenocepacia J2315): 6993 proteins\n",
      "❌ Failed to download UP000239221 (Escherichia coli 042)\n",
      "✅ UP000001190 (Mycobacterium marinum M): 5419 proteins\n",
      "✅ UP000002332 (Pseudomonas [fluorescens] SBW25): 474 proteins\n",
      "✅ UP000006575 (Rhizobium johnstonii 3841): 7093 proteins\n",
      "✅ UP000008962 (Salmonella enterica subsp. enterica serovar Typhimurium str. SL1344): 4659 proteins\n",
      "✅ UP000002275 (Vibrio vulnificus CMCP6): 4419 proteins\n",
      "❌ Failed to download UP001055441 (Pectobacterium atrosepticum SCRI1043)\n",
      "✅ UP000000289 (Salmonella bongori NCTC 12419): 3853 proteins\n",
      "✅ UP000008540 (Pseudomonas protegens Pf-5): 6109 proteins\n",
      "✅ UP000009084 (Coccidioides posadasii C735 delta SOWgp): 7225 proteins\n",
      "✅ UP000002515 (Pseudomonas syringae pv. tomato str. DC3000): 5431 proteins\n",
      "✅ UP000002493 (Vibrio parahaemolyticus RIMD 2210633): 4821 proteins\n",
      "✅ UP000001570 (Bacillus subtilis subsp. subtilis str. 168): 4263 proteins\n",
      "✅ UP000305891 (Salmonella enterica subsp. enterica serovar Java): 4509 proteins\n",
      "✅ UP000002526 (Bradyrhizobium diazoefficiens USDA 110): 8254 proteins\n",
      "✅ UP000007077 (Marinobacter adhaerens HP15): 4407 proteins\n",
      "✅ UP001161438 (Saccharomyces mikatae IFO 1815): 5497 proteins\n",
      "✅ UP000001414 (Bacteroides thetaiotaomicron VPI-5482): 4782 proteins\n",
      "✅ UP000002753 (Saccharomyces kudriavzevii IFO 1802): 3745 proteins\n",
      "✅ UP000000560 (Aspergillus nidulans FGSC A4): 10562 proteins\n",
      "✅ UP000000428 (Streptomyces avermitilis MA-4680 = NBRC 14893): 7673 proteins\n",
      "✅ UP000070720 (Fusarium graminearum PH-1): 14146 proteins\n",
      "✅ UP000005268 (Pseudomonas putida ND6): 6375 proteins\n",
      "✅ UP000218785 (Tolypothrix tenuis PCC 7101): 7259 proteins\n",
      "✅ UP000271624 (Dulcicalothrix desertica PCC 7102): 9970 proteins\n",
      "✅ UP000001419 (Mycobacterium tuberculosis variant bovis AF2122/97): 4094 proteins\n",
      "✅ UP000002204 (Rhodococcus erythropolis PR4): 6425 proteins\n",
      "✅ UP000010091 (Cryptococcus neoformans var. grubii H99): 7429 proteins\n",
      "✅ UP000000559 (Candida albicans SC5314): 6036 proteins\n",
      "✅ UP000001861 (Coprinopsis cinerea okayama7#130): 13335 proteins\n",
      "✅ UP000002533 (Trichormus variabilis ATCC 29413): 5635 proteins\n",
      "✅ UP000009058 (Pyricularia oryzae 70-15): 12794 proteins\n",
      "✅ UP000001025 (Rhodopirellula baltica SH 1): 7271 proteins\n",
      "✅ UP000006693 (Burkholderia mallei ATCC 23344): 4797 proteins\n",
      "✅ UP000001574 (Mycobacterium avium 104): 5043 proteins\n",
      "✅ UP000002514 (Photorhabdus laumondii subsp. laumondii TTO1): 4556 proteins\n",
      "✅ UP000001424 (Chromobacterium violaceum ATCC 12472): 4397 proteins\n",
      "✅ UP000004703 (Roseibium alexandrii DFL-11): 5056 proteins\n",
      "✅ UP000006158 (Mycolicibacterium smegmatis MC2 155): 6590 proteins\n",
      "✅ UP000002402 (Myxococcus xanthus DK 1622): 7314 proteins\n",
      "✅ UP000001023 (Ruegeria pomeroyi DSS-3): 4269 proteins\n",
      "✅ UP000009138 (Rhizopus delemar RA 99-880): 16971 proteins\n",
      "✅ UP000001261 (Coccidioides immitis RS): 9712 proteins\n",
      "✅ UP000006820 (Nocardia farcinica IFM 10152): 5942 proteins\n",
      "✅ UP000000557 (Gloeobacter violaceus PCC 7421): 4406 proteins\n",
      "✅ UP000010384 (Chroococcidiopsis thermalis PCC 7203): 5741 proteins\n",
      "✅ UP000004318 (Pseudooceanicola batsensis HTCC2597): 4193 proteins\n",
      "✅ UP000001027 (Bordetella bronchiseptica RB50): 4961 proteins\n",
      "✅ UP000001421 (Bordetella parapertussis 12822): 4161 proteins\n",
      "✅ UP000001426 (Rhodopseudomonas palustris CGA009): 4920 proteins\n",
      "✅ UP000000580 (Mycobacterium avium subsp. paratuberculosis K-10): 4318 proteins\n",
      "✅ UP000000551 (Pseudomonas savastanoi pv. phaseolicola 1448A): 5045 proteins\n",
      "✅ UP000002429 (Cupriavidus metallidurans CH34): 6364 proteins\n",
      "✅ UP000001817 (Paraburkholderia xenovorans LB400): 8591 proteins\n",
      "✅ UP000001976 (Sinorhizobium meliloti 1021): 6171 proteins\n",
      "✅ UP000000552 (Mesorhizobium japonicum MAFF 303099): 7256 proteins\n",
      "✅ UP000001116 (Kineococcus radiotolerans SRS30216 = ATCC BAA-149): 4674 proteins\n",
      "✅ UP000001436 (Ralstonia pseudosolanacearum GMI1000): 5002 proteins\n",
      "✅ UP000002287 (Burkholderia vietnamiensis G4): 7411 proteins\n",
      "✅ UP000001929 (Rhodospirillum rubrum ATCC 11170): 3835 proteins\n",
      "✅ UP000001930 (Burkholderia thailandensis E264): 5562 proteins\n",
      "✅ UP000010474 (Anabaena cylindrica PCC 7122): 5798 proteins\n",
      "✅ UP000006731 (Bacteroides fragilis NCTC 9343): 4234 proteins\n",
      "✅ UP000000605 (Burkholderia pseudomallei K96243): 5717 proteins\n",
      "✅ UP000007726 (Desulfitobacterium hafniense DCB-2): 4852 proteins\n",
      "✅ UP000001176 (Gluconacetobacter diazotrophicus PA1 5): 3783 proteins\n",
      "✅ UP000000265 (Klebsiella pneumoniae subsp. pneumoniae MGH 78578): 5126 proteins\n",
      "✅ UP000031971 (Paramagnetospirillum magnetotacticum MS-1): 4120 proteins\n",
      "✅ UP000009081 (Methylorubrum extorquens AM1): 6233 proteins\n",
      "✅ UP000002361 (Rhodobacter capsulatus SB 1003): 3632 proteins\n",
      "✅ UP000002703 (Cereibacter sphaeroides 2.4.1): 4285 proteins\n",
      "✅ UP000008916 (Mycolicibacterium gilvum Spyr1): 5225 proteins\n",
      "✅ UP000061018 (Streptomyces ambofaciens ATCC 23877): 7571 proteins\n",
      "✅ UP000009134 (Novosphingobium aromaticivorans DSM 12444): 3917 proteins\n",
      "✅ UP000003165 (Pseudogulbenkiania ferrooxidans 2002): 3924 proteins\n",
      "✅ UP000013827 (Emiliania huxleyi CCMP1516): 35618 proteins\n",
      "✅ UP000007014 (Cyanidioschyzon merolae strain 10D): 4997 proteins\n",
      "✅ UP000001301 ([Bacillus thuringiensis] serovar konkukian str. 97-27): 5169 proteins\n",
      "✅ UP000000598 (Kluyveromyces lactis NRRL Y-1140): 5048 proteins\n",
      "✅ UP000001300 (Yarrowia lipolytica CLIB122): 6454 proteins\n",
      "✅ UP000000599 (Debaryomyces hansenii CBS767): 6284 proteins\n",
      "✅ UP000002428 (Nakaseomyces glabratus CBS 138): 5189 proteins\n",
      "✅ UP000000591 (Eremothecium gossypii ATCC 10895): 4760 proteins\n",
      "✅ UP000002485 (Schizosaccharomyces pombe 972h-): 5229 proteins\n",
      "✅ UP000008335 (Saccharomyces cerevisiae RM11-1a): 5359 proteins\n",
      "✅ UP000000321 (Aurantimonas manganoxydans SI85-9A1): 3625 proteins\n",
      "✅ UP000715781 (Mojavia pulchra JT2-VF2): 6895 proteins\n",
      "✅ UP000008148 (Citrobacter koseri ATCC BAA-895): 5019 proteins\n",
      "✅ UP000000260 (Cronobacter sakazakii ATCC BAA-894): 4421 proteins\n",
      "✅ UP000001935 (Anaeromyxobacter dehalogenans 2CP-C): 4346 proteins\n",
      "✅ UP000000565 (Clostridium beijerinckii NCIMB 8052): 5003 proteins\n",
      "✅ UP000006735 (Xanthomonas oryzae pv. oryzae KACC 10331): 4382 proteins\n",
      "✅ UP000008291 (Thiobacillus denitrificans ATCC 25259): 2826 proteins\n",
      "✅ UP000001926 (Entamoeba histolytica HM-1:IMSS): 7966 proteins\n",
      "✅ UP000001997 (Meyerozyma guilliermondii ATCC 6260): 5919 proteins\n",
      "✅ UP000002037 (Candida tropicalis MYA-3404): 6226 proteins\n",
      "✅ UP000001429 (Candida albicans WO-1): 5742 proteins\n",
      "✅ UP000008185 (Salmonella enterica subsp. enterica serovar Paratyphi A str. ATCC 9150): 4083 proteins\n",
      "✅ UP000002197 (Bacteroides fragilis YCH46): 4597 proteins\n",
      "✅ UP000000593 (Photobacterium profundum SS9): 5328 proteins\n",
      "✅ UP000007067 (Shigella boydii Sb227): 3938 proteins\n",
      "✅ UP000002529 (Shigella sonnei Ss046): 4068 proteins\n",
      "✅ UP000001056 (Chaetomium globosum CBS 148.51): 11038 proteins\n",
      "✅ UP000007703 (Clavispora lusitaniae ATCC 42720): 5932 proteins\n",
      "✅ UP000007060 (Saccharomyces cerevisiae YJM789): 5861 proteins\n",
      "✅ UP000001596 (Allorhizobium ampelinum S4): 5355 proteins\n",
      "✅ UP000001600 (Rhizobium rhizogenes K84): 6674 proteins\n",
      "✅ UP000009168 (Tetrahymena thermophila SB210): 26975 proteins\n",
      "✅ UP000004095 (Microscilla marina ATCC 23134): 8248 proteins\n",
      "✅ UP000004947 (Lentisphaera araneosa HTCC2155): 4982 proteins\n",
      "✅ UP000004358 (Blastopirellula marina DSM 3645): 6010 proteins\n",
      "✅ UP000006230 (Salipiger bermudensis HTCC2601): 5420 proteins\n",
      "✅ UP000002931 (Maritimibacter alkaliphilus HTCC2654): 4692 proteins\n",
      "✅ UP000003789 (Photobacterium profundum 3TCK): 5538 proteins\n",
      "✅ UP000005953 (Reinekea blandensis MED297): 4237 proteins\n",
      "✅ UP000019205 (Congregibacter litoralis KT71): 3868 proteins\n",
      "✅ UP000001603 (Photobacterium angustum S14): 4552 proteins\n",
      "✅ UP000251037 (Xanthomonas campestris pv. campestris str. 8004): 11 proteins\n",
      "✅ UP000001818 (Rhodopseudomonas palustris BisB5): 4393 proteins\n",
      "✅ UP000008809 (Rhodopseudomonas palustris HaA2): 4681 proteins\n",
      "✅ UP000007069 (Xanthomonas euvesicatoria pv. vesicatoria str. 85-10): 4628 proteins\n",
      "✅ UP000000787 (Herpetosiphon aurantiacus DSM 785): 5254 proteins\n",
      "✅ UP000000361 (Paracoccus denitrificans PD1222): 5019 proteins\n",
      "✅ UP000001812 (Burkholderia pseudomallei 1710a): 7475 proteins\n",
      "✅ UP000002700 (Burkholderia pseudomallei 1710b): 6329 proteins\n",
      "✅ UP000003688 (Pedosphaera parvula Ellin514): 6493 proteins\n",
      "✅ UP000000538 (Salmonella enterica subsp. enterica serovar Choleraesuis str. SC-B67): 4607 proteins\n",
      "✅ UP000663193 (Parastagonospora nodorum SN15): 17730 proteins\n",
      "✅ UP000002258 (Scheffersomyces stipitis CBS 6054): 5799 proteins\n",
      "❌ Failed to download UP001343781 (Azotobacter vinelandii DJ)\n",
      "✅ UP000001953 (Nitrobacter hamburgensis X14): 4244 proteins\n",
      "✅ UP000002718 (Nitrosospira multiformis ATCC 25196): 2732 proteins\n",
      "✅ UP000001558 (Shewanella loihica PV-4): 3855 proteins\n",
      "✅ UP000001557 (Shewanella baltica OS155): 4223 proteins\n",
      "✅ UP000009175 (Shewanella amazonensis SB2B): 3638 proteins\n",
      "✅ UP000000657 (Frankia alni ACN14a): 6712 proteins\n",
      "✅ UP000000268 (Acaryochloris marina MBIC11017): 8172 proteins\n",
      "✅ UP000002530 (Aspergillus fumigatus Af293): 9647 proteins\n",
      "✅ UP000001122 (Escherichia coli O139:H28 str. E24377A): 4915 proteins\n",
      "✅ UP000001123 (Escherichia coli HS): 4310 proteins\n",
      "✅ UP000006702 (Aspergillus fischeri NRRL 181): 10409 proteins\n",
      "✅ UP000001798 (Botrytis cinerea B05.10): 13037 proteins\n",
      "✅ UP000596276 (Aspergillus flavus NRRL3357): 13708 proteins\n",
      "✅ UP000009096 (Fusarium verticillioides 7600): 17875 proteins\n",
      "✅ UP000001784 (Syntrophobacter fumaroxidans MPOB): 4012 proteins\n",
      "✅ UP000008062 (Zymoseptoria tritici IPO323): 10973 proteins\n",
      "✅ UP000002058 (Uncinocarpus reesii 1704): 7760 proteins\n",
      "✅ UP000008332 (Rhodoferax ferrireducens T118): 4401 proteins\n",
      "✅ UP000000662 (Burkholderia ambifaria AMMD): 6600 proteins\n",
      "✅ UP000001225 (Bordetella petrii DSM 12804): 4912 proteins\n",
      "✅ UP000007963 (Aspergillus terreus NIH2624): 10417 proteins\n",
      "✅ UP000007058 (Paramagnetospirillum magneticum AMB-1): 4515 proteins\n",
      "✅ UP000005933 (Ralstonia solanacearum UW551): 4303 proteins\n",
      "✅ UP000006701 (Aspergillus clavatus NRRL 1): 9140 proteins\n",
      "✅ UP000001936 (Rhizobium etli CFN 42): 5922 proteins\n",
      "✅ UP000000245 (Acidiphilium cryptum JF-5): 3521 proteins\n",
      "✅ UP000000238 (Hahella chejuensis KCTC 2396): 6751 proteins\n",
      "✅ UP000002412 (Yersinia pseudotuberculosis IP 31758): 4305 proteins\n",
      "✅ UP000009159 (Mycolicibacterium vanbaalenii PYR-1): 5907 proteins\n",
      "✅ UP000000998 (Marinobacter nauticus VT8): 4170 proteins\n",
      "✅ UP000006695 (Geotalea uraniireducens Rf4): 4255 proteins\n",
      "❌ Failed to download UP001277857 (Pseudomonas putida F1)\n",
      "✅ UP000006726 (Cryptosporidium parvum Iowa II): 3805 proteins\n",
      "✅ UP000002296 (Trypanosoma cruzi strain CL Brener): 19242 proteins\n",
      "✅ UP000006738 (Burkholderia pseudomallei 1106a): 7145 proteins\n",
      "✅ UP000001877 (Brevibacillus brevis NBRC 100599): 5887 proteins\n",
      "✅ UP000001740 (Xanthomonas oryzae pv. oryzae PXO99A): 4566 proteins\n",
      "✅ UP000001971 (Yersinia pestis Antiqua): 4135 proteins\n",
      "✅ UP000001977 (Bordetella avium 197N): 3371 proteins\n",
      "✅ UP000000441 (Bacillus cereus Q1): 5459 proteins\n",
      "✅ UP000000765 (Mycobacterium ulcerans Agy99): 4208 proteins\n",
      "❌ Failed to download UP000095213 (Escherichia coli 536)\n",
      "✅ UP000012429 (Rhizobium freirei PRF 81): 6267 proteins\n",
      "✅ UP000001952 (Escherichia coli UTI89): 5192 proteins\n",
      "✅ UP000000644 (Polaromonas naphthalenivorans CJ2): 4879 proteins\n",
      "✅ UP000008385 (Ramlibacter tataouinensis TTB310): 3880 proteins\n",
      "✅ UP000001108 (Sinorhizobium medicae WSM419): 6145 proteins\n",
      "✅ UP000001805 (Neurospora crassa OR74A): 10255 proteins\n",
      "✅ UP000007805 (Cryptococcus gattii WM276): 6560 proteins\n",
      "✅ UP000000235 (Salinispora tropica CNB-440): 4523 proteins\n",
      "✅ UP000008076 (Entamoeba dispar SAW760): 8609 proteins\n",
      "✅ UP000014680 (Entamoeba invadens IP1): 9860 proteins\n",
      "✅ UP000053372 (Mastigocoleus testarum BC008): 6353 proteins\n",
      "✅ UP000004430 (Yersinia pestis biovar Orientalis str. IP275): 4346 proteins\n",
      "✅ UP000007029 (Roseobacter denitrificans OCh 114): 4118 proteins\n",
      "✅ UP000006694 (Flavobacterium johnsoniae UW101): 5016 proteins\n",
      "✅ UP000009080 (Teredinibacter turnerae T7901): 4249 proteins\n",
      "✅ UP000001351 (Stigmatella aurantiaca DW4/3-1): 8311 proteins\n",
      "✅ UP000002209 (Gemmatimonas aurantiaca T-27): 3932 proteins\n",
      "✅ UP000001996 (Lodderomyces elongisporus NRRL YB-4239): 5779 proteins\n",
      "✅ UP000000233 (Stutzerimonas stutzeri A1501): 4092 proteins\n",
      "✅ UP000000756 (Aeromonas hydrophila subsp. hydrophila ATCC 7966): 4121 proteins\n",
      "✅ UP000009038 (Aspergillus niger ATCC 1015): 10949 proteins\n",
      "✅ UP000008210 (Cupriavidus necator H16): 6614 proteins\n",
      "✅ UP000001582 (Pseudomonas paraeruginosa PA7): 5974 proteins\n",
      "✅ UP000000225 (Aeromonas salmonicida subsp. salmonicida A449): 4327 proteins\n",
      "✅ UP000000263 (Roseiflexus castenholzii DSM 13941): 4324 proteins\n",
      "✅ UP000008851 (Xanthomonas oryzae pv. oryzicola BLS256): 4413 proteins\n",
      "✅ UP000016932 (Pseudocercospora fijiensis CIRAD86): 13062 proteins\n",
      "✅ UP000000658 (Pseudomonas entomophila L48): 5126 proteins\n",
      "✅ UP000004848 (Roseibium aggregatum IAM 12614): 6272 proteins\n",
      "✅ UP000282574 (Chroococcidiopsis cubana SAG 39.79): 7319 proteins\n",
      "✅ UP000005713 (Sagittula stellata E-37): 5025 proteins\n",
      "✅ UP000001867 (Stenotrophomonas maltophilia R551-3): 4026 proteins\n",
      "✅ UP000001192 (Paraburkholderia phymatum STM815): 7461 proteins\n",
      "✅ UP000001353 (Roseobacter litoralis Och 149): 4499 proteins\n",
      "✅ UP000005801 (Plesiocystis pacifica SIR-1): 8437 proteins\n",
      "✅ UP000005307 (Octadecabacter antarcticus 307): 4327 proteins\n",
      "✅ UP000000374 (Verminephrobacter eiseniae EF01-2): 4911 proteins\n",
      "✅ UP000006764 (Isoalcanivorax pacificus W11-5): 3686 proteins\n",
      "✅ UP000006786 (Nitratireductor pacificus pht-3B): 4196 proteins\n",
      "✅ UP000001989 (Rhizorhabdus wittichii RW1): 5313 proteins\n",
      "✅ UP000002168 (Shewanella woodyi ATCC 51908): 4865 proteins\n",
      "✅ UP000242877 (Ascosphaera apis ARSEF 7405): 6442 proteins\n",
      "✅ UP000000642 (Yersinia enterocolitica subsp. enterocolitica 8081): 4026 proteins\n",
      "✅ UP000008815 (Burkholderia multivorans ATCC 17616): 6040 proteins\n",
      "✅ UP000002256 (Rhizobium leguminosarum bv. trifolii WSM1325): 6988 proteins\n",
      "✅ UP000001235 (Gallionella capsiferriformans ES-2): 2853 proteins\n",
      "✅ UP000001693 (Leptothrix cholodnii SP-6): 4343 proteins\n",
      "✅ UP000001695 (Beijerinckia indica subsp. indica ATCC 9039): 3774 proteins\n",
      "✅ UP000002257 (Methylocella silvestris BL2): 3816 proteins\n",
      "✅ UP000005463 (Burkholderia ambifaria IOP40-10): 6923 proteins\n",
      "✅ UP000004814 (Burkholderia ambifaria MEX-5): 7124 proteins\n",
      "✅ UP000005045 (Paraburkholderia graminis C4D1M): 6722 proteins\n",
      "✅ UP000054563 (Coccidioides immitis H538.4): 10588 proteins\n",
      "✅ UP000002596 (Paracidovorax citrulli AAC00-1): 4602 proteins\n",
      "✅ UP000036923 (Pseudobacteroides cellulosolvens ATCC 35603 = DSM 2933): 5771 proteins\n",
      "✅ UP000001739 (Paraburkholderia phytofirmans PsJN): 7197 proteins\n",
      "✅ UP000001680 (Burkholderia ambifaria MC40-6): 6690 proteins\n",
      "✅ UP000000784 (Delftia acidovorans SPH-1): 5968 proteins\n",
      "✅ UP000002608 (Shewanella pealeana ATCC 700345): 4181 proteins\n",
      "✅ UP000006833 (Dinoroseobacter shibae DFL 12 = DSM 16493): 4086 proteins\n",
      "✅ UP000000770 (Shewanella baltica OS195): 4618 proteins\n",
      "✅ UP000003039 (Comamonas testosteroni KF-1): 5386 proteins\n",
      "✅ UP000008209 (Shewanella putrefaciens 200): 4065 proteins\n",
      "✅ UP000006844 (Terriglobus saanensis SP1PR4): 4177 proteins\n",
      "✅ UP000001744 (Schizosaccharomyces japonicus yFS275): 4852 proteins\n",
      "✅ UP000006377 (Parvibaculum lavamentivorans DS-1): 3580 proteins\n",
      "✅ UP000077115 (Batrachochytrium dendrobatidis JEL423): 9531 proteins\n",
      "✅ UP000006643 (Phytophthora infestans T30-4): 17610 proteins\n",
      "✅ UP000054565 (Coccidioides immitis RMSCC 2394): 10406 proteins\n",
      "✅ UP000006744 (Bacillus cereus G9842): 5844 proteins\n",
      "✅ UP000001363 (Bacillus cereus AH820): 5798 proteins\n",
      "✅ UP000006728 (Saccharopolyspora erythraea NRRL 2338): 7155 proteins\n",
      "✅ UP000008216 (Escherichia coli APEC O1): 4871 proteins\n",
      "✅ UP000002169 (Burkholderia orbicola MC0-3): 6986 proteins\n",
      "✅ UP000008199 (Escherichia coli SE11): 4979 proteins\n",
      "❌ Failed to download UP000067491 (Bacteroides ovatus ATCC 8483)\n",
      "✅ UP000004291 (Hoeflea phototrophica DFL-43): 4185 proteins\n",
      "❌ Failed to download UP000204173 (Enterocloster bolteae ATCC BAA-613)\n",
      "✅ UP000002283 (Burkholderia mallei NCTC 10229): 4944 proteins\n",
      "✅ UP000007115 (Trichoderma virens Gv29-8): 12389 proteins\n",
      "✅ UP000001591 (Rhodospirillum centenum SW): 3984 proteins\n",
      "✅ UP000503129 (Brasilonema sennae CENA114): 6305 proteins\n",
      "✅ UP000008783 (Puccinia graminis f. sp. tritici CRL 75-36-700-3): 15808 proteins\n",
      "✅ UP000001988 (Mycobacterium tuberculosis H37Ra): 3991 proteins\n",
      "✅ UP000319462 (Leishmania braziliensis MHOM/BR/75/M2904): 7975 proteins\n",
      "✅ UP000000366 (Methylibium petroleiphilum PM1): 4359 proteins\n",
      "✅ UP000008824 (Salmonella enterica subsp. enterica serovar Newport str. SL254): 4784 proteins\n",
      "✅ UP000007800 (Perkinsus marinus ATCC 50983): 23116 proteins\n",
      "✅ UP000006706 (Aspergillus niger CBS 513.88): 14069 proteins\n",
      "✅ UP000269793 (Malassezia restricta CBS 7877): 4098 proteins\n",
      "✅ UP000008837 (Malassezia globosa CBS 7966): 4271 proteins\n",
      "✅ UP000006589 (Methylobacterium radiotolerans JCM 2831): 6388 proteins\n",
      "✅ UP000001471 (Pyrenophora tritici-repentis Pt-1C-BFP): 12062 proteins\n",
      "✅ UP000009097 (Fusarium oxysporum f. sp. lycopersici 4287): 23101 proteins\n",
      "✅ UP000031737 (Trypanosoma rangeli SC58): 7365 proteins\n",
      "✅ UP000008984 (Trichoderma reesei QM6a): 9115 proteins\n",
      "✅ UP000019132 (Globisporangium ultimum DAOM BR144): 15153 proteins\n",
      "✅ UP000018922 (Magnetospirillum gryphiswaldense MSR-1): 4155 proteins\n",
      "✅ UP000002226 (Toxoplasma gondii VEG): 8404 proteins\n",
      "❌ Failed to download UP001148345 (Phocaeicola vulgatus ATCC 8482)\n",
      "✅ UP000000566 (Parabacteroides distasonis ATCC 8503): 3830 proteins\n",
      "✅ UP000001568 (Ostreococcus lucimarinus CCE9901): 7403 proteins\n",
      "✅ UP000000392 (Acinetobacter oleivorans DR1): 3873 proteins\n",
      "✅ UP000000267 (Vanderwaltozyma polyspora DSM 70294): 5353 proteins\n",
      "✅ UP000000270 (Azorhizobium caulinodans ORS 571): 4708 proteins\n",
      "✅ UP000002301 (Brucella anthropi ATCC 49188): 4757 proteins\n",
      "✅ UP000001865 (Salmonella enterica subsp. enterica serovar Schwarzengrund str. CVM19633): 4604 proteins\n",
      "✅ UP000008322 (Salmonella enterica subsp. enterica serovar Dublin str. CT_02021853): 4606 proteins\n",
      "✅ UP000007011 (Escherichia coli SMS-3-5): 4876 proteins\n",
      "✅ UP000002385 (Methylorubrum extorquens CM4): 5491 proteins\n",
      "✅ UP000001460 (Cryptosporidium muris RN66): 3930 proteins\n",
      "✅ UP000007136 (Methylorubrum populi BJ001): 5325 proteins\n",
      "✅ UP000001745 (Talaromyces stipitatus ATCC 10500): 13021 proteins\n",
      "✅ UP000001294 (Talaromyces marneffei ATCC 18224): 10448 proteins\n",
      "✅ UP000019666 (Rubellimicrobium mesophilum DSM 19309): 4946 proteins\n",
      "✅ UP000009235 (Hoyosella subflava DQS3-9A1): 4704 proteins\n",
      "✅ UP000002497 (Coccidioides posadasii str. Silveira): 10212 proteins\n",
      "✅ UP000002213 (Actinosynnema mirum DSM 43827): 6912 proteins\n",
      "✅ UP000002219 (Nocardiopsis dassonvillei subsp. dassonvillei DSM 43111): 5497 proteins\n",
      "✅ UP000000844 (Stackebrandtia nassauensis DSM 44728): 6379 proteins\n",
      "✅ UP000001631 (Histoplasma capsulatum G186AR): 9214 proteins\n",
      "✅ UP000276103 (Trichormus variabilis SAG 1403-4b): 5168 proteins\n",
      "✅ UP000002139 (Sorangium cellulosum So ce56): 9320 proteins\n",
      "✅ UP000001868 (Phenylobacterium zucineum HLK1): 3838 proteins\n",
      "✅ UP000031861 (Bacillus cereus 03BB108): 6075 proteins\n",
      "✅ UP000001699 (Aspergillus fumigatus A1163): 9942 proteins\n",
      "✅ UP000005426 (Trichoderma atroviride IMI 206040): 11815 proteins\n",
      "✅ UP000007013 (Opitutus terrae PB90-1): 4588 proteins\n",
      "✅ UP000007076 (Kitasatospora setae KM-6054): 7443 proteins\n",
      "✅ UP000007753 (Sphingobium indicum UT26S): 4347 proteins\n",
      "❌ Failed to download UP000182966 (Pseudarthrobacter chlorophenolicus A6)\n",
      "✅ UP000008819 (Salmonella enterica subsp. enterica serovar Agona str. SL483): 4593 proteins\n",
      "✅ UP000001866 (Salmonella enterica subsp. enterica serovar Heidelberg str. SL476): 4758 proteins\n",
      "✅ UP000054567 (Coccidioides posadasii RMSCC 3488): 9958 proteins\n",
      "✅ UP000054559 (Coccidioides immitis RMSCC 3703): 10461 proteins\n",
      "✅ UP000007089 (Anaeromyxobacter dehalogenans 2CP-1): 4461 proteins\n",
      "✅ UP000001685 (Streptomyces griseus subsp. griseus NBRC 13350): 7008 proteins\n",
      "✅ UP000003963 (Streptomyces himastatinicus ATCC 53653): 9179 proteins\n",
      "✅ UP000002769 (Streptomyces lividans TK24): 7520 proteins\n",
      "✅ UP000002805 (Streptomyces pristinaespiralis ATCC 25486): 6867 proteins\n",
      "✅ UP000003986 (Streptomyces filamentosus NRRL 15998): 6893 proteins\n",
      "✅ UP000001317 (Shewanella halifaxensis HAW-EB4): 4276 proteins\n",
      "✅ UP000011157 (Mycobacterium liflandii 128FXT): 4943 proteins\n",
      "✅ UP000008207 (Methylobacterium nodulans ORS 2060): 8128 proteins\n",
      "✅ UP000054408 (Thecamonas trahens ATCC 50062): 10604 proteins\n",
      "✅ UP000002785 (Streptomyces sviceus ATCC 29083): 8203 proteins\n",
      "✅ UP000003614 (Salmonella enterica subsp. enterica serovar Virchow str. SL491): 4646 proteins\n",
      "✅ UP000002968 (Streptomyces griseoflavus Tu4000): 6337 proteins\n",
      "✅ UP000002032 (Escherichia coli BL21(DE3)): 4156 proteins\n",
      "✅ UP000008229 (Conexibacter woesei DSM 14684): 5912 proteins\n",
      "✅ UP000001918 (Thermomonospora curvata DSM 43183): 4888 proteins\n",
      "✅ UP000007962 (Beutenbergia cavernae DSM 12333): 4195 proteins\n",
      "✅ UP000002011 (Dyadobacter fermentans DSM 18053): 5703 proteins\n",
      "✅ UP000004596 (Bacteroides intestinalis DSM 17393): 4893 proteins\n",
      "✅ UP000230560 (Xanthomonas citri pv. phaseoli var. fuscans): 4354 proteins\n",
      "✅ UP000001599 (Salmonella enterica subsp. enterica serovar Paratyphi C str. RKS4594): 4601 proteins\n",
      "✅ UP000003113 (Achromobacter arsenitoxydans SY8): 5721 proteins\n",
      "✅ UP000004641 (Escherichia coli O157:H7 str. EC869): 5111 proteins\n",
      "✅ UP000030666 (Plasmodium falciparum Santa Lucia): 6175 proteins\n",
      "✅ UP000002218 (Nakamurella multipartita DSM 44233): 5123 proteins\n",
      "✅ UP000002029 (Streptosporangium roseum DSM 43021): 8956 proteins\n",
      "✅ UP000000851 (Catenulispora acidiphila DSM 44928): 8909 proteins\n",
      "✅ UP000007967 (Kribbella flavida DSM 17836): 6940 proteins\n",
      "✅ UP000004849 (Phocaeicola dorei DSM 17855): 4967 proteins\n",
      "✅ UP000000488 (Myxococcus fulvus HW-1): 7228 proteins\n",
      "✅ UP000016088 (Schizosaccharomyces octosporus yFS286): 4950 proteins\n",
      "✅ UP000004508 (Ktedonobacter racemifer DSM 44963): 11211 proteins\n",
      "✅ UP000000852 (Pedobacter heparinus DSM 2366): 4249 proteins\n",
      "✅ UP000002215 (Chitinophaga pinensis DSM 2588): 7179 proteins\n",
      "✅ UP000001194 (Laccaria bicolor S238N-H82): 17895 proteins\n",
      "✅ UP000008004 (Mycobacterium intracellulare ATCC 13950): 5133 proteins\n",
      "✅ UP000003959 (Moorena producens 3L): 7382 proteins\n",
      "✅ UP000008817 (Rhizobium etli CIAT 652): 6050 proteins\n",
      "✅ UP000006327 (Paraglaciecola arctica BSs20135): 5330 proteins\n",
      "✅ UP000005824 (Chthoniobacter flavus Ellin428): 6705 proteins\n",
      "✅ UP000008206 (Gloeothece verrucosa PCC 7822): 6559 proteins\n",
      "✅ UP000001036 (Cellvibrio japonicus Ueda107): 3713 proteins\n",
      "✅ UP000001611 (Verticillium dahliae VdLs.17): 9894 proteins\n",
      "✅ UP000000724 (Penicillium rubens Wisconsin 54-1255): 12788 proteins\n",
      "✅ UP000003880 (Citrobacter youngae ATCC 29220): 5274 proteins\n",
      "✅ UP000001880 (Haliangium ochraceum DSM 14365): 6684 proteins\n",
      "✅ UP000002059 (Paracoccidioides lutzii Pb01): 8811 proteins\n",
      "✅ UP000001628 (Paracoccidioides brasiliensis Pb18): 8399 proteins\n",
      "❌ Failed to download UP000031889 (Yersinia pseudotuberculosis YPIII)\n",
      "✅ UP000002028 (Spirosoma linguale DSM 74): 6867 proteins\n",
      "✅ UP000007730 (Afipia carboxidovorans OM5): 3624 proteins\n",
      "✅ UP000001734 (Klebsiella pneumoniae 342): 5738 proteins\n",
      "✅ UP000005641 (Toxoplasma gondii GT1): 8450 proteins\n",
      "✅ UP000001529 (Toxoplasma gondii ME49): 8315 proteins\n",
      "✅ UP000001188 (Xanthomonas campestris pv. campestris str. B100): 4414 proteins\n",
      "✅ UP000002629 (Caulobacter segnis ATCC 21756): 4136 proteins\n",
      "✅ UP000006564 (Aspergillus oryzae RIB40): 12057 proteins\n",
      "✅ UP000008065 (Neurospora tetrasperma FGSC 2508): 10378 proteins\n",
      "✅ UP000007882 (Actinoplanes missouriensis 431): 8113 proteins\n",
      "✅ UP000004535 (Burkholderia multivorans CGD2): 6615 proteins\n",
      "✅ UP000001197 (Podospora anserina S mat+): 10657 proteins\n",
      "✅ UP000004756 ([Clostridium] asparagiforme DSM 15981): 6817 proteins\n",
      "✅ UP000001213 (Tsukamurella paurometabola DSM 20162): 4171 proteins\n",
      "✅ UP000002220 (Planctopirus limnophila DSM 3776): 4258 proteins\n",
      "✅ UP000008840 (Stenotrophomonas maltophilia K279a): 4365 proteins\n",
      "✅ UP000003653 (Mycobacterium parascrofulaceum ATCC BAA-614): 6457 proteins\n",
      "✅ UP000004245 (Prescottella equi ATCC 33707): 5031 proteins\n",
      "✅ UP000005324 (Pseudoroseomonas cervicalis ATCC 49957): 4775 proteins\n",
      "✅ UP000006241 (Sphingobacterium spiritivorum ATCC 33300): 4925 proteins\n",
      "✅ UP000006258 (Sphingobacterium spiritivorum ATCC 33861): 4471 proteins\n",
      "✅ UP000008698 (Verticillium alfalfae VaMs.102): 10233 proteins\n",
      "✅ UP000001382 (Geodermatophilus obscurus DSM 43160): 4795 proteins\n",
      "✅ UP000001219 (Gordonia bronchialis DSM 43247): 4630 proteins\n",
      "✅ UP000001916 (Allomeiothermus silvanus DSM 9946): 3383 proteins\n",
      "✅ UP000018566 (Bacillus thuringiensis YBT-1518): 6485 proteins\n",
      "✅ UP000001887 (Pirellula staleyi DSM 6068): 4711 proteins\n",
      "✅ UP000000450 ([Acidovorax] ebreus TPSY): 3461 proteins\n",
      "✅ UP000002669 (Nannizzia gypsea CBS 118893): 8921 proteins\n",
      "✅ UP000001623 (Mesorhizobium opportunistum WSM2075): 6496 proteins\n",
      "✅ UP000004198 (Clostridium carboxidivorans P7): 5458 proteins\n",
      "✅ UP000005510 (Parabacteroides johnsonii DSM 18315): 4515 proteins\n",
      "✅ UP000004416 (Desulfitobacterium hafniense DP7): 5407 proteins\n",
      "✅ UP000003711 (Bacteroides cellulosilyticus DSM 14838): 5719 proteins\n",
      "✅ UP000185109 (Rhizobium etli 8C-3): 7012 proteins\n",
      "✅ UP000307378 (Rhizobium rosettiformans W3): 4727 proteins\n",
      "✅ UP000008142 (Histoplasma capsulatum var. duboisii H88): 9445 proteins\n",
      "✅ UP000002624 (Histoplasma capsulatum H143): 9545 proteins\n",
      "✅ UP000008988 (Saccharomyces cerevisiae AWRI1631): 5450 proteins\n",
      "✅ UP000000935 (Priestia megaterium QM B1551): 5606 proteins\n",
      "✅ UP000009222 (Leadbettera azotonutricia ZAS-9): 3457 proteins\n",
      "✅ UP000015441 (Blumeria hordei DH14): 6486 proteins\n",
      "✅ UP000185557 (Phormidium tenue NIES-30): 4999 proteins\n",
      "✅ UP000000613 (Salmonella enterica subsp. enterica serovar Enteritidis str. P125109): 4192 proteins\n",
      "✅ UP000008321 (Salmonella enterica subsp. enterica serovar Gallinarum str. 287/91): 3943 proteins\n",
      "✅ UP000002035 (Microsporum canis CBS 113480): 8764 proteins\n",
      "✅ UP000001869 (Salmonella enterica subsp. enterica serovar Paratyphi A str. AKU_12601): 4275 proteins\n",
      "✅ UP000000759 (Phaeodactylum tricornutum CCAP 1055/1): 10465 proteins\n",
      "✅ UP000002010 (Laribacter hongkongensis HLHK9): 3208 proteins\n",
      "✅ UP000017786 (Mycobacterium kansasii ATCC 12478): 5844 proteins\n",
      "✅ UP000002311 (Saccharomyces cerevisiae S288C): 6066 proteins\n",
      "✅ UP000002036 (Lachancea thermotolerans CBS 6340): 5093 proteins\n",
      "✅ UP000002038 (Blastomyces gilchristii SLH14081): 10303 proteins\n",
      "✅ UP000005222 (Millerozyma farinosa CBS 7064): 8851 proteins\n",
      "✅ UP000008864 (Trichophyton rubrum CBS 118892): 10005 proteins\n",
      "✅ UP000008536 (Zygosaccharomyces rouxii CBS 732): 4987 proteins\n",
      "✅ UP000011713 (Hyaloperonospora arabidopsidis Emoy2): 13837 proteins\n",
      "✅ UP000009169 (Trichophyton equinum CBS 127.97): 8676 proteins\n",
      "✅ UP000192917 (Tistlia consotensis USBA 355): 6388 proteins\n",
      "✅ UP000007137 (Mycobacteroides abscessus ATCC 19977): 4941 proteins\n",
      "✅ UP000002735 (Dickeya chrysanthemi Ech1591): 4131 proteins\n",
      "✅ UP000002736 (Pectobacterium carotovorum subsp. carotovorum PC1): 4245 proteins\n",
      "✅ UP000001876 (Micromonas pusilla CCMP1545): 10250 proteins\n",
      "✅ UP000001364 (Caulobacter vibrioides NA1000): 3859 proteins\n",
      "✅ UP000003824 (Streptomyces viridosporus ATCC 14672): 7866 proteins\n",
      "❌ Failed to download UP000010107 (Escherichia coli W)\n",
      "✅ UP000004968 (Hungatella hathewayi DSM 13479): 7571 proteins\n",
      "✅ UP000014585 (Cedecea davisae DSM 4568): 4801 proteins\n",
      "✅ UP000186657 (Moorena bouillonii PNG): 5932 proteins\n",
      "✅ UP000005250 (Bordetella pertussis 18323): 3167 proteins\n",
      "✅ UP000007564 (Bordetella bronchiseptica 253): 4744 proteins\n",
      "✅ UP000002622 (Salmonella enterica subsp. enterica serovar Typhimurium str. D23580): 4547 proteins\n",
      "✅ UP000071065 (Endozoicomonas montiporae CL-33): 4420 proteins\n",
      "✅ UP000007494 (Neospora caninum Liverpool): 6933 proteins\n",
      "✅ UP000003856 (Acidovorax delafieldii 2AN): 4890 proteins\n",
      "✅ UP000001492 (Asticcacaulis excentricus CB 48): 3743 proteins\n",
      "✅ UP000009071 (Solidesulfovibrio magneticus RS-1): 4663 proteins\n",
      "✅ UP000002318 (Sediminispirochaeta smaragdinae DSM 11293): 4211 proteins\n",
      "✅ UP000007322 (Thermothelomyces thermophilus ATCC 42464): 9079 proteins\n",
      "✅ UP000002605 (Candida dubliniensis CD36): 5831 proteins\n",
      "✅ UP000008205 (Escherichia coli O127:H6 str. E2348/69): 4594 proteins\n",
      "✅ UP000008073 (Saccharomyces cerevisiae JAY291): 5193 proteins\n",
      "✅ UP000008631 (Isosphaera pallida ATCC 43644): 3721 proteins\n",
      "✅ UP000005221 (Candida parapsilosis CDC317): 5777 proteins\n",
      "✅ UP000008181 (Thermothielavioides terrestris NRRL 8126): 9760 proteins\n",
      "✅ UP000008064 (Serpula lacrymans var. lacrymans S7.9): 12721 proteins\n",
      "✅ UP000007431 (Schizophyllum commune H4-8): 13128 proteins\n",
      "✅ UP000053890 (Rhodotorula graminis WP1): 7228 proteins\n",
      "✅ UP000054350 (Allomyces macrogynus ATCC 38327): 19092 proteins\n",
      "✅ UP000002734 (Musicola paradisiaca Ech703): 3961 proteins\n",
      "✅ UP000054562 (Plasmodium falciparum IGH-CR14): 5057 proteins\n",
      "✅ UP000001625 (Sideroxydans lithotrophicus ES-1): 2977 proteins\n",
      "✅ UP000002033 (Hyphomicrobium denitrificans ATCC 51888): 3452 proteins\n",
      "✅ UP000019494 (Intrasporangium chromatireducens Q5-1): 4363 proteins\n",
      "✅ UP000000747 (Escherichia coli S88): 4805 proteins\n",
      "✅ UP000000745 (Escherichia fergusonii ATCC 35469): 4309 proteins\n",
      "✅ UP000000746 (Escherichia coli 55989): 4797 proteins\n",
      "✅ UP000007097 (Escherichia coli UMN026): 4975 proteins\n",
      "✅ UP000000749 (Escherichia coli IAI39): 4554 proteins\n",
      "✅ UP000000748 (Escherichia coli ED1a): 4940 proteins\n",
      "✅ UP000313988 (Deinococcus radiopugnans ATCC 19172): 4000 proteins\n",
      "✅ UP000001446 (Dickeya parazeae Ech586): 4141 proteins\n",
      "❌ Failed to download UP001218248 (Yamadazyma tenuis ATCC 10573)\n",
      "✅ UP000004184 (Streptomyces viridochromogenes DSM 40736): 7706 proteins\n",
      "✅ UP000002066 (Streptomyces pratensis ATCC 33331): 6558 proteins\n",
      "✅ UP000008743 (Capsaspora owczarzaki ATCC 30864): 9794 proteins\n",
      "✅ UP000230709 (Methylosinus trichosporium OB3b): 4502 proteins\n",
      "✅ UP000008917 (Variovorax paradoxus EPS): 5937 proteins\n",
      "✅ UP000006250 (Solidesulfovibrio fructosivorans JJ]): 4158 proteins\n",
      "✅ UP000007938 (Alicycliphilus denitrificans K601): 4620 proteins\n",
      "✅ UP000004564 (Salmonella enterica subsp. enterica serovar Infantis str. SARB27): 4808 proteins\n",
      "✅ UP000008493 (Agaricus bisporus var. burnettii JB137-S8): 11211 proteins\n",
      "✅ UP000002488 (Giardia intestinalis ATCC 50581): 4466 proteins\n",
      "✅ UP000188318 (Aspergillus carbonarius ITEM 5010): 11037 proteins\n",
      "✅ UP000000709 (Spathaspora passalidarum NRRL Y-27907): 5973 proteins\n",
      "✅ UP000003981 (Paenibacillus sp. oral taxon 786 str. D14): 4460 proteins\n",
      "✅ UP000078460 (Sphingomonas melonis TY): 3680 proteins\n",
      "✅ UP000013165 (Marinobacter nanhaiticus D15-8W): 4680 proteins\n",
      "✅ UP000006426 (Pseudomonas amygdali pv. lachrymans str. M301315): 6368 proteins\n",
      "✅ UP000003465 (Pseudomonas amygdali pv. mori str. 301020): 7492 proteins\n",
      "✅ UP000004471 (Pseudomonas syringae pv. japonica str. M301072): 8783 proteins\n",
      "✅ UP000004986 (Pseudomonas syringae pv. pisi str. 1704B): 9139 proteins\n",
      "✅ UP000005924 (Pseudomonas syringae Cit 7): 4971 proteins\n",
      "✅ UP000003811 (Pseudomonas syringae pv. maculicola str. ES4326): 5559 proteins\n",
      "✅ UP000005240 (Puccinia triticina 1-1 BBBD Race 1): 11515 proteins\n",
      "✅ UP000001955 (Shimwellia blattae DSM 4481 = NBRC 105725): 3870 proteins\n",
      "✅ UP000017819 (Lutibaculum baratangense AMV1): 4164 proteins\n",
      "✅ UP000002212 (Rhodococcus opacus B4): 8171 proteins\n",
      "✅ UP000008793 (Erwinia billingiae Eb661): 4915 proteins\n",
      "✅ UP000095751 (Fragilariopsis cylindrus CCMP1102): 18075 proteins\n",
      "✅ UP000315403 (Acidithiobacillus thiooxidans ATCC 19377): 3464 proteins\n",
      "✅ UP000001889 (Citrobacter rodentium ICC168): 4792 proteins\n",
      "✅ UP000006633 (Ancylobacter novellus DSM 506): 4424 proteins\n",
      "✅ UP000005633 (Azospira oryzae PS): 3432 proteins\n",
      "✅ UP000004386 (Brucella intermedia LMG 3301): 4352 proteins\n",
      "✅ UP000014974 (Cyclobacterium qasimii M12-11B): 5957 proteins\n",
      "✅ UP000002482 (Paracidovorax avenae ATCC 19860): 4718 proteins\n",
      "✅ UP000000286 (Saccharomyces cerevisiae EC1118): 5982 proteins\n",
      "✅ UP000000314 (Komagataella phaffii GS115): 5073 proteins\n",
      "✅ UP000006039 (Gaeumannomyces tritici R3-111a-1): 14597 proteins\n",
      "✅ UP000011715 (Magnaporthiopsis poae ATCC 64411): 11303 proteins\n",
      "✅ UP000010820 (Stutzerimonas stutzeri RCH2): 4234 proteins\n",
      "✅ UP000008782 (Colletotrichum graminicola M1.001): 12019 proteins\n",
      "✅ UP000053201 (Spizellomyces punctatus DAOM BR117): 9267 proteins\n",
      "✅ UP000192266 (Hymenobacter roseosalivarius DSM 11622): 4391 proteins\n",
      "✅ UP000009172 (Trichophyton tonsurans CBS 112818): 8520 proteins\n",
      "✅ UP000001399 (Rhodomicrobium vannielii ATCC 17100): 3513 proteins\n",
      "✅ UP000016511 (Aneurinibacillus aneurinilyticus ATCC 12856): 6213 proteins\n",
      "✅ UP000008370 (Phanerochaete carnosa HHB-10118-sp): 13867 proteins\n",
      "✅ UP000007347 (Desulfobacula toluolica Tol2): 4189 proteins\n",
      "✅ UP000001402 (Rhodopseudomonas palustris DX-1): 4908 proteins\n",
      "✅ UP000008703 (Streptomyces violaceusniger Tu 4113): 8941 proteins\n",
      "✅ UP000007802 (Blastomyces dermatitidis ATCC 18188): 10679 proteins\n",
      "✅ UP000015464 (Schizosaccharomyces cryophilus OY26): 5150 proteins\n",
      "✅ UP000001654 (Zunongwangia profunda SM-A87): 4634 proteins\n",
      "✅ UP000002762 (Beauveria bassiana ARSEF 2860): 10363 proteins\n",
      "✅ UP000002499 (Metarhizium acridum CQMa 102): 9831 proteins\n",
      "✅ UP000002498 (Metarhizium robertsii ARSEF 23): 11684 proteins\n",
      "✅ UP000007796 (Grosmannia clavigera kw1407): 8311 proteins\n",
      "✅ UP000006911 (Tuber melanosporum Mel28): 7494 proteins\n",
      "✅ UP000193045 (Escherichia coli H386): 5388 proteins\n",
      "✅ UP000243401 (Escherichia coli H605): 4221 proteins\n",
      "✅ UP000004710 (Escherichia coli M605): 5583 proteins\n",
      "✅ UP000193942 (Escherichia coli TA447): 5420 proteins\n",
      "✅ UP000008795 (Bacteroides xylanisolvens XB1A): 4407 proteins\n",
      "✅ UP000011064 (Pseudogymnoascus destructans 20631-21): 9122 proteins\n",
      "✅ UP000032303 (Photobacterium gaetbulicola Gung47): 4974 proteins\n",
      "✅ UP000008974 (Giardia lamblia P15): 4998 proteins\n",
      "✅ UP000593570 (Fusarium oxysporum f. sp. conglutinans Fo5176): 16776 proteins\n",
      "✅ UP000030766 (Fusarium oxysporum Fo47): 21661 proteins\n",
      "✅ UP000030753 (Fusarium oxysporum NRRL 32931): 20767 proteins\n",
      "✅ UP000005206 (Fusarium vanettenii 77-13-4): 15709 proteins\n",
      "✅ UP000803844 (Cryphonectria parasitica EP155): 11564 proteins\n",
      "✅ UP000005050 (Pantoea stewartii subsp. stewartii DC283): 4581 proteins\n",
      "✅ UP000008070 (Methylorubrum extorquens DM4): 5740 proteins\n",
      "✅ UP000027982 (Fimbriimonas ginsengisoli Gsoil 348): 4817 proteins\n",
      "✅ UP000008383 (Trichophyton verrucosum HKI 0517): 8028 proteins\n",
      "✅ UP000008866 (Trichophyton benhamiae CBS 112371): 7976 proteins\n",
      "✅ UP000053647 (Paxillus involutus ATCC 200175): 11689 proteins\n",
      "✅ UP000012338 (Bipolaris maydis ATCC 48331): 12705 proteins\n",
      "✅ UP000001312 (Sclerotinia sclerotiorum 1980 UF-70): 14445 proteins\n",
      "✅ UP000016934 (Bipolaris sorokiniana ND90Pr): 12174 proteins\n",
      "✅ UP000003246 (Bacteroides eggerthii 1_2_48FAA): 3857 proteins\n",
      "✅ UP000005723 (Serratia odorifera DSM 4582): 5121 proteins\n",
      "✅ UP000054560 (Sphaeroforma arctica JP610): 18649 proteins\n",
      "✅ UP000094236 (Pachysolen tannophilus NRRL Y-2460): 5645 proteins\n",
      "✅ UP000005952 (Hyphomicrobium denitrificans 1NES1): 3832 proteins\n",
      "✅ UP000001396 (Heterostelium album PN500): 12351 proteins\n",
      "✅ UP000030669 (Gloeophyllum trabeum ATCC 11539): 11735 proteins\n",
      "✅ UP000194127 (Postia placenta MAD-698-R-SB12): 12517 proteins\n",
      "✅ UP000184550 (Planktothrix serta PCC 8927): 5607 proteins\n",
      "✅ UP000184315 (Planktothrix tepida PCC 9214): 5889 proteins\n",
      "✅ UP000005242 (Wallemia mellicola CBS 633.66): 5262 proteins\n",
      "✅ UP000016935 (Exserohilum turcica Et28A): 11687 proteins\n",
      "✅ UP000016933 (Dothistroma septosporum NZE10): 12414 proteins\n",
      "✅ UP000007809 (Pseudonocardia dioxanivorans CB1190): 6638 proteins\n",
      "✅ UP000094385 (Lipomyces starkeyi NRRL Y-11557): 8136 proteins\n",
      "✅ UP000005056 (Escherichia coli MS 85-1): 5983 proteins\n",
      "✅ UP000002316 (Trypanosoma brucei gambiense DAL972): 9668 proteins\n",
      "✅ UP000001444 (Streptomyces scabiei 87.22): 8700 proteins\n",
      "✅ UP000007113 (Granulicella mallensis MP5ACTX8): 4804 proteins\n",
      "✅ UP000017200 (Microbotryum lychnidis-dioicae p1A1 Lamole): 7656 proteins\n",
      "✅ UP000094112 (Wickerhamomyces anomalus NRRL Y-366-8): 6406 proteins\n",
      "✅ UP000007241 (Batrachochytrium dendrobatidis JAM81): 8610 proteins\n",
      "✅ UP000008614 (Escherichia coli O83:H1 str. NRG 857C): 4575 proteins\n",
      "✅ UP000027222 (Galerina marginata CBS 339.88): 21357 proteins\n",
      "✅ UP001154400 (Prescottella equi 103S): 4514 proteins\n",
      "✅ UP000005090 (Methylomicrobium album BG8): 3738 proteins\n",
      "✅ UP000008634 (Cellulophaga algicola DSM 14237): 4114 proteins\n",
      "✅ UP000184546 (Aspergillus aculeatus ATCC 16872): 10843 proteins\n",
      "✅ UP000007150 (Sphingobium chlorophenolicum L-1): 4062 proteins\n",
      "✅ UP000016931 (Sphaerulina musiva SO2202): 10154 proteins\n",
      "✅ UP000002069 (Cronobacter turicensis z3032): 4452 proteins\n",
      "✅ UP000029492 (Methylobacterium oryzae CBMB20): 6256 proteins\n",
      "✅ UP000248326 (Deinococcus yavapaiensis KR-236): 4447 proteins\n",
      "✅ UP000576082 (Flammeovirga aprica JL-4): 6824 proteins\n",
      "✅ UP000030745 (Saprolegnia parasitica CBS 223.65): 20052 proteins\n",
      "✅ UP000192582 (Deinococcus hopiensis KR-140): 5843 proteins\n",
      "✅ UP000004664 (Methylobacter tundripaludum SV96): 4194 proteins\n",
      "✅ UP000033140 (Saitoella complicata NRRL Y-17804): 7118 proteins\n",
      "✅ UP000010411 (Streptomyces ipomoeae 91-03): 9369 proteins\n",
      "✅ UP000010931 (Streptomyces turgidiscabies Car8): 10035 proteins\n",
      "✅ UP000018763 (Mycolicibacterium neoaurum VKM Ac-1815D): 4996 proteins\n",
      "✅ UP000004217 (Streptomyces zinciresistens K42): 7578 proteins\n",
      "✅ UP000005438 (Niastella koreensis GR20-10): 7171 proteins\n",
      "✅ UP000016936 (Bipolaris maydis C5): 12857 proteins\n",
      "✅ UP000006872 ([Enterobacter] lignolyticus SCF1): 4393 proteins\n",
      "✅ UP000004563 (Phocaeicola vulgatus PC510): 3956 proteins\n",
      "❌ Failed to download UP000004862 (Bacteroides xylanisolvens SD CC 1b)\n",
      "✅ UP000242287 (Amanita thiersii Skay4041): 10343 proteins\n",
      "✅ UP000001702 (Pantoea ananatis LMG 20103): 4241 proteins\n",
      "✅ UP000006055 (Desulfomonile tiedjei DSM 6799): 5412 proteins\n",
      "✅ UP000009045 (Sinorhizobium meliloti SM11): 7317 proteins\n",
      "✅ UP000886653 (Cronartium quercuum f. sp. fusiforme G11): 13713 proteins\n",
      "✅ UP000006057 (Mycolicibacterium chubuense NBB4): 5783 proteins\n",
      "✅ UP000005442 (Mycolicibacterium rhodesiae NBB3): 6106 proteins\n",
      "✅ UP000006138 (Amycolatopsis mediterranei S699): 9551 proteins\n",
      "✅ UP000002774 (Mucilaginibacter paludis DSM 18603): 6864 proteins\n",
      "✅ UP000003094 (Paenibacillus vortex V453): 5926 proteins\n",
      "✅ UP000006512 (Asticcacaulis biprosthecium C19): 4713 proteins\n",
      "✅ UP000002363 (Enterobacter cloacae subsp. cloacae ATCC 13047): 5412 proteins\n",
      "✅ UP000217211 (Sinorhizobium sojae CCBAU 05684): 5903 proteins\n",
      "✅ UP000005387 (Paenibacillus curdlanolyticus YK9): 4803 proteins\n",
      "✅ UP000011761 (Baudoinia panamericana UAMH 10762): 10508 proteins\n",
      "✅ UP000001062 (Marinomonas mediterranea MMB-1): 4118 proteins\n",
      "✅ UP000799539 (Cercospora zeae-maydis SCOH1-5): 12005 proteins\n",
      "✅ UP000006514 (Auricularia subglabra TFB-10046 SS5): 5290 proteins\n",
      "✅ UP000006991 (Bacillus cereus VD022): 6782 proteins\n",
      "✅ UP000001608 (Saccharomyces cerevisiae Kyokai no. 7): 5776 proteins\n",
      "✅ UP000053319 (Dichomitus squalens LYAD-421 SS1): 7183 proteins\n",
      "❌ Failed to download UP000185453 (Ectopseudomonas alcaliphila JAB1)\n",
      "✅ UP000004344 (Fischerella thermalis JSC-11): 4557 proteins\n",
      "✅ UP000053558 (Coniophora puteana RWD-64-598 SS2): 13735 proteins\n",
      "✅ UP000218811 (Wolfiporia cocos MD-104 SS10): 12196 proteins\n",
      "✅ UP000004510 (Achromobacter piechaudii ATCC 43553): 5756 proteins\n",
      "✅ UP000009872 (Bacteroides oleiciplenus YIT 12058): 5451 proteins\n",
      "✅ UP000003763 ([Clostridium] citroniae WAL-17108): 6074 proteins\n",
      "✅ UP000037392 ([Clostridium] citroniae WAL-19142): 5698 proteins\n",
      "✅ UP000005384 (Hungatella hathewayi WAL-18680): 5166 proteins\n",
      "✅ UP000002970 ([Clostridium] symbiosum WAL-14163): 4668 proteins\n",
      "✅ UP000004913 (Dysgonomonas gadei ATCC BAA-286): 4155 proteins\n",
      "✅ UP000006045 (Pseudomonas fluorescens R124): 5219 proteins\n",
      "✅ UP000003891 (Paenibacillus lactis 154): 6136 proteins\n",
      "✅ UP000000686 (Pseudomonas fulva 12-X): 4459 proteins\n",
      "✅ UP000009010 (Rahnella aquatilis CIP 78.65 = ATCC 33071): 4841 proteins\n",
      "✅ UP000006755 (Gallaecimonas xiamenensis 3-C-1): 3799 proteins\n",
      "✅ UP000053257 (Phlebiopsis gigantea 11061_1 CR5-6): 11848 proteins\n",
      "✅ UP000007575 (Deinococcus gobiensis I-0): 4329 proteins\n",
      "✅ UP000018888 (Rhizophagus irregularis DAOM 181602=DAOM 197198): 26011 proteins\n",
      "✅ UP000030671 (Heterobasidion irregulare TC 32-1): 13159 proteins\n",
      "✅ UP000001072 (Melampsora larici-populina 98AG31): 16237 proteins\n",
      "✅ UP000077051 (Mucor lusitanicus CBS 277.49): 11586 proteins\n",
      "✅ UP000000377 (Streptomyces bingchenggensis BCW-1): 10019 proteins\n",
      "✅ UP000000328 (Amycolatopsis mediterranei U32): 9204 proteins\n",
      "✅ UP000010998 (Mesorhizobium australicum WSM2073): 5790 proteins\n",
      "✅ UP000005406 (Shigella flexneri CCH060): 4795 proteins\n",
      "✅ UP000031647 (Shigella dysenteriae 1617): 5611 proteins\n",
      "✅ UP000179860 (Paraburkholderia sprentiae WSM5005): 6429 proteins\n",
      "✅ UP000024900 (Bradyrhizobium diazoefficiens SEMIA 5080): 8188 proteins\n",
      "✅ UP000005732 (Rhizobium leguminosarum bv. trifolii WSM2297): 6421 proteins\n",
      "✅ UP000005092 (Rhizobium leguminosarum bv. trifolii WSM597): 6883 proteins\n",
      "✅ UP000008784 (Orbilia oligospora ATCC 24927): 11479 proteins\n",
      "✅ UP000000329 (Herbaspirillum seropedicae SmR1): 4732 proteins\n",
      "✅ UP000192333 (Aquiflexum balticum DSM 16537): 4889 proteins\n",
      "✅ UP000008066 (Thermochaetoides thermophila DSM 1495): 7189 proteins\n",
      "✅ UP000092177 (Colletotrichum higginsianum IMI 349063): 14636 proteins\n",
      "✅ UP000008461 (Haliscomenobacter hydrossis DSM 1100): 6705 proteins\n",
      "✅ UP000000493 (Runella slithyformis DSM 19594): 5750 proteins\n",
      "✅ UP000018817 (Phytophthora nicotianae INRA-310): 26438 proteins\n",
      "✅ UP000006876 (Achromobacter xylosoxidans A8): 6798 proteins\n",
      "✅ UP000094455 (Pichia membranifaciens NRRL Y-2026): 5536 proteins\n",
      "✅ UP000077315 (Phycomyces blakesleeanus NRRL 1555(-)): 16155 proteins\n",
      "✅ UP000242474 (Coemansia reversa NRRL 1564): 7317 proteins\n",
      "✅ UP000009131 (Mixia osmundae IAM 14324): 6725 proteins\n",
      "✅ UP000054018 (Pisolithus microcarpus 441): 20748 proteins\n",
      "✅ UP000054010 (Oscillochloris trichoides DG-6): 3230 proteins\n",
      "✅ UP000054166 (Piloderma croceum F 1598): 21360 proteins\n",
      "✅ UP000007471 (Mesorhizobium ciceri biovar biserrulae WSM1271): 6260 proteins\n",
      "✅ UP000005275 (Marichromatium purpuratum 984): 3249 proteins\n",
      "✅ UP000006062 (Thiocystis violascens DSM 198): 4192 proteins\n",
      "✅ UP000004200 (Thiorhodococcus drewsii AZ1): 4731 proteins\n",
      "✅ UP000193411 (Catenaria anguillulae PL171): 12599 proteins\n",
      "✅ UP000075602 (Acidomyces richmondensis BFW): 11098 proteins\n",
      "✅ UP000004199 (Shigella boydii 4444-74): 5142 proteins\n",
      "✅ UP000095023 (Tortispora caseinolytica NRRL Y-17796): 4657 proteins\n",
      "✅ UP000184499 (Aspergillus brasiliensis CBS 101740): 12982 proteins\n",
      "✅ UP000184304 (Aspergillus tubingensis CBS 134.48): 12319 proteins\n",
      "✅ UP000005459 (Thiocapsa marina 5811): 4915 proteins\n",
      "✅ UP000005262 (Desulfosporosinus meridiei DSM 13257): 4340 proteins\n",
      "✅ UP000006346 (Desulfosporosinus orientis DSM 765): 5217 proteins\n",
      "✅ UP000005104 (Desulfosporosinus youngiae DSM 17734): 5108 proteins\n",
      "✅ UP000001881 (Sordaria macrospora k-hell): 9890 proteins\n",
      "✅ UP000002943 (Vibrio caribbeanicus ATCC BAA-2122): 4023 proteins\n",
      "✅ UP000070444 (Conidiobolus coronatus NRRL 28638): 10567 proteins\n",
      "✅ UP000008888 (Methylomonas methanica MC09): 4435 proteins\n",
      "✅ UP000029964 (Hapsidospora chrysogenum ATCC 11550): 8900 proteins\n",
      "✅ UP000241818 (Amorphotheca resinae ATCC 22711): 9640 proteins\n",
      "✅ UP000095009 (Nadsonia fulvescens var. elongata DSM 6958): 5636 proteins\n",
      "✅ UP000007304 (Exophiala dermatitidis NIH/UT8656): 9391 proteins\n",
      "✅ UP000004550 (Sphingobium indicum B90A): 3577 proteins\n",
      "✅ UP000001067 (Pyrenophora teres f. teres 0-1): 11705 proteins\n",
      "✅ UP000005667 (Azospirillum lipoferum 4B): 6062 proteins\n",
      "✅ UP000008560 (Bacteroides fragilis 638R): 4284 proteins\n",
      "✅ UP000006772 (Herbaspirillum frisingense GSF30): 4868 proteins\n",
      "✅ UP000005272 (Escherichia coli DEC2D): 5045 proteins\n",
      "✅ UP000006048 (Turneriella parva DSM 21527): 4092 proteins\n",
      "✅ UP000019402 (Saccharicrinis fermentans DSM 9555 = JCM 21142): 4663 proteins\n",
      "✅ UP000003786 (Theileria orientalis strain Shintoku): 3996 proteins\n",
      "✅ UP000004454 (Escherichia coli 97.0246): 5489 proteins\n",
      "✅ UP000003866 (Escherichia coli 4.0967): 6001 proteins\n",
      "✅ UP000092555 (Metschnikowia bicuspidata var. bicuspidata NRRL YB-4993): 5827 proteins\n",
      "✅ UP000005317 (Thiothrix nivea DSM 5205): 4218 proteins\n",
      "✅ UP000054217 (Pisolithus tinctorius Marx 270): 22409 proteins\n",
      "✅ UP000004349 (Vibrio scophthalmi LMG 19158): 4583 proteins\n",
      "✅ UP000008673 (Ogataea parapolymorpha DL-1): 5338 proteins\n",
      "✅ UP000007477 (Acinetobacter pittii PHEA-2): 3598 proteins\n",
      "✅ UP000005466 (Pseudomonas savastanoi pv. glycinea str. race 4): 8020 proteins\n",
      "✅ UP000594364 (Epichloe festucae Fl1): 7031 proteins\n",
      "✅ UP000001635 (Cyclobacterium marinum DSM 745): 4983 proteins\n",
      "✅ UP000004705 (Saccharomonospora azurea NA-128): 4376 proteins\n",
      "✅ UP000002791 (Saccharomonospora cyanea NA-134): 5033 proteins\n",
      "✅ UP000004926 (Saccharomonospora marina XMU15): 5567 proteins\n",
      "✅ UP000004691 (Saccharomonospora xinjiangensis XJ-54): 4307 proteins\n",
      "✅ UP000007437 (Mycetohabitans rhizoxinica HKI 454): 3859 proteins\n",
      "✅ UP000004382 (Methylorubrum extorquens DSM 13060): 6832 proteins\n",
      "✅ UP000001096 (Afipia broomeae ATCC 49717): 4994 proteins\n",
      "✅ UP000001095 (Afipia clevelandensis ATCC 49720): 4205 proteins\n",
      "✅ UP000003069 (Klebsiella oxytoca 10-5243): 5491 proteins\n",
      "✅ UP000009874 (Massilia timonae CCUG 45783): 5097 proteins\n",
      "✅ UP000009887 (Sphingobium yanoikuyae ATCC 51230): 5029 proteins\n",
      "✅ UP000010087 (Burkholderia pseudomallei 1026b): 6032 proteins\n",
      "✅ UP000011755 (Entamoeba histolytica KU27): 7398 proteins\n",
      "✅ UP000030780 (Entamoeba histolytica HM-3:IMSS): 7331 proteins\n",
      "✅ UP000010798 (Singulisphaera acidiphila DSM 18658): 7126 proteins\n",
      "✅ UP000006868 (Paenibacillus polymyxa SC2): 5378 proteins\n",
      "✅ UP000016368 (Hylemonella gracilis ATCC 19624): 3342 proteins\n",
      "✅ UP000002984 (Enterobacter hormaechei ATCC 49162): 4671 proteins\n",
      "✅ UP000013192 (Saccharomyces cerevisiae CEN.PK113-7D): 5439 proteins\n",
      "✅ UP000189670 (Candidatus Magnetoglobus multicellularis str. Araruama): 9976 proteins\n",
      "✅ UP000003971 (Salmonella enterica subsp. enterica serovar Choleraesuis str. SCSA50): 4516 proteins\n",
      "✅ UP000757435 (Drouetiella hepatica Uher 2000/2452): 5534 proteins\n",
      "✅ UP000011087 (Guillardia theta CCMP2712): 24739 proteins\n",
      "✅ UP000012488 (Methylobacterium mesophilicum SR1.6/6): 5962 proteins\n",
      "✅ UP000035963 (Caballeronia mineralivorans PML1(12)): 8182 proteins\n",
      "✅ UP000480684 (Magnetospirillum aberrantis SpK): 3840 proteins\n",
      "✅ UP000002794 (Salmonella enterica subsp. enterica serovar Dublin str. SD3246): 4675 proteins\n",
      "✅ UP000008978 (Salmonella enterica subsp. enterica serovar Typhimurium str. ST4/74): 4826 proteins\n",
      "✅ UP000028640 (Ewingella americana ATCC 33852): 4395 proteins\n",
      "✅ UP000280189 (Hafnia alvei ATCC 13337): 4320 proteins\n",
      "✅ UP000019374 (Ophiocordyceps sinensis CO18): 6968 proteins\n",
      "✅ UP000004906 (Salmonella enterica subsp. enterica serovar Adelaide str. A4-669): 5196 proteins\n",
      "✅ UP000003532 (Salmonella enterica subsp. enterica serovar Inverness str. R8-3668): 5582 proteins\n",
      "✅ UP000004903 (Salmonella enterica subsp. enterica serovar Rubislaw str. A4-653): 5682 proteins\n",
      "✅ UP000005065 (Salmonella enterica subsp. enterica serovar Senftenberg str. A4-543): 5571 proteins\n",
      "✅ UP000003915 (Salmonella enterica subsp. enterica serovar Uganda str. R8-3404): 5251 proteins\n",
      "✅ UP000004776 (Salmonella enterica subsp. enterica serovar Urbana str. R8-2977): 5535 proteins\n",
      "✅ UP000003536 (Salmonella enterica subsp. enterica serovar Wandsworth str. A4-580): 5369 proteins\n",
      "✅ UP000004642 (Salmonella enterica subsp. enterica serovar Alachua str. R6-377): 5128 proteins\n",
      "✅ UP000003221 (Salmonella enterica subsp. enterica serovar Montevideo str. S5-403): 5440 proteins\n",
      "✅ UP000054321 (Oidiodendron maius Zn): 16697 proteins\n",
      "✅ UP000016930 (Gelatoporia subvermispora B): 12078 proteins\n",
      "✅ UP000003299 (Xanthomonas vesicatoria ATCC 35937): 4785 proteins\n",
      "✅ UP000007880 (Caldilinea aerophila DSM 14535 = NBRC 104270): 4097 proteins\n",
      "✅ UP000006056 (Terriglobus roseus DSM 18391): 3936 proteins\n",
      "❌ Failed to download UP000032662 (Acidiphilium multivorum AIU301)\n",
      "✅ UP000021053 (Cryptosporangium arvum DSM 44712): 4033 proteins\n",
      "✅ UP000033047 (Parabacteroides goldsteinii DSM 19448 = WAL 12034): 5024 proteins\n",
      "✅ UP000005087 (Saccharomonospora glauca K62): 4239 proteins\n",
      "✅ UP000007259 (Leishmania mexicana MHOM/GT/2001/U1103): 8044 proteins\n",
      "✅ UP000007590 (Solitalea canadensis DSM 3403): 4304 proteins\n",
      "✅ UP000003586 (Niabella soli DSM 19437): 4110 proteins\n",
      "✅ UP000053841 (Bipolaris zeicola 26-R-13): 12851 proteins\n",
      "✅ UP000054032 (Bipolaris oryzae ATCC 44560): 12000 proteins\n",
      "✅ UP000054337 (Bipolaris victoriae FI3): 12879 proteins\n",
      "✅ UP000006286 (Alloalcanivorax dieselolei B5): 4388 proteins\n",
      "✅ UP000008639 (Pseudarthrobacter phenanthrenivorans Sphe3): 4082 proteins\n",
      "✅ UP000008084 (Yersinia enterocolitica subsp. palearctica Y11): 4391 proteins\n",
      "✅ UP000027195 (Botryobasidium botryosum FD-172 SS1): 16484 proteins\n",
      "✅ UP000054538 (Paxillus rubicundulus Ve08.2h10): 21906 proteins\n",
      "✅ UP000054485 (Suillus luteus UH-Slu-Lm8-n1): 18277 proteins\n",
      "✅ UP000006790 (Eremothecium cymbalariae DBVPG#7215): 4429 proteins\n",
      "✅ UP000006690 (Pantoea ananatis AJ13355): 4060 proteins\n",
      "✅ UP000028840 (Toxoplasma gondii VAND): 9147 proteins\n",
      "✅ UP000027265 (Jaapia argillacea MUCL 33604): 16341 proteins\n",
      "✅ UP000019376 (Penicillium oxalicum 114-2): 9977 proteins\n",
      "✅ UP000054097 (Serendipita vermifera MAFF 305830): 15021 proteins\n",
      "✅ UP000317573 (Rhodococcus rhodochrous J45): 5823 proteins\n",
      "✅ UP000503017 (Mesorhizobium loti R88b): 6732 proteins\n",
      "✅ UP000028834 (Toxoplasma gondii RUB): 10027 proteins\n",
      "✅ UP000318141 (Cupriavidus gilardii J11): 4348 proteins\n",
      "✅ UP000008063 (Serpula lacrymans var. lacrymans S7.3): 14339 proteins\n",
      "✅ UP000010467 (Deinococcus peraridilitoris DSM 19664): 4164 proteins\n",
      "✅ UP000183316 (Escherichia coli O25b:H4): 5899 proteins\n",
      "✅ UP000028821 (Toxoplasma gondii MAS): 10005 proteins\n",
      "✅ UP000028828 (Toxoplasma gondii p89): 9595 proteins\n",
      "✅ UP000244488 (Toxoplasma gondii TgCATBr9): 9833 proteins\n",
      "✅ UP000028838 (Toxoplasma gondii FOU): 10116 proteins\n",
      "✅ UP000053593 (Collybiopsis luxurians FD-317 M1): 14588 proteins\n",
      "✅ UP000004371 (Vibrio brasiliensis LMG 20546): 4333 proteins\n",
      "✅ UP000006228 (Vibrio sinaloensis DSM 21326): 4595 proteins\n",
      "✅ UP000054270 (Hypholoma sublateritium FD-334 SS-4): 17638 proteins\n",
      "✅ UP000320055 (Hyella patelloides LEGE 07179): 7698 proteins\n",
      "✅ UP000654482 (Lusitaniella coriacea LEGE 07157): 4954 proteins\n",
      "✅ UP000620559 (Plectonema cf. radiosum LEGE 06105): 6109 proteins\n",
      "✅ UP000054549 (Amanita muscaria Koide BX008): 17954 proteins\n",
      "✅ UP000006854 (Streptomyces venezuelae ATCC 10712): 7451 proteins\n",
      "✅ UP000001692 (Cupriavidus taiwanensis LMG 19424): 5838 proteins\n",
      "✅ UP000008975 (Microbacterium testaceum StLB037): 3671 proteins\n",
      "✅ UP000013251 (Acinetobacter bereziniae LMG 1003 = CIP 70.12): 4616 proteins\n",
      "✅ UP000006853 (Komagataella phaffii CBS 7435): 5284 proteins\n",
      "✅ UP000001610 (Cordyceps militaris CM01): 9651 proteins\n",
      "✅ UP000007883 (Rubrivivax gelatinosus IL144): 4686 proteins\n",
      "✅ UP000004728 (Novosphingobium nitrogenifigens DSM 19370): 3800 proteins\n",
      "✅ UP000241690 (Trichoderma harzianum CBS 226.95): 14049 proteins\n",
      "✅ UP000240760 (Trichoderma longibrachiatum ATCC 18648): 10930 proteins\n",
      "✅ UP000094389 (Cyberlindnera jadinii NRRL Y-1542): 5994 proteins\n",
      "✅ UP000094801 ([Candida] arabinofermentans NRRL YB-2248): 5827 proteins\n",
      "✅ UP000095085 (Hyphopichia burtonii NRRL Y-1933): 5994 proteins\n",
      "✅ UP000094336 (Babjeviella inositovora NRRL Y-12698): 6394 proteins\n",
      "✅ UP000094285 (Suhomyces tanzawaensis NRRL Y-17324): 5882 proteins\n",
      "✅ UP000005876 (Paenibacillus terrae HPL-003): 5518 proteins\n",
      "✅ UP000002668 (Plenodomus lingam JN3): 12608 proteins\n",
      "✅ UP000218238 (Brunnivagina elsteri CCALA 953): 5667 proteins\n",
      "✅ UP000030755 (Rozella allomycis CSF55): 6337 proteins\n",
      "✅ UP000008278 (Salmonella enterica subsp. enterica serovar Typhimurium str. UK-1): 4539 proteins\n",
      "✅ UP000014411 (Rhizobium grahamii CCGE 502): 6839 proteins\n",
      "✅ UP000054279 (Sphaerobolus stellatus SS14): 24609 proteins\n",
      "✅ UP000006222 (Rhodopirellula baltica WH47): 6060 proteins\n",
      "✅ UP000008130 (Polymorphum gilvum SL003B-26A1): 4354 proteins\n",
      "✅ UP000010959 (Rhodopirellula baltica SWK14): 6611 proteins\n",
      "✅ UP000007993 (Rhodopirellula baltica SH28): 6121 proteins\n",
      "✅ UP000053820 (Hydnomerulius pinastri MD-312): 7783 proteins\n",
      "✅ UP000006692 (Pseudomonas brassicacearum subsp. brassicacearum NFM421): 6081 proteins\n",
      "✅ UP000003022 (Streptomyces griseoaurantiacus M045): 6839 proteins\n",
      "✅ UP000007392 (Paenibacillus mucilaginosus K02): 7331 proteins\n",
      "✅ UP000002965 (Bacteroides caccae CL03T12C61): 4561 proteins\n",
      "✅ UP000003741 (Bacteroides cellulosilyticus CL02T12C19): 6276 proteins\n",
      "✅ UP000005974 (Phocaeicola dorei CL02T12C06): 5146 proteins\n",
      "✅ UP000004019 (Phocaeicola dorei CL03T12C01): 4408 proteins\n",
      "✅ UP000003917 (Bacteroides fragilis CL05T12C13): 4409 proteins\n",
      "✅ UP000003879 (Bacteroides fragilis CL07T12C05): 4595 proteins\n",
      "✅ UP000003089 (Bacteroides nordii CL02T12C05): 4388 proteins\n",
      "✅ UP000005150 (Bacteroides salyersiae CL02T12C01): 4569 proteins\n",
      "✅ UP000007995 (Bacteroides finegoldii CL09T03C10): 4160 proteins\n",
      "✅ UP000004219 (Phocaeicola vulgatus CL09T03C04): 3992 proteins\n",
      "✅ UP000003566 (Bacteroides xylanisolvens CL03T12C04): 4689 proteins\n",
      "✅ UP000013126 (Enterocloster bolteae 90A9): 5741 proteins\n",
      "✅ UP000013041 (Enterocloster bolteae 90B8): 5924 proteins\n",
      "✅ UP000013180 ([Clostridium] clostridioforme 90A6): 5710 proteins\n",
      "✅ UP000013085 ([Clostridium] clostridioforme 90A8): 5768 proteins\n",
      "✅ UP000006262 (Parabacteroides distasonis CL09T03C24): 4396 proteins\n",
      "✅ UP000006330 (Parabacteroides goldsteinii CL02T12C30): 5356 proteins\n",
      "✅ UP000006271 (Parabacteroides merdae CL03T12C32): 4104 proteins\n",
      "✅ UP000008316 (Burkholderia gladioli BSR3): 7351 proteins\n",
      "✅ UP000018780 (Leisingera methylohalidivorans DSM 14336): 4508 proteins\n",
      "✅ UP000008867 (Sporisorium reilianum SRZ2): 6674 proteins\n",
      "✅ UP000008177 (Botrytis cinerea T4): 16338 proteins\n",
      "✅ UP000005019 (Methyloversatilis universalis FAM5): 3919 proteins\n",
      "✅ UP000005959 (Hafnia alvei ATCC 51873): 4896 proteins\n",
      "✅ UP000007842 (Streptantibioticus cattleyicolor NRRL 8057 = DSM 46488): 7537 proteins\n",
      "✅ UP000004853 (Achromobacter insuavis AXX-A): 6159 proteins\n",
      "✅ UP000065495 (Kluyveromyces marxianus DMKU3-1042): 4926 proteins\n",
      "✅ UP000018957 (Photorhabdus khanii NC19): 4538 proteins\n",
      "✅ UP000006296 (Alteromonas macleodii str. 'English Channel 673'): 3876 proteins\n",
      "✅ UP000008392 (Collimonas fungivorans Ter331): 4429 proteins\n",
      "✅ UP000010448 (Pseudomonas bharatica CSV86): 5175 proteins\n",
      "✅ UP000006789 (Escherichia coli EC1870): 5851 proteins\n",
      "✅ UP000028630 (Trabulsiella guamensis ATCC 49490): 4729 proteins\n",
      "✅ UP000028653 (Buttiauxella agrestis ATCC 33320): 4332 proteins\n",
      "✅ UP000001283 (Priestia megaterium WSH-002): 5272 proteins\n",
      "✅ UP000007843 (Klebsiella michiganensis KCTC 1686): 5483 proteins\n",
      "✅ UP000032866 (Burkholderia cepacia GG4): 5818 proteins\n",
      "✅ UP000008556 (Salmonella enterica subsp. enterica serovar Paratyphi B str. SPB7): 5559 proteins\n",
      "✅ UP000355283 (Nannochloropsis salina CCMP1776): 8911 proteins\n",
      "✅ UP000003558 (Gordonia alkanivorans NBRC 16433): 4656 proteins\n",
      "✅ UP000008881 (Klebsiella aerogenes KCTC 2190): 4909 proteins\n",
      "✅ UP000007978 (Fusarium pseudograminearum CS3096): 12448 proteins\n",
      "✅ UP000028181 (Neorhizobium galegae bv. orientalis str. HAMBI 540): 6147 proteins\n",
      "✅ UP000028186 (Neorhizobium galegae bv. officinalis bv. officinalis str. HAMBI 1141): 6141 proteins\n",
      "✅ UP000007953 (Ralstonia solanacearum Po82): 4960 proteins\n",
      "✅ UP000007947 (Microlunatus phosphovorus NM-1): 5305 proteins\n",
      "✅ UP000053327 (Plasmodium vivax Brazil I): 6421 proteins\n",
      "✅ UP000222788 (Ceratocystis fimbriata CBS 114723): 7264 proteins\n",
      "✅ UP000053239 (Plasmodium vivax North Korean): 6647 proteins\n",
      "✅ UP000053776 (Plasmodium vivax Mauritania I): 6328 proteins\n",
      "✅ UP000184073 (Aspergillus versicolor CBS 583.65): 13222 proteins\n",
      "✅ UP000184356 (Aspergillus sydowii CBS 593.65): 13568 proteins\n",
      "✅ UP000005267 (Advenella kashmirensis WT001): 3933 proteins\n",
      "✅ UP000006620 (Paenibacillus mucilaginosus KNP414): 7782 proteins\n",
      "✅ UP000030690 (Plasmodium falciparum Vietnam Oak-Knoll (FVO)): 6218 proteins\n",
      "✅ UP000030656 (Plasmodium falciparum FCH/4): 5762 proteins\n",
      "✅ UP000030708 (Plasmodium falciparum Tanzania (2000708)): 6699 proteins\n",
      "✅ UP000019114 (Plasmodium falciparum NF135/5.C10): 6324 proteins\n",
      "✅ UP000030699 (Plasmodium falciparum MaliPS096_E11): 6301 proteins\n",
      "✅ UP000053989 (Scleroderma citrinum Foug A): 20903 proteins\n",
      "✅ UP000027361 (Tilletiaria anomala UBC 951): 6806 proteins\n",
      "✅ UP000003790 (Pseudomonas chlororaphis O6): 6219 proteins\n",
      "✅ UP000007289 (Pseudomonas fluorescens Q2-87): 5588 proteins\n",
      "✅ UP000031368 (Rhizobium gallicum bv. gallicum R602sp): 7035 proteins\n",
      "✅ UP000006455 (Mycobacterium colombiense CECT 3035): 5196 proteins\n",
      "✅ UP000022611 (Pseudomonas fluorescens HK44): 5750 proteins\n",
      "✅ UP000240493 (Trichoderma asperellum CBS 433.97): 12547 proteins\n",
      "✅ UP000006798 (Cupriavidus necator N-1): 7773 proteins\n",
      "✅ UP000030706 (Aureobasidium pullulans EXF-150): 11844 proteins\n",
      "✅ UP000030672 (Aureobasidium melanogenum CBS 110374): 10583 proteins\n",
      "✅ UP000027730 (Aureobasidium namibiae CBS 147.97): 10258 proteins\n",
      "✅ UP000030641 (Aureobasidium subglaciale EXF-2481): 10792 proteins\n",
      "✅ UP000054481 (Hirsutella minnesotensis 3608): 9072 proteins\n",
      "✅ UP000024837 (Drechslerella stenobrocha 248): 5595 proteins\n",
      "✅ UP000030071 (Vibrio tubiashii ATCC 19109): 4914 proteins\n",
      "✅ UP000267821 (Terfezia boudieri ATCC MYA-4762): 12026 proteins\n",
      "✅ UP000054248 (Tulasnella calospora MUT 4182): 19357 proteins\n",
      "✅ UP000004136 (Bacillus cereus HuA2-1): 6337 proteins\n",
      "✅ UP000014003 (Bacillus cereus HuA3-9): 6264 proteins\n",
      "✅ UP000006977 (Bacillus cereus HuA4-10): 5799 proteins\n",
      "✅ UP000014009 (Bacillus cereus HuB4-4): 6611 proteins\n",
      "✅ UP000013989 (Bacillus cereus ISP2954): 6664 proteins\n",
      "✅ UP000006607 (Bacillus cereus VD014): 6064 proteins\n",
      "✅ UP000014040 (Bacillus cereus VD021): 6068 proteins\n",
      "✅ UP000014019 (Bacillus cereus VD118): 5725 proteins\n",
      "✅ UP000014018 (Bacillus cereus VD133): 6780 proteins\n",
      "✅ UP000006967 (Bacillus cereus VD154): 6263 proteins\n",
      "✅ UP000014028 (Bacillus cereus VD184): 6448 proteins\n",
      "✅ UP000014023 (Bacillus cereus VD196): 6347 proteins\n",
      "✅ UP000030760 (Streptomyces bottropensis ATCC 25435): 8252 proteins\n",
      "✅ UP000245156 (Escherichia coli O26 str. RM8426): 5552 proteins\n",
      "✅ UP000009027 (Trypanosoma vivax Y486): 3778 proteins\n",
      "✅ UP000000702 (Trypanosoma congolense IL3000): 5906 proteins\n",
      "✅ UP000062973 (Amycolatopsis methanolica 239): 7005 proteins\n",
      "✅ UP000010074 (Bdellovibrio bacteriovorus str. Tiberius): 3728 proteins\n",
      "✅ UP000000689 (Naumovozyma dairenensis CBS 421): 5523 proteins\n",
      "✅ UP000002866 (Henningerozyma blattae CBS 6284): 5385 proteins\n",
      "✅ UP000005666 (Tetrapisispora phaffii CBS 4417): 5238 proteins\n",
      "✅ UP000005220 (Kazachstania africana CBS 2517): 5354 proteins\n",
      "✅ UP000006310 (Huiozyma naganishii CBS 8797): 5301 proteins\n",
      "✅ UP000006753 (Drepanopeziza brunnea f. sp. 'multigermtubi' MB_m1): 10037 proteins\n",
      "✅ UP000184383 (Aspergillus wentii DTO 134E9): 12389 proteins\n",
      "✅ UP000184188 (Penicilliopsis zonata CBS 506.65): 9870 proteins\n",
      "✅ UP000006087 (Aeromonas veronii AMC34): 4109 proteins\n",
      "✅ UP000033163 (Paenibacillus riograndensis SBR5): 6639 proteins\n",
      "✅ UP000035088 (Gordonia araii NBRC 100433): 3797 proteins\n",
      "✅ UP000009340 (Cronobacter condimenti 1330): 4271 proteins\n",
      "✅ UP000061974 (Cronobacter universalis NCTC 9529): 3944 proteins\n",
      "✅ UP000074247 (Toxoplasma gondii ARI): 9958 proteins\n",
      "✅ UP000236343 (Toxoplasma gondii COUG): 9866 proteins\n",
      "✅ UP000006023 (Gordonia amarae NBRC 15530): 4693 proteins\n",
      "✅ UP000006769 (Entamoeba nuttalli P19): 6176 proteins\n",
      "✅ UP000018144 (Pyronema omphalodes CBS 100304): 13306 proteins\n",
      "✅ UP000053562 (Plasmodium vivax India VII): 6588 proteins\n",
      "✅ UP000230002 (Ganoderma sinense ZZ0214-1): 15394 proteins\n",
      "✅ UP000029285 (Talaromyces marneffei PM1): 12156 proteins\n",
      "✅ UP000003828 (Arthrobacter globiformis NBRC 12137): 4524 proteins\n",
      "✅ UP000035034 (Gordonia effusa NBRC 100432): 4420 proteins\n",
      "✅ UP000004915 (Mycolicibacterium thermoresistibile ATCC 19527): 4615 proteins\n",
      "✅ UP000319824 (Rhizobium mongolense USDA 1844): 6588 proteins\n",
      "✅ UP000235464 (Streptomyces chartreusis NRRL 3882): 7911 proteins\n",
      "✅ UP000799537 (Zasmidium cellare ATCC 36951): 16014 proteins\n",
      "✅ UP000030751 (Fusarium oxysporum f. sp. pisi HDV247): 23263 proteins\n",
      "✅ UP000286716 (Amycolatopsis balhimycina DSM 5908): 9374 proteins\n",
      "✅ UP000076874 (Niveomyces insectorum RCEF 264): 9495 proteins\n",
      "✅ UP000030816 (Metarhizium album ARSEF 1941): 8389 proteins\n",
      "✅ UP000076744 (Cordyceps fumosorosea ARSEF 2679): 10050 proteins\n",
      "✅ UP000076863 (Beauveria brongniartii RCEF 3172): 9594 proteins\n",
      "✅ UP000076881 (Akanthomyces lecanii RCEF 1005): 11019 proteins\n",
      "✅ UP000078544 (Moelleriella libera RCEF 2490): 8458 proteins\n",
      "✅ UP000031523 (Streptomyces albus subsp. albus DSM 41398): 7323 proteins\n",
      "✅ UP000002949 (Mesorhizobium amorphae CCNWGS0123): 7083 proteins\n",
      "✅ UP000218287 (Anabaenopsis circularis NIES-21): 5889 proteins\n",
      "✅ UP000030108 (Rhizoctonia solani AG-3 Rhs1AP): 12711 proteins\n",
      "✅ UP000004030 (Novosphingobium pentaromativorans US6-1): 5229 proteins\n",
      "✅ UP000030701 (Fusarium oxysporum f. sp. vasinfectum 25433): 22248 proteins\n",
      "✅ UP000030685 (Fusarium odoratissimum NRRL 54006): 19807 proteins\n",
      "✅ UP000030703 (Fusarium oxysporum f. sp. melonis 26406): 23318 proteins\n",
      "✅ UP000005845 (Gordonia sputi NBRC 100414): 4590 proteins\n",
      "✅ UP000030676 (Fusarium oxysporum f. sp. conglutinans race 2 54008): 23271 proteins\n",
      "✅ UP000030663 (Fusarium oxysporum f. sp. raphani 54005): 22754 proteins\n",
      "❌ Failed to download UP000003425 (Ralstonia solanacearum K60)\n",
      "✅ UP000008315 (Methylotuvimicrobium alcaliphilum 20Z): 4041 proteins\n",
      "✅ UP000028168 (Xanthomonas vasicola pv. musacearum NCPPB 2005): 3736 proteins\n",
      "✅ UP000002640 (Phytophthora sojae strain P6497): 25721 proteins\n",
      "✅ UP000003208 (Marinobacter manganoxydans MnI7-9): 4201 proteins\n",
      "✅ UP000030161 (Candida albicans P78048): 6284 proteins\n",
      "✅ UP000054477 (Laccaria amethystina LaAM-08-1): 20893 proteins\n",
      "✅ UP000235371 (Hyaloscypha bicolor E): 18616 proteins\n",
      "✅ UP000009009 (Saccharomyces cerevisiae x Saccharomyces kudriavzevii VIN7): 9076 proteins\n",
      "✅ UP000015527 (Novosphingobium lindaniclasticum LE124): 4482 proteins\n",
      "✅ UP000013776 (Taphrina deformans PYCC 5710): 4659 proteins\n",
      "✅ UP000005446 (Glarea lozoyensis 74030): 7926 proteins\n",
      "✅ UP000004038 (Sinorhizobium meliloti CCNWSX0020): 6841 proteins\n",
      "✅ UP000003250 (Mesorhizobium alhagi CCNWXJ12-2): 7195 proteins\n",
      "✅ UP000005038 (Gordonia otitidis NBRC 100426): 4942 proteins\n",
      "✅ UP000008363 (Gordonia rhizosphera NBRC 16068): 5931 proteins\n",
      "✅ UP000007148 (Serendipita indica DSM 11827): 11780 proteins\n",
      "✅ UP000005258 (Tistrella mobilis KA081020-065): 5779 proteins\n",
      "✅ UP000017048 (Nocardia asteroides NBRC 15531): 6460 proteins\n",
      "✅ UP000185911 (Rhodoferax antarcticus ANT.BR): 4231 proteins\n",
      "✅ UP000016801 (Claviceps purpurea 20.1): 8815 proteins\n",
      "✅ UP000009154 (Gordonia polyisoprenivorans VH2): 5097 proteins\n",
      "✅ UP000005940 (Streptomyces tsukubensis NRRL18488): 6304 proteins\n",
      "✅ UP000005064 (Rhodococcus pyridinivorans AK37): 4822 proteins\n",
      "✅ UP000052268 (Novosphingobium barchaimii LL02): 4835 proteins\n",
      "✅ UP000015524 (Sphingobium baderi LL03): 4697 proteins\n",
      "✅ UP000010297 (Atlantibacter hermannii NBRC 105704): 4159 proteins\n",
      "✅ UP000029462 (Pseudescherichia vulneris NBRC 102420): 4196 proteins\n",
      "✅ UP000012414 (Escherichia coli MP021552.12): 5684 proteins\n",
      "✅ UP000016922 (Glarea lozoyensis ATCC 20868): 13082 proteins\n",
      "✅ UP000095463 (Devosia insulae DS-56): 5428 proteins\n",
      "✅ UP000007523 (Paenibacillus mucilaginosus 3016): 7019 proteins\n",
      "✅ UP000813215 (Pelatocladus maniniholoensis HA4357-MV3): 5287 proteins\n",
      "✅ UP000015344 (Paenibacillus alvei TS-15): 5783 proteins\n",
      "✅ UP000016487 (Pseudoalteromonas citrea DSM 8771): 4745 proteins\n",
      "✅ UP000006316 (Neobacillus bataviensis LMG 21833): 5206 proteins\n",
      "✅ UP000000466 (Simiduia agarivorans SA1 = DSM 21679): 3812 proteins\n",
      "✅ UP000007735 (Sinorhizobium fredii HH103): 6072 proteins\n",
      "✅ UP000006319 (Plasmodium cynomolgi strain B): 5713 proteins\n",
      "✅ UP000274601 (Actinomadura pelletieri DSM 43383): 6664 proteins\n",
      "✅ UP000192761 (Andreprevotia lacus DSM 23236): 4303 proteins\n",
      "✅ UP000017837 (Asticcacaulis benevestitus DSM 16100 = ATCC BAA-896): 4617 proteins\n",
      "✅ UP000248259 (Parazoarcus communis SWub3 = DSM 12120): 4610 proteins\n",
      "✅ UP000199531 (Brachymonas denitrificans DSM 15123): 2470 proteins\n",
      "❌ Failed to download UP000303847 (Brenneria nigrifluens DSM 30175 = ATCC 13028)\n",
      "✅ UP000487350 (Caenimonas koreensis DSM 17982): 4154 proteins\n",
      "✅ UP000186513 (Chitinimonas taiwanensis DSM 18899): 3699 proteins\n",
      "✅ UP000184310 (Clostridium cavendishii DSM 21758): 4475 proteins\n",
      "✅ UP000184386 (Anaerocolumna jejuensis DSM 15929): 5669 proteins\n",
      "✅ UP000076603 (Clostridium magnum DSM 2767): 6083 proteins\n",
      "✅ UP000248132 (Ruminiclostridium sufflavum DSM 19573): 3674 proteins\n",
      "✅ UP000184612 (Anaerocolumna xylanovorans DSM 12503): 4651 proteins\n",
      "✅ UP000675920 (Derxia gummosa DSM 723): 4331 proteins\n",
      "✅ UP000184076 (Desulfacinum infernum DSM 9756): 3683 proteins\n",
      "✅ UP000183994 (Desulfatibacillum alkenivorans DSM 16219): 5221 proteins\n",
      "✅ UP000184010 (Desulfitobacterium chlororespirans DSM 11544): 5277 proteins\n",
      "✅ UP000192418 (Desulfocicer vacuolatum DSM 3385): 4083 proteins\n",
      "✅ UP000014977 (Desulfococcus multivorans DSM 2059): 3844 proteins\n",
      "✅ UP000184139 (Desulfofustis glycolicus DSM 9705): 4455 proteins\n",
      "✅ UP000184603 (Desulfopila aestuarii DSM 18488): 5269 proteins\n",
      "✅ UP000198656 (Desulfosporosinus hippei DSM 8344): 4588 proteins\n",
      "✅ UP000183954 (Desulfosporosinus lacus DSM 15449): 5202 proteins\n",
      "✅ UP000199337 (Desulfotruncus arcticus DSM 17038): 5051 proteins\n",
      "✅ UP000033608 (Devosia limi DSM 17137): 3824 proteins\n",
      "✅ UP000190162 (Enterovibrio nigricans DSM 22720): 4788 proteins\n",
      "✅ UP000182692 (Enterovibrio norvegicus DSM 15893): 4808 proteins\n",
      "✅ UP000184048 (Flavisolibacter ginsengisoli DSM 18119): 4178 proteins\n",
      "✅ UP000030111 (Flavobacterium subsaxonicum WB 4.1-42 = DSM 21790): 3785 proteins\n",
      "✅ UP000006251 (Glaciecola pallidula DSM 14239 = ACAM 615): 4036 proteins\n",
      "✅ UP000014463 (Litchfieldella anticariensis FP35 = DSM 16096): 4705 proteins\n",
      "✅ UP000228535 (Hymenobacter chitinivorans DSM 11115): 4905 proteins\n",
      "✅ UP000184418 (Hymenobacter daecheongensis DSM 21074): 3657 proteins\n",
      "✅ UP000183947 (Hymenobacter psychrotolerans DSM 18569): 4205 proteins\n",
      "✅ UP000184485 (Kaistia soli DSM 19436): 4866 proteins\n",
      "✅ UP000184245 (Lactonifactor longoviformis DSM 17459): 4380 proteins\n",
      "✅ UP000223913 (Flavilitoribacter nigricans DSM 23189 = NBRC 102662): 8179 proteins\n",
      "✅ UP000190637 (Marinactinospora thermotolerans DSM 45154): 4956 proteins\n",
      "✅ UP000184517 (Marinomonas polaris DSM 16579): 4598 proteins\n",
      "✅ UP000256779 (Marinoscillum furvescens DSM 4134): 4702 proteins\n",
      "✅ UP000191135 (Martelella mediterranea DSM 17316): 5139 proteins\n",
      "✅ UP000006265 (Mycolicibacterium hassiacum DSM 44199): 4962 proteins\n",
      "✅ UP000198862 (Pseudoalteromonas denitrificans DSM 6059): 5332 proteins\n",
      "✅ UP000192920 (Pseudogulbenkiania subflava DSM 22618): 3838 proteins\n",
      "✅ UP000031271 (Stutzerimonas balearica DSM 6083): 3914 proteins\n",
      "✅ UP000321328 (Pseudonocardia asaccharolytica DSM 44247 = NBRC 16224): 4885 proteins\n",
      "✅ UP000186406 (Pseudoxanthobacter soli DSM 19599): 4320 proteins\n",
      "✅ UP000016843 (Rhodonellum psychrophilum GCM71 = DSM 17998): 4904 proteins\n",
      "✅ UP000199473 (Falsiroseomonas stagni DSM 19981): 5902 proteins\n",
      "✅ UP000015347 (Salipiger mucosus DSM 16094): 5583 proteins\n",
      "✅ UP000018851 (Sphingomonas sanxanigenens DSM 19645 = NX02): 6101 proteins\n",
      "✅ UP000199520 (Pelosinus propionicus DSM 13327): 5173 proteins\n",
      "✅ UP000198615 (Thalassobaculum litoreum DSM 18839): 4959 proteins\n",
      "❌ Failed to download UP000186060 (Thalassospira xiamenensis M-5 = DSM 17429)\n",
      "✅ UP000013232 (Thauera linaloolentis 47Lol = DSM 12138): 3836 proteins\n",
      "✅ UP000035100 (Wenxinia marina DSM 24838): 4030 proteins\n",
      "❌ Failed to download UP001256598 (Pseudomonas protegens CHA0)\n",
      "✅ UP000007841 (Klebsiella pneumoniae subsp. pneumoniae HS11286): 5728 proteins\n",
      "✅ UP000215563 (Amycolatopsis alba DSM 44262): 8560 proteins\n",
      "✅ UP000007129 (Macrophomina phaseolina MS6): 13804 proteins\n",
      "✅ UP000008190 (Nocardia cyriacigeorgica GUH-2): 5474 proteins\n",
      "✅ UP000005808 (Cupriavidus basilensis OR16): 7530 proteins\n",
      "✅ UP000006320 (Paraglaciecola chathamensis S18K6): 4689 proteins\n",
      "✅ UP000054144 (Fistulina hepatica ATCC 64428): 9322 proteins\n",
      "✅ UP000006263 (Paraglaciecola mesophila KMM 241): 4568 proteins\n",
      "✅ UP000033434 (Pseudoalteromonas luteoviolacea S4054): 5121 proteins\n",
      "✅ UP000006322 (Paraglaciecola polaris LMG 21857): 4728 proteins\n",
      "✅ UP000011864 (Paraglaciecola psychrophila 170): 5601 proteins\n",
      "✅ UP000005951 (Rhodococcus opacus M213): 8623 proteins\n",
      "✅ UP000028837 (Toxoplasma gondii GAB2-2007-GAL-DOM2): 9135 proteins\n",
      "✅ UP000075225 (Toxoplasma gondii TgCatPRC2): 10120 proteins\n",
      "✅ UP000016926 (Rhodotorula toruloides NP11): 8138 proteins\n",
      "✅ UP000003900 (Paenibacillus dendritiformis C454): 5660 proteins\n",
      "✅ UP000006304 (Nocardia brasiliensis ATCC 700358): 8415 proteins\n",
      "✅ UP000006167 (Escherichia coli O104:H4 str. 2011C-3493): 5107 proteins\n",
      "✅ UP000570003 (Streptomyces somaliensis DSM 40738): 4159 proteins\n",
      "✅ UP000005018 (Candida orthopsilosis Co 90-125): 5676 proteins\n",
      "✅ UP000027073 (Pleurotus ostreatus PC15): 12186 proteins\n",
      "✅ UP000184063 (Aspergillus luchuensis CBS 106.47): 13491 proteins\n",
      "✅ UP000011086 (Pyricularia oryzae Y34): 12860 proteins\n",
      "✅ UP000007587 (Corallococcus coralloides DSM 2259): 8019 proteins\n",
      "✅ UP000007517 (Blastococcus saxobsidens DD2): 4791 proteins\n",
      "✅ UP000026913 (Pseudomonas mandelii JR-1): 6626 proteins\n",
      "✅ UP000235786 (Hyaloscypha variabilis F): 20347 proteins\n",
      "✅ UP000033220 (Pararhodospirillum photometricum DSM 122): 3275 proteins\n",
      "✅ UP000004169 (Magnetospirillum molischianum DSM 120): 3771 proteins\n",
      "✅ UP000800082 (Didymella exigua CBS 183.55): 12355 proteins\n",
      "✅ UP000003448 (Micromonospora lupini str. Lupac 08): 6991 proteins\n",
      "✅ UP000011976 (Moesziomyces antarcticus T-34): 6640 proteins\n",
      "✅ UP000030762 (Saprolegnia diclina VS20): 18047 proteins\n",
      "✅ UP000007123 (Agrobacterium albertimagni AOL15): 4812 proteins\n",
      "✅ UP000194280 (Hortaea werneckii EXF-2000): 15464 proteins\n",
      "✅ UP000013782 (Enterococcus pallens ATCC BAA-351): 5181 proteins\n",
      "✅ UP000184300 (Aspergillus glaucus CBS 516.65): 11245 proteins\n",
      "✅ UP000002812 (Aspergillus oryzae 3.042): 11396 proteins\n",
      "✅ UP000275078 (Ascobolus immersus RN42): 17778 proteins\n",
      "✅ UP000011205 (Streptomyces viridochromogenes Tue57): 8832 proteins\n",
      "✅ UP000009036 (Streptomyces auratus AGR0001): 6513 proteins\n",
      "✅ UP000036947 (Tolypocladium ophioglossoides CBS 100239): 9303 proteins\n",
      "✅ UP000003226 (Rhodanobacter spathiphylli B39): 3438 proteins\n",
      "✅ UP000004210 (Rhodanobacter fulvus Jip2): 3400 proteins\n",
      "✅ UP000015559 (Sulfuricella denitrificans skB26): 3071 proteins\n",
      "✅ UP000054564 (Puccinia striiformis f. sp. tritici PST-78): 19932 proteins\n",
      "✅ UP000006447 (Rhodococcus opacus RKJ300 = JCM 13270): 7673 proteins\n",
      "✅ UP000011058 (Fibrella aestuarina BUZ 2): 5628 proteins\n",
      "✅ UP000036890 (Stenotrophomonas geniculata N1): 4155 proteins\n",
      "✅ UP000016924 (Coniosporium apollinis CBS 100218): 9306 proteins\n",
      "✅ UP000800039 (Cucurbitaria berberidis CBS 394.84): 12428 proteins\n",
      "✅ UP000799291 (Lentithecium fluviatile CBS 122367): 16710 proteins\n",
      "✅ UP000799439 (Myriangium duriaei CBS 260.36): 10674 proteins\n",
      "✅ UP000041254 (Vitrella brassicaformis CCMP3155): 23030 proteins\n",
      "✅ UP000009882 (Penicillium digitatum PHI26): 9101 proteins\n",
      "✅ UP000009886 (Penicillium digitatum Pd1): 8961 proteins\n",
      "✅ UP000003704 (Hydrocarboniphaga effusa AP103): 4474 proteins\n",
      "✅ UP000064183 (Streptomyces globisporus C-1027): 6614 proteins\n",
      "✅ UP000010366 (Chamaesiphon minutus PCC 6605): 5815 proteins\n",
      "✅ UP000010471 (Allocoleopsis franciscana PCC 7113): 6398 proteins\n",
      "✅ UP000017304 (Salmonella enterica subsp. indica serovar 6,14,25:z10:1,(2),7 str. 1121): 4265 proteins\n",
      "✅ UP000799438 (Aplosporella prunicola CBS 121167): 12493 proteins\n",
      "✅ UP000800041 (Aulographum hederae CBS 113979): 12052 proteins\n",
      "❌ Failed to download UP000007365 (Thalassospira profundimaris WP0211)\n",
      "✅ UP000252419 (Thalassospira xianhensis MCCC 1A02616): 4474 proteins\n",
      "✅ UP000006281 (Saccharothrix espanaensis DSM 44229): 8423 proteins\n",
      "✅ UP000014179 (Escherichia coli KTE182): 5242 proteins\n",
      "✅ UP000019484 (Capronia coronata CBS 617.96): 9230 proteins\n",
      "✅ UP000019478 (Capronia epimyces CBS 606.96): 10469 proteins\n",
      "✅ UP000019471 (Cladophialophora psammophila CBS 110553): 13417 proteins\n",
      "✅ UP000019473 (Cladophialophora yegresii CBS 114405): 10118 proteins\n",
      "✅ UP000027920 (Exophiala aquamarina CBS 119918): 13118 proteins\n",
      "❌ Failed to download UP000032422 (Ectopseudomonas oleovorans CECT 5344)\n",
      "✅ UP000192074 (Agrobacterium tumefaciens str. B6): 5844 proteins\n",
      "✅ UP000191897 (Agrobacterium tumefaciens str. Kerr 14): 5818 proteins\n",
      "✅ UP000192140 (Agrobacterium deltaense NCPPB 1641): 6051 proteins\n",
      "✅ UP000191987 (Agrobacterium deltaense Zutra 3/1): 5687 proteins\n",
      "✅ UP000191988 (Agrobacterium tomkonis CFBP 6623): 5410 proteins\n",
      "✅ UP000191933 (Agrobacterium genomosp. 2 str. CFBP 5494): 6020 proteins\n",
      "✅ UP000017396 (Gloeobacter kilaueensis JS1): 4462 proteins\n",
      "❌ Failed to download UP000028167 (Xanthomonas vasicola pv. vasculorum NCPPB 890)\n",
      "✅ UP000008366 (Kineosphaera limosa NBRC 100340): 4422 proteins\n",
      "✅ UP000095039 (Enterovibrio norvegicus FF-454): 4282 proteins\n",
      "✅ UP000006180 (Sinorhizobium fredii USDA 257): 6698 proteins\n",
      "✅ UP000009309 (Fibrisoma limi BUZ 3): 6343 proteins\n",
      "✅ UP000002748 (Trichosporon asahii var. asahii CBS 2479): 8310 proteins\n",
      "✅ UP000094741 (Vibrio genomosp. F10 str. ZF-129): 3907 proteins\n",
      "✅ UP000241010 (Cereibacter changlensis JA139): 4709 proteins\n",
      "✅ UP000241362 (Fuscovulum blasticum DSM 2131): 3451 proteins\n",
      "✅ UP000217343 (Corallococcus macrosporus DSM 14697): 7112 proteins\n",
      "✅ UP000004622 (Nitratireductor aquibiodomus RA22): 4240 proteins\n",
      "✅ UP000006073 (Indibacter alkaliphilus LW1): 4650 proteins\n",
      "✅ UP000019678 (Chondromyces apiculatus DSM 436): 9037 proteins\n",
      "✅ UP000018534 (Salmonella enterica subsp. enterica serovar Cubana str. 76814): 5217 proteins\n",
      "✅ UP000014535 (Salmonella enterica subsp. enterica serovar Enteritidis str. 2009K0958): 5011 proteins\n",
      "✅ UP000013259 (Salmonella enterica subsp. enterica serovar Dublin str. UC16): 5196 proteins\n",
      "✅ UP000250079 (Granulosicoccus antarcticus IMCC3135): 6681 proteins\n",
      "✅ UP000035763 (Nostocoides australiense Ben110): 4162 proteins\n",
      "✅ UP000035721 (Nostocoides japonicum T1-X7): 4595 proteins\n",
      "❌ Failed to download UP000748844 (Pseudomonas syringae pv. actinidifoliorum ICMP 18803)\n",
      "✅ UP000015729 (Pseudomonas syringae pv. actinidiae ICMP 18807): 7256 proteins\n",
      "✅ UP000018849 (Pseudomonas syringae pv. actinidiae ICMP 19096): 7967 proteins\n",
      "✅ UP000006072 (Mycolicibacterium vaccae ATCC 25954): 5950 proteins\n",
      "✅ UP000014155 (Ruminiclostridium cellobioparum subsp. termitidis CT1112): 5302 proteins\n",
      "✅ UP000046187 (Xanthomonas graminis pv. arrhenatheri LMG 727): 3849 proteins\n",
      "✅ UP000077856 (Cytobacillus oceanisediminis 2691): 5563 proteins\n",
      "✅ UP000006503 (Pseudomonas putida DOT-T1E): 5841 proteins\n",
      "✅ UP000006063 (Stutzerimonas stutzeri CCUG 29243): 4290 proteins\n",
      "✅ UP000015042 (Salmonella bongori N268-08): 4751 proteins\n",
      "✅ UP000186594 (Neolecta irregularis DAH-3): 5551 proteins\n",
      "✅ UP000000343 (Granulicella tundricola MP5ACTX9): 4514 proteins\n",
      "✅ UP000053048 (Pseudomonas viridiflava ICMP 13104): 4389 proteins\n",
      "✅ UP000054197 (Pseudomonas fluorescens ICMP 11288): 5724 proteins\n",
      "✅ UP000244898 (Falsiruegeria mediterranea M17): 5006 proteins\n",
      "✅ UP000014062 (Streptomyces lividans 1326): 8074 proteins\n",
      "✅ UP000327424 (Moritella marina ATCC 15381): 4032 proteins\n",
      "✅ UP000033035 (Parabacteroides gordonii MS-1 = DSM 23371): 5317 proteins\n",
      "✅ UP000003779 (Nocardiopsis alba ATCC BAA-2165): 5500 proteins\n",
      "✅ UP000009328 (Wickerhamomyces ciferrii NRRL Y-1031): 6698 proteins\n",
      "✅ UP000006272 (Solidesulfovibrio magneticus str. Maddingley MBC34): 3939 proteins\n",
      "✅ UP000006746 (Oceanibaculum indicum P24): 3754 proteins\n",
      "✅ UP000035058 (Gordonia namibiensis NBRC 108229): 4446 proteins\n",
      "✅ UP000311469 (Sphingobium fuliginis ATCC 27551): 4583 proteins\n",
      "✅ UP000008035 (Bordetella parapertussis Bpp5): 4151 proteins\n",
      "✅ UP000321424 (Nocardia ninae NBRC 108245): 8888 proteins\n",
      "✅ UP000009319 (Rhizobium mesoamericanum STM3625): 6357 proteins\n",
      "✅ UP000011700 (Stutzerimonas stutzeri NF13): 4321 proteins\n",
      "✅ UP000014480 (Colletotrichum orbiculare MAFF 240422): 13230 proteins\n",
      "✅ UP000011096 (Colletotrichum fructicola Nara gc5): 17187 proteins\n",
      "✅ UP000008043 (Streptomyces davaonensis JCM 4913): 8553 proteins\n",
      "✅ UP000006043 (Mycolicibacterium fortuitum subsp. fortuitum DSM 46621 = ATCC 6841 = JCM 6387): 6244 proteins\n",
      "✅ UP000015423 (Streptomyces collinus Tu 365): 6682 proteins\n",
      "✅ UP000011200 (Mycolicibacterium smegmatis MKD8): 6734 proteins\n",
      "✅ UP000017753 (Pseudomonas putida S12): 5506 proteins\n",
      "✅ UP000016560 (Aquipseudomonas alcaligenes NBRC 14159): 4528 proteins\n",
      "✅ UP000023758 (Trichophyton rubrum CBS 288.86): 10285 proteins\n",
      "✅ UP000023623 (Trichophyton soudanense CBS 452.61): 10303 proteins\n",
      "✅ UP000024533 (Trichophyton interdigitale MR816): 8217 proteins\n",
      "✅ UP000184608 (Vibrio aerogenes CECT 7868): 4565 proteins\n",
      "✅ UP000013270 (Acinetobacter bereziniae NIPH 3): 4543 proteins\n",
      "✅ UP000013148 (Acinetobacter guillouiae NIPH 991): 4506 proteins\n",
      "❌ Failed to download UP000014546 (Acinetobacter gyllenbergii CIP 110306 = MTCC 11365)\n",
      "✅ UP000027987 (Dyella japonica A8): 3810 proteins\n",
      "✅ UP000005257 (Bacillus thuringiensis HD-789): 6438 proteins\n",
      "✅ UP000013028 (Acinetobacter nosocomialis NIPH 386): 3792 proteins\n",
      "✅ UP000005259 (Bacillus thuringiensis HD-771): 6477 proteins\n",
      "✅ UP000026923 (Stutzerimonas stutzeri KOS6): 4464 proteins\n",
      "✅ UP000019491 (Rhodococcus wratislaviensis NBRC 100605): 9470 proteins\n",
      "✅ UP000016568 (Caenibius tardaugens NBRC 16725): 4005 proteins\n",
      "✅ UP000024284 (Sphingobium herbicidovorans NBRC 16415): 3918 proteins\n",
      "✅ UP000032305 (Sphingomonas parapaucimobilis NBRC 15100): 3699 proteins\n",
      "✅ UP000032025 (Sphingomonas paucimobilis NBRC 13935): 3996 proteins\n",
      "✅ UP000076234 (Sphingopyxis terrae subsp. terrae NBRC 15098): 3664 proteins\n",
      "✅ UP000321113 (Vibrio superstes NBRC 103154): 4076 proteins\n",
      "✅ UP000016570 (Vibrio proteolyticus NBRC 13287): 4347 proteins\n",
      "✅ UP000092741 (Vibrio natriegens NBRC 15636 = ATCC 14048 = DSM 759): 4467 proteins\n",
      "✅ UP000006757 (Trichosporon asahii var. asahii CBS 8904): 8515 proteins\n",
      "✅ UP000033121 (Flavihumibacter petaseus NBRC 106054): 4760 proteins\n",
      "✅ UP000026941 (Rhizobium rhizogenes NBRC 13257): 6618 proteins\n",
      "✅ UP000010988 (Gordonia aichiensis NBRC 108223): 4614 proteins\n",
      "✅ UP000030752 (Cyphellophora europaea CBS 101466): 11090 proteins\n",
      "✅ UP000014254 (Mucor circinelloides 1006PhL): 12143 proteins\n",
      "✅ UP000017175 (Pseudomonas fluorescens NCIMB 11764): 6131 proteins\n",
      "✅ UP000321685 (Pseudonocardia sulfidoxydans NBRC 16205): 6136 proteins\n",
      "✅ UP000321306 (Deinococcus cellulosilyticus NBRC 106333 = KACC 11606): 5844 proteins\n",
      "✅ UP000011740 (Streptomyces mobaraensis NBRC 13819 = DSM 40847): 6422 proteins\n",
      "✅ UP000035021 (Gordonia paraffinivorans NBRC 108238): 4193 proteins\n",
      "✅ UP000011666 (Gordonia soli NBRC 108243): 4909 proteins\n",
      "✅ UP000031637 (Sulfuritalea hydrogenivorans sk43H): 3578 proteins\n",
      "✅ UP000325690 (Mycolicibacterium phlei DSM 43239 = CCUG 21000): 5023 proteins\n",
      "✅ UP000309231 (Mycolicibacterium mucogenicum DSM 44124): 5776 proteins\n",
      "✅ UP000183971 (Fusarium proliferatum ET1): 16123 proteins\n",
      "✅ UP000019423 (Hymenobacter swuensis DY53): 4612 proteins\n",
      "✅ UP000013237 (Pseudomonas putida TRO1): 5839 proteins\n",
      "✅ UP000010105 (Paraburkholderia phenoliruptrix BR3459a): 6489 proteins\n",
      "✅ UP000031586 (Vibrio owensii CAIM 1854 = LMG 25443): 5606 proteins\n",
      "✅ UP000030651 (Pestalotiopsis fici W106-1): 15412 proteins\n",
      "✅ UP000016928 (Fusarium oxysporum f. sp. cubense race 1): 15355 proteins\n",
      "✅ UP000199727 (Cryptococcus neoformans var. grubii Tu259-1): 6937 proteins\n",
      "✅ UP000186303 (Malassezia sympodialis ATCC 42132): 4502 proteins\n",
      "✅ UP000007374 (Nitratireductor indicus C115): 4821 proteins\n",
      "✅ UP000017142 (Dickeya solani D s0432-1): 4146 proteins\n",
      "✅ UP000007329 (Mycobacterium intracellulare subsp. intracellulare MTCC 9506): 5232 proteins\n",
      "✅ UP000013042 (Thauera aminoaromatica S2): 3940 proteins\n",
      "✅ UP000013047 (Thauera phenylacetica B4P): 4836 proteins\n",
      "✅ UP000011971 (Brucella intermedia M86): 5043 proteins\n",
      "✅ UP000215005 (Nocardiopsis gilva YIM 90087): 5074 proteins\n",
      "✅ UP000014207 (Bacteroides thetaiotaomicron dnLKV9): 4785 proteins\n",
      "✅ UP000014151 (Phocaeicola vulgatus dnLKV7): 4186 proteins\n",
      "✅ UP000014140 (Parabacteroides goldsteinii dnLKV18): 5574 proteins\n",
      "✅ UP000019598 (Paenibacillus barengoltzii G22): 4256 proteins\n",
      "✅ UP000012589 (Eubacterium plexicaudatum ASF492): 6154 proteins\n",
      "✅ UP000032407 (Bacillus thuringiensis Sbt003): 6308 proteins\n",
      "✅ UP000501648 (Herbaspirillum rubrisubalbicans Os34): 5282 proteins\n",
      "✅ UP000193990 (Mycobacterium bohemicum DSM 44277): 4680 proteins\n",
      "✅ UP000032900 (Geofilum rubicundum JCM 15548): 4412 proteins\n",
      "✅ UP000011135 (Fulvivirga imtechensis AK7): 5952 proteins\n",
      "✅ UP000030640 (Plasmodium inui San Antonio 1): 5828 proteins\n",
      "✅ UP000030697 (Plasmodium falciparum UGT5.1): 5904 proteins\n",
      "✅ UP000015530 (Colletotrichum gloeosporioides Cg-14): 16388 proteins\n",
      "✅ UP000014137 (Amycolatopsis azurea DSM 43854): 8603 proteins\n",
      "✅ UP000009881 (Caenispirillum salinarum AK4): 4574 proteins\n",
      "✅ UP000018211 (Vibrio nigripulchritudo SOn1): 6269 proteins\n",
      "✅ UP000010953 (Mariniradius saccharolyticus AK6): 4634 proteins\n",
      "✅ UP000032458 (Streptomyces natalensis ATCC 27448): 6559 proteins\n",
      "✅ UP000197157 (Salmonella enterica subsp. enterica serovar Macclesfield str. S-1643): 4893 proteins\n",
      "✅ UP000011682 (Cystobacter fuscus DSM 2262): 10513 proteins\n",
      "✅ UP000198067 (Salmonella enterica subsp. salamae serovar 55:k:z39 str. 1315K): 4662 proteins\n",
      "✅ UP000197991 (Salmonella bongori serovar 66:z41:- str. SA19983605): 4060 proteins\n",
      "✅ UP000011841 (Bradyrhizobium oligotrophicum S58): 7223 proteins\n",
      "✅ UP000015503 (Metapseudomonas resinovorans NBRC 106553): 5795 proteins\n",
      "✅ UP000011777 (Candida maltosa Xu316): 5977 proteins\n",
      "✅ UP000030106 (Beauveria bassiana D1-5): 11860 proteins\n",
      "✅ UP000031532 (Scytonema millei VB511283): 5256 proteins\n",
      "✅ UP000016223 (Variovorax paradoxus B4): 6727 proteins\n",
      "✅ UP000017746 (Actinoplanes friuliensis DSM 7358): 8558 proteins\n",
      "✅ UP000019095 (Advenella mimigardefordensis DPN7): 4072 proteins\n",
      "✅ UP000034164 (Emmonsia crescens UAMH 3008): 9444 proteins\n",
      "✅ UP000014803 (Sorangium cellulosum So0157-2): 10372 proteins\n",
      "✅ UP000010809 (Thioalkalivibrio nitratireducens DSM 14787): 3764 proteins\n",
      "✅ UP000011083 (Acanthamoeba castellanii str. Neff): 14939 proteins\n",
      "✅ UP000034085 (Citrobacter amalonaticus Y19): 5283 proteins\n",
      "✅ UP000093071 (Xanthomonas translucens pv. translucens DSM 18974): 3897 proteins\n",
      "✅ UP000016923 (Ophiostoma piceae UAMH 11346): 8878 proteins\n",
      "✅ UP000018009 ([Clostridium] clostridioforme CAG:132): 4152 proteins\n",
      "✅ UP000027586 (Lichtheimia corymbifera JMRC:FSU:9682): 13257 proteins\n",
      "✅ UP000019373 (Endocarpon pusillum Z07020): 9228 proteins\n",
      "✅ UP000017822 (Stutzerimonas chloritidismutans AW-1): 4560 proteins\n",
      "✅ UP000011529 (Rhodopirellula europaea 6C): 6188 proteins\n",
      "✅ UP000011996 (Rhodopirellula europaea SH398): 6351 proteins\n",
      "✅ UP000011885 (Rhodopirellula sallentina SM41): 6872 proteins\n",
      "✅ UP000013280 (Ralstonia pickettii OR214): 5243 proteins\n",
      "✅ UP000013243 (Tritonibacter mobilis F1926): 4455 proteins\n",
      "✅ UP000192707 (Mycobacterium arosiense ATCC BAA-1401 = DSM 45069): 5556 proteins\n",
      "✅ UP000011991 (Rhodopirellula maiorica SM1): 7824 proteins\n",
      "✅ UP000011074 (Streptomyces rimosus subsp. rimosus ATCC 10970): 7990 proteins\n",
      "✅ UP000189911 (Lachancea nothofagi CBS 11611): 5149 proteins\n",
      "✅ UP000191144 (Lachancea meyersii CBS 8951): 4993 proteins\n",
      "✅ UP000019772 (Paenibacillus sabinae T27): 4776 proteins\n",
      "✅ UP000013526 (Aeromonas molluscorum 848): 3943 proteins\n",
      "✅ UP000023775 (Aeromonas diversa CDC 2478-85): 3707 proteins\n",
      "✅ UP000053110 (Blumeria graminis f. sp. tritici 96224): 4024 proteins\n",
      "✅ UP000013525 (Rhodococcus rhodnii LMG 5362): 4415 proteins\n",
      "✅ UP000031192 (Metarhizium guizhouense ARSEF 977): 11727 proteins\n",
      "✅ UP000215453 (Zymoseptoria tritici ST99CH_1A5): 12027 proteins\n",
      "✅ UP000245764 (Zymoseptoria tritici ST99CH_1E4): 11988 proteins\n",
      "✅ UP000215127 (Zymoseptoria tritici ST99CH_3D7): 11722 proteins\n",
      "✅ UP000012015 (Paeniglutamicibacter gangotriensis Lz1y): 4017 proteins\n",
      "✅ UP000053664 (Pseudozyma flocculosa PF-1): 4425 proteins\n",
      "✅ UP000011131 (Myxococcus stipitatus DSM 14675): 8043 proteins\n",
      "✅ UP000011731 (Rhodococcus ruber BKS 20-38): 5550 proteins\n",
      "✅ UP000011910 (Cesiribacter andamanensis AMV16): 4225 proteins\n",
      "✅ UP000030678 (Cladophialophora carrionii CBS 160.54): 10373 proteins\n",
      "✅ UP000016800 (Fusarium fujikuroi IMI 58289): 14793 proteins\n",
      "✅ UP000028045 (Stachybotrys chartarum IBT 7711): 11510 proteins\n",
      "✅ UP000024942 (Hyphomonas oceanitis SCH89): 4171 proteins\n",
      "✅ UP000027100 (Hyphomonas polymorpha PS728): 3851 proteins\n",
      "✅ UP000017766 (Escherichia coli HVH 36 (4-5675286)): 5080 proteins\n",
      "✅ UP000016035 (Escherichia coli UMEA 3162-1): 4948 proteins\n",
      "✅ UP001152876 (Hydrogenophaga taeniospiralis CCUG 15921): 4916 proteins\n",
      "✅ UP000015001 (Streptomyces afghaniensis 772): 9012 proteins\n",
      "✅ UP000012988 (Azotobacter vinelandii CA6): 4945 proteins\n",
      "✅ UP000028524 (Stachybotrys chlorohalonatus IBT 40285): 10676 proteins\n",
      "✅ UP000015100 (Dactylellina haptotyla CBS 200.50): 10959 proteins\n",
      "✅ UP000054226 (Amycolatopsis decaplanina DSM 44594): 7716 proteins\n",
      "✅ UP000702964 (Phytophthora kernoviae 00238/432): 11679 proteins\n",
      "✅ UP000011732 (Streptomyces gancidicus BKS 13-15): 6555 proteins\n",
      "✅ UP000014629 (Streptomyces aurantiacus JA 4570): 7752 proteins\n",
      "✅ UP000026714 (Sphaerotilus natans subsp. natans DSM 6575): 4177 proteins\n",
      "✅ UP000014216 (Desulfotignum phosphitoxidans DSM 13687): 4515 proteins\n",
      "✅ UP000014074 (Phaeoacremonium minimum UCRPA7): 8833 proteins\n",
      "✅ UP000013521 (Neofusicoccum parvum UCRNP2): 10365 proteins\n",
      "✅ UP000012174 (Eutypa lata UCREL1): 11684 proteins\n",
      "✅ UP000030021 (Roseovarius mucosus DSM 17069): 4182 proteins\n",
      "✅ UP000012045 (Botrytis cinerea BcDW1): 11022 proteins\n",
      "✅ UP000054544 (Metarhizium anisopliae BRIP 53293): 11404 proteins\n",
      "✅ UP000013063 (Caulobacter vibrioides OR37): 4074 proteins\n",
      "✅ UP000014139 (Amycolatopsis vancoresmycina DSM 44592): 8680 proteins\n",
      "✅ UP000037507 (Limnohabitans planktonicus II-D5): 4008 proteins\n",
      "✅ UP000250790 (Limnohabitans parvus II-B4): 2763 proteins\n",
      "✅ UP000217289 (Melittangium boletus DSM 14713): 7974 proteins\n",
      "✅ UP000245431 (Pseudomonas veronii 1YdBTEX2): 7333 proteins\n",
      "✅ UP000094819 (Cryptococcus wingfieldii CBS 7118): 8085 proteins\n",
      "✅ UP000094043 (Cryptococcus depauperatus CBS 7841): 6334 proteins\n",
      "✅ UP000094065 (Cryptococcus amylolentus CBS 6039): 9877 proteins\n",
      "✅ UP001355207 (Kwoniella dendrophila CBS 6074): 8022 proteins\n",
      "✅ UP000094020 (Kwoniella pini CBS 10737): 7807 proteins\n",
      "✅ UP000092730 (Kwoniella bestiolae CBS 10118): 9104 proteins\n",
      "✅ UP000053392 (Cryptococcus deuterogattii Ram5): 6462 proteins\n",
      "✅ UP000095149 (Cryptococcus amylolentus CBS 6273): 8168 proteins\n",
      "✅ UP000092666 (Kwoniella heveanensis BCC8398): 7924 proteins\n",
      "✅ UP000078595 (Kwoniella dejecticola CBS 10117): 8630 proteins\n",
      "✅ UP000012062 (Mesorhizobium metallidurans STM 2683): 6695 proteins\n",
      "✅ UP000839534 (Salmonella enterica subsp. enterica serovar Newport str. CFSAN000835): 5343 proteins\n",
      "❌ Failed to download UP000711464 (Salmonella enterica subsp. enterica serovar Choleraesuis str. CFSAN000515)\n",
      "✅ UP000427205 (Salmonella enterica subsp. enterica serovar Infantis str. CFSAN000522): 4523 proteins\n",
      "✅ UP000014064 (Wallemia ichthyophaga EXF-994): 4836 proteins\n",
      "✅ UP000023351 (Mycobacteroides abscessus subsp. bolletii 1513): 5987 proteins\n",
      "✅ UP000021210 (Mycobacteroides abscessus 1948): 5498 proteins\n",
      "❌ Failed to download UP000185094 (Mycobacteroides abscessus 21)\n",
      "✅ UP000020561 (Mycobacterium kansasii 662): 6917 proteins\n",
      "✅ UP000020825 (Mycobacterium intracellulare 1956): 5979 proteins\n",
      "✅ UP000187148 (Kosakonia cowanii JCM 10956 = DSM 18146): 4336 proteins\n",
      "✅ UP000012081 (Brevibacillus borstelensis AK1): 4951 proteins\n",
      "✅ UP000076830 (Dokdonella koreensis DS-123): 3775 proteins\n",
      "✅ UP000030518 (Lysobacter dokdonensis DS-58): 3154 proteins\n",
      "✅ UP000013201 (Sphingobium indicum BiD32): 4671 proteins\n",
      "✅ UP000025241 (Pseudomonas knackmussii B13): 5616 proteins\n",
      "✅ UP000265663 (Pyrenophora seminiperda CCB06): 8702 proteins\n",
      "✅ UP000013961 (Mycobacteroides abscessus subsp. bolletii 50594): 5135 proteins\n",
      "✅ UP000831484 (Rhodococcus qingshengii JCM 15477): 6682 proteins\n",
      "✅ UP000013304 (Streptomyces microflavus DSM 40593): 6916 proteins\n",
      "✅ UP000028302 (Salinisphaera hydrothermalis C41B8): 3807 proteins\n",
      "✅ UP000031549 (Hassallia byssoidea VB512170): 6508 proteins\n",
      "❌ Failed to download UP000011979 (Xanthomonas axonopodis Xac29-1)\n",
      "✅ UP000014071 (Pseudozyma hubeiensis SY62): 7472 proteins\n",
      "✅ UP000620224 (Streptomyces lucensis JCM 4490): 6984 proteins\n",
      "✅ UP000608955 (Streptomyces naganishii JCM 4654): 6962 proteins\n",
      "✅ UP000287830 (Streptomyces chrestomyceticus JCM 4735): 8054 proteins\n",
      "✅ UP000014969 (Mycobacteroides abscessus subsp. bolletii CRM-0020): 4749 proteins\n",
      "✅ UP000095329 (Streptomyces thermolilacinus SPC6): 5322 proteins\n",
      "✅ UP000070282 (Marinobacter excellens LAMA 842): 3676 proteins\n",
      "✅ UP000019270 (Cytobacillus firmus DS1): 4921 proteins\n",
      "✅ UP000021108 (Acinetobacter baumannii 625974): 3916 proteins\n",
      "✅ UP000027056 (Acinetobacter baumannii 1284800): 4298 proteins\n",
      "✅ UP000192940 (Paenibacillus uliginis N3/975): 5718 proteins\n",
      "✅ UP000799441 (Polychaeton citri CBS 116435): 10579 proteins\n",
      "✅ UP000250266 (Lepidopterella palustris CBS 459.81): 13861 proteins\n",
      "✅ UP000054007 (Cylindrobasidium torrendii FP15055 ss-10): 13901 proteins\n",
      "✅ UP001206595 (Umbelopsis ramanniana AG): 9906 proteins\n",
      "✅ UP000078512 (Linnemannia elongata AG-77): 14849 proteins\n",
      "✅ UP000272025 (Sodiomyces alkalinus F11): 9397 proteins\n",
      "✅ UP000076798 (Sistotremastrum suecicum HHB10207 ss-3): 13633 proteins\n",
      "✅ UP000076722 (Sistotremastrum niveocremeum HHB9708): 13037 proteins\n",
      "✅ UP000308197 (Polyporus arcularius HHB13444): 17473 proteins\n",
      "✅ UP000800200 (Zopfia rhizophila CBS 207.26): 21463 proteins\n",
      "✅ UP000799421 (Piedraia hortae CBS 480.64): 7550 proteins\n",
      "✅ UP000077266 (Exidia glandulosa HHB12029): 26313 proteins\n",
      "✅ UP000076761 (Neolentinus lepideus HHB14362 ss-1): 13108 proteins\n",
      "✅ UP000076727 (Daedalea quercina L-15889): 12170 proteins\n",
      "✅ UP000076871 (Laetiporus sulphureus 93-53): 13712 proteins\n",
      "✅ UP000504637 (Dissoconium aciculare CBS 342.82): 10290 proteins\n",
      "✅ UP000799776 (Saccharata proteae CBS 121410): 9222 proteins\n",
      "✅ UP000799324 (Lophiostoma macrostomum CBS 122681): 16140 proteins\n",
      "✅ UP000193498 (Basidiobolus meristosporus CBS 931.73): 15513 proteins\n",
      "✅ UP000092154 (Rhizopogon vinicolor AM-OR11-026): 14447 proteins\n",
      "✅ UP000799428 (Pleomassaria siparia CBS 279.74): 13452 proteins\n",
      "✅ UP000799757 (Melanomma pulvis-pyrius CBS 109.77): 15833 proteins\n",
      "✅ UP000297245 (Dendrothele bispora CBS 962.96): 33018 proteins\n",
      "✅ UP000660708 (Pseudoalteromonas peptidolytica F12-50-A1): 4663 proteins\n",
      "✅ UP000013569 (Gordonia terrae C-6): 4647 proteins\n",
      "✅ UP000015350 (Magnetospirillum fulvum MGU-K5): 3459 proteins\n",
      "✅ UP000018958 (Phytophthora nicotianae CJ01A1): 26489 proteins\n",
      "✅ UP000018948 (Phytophthora nicotianae P10297): 26452 proteins\n",
      "✅ UP000018721 (Phytophthora nicotianae P1569): 26477 proteins\n",
      "✅ UP000028582 (Phytophthora nicotianae P1976): 26517 proteins\n",
      "✅ UP000194318 (Streptomyces fradiae ATCC 10745 = DSM 40063): 5721 proteins\n",
      "✅ UP000016490 (Clostridiales bacterium oral taxon 876 str. F0540): 4702 proteins\n",
      "✅ UP000018538 (Plasmodium yoelii 17X): 6833 proteins\n",
      "✅ UP000019146 (Paraburkholderia caribensis MBA4): 9021 proteins\n",
      "✅ UP000025947 (Mycobacterium [tuberculosis] TKK-01-0051): 5610 proteins\n",
      "✅ UP000030060 (Pseudomonas fluorescens LMG 5329): 6125 proteins\n",
      "✅ UP000222916 (Aeromonas salmonicida subsp. pectinolytica 34mel): 4256 proteins\n",
      "✅ UP000013487 (Bacillus thuringiensis T01-328): 7399 proteins\n",
      "✅ UP000019276 (Catenovulum agarivorans DS-2): 3835 proteins\n",
      "✅ UP000068210 (Azotobacter chroococcum NCIMB 8003): 4353 proteins\n",
      "✅ UP001194468 (Boletus edulis BED1): 18020 proteins\n",
      "✅ UP000313359 (Lentinus tigrinus ALCF2SS1-6): 15512 proteins\n",
      "✅ UP000076632 (Xylona heveae TC161): 8201 proteins\n",
      "✅ UP000015525 (Sphingobium quisquiliarum P25): 3949 proteins\n",
      "✅ UP000076738 (Calocera viscosa TUFC12733): 12323 proteins\n",
      "✅ UP000253664 (Ophiocordyceps polyrhachis-furcata BCC 54312): 10104 proteins\n",
      "✅ UP000031778 (Bacillus bombysepticus str. Wang): 5482 proteins\n",
      "✅ UP000014461 (Agarivorans albus MKT 106): 4397 proteins\n",
      "✅ UP000015531 (Sphingobium lactosutens DS20): 5091 proteins\n",
      "✅ UP000092583 (Kwoniella mangroviensis CBS 10435): 8428 proteins\n",
      "✅ UP000026682 (Bordetella holmesii CDC-H585-BH): 3556 proteins\n",
      "✅ UP000018679 (Bordetella pertussis CHLA-26): 3794 proteins\n",
      "✅ UP000186168 (Streptomyces sparsogenes DSM 40356): 8678 proteins\n",
      "✅ UP000034189 (Paenibacillus durus ATCC 35681): 4773 proteins\n",
      "✅ UP000019375 (Zygosaccharomyces bailii CLIB 213): 4722 proteins\n",
      "✅ UP000027611 (Enterobacter cloacae ECNIH2): 4968 proteins\n",
      "❌ Failed to download UP000031665 (Serratia marcescens SM39)\n",
      "✅ UP000019854 (Mycobacteroides abscessus MAB_030201_1075): 4911 proteins\n",
      "✅ UP000018502 (Mycobacteroides abscessus MAB_091912_2446): 5015 proteins\n",
      "✅ UP000287177 (Mycolicibacterium elephantis DSM 44368): 5205 proteins\n",
      "✅ UP000254764 (Ciceribacter selenitireducens ATCC BAA-1503): 4524 proteins\n",
      "✅ UP000276215 (Choiromyces venosus 120613-1): 17720 proteins\n",
      "✅ UP000014854 (Vibrio fluvialis PG41): 4856 proteins\n",
      "✅ UP000016842 (Brucella intermedia 229E): 4249 proteins\n",
      "❌ Failed to download UP000022032 (Bacteroides fragilis str. I1345)\n",
      "✅ UP000022272 (Bacteroides fragilis str. 2-F-2 #4): 5071 proteins\n",
      "✅ UP000022433 (Bacteroides fragilis str. 1007-1-F #10): 5011 proteins\n",
      "❌ Failed to download UP000020682 (Bacteroides fragilis str. 3783N1-8)\n",
      "✅ UP000020938 (Bacteroides fragilis str. 3976T8): 4784 proteins\n",
      "✅ UP000020529 (Bacteroides fragilis str. 3988T(B)14): 4725 proteins\n",
      "✅ UP000020773 (Bacteroides fragilis str. 3998T(B)3): 5164 proteins\n",
      "✅ UP000022082 (Bacteroides fragilis str. S36L11): 5287 proteins\n",
      "✅ UP000027850 (Parabacteroides distasonis str. 3776 D15 i): 4588 proteins\n",
      "✅ UP000028134 (Phocaeicola vulgatus str. 3775 SL(B) 10 (iv)): 4859 proteins\n",
      "✅ UP000027661 (Phocaeicola vulgatus str. 3975 RP4): 4419 proteins\n",
      "✅ UP000799440 (Sporormia fimetaria CBS 119925): 10772 proteins\n",
      "✅ UP000242254 (Rhizopus microsporus ATCC 52813): 10804 proteins\n",
      "✅ UP000518188 (Mycolicibacterium septicum DSM 44393): 6450 proteins\n",
      "✅ UP000281594 (Streptomyces rapamycinicus NRRL 5491): 10187 proteins\n",
      "✅ UP000024376 (Trichoderma reesei RUT C-30): 9849 proteins\n",
      "✅ UP000070544 (Gonapodya prolifera JEL478): 13801 proteins\n",
      "✅ UP000095038 (Ascoidea rubescens DSM 1968): 6735 proteins\n",
      "✅ UP000799429 (Patellaria atrata CBS 101060): 9745 proteins\n",
      "✅ UP000016584 (Sphingobacterium paucimobilis HER1398): 4220 proteins\n",
      "✅ UP000015523 (Sphingobium ummariense RL-3): 4462 proteins\n",
      "✅ UP000017127 (Lyngbya aestuarii BL J): 6344 proteins\n",
      "❌ Failed to download UP000469503 (Priestia megaterium NBRC 15308 = ATCC 14581)\n",
      "✅ UP000015455 (Thauera terpenica 58Eu): 3813 proteins\n",
      "✅ UP000027178 (Kitasatospora cheerisanensis KCTC 2395): 7804 proteins\n",
      "✅ UP000027604 (Janthinobacterium agaricidamnosum NBRC 102515 = DSM 9628): 5488 proteins\n",
      "✅ UP000017984 (Streptomyces roseochromogenus subsp. oscitans DS 12.976): 8885 proteins\n",
      "✅ UP000254937 (Aspergillus phoenicis ATCC 13157): 11665 proteins\n",
      "✅ UP000253845 (Aspergillus niger ATCC 13496): 11942 proteins\n",
      "✅ UP000193067 (Trametes coccinea BRFM310): 12648 proteins\n",
      "✅ UP000017820 (Pseudoalteromonas luteoviolacea 2ta16): 5358 proteins\n",
      "✅ UP000076842 (Calocera cornea HHB12733): 13078 proteins\n",
      "✅ UP000078410 (Buttiauxella brennerae ATCC 51605): 4311 proteins\n",
      "✅ UP000078504 (Buttiauxella gaviniae ATCC 51604): 4673 proteins\n",
      "✅ UP000078286 (Buttiauxella noackiae ATCC 51607): 4363 proteins\n",
      "✅ UP000078386 (Kluyvera georgiana ATCC 51603): 4680 proteins\n",
      "✅ UP000078431 (Obesumbacterium proteus ATCC 12841): 4785 proteins\n",
      "✅ UP000018001 (Paecilomyces variotii No. 5): 8877 proteins\n",
      "✅ UP000252085 (Nostoc punctiforme NIES-2108): 7369 proteins\n",
      "✅ UP000019089 (Pseudomonas syringae CC1557): 5031 proteins\n",
      "✅ UP000464688 (Pseudomonas syringae UB303): 5217 proteins\n",
      "❌ Failed to download UP000277590 (Pseudomonas syringae pv. pisi str. PP1)\n",
      "✅ UP000683511 (Richelia sinica FACHB-800): 5197 proteins\n",
      "✅ UP000076486 (Pseudoalteromonas luteoviolacea CPMOR-1): 5222 proteins\n",
      "✅ UP000076643 (Pseudoalteromonas luteoviolacea DSM 6061): 5008 proteins\n",
      "✅ UP000076503 (Pseudoalteromonas luteoviolacea H33): 5146 proteins\n",
      "✅ UP000076587 (Pseudoalteromonas luteoviolacea NCIMB 1942): 4857 proteins\n",
      "✅ UP000076661 (Pseudoalteromonas luteoviolacea S4060-1): 5117 proteins\n",
      "✅ UP000030686 (Penicillium roqueforti FM164): 12315 proteins\n",
      "✅ UP000019377 (Kalmanozyma brasiliensis GHG001): 5650 proteins\n",
      "✅ UP000017805 (Bacillus infantis NRRL B-14911): 5066 proteins\n",
      "✅ UP000015480 (Paracoccus aminophilus JCM 7686): 4462 proteins\n",
      "✅ UP000028701 (Agrobacterium rubi TR3 = NBRC 13261): 4948 proteins\n",
      "✅ UP000078397 (Pochonia chlamydosporia 170): 14143 proteins\n",
      "✅ UP000017559 (Moniliophthora roreri MCA 2997): 17976 proteins\n",
      "✅ UP000019384 (Kuraishia capsulata CBS 1993): 6027 proteins\n",
      "✅ UP000033260 (Pseudomonas putida S13.1.2): 5642 proteins\n",
      "✅ UP000019486 (Skermanella stibiiresistens SB22): 7269 proteins\n",
      "✅ UP000019489 (Intrasporangium oryzae NRRL B-24470): 4086 proteins\n",
      "✅ UP000018511 (Pseudomonas taiwanensis SJ9): 5513 proteins\n",
      "✅ UP000019804 (Aspergillus ruber CBS 135680): 10054 proteins\n",
      "✅ UP000765509 (Austropuccinia psidii MF-1): 133953 proteins\n",
      "✅ UP000017133 (Photorhabdus temperata J3): 5113 proteins\n",
      "✅ UP000018087 (Sporothrix schenckii ATCC 58251): 8673 proteins\n",
      "✅ UP000028782 (Comamonas testosteroni TK102): 5539 proteins\n",
      "❌ Failed to download UP000032444 (Aspergillus flavus AF70)\n",
      "✅ UP000504638 (Eremomyces bilateralis CBS 781.70): 9854 proteins\n",
      "✅ UP000799771 (Dothidotthia symphoricarpi CBS 119687): 11786 proteins\n",
      "✅ UP000799779 (Amniculicola lignicola CBS 123094): 15571 proteins\n",
      "✅ UP000277580 (Morchella conica CCBAS932): 11578 proteins\n",
      "✅ UP000234254 (Aspergillus campestris IBT 28561): 9702 proteins\n",
      "✅ UP000234275 (Aspergillus steynii IBT 23096): 12965 proteins\n",
      "✅ UP000799764 (Karstenula rhodostoma CBS 690.94): 15037 proteins\n",
      "✅ UP000234474 (Aspergillus novofumigatus IBT 16806): 11480 proteins\n",
      "✅ UP000244073 (Aspergillus ochraceoroseus IBT 24754): 8866 proteins\n",
      "✅ UP000028002 (Photorhabdus temperata subsp. temperata Meg1): 4329 proteins\n",
      "✅ UP000868500 (Salmonella enterica subsp. arizonae serovar 18:z4,z23:- str. CVM N26626): 4295 proteins\n",
      "✅ UP000799753 (Massarina eburnea CBS 473.64): 12931 proteins\n",
      "✅ UP000024771 (Pseudomonas moraviensis R28-S): 5622 proteins\n",
      "✅ UP000030063 (Pseudomonas taeanensis MS-3): 4573 proteins\n",
      "✅ UP000033710 (Sporothrix schenckii 1099-18): 10292 proteins\n",
      "✅ UP000029995 (Inquilinus limosus MP06): 6228 proteins\n",
      "✅ UP000031575 (Sporothrix brasiliensis 5110): 9091 proteins\n",
      "✅ UP000807342 (Macrolepiota fuliginosa MF-IS2): 15707 proteins\n",
      "✅ UP000019184 (Candidatus Contendobacter odensis Run_B_J11): 4763 proteins\n",
      "✅ UP000035760 (Candidatus Competibacter denitrificans Run_A_D11): 4014 proteins\n",
      "✅ UP000033540 (Aspergillus parasiticus SU-1): 8651 proteins\n",
      "✅ UP000184000 (Stutzerimonas xanthomarina DSM 18231): 3931 proteins\n",
      "✅ UP000018853 (Escherichia coli DORA_A_5_14_21): 7295 proteins\n",
      "✅ UP000028547 (Archangium violaceum Cb vi76): 8199 proteins\n",
      "✅ UP000182658 (Coniochaeta ligniaria NRRL 30616): 13658 proteins\n",
      "✅ UP000799423 (Plenodomus tracheiphilus IPT5): 13190 proteins\n",
      "✅ UP000053958 (Rasamsonia emersonii CBS 393.64): 9842 proteins\n",
      "✅ UP000017973 (Brevibacillus panacihumi W25): 5188 proteins\n",
      "✅ UP000036122 (Acinetobacter baumannii MRSN 3527): 4059 proteins\n",
      "✅ UP000019143 (Xanthomonas arboricola pv. pruni str. MAFF 311562): 4815 proteins\n",
      "✅ UP000019150 (Nocardia nova SH22a): 7579 proteins\n",
      "✅ UP000017861 (Trypanosoma cruzi Dm28c): 11346 proteins\n",
      "✅ UP000076852 (Paraburkholderia phytofirmans OLGA172): 7096 proteins\n",
      "✅ UP000019084 (Xanthomonas arboricola pv. pruni MAFF 301420): 4721 proteins\n",
      "✅ UP000026739 (Pseudomonas mandelii PD30): 6122 proteins\n",
      "✅ UP000019586 (Klebsiella pneumoniae 30684/NJST258_2): 5562 proteins\n",
      "✅ UP000052232 (Sphingobium cupriresistens LL01): 4506 proteins\n",
      "✅ UP000035035 (Gordonia alkanivorans CGMCC 6845): 4471 proteins\n",
      "✅ UP000192743 (Bacillus thuringiensis Bt18247): 5929 proteins\n",
      "✅ UP000027456 (Rhizoctonia solani 123E): 10990 proteins\n",
      "✅ UP001358614 (Kwoniella europaea PYCC6329): 8573 proteins\n",
      "✅ UP000018733 (Advenella kashmirensis W13003): 4504 proteins\n",
      "✅ UP000031516 (Kluyveromyces dobzhanskii CBS 2104): 4952 proteins\n",
      "✅ UP001328733 (Pannus brasiliensis CCIBt3594): 4951 proteins\n",
      "✅ UP000053732 (Penicillium camemberti FM 013): 14391 proteins\n",
      "❌ Failed to download UP000683536 (Salmonella enterica subsp. enterica serovar Bovismorbificans str. Sal610)\n",
      "✅ UP000030682 (Bacillus thuringiensis DB27): 6257 proteins\n",
      "✅ UP000027180 (Rhizobium etli bv. mimosae str. IE4771): 6739 proteins\n",
      "✅ UP000022910 (Rhizophagus irregularis DAOM 197198w): 28669 proteins\n",
      "✅ UP000019487 (Sclerotinia borealis F-4128): 10165 proteins\n",
      "✅ UP000019183 (Klebsiella pneumoniae IS43): 5959 proteins\n",
      "✅ UP000019199 (Escherichia coli ISC7): 6228 proteins\n",
      "✅ UP000194003 (Magnetofaba australis IT-1): 4001 proteins\n",
      "✅ UP000018660 (Pseudomonas monteilii SB3101): 5287 proteins\n",
      "✅ UP000018781 (Rhodococcus pyridinivorans SB3094): 4826 proteins\n",
      "✅ UP000019805 (Castellaniella defragrans 65Phen): 3575 proteins\n",
      "✅ UP000050343 (Xanthomonas phaseoli pv. syngonii LMG 9055): 3790 proteins\n",
      "✅ UP000245992 (Streptomyces scopuliridis RB72): 6830 proteins\n",
      "❌ Failed to download UP000035585 (Luteibacter rhizovicinus DSM 16549)\n",
      "✅ UP000022835 (Mycolicibacterium aromaticivorans JS19b1 = JCM 16368): 5771 proteins\n",
      "✅ UP000595332 (Neptunomonas japonica JAMM 1380): 3694 proteins\n",
      "✅ UP000197153 (Nitrospirillum viridazoti CBAmc): 6034 proteins\n",
      "✅ UP000053060 (Rhodococcus pyridinivorans KG-16): 4935 proteins\n",
      "✅ UP000037712 (Rhodococcus rhodochrous KG-21): 5222 proteins\n",
      "✅ UP000019030 (Chania multitudinisentens RB-25): 4521 proteins\n",
      "✅ UP000053029 (Fonsecaea pedrosoi CBS 271.37): 12525 proteins\n",
      "✅ UP000053617 (Rhinocladiella mackenziei CBS 650.93): 11378 proteins\n",
      "✅ UP000053789 (Cladophialophora bantiana CBS 173.52): 12756 proteins\n",
      "✅ UP000053411 (Fonsecaea multimorphosa CBS 102226): 12368 proteins\n",
      "✅ UP000028038 (Escherichia coli 2-460-02_S1_C1): 5525 proteins\n",
      "✅ UP000024043 (Escherichia coli 1-250-04_S3_C1): 5053 proteins\n",
      "✅ UP000023435 (Lysobacter capsici AZ78): 5276 proteins\n",
      "✅ UP000032266 (Gynuella sunshinyii YC6258): 5913 proteins\n",
      "✅ UP000020467 (Colletotrichum fioriniae PJ7): 13759 proteins\n",
      "✅ UP000019131 (Bacteroides reticulotermitis JCM 10512): 4842 proteins\n",
      "✅ UP000182235 (Emergomyces pasteurianus Ep9510): 8944 proteins\n",
      "✅ UP000223968 (Helicocarpus griseus UAMH5409): 10216 proteins\n",
      "✅ UP000224634 (Polytolypa hystricis UAMH7299): 9934 proteins\n",
      "✅ UP000800036 (Bimuria novae-zelandiae CBS 107.79): 16571 proteins\n",
      "✅ UP000799118 (Gymnopus androsaceus JB14): 29201 proteins\n",
      "✅ UP000240883 (Corynespora cassiicola Philippines): 17125 proteins\n",
      "✅ UP000886523 (Hydnum rufescens UP504): 18582 proteins\n",
      "✅ UP000247647 (Aspergillus neoniger CBS 115656): 11937 proteins\n",
      "✅ UP000248405 (Aspergillus vadensis CBS 113365): 12132 proteins\n",
      "✅ UP000249497 (Aspergillus japonicus CBS 114.51): 12019 proteins\n",
      "✅ UP000249526 (Aspergillus piperis CBS 112811): 12061 proteins\n",
      "✅ UP000246171 (Aspergillus eucalypticola CBS 122712): 11883 proteins\n",
      "✅ UP000248340 (Aspergillus uvarum CBS 121591): 12014 proteins\n",
      "✅ UP000249402 (Aspergillus ibericus CBS 121593): 11680 proteins\n",
      "✅ UP000248423 (Aspergillus sclerotiicarbonarius CBS 121057): 12562 proteins\n",
      "✅ UP000249789 (Aspergillus fijiensis CBS 313.89): 12018 proteins\n",
      "✅ UP000247810 (Aspergillus ellipticus CBS 707.79): 12861 proteins\n",
      "✅ UP000247233 (Aspergillus heteromorphus CBS 117.55): 10837 proteins\n",
      "✅ UP000023430 (Roseivivax isoporae LMG 25204): 4626 proteins\n",
      "✅ UP000019225 (Kutzneria albida DSM 43870): 8775 proteins\n",
      "✅ UP000799778 (Aaosphaeria arxii CBS 175.79): 14198 proteins\n",
      "✅ UP000028135 (Sphingobium indicum F2): 3766 proteins\n",
      "✅ UP000246702 (Aspergillus sclerotioniger CBS 115572): 12304 proteins\n",
      "✅ UP000812287 (Guyanagaster necrorhizus MCA 3950): 14190 proteins\n",
      "✅ UP000248961 (Aspergillus homomorphus CBS 101889): 11360 proteins\n",
      "✅ UP000249829 (Aspergillus violaceofuscus CBS 115571): 12074 proteins\n",
      "✅ UP000248349 (Aspergillus saccharolyticus JOP 1030-1): 10061 proteins\n",
      "✅ UP000248817 (Aspergillus indologenus CBS 114.80): 12161 proteins\n",
      "✅ UP000029986 (Hafnia alvei FB1): 4059 proteins\n",
      "✅ UP000176944 (Moorena producens JHB): 8263 proteins\n",
      "✅ UP000020766 (Comamonas aquatica DA1877): 3527 proteins\n",
      "✅ UP000023268 (Hylemonella gracilis str. Niagara R): 3385 proteins\n",
      "✅ UP000177870 (Moorena producens PAL-8-15-08-1): 6606 proteins\n",
      "✅ UP000256220 (Amycolatopsis lurida NRRL 2430): 8138 proteins\n",
      "✅ UP000070054 (Colletotrichum nymphaeae SA-01): 14402 proteins\n",
      "✅ UP000514713 (Nostoc edaphicum CCNP1411): 6431 proteins\n",
      "✅ UP000029738 (Tolypothrix bouteillei VB521301): 7632 proteins\n",
      "✅ UP000037505 (Aspergillus nomiae NRRL 13137): 11916 proteins\n",
      "✅ UP000799536 (Delitschia confertaspora ATCC 74209): 10166 proteins\n",
      "✅ UP000031512 (Theileria equi strain WA): 5313 proteins\n",
      "✅ UP001223520 (Halotia branconii CENA392): 5966 proteins\n",
      "✅ UP000222310 (Nostoc linckia z8): 7072 proteins\n",
      "✅ UP000191901 (Halomicronema hongdechloris C2206): 5212 proteins\n",
      "✅ UP000599391 (Atlanticothrix silvestris CENA357): 5595 proteins\n",
      "✅ UP000662314 (Dendronalium phyllosphericum CENA369): 7004 proteins\n",
      "✅ UP000248857 (Acaryochloris thomasi RCC1774): 5413 proteins\n",
      "✅ UP000095472 (Desertifilum tharense IPPAS B-1220): 4964 proteins\n",
      "✅ UP000615026 (Leptolyngbya cf. ectocarpi LEGE 11479): 5981 proteins\n",
      "✅ UP000622533 (Desmonostoc muscorum LEGE 12446): 7230 proteins\n",
      "✅ UP000252107 (Nostoc minutum NIES-26): 7588 proteins\n",
      "✅ UP000236527 (Nostoc cycadae WK-1): 5422 proteins\n",
      "✅ UP000238634 (Phormidesmis priestleyi ULC007): 5141 proteins\n",
      "✅ UP000186868 (Hydrococcus rivularis NIES-593): 4391 proteins\n",
      "✅ UP000189628 (blood disease bacterium A2-HR MARDI): 4142 proteins\n",
      "✅ UP000217507 (Trichormus variabilis NIES-23): 6271 proteins\n",
      "✅ UP000217895 (Leptolyngbya boryana NIES-2135): 6678 proteins\n",
      "✅ UP000218418 (Calothrix parasitica NIES-267): 7413 proteins\n",
      "✅ UP000245124 (Nostoc commune NIES-4072): 7335 proteins\n",
      "✅ UP001163152 (Thermocoleostomius sinensis A174): 4880 proteins\n",
      "✅ UP000235036 (Fischerella muscicola CCMEE 5323): 5422 proteins\n",
      "✅ UP000235025 (Fischerella thermalis CCMEE 5268): 4626 proteins\n",
      "✅ UP000235081 (Fischerella thermalis CCMEE 5318): 5040 proteins\n",
      "✅ UP000234966 (Fischerella thermalis CCMEE 5330): 4646 proteins\n",
      "✅ UP000232003 (Nostoc flagelliforme CCNUN1): 10244 proteins\n",
      "✅ UP000239576 (Stenomitos frigidus ULC18): 5916 proteins\n",
      "✅ UP000481033 (Adonisia turfae CCMR0081): 7034 proteins\n",
      "✅ UP000473574 (Adonisia turfae CCMR0082): 7216 proteins\n",
      "✅ UP001050975 (Microseira wollei NIES-4236): 9431 proteins\n",
      "✅ UP001165986 (Komarekiella delphini-convector SJRDD-AB1): 7019 proteins\n",
      "✅ UP000326678 (Nostoc sphaeroides CCNUC1): 10233 proteins\n",
      "✅ UP000662185 (Anabaena sphaerica FACHB-251): 5110 proteins\n",
      "✅ UP001204953 (Limnofasciculus baicalensis BBK-W-15): 5852 proteins\n",
      "✅ UP000667802 (Aetokthonos hydrillicola Thurmond2011): 8000 proteins\n",
      "✅ UP000505210 (Thermoleptolyngbya sichuanensis A183): 4271 proteins\n",
      "✅ UP000629098 (Iningainema tapete BLCC-T55): 8412 proteins\n",
      "✅ UP000625316 (Romeriopsis navalis LEGE 11480): 5398 proteins\n",
      "✅ UP000632766 (Amazonocrinis nigriterrae CENA67): 6582 proteins\n",
      "✅ UP000729701 (Cyanomargarita calcarea GSE-NOS-MK-12-04C): 6620 proteins\n",
      "✅ UP000707356 (Pegethrix bostrychoides GSE-TBD4-15B): 4953 proteins\n",
      "✅ UP000008152 (Vibrio campbellii ATCC BAA-1116): 5605 proteins\n",
      "✅ UP000641646 (Aerosakkonema funiforme FACHB-1375): 7004 proteins\n",
      "❌ Failed to download UP001303491 (Leptolyngbya boryana CZ1)\n",
      "\n",
      "🎯 Combined database saved to: fasta_proteomes_proteomes_api/session_strain_level_2025-05-14_16-06-54\\strain_200_db.fasta\n",
      "🧬 Total proteins in database: 12176415\n"
     ]
    },
    {
     "ename": "",
     "evalue": "",
     "output_type": "error",
     "traceback": [
      "\u001b[1;31mThe Kernel crashed while executing code in the current cell or a previous cell. \n",
      "\u001b[1;31mPlease review the code in the cell(s) to identify a possible cause of the failure. \n",
      "\u001b[1;31mClick <a href='https://aka.ms/vscodeJupyterKernelCrash'>here</a> for more info. \n",
      "\u001b[1;31mView Jupyter <a href='command:jupyter.viewOutput'>log</a> for further details."
     ]
    }
   ],
   "source": [
    "import pandas as pd\n",
    "import os\n",
    "import requests\n",
    "\n",
    "# === 1. Define paths ===\n",
    "proteome_csv_path = f\"fasta_proteomes_proteomes_api/session_strain_level_{session_time}\\strain_proteome_matches.csv\"\n",
    "output_dir = os.path.dirname(proteome_csv_path)\n",
    "combined_filename = f\"pept2taxa_strain_{min_peptides}_db.fasta\"\n",
    "combined_fasta_path = os.path.join(output_dir, combined_filename)\n",
    "\n",
    "# === 2. Function to download FASTA from UniProt by proteome ID ===\n",
    "def download_fasta(proteome_id):\n",
    "    url = f\"https://rest.uniprot.org/uniprotkb/stream?query=proteome:{proteome_id}&format=fasta\"\n",
    "    response = requests.get(url)\n",
    "    if response.ok and response.text.strip():\n",
    "        return response.text\n",
    "    return None\n",
    "\n",
    "# === 3. Read proteome list ===\n",
    "df = pd.read_csv(proteome_csv_path)\n",
    "valid_df = df[df[\"Proteome ID (UPID)\"].notna()]\n",
    "\n",
    "# === 4. Process proteomes ===\n",
    "total_proteins = 0\n",
    "print(\"📦 Starting protein download...\\n\")\n",
    "\n",
    "with open(combined_fasta_path, \"w\") as fasta_out:\n",
    "    for _, row in valid_df.iterrows():\n",
    "        upid = row[\"Proteome ID (UPID)\"]\n",
    "        name = row[\"Taxon Name\"]\n",
    "\n",
    "        fasta = download_fasta(upid)\n",
    "        if fasta:\n",
    "            count = fasta.count(\">\")\n",
    "            total_proteins += count\n",
    "            fasta_out.write(fasta)\n",
    "            print(f\"✅ {upid} ({name}): {count} proteins\")\n",
    "        else:\n",
    "            print(f\"❌ Failed to download {upid} ({name})\")\n",
    "\n",
    "print(f\"\\n🎯 Combined database saved to: {combined_fasta_path}\")\n",
    "print(f\"🧬 Total proteins in database: {total_proteins}\")"
   ]
  },
  {
   "cell_type": "code",
   "execution_count": null,
   "id": "e70d178b",
   "metadata": {},
   "outputs": [
    {
     "name": "stdout",
     "output_type": "stream",
     "text": [
      "🔁 Converted WSL input path:\n",
      "/mnt/c/Users/Yusuf/OneDrive/LST/Derde_jaar/Y3Q4/Pipeline/fasta_proteomes_proteomes_api/session_strain_level_2025-05-13_17-30-32/custom_strain_protein_database.fasta\n",
      "📄 Output clustered FASTA will be:\n",
      "/mnt/c/Users/Yusuf/OneDrive/LST/Derde_jaar/Y3Q4/Pipeline/fasta_proteomes_proteomes_api/session_strain_level_2025-05-13_17-30-32/custom_strain_protein_database_clustered50.fasta\n",
      "\n",
      "🔄 Running: wsl mmseqs createdb /mnt/c/Users/Yusuf/OneDrive/LST/Derde_jaar/Y3Q4/Pipeline/fasta_proteomes_proteomes_api/session_strain_level_2025-05-13_17-30-32/custom_strain_protein_database.fasta custom_db\n",
      "custom_db exists and will be overwritten\n",
      "createdb /mnt/c/Users/Yusuf/OneDrive/LST/Derde_jaar/Y3Q4/Pipeline/fasta_proteomes_proteomes_api/session_strain_level_2025-05-13_17-30-32/custom_strain_protein_database.fasta custom_db\n",
      "\n",
      "MMseqs Version:       \tdefe1afca38747fda4811bb427150fc595d84f43\n",
      "Database type         \t0\n",
      "Shuffle input database\ttrue\n",
      "Createdb mode         \t0\n",
      "Write lookup file     \t1\n",
      "Offset of numeric ids \t0\n",
      "Compressed            \t0\n",
      "Verbosity             \t3\n",
      "\n",
      "Converting sequences\n",
      "[===================================================================================================\t1 Mio. sequences processed\n",
      "========================================================================================\n",
      "Time for merging to custom_db_h: 0h 0m 5s 149ms\n",
      "Time for merging to custom_db: 0h 0m 9s 575ms\n",
      "Database type: Aminoacid\n",
      "Time for processing: 0h 0m 48s 754ms\n",
      "\n",
      "🔄 Running: wsl mmseqs cluster custom_db clustered_db tmp --min-seq-id 0.5\n",
      "cluster custom_db clustered_db tmp --min-seq-id 0.5\n",
      "\n",
      "MMseqs Version:                     \tdefe1afca38747fda4811bb427150fc595d84f43\n",
      "Substitution matrix                 \taa:blosum62.out,nucl:nucleotide.out\n",
      "Seed substitution matrix            \taa:VTML80.out,nucl:nucleotide.out\n",
      "Sensitivity                         \t4\n",
      "k-mer length                        \t0\n",
      "Target search mode                  \t0\n",
      "k-score                             \tseq:2147483647,prof:2147483647\n",
      "Alphabet size                       \taa:21,nucl:5\n",
      "Max sequence length                 \t65535\n",
      "Max results per query               \t20\n",
      "Split database                      \t0\n",
      "Split mode                          \t2\n",
      "Split memory limit                  \t0\n",
      "Coverage threshold                  \t0.8\n",
      "Coverage mode                       \t0\n",
      "Compositional bias                  \t1\n",
      "Compositional bias scale            \t1\n",
      "Diagonal scoring                    \ttrue\n",
      "Exact k-mer matching                \t0\n",
      "Mask residues                       \t1\n",
      "Mask residues probability           \t0.9\n",
      "Mask lower case residues            \t0\n",
      "Mask lower letter repeating N times \t0\n",
      "Minimum diagonal score              \t15\n",
      "Selected taxa\n",
      "Include identical seq. id.          \tfalse\n",
      "Spaced k-mers                       \t1\n",
      "Preload mode                        \t0\n",
      "Pseudo count a                      \tsubstitution:1.100,context:1.400\n",
      "Pseudo count b                      \tsubstitution:4.100,context:5.800\n",
      "Spaced k-mer pattern\n",
      "Local temporary path\n",
      "Threads                             \t12\n",
      "Compressed                          \t0\n",
      "Verbosity                           \t3\n",
      "Add backtrace                       \tfalse\n",
      "Alignment mode                      \t3\n",
      "Alignment mode                      \t0\n",
      "Allow wrapped scoring               \tfalse\n",
      "E-value threshold                   \t0.001\n",
      "Seq. id. threshold                  \t0.5\n",
      "Min alignment length                \t0\n",
      "Seq. id. mode                       \t0\n",
      "Alternative alignments              \t0\n",
      "Max reject                          \t2147483647\n",
      "Max accept                          \t2147483647\n",
      "Score bias                          \t0\n",
      "Realign hits                        \tfalse\n",
      "Realign score bias                  \t-0.2\n",
      "Realign max seqs                    \t2147483647\n",
      "Correlation score weight            \t0\n",
      "Gap open cost                       \taa:11,nucl:5\n",
      "Gap extension cost                  \taa:1,nucl:2\n",
      "Zdrop                               \t40\n",
      "Rescore mode                        \t0\n",
      "Remove hits by seq. id. and coverage\tfalse\n",
      "Sort results                        \t0\n",
      "Cluster mode                        \t0\n",
      "Max connected component depth       \t1000\n",
      "Similarity type                     \t2\n",
      "Weight file name\n",
      "Cluster Weight threshold            \t0.9\n",
      "Single step clustering              \tfalse\n",
      "Cascaded clustering steps           \t3\n",
      "Cluster reassign                    \tfalse\n",
      "Remove temporary files              \tfalse\n",
      "Force restart with latest tmp       \tfalse\n",
      "MPI runner\n",
      "k-mers per sequence                 \t21\n",
      "Scale k-mers per sequence           \taa:0.000,nucl:0.200\n",
      "Adjust k-mer length                 \tfalse\n",
      "Shift hash                          \t67\n",
      "Include only extendable             \tfalse\n",
      "Skip repeating k-mers               \tfalse\n",
      "\n",
      "Set cluster sensitivity to -s 3.000000\n",
      "Set cluster mode SET COVER\n",
      "Set cluster iterations to 3\n",
      "linclust custom_db tmp/6073622973636308846/clu_redundancy tmp/6073622973636308846/linclust --cluster-mode 0 --max-iterations 1000 --similarity-type 2 --threads 12 --compressed 0 -v 3 --cluster-weight-threshold 0.9 --sub-mat 'aa:blosum62.out,nucl:nucleotide.out' -a 0 --alignment-mode 3 --alignment-output-mode 0 --wrapped-scoring 0 -e 0.001 --min-seq-id 0.5 --min-aln-len 0 --seq-id-mode 0 --alt-ali 0 -c 0.8 --cov-mode 0 --max-seq-len 65535 --comp-bias-corr 1 --comp-bias-corr-scale 1 --max-rejected 2147483647 --max-accept 2147483647 --add-self-matches 0 --db-load-mode 0 --pca substitution:1.100,context:1.400 --pcb substitution:4.100,context:5.800 --score-bias 0 --realign 0 --realign-score-bias -0.2 --realign-max-seqs 2147483647 --corr-score-weight 0 --gap-open aa:11,nucl:5 --gap-extend aa:1,nucl:2 --zdrop 40 --alph-size aa:13,nucl:5 --kmer-per-seq 21 --spaced-kmer-mode 1 --kmer-per-seq-scale aa:0.000,nucl:0.200 --adjust-kmer-len 0 --mask 0 --mask-prob 0.9 --mask-lower-case 0 --mask-n-repeat 0 -k 0 --hash-shift 67 --split-memory-limit 0 --include-only-extendable 0 --ignore-multi-kmer 0 --rescore-mode 0 --filter-hits 0 --sort-results 0 --remove-tmp-files 0 --force-reuse 0\n",
      "\n",
      "kmermatcher custom_db tmp/6073622973636308846/linclust/9070321297044658396/pref --sub-mat 'aa:blosum62.out,nucl:nucleotide.out' --alph-size aa:13,nucl:5 --min-seq-id 0.5 --kmer-per-seq 21 --spaced-kmer-mode 1 --kmer-per-seq-scale aa:0.000,nucl:0.200 --adjust-kmer-len 0 --mask 0 --mask-prob 0.9 --mask-lower-case 0 --mask-n-repeat 0 --cov-mode 0 -k 0 -c 0.8 --max-seq-len 65535 --hash-shift 67 --split-memory-limit 0 --include-only-extendable 0 --ignore-multi-kmer 0 --threads 12 --compressed 0 -v 3 --cluster-weight-threshold 0.9\n",
      "\n",
      "kmermatcher custom_db tmp/6073622973636308846/linclust/9070321297044658396/pref --sub-mat 'aa:blosum62.out,nucl:nucleotide.out' --alph-size aa:13,nucl:5 --min-seq-id 0.5 --kmer-per-seq 21 --spaced-kmer-mode 1 --kmer-per-seq-scale aa:0.000,nucl:0.200 --adjust-kmer-len 0 --mask 0 --mask-prob 0.9 --mask-lower-case 0 --mask-n-repeat 0 --cov-mode 0 -k 0 -c 0.8 --max-seq-len 65535 --hash-shift 67 --split-memory-limit 0 --include-only-extendable 0 --ignore-multi-kmer 0 --threads 12 --compressed 0 -v 3 --cluster-weight-threshold 0.9\n",
      "\n",
      "Database size: 1885063 type: Aminoacid\n",
      "Reduced amino acid alphabet: (A S T) (C) (D B N) (E Q Z) (F Y) (G) (H) (I V) (K R) (L J M) (P) (W) (X)\n",
      "\n",
      "Generate k-mers list for 1 split\n",
      "[=================================================================] 1.89M 8s 146ms\n",
      "Sort kmer 0h 0m 6s 861ms\n",
      "Sort by rep. sequence 0h 0m 3s 160ms\n",
      "Time for fill: 0h 0m 1s 795ms\n",
      "Time for merging to pref: 0h 0m 0s 24ms\n",
      "Time for processing: 0h 0m 22s 315ms\n",
      "rescorediagonal custom_db custom_db tmp/6073622973636308846/linclust/9070321297044658396/pref tmp/6073622973636308846/linclust/9070321297044658396/pref_rescore1 --sub-mat 'aa:blosum62.out,nucl:nucleotide.out' --rescore-mode 0 --wrapped-scoring 0 --filter-hits 0 -e 0.001 -c 0.8 -a 0 --cov-mode 0 --min-seq-id 0.5 --min-aln-len 0 --seq-id-mode 0 --add-self-matches 0 --sort-results 0 --db-load-mode 0 --threads 12 --compressed 0 -v 3\n",
      "\n",
      "[=================================================================] 1.89M 1s 587ms\n",
      "Time for merging to pref_rescore1: 0h 0m 4s 894ms\n",
      "Time for processing: 0h 0m 27s 785ms\n",
      "clust custom_db tmp/6073622973636308846/linclust/9070321297044658396/pref_rescore1 tmp/6073622973636308846/linclust/9070321297044658396/pre_clust --cluster-mode 0 --max-iterations 1000 --similarity-type 2 --threads 12 --compressed 0 -v 3 --cluster-weight-threshold 0.9\n",
      "\n",
      "Clustering mode: Set Cover\n",
      "[=================================================================] 1.89M 0s 717ms\n",
      "Sort entries\n",
      "Find missing connections\n",
      "Found 1491554 new connections.\n",
      "Reconstruct initial order\n",
      "[=================================================================] 1.89M 0s 985ms\n",
      "Add missing connections\n",
      "[=================================================================] 1.89M 0s 87ms\n",
      "\n",
      "Time for read in: 0h 0m 2s 80ms\n",
      "Total time: 0h 0m 2s 712ms\n",
      "\n",
      "Size of the sequence database: 1885063\n",
      "Size of the alignment database: 1885063\n",
      "Number of clusters: 1188607\n",
      "\n",
      "Writing results 0h 0m 0s 602ms\n",
      "Time for merging to pre_clust: 0h 0m 0s 15ms\n",
      "Time for processing: 0h 0m 4s 408ms\n",
      "createsubdb tmp/6073622973636308846/linclust/9070321297044658396/order_redundancy custom_db tmp/6073622973636308846/linclust/9070321297044658396/input_step_redundancy -v 3 --subdb-mode 1\n",
      "\n",
      "Time for merging to input_step_redundancy: 0h 0m 0s 9ms\n",
      "Time for processing: 0h 0m 1s 803ms\n",
      "createsubdb tmp/6073622973636308846/linclust/9070321297044658396/order_redundancy tmp/6073622973636308846/linclust/9070321297044658396/pref tmp/6073622973636308846/linclust/9070321297044658396/pref_filter1 -v 3 --subdb-mode 1\n",
      "\n",
      "Time for merging to pref_filter1: 0h 0m 0s 9ms\n",
      "Time for processing: 0h 0m 1s 913ms\n",
      "filterdb tmp/6073622973636308846/linclust/9070321297044658396/pref_filter1 tmp/6073622973636308846/linclust/9070321297044658396/pref_filter2 --filter-file tmp/6073622973636308846/linclust/9070321297044658396/order_redundancy --threads 12 --compressed 0 -v 3\n",
      "\n",
      "Filtering using file(s)\n",
      "[=================================================================] 1.19M 1s 7ms\n",
      "Time for merging to pref_filter2: 0h 0m 2s 385ms\n",
      "Time for processing: 0h 0m 4s 399ms\n",
      "rescorediagonal tmp/6073622973636308846/linclust/9070321297044658396/input_step_redundancy tmp/6073622973636308846/linclust/9070321297044658396/input_step_redundancy tmp/6073622973636308846/linclust/9070321297044658396/pref_filter2 tmp/6073622973636308846/linclust/9070321297044658396/pref_rescore2 --sub-mat 'aa:blosum62.out,nucl:nucleotide.out' --rescore-mode 1 --wrapped-scoring 0 --filter-hits 1 -e 0.001 -c 0.8 -a 0 --cov-mode 0 --min-seq-id 0.5 --min-aln-len 0 --seq-id-mode 0 --add-self-matches 0 --sort-results 0 --db-load-mode 0 --threads 12 --compressed 0 -v 3\n",
      "\n",
      "[=================================================================] 1.19M 1s 378ms\n",
      "Time for merging to pref_rescore2: 0h 0m 2s 298ms\n",
      "Time for processing: 0h 0m 20s 946ms\n",
      "align tmp/6073622973636308846/linclust/9070321297044658396/input_step_redundancy tmp/6073622973636308846/linclust/9070321297044658396/input_step_redundancy tmp/6073622973636308846/linclust/9070321297044658396/pref_rescore2 tmp/6073622973636308846/linclust/9070321297044658396/aln --sub-mat 'aa:blosum62.out,nucl:nucleotide.out' -a 0 --alignment-mode 3 --alignment-output-mode 0 --wrapped-scoring 0 -e 0.001 --min-seq-id 0.5 --min-aln-len 0 --seq-id-mode 0 --alt-ali 0 -c 0.8 --cov-mode 0 --max-seq-len 65535 --comp-bias-corr 1 --comp-bias-corr-scale 1 --max-rejected 2147483647 --max-accept 2147483647 --add-self-matches 0 --db-load-mode 0 --pca substitution:1.100,context:1.400 --pcb substitution:4.100,context:5.800 --score-bias 0 --realign 0 --realign-score-bias -0.2 --realign-max-seqs 2147483647 --corr-score-weight 0 --gap-open aa:11,nucl:5 --gap-extend aa:1,nucl:2 --zdrop 40 --threads 12 --compressed 0 -v 3\n",
      "\n",
      "Compute score, coverage and sequence identity\n",
      "Query database size: 1188607 type: Aminoacid\n",
      "Target database size: 1188607 type: Aminoacid\n",
      "Calculation of alignments\n",
      "[=================================================================] 1.19M 1m 15s 668ms\n",
      "Time for merging to aln: 0h 0m 2s 439ms\n",
      "1687701 alignments calculated\n",
      "1469242 sequence pairs passed the thresholds (0.870558 of overall calculated)\n",
      "1.236104 hits per query sequence\n",
      "Time for processing: 0h 1m 34s 648ms\n",
      "clust tmp/6073622973636308846/linclust/9070321297044658396/input_step_redundancy tmp/6073622973636308846/linclust/9070321297044658396/aln tmp/6073622973636308846/linclust/9070321297044658396/clust --cluster-mode 0 --max-iterations 1000 --similarity-type 2 --threads 12 --compressed 0 -v 3 --cluster-weight-threshold 0.9\n",
      "\n",
      "Clustering mode: Set Cover\n",
      "[=================================================================] 1.19M 0s 562ms\n",
      "Sort entries\n",
      "Find missing connections\n",
      "Found 280635 new connections.\n",
      "Reconstruct initial order\n",
      "[=================================================================] 1.19M 1s 40ms\n",
      "Add missing connections\n",
      "[=================================================================] 1.19M 0s 34ms\n",
      "\n",
      "Time for read in: 0h 0m 1s 811ms\n",
      "Total time: 0h 0m 3s 235ms\n",
      "\n",
      "Size of the sequence database: 1188607\n",
      "Size of the alignment database: 1188607\n",
      "Number of clusters: 1012066\n",
      "\n",
      "Writing results 0h 0m 0s 525ms\n",
      "Time for merging to clust: 0h 0m 0s 14ms\n",
      "Time for processing: 0h 0m 4s 389ms\n",
      "mergeclusters custom_db tmp/6073622973636308846/clu_redundancy tmp/6073622973636308846/linclust/9070321297044658396/pre_clust tmp/6073622973636308846/linclust/9070321297044658396/clust --threads 12 --compressed 0 -v 3\n",
      "\n",
      "Clustering step 1\n",
      "[=================================================================] 1.19M 0s 261ms\n",
      "Clustering step 2\n",
      "[=================================================================] 1.01M 0s 628ms\n",
      "Write merged clustering\n",
      "[=================================================================] 1.89M 0s 877ms\n",
      "Time for merging to clu_redundancy: 0h 0m 1s 730ms\n",
      "Time for processing: 0h 0m 3s 405ms\n",
      "createsubdb tmp/6073622973636308846/clu_redundancy custom_db tmp/6073622973636308846/input_step_redundancy -v 3 --subdb-mode 1\n",
      "\n",
      "Time for merging to input_step_redundancy: 0h 0m 0s 8ms\n",
      "Time for processing: 0h 0m 1s 802ms\n",
      "prefilter tmp/6073622973636308846/input_step_redundancy tmp/6073622973636308846/input_step_redundancy tmp/6073622973636308846/pref_step0 --sub-mat 'aa:blosum62.out,nucl:nucleotide.out' --seed-sub-mat 'aa:VTML80.out,nucl:nucleotide.out' -s 1 -k 0 --target-search-mode 0 --k-score seq:2147483647,prof:2147483647 --alph-size aa:21,nucl:5 --max-seq-len 65535 --max-seqs 20 --split 0 --split-mode 2 --split-memory-limit 0 -c 0.8 --cov-mode 0 --comp-bias-corr 0 --comp-bias-corr-scale 1 --diag-score 0 --exact-kmer-matching 0 --mask 1 --mask-prob 0.9 --mask-lower-case 0 --mask-n-repeat 0 --min-ungapped-score 0 --add-self-matches 0 --spaced-kmer-mode 1 --db-load-mode 0 --pca substitution:1.100,context:1.400 --pcb substitution:4.100,context:5.800 --threads 12 --compressed 0 -v 3\n",
      "\n",
      "Query database size: 1012066 type: Aminoacid\n",
      "Estimated memory consumption: 4G\n",
      "Target database size: 1012066 type: Aminoacid\n",
      "Index table k-mer threshold: 154 at k-mer size 6\n",
      "Index table: counting k-mers\n",
      "[=================================================================] 1.01M 9s 810ms\n",
      "Index table: Masked residues: 10058090\n",
      "Index table: fill\n",
      "[=================================================================] 1.01M 4s 370ms\n",
      "Index statistics\n",
      "Entries:          175860107\n",
      "DB size:          1494 MB\n",
      "Avg k-mer size:   2.747814\n",
      "Top 10 k-mers\n",
      "STYPDG\t3426\n",
      "HPTGER\t3340\n",
      "IIDDFT\t3209\n",
      "GTLFAY\t2967\n",
      "DPFSWT\t2659\n",
      "GDRLYT\t2303\n",
      "RDKTLW\t2257\n",
      "WPFGEY\t1920\n",
      "IIHGEY\t1862\n",
      "ERYPRR\t1774\n",
      "Time for index table init: 0h 0m 14s 796ms\n",
      "Process prefiltering step 1 of 1\n",
      "\n",
      "k-mer similarity threshold: 154\n",
      "Starting prefiltering scores calculation (step 1 of 1)\n",
      "Query db start 1 to 1012066\n",
      "Target db start 1 to 1012066\n",
      "[=================================================================] 1.01M 33s 787ms\n",
      "\n",
      "2.291123 k-mers per position\n",
      "5344 DB matches per sequence\n",
      "0 overflows\n",
      "15 sequences passed prefiltering per query sequence\n",
      "20 median result list length\n",
      "0 sequences with 0 size result lists\n",
      "Time for merging to pref_step0: 0h 0m 2s 662ms\n",
      "Time for processing: 0h 0m 52s 324ms\n",
      "align tmp/6073622973636308846/input_step_redundancy tmp/6073622973636308846/input_step_redundancy tmp/6073622973636308846/pref_step0 tmp/6073622973636308846/aln_step0 --sub-mat 'aa:blosum62.out,nucl:nucleotide.out' -a 0 --alignment-mode 3 --alignment-output-mode 0 --wrapped-scoring 0 -e 0.001 --min-seq-id 0.5 --min-aln-len 0 --seq-id-mode 0 --alt-ali 0 -c 0.8 --cov-mode 0 --max-seq-len 65535 --comp-bias-corr 0 --comp-bias-corr-scale 1 --max-rejected 2147483647 --max-accept 2147483647 --add-self-matches 0 --db-load-mode 0 --pca substitution:1.100,context:1.400 --pcb substitution:4.100,context:5.800 --score-bias 0 --realign 0 --realign-score-bias -0.2 --realign-max-seqs 2147483647 --corr-score-weight 0 --gap-open aa:11,nucl:5 --gap-extend aa:1,nucl:2 --zdrop 40 --threads 12 --compressed 0 -v 3\n",
      "\n",
      "Compute score, coverage and sequence identity\n",
      "Query database size: 1012066 type: Aminoacid\n",
      "Target database size: 1012066 type: Aminoacid\n",
      "Calculation of alignments\n",
      "[=================================================================] 1.01M 7m 37s 429ms\n",
      "Time for merging to aln_step0: 0h 0m 1s 779ms\n",
      "5612191 alignments calculated\n",
      "1785401 sequence pairs passed the thresholds (0.318129 of overall calculated)\n",
      "1.764115 hits per query sequence\n",
      "Time for processing: 0h 7m 56s 487ms\n",
      "clust tmp/6073622973636308846/input_step_redundancy tmp/6073622973636308846/aln_step0 tmp/6073622973636308846/clu_step0 --cluster-mode 0 --max-iterations 1000 --similarity-type 2 --threads 12 --compressed 0 -v 3 --cluster-weight-threshold 0.9\n",
      "\n",
      "Clustering mode: Set Cover\n",
      "[=================================================================] 1.01M 0s 603ms\n",
      "Sort entries\n",
      "Find missing connections\n",
      "Found 187933 new connections.\n",
      "Reconstruct initial order\n",
      "[=================================================================] 1.01M 1s 189ms\n",
      "Add missing connections\n",
      "[=================================================================] 1.01M 0s 45ms\n",
      "\n",
      "Time for read in: 0h 0m 1s 985ms\n",
      "Total time: 0h 0m 2s 552ms\n",
      "\n",
      "Size of the sequence database: 1012066\n",
      "Size of the alignment database: 1012066\n",
      "Number of clusters: 830474\n",
      "\n",
      "Writing results 0h 0m 0s 386ms\n",
      "Time for merging to clu_step0: 0h 0m 0s 12ms\n",
      "Time for processing: 0h 0m 3s 487ms\n",
      "createsubdb tmp/6073622973636308846/clu_step0 tmp/6073622973636308846/input_step_redundancy tmp/6073622973636308846/input_step1 -v 3 --subdb-mode 1\n",
      "\n",
      "Time for merging to input_step1: 0h 0m 0s 8ms\n",
      "Time for processing: 0h 0m 1s 176ms\n",
      "prefilter tmp/6073622973636308846/input_step1 tmp/6073622973636308846/input_step1 tmp/6073622973636308846/pref_step1 --sub-mat 'aa:blosum62.out,nucl:nucleotide.out' --seed-sub-mat 'aa:VTML80.out,nucl:nucleotide.out' -s 2 -k 0 --target-search-mode 0 --k-score seq:2147483647,prof:2147483647 --alph-size aa:21,nucl:5 --max-seq-len 65535 --max-seqs 20 --split 0 --split-mode 2 --split-memory-limit 0 -c 0.8 --cov-mode 0 --comp-bias-corr 1 --comp-bias-corr-scale 1 --diag-score 1 --exact-kmer-matching 0 --mask 1 --mask-prob 0.9 --mask-lower-case 0 --mask-n-repeat 0 --min-ungapped-score 15 --add-self-matches 0 --spaced-kmer-mode 1 --db-load-mode 0 --pca substitution:1.100,context:1.400 --pcb substitution:4.100,context:5.800 --threads 12 --compressed 0 -v 3\n",
      "\n",
      "Query database size: 830474 type: Aminoacid\n",
      "Estimated memory consumption: 3G\n",
      "Target database size: 830474 type: Aminoacid\n",
      "Index table k-mer threshold: 145 at k-mer size 6\n",
      "Index table: counting k-mers\n",
      "[=================================================================] 830.47K 8s 831ms\n",
      "Index table: Masked residues: 8648660\n",
      "Index table: fill\n",
      "[=================================================================] 830.47K 4s 771ms\n",
      "Index statistics\n",
      "Entries:          208393890\n",
      "DB size:          1680 MB\n",
      "Avg k-mer size:   3.256155\n",
      "Top 10 k-mers\n",
      "WFRWQE\t1703\n",
      "LPELIF\t1300\n",
      "LPERIY\t1280\n",
      "HPTGER\t1094\n",
      "ISRPTS\t1002\n",
      "KLFTHP\t971\n",
      "IIDDFT\t945\n",
      "GTLFAY\t942\n",
      "GHEVTT\t698\n",
      "GDRLYT\t664\n",
      "Time for index table init: 0h 0m 14s 195ms\n",
      "Process prefiltering step 1 of 1\n",
      "\n",
      "k-mer similarity threshold: 145\n",
      "Starting prefiltering scores calculation (step 1 of 1)\n",
      "Query db start 1 to 830474\n",
      "Target db start 1 to 830474\n",
      "[=================================================================] 830.47K 1m 6s 728ms\n",
      "\n",
      "7.490196 k-mers per position\n",
      "7374 DB matches per sequence\n",
      "0 overflows\n",
      "17 sequences passed prefiltering per query sequence\n",
      "20 median result list length\n",
      "0 sequences with 0 size result lists\n",
      "Time for merging to pref_step1: 0h 0m 1s 376ms\n",
      "Time for processing: 0h 1m 23s 214ms\n",
      "align tmp/6073622973636308846/input_step1 tmp/6073622973636308846/input_step1 tmp/6073622973636308846/pref_step1 tmp/6073622973636308846/aln_step1 --sub-mat 'aa:blosum62.out,nucl:nucleotide.out' -a 0 --alignment-mode 3 --alignment-output-mode 0 --wrapped-scoring 0 -e 0.001 --min-seq-id 0.5 --min-aln-len 0 --seq-id-mode 0 --alt-ali 0 -c 0.8 --cov-mode 0 --max-seq-len 65535 --comp-bias-corr 1 --comp-bias-corr-scale 1 --max-rejected 2147483647 --max-accept 2147483647 --add-self-matches 0 --db-load-mode 0 --pca substitution:1.100,context:1.400 --pcb substitution:4.100,context:5.800 --score-bias 0 --realign 0 --realign-score-bias -0.2 --realign-max-seqs 2147483647 --corr-score-weight 0 --gap-open aa:11,nucl:5 --gap-extend aa:1,nucl:2 --zdrop 40 --threads 12 --compressed 0 -v 3\n",
      "\n",
      "Compute score, coverage and sequence identity\n",
      "Query database size: 830474 type: Aminoacid\n",
      "Target database size: 830474 type: Aminoacid\n",
      "Calculation of alignments\n",
      "[=================================================================] 830.47K 3m 48s 385ms\n",
      "Time for merging to aln_step1: 0h 0m 1s 371ms\n",
      "4205458 alignments calculated\n",
      "876524 sequence pairs passed the thresholds (0.208425 of overall calculated)\n",
      "1.055450 hits per query sequence\n",
      "Time for processing: 0h 4m 6s 803ms\n",
      "clust tmp/6073622973636308846/input_step1 tmp/6073622973636308846/aln_step1 tmp/6073622973636308846/clu_step1 --cluster-mode 0 --max-iterations 1000 --similarity-type 2 --threads 12 --compressed 0 -v 3 --cluster-weight-threshold 0.9\n",
      "\n",
      "Clustering mode: Set Cover\n",
      "[=================================================================] 830.47K 0s 80ms\n",
      "Sort entries\n",
      "Find missing connections\n",
      "Found 26600 new connections.\n",
      "Reconstruct initial order\n",
      "[=================================================================] 830.47K 0s 351ms\n",
      "Add missing connections\n",
      "[=================================================================] 830.47K 0s 18ms\n",
      "\n",
      "Time for read in: 0h 0m 0s 579ms\n",
      "Total time: 0h 0m 0s 876ms\n",
      "\n",
      "Size of the sequence database: 830474\n",
      "Size of the alignment database: 830474\n",
      "Number of clusters: 812286\n",
      "\n",
      "Writing results 0h 0m 0s 382ms\n",
      "Time for merging to clu_step1: 0h 0m 0s 12ms\n",
      "Time for processing: 0h 0m 1s 692ms\n",
      "createsubdb tmp/6073622973636308846/clu_step1 tmp/6073622973636308846/input_step1 tmp/6073622973636308846/input_step2 -v 3 --subdb-mode 1\n",
      "\n",
      "Time for merging to input_step2: 0h 0m 0s 8ms\n",
      "Time for processing: 0h 0m 1s 240ms\n",
      "prefilter tmp/6073622973636308846/input_step2 tmp/6073622973636308846/input_step2 tmp/6073622973636308846/pref_step2 --sub-mat 'aa:blosum62.out,nucl:nucleotide.out' --seed-sub-mat 'aa:VTML80.out,nucl:nucleotide.out' -s 3 -k 0 --target-search-mode 0 --k-score seq:2147483647,prof:2147483647 --alph-size aa:21,nucl:5 --max-seq-len 65535 --max-seqs 20 --split 0 --split-mode 2 --split-memory-limit 0 -c 0.8 --cov-mode 0 --comp-bias-corr 1 --comp-bias-corr-scale 1 --diag-score 1 --exact-kmer-matching 0 --mask 1 --mask-prob 0.9 --mask-lower-case 0 --mask-n-repeat 0 --min-ungapped-score 15 --add-self-matches 0 --spaced-kmer-mode 1 --db-load-mode 0 --pca substitution:1.100,context:1.400 --pcb substitution:4.100,context:5.800 --threads 12 --compressed 0 -v 3\n",
      "\n",
      "Query database size: 812286 type: Aminoacid\n",
      "Estimated memory consumption: 3G\n",
      "Target database size: 812286 type: Aminoacid\n",
      "Index table k-mer threshold: 136 at k-mer size 6\n",
      "Index table: counting k-mers\n",
      "[=================================================================] 812.29K 9s 717ms\n",
      "Index table: Masked residues: 8536789\n",
      "Index table: fill\n",
      "[=================================================================] 812.29K 6s 774ms\n",
      "Index statistics\n",
      "Entries:          270938188\n",
      "DB size:          2038 MB\n",
      "Avg k-mer size:   4.233409\n",
      "Top 10 k-mers\n",
      "WFRWQE\t1665\n",
      "LPELIF\t1291\n",
      "LPERIY\t1279\n",
      "LLGPGK\t952\n",
      "VHDKNI\t788\n",
      "GWLEAP\t717\n",
      "CIQDER\t680\n",
      "LPERIW\t629\n",
      "PSSSPS\t554\n",
      "SPPSSS\t539\n",
      "Time for index table init: 0h 0m 17s 281ms\n",
      "Process prefiltering step 1 of 1\n",
      "\n",
      "k-mer similarity threshold: 136\n",
      "Starting prefiltering scores calculation (step 1 of 1)\n",
      "Query db start 1 to 812286\n",
      "Target db start 1 to 812286\n",
      "[=================================================================] 812.29K 2m 7s 672ms\n",
      "\n",
      "21.743854 k-mers per position\n",
      "23614 DB matches per sequence\n",
      "0 overflows\n",
      "19 sequences passed prefiltering per query sequence\n",
      "20 median result list length\n",
      "0 sequences with 0 size result lists\n",
      "Time for merging to pref_step2: 0h 0m 1s 463ms\n",
      "Time for processing: 0h 2m 27s 299ms\n",
      "align tmp/6073622973636308846/input_step2 tmp/6073622973636308846/input_step2 tmp/6073622973636308846/pref_step2 tmp/6073622973636308846/aln_step2 --sub-mat 'aa:blosum62.out,nucl:nucleotide.out' -a 0 --alignment-mode 3 --alignment-output-mode 0 --wrapped-scoring 0 -e 0.001 --min-seq-id 0.5 --min-aln-len 0 --seq-id-mode 0 --alt-ali 0 -c 0.8 --cov-mode 0 --max-seq-len 65535 --comp-bias-corr 1 --comp-bias-corr-scale 1 --max-rejected 2147483647 --max-accept 2147483647 --add-self-matches 0 --db-load-mode 0 --pca substitution:1.100,context:1.400 --pcb substitution:4.100,context:5.800 --score-bias 0 --realign 0 --realign-score-bias -0.2 --realign-max-seqs 2147483647 --corr-score-weight 0 --gap-open aa:11,nucl:5 --gap-extend aa:1,nucl:2 --zdrop 40 --threads 12 --compressed 0 -v 3\n",
      "\n",
      "Compute score, coverage and sequence identity\n",
      "Query database size: 812286 type: Aminoacid\n",
      "Target database size: 812286 type: Aminoacid\n",
      "Calculation of alignments\n",
      "[=================================================================] 812.29K 4m 6s 894ms\n",
      "Time for merging to aln_step2: 0h 0m 1s 634ms\n",
      "4455272 alignments calculated\n",
      "819037 sequence pairs passed the thresholds (0.183835 of overall calculated)\n",
      "1.008311 hits per query sequence\n",
      "Time for processing: 0h 4m 25s 460ms\n",
      "clust tmp/6073622973636308846/input_step2 tmp/6073622973636308846/aln_step2 tmp/6073622973636308846/clu_step2 --cluster-mode 0 --max-iterations 1000 --similarity-type 2 --threads 12 --compressed 0 -v 3 --cluster-weight-threshold 0.9\n",
      "\n",
      "Clustering mode: Set Cover\n",
      "[=================================================================] 812.29K 0s 83ms\n",
      "Sort entries\n",
      "Find missing connections\n",
      "Found 4413 new connections.\n",
      "Reconstruct initial order\n",
      "[=================================================================] 812.29K 0s 326ms\n",
      "Add missing connections\n",
      "[=================================================================] 812.29K 0s 16ms\n",
      "\n",
      "Time for read in: 0h 0m 0s 556ms\n",
      "Total time: 0h 0m 0s 855ms\n",
      "\n",
      "Size of the sequence database: 812286\n",
      "Size of the alignment database: 812286\n",
      "Number of clusters: 808448\n",
      "\n",
      "Writing results 0h 0m 0s 417ms\n",
      "Time for merging to clu_step2: 0h 0m 0s 12ms\n",
      "Time for processing: 0h 0m 1s 762ms\n",
      "mergeclusters custom_db clustered_db tmp/6073622973636308846/clu_redundancy tmp/6073622973636308846/clu_step0 tmp/6073622973636308846/clu_step1 tmp/6073622973636308846/clu_step2 --threads 12 --compressed 0 -v 3\n",
      "\n",
      "Clustering step 1\n",
      "[=================================================================] 1.01M 0s 295ms\n",
      "Clustering step 2\n",
      "[=================================================================] 830.47K 0s 636ms\n",
      "Clustering step 3\n",
      "[=================================================================] 812.29K 0s 960ms\n",
      "Clustering step 4\n",
      "[=================================================================] 808.45K 1s 246ms\n",
      "Write merged clustering\n",
      "[=================================================================] 1.89M 1s 515ms\n",
      "Time for merging to clustered_db: 0h 0m 1s 607ms\n",
      "Time for processing: 0h 0m 4s 345ms\n",
      "\n",
      "🔄 Running: wsl mmseqs createsubdb clustered_db custom_db clustered_reps\n",
      "createsubdb clustered_db custom_db clustered_reps\n",
      "\n",
      "MMseqs Version: \tdefe1afca38747fda4811bb427150fc595d84f43\n",
      "Subdb mode      \t0\n",
      "Database ID mode\t0\n",
      "Verbosity       \t3\n",
      "\n",
      "Time for merging to clustered_reps: 0h 0m 0s 20ms\n",
      "Time for processing: 0h 0m 19s 337ms\n",
      "\n",
      "🔄 Running: wsl mmseqs result2flat custom_db custom_db clustered_reps /mnt/c/Users/Yusuf/OneDrive/LST/Derde_jaar/Y3Q4/Pipeline/fasta_proteomes_proteomes_api/session_strain_level_2025-05-13_17-30-32/custom_strain_protein_database_clustered50.fasta\n",
      "result2flat custom_db custom_db clustered_reps /mnt/c/Users/Yusuf/OneDrive/LST/Derde_jaar/Y3Q4/Pipeline/fasta_proteomes_proteomes_api/session_strain_level_2025-05-13_17-30-32/custom_strain_protein_database_clustered50.fasta\n",
      "\n",
      "MMseqs Version: \tdefe1afca38747fda4811bb427150fc595d84f43\n",
      "Use fasta header\tfalse\n",
      "Verbosity       \t3\n",
      "\n",
      "Time for processing: 0h 0m 30s 34ms\n",
      "\n",
      "✅ Done! Clustered FASTA saved as:\n",
      "/mnt/c/Users/Yusuf/OneDrive/LST/Derde_jaar/Y3Q4/Pipeline/fasta_proteomes_proteomes_api/session_strain_level_2025-05-13_17-30-32/custom_strain_protein_database_clustered50.fasta\n",
      "🧹 Deleted: custom_db\n",
      "🧹 Deleted: custom_db_h\n",
      "🧹 Deleted: custom_db.index\n",
      "🧹 Deleted: custom_db.dbtype\n",
      "🧹 Deleted: clustered_db\n",
      "🧹 Deleted: clustered_db_h\n",
      "🧹 Deleted: clustered_db.index\n",
      "🧹 Deleted: clustered_db.dbtype\n",
      "🧹 Deleted: clustered_db_seq\n",
      "🧹 Deleted: clustered_db_seq_h\n",
      "🧹 Deleted: clustered_db_seq.index\n",
      "🧹 Deleted: clustered_db_seq.dbtype\n",
      "⚠️ Could not delete tmp: [WinError 145] The directory is not empty: 'tmp'\n",
      "✅ Cleanup complete.\n"
     ]
    }
   ],
   "source": [
    "'''\n",
    "# Clustering the proteins in the database with MMseqs2\n",
    "import subprocess\n",
    "import os\n",
    "\n",
    "# ✅ Step 1: Define the input file path (Windows format)\n",
    "input_file_path = r\"C:\\Users\\Yusuf\\OneDrive\\LST\\Derde_jaar\\Y3Q4\\Pipeline\\fasta_proteomes_proteomes_api\\session_strain_level_2025-05-13_17-30-32\\custom_strain_protein_database.fasta\"\n",
    "\n",
    "# ✅ Step 2: Convert to WSL path\n",
    "input_fasta = input_file_path.replace(\"\\\\\", \"/\").replace(\"C:\", \"/mnt/c\")\n",
    "output_fasta = input_fasta.replace(\".fasta\", \"_clustered60.fasta\")\n",
    "\n",
    "print(f\"🔁 Converted WSL input path:\\n{input_fasta}\")\n",
    "print(f\"📄 Output clustered FASTA will be:\\n{output_fasta}\")\n",
    "\n",
    "# ✅ Step 3: Define MMseqs2 commands\n",
    "commands = [\n",
    "    f'wsl mmseqs createdb {input_fasta} custom_db',\n",
    "    'wsl mmseqs cluster custom_db clustered_db tmp --min-seq-id 0.6',\n",
    "    'wsl mmseqs createsubdb clustered_db custom_db clustered_reps',\n",
    "    f'wsl mmseqs result2flat custom_db custom_db clustered_reps {output_fasta}'\n",
    "]\n",
    "\n",
    "# ✅ Step 4: Function to stream output in real-time\n",
    "def run_with_streaming(cmd):\n",
    "    print(f\"\\n🔄 Running: {cmd}\")\n",
    "    process = subprocess.Popen(cmd, shell=True, stdout=subprocess.PIPE, stderr=subprocess.STDOUT, text=True)\n",
    "    for line in process.stdout:\n",
    "        print(line.strip())\n",
    "    process.wait()\n",
    "    if process.returncode != 0:\n",
    "        raise subprocess.CalledProcessError(process.returncode, cmd)\n",
    "\n",
    "# ✅ Step 5: Run each MMseqs2 command with streaming\n",
    "for cmd in commands:\n",
    "    run_with_streaming(cmd)\n",
    "\n",
    "print(f\"\\n✅ Done! Clustered FASTA saved as:\\n{output_fasta}\")\n",
    "\n",
    "# ✅ Step 6: Clean up intermediate files (optional)\n",
    "intermediate_files = [\n",
    "    \"custom_db\", \"custom_db_h\", \"custom_db.index\", \"custom_db.dbtype\",\n",
    "    \"clustered_db\", \"clustered_db_h\", \"clustered_db.index\", \"clustered_db.dbtype\",\n",
    "    \"clustered_db_seq\", \"clustered_db_seq_h\", \"clustered_db_seq.index\", \"clustered_db_seq.dbtype\",\n",
    "    \"tmp\"\n",
    "]\n",
    "\n",
    "for fname in intermediate_files:\n",
    "    try:\n",
    "        if os.path.isdir(fname):\n",
    "            os.rmdir(fname)\n",
    "        elif os.path.exists(fname):\n",
    "            os.remove(fname)\n",
    "        print(f\"🧹 Deleted: {fname}\")\n",
    "    except Exception as e:\n",
    "        print(f\"⚠️ Could not delete {fname}: {e}\")\n",
    "\n",
    "print(\"✅ Cleanup complete.\")\n",
    "'''"
   ]
  },
  {
   "cell_type": "code",
   "execution_count": 7,
   "id": "2610ba8a",
   "metadata": {},
   "outputs": [
    {
     "name": "stdout",
     "output_type": "stream",
     "text": [
      "🔧 Running: wsl mmseqs createdb /mnt/c/Users/Yusuf/OneDrive/LST/Derde_jaar/Y3Q4/Pipeline/fasta_proteomes/combined_databases/pept2taxa_strain200_pept2prot_combined.fasta db\n",
      "🔧 Running: wsl mmseqs cluster db clust tmp --min-seq-id 0.95 -c 0.8\n",
      "🔧 Running: wsl mmseqs createtsv db db clust clusters.tsv\n",
      "🔧 Running: wsl mmseqs createsubdb clust db rep\n",
      "🔧 Running: wsl mmseqs result2flat db db rep clustered_raw.fasta\n",
      "\n",
      "✅ Clustered file written to:\n",
      "fasta_proteomes/combined_databases/pept2taxa_strain200_pept2prot_combined_clustered95.fasta\n"
     ]
    }
   ],
   "source": [
    "import os\n",
    "import subprocess\n",
    "from Bio import SeqIO\n",
    "import pandas as pd\n",
    "\n",
    "# === 1. Input and Output paths ===\n",
    "input_fasta_win = r\"C:\\Users\\Yusuf\\OneDrive\\LST\\Derde_jaar\\Y3Q4\\Pipeline\\fasta_proteomes\\combined_databases\\pept2taxa_strain200_pept2prot_combined.fasta\"\n",
    "input_fasta_wsl = \"/mnt/\" + input_fasta_win.replace(\"\\\\\", \"/\").replace(\":\", \"\").replace(\"C\", \"c\")\n",
    "\n",
    "base = os.path.splitext(os.path.basename(input_fasta_win))[0]\n",
    "output_fasta_win = f\"fasta_proteomes/combined_databases/{base}_clustered95.fasta\"\n",
    "output_fasta_wsl = \"/mnt/\" + output_fasta_win.replace(\"\\\\\", \"/\").replace(\":\", \"\").replace(\"C\", \"c\")\n",
    "\n",
    "# === 2. MMseqs2 clustering steps ===\n",
    "commands = [\n",
    "    f\"wsl mmseqs createdb {input_fasta_wsl} db\",\n",
    "    \"wsl mmseqs cluster db clust tmp --min-seq-id 0.95 -c 0.8\",\n",
    "    \"wsl mmseqs createtsv db db clust clusters.tsv\",\n",
    "    \"wsl mmseqs createsubdb clust db rep\",\n",
    "    f\"wsl mmseqs result2flat db db rep clustered_raw.fasta\"\n",
    "]\n",
    "\n",
    "def run(cmd):\n",
    "    print(f\"🔧 Running: {cmd}\")\n",
    "    result = subprocess.run(cmd, shell=True, text=True, capture_output=True)\n",
    "    if result.returncode != 0:\n",
    "        print(result.stdout)\n",
    "        print(result.stderr)\n",
    "        raise RuntimeError(\"Command failed.\")\n",
    "\n",
    "for cmd in commands:\n",
    "    run(cmd)\n",
    "\n",
    "# === 3. Enrich headers ===\n",
    "clusters_df = pd.read_csv(\"clusters.tsv\", sep=\"\\t\", header=None, names=[\"member\", \"representative\"])\n",
    "cluster_map = clusters_df.groupby(\"representative\")[\"member\"].apply(list).to_dict()\n",
    "\n",
    "original_headers = {rec.id: rec.description for rec in SeqIO.parse(input_fasta_win, \"fasta\")}\n",
    "rep_records = list(SeqIO.parse(\"clustered_raw.fasta\", \"fasta\"))\n",
    "\n",
    "for rec in rep_records:\n",
    "    rep_id = rec.id\n",
    "    members = cluster_map.get(rep_id, [rep_id])\n",
    "    size = len(members)\n",
    "    original_header = original_headers.get(rep_id, rep_id)\n",
    "    rec.description = f\"{original_header} | Cluster={rep_id} | Members={','.join(members)} | Size={size}\"\n",
    "\n",
    "# === 4. Save final clustered file with enriched headers ===\n",
    "SeqIO.write(rep_records, output_fasta_win, \"fasta\")\n",
    "print(f\"\\n✅ Clustered file written to:\\n{output_fasta_win}\")\n",
    "\n"
   ]
  },
  {
   "cell_type": "code",
   "execution_count": 9,
   "id": "fad023f4",
   "metadata": {},
   "outputs": [
    {
     "name": "stdout",
     "output_type": "stream",
     "text": [
      "🧬 Total proteins in 'C:\\Users\\Yusuf\\OneDrive\\LST\\Derde_jaar\\Y3Q4\\Pipeline\\fasta_proteomes\\combined_databases\\pept2taxa_strain200_pept2prot_combined.fasta': 873448\n",
      "🧬 Total proteins in 'C:\\Users\\Yusuf\\OneDrive\\LST\\Derde_jaar\\Y3Q4\\Pipeline\\fasta_proteomes\\combined_databases\\pept2taxa_strain200_pept2prot_combined_clustered95.fasta': 527806\n",
      "📉 Proteins clustered away: 345642 (39.57%)\n"
     ]
    }
   ],
   "source": [
    "\n",
    "def count_proteins_in_fasta(fasta_path):\n",
    "    \"\"\"Count the number of protein entries in a FASTA file.\"\"\"\n",
    "    count = 0\n",
    "    with open(fasta_path, \"r\") as file:\n",
    "        for line in file:\n",
    "            if line.startswith(\">\"):\n",
    "                count += 1\n",
    "    print(f\"🧬 Total proteins in '{fasta_path}': {count}\")\n",
    "    return count\n",
    "\n",
    "# === Example usage ===\n",
    "clustered_path = r\"C:\\Users\\Yusuf\\OneDrive\\LST\\Derde_jaar\\Y3Q4\\Pipeline\\fasta_proteomes\\combined_databases\\pept2taxa_strain200_pept2prot_combined_clustered95.fasta\"\n",
    "original_path  = r\"C:\\Users\\Yusuf\\OneDrive\\LST\\Derde_jaar\\Y3Q4\\Pipeline\\fasta_proteomes\\combined_databases\\pept2taxa_strain200_pept2prot_combined.fasta\"\n",
    "\n",
    "# Run both\n",
    "original_count = count_proteins_in_fasta(original_path)\n",
    "clustered_count = count_proteins_in_fasta(clustered_path)\n",
    "\n",
    "# Difference\n",
    "reduction = original_count - clustered_count\n",
    "print(f\"📉 Proteins clustered away: {reduction} ({(reduction/original_count)*100:.2f}%)\")\n"
   ]
  }
 ],
 "metadata": {
  "kernelspec": {
   "display_name": "Python 3",
   "language": "python",
   "name": "python3"
  },
  "language_info": {
   "codemirror_mode": {
    "name": "ipython",
    "version": 3
   },
   "file_extension": ".py",
   "mimetype": "text/x-python",
   "name": "python",
   "nbconvert_exporter": "python",
   "pygments_lexer": "ipython3",
   "version": "3.9.13"
  }
 },
 "nbformat": 4,
 "nbformat_minor": 5
}
