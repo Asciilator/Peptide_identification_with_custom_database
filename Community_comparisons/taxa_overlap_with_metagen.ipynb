{
 "cells": [
  {
   "cell_type": "markdown",
   "id": "19cabf05",
   "metadata": {},
   "source": [
    "Taxa overlap of query database with metagnomics taxa from raw metagenomics database\n",
    "\n",
    "Why we do this:\n",
    "The raw metagenomics database represents the most comprehensive snapshot of the microbial community present in the sample based on DNA sequencing. By comparing the taxa in our DIAMOND-based protein hits (from custom query databases) to this reference set, we can assess how well our metaproteomics-derived proteins reflect the underlying microbial composition.\n",
    "\n",
    "What the results imply:\n",
    "\n",
    "A high overlap indicates that the identified protein taxa are representative of the microbes in the sample.\n",
    "\n",
    "A low overlap may suggest detection limitations, missing reference proteins, or differences between transcriptomic/proteomic activity and genomic presence.\n",
    "\n",
    "How we do this:\n",
    "We load both:\n",
    "\n",
    "A CSV file of unique taxa detected in the metagenomics DNA reference.\n",
    "\n",
    "The annotated DIAMOND results which contain organism names from matched protein hits.\n",
    "\n",
    "We filter by a selected taxonomic rank (e.g., \"species\") and compute:\n",
    "\n",
    "Unique taxa in each set.\n",
    "\n",
    "The intersection and differences between them.\n",
    "\n",
    "The percentage overlap in both directions (proteomics → genomics and vice versa)."
   ]
  },
  {
   "cell_type": "code",
   "execution_count": 23,
   "id": "0395db21",
   "metadata": {},
   "outputs": [],
   "source": [
    "# === File paths ===\n",
    "# Paste the path of the raw metagenomics taxa CSV file\n",
    "metagenomics_taxa_csv = r\"C:\\Users\\Yusuf\\OneDrive\\LST\\Derde_jaar\\Y3Q4\\Metaproteomics_with_db\\db_results_analysis\\unique_taxa_in_metagendb.csv\"\n",
    "\n",
    "# Paste the path of the query DataFrame CSV file\n",
    "query_df_csv = r\"C:\\Users\\Yusuf\\OneDrive\\LST\\Derde_jaar\\Y3Q4\\Metaproteomics_with_db\\db_results_analysis\\unique_taxa_in_merged_pept2lca.csv\"\n",
    "\n",
    "# Give a label for the query DataFrame\n",
    "query_db_label = \"Pept2lca hits dataframe\"\n",
    "\n",
    "# === CONFIGURATION ===\n",
    "# Choose a taxonomic rank (e.g., strain\", \"species\", \"genus\", etc.)\n",
    "# Set to None to compare all taxa regardless of rank\n",
    "selected_rank = \"genus\"  # ← modify this line only"
   ]
  },
  {
   "cell_type": "code",
   "execution_count": 24,
   "id": "c58291f5",
   "metadata": {},
   "outputs": [
    {
     "name": "stdout",
     "output_type": "stream",
     "text": [
      "Total unique genus taxa in Pept2lca hits dataframe: 7\n",
      "Pept2lca hits dataframe taxa found in metagenomics raw DB (genus): 6\n",
      "Pept2lca hits dataframe taxa NOT found in metagenomics raw DB (genus): 1\n",
      "Percentage of Pept2lca hits dataframe taxa found: 85.71%\n",
      "\n",
      "Total unique genus taxa in metagenomics: 1003\n",
      "Metagenomics raw DB taxa found in Pept2lca hits dataframe (genus): 6\n",
      "Metagenomics raw DB taxa NOT found in Pept2lca hits dataframe (genus): 997\n",
      "Percentage of raw metagenomics taxa found in Pept2lca hits dataframe: 0.60%\n"
     ]
    }
   ],
   "source": [
    "import pandas as pd\n",
    "\n",
    "# === Load and filter metagenomics taxa ===\n",
    "df_meta = pd.read_csv(metagenomics_taxa_csv)\n",
    "if selected_rank:\n",
    "    df_meta = df_meta[df_meta[\"rank\"] == selected_rank]\n",
    "meta_taxa = set(df_meta[\"taxon_name\"])\n",
    "\n",
    "# === Load and filter DIAMOND-based taxa ===\n",
    "df_query = pd.read_csv(query_df_csv)\n",
    "if selected_rank:\n",
    "    df_query = df_query[df_query[\"taxonomy_rank\"] == selected_rank]\n",
    "query_taxa = set(df_query[\"organism\"])\n",
    "\n",
    "# === Compare sets ===\n",
    "query_in_meta = query_taxa & meta_taxa\n",
    "query_not_in_meta = query_taxa - meta_taxa\n",
    "\n",
    "meta_in_query = meta_taxa & query_taxa\n",
    "meta_not_in_query = meta_taxa - query_taxa\n",
    "\n",
    "# === Print results ===\n",
    "print(f\"Total unique {selected_rank} taxa in {query_db_label}: {len(query_taxa)}\")\n",
    "print(f\"{query_db_label} taxa found in metagenomics raw DB ({selected_rank or 'all ranks'}): {len(query_in_meta)}\")\n",
    "print(f\"{query_db_label} taxa NOT found in metagenomics raw DB ({selected_rank or 'all ranks'}): {len(query_not_in_meta)}\")\n",
    "print(f\"Percentage of {query_db_label} taxa found: \"\n",
    "      f\"{(len(query_in_meta) / len(query_taxa)) * 100:.2f}%\" if query_taxa else \"0.00%\")\n",
    "\n",
    "print(f\"\\nTotal unique {selected_rank} taxa in metagenomics: {len(meta_taxa)}\")\n",
    "print(f\"Metagenomics raw DB taxa found in {query_db_label} ({selected_rank or 'all ranks'}): {len(meta_in_query)}\")\n",
    "print(f\"Metagenomics raw DB taxa NOT found in {query_db_label} ({selected_rank or 'all ranks'}): {len(meta_not_in_query)}\")\n",
    "print(f\"Percentage of raw metagenomics taxa found in {query_db_label}: \"\n",
    "      f\"{(len(meta_in_query) / len(meta_taxa)) * 100:.2f}%\" if meta_taxa else \"0.00%\")\n"
   ]
  },
  {
   "cell_type": "markdown",
   "id": "9fcbcbb1",
   "metadata": {},
   "source": [
    "Taxa overlap of query database with metagnomics taxa from psm's\n",
    "\n",
    "Why we do this:\n",
    "This comparison focuses on a more specific subset of the metagenomics database: those protein taxa that actually matched MS/MS spectra in a PSM search. This narrows down the metagenomics DB to only what was detectable via peptide-spectrum matching, making it a stricter comparison.\n",
    "\n",
    "What the results imply:\n",
    "\n",
    "A high overlap shows that the DIAMOND-matched protein taxa from our custom DBs also match those from PSM-based identifications, supporting biological and technical consistency.\n",
    "\n",
    "A low overlap could indicate that our DIAMOND DBs capture complementary protein evidence that was not matched through traditional PSM methods.\n",
    "\n",
    "How we do this:\n",
    "We compare:\n",
    "\n",
    "The unique taxa found in the PSM-annotated metagenomics database, filtered at a chosen rank.\n",
    "\n",
    "Against the unique taxa from the DIAMOND alignment results.\n",
    "\n",
    "We then compute:\n",
    "\n",
    "Counts and percentages of shared and unshared taxa.\n",
    "\n",
    "Insights into how much proteomic signal (from de novo + DIAMOND) overlaps with more confident, PSM-based identifications."
   ]
  },
  {
   "cell_type": "code",
   "execution_count": 25,
   "id": "0c3fe2cd",
   "metadata": {},
   "outputs": [],
   "source": [
    "# === File paths ===\n",
    "# Paste the path of the metagenomics PSM taxa CSV file\n",
    "metagenomics_psm_taxa_csv = r\"C:\\Users\\Yusuf\\OneDrive\\LST\\Derde_jaar\\Y3Q4\\Metaproteomics_with_db\\Community_comparisons\\metagenomics_psm_taxa_annotated.csv\"\n",
    "\n",
    "# Paste the path of the query DataFrame CSV file\n",
    "query_df_csv = r\"C:\\Users\\Yusuf\\OneDrive\\LST\\Derde_jaar\\Y3Q4\\Metaproteomics_with_db\\db_results_analysis\\unique_taxa_in_merged_pept2lca.csv\"\n",
    "\n",
    "# Give a label for the query DataFrame\n",
    "query_db_label = \"Pept2lca hits dataframe\"\n",
    "\n",
    "# === CONFIGURATION ===\n",
    "# Choose a taxonomic rank (e.g., \"strain\", \"species\", \"genus\", etc.)\n",
    "# Set to None to compare all taxa regardless of rank\n",
    "selected_rank = \"genus\"  # ← modify this line only"
   ]
  },
  {
   "cell_type": "code",
   "execution_count": 26,
   "id": "2007431d",
   "metadata": {},
   "outputs": [
    {
     "name": "stdout",
     "output_type": "stream",
     "text": [
      "Total unique genus taxa in Pept2lca hits dataframe: 7\n",
      "Pept2lca hits dataframe taxa found in metagenomics psm DB (genus): 6\n",
      "Pept2lca hits dataframe taxa NOT found in metagenomics psm DB (genus): 1\n",
      "Percentage of Pept2lca hits dataframe taxa found: 85.71%\n",
      "\n",
      "Total unique genus taxa in metagenomics psm: 37\n",
      "Metagenomics psm DB taxa found in Pept2lca hits dataframe (genus): 6\n",
      "Metagenomics psm DB taxa NOT found in Pept2lca hits dataframe (genus): 31\n",
      "Percentage of metagenomics psm taxa found in Pept2lca hits dataframe: 16.22%\n"
     ]
    }
   ],
   "source": [
    "import pandas as pd\n",
    "\n",
    "# === Load and filter metagenomics taxa ===\n",
    "df_meta = pd.read_csv(metagenomics_psm_taxa_csv)\n",
    "if selected_rank:\n",
    "    df_meta = df_meta[df_meta[\"taxon_rank\"] == selected_rank]\n",
    "meta_taxa = set(df_meta[\"taxon_name\"])\n",
    "\n",
    "# === Load and filter DIAMOND-based taxa ===\n",
    "df_query = pd.read_csv(query_df_csv)\n",
    "if selected_rank:\n",
    "    df_query = df_query[df_query[\"taxonomy_rank\"] == selected_rank]\n",
    "query_taxa = set(df_query[\"organism\"])\n",
    "\n",
    "# === Compare sets ===\n",
    "query_in_meta = query_taxa & meta_taxa\n",
    "query_not_in_meta = query_taxa - meta_taxa\n",
    "\n",
    "meta_in_query = meta_taxa & query_taxa\n",
    "meta_not_in_query = meta_taxa - query_taxa\n",
    "\n",
    "# === Print results ===\n",
    "print(f\"Total unique {selected_rank} taxa in {query_db_label}: {len(query_taxa)}\")\n",
    "print(f\"{query_db_label} taxa found in metagenomics psm DB ({selected_rank or 'all ranks'}): {len(query_in_meta)}\")\n",
    "print(f\"{query_db_label} taxa NOT found in metagenomics psm DB ({selected_rank or 'all ranks'}): {len(query_not_in_meta)}\")\n",
    "print(f\"Percentage of {query_db_label} taxa found: \"\n",
    "      f\"{(len(query_in_meta) / len(query_taxa)) * 100:.2f}%\" if query_taxa else \"0.00%\")\n",
    "\n",
    "print(f\"\\nTotal unique {selected_rank} taxa in metagenomics psm: {len(meta_taxa)}\")\n",
    "print(f\"Metagenomics psm DB taxa found in {query_db_label} ({selected_rank or 'all ranks'}): {len(meta_in_query)}\")\n",
    "print(f\"Metagenomics psm DB taxa NOT found in {query_db_label} ({selected_rank or 'all ranks'}): {len(meta_not_in_query)}\")\n",
    "print(f\"Percentage of metagenomics psm taxa found in {query_db_label}: \"\n",
    "      f\"{(len(meta_in_query) / len(meta_taxa)) * 100:.2f}%\" if meta_taxa else \"0.00%\")"
   ]
  }
 ],
 "metadata": {
  "kernelspec": {
   "display_name": "Python 3",
   "language": "python",
   "name": "python3"
  },
  "language_info": {
   "codemirror_mode": {
    "name": "ipython",
    "version": 3
   },
   "file_extension": ".py",
   "mimetype": "text/x-python",
   "name": "python",
   "nbconvert_exporter": "python",
   "pygments_lexer": "ipython3",
   "version": "3.9.13"
  }
 },
 "nbformat": 4,
 "nbformat_minor": 5
}
