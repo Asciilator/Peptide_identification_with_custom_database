{
 "cells": [
  {
   "cell_type": "markdown",
   "id": "d5312386",
   "metadata": {},
   "source": [
    "Taxa overlap of query database with metagnomics taxa from raw metagenomics database"
   ]
  },
  {
   "cell_type": "code",
   "execution_count": 3,
   "id": "0395db21",
   "metadata": {},
   "outputs": [],
   "source": [
    "# === File paths ===\n",
    "# Paste the path of the raw metagenomics taxa CSV file\n",
    "metagenomics_taxa_csv = r\"C:\\Users\\Yusuf\\OneDrive\\LST\\Derde_jaar\\Y3Q4\\Metaproteomics_with_db\\db_results_analysis\\unique_taxa_in_metagendb.csv\"\n",
    "\n",
    "# Paste the path of the query DataFrame CSV file\n",
    "query_df_csv = r\"C:\\Users\\Yusuf\\OneDrive\\LST\\Derde_jaar\\Y3Q4\\Metaproteomics_with_db\\pipelines\\Diamond_alignments\\diamond_df_rank_annotated.csv\"\n",
    "\n",
    "# Give a label for the query DataFrame\n",
    "query_db_label = \"Diamond hits dataframe\"\n",
    "\n",
    "# === CONFIGURATION ===\n",
    "# Choose a taxonomic rank (e.g., \"species\", \"genus\", etc.)\n",
    "# Set to None to compare all taxa regardless of rank\n",
    "selected_rank = \"species\"  # ← modify this line only"
   ]
  },
  {
   "cell_type": "code",
   "execution_count": 7,
   "id": "c58291f5",
   "metadata": {},
   "outputs": [
    {
     "name": "stdout",
     "output_type": "stream",
     "text": [
      "Total unique species taxa in Diamond hits dataframe: 267\n",
      "Diamond hits dataframe taxa found in metagenomics raw DB (species): 175\n",
      "Diamond hits dataframe taxa NOT found in metagenomics raw DB (species): 92\n",
      "Percentage of Diamond hits dataframe taxa found: 65.54%\n",
      "\n",
      "Total unique species taxa in metagenomics: 9474\n",
      "Metagenomics raw DB taxa found in Diamond hits dataframe (species): 175\n",
      "Metagenomics raw DB taxa NOT found in Diamond hits dataframe (species): 9299\n",
      "Percentage of raw metagenomics taxa found in Diamond hits dataframe: 1.85%\n"
     ]
    }
   ],
   "source": [
    "import pandas as pd\n",
    "\n",
    "# === Load and filter metagenomics taxa ===\n",
    "df_meta = pd.read_csv(metagenomics_taxa_csv)\n",
    "if selected_rank:\n",
    "    df_meta = df_meta[df_meta[\"rank\"] == selected_rank]\n",
    "meta_taxa = set(df_meta[\"taxon_name\"])\n",
    "\n",
    "# === Load and filter DIAMOND-based taxa ===\n",
    "df_query = pd.read_csv(query_df_csv)\n",
    "if selected_rank:\n",
    "    df_query = df_query[df_query[\"taxonomy_rank\"] == selected_rank]\n",
    "query_taxa = set(df_query[\"organism\"])\n",
    "\n",
    "# === Compare sets ===\n",
    "query_in_meta = query_taxa & meta_taxa\n",
    "query_not_in_meta = query_taxa - meta_taxa\n",
    "\n",
    "meta_in_query = meta_taxa & query_taxa\n",
    "meta_not_in_query = meta_taxa - query_taxa\n",
    "\n",
    "# === Print results ===\n",
    "print(f\"Total unique {selected_rank} taxa in {query_db_label}: {len(query_taxa)}\")\n",
    "print(f\"{query_db_label} taxa found in metagenomics raw DB ({selected_rank or 'all ranks'}): {len(query_in_meta)}\")\n",
    "print(f\"{query_db_label} taxa NOT found in metagenomics raw DB ({selected_rank or 'all ranks'}): {len(query_not_in_meta)}\")\n",
    "print(f\"Percentage of {query_db_label} taxa found: \"\n",
    "      f\"{(len(query_in_meta) / len(query_taxa)) * 100:.2f}%\" if query_taxa else \"0.00%\")\n",
    "\n",
    "print(f\"\\nTotal unique {selected_rank} taxa in metagenomics: {len(meta_taxa)}\")\n",
    "print(f\"Metagenomics raw DB taxa found in {query_db_label} ({selected_rank or 'all ranks'}): {len(meta_in_query)}\")\n",
    "print(f\"Metagenomics raw DB taxa NOT found in {query_db_label} ({selected_rank or 'all ranks'}): {len(meta_not_in_query)}\")\n",
    "print(f\"Percentage of raw metagenomics taxa found in {query_db_label}: \"\n",
    "      f\"{(len(meta_in_query) / len(meta_taxa)) * 100:.2f}%\" if meta_taxa else \"0.00%\")\n"
   ]
  },
  {
   "cell_type": "markdown",
   "id": "41f25f47",
   "metadata": {},
   "source": [
    "Taxa overlap of query database with metagnomics taxa from psm's"
   ]
  },
  {
   "cell_type": "code",
   "execution_count": 12,
   "id": "0c3fe2cd",
   "metadata": {},
   "outputs": [],
   "source": [
    "# === File paths ===\n",
    "# Paste the path of the metagenomics PSM taxa CSV file\n",
    "metagenomics_psm_taxa_csv = r\"C:\\Users\\Yusuf\\OneDrive\\LST\\Derde_jaar\\Y3Q4\\Metaproteomics_with_db\\db_results_analysis\\unique_taxa_in_metagenpsmdb.csv\"\n",
    "\n",
    "# Paste the path of the query DataFrame CSV file\n",
    "query_df_csv = r\"C:\\Users\\Yusuf\\OneDrive\\LST\\Derde_jaar\\Y3Q4\\Metaproteomics_with_db\\pipelines\\Diamond_alignments\\diamond_df_rank_annotated.csv\"\n",
    "\n",
    "# Give a label for the query DataFrame\n",
    "query_db_label = \"Diamond hits\"\n",
    "\n",
    "# === CONFIGURATION ===\n",
    "# Choose a taxonomic rank (e.g., \"species\", \"genus\", etc.)\n",
    "# Set to None to compare all taxa regardless of rank\n",
    "selected_rank = \"species\"  # ← modify this line only"
   ]
  },
  {
   "cell_type": "code",
   "execution_count": 13,
   "id": "2007431d",
   "metadata": {},
   "outputs": [
    {
     "name": "stdout",
     "output_type": "stream",
     "text": [
      "Total unique species taxa in Diamond hits: 267\n",
      "Diamond hits taxa found in metagenomics psm DB (species): 54\n",
      "Diamond hits taxa NOT found in metagenomics psm DB (species): 213\n",
      "Percentage of Diamond hits taxa found: 20.22%\n",
      "\n",
      "Total unique species taxa in metagenomics psm: 152\n",
      "Metagenomics psm DB taxa found in Diamond hits (species): 54\n",
      "Metagenomics psm DB taxa NOT found in Diamond hits (species): 98\n",
      "Percentage of metagenomics psm taxa found in Diamond hits: 35.53%\n"
     ]
    }
   ],
   "source": [
    "import pandas as pd\n",
    "\n",
    "# === Load and filter metagenomics taxa ===\n",
    "df_meta = pd.read_csv(metagenomics_psm_taxa_csv)\n",
    "if selected_rank:\n",
    "    df_meta = df_meta[df_meta[\"taxon_rank\"] == selected_rank]\n",
    "meta_taxa = set(df_meta[\"taxon_name\"])\n",
    "\n",
    "# === Load and filter DIAMOND-based taxa ===\n",
    "df_query = pd.read_csv(query_df_csv)\n",
    "if selected_rank:\n",
    "    df_query = df_query[df_query[\"taxonomy_rank\"] == selected_rank]\n",
    "query_taxa = set(df_query[\"organism\"])\n",
    "\n",
    "# === Compare sets ===\n",
    "query_in_meta = query_taxa & meta_taxa\n",
    "query_not_in_meta = query_taxa - meta_taxa\n",
    "\n",
    "meta_in_query = meta_taxa & query_taxa\n",
    "meta_not_in_query = meta_taxa - query_taxa\n",
    "\n",
    "# === Print results ===\n",
    "print(f\"Total unique {selected_rank} taxa in {query_db_label}: {len(query_taxa)}\")\n",
    "print(f\"{query_db_label} taxa found in metagenomics psm DB ({selected_rank or 'all ranks'}): {len(query_in_meta)}\")\n",
    "print(f\"{query_db_label} taxa NOT found in metagenomics psm DB ({selected_rank or 'all ranks'}): {len(query_not_in_meta)}\")\n",
    "print(f\"Percentage of {query_db_label} taxa found: \"\n",
    "      f\"{(len(query_in_meta) / len(query_taxa)) * 100:.2f}%\" if query_taxa else \"0.00%\")\n",
    "\n",
    "print(f\"\\nTotal unique {selected_rank} taxa in metagenomics psm: {len(meta_taxa)}\")\n",
    "print(f\"Metagenomics psm DB taxa found in {query_db_label} ({selected_rank or 'all ranks'}): {len(meta_in_query)}\")\n",
    "print(f\"Metagenomics psm DB taxa NOT found in {query_db_label} ({selected_rank or 'all ranks'}): {len(meta_not_in_query)}\")\n",
    "print(f\"Percentage of metagenomics psm taxa found in {query_db_label}: \"\n",
    "      f\"{(len(meta_in_query) / len(meta_taxa)) * 100:.2f}%\" if meta_taxa else \"0.00%\")"
   ]
  }
 ],
 "metadata": {
  "kernelspec": {
   "display_name": "Python 3",
   "language": "python",
   "name": "python3"
  },
  "language_info": {
   "codemirror_mode": {
    "name": "ipython",
    "version": 3
   },
   "file_extension": ".py",
   "mimetype": "text/x-python",
   "name": "python",
   "nbconvert_exporter": "python",
   "pygments_lexer": "ipython3",
   "version": "3.9.13"
  }
 },
 "nbformat": 4,
 "nbformat_minor": 5
}
