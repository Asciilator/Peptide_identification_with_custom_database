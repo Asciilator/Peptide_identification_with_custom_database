{
 "cells": [
  {
   "cell_type": "code",
   "execution_count": 17,
   "id": "f6d13378",
   "metadata": {},
   "outputs": [
    {
     "name": "stdout",
     "output_type": "stream",
     "text": [
      "Base path of the project: c:\\Users\\Yusuf\\OneDrive\\LST\\Derde_jaar\\Y3Q4\\Metaproteomics_with_db\n"
     ]
    }
   ],
   "source": [
    "from pathlib import Path\n",
    "\n",
    "# Automatically get the base path of your project\n",
    "base_path = Path.cwd().parents[0]  # adjust .parents[0] if needed\n",
    "print(\"Base path of the project:\", base_path)"
   ]
  },
  {
   "cell_type": "markdown",
   "id": "1ace9b2c",
   "metadata": {},
   "source": [
    "## Step 1: Define the Query Database and Label\n",
    "\n",
    "In this step, we specify which protein database we want to compare against the **metagenomics reference database**. This custom query database contains proteins we previously selected, clustered, or filtered using specific strategies (e.g., top-ranked taxa, clustering at 95% identity, etc.).\n",
    "\n",
    "### Why we do this:\n",
    "- It defines the **input protein database** for the overlap comparison.\n",
    "- This helps assess how well your constructed protein database represents the proteomic space found in the metagenomics sample.\n",
    "- The `query_db_label` ensures all results and logs are clearly labeled, especially when analyzing multiple databases.\n",
    "\n",
    "### How this fits in the pipeline:\n",
    "- It sets the stage for all subsequent steps, including DIAMOND alignment and overlap analysis.\n",
    "- Every result calculated later (e.g., matched proteins, percentages) will be based on this database.\n"
   ]
  },
  {
   "cell_type": "code",
   "execution_count": 2,
   "id": "f06d2eb6",
   "metadata": {},
   "outputs": [],
   "source": [
    "# Paste the file path of the database you want to compare with the metagenomics database between the quotes\n",
    "query_db = r\"C:\\Users\\Yusuf\\OneDrive\\LST\\Derde_jaar\\Y3Q4\\Metaproteomics_with_db\\pipelines\\Diamond_alignments\\session_diamond_align_2025-06-01_21-39-27\\all_diamond_proteins_combined_uniprotkb.fasta\"\n",
    "\n",
    "# Define a short label for the database; this will be used in print statements and summary reports\n",
    "query_db_label = \"Diamond_proteins_uniprotkb\""
   ]
  },
  {
   "cell_type": "code",
   "execution_count": 27,
   "id": "9a519801",
   "metadata": {},
   "outputs": [
    {
     "name": "stdout",
     "output_type": "stream",
     "text": [
      "Total number of protein entries in C:\\Users\\Yusuf\\OneDrive\\LST\\Derde_jaar\\Y3Q4\\Metaproteomics_with_db\\pipelines\\Diamond_alignments\\session_diamond_align_2025-06-01_21-39-27\\all_diamond_proteins_combined_uniprotkb.fasta: 1246240\n"
     ]
    }
   ],
   "source": [
    "def count_fasta_entries(fasta_path):\n",
    "    count = 0\n",
    "    with open(fasta_path, 'r') as f:\n",
    "        for line in f:\n",
    "            if line.startswith('>'):\n",
    "                count += 1\n",
    "    return count\n",
    "\n",
    "# Assuming query_db is defined\n",
    "num_proteins = count_fasta_entries(query_db)\n",
    "print(f\"Total number of protein entries in {query_db}: {num_proteins}\")\n"
   ]
  },
  {
   "cell_type": "markdown",
   "id": "55ed66a8",
   "metadata": {},
   "source": [
    "## Step 2: Build a DIAMOND Database from the Query FASTA\n",
    "\n",
    "DIAMOND requires that input protein sequences be compiled into its own binary `.dmnd` format for fast and efficient alignments. This step ensures that your custom protein database is in the correct format before running any alignments.\n",
    "\n",
    "### Why we do this:\n",
    "- DIAMOND does not work directly with `.fasta` files — it needs a `.dmnd` file.\n",
    "- By automating this step, we avoid errors and ensure the database is ready for alignment.\n",
    "- The check prevents unnecessary recomputation if the `.dmnd` already exists.\n",
    "\n",
    "### How this fits in the pipeline:\n",
    "- This is a one-time setup step per protein database.\n",
    "- It prepares your custom FASTA file for alignment against the metagenomics database in the next step.\n"
   ]
  },
  {
   "cell_type": "code",
   "execution_count": 24,
   "id": "4eceea67",
   "metadata": {},
   "outputs": [
    {
     "name": "stdout",
     "output_type": "stream",
     "text": [
      "Creating DIAMOND database for: C:\\Users\\Yusuf\\OneDrive\\LST\\Derde_jaar\\Y3Q4\\Metaproteomics_with_db\\pipelines\\Diamond_alignments\\session_diamond_align_2025-06-01_21-39-27\\all_diamond_proteins_combined_uniprotkb.fasta\n",
      "DIAMOND DB created.\n"
     ]
    }
   ],
   "source": [
    "import os\n",
    "import subprocess\n",
    "from pathlib import Path\n",
    "\n",
    "# === Configuration ===\n",
    "\n",
    "# Get the base directory of the project (1 level above current working directory)\n",
    "base_path = Path.cwd().parents[0]\n",
    "\n",
    "# Path to the DIAMOND executable (adjust if needed)\n",
    "diamond_exe = base_path / \"software_tools\" / \"diamond.exe\"\n",
    "\n",
    "# Derive the path to the DIAMOND database (.dmnd) from the query FASTA file path\n",
    "# Example: input.fasta → input.dmnd\n",
    "diamond_db_path = os.path.splitext(query_db)[0]\n",
    "\n",
    "\n",
    "# === Function to check and create DIAMOND database ===\n",
    "\n",
    "def ensure_diamond_db(fasta_file: str, diamond_db: str):\n",
    "    # Only build the .dmnd file if it does not already exist\n",
    "    if not os.path.exists(diamond_db + \".dmnd\"):\n",
    "        print(f\"Creating DIAMOND database for: {fasta_file}\")\n",
    "        \n",
    "        # Run DIAMOND makedb command to create a .dmnd from the FASTA input\n",
    "        subprocess.run([\n",
    "            diamond_exe, \"makedb\",\n",
    "            \"--in\", fasta_file,    # Input FASTA file\n",
    "            \"-d\", diamond_db       # Output DB name (without .dmnd extension)\n",
    "        ], check=True)\n",
    "\n",
    "        print(\"DIAMOND DB created.\")\n",
    "    else:\n",
    "        # If the .dmnd file already exists, skip rebuilding\n",
    "        print(f\"DIAMOND DB already exists: {diamond_db}.dmnd\")\n",
    "\n",
    "# === Call the function to ensure DIAMOND DB exists for the query FASTA ===\n",
    "ensure_diamond_db(query_db, diamond_db_path)\n"
   ]
  },
  {
   "cell_type": "markdown",
   "id": "57239012",
   "metadata": {},
   "source": [
    "## Step 3: Run DIAMOND Alignment Against Metagenomics Proteins\n",
    "\n",
    "This step performs a **DIAMOND alignment** to compare your custom protein database against the metagenomics reference database. The goal is to find which metagenomics proteins are captured (i.e. matched) by your query database using meaningful alignment thresholds.\n",
    "\n",
    "### Why we do this:\n",
    "- This allows you to **quantify overlap** between your reduced database and the full metagenomics database.\n",
    "- DIAMOND is used here for its **speed and accuracy** in aligning large protein sets.\n",
    "- A progress bar is added for usability, especially when aligning millions of sequences.\n",
    "\n",
    "### Alignment parameters:\n",
    "- `--id 70`: minimum 70% identity — moderate stringency to ensure biologically relevant matches.\n",
    "- `--query-cover 80`: at least 80% of the query must align.\n",
    "- `--evalue 1e-5`: filters out random or weak hits.\n",
    "- `--max-target-seqs 1`: only retain the best match per query.\n",
    "\n",
    "### How this fits in the pipeline:\n",
    "- This step produces the `.m8` alignment file used for downstream **coverage and overlap statistics**.\n",
    "- It forms the basis for evaluating the **representativeness** of your custom database.\n"
   ]
  },
  {
   "cell_type": "code",
   "execution_count": 4,
   "id": "c39298d8",
   "metadata": {},
   "outputs": [
    {
     "name": "stdout",
     "output_type": "stream",
     "text": [
      "Estimating 1647471 proteins for alignment...\n",
      "Running DIAMOND alignment...\n"
     ]
    },
    {
     "name": "stderr",
     "output_type": "stream",
     "text": [
      "Aligning proteins: 100%|██████████| 1647471/1647471 [09:35<00:00, 2860.21seq/s]"
     ]
    },
    {
     "name": "stdout",
     "output_type": "stream",
     "text": [
      "Alignment complete. Output saved to: c:\\Users\\Yusuf\\OneDrive\\LST\\Derde_jaar\\Y3Q4\\Metaproteomics_with_db\\db_results_analysis\\Diamond_alignments\\Diamond_proteins_uniprotkb_aligned_with_metagenomicsdb.m8\n"
     ]
    },
    {
     "name": "stderr",
     "output_type": "stream",
     "text": [
      "\n"
     ]
    }
   ],
   "source": [
    "import subprocess\n",
    "import os\n",
    "from pathlib import Path\n",
    "from tqdm import tqdm\n",
    "\n",
    "# === Paths ===\n",
    "\n",
    "# Get base project directory\n",
    "base_path = Path.cwd().parents[0]\n",
    "\n",
    "# Path to DIAMOND executable\n",
    "diamond_exe = base_path / \"software_tools\" / \"diamond.exe\"\n",
    "\n",
    "# Path to the metagenomics reference protein database (FASTA)\n",
    "metagen_db = base_path / \"db_psm_results\" / \"Metagenomics_db\" / \"GW_proteins_CD_clean.fasta\"\n",
    "\n",
    "# Output path for the alignment results (.m8 format)\n",
    "output_file = base_path / \"db_results_analysis\" / \"Diamond_alignments\" / f\"{query_db_label}_aligned_with_metagenomicsdb.m8\"\n",
    "\n",
    "\n",
    "# === Step 1: Estimate number of proteins in the metagenomics DB ===\n",
    "\n",
    "def count_fasta_headers(fasta_path):\n",
    "    # Counts the number of FASTA headers (lines starting with '>') in the file\n",
    "    with open(fasta_path) as f:\n",
    "        return sum(1 for line in f if line.startswith(\">\"))\n",
    "\n",
    "# Count proteins to configure progress bar\n",
    "n_proteins = count_fasta_headers(metagen_db)\n",
    "print(f\"Estimating {n_proteins} proteins for alignment...\")\n",
    "\n",
    "\n",
    "# === Step 2: Run DIAMOND alignment with a live progress bar ===\n",
    "\n",
    "print(\"Running DIAMOND alignment...\")\n",
    "\n",
    "# Set up a progress bar using tqdm\n",
    "with tqdm(total=n_proteins, desc=\"Aligning proteins\", unit=\"seq\") as pbar:\n",
    "    \n",
    "    # Launch DIAMOND as a subprocess\n",
    "    process = subprocess.Popen([\n",
    "        str(diamond_exe), \"blastp\",              # DIAMOND mode: protein vs protein\n",
    "        \"--query\", str(metagen_db),              # Use the metagenomics DB as query\n",
    "        \"--db\", str(diamond_db_path) + \".dmnd\",  # Search against the prebuilt DIAMOND DB\n",
    "        \"--out\", str(output_file),               # Save alignment output here\n",
    "        \"--outfmt\", \"6\",                         # BLAST tabular output (.m8)\n",
    "        \"--threads\", \"12\",                       # Use 12 CPU threads (adjustable)\n",
    "        \"--max-target-seqs\", \"1\",                # Only return top 1 best match per query\n",
    "        #\"--evalue\", \"1e-5\",                      # E-value cutoff to avoid random hits\n",
    "        #\"--id\", \"60\",                            # Minimum 60% identity required\n",
    "        #\"--query-cover\", \"70\",                   # Minimum 70% of query must align\n",
    "        \"--fast\"\n",
    "    ], stderr=subprocess.PIPE, text=True)\n",
    "\n",
    "    # Read DIAMOND's stderr to update progress bar (if supported by output)\n",
    "    while True:\n",
    "        line = process.stderr.readline()\n",
    "        if not line:\n",
    "            break\n",
    "        if \"Processed\" in line:\n",
    "            try:\n",
    "                # Try to extract processed sequence count and update progress bar\n",
    "                processed = int(line.strip().split()[1])\n",
    "                pbar.n = processed\n",
    "                pbar.refresh()\n",
    "            except:\n",
    "                pass\n",
    "\n",
    "    # Wait for DIAMOND to finish\n",
    "    process.wait()\n",
    "\n",
    "    # Final update of progress bar after completion\n",
    "    pbar.n = n_proteins\n",
    "    pbar.refresh()\n",
    "\n",
    "# Notify user that alignment has completed\n",
    "print(f\"Alignment complete. Output saved to: {output_file}\")\n"
   ]
  },
  {
   "cell_type": "markdown",
   "id": "d7487d39",
   "metadata": {},
   "source": [
    "## Step 4: Analyze Alignment Results — Overlap and Coverage Statistics\n",
    "\n",
    "After the DIAMOND alignment, we now compute how much **overlap** exists between the proteins in the metagenomics database and your custom query database.\n",
    "\n",
    "### Why we do this:\n",
    "- To evaluate **how well your constructed protein DB covers the sample's proteomic space**.\n",
    "- It allows you to determine:\n",
    "  - Which proteins in your custom DB were actually found in the metagenomics dataset.\n",
    "  - How many proteins from the metagenomics dataset were captured by your DB.\n",
    "\n",
    "### Metrics calculated:\n",
    "- Total proteins in each database.\n",
    "- Number of **matched** and **unmatched** proteins.\n",
    "- Percentage of proteins in the query DB found in the metagenomics DB (forward overlap).\n",
    "- Percentage of proteins in the metagenomics DB matched by the query DB (reverse coverage).\n",
    "\n",
    "### How this fits in the pipeline:\n",
    "- These statistics give **quantitative feedback** about how representative and useful your custom database is for peptide spectrum matching.\n"
   ]
  },
  {
   "cell_type": "code",
   "execution_count": 42,
   "id": "f86e51f5",
   "metadata": {},
   "outputs": [
    {
     "name": "stdout",
     "output_type": "stream",
     "text": [
      "Total proteins in Diamond_proteins_uniprotkb DB: 1246240\n",
      "Diamond_proteins_uniprotkb proteins found in metagenomics DB: 431383\n",
      "Diamond_proteins_uniprotkb proteins NOT found in metagenomics DB: 814857\n",
      "Percentage of Diamond_proteins_uniprotkb proteins found in metagenomics DB: 34.61%\n",
      "\n",
      "Total proteins in metagenomics DB: 1647471\n",
      "Metagenomics proteins that match Diamond_proteins_uniprotkb DB: 388367\n",
      "Metagenomics proteins NOT matching Diamond_proteins_uniprotkb DB: 1259104\n",
      "Percentage of metagenomics proteins matching Diamond_proteins_uniprotkb DB: 23.57%\n"
     ]
    }
   ],
   "source": [
    "from pathlib import Path\n",
    "\n",
    "# === Paths ===\n",
    "alignment_result = output_file\n",
    "\n",
    "# === Load all protein IDs from FASTA ===\n",
    "\n",
    "def load_all_fasta_headers(fasta_path):\n",
    "    \"\"\"\n",
    "    Load all protein IDs from a FASTA file (one per header), including duplicates.\n",
    "    Extract only the first token after '>'.\n",
    "    \"\"\"\n",
    "    headers = []\n",
    "    with open(fasta_path) as f:\n",
    "        for line in f:\n",
    "            if line.startswith(\">\"):\n",
    "                header = line[1:].strip().split()[0]\n",
    "                if '|' in header:\n",
    "                    parts = header.split('|')\n",
    "                    headers.append(parts[1])  # UniProt accession (e.g. A0A697HT45)\n",
    "                else:\n",
    "                    headers.append(header)\n",
    "    return headers\n",
    "\n",
    "# Load all headers\n",
    "querydb_ids = load_all_fasta_headers(query_db)  # Now includes all 1.24M proteins\n",
    "meta_ids = set(load_all_fasta_headers(metagen_db))  # still deduplicated\n",
    "\n",
    "# === Parse alignment results ===\n",
    "\n",
    "aligned_querydb_ids = set()\n",
    "aligned_meta_ids = set()\n",
    "\n",
    "with open(alignment_result) as f:\n",
    "    for line in f:\n",
    "        parts = line.strip().split()\n",
    "        if len(parts) >= 2:\n",
    "            query_id = parts[0]\n",
    "            subject_id = parts[1]\n",
    "            # Clean up subject and query IDs just like above\n",
    "            query_id = query_id.split('|')[1] if '|' in query_id else query_id\n",
    "            subject_id = subject_id.split('|')[1] if '|' in subject_id else subject_id\n",
    "            aligned_meta_ids.add(query_id)\n",
    "            aligned_querydb_ids.add(subject_id)\n",
    "\n",
    "# === Count matches ===\n",
    "querydb_total = len(querydb_ids)\n",
    "querydb_matched = sum(1 for pid in querydb_ids if pid in aligned_querydb_ids)\n",
    "querydb_unmatched = querydb_total - querydb_matched\n",
    "\n",
    "# === Report ===\n",
    "print(f\"Total proteins in {query_db_label} DB: {querydb_total}\")\n",
    "print(f\"{query_db_label} proteins found in metagenomics DB: {querydb_matched}\")\n",
    "print(f\"{query_db_label} proteins NOT found in metagenomics DB: {querydb_unmatched}\")\n",
    "print(f\"Percentage of {query_db_label} proteins found in metagenomics DB: {querydb_matched / querydb_total * 100:.2f}%\")\n",
    "\n",
    "print(f\"\\nTotal proteins in metagenomics DB: {len(meta_ids)}\")\n",
    "print(f\"Metagenomics proteins that match {query_db_label} DB: {len(aligned_meta_ids)}\")\n",
    "print(f\"Metagenomics proteins NOT matching {query_db_label} DB: {len(meta_ids - aligned_meta_ids)}\")\n",
    "print(f\"Percentage of metagenomics proteins matching {query_db_label} DB: {len(aligned_meta_ids) / len(meta_ids) * 100:.2f}%\")\n"
   ]
  }
 ],
 "metadata": {
  "kernelspec": {
   "display_name": "Python 3",
   "language": "python",
   "name": "python3"
  },
  "language_info": {
   "codemirror_mode": {
    "name": "ipython",
    "version": 3
   },
   "file_extension": ".py",
   "mimetype": "text/x-python",
   "name": "python",
   "nbconvert_exporter": "python",
   "pygments_lexer": "ipython3",
   "version": "3.9.13"
  }
 },
 "nbformat": 4,
 "nbformat_minor": 5
}
