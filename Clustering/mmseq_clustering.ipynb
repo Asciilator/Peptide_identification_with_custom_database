{
 "cells": [
  {
   "cell_type": "code",
   "execution_count": 1,
   "id": "4d0c2e5e",
   "metadata": {},
   "outputs": [
    {
     "name": "stdout",
     "output_type": "stream",
     "text": [
      "Base path of the project: c:\\Users\\Yusuf\\OneDrive\\LST\\Derde_jaar\\Y3Q4\\Metaproteomics_with_db\n"
     ]
    }
   ],
   "source": [
    "from pathlib import Path\n",
    "\n",
    "# Automatically get the base path of your project\n",
    "base_path = Path.cwd().parents[0]  # adjust .parents[0] if needed\n",
    "print(\"Base path of the project:\", base_path)"
   ]
  },
  {
   "cell_type": "code",
   "execution_count": null,
   "id": "7ea88ba6",
   "metadata": {},
   "outputs": [],
   "source": [
    "# This code is more robust and will work regardless of the current working directory.\n",
    "# Make sure that base_path is defined correctly.\n",
    "# Ensure the required packages are installed from the requirements.txt file\n",
    "!pip3 install -r \"{base_path}/requirements.txt\""
   ]
  },
  {
   "cell_type": "code",
   "execution_count": null,
   "id": "20362b88",
   "metadata": {},
   "outputs": [],
   "source": [
    "# Paste the path to the input FASTA file that you want to cluster between the quotes below.\n",
    "input_fasta_win = r\"input_sequences.fasta\" "
   ]
  },
  {
   "cell_type": "code",
   "execution_count": null,
   "id": "a8b8f901",
   "metadata": {},
   "outputs": [],
   "source": [
    "import os\n",
    "import subprocess\n",
    "from Bio import SeqIO\n",
    "import pandas as pd\n",
    "\n",
    "# === 1. Input and Output paths ===\n",
    "input_fasta_wsl = \"/mnt/\" + input_fasta_win.replace(\"\\\\\", \"/\").replace(\":\", \"\").replace(\"C\", \"c\")\n",
    "identity_threshold = 50  # Choose the cluster identity threshold in % (0-100)\n",
    "\n",
    "output_fasta_win = input_fasta_win.replace(\".fasta\", f\"_clustered{identity_threshold}.fasta\")\n",
    "output_fasta_wsl = \"/mnt/\" + output_fasta_win.replace(\"\\\\\", \"/\").replace(\":\", \"\").replace(\"C\", \"c\")\n",
    "\n",
    "# === 2. MMseqs2 clustering steps ===\n",
    "commands = [\n",
    "    f\"wsl mmseqs createdb {input_fasta_wsl} db\",\n",
    "    f\"wsl mmseqs cluster db clust tmp --min-seq-id {identity_threshold/100} -c 0.8\",\n",
    "    \"wsl mmseqs createtsv db db clust clusters.tsv\",\n",
    "    \"wsl mmseqs createsubdb clust db rep\",\n",
    "    f\"wsl mmseqs result2flat db db rep clustered_raw.fasta\"\n",
    "]\n",
    "\n",
    "def run(cmd):\n",
    "    print(f\"Running: {cmd}\")\n",
    "    result = subprocess.run(cmd, shell=True, text=True, capture_output=True)\n",
    "    if result.returncode != 0:\n",
    "        print(result.stdout)\n",
    "        print(result.stderr)\n",
    "        raise RuntimeError(\"Command failed.\")\n",
    "\n",
    "for cmd in commands:\n",
    "    run(cmd)\n",
    "\n",
    "# === 3. Enrich headers ===\n",
    "clusters_df = pd.read_csv(\"clusters.tsv\", sep=\"\\t\", header=None, names=[\"member\", \"representative\"])\n",
    "cluster_map = clusters_df.groupby(\"representative\")[\"member\"].apply(list).to_dict()\n",
    "\n",
    "# Store original full headers to keep protein name and taxid\n",
    "original_headers = {}\n",
    "for rec in SeqIO.parse(input_fasta_win, \"fasta\"):\n",
    "    original_headers[rec.id] = rec.description\n",
    "\n",
    "# Load representative sequences\n",
    "rep_records = list(SeqIO.parse(\"clustered_raw.fasta\", \"fasta\"))\n",
    "\n",
    "for rec in rep_records:\n",
    "    rep_id = rec.id\n",
    "    members = cluster_map.get(rep_id, [rep_id])\n",
    "    size = len(members)\n",
    "\n",
    "    # Retrieve original metadata-rich header\n",
    "    original_header = original_headers.get(rep_id, rep_id)\n",
    "\n",
    "    # Replace default description with enriched metadata\n",
    "    rec.description = f\"{original_header} | Cluster={rep_id} | Members={','.join(members)} | Size={size}\"\n",
    "\n",
    "# === 4. Save final clustered file with enriched headers ===\n",
    "SeqIO.write(rep_records, output_fasta_win, \"fasta\")\n",
    "print(f\"\\nClustered file written to:\\n{output_fasta_win}\")"
   ]
  },
  {
   "cell_type": "code",
   "execution_count": null,
   "id": "b5b86dae",
   "metadata": {},
   "outputs": [],
   "source": [
    "def count_proteins_in_fasta(fasta_path):\n",
    "    \"\"\"Count the number of protein entries in a FASTA file.\"\"\"\n",
    "    count = 0\n",
    "    with open(fasta_path, \"r\") as file:\n",
    "        for line in file:\n",
    "            if line.startswith(\">\"):\n",
    "                count += 1\n",
    "    print(f\"Total proteins in '{fasta_path}': {count}\")\n",
    "    return count\n",
    "\n",
    "# === Example usage ===\n",
    "clustered_path = output_fasta_win\n",
    "original_path  = input_fasta_win\n",
    "\n",
    "# Run both\n",
    "original_count = count_proteins_in_fasta(original_path)\n",
    "clustered_count = count_proteins_in_fasta(clustered_path)\n",
    "\n",
    "# Difference\n",
    "reduction = original_count - clustered_count\n",
    "print(f\"Proteins clustered away: {reduction} ({(reduction/original_count)*100:.2f}%)\")"
   ]
  },
  {
   "cell_type": "code",
   "execution_count": null,
   "id": "8e746895",
   "metadata": {},
   "outputs": [],
   "source": [
    "from Bio import SeqIO\n",
    "from pathlib import Path\n",
    "\n",
    "# === 1. Input file paths ===\n",
    "clustered_fasta_path = Path(output_fasta_win)\n",
    "unclustered_fasta_path = Path(original_path)\n",
    "output_fasta_path = clustered_fasta_path.with_name(clustered_fasta_path.stem + \"_with_metadata.fasta\")\n",
    "\n",
    "# === 2. Load unclustered headers (metadata) by protein ID ===\n",
    "id_to_metadata = {}\n",
    "for rec in SeqIO.parse(unclustered_fasta_path, \"fasta\"):\n",
    "    # Extract the clean ID used by clustered file (e.g., A0A679HT45)\n",
    "    # which can be extracted from headers like: >tr|A0A679HT45|...\n",
    "    parts = rec.id.split(\"|\")\n",
    "    clean_id = parts[1] if len(parts) > 2 else rec.id\n",
    "    id_to_metadata[clean_id] = rec.description\n",
    "\n",
    "# === 3. Update clustered FASTA headers with metadata ===\n",
    "updated_records = []\n",
    "for rec in SeqIO.parse(clustered_fasta_path, \"fasta\"):\n",
    "    cluster_id = rec.id\n",
    "\n",
    "    # Get metadata-rich header from original file\n",
    "    metadata_header = id_to_metadata.get(cluster_id, cluster_id)\n",
    "\n",
    "    # Extract cluster info (starts after first space)\n",
    "    cluster_info = rec.description[len(cluster_id):].strip()\n",
    "\n",
    "    # Combine metadata + cluster info\n",
    "    rec.description = f\"{metadata_header} {cluster_info}\".strip()\n",
    "    rec.name = cluster_id\n",
    "    rec.id = cluster_id\n",
    "    updated_records.append(rec)\n",
    "\n",
    "# === 4. Write updated FASTA ===\n",
    "SeqIO.write(updated_records, output_fasta_path, \"fasta\")\n",
    "print(f\"Final clustered FASTA written with full metadata:\\n{output_fasta_path}\")\n",
    "print(f\"Total sequences processed: {len(updated_records)}\")"
   ]
  }
 ],
 "metadata": {
  "kernelspec": {
   "display_name": "Python 3",
   "language": "python",
   "name": "python3"
  },
  "language_info": {
   "codemirror_mode": {
    "name": "ipython",
    "version": 3
   },
   "file_extension": ".py",
   "mimetype": "text/x-python",
   "name": "python",
   "nbconvert_exporter": "python",
   "pygments_lexer": "ipython3",
   "version": "3.9.13"
  }
 },
 "nbformat": 4,
 "nbformat_minor": 5
}
